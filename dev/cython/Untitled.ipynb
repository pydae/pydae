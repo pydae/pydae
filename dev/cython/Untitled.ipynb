{
 "cells": [
  {
   "cell_type": "code",
   "execution_count": 1,
   "metadata": {},
   "outputs": [],
   "source": [
    "%load_ext Cython"
   ]
  },
  {
   "cell_type": "code",
   "execution_count": 2,
   "metadata": {},
   "outputs": [],
   "source": [
    "import numpy as np"
   ]
  },
  {
   "cell_type": "code",
   "execution_count": 5,
   "metadata": {},
   "outputs": [],
   "source": [
    "%%cython\n",
    "\n",
    "cdef int a = 0\n",
    "for i in range(10):\n",
    "    a += i\n",
    "print(a)"
   ]
  },
  {
   "cell_type": "code",
   "execution_count": 16,
   "metadata": {},
   "outputs": [],
   "source": [
    "from hello import compute\n",
    "from hello_typed import compute as computed_2\n",
    "from hello_memview import compute as computed_3"
   ]
  },
  {
   "cell_type": "code",
   "execution_count": 17,
   "metadata": {},
   "outputs": [],
   "source": [
    "array_1 = np.random.uniform(0, 1000, size=(3000, 2000)).astype(np.intc)\n",
    "array_2 = np.random.uniform(0, 1000, size=(3000, 2000)).astype(np.intc)\n",
    "a = 4\n",
    "b = 3\n",
    "c = 9"
   ]
  },
  {
   "cell_type": "code",
   "execution_count": 18,
   "metadata": {},
   "outputs": [
    {
     "name": "stdout",
     "output_type": "stream",
     "text": [
      "18.5 s ± 3.13 s per loop (mean ± std. dev. of 7 runs, 1 loop each)\n"
     ]
    }
   ],
   "source": [
    "%timeit compute(array_1, array_2, a, b, c)"
   ]
  },
  {
   "cell_type": "code",
   "execution_count": 19,
   "metadata": {},
   "outputs": [
    {
     "name": "stdout",
     "output_type": "stream",
     "text": [
      "10.5 s ± 129 ms per loop (mean ± std. dev. of 7 runs, 1 loop each)\n"
     ]
    }
   ],
   "source": [
    "%timeit computed_2(array_1, array_2, a, b, c)"
   ]
  },
  {
   "cell_type": "code",
   "execution_count": 20,
   "metadata": {},
   "outputs": [
    {
     "name": "stdout",
     "output_type": "stream",
     "text": [
      "59.8 ms ± 1.3 ms per loop (mean ± std. dev. of 7 runs, 10 loops each)\n"
     ]
    }
   ],
   "source": [
    "%timeit computed_3(array_1, array_2, a, b, c)"
   ]
  },
  {
   "cell_type": "code",
   "execution_count": 21,
   "metadata": {},
   "outputs": [
    {
     "data": {
      "text/plain": [
       "309.3645484949833"
      ]
     },
     "execution_count": 21,
     "metadata": {},
     "output_type": "execute_result"
    }
   ],
   "source": [
    "18500/59.8"
   ]
  },
  {
   "cell_type": "code",
   "execution_count": 24,
   "metadata": {},
   "outputs": [],
   "source": [
    "%%cython\n",
    "\n",
    "import numpy as np\n",
    "\n",
    "DTYPE = np.intc\n",
    "\n",
    "\n",
    "cdef int clip(int a, int min_value, int max_value):\n",
    "    return min(max(a, min_value), max_value)\n",
    "\n",
    "\n",
    "def compute_4(int[:, :] array_1, int[:, :] array_2, int a, int b, int c):\n",
    "\n",
    "    cdef Py_ssize_t x_max = array_1.shape[0]\n",
    "    cdef Py_ssize_t y_max = array_1.shape[1]\n",
    "\n",
    "    # array_1.shape is now a C array, no it's not possible\n",
    "    # to compare it simply by using == without a for-loop.\n",
    "    # To be able to compare it to array_2.shape easily,\n",
    "    # we convert them both to Python tuples.\n",
    "    assert tuple(array_1.shape) == tuple(array_2.shape)\n",
    "\n",
    "    result = np.zeros((x_max, y_max), dtype=DTYPE)\n",
    "    cdef int[:, :] result_view = result\n",
    "\n",
    "    cdef int tmp\n",
    "    cdef Py_ssize_t x, y\n",
    "\n",
    "    for x in range(x_max):\n",
    "        for y in range(y_max):\n",
    "\n",
    "            tmp = clip(array_1[x, y], 2, 10)\n",
    "            tmp = tmp * a + array_2[x, y] * b\n",
    "            result_view[x, y] = tmp + c\n",
    "\n",
    "    return result"
   ]
  },
  {
   "cell_type": "code",
   "execution_count": 26,
   "metadata": {},
   "outputs": [
    {
     "name": "stdout",
     "output_type": "stream",
     "text": [
      "44.1 ms ± 3.4 ms per loop (mean ± std. dev. of 7 runs, 10 loops each)\n"
     ]
    }
   ],
   "source": [
    "%timeit compute_4(array_1, array_2, a, b, c)"
   ]
  },
  {
   "cell_type": "code",
   "execution_count": 83,
   "metadata": {},
   "outputs": [],
   "source": [
    "%%cython\n",
    "\n",
    "import numpy as np\n",
    "\n",
    "DTYPE = np.float64\n",
    "\n",
    "def hello(double[:] params, double[:] x, double[:] y, double[:] u):\n",
    "\n",
    "    # array_1.shape is now a C array, no it's not possible\n",
    "    # to compare it simply by using == without a for-loop.\n",
    "    # To be able to compare it to array_2.shape easily,\n",
    "    # we convert them both to Python tuples.\n",
    "    #assert tuple(array_1.shape) == tuple(array_2.shape)\n",
    "\n",
    "    f = np.zeros((6,), dtype=DTYPE)\n",
    "\n",
    "    cdef double p_0 = params[0]\n",
    "    cdef double p_1 = params[1]\n",
    "    cdef double p_2 = params[2]\n",
    "    cdef double p_3 = params[3]\n",
    "    cdef double p_4 = params[4]\n",
    "\n",
    "    cdef double x_0 = x[0]\n",
    "    cdef double x_1 = x[1]\n",
    "    cdef double x_2 = x[2]\n",
    "    cdef double x_3 = x[3]\n",
    "    cdef double x_4 = x[4]\n",
    "\n",
    "    cdef double y_0 = y[0]\n",
    "    cdef double y_1 = y[1]\n",
    "    cdef double y_2 = y[2]\n",
    "    cdef double y_3 = y[3]\n",
    "    cdef double y_4 = y[4]\n",
    "    \n",
    "\n",
    "    f[0] = p_0*x_0\n",
    "    f[1] = p_1*x_1\n",
    "    f[2] = p_2*x_2\n",
    "    f[3] = p_3*x_3\n",
    "    f[4] = p_3*x_4\n",
    "\n",
    "    return f"
   ]
  },
  {
   "cell_type": "code",
   "execution_count": 90,
   "metadata": {},
   "outputs": [],
   "source": [
    "params = np.random.uniform(0, 1000, size=(6)).astype(np.float64)\n",
    "x = np.random.uniform(0, 1000, size=(6)).astype(np.float64)\n",
    "y = np.random.uniform(0, 1000, size=(6)).astype(np.float64)\n",
    "u = np.random.uniform(0, 1000, size=(6)).astype(np.float64)\n",
    "f = np.zeros(6,)"
   ]
  },
  {
   "cell_type": "code",
   "execution_count": 86,
   "metadata": {},
   "outputs": [
    {
     "name": "stdout",
     "output_type": "stream",
     "text": [
      "4.07 µs ± 307 ns per loop (mean ± std. dev. of 7 runs, 100000 loops each)\n"
     ]
    }
   ],
   "source": [
    "%timeit hello(params,x,y,u)"
   ]
  },
  {
   "cell_type": "code",
   "execution_count": 71,
   "metadata": {},
   "outputs": [
    {
     "data": {
      "text/plain": [
       "array([525.33949139, 200.89032309, 733.16024751, 282.15007601,\n",
       "       463.71367783, 910.84158216])"
      ]
     },
     "execution_count": 71,
     "metadata": {},
     "output_type": "execute_result"
    }
   ],
   "source": [
    "np.random.uniform(0, 1000, size=(6))"
   ]
  },
  {
   "cell_type": "code",
   "execution_count": 74,
   "metadata": {},
   "outputs": [],
   "source": [
    "import numba"
   ]
  },
  {
   "cell_type": "code",
   "execution_count": 96,
   "metadata": {},
   "outputs": [],
   "source": [
    "@numba.njit(cache=True)\n",
    "def hello_nb(params,x,y,u,f):\n",
    "\n",
    "    # array_1.shape is now a C array, no it's not possible\n",
    "    # to compare it simply by using == without a for-loop.\n",
    "    # To be able to compare it to array_2.shape easily,\n",
    "    # we convert them both to Python tuples.\n",
    "    #assert tuple(array_1.shape) == tuple(array_2.shape)\n",
    "\n",
    "    #f = np.zeros((6,), dtype=DTYPE)\n",
    "\n",
    "    p_0 = params[0]\n",
    "    p_1 = params[1]\n",
    "    p_2 = params[2]\n",
    "    p_3 = params[3]\n",
    "    p_4 = params[4]\n",
    "\n",
    "    x_0 = x[0]\n",
    "    x_1 = x[1]\n",
    "    x_2 = x[2]\n",
    "    x_3 = x[3]\n",
    "    x_4 = x[4]\n",
    "\n",
    "    y_0 = y[0]\n",
    "    y_1 = y[1]\n",
    "    y_2 = y[2]\n",
    "    y_3 = y[3]\n",
    "    y_4 = y[4]\n",
    "    \n",
    "\n",
    "    f[0] = p_0*x_0\n",
    "    f[1] = p_1*x_1\n",
    "    f[2] = p_2*x_2\n",
    "    f[3] = p_3*x_3\n",
    "    f[4] = p_3*x_4 + y_3\n",
    "\n",
    "    #return f"
   ]
  },
  {
   "cell_type": "code",
   "execution_count": 97,
   "metadata": {},
   "outputs": [
    {
     "name": "stdout",
     "output_type": "stream",
     "text": [
      "969 ns ± 10.2 ns per loop (mean ± std. dev. of 7 runs, 1000000 loops each)\n"
     ]
    }
   ],
   "source": [
    "%timeit hello_nb(params,x,y,u,f)"
   ]
  },
  {
   "cell_type": "code",
   "execution_count": 95,
   "metadata": {},
   "outputs": [
    {
     "data": {
      "text/plain": [
       "array([ 37864.76806858,  31093.31153325, 177199.72251311,  75276.28071601,\n",
       "        88879.80456878,      0.        ])"
      ]
     },
     "execution_count": 95,
     "metadata": {},
     "output_type": "execute_result"
    }
   ],
   "source": [
    "f"
   ]
  },
  {
   "cell_type": "code",
   "execution_count": null,
   "metadata": {},
   "outputs": [],
   "source": []
  }
 ],
 "metadata": {
  "kernelspec": {
   "display_name": "Python 3",
   "language": "python",
   "name": "python3"
  },
  "language_info": {
   "codemirror_mode": {
    "name": "ipython",
    "version": 3
   },
   "file_extension": ".py",
   "mimetype": "text/x-python",
   "name": "python",
   "nbconvert_exporter": "python",
   "pygments_lexer": "ipython3",
   "version": "3.8.5"
  }
 },
 "nbformat": 4,
 "nbformat_minor": 4
}
