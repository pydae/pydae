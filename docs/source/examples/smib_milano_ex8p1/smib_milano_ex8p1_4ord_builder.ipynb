{
 "cells": [
  {
   "cell_type": "code",
   "execution_count": 1,
   "metadata": {},
   "outputs": [],
   "source": [
    "import numpy as np\n",
    "import sympy as sym\n",
    "import numba\n",
    "import pydae.build as db"
   ]
  },
  {
   "cell_type": "code",
   "execution_count": null,
   "metadata": {},
   "outputs": [],
   "source": []
  },
  {
   "cell_type": "markdown",
   "metadata": {},
   "source": [
    "\\begin{eqnarray}\n",
    "\\dot \\delta &=& \\Omega_b \\left(\\omega - \\omega_s\\right)\\\\\n",
    "\\dot \\omega &=& 1/(2 H) \\left(p_m - p_e - D (\\omega - \\omega_s) \\right)\\\\\n",
    "\\end{eqnarray}\n",
    "\n",
    "$$ \\sf\n",
    "\\Omega_{b} \\left(\\sf \\omega - \\omega_{s}\\right)\n",
    "$$"
   ]
  },
  {
   "cell_type": "markdown",
   "metadata": {},
   "source": [
    "## System definition "
   ]
  },
  {
   "cell_type": "code",
   "execution_count": 2,
   "metadata": {},
   "outputs": [],
   "source": [
    "params = {'X_d':1.81,'X1d':0.3,'T1d0':8.0,\n",
    "          'X_q':1.76,'X1q':0.65,'T1q0':1.0,\n",
    "          'R_a':0.003,'X_line': 0.05, \n",
    "          'H':3.5,'D':1.0,\n",
    "          'Omega_b':2*np.pi*50,'omega_s':1.0,\n",
    "          'v_0':1.0,'theta_0':0.0}\n",
    "\n",
    "\n",
    "u_ini_dict = {'P_t':0.8, 'Q_t':0.2}  # for the initialization problem\n",
    "u_run_dict = {'p_m':0.8,'v_f':1.0}  # for the running problem (here initialization and running problem are the same)\n",
    "\n",
    "\n",
    "x_list = ['delta','omega','e1q','e1d']    # [inductor current, PI integrator]\n",
    "y_ini_list = ['i_d','i_q','v_1','theta_1','p_m','v_f'] # for the initialization problem\n",
    "y_run_list = ['i_d','i_q','v_1','theta_1','P_t','Q_t'] # for the running problem (here initialization and running problem are the same)\n",
    "\n",
    "sys_vars = {'params':params,\n",
    "            'u_list':u_run_dict,\n",
    "            'x_list':x_list,\n",
    "            'y_list':y_run_list}\n",
    "\n",
    "exec(db.sym_gen_str())  # exec to generate the required symbolic varables and constants"
   ]
  },
  {
   "cell_type": "code",
   "execution_count": 3,
   "metadata": {},
   "outputs": [],
   "source": [
    "v_d = v_1*sin(delta - theta_1) \n",
    "v_q = v_1*cos(delta - theta_1) \n",
    "\n",
    "p_e = i_d*(v_d + R_a*i_d) + i_q*(v_q + R_a*i_q) \n",
    "\n",
    "\n",
    "ddelta = Omega_b*(omega - omega_s)\n",
    "domega = 1/(2*H)*(p_m - p_e - D*(omega - omega_s))\n",
    "de1q = 1/T1d0*(-e1q - (X_d - X1d)*i_d + v_f)\n",
    "de1d = 1/T1q0*(-e1d + (X_q - X1q)*i_q)\n",
    "        \n",
    "g_1 = v_q + R_a*i_q + X1d*i_d - e1q\n",
    "g_2 = v_d + R_a*i_d - X1q*i_q - e1d\n",
    "g_3 = P_t - (v_1*v_0*sin(theta_1 - theta_0))/X_line\n",
    "g_4 = Q_t + (v_1*v_0*cos(theta_1 - theta_0))/X_line - v_1**2/X_line\n",
    "g_5 = i_d*v_d + i_q*v_q - P_t\n",
    "g_6 = i_d*v_q - i_q*v_d - Q_t\n",
    "\n",
    "h_1 = p_m\n",
    "\n",
    "sys = {'name':'smib_milano_ex8p1_4ord',\n",
    "       'params':params,\n",
    "       'f':[ddelta,domega,de1q,de1d],\n",
    "       'g':[g_1,g_2,g_3,g_4,g_5,g_6],\n",
    "       'g_ini':[g_1,g_2],\n",
    "       'x':x_list,\n",
    "       'y_ini':y_ini_list,\n",
    "       'y':y_run_list,\n",
    "       'u_run_dict':u_run_dict,\n",
    "       'u_ini_dict':u_ini_dict,\n",
    "       'h':[h_1]}\n",
    "\n",
    "sys = db.system(sys)\n",
    "db.sys2num(sys)\n",
    "                "
   ]
  },
  {
   "cell_type": "code",
   "execution_count": null,
   "metadata": {},
   "outputs": [],
   "source": []
  },
  {
   "cell_type": "code",
   "execution_count": 5,
   "metadata": {},
   "outputs": [
    {
     "name": "stdout",
     "output_type": "stream",
     "text": [
      "X_d = 1.81;\n",
      "X1d = 0.3;\n",
      "T1d0 = 8.0;\n",
      "X_q = 1.76;\n",
      "X1q = 0.65;\n",
      "T1q0 = 1.0;\n",
      "R_a = 0.003;\n",
      "X_line = 0.05;\n",
      "H = 3.5;\n",
      "D = 1.0;\n",
      "Omega_b = 314.1592653589793;\n",
      "omega_s = 1.0;\n",
      "v_0 = 1.0;\n",
      "theta_0 = 0.0;\n"
     ]
    }
   ],
   "source": [
    "for param in params:\n",
    "    print(f'{param} = {params[param]};')\n",
    "    "
   ]
  },
  {
   "cell_type": "code",
   "execution_count": null,
   "metadata": {},
   "outputs": [],
   "source": []
  }
 ],
 "metadata": {
  "kernelspec": {
   "display_name": "Python 3",
   "language": "python",
   "name": "python3"
  },
  "language_info": {
   "codemirror_mode": {
    "name": "ipython",
    "version": 3
   },
   "file_extension": ".py",
   "mimetype": "text/x-python",
   "name": "python",
   "nbconvert_exporter": "python",
   "pygments_lexer": "ipython3",
   "version": "3.7.7"
  }
 },
 "nbformat": 4,
 "nbformat_minor": 2
}
