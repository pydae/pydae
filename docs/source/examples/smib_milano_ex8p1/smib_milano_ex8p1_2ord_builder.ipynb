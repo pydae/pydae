{
 "cells": [
  {
   "cell_type": "code",
   "execution_count": 1,
   "metadata": {},
   "outputs": [],
   "source": [
    "import numpy as np\n",
    "import sympy as sym\n",
    "import numba\n",
    "import pydae.build as db"
   ]
  },
  {
   "cell_type": "markdown",
   "metadata": {},
   "source": [
    "\\begin{equation}\n",
    "\\begin{split}\n",
    "\\sf  \\frac{d\\delta}{dt} &= \\sf \\Omega_b \\left(\\omega - \\omega_s\\right)\\\\\n",
    "\\sf  \\frac{d\\omega}{dt} &= \\sf \\frac{1}{2H} \\left(p_m - p_e - D (\\omega - \\omega_s) \\right)\\\\\n",
    "\\end{split}\n",
    "\\end{equation}\n"
   ]
  },
  {
   "cell_type": "markdown",
   "metadata": {},
   "source": [
    "\\begin{equation}\n",
    "\\begin{split}\n",
    "    \\sf g_1 &= \\sf - p_e + \\left( v_q + R_a i_q  \\right) i_q + \\left( v_d + R_a i_d  \\right) i_d = 0\\\\\n",
    "    \\sf g_2 &= \\sf  v_q + R_a i_q  - e'_q + \\left( X'_d - X_l  \\right) i_d  = 0\\\\\n",
    "    \\sf g_3 &= \\sf  v_d + R_a i_d  -  \\left( X'_d - X_l  \\right) i_q = 0\\\\\n",
    "    \\sf g_4 &= \\sf  v_d - V \\sin  \\left( \\delta - \\theta \\right)  \\\\\n",
    "\t\\sf g_5 &= \\sf  v_q - V \\cos  \\left( \\delta - \\theta \\right)  \\\\\n",
    "\t\\sf g_6 &= \\sf  v_d i_d + v_q i_q -P \\\\\n",
    "\t\\sf g_7 &= \\sf  v_q i_d - v_d i_q -Q \\\\\n",
    "\t\\sf g_8 &= \\sf  P - (v_1*v_0*sin(theta_1 - theta_0))/X_g \\\\\n",
    "\t\\sf g_9 &= \\sf  Q + (v_1*v_0*cos(theta_1 - theta_0))/X_g - v_1^2/X_g\n",
    "\\end{split}\n",
    "\\end{equation}\n",
    "\n",
    "\t\n",
    "\n",
    "\\begin{equation}\n",
    "\\begin{split}\n",
    "    \\sf  \\mathbf{x} &= \\sf \\left[\\delta \\;\\;\\; \\omega \\right]^T\n",
    "\\end{split}\n",
    "\\end{equation}\n",
    "\n",
    "\\begin{equation}\n",
    "\\begin{split}\n",
    "     \\sf \\mathbf{y} &= \\sf \\left[p_e\\;\\;i_d\\;\\;i_q\\;\\;v_d\\;\\;v_q\\;\\;P\\;\\;Q\\;\\;v_1\\;\\;\\theta_1\\right]^T\n",
    "\\end{split}\n",
    "\\end{equation}\n",
    "\n",
    "\\begin{equation}\n",
    "\\begin{split}\n",
    "    \\sf  \\mathbf{f} &= \\sf \\left[\\frac{d\\delta}{dt} \\;\\;\\; \\frac{d\\omega}{dt} \\right]^T\n",
    "\\end{split}\n",
    "\\end{equation}\n",
    "\n",
    "\\begin{equation}\n",
    "\\begin{split}\n",
    "     \\sf \\mathbf{g} &= \\sf \\left[g_1\\;\\;g_2\\;\\;g_3\\;\\;g_4\\;\\;g_5\\;\\;g_6\\;\\;g_7\\;\\;g_8\\;\\;g_9\\right]^T\n",
    "\\end{split}\n",
    "\\end{equation}"
   ]
  },
  {
   "cell_type": "markdown",
   "metadata": {},
   "source": [
    "## System definition "
   ]
  },
  {
   "cell_type": "code",
   "execution_count": 13,
   "metadata": {},
   "outputs": [],
   "source": [
    "params = {'X_d':1.81,'X1d':0.3,'R_a':0.003, \n",
    "          'H':3.5,'D':1.0,\n",
    "          'Omega_b':2*np.pi*50,'omega_s':1.0,\n",
    "          'X_g':0.05,'v_0':1.0,'theta_0':0.0}\n",
    "\n",
    "\n",
    "u_ini_dict = {'P':0.8, 'Q':0.2}  # for the initialization problem\n",
    "u_run_dict = {'p_m':0.8,'v_f':1.0}  # for the running problem (here initialization and running problem are the same)\n",
    "\n",
    "\n",
    "x_list = ['delta','omega']    # [inductor current, PI integrator]\n",
    "y_ini_list = ['p_e','i_d','i_q','v_d','v_q','p_m','e1q','v_1','theta_1'] # for the initialization problem\n",
    "y_run_list = ['p_e','i_d','i_q','v_d','v_q','P','Q','v_1','theta_1'] # for the running problem (here initialization and running problem are the same)\n",
    "\n",
    "\n",
    "\n",
    "sys_vars = {'params':params,\n",
    "            'u_list':u_run_dict,\n",
    "            'x_list':x_list,\n",
    "            'y_list':y_run_list}\n",
    "\n",
    "exec(db.sym_gen_str())  # exec to generate the required symbolic varables and constants"
   ]
  },
  {
   "cell_type": "code",
   "execution_count": 14,
   "metadata": {},
   "outputs": [],
   "source": [
    "ddelta = Omega_b*(omega - omega_s)\n",
    "domega = 1/(2*H)*(p_m - p_e - D*(omega - omega_s))\n",
    "\n",
    "\n",
    "g_1 =  -p_e + i_d*(v_d + R_a*i_d) + i_q*(v_q + R_a*i_q)  \n",
    "g_2 = v_q + R_a*i_q + X1d*i_d - e1q\n",
    "g_3 = v_d + R_a*i_d - X1d*i_q  \n",
    "g_4 = -v_d +  v_1*sin(delta - theta_1) \n",
    "g_5 = -v_q + v_1*cos(delta - theta_1)                                             \n",
    "g_6 = i_d*v_d + i_q*v_q - P\n",
    "g_7 = i_d*v_q - i_q*v_d - Q\n",
    "g_8 = P - (v_1*v_0*sin(theta_1 - theta_0))/X_g\n",
    "g_9 = Q + (v_1*v_0*cos(theta_1 - theta_0))/X_g - v_1**2/X_g\n",
    "                                            \n",
    "h_1 = p_m\n",
    "\n",
    "sys = {'name':'smib_milano_ex8p1_2ord',\n",
    "       'params':params,\n",
    "       'f':[ddelta,domega],\n",
    "       'g':[g_1,g_2,g_3,g_4,g_5,g_6,g_7,g_8,g_9],\n",
    "       'g_ini':[g_1,g_2,g_3,g_4,g_5,g_6,g_7,g_8,g_9],\n",
    "       'x':x_list,\n",
    "       'y_ini':y_ini_list,\n",
    "       'y':y_run_list,\n",
    "       'u_run_dict':u_run_dict,\n",
    "       'u_ini_dict':u_ini_dict,\n",
    "       'h':[h_1]}\n",
    "\n",
    "sys = db.system(sys)\n",
    "db.sys2num(sys)\n",
    "                "
   ]
  },
  {
   "cell_type": "code",
   "execution_count": null,
   "metadata": {},
   "outputs": [],
   "source": []
  },
  {
   "cell_type": "code",
   "execution_count": null,
   "metadata": {},
   "outputs": [],
   "source": []
  }
 ],
 "metadata": {
  "kernelspec": {
   "display_name": "Python 3",
   "language": "python",
   "name": "python3"
  },
  "language_info": {
   "codemirror_mode": {
    "name": "ipython",
    "version": 3
   },
   "file_extension": ".py",
   "mimetype": "text/x-python",
   "name": "python",
   "nbconvert_exporter": "python",
   "pygments_lexer": "ipython3",
   "version": "3.7.5"
  }
 },
 "nbformat": 4,
 "nbformat_minor": 2
}
