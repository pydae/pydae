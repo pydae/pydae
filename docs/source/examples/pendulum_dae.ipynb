{
 "cells": [
  {
   "cell_type": "markdown",
   "metadata": {},
   "source": [
    "# Pendulum model\n",
    "\n",
    "<img src=\"../svg/pendulum_doc.svg\" />\n"
   ]
  },
  {
   "cell_type": "markdown",
   "metadata": {},
   "source": [
    "\n",
    "## Formulation\n",
    "\n",
    "\n",
    "### Differential Algebraic Equations (DAE)\n",
    "\n",
    "$$\n",
    "\\begin{split}   \\nonumber\n",
    "\\mathbf {\\dot x}  &   =  \\mathbf{f (x,y,u,p) } \\\\\n",
    "\\mathbf 0 &   =  \\mathbf{g (x,y,u,p) }  \\\\\n",
    "\\mathbf z &   =  \\mathbf{h (x,y,u,p) } \n",
    "\\end{split}\n",
    "$$\n",
    "\n",
    "with the following vectors:\n",
    "\n",
    "* $\\mathbf x$: dynamic states\n",
    "* $\\mathbf y$: algebraic states\n",
    "* $\\mathbf u$: inputs\n",
    "* $\\mathbf p$: parammeters\n",
    "* $\\mathbf f$: differential equations\n",
    "* $\\mathbf g$: algebraic equations\t\n",
    "* $\\mathbf z$: outputs\n",
    "* $\\mathbf h$: outputs functions\n",
    "\n",
    "\n",
    "\n",
    "\n",
    "$$ \n",
    "\\mathbf x = \\left[\n",
    "\\begin{array}{c} \n",
    "x_1 \\\\ \n",
    "x_2 \\\\ \n",
    "\\vdots \\\\ \n",
    " x_{N_x}\n",
    "\\end{array} \\right] \\;\\;\n",
    "\\mathbf y = \\left[\n",
    "\\begin{array}{c} \n",
    " y_1 \\\\ \n",
    " y_2 \\\\ \n",
    "\\vdots \\\\ \n",
    "y_{N_y}\n",
    "\\end{array} \\right]\n",
    "$$\n",
    "\n",
    "\n",
    "\n",
    "$$\n",
    "\\mathbf f = \\left[\n",
    "\\begin{array}{c} \n",
    " f_1 \\\\ \n",
    "f_2 \\\\ \n",
    "\\vdots \\\\ \n",
    "f_{N_x}\n",
    "\\end{array} \\right] \\;\\;\n",
    "\\mathbf g = \\left[\n",
    "\\begin{array}{c} \n",
    " g_1 \\\\ \n",
    " g_2 \\\\ \n",
    "\\vdots \\\\ \n",
    " g_{N_y}\n",
    "\\end{array} \\right]\n",
    "$$\n",
    "\n",
    "In pydae we can fomulate two systems, the first one for the so called backward solution:\n",
    "\n",
    "$$\n",
    "\\begin{split} \n",
    "\\mathbf {\\dot x}  &  =  \\mathbf {f (x,y^{ini},u^{ini},p) } \\\\\n",
    "\\mathbf 0 & =  \\mathbf {g (x,y^{ini},u^{ini},p) }  \n",
    "\\end{split}\n",
    "$$\n",
    "\n",
    "And the second for the foreward solution:\n",
    "\n",
    "$$\n",
    "\\begin{split} \n",
    "\\mathbf {\\dot x}  &  =  \\mathbf {f (x,y^{run},u^{run},p) } \\\\\n",
    "\\mathbf 0 & =  \\mathbf {g (x,y^{run},u^{run},p) }  \n",
    "\\end{split}\n",
    "$$\n",
    "    \n"
   ]
  },
  {
   "cell_type": "markdown",
   "metadata": {},
   "source": [
    "For the particular case of the pendulum we have the following differential and algebraic equations:\n",
    "$$   \n",
    "\\begin{eqnarray}\n",
    "f_1 &=& \\frac{dp_x}{dt} = v_x \\\\\n",
    "f_2 &=& \\frac{dp_y}{dt} = v_y \\\\\n",
    "f_3 &=& \\frac{dv_x}{dt} = \\frac{1}{M} \\left(-2 p_x \\lambda + f_x - K_d v_x \\right)  \\\\\n",
    "f_4 &=& \\frac{dv_y}{dt} = \\frac{1}{M} \\left(-M G - 2 p_y \\lambda - K_d v_y \\right) \\\\   \n",
    "&&\\\\\n",
    "g_1 &=& p_x^2 + p_y^2 - L^2  \\\\\n",
    "g_2 &=& -\\theta + \\arctan\\left(p_x,-p_y\\right) \\\\\n",
    "\\end{eqnarray}\n",
    "$$\n",
    "\n",
    "The dynamic equations are grouped in the vector $\\mathbf f$ and the dynamic states are in vector  $\\mathbf x$:\n",
    "\n",
    "$$\n",
    "\\mathbf{f} =\n",
    "\\left[\n",
    "\\begin{array}{c}\n",
    "f_1\\\\\n",
    "f_2\\\\\n",
    "f_3\\\\\n",
    "f_4\n",
    "\\end{array}\n",
    "\\right]\n",
    "\\;\\;\\;\\;\\;\\;\\;\\;\n",
    "\\mathbf x = \\left[\n",
    "\\begin{array}{c} \n",
    "p_x \\\\ \n",
    "p_y \\\\ \n",
    "v_x \\\\ \n",
    "v_y \n",
    "\\end{array} \\right]\n",
    "$$\n",
    "\n",
    "\n",
    "The considered algebraic variables and inputs for the initialization problem can be defined as follows:\n",
    "$$\n",
    "\\mathbf {y^{ini}} = \\left[\n",
    "\\begin{array}{c} \n",
    " \\lambda \\\\ \n",
    " f_x\n",
    "\\end{array} \\right]\n",
    "\\;\\;\\;\\;\\;\\;\\;\\;\n",
    "\\mathbf {u^{ini}} = \\left[\n",
    "\\begin{array}{c} \n",
    "\\theta\n",
    "\\end{array} \\right] \\;\\;\n",
    "$$\n",
    "with the pendulum angle $\\theta$ as a known desired value and the unknown force $f_x$ that have to be obtained.  \n",
    "\n",
    "Once the initialization problem is solved, the $\\mathbf{u^{run}}$ vector can be obtained making $f_x$ as input, while $\\theta$ is changed to an unknown algebraic state:\n",
    "$$\n",
    "\\mathbf {y^{run}} = \\left[\n",
    "\\begin{array}{c} \n",
    " \\lambda \\\\ \n",
    "\\theta\n",
    "\\end{array} \\right]\n",
    "\\;\\;\\;\\;\\;\\;\\;\\;\n",
    "\\mathbf {u^{run}} = \\left[\n",
    "\\begin{array}{c} \n",
    "f_x\n",
    "\\end{array} \\right]\n",
    "$$\n",
    "\n",
    "The parameters vector for the pendulum model is as follows:\n",
    "$$\n",
    "\\mathbf p = \\left[\n",
    "\\begin{array}{c} \n",
    "M \\\\ \n",
    "G \\\\ \n",
    "L\\\\\n",
    "K_d \\\\ \n",
    "\\end{array} \\right] \n",
    "$$ "
   ]
  },
  {
   "cell_type": "markdown",
   "metadata": {},
   "source": [
    "The outputs can be defined arbitrarily.\n",
    "$$\n",
    "\\begin{split} \n",
    "\\mathbf z & =  \\mathbf {h (x,y^{run},u^{run},p) }  \n",
    "\\end{split}\n",
    "$$\n",
    "\n",
    "We may be interested in the potential energy:\n",
    "\n",
    "$$\n",
    "E_p = M G \\left(p_y + L\\right)\n",
    "$$\n",
    "\n",
    "And the kinetical energy:\n",
    "\n",
    "$$\n",
    "E_k = \\frac{1}{2} M \\left(v_x^2 + v_y^2 \\right)\n",
    "$$\n",
    "\n",
    "We can now define the outputs vector as follows:\n",
    "$$\n",
    "\\mathbf{h} =\n",
    "\\left[\n",
    "\\begin{array}{c}\n",
    "M G p_y\\\\\n",
    "\\frac{1}{2} M \\left(v_x^2 + v_y^2 \\right)\\\\\n",
    "f_x\n",
    "\\end{array}\n",
    "\\right]\n",
    "\\;\\;\\;\\;\\;\\;\n",
    "\\mathbf{z} =\n",
    "\\left[\n",
    "\\begin{array}{c}\n",
    "E_p\\\\\n",
    "E_k\\\\\n",
    "f_x\n",
    "\\end{array}\n",
    "\\right]\n",
    "$$"
   ]
  },
  {
   "cell_type": "markdown",
   "metadata": {},
   "source": [
    "## Formulation in pydae"
   ]
  },
  {
   "cell_type": "code",
   "execution_count": 2,
   "metadata": {},
   "outputs": [],
   "source": [
    "import numpy as np\n",
    "import sympy as sym\n",
    "import pydae.build_cffi as db"
   ]
  },
  {
   "cell_type": "markdown",
   "metadata": {},
   "source": [
    "### Definition of variables and constants"
   ]
  },
  {
   "cell_type": "code",
   "execution_count": 3,
   "metadata": {},
   "outputs": [],
   "source": [
    "params_dict = {'L':5.21,'G':9.81,'M':10.0,'K_d':1e-3}  # parameters with default values\n",
    "\n",
    "x_list = ['p_x','p_y','v_x','v_y']  # dynamic states\n",
    "\n",
    "y_ini_list = ['lam','f_x']          # algebraic states for the initialization problem\n",
    "u_ini_dict = {'theta':np.deg2rad(5.0)}  # input for the initialization problem\n",
    "\n",
    "y_run_list = ['lam','theta']        # algebraic for the running problem\n",
    "u_run_dict = {'f_x':0}                  # input for the running problem, its value is updated \n",
    "\n",
    "\n",
    "sys_vars = {'params':params_dict,\n",
    "            'u_list':u_run_dict,\n",
    "            'x_list':x_list,\n",
    "            'y_list':y_run_list}\n",
    "\n",
    "exec(db.sym_gen_str())  # exec to generate the required symbolic varables and constants"
   ]
  },
  {
   "cell_type": "markdown",
   "metadata": {},
   "source": [
    "### Equations formulation"
   ]
  },
  {
   "cell_type": "code",
   "execution_count": 4,
   "metadata": {},
   "outputs": [],
   "source": [
    "# differential equations:\n",
    "dp_x = v_x\n",
    "dp_y = v_y\n",
    "dv_x = (-2*p_x*lam + f_x - K_d*v_x)/M\n",
    "dv_y = (-M*G - 2*p_y*lam - K_d*v_y)/M   \n",
    "\n",
    "# algebraic equations\n",
    "g_1 = p_x**2 + p_y**2 - L**2 -lam*1e-6\n",
    "g_2 = -theta + sym.atan2(p_x,-p_y)"
   ]
  },
  {
   "cell_type": "markdown",
   "metadata": {},
   "source": [
    "### Build the model\n",
    "\n",
    "Now we will build the system. For this purpose a dictionary is required for defining the DAE structure."
   ]
  },
  {
   "cell_type": "code",
   "execution_count": 5,
   "metadata": {},
   "outputs": [
    {
     "name": "stdout",
     "output_type": "stream",
     "text": [
      "Compilation time: 4.87 s\n"
     ]
    }
   ],
   "source": [
    "sys = {'name':'pend1',\n",
    "       'params_dict':params_dict,\n",
    "       'f_list':[dp_x,dp_y,dv_x,dv_y],\n",
    "       'g_list':[g_1,g_2],\n",
    "       'x_list':x_list,\n",
    "       'y_ini_list':y_ini_list,\n",
    "       'y_run_list':y_run_list,\n",
    "       'u_run_dict':u_run_dict,\n",
    "       'u_ini_dict':u_ini_dict,\n",
    "       'h_dict':{'E_p':M*G*(p_y+L),'E_k':0.5*M*(v_x**2+v_y**2),'f_x':f_x}}\n",
    "\n",
    "sys = db.build(sys)"
   ]
  },
  {
   "cell_type": "markdown",
   "metadata": {},
   "source": [
    "## Model initial state"
   ]
  },
  {
   "cell_type": "markdown",
   "metadata": {},
   "source": [
    "Now the model is build and we can used it to find its steady state solution or "
   ]
  },
  {
   "cell_type": "code",
   "execution_count": null,
   "metadata": {},
   "outputs": [],
   "source": []
  }
 ],
 "metadata": {
  "celltoolbar": "Edit Metadata",
  "kernelspec": {
   "display_name": "Python 3 (ipykernel)",
   "language": "python",
   "name": "python3"
  },
  "language_info": {
   "codemirror_mode": {
    "name": "ipython",
    "version": 3
   },
   "file_extension": ".py",
   "mimetype": "text/x-python",
   "name": "python",
   "nbconvert_exporter": "python",
   "pygments_lexer": "ipython3",
   "version": "3.9.7"
  }
 },
 "nbformat": 4,
 "nbformat_minor": 4
}
