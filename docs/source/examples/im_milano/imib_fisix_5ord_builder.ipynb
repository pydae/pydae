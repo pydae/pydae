{
 "cells": [
  {
   "cell_type": "code",
   "execution_count": 1,
   "metadata": {},
   "outputs": [],
   "source": [
    "import numpy as np\n",
    "import sympy as sym\n",
    "import numba\n",
    "import pydae.build as db\n",
    "\n",
    "\n",
    "\n",
    "\n"
   ]
  },
  {
   "cell_type": "code",
   "execution_count": null,
   "metadata": {},
   "outputs": [],
   "source": []
  },
  {
   "cell_type": "code",
   "execution_count": 14,
   "metadata": {},
   "outputs": [],
   "source": [
    "S_b = 90e3\n",
    "U_b = 400.0\n",
    "Z_b = U_b**2/S_b\n",
    "I_b = S_b/(np.sqrt(3)*U_b)\n",
    "Omega_b = 2*np.pi*50\n",
    "R_s = 0.023/Z_b\n",
    "R_r = 0.024/Z_b\n",
    "Ll_s = 0.086/Z_b\n",
    "Ll_r = 0.196/Z_b\n",
    "L_m = 3.7/Z_b\n",
    "\n",
    "\n",
    "params = {'S_b':S_b,'U_b':U_b,'I_b':I_b,\n",
    "          'R_s':R_s,'R_r':R_r,'L_ls':Ll_s,'L_lr':Ll_r,'L_m':L_m,   # synnchronous machine d-axis parameters\n",
    "          'H_m':3.5,'Omega_b':2*np.pi*50,'D':0.1,\n",
    "          'v_0':1,'theta_0':0.0,\n",
    "          'X_l':0.05, 'omega_s':1.0,'v_rd':0.0,'v_rq':0.0,'v_sd':0.0,'v_sq':-1.0}\n",
    "\n",
    "\n",
    "\n",
    "u_ini_dict = {'tau_m':0.1, 'Q_c':0.0}  # for the initialization problem\n",
    "u_run_dict = {'tau_m':0.1,'Q_c':0.0}  # for the running problem (here initialization and running problem are the same)\n",
    "\n",
    "\n",
    "x_list = ['omega_e','psi_sd','psi_sq','psi_rd','psi_rq']    # [inductor current, PI integrator]\n",
    "y_ini_list = ['i_sd','i_sq','i_rd','i_rq'] # for the initialization problem\n",
    "y_run_list = ['i_sd','i_sq','i_rd','i_rq'] # for the running problem (here initialization and running problem are the same)\n",
    "\n",
    "sys_vars = {'params':params,\n",
    "            'u_list':u_run_dict,\n",
    "            'x_list':x_list,\n",
    "            'y_list':y_run_list}\n",
    "\n",
    "exec(db.sym_gen_str())  # exec to generate the required symbolic varables and constants"
   ]
  },
  {
   "cell_type": "code",
   "execution_count": 1,
   "metadata": {},
   "outputs": [
    {
     "ename": "NameError",
     "evalue": "name 'psi_sd' is not defined",
     "output_type": "error",
     "traceback": [
      "\u001b[1;31m---------------------------------------------------------------------------\u001b[0m",
      "\u001b[1;31mNameError\u001b[0m                                 Traceback (most recent call last)",
      "\u001b[1;32m<ipython-input-1-567948861eba>\u001b[0m in \u001b[0;36m<module>\u001b[1;34m\u001b[0m\n\u001b[0;32m      2\u001b[0m \u001b[1;31m#v_sq =  v_h*cos(theta_h)\u001b[0m\u001b[1;33m\u001b[0m\u001b[1;33m\u001b[0m\u001b[1;33m\u001b[0m\u001b[0m\n\u001b[0;32m      3\u001b[0m \u001b[1;33m\u001b[0m\u001b[0m\n\u001b[1;32m----> 4\u001b[1;33m \u001b[0mtau_e\u001b[0m \u001b[1;33m=\u001b[0m \u001b[0mpsi_sd\u001b[0m\u001b[1;33m*\u001b[0m\u001b[0mi_sq\u001b[0m \u001b[1;33m-\u001b[0m \u001b[0mpsi_sq\u001b[0m\u001b[1;33m*\u001b[0m\u001b[0mi_sd\u001b[0m\u001b[1;33m\u001b[0m\u001b[1;33m\u001b[0m\u001b[0m\n\u001b[0m\u001b[0;32m      5\u001b[0m \u001b[1;33m\u001b[0m\u001b[0m\n\u001b[0;32m      6\u001b[0m \u001b[1;33m\u001b[0m\u001b[0m\n",
      "\u001b[1;31mNameError\u001b[0m: name 'psi_sd' is not defined"
     ]
    }
   ],
   "source": [
    "#v_sd =  -v_h*sin(theta_h) \n",
    "#v_sq =  v_h*cos(theta_h) \n",
    "\n",
    "tau_e = psi_sd*i_sq - psi_sq*i_sd\n",
    "\n",
    "\n",
    "domega_e = 1/(2*H_m)*(tau_m - tau_e - D*omega_e)\n",
    "dpsi_sd = Omega_b*(-v_sd -R_s*i_sd - omega_s*psi_sq)\n",
    "dpsi_sq = Omega_b*(-v_sq -R_s*i_sq + omega_s*psi_sd)\n",
    "dpsi_rd = Omega_b*(-v_rd -R_r*i_rd - (omega_s-omega_e)*psi_rq)\n",
    "dpsi_rq = Omega_b*(-v_rq -R_r*i_rq + (omega_s-omega_e)*psi_rd)\n",
    "\n",
    "g_1 = -psi_sd + (L_m + L_ls)*i_sd + L_m*i_rd\n",
    "g_2 = -psi_sq + (L_m + L_ls)*i_sq + L_m*i_rq\n",
    "g_3 = -psi_rd + (L_m + L_lr)*i_rd + L_m*i_sd\n",
    "g_4 = -psi_rq + (L_m + L_lr)*i_rq + L_m*i_sq\n",
    "                   \n",
    "#g_5 = P_h - (v_h*v_0*sin(theta_h - theta_0))/X_l\n",
    "#g_6 = Q_c + Q_h + (v_h*v_0*cos(theta_h - theta_0))/X_l - v_h**2/X_l\n",
    "#g_7 = -P_h - (v_sd*i_sd + v_sq*i_sq)\n",
    "#g_8 = -Q_h - (v_sq*i_sd - v_sd*i_sq)\n",
    "\n",
    "h_1 = I_b*(i_sd*i_sd + i_sq*i_sq)**0.5\n",
    "h_p = (v_sd*i_sd + v_sq*i_sq)\n",
    "h_q = (v_sd*i_sq - v_sq*i_sd)\n",
    "\n",
    "sys = {'name':'imib_fisix_5ord',\n",
    "       'params':params,\n",
    "       'f':[domega_e,dpsi_sd,dpsi_sq,dpsi_rd,dpsi_rq],\n",
    "       'g':[g_1,g_2,g_3,g_4],#,g_5,g_6,g_7,g_8],\n",
    "       'g_ini':[g_1,g_2,g_3,g_4],#,g_5,g_6,g_7,g_8],\n",
    "       'x':x_list,\n",
    "       'y_ini':y_ini_list,\n",
    "       'y':y_run_list,\n",
    "       'u_run_dict':u_run_dict,\n",
    "       'u_ini_dict':u_ini_dict,\n",
    "       'h':[h_1,h_p,h_q]}\n",
    "\n",
    "sys = db.system(sys)\n",
    "db.sys2num(sys)"
   ]
  },
  {
   "cell_type": "code",
   "execution_count": 9,
   "metadata": {},
   "outputs": [
    {
     "data": {
      "text/latex": [
       "$\\displaystyle \\left[\\begin{matrix}\\frac{i_{sd} \\psi_{sq} - i_{sq} \\psi_{sd} + \\tau_{m}}{2 H_{m}}\\\\\\Omega_{b} \\left(- R_{s} i_{sd} - \\omega_{s} \\psi_{sq}\\right)\\\\\\Omega_{b} \\left(- R_{s} i_{sq} + \\omega_{s} \\psi_{sd} + 1\\right)\\\\\\Omega_{b} \\left(- R_{r} i_{rd} - \\psi_{rq} \\left(- \\omega_{e} + \\omega_{s}\\right) - v_{rd}\\right)\\\\\\Omega_{b} \\left(- R_{r} i_{rq} + \\psi_{rd} \\left(- \\omega_{e} + \\omega_{s}\\right) - v_{rq}\\right)\\end{matrix}\\right]$"
      ],
      "text/plain": [
       "Matrix([\n",
       "[             (i_sd*psi_sq - i_sq*psi_sd + tau_m)/(2*H_m)],\n",
       "[                    Omega_b*(-R_s*i_sd - omega_s*psi_sq)],\n",
       "[                Omega_b*(-R_s*i_sq + omega_s*psi_sd + 1)],\n",
       "[Omega_b*(-R_r*i_rd - psi_rq*(-omega_e + omega_s) - v_rd)],\n",
       "[Omega_b*(-R_r*i_rq + psi_rd*(-omega_e + omega_s) - v_rq)]])"
      ]
     },
     "execution_count": 9,
     "metadata": {},
     "output_type": "execute_result"
    }
   ],
   "source": [
    "sys['f']"
   ]
  },
  {
   "cell_type": "code",
   "execution_count": null,
   "metadata": {},
   "outputs": [],
   "source": []
  }
 ],
 "metadata": {
  "kernelspec": {
   "display_name": "Python 3",
   "language": "python",
   "name": "python3"
  },
  "language_info": {
   "codemirror_mode": {
    "name": "ipython",
    "version": 3
   },
   "file_extension": ".py",
   "mimetype": "text/x-python",
   "name": "python",
   "nbconvert_exporter": "python",
   "pygments_lexer": "ipython3",
   "version": "3.7.5"
  }
 },
 "nbformat": 4,
 "nbformat_minor": 4
}
