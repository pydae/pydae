{
 "cells": [
  {
   "cell_type": "code",
   "execution_count": 17,
   "metadata": {},
   "outputs": [],
   "source": [
    "%matplotlib widget"
   ]
  },
  {
   "cell_type": "code",
   "execution_count": 18,
   "metadata": {},
   "outputs": [],
   "source": [
    "import numpy as np\n",
    "import matplotlib.pyplot as plt\n",
    "import scipy.optimize as sopt"
   ]
  },
  {
   "cell_type": "code",
   "execution_count": 19,
   "metadata": {},
   "outputs": [],
   "source": [
    "from imib_fisix_3ord import imib_fisix_3ord_class"
   ]
  },
  {
   "cell_type": "code",
   "execution_count": 20,
   "metadata": {},
   "outputs": [],
   "source": [
    "syst = imib_fisix_3ord_class()"
   ]
  },
  {
   "cell_type": "code",
   "execution_count": 21,
   "metadata": {},
   "outputs": [
    {
     "name": "stdout",
     "output_type": "stream",
     "text": [
      "True\n"
     ]
    },
    {
     "data": {
      "text/plain": [
       "array([ 1.00145279,  0.97825508, -0.01766518,  1.00129932, -0.00110694,\n",
       "        0.47203419,  0.10236273, -0.00190102, -0.10527384,  0.20316353,\n",
       "        0.47254602,  0.9999875 ,  0.00500008])"
      ]
     },
     "execution_count": 21,
     "metadata": {},
     "output_type": "execute_result"
    }
   ],
   "source": [
    "xy0 = np.zeros(syst.N_x+syst.N_y)+1.0\n",
    "#syst.struct[0].tau_m = 0.1\n",
    "xy = sopt.root(syst.ini_problem,xy0,jac=syst.ini_dae_jacobian,method='hybr')\n",
    "#syst.struct[0].y_ini[syst.y_ini_list.index('tau_m')]\n",
    "#syst.struct[0].y_ini[syst.y_ini_list.index('Q_c')]\n",
    "print(xy.success)\n",
    "xy.x"
   ]
  },
  {
   "cell_type": "code",
   "execution_count": 22,
   "metadata": {},
   "outputs": [
    {
     "data": {
      "application/vnd.jupyter.widget-view+json": {
       "model_id": "1ed371810c304b729310eb3ade6d7ca3",
       "version_major": 2,
       "version_minor": 0
      },
      "text/plain": [
       "Canvas(toolbar=Toolbar(toolitems=[('Home', 'Reset original view', 'home', 'home'), ('Back', 'Back to previous …"
      ]
     },
     "metadata": {},
     "output_type": "display_data"
    },
    {
     "data": {
      "text/plain": [
       "[<matplotlib.lines.Line2D at 0x1b99a303d88>]"
      ]
     },
     "execution_count": 22,
     "metadata": {},
     "output_type": "execute_result"
    }
   ],
   "source": [
    "t_sc = 1.6\n",
    "events = [{'t_end':1.0, 'P_h':1, 'Q_h':0, 'D':0.0, 'v_0':1, 'X_l':0.05, 'Dt':0.001},\n",
    "          {'t_end':t_sc,      'v_0':0.05,  'Dt':0.0001},\n",
    "          {'t_end':t_sc+.001, 'v_0':0.07},\n",
    "          {'t_end':t_sc+.002, 'v_0':0.1},\n",
    "          {'t_end':t_sc+.003, 'v_0':0.2},\n",
    "          {'t_end':t_sc+.004, 'v_0':0.3},\n",
    "          {'t_end':t_sc+.005, 'v_0':0.5},\n",
    "          {'t_end':t_sc+.006, 'v_0':0.6},\n",
    "          {'t_end':t_sc+.007, 'v_0':0.7},\n",
    "          {'t_end':t_sc+.008, 'v_0':0.8},\n",
    "          {'t_end':t_sc+.009, 'v_0':0.9},\n",
    "          {'t_end':t_sc+5, 'v_0':1.0,  'Dt':0.001}]\n",
    "events = [{'t_end':1.0, 'P_h':0.1, 'Q_h':0, 'D':0.0, 'v_0':1, 'X_l':0.05, 'Dt':0.01},\n",
    "          {'t_end':10.0,'tau_m':0.2}]\n",
    "syst.simulate(events,xy0=1)\n",
    "fig, axes = plt.subplots(nrows=3, ncols=1, figsize=(7, 4), sharex = True)\n",
    "axes[0].plot(syst.T, syst.X[:,syst.x_list.index('omega_e')])\n",
    "axes[1].plot(syst.T, syst.Y[:,syst.y_list.index('P_h')])\n",
    "axes[1].plot(syst.T, syst.Y[:,syst.y_list.index('Q_h')])\n",
    "axes[2].plot(syst.T, abs(syst.Y[:,syst.y_list.index('v_h')]))\n",
    "#axes[2].plot(syst.T, syst.Z[:,2])\n"
   ]
  },
  {
   "cell_type": "code",
   "execution_count": 15,
   "metadata": {},
   "outputs": [
    {
     "data": {
      "text/plain": [
       "array([62.74426738, 62.74426738, 62.74426738, 62.74426738, 62.74426738,\n",
       "       62.74426738, 62.74426738, 62.74426738, 62.74426738, 62.74426738,\n",
       "       62.74426738, 62.80180687, 65.18274462, 66.75665092, 67.12208392,\n",
       "       67.18055217, 67.18766513, 67.18823995, 67.18823484, 67.18822171,\n",
       "       67.18821758, 67.18821683, 67.18821672, 67.18821671, 67.18821671,\n",
       "       67.18821671, 67.18821671, 67.18821671, 67.18821671, 67.18821671,\n",
       "       67.18821671, 67.18821671, 67.18821671, 67.18821671, 67.18821671,\n",
       "       67.18821671, 67.18821671, 67.18821671, 67.18821671, 67.18821671,\n",
       "       67.18821671, 67.18821671, 67.18821671, 67.18821671, 67.18821671,\n",
       "       67.18821671, 67.18821671, 67.18821671, 67.18821671, 67.18821671,\n",
       "       67.18821671, 67.18821671, 67.18821671, 67.18821671, 67.18821671,\n",
       "       67.18821671, 67.18821671, 67.18821671, 67.18821671, 67.18821671,\n",
       "       67.18821671, 67.18821671, 67.18821671, 67.18821671, 67.18821671,\n",
       "       67.18821671, 67.18821671, 67.18821671, 67.18821671, 67.18821671,\n",
       "       67.18821671, 67.18821671, 67.18821671, 67.18821671, 67.18821671,\n",
       "       67.18821671, 67.18821671, 67.18821671, 67.18821671, 67.18821671,\n",
       "       67.18821671, 67.18821671, 67.18821671, 67.18821671, 67.18821671,\n",
       "       67.18821671, 67.18821671, 67.18821671, 67.18821671, 67.18821671,\n",
       "       67.18821671, 67.18821671, 67.18821671, 67.18821671, 67.18821671,\n",
       "       67.18821671, 67.18821671, 67.18821671, 67.18821671, 67.18821671,\n",
       "       67.18821671])"
      ]
     },
     "execution_count": 15,
     "metadata": {},
     "output_type": "execute_result"
    }
   ],
   "source": [
    "syst.Z[:,0]"
   ]
  },
  {
   "cell_type": "code",
   "execution_count": 16,
   "metadata": {},
   "outputs": [
    {
     "data": {
      "text/plain": [
       "array([0.2])"
      ]
     },
     "execution_count": 16,
     "metadata": {},
     "output_type": "execute_result"
    }
   ],
   "source": [
    "syst.struct.tau_m"
   ]
  },
  {
   "cell_type": "code",
   "execution_count": null,
   "metadata": {},
   "outputs": [],
   "source": []
  }
 ],
 "metadata": {
  "kernelspec": {
   "display_name": "Python 3",
   "language": "python",
   "name": "python3"
  },
  "language_info": {
   "codemirror_mode": {
    "name": "ipython",
    "version": 3
   },
   "file_extension": ".py",
   "mimetype": "text/x-python",
   "name": "python",
   "nbconvert_exporter": "python",
   "pygments_lexer": "ipython3",
   "version": "3.7.7"
  }
 },
 "nbformat": 4,
 "nbformat_minor": 4
}
