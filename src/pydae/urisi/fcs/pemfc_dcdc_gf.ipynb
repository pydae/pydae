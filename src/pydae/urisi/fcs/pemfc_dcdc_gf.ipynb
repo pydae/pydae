{
 "cells": [
  {
   "cell_type": "code",
   "execution_count": 1,
   "id": "747198dc",
   "metadata": {},
   "outputs": [],
   "source": [
    "import numpy as np\n",
    "import matplotlib.pyplot as plt\n",
    "\n",
    "import temp\n",
    "\n"
   ]
  },
  {
   "cell_type": "code",
   "execution_count": 13,
   "id": "388eddcd",
   "metadata": {},
   "outputs": [
    {
     "ename": "LinAlgError",
     "evalue": "Array must not contain infs or NaNs.",
     "output_type": "error",
     "traceback": [
      "\u001b[1;31m---------------------------------------------------------------------------\u001b[0m",
      "\u001b[1;31mLinAlgError\u001b[0m                               Traceback (most recent call last)",
      "Cell \u001b[1;32mIn[13], line 2\u001b[0m\n\u001b[0;32m      1\u001b[0m model \u001b[38;5;241m=\u001b[39m temp\u001b[38;5;241m.\u001b[39mmodel()\n\u001b[1;32m----> 2\u001b[0m model\u001b[38;5;241m.\u001b[39mini({\u001b[38;5;124m'\u001b[39m\u001b[38;5;124mi_dc_ref_D1\u001b[39m\u001b[38;5;124m'\u001b[39m:\u001b[38;5;241m5\u001b[39m,\u001b[38;5;124m'\u001b[39m\u001b[38;5;124mtemp_D1\u001b[39m\u001b[38;5;124m'\u001b[39m:\u001b[38;5;241m323.15\u001b[39m,\u001b[38;5;124m'\u001b[39m\u001b[38;5;124mp_h2_D1\u001b[39m\u001b[38;5;124m'\u001b[39m:\u001b[38;5;241m1\u001b[39m,\u001b[38;5;124m'\u001b[39m\u001b[38;5;124mp_o2_D1\u001b[39m\u001b[38;5;124m'\u001b[39m:\u001b[38;5;241m0.21\u001b[39m, \u001b[38;5;124m'\u001b[39m\u001b[38;5;124mp_load_D2\u001b[39m\u001b[38;5;124m'\u001b[39m:\u001b[38;5;241m10e3\u001b[39m},\u001b[38;5;124m'\u001b[39m\u001b[38;5;124mxy_0.json\u001b[39m\u001b[38;5;124m'\u001b[39m)  \u001b[38;5;66;03m# model steady state computation\u001b[39;00m\n\u001b[0;32m      4\u001b[0m model\u001b[38;5;241m.\u001b[39mreport_u()\n\u001b[0;32m      5\u001b[0m model\u001b[38;5;241m.\u001b[39mreport_x()\n",
      "File \u001b[1;32mc:\\Users\\jmmau\\workspace\\pydae\\src\\pydae\\urisi\\fcs\\temp.py:496\u001b[0m, in \u001b[0;36mmodel.ini\u001b[1;34m(self, up_dict, xy_0)\u001b[0m\n\u001b[0;32m    493\u001b[0m \u001b[38;5;28;01mif\u001b[39;00m \u001b[38;5;28mtype\u001b[39m(xy_0) \u001b[38;5;241m==\u001b[39m \u001b[38;5;28mfloat\u001b[39m \u001b[38;5;129;01mor\u001b[39;00m \u001b[38;5;28mtype\u001b[39m(xy_0) \u001b[38;5;241m==\u001b[39m \u001b[38;5;28mint\u001b[39m:\n\u001b[0;32m    494\u001b[0m     \u001b[38;5;28mself\u001b[39m\u001b[38;5;241m.\u001b[39mxy_0 \u001b[38;5;241m=\u001b[39m np\u001b[38;5;241m.\u001b[39mones(\u001b[38;5;28mself\u001b[39m\u001b[38;5;241m.\u001b[39mN_x\u001b[38;5;241m+\u001b[39m\u001b[38;5;28mself\u001b[39m\u001b[38;5;241m.\u001b[39mN_y,dtype\u001b[38;5;241m=\u001b[39mnp\u001b[38;5;241m.\u001b[39mfloat64)\u001b[38;5;241m*\u001b[39mxy_0\n\u001b[1;32m--> 496\u001b[0m xy_ini,it \u001b[38;5;241m=\u001b[39m sstate(\u001b[38;5;28mself\u001b[39m\u001b[38;5;241m.\u001b[39mxy_0,\u001b[38;5;28mself\u001b[39m\u001b[38;5;241m.\u001b[39mu_ini,\u001b[38;5;28mself\u001b[39m\u001b[38;5;241m.\u001b[39mp,\n\u001b[0;32m    497\u001b[0m                    \u001b[38;5;28mself\u001b[39m\u001b[38;5;241m.\u001b[39mjac_ini,\n\u001b[0;32m    498\u001b[0m                    \u001b[38;5;28mself\u001b[39m\u001b[38;5;241m.\u001b[39mN_x,\u001b[38;5;28mself\u001b[39m\u001b[38;5;241m.\u001b[39mN_y,\n\u001b[0;32m    499\u001b[0m                    max_it\u001b[38;5;241m=\u001b[39m\u001b[38;5;28mself\u001b[39m\u001b[38;5;241m.\u001b[39mmax_it,tol\u001b[38;5;241m=\u001b[39m\u001b[38;5;28mself\u001b[39m\u001b[38;5;241m.\u001b[39mitol)\n\u001b[0;32m    501\u001b[0m \u001b[38;5;28;01mif\u001b[39;00m it \u001b[38;5;241m<\u001b[39m \u001b[38;5;28mself\u001b[39m\u001b[38;5;241m.\u001b[39mmax_it\u001b[38;5;241m-\u001b[39m\u001b[38;5;241m1\u001b[39m:\n\u001b[0;32m    503\u001b[0m     \u001b[38;5;28mself\u001b[39m\u001b[38;5;241m.\u001b[39mxy_ini \u001b[38;5;241m=\u001b[39m xy_ini\n",
      "File \u001b[1;32mc:\\Users\\jmmau\\anaconda3\\Lib\\site-packages\\numba\\np\\linalg.py:827\u001b[0m, in \u001b[0;36m_check_finite_matrix\u001b[1;34m()\u001b[0m\n\u001b[0;32m    825\u001b[0m \u001b[38;5;28;01mfor\u001b[39;00m v \u001b[38;5;129;01min\u001b[39;00m np\u001b[38;5;241m.\u001b[39mnditer(a):\n\u001b[0;32m    826\u001b[0m     \u001b[38;5;28;01mif\u001b[39;00m \u001b[38;5;129;01mnot\u001b[39;00m np\u001b[38;5;241m.\u001b[39misfinite(v\u001b[38;5;241m.\u001b[39mitem()):\n\u001b[1;32m--> 827\u001b[0m         \u001b[38;5;28;01mraise\u001b[39;00m np\u001b[38;5;241m.\u001b[39mlinalg\u001b[38;5;241m.\u001b[39mLinAlgError(\n\u001b[0;32m    828\u001b[0m             \u001b[38;5;124m\"\u001b[39m\u001b[38;5;124mArray must not contain infs or NaNs.\u001b[39m\u001b[38;5;124m\"\u001b[39m)\n",
      "\u001b[1;31mLinAlgError\u001b[0m: Array must not contain infs or NaNs."
     ]
    }
   ],
   "source": [
    "model = temp.model()\n",
    "model.ini({'i_dc_ref_D1':5,'temp_D1':323.15,'p_h2_D1':1,'p_o2_D1':0.21, 'p_load_D2':10e3},'xy_0.json')  # model steady state computation\n",
    "\n",
    "model.report_u()\n",
    "model.report_x()\n",
    "model.report_y()\n",
    "model.report_z()"
   ]
  },
  {
   "cell_type": "code",
   "execution_count": 21,
   "id": "35d28386",
   "metadata": {},
   "outputs": [],
   "source": [
    "model = temp.model()\n",
    "model.ini({'i_dc_ref_D1':0.1,'temp_D1':323.15,'p_h2_D1':1,'p_o2_D1':0.21, 'p_load_D2':0e3},'xy_0.json')  # model steady state computation\n",
    "model.ini({'i_dc_ref_D1':0.1,'temp_D1':323.15,'p_h2_D1':1,'p_o2_D1':0.21, 'p_load_D2':0e3})  # model steady state computation\n",
    "model.run(1.0,{})\n",
    "model.run(10.0,{'p_load_D2':10e3})\n",
    "model.post();\n"
   ]
  },
  {
   "cell_type": "code",
   "execution_count": 22,
   "id": "58db7a32",
   "metadata": {},
   "outputs": [
    {
     "name": "stderr",
     "output_type": "stream",
     "text": [
      "No artists with labels found to put in legend.  Note that artists whose label start with an underscore are ignored when legend() is called with no argument.\n"
     ]
    },
    {
     "name": "stderr",
     "output_type": "stream",
     "text": [
      "No artists with labels found to put in legend.  Note that artists whose label start with an underscore are ignored when legend() is called with no argument.\n"
     ]
    },
    {
     "data": {
      "text/plain": [
       "Text(0.5, 0, 'Time (s)')"
      ]
     },
     "execution_count": 22,
     "metadata": {},
     "output_type": "execute_result"
    },
    {
     "data": {
      "image/png": "[encoded data removed]",
      "text/plain": [
       "<Figure size 640x480 with 4 Axes>"
      ]
     },
     "metadata": {},
     "output_type": "display_data"
    }
   ],
   "source": [
    "fig,axes = plt.subplots(nrows=2,ncols=2)\n",
    "\n",
    "axes[0,0].plot(model.Time,model.get_values('v_dc_D1'), label='v_dc_D1')\n",
    "axes[1,0].plot(model.Time,model.get_values('i_dc_D1'), label='i_dc_D1')\n",
    "\n",
    "\n",
    "for ax in axes.flatten():\n",
    "    ax.grid()\n",
    "    ax.legend()\n",
    "    ax.set_xlim(0,model.Time[-1])\n",
    "axes[1,0].set_xlabel('Time (s)')\n",
    "axes[1,1].set_xlabel('Time (s)')"
   ]
  },
  {
   "cell_type": "code",
   "execution_count": null,
   "id": "9a0ede30",
   "metadata": {},
   "outputs": [
    {
     "name": "stdout",
     "output_type": "stream",
     "text": [
      "i_h_f_D1 = 12.51\n",
      "v_d_D1 =  0.43\n",
      "xi_freq =  0.00\n"
     ]
    }
   ],
   "source": [
    "model.report_x()"
   ]
  },
  {
   "cell_type": "code",
   "execution_count": null,
   "id": "32314396",
   "metadata": {},
   "outputs": [
    {
     "name": "stdout",
     "output_type": "stream",
     "text": [
      "V_D1_0_r = 399.87\n",
      "V_D1_0_i =  0.00\n",
      "V_D1_1_r = -399.87\n",
      "V_D1_1_i =  0.00\n",
      "V_D2_0_r = 399.82\n",
      "V_D2_0_i =  0.00\n",
      "V_D2_1_r = -399.82\n",
      "V_D2_1_i =  0.00\n",
      "i_load_D2_p_r = 12.51\n",
      "v_dc_D1 = 231.01\n",
      "omega_coi =  1.00\n",
      "p_agc =  0.00\n"
     ]
    }
   ],
   "source": [
    "model.report_y()"
   ]
  },
  {
   "cell_type": "code",
   "execution_count": null,
   "id": "11342f55",
   "metadata": {},
   "outputs": [],
   "source": []
  }
 ],
 "metadata": {
  "kernelspec": {
   "display_name": "base",
   "language": "python",
   "name": "python3"
  },
  "language_info": {
   "codemirror_mode": {
    "name": "ipython",
    "version": 3
   },
   "file_extension": ".py",
   "mimetype": "text/x-python",
   "name": "python",
   "nbconvert_exporter": "python",
   "pygments_lexer": "ipython3",
   "version": "3.11.7"
  }
 },
 "nbformat": 4,
 "nbformat_minor": 5
}
