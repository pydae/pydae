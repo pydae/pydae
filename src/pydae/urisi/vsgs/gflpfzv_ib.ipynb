{
 "cells": [
  {
   "cell_type": "code",
   "execution_count": 4,
   "metadata": {},
   "outputs": [],
   "source": [
    "import numpy as np\n",
    "\n",
    "import temp\n",
    "import pydae.plot_tools as pplt\n",
    "import scipy.optimize as sopt\n",
    "import pydae.ssa as ssa\n",
    "from pydae.urisi.lines import change_line\n",
    "colors = pplt.set_style(plt)\n",
    "\n"
   ]
  },
  {
   "cell_type": "code",
   "execution_count": 24,
   "metadata": {},
   "outputs": [
    {
     "data": {
      "text/plain": [
       "True"
      ]
     },
     "execution_count": 24,
     "metadata": {},
     "output_type": "execute_result"
    }
   ],
   "source": [
    "model = temp.model()    \n",
    "p_c = 0.5\n",
    "q_ref = 0.1\n",
    "model.ini({'p_c_A1':p_c,'q_ref_A1':q_ref,\n",
    "           'D_A1':0.0,'Droop_A1':0.1},'xy_0.json')\n",
    "\n",
    "# model.report_u()\n",
    "# model.report_x()\n",
    "# model.report_y()\n",
    "# model.report_z()"
   ]
  },
  {
   "cell_type": "code",
   "execution_count": 25,
   "metadata": {},
   "outputs": [
    {
     "data": {
      "text/html": [
       "<div>\n",
       "<style scoped>\n",
       "    .dataframe tbody tr th:only-of-type {\n",
       "        vertical-align: middle;\n",
       "    }\n",
       "\n",
       "    .dataframe tbody tr th {\n",
       "        vertical-align: top;\n",
       "    }\n",
       "\n",
       "    .dataframe thead th {\n",
       "        text-align: right;\n",
       "    }\n",
       "</style>\n",
       "<table border=\"1\" class=\"dataframe\">\n",
       "  <thead>\n",
       "    <tr style=\"text-align: right;\">\n",
       "      <th></th>\n",
       "      <th>Real</th>\n",
       "      <th>Imag</th>\n",
       "      <th>Freq.</th>\n",
       "      <th>Damp</th>\n",
       "    </tr>\n",
       "  </thead>\n",
       "  <tbody>\n",
       "    <tr>\n",
       "      <th>Mode 1</th>\n",
       "      <td>-0.10</td>\n",
       "      <td>0.00</td>\n",
       "      <td>0.00</td>\n",
       "      <td>1.00</td>\n",
       "    </tr>\n",
       "    <tr>\n",
       "      <th>Mode 2</th>\n",
       "      <td>-0.33</td>\n",
       "      <td>1.75</td>\n",
       "      <td>0.28</td>\n",
       "      <td>0.18</td>\n",
       "    </tr>\n",
       "    <tr>\n",
       "      <th>Mode 3</th>\n",
       "      <td>-0.33</td>\n",
       "      <td>-1.75</td>\n",
       "      <td>0.28</td>\n",
       "      <td>0.18</td>\n",
       "    </tr>\n",
       "    <tr>\n",
       "      <th>Mode 4</th>\n",
       "      <td>-0.00</td>\n",
       "      <td>0.00</td>\n",
       "      <td>0.00</td>\n",
       "      <td>1.00</td>\n",
       "    </tr>\n",
       "    <tr>\n",
       "      <th>Mode 5</th>\n",
       "      <td>-10.34</td>\n",
       "      <td>0.00</td>\n",
       "      <td>0.00</td>\n",
       "      <td>1.00</td>\n",
       "    </tr>\n",
       "    <tr>\n",
       "      <th>Mode 6</th>\n",
       "      <td>-10.00</td>\n",
       "      <td>0.00</td>\n",
       "      <td>0.00</td>\n",
       "      <td>1.00</td>\n",
       "    </tr>\n",
       "    <tr>\n",
       "      <th>Mode 7</th>\n",
       "      <td>-10.00</td>\n",
       "      <td>0.00</td>\n",
       "      <td>0.00</td>\n",
       "      <td>1.00</td>\n",
       "    </tr>\n",
       "    <tr>\n",
       "      <th>Mode 8</th>\n",
       "      <td>-10.00</td>\n",
       "      <td>0.00</td>\n",
       "      <td>0.00</td>\n",
       "      <td>1.00</td>\n",
       "    </tr>\n",
       "    <tr>\n",
       "      <th>Mode 9</th>\n",
       "      <td>-10.00</td>\n",
       "      <td>0.00</td>\n",
       "      <td>0.00</td>\n",
       "      <td>1.00</td>\n",
       "    </tr>\n",
       "    <tr>\n",
       "      <th>Mode 10</th>\n",
       "      <td>-10.00</td>\n",
       "      <td>0.00</td>\n",
       "      <td>0.00</td>\n",
       "      <td>1.00</td>\n",
       "    </tr>\n",
       "  </tbody>\n",
       "</table>\n",
       "</div>"
      ],
      "text/plain": [
       "          Real  Imag  Freq.  Damp\n",
       "Mode 1   -0.10  0.00   0.00  1.00\n",
       "Mode 2   -0.33  1.75   0.28  0.18\n",
       "Mode 3   -0.33 -1.75   0.28  0.18\n",
       "Mode 4   -0.00  0.00   0.00  1.00\n",
       "Mode 5  -10.34  0.00   0.00  1.00\n",
       "Mode 6  -10.00  0.00   0.00  1.00\n",
       "Mode 7  -10.00  0.00   0.00  1.00\n",
       "Mode 8  -10.00  0.00   0.00  1.00\n",
       "Mode 9  -10.00  0.00   0.00  1.00\n",
       "Mode 10 -10.00  0.00   0.00  1.00"
      ]
     },
     "execution_count": 25,
     "metadata": {},
     "output_type": "execute_result"
    }
   ],
   "source": [
    "ssa.A_eval(model)\n",
    "ssa.damp_report(model).round(2)"
   ]
  },
  {
   "cell_type": "code",
   "execution_count": null,
   "metadata": {},
   "outputs": [],
   "source": []
  },
  {
   "cell_type": "code",
   "execution_count": 8,
   "metadata": {},
   "outputs": [
    {
     "name": "stdout",
     "output_type": "stream",
     "text": [
      "X_s_A1 = 0.05\n",
      "R_s_A1 = 0.01\n",
      "X_sn_A1 = 0.10\n",
      "R_sn_A1 = 0.01\n",
      "X_ng_A1 = 3.00\n",
      "R_ng_A1 = 0.01\n",
      "A_loss_A1 = 0.02\n",
      "B_loss_A1 = 1.00\n",
      "C_loss_A1 =333.33\n",
      "X_v_A1 = 0.10\n",
      "R_v_A1 = 0.00\n",
      "S_n_A1 =100000.00\n",
      "U_n_A1 =400.00\n",
      "T_e_A1 = 0.10\n",
      "T_c_A1 = 0.10\n",
      "T_v_A1 = 0.10\n",
      "Droop_A1 = 0.05\n",
      "H_A1  = 5.00\n",
      "D_A1  = 0.10\n",
      "K_agc_A1 = 0.00\n",
      "K_delta_A1 = 0.00\n",
      "K_qp_A1 = 0.01\n",
      "K_qi_A1 = 0.01\n",
      "K_soc_A1 = 1.00\n",
      "X_s_A2 = 0.00\n",
      "R_s_A2 = 0.00\n",
      "X_sn_A2 = 0.00\n",
      "R_sn_A2 = 0.00\n",
      "X_ng_A2 = 0.00\n",
      "R_ng_A2 = 0.00\n",
      "K_p_agc = 0.00\n",
      "K_i_agc = 0.00\n",
      "K_xif = 0.10\n"
     ]
    }
   ],
   "source": [
    "model.report_params()"
   ]
  },
  {
   "cell_type": "code",
   "execution_count": null,
   "metadata": {},
   "outputs": [],
   "source": []
  }
 ],
 "metadata": {
  "kernelspec": {
   "display_name": "base",
   "language": "python",
   "name": "python3"
  },
  "language_info": {
   "codemirror_mode": {
    "name": "ipython",
    "version": 3
   },
   "file_extension": ".py",
   "mimetype": "text/x-python",
   "name": "python",
   "nbconvert_exporter": "python",
   "pygments_lexer": "ipython3",
   "version": "3.11.5"
  }
 },
 "nbformat": 4,
 "nbformat_minor": 2
}
