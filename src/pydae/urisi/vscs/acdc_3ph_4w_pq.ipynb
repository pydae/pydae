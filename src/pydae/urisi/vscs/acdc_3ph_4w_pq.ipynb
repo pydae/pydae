{
 "cells": [
  {
   "cell_type": "markdown",
   "metadata": {},
   "source": []
  },
  {
   "cell_type": "code",
   "execution_count": 9,
   "metadata": {},
   "outputs": [
    {
     "ename": "LinAlgError",
     "evalue": "Array must not contain infs or NaNs.",
     "output_type": "error",
     "traceback": [
      "\u001b[1;31m---------------------------------------------------------------------------\u001b[0m",
      "\u001b[1;31mLinAlgError\u001b[0m                               Traceback (most recent call last)",
      "Cell \u001b[1;32mIn[9], line 11\u001b[0m\n\u001b[0;32m      3\u001b[0m \u001b[38;5;66;03m# S_n = 100e3\u001b[39;00m\n\u001b[0;32m      4\u001b[0m \u001b[38;5;66;03m# V_n = 1000\u001b[39;00m\n\u001b[0;32m      5\u001b[0m \u001b[38;5;66;03m# I_n = S_n/V_n\u001b[39;00m\n\u001b[1;32m   (...)\u001b[0m\n\u001b[0;32m      8\u001b[0m \u001b[38;5;66;03m# B = 1\u001b[39;00m\n\u001b[0;32m      9\u001b[0m \u001b[38;5;66;03m# C = 0.02*S_n\u001b[39;00m\n\u001b[0;32m     10\u001b[0m model \u001b[38;5;241m=\u001b[39m temp\u001b[38;5;241m.\u001b[39mmodel()\n\u001b[1;32m---> 11\u001b[0m model\u001b[38;5;241m.\u001b[39mini({},\u001b[38;5;241m4000\u001b[39m) \u001b[38;5;66;03m#'xy_0.json')\u001b[39;00m\n\u001b[0;32m     12\u001b[0m model\u001b[38;5;241m.\u001b[39mreport_y()\n\u001b[0;32m     13\u001b[0m model\u001b[38;5;241m.\u001b[39mreport_z()\n",
      "File \u001b[1;32mc:\\Users\\jmmau\\workspace\\pydae\\src\\pydae\\urisi\\vscs\\temp.py:497\u001b[0m, in \u001b[0;36mmodel.ini\u001b[1;34m(self, up_dict, xy_0)\u001b[0m\n\u001b[0;32m    494\u001b[0m \u001b[38;5;28;01mif\u001b[39;00m \u001b[38;5;28mtype\u001b[39m(xy_0) \u001b[38;5;241m==\u001b[39m \u001b[38;5;28mfloat\u001b[39m \u001b[38;5;129;01mor\u001b[39;00m \u001b[38;5;28mtype\u001b[39m(xy_0) \u001b[38;5;241m==\u001b[39m \u001b[38;5;28mint\u001b[39m:\n\u001b[0;32m    495\u001b[0m     \u001b[38;5;28mself\u001b[39m\u001b[38;5;241m.\u001b[39mxy_0 \u001b[38;5;241m=\u001b[39m np\u001b[38;5;241m.\u001b[39mones(\u001b[38;5;28mself\u001b[39m\u001b[38;5;241m.\u001b[39mN_x\u001b[38;5;241m+\u001b[39m\u001b[38;5;28mself\u001b[39m\u001b[38;5;241m.\u001b[39mN_y,dtype\u001b[38;5;241m=\u001b[39mnp\u001b[38;5;241m.\u001b[39mfloat64)\u001b[38;5;241m*\u001b[39mxy_0\n\u001b[1;32m--> 497\u001b[0m xy_ini,it \u001b[38;5;241m=\u001b[39m sstate(\u001b[38;5;28mself\u001b[39m\u001b[38;5;241m.\u001b[39mxy_0,\u001b[38;5;28mself\u001b[39m\u001b[38;5;241m.\u001b[39mu_ini,\u001b[38;5;28mself\u001b[39m\u001b[38;5;241m.\u001b[39mp,\n\u001b[0;32m    498\u001b[0m                    \u001b[38;5;28mself\u001b[39m\u001b[38;5;241m.\u001b[39mjac_ini,\n\u001b[0;32m    499\u001b[0m                    \u001b[38;5;28mself\u001b[39m\u001b[38;5;241m.\u001b[39mN_x,\u001b[38;5;28mself\u001b[39m\u001b[38;5;241m.\u001b[39mN_y,\n\u001b[0;32m    500\u001b[0m                    max_it\u001b[38;5;241m=\u001b[39m\u001b[38;5;28mself\u001b[39m\u001b[38;5;241m.\u001b[39mmax_it,tol\u001b[38;5;241m=\u001b[39m\u001b[38;5;28mself\u001b[39m\u001b[38;5;241m.\u001b[39mitol)\n\u001b[0;32m    502\u001b[0m \u001b[38;5;28;01mif\u001b[39;00m it \u001b[38;5;241m<\u001b[39m \u001b[38;5;28mself\u001b[39m\u001b[38;5;241m.\u001b[39mmax_it\u001b[38;5;241m-\u001b[39m\u001b[38;5;241m1\u001b[39m:\n\u001b[0;32m    504\u001b[0m     \u001b[38;5;28mself\u001b[39m\u001b[38;5;241m.\u001b[39mxy_ini \u001b[38;5;241m=\u001b[39m xy_ini\n",
      "File \u001b[1;32mc:\\Users\\jmmau\\anaconda3\\Lib\\site-packages\\numba\\np\\linalg.py:827\u001b[0m, in \u001b[0;36m_check_finite_matrix\u001b[1;34m()\u001b[0m\n\u001b[0;32m    825\u001b[0m \u001b[38;5;28;01mfor\u001b[39;00m v \u001b[38;5;129;01min\u001b[39;00m np\u001b[38;5;241m.\u001b[39mnditer(a):\n\u001b[0;32m    826\u001b[0m     \u001b[38;5;28;01mif\u001b[39;00m \u001b[38;5;129;01mnot\u001b[39;00m np\u001b[38;5;241m.\u001b[39misfinite(v\u001b[38;5;241m.\u001b[39mitem()):\n\u001b[1;32m--> 827\u001b[0m         \u001b[38;5;28;01mraise\u001b[39;00m np\u001b[38;5;241m.\u001b[39mlinalg\u001b[38;5;241m.\u001b[39mLinAlgError(\n\u001b[0;32m    828\u001b[0m             \u001b[38;5;124m\"\u001b[39m\u001b[38;5;124mArray must not contain infs or NaNs.\u001b[39m\u001b[38;5;124m\"\u001b[39m)\n",
      "\u001b[1;31mLinAlgError\u001b[0m: Array must not contain infs or NaNs."
     ]
    }
   ],
   "source": [
    "import temp\n",
    "\n",
    "model = temp.model()\n",
    "model.ini({},4000) #'xy_0.json')\n",
    "model.report_y()\n",
    "model.report_z()"
   ]
  },
  {
   "cell_type": "code",
   "execution_count": 7,
   "metadata": {},
   "outputs": [
    {
     "name": "stdout",
     "output_type": "stream",
     "text": [
      "V_AC_0_r =  0.00\n",
      "V_AC_0_i =  0.00\n",
      "V_AC_1_r =  0.00\n",
      "V_AC_1_i =  0.00\n",
      "V_AC_2_r =  0.00\n",
      "V_AC_2_i =  0.00\n",
      "V_AC_3_r =  0.00\n",
      "V_AC_3_i =  0.00\n",
      "V_DC_0_r =  0.00\n",
      "V_DC_0_i =  0.00\n",
      "V_DC_1_r =  0.00\n",
      "V_DC_1_i =  0.00\n",
      "i_vsc_AC_a_r =  0.00\n",
      "i_vsc_AC_a_i =  0.00\n",
      "i_vsc_AC_b_r =  0.00\n",
      "i_vsc_AC_b_i =  0.00\n",
      "i_vsc_AC_c_r =  0.00\n",
      "i_vsc_AC_c_i =  0.00\n",
      "i_vsc_AC_n_r =  0.00\n",
      "i_vsc_AC_n_i =  0.00\n",
      "i_vsc_pos_DC_sp =  0.00\n",
      "i_vsc_DC_sn =  0.00\n",
      "p_vsc_DC =  0.00\n",
      "i_vsrc_AC_a_r =  0.00\n",
      "i_vsrc_AC_b_r =  0.00\n",
      "i_vsrc_AC_c_r =  0.00\n",
      "i_vsrc_AC_n_r =  0.00\n",
      "i_vsrc_AC_a_i =  0.00\n",
      "i_vsrc_AC_b_i =  0.00\n",
      "i_vsrc_AC_c_i =  0.00\n",
      "i_vsrc_AC_n_i =  0.00\n",
      "omega_coi =  0.00\n",
      "p_agc =  0.00\n"
     ]
    }
   ],
   "source": [
    "model.report_y()"
   ]
  },
  {
   "cell_type": "code",
   "execution_count": null,
   "metadata": {},
   "outputs": [],
   "source": []
  }
 ],
 "metadata": {
  "kernelspec": {
   "display_name": "base",
   "language": "python",
   "name": "python3"
  },
  "language_info": {
   "codemirror_mode": {
    "name": "ipython",
    "version": 3
   },
   "file_extension": ".py",
   "mimetype": "text/x-python",
   "name": "python",
   "nbconvert_exporter": "python",
   "pygments_lexer": "ipython3",
   "version": "3.11.7"
  }
 },
 "nbformat": 4,
 "nbformat_minor": 2
}
