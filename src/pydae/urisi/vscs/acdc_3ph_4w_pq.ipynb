{
 "cells": [
  {
   "cell_type": "markdown",
   "metadata": {},
   "source": []
  },
  {
   "cell_type": "code",
   "execution_count": 1,
   "metadata": {},
   "outputs": [],
   "source": [
    "import numpy as np\n",
    "import sympy as sym\n",
    "import json\n",
    "from pydae.urisi.urisi_builder import urisi\n",
    "\n",
    "grid = urisi('acdc_3ph_4w_pq.hjson')\n",
    "grid.uz_jacs = False\n",
    "grid.build('temp')"
   ]
  },
  {
   "cell_type": "code",
   "execution_count": 2,
   "metadata": {},
   "outputs": [
    {
     "data": {
      "text/plain": [
       "(10, 11)"
      ]
     },
     "execution_count": 2,
     "metadata": {},
     "output_type": "execute_result"
    }
   ],
   "source": [
    "grid.node2idx('DC','b')"
   ]
  },
  {
   "cell_type": "code",
   "execution_count": 3,
   "metadata": {},
   "outputs": [
    {
     "name": "stdout",
     "output_type": "stream",
     "text": [
      "0 V_AC_0_r -i_vsc_AC_a_r - i_vsrc_AC_a_r\n",
      "1 V_AC_0_i -i_vsc_AC_a_i - i_vsrc_AC_a_i\n",
      "2 V_AC_1_r -i_vsc_AC_b_r - i_vsrc_AC_b_r\n",
      "3 V_AC_1_i -i_vsc_AC_b_i - i_vsrc_AC_b_i\n",
      "4 V_AC_2_r -i_vsc_AC_c_r - i_vsrc_AC_c_r\n",
      "5 V_AC_2_i -i_vsc_AC_c_i - i_vsrc_AC_c_i\n",
      "6 V_AC_3_r -V_AC_3_i*b_shunt_AC_3 + V_AC_3_r*g_shunt_AC_3 - i_vsc_AC_n_r - i_vsrc_AC_n_r\n",
      "7 V_AC_3_i V_AC_3_i*g_shunt_AC_3 + V_AC_3_r*b_shunt_AC_3 - i_vsc_AC_n_i - i_vsrc_AC_n_i\n",
      "8 V_DC_0_r p_vsc_DC/(V_DC_0_r - V_DC_1_r) - (R_g_DC*(V_DC_0_r + V_DC_1_r)/(2*R_g_DC + R_h_DC) - V_DC_0_r + v_ref_DC/2)/R_h_DC\n",
      "9 V_DC_0_i -V_DC_0_i\n",
      "10 V_DC_1_r -p_vsc_DC/(V_DC_0_r - V_DC_1_r) - (R_g_DC*(V_DC_0_r + V_DC_1_r)/(2*R_g_DC + R_h_DC) - V_DC_1_r - v_ref_DC/2)/R_h_DC\n",
      "11 V_DC_1_i -V_DC_1_i\n",
      "12 i_vsc_AC_a_r 1.0*V_AC_0_i*i_vsc_AC_a_i + V_AC_0_r*i_vsc_AC_a_r - 1.0*V_AC_3_i*i_vsc_AC_a_i - V_AC_3_r*i_vsc_AC_a_r - p_vsc_a_AC\n",
      "13 i_vsc_AC_a_i 1.0*V_AC_0_i*i_vsc_AC_a_r - 1.0*V_AC_0_r*i_vsc_AC_a_i - 1.0*V_AC_3_i*i_vsc_AC_a_r + 1.0*V_AC_3_r*i_vsc_AC_a_i - q_vsc_a_AC\n",
      "14 i_vsc_AC_b_r 1.0*V_AC_1_i*i_vsc_AC_b_i + V_AC_1_r*i_vsc_AC_b_r - 1.0*V_AC_3_i*i_vsc_AC_b_i - V_AC_3_r*i_vsc_AC_b_r - p_vsc_b_AC\n",
      "15 i_vsc_AC_b_i 1.0*V_AC_1_i*i_vsc_AC_b_r - 1.0*V_AC_1_r*i_vsc_AC_b_i - 1.0*V_AC_3_i*i_vsc_AC_b_r + 1.0*V_AC_3_r*i_vsc_AC_b_i - q_vsc_b_AC\n",
      "16 i_vsc_AC_c_r 1.0*V_AC_2_i*i_vsc_AC_c_i + V_AC_2_r*i_vsc_AC_c_r - 1.0*V_AC_3_i*i_vsc_AC_c_i - V_AC_3_r*i_vsc_AC_c_r - p_vsc_c_AC\n",
      "17 i_vsc_AC_c_i 1.0*V_AC_2_i*i_vsc_AC_c_r - 1.0*V_AC_2_r*i_vsc_AC_c_i - 1.0*V_AC_3_i*i_vsc_AC_c_r + 1.0*V_AC_3_r*i_vsc_AC_c_i - q_vsc_c_AC\n",
      "18 i_vsc_AC_n_r i_vsc_AC_a_r + i_vsc_AC_b_r + i_vsc_AC_c_r + i_vsc_AC_n_r\n",
      "19 i_vsc_AC_n_i i_vsc_AC_a_i + i_vsc_AC_b_i + i_vsc_AC_c_i + i_vsc_AC_n_i\n",
      "20 p_vsc_DC 4*A_loss_AC + B_loss_AC*sqrt(i_vsc_AC_a_i**2 + i_vsc_AC_a_r**2 + 0.01) + B_loss_AC*sqrt(i_vsc_AC_b_i**2 + i_vsc_AC_b_r**2 + 0.01) + B_loss_AC*sqrt(i_vsc_AC_c_i**2 + i_vsc_AC_c_r**2 + 0.01) + B_loss_AC*sqrt(i_vsc_AC_n_i**2 + i_vsc_AC_n_r**2 + 0.01) + C_loss_AC*(i_vsc_AC_a_i**2 + i_vsc_AC_a_r**2 + 0.01) + C_loss_AC*(i_vsc_AC_b_i**2 + i_vsc_AC_b_r**2 + 0.01) + C_loss_AC*(i_vsc_AC_c_i**2 + i_vsc_AC_c_r**2 + 0.01) + C_loss_AC*(i_vsc_AC_n_i**2 + i_vsc_AC_n_r**2 + 0.01) - p_vsc_DC + p_vsc_a_AC + p_vsc_b_AC + p_vsc_c_AC\n",
      "21 i_vsrc_AC_a_r -R_s_AC*i_vsrc_AC_a_r - V_AC_0_r + 1.0*X_s_AC*i_vsrc_AC_a_i + e_ao_m_AC*cos(phi_AC)\n",
      "22 i_vsrc_AC_b_r -R_s_AC*i_vsrc_AC_b_r - V_AC_1_r + 1.0*X_s_AC*i_vsrc_AC_b_i + e_bo_m_AC*cos(phi_AC - 2.0943951023932)\n",
      "23 i_vsrc_AC_c_r -R_s_AC*i_vsrc_AC_c_r - V_AC_2_r + 1.0*X_s_AC*i_vsrc_AC_c_i + e_co_m_AC*cos(phi_AC - 4.18879020478639)\n",
      "24 i_vsrc_AC_n_r -R_sn_AC*i_vsrc_AC_n_r - V_AC_3_r + 1.0*X_sn_AC*i_vsrc_AC_n_i\n",
      "25 i_vsrc_AC_a_i -1.0*R_s_AC*i_vsrc_AC_a_i - 1.0*V_AC_0_i - 1.0*X_s_AC*i_vsrc_AC_a_r + 1.0*e_ao_m_AC*sin(phi_AC)\n",
      "26 i_vsrc_AC_b_i -1.0*R_s_AC*i_vsrc_AC_b_i - 1.0*V_AC_1_i - 1.0*X_s_AC*i_vsrc_AC_b_r + 1.0*e_bo_m_AC*sin(phi_AC - 2.0943951023932)\n",
      "27 i_vsrc_AC_c_i -1.0*R_s_AC*i_vsrc_AC_c_i - 1.0*V_AC_2_i - 1.0*X_s_AC*i_vsrc_AC_c_r + 1.0*e_co_m_AC*sin(phi_AC - 4.18879020478639)\n",
      "28 i_vsrc_AC_n_i -1.0*R_sn_AC*i_vsrc_AC_n_i - 1.0*V_AC_3_i - 1.0*X_sn_AC*i_vsrc_AC_n_r\n",
      "29 omega_coi 0.000999000999000999 - omega_coi\n",
      "30 p_agc K_i_agc*xi_freq + K_p_agc*(1 - omega_coi) - p_agc\n"
     ]
    }
   ],
   "source": [
    "it = 0\n",
    "for y,g in zip(grid.dae['y_ini'],grid.dae['g']):\n",
    "\n",
    "    print(it, y, g)\n",
    "\n",
    "    it += 1"
   ]
  },
  {
   "cell_type": "code",
   "execution_count": null,
   "metadata": {},
   "outputs": [],
   "source": []
  },
  {
   "cell_type": "code",
   "execution_count": 9,
   "metadata": {},
   "outputs": [
    {
     "name": "stdout",
     "output_type": "stream",
     "text": [
      "V_AC_0_r = 230.94\n",
      "V_AC_0_i =  0.22\n",
      "V_AC_1_r = -115.47\n",
      "V_AC_1_i = -200.00\n",
      "V_AC_2_r = -115.47\n",
      "V_AC_2_i = 200.00\n",
      "V_AC_3_r =  0.00\n",
      "V_AC_3_i = -0.22\n",
      "V_DC_0_r = 399.99\n",
      "V_DC_0_i =  0.00\n",
      "V_DC_1_r = -399.99\n",
      "V_DC_1_i =  0.00\n",
      "i_vsc_AC_a_r = 2165.06\n",
      "i_vsc_AC_a_i =  4.06\n",
      "i_vsc_AC_b_r =  0.00\n",
      "i_vsc_AC_b_i =  0.00\n",
      "i_vsc_AC_c_r =  0.00\n",
      "i_vsc_AC_c_i =  0.00\n",
      "i_vsc_AC_n_r = -2165.06\n",
      "i_vsc_AC_n_i = -4.06\n",
      "p_vsc_DC = 661334.33\n",
      "i_vsrc_AC_a_r = -2165.06\n",
      "i_vsrc_AC_b_r =  0.00\n",
      "i_vsrc_AC_c_r =  0.00\n",
      "i_vsrc_AC_n_r = 2165.06\n",
      "i_vsrc_AC_a_i = -4.06\n",
      "i_vsrc_AC_b_i =  0.00\n",
      "i_vsrc_AC_c_i =  0.00\n",
      "i_vsrc_AC_n_i =  3.99\n",
      "omega_coi =  0.00\n",
      "p_agc =  0.00\n",
      "i_vsc_AC_a_m = 2165.07\n",
      "i_vsc_AC_b_m =  0.00\n",
      "i_vsc_AC_c_m =  0.00\n",
      "i_vsc_AC_n_m = 2165.07\n",
      "p_vsc_AC = 500000.02\n",
      "q_vsc_AC = 468.75\n",
      "s_vsc_AC = 500000.24\n",
      "p_vsc_loss_AC = 161334.33\n",
      "v_dc_DC = 799.98\n",
      "v_anm_AC = 230.94\n",
      "i_vsrc_AC_a_m = 2165.07\n",
      "i_vsrc_AC_b_m =  0.00\n",
      "i_vsrc_AC_c_m =  0.00\n",
      "i_vsrc_AC_n_m = 2165.07\n",
      "p_AC  = -499999.98\n",
      "q_AC  = 468.75\n",
      "p_h_DC = 661348.00\n",
      "xi_freq =  9.99\n",
      "u_freq =  0.00\n"
     ]
    },
    {
     "data": {
      "text/plain": [
       "3"
      ]
     },
     "execution_count": 9,
     "metadata": {},
     "output_type": "execute_result"
    }
   ],
   "source": [
    "import temp\n",
    "\n",
    "model = temp.model()\n",
    "\n",
    "S_n, U_n = 100e3,400\n",
    "Losses_I0 = 0.01*S_n\n",
    "Losses_I1 = 0.01*S_n\n",
    "Losses_I2 = 0.01*S_n\n",
    "I_n = S_n/(np.sqrt(3)*U_n)\n",
    "A_loss_AC = Losses_I0/3\n",
    "B_loss_AC = Losses_I1/3/I_n\n",
    "C_loss_AC = Losses_I2/3/I_n**2\n",
    "\n",
    "p = 500e3\n",
    "model.ini({'p_vsc_a_AC':p,'p_vsc_b_AC':0,'p_vsc_c_AC':0,\n",
    "           'A_loss_AC':A_loss_AC,'B_loss_AC':B_loss_AC,'C_loss_AC':C_loss_AC},'xy_0.json')\n",
    "model.report_y()\n",
    "model.report_z()\n",
    "model.N_iters"
   ]
  },
  {
   "cell_type": "code",
   "execution_count": 5,
   "metadata": {},
   "outputs": [],
   "source": [
    "V_AC_0_r = 230.94\n",
    "V_AC_0_i =  0.01\n",
    "V_AC_1_r = -115.46\n",
    "V_AC_1_i = -200.01\n",
    "V_AC_2_r = -115.48\n",
    "V_AC_2_i = 199.99\n",
    "V_AC_3_r = -0.00\n",
    "V_AC_3_i =  0.00\n",
    "V_DC_0_r = 399.99\n",
    "V_DC_0_i =  0.00\n",
    "V_DC_1_r = -399.99\n",
    "V_DC_1_i =  0.00\n",
    "i_vsc_AC_a_r = 144.34\n",
    "i_vsc_AC_a_i =  0.01\n",
    "i_vsc_AC_b_r = -72.16\n",
    "i_vsc_AC_b_i = -125.00\n",
    "i_vsc_AC_c_r = -72.18\n",
    "i_vsc_AC_c_i = 125.00\n",
    "i_vsc_AC_n_r =  0.00\n",
    "i_vsc_AC_n_i =  0.00\n",
    "i_vsc_pos_DC_sp = 129.17\n",
    "i_vsc_DC_sn = -129.17\n",
    "p_vsc_DC = 103333.57\n",
    "i_vsrc_AC_a_r = -144.34\n",
    "i_vsrc_AC_b_r = 72.16\n",
    "i_vsrc_AC_c_r = 72.18\n",
    "i_vsrc_AC_n_r = -0.00\n",
    "i_vsrc_AC_a_i = -0.01\n",
    "i_vsrc_AC_b_i = 125.00\n",
    "i_vsrc_AC_c_i = -125.00\n",
    "i_vsrc_AC_n_i = -0.00\n",
    "omega_coi =  0.00\n",
    "p_agc =  0.00\n",
    "i_vsc_AC_a_m = 144.34\n",
    "i_vsc_AC_b_m = 144.34\n",
    "i_vsc_AC_c_m = 144.34\n",
    "i_vsc_AC_n_m =  0.00\n",
    "p_vsc_AC = 100000.00\n",
    "q_vsc_AC =  0.00\n",
    "s_vsc_AC = 100000.00\n",
    "p_vsc_loss_AC = 3333.57\n",
    "v_dc_DC = 799.97\n",
    "v_anm_AC = 230.94\n",
    "i_vsrc_AC_a_m = 144.34\n",
    "i_vsrc_AC_b_m = 144.34\n",
    "i_vsrc_AC_c_m = 144.34\n",
    "i_vsrc_AC_n_m =  0.00\n",
    "p_AC  = -100000.00\n",
    "q_AC  =  0.00\n",
    "p_h_DC = 103336.90\n",
    "xi_freq =  9.99\n",
    "u_freq =  0.00"
   ]
  },
  {
   "cell_type": "code",
   "execution_count": 6,
   "metadata": {},
   "outputs": [
    {
     "name": "stdout",
     "output_type": "stream",
     "text": [
      "V_AC_0_r = 230.94\n",
      "V_AC_0_i =  0.01\n",
      "V_AC_1_r = -115.46\n",
      "V_AC_1_i = -200.01\n",
      "V_AC_2_r = -115.48\n",
      "V_AC_2_i = 199.99\n",
      "V_AC_3_r = -0.00\n",
      "V_AC_3_i =  0.00\n",
      "V_DC_0_r = 400.00\n",
      "V_DC_0_i =  0.00\n",
      "V_DC_1_r = -400.00\n",
      "V_DC_1_i =  0.00\n",
      "i_vsc_AC_a_r = 144.34\n",
      "i_vsc_AC_a_i =  0.01\n",
      "i_vsc_AC_b_r = -72.16\n",
      "i_vsc_AC_b_i = -125.00\n",
      "i_vsc_AC_c_r = -72.18\n",
      "i_vsc_AC_c_i = 125.00\n",
      "i_vsc_AC_n_r =  0.00\n",
      "i_vsc_AC_n_i =  0.00\n",
      "p_vsc_DC = 103333.57\n",
      "i_vsrc_AC_a_r = -144.34\n",
      "i_vsrc_AC_b_r = 72.16\n",
      "i_vsrc_AC_c_r = 72.18\n",
      "i_vsrc_AC_n_r = -0.00\n",
      "i_vsrc_AC_a_i = -0.01\n",
      "i_vsrc_AC_b_i = 125.00\n",
      "i_vsrc_AC_c_i = -125.00\n",
      "i_vsrc_AC_n_i = -0.00\n",
      "omega_coi =  0.00\n",
      "p_agc =  0.00\n"
     ]
    }
   ],
   "source": [
    "model.report_y()"
   ]
  },
  {
   "cell_type": "code",
   "execution_count": null,
   "metadata": {},
   "outputs": [],
   "source": []
  }
 ],
 "metadata": {
  "kernelspec": {
   "display_name": "base",
   "language": "python",
   "name": "python3"
  },
  "language_info": {
   "codemirror_mode": {
    "name": "ipython",
    "version": 3
   },
   "file_extension": ".py",
   "mimetype": "text/x-python",
   "name": "python",
   "nbconvert_exporter": "python",
   "pygments_lexer": "ipython3",
   "version": "3.11.7"
  }
 },
 "nbformat": 4,
 "nbformat_minor": 2
}
