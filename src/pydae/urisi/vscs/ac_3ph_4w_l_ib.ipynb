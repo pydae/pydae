{
 "cells": [
  {
   "cell_type": "markdown",
   "metadata": {},
   "source": []
  },
  {
   "cell_type": "code",
   "execution_count": 1,
   "metadata": {},
   "outputs": [],
   "source": [
    "import numpy as np\n",
    "import sympy as sym\n",
    "import json\n",
    "from pydae.urisi.urisi_builder import urisi\n",
    "\n",
    "import temp"
   ]
  },
  {
   "cell_type": "code",
   "execution_count": 8,
   "metadata": {},
   "outputs": [
    {
     "name": "stdout",
     "output_type": "stream",
     "text": [
      "V_A1_0_r = 231.40\n",
      "V_A1_0_i =  0.34\n",
      "V_A1_1_r = -115.42\n",
      "V_A1_1_i = -200.51\n",
      "V_A1_2_r = -115.92\n",
      "V_A1_2_i = 200.15\n",
      "V_A1_3_r = -0.06\n",
      "V_A1_3_i =  0.02\n",
      "V_A2_0_r = 230.94\n",
      "V_A2_0_i =  0.01\n",
      "V_A2_1_r = -115.46\n",
      "V_A2_1_i = -200.00\n",
      "V_A2_2_r = -115.48\n",
      "V_A2_2_i = 199.99\n",
      "V_A2_3_r =  0.00\n",
      "V_A2_3_i = -0.00\n",
      "i_vsc_A1_a_r = 139.29\n",
      "i_vsc_A1_b_r = -49.91\n",
      "i_vsc_A1_c_r = -89.24\n",
      "i_vsc_A1_n_r = -0.14\n",
      "v_A1_o_r = -0.00\n",
      "p_dc_A1 = 100186.24\n",
      "i_dc_A1 = 125.23\n",
      "i_vsc_A1_a_i = 23.46\n",
      "i_vsc_A1_b_i = -132.53\n",
      "i_vsc_A1_c_i = 109.66\n",
      "i_vsc_A1_n_i = -0.59\n",
      "v_A1_o_i = -0.00\n",
      "p_pos_A1 = 96868.13\n",
      "q_pos_A1 = -15820.02\n",
      "i_vsrc_A2_a_r = -139.29\n",
      "i_vsrc_A2_b_r = 49.91\n",
      "i_vsrc_A2_c_r = 89.24\n",
      "i_vsrc_A2_n_r =  0.14\n",
      "i_vsrc_A2_a_i = -23.46\n",
      "i_vsrc_A2_b_i = 132.53\n",
      "i_vsrc_A2_c_i = -109.66\n",
      "i_vsrc_A2_n_i =  0.59\n",
      "omega_coi =  1.00\n",
      "p_agc =  0.00\n",
      "i_l_A1_0_A2_0_r = 139.29\n",
      "i_l_A1_0_A2_0_i = 23.46\n",
      "i_l_A1_1_A2_1_r = -49.91\n",
      "i_l_A1_1_A2_1_i = -132.53\n",
      "i_l_A1_2_A2_2_r = -89.24\n",
      "i_l_A1_2_A2_2_i = 109.66\n",
      "i_l_A1_3_A2_3_r = -0.14\n",
      "i_l_A1_3_A2_3_i = -0.59\n",
      "i_vsc_A1_a_m = 141.25\n",
      "i_vsc_A1_b_m = 141.62\n",
      "i_vsc_A1_c_m = 141.39\n",
      "i_vsc_A1_n_m =  0.61\n",
      "p_A1_pos = 96868.13\n",
      "p_A1_neg = -0.00\n",
      "p_A1_zer = -0.00\n",
      "m_a_A1 =  0.71\n",
      "m_b_A1 =  0.71\n",
      "m_c_A1 =  0.71\n",
      "m_n_A1 =  0.00\n",
      "phi_A1 =  0.00\n",
      "p_dc_A1 = 100186.24\n",
      "p_s_total_A1 = 96875.46\n",
      "i_vsrc_A2_a_m = 141.25\n",
      "i_vsrc_A2_b_m = 141.62\n",
      "i_vsrc_A2_c_m = 141.39\n",
      "i_vsrc_A2_n_m =  0.61\n",
      "p_A2  = -96673.73\n",
      "q_A2  = 15917.51\n",
      "xi_freq =  0.00\n",
      "u_freq =  0.00\n"
     ]
    }
   ],
   "source": [
    "model = temp.model()\n",
    "params = {}  \n",
    "params = {\n",
    "'m_a_A1': 0.707,\n",
    "'m_b_A1': 0.707,\n",
    "'m_c_A1': 0.707,\n",
    "'phi_a_A1':       0.0+0.02*np.pi,\n",
    "'phi_b_A1':-2/3*np.pi+0.02*np.pi,\n",
    "'phi_c_A1':-4/3*np.pi+0.02*np.pi\n",
    "}\n",
    "model.ini(params,'xy_0.json')\n",
    "\n",
    "# params = {\n",
    "#     'p_load_A2_a':1.0e3,\n",
    "#     'p_load_A2_b':1.0e3,\n",
    "#     'p_load_A2_c':1.0e3,\n",
    "#     'q_load_A2_a':0.0,\n",
    "#     'q_load_A2_b':0.0,\n",
    "#     'q_load_A2_c':0.0,\n",
    "# }\n",
    "\n",
    "# model.ini(params)\n",
    "\n",
    "model.report_y()\n",
    "model.report_z()\n",
    " "
   ]
  },
  {
   "cell_type": "code",
   "execution_count": 3,
   "metadata": {},
   "outputs": [
    {
     "name": "stdout",
     "output_type": "stream",
     "text": [
      "v_dc_A1 =800.00\n",
      "m_a_A1 = 0.75\n",
      "m_b_A1 = 0.75\n",
      "m_c_A1 = 0.75\n",
      "m_n_A1 = 0.00\n",
      "phi_A1 = 0.00\n",
      "phi_a_A1 = 0.00\n",
      "phi_b_A1 = 0.00\n",
      "phi_c_A1 = 0.00\n",
      "phi_n_A1 = 0.00\n",
      "e_ao_m_A2 =230.94\n",
      "e_bo_m_A2 =230.94\n",
      "e_co_m_A2 =230.94\n",
      "e_no_m_A2 = 0.00\n",
      "phi_A2 = 0.00\n",
      "u_freq = 0.00\n"
     ]
    }
   ],
   "source": [
    "model.report_u()"
   ]
  },
  {
   "cell_type": "code",
   "execution_count": null,
   "metadata": {},
   "outputs": [],
   "source": []
  }
 ],
 "metadata": {
  "kernelspec": {
   "display_name": "base",
   "language": "python",
   "name": "python3"
  },
  "language_info": {
   "codemirror_mode": {
    "name": "ipython",
    "version": 3
   },
   "file_extension": ".py",
   "mimetype": "text/x-python",
   "name": "python",
   "nbconvert_exporter": "python",
   "pygments_lexer": "ipython3",
   "version": "3.11.7"
  }
 },
 "nbformat": 4,
 "nbformat_minor": 2
}
