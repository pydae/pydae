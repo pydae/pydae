{
 "cells": [
  {
   "cell_type": "markdown",
   "metadata": {},
   "source": []
  },
  {
   "cell_type": "code",
   "execution_count": 1,
   "metadata": {},
   "outputs": [],
   "source": [
    "import numpy as np\n",
    "import sympy as sym\n",
    "import json\n",
    "from pydae.urisi.urisi_builder import urisi\n",
    "\n",
    "import temp"
   ]
  },
  {
   "cell_type": "code",
   "execution_count": 6,
   "metadata": {},
   "outputs": [
    {
     "name": "stdout",
     "output_type": "stream",
     "text": [
      "V_A1_0_r = 217.37\n",
      "V_A1_0_i = -43.67\n",
      "V_A1_1_r = -146.41\n",
      "V_A1_1_i = -166.49\n",
      "V_A1_2_r = -71.07\n",
      "V_A1_2_i = 210.11\n",
      "V_A1_3_r =  0.11\n",
      "V_A1_3_i =  0.04\n",
      "V_A2_0_r = 215.60\n",
      "V_A2_0_i = -44.09\n",
      "V_A2_1_r = -145.94\n",
      "V_A2_1_i = -164.94\n",
      "V_A2_2_r = -69.92\n",
      "V_A2_2_i = 209.13\n",
      "V_A2_3_r =  0.26\n",
      "V_A2_3_i = -0.09\n",
      "i_load_A2_a_r = -445.76\n",
      "i_load_A2_a_i = 91.08\n",
      "i_load_A2_b_r = 301.13\n",
      "i_load_A2_b_i = 339.55\n",
      "i_load_A2_c_r = 144.11\n",
      "i_load_A2_c_i = -429.62\n",
      "i_load_A2_n_r =  0.52\n",
      "i_load_A2_n_i = -1.01\n",
      "i_vsc_A1_a_r = 445.76\n",
      "i_vsc_A1_b_r = -301.13\n",
      "i_vsc_A1_c_r = -144.11\n",
      "i_vsc_A1_n_r = -0.52\n",
      "v_A1_o_r = -0.00\n",
      "p_dc_A1 = 320775.86\n",
      "i_dc_A1 = 400.97\n",
      "i_vsc_A1_a_i = -91.08\n",
      "i_vsc_A1_b_i = -339.55\n",
      "i_vsc_A1_c_i = 429.62\n",
      "i_vsc_A1_n_i =  1.01\n",
      "v_A1_o_i = -0.00\n",
      "p_pos_A1 = 302003.36\n",
      "q_pos_A1 = 1006.57\n",
      "omega_coi =  1.00\n",
      "p_agc =  0.00\n",
      "i_l_A1_0_A2_0_r = 445.76\n",
      "i_l_A1_0_A2_0_i = -91.08\n",
      "i_l_A1_1_A2_1_r = -301.13\n",
      "i_l_A1_1_A2_1_i = -339.55\n",
      "i_l_A1_2_A2_2_r = -144.11\n",
      "i_l_A1_2_A2_2_i = 429.62\n",
      "i_l_A1_3_A2_3_r = -0.52\n",
      "i_l_A1_3_A2_3_i =  1.01\n",
      "v_anm_A2 = 220.07\n",
      "v_bnm_A2 = 220.24\n",
      "v_cnm_A2 = 220.51\n",
      "i_vsc_A1_a_m = 454.97\n",
      "i_vsc_A1_b_m = 453.84\n",
      "i_vsc_A1_c_m = 453.14\n",
      "i_vsc_A1_n_m =  1.14\n",
      "p_A1_pos = 302003.36\n",
      "p_A1_neg = -0.02\n",
      "p_A1_zer = -0.00\n",
      "m_a_A1 =  0.71\n",
      "m_b_A1 =  0.71\n",
      "m_c_A1 =  0.71\n",
      "m_n_A1 =  0.00\n",
      "phi_A1 =  0.00\n",
      "p_dc_A1 = 320775.86\n",
      "p_s_total_A1 = 302005.91\n",
      "xi_freq =  0.00\n",
      "u_freq =  0.00\n"
     ]
    }
   ],
   "source": [
    "model = temp.model()\n",
    "params = {}  \n",
    "params = {\n",
    "    'p_load_A2_a':100.0e3,\n",
    "    'p_load_A2_b':100.0e3,\n",
    "    'p_load_A2_c':100.0e3,\n",
    "    'q_load_A2_a':0.0,\n",
    "    'q_load_A2_b':0.0,\n",
    "    'q_load_A2_c':0.0,\n",
    "}\n",
    "model.ini(params,'xy_0.json')\n",
    "\n",
    "# params = {\n",
    "#     'p_load_A2_a':1.0e3,\n",
    "#     'p_load_A2_b':1.0e3,\n",
    "#     'p_load_A2_c':1.0e3,\n",
    "#     'q_load_A2_a':0.0,\n",
    "#     'q_load_A2_b':0.0,\n",
    "#     'q_load_A2_c':0.0,\n",
    "# }\n",
    "\n",
    "# model.ini(params)\n",
    "\n",
    "model.report_y()\n",
    "model.report_z()\n",
    " "
   ]
  },
  {
   "cell_type": "code",
   "execution_count": 4,
   "metadata": {},
   "outputs": [
    {
     "name": "stdout",
     "output_type": "stream",
     "text": [
      "v_dc_A1 =800.00\n",
      "m_a_A1 = 0.71\n",
      "m_b_A1 = 0.71\n",
      "m_c_A1 = 0.71\n",
      "m_n_A1 = 0.00\n",
      "phi_A1 = 0.00\n",
      "phi_a_A1 = 0.00\n",
      "phi_b_A1 = 0.00\n",
      "phi_c_A1 = 0.00\n",
      "phi_n_A1 = 0.00\n",
      "e_ao_m_A2 =230.94\n",
      "e_bo_m_A2 =230.94\n",
      "e_co_m_A2 =230.94\n",
      "e_no_m_A2 = 0.00\n",
      "phi_A2 = 0.00\n",
      "u_freq = 0.00\n"
     ]
    }
   ],
   "source": [
    "model.report_u()"
   ]
  },
  {
   "cell_type": "code",
   "execution_count": null,
   "metadata": {},
   "outputs": [],
   "source": []
  }
 ],
 "metadata": {
  "kernelspec": {
   "display_name": "base",
   "language": "python",
   "name": "python3"
  },
  "language_info": {
   "codemirror_mode": {
    "name": "ipython",
    "version": 3
   },
   "file_extension": ".py",
   "mimetype": "text/x-python",
   "name": "python",
   "nbconvert_exporter": "python",
   "pygments_lexer": "ipython3",
   "version": "3.11.7"
  }
 },
 "nbformat": 4,
 "nbformat_minor": 2
}
