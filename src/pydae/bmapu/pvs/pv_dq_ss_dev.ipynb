{
 "cells": [
  {
   "cell_type": "code",
   "execution_count": 4,
   "metadata": {},
   "outputs": [],
   "source": [
    "import numpy as np\n",
    "import sympy as sym"
   ]
  },
  {
   "cell_type": "markdown",
   "metadata": {},
   "source": [
    "## Input data"
   ]
  },
  {
   "cell_type": "code",
   "execution_count": 15,
   "metadata": {},
   "outputs": [],
   "source": [
    "name = 'B1'\n",
    "A_num = np.array([[1,2],[2.,3]])\n",
    "B_num = np.array([[1],[3.]])\n",
    "C_num = np.array([[1.,0]])\n",
    "D_num = np.array([[0.]])"
   ]
  },
  {
   "cell_type": "code",
   "execution_count": null,
   "metadata": {},
   "outputs": [],
   "source": []
  },
  {
   "cell_type": "markdown",
   "metadata": {},
   "source": [
    "## Generic symbolic linear model"
   ]
  },
  {
   "cell_type": "code",
   "execution_count": 27,
   "metadata": {},
   "outputs": [],
   "source": [
    "def ss_num2sym(name,A_num,B_num,C_num,D_num):\n",
    "    N_x = B_num.shape[0]\n",
    "    N_u = B_num.shape[1]\n",
    "    N_z = C_num.shape[0]\n",
    "\n",
    "    u = sym.Matrix.zeros(N_u,1)\n",
    "    x = sym.Matrix.zeros(N_x,1)\n",
    "    z = sym.Matrix.zeros(N_z,1)\n",
    "\n",
    "    A = sym.Matrix.zeros(N_x,N_x)\n",
    "    B = sym.Matrix.zeros(N_x,N_u)\n",
    "    C = sym.Matrix.zeros(N_z,N_x)\n",
    "    D = sym.Matrix.zeros(N_z,N_u)\n",
    "    params = {}\n",
    "\n",
    "    if name == '':\n",
    "        subfix = f'{name}'\n",
    "    else:\n",
    "        subfix = f'_{name}'        \n",
    "\n",
    "    for row in range(N_u):\n",
    "        con_str = f'u_{row}{subfix}'\n",
    "        u_i = sym.Symbol(con_str)\n",
    "        u[row,0] = u_i\n",
    "\n",
    "    for row in range(N_x):\n",
    "        con_str = f'x_{row}{subfix}'\n",
    "        x_i = sym.Symbol(con_str)\n",
    "        x[row,0] = x_i\n",
    "\n",
    "    for row in range(N_x):\n",
    "        for col in range(N_x):\n",
    "            con_str = f'A_{row}{col}{subfix}'\n",
    "            A_ii = sym.Symbol(con_str)\n",
    "            A[row,col] = A_ii\n",
    "            params.update({f'A_{row}{col}':A_num[row,col]})\n",
    "\n",
    "    for row in range(N_x):\n",
    "        for col in range(N_u):\n",
    "            con_str = f'B_{row}{col}{subfix}'\n",
    "            B_ii = sym.Symbol(con_str)\n",
    "            B[row,col] = B_ii\n",
    "            params.update({f'B_{row}{col}':B_num[row,col]})\n",
    "\n",
    "    for row in range(N_z):\n",
    "        for col in range(N_x):\n",
    "            con_str = f'C_{row}{col}{subfix}'\n",
    "            C_ii = sym.Symbol(con_str)\n",
    "            C[row,col] = C_ii\n",
    "            params.update({f'C_{row}{col}':C_num[row,col]})\n",
    "\n",
    "    for row in range(N_z):\n",
    "        for col in range(N_u):\n",
    "            con_str = f'D_{row}{col}{subfix}'\n",
    "            D_ii = sym.Symbol(con_str)\n",
    "            D[row,col] = D_ii\n",
    "            params.update({f'D_{row}{col}':D_num[row,col]})\n",
    "\n",
    "    dx = A @ x + B @ u\n",
    "    z_evaluated  = C @ x + D @ u\n",
    "\n",
    "    return {'x':x,'u':u,'z':z,\n",
    "            'A':A,'B':B,'C':C,'D':D, \n",
    "            'dx':dx,'z_evaluated':z_evaluated}\n"
   ]
  },
  {
   "cell_type": "code",
   "execution_count": 28,
   "metadata": {},
   "outputs": [],
   "source": [
    "sys = ss_num2sym('',A_num,B_num,C_num,D_num)"
   ]
  },
  {
   "cell_type": "code",
   "execution_count": 29,
   "metadata": {},
   "outputs": [
    {
     "data": {
      "text/latex": [
       "$\\displaystyle \\left[\\begin{matrix}A_{00} x_{0} + A_{01} x_{1}\\\\A_{10} x_{0} + A_{11} x_{1}\\end{matrix}\\right]$"
      ],
      "text/plain": [
       "Matrix([\n",
       "[A_00*x_0 + A_01*x_1],\n",
       "[A_10*x_0 + A_11*x_1]])"
      ]
     },
     "execution_count": 29,
     "metadata": {},
     "output_type": "execute_result"
    }
   ],
   "source": [
    "sys['A'] @ sys['x']"
   ]
  },
  {
   "cell_type": "code",
   "execution_count": null,
   "metadata": {},
   "outputs": [],
   "source": []
  }
 ],
 "metadata": {
  "kernelspec": {
   "display_name": "base",
   "language": "python",
   "name": "python3"
  },
  "language_info": {
   "codemirror_mode": {
    "name": "ipython",
    "version": 3
   },
   "file_extension": ".py",
   "mimetype": "text/x-python",
   "name": "python",
   "nbconvert_exporter": "python",
   "pygments_lexer": "ipython3",
   "version": "3.11.7"
  }
 },
 "nbformat": 4,
 "nbformat_minor": 2
}
