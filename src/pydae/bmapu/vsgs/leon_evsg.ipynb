{
 "cells": [
  {
   "cell_type": "code",
   "execution_count": 1,
   "metadata": {},
   "outputs": [],
   "source": [
    "import numpy as np\n",
    "import matplotlib.pyplot as plt\n",
    "import temp\n",
    "from pydae import ssa"
   ]
  },
  {
   "cell_type": "code",
   "execution_count": 2,
   "metadata": {},
   "outputs": [
    {
     "name": "stdout",
     "output_type": "stream",
     "text": [
      "delta_1 =  0.00\n",
      "x_v_1 =  0.00\n",
      "x_w_1 =  0.00\n",
      "e_qm_1 =  0.00\n",
      "xi_v_1 =  0.00\n",
      "delta_2 =  0.00\n",
      "Domega_2 =  0.00\n",
      "Dv_2  =  0.00\n",
      "xi_freq =  0.00\n",
      "V_1   =  1.00\n",
      "theta_1 =  0.00\n",
      "V_2   =  1.00\n",
      "theta_2 =  0.00\n",
      "i_d_ref_1 =  0.00\n",
      "i_q_ref_1 =  0.00\n",
      "p_1   =  0.00\n",
      "q_1   =  0.00\n",
      "e_qv_1 =  1.00\n",
      "omega_2 =  1.00\n",
      "i_d_2 =  0.00\n",
      "i_q_2 =  0.00\n",
      "p_s_2 =  0.00\n",
      "q_s_2 =  0.00\n",
      "omega_coi =  1.00\n",
      "p_agc =  0.00\n"
     ]
    }
   ],
   "source": [
    "model = temp.model()\n",
    "model.ini({},'xy_0.json')\n",
    "\n",
    "model.report_x()\n",
    "model.report_y()\n"
   ]
  },
  {
   "cell_type": "code",
   "execution_count": 3,
   "metadata": {},
   "outputs": [
    {
     "data": {
      "text/html": [
       "<div>\n",
       "<style scoped>\n",
       "    .dataframe tbody tr th:only-of-type {\n",
       "        vertical-align: middle;\n",
       "    }\n",
       "\n",
       "    .dataframe tbody tr th {\n",
       "        vertical-align: top;\n",
       "    }\n",
       "\n",
       "    .dataframe thead th {\n",
       "        text-align: right;\n",
       "    }\n",
       "</style>\n",
       "<table border=\"1\" class=\"dataframe\">\n",
       "  <thead>\n",
       "    <tr style=\"text-align: right;\">\n",
       "      <th></th>\n",
       "      <th>Real</th>\n",
       "      <th>Imag</th>\n",
       "      <th>Freq.</th>\n",
       "      <th>Damp</th>\n",
       "      <th>Participation</th>\n",
       "    </tr>\n",
       "  </thead>\n",
       "  <tbody>\n",
       "    <tr>\n",
       "      <th>Mode 1</th>\n",
       "      <td>-1.000000e-06</td>\n",
       "      <td>0.000000</td>\n",
       "      <td>0.000000</td>\n",
       "      <td>1.000000</td>\n",
       "      <td>[xi_freq]</td>\n",
       "    </tr>\n",
       "    <tr>\n",
       "      <th>Mode 2</th>\n",
       "      <td>-7.227009e+01</td>\n",
       "      <td>0.000000</td>\n",
       "      <td>0.000000</td>\n",
       "      <td>1.000000</td>\n",
       "      <td>[x_w_1]</td>\n",
       "    </tr>\n",
       "    <tr>\n",
       "      <th>Mode 3</th>\n",
       "      <td>-7.219025e+00</td>\n",
       "      <td>7.237802</td>\n",
       "      <td>1.151932</td>\n",
       "      <td>0.706188</td>\n",
       "      <td>[delta_1, x_v_1]</td>\n",
       "    </tr>\n",
       "    <tr>\n",
       "      <th>Mode 4</th>\n",
       "      <td>-7.219025e+00</td>\n",
       "      <td>-7.237802</td>\n",
       "      <td>1.151932</td>\n",
       "      <td>0.706188</td>\n",
       "      <td>[delta_1, x_v_1]</td>\n",
       "    </tr>\n",
       "    <tr>\n",
       "      <th>Mode 5</th>\n",
       "      <td>-6.744519e+02</td>\n",
       "      <td>0.000000</td>\n",
       "      <td>0.000000</td>\n",
       "      <td>1.000000</td>\n",
       "      <td>[e_qm_1]</td>\n",
       "    </tr>\n",
       "    <tr>\n",
       "      <th>Mode 6</th>\n",
       "      <td>-9.999999e-07</td>\n",
       "      <td>0.000000</td>\n",
       "      <td>0.000000</td>\n",
       "      <td>1.000000</td>\n",
       "      <td>[delta_2]</td>\n",
       "    </tr>\n",
       "    <tr>\n",
       "      <th>Mode 7</th>\n",
       "      <td>-9.950248e-08</td>\n",
       "      <td>0.000000</td>\n",
       "      <td>0.000000</td>\n",
       "      <td>1.000000</td>\n",
       "      <td>[xi_v_1]</td>\n",
       "    </tr>\n",
       "    <tr>\n",
       "      <th>Mode 8</th>\n",
       "      <td>-1.000000e-06</td>\n",
       "      <td>0.000000</td>\n",
       "      <td>0.000000</td>\n",
       "      <td>1.000000</td>\n",
       "      <td>[Domega_2]</td>\n",
       "    </tr>\n",
       "    <tr>\n",
       "      <th>Mode 9</th>\n",
       "      <td>-1.000000e-06</td>\n",
       "      <td>0.000000</td>\n",
       "      <td>0.000000</td>\n",
       "      <td>1.000000</td>\n",
       "      <td>[Dv_2]</td>\n",
       "    </tr>\n",
       "  </tbody>\n",
       "</table>\n",
       "</div>"
      ],
      "text/plain": [
       "                Real      Imag     Freq.      Damp     Participation\n",
       "Mode 1 -1.000000e-06  0.000000  0.000000  1.000000         [xi_freq]\n",
       "Mode 2 -7.227009e+01  0.000000  0.000000  1.000000           [x_w_1]\n",
       "Mode 3 -7.219025e+00  7.237802  1.151932  0.706188  [delta_1, x_v_1]\n",
       "Mode 4 -7.219025e+00 -7.237802  1.151932  0.706188  [delta_1, x_v_1]\n",
       "Mode 5 -6.744519e+02  0.000000  0.000000  1.000000          [e_qm_1]\n",
       "Mode 6 -9.999999e-07  0.000000  0.000000  1.000000         [delta_2]\n",
       "Mode 7 -9.950248e-08  0.000000  0.000000  1.000000          [xi_v_1]\n",
       "Mode 8 -1.000000e-06  0.000000  0.000000  1.000000        [Domega_2]\n",
       "Mode 9 -1.000000e-06  0.000000  0.000000  1.000000            [Dv_2]"
      ]
     },
     "execution_count": 3,
     "metadata": {},
     "output_type": "execute_result"
    }
   ],
   "source": [
    "ssa.A_eval(model)\n",
    "ssa.damp_report(model)"
   ]
  },
  {
   "cell_type": "code",
   "execution_count": 7,
   "metadata": {},
   "outputs": [],
   "source": [
    "model = temp.model()\n",
    "model.ini({},'xy_0.json')\n",
    "model.run(0.1,{})\n",
    "model.run(1.1,{'alpha_2':-0.02})\n",
    "model.run(2.0,{'alpha_2': 0.0})\n",
    "model.post();\n"
   ]
  },
  {
   "cell_type": "code",
   "execution_count": 8,
   "metadata": {},
   "outputs": [
    {
     "data": {
      "image/png": "[encoded data removed]",
      "text/plain": [
       "<Figure size 640x480 with 2 Axes>"
      ]
     },
     "metadata": {},
     "output_type": "display_data"
    }
   ],
   "source": [
    "fig,axes = plt.subplots(nrows=2)\n",
    "\n",
    "axes[0].plot(model.Time,-2*5*model.get_values('alpha_2'))\n",
    "axes[0].plot(model.Time,model.get_values('p_1'))\n",
    "axes[1].plot(model.Time,model.get_values('omega_coi'))\n",
    "axes[1].plot(model.Time,model.get_values('omega_v_1'))\n",
    "\n",
    "for ax in axes:\n",
    "    ax.grid()\n",
    "    ax.set_xlim([0,2])"
   ]
  },
  {
   "cell_type": "code",
   "execution_count": 6,
   "metadata": {},
   "outputs": [
    {
     "name": "stdout",
     "output_type": "stream",
     "text": [
      "V_1   =  1.00\n",
      "V_2   =  1.00\n",
      "omega_v_1 =  0.98\n",
      "p_ref_1 =  0.00\n",
      "q_ref_1 =  0.00\n",
      "v_ref_1 =  1.00\n",
      "i_sd_1 = -0.00\n",
      "i_sq_1 =  0.00\n",
      "alpha_2 =  0.00\n",
      "Dv_2  =  0.00\n"
     ]
    }
   ],
   "source": [
    "model.report_z()"
   ]
  },
  {
   "cell_type": "code",
   "execution_count": null,
   "metadata": {},
   "outputs": [],
   "source": []
  }
 ],
 "metadata": {
  "kernelspec": {
   "display_name": "base",
   "language": "python",
   "name": "python3"
  },
  "language_info": {
   "codemirror_mode": {
    "name": "ipython",
    "version": 3
   },
   "file_extension": ".py",
   "mimetype": "text/x-python",
   "name": "python",
   "nbconvert_exporter": "python",
   "pygments_lexer": "ipython3",
   "version": "3.11.5"
  }
 },
 "nbformat": 4,
 "nbformat_minor": 2
}
