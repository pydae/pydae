{
 "cells": [
  {
   "cell_type": "code",
   "execution_count": 106,
   "metadata": {},
   "outputs": [],
   "source": [
    "import numpy as np\n",
    "import matplotlib.pyplot as plt\n",
    "import temp\n",
    "from pydae import ssa\n",
    "from pydae.bmapu.lines import change_line"
   ]
  },
  {
   "cell_type": "code",
   "execution_count": 97,
   "metadata": {},
   "outputs": [],
   "source": [
    "Tfast = 50e-6\n",
    "Ts_Control = 50e-6\n",
    "#LPF power\n",
    "fc= 30\n",
    "# Filter parameter\n",
    "Lt=2.5e-3\n",
    "Rt=.1\n",
    "Ls=Lt\n",
    "Rs=Rt\n",
    "Rd = 27\n",
    "C = 1e-6\n",
    "\n",
    "# Switching frequency\n",
    "fs = 10e3\n",
    "#dead time\n",
    "dt = 0.1e-6\n",
    "\n",
    "# PI current controller gains\n",
    "tau_c = 1e-3\n",
    "L = Ls + Lt\n",
    "R = Rs + Rt\n",
    "Kp_i = L/tau_c\n",
    "Ki_i = R/tau_c\n",
    "\n",
    "#Ton contactor\n",
    "T_on_contactor = 0.1\n",
    "\n",
    "#VSG\n",
    "S_b = 20e3\n",
    "U_b = 400\n",
    "I_b = S_b/(np.sqrt(3)*U_b)\n",
    "Z_b = U_b**2/S_b\n",
    "I_bdq = I_b*np.sqrt(2)\n",
    "U_bdq = U_b*(np.sqrt(2/3))\n",
    "\n",
    "H = 2.5 # desired virtual inertia \n",
    "Kp_p = 0.01 # active power proportinal gain\n",
    "Ki_p = 1.0/(2.0*H) #proportional gain active power control loop\n",
    "Kp_q = 0.1\n",
    "Ki_q = 10.0\n",
    "Xv = 0.1\n",
    "Rv = 0.0\n",
    "e_o = 0.8\n",
    "omega_base = 1.0\n",
    "\n",
    "#LPF VSG\n",
    "tau_vsg = 2.4e-3\n",
    "\n",
    "# Swing equation\n",
    "D_1 = 0.0;\n",
    "D_2 =50.0;\n",
    "Omega_d = 10.0;\n",
    "\n",
    "K_pv = 5.0;\n",
    "K_iv =200.0;\n",
    "\n",
    "T_pf = 0.02;\n",
    "T_qf = 0.02;\n",
    "T_vf = 0.02;\n",
    "\n",
    "X_v = 2*np.pi*50*(Ls+Lt)/Z_b\n",
    "R_v = (Rs+Rt)/Z_b"
   ]
  },
  {
   "cell_type": "code",
   "execution_count": 110,
   "metadata": {},
   "outputs": [
    {
     "name": "stdout",
     "output_type": "stream",
     "text": [
      "delta_v_1 =  0.00\n",
      "Domega_m_1 =  0.00\n",
      "x_d2_1 =  0.00\n",
      "xi_v_1 =  0.00\n",
      "delta_2 =  0.00\n",
      "Domega_2 =  0.00\n",
      "Dv_2  =  0.00\n",
      "xi_freq =  0.00\n",
      "V_1   =  1.00\n",
      "theta_1 =  0.00\n",
      "V_2   =  1.00\n",
      "theta_2 =  0.00\n",
      "i_d_ref_1 =  0.00\n",
      "i_q_ref_1 =  0.00\n",
      "p_1   =  0.00\n",
      "q_1   =  0.00\n",
      "omega_2 =  1.00\n",
      "i_d_2 =  0.00\n",
      "i_q_2 =  0.00\n",
      "p_s_2 =  0.00\n",
      "q_s_2 =  0.00\n",
      "omega_coi =  1.00\n",
      "p_agc =  0.00\n"
     ]
    }
   ],
   "source": [
    "model = temp.model()\n",
    "params = {'H_1':2.5,'D_1_1':0,'D_2_1':50,'Omega_d_1':10,'X_v_1':X_v,'R_v_1':R_v,'K_pv_1':K_pv,'K_iv_1':K_iv} \n",
    "change_line(model, '1', '2',X = X_v/2/3,R = 0)\n",
    "model.ini(params,'xy_0.json')\n",
    "\n",
    "model.report_x()\n",
    "model.report_y()\n"
   ]
  },
  {
   "cell_type": "code",
   "execution_count": 111,
   "metadata": {},
   "outputs": [
    {
     "name": "stdout",
     "output_type": "stream",
     "text": [
      "P_1   = 0.00\n",
      "Q_1   = 0.00\n",
      "P_2   = 0.00\n",
      "Q_2   = 0.00\n",
      "p_l_1 = 0.00\n",
      "q_l_1 = 0.00\n",
      "p_r_1 = 0.00\n",
      "q_r_1 = 0.00\n",
      "v_ref_1 = 1.00\n",
      "alpha_2 = 0.00\n",
      "v_ref_2 = 1.00\n",
      "omega_ref_2 = 1.00\n",
      "delta_ref_2 = 0.00\n",
      "phi_2 = 0.00\n",
      "rocov_2 = 0.00\n"
     ]
    }
   ],
   "source": [
    "model.report_u()"
   ]
  },
  {
   "cell_type": "code",
   "execution_count": 112,
   "metadata": {},
   "outputs": [
    {
     "data": {
      "text/html": [
       "<div>\n",
       "<style scoped>\n",
       "    .dataframe tbody tr th:only-of-type {\n",
       "        vertical-align: middle;\n",
       "    }\n",
       "\n",
       "    .dataframe tbody tr th {\n",
       "        vertical-align: top;\n",
       "    }\n",
       "\n",
       "    .dataframe thead th {\n",
       "        text-align: right;\n",
       "    }\n",
       "</style>\n",
       "<table border=\"1\" class=\"dataframe\">\n",
       "  <thead>\n",
       "    <tr style=\"text-align: right;\">\n",
       "      <th></th>\n",
       "      <th>Real</th>\n",
       "      <th>Imag</th>\n",
       "      <th>Freq.</th>\n",
       "      <th>Damp</th>\n",
       "      <th>Participation</th>\n",
       "    </tr>\n",
       "  </thead>\n",
       "  <tbody>\n",
       "    <tr>\n",
       "      <th>Mode 1</th>\n",
       "      <td>-0.000001</td>\n",
       "      <td>0.000000</td>\n",
       "      <td>0.000000</td>\n",
       "      <td>1.000000</td>\n",
       "      <td>[xi_freq]</td>\n",
       "    </tr>\n",
       "    <tr>\n",
       "      <th>Mode 2</th>\n",
       "      <td>-3.123425</td>\n",
       "      <td>14.805061</td>\n",
       "      <td>2.356299</td>\n",
       "      <td>0.206426</td>\n",
       "      <td>[delta_v_1, Domega_m_1]</td>\n",
       "    </tr>\n",
       "    <tr>\n",
       "      <th>Mode 3</th>\n",
       "      <td>-3.123425</td>\n",
       "      <td>-14.805061</td>\n",
       "      <td>2.356299</td>\n",
       "      <td>0.206426</td>\n",
       "      <td>[delta_v_1, Domega_m_1]</td>\n",
       "    </tr>\n",
       "    <tr>\n",
       "      <th>Mode 4</th>\n",
       "      <td>-13.752800</td>\n",
       "      <td>0.000000</td>\n",
       "      <td>0.000000</td>\n",
       "      <td>1.000000</td>\n",
       "      <td>[x_d2_1]</td>\n",
       "    </tr>\n",
       "    <tr>\n",
       "      <th>Mode 5</th>\n",
       "      <td>-0.022024</td>\n",
       "      <td>0.000000</td>\n",
       "      <td>0.000000</td>\n",
       "      <td>1.000000</td>\n",
       "      <td>[xi_v_1]</td>\n",
       "    </tr>\n",
       "    <tr>\n",
       "      <th>Mode 6</th>\n",
       "      <td>-0.001000</td>\n",
       "      <td>0.000000</td>\n",
       "      <td>0.000000</td>\n",
       "      <td>1.000000</td>\n",
       "      <td>[delta_2]</td>\n",
       "    </tr>\n",
       "    <tr>\n",
       "      <th>Mode 7</th>\n",
       "      <td>-0.100000</td>\n",
       "      <td>0.000000</td>\n",
       "      <td>0.000000</td>\n",
       "      <td>1.000000</td>\n",
       "      <td>[Domega_2]</td>\n",
       "    </tr>\n",
       "    <tr>\n",
       "      <th>Mode 8</th>\n",
       "      <td>-0.000001</td>\n",
       "      <td>0.000000</td>\n",
       "      <td>0.000000</td>\n",
       "      <td>1.000000</td>\n",
       "      <td>[Dv_2]</td>\n",
       "    </tr>\n",
       "  </tbody>\n",
       "</table>\n",
       "</div>"
      ],
      "text/plain": [
       "             Real       Imag     Freq.      Damp            Participation\n",
       "Mode 1  -0.000001   0.000000  0.000000  1.000000                [xi_freq]\n",
       "Mode 2  -3.123425  14.805061  2.356299  0.206426  [delta_v_1, Domega_m_1]\n",
       "Mode 3  -3.123425 -14.805061  2.356299  0.206426  [delta_v_1, Domega_m_1]\n",
       "Mode 4 -13.752800   0.000000  0.000000  1.000000                 [x_d2_1]\n",
       "Mode 5  -0.022024   0.000000  0.000000  1.000000                 [xi_v_1]\n",
       "Mode 6  -0.001000   0.000000  0.000000  1.000000                [delta_2]\n",
       "Mode 7  -0.100000   0.000000  0.000000  1.000000               [Domega_2]\n",
       "Mode 8  -0.000001   0.000000  0.000000  1.000000                   [Dv_2]"
      ]
     },
     "execution_count": 112,
     "metadata": {},
     "output_type": "execute_result"
    }
   ],
   "source": [
    "ssa.A_eval(model)\n",
    "ssa.damp_report(model)"
   ]
  },
  {
   "cell_type": "code",
   "execution_count": 125,
   "metadata": {},
   "outputs": [],
   "source": [
    "data = np.genfromtxt('HIL_240905_184236.csv',delimiter=',')"
   ]
  },
  {
   "cell_type": "code",
   "execution_count": 129,
   "metadata": {},
   "outputs": [
    {
     "data": {
      "image/png": "[encoded data removed]",
      "text/plain": [
       "<Figure size 640x480 with 3 Axes>"
      ]
     },
     "metadata": {},
     "output_type": "display_data"
    }
   ],
   "source": [
    "model = temp.model()\n",
    "change_line(model, '1', '2', X_pu=X_v/2/3, R_pu=0.0, S_mva=0.02)\n",
    "model.ini(params,'xy_0.json')\n",
    "model.run(1,{})\n",
    "model.run(2,{'p_l_1':0.2})\n",
    "model.run(3,{'v_ref_1':1.01})\n",
    "model.run(4,{'alpha_2':-0.02})\n",
    "model.run(5,{'alpha_2': 0.0})\n",
    "model.post();\n",
    "\n",
    "fig,axes = plt.subplots(nrows=3)\n",
    "\n",
    "axes[0].plot(model.Time,(-2*5*model.get_values('alpha_2')+0.2)*20)\n",
    "axes[0].plot(model.Time,model.get_values('p_1')*20)\n",
    "#axes[0].plot(data[:,0],data[:,1]/1000)\n",
    "\n",
    "axes[1].plot(model.Time,model.get_values('q_1')*20)\n",
    "axes[2].plot(model.Time,model.get_values('V_1'))\n",
    "\n",
    "axes[0].set_ylim(0,10)\n",
    "for ax in axes:\n",
    "    ax.grid()\n",
    "    ax.set_xlim([0,5])"
   ]
  },
  {
   "cell_type": "code",
   "execution_count": 128,
   "metadata": {},
   "outputs": [
    {
     "data": {
      "text/plain": [
       "326.5986323710904"
      ]
     },
     "execution_count": 128,
     "metadata": {},
     "output_type": "execute_result"
    }
   ],
   "source": [
    "400*np.sqrt(2/3)"
   ]
  },
  {
   "cell_type": "code",
   "execution_count": null,
   "metadata": {},
   "outputs": [],
   "source": []
  },
  {
   "cell_type": "code",
   "execution_count": 71,
   "metadata": {},
   "outputs": [
    {
     "data": {
      "text/plain": [
       "[<matplotlib.lines.Line2D at 0x244b0121f90>]"
      ]
     },
     "execution_count": 71,
     "metadata": {},
     "output_type": "execute_result"
    },
    {
     "data": {
      "image/png": "[encoded data removed]",
      "text/plain": [
       "<Figure size 640x480 with 2 Axes>"
      ]
     },
     "metadata": {},
     "output_type": "display_data"
    }
   ],
   "source": [
    "fig,axes = plt.subplots(nrows=2)\n",
    "\n",
    "axes[0].plot(model.Time,-2*5*model.get_values('alpha_2')+0.2)\n",
    "axes[0].plot(model.Time,model.get_values('p_1'))\n",
    "axes[1].plot(model.Time,model.get_values('omega_coi'))\n",
    "axes[1].plot(model.Time,model.get_values('omega_v_1'))"
   ]
  },
  {
   "cell_type": "code",
   "execution_count": null,
   "metadata": {},
   "outputs": [],
   "source": []
  }
 ],
 "metadata": {
  "kernelspec": {
   "display_name": "base",
   "language": "python",
   "name": "python3"
  },
  "language_info": {
   "codemirror_mode": {
    "name": "ipython",
    "version": 3
   },
   "file_extension": ".py",
   "mimetype": "text/x-python",
   "name": "python",
   "nbconvert_exporter": "python",
   "pygments_lexer": "ipython3",
   "version": "3.11.7"
  }
 },
 "nbformat": 4,
 "nbformat_minor": 2
}
