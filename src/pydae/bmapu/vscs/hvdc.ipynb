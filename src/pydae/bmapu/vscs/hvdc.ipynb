{
 "cells": [
  {
   "cell_type": "code",
   "execution_count": 1,
   "metadata": {},
   "outputs": [],
   "source": [
    "import numpy as np\n",
    "import temp"
   ]
  },
  {
   "cell_type": "code",
   "execution_count": 2,
   "metadata": {},
   "outputs": [],
   "source": [
    "model = temp.model()"
   ]
  },
  {
   "cell_type": "code",
   "execution_count": 11,
   "metadata": {},
   "outputs": [
    {
     "data": {
      "text/plain": [
       "True"
      ]
     },
     "execution_count": 11,
     "metadata": {},
     "output_type": "execute_result"
    }
   ],
   "source": [
    "model.ini({'P_WFM':1.5e9,\n",
    "           'Losses_s_WFD_WFH':0.01,'Losses_p_WFD_WFH':0.005,\n",
    "           'Losses_s_GRD_GRI':0.01,'Losses_p_GRD_GRI':0.005},'xy_0.json')"
   ]
  },
  {
   "cell_type": "code",
   "execution_count": 12,
   "metadata": {},
   "outputs": [
    {
     "name": "stdout",
     "output_type": "stream",
     "text": [
      "P_GRI = -1445.30 MW\n",
      "P_dc = -1478.69 MW\n"
     ]
    }
   ],
   "source": [
    "p_GRI = model.get_value('p_s_GRI')*model.get_value('S_n_GRI')\n",
    "P_dc = model.get_value('p_dc_WFD_WFH')*model.get_value('S_n_WFD_WFH')\n",
    "\n",
    "print(f'P_GRI = {p_GRI/1e6:5.2f} MW')\n",
    "print(f'P_dc = {P_dc/1e6:5.2f} MW')"
   ]
  },
  {
   "cell_type": "code",
   "execution_count": 5,
   "metadata": {},
   "outputs": [
    {
     "name": "stdout",
     "output_type": "stream",
     "text": [
      "S_base =1000000000.00\n",
      "g_WFM_WFH = 0.00\n",
      "b_WFM_WFH =-20.00\n",
      "bs_WFM_WFH = 0.00\n",
      "g_WFD_GRD =170.04\n",
      "b_WFD_GRD =-0.00\n",
      "bs_WFD_GRD = 0.00\n",
      "U_WFM_n =33000.00\n",
      "U_WFH_n =400000.00\n",
      "U_WFD_n =690000.00\n",
      "U_GRD_n =690000.00\n",
      "U_GRI_n =400000.00\n",
      "S_n_WFD_WFH =2000000000.00\n",
      "R_s_WFD_WFH = 0.00\n",
      "X_s_WFD_WFH = 0.00\n",
      "Losses_p_WFD_WFH = 0.01\n",
      "Losses_s_WFD_WFH = 0.01\n",
      "S_n_GRD_GRI =2000000000.00\n",
      "R_d_GRD_GRI = 0.00\n",
      "X_d_GRD_GRI = 0.00\n",
      "Losses_p_GRD_GRI = 0.01\n",
      "Losses_s_GRD_GRI = 0.01\n",
      "S_n_GRI =100000000000.00\n",
      "F_n_GRI =50.00\n",
      "X_v_GRI = 0.00\n",
      "R_v_GRI = 0.00\n",
      "K_delta_GRI = 0.00\n",
      "K_alpha_GRI = 0.00\n",
      "K_rocov_GRI = 0.00\n",
      "K_p_agc = 0.00\n",
      "K_i_agc = 0.00\n",
      "K_xif = 0.00\n"
     ]
    }
   ],
   "source": [
    "model.report_params()"
   ]
  },
  {
   "cell_type": "code",
   "execution_count": 6,
   "metadata": {},
   "outputs": [
    {
     "name": "stdout",
     "output_type": "stream",
     "text": [
      "P_dc_loss =  5.88 MW\n"
     ]
    }
   ],
   "source": [
    "P_dc = 1e9\n",
    "V_dc = 690e3\n",
    "I_dc = P_dc/V_dc\n",
    "\n",
    "R_dc = 14e-3*100*2\n",
    "P_dc_loss = R_dc * I_dc ** 2\n",
    "\n",
    "\n",
    "print(f'P_dc_loss = {P_dc_loss/1e6:5.2f} MW')"
   ]
  },
  {
   "cell_type": "code",
   "execution_count": 7,
   "metadata": {},
   "outputs": [
    {
     "data": {
      "text/plain": [
       "994.12"
      ]
     },
     "execution_count": 7,
     "metadata": {},
     "output_type": "execute_result"
    }
   ],
   "source": [
    "1000-5.88"
   ]
  },
  {
   "cell_type": "code",
   "execution_count": 10,
   "metadata": {},
   "outputs": [
    {
     "name": "stdout",
     "output_type": "stream",
     "text": [
      "S_base =1000000000.00\n",
      "g_WFM_WFH = 0.00\n",
      "b_WFM_WFH =-20.00\n",
      "bs_WFM_WFH = 0.00\n",
      "g_WFD_GRD =170.04\n",
      "b_WFD_GRD =-0.00\n",
      "bs_WFD_GRD = 0.00\n",
      "U_WFM_n =33000.00\n",
      "U_WFH_n =400000.00\n",
      "U_WFD_n =690000.00\n",
      "U_GRD_n =690000.00\n",
      "U_GRI_n =400000.00\n",
      "S_n_WFD_WFH =2000000000.00\n",
      "R_s_WFD_WFH = 0.00\n",
      "X_s_WFD_WFH = 0.00\n",
      "Losses_p_WFD_WFH = 0.01\n",
      "Losses_s_WFD_WFH = 0.01\n",
      "S_n_GRD_GRI =2000000000.00\n",
      "R_d_GRD_GRI = 0.00\n",
      "X_d_GRD_GRI = 0.00\n",
      "Losses_p_GRD_GRI = 0.01\n",
      "Losses_s_GRD_GRI = 0.01\n",
      "S_n_GRI =100000000000.00\n",
      "F_n_GRI =50.00\n",
      "X_v_GRI = 0.00\n",
      "R_v_GRI = 0.00\n",
      "K_delta_GRI = 0.00\n",
      "K_alpha_GRI = 0.00\n",
      "K_rocov_GRI = 0.00\n",
      "K_p_agc = 0.00\n",
      "K_i_agc = 0.00\n",
      "K_xif = 0.00\n"
     ]
    }
   ],
   "source": [
    "model.report_params()"
   ]
  },
  {
   "cell_type": "code",
   "execution_count": null,
   "metadata": {},
   "outputs": [],
   "source": []
  }
 ],
 "metadata": {
  "kernelspec": {
   "display_name": "base",
   "language": "python",
   "name": "python3"
  },
  "language_info": {
   "codemirror_mode": {
    "name": "ipython",
    "version": 3
   },
   "file_extension": ".py",
   "mimetype": "text/x-python",
   "name": "python",
   "nbconvert_exporter": "python",
   "pygments_lexer": "ipython3",
   "version": "3.11.5"
  }
 },
 "nbformat": 4,
 "nbformat_minor": 2
}
