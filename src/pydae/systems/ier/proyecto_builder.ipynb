{
 "cells": [
  {
   "cell_type": "code",
   "execution_count": 5,
   "metadata": {},
   "outputs": [],
   "source": [
    "import numpy as np\n",
    "import sympy as sym\n",
    "import numba\n",
    "import pydae.build as db\n",
    "from pydae.models import psys_builder"
   ]
  },
  {
   "cell_type": "code",
   "execution_count": 6,
   "metadata": {},
   "outputs": [],
   "source": [
    "file_path = 'system.json'\n",
    "grid = psys_builder(file_path)"
   ]
  },
  {
   "cell_type": "code",
   "execution_count": 7,
   "metadata": {},
   "outputs": [],
   "source": [
    "sys = {'name':'proyecto',\n",
    "       'params_dict':grid['params'],\n",
    "       'f_list':grid['f'],\n",
    "       'g_list':grid['g'],\n",
    "       'x_list':grid['x'],\n",
    "       'y_ini_list':grid['y'],\n",
    "       'y_run_list':grid['y'],\n",
    "       'u_run_dict':grid['u'],\n",
    "       'u_ini_dict':grid['u'],\n",
    "       'h_dict':grid['h']}\n",
    "\n",
    "sys = db.system(sys)\n",
    "db.sys2num(sys)"
   ]
  },
  {
   "cell_type": "code",
   "execution_count": 4,
   "metadata": {},
   "outputs": [
    {
     "data": {
      "text/plain": [
       "{'S_base': 100000000.0,\n",
       " 'g_GRI_POI': 1.4986238532110094,\n",
       " 'b_GRI_POI': -4.995412844036698,\n",
       " 'g_POI_PMV': 2.941176470588235,\n",
       " 'b_POI_PMV': -11.76470588235294,\n",
       " 'g_PMV_GR1': 24.742268041237114,\n",
       " 'b_PMV_GR1': -10.996563573883162,\n",
       " 'g_GR1_GR2': 24.742268041237114,\n",
       " 'b_GR1_GR2': -10.996563573883162,\n",
       " 'g_PMV_GR3': 24.742268041237114,\n",
       " 'b_PMV_GR3': -10.996563573883162,\n",
       " 'g_GR3_GR4': 24.742268041237114,\n",
       " 'b_GR3_GR4': -10.996563573883162,\n",
       " 'U_GRI_n': 66000.0,\n",
       " 'U_POI_n': 66000.0,\n",
       " 'U_PMV_n': 20000.0,\n",
       " 'U_GR1_n': 20000.0,\n",
       " 'U_GR2_n': 20000.0,\n",
       " 'U_GR3_n': 20000.0,\n",
       " 'U_GR4_n': 20000.0,\n",
       " 'S_n_GRI': 100000000.0,\n",
       " 'X_d_GRI': 1.81,\n",
       " 'X1d_GRI': 0.3,\n",
       " 'T1d0_GRI': 8.0,\n",
       " 'X_q_GRI': 1.76,\n",
       " 'X1q_GRI': 0.65,\n",
       " 'T1q0_GRI': 1.0,\n",
       " 'R_a_GRI': 0.003,\n",
       " 'X_l_GRI': 0.05,\n",
       " 'H_GRI': 6.0,\n",
       " 'D_GRI': 1.0,\n",
       " 'Omega_b_GRI': 314.1592653589793,\n",
       " 'omega_s_GRI': 1.0,\n",
       " 'K_a_GRI': 100,\n",
       " 'T_r_GRI': 0.1,\n",
       " 'v_pss_GRI': 0.0,\n",
       " 'Droop_GRI': 0.05,\n",
       " 'T_m_GRI': 5.0,\n",
       " 'K_sec_GRI': 0.001,\n",
       " 'K_delta_GRI': 0.01,\n",
       " 'v_ref_GRI': 1.0}"
      ]
     },
     "execution_count": 4,
     "metadata": {},
     "output_type": "execute_result"
    }
   ],
   "source": [
    "grid['params']"
   ]
  },
  {
   "cell_type": "code",
   "execution_count": null,
   "metadata": {},
   "outputs": [],
   "source": []
  }
 ],
 "metadata": {
  "kernelspec": {
   "display_name": "Python 3",
   "language": "python",
   "name": "python3"
  },
  "language_info": {
   "codemirror_mode": {
    "name": "ipython",
    "version": 3
   },
   "file_extension": ".py",
   "mimetype": "text/x-python",
   "name": "python",
   "nbconvert_exporter": "python",
   "pygments_lexer": "ipython3",
   "version": "3.8.5"
  }
 },
 "nbformat": 4,
 "nbformat_minor": 4
}
