{
 "cells": [
  {
   "cell_type": "code",
   "execution_count": 1,
   "metadata": {},
   "outputs": [],
   "source": [
    "import numpy as np\n",
    "import sympy as sym\n",
    "import numba\n",
    "import pydae.build as db\n",
    "from pydae.models import psys_builder"
   ]
  },
  {
   "cell_type": "code",
   "execution_count": 2,
   "metadata": {},
   "outputs": [],
   "source": [
    "file_path = 'system.json'\n",
    "grid = psys_builder(file_path)\n",
    "\n",
    "params_dict = grid['params']\n",
    "\n",
    "f_list = grid['f']\n",
    "x_list = grid['x']"
   ]
  },
  {
   "cell_type": "markdown",
   "metadata": {},
   "source": [
    "## Battery model"
   ]
  },
  {
   "cell_type": "code",
   "execution_count": 3,
   "metadata": {},
   "outputs": [],
   "source": [
    "e_bess,P_PMV,e_bess_0 = sym.symbols('e_bess,P_PMV,e_bess_0')\n",
    "de_bess = (-P_PMV/1e6 - 1e-10*(e_bess - e_bess_0))\n",
    "\n",
    "params_dict.update({'e_bess_0':10*3600})\n",
    "x_list += [ e_bess]\n",
    "f_list += [de_bess] "
   ]
  },
  {
   "cell_type": "code",
   "execution_count": 4,
   "metadata": {},
   "outputs": [],
   "source": [
    "h_dict = grid['h']\n",
    "\n",
    "for it in range(1,5):\n",
    "    P_GR,Q_GR = sym.symbols(f'P_GR{it},Q_GR{it}', real=True)\n",
    "    h_dict.update({f'P_GR{it}':P_GR})\n",
    "    h_dict.update({f'Q_GR{it}':Q_GR})\n",
    "P_PMV,Q_PMV = sym.symbols(f'P_PMV,Q_PMV', real=True)\n",
    "h_dict.update({f'P_PMV':P_PMV})\n",
    "h_dict.update({f'Q_PMV':Q_PMV})\n",
    "    \n",
    "sys = {'name':'proyecto',\n",
    "       'params_dict':params_dict,\n",
    "       'f_list':f_list,\n",
    "       'g_list':grid['g'],\n",
    "       'x_list':x_list,\n",
    "       'y_ini_list':grid['y'],\n",
    "       'y_run_list':grid['y'],\n",
    "       'u_run_dict':grid['u'],\n",
    "       'u_ini_dict':grid['u'],\n",
    "       'h_dict':h_dict}\n",
    "\n",
    "sys = db.system(sys)\n",
    "db.sys2num(sys)"
   ]
  },
  {
   "cell_type": "code",
   "execution_count": 5,
   "metadata": {},
   "outputs": [
    {
     "data": {
      "text/plain": [
       "{'V_GRI': V_GRI,\n",
       " 'V_POI': V_POI,\n",
       " 'V_PMV': V_PMV,\n",
       " 'V_GR1': V_GR1,\n",
       " 'V_GR2': V_GR2,\n",
       " 'V_GR3': V_GR3,\n",
       " 'V_GR4': V_GR4,\n",
       " 'P_GR1': P_GR1,\n",
       " 'Q_GR1': Q_GR1,\n",
       " 'P_GR2': P_GR2,\n",
       " 'Q_GR2': Q_GR2,\n",
       " 'P_GR3': P_GR3,\n",
       " 'Q_GR3': Q_GR3,\n",
       " 'P_GR4': P_GR4,\n",
       " 'Q_GR4': Q_GR4,\n",
       " 'P_PMV': P_PMV,\n",
       " 'Q_PMV': Q_PMV}"
      ]
     },
     "execution_count": 5,
     "metadata": {},
     "output_type": "execute_result"
    }
   ],
   "source": [
    "h_dict"
   ]
  },
  {
   "cell_type": "code",
   "execution_count": null,
   "metadata": {},
   "outputs": [],
   "source": []
  }
 ],
 "metadata": {
  "kernelspec": {
   "display_name": "Python 3",
   "language": "python",
   "name": "python3"
  },
  "language_info": {
   "codemirror_mode": {
    "name": "ipython",
    "version": 3
   },
   "file_extension": ".py",
   "mimetype": "text/x-python",
   "name": "python",
   "nbconvert_exporter": "python",
   "pygments_lexer": "ipython3",
   "version": "3.8.5"
  }
 },
 "nbformat": 4,
 "nbformat_minor": 4
}
