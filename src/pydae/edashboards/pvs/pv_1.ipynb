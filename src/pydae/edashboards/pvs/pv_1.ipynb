{
 "cells": [
  {
   "cell_type": "code",
   "execution_count": 1,
   "metadata": {},
   "outputs": [],
   "source": [
    "import pydae.build_cffi as db\n",
    "from pydae.bmapu import bmapu_builder"
   ]
  },
  {
   "cell_type": "code",
   "execution_count": 2,
   "metadata": {},
   "outputs": [],
   "source": [
    "data = {\n",
    "\"system\":{\"name\":\"smib\",\"S_base\":100e6, \"K_p_agc\":0.0,\"K_i_agc\":0.0,\"K_xif\":0.01},       \n",
    "\"buses\":[{\"name\":\"1\", \"P_W\":0.0,\"Q_var\":0.0,\"U_kV\":20.0},\n",
    "            {\"name\":\"2\", \"P_W\":0.0,\"Q_var\":0.0,\"U_kV\":20.0}\n",
    "        ],\n",
    "\"lines\":[{\"bus_j\":\"1\", \"bus_k\":\"2\", \"X_pu\":0.05,\"R_pu\":0.0,\"Bs_pu\":0.0,\"S_mva\":100.0}],\n",
    "\"pvs\":[\n",
    "    {\"type\":\"pv_1\",\"bus\":\"1\",\"S_n\":1e6,\"U_n\":400.0,      \n",
    "     \"R_s\":0.01,\"X_s\":0.05,\n",
    "        \"K_pdc\":100,\"C_dc\":10.5,\n",
    "        \"N_ms\":25,\"N_mp\":250}],\n",
    "\"genapes\":[{\"bus\":\"2\",\"S_n\":100e6,\"F_n\":50.0,\"X_v\":0.001,\"R_v\":0.0,\"K_delta\":0.001,\"K_alpha\":1e-6}]\n",
    "}\n",
    "\n",
    "grid = bmapu_builder.bmapu(data)\n",
    "#grid.checker()\n",
    "grid.uz_jacs = True\n",
    "grid.verbose = False\n",
    "grid.build('pv_mid')"
   ]
  },
  {
   "cell_type": "code",
   "execution_count": 3,
   "metadata": {},
   "outputs": [],
   "source": [
    "from pydae.edashboards.pvs.pv_mid_module import dashboard"
   ]
  },
  {
   "cell_type": "code",
   "execution_count": 4,
   "metadata": {},
   "outputs": [],
   "source": [
    "db = dashboard()\n",
    "db.build()"
   ]
  },
  {
   "cell_type": "code",
   "execution_count": 5,
   "metadata": {},
   "outputs": [
    {
     "data": {
      "application/vnd.jupyter.widget-view+json": {
       "model_id": "deb223022d90401d9d5de5292abbe2dd",
       "version_major": 2,
       "version_minor": 0
      },
      "text/plain": [
       "VBox(children=(HTML(value='<svg xmlns=\"http://www.w3.org/2000/svg\" xmlns:cc=\"http://creativecommons.org/ns#\" x…"
      ]
     },
     "metadata": {},
     "output_type": "display_data"
    },
    {
     "data": {
      "text/plain": [
       "<Figure size 640x480 with 0 Axes>"
      ]
     },
     "metadata": {},
     "output_type": "display_data"
    }
   ],
   "source": [
    "db = dashboard()\n",
    "\n",
    "db.ini()\n",
    "db.widgets()\n",
    "db.show()"
   ]
  },
  {
   "cell_type": "code",
   "execution_count": 6,
   "metadata": {},
   "outputs": [
    {
     "ename": "TypeError",
     "evalue": "__init__() takes 1 positional argument but 2 were given",
     "output_type": "error",
     "traceback": [
      "\u001b[1;31m---------------------------------------------------------------------------\u001b[0m",
      "\u001b[1;31mTypeError\u001b[0m                                 Traceback (most recent call last)",
      "\u001b[1;32m~\\AppData\\Local\\Temp\\ipykernel_30216\\3205847453.py\u001b[0m in \u001b[0;36m<module>\u001b[1;34m\u001b[0m\n\u001b[0;32m      1\u001b[0m \u001b[1;32mimport\u001b[0m \u001b[0mpv_mid\u001b[0m\u001b[1;33m\u001b[0m\u001b[1;33m\u001b[0m\u001b[0m\n\u001b[0;32m      2\u001b[0m \u001b[0mmodel\u001b[0m \u001b[1;33m=\u001b[0m \u001b[0mpv_mid\u001b[0m\u001b[1;33m.\u001b[0m\u001b[0mmodel\u001b[0m\u001b[1;33m(\u001b[0m\u001b[1;33m)\u001b[0m\u001b[1;33m\u001b[0m\u001b[1;33m\u001b[0m\u001b[0m\n\u001b[1;32m----> 3\u001b[1;33m \u001b[0mdb\u001b[0m \u001b[1;33m=\u001b[0m \u001b[0mdashboard\u001b[0m\u001b[1;33m(\u001b[0m\u001b[0mmodel\u001b[0m\u001b[1;33m)\u001b[0m\u001b[1;33m\u001b[0m\u001b[1;33m\u001b[0m\u001b[0m\n\u001b[0m\u001b[0;32m      4\u001b[0m \u001b[0mdb\u001b[0m\u001b[1;33m.\u001b[0m\u001b[0mshow\u001b[0m\u001b[1;33m(\u001b[0m\u001b[1;33m)\u001b[0m\u001b[1;33m\u001b[0m\u001b[1;33m\u001b[0m\u001b[0m\n",
      "\u001b[1;31mTypeError\u001b[0m: __init__() takes 1 positional argument but 2 were given"
     ]
    }
   ],
   "source": [
    "import pv_mid\n",
    "model = pv_mid.model()\n",
    "db = dashboard(model)\n",
    "db.show()"
   ]
  },
  {
   "cell_type": "code",
   "execution_count": 12,
   "metadata": {},
   "outputs": [
    {
     "name": "stdout",
     "output_type": "stream",
     "text": [
      "P_1   = 0.00\n",
      "Q_1   = 0.00\n",
      "P_2   = 0.00\n",
      "Q_2   = 0.00\n",
      "alpha_2 = 0.00\n",
      "v_ref_2 = 1.00\n",
      "omega_ref_2 = 1.00\n",
      "delta_ref_2 = 0.00\n",
      "phi_2 = 0.00\n",
      "rocov_2 = 0.00\n",
      "irrad_1 =1000.00\n",
      "temp_deg_1 =25.00\n",
      "v_dc_ref_1 = 1.35\n",
      "q_s_ref_1 = 0.00\n",
      "mode_1 = 1.00\n",
      "i_sd_i_ref_1 = 1.00\n",
      "i_sq_i_ref_1 = 0.00\n",
      "Dp_e_ref_1 = 0.00\n",
      "u_dummy_1 = 0.00\n",
      "delta_2 = -0.00\n",
      "Domega_2 =  0.00\n",
      "Dv_2  =  0.00\n",
      "v_dc_1 =  1.85\n",
      "xi_freq = -0.00\n",
      "V_1   =  0.99\n",
      "theta_1 =  0.00\n",
      "V_2   =  1.00\n",
      "theta_2 =  0.00\n",
      "omega_2 =  1.00\n",
      "i_d_2 =  0.01\n",
      "i_q_2 = -0.00\n",
      "p_s_2 = -0.00\n",
      "q_s_2 =  0.01\n",
      "i_pv_1 =  0.23\n",
      "p_s_ref_1 =  0.05\n",
      "i_sd_pq_ref_1 =  0.00\n",
      "i_sq_pq_ref_1 =  0.05\n",
      "v_td_ref_1 =  0.01\n",
      "v_tq_ref_1 =  0.94\n",
      "i_si_1 =  1.00\n",
      "i_sr_1 =  0.05\n",
      "p_s_1 =  0.05\n",
      "q_s_1 = -0.99\n",
      "omega_coi =  1.00\n",
      "p_agc =  0.00\n",
      "V_1   =  0.99\n",
      "V_2   =  1.00\n",
      "p_line_1_2 =  0.00\n",
      "q_line_1_2 = -0.01\n",
      "p_line_2_1 = -0.00\n",
      "q_line_2_1 =  0.01\n",
      "alpha_2 =  0.00\n",
      "Dv_2  =  0.00\n",
      "v_pv_1 = 41.94\n",
      "p_pv_1 =  9.66\n",
      "i_sd_ref_1 =  1.00\n",
      "i_sq_ref_1 =  0.05\n",
      "p_s_1 =  0.05\n",
      "q_s_1 = -0.99\n",
      "i_si_1 =  1.00\n",
      "i_sr_1 =  0.05\n",
      "i_tdc_1 =  0.03\n",
      "m_ref_1 =  0.51\n",
      "theta_t_ref_1 =  0.01\n",
      "i_pv_pu_1 =  0.03\n",
      "i_pv_total_1 = 57.60\n"
     ]
    }
   ],
   "source": [
    "model.ini({'v_dc_ref_1':1.35,\"K_pdc_1\":100,'irrad_1':1000,'mode_1':2},'xy_0.json')\n",
    "model.ini({'v_dc_ref_1':1.35,\"K_pdc_1\":0.1,'irrad_1':1000,'mode_1':1, 'i_sd_i_ref_1':1.0})\n",
    "\n",
    "model.report_u()\n",
    "model.report_x()\n",
    "model.report_y()\n",
    "model.report_z()\n",
    "#model.report_params()"
   ]
  },
  {
   "cell_type": "code",
   "execution_count": 28,
   "metadata": {},
   "outputs": [
    {
     "data": {
      "application/vnd.jupyter.widget-view+json": {
       "model_id": "70b625258ee6438d8ef558c112f4219a",
       "version_major": 2,
       "version_minor": 0
      },
      "text/plain": [
       "VBox(children=(HTML(value='<svg xmlns=\"http://www.w3.org/2000/svg\" xmlns:cc=\"http://creativecommons.org/ns#\" x…"
      ]
     },
     "metadata": {},
     "output_type": "display_data"
    }
   ],
   "source": [
    "import pydae.svg_tools as st \n",
    "import ipywidgets as widgets\n",
    "from IPython.display import SVG, display\n",
    "\n",
    "model = pv_1_test.model()\n",
    "model.ini({'v_dc_ref_1':1.35,\"K_pdc_1\":100,'irrad_1':1000},'xy_0.json')\n",
    "\n",
    "s = st.svg(r\"pv_dashboard.svg\")\n",
    "\n",
    "html = widgets.HTML(\n",
    "    value= s.tostring(),\n",
    "    placeholder='',\n",
    "    description='',\n",
    ")\n",
    "\n",
    "tab_0 = widgets.VBox([widgets.Text(description='Sn')])\n",
    "tab_1_sld_irrad = widgets.FloatSlider(description='irrad',min=0, max=1200, step=100, value=1000)\n",
    "tab_1_sld_temp_deg = widgets.FloatSlider(description='temp (deg)',min=10, max=45, step=1, value=25)\n",
    "tab_1 = widgets.HBox([tab_1_sld_irrad,tab_1_sld_temp_deg])\n",
    "\n",
    "tab_2_0 = widgets.RadioButtons(\n",
    "    options=['Manual', 'Power from MPPT', 'Power from speed control'],\n",
    "    description='Mode:',    disabled=False)\n",
    "sld_p_s = widgets.FloatSlider(description='p<sub>s</sub>*',min=0, max=1, step=0.1, value=0)\n",
    "sld_v_dc = widgets.FloatSlider(description='v<sub>dc</sub>*',min=0.8, max=2.0, step=0.1, value=1.2)\n",
    "sld_q_s = widgets.FloatSlider(description='q<sub>s</sub>*',min=-1, max=1, step=0.1, value=0)\n",
    "sld_i_d = widgets.FloatSlider(description='i<sub>d</sub>*',min=-1, max=1, step=0.1, value=0)\n",
    "sld_i_q = widgets.FloatSlider(description='i<sub>q</sub>*',min=-0.1, max=0.1, step=0.1, value=0)\n",
    "\n",
    "tab_2_1 = widgets.VBox([sld_p_s,\n",
    "                        ])\n",
    "tab_2 = widgets.HBox([tab_2_0,tab_2_1])\n",
    "\n",
    "options_mode = widgets.RadioButtons(\n",
    "    options=['Normal', 'LVRT'],\n",
    "    description='Mode:',    disabled=False)\n",
    "\n",
    "tab_3_0 = widgets.HBox([options_mode,widgets.VBox([sld_v_dc,sld_q_s]),widgets.VBox([sld_i_d,sld_i_q])])\n",
    "tab_3 = widgets.HBox([tab_3_0])\n",
    "\n",
    "sld_V_g = widgets.FloatSlider(description='V<sub>g</sub>',min=0.2, max=1.2, step=0.1, value=1.0)\n",
    "sld_SCR = widgets.FloatSlider(description='SCR',min=1, max=10, step=1, value=10)\n",
    "\n",
    "tab_grid = widgets.HBox([sld_V_g,sld_SCR])\n",
    "\n",
    "tab = widgets.Tab()\n",
    "tab.children = [tab_1,tab_3,tab_grid]\n",
    "\n",
    "#tab.set_title(0, 'PV')\n",
    "tab.set_title(0, 'Enviroment')\n",
    "#tab.set_title(2, 'MPPT')\n",
    "tab.set_title(1, 'VSC')\n",
    "tab.set_title(2, 'Grid')\n",
    "\n",
    "\n",
    "\n",
    "# Define the slider widget and its properties\n",
    "slider = widgets.IntSlider(min=0, max=100, step=1, value=0)\n",
    "\n",
    "model.ini({'v_dc_ref_1':sld_v_dc.value,\"K_pdc_1\":100,'irrad_1':1000,\n",
    "           'b_1_2':-0.1,'g_1_2':0.0},'xy_0.json')\n",
    "\n",
    "\n",
    "# Define a function to update the text element with the slider value\n",
    "def update(change):\n",
    "\n",
    "    \n",
    "\n",
    "    model.ini({'v_dc_ref_1':sld_v_dc.value,\"K_pdc_1\":100,'q_s_ref_1':sld_q_s.value,\n",
    "               'irrad_1':tab_1_sld_irrad.value,'temp_deg_1':tab_1_sld_temp_deg.value,\n",
    "               'i_sd_i_ref_1':sld_i_d.value, 'i_sq_i_ref_1':sld_i_q.value, \n",
    "               'b_1_2':-0.1*sld_SCR.value,\n",
    "               'v_ref_2':sld_V_g.value},\n",
    "               'xy_0.json')\n",
    "    \n",
    "    if options_mode.value == 'LVRT':\n",
    "        model.ini({'v_dc_ref_1':1.8,\"K_pdc_1\":1,'q_s_ref_1':0.0,\n",
    "                'irrad_1':tab_1_sld_irrad.value,'temp_deg_1':tab_1_sld_temp_deg.value,\n",
    "                'i_sd_i_ref_1':sld_i_d.value, 'i_sq_i_ref_1':sld_i_q.value, \n",
    "                'b_1_2':-0.1*sld_SCR.value,\n",
    "                'v_ref_2':sld_V_g.value})\n",
    "\n",
    "    # s.set_tspan('p_g', f'={model.get_value(\"p_g_\"):0.2f}')\n",
    "    # s.set_tspan('q_g', f'={model.get_value(\"q_g_\"):0.2f}')\n",
    "    I_s = (model.get_value(\"i_si_1\")**2 + model.get_value(\"i_sr_1\")**2)**0.5\n",
    "    s.set_tspan('I_s', f'={I_s:4.2f}')\n",
    "    s.set_tspan('i_d_ref', f'={model.get_value(\"i_sd_ref_1\"):5.2f}')\n",
    "    s.set_tspan('i_q_ref', f'={model.get_value(\"i_sq_ref_1\"):5.2f}')\n",
    "    s.set_tspan('m', f'={model.get_value(\"m_ref_1\"):0.2f}')\n",
    "    s.set_tspan('p_s', f'={model.get_value(\"p_s_1\"):5.2f}')\n",
    "    s.set_tspan('q_s', f'={model.get_value(\"q_s_1\"):5.2f}')\n",
    "    s.set_tspan('v_dc', f'={model.get_value(\"v_dc_1\"):0.2f}')\n",
    "    s.set_tspan('i_dc', f'={model.get_value(\"i_pv_pu_1\"):0.2f}')\n",
    "    s.set_tspan('v_pv', f'={model.get_value(\"v_pv_1\"):4.1f} V')\n",
    "    s.set_tspan('i_pv', f'={model.get_value(\"i_pv_1\"):4.1f} A')\n",
    "    s.set_tspan('p_pv', f'={model.get_value(\"p_pv_1\"):5.1f} W')\n",
    "    s.set_tspan('V_pcc', f'={model.get_value(\"V_1\"):5.2f}')\n",
    "    s.set_tspan('V_g', f'={model.get_value(\"V_2\"):5.2f}')\n",
    "    # s.set_tspan('beta', f'={np.abs(model.get_value(\"beta_\")):5.2f}')\n",
    "\n",
    "    html.value = s.tostring() \n",
    "\n",
    "# Link the slider value to the text element update function\n",
    "tab_1_sld_irrad.observe(update, names='value')\n",
    "tab_1_sld_temp_deg.observe(update, names='value')\n",
    "sld_v_dc.observe(update, names='value')\n",
    "sld_q_s.observe(update, names='value')\n",
    "sld_i_d.observe(update, names='value')\n",
    "sld_i_q.observe(update, names='value')\n",
    "sld_V_g.observe(update, names='value')\n",
    "sld_SCR.observe(update, names='value')\n",
    "options_mode.observe(update, names='value')\n",
    "\n",
    "update(0)\n",
    "widgets.VBox([html,tab])"
   ]
  },
  {
   "cell_type": "code",
   "execution_count": 16,
   "metadata": {},
   "outputs": [
    {
     "data": {
      "text/plain": [
       "'Normal'"
      ]
     },
     "execution_count": 16,
     "metadata": {},
     "output_type": "execute_result"
    }
   ],
   "source": [
    "options_mode.value"
   ]
  },
  {
   "cell_type": "code",
   "execution_count": 26,
   "metadata": {},
   "outputs": [
    {
     "data": {
      "text/plain": [
       "2000.0"
      ]
     },
     "execution_count": 26,
     "metadata": {},
     "output_type": "execute_result"
    }
   ],
   "source": [
    "100/0.05"
   ]
  },
  {
   "cell_type": "code",
   "execution_count": 14,
   "metadata": {},
   "outputs": [
    {
     "name": "stdout",
     "output_type": "stream",
     "text": [
      "P_1   = 0.00\n",
      "Q_1   = 0.00\n",
      "P_2   = 0.00\n",
      "Q_2   = 0.00\n",
      "alpha_2 = 0.00\n",
      "v_ref_2 = 1.00\n",
      "omega_ref_2 = 1.00\n",
      "delta_ref_2 = 0.00\n",
      "phi_2 = 0.00\n",
      "rocov_2 = 0.00\n",
      "irrad_1 =1000.00\n",
      "temp_deg_1 =25.00\n",
      "v_dc_ref_1 = 1.35\n",
      "q_s_ref_1 = 0.00\n",
      "mode_1 = 1.00\n",
      "i_sd_i_ref_1 = 0.00\n",
      "i_sq_i_ref_1 = 0.00\n",
      "Dp_e_ref_1 = 0.00\n",
      "u_dummy_1 = 0.00\n",
      "delta_2 =  0.00\n",
      "Domega_2 = -0.00\n",
      "Dv_2  =  0.00\n",
      "v_dc_1 =  1.86\n",
      "xi_freq = -0.00\n",
      "V_1   =  1.00\n",
      "theta_1 = -0.00\n",
      "V_2   =  1.00\n",
      "theta_2 = -0.00\n",
      "omega_2 =  1.00\n",
      "i_d_2 =  0.00\n",
      "i_q_2 =  0.00\n",
      "p_s_2 =  0.00\n",
      "q_s_2 =  0.00\n",
      "i_pv_1 =  0.00\n",
      "p_s_ref_1 = 51.06\n",
      "i_sd_pq_ref_1 =  0.00\n",
      "i_sq_pq_ref_1 = 51.06\n",
      "v_td_ref_1 =  0.00\n",
      "v_tq_ref_1 =  1.00\n",
      "i_si_1 =  0.00\n",
      "i_sr_1 = -0.00\n",
      "p_s_1 = -0.00\n",
      "q_s_1 = -0.00\n",
      "omega_coi =  1.00\n",
      "p_agc =  0.00\n",
      "V_1   =  1.00\n",
      "V_2   =  1.00\n",
      "p_line_1_2 = -0.00\n",
      "q_line_1_2 =  0.00\n",
      "p_line_2_1 =  0.00\n",
      "q_line_2_1 =  0.00\n",
      "alpha_2 =  0.00\n",
      "Dv_2  =  0.00\n",
      "v_pv_1 = 42.10\n",
      "p_pv_1 =  0.00\n",
      "i_sd_ref_1 =  0.00\n",
      "i_sq_ref_1 =  0.00\n",
      "p_s_1 = -0.00\n",
      "q_s_1 = -0.00\n",
      "i_si_1 =  0.00\n",
      "i_sr_1 = -0.00\n",
      "i_tdc_1 = -0.00\n",
      "m_ref_1 =  0.54\n",
      "theta_t_ref_1 = -0.00\n",
      "i_pv_pu_1 =  0.00\n",
      "i_pv_total_1 =  0.00\n"
     ]
    }
   ],
   "source": [
    "model.ini({'v_dc_ref_1':1.35,\"K_pdc_1\":100,'irrad_1':1000,'mode_1':2},'xy_0.json')\n",
    "model.run(1,{'mode_1':1})\n",
    "model.run(200,{'mode_1':1})\n",
    "\n",
    "model.report_u()\n",
    "model.report_x()\n",
    "model.report_y()\n",
    "model.report_z()\n",
    "#model.report_params()"
   ]
  },
  {
   "cell_type": "code",
   "execution_count": 17,
   "metadata": {},
   "outputs": [
    {
     "ename": "LinAlgError",
     "evalue": "Array must not contain infs or NaNs.",
     "output_type": "error",
     "traceback": [
      "\u001b[1;31m---------------------------------------------------------------------------\u001b[0m",
      "\u001b[1;31mLinAlgError\u001b[0m                               Traceback (most recent call last)",
      "\u001b[1;32m~\\AppData\\Local\\Temp\\ipykernel_6580\\2009497035.py\u001b[0m in \u001b[0;36m<module>\u001b[1;34m\u001b[0m\n\u001b[1;32m----> 1\u001b[1;33m \u001b[0mmodel\u001b[0m\u001b[1;33m.\u001b[0m\u001b[0mini\u001b[0m\u001b[1;33m(\u001b[0m\u001b[1;33m{\u001b[0m\u001b[1;34m'v_dc_ref_1'\u001b[0m\u001b[1;33m:\u001b[0m\u001b[1;36m1.35\u001b[0m\u001b[1;33m,\u001b[0m\u001b[1;34m\"K_pdc_1\"\u001b[0m\u001b[1;33m:\u001b[0m\u001b[1;36m0\u001b[0m\u001b[1;33m,\u001b[0m\u001b[1;34m'irrad_1'\u001b[0m\u001b[1;33m:\u001b[0m\u001b[1;36m1000\u001b[0m\u001b[1;33m,\u001b[0m\u001b[1;34m'mode_1'\u001b[0m\u001b[1;33m:\u001b[0m\u001b[1;36m1\u001b[0m\u001b[1;33m}\u001b[0m\u001b[1;33m)\u001b[0m\u001b[1;33m\u001b[0m\u001b[1;33m\u001b[0m\u001b[0m\n\u001b[0m\u001b[0;32m      2\u001b[0m \u001b[1;33m\u001b[0m\u001b[0m\n",
      "\u001b[1;32mc:\\Users\\jmmau\\workspace\\pydae\\src\\pydae\\edashboards\\pvs\\pv_1_test.py\u001b[0m in \u001b[0;36mini\u001b[1;34m(self, up_dict, xy_0)\u001b[0m\n\u001b[0;32m    484\u001b[0m             \u001b[0mself\u001b[0m\u001b[1;33m.\u001b[0m\u001b[0mxy_0\u001b[0m \u001b[1;33m=\u001b[0m \u001b[0mnp\u001b[0m\u001b[1;33m.\u001b[0m\u001b[0mones\u001b[0m\u001b[1;33m(\u001b[0m\u001b[0mself\u001b[0m\u001b[1;33m.\u001b[0m\u001b[0mN_x\u001b[0m\u001b[1;33m+\u001b[0m\u001b[0mself\u001b[0m\u001b[1;33m.\u001b[0m\u001b[0mN_y\u001b[0m\u001b[1;33m,\u001b[0m\u001b[0mdtype\u001b[0m\u001b[1;33m=\u001b[0m\u001b[0mnp\u001b[0m\u001b[1;33m.\u001b[0m\u001b[0mfloat64\u001b[0m\u001b[1;33m)\u001b[0m\u001b[1;33m*\u001b[0m\u001b[0mxy_0\u001b[0m\u001b[1;33m\u001b[0m\u001b[1;33m\u001b[0m\u001b[0m\n\u001b[0;32m    485\u001b[0m \u001b[1;33m\u001b[0m\u001b[0m\n\u001b[1;32m--> 486\u001b[1;33m         xy_ini,it = sstate(self.xy_0,self.u_ini,self.p,\n\u001b[0m\u001b[0;32m    487\u001b[0m                            \u001b[0mself\u001b[0m\u001b[1;33m.\u001b[0m\u001b[0mjac_ini\u001b[0m\u001b[1;33m,\u001b[0m\u001b[1;33m\u001b[0m\u001b[1;33m\u001b[0m\u001b[0m\n\u001b[0;32m    488\u001b[0m                            \u001b[0mself\u001b[0m\u001b[1;33m.\u001b[0m\u001b[0mN_x\u001b[0m\u001b[1;33m,\u001b[0m\u001b[0mself\u001b[0m\u001b[1;33m.\u001b[0m\u001b[0mN_y\u001b[0m\u001b[1;33m,\u001b[0m\u001b[1;33m\u001b[0m\u001b[1;33m\u001b[0m\u001b[0m\n",
      "\u001b[1;32mc:\\Users\\jmmau\\anaconda3\\lib\\site-packages\\numba\\np\\linalg.py\u001b[0m in \u001b[0;36m_check_finite_matrix\u001b[1;34m()\u001b[0m\n\u001b[0;32m    749\u001b[0m     \u001b[1;32mfor\u001b[0m \u001b[0mv\u001b[0m \u001b[1;32min\u001b[0m \u001b[0mnp\u001b[0m\u001b[1;33m.\u001b[0m\u001b[0mnditer\u001b[0m\u001b[1;33m(\u001b[0m\u001b[0ma\u001b[0m\u001b[1;33m)\u001b[0m\u001b[1;33m:\u001b[0m\u001b[1;33m\u001b[0m\u001b[1;33m\u001b[0m\u001b[0m\n\u001b[0;32m    750\u001b[0m         \u001b[1;32mif\u001b[0m \u001b[1;32mnot\u001b[0m \u001b[0mnp\u001b[0m\u001b[1;33m.\u001b[0m\u001b[0misfinite\u001b[0m\u001b[1;33m(\u001b[0m\u001b[0mv\u001b[0m\u001b[1;33m.\u001b[0m\u001b[0mitem\u001b[0m\u001b[1;33m(\u001b[0m\u001b[1;33m)\u001b[0m\u001b[1;33m)\u001b[0m\u001b[1;33m:\u001b[0m\u001b[1;33m\u001b[0m\u001b[1;33m\u001b[0m\u001b[0m\n\u001b[1;32m--> 751\u001b[1;33m             raise np.linalg.LinAlgError(\n\u001b[0m\u001b[0;32m    752\u001b[0m                 \"Array must not contain infs or NaNs.\")\n\u001b[0;32m    753\u001b[0m \u001b[1;33m\u001b[0m\u001b[0m\n",
      "\u001b[1;31mLinAlgError\u001b[0m: Array must not contain infs or NaNs."
     ]
    }
   ],
   "source": [
    "model.ini({'v_dc_ref_1':1.35,\"K_pdc_1\":0,'irrad_1':1000,'mode_1':1})\n",
    "\n"
   ]
  },
  {
   "cell_type": "code",
   "execution_count": 10,
   "metadata": {},
   "outputs": [
    {
     "data": {
      "text/plain": [
       "0.16627078384798102"
      ]
     },
     "execution_count": 10,
     "metadata": {},
     "output_type": "execute_result"
    }
   ],
   "source": [
    "70e-3/42.1*100"
   ]
  },
  {
   "cell_type": "code",
   "execution_count": null,
   "metadata": {},
   "outputs": [],
   "source": []
  }
 ],
 "metadata": {
  "kernelspec": {
   "display_name": "base",
   "language": "python",
   "name": "python3"
  },
  "language_info": {
   "codemirror_mode": {
    "name": "ipython",
    "version": 3
   },
   "file_extension": ".py",
   "mimetype": "text/x-python",
   "name": "python",
   "nbconvert_exporter": "python",
   "pygments_lexer": "ipython3",
   "version": "3.9.13"
  },
  "orig_nbformat": 4
 },
 "nbformat": 4,
 "nbformat_minor": 2
}
