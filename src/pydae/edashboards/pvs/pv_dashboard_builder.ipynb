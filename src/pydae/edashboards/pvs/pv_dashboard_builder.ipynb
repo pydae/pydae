{
 "cells": [
  {
   "cell_type": "code",
   "execution_count": 2,
   "metadata": {},
   "outputs": [],
   "source": [
    "import numpy as np\n",
    "from pydae.bmapu import bmapu_builder\n"
   ]
  },
  {
   "cell_type": "code",
   "execution_count": 5,
   "metadata": {},
   "outputs": [],
   "source": [
    "data = {\n",
    "\"system\":{\"name\":\"smib\",\"S_base\":100e6, \"K_p_agc\":0.0,\"K_i_agc\":0.0,\"K_xif\":0.01},       \n",
    "\"buses\":[{\"name\":\"1\", \"P_W\":0.0,\"Q_var\":0.0,\"U_kV\":20.0},\n",
    "            {\"name\":\"2\", \"P_W\":0.0,\"Q_var\":0.0,\"U_kV\":20.0}\n",
    "        ],\n",
    "\"lines\":[{\"bus_j\":\"1\", \"bus_k\":\"2\", \"X_pu\":0.05,\"R_pu\":0.0,\"Bs_pu\":0.0,\"S_mva\":100.0}],\n",
    "\"pvs\":[\n",
    "    {\"type\":\"pv_1\",\"bus\":\"1\",\"S_n\":1e6,\"U_n\":400.0,      \n",
    "        \"R_s\":0.01,\"X_s\":0.05,\n",
    "        \"K_pdc\":100,\"C_dc\":10.5,\n",
    "        \"I_sc\":8,\"V_oc\":42.1,\"I_mpp\":3.56,\"V_mpp\":33.7,\"N_s\":72,\n",
    "        \"K_vt\":-0.160,\"K_it\":0.065,\"R_pv_s\": 0.5602, \"R_pv_sh\": 1862, \"K_d\": 1.3433,\n",
    "        \"N_ms\":25,\"N_mp\":250}],\n",
    "\"sources\":[{\"type\":\"genape\", \"bus\":\"2\",\"S_n\":100e6,\"F_n\":50.0,\"X_v\":0.001,\"R_v\":0.0,\"K_delta\":0.001,\"K_alpha\":1e-6}]\n",
    "}\n",
    "\n",
    "\n",
    "\n",
    "grid = bmapu_builder.bmapu(data)\n",
    "#grid.checker()\n",
    "grid.uz_jacs = True\n",
    "grid.verbose = False\n",
    "grid.build('pv_mid')"
   ]
  },
  {
   "cell_type": "code",
   "execution_count": null,
   "metadata": {},
   "outputs": [],
   "source": []
  }
 ],
 "metadata": {
  "kernelspec": {
   "display_name": "base",
   "language": "python",
   "name": "python3"
  },
  "language_info": {
   "codemirror_mode": {
    "name": "ipython",
    "version": 3
   },
   "file_extension": ".py",
   "mimetype": "text/x-python",
   "name": "python",
   "nbconvert_exporter": "python",
   "pygments_lexer": "ipython3",
   "version": "3.10.11"
  },
  "orig_nbformat": 4
 },
 "nbformat": 4,
 "nbformat_minor": 2
}
