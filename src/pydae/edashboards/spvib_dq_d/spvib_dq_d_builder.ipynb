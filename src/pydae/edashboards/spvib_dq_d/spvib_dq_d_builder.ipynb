{
 "cells": [
  {
   "cell_type": "code",
   "execution_count": 1,
   "metadata": {},
   "outputs": [],
   "source": [
    "import pydae.build_cffi as db\n",
    "from pydae.bmapu import bmapu_builder\n",
    "from pydae.build_v2 import builder\n",
    "\n",
    "\n",
    "S_pv_mva = 1.0\n",
    "\n",
    "data = {\n",
    "    \"system\":{\"name\":f\"spvib_dq_d\",\"S_base\":100e6,\"K_p_agc\":0.0,\"K_i_agc\":0.0,\"K_xif\":0.01},\n",
    "    \"buses\":[\n",
    "        {\"name\": \"POI\",\"P_W\":0.0,\"Q_var\":0.0,\"U_kV\":0.4},\n",
    "        {\"name\":\"GRID\",\"P_W\":0.0,\"Q_var\":0.0,\"U_kV\":0.4}\n",
    "    ],\n",
    "    \"lines\":[\n",
    "        {\"bus_j\":\"POI\",\"bus_k\": \"GRID\",\"X_pu\":0.01,\"R_pu\":0.0,\"Bs_pu\":0.0,\"S_mva\":1}\n",
    "        ],\n",
    "    \"pvs\":[{\"bus\":\"POI\",\"type\":\"pv_dq_d\",\"S_n\":1e6,\"U_n\":400.0,\"F_n\":50.0,\"X_s\":0.1,\"R_s\":0.01,\"monitor\":False,\n",
    "                            \"I_sc\":8,\"V_oc\":42.1,\"I_mp\":3.56,\"V_mp\":33.7,\"K_vt\":-0.160,\"K_it\":0.065,\"N_pv_s\":25,\"N_pv_p\":250}],\n",
    "    \"sources\":[{\"type\":\"genape\",\n",
    "          \"bus\":\"GRID\",\"S_n\":1000e6,\"F_n\":50.0,\"X_v\":0.001,\"R_v\":0.0,\n",
    "          \"K_delta\":0.001,\"K_alpha\":1e-6}]\n",
    "    }\n",
    "\n",
    "grid = bmapu_builder.bmapu(data)\n",
    "\n",
    "grid.uz_jacs = False\n",
    "grid.verbose = True\n",
    "grid.construct(f'spvib_dq_d')\n",
    "b = builder(grid.sys_dict,verbose=True)\n",
    "b.dict2system()\n",
    "b.functions()\n",
    "b.jacobians()\n",
    "b.cwrite()\n",
    "b.template()\n",
    "b.compile()"
   ]
  },
  {
   "cell_type": "code",
   "execution_count": null,
   "metadata": {},
   "outputs": [],
   "source": []
  },
  {
   "cell_type": "code",
   "execution_count": null,
   "metadata": {},
   "outputs": [],
   "source": []
  }
 ],
 "metadata": {
  "kernelspec": {
   "display_name": "base",
   "language": "python",
   "name": "python3"
  },
  "language_info": {
   "codemirror_mode": {
    "name": "ipython",
    "version": 3
   },
   "file_extension": ".py",
   "mimetype": "text/x-python",
   "name": "python",
   "nbconvert_exporter": "python",
   "pygments_lexer": "ipython3",
   "version": "3.10.11"
  },
  "orig_nbformat": 4
 },
 "nbformat": 4,
 "nbformat_minor": 2
}
