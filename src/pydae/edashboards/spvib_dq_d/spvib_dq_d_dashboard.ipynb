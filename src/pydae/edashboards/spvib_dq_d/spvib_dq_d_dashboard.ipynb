{
  "cells": [
    {
      "cell_type": "code",
      "execution_count": 29,
      "metadata": {
        "colab": {
          "base_uri": "https://localhost:8080/"
        },
        "id": "d1VQQw-emSAQ",
        "outputId": "b671c525-e4fd-4a2a-a69f-0ed937bdcbe8"
      },
      "outputs": [
        {
          "name": "stdout",
          "output_type": "stream",
          "text": [
            "Note: you may need to restart the kernel to use updated packages.\n"
          ]
        }
      ],
      "source": [
        "%pip install pydae -q"
      ]
    },
    {
      "cell_type": "code",
      "execution_count": 5,
      "metadata": {},
      "outputs": [],
      "source": [
        "import spvib_dq_d"
      ]
    },
    {
      "cell_type": "code",
      "execution_count": 7,
      "metadata": {},
      "outputs": [
        {
          "data": {
            "text/plain": [
              "True"
            ]
          },
          "execution_count": 7,
          "metadata": {},
          "output_type": "execute_result"
        }
      ],
      "source": [
        "model = spvib_dq_d.model()\n",
        "model.ini({'p_s_ppc_POI':0.8},'xy_0.json')"
      ]
    },
    {
      "cell_type": "code",
      "execution_count": 1,
      "metadata": {},
      "outputs": [],
      "source": [
        "from spvib_dq_d_module import dashboard"
      ]
    },
    {
      "cell_type": "code",
      "execution_count": 2,
      "metadata": {},
      "outputs": [],
      "source": [
        "db = dashboard()\n",
        "#db.build()"
      ]
    },
    {
      "cell_type": "code",
      "execution_count": 3,
      "metadata": {},
      "outputs": [
        {
          "data": {
            "application/vnd.jupyter.widget-view+json": {
              "model_id": "bbf33a7063dc45feb8af4399387956d9",
              "version_major": 2,
              "version_minor": 0
            },
            "text/plain": [
              "VBox(children=(HBox(children=(HTML(value='<svg xmlns=\"http://www.w3.org/2000/svg\" xmlns:cc=\"http://creativecom…"
            ]
          },
          "metadata": {},
          "output_type": "display_data"
        },
        {
          "data": {
            "text/plain": [
              "<Figure size 640x480 with 0 Axes>"
            ]
          },
          "metadata": {},
          "output_type": "display_data"
        },
        {
          "data": {
            "image/png": "[encoded data removed]",
            "text/plain": [
              "<Figure size 900x400 with 2 Axes>"
            ]
          },
          "metadata": {},
          "output_type": "display_data"
        }
      ],
      "source": [
        "db.ini()\n",
        "db.widgets()\n",
        "db.show()"
      ]
    }
  ],
  "metadata": {
    "colab": {
      "provenance": []
    },
    "kernelspec": {
      "display_name": "Python 3",
      "name": "python3"
    },
    "language_info": {
      "codemirror_mode": {
        "name": "ipython",
        "version": 3
      },
      "file_extension": ".py",
      "mimetype": "text/x-python",
      "name": "python",
      "nbconvert_exporter": "python",
      "pygments_lexer": "ipython3",
      "version": "3.10.11"
    },
    "widgets": {
      "application/vnd.jupyter.widget-state+json": {
        "0a9f126d8df940d8b2561abe9b25afa1": {
          "model_module": "@jupyter-widgets/base",
          "model_module_version": "1.2.0",
          "model_name": "LayoutModel",
          "state": {
            "_model_module": "@jupyter-widgets/base",
            "_model_module_version": "1.2.0",
            "_model_name": "LayoutModel",
            "_view_count": null,
            "_view_module": "@jupyter-widgets/base",
            "_view_module_version": "1.2.0",
            "_view_name": "LayoutView",
            "align_content": null,
            "align_items": null,
            "align_self": null,
            "border": null,
            "bottom": null,
            "display": null,
            "flex": null,
            "flex_flow": null,
            "grid_area": null,
            "grid_auto_columns": null,
            "grid_auto_flow": null,
            "grid_auto_rows": null,
            "grid_column": null,
            "grid_gap": null,
            "grid_row": null,
            "grid_template_areas": null,
            "grid_template_columns": null,
            "grid_template_rows": null,
            "height": null,
            "justify_content": null,
            "justify_items": null,
            "left": null,
            "margin": null,
            "max_height": null,
            "max_width": null,
            "min_height": null,
            "min_width": null,
            "object_fit": null,
            "object_position": null,
            "order": null,
            "overflow": null,
            "overflow_x": null,
            "overflow_y": null,
            "padding": null,
            "right": null,
            "top": null,
            "visibility": null,
            "width": null
          }
        },
        "1c45b2848e5c4034bdd03751a396e1a1": {
          "model_module": "@jupyter-widgets/controls",
          "model_module_version": "1.5.0",
          "model_name": "HBoxModel",
          "state": {
            "_dom_classes": [],
            "_model_module": "@jupyter-widgets/controls",
            "_model_module_version": "1.5.0",
            "_model_name": "HBoxModel",
            "_view_count": null,
            "_view_module": "@jupyter-widgets/controls",
            "_view_module_version": "1.5.0",
            "_view_name": "HBoxView",
            "box_style": "",
            "children": [
              "IPY_MODEL_50c578f2ee5f4567a19cfcd39a92f289"
            ],
            "layout": "IPY_MODEL_70d7b990b3364a68bcad4d1f368e0377"
          }
        },
        "293d7b64caa84916973a7acc789230c8": {
          "model_module": "@jupyter-widgets/base",
          "model_module_version": "1.2.0",
          "model_name": "LayoutModel",
          "state": {
            "_model_module": "@jupyter-widgets/base",
            "_model_module_version": "1.2.0",
            "_model_name": "LayoutModel",
            "_view_count": null,
            "_view_module": "@jupyter-widgets/base",
            "_view_module_version": "1.2.0",
            "_view_name": "LayoutView",
            "align_content": null,
            "align_items": null,
            "align_self": null,
            "border": null,
            "bottom": null,
            "display": null,
            "flex": null,
            "flex_flow": null,
            "grid_area": null,
            "grid_auto_columns": null,
            "grid_auto_flow": null,
            "grid_auto_rows": null,
            "grid_column": null,
            "grid_gap": null,
            "grid_row": null,
            "grid_template_areas": null,
            "grid_template_columns": null,
            "grid_template_rows": null,
            "height": null,
            "justify_content": null,
            "justify_items": null,
            "left": null,
            "margin": null,
            "max_height": null,
            "max_width": null,
            "min_height": null,
            "min_width": null,
            "object_fit": null,
            "object_position": null,
            "order": null,
            "overflow": null,
            "overflow_x": null,
            "overflow_y": null,
            "padding": null,
            "right": null,
            "top": null,
            "visibility": null,
            "width": null
          }
        },
        "3c2aef374f544b1ab7d730b9de0cf20b": {
          "model_module": "@jupyter-widgets/base",
          "model_module_version": "1.2.0",
          "model_name": "LayoutModel",
          "state": {
            "_model_module": "@jupyter-widgets/base",
            "_model_module_version": "1.2.0",
            "_model_name": "LayoutModel",
            "_view_count": null,
            "_view_module": "@jupyter-widgets/base",
            "_view_module_version": "1.2.0",
            "_view_name": "LayoutView",
            "align_content": null,
            "align_items": null,
            "align_self": null,
            "border": null,
            "bottom": null,
            "display": null,
            "flex": null,
            "flex_flow": null,
            "grid_area": null,
            "grid_auto_columns": null,
            "grid_auto_flow": null,
            "grid_auto_rows": null,
            "grid_column": null,
            "grid_gap": null,
            "grid_row": null,
            "grid_template_areas": null,
            "grid_template_columns": null,
            "grid_template_rows": null,
            "height": null,
            "justify_content": null,
            "justify_items": null,
            "left": null,
            "margin": null,
            "max_height": null,
            "max_width": null,
            "min_height": null,
            "min_width": null,
            "object_fit": null,
            "object_position": null,
            "order": null,
            "overflow": null,
            "overflow_x": null,
            "overflow_y": null,
            "padding": null,
            "right": null,
            "top": null,
            "visibility": null,
            "width": null
          }
        },
        "3ce73909ffe64cd59ab0635e48eb5ef0": {
          "model_module": "@jupyter-widgets/controls",
          "model_module_version": "1.5.0",
          "model_name": "HBoxModel",
          "state": {
            "_dom_classes": [],
            "_model_module": "@jupyter-widgets/controls",
            "_model_module_version": "1.5.0",
            "_model_name": "HBoxModel",
            "_view_count": null,
            "_view_module": "@jupyter-widgets/controls",
            "_view_module_version": "1.5.0",
            "_view_name": "HBoxView",
            "box_style": "",
            "children": [
              "IPY_MODEL_51df437c200442409e3278eb256b5b33",
              "IPY_MODEL_c160a21e63c74978b47d30a5772da613",
              "IPY_MODEL_c0ab5fd7058f4967a6c0d2b715f18f92"
            ],
            "layout": "IPY_MODEL_842e25c8725b43e8a77718a5b704409b"
          }
        },
        "40fdef17078d4944bd1a26fc5dd97efb": {
          "model_module": "@jupyter-widgets/controls",
          "model_module_version": "1.5.0",
          "model_name": "DescriptionStyleModel",
          "state": {
            "_model_module": "@jupyter-widgets/controls",
            "_model_module_version": "1.5.0",
            "_model_name": "DescriptionStyleModel",
            "_view_count": null,
            "_view_module": "@jupyter-widgets/base",
            "_view_module_version": "1.2.0",
            "_view_name": "StyleView",
            "description_width": ""
          }
        },
        "464be180a95a4c09bc9e5693dd47eaf1": {
          "model_module": "@jupyter-widgets/controls",
          "model_module_version": "1.5.0",
          "model_name": "ProgressStyleModel",
          "state": {
            "_model_module": "@jupyter-widgets/controls",
            "_model_module_version": "1.5.0",
            "_model_name": "ProgressStyleModel",
            "_view_count": null,
            "_view_module": "@jupyter-widgets/base",
            "_view_module_version": "1.2.0",
            "_view_name": "StyleView",
            "bar_color": null,
            "description_width": ""
          }
        },
        "50c578f2ee5f4567a19cfcd39a92f289": {
          "model_module": "@jupyter-widgets/controls",
          "model_module_version": "1.5.0",
          "model_name": "HTMLModel",
          "state": {
            "_dom_classes": [],
            "_model_module": "@jupyter-widgets/controls",
            "_model_module_version": "1.5.0",
            "_model_name": "HTMLModel",
            "_view_count": null,
            "_view_module": "@jupyter-widgets/controls",
            "_view_module_version": "1.5.0",
            "_view_name": "HTMLView",
            "description": "",
            "description_tooltip": null,
            "layout": "IPY_MODEL_3c2aef374f544b1ab7d730b9de0cf20b",
            "placeholder": "",
            "style": "IPY_MODEL_40fdef17078d4944bd1a26fc5dd97efb",
            "value": "<svg xmlns=\"http://www.w3.org/2000/svg\" xmlns:cc=\"http://creativecommons.org/ns#\" xmlns:dc=\"http://purl.org/dc/elements/1.1/\" xmlns:rdf=\"http://www.w3.org/1999/02/22-rdf-syntax-ns#\" width=\"648pt\" height=\"288pt\" viewBox=\"0 0 648 288\" version=\"1.1\">\n <metadata>\n  <rdf:RDF>\n   <cc:Work>\n    <dc:type rdf:resource=\"http://purl.org/dc/dcmitype/StillImage\" />\n    <dc:date>2023-04-12T10:11:01.024762</dc:date>\n    <dc:format>image/svg+xml</dc:format>\n    <dc:creator>\n     <cc:Agent>\n      <dc:title>Matplotlib v3.7.1, https://matplotlib.org/</dc:title>\n     </cc:Agent>\n    </dc:creator>\n   </cc:Work>\n  </rdf:RDF>\n </metadata>\n <defs>\n  <style type=\"text/css\">*{stroke-linejoin: round; stroke-linecap: butt}</style>\n </defs>\n <g id=\"figure_1\">\n  <g id=\"axes_1\">\n   <g id=\"patch_1\">\n    <path d=\"M 38.985312 119.7035  L 321.095391 119.7035  L 321.095391 13.139297  L 38.985312 13.139297  z \" style=\"fill: #ffffff\" />\n   </g>\n   <g id=\"matplotlib.axis_1\">\n    <g id=\"xtick_1\">\n     <g id=\"line2d_1\">\n      <path d=\"M 51.808498 119.7035  L 51.808498 13.139297  \" clip-path=\"url(#p0b0b4bad0e)\" style=\"fill: none; stroke: #cbcbcb\" />\n     </g>\n     <g id=\"line2d_2\" />\n     <g id=\"text_1\">\n      <text style=\"font: 9px 'DejaVu Sans', 'Bitstream Vera Sans', 'Computer Modern Sans Serif', 'Lucida Grande', 'Verdana', 'Geneva', 'Lucid', 'Arial', 'Helvetica', 'Avant Garde', sans-serif; text-anchor: middle\" x=\"51.808498\" y=\"130.042094\" transform=\"rotate(-0 51.808498 130.042094)\">0</text>\n     </g>\n    </g>\n    <g id=\"xtick_2\">\n     <g id=\"line2d_3\">\n      <path d=\"M 94.566702 119.7035  L 94.566702 13.139297  \" clip-path=\"url(#p0b0b4bad0e)\" style=\"fill: none; stroke: #cbcbcb\" />\n     </g>\n     <g id=\"line2d_4\" />\n     <g id=\"text_2\">\n      <text style=\"font: 9px 'DejaVu Sans', 'Bitstream Vera Sans', 'Computer Modern Sans Serif', 'Lucida Grande', 'Verdana', 'Geneva', 'Lucid', 'Arial', 'Helvetica', 'Avant Garde', sans-serif; text-anchor: middle\" x=\"94.566702\" y=\"130.042094\" transform=\"rotate(-0 94.566702 130.042094)\">5</text>\n     </g>\n    </g>\n    <g id=\"xtick_3\">\n     <g id=\"line2d_5\">\n      <path d=\"M 137.324906 119.7035  L 137.324906 13.139297  \" clip-path=\"url(#p0b0b4bad0e)\" style=\"fill: none; stroke: #cbcbcb\" />\n     </g>\n     <g id=\"line2d_6\" />\n     <g id=\"text_3\">\n      <text style=\"font: 9px 'DejaVu Sans', 'Bitstream Vera Sans', 'Computer Modern Sans Serif', 'Lucida Grande', 'Verdana', 'Geneva', 'Lucid', 'Arial', 'Helvetica', 'Avant Garde', sans-serif; text-anchor: middle\" x=\"137.324906\" y=\"130.042094\" transform=\"rotate(-0 137.324906 130.042094)\">10</text>\n     </g>\n    </g>\n    <g id=\"xtick_4\">\n     <g id=\"line2d_7\">\n      <path d=\"M 180.08311 119.7035  L 180.08311 13.139297  \" clip-path=\"url(#p0b0b4bad0e)\" style=\"fill: none; stroke: #cbcbcb\" />\n     </g>\n     <g id=\"line2d_8\" />\n     <g id=\"text_4\">\n      <text style=\"font: 9px 'DejaVu Sans', 'Bitstream Vera Sans', 'Computer Modern Sans Serif', 'Lucida Grande', 'Verdana', 'Geneva', 'Lucid', 'Arial', 'Helvetica', 'Avant Garde', sans-serif; text-anchor: middle\" x=\"180.08311\" y=\"130.042094\" transform=\"rotate(-0 180.08311 130.042094)\">15</text>\n     </g>\n    </g>\n    <g id=\"xtick_5\">\n     <g id=\"line2d_9\">\n      <path d=\"M 222.841314 119.7035  L 222.841314 13.139297  \" clip-path=\"url(#p0b0b4bad0e)\" style=\"fill: none; stroke: #cbcbcb\" />\n     </g>\n     <g id=\"line2d_10\" />\n     <g id=\"text_5\">\n      <text style=\"font: 9px 'DejaVu Sans', 'Bitstream Vera Sans', 'Computer Modern Sans Serif', 'Lucida Grande', 'Verdana', 'Geneva', 'Lucid', 'Arial', 'Helvetica', 'Avant Garde', sans-serif; text-anchor: middle\" x=\"222.841314\" y=\"130.042094\" transform=\"rotate(-0 222.841314 130.042094)\">20</text>\n     </g>\n    </g>\n    <g id=\"xtick_6\">\n     <g id=\"line2d_11\">\n      <path d=\"M 265.599518 119.7035  L 265.599518 13.139297  \" clip-path=\"url(#p0b0b4bad0e)\" style=\"fill: none; stroke: #cbcbcb\" />\n     </g>\n     <g id=\"line2d_12\" />\n     <g id=\"text_6\">\n      <text style=\"font: 9px 'DejaVu Sans', 'Bitstream Vera Sans', 'Computer Modern Sans Serif', 'Lucida Grande', 'Verdana', 'Geneva', 'Lucid', 'Arial', 'Helvetica', 'Avant Garde', sans-serif; text-anchor: middle\" x=\"265.599518\" y=\"130.042094\" transform=\"rotate(-0 265.599518 130.042094)\">25</text>\n     </g>\n    </g>\n    <g id=\"xtick_7\">\n     <g id=\"line2d_13\">\n      <path d=\"M 308.357722 119.7035  L 308.357722 13.139297  \" clip-path=\"url(#p0b0b4bad0e)\" style=\"fill: none; stroke: #cbcbcb\" />\n     </g>\n     <g id=\"line2d_14\" />\n     <g id=\"text_7\">\n      <text style=\"font: 9px 'DejaVu Sans', 'Bitstream Vera Sans', 'Computer Modern Sans Serif', 'Lucida Grande', 'Verdana', 'Geneva', 'Lucid', 'Arial', 'Helvetica', 'Avant Garde', sans-serif; text-anchor: middle\" x=\"308.357722\" y=\"130.042094\" transform=\"rotate(-0 308.357722 130.042094)\">30</text>\n     </g>\n    </g>\n   </g>\n   <g id=\"matplotlib.axis_2\">\n    <g id=\"ytick_1\">\n     <g id=\"line2d_15\">\n      <path d=\"M 38.985312 119.7035  L 321.095391 119.7035  \" clip-path=\"url(#p0b0b4bad0e)\" style=\"fill: none; stroke: #cbcbcb\" />\n     </g>\n     <g id=\"line2d_16\" />\n     <g id=\"text_8\">\n      <text style=\"font: 9px 'DejaVu Sans', 'Bitstream Vera Sans', 'Computer Modern Sans Serif', 'Lucida Grande', 'Verdana', 'Geneva', 'Lucid', 'Arial', 'Helvetica', 'Avant Garde', sans-serif; text-anchor: end\" x=\"35.485312\" y=\"123.122797\" transform=\"rotate(-0 35.485312 123.122797)\">&#8722;1</text>\n     </g>\n    </g>\n    <g id=\"ytick_2\">\n     <g id=\"line2d_17\">\n      <path d=\"M 38.985312 84.182099  L 321.095391 84.182099  \" clip-path=\"url(#p0b0b4bad0e)\" style=\"fill: none; stroke: #cbcbcb\" />\n     </g>\n     <g id=\"line2d_18\" />\n     <g id=\"text_9\">\n      <text style=\"font: 9px 'DejaVu Sans', 'Bitstream Vera Sans', 'Computer Modern Sans Serif', 'Lucida Grande', 'Verdana', 'Geneva', 'Lucid', 'Arial', 'Helvetica', 'Avant Garde', sans-serif; text-anchor: end\" x=\"35.485312\" y=\"87.601396\" transform=\"rotate(-0 35.485312 87.601396)\">0</text>\n     </g>\n    </g>\n    <g id=\"ytick_3\">\n     <g id=\"line2d_19\">\n      <path d=\"M 38.985312 48.660698  L 321.095391 48.660698  \" clip-path=\"url(#p0b0b4bad0e)\" style=\"fill: none; stroke: #cbcbcb\" />\n     </g>\n     <g id=\"line2d_20\" />\n     <g id=\"text_10\">\n      <text style=\"font: 9px 'DejaVu Sans', 'Bitstream Vera Sans', 'Computer Modern Sans Serif', 'Lucida Grande', 'Verdana', 'Geneva', 'Lucid', 'Arial', 'Helvetica', 'Avant Garde', sans-serif; text-anchor: end\" x=\"35.485312\" y=\"52.079995\" transform=\"rotate(-0 35.485312 52.079995)\">1</text>\n     </g>\n    </g>\n    <g id=\"ytick_4\">\n     <g id=\"line2d_21\">\n      <path d=\"M 38.985312 13.139297  L 321.095391 13.139297  \" clip-path=\"url(#p0b0b4bad0e)\" style=\"fill: none; stroke: #cbcbcb\" />\n     </g>\n     <g id=\"line2d_22\" />\n     <g id=\"text_11\">\n      <text style=\"font: 9px 'DejaVu Sans', 'Bitstream Vera Sans', 'Computer Modern Sans Serif', 'Lucida Grande', 'Verdana', 'Geneva', 'Lucid', 'Arial', 'Helvetica', 'Avant Garde', sans-serif; text-anchor: end\" x=\"35.485312\" y=\"16.558594\" transform=\"rotate(-0 35.485312 16.558594)\">2</text>\n     </g>\n    </g>\n   </g>\n   <g id=\"line2d_23\">\n    <path d=\"M 51.808498 84.182099  L 51.894014 84.182099  L 52.663662 84.182099  L 53.518826 84.182099  L 54.37399 84.182099  L 55.229154 84.182099  L 56.084318 84.182099  L 56.939482 84.182099  L 57.794646 84.182099  L 58.649811 84.182099  L 59.504975 84.182099  L 60.360139 84.182099  L 61.215303 81.504432  L 62.070467 74.544465  L 62.925631 65.81787  L 63.780795 58.363656  L 64.635959 54.81556  L 65.491123 56.013295  L 66.346287 60.307191  L 67.201451 64.719625  L 68.056615 66.91275  L 68.911779 66.175767  L 69.766944 63.245611  L 70.622108 59.675997  L 71.477272 57.106883  L 72.332436 56.522263  L 73.1876 57.787669  L 74.042764 59.836573  L 74.897928 61.398381  L 75.753092 61.695936  L 76.608256 60.704237  L 77.46342 59.002359  L 78.318584 57.415146  L 79.173748 56.602856  L 80.028912 56.755872  L 80.884077 57.551639  L 81.739241 58.395353  L 82.594405 58.770948  L 83.449569 58.482107  L 84.304733 57.687434  L 85.159897 56.766748  L 86.015061 56.108738  L 86.870225 55.919841  L 87.725389 56.143465  L 88.580553 56.524633  L 89.435717 56.769746  L 90.290881 56.700384  L 91.146046 56.322595  L 92.00121 55.795018  L 92.856374 55.329185  L 93.711538 55.077763  L 94.566702 55.065573  L 95.421866 55.194056  L 96.27703 55.308798  L 97.132194 55.286014  L 97.987358 55.09019  L 98.842522 54.778799  L 99.697686 54.460439  L 100.55285 54.233445  L 101.408014 54.137514  L 102.263179 54.141201  L 103.118343 54.167559  L 103.973507 54.139716  L 104.828671 54.019968  L 105.683835 53.823413  L 106.538999 53.603058  L 107.394163 53.417841  L 108.249327 53.301778  L 109.104491 53.249756  L 109.959655 53.225253  L 110.814819 53.183274  L 111.669983 53.094584  L 112.525148 52.958584  L 113.380312 52.799812  L 114.235476 52.652068  L 115.09064 52.539819  L 115.945804 52.466743  L 116.800968 52.416465  L 117.656132 52.363592  L 118.511296 52.28802  L 119.36646 52.184641  L 120.221624 52.064056  L 121.076788 51.945076  L 121.931952 51.843922  L 122.787116 51.766102  L 123.642281 51.704863  L 124.497445 51.646235  L 125.352609 51.577208  L 126.207773 51.49239  L 127.062937 51.39586  L 127.918101 51.297856  L 128.773265 51.208657  L 129.628429 51.133185  L 130.483593 51.069073  L 131.338757 51.008782  L 132.193921 50.944182  L 133.049085 50.87089  L 133.904249 50.790102  L 134.759414 50.707287  L 135.614578 50.628783  L 136.469742 50.558345  L 137.324906 50.495471  L 145.106899 49.909966  L 153.65854 49.332407  L 162.210181 48.809487  L 170.761821 48.337305  L 179.313462 47.91153  L 187.865103 47.526326  L 196.416744 47.175902  L 204.968384 46.855729  L 213.520025 46.562516  L 222.071666 46.293613  L 230.623307 46.046602  L 239.174948 45.819246  L 247.726588 45.60957  L 256.278229 45.415893  L 264.82987 45.236762  L 273.381511 45.070889  L 281.933152 44.917115  L 290.484792 44.774399  L 299.036433 44.641812  \" clip-path=\"url(#p0b0b4bad0e)\" style=\"fill: none; stroke: #5bc0de; stroke-width: 3\" />\n   </g>\n   <g id=\"patch_2\">\n    <path d=\"M 38.985312 119.7035  L 38.985312 13.139297  \" style=\"fill: none; stroke: #ffffff; stroke-width: 2; stroke-linejoin: miter; stroke-linecap: square\" />\n   </g>\n   <g id=\"patch_3\">\n    <path d=\"M 321.095391 119.7035  L 321.095391 13.139297  \" style=\"fill: none; stroke: #ffffff; stroke-width: 2; stroke-linejoin: miter; stroke-linecap: square\" />\n   </g>\n   <g id=\"patch_4\">\n    <path d=\"M 38.985312 119.7035  L 321.095391 119.7035  \" style=\"fill: none; stroke: #ffffff; stroke-width: 2; stroke-linejoin: miter; stroke-linecap: square\" />\n   </g>\n   <g id=\"patch_5\">\n    <path d=\"M 38.985312 13.139297  L 321.095391 13.139297  \" style=\"fill: none; stroke: #ffffff; stroke-width: 2; stroke-linejoin: miter; stroke-linecap: square\" />\n   </g>\n   <g id=\"legend_1\">\n    <g id=\"patch_6\">\n     <path d=\"M 275.895391 35.817422  L 314.095391 35.817422  Q 316.095391 35.817422 316.095391 33.817422  L 316.095391 20.139297  Q 316.095391 18.139297 314.095391 18.139297  L 275.895391 18.139297  Q 273.895391 18.139297 273.895391 20.139297  L 273.895391 33.817422  Q 273.895391 35.817422 275.895391 35.817422  z \" style=\"fill: #ffffff; opacity: 0.8; stroke: #cccccc; stroke-width: 0.5; stroke-linejoin: miter\" />\n    </g>\n    <g id=\"line2d_24\">\n     <path d=\"M 277.895391 26.237734  L 287.895391 26.237734  L 297.895391 26.237734  \" style=\"fill: none; stroke: #5bc0de; stroke-width: 3\" />\n    </g>\n    <g id=\"text_12\">\n     \n     <g transform=\"translate(305.895391 29.737734)\">\n      <text>\n       <tspan style=\"font: 10px 'DejaVu Sans'\" x=\"0\" y=\"-0.578125\">&#948;</tspan>\n      </text>\n     </g>\n    </g>\n   </g>\n  </g>\n  <g id=\"axes_2\">\n   <g id=\"patch_7\">\n    <path d=\"M 356.169922 119.7035  L 638.28 119.7035  L 638.28 13.139297  L 356.169922 13.139297  z \" style=\"fill: #ffffff\" />\n   </g>\n   <g id=\"matplotlib.axis_3\">\n    <g id=\"xtick_8\">\n     <g id=\"line2d_25\">\n      <path d=\"M 368.993107 119.7035  L 368.993107 13.139297  \" clip-path=\"url(#pbdd643c3d5)\" style=\"fill: none; stroke: #cbcbcb\" />\n     </g>\n     <g id=\"line2d_26\" />\n     <g id=\"text_13\">\n      <text style=\"font: 9px 'DejaVu Sans', 'Bitstream Vera Sans', 'Computer Modern Sans Serif', 'Lucida Grande', 'Verdana', 'Geneva', 'Lucid', 'Arial', 'Helvetica', 'Avant Garde', sans-serif; text-anchor: middle\" x=\"368.993107\" y=\"130.042094\" transform=\"rotate(-0 368.993107 130.042094)\">0</text>\n     </g>\n    </g>\n    <g id=\"xtick_9\">\n     <g id=\"line2d_27\">\n      <path d=\"M 411.751311 119.7035  L 411.751311 13.139297  \" clip-path=\"url(#pbdd643c3d5)\" style=\"fill: none; stroke: #cbcbcb\" />\n     </g>\n     <g id=\"line2d_28\" />\n     <g id=\"text_14\">\n      <text style=\"font: 9px 'DejaVu Sans', 'Bitstream Vera Sans', 'Computer Modern Sans Serif', 'Lucida Grande', 'Verdana', 'Geneva', 'Lucid', 'Arial', 'Helvetica', 'Avant Garde', sans-serif; text-anchor: middle\" x=\"411.751311\" y=\"130.042094\" transform=\"rotate(-0 411.751311 130.042094)\">5</text>\n     </g>\n    </g>\n    <g id=\"xtick_10\">\n     <g id=\"line2d_29\">\n      <path d=\"M 454.509515 119.7035  L 454.509515 13.139297  \" clip-path=\"url(#pbdd643c3d5)\" style=\"fill: none; stroke: #cbcbcb\" />\n     </g>\n     <g id=\"line2d_30\" />\n     <g id=\"text_15\">\n      <text style=\"font: 9px 'DejaVu Sans', 'Bitstream Vera Sans', 'Computer Modern Sans Serif', 'Lucida Grande', 'Verdana', 'Geneva', 'Lucid', 'Arial', 'Helvetica', 'Avant Garde', sans-serif; text-anchor: middle\" x=\"454.509515\" y=\"130.042094\" transform=\"rotate(-0 454.509515 130.042094)\">10</text>\n     </g>\n    </g>\n    <g id=\"xtick_11\">\n     <g id=\"line2d_31\">\n      <path d=\"M 497.267719 119.7035  L 497.267719 13.139297  \" clip-path=\"url(#pbdd643c3d5)\" style=\"fill: none; stroke: #cbcbcb\" />\n     </g>\n     <g id=\"line2d_32\" />\n     <g id=\"text_16\">\n      <text style=\"font: 9px 'DejaVu Sans', 'Bitstream Vera Sans', 'Computer Modern Sans Serif', 'Lucida Grande', 'Verdana', 'Geneva', 'Lucid', 'Arial', 'Helvetica', 'Avant Garde', sans-serif; text-anchor: middle\" x=\"497.267719\" y=\"130.042094\" transform=\"rotate(-0 497.267719 130.042094)\">15</text>\n     </g>\n    </g>\n    <g id=\"xtick_12\">\n     <g id=\"line2d_33\">\n      <path d=\"M 540.025923 119.7035  L 540.025923 13.139297  \" clip-path=\"url(#pbdd643c3d5)\" style=\"fill: none; stroke: #cbcbcb\" />\n     </g>\n     <g id=\"line2d_34\" />\n     <g id=\"text_17\">\n      <text style=\"font: 9px 'DejaVu Sans', 'Bitstream Vera Sans', 'Computer Modern Sans Serif', 'Lucida Grande', 'Verdana', 'Geneva', 'Lucid', 'Arial', 'Helvetica', 'Avant Garde', sans-serif; text-anchor: middle\" x=\"540.025923\" y=\"130.042094\" transform=\"rotate(-0 540.025923 130.042094)\">20</text>\n     </g>\n    </g>\n    <g id=\"xtick_13\">\n     <g id=\"line2d_35\">\n      <path d=\"M 582.784127 119.7035  L 582.784127 13.139297  \" clip-path=\"url(#pbdd643c3d5)\" style=\"fill: none; stroke: #cbcbcb\" />\n     </g>\n     <g id=\"line2d_36\" />\n     <g id=\"text_18\">\n      <text style=\"font: 9px 'DejaVu Sans', 'Bitstream Vera Sans', 'Computer Modern Sans Serif', 'Lucida Grande', 'Verdana', 'Geneva', 'Lucid', 'Arial', 'Helvetica', 'Avant Garde', sans-serif; text-anchor: middle\" x=\"582.784127\" y=\"130.042094\" transform=\"rotate(-0 582.784127 130.042094)\">25</text>\n     </g>\n    </g>\n    <g id=\"xtick_14\">\n     <g id=\"line2d_37\">\n      <path d=\"M 625.542331 119.7035  L 625.542331 13.139297  \" clip-path=\"url(#pbdd643c3d5)\" style=\"fill: none; stroke: #cbcbcb\" />\n     </g>\n     <g id=\"line2d_38\" />\n     <g id=\"text_19\">\n      <text style=\"font: 9px 'DejaVu Sans', 'Bitstream Vera Sans', 'Computer Modern Sans Serif', 'Lucida Grande', 'Verdana', 'Geneva', 'Lucid', 'Arial', 'Helvetica', 'Avant Garde', sans-serif; text-anchor: middle\" x=\"625.542331\" y=\"130.042094\" transform=\"rotate(-0 625.542331 130.042094)\">30</text>\n     </g>\n    </g>\n   </g>\n   <g id=\"matplotlib.axis_4\">\n    <g id=\"ytick_5\">\n     <g id=\"line2d_39\">\n      <path d=\"M 356.169922 119.7035  L 638.28 119.7035  \" clip-path=\"url(#pbdd643c3d5)\" style=\"fill: none; stroke: #cbcbcb\" />\n     </g>\n     <g id=\"line2d_40\" />\n     <g id=\"text_20\">\n      <text style=\"font: 9px 'DejaVu Sans', 'Bitstream Vera Sans', 'Computer Modern Sans Serif', 'Lucida Grande', 'Verdana', 'Geneva', 'Lucid', 'Arial', 'Helvetica', 'Avant Garde', sans-serif; text-anchor: end\" x=\"352.669922\" y=\"123.122797\" transform=\"rotate(-0 352.669922 123.122797)\">0.8</text>\n     </g>\n    </g>\n    <g id=\"ytick_6\">\n     <g id=\"line2d_41\">\n      <path d=\"M 356.169922 93.062449  L 638.28 93.062449  \" clip-path=\"url(#pbdd643c3d5)\" style=\"fill: none; stroke: #cbcbcb\" />\n     </g>\n     <g id=\"line2d_42\" />\n     <g id=\"text_21\">\n      <text style=\"font: 9px 'DejaVu Sans', 'Bitstream Vera Sans', 'Computer Modern Sans Serif', 'Lucida Grande', 'Verdana', 'Geneva', 'Lucid', 'Arial', 'Helvetica', 'Avant Garde', sans-serif; text-anchor: end\" x=\"352.669922\" y=\"96.481746\" transform=\"rotate(-0 352.669922 96.481746)\">0.9</text>\n     </g>\n    </g>\n    <g id=\"ytick_7\">\n     <g id=\"line2d_43\">\n      <path d=\"M 356.169922 66.421398  L 638.28 66.421398  \" clip-path=\"url(#pbdd643c3d5)\" style=\"fill: none; stroke: #cbcbcb\" />\n     </g>\n     <g id=\"line2d_44\" />\n     <g id=\"text_22\">\n      <text style=\"font: 9px 'DejaVu Sans', 'Bitstream Vera Sans', 'Computer Modern Sans Serif', 'Lucida Grande', 'Verdana', 'Geneva', 'Lucid', 'Arial', 'Helvetica', 'Avant Garde', sans-serif; text-anchor: end\" x=\"352.669922\" y=\"69.840695\" transform=\"rotate(-0 352.669922 69.840695)\">1.0</text>\n     </g>\n    </g>\n    <g id=\"ytick_8\">\n     <g id=\"line2d_45\">\n      <path d=\"M 356.169922 39.780348  L 638.28 39.780348  \" clip-path=\"url(#pbdd643c3d5)\" style=\"fill: none; stroke: #cbcbcb\" />\n     </g>\n     <g id=\"line2d_46\" />\n     <g id=\"text_23\">\n      <text style=\"font: 9px 'DejaVu Sans', 'Bitstream Vera Sans', 'Computer Modern Sans Serif', 'Lucida Grande', 'Verdana', 'Geneva', 'Lucid', 'Arial', 'Helvetica', 'Avant Garde', sans-serif; text-anchor: end\" x=\"352.669922\" y=\"43.199645\" transform=\"rotate(-0 352.669922 43.199645)\">1.1</text>\n     </g>\n    </g>\n    <g id=\"ytick_9\">\n     <g id=\"line2d_47\">\n      <path d=\"M 356.169922 13.139297  L 638.28 13.139297  \" clip-path=\"url(#pbdd643c3d5)\" style=\"fill: none; stroke: #cbcbcb\" />\n     </g>\n     <g id=\"line2d_48\" />\n     <g id=\"text_24\">\n      <text style=\"font: 9px 'DejaVu Sans', 'Bitstream Vera Sans', 'Computer Modern Sans Serif', 'Lucida Grande', 'Verdana', 'Geneva', 'Lucid', 'Arial', 'Helvetica', 'Avant Garde', sans-serif; text-anchor: end\" x=\"352.669922\" y=\"16.558594\" transform=\"rotate(-0 352.669922 16.558594)\">1.2</text>\n     </g>\n    </g>\n   </g>\n   <g id=\"line2d_49\">\n    <path d=\"M 368.993107 66.421402  L 369.078624 66.421402  L 369.848271 66.421402  L 370.703435 66.421402  L 371.558599 66.421402  L 372.413764 66.421402  L 373.268928 66.421402  L 374.124092 66.421402  L 374.979256 66.421402  L 375.83442 66.421402  L 376.689584 66.421402  L 377.544748 66.421402  L 378.399912 66.085082  L 379.255076 65.123349  L 380.11024 63.280975  L 380.965404 61.0454  L 381.820568 59.36553  L 382.675733 58.882747  L 383.530897 60.169914  L 384.386061 62.411376  L 385.241225 63.966105  L 386.096389 64.230039  L 386.951553 63.540964  L 387.806717 62.494188  L 388.661881 61.641897  L 389.517045 61.352063  L 390.372209 61.806777  L 391.227373 62.841878  L 392.082537 63.898093  L 392.937701 64.469293  L 393.792866 64.44818  L 394.64803 64.050748  L 395.503194 63.601337  L 396.358358 63.370879  L 397.213522 63.502064  L 398.068686 63.967586  L 398.92385 64.562362  L 399.779014 65.022425  L 400.634178 65.198288  L 401.489342 65.118266  L 402.344506 64.928087  L 403.19967 64.792887  L 404.054834 64.824006  L 404.909999 65.041914  L 405.765163 65.3717  L 406.620327 65.685123  L 407.475491 65.877487  L 408.330655 65.92327  L 409.185819 65.874709  L 410.040983 65.819505  L 410.896147 65.832861  L 411.751311 65.945692  L 412.606475 66.135373  L 413.461639 66.34147  L 414.316803 66.501213  L 415.171968 66.583823  L 416.027132 66.602043  L 416.882296 66.598063  L 417.73746 66.617565  L 418.592624 66.687283  L 419.447788 66.804712  L 420.302952 66.942606  L 421.158116 67.065659  L 422.01328 67.150124  L 422.868444 67.194833  L 423.723608 67.218412  L 424.578772 67.246737  L 425.433936 67.298986  L 426.289101 67.379075  L 427.144265 67.475585  L 427.999429 67.569399  L 428.854593 67.644613  L 429.709757 67.696508  L 430.564921 67.732491  L 431.420085 67.766546  L 432.275249 67.811194  L 433.130413 67.871367  L 433.985577 67.942875  L 434.840741 68.015666  L 435.695905 68.079781  L 436.55107 68.13058  L 437.406234 68.170497  L 438.261398 68.206829  L 439.116562 68.247322  L 439.971726 68.296141  L 440.82689 68.352185  L 441.682054 68.410312  L 442.537218 68.464516  L 443.392382 68.511204  L 444.247546 68.550784  L 445.10271 68.586955  L 445.957874 68.624353  L 446.813038 68.66603  L 447.668203 68.712073  L 448.523367 68.759927  L 449.378531 68.806055  L 450.233695 68.847934  L 451.088859 68.885267  L 451.944023 68.919871  L 452.799187 68.954463  L 453.654351 68.991131  L 454.509515 69.03032  L 462.291508 69.351092  L 470.843149 69.660604  L 479.39479 69.930782  L 487.946431 70.169316  L 496.498071 70.382193  L 505.049712 70.573363  L 513.601353 70.745554  L 522.152994 70.901049  L 530.704635 71.041948  L 539.256275 71.170101  L 547.807916 71.287039  L 556.359557 71.394006  L 564.911198 71.492055  L 573.462839 71.582105  L 582.014479 71.664968  L 590.56612 71.741353  L 599.117761 71.811875  L 607.669402 71.877075  L 616.221043 71.937432  \" clip-path=\"url(#pbdd643c3d5)\" style=\"fill: none; stroke: #5e4485; stroke-width: 3\" />\n   </g>\n   <g id=\"patch_8\">\n    <path d=\"M 356.169922 119.7035  L 356.169922 13.139297  \" style=\"fill: none; stroke: #ffffff; stroke-width: 2; stroke-linejoin: miter; stroke-linecap: square\" />\n   </g>\n   <g id=\"patch_9\">\n    <path d=\"M 638.28 119.7035  L 638.28 13.139297  \" style=\"fill: none; stroke: #ffffff; stroke-width: 2; stroke-linejoin: miter; stroke-linecap: square\" />\n   </g>\n   <g id=\"patch_10\">\n    <path d=\"M 356.169922 119.7035  L 638.28 119.7035  \" style=\"fill: none; stroke: #ffffff; stroke-width: 2; stroke-linejoin: miter; stroke-linecap: square\" />\n   </g>\n   <g id=\"patch_11\">\n    <path d=\"M 356.169922 13.139297  L 638.28 13.139297  \" style=\"fill: none; stroke: #ffffff; stroke-width: 2; stroke-linejoin: miter; stroke-linecap: square\" />\n   </g>\n   <g id=\"legend_2\">\n    <g id=\"patch_12\">\n     <path d=\"M 587.58 35.817422  L 631.28 35.817422  Q 633.28 35.817422 633.28 33.817422  L 633.28 20.139297  Q 633.28 18.139297 631.28 18.139297  L 587.58 18.139297  Q 585.58 18.139297 585.58 20.139297  L 585.58 33.817422  Q 585.58 35.817422 587.58 35.817422  z \" style=\"fill: #ffffff; opacity: 0.8; stroke: #cccccc; stroke-width: 0.5; stroke-linejoin: miter\" />\n    </g>\n    <g id=\"line2d_50\">\n     <path d=\"M 589.58 26.237734  L 599.58 26.237734  L 609.58 26.237734  \" style=\"fill: none; stroke: #5e4485; stroke-width: 3\" />\n    </g>\n    <g id=\"text_25\">\n     \n     <g transform=\"translate(617.58 29.737734)\">\n      <text>\n       <tspan style=\"font: 10px 'DejaVu Sans'\" x=\"0\" y=\"-0.703125\">V</tspan>\n       <tspan style=\"font: 7px 'DejaVu Sans'\" x=\"6.936523\" y=\"0.9375\">1</tspan>\n      </text>\n     </g>\n    </g>\n   </g>\n  </g>\n  <g id=\"axes_3\">\n   <g id=\"patch_13\">\n    <path d=\"M 38.985312 251.617312  L 321.095391 251.617312  L 321.095391 145.053109  L 38.985312 145.053109  z \" style=\"fill: #ffffff\" />\n   </g>\n   <g id=\"matplotlib.axis_5\">\n    <g id=\"xtick_15\">\n     <g id=\"line2d_51\">\n      <path d=\"M 51.808498 251.617312  L 51.808498 145.053109  \" clip-path=\"url(#p2b61d9f70c)\" style=\"fill: none; stroke: #cbcbcb\" />\n     </g>\n     <g id=\"line2d_52\" />\n     <g id=\"text_26\">\n      <text style=\"font: 9px 'DejaVu Sans', 'Bitstream Vera Sans', 'Computer Modern Sans Serif', 'Lucida Grande', 'Verdana', 'Geneva', 'Lucid', 'Arial', 'Helvetica', 'Avant Garde', sans-serif; text-anchor: middle\" x=\"51.808498\" y=\"261.955906\" transform=\"rotate(-0 51.808498 261.955906)\">0</text>\n     </g>\n    </g>\n    <g id=\"xtick_16\">\n     <g id=\"line2d_53\">\n      <path d=\"M 94.566702 251.617312  L 94.566702 145.053109  \" clip-path=\"url(#p2b61d9f70c)\" style=\"fill: none; stroke: #cbcbcb\" />\n     </g>\n     <g id=\"line2d_54\" />\n     <g id=\"text_27\">\n      <text style=\"font: 9px 'DejaVu Sans', 'Bitstream Vera Sans', 'Computer Modern Sans Serif', 'Lucida Grande', 'Verdana', 'Geneva', 'Lucid', 'Arial', 'Helvetica', 'Avant Garde', sans-serif; text-anchor: middle\" x=\"94.566702\" y=\"261.955906\" transform=\"rotate(-0 94.566702 261.955906)\">5</text>\n     </g>\n    </g>\n    <g id=\"xtick_17\">\n     <g id=\"line2d_55\">\n      <path d=\"M 137.324906 251.617312  L 137.324906 145.053109  \" clip-path=\"url(#p2b61d9f70c)\" style=\"fill: none; stroke: #cbcbcb\" />\n     </g>\n     <g id=\"line2d_56\" />\n     <g id=\"text_28\">\n      <text style=\"font: 9px 'DejaVu Sans', 'Bitstream Vera Sans', 'Computer Modern Sans Serif', 'Lucida Grande', 'Verdana', 'Geneva', 'Lucid', 'Arial', 'Helvetica', 'Avant Garde', sans-serif; text-anchor: middle\" x=\"137.324906\" y=\"261.955906\" transform=\"rotate(-0 137.324906 261.955906)\">10</text>\n     </g>\n    </g>\n    <g id=\"xtick_18\">\n     <g id=\"line2d_57\">\n      <path d=\"M 180.08311 251.617312  L 180.08311 145.053109  \" clip-path=\"url(#p2b61d9f70c)\" style=\"fill: none; stroke: #cbcbcb\" />\n     </g>\n     <g id=\"line2d_58\" />\n     <g id=\"text_29\">\n      <text style=\"font: 9px 'DejaVu Sans', 'Bitstream Vera Sans', 'Computer Modern Sans Serif', 'Lucida Grande', 'Verdana', 'Geneva', 'Lucid', 'Arial', 'Helvetica', 'Avant Garde', sans-serif; text-anchor: middle\" x=\"180.08311\" y=\"261.955906\" transform=\"rotate(-0 180.08311 261.955906)\">15</text>\n     </g>\n    </g>\n    <g id=\"xtick_19\">\n     <g id=\"line2d_59\">\n      <path d=\"M 222.841314 251.617312  L 222.841314 145.053109  \" clip-path=\"url(#p2b61d9f70c)\" style=\"fill: none; stroke: #cbcbcb\" />\n     </g>\n     <g id=\"line2d_60\" />\n     <g id=\"text_30\">\n      <text style=\"font: 9px 'DejaVu Sans', 'Bitstream Vera Sans', 'Computer Modern Sans Serif', 'Lucida Grande', 'Verdana', 'Geneva', 'Lucid', 'Arial', 'Helvetica', 'Avant Garde', sans-serif; text-anchor: middle\" x=\"222.841314\" y=\"261.955906\" transform=\"rotate(-0 222.841314 261.955906)\">20</text>\n     </g>\n    </g>\n    <g id=\"xtick_20\">\n     <g id=\"line2d_61\">\n      <path d=\"M 265.599518 251.617312  L 265.599518 145.053109  \" clip-path=\"url(#p2b61d9f70c)\" style=\"fill: none; stroke: #cbcbcb\" />\n     </g>\n     <g id=\"line2d_62\" />\n     <g id=\"text_31\">\n      <text style=\"font: 9px 'DejaVu Sans', 'Bitstream Vera Sans', 'Computer Modern Sans Serif', 'Lucida Grande', 'Verdana', 'Geneva', 'Lucid', 'Arial', 'Helvetica', 'Avant Garde', sans-serif; text-anchor: middle\" x=\"265.599518\" y=\"261.955906\" transform=\"rotate(-0 265.599518 261.955906)\">25</text>\n     </g>\n    </g>\n    <g id=\"xtick_21\">\n     <g id=\"line2d_63\">\n      <path d=\"M 308.357722 251.617312  L 308.357722 145.053109  \" clip-path=\"url(#p2b61d9f70c)\" style=\"fill: none; stroke: #cbcbcb\" />\n     </g>\n     <g id=\"line2d_64\" />\n     <g id=\"text_32\">\n      <text style=\"font: 9px 'DejaVu Sans', 'Bitstream Vera Sans', 'Computer Modern Sans Serif', 'Lucida Grande', 'Verdana', 'Geneva', 'Lucid', 'Arial', 'Helvetica', 'Avant Garde', sans-serif; text-anchor: middle\" x=\"308.357722\" y=\"261.955906\" transform=\"rotate(-0 308.357722 261.955906)\">30</text>\n     </g>\n    </g>\n    <g id=\"text_33\">\n     <text style=\"font: 10.8px 'DejaVu Sans', 'Bitstream Vera Sans', 'Computer Modern Sans Serif', 'Lucida Grande', 'Verdana', 'Geneva', 'Lucid', 'Arial', 'Helvetica', 'Avant Garde', sans-serif; text-anchor: middle\" x=\"180.040352\" y=\"276.033937\" transform=\"rotate(-0 180.040352 276.033937)\">Time (s)</text>\n    </g>\n   </g>\n   <g id=\"matplotlib.axis_6\">\n    <g id=\"ytick_10\">\n     <g id=\"line2d_65\">\n      <path d=\"M 38.985312 251.617312  L 321.095391 251.617312  \" clip-path=\"url(#p2b61d9f70c)\" style=\"fill: none; stroke: #cbcbcb\" />\n     </g>\n     <g id=\"line2d_66\" />\n     <g id=\"text_34\">\n      <text style=\"font: 9px 'DejaVu Sans', 'Bitstream Vera Sans', 'Computer Modern Sans Serif', 'Lucida Grande', 'Verdana', 'Geneva', 'Lucid', 'Arial', 'Helvetica', 'Avant Garde', sans-serif; text-anchor: end\" x=\"35.485312\" y=\"255.036609\" transform=\"rotate(-0 35.485312 255.036609)\">0.950</text>\n     </g>\n    </g>\n    <g id=\"ytick_11\">\n     <g id=\"line2d_67\">\n      <path d=\"M 38.985312 224.976262  L 321.095391 224.976262  \" clip-path=\"url(#p2b61d9f70c)\" style=\"fill: none; stroke: #cbcbcb\" />\n     </g>\n     <g id=\"line2d_68\" />\n     <g id=\"text_35\">\n      <text style=\"font: 9px 'DejaVu Sans', 'Bitstream Vera Sans', 'Computer Modern Sans Serif', 'Lucida Grande', 'Verdana', 'Geneva', 'Lucid', 'Arial', 'Helvetica', 'Avant Garde', sans-serif; text-anchor: end\" x=\"35.485312\" y=\"228.395559\" transform=\"rotate(-0 35.485312 228.395559)\">0.975</text>\n     </g>\n    </g>\n    <g id=\"ytick_12\">\n     <g id=\"line2d_69\">\n      <path d=\"M 38.985312 198.335211  L 321.095391 198.335211  \" clip-path=\"url(#p2b61d9f70c)\" style=\"fill: none; stroke: #cbcbcb\" />\n     </g>\n     <g id=\"line2d_70\" />\n     <g id=\"text_36\">\n      <text style=\"font: 9px 'DejaVu Sans', 'Bitstream Vera Sans', 'Computer Modern Sans Serif', 'Lucida Grande', 'Verdana', 'Geneva', 'Lucid', 'Arial', 'Helvetica', 'Avant Garde', sans-serif; text-anchor: end\" x=\"35.485312\" y=\"201.754508\" transform=\"rotate(-0 35.485312 201.754508)\">1.000</text>\n     </g>\n    </g>\n    <g id=\"ytick_13\">\n     <g id=\"line2d_71\">\n      <path d=\"M 38.985312 171.69416  L 321.095391 171.69416  \" clip-path=\"url(#p2b61d9f70c)\" style=\"fill: none; stroke: #cbcbcb\" />\n     </g>\n     <g id=\"line2d_72\" />\n     <g id=\"text_37\">\n      <text style=\"font: 9px 'DejaVu Sans', 'Bitstream Vera Sans', 'Computer Modern Sans Serif', 'Lucida Grande', 'Verdana', 'Geneva', 'Lucid', 'Arial', 'Helvetica', 'Avant Garde', sans-serif; text-anchor: end\" x=\"35.485312\" y=\"175.113457\" transform=\"rotate(-0 35.485312 175.113457)\">1.025</text>\n     </g>\n    </g>\n    <g id=\"ytick_14\">\n     <g id=\"line2d_73\">\n      <path d=\"M 38.985312 145.053109  L 321.095391 145.053109  \" clip-path=\"url(#p2b61d9f70c)\" style=\"fill: none; stroke: #cbcbcb\" />\n     </g>\n     <g id=\"line2d_74\" />\n     <g id=\"text_38\">\n      <text style=\"font: 9px 'DejaVu Sans', 'Bitstream Vera Sans', 'Computer Modern Sans Serif', 'Lucida Grande', 'Verdana', 'Geneva', 'Lucid', 'Arial', 'Helvetica', 'Avant Garde', sans-serif; text-anchor: end\" x=\"35.485312\" y=\"148.472406\" transform=\"rotate(-0 35.485312 148.472406)\">1.050</text>\n     </g>\n    </g>\n   </g>\n   <g id=\"line2d_75\">\n    <path d=\"M 51.808498 198.335211  L 51.894014 198.335211  L 52.663662 198.335211  L 53.518826 198.335211  L 54.37399 198.335211  L 55.229154 198.335211  L 56.084318 198.335211  L 56.939482 198.335211  L 57.794646 198.335211  L 58.649811 198.335211  L 59.504975 198.335211  L 60.360139 198.335211  L 61.215303 193.410472  L 62.070467 190.377733  L 62.925631 190.117257  L 63.780795 192.75743  L 64.635959 197.283891  L 65.491123 201.392418  L 66.346287 202.972771  L 67.201451 201.741007  L 68.056615 199.011045  L 68.911779 196.378647  L 69.766944 194.951965  L 70.622108 195.171918  L 71.477272 196.755417  L 72.332436 198.774064  L 73.1876 200.131823  L 74.042764 200.239376  L 74.897928 199.287565  L 75.753092 197.950092  L 76.608256 196.923583  L 77.46342 196.633332  L 78.318584 197.115057  L 79.173748 198.034772  L 80.028912 198.872765  L 80.884077 199.21757  L 81.739241 198.97887  L 82.594405 198.377521  L 83.449569 197.768592  L 84.304733 197.447569  L 85.159897 197.528978  L 86.015061 197.918646  L 86.870225 198.380933  L 87.725389 198.673597  L 88.580553 198.6759  L 89.435717 198.433409  L 90.290881 198.106089  L 91.146046 197.869525  L 92.00121 197.828539  L 92.856374 197.977437  L 93.711538 198.216617  L 94.566702 198.413805  L 95.421866 198.476175  L 96.27703 198.39291  L 97.132194 198.228345  L 97.987358 198.07787  L 98.842522 198.016007  L 99.697686 198.062712  L 100.55285 198.180642  L 101.408014 198.301156  L 102.263179 198.363391  L 103.118343 198.34459  L 103.973507 198.266491  L 104.828671 198.177873  L 105.683835 198.126062  L 106.538999 198.133329  L 107.394163 198.188952  L 108.249327 198.25886  L 109.104491 198.306052  L 109.959655 198.310066  L 110.814819 198.275359  L 111.669983 198.22565  L 112.525148 198.189173  L 113.380312 198.183662  L 114.235476 198.208639  L 115.09064 198.247965  L 115.945804 198.280119  L 116.800968 198.290031  L 117.656132 198.276079  L 118.511296 198.249197  L 119.36646 198.225588  L 120.221624 198.217684  L 121.076788 198.228198  L 121.931952 198.249927  L 122.787116 198.270716  L 123.642281 198.280405  L 124.497445 198.275882  L 125.352609 198.261828  L 126.207773 198.247304  L 127.062937 198.240478  L 127.918101 198.244482  L 128.773265 198.256389  L 129.628429 198.269481  L 130.483593 198.277228  L 131.338757 198.276691  L 132.193921 198.269634  L 133.049085 198.261022  L 133.904249 198.256027  L 134.759414 198.257287  L 135.614578 198.263822  L 136.469742 198.271981  L 137.324906 198.277685  L 145.106899 198.28179  L 153.65854 198.284386  L 162.210181 198.287085  L 170.761821 198.291477  L 179.313462 198.296323  L 187.865103 198.300378  L 196.416744 198.30346  L 204.968384 198.305997  L 213.520025 198.308347  L 222.071666 198.310572  L 230.623307 198.3126  L 239.174948 198.314392  L 247.726588 198.315985  L 256.278229 198.317428  L 264.82987 198.318753  L 273.381511 198.319966  L 281.933152 198.321072  L 290.484792 198.322081  L 299.036433 198.323006  \" clip-path=\"url(#p2b61d9f70c)\" style=\"fill: none; stroke: #5cb85c; stroke-width: 3\" />\n   </g>\n   <g id=\"patch_14\">\n    <path d=\"M 38.985312 251.617313  L 38.985312 145.053109  \" style=\"fill: none; stroke: #ffffff; stroke-width: 2; stroke-linejoin: miter; stroke-linecap: square\" />\n   </g>\n   <g id=\"patch_15\">\n    <path d=\"M 321.095391 251.617313  L 321.095391 145.053109  \" style=\"fill: none; stroke: #ffffff; stroke-width: 2; stroke-linejoin: miter; stroke-linecap: square\" />\n   </g>\n   <g id=\"patch_16\">\n    <path d=\"M 38.985312 251.617312  L 321.095391 251.617312  \" style=\"fill: none; stroke: #ffffff; stroke-width: 2; stroke-linejoin: miter; stroke-linecap: square\" />\n   </g>\n   <g id=\"patch_17\">\n    <path d=\"M 38.985312 145.053109  L 321.095391 145.053109  \" style=\"fill: none; stroke: #ffffff; stroke-width: 2; stroke-linejoin: miter; stroke-linecap: square\" />\n   </g>\n   <g id=\"legend_3\">\n    <g id=\"patch_18\">\n     <path d=\"M 273.695391 167.731234  L 314.095391 167.731234  Q 316.095391 167.731234 316.095391 165.731234  L 316.095391 152.053109  Q 316.095391 150.053109 314.095391 150.053109  L 273.695391 150.053109  Q 271.695391 150.053109 271.695391 152.053109  L 271.695391 165.731234  Q 271.695391 167.731234 273.695391 167.731234  z \" style=\"fill: #ffffff; opacity: 0.8; stroke: #cccccc; stroke-width: 0.5; stroke-linejoin: miter\" />\n    </g>\n    <g id=\"line2d_76\">\n     <path d=\"M 275.695391 158.151547  L 285.695391 158.151547  L 295.695391 158.151547  \" style=\"fill: none; stroke: #5cb85c; stroke-width: 3\" />\n    </g>\n    <g id=\"text_39\">\n     \n     <g transform=\"translate(303.695391 161.651547)\">\n      <text>\n       <tspan style=\"font: 10px 'DejaVu Sans'\" x=\"0\" y=\"-0.53125\">&#969;</tspan>\n      </text>\n     </g>\n    </g>\n   </g>\n  </g>\n  <g id=\"axes_4\">\n   <g id=\"patch_19\">\n    <path d=\"M 356.169922 251.617312  L 638.28 251.617312  L 638.28 145.053109  L 356.169922 145.053109  z \" style=\"fill: #ffffff\" />\n   </g>\n   <g id=\"matplotlib.axis_7\">\n    <g id=\"xtick_22\">\n     <g id=\"line2d_77\">\n      <path d=\"M 368.993107 251.617312  L 368.993107 145.053109  \" clip-path=\"url(#pd7174ff6be)\" style=\"fill: none; stroke: #cbcbcb\" />\n     </g>\n     <g id=\"line2d_78\" />\n     <g id=\"text_40\">\n      <text style=\"font: 9px 'DejaVu Sans', 'Bitstream Vera Sans', 'Computer Modern Sans Serif', 'Lucida Grande', 'Verdana', 'Geneva', 'Lucid', 'Arial', 'Helvetica', 'Avant Garde', sans-serif; text-anchor: middle\" x=\"368.993107\" y=\"261.955906\" transform=\"rotate(-0 368.993107 261.955906)\">0</text>\n     </g>\n    </g>\n    <g id=\"xtick_23\">\n     <g id=\"line2d_79\">\n      <path d=\"M 411.751311 251.617312  L 411.751311 145.053109  \" clip-path=\"url(#pd7174ff6be)\" style=\"fill: none; stroke: #cbcbcb\" />\n     </g>\n     <g id=\"line2d_80\" />\n     <g id=\"text_41\">\n      <text style=\"font: 9px 'DejaVu Sans', 'Bitstream Vera Sans', 'Computer Modern Sans Serif', 'Lucida Grande', 'Verdana', 'Geneva', 'Lucid', 'Arial', 'Helvetica', 'Avant Garde', sans-serif; text-anchor: middle\" x=\"411.751311\" y=\"261.955906\" transform=\"rotate(-0 411.751311 261.955906)\">5</text>\n     </g>\n    </g>\n    <g id=\"xtick_24\">\n     <g id=\"line2d_81\">\n      <path d=\"M 454.509515 251.617312  L 454.509515 145.053109  \" clip-path=\"url(#pd7174ff6be)\" style=\"fill: none; stroke: #cbcbcb\" />\n     </g>\n     <g id=\"line2d_82\" />\n     <g id=\"text_42\">\n      <text style=\"font: 9px 'DejaVu Sans', 'Bitstream Vera Sans', 'Computer Modern Sans Serif', 'Lucida Grande', 'Verdana', 'Geneva', 'Lucid', 'Arial', 'Helvetica', 'Avant Garde', sans-serif; text-anchor: middle\" x=\"454.509515\" y=\"261.955906\" transform=\"rotate(-0 454.509515 261.955906)\">10</text>\n     </g>\n    </g>\n    <g id=\"xtick_25\">\n     <g id=\"line2d_83\">\n      <path d=\"M 497.267719 251.617312  L 497.267719 145.053109  \" clip-path=\"url(#pd7174ff6be)\" style=\"fill: none; stroke: #cbcbcb\" />\n     </g>\n     <g id=\"line2d_84\" />\n     <g id=\"text_43\">\n      <text style=\"font: 9px 'DejaVu Sans', 'Bitstream Vera Sans', 'Computer Modern Sans Serif', 'Lucida Grande', 'Verdana', 'Geneva', 'Lucid', 'Arial', 'Helvetica', 'Avant Garde', sans-serif; text-anchor: middle\" x=\"497.267719\" y=\"261.955906\" transform=\"rotate(-0 497.267719 261.955906)\">15</text>\n     </g>\n    </g>\n    <g id=\"xtick_26\">\n     <g id=\"line2d_85\">\n      <path d=\"M 540.025923 251.617312  L 540.025923 145.053109  \" clip-path=\"url(#pd7174ff6be)\" style=\"fill: none; stroke: #cbcbcb\" />\n     </g>\n     <g id=\"line2d_86\" />\n     <g id=\"text_44\">\n      <text style=\"font: 9px 'DejaVu Sans', 'Bitstream Vera Sans', 'Computer Modern Sans Serif', 'Lucida Grande', 'Verdana', 'Geneva', 'Lucid', 'Arial', 'Helvetica', 'Avant Garde', sans-serif; text-anchor: middle\" x=\"540.025923\" y=\"261.955906\" transform=\"rotate(-0 540.025923 261.955906)\">20</text>\n     </g>\n    </g>\n    <g id=\"xtick_27\">\n     <g id=\"line2d_87\">\n      <path d=\"M 582.784127 251.617312  L 582.784127 145.053109  \" clip-path=\"url(#pd7174ff6be)\" style=\"fill: none; stroke: #cbcbcb\" />\n     </g>\n     <g id=\"line2d_88\" />\n     <g id=\"text_45\">\n      <text style=\"font: 9px 'DejaVu Sans', 'Bitstream Vera Sans', 'Computer Modern Sans Serif', 'Lucida Grande', 'Verdana', 'Geneva', 'Lucid', 'Arial', 'Helvetica', 'Avant Garde', sans-serif; text-anchor: middle\" x=\"582.784127\" y=\"261.955906\" transform=\"rotate(-0 582.784127 261.955906)\">25</text>\n     </g>\n    </g>\n    <g id=\"xtick_28\">\n     <g id=\"line2d_89\">\n      <path d=\"M 625.542331 251.617312  L 625.542331 145.053109  \" clip-path=\"url(#pd7174ff6be)\" style=\"fill: none; stroke: #cbcbcb\" />\n     </g>\n     <g id=\"line2d_90\" />\n     <g id=\"text_46\">\n      <text style=\"font: 9px 'DejaVu Sans', 'Bitstream Vera Sans', 'Computer Modern Sans Serif', 'Lucida Grande', 'Verdana', 'Geneva', 'Lucid', 'Arial', 'Helvetica', 'Avant Garde', sans-serif; text-anchor: middle\" x=\"625.542331\" y=\"261.955906\" transform=\"rotate(-0 625.542331 261.955906)\">30</text>\n     </g>\n    </g>\n    <g id=\"text_47\">\n     <text style=\"font: 10.8px 'DejaVu Sans', 'Bitstream Vera Sans', 'Computer Modern Sans Serif', 'Lucida Grande', 'Verdana', 'Geneva', 'Lucid', 'Arial', 'Helvetica', 'Avant Garde', sans-serif; text-anchor: middle\" x=\"497.224961\" y=\"276.033937\" transform=\"rotate(-0 497.224961 276.033937)\">Time (s)</text>\n    </g>\n   </g>\n   <g id=\"matplotlib.axis_8\">\n    <g id=\"ytick_15\">\n     <g id=\"line2d_91\">\n      <path d=\"M 356.169922 251.617312  L 638.28 251.617312  \" clip-path=\"url(#pd7174ff6be)\" style=\"fill: none; stroke: #cbcbcb\" />\n     </g>\n     <g id=\"line2d_92\" />\n     <g id=\"text_48\">\n      <text style=\"font: 9px 'DejaVu Sans', 'Bitstream Vera Sans', 'Computer Modern Sans Serif', 'Lucida Grande', 'Verdana', 'Geneva', 'Lucid', 'Arial', 'Helvetica', 'Avant Garde', sans-serif; text-anchor: end\" x=\"352.669922\" y=\"255.036609\" transform=\"rotate(-0 352.669922 255.036609)\">&#8722;0.5</text>\n     </g>\n    </g>\n    <g id=\"ytick_16\">\n     <g id=\"line2d_93\">\n      <path d=\"M 356.169922 224.976262  L 638.28 224.976262  \" clip-path=\"url(#pd7174ff6be)\" style=\"fill: none; stroke: #cbcbcb\" />\n     </g>\n     <g id=\"line2d_94\" />\n     <g id=\"text_49\">\n      <text style=\"font: 9px 'DejaVu Sans', 'Bitstream Vera Sans', 'Computer Modern Sans Serif', 'Lucida Grande', 'Verdana', 'Geneva', 'Lucid', 'Arial', 'Helvetica', 'Avant Garde', sans-serif; text-anchor: end\" x=\"352.669922\" y=\"228.395559\" transform=\"rotate(-0 352.669922 228.395559)\">0.0</text>\n     </g>\n    </g>\n    <g id=\"ytick_17\">\n     <g id=\"line2d_95\">\n      <path d=\"M 356.169922 198.335211  L 638.28 198.335211  \" clip-path=\"url(#pd7174ff6be)\" style=\"fill: none; stroke: #cbcbcb\" />\n     </g>\n     <g id=\"line2d_96\" />\n     <g id=\"text_50\">\n      <text style=\"font: 9px 'DejaVu Sans', 'Bitstream Vera Sans', 'Computer Modern Sans Serif', 'Lucida Grande', 'Verdana', 'Geneva', 'Lucid', 'Arial', 'Helvetica', 'Avant Garde', sans-serif; text-anchor: end\" x=\"352.669922\" y=\"201.754508\" transform=\"rotate(-0 352.669922 201.754508)\">0.5</text>\n     </g>\n    </g>\n    <g id=\"ytick_18\">\n     <g id=\"line2d_97\">\n      <path d=\"M 356.169922 171.69416  L 638.28 171.69416  \" clip-path=\"url(#pd7174ff6be)\" style=\"fill: none; stroke: #cbcbcb\" />\n     </g>\n     <g id=\"line2d_98\" />\n     <g id=\"text_51\">\n      <text style=\"font: 9px 'DejaVu Sans', 'Bitstream Vera Sans', 'Computer Modern Sans Serif', 'Lucida Grande', 'Verdana', 'Geneva', 'Lucid', 'Arial', 'Helvetica', 'Avant Garde', sans-serif; text-anchor: end\" x=\"352.669922\" y=\"175.113457\" transform=\"rotate(-0 352.669922 175.113457)\">1.0</text>\n     </g>\n    </g>\n    <g id=\"ytick_19\">\n     <g id=\"line2d_99\">\n      <path d=\"M 356.169922 145.053109  L 638.28 145.053109  \" clip-path=\"url(#pd7174ff6be)\" style=\"fill: none; stroke: #cbcbcb\" />\n     </g>\n     <g id=\"line2d_100\" />\n     <g id=\"text_52\">\n      <text style=\"font: 9px 'DejaVu Sans', 'Bitstream Vera Sans', 'Computer Modern Sans Serif', 'Lucida Grande', 'Verdana', 'Geneva', 'Lucid', 'Arial', 'Helvetica', 'Avant Garde', sans-serif; text-anchor: end\" x=\"352.669922\" y=\"148.472406\" transform=\"rotate(-0 352.669922 148.472406)\">1.5</text>\n     </g>\n    </g>\n   </g>\n   <g id=\"line2d_101\">\n    <path d=\"M 368.993107 224.976262  L 369.078624 224.976262  L 369.848271 224.976262  L 370.703435 224.976262  L 371.558599 224.976262  L 372.413764 224.976262  L 373.268928 224.976262  L 374.124092 224.976262  L 374.979256 224.976262  L 375.83442 224.976262  L 376.689584 224.976262  L 377.544748 224.976262  L 378.399912 219.596131  L 379.255076 207.430704  L 380.11024 192.746795  L 380.965404 179.572828  L 381.820568 175.040982  L 382.675733 183.131217  L 383.530897 198.015127  L 384.386061 209.540672  L 385.241225 212.925695  L 386.096389 209.284726  L 386.951553 201.696314  L 387.806717 193.617147  L 388.661881 188.685155  L 389.517045 189.300163  L 390.372209 194.596143  L 391.227373 200.902418  L 392.082537 204.728257  L 392.937701 204.840941  L 393.792866 201.997022  L 394.64803 197.93548  L 395.503194 194.658883  L 396.358358 193.695077  L 397.213522 195.284499  L 398.068686 198.233361  L 398.92385 200.788748  L 399.779014 201.759541  L 400.634178 200.98049  L 401.489342 199.10872  L 402.344506 197.18484  L 403.19967 196.155176  L 404.054834 196.428742  L 404.909999 197.690016  L 405.765163 199.145105  L 406.620327 200.030342  L 407.475491 200.003669  L 408.330655 199.222103  L 409.185819 198.175902  L 410.040983 197.417324  L 410.896147 197.290684  L 411.751311 197.77686  L 412.606475 198.541896  L 413.461639 199.15652  L 414.316803 199.334678  L 415.171968 199.052378  L 416.027132 198.515642  L 416.882296 198.027813  L 417.73746 197.829344  L 418.592624 197.983704  L 419.447788 198.364704  L 420.302952 198.746451  L 421.158116 198.93478  L 422.01328 198.861579  L 422.868444 198.599946  L 423.723608 198.307901  L 424.578772 198.138546  L 425.433936 198.163071  L 426.289101 198.343806  L 427.144265 198.567278  L 427.999429 198.713164  L 428.854593 198.717269  L 429.709757 198.596477  L 430.564921 198.429212  L 431.420085 198.307694  L 432.275249 198.289065  L 433.130413 198.370097  L 433.985577 198.496259  L 434.840741 198.596597  L 435.695905 198.622722  L 436.55107 198.570844  L 437.406234 198.477931  L 438.261398 198.397538  L 439.116562 198.370113  L 439.971726 198.403561  L 440.82689 198.473055  L 441.682054 198.538035  L 442.537218 198.565367  L 443.392382 198.545686  L 444.247546 198.495281  L 445.10271 198.444469  L 445.957874 198.420092  L 446.813038 198.431905  L 447.668203 198.469493  L 448.523367 198.510166  L 449.378531 198.532373  L 450.233695 198.526878  L 451.088859 198.500105  L 451.944023 198.468886  L 452.799187 198.450381  L 453.654351 198.453011  L 454.509515 198.473046  L 462.291508 198.489294  L 470.843149 198.503075  L 479.39479 198.501325  L 487.946431 198.497343  L 496.498071 198.497565  L 505.049712 198.500867  L 513.601353 198.504168  L 522.152994 198.506161  L 530.704635 198.507332  L 539.256275 198.50847  L 547.807916 198.509816  L 556.359557 198.511188  L 564.911198 198.512406  L 573.462839 198.513457  L 582.014479 198.514417  L 590.56612 198.515332  L 599.117761 198.516203  L 607.669402 198.517012  L 616.221043 198.517758  \" clip-path=\"url(#pd7174ff6be)\" style=\"fill: none; stroke: #337ab7; stroke-width: 3\" />\n   </g>\n   <g id=\"line2d_102\">\n    <path d=\"M 368.993107 224.976261  L 369.078624 224.976261  L 369.848271 224.976261  L 370.703435 224.976261  L 371.558599 224.976261  L 372.413764 224.976261  L 373.268928 224.976261  L 374.124092 224.976261  L 374.979256 224.976261  L 375.83442 224.976261  L 376.689584 224.976261  L 377.544748 224.976261  L 378.399912 225.350053  L 379.255076 225.582694  L 380.11024 224.111224  L 380.965404 221.250337  L 381.820568 218.318333  L 382.675733 216.381041  L 383.530897 216.995346  L 384.386061 219.74083  L 385.241225 222.311973  L 386.096389 223.477346  L 386.951553 223.321261  L 387.806717 222.398963  L 388.661881 221.339273  L 389.517045 220.666632  L 390.372209 220.861624  L 391.227373 222.028669  L 392.082537 223.562095  L 392.937701 224.693852  L 393.792866 225.101043  L 394.64803 224.918352  L 395.503194 224.488788  L 396.358358 224.160457  L 397.213522 224.199845  L 398.068686 224.707147  L 398.92385 225.516111  L 399.779014 226.287448  L 400.634178 226.757966  L 401.489342 226.880621  L 402.344506 226.784494  L 403.19967 226.663435  L 404.054834 226.686222  L 404.909999 226.937813  L 405.765163 227.379951  L 406.620327 227.870595  L 407.475491 228.256302  L 408.330655 228.463667  L 409.185819 228.521674  L 410.040983 228.522813  L 410.896147 228.567613  L 411.751311 228.720494  L 412.606475 228.983933  L 413.461639 229.300633  L 414.316803 229.589561  L 415.171968 229.794171  L 416.027132 229.908932  L 416.882296 229.972262  L 417.73746 230.039492  L 418.592624 230.154362  L 419.447788 230.329977  L 420.302952 230.545293  L 421.158116 230.759409  L 422.01328 230.935943  L 422.868444 231.061918  L 423.723608 231.150698  L 424.578772 231.230816  L 425.433936 231.32965  L 426.289101 231.460294  L 427.144265 231.616717  L 427.999429 231.778986  L 428.854593 231.925439  L 429.709757 232.044439  L 430.564921 232.139028  L 431.420085 232.223142  L 432.275249 232.31299  L 433.130413 232.418664  L 433.985577 232.539835  L 434.840741 232.667163  L 435.695905 232.788283  L 436.55107 232.894736  L 437.406234 232.985903  L 438.261398 233.068236  L 439.116562 233.150974  L 439.971726 233.241075  L 440.82689 233.339972  L 441.682054 233.443517  L 442.537218 233.544843  L 443.392382 233.638333  L 444.247546 233.722437  L 445.10271 233.799952  L 445.957874 233.876005  L 446.813038 233.955112  L 447.668203 234.038938  L 448.523367 234.125792  L 449.378531 234.211936  L 450.233695 234.29382  L 451.088859 234.369945  L 451.944023 234.441405  L 452.799187 234.51099  L 453.654351 234.581527  L 454.509515 234.654412  L 462.291508 235.271384  L 470.843149 235.86549  L 479.39479 236.384878  L 487.946431 236.842854  L 496.498071 237.250295  L 505.049712 237.615156  L 513.601353 237.943271  L 522.152994 238.239325  L 530.704635 238.50736  L 539.256275 238.750874  L 547.807916 238.972814  L 556.359557 239.175629  L 564.911198 239.361386  L 573.462839 239.53187  L 582.014479 239.688639  L 590.56612 239.833055  L 599.117761 239.966304  L 607.669402 240.08943  L 616.221043 240.20335  \" clip-path=\"url(#pd7174ff6be)\" style=\"fill: none; stroke: #d9524f; stroke-width: 3\" />\n   </g>\n   <g id=\"patch_20\">\n    <path d=\"M 356.169922 251.617312  L 356.169922 145.053109  \" style=\"fill: none; stroke: #ffffff; stroke-width: 2; stroke-linejoin: miter; stroke-linecap: square\" />\n   </g>\n   <g id=\"patch_21\">\n    <path d=\"M 638.28 251.617312  L 638.28 145.053109  \" style=\"fill: none; stroke: #ffffff; stroke-width: 2; stroke-linejoin: miter; stroke-linecap: square\" />\n   </g>\n   <g id=\"patch_22\">\n    <path d=\"M 356.169922 251.617312  L 638.28 251.617312  \" style=\"fill: none; stroke: #ffffff; stroke-width: 2; stroke-linejoin: miter; stroke-linecap: square\" />\n   </g>\n   <g id=\"patch_23\">\n    <path d=\"M 356.169922 145.053109  L 638.28 145.053109  \" style=\"fill: none; stroke: #ffffff; stroke-width: 2; stroke-linejoin: miter; stroke-linecap: square\" />\n   </g>\n   <g id=\"legend_4\">\n    <g id=\"patch_24\">\n     <path d=\"M 588.28 182.409359  L 631.28 182.409359  Q 633.28 182.409359 633.28 180.409359  L 633.28 152.053109  Q 633.28 150.053109 631.28 150.053109  L 588.28 150.053109  Q 586.28 150.053109 586.28 152.053109  L 586.28 180.409359  Q 586.28 182.409359 588.28 182.409359  z \" style=\"fill: #ffffff; opacity: 0.8; stroke: #cccccc; stroke-width: 0.5; stroke-linejoin: miter\" />\n    </g>\n    <g id=\"line2d_103\">\n     <path d=\"M 590.28 158.151547  L 600.28 158.151547  L 610.28 158.151547  \" style=\"fill: none; stroke: #337ab7; stroke-width: 3\" />\n    </g>\n    <g id=\"text_53\">\n     \n     <g transform=\"translate(618.28 161.651547)\">\n      <text>\n       <tspan style=\"font: 10px 'DejaVu Sans'\" x=\"0\" y=\"-0.703125\">P</tspan>\n       <tspan style=\"font: 7px 'DejaVu Sans'\" x=\"6.125977\" y=\"0.9375\">t</tspan>\n      </text>\n     </g>\n    </g>\n    <g id=\"line2d_104\">\n     <path d=\"M 590.28 172.829672  L 600.28 172.829672  L 610.28 172.829672  \" style=\"fill: none; stroke: #d9524f; stroke-width: 3\" />\n    </g>\n    <g id=\"text_54\">\n     \n     <g transform=\"translate(618.28 176.329672)\">\n      <text>\n       <tspan style=\"font: 10px 'DejaVu Sans'\" x=\"0\" y=\"-0.578125\">Q</tspan>\n       <tspan style=\"font: 7px 'DejaVu Sans'\" x=\"7.966797\" y=\"1.0625\">t</tspan>\n      </text>\n     </g>\n    </g>\n   </g>\n  </g>\n </g>\n <defs>\n  <clipPath id=\"p0b0b4bad0e\">\n   <rect x=\"38.985312\" y=\"13.139297\" width=\"282.110078\" height=\"106.564203\" />\n  </clipPath>\n  <clipPath id=\"pbdd643c3d5\">\n   <rect x=\"356.169922\" y=\"13.139297\" width=\"282.110078\" height=\"106.564203\" />\n  </clipPath>\n  <clipPath id=\"p2b61d9f70c\">\n   <rect x=\"38.985312\" y=\"145.053109\" width=\"282.110078\" height=\"106.564203\" />\n  </clipPath>\n  <clipPath id=\"pd7174ff6be\">\n   <rect x=\"356.169922\" y=\"145.053109\" width=\"282.110078\" height=\"106.564203\" />\n  </clipPath>\n </defs>\n</svg>"
          }
        },
        "51df437c200442409e3278eb256b5b33": {
          "model_module": "@jupyter-widgets/controls",
          "model_module_version": "1.5.0",
          "model_name": "FloatSliderModel",
          "state": {
            "_dom_classes": [],
            "_model_module": "@jupyter-widgets/controls",
            "_model_module_version": "1.5.0",
            "_model_name": "FloatSliderModel",
            "_view_count": null,
            "_view_module": "@jupyter-widgets/controls",
            "_view_module_version": "1.5.0",
            "_view_name": "FloatSliderView",
            "continuous_update": true,
            "description": "p<sub>m</sub>",
            "description_tooltip": null,
            "disabled": false,
            "layout": "IPY_MODEL_70c3e64e8d0d4c788ed0958c1188debd",
            "max": 1.2,
            "min": 0,
            "orientation": "horizontal",
            "readout": true,
            "readout_format": ".2f",
            "step": 0.1,
            "style": "IPY_MODEL_6f53c6673dd44aecbb83676454f9197c",
            "value": 0.5
          }
        },
        "5556c3b676364540835482c6698ec685": {
          "model_module": "@jupyter-widgets/base",
          "model_module_version": "1.2.0",
          "model_name": "LayoutModel",
          "state": {
            "_model_module": "@jupyter-widgets/base",
            "_model_module_version": "1.2.0",
            "_model_name": "LayoutModel",
            "_view_count": null,
            "_view_module": "@jupyter-widgets/base",
            "_view_module_version": "1.2.0",
            "_view_name": "LayoutView",
            "align_content": null,
            "align_items": null,
            "align_self": null,
            "border": null,
            "bottom": null,
            "display": null,
            "flex": null,
            "flex_flow": null,
            "grid_area": null,
            "grid_auto_columns": null,
            "grid_auto_flow": null,
            "grid_auto_rows": null,
            "grid_column": null,
            "grid_gap": null,
            "grid_row": null,
            "grid_template_areas": null,
            "grid_template_columns": null,
            "grid_template_rows": null,
            "height": null,
            "justify_content": null,
            "justify_items": null,
            "left": null,
            "margin": null,
            "max_height": null,
            "max_width": null,
            "min_height": null,
            "min_width": null,
            "object_fit": null,
            "object_position": null,
            "order": null,
            "overflow": null,
            "overflow_x": null,
            "overflow_y": null,
            "padding": null,
            "right": null,
            "top": null,
            "visibility": null,
            "width": null
          }
        },
        "6f53c6673dd44aecbb83676454f9197c": {
          "model_module": "@jupyter-widgets/controls",
          "model_module_version": "1.5.0",
          "model_name": "SliderStyleModel",
          "state": {
            "_model_module": "@jupyter-widgets/controls",
            "_model_module_version": "1.5.0",
            "_model_name": "SliderStyleModel",
            "_view_count": null,
            "_view_module": "@jupyter-widgets/base",
            "_view_module_version": "1.2.0",
            "_view_name": "StyleView",
            "description_width": "",
            "handle_color": null
          }
        },
        "70c3e64e8d0d4c788ed0958c1188debd": {
          "model_module": "@jupyter-widgets/base",
          "model_module_version": "1.2.0",
          "model_name": "LayoutModel",
          "state": {
            "_model_module": "@jupyter-widgets/base",
            "_model_module_version": "1.2.0",
            "_model_name": "LayoutModel",
            "_view_count": null,
            "_view_module": "@jupyter-widgets/base",
            "_view_module_version": "1.2.0",
            "_view_name": "LayoutView",
            "align_content": null,
            "align_items": null,
            "align_self": null,
            "border": null,
            "bottom": null,
            "display": null,
            "flex": null,
            "flex_flow": null,
            "grid_area": null,
            "grid_auto_columns": null,
            "grid_auto_flow": null,
            "grid_auto_rows": null,
            "grid_column": null,
            "grid_gap": null,
            "grid_row": null,
            "grid_template_areas": null,
            "grid_template_columns": null,
            "grid_template_rows": null,
            "height": null,
            "justify_content": null,
            "justify_items": null,
            "left": null,
            "margin": null,
            "max_height": null,
            "max_width": null,
            "min_height": null,
            "min_width": null,
            "object_fit": null,
            "object_position": null,
            "order": null,
            "overflow": null,
            "overflow_x": null,
            "overflow_y": null,
            "padding": null,
            "right": null,
            "top": null,
            "visibility": null,
            "width": null
          }
        },
        "70d7b990b3364a68bcad4d1f368e0377": {
          "model_module": "@jupyter-widgets/base",
          "model_module_version": "1.2.0",
          "model_name": "LayoutModel",
          "state": {
            "_model_module": "@jupyter-widgets/base",
            "_model_module_version": "1.2.0",
            "_model_name": "LayoutModel",
            "_view_count": null,
            "_view_module": "@jupyter-widgets/base",
            "_view_module_version": "1.2.0",
            "_view_name": "LayoutView",
            "align_content": null,
            "align_items": null,
            "align_self": null,
            "border": null,
            "bottom": null,
            "display": null,
            "flex": null,
            "flex_flow": null,
            "grid_area": null,
            "grid_auto_columns": null,
            "grid_auto_flow": null,
            "grid_auto_rows": null,
            "grid_column": null,
            "grid_gap": null,
            "grid_row": null,
            "grid_template_areas": null,
            "grid_template_columns": null,
            "grid_template_rows": null,
            "height": null,
            "justify_content": null,
            "justify_items": null,
            "left": null,
            "margin": null,
            "max_height": null,
            "max_width": null,
            "min_height": null,
            "min_width": null,
            "object_fit": null,
            "object_position": null,
            "order": null,
            "overflow": null,
            "overflow_x": null,
            "overflow_y": null,
            "padding": null,
            "right": null,
            "top": null,
            "visibility": null,
            "width": null
          }
        },
        "842e25c8725b43e8a77718a5b704409b": {
          "model_module": "@jupyter-widgets/base",
          "model_module_version": "1.2.0",
          "model_name": "LayoutModel",
          "state": {
            "_model_module": "@jupyter-widgets/base",
            "_model_module_version": "1.2.0",
            "_model_name": "LayoutModel",
            "_view_count": null,
            "_view_module": "@jupyter-widgets/base",
            "_view_module_version": "1.2.0",
            "_view_name": "LayoutView",
            "align_content": null,
            "align_items": null,
            "align_self": null,
            "border": null,
            "bottom": null,
            "display": null,
            "flex": null,
            "flex_flow": null,
            "grid_area": null,
            "grid_auto_columns": null,
            "grid_auto_flow": null,
            "grid_auto_rows": null,
            "grid_column": null,
            "grid_gap": null,
            "grid_row": null,
            "grid_template_areas": null,
            "grid_template_columns": null,
            "grid_template_rows": null,
            "height": null,
            "justify_content": null,
            "justify_items": null,
            "left": null,
            "margin": null,
            "max_height": null,
            "max_width": null,
            "min_height": null,
            "min_width": null,
            "object_fit": null,
            "object_position": null,
            "order": null,
            "overflow": null,
            "overflow_x": null,
            "overflow_y": null,
            "padding": null,
            "right": null,
            "top": null,
            "visibility": null,
            "width": null
          }
        },
        "acb6109999864a5b82c8e54a330b1867": {
          "model_module": "@jupyter-widgets/controls",
          "model_module_version": "1.5.0",
          "model_name": "VBoxModel",
          "state": {
            "_dom_classes": [],
            "_model_module": "@jupyter-widgets/controls",
            "_model_module_version": "1.5.0",
            "_model_name": "VBoxModel",
            "_view_count": null,
            "_view_module": "@jupyter-widgets/controls",
            "_view_module_version": "1.5.0",
            "_view_name": "VBoxView",
            "box_style": "",
            "children": [
              "IPY_MODEL_1c45b2848e5c4034bdd03751a396e1a1",
              "IPY_MODEL_3ce73909ffe64cd59ab0635e48eb5ef0"
            ],
            "layout": "IPY_MODEL_0a9f126d8df940d8b2561abe9b25afa1"
          }
        },
        "c0ab5fd7058f4967a6c0d2b715f18f92": {
          "model_module": "@jupyter-widgets/controls",
          "model_module_version": "1.5.0",
          "model_name": "IntProgressModel",
          "state": {
            "_dom_classes": [],
            "_model_module": "@jupyter-widgets/controls",
            "_model_module_version": "1.5.0",
            "_model_name": "IntProgressModel",
            "_view_count": null,
            "_view_module": "@jupyter-widgets/controls",
            "_view_module_version": "1.5.0",
            "_view_name": "ProgressView",
            "bar_style": "success",
            "description": "SM Load:",
            "description_tooltip": null,
            "layout": "IPY_MODEL_5556c3b676364540835482c6698ec685",
            "max": 120,
            "min": 0,
            "orientation": "horizontal",
            "style": "IPY_MODEL_464be180a95a4c09bc9e5693dd47eaf1",
            "value": 17
          }
        },
        "c160a21e63c74978b47d30a5772da613": {
          "model_module": "@jupyter-widgets/controls",
          "model_module_version": "1.5.0",
          "model_name": "FloatSliderModel",
          "state": {
            "_dom_classes": [],
            "_model_module": "@jupyter-widgets/controls",
            "_model_module_version": "1.5.0",
            "_model_name": "FloatSliderModel",
            "_view_count": null,
            "_view_module": "@jupyter-widgets/controls",
            "_view_module_version": "1.5.0",
            "_view_name": "FloatSliderView",
            "continuous_update": true,
            "description": "v<sub>f</sub>",
            "description_tooltip": null,
            "disabled": false,
            "layout": "IPY_MODEL_293d7b64caa84916973a7acc789230c8",
            "max": 4,
            "min": 0.5,
            "orientation": "horizontal",
            "readout": true,
            "readout_format": ".2f",
            "step": 0.1,
            "style": "IPY_MODEL_f8a04aae3525477182b640f53427440a",
            "value": 1
          }
        },
        "f8a04aae3525477182b640f53427440a": {
          "model_module": "@jupyter-widgets/controls",
          "model_module_version": "1.5.0",
          "model_name": "SliderStyleModel",
          "state": {
            "_model_module": "@jupyter-widgets/controls",
            "_model_module_version": "1.5.0",
            "_model_name": "SliderStyleModel",
            "_view_count": null,
            "_view_module": "@jupyter-widgets/base",
            "_view_module_version": "1.2.0",
            "_view_name": "StyleView",
            "description_width": "",
            "handle_color": null
          }
        }
      }
    }
  },
  "nbformat": 4,
  "nbformat_minor": 0
}
