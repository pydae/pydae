{
 "cells": [
  {
   "cell_type": "code",
   "execution_count": 2,
   "id": "613b3ad8",
   "metadata": {
    "scrolled": true
   },
   "outputs": [
    {
     "data": {
      "application/vnd.jupyter.widget-view+json": {
       "model_id": "2d59d4dcab164f72a11dcec8cfd221c6",
       "version_major": 2,
       "version_minor": 0
      },
      "text/plain": [
       "HTML(value='\\n        <div id=\"svg-container\">\\n        <svg xmlns=\"http://www.w3.org/2000/svg\" width=\"300\" he…"
      ]
     },
     "metadata": {},
     "output_type": "display_data"
    }
   ],
   "source": [
    "from IPython.display import display, Javascript, Markdown as md, HTML\n",
    "import ipywidgets as widgets\n",
    "\n",
    "def js_convert_str_html(instring_str):\n",
    "    js_convert = '''\n",
    "        <div id=\"svg-container\">\n",
    "        <svg xmlns=\"http://www.w3.org/2000/svg\" width=\"300\" height=\"300\">\n",
    "            <circle id=\"circle1\" cx=\"50\" cy=\"50\" r=\"40\" fill=\"red\" />\n",
    "            <rect id=\"rect1\" x=\"120\" y=\"30\" width=\"80\" height=\"80\" fill=\"blue\" />\n",
    "            <ellipse id=\"ellipse1\" cx=\"200\" cy=\"180\" rx=\"40\" ry=\"30\" fill=\"green\" />\n",
    "        </svg>\n",
    "    </div>\n",
    "    \n",
    "        <div id=\"_my_special_div\"></div>\n",
    "        <script>\n",
    "        const svgContainer = document.getElementById(\"svg-container\");\n",
    "        const circleElement = document.getElementById(\"circle1\");\n",
    "        circleElement.addEventListener(\"mouseover\", function () {circleElement.setAttribute(\"fill\", \"orange\");});\n",
    "        circleElement.addEventListener(\"mouseout\", function () {\n",
    "            circleElement.setAttribute(\"fill\", \"red\");\n",
    "        }); \n",
    "\n",
    "         </script>\n",
    "    '''\n",
    "    return js_convert #HTML(js_convert)\n",
    "\n",
    "jsobj = js_convert_str_html(\"hello world\")\n",
    "layout = widgets.HTML(\n",
    "    value=jsobj,\n",
    "    placeholder='Some HTML',\n",
    "    description='Some HTML',\n",
    ");\n",
    "\n",
    "\n",
    "#display(jsobj)\n",
    "layout"
   ]
  },
  {
   "cell_type": "code",
   "execution_count": 3,
   "id": "56e36258",
   "metadata": {},
   "outputs": [],
   "source": [
    "import ipywidgets as widgets\n",
    "from traitlets import Unicode, Int, validate\n"
   ]
  },
  {
   "cell_type": "code",
   "execution_count": 4,
   "id": "9fdfb1b9",
   "metadata": {},
   "outputs": [],
   "source": [
    "class CounterWidget(widgets.DOMWidget):\n",
    "    _view_name = Unicode('CounterView').tag(sync=True)\n",
    "    _view_module = Unicode('counter').tag(sync=True)\n",
    "    value = Int(0).tag(sync=True)"
   ]
  },
  {
   "cell_type": "code",
   "execution_count": 5,
   "id": "d2bd13d9",
   "metadata": {},
   "outputs": [
    {
     "data": {
      "application/javascript": [
       "// We make sure the `counter` module is defined\n",
       "// only once.\n",
       "require.undef('counter');\n",
       "\n",
       "// We define the `counter` module depending on the\n",
       "// Jupyter widgets framework.\n",
       "define('counter', [\"@jupyter-widgets/base\"],\n",
       "       function(widgets) {\n",
       "\n",
       "    // We create the CounterView frontend class,\n",
       "    // deriving from DOMWidgetView.\n",
       "    var CounterView = widgets.DOMWidgetView.extend({\n",
       "\n",
       "        // This method creates the HTML widget.\n",
       "        render: function() {\n",
       "            // The value_changed() method should be\n",
       "            // called when the model's value changes\n",
       "            // on the kernel side.\n",
       "            this.value_changed();\n",
       "            this.model.on('change:value',\n",
       "                          this.value_changed, this);\n",
       "\n",
       "            var model = this.model;\n",
       "            var that = this;\n",
       "\n",
       "            // We create the plus and minus buttons.\n",
       "            this.bm = $('<button/>')\n",
       "            .text('-')\n",
       "            .click(function() {\n",
       "                // When the button is clicked,\n",
       "                // the model's value is updated.\n",
       "                var x = model.get('value');\n",
       "                model.set('value', x - 1);\n",
       "                that.touch();\n",
       "            });\n",
       "\n",
       "            this.bp = $('<button/>')\n",
       "            .text('+')\n",
       "            .click(function() {\n",
       "                var x = model.get('value');\n",
       "                model.set('value', x + 1);\n",
       "                that.touch();\n",
       "            });\n",
       "\n",
       "            // This element displays the current\n",
       "            // value of the counter.\n",
       "            this.span = $('<span />')\n",
       "            .text('0')\n",
       "            .css({marginLeft: '10px',\n",
       "                  marginRight: '10px'});\n",
       "\n",
       "            // this.el represents the widget's DOM\n",
       "            // element. We add the minus button,\n",
       "            // the span element, and the plus button.\n",
       "            $(this.el)\n",
       "            .append(this.bm)\n",
       "            .append(this.span)\n",
       "            .append(this.bp);\n",
       "        },\n",
       "\n",
       "        value_changed: function() {\n",
       "            // Update the displayed number when the\n",
       "            // counter's value changes.\n",
       "            var x = this.model.get('value');\n",
       "            $($(this.el).children()[1]).text(x);\n",
       "        },\n",
       "    });\n",
       "\n",
       "    return {\n",
       "        CounterView : CounterView\n",
       "    };\n",
       "});\n"
      ],
      "text/plain": [
       "<IPython.core.display.Javascript object>"
      ]
     },
     "metadata": {},
     "output_type": "display_data"
    }
   ],
   "source": [
    "%%javascript\n",
    "// We make sure the `counter` module is defined\n",
    "// only once.\n",
    "require.undef('counter');\n",
    "\n",
    "// We define the `counter` module depending on the\n",
    "// Jupyter widgets framework.\n",
    "define('counter', [\"@jupyter-widgets/base\"],\n",
    "       function(widgets) {\n",
    "\n",
    "    // We create the CounterView frontend class,\n",
    "    // deriving from DOMWidgetView.\n",
    "    var CounterView = widgets.DOMWidgetView.extend({\n",
    "\n",
    "        // This method creates the HTML widget.\n",
    "        render: function() {\n",
    "            // The value_changed() method should be\n",
    "            // called when the model's value changes\n",
    "            // on the kernel side.\n",
    "            this.value_changed();\n",
    "            this.model.on('change:value',\n",
    "                          this.value_changed, this);\n",
    "\n",
    "            var model = this.model;\n",
    "            var that = this;\n",
    "\n",
    "            // We create the plus and minus buttons.\n",
    "            this.bm = $('<button/>')\n",
    "            .text('-')\n",
    "            .click(function() {\n",
    "                // When the button is clicked,\n",
    "                // the model's value is updated.\n",
    "                var x = model.get('value');\n",
    "                model.set('value', x - 1);\n",
    "                that.touch();\n",
    "            });\n",
    "\n",
    "            this.bp = $('<button/>')\n",
    "            .text('+')\n",
    "            .click(function() {\n",
    "                var x = model.get('value');\n",
    "                model.set('value', x + 1);\n",
    "                that.touch();\n",
    "            });\n",
    "\n",
    "            // This element displays the current\n",
    "            // value of the counter.\n",
    "            this.span = $('<span />')\n",
    "            .text('0')\n",
    "            .css({marginLeft: '10px',\n",
    "                  marginRight: '10px'});\n",
    "\n",
    "            // this.el represents the widget's DOM\n",
    "            // element. We add the minus button,\n",
    "            // the span element, and the plus button.\n",
    "            $(this.el)\n",
    "            .append(this.bm)\n",
    "            .append(this.span)\n",
    "            .append(this.bp);\n",
    "        },\n",
    "\n",
    "        value_changed: function() {\n",
    "            // Update the displayed number when the\n",
    "            // counter's value changes.\n",
    "            var x = this.model.get('value');\n",
    "            $($(this.el).children()[1]).text(x);\n",
    "        },\n",
    "    });\n",
    "\n",
    "    return {\n",
    "        CounterView : CounterView\n",
    "    };\n",
    "});"
   ]
  },
  {
   "cell_type": "code",
   "execution_count": 6,
   "id": "25cc4451",
   "metadata": {},
   "outputs": [
    {
     "data": {
      "application/vnd.jupyter.widget-view+json": {
       "model_id": "d47e228792424fb09ce7a560347b2d16",
       "version_major": 2,
       "version_minor": 0
      },
      "text/plain": [
       "CounterWidget()"
      ]
     },
     "metadata": {},
     "output_type": "display_data"
    }
   ],
   "source": [
    "w = CounterWidget()\n",
    "w"
   ]
  },
  {
   "cell_type": "code",
   "execution_count": null,
   "id": "336fd27e",
   "metadata": {},
   "outputs": [],
   "source": []
  },
  {
   "cell_type": "code",
   "execution_count": null,
   "id": "23f70cbd-0c4f-4fcd-9c22-6d129aa54af1",
   "metadata": {},
   "outputs": [],
   "source": []
  }
 ],
 "metadata": {
  "kernelspec": {
   "display_name": "Python 3 (ipykernel)",
   "language": "python",
   "name": "python3"
  },
  "language_info": {
   "codemirror_mode": {
    "name": "ipython",
    "version": 3
   },
   "file_extension": ".py",
   "mimetype": "text/x-python",
   "name": "python",
   "nbconvert_exporter": "python",
   "pygments_lexer": "ipython3",
   "version": "3.11.7"
  }
 },
 "nbformat": 4,
 "nbformat_minor": 5
}
