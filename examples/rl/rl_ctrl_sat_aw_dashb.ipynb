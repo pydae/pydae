{
 "cells": [
  {
   "cell_type": "code",
   "execution_count": 4,
   "metadata": {},
   "outputs": [],
   "source": [
    "import rl_ctrl_sat_aw\n",
    "from scipy.integrate import ode\n",
    "from scipy import optimize\n",
    "import numpy as np\n",
    "import ipywidgets\n",
    "import matplotlib.pyplot as plt"
   ]
  },
  {
   "cell_type": "code",
   "execution_count": 5,
   "metadata": {},
   "outputs": [],
   "source": [
    "%matplotlib widget"
   ]
  },
  {
   "cell_type": "markdown",
   "metadata": {},
   "source": [
    "## Instantiate system"
   ]
  },
  {
   "cell_type": "code",
   "execution_count": 15,
   "metadata": {},
   "outputs": [],
   "source": [
    "o = rl_ctrl_sat_aw.rl_ctrl_sat_aw_class()\n",
    "\n",
    "sld_iref = ipywidgets.FloatSlider(orientation='horizontal',description = u\"i_ref:\", \n",
    "                                value=0.0, min=0.0,max= 10, \n",
    "                                step=.5)\n"
   ]
  },
  {
   "cell_type": "markdown",
   "metadata": {},
   "source": [
    "## Interaction"
   ]
  },
  {
   "cell_type": "code",
   "execution_count": 23,
   "metadata": {},
   "outputs": [
    {
     "data": {
      "application/vnd.jupyter.widget-view+json": {
       "model_id": "a176e757310f4c10b632660bb4276339",
       "version_major": 2,
       "version_minor": 0
      },
      "text/plain": [
       "Canvas(toolbar=Toolbar(toolitems=[('Home', 'Reset original view', 'home', 'home'), ('Back', 'Back to previous …"
      ]
     },
     "metadata": {},
     "output_type": "display_data"
    },
    {
     "data": {
      "application/vnd.jupyter.widget-view+json": {
       "model_id": "6cf6ecab8f2e4adf87f55bdbd09c9e46",
       "version_major": 2,
       "version_minor": 0
      },
      "text/plain": [
       "VBox(children=(FloatSlider(value=10.0, description='i_ref:', max=10.0, step=0.5),))"
      ]
     },
     "metadata": {},
     "output_type": "display_data"
    }
   ],
   "source": [
    "o = rl_ctrl_sat_aw.rl_ctrl_sat_aw_class()\n",
    "o.Dt = 0.001\n",
    "o.t_end = 5.0\n",
    "o.decimation = 10\n",
    "o.update()\n",
    "\n",
    "o.struct.V_max = 2\n",
    "\n",
    "o.struct.i_ref = 0\n",
    "sol = optimize.root(o.run_problem, [1]*(o.N_x+o.N_y), jac=o.dae_jacobian, method='hybr')\n",
    "o.struct.K_aw = 1.0\n",
    "x_0 = np.copy(o.struct.x)\n",
    "y_0 = np.copy(o.struct.y)\n",
    "\n",
    "\n",
    "fig, axes = plt.subplots(nrows=2, ncols=1, figsize=(7, 7))\n",
    "\n",
    "\n",
    "line_i = axes[0].plot([],[],label='$\\sf i$')\n",
    "line_v = axes[1].plot([],[],label='$\\sf y_{pi}$ (saturated)')\n",
    "\n",
    "axes[0].set_ylim((-1,12))\n",
    "axes[1].set_ylim((-0.1,2.1))\n",
    "\n",
    "for ax in axes:\n",
    "    ax.grid()\n",
    "    ax.set_xlim((0,0.5))\n",
    "    ax.legend()\n",
    "ax.set_xlabel('Time (s)')\n",
    "\n",
    "\n",
    "def update(change):\n",
    "    \n",
    "    i_ref = sld_iref.value\n",
    "    \n",
    "    o.struct.x = np.copy(x_0)\n",
    "    o.struct.y = np.copy(y_0)\n",
    "    \n",
    "    o.struct[0].itol = 1e-6\n",
    "    o.struct.it_store = 0\n",
    "    o.struct.t = 0.0\n",
    "    \n",
    "    o.struct.i_ref = 0.0\n",
    "    o.struct.t_end = 0.1\n",
    "    t = rl_ctrl_sat_aw.daesolver(o.struct)\n",
    "\n",
    "    o.struct.i_ref = i_ref\n",
    "    o.struct.t_end = 0.8\n",
    "    t = rl_ctrl_sat_aw.daesolver(o.struct)\n",
    "    \n",
    "    T = o.struct[0]['T'][:o.struct[0].it_store]\n",
    "    X = o.struct[0].X[:o.struct[0].it_store,:]\n",
    "    Y = o.struct[0].Y[:o.struct[0].it_store,:]\n",
    "    Iters = o.struct[0].iters[:o.struct[0].it_store,:]   \n",
    "    \n",
    "    line_i[0].set_data(T, X[:,0])\n",
    "    line_v[0].set_data(T, Y[:,1])\n",
    "    \n",
    "sld_iref.observe(update, names='value')\n",
    "layout = ipywidgets.VBox([sld_iref])\n",
    "layout"
   ]
  },
  {
   "cell_type": "code",
   "execution_count": null,
   "metadata": {},
   "outputs": [],
   "source": []
  }
 ],
 "metadata": {
  "kernelspec": {
   "display_name": "Python 3",
   "language": "python",
   "name": "python3"
  },
  "language_info": {
   "codemirror_mode": {
    "name": "ipython",
    "version": 3
   },
   "file_extension": ".py",
   "mimetype": "text/x-python",
   "name": "python",
   "nbconvert_exporter": "python",
   "pygments_lexer": "ipython3",
   "version": "3.7.5"
  }
 },
 "nbformat": 4,
 "nbformat_minor": 4
}
