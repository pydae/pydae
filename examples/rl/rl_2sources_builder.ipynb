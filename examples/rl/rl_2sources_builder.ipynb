{
 "cells": [
  {
   "cell_type": "code",
   "execution_count": 1,
   "metadata": {},
   "outputs": [],
   "source": [
    "import numpy as np\n",
    "import pydae.build as db"
   ]
  },
  {
   "cell_type": "code",
   "execution_count": 3,
   "metadata": {},
   "outputs": [],
   "source": [
    "R = 0.1  # Resistor (Ohm)\n",
    "L = 0.01 # Inductor (L)\n",
    "\n",
    "params_dict= {'R' : R, 'L':L, 'v_2':100.0}\n",
    "u_ini_dict = {'p':1000.0}  # for the initialization problem\n",
    "u_run_dict = {'v_1':0.0}  # for the running problem (here initialization and running problem are the same)\n",
    "\n",
    "\n",
    "x_list = ['i']    # [inductor current]\n",
    "y_ini_list = ['v_1'] # for the initialization problem\n",
    "y_run_list = ['p']   # for the running problem  \n",
    "\n",
    "sys_vars = {'params_dict':params_dict,\n",
    "            'u_list':u_run_dict,\n",
    "            'x_list':x_list,\n",
    "            'y_list':y_run_list}\n",
    "\n",
    "exec(db.sym_gen_str())  # exec to generate the required symbolic varables and constants"
   ]
  },
  {
   "cell_type": "code",
   "execution_count": 4,
   "metadata": {},
   "outputs": [],
   "source": [
    "di  = 1/L*(v_1-i*R-v_2)          \n",
    "g_1 = -p + v_2*i\n",
    "\n",
    "\n",
    "sys_dict = {'name':'rl_2sources',\n",
    "           'params_dict':params_dict,\n",
    "           'f_list':[di],\n",
    "           'g_list':[g_1],\n",
    "           'x_list':[i],\n",
    "           'y_ini_list':y_ini_list,\n",
    "           'y_run_list':y_run_list,\n",
    "           'u_run_dict':u_run_dict,\n",
    "           'u_ini_dict':u_ini_dict,\n",
    "           'h_dict':{'p':p,'v_1':v_1}\n",
    "           }\n",
    "\n",
    "db.system(sys_dict)\n",
    "db.sys2num(sys_dict)"
   ]
  },
  {
   "cell_type": "code",
   "execution_count": 4,
   "metadata": {},
   "outputs": [
    {
     "data": {
      "text/plain": [
       "{'name': 'rl_2sources',\n",
       " 'params_dict': {'R': 0.1, 'L': 0.01, 'v_2': 100.0},\n",
       " 'f_list': [(-R*i + v_1 - v_2)/L],\n",
       " 'g_list': [i*v_2 - p],\n",
       " 'x_list': [i],\n",
       " 'y_ini_list': ['v_1'],\n",
       " 'y_run_list': ['p'],\n",
       " 'u_run_dict': {'v_1': 1.0},\n",
       " 'u_ini_dict': {'p': 1000.0},\n",
       " 'h_dict': {'p': p, 'v_1': v_1},\n",
       " 'f': Matrix([[(-R*i + v_1 - v_2)/L]]),\n",
       " 'g': Matrix([[i*v_2 - p]]),\n",
       " 'x': Matrix([[i]]),\n",
       " 'y_ini': Matrix([[v_1]]),\n",
       " 'y_run': Matrix([[p]]),\n",
       " 'u_ini': Matrix([[p]]),\n",
       " 'u_run': Matrix([[v_1]]),\n",
       " 'h': Matrix([\n",
       " [  p],\n",
       " [v_1]]),\n",
       " 'Fx_run': Matrix([[-R/L]]),\n",
       " 'Fy_run': Matrix([[0]]),\n",
       " 'Gx_run': Matrix([[v_2]]),\n",
       " 'Gy_run': Matrix([[-1]]),\n",
       " 'Fx_ini': Matrix([[-R/L]]),\n",
       " 'Fy_ini': Matrix([[1/L]]),\n",
       " 'Gx_ini': Matrix([[v_2]]),\n",
       " 'Gy_ini': Matrix([[0]]),\n",
       " 'Fu_run': Matrix([[1/L]]),\n",
       " 'Gu_run': Matrix([[0]]),\n",
       " 'Hx_run': Matrix([\n",
       " [0],\n",
       " [0]]),\n",
       " 'Hy_run': Matrix([\n",
       " [1],\n",
       " [0]]),\n",
       " 'Hu_run': Matrix([\n",
       " [0],\n",
       " [1]])}"
      ]
     },
     "execution_count": 4,
     "metadata": {},
     "output_type": "execute_result"
    }
   ],
   "source": [
    "sys_dict"
   ]
  },
  {
   "cell_type": "code",
   "execution_count": null,
   "metadata": {},
   "outputs": [],
   "source": []
  },
  {
   "cell_type": "code",
   "execution_count": null,
   "metadata": {},
   "outputs": [],
   "source": []
  },
  {
   "cell_type": "code",
   "execution_count": null,
   "metadata": {},
   "outputs": [],
   "source": []
  }
 ],
 "metadata": {
  "kernelspec": {
   "display_name": "Python 3",
   "language": "python",
   "name": "python3"
  },
  "language_info": {
   "codemirror_mode": {
    "name": "ipython",
    "version": 3
   },
   "file_extension": ".py",
   "mimetype": "text/x-python",
   "name": "python",
   "nbconvert_exporter": "python",
   "pygments_lexer": "ipython3",
   "version": "3.7.6"
  }
 },
 "nbformat": 4,
 "nbformat_minor": 4
}
