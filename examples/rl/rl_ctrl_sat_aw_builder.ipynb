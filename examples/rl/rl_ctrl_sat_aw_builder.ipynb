{
 "cells": [
  {
   "cell_type": "code",
   "execution_count": 1,
   "metadata": {},
   "outputs": [],
   "source": [
    "import numpy as np\n",
    "import sympy as sym\n",
    "import numba\n",
    "from scipy.integrate import ode\n",
    "from scipy import optimize\n",
    "from collections import deque \n",
    "import pydae.build as db"
   ]
  },
  {
   "cell_type": "code",
   "execution_count": 2,
   "metadata": {},
   "outputs": [],
   "source": [
    "R = 0.1  # Resistor (Ohm)\n",
    "L = 0.01 # Inductor (L)\n",
    "\n",
    "# Control design\n",
    "T_pi = L/R    # PI time constant\n",
    "K_p = L/0.01  # PI proportational gain\n",
    "\n",
    "params= {'R' : 0.1, 'L':0.01, 'V_max':1.0, 'V_min':0.0, 'K_p':K_p, 'T_pi':T_pi, 'K_aw':1.0}\n",
    "u_ini_dict = { 'i_ref':1.0}  # for the initialization problem\n",
    "u_run_dict = { 'i_ref':1.0}  # for the running problem (here initialization and running problem are the same)\n",
    "\n",
    "\n",
    "x_list = ['i','xi']    # [inductor current, PI integrator]\n",
    "y_ini_list = ['y','v'] # for the initialization problem\n",
    "y_run_list = ['y','v'] # for the running problem (here initialization and running problem are the same)\n",
    "\n",
    "sys_vars = {'params':params,\n",
    "            'u_list':u_run_dict,\n",
    "            'x_list':x_list,\n",
    "            'y_list':y_run_list}\n"
   ]
  },
  {
   "cell_type": "code",
   "execution_count": 3,
   "metadata": {},
   "outputs": [],
   "source": [
    "exec(db.sym_gen_str())  # exec to generate the required symbolic varables and constants"
   ]
  },
  {
   "cell_type": "code",
   "execution_count": 7,
   "metadata": {},
   "outputs": [],
   "source": [
    "epsilon = i_ref - i\n",
    "\n",
    "di  = 1/L*(v-i*R)\n",
    "dxi = epsilon - K_aw*(y - v)             \n",
    "\n",
    "g_1 = -y + K_p*(epsilon +1/T_pi*xi)\n",
    "g_2 = -v + sym.Piecewise((V_min,y<V_min),(V_max,y>V_max),(y,True))\n",
    "\n",
    "h_1 = v\n",
    "\n",
    "x = sym.Matrix(x_list)\n",
    "\n",
    "sys = {'name':'rl_ctrl_sat_aw',\n",
    "       'params_dict':params,\n",
    "       'f_list':[di,dxi],\n",
    "       'g_list':[g_1,g_2],\n",
    "       'x_list':x_list,\n",
    "       'y_ini_list':y_ini_list,\n",
    "       'y_run_list':y_run_list,\n",
    "       'u_run_dict':u_run_dict,\n",
    "       'u_ini_dict':u_ini_dict,\n",
    "       'h_dict':{'h_1':h_1}}\n",
    "\n",
    "sys = db.system(sys)\n",
    "db.sys2num(sys)"
   ]
  },
  {
   "cell_type": "code",
   "execution_count": null,
   "metadata": {},
   "outputs": [],
   "source": []
  }
 ],
 "metadata": {
  "kernelspec": {
   "display_name": "Python 3",
   "language": "python",
   "name": "python3"
  },
  "language_info": {
   "codemirror_mode": {
    "name": "ipython",
    "version": 3
   },
   "file_extension": ".py",
   "mimetype": "text/x-python",
   "name": "python",
   "nbconvert_exporter": "python",
   "pygments_lexer": "ipython3",
   "version": "3.8.11"
  }
 },
 "nbformat": 4,
 "nbformat_minor": 4
}
