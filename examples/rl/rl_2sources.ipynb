{
 "cells": [
  {
   "cell_type": "code",
   "execution_count": 105,
   "metadata": {},
   "outputs": [],
   "source": [
    "%matplotlib widget"
   ]
  },
  {
   "cell_type": "code",
   "execution_count": 106,
   "metadata": {},
   "outputs": [],
   "source": [
    "import numpy as np\n",
    "import matplotlib.pyplot as plt"
   ]
  },
  {
   "cell_type": "code",
   "execution_count": 108,
   "metadata": {},
   "outputs": [],
   "source": [
    "from rl_2sources import rl_2sources_class "
   ]
  },
  {
   "cell_type": "markdown",
   "metadata": {},
   "source": [
    "## Instantiate system"
   ]
  },
  {
   "cell_type": "code",
   "execution_count": 109,
   "metadata": {},
   "outputs": [],
   "source": [
    "syst = rl_2sources_class()"
   ]
  },
  {
   "cell_type": "markdown",
   "metadata": {},
   "source": [
    "## Solve steady state"
   ]
  },
  {
   "cell_type": "code",
   "execution_count": 110,
   "metadata": {},
   "outputs": [
    {
     "data": {
      "text/plain": [
       "True"
      ]
     },
     "execution_count": 110,
     "metadata": {},
     "output_type": "execute_result"
    }
   ],
   "source": [
    "syst.initialize()"
   ]
  },
  {
   "cell_type": "code",
   "execution_count": 111,
   "metadata": {},
   "outputs": [
    {
     "name": "stdout",
     "output_type": "stream",
     "text": [
      "i     = 10.00\n",
      "p     = 1000.00\n",
      "v_1   = 101.00\n"
     ]
    }
   ],
   "source": [
    "syst.report_x()\n",
    "syst.report_y()\n",
    "syst.report_u()"
   ]
  },
  {
   "cell_type": "markdown",
   "metadata": {},
   "source": [
    "## Run simulation"
   ]
  },
  {
   "cell_type": "code",
   "execution_count": 125,
   "metadata": {},
   "outputs": [],
   "source": [
    "events = [{'p':1000.0},\n",
    "          {'t_end':0.1,'v_1':102},\n",
    "          {'t_end':1.0,'v_1':102},\n",
    "          {'t_end':2.0,'v_1':100}]\n",
    "syst.simulate(events);"
   ]
  },
  {
   "cell_type": "code",
   "execution_count": 126,
   "metadata": {},
   "outputs": [
    {
     "data": {
      "application/vnd.jupyter.widget-view+json": {
       "model_id": "",
       "version_major": 2,
       "version_minor": 0
      },
      "text/plain": [
       "Canvas(toolbar=Toolbar(toolitems=[('Home', 'Reset original view', 'home', 'home'), ('Back', 'Back to previous …"
      ]
     },
     "metadata": {},
     "output_type": "display_data"
    },
    {
     "data": {
      "text/plain": [
       "Text(0.5, 0, 'Time (s)')"
      ]
     },
     "execution_count": 126,
     "metadata": {},
     "output_type": "execute_result"
    }
   ],
   "source": [
    "fig, axes = plt.subplots(nrows=2, ncols=1, figsize=(7, 7))\n",
    "\n",
    "axes[0].plot(syst.T,syst.get_values('i'))\n",
    "axes[1].plot(syst.T,syst.get_values('p'))\n",
    "\n",
    "\n",
    "for ax in axes:\n",
    "    ax.grid()\n",
    "    #ax.legend()\n",
    "ax.set_xlabel('Time (s)')\n"
   ]
  },
  {
   "cell_type": "markdown",
   "metadata": {},
   "source": [
    "## Run interactive simulation"
   ]
  },
  {
   "cell_type": "code",
   "execution_count": 130,
   "metadata": {},
   "outputs": [],
   "source": [
    "Δt = 0.01 \n",
    "times = np.arange(0.0,2,Δt)"
   ]
  },
  {
   "cell_type": "code",
   "execution_count": 131,
   "metadata": {},
   "outputs": [],
   "source": [
    "syst.initialize()\n",
    "\n",
    "it = 0\n",
    "for t in times:\n",
    "    \n",
    "    v_1 = 101 + np.sin(2*np.pi*1.0*t)\n",
    "           \n",
    "    events=[{'t_end':t,'v_1':v_1}]\n",
    "    syst.run(events)\n",
    "\n",
    "    it += 1\n",
    "    \n",
    "syst.post();"
   ]
  },
  {
   "cell_type": "code",
   "execution_count": 132,
   "metadata": {},
   "outputs": [
    {
     "data": {
      "application/vnd.jupyter.widget-view+json": {
       "model_id": "",
       "version_major": 2,
       "version_minor": 0
      },
      "text/plain": [
       "Canvas(toolbar=Toolbar(toolitems=[('Home', 'Reset original view', 'home', 'home'), ('Back', 'Back to previous …"
      ]
     },
     "metadata": {},
     "output_type": "display_data"
    },
    {
     "data": {
      "text/plain": [
       "Text(0.5, 0, 'Time (s)')"
      ]
     },
     "execution_count": 132,
     "metadata": {},
     "output_type": "execute_result"
    }
   ],
   "source": [
    "fig, axes = plt.subplots(nrows=2, ncols=1, figsize=(7, 7))\n",
    "\n",
    "axes[0].plot(syst.T,syst.get_values('i'))\n",
    "axes[1].plot(syst.T,syst.get_values('v_1'))\n",
    "\n",
    "\n",
    "for ax in axes:\n",
    "    ax.grid()\n",
    "    #ax.legend()\n",
    "ax.set_xlabel('Time (s)')"
   ]
  },
  {
   "cell_type": "code",
   "execution_count": 138,
   "metadata": {},
   "outputs": [
    {
     "data": {
      "text/plain": [
       "0.001"
      ]
     },
     "execution_count": 138,
     "metadata": {},
     "output_type": "execute_result"
    }
   ],
   "source": [
    "syst.Dt"
   ]
  },
  {
   "cell_type": "markdown",
   "metadata": {},
   "source": [
    "## Run simulation with feedback control (proportional control)"
   ]
  },
  {
   "cell_type": "code",
   "execution_count": 135,
   "metadata": {},
   "outputs": [],
   "source": [
    "Δt = 0.1 \n",
    "times = np.arange(0.0,2,Δt)"
   ]
  },
  {
   "cell_type": "code",
   "execution_count": 139,
   "metadata": {},
   "outputs": [],
   "source": [
    "syst.initialize()\n",
    "K_p = 2e-3\n",
    "K_i = 0.01\n",
    "syst.xi = 0.0\n",
    "it = 0\n",
    "for t in times:\n",
    "    \n",
    "    p = syst.get_value('p')\n",
    "    \n",
    "    p_ref = 1000\n",
    "    \n",
    "    if t>0.1:\n",
    "        p_ref = 1200\n",
    "    \n",
    "    error = (p_ref - p)\n",
    "    \n",
    "    \n",
    "    v_1 = 101 + K_p*error + K_i*syst.xi\n",
    "    \n",
    "    syst.xi += Δt*error\n",
    "           \n",
    "    events=[{'t_end':t,'v_1':v_1}]\n",
    "    syst.run(events)\n",
    "\n",
    "    it += 1\n",
    "    \n",
    "syst.post();"
   ]
  },
  {
   "cell_type": "code",
   "execution_count": 140,
   "metadata": {},
   "outputs": [
    {
     "data": {
      "application/vnd.jupyter.widget-view+json": {
       "model_id": "",
       "version_major": 2,
       "version_minor": 0
      },
      "text/plain": [
       "Canvas(toolbar=Toolbar(toolitems=[('Home', 'Reset original view', 'home', 'home'), ('Back', 'Back to previous …"
      ]
     },
     "metadata": {},
     "output_type": "display_data"
    },
    {
     "data": {
      "text/plain": [
       "Text(0.5, 0, 'Time (s)')"
      ]
     },
     "execution_count": 140,
     "metadata": {},
     "output_type": "execute_result"
    }
   ],
   "source": [
    "fig, axes = plt.subplots(nrows=2, ncols=1, figsize=(7, 7))\n",
    "\n",
    "axes[0].plot(syst.T,syst.get_values('p'))\n",
    "axes[1].plot(syst.T,syst.get_values('v_1'))\n",
    "\n",
    "\n",
    "for ax in axes:\n",
    "    ax.grid()\n",
    "    #ax.legend()\n",
    "ax.set_xlabel('Time (s)')"
   ]
  },
  {
   "cell_type": "code",
   "execution_count": 15,
   "metadata": {},
   "outputs": [
    {
     "ename": "IndentationError",
     "evalue": "unexpected indent (<ipython-input-15-69b5124a0a58>, line 7)",
     "output_type": "error",
     "traceback": [
      "\u001b[1;36m  File \u001b[1;32m\"<ipython-input-15-69b5124a0a58>\"\u001b[1;36m, line \u001b[1;32m7\u001b[0m\n\u001b[1;33m    z_ref = np.copy(np.array([[p_t_ref],\u001b[0m\n\u001b[1;37m    ^\u001b[0m\n\u001b[1;31mIndentationError\u001b[0m\u001b[1;31m:\u001b[0m unexpected indent\n"
     ]
    }
   ],
   "source": [
    "T_ctrl = np.zeros((len(times),1))\n",
    "X_ctrl = np.zeros((len(times),N_u_d*2))\n",
    "U_ctrl = np.zeros((len(times),2))\n",
    "X_obs = np.zeros((len(times),N_x_d))\n",
    "Z_obs = np.zeros((len(times),N_z_o))\n",
    "\n",
    "    z_ref = np.copy(np.array([[p_t_ref],\n",
    "                              [v_1_ref]]))\n",
    "    \n",
    "    u_d = control(syst,z_ref)\n",
    "    \n",
    "    p_m_ref = u_d[0,0]\n",
    "    v_f =     u_d[1,0]"
   ]
  },
  {
   "cell_type": "markdown",
   "metadata": {},
   "source": [
    "## Run simulation with feedback control (PI control)"
   ]
  },
  {
   "cell_type": "code",
   "execution_count": null,
   "metadata": {},
   "outputs": [],
   "source": [
    "Δt = 0.1 \n",
    "times = np.arange(0.0,2,Δt)"
   ]
  },
  {
   "cell_type": "code",
   "execution_count": null,
   "metadata": {},
   "outputs": [],
   "source": [
    "syst.initialize()\n",
    "K_p = 2e-3\n",
    "K_i = 0.01\n",
    "syst.xi = 0.0\n",
    "it = 0\n",
    "for t in times:\n",
    "    \n",
    "    p = syst.get_value('p')\n",
    "    \n",
    "    p_ref = 1000\n",
    "    \n",
    "    if t>0.1:\n",
    "        p_ref = 1200\n",
    "    \n",
    "    error = (p_ref - p)\n",
    "    \n",
    "    \n",
    "    v_1 = 101 + K_p*error + K_i*syst.xi\n",
    "    \n",
    "    syst.xi += Δt*error\n",
    "           \n",
    "    events=[{'t_end':t,'v_1':v_1}]\n",
    "    syst.run(events)\n",
    "\n",
    "    it += 1\n",
    "    \n",
    "syst.post();"
   ]
  },
  {
   "cell_type": "code",
   "execution_count": null,
   "metadata": {},
   "outputs": [],
   "source": [
    "fig, axes = plt.subplots(nrows=2, ncols=1, figsize=(7, 7))\n",
    "\n",
    "axes[0].plot(syst.T,syst.get_values('p'))\n",
    "axes[1].plot(syst.T,syst.get_values('v_1'))\n",
    "\n",
    "\n",
    "for ax in axes:\n",
    "    ax.grid()\n",
    "    #ax.legend()\n",
    "ax.set_xlabel('Time (s)')"
   ]
  },
  {
   "cell_type": "code",
   "execution_count": null,
   "metadata": {},
   "outputs": [],
   "source": []
  },
  {
   "cell_type": "markdown",
   "metadata": {},
   "source": [
    "## PI control design"
   ]
  },
  {
   "cell_type": "code",
   "execution_count": 141,
   "metadata": {},
   "outputs": [],
   "source": [
    "import pydae.ssa as ssa\n",
    "import scipy.signal as sctrl\n"
   ]
  },
  {
   "cell_type": "markdown",
   "metadata": {},
   "source": [
    "### Sistema DAE linealizado\n",
    "\\begin{eqnarray}\n",
    "\\Delta \\dot x_p &=& A_p \\Delta x_p + B_p \\Delta u_p \\\\\n",
    "\\Delta z_p &=& C_p \\Delta x_p + D_p \\Delta u_p \\\\\n",
    "\\end{eqnarray}\n",
    "\n",
    "### Discretized system\n",
    "\\begin{eqnarray}\n",
    "\\Delta x_d^{k+1} &=& A_d \\Delta x_d^{k}  + B_d \\Delta u_d^{k}  \\\\\n",
    "\\Delta z_d^{k} &=& C_d^{k} \\Delta x_d^{k} + D_d^{k} \\Delta u_d^{k} \\\\\n",
    "\\end{eqnarray}\n",
    "\n",
    "### Dynamic extension\n",
    "\\begin{eqnarray}\n",
    "\\Delta x_i^{k+1} &=& \\Delta x_i^{k} + \\Delta t \\left(\\Delta z_c- \\Delta z_c^\\star \\right)  \\\\\n",
    "\\end{eqnarray}\n",
    "\n",
    "with: \n",
    "\\begin{eqnarray}\n",
    "\\Delta z_c  &=& z_c - z_c^0  \\\\\n",
    "\\Delta z_c^\\star &=& z_c^\\star -z_c^0 \n",
    "\\end{eqnarray}\n",
    "\n",
    "### Extended system\n",
    "\\begin{equation}\n",
    "\\Delta x_e^{k+1}  = \n",
    "\\begin{bmatrix}\n",
    "A_d & 0\\\\\n",
    "\\Delta t C_c & I\n",
    "\\end{bmatrix}\n",
    "\\begin{bmatrix}\n",
    "\\Delta x_d^{k}\\\\\n",
    "\\Delta x_i^{k}\n",
    "\\end{bmatrix}\n",
    "+\n",
    "\\begin{bmatrix}\n",
    "B_d \\\\\n",
    "0\n",
    "\\end{bmatrix}\n",
    "\\Delta u_d^{k} \n",
    "\\end{equation}\n",
    " \n",
    "\\begin{equation}\n",
    "A_e  = \n",
    "\\begin{bmatrix}\n",
    "A_d & 0\\\\\n",
    "\\Delta t C_c & I\n",
    "\\end{bmatrix}\n",
    "\\;\\;\\;\\;\\;\n",
    "B_e = \n",
    "\\begin{bmatrix}\n",
    "B_d \\\\\n",
    "0\n",
    "\\end{bmatrix}\n",
    "\\end{equation}\n",
    "\n",
    "\n",
    "### State feedback control\n",
    "\\begin{equation}\n",
    "\\Delta u_d^{k} = -K_e \\Delta x_e^{k}\n",
    "\\end{equation}\n",
    "\n",
    "\n",
    "$K_e$ can be obtained with LQR:\n",
    "\n",
    "K_e = lqr(A_e,B_e,Q,R)"
   ]
  },
  {
   "cell_type": "code",
   "execution_count": 144,
   "metadata": {},
   "outputs": [],
   "source": [
    "Δt = 0.1 \n",
    "x_d_ctrl_list = ['i']   # states to consider in the reduction\n",
    "z_ctrl_list = ['p']     # outputs to consider in the controller\n",
    "\n",
    "z_ctrl_idxs = [syst.outputs_list.index(item) for item in z_ctrl_list]\n",
    "\n",
    "syst.Δt = Δt\n",
    "\n",
    "## Calculate equilibirum point\n",
    "syst.initialize([{'p':1e3}])\n",
    "ssa.eval_ss(syst)\n",
    "\n",
    "# linear continous plant\n",
    "A_p = syst.A\n",
    "B_p = syst.B\n",
    "C_p = syst.C\n",
    "D_p = syst.D\n",
    "\n",
    "# plant discretization\n",
    "A_d,B_d,C_d,D_d,Dt = sctrl.cont2discrete((A_p,B_p,C_p,D_p),Δt,method='zoh')\n",
    "\n",
    "N_z_d,N_x_d = C_d.shape  # discreticed plant dimensions\n",
    "N_x_d,N_u_d = B_d.shape\n",
    "\n",
    "# convenient matrices\n",
    "O_ux = np.zeros((N_u_d,N_x_d))\n",
    "O_xu = np.zeros((N_x_d,N_u_d))\n",
    "O_uu = np.zeros((N_u_d,N_u_d))\n",
    "I_uu = np.eye(N_u_d)\n",
    "\n",
    "syst.A_d = A_d\n",
    "syst.B_d = B_d\n",
    "\n",
    "\n",
    "# Controller ##################################################################################\n",
    "C_c = C_d[z_ctrl_idxs,:]\n",
    "D_c = D_d[z_ctrl_idxs,:]\n",
    "\n",
    "N_z_c,N_x_c = C_c.shape\n",
    "\n",
    "O_ux = np.zeros((N_u_d,N_x_d))\n",
    "O_xu = np.zeros((N_x_d,N_u_d))\n",
    "O_uu = np.zeros((N_u_d,N_u_d))\n",
    "I_uu = np.eye(N_u_d)\n",
    "\n",
    "\n",
    "# discretized plant:\n",
    "# Δx_d = A_d*Δx_d + B_d*Δu_d\n",
    "# Δz_c = C_c*Δx_d + D_c*Δu_d\n",
    "\n",
    "# dinamic extension:\n",
    "# Δx_d = A_d*Δx_d + B_d*Δu_d\n",
    "# Δx_i = Δx_i + Δt*(Δz_c-Δz_c_ref) = Δx_i + Δt*C_c*Δx_d - Dt*Δz_c_ref\n",
    "# Δz_c = z_c - z_c_0\n",
    "# Δz_c_ref = z_c_ref - z_c_0\n",
    "# (Δz_c-Δz_c_ref) = z_c - z_c_ref\n",
    "\n",
    "A_e = np.block([\n",
    "                [    A_d, O_xu],    # Δx_d\n",
    "                [ Δt*C_c, I_uu],    # Δx_i    \n",
    "               ])\n",
    "\n",
    "B_e = np.block([\n",
    "                [   B_d],\n",
    "                [   O_uu],    \n",
    "               ])\n",
    "\n",
    "\n",
    "\n",
    "# weighting matrices\n",
    "Q_c = np.eye(A_e.shape[0])\n",
    "R_c = np.diag([0.1]) \n",
    "\n",
    "K_c,S_c,E_c = ssa.dlqr(A_e,B_e,Q_c,R_c)\n",
    "E_c = np.log(E_c)/Δt"
   ]
  },
  {
   "cell_type": "code",
   "execution_count": 145,
   "metadata": {},
   "outputs": [
    {
     "data": {
      "text/plain": [
       "array([-68.85462939+0.j, -47.29891607+0.j])"
      ]
     },
     "execution_count": 145,
     "metadata": {},
     "output_type": "execute_result"
    }
   ],
   "source": [
    "E_c"
   ]
  },
  {
   "cell_type": "markdown",
   "metadata": {},
   "source": [
    "## PI control validation"
   ]
  },
  {
   "cell_type": "code",
   "execution_count": 146,
   "metadata": {},
   "outputs": [],
   "source": [
    "times = np.arange(0.0,2,Δt)"
   ]
  },
  {
   "cell_type": "code",
   "execution_count": 147,
   "metadata": {},
   "outputs": [],
   "source": [
    "syst.initialize()\n",
    "i_0 = syst.get_value('i')\n",
    "K_p = K_c[0,0]\n",
    "K_i = K_c[0,1]\n",
    "syst.Δxi = 0.0\n",
    "u_d_0 = syst.get_value('v_1')\n",
    "p_0 =  syst.get_value('p')\n",
    "it = 0\n",
    "for t in times:\n",
    "    \n",
    "\n",
    "    p = syst.get_value('p')\n",
    "    i = syst.get_value('i')\n",
    "    \n",
    "    Δx_d = i - i_0\n",
    "    Δx_i = syst.Δxi\n",
    "    \n",
    "    p_ref = p_0\n",
    "    \n",
    "    if t>0.1:\n",
    "        p_ref = 1200\n",
    "    \n",
    "    error = (p - p_ref)\n",
    "    \n",
    "    Δx_e = np.block([Δx_d, Δx_i]).T\n",
    "    \n",
    "    Δu_d = -K_c @ Δx_e\n",
    "    \n",
    "    u_d = Δu_d + u_d_0\n",
    "    \n",
    "    syst.Δxi += Δt*error\n",
    "    \n",
    "    v_1 = u_d\n",
    "    \n",
    "    events=[{'t_end':t,'v_1':v_1}]\n",
    "    syst.run(events)\n",
    "\n",
    "    it += 1\n",
    "    \n",
    "syst.post();"
   ]
  },
  {
   "cell_type": "code",
   "execution_count": 148,
   "metadata": {},
   "outputs": [
    {
     "data": {
      "application/vnd.jupyter.widget-view+json": {
       "model_id": "",
       "version_major": 2,
       "version_minor": 0
      },
      "text/plain": [
       "Canvas(toolbar=Toolbar(toolitems=[('Home', 'Reset original view', 'home', 'home'), ('Back', 'Back to previous …"
      ]
     },
     "metadata": {},
     "output_type": "display_data"
    },
    {
     "data": {
      "text/plain": [
       "Text(0.5, 0, 'Time (s)')"
      ]
     },
     "execution_count": 148,
     "metadata": {},
     "output_type": "execute_result"
    }
   ],
   "source": [
    "fig, axes = plt.subplots(nrows=2, ncols=1, figsize=(7, 7))\n",
    "\n",
    "axes[0].plot(syst.T,syst.get_values('p'))\n",
    "axes[1].plot(syst.T,syst.get_values('v_1'))\n",
    "\n",
    "\n",
    "for ax in axes:\n",
    "    ax.grid()\n",
    "    #ax.legend()\n",
    "ax.set_xlabel('Time (s)')"
   ]
  },
  {
   "cell_type": "code",
   "execution_count": 22,
   "metadata": {},
   "outputs": [],
   "source": [
    "syst.initialize()\n",
    "K_p = 2e-3\n",
    "it = 0\n",
    "for t in times:\n",
    "    \n",
    "    p = syst.get_value('p')\n",
    "    \n",
    "    p_ref = 1000\n",
    "    \n",
    "    if t>0.1:\n",
    "        p_ref = 1200\n",
    "    \n",
    "    v_1 = 101 + K_p*(p_ref - p)\n",
    "           \n",
    "    events=[{'t_end':t,'v_1':v_1}]\n",
    "    syst.run(events)\n",
    "\n",
    "    it += 1\n",
    "    \n",
    "syst.post();"
   ]
  },
  {
   "cell_type": "markdown",
   "metadata": {},
   "source": [
    "## PI control with delay design"
   ]
  },
  {
   "cell_type": "code",
   "execution_count": 15,
   "metadata": {},
   "outputs": [],
   "source": [
    "import pydae.ssa as ssa\n",
    "import scipy.signal as sctrl\n"
   ]
  },
  {
   "cell_type": "markdown",
   "metadata": {},
   "source": [
    "### Linealized DAE system\n",
    "\\begin{eqnarray}\n",
    "\\Delta \\dot x_p &=& A_p \\Delta x_p + B_p \\Delta u_p \\\\\n",
    "\\Delta z_p &=& C_p \\Delta x_p + D_p \\Delta u_p \\\\\n",
    "\\end{eqnarray}\n",
    "\n",
    "### Discretized system\n",
    "\\begin{eqnarray}\n",
    "\\Delta x_d^{k+1} &=& A_d \\Delta x_d^{k}  + B_d \\Delta u_d^{k}  \\\\\n",
    "\\Delta z_d^{k} &=& C_d  \\Delta x_d^{k} + D_d  \\Delta u_d^{k} \\\\\n",
    "\\end{eqnarray}\n",
    "\n",
    "### Discretized system from control point of view\n",
    "\\begin{eqnarray}\n",
    "\\Delta x_d^{k+1} &=& A_d \\Delta x_d^{k} + B_d \\Delta x_r^{k}  \\\\\n",
    "\\Delta z_c^{k}   &=& C_c \\Delta x_d^{k} + D_c \\Delta x_r^{k} \\\\\n",
    "\\end{eqnarray}\n",
    "\n",
    "\n",
    "### Delay extension\n",
    "\\begin{eqnarray}\n",
    "\\Delta x_r^{k+1} &=& \\Delta u_r^{k} \\\\\n",
    "\\end{eqnarray}\n",
    "\n",
    "\n",
    "### Dynamic extension\n",
    "\\begin{eqnarray}\n",
    "\\Delta x_i^{k+1} &=& \\Delta x_i^{k} + \\Delta t \\left(\\Delta z_c- \\Delta z_c^\\star \\right)  \\\\\n",
    "\\end{eqnarray}\n",
    "\n",
    "with: \n",
    "\\begin{eqnarray}\n",
    "\\Delta z_c  &=& z_c - z_c^0  \\\\\n",
    "\\Delta z_c^\\star &=& z_c^\\star -z_c^0 \\\\\n",
    "\\Delta z_c  &=& C_c \\Delta x_d^{k} + D_c \\Delta u_d^{k}  \n",
    "\\end{eqnarray}\n",
    "\n",
    "### Extended system\n",
    "\n",
    "\\begin{eqnarray}\n",
    "\\Delta x_d^{k+1} &=& A_d \\Delta x_d^{k}  + B_d \\Delta x_r^{k}  \\\\\n",
    "\\Delta x_r^{k+1} &=& \\Delta u_r^{k} \\\\\n",
    "\\Delta x_i^{k+1} &=& \\Delta x_i^{k} + \\Delta t C_c \\Delta x_d^k - \\Delta t \\Delta z_c^\\star   \\\\\n",
    "\\end{eqnarray}\n",
    "\n",
    "\n",
    "\n",
    "\\begin{equation}\n",
    "\\Delta x_e^{k+1}  = \n",
    "\\begin{bmatrix}\n",
    "A_d & B_d & 0 \\\\\n",
    "0 & 0 & 0 \\\\\n",
    "\\Delta t C_c& \\Delta t D_c & I \n",
    "\\end{bmatrix}\n",
    "\\begin{bmatrix}\n",
    "\\Delta x_d^{k}\\\\\n",
    "\\Delta x_r^{k}\\\\\n",
    "\\Delta x_i^{k}\n",
    "\\end{bmatrix}\n",
    "+\n",
    "\\begin{bmatrix}\n",
    "0\\\\\n",
    "I \\\\\n",
    "0\n",
    "\\end{bmatrix}\n",
    "\\Delta u_r^{k} \n",
    "\\end{equation}\n",
    " \n",
    "\\begin{equation}\n",
    "A_e  = \n",
    "\\begin{bmatrix}\n",
    "A_d & B_d & 0\\\\\n",
    "0 & 0 & 0\\\\\n",
    "\\Delta t C_c & 0 & I\n",
    "\\end{bmatrix}\n",
    "\\;\\;\\;\\;\\;\n",
    "B_e = \n",
    "\\begin{bmatrix}\n",
    "0 \\\\\n",
    "I \\\\\n",
    "0\n",
    "\\end{bmatrix}\n",
    "\\end{equation}\n",
    "\n",
    "\n",
    "### State feedback control\n",
    "\\begin{equation}\n",
    "\\Delta u_r^{k} = -K_e \\Delta x_e^{k}\n",
    "\\end{equation}\n",
    "\n",
    "\n",
    "$K_e$ can be obtained with LQR:\n",
    "\n",
    "K_e = lqr(A_e,B_e,Q,R)\n",
    "\n",
    "### Control dynamics\n",
    "\\begin{equation}\n",
    "\\Delta x_{ctrl}^{k+1}  = \n",
    "\\begin{bmatrix}\n",
    "0 & 0 \\\\\n",
    "0 & I \n",
    "\\end{bmatrix}\n",
    "\\begin{bmatrix}\n",
    "\\Delta x_r^{k}\\\\\n",
    "\\Delta x_i^{k}\n",
    "\\end{bmatrix}\n",
    "+\n",
    "\\begin{bmatrix}\n",
    "I \\\\\n",
    "0\n",
    "\\end{bmatrix}\n",
    "\\Delta u_d^{k} \n",
    "\\end{equation}\n",
    " \n",
    "\\begin{equation}\n",
    "A_{ctrl}  = \n",
    "\\begin{bmatrix}\n",
    " 0 & 0\\\\\n",
    " 0 & I\n",
    "\\end{bmatrix}\n",
    "\\;\\;\\;\\;\\;\n",
    "B_{ctrl} = \n",
    "\\begin{bmatrix}\n",
    "I \\\\\n",
    "0\n",
    "\\end{bmatrix}\n",
    "\\end{equation}\n"
   ]
  },
  {
   "cell_type": "code",
   "execution_count": 159,
   "metadata": {},
   "outputs": [],
   "source": [
    "Δt = 0.01\n",
    "x_d_ctrl_list = ['i']   # states to consider in the reduction\n",
    "z_ctrl_list = ['p']     # outputs to consider in the controller\n",
    "\n",
    "z_ctrl_idxs = [syst.outputs_list.index(item) for item in z_ctrl_list]\n",
    "\n",
    "syst.Δt = Δt\n",
    "\n",
    "## Calculate equilibirum point\n",
    "syst.initialize([{'p':1e3}])\n",
    "ssa.eval_ss(syst)\n",
    "\n",
    "# linear continous plant\n",
    "A_p = syst.A\n",
    "B_p = syst.B\n",
    "C_p = syst.C\n",
    "D_p = syst.D\n",
    "\n",
    "# plant discretization\n",
    "A_d,B_d,C_d,D_d,Dt = sctrl.cont2discrete((A_p,B_p,C_p,D_p),Δt,method='zoh')\n",
    "\n",
    "N_z_d,N_x_d = C_d.shape  # discreticed plant dimensions\n",
    "N_x_d,N_u_d = B_d.shape\n",
    "\n",
    "# convenient matrices\n",
    "O_ux = np.zeros((N_u_d,N_x_d))\n",
    "O_xu = np.zeros((N_x_d,N_u_d))\n",
    "O_uu = np.zeros((N_u_d,N_u_d))\n",
    "I_uu = np.eye(N_u_d)\n",
    "\n",
    "syst.A_d = A_d\n",
    "syst.B_d = B_d\n",
    "\n",
    "\n",
    "# Controller ##################################################################################\n",
    "C_c = C_d[z_ctrl_idxs,:]\n",
    "D_c = D_d[z_ctrl_idxs,:]\n",
    "\n",
    "N_z_c,N_x_c = C_c.shape\n",
    "\n",
    "O_ux = np.zeros((N_u_d,N_x_d))\n",
    "O_xu = np.zeros((N_x_d,N_u_d))\n",
    "O_uu = np.zeros((N_u_d,N_u_d))\n",
    "I_uu = np.eye(N_u_d)\n",
    "\n",
    "\n",
    "# discretized plant:\n",
    "# Δx_d = A_d*Δx_d + B_d*Δu_d\n",
    "# Δz_c = C_c*Δx_d + D_c*Δu_d\n",
    "\n",
    "# dinamic extension:\n",
    "# Δx_d = A_d*Δx_d + B_d*Δu_d\n",
    "# Δx_i = Δx_i + Δt*(Δz_c-Δz_c_ref) = Δx_i + Δt*C_c*Δx_d - Dt*Δz_c_ref\n",
    "# Δz_c = z_c - z_c_0\n",
    "# Δz_c_ref = z_c_ref - z_c_0\n",
    "# (Δz_c-Δz_c_ref) = z_c - z_c_ref\n",
    "\n",
    "A_e = np.block([\n",
    "                [    A_d,    B_d, O_xu],    # Δx_d\n",
    "                [   O_ux,   O_uu, O_uu],    # Δx_r\n",
    "                [ Δt*C_c, Δt*D_c, I_uu],    # Δx_i    \n",
    "               ])\n",
    "\n",
    "B_e = np.block([\n",
    "                [   O_xu],\n",
    "                [   I_uu],\n",
    "                [   O_uu],    \n",
    "               ])\n",
    "\n",
    "A_ctrl = A_e[N_x_d:,N_x_d:]\n",
    "B_ctrl = B_e[N_x_d:]\n",
    "\n",
    "# weighting matrices\n",
    "Q_c = np.eye(A_e.shape[0]) \n",
    "R_c = np.diag([1]) \n",
    "\n",
    "K_c,S_c,E_c = ssa.dlqr(A_e,B_e,Q_c,R_c)\n",
    "E_c = np.log(E_c)/Δt\n",
    "\n",
    "syst.A_ctrl = A_ctrl\n",
    "syst.B_ctrl = B_ctrl\n",
    "syst.K_c = K_c\n",
    "syst.N_x_d = N_x_d  # number of plant states\n",
    "syst.N_u_d = N_u_d  # number of plant inputs\n",
    "syst.N_z_c = N_z_c  # number of plant outputs considered for the controller"
   ]
  },
  {
   "cell_type": "code",
   "execution_count": 161,
   "metadata": {},
   "outputs": [],
   "source": [
    "K_c = np.array([[0.23551695, 1.35717384, 0.01565326]])"
   ]
  },
  {
   "cell_type": "markdown",
   "metadata": {},
   "source": [
    "## PI control validation"
   ]
  },
  {
   "cell_type": "code",
   "execution_count": 162,
   "metadata": {},
   "outputs": [],
   "source": [
    "times = np.arange(0.0,10,Δt)"
   ]
  },
  {
   "cell_type": "code",
   "execution_count": 163,
   "metadata": {},
   "outputs": [],
   "source": [
    "syst.initialize()\n",
    "x_0 = syst.get_x()\n",
    "syst.Δx_ctrl = np.zeros((N_u_d+N_z_c,1))\n",
    "syst.Δu_d = np.zeros((N_u_d,1)) \n",
    "u_d_0 = syst.get_value('v_1')\n",
    "x_r_0 = u_d_0\n",
    "p_0 =  syst.get_value('p')\n",
    "it = 0\n",
    "for t in times:\n",
    "    \n",
    "    p = syst.get_value('p')\n",
    "    Δx_d = syst.get_x() - x_0\n",
    "\n",
    "    \n",
    "    Δx_ctrl = np.copy(syst.Δx_ctrl)  \n",
    "    Δx_r = Δx_ctrl[:N_u_d]\n",
    "    Δx_i = Δx_ctrl[N_u_d:]\n",
    "    Δu_d = np.copy(syst.Δu_d)  \n",
    "    p_ref = p_0\n",
    "    \n",
    "    if t>=0.1:\n",
    "        p_ref = 1200\n",
    "    \n",
    "    Δz_c = np.block([[p - p_ref]])\n",
    "    \n",
    "    Δx_e = np.block([[Δx_d], [Δx_ctrl]])\n",
    "    \n",
    "\n",
    "    \n",
    "    #x_r += Δu_d\n",
    "    #Δx_i += Δt*Δz\n",
    "    #Δx_ctrl = np.block([Δx_r, Δx_i]).T\n",
    "\n",
    "    # control dynamics\n",
    "    Δu_d = -K_c @ Δx_e\n",
    "    Δx_r_k1 = Δu_d\n",
    "    Δx_i_k1 = Δx_i +  Δt*Δz_c   \n",
    "\n",
    "    \n",
    "    \n",
    "    #u_d = Δu_d + u_d_0\n",
    "    \n",
    "    syst.Δx_ctrl[:syst.N_u,:] = np.copy(Δx_r_k1)\n",
    "    syst.Δx_ctrl[syst.N_u:,:] = np.copy(Δx_i_k1)    \n",
    "\n",
    "    syst.Δu_d  = np.copy(Δu_d)     \n",
    "    #yst.Δx_ctrl = np.copy(Δx_ctrl)\n",
    "    \n",
    "    v_1 =  Δx_r + x_r_0\n",
    "   # v_1 = u_d\n",
    "    events=[{'t_end':t,'v_1':v_1}]\n",
    "    syst.run(events)\n",
    "\n",
    "    it += 1\n",
    "    \n",
    "syst.post();"
   ]
  },
  {
   "cell_type": "code",
   "execution_count": 164,
   "metadata": {},
   "outputs": [
    {
     "data": {
      "text/plain": [
       "array([[0.95162582]])"
      ]
     },
     "execution_count": 164,
     "metadata": {},
     "output_type": "execute_result"
    }
   ],
   "source": [
    "B_d"
   ]
  },
  {
   "cell_type": "code",
   "execution_count": 165,
   "metadata": {},
   "outputs": [
    {
     "data": {
      "application/vnd.jupyter.widget-view+json": {
       "model_id": "",
       "version_major": 2,
       "version_minor": 0
      },
      "text/plain": [
       "Canvas(toolbar=Toolbar(toolitems=[('Home', 'Reset original view', 'home', 'home'), ('Back', 'Back to previous …"
      ]
     },
     "metadata": {},
     "output_type": "display_data"
    },
    {
     "data": {
      "text/plain": [
       "Text(0.5, 0, 'Time (s)')"
      ]
     },
     "execution_count": 165,
     "metadata": {},
     "output_type": "execute_result"
    }
   ],
   "source": [
    "fig, axes = plt.subplots(nrows=2, ncols=1, figsize=(7, 7))\n",
    "\n",
    "axes[0].plot(syst.T,syst.get_values('p'))\n",
    "axes[1].plot(syst.T,syst.get_values('v_1'))\n",
    "\n",
    "\n",
    "for ax in axes:\n",
    "    ax.grid()\n",
    "    #ax.legend()\n",
    "ax.set_xlabel('Time (s)')"
   ]
  },
  {
   "cell_type": "code",
   "execution_count": 51,
   "metadata": {},
   "outputs": [
    {
     "data": {
      "text/plain": [
       "0.01"
      ]
     },
     "execution_count": 51,
     "metadata": {},
     "output_type": "execute_result"
    }
   ],
   "source": [
    "Δt"
   ]
  },
  {
   "cell_type": "code",
   "execution_count": 102,
   "metadata": {},
   "outputs": [],
   "source": [
    "Δx_e = np.zeros((N_x_d+N_u_d+N_z_c,1))\n",
    "syst.Δx_ctrl = np.zeros((N_u_d+N_z_c,1))\n",
    "syst.Δu_d = np.zeros((N_u_d,1)) \n",
    "u_d_0 = syst.get_value('v_1')\n",
    "x_r_0 = u_d_0\n",
    "p_0 =  1\n",
    "X_e = np.zeros((len(times),Δx_e.shape[0]))\n",
    "it = 0\n",
    "for t in times:\n",
    "    X_e[it,:] = Δx_e.T\n",
    "\n",
    "    p_ref = p_0 \n",
    "    if t>=0.1:\n",
    "        p_ref = 1.2\n",
    "    \n",
    "    C_e = np.block([[C_c , 0 , 0]])\n",
    "    Δz_c = np.block([[C_e@Δx_e - (p_ref-p_0)]])\n",
    "    B_z = np.block([[0],[0],[-Δt]])\n",
    "    \n",
    "    Δu_r = -K_c @Δx_e\n",
    "    Δx_e = A_e@Δx_e + B_e@Δu_r + B_z@Δz_c\n",
    "\n",
    "    \n",
    "    \n",
    "\n",
    "    it += 1\n",
    "    \n",
    "syst.post();"
   ]
  },
  {
   "cell_type": "code",
   "execution_count": 103,
   "metadata": {},
   "outputs": [
    {
     "data": {
      "text/plain": [
       "array([[100.,   0.,   0.]])"
      ]
     },
     "execution_count": 103,
     "metadata": {},
     "output_type": "execute_result"
    }
   ],
   "source": [
    "C_e"
   ]
  },
  {
   "cell_type": "code",
   "execution_count": 104,
   "metadata": {},
   "outputs": [
    {
     "data": {
      "application/vnd.jupyter.widget-view+json": {
       "model_id": "",
       "version_major": 2,
       "version_minor": 0
      },
      "text/plain": [
       "Canvas(toolbar=Toolbar(toolitems=[('Home', 'Reset original view', 'home', 'home'), ('Back', 'Back to previous …"
      ]
     },
     "metadata": {},
     "output_type": "display_data"
    },
    {
     "data": {
      "text/plain": [
       "Text(0.5, 0, 'Time (s)')"
      ]
     },
     "execution_count": 104,
     "metadata": {},
     "output_type": "execute_result"
    }
   ],
   "source": [
    "fig, axes = plt.subplots(nrows=2, ncols=1, figsize=(7, 7))\n",
    "\n",
    "axes[0].plot(times,X_e)\n",
    "\n",
    "\n",
    "\n",
    "\n",
    "for ax in axes:\n",
    "    ax.grid()\n",
    "    #ax.legend()\n",
    "ax.set_xlabel('Time (s)')"
   ]
  },
  {
   "cell_type": "code",
   "execution_count": null,
   "metadata": {},
   "outputs": [],
   "source": []
  },
  {
   "cell_type": "code",
   "execution_count": null,
   "metadata": {},
   "outputs": [],
   "source": []
  },
  {
   "cell_type": "code",
   "execution_count": 248,
   "metadata": {},
   "outputs": [
    {
     "name": "stdout",
     "output_type": "stream",
     "text": [
      "1000.0000000000063\n",
      "damp_ctrl [0.96560365 0.96560365 0.99270532]\n",
      "damp_obs [-1.]\n"
     ]
    }
   ],
   "source": [
    "Ts_control = 0.1\n",
    "Δt = Ts_control\n",
    "x_d_ctrl_list = ['i']   # states to consider in the reduction\n",
    "z_ctrl_list = ['p']                           # outputs to consider in the controller\n",
    "z_obs_list =  ['p']       # outputs to consider in the observer\n",
    "\n",
    "syst.Δt = Δt\n",
    "\n",
    "## Calculate equilibirum point\n",
    "events=[{'p':1000}]\n",
    "syst.initialize(events,xy0=1)\n",
    "print(syst.get_value('p'))\n",
    "ssa.eval_ss(syst)\n",
    "\n",
    "z_ctrl_idxs = [syst.outputs_list.index(item) for item in z_ctrl_list]\n",
    "z_obs_idxs  = [syst.outputs_list.index(item) for item in z_obs_list]\n",
    "\n",
    "# linear continous plant\n",
    "A_p = syst.A\n",
    "B_p = syst.B\n",
    "C_p = syst.C\n",
    "D_p = syst.D\n",
    "\n",
    "N_z_p,N_x_p = C_p.shape\n",
    "N_x_p,N_u_p = B_p.shape\n",
    "\n",
    "x_ctrl_keep_idx = [syst.x_list.index(item)  for item in x_d_ctrl_list]\n",
    "x_ctrl_elim_idx = list(set(range(N_x_p)) - set(x_ctrl_keep_idx)) \n",
    "\n",
    "# Reduction and discretization ##################################################################\n",
    "if len(x_ctrl_elim_idx) == 0:\n",
    "    # without reduction:\n",
    "    A_d,B_d,C_d,D_d,Dt = sctrl.cont2discrete((A_p,B_p,C_p,D_p),Ts_control,method='zoh')\n",
    "    T_r = np.eye(N_x_p)\n",
    "\n",
    "else:\n",
    "    # with reduction:\n",
    "    sys = ctrl.ss(A_p, B_p, C_p, D_p)\n",
    "    T_r =np.eye(N_x_p)\n",
    "    \n",
    "    rsys = ctrl.modred(sys, x_ctrl_elim_idx, method='truncate')\n",
    "    A_pr,B_pr,C_pr,D_pr = rsys.A,rsys.B,rsys.C,rsys.D\n",
    "    A_d,B_d,C_d,D_d,Dt = sctrl.cont2discrete((A_pr,B_pr,C_pr,D_pr),Ts_control,method='zoh')\n",
    "    T_r = np.delete(np.eye(N_x_p),x_ctrl_elim_idx,axis=0)\n",
    "    \n",
    "N_z_d,N_x_d = C_d.shape\n",
    "N_x_d,N_u_d = B_d.shape\n",
    "\n",
    "syst.T_r = T_r  # Full linear discrete states to reduced (truncated) states \n",
    "\n",
    "syst.A_d = A_d\n",
    "syst.B_d = B_d\n",
    "\n",
    "\n",
    "# Controller ##################################################################################\n",
    "C_c = C_d[z_ctrl_idxs,:]\n",
    "D_c = D_d[z_ctrl_idxs,:]\n",
    "\n",
    "N_z_c,N_x_c = C_c.shape\n",
    "\n",
    "O_ux = np.zeros((N_u_d,N_x_d))\n",
    "O_xu = np.zeros((N_x_d,N_u_d))\n",
    "O_uu = np.zeros((N_u_d,N_u_d))\n",
    "I_uu = np.eye(N_u_d)\n",
    "\n",
    "# discretized plant:\n",
    "# Δx_d = A_d*Δx_d + B_d*Δu_d\n",
    "# Δz_c = C_c*Δx_d + D_c*Δu_d\n",
    "\n",
    "# delay in the input:\n",
    "# Δx_d = A_d*Δx_d + B_d*Δx_r\n",
    "# Δz_c = C_c*Δx_c \n",
    "# Δx_r = Δu_d\n",
    "\n",
    "# dinamic extension:\n",
    "# Δx_d = A_d*Δx_d + B_d*Δx_r\n",
    "# Δx_r = Δu_d\n",
    "# Δx_i = Δx_i + Δt*(Δz_c-Δz_c_ref) = Δx_i + Δt*C_c*Δx_d - Dt*Δz_c_ref\n",
    "# Δz_c = z_c - z_c_0\n",
    "# Δz_c_ref = z_c_ref - z_c_0\n",
    "# (Δz_c-Δz_c_ref) = z_c - z_c_ref\n",
    "\n",
    "A_e = np.block([\n",
    "                [    A_d,  B_d, O_xu],    # Δx_d\n",
    "                [   O_ux, O_uu, O_uu],    # Δx_r\n",
    "                [ Δt*C_c, O_uu, I_uu],    # Δx_i    \n",
    "               ])\n",
    "\n",
    "B_e = np.block([\n",
    "                [   O_xu],\n",
    "                [   I_uu],\n",
    "                [   O_uu],    \n",
    "               ])\n",
    "\n",
    "# weighting matrices\n",
    "Q_c = np.eye(A_e.shape[0])\n",
    "\n",
    "\n",
    "R_c = np.diag([1]) \n",
    "\n",
    "K_c,S_c,E_c = ssa.dlqr(A_e,B_e,Q_c,R_c)\n",
    "E_c = np.log(E_c)/Δt\n",
    "\n",
    "syst.x_ctrl_keep_idx = x_ctrl_keep_idx\n",
    "syst.x_ctrl_elim_idx = x_ctrl_elim_idx\n",
    "syst.z_ctrl_list = z_ctrl_list\n",
    "\n",
    "syst.N_z_c = N_z_c\n",
    "syst.N_u_d = N_u_d\n",
    "\n",
    "syst.x_ctrl = np.zeros((N_u_d+N_z_d,1))\n",
    "syst.K_c = K_c\n",
    "syst.C_c = C_c\n",
    "syst.D_c = D_c\n",
    "\n",
    "# Observer ###########################################################\n",
    "\n",
    "# discretized plant:\n",
    "# Dx_d = A_d*Dx_d + B_d*Du_d\n",
    "# z_o  = C_o*Dx_d + D_o*Du_d\n",
    "\n",
    "# x_o = A_d*x_o + B_d*u_d + L_o*(z_o - C_o*x_o - D_o*Du_d)\n",
    "\n",
    "C_o = C_d[z_obs_idxs,:]\n",
    "D_o = D_d[z_obs_idxs,:]\n",
    "\n",
    "N_z_o = C_o.shape[0]\n",
    "\n",
    "Q_o = np.eye(A_d.shape[0])\n",
    "\n",
    "\n",
    "R_o = np.diag([1]*N_z_o)\n",
    "K_o_T,S_o,E_o = ssa.dlqr(A_d.T,C_o.T,Q_o,R_o)\n",
    "K_o = K_o_T.T\n",
    "\n",
    "syst.K_o = K_o\n",
    "syst.C_o = C_o\n",
    "syst.D_o = D_o\n",
    "\n",
    "syst.z_obs_list = z_obs_list\n",
    "syst.N_z_o = N_z_o\n",
    "syst.x_obs = np.zeros((N_x_d,1))\n",
    "\n",
    "print('damp_ctrl',-E_c.real/np.abs(E_c))\n",
    "print('damp_obs',-E_o.real/np.abs(E_o))"
   ]
  },
  {
   "cell_type": "code",
   "execution_count": 249,
   "metadata": {},
   "outputs": [
    {
     "data": {
      "text/plain": [
       "array([ -43.10502553+11.6073527j ,  -43.10502553-11.6073527j ,\n",
       "       -258.66973143+31.41592654j])"
      ]
     },
     "execution_count": 249,
     "metadata": {},
     "output_type": "execute_result"
    }
   ],
   "source": [
    "E_c"
   ]
  },
  {
   "cell_type": "code",
   "execution_count": 261,
   "metadata": {},
   "outputs": [],
   "source": [
    "def control(syst,z_ref):\n",
    "    \n",
    "    Δt = syst.Δt                    # disctretization time\n",
    "    T_r = syst.T_r                  # Full linear discrete states to reduced (truncated) states\n",
    "    \n",
    "    x_d = T_r @ syst.struct[0].x    # plant dynamic states (discrete)\n",
    "    x_d_0 = syst.x_d_0              # plant initial steady state (discrete)\n",
    "    Δx_d = x_d - x_d_0              # plant dynamic states increment (discrete)\n",
    "    \n",
    "    x_r_0  = syst.x_r_0              # initial delays values\n",
    "    \n",
    "    Δx_e = np.copy(syst.Δx_e)     # extended plant dynamic states increment (discrete)\n",
    "\n",
    "    u_d = np.copy(syst.u_d)       # plant inputs\n",
    "    u_d_0 = syst.u_d_0              # plant initial steady inputs (discrete)\n",
    "    Δu_d = syst.Δu_d              # plant inputs increment (discrete)\n",
    "\n",
    "    z_c_0 = np.copy(syst.z_c_0)     # controller considered initial plant ouputs\n",
    "    z_o_0 = np.copy(syst.z_o_0)     # observer considered initial plant ouputs\n",
    "    \n",
    "    A_d = syst.A_d            # plant A matrix without delay and integrators extension (discrete)\n",
    "    B_d = syst.B_d            # plant B matrix without delay and integrators extension (discrete)\n",
    "    C_c = syst.C_c            # controller considered plant C matrix (discrete)\n",
    "    D_c = syst.D_c            # controller considered plant D matrix (discrete) \n",
    "    C_o = syst.C_o            # observer considered plant C matrix (discrete) \n",
    "    D_o = syst.D_o            # observer considered plant D matrix (discrete)   \n",
    "    \n",
    "    N_x_d,N_u_d = B_d.shape  # dimensions\n",
    "    N_z_c,N_x_c = C_c.shape\n",
    "    N_z_o,N_x_o = C_o.shape    \n",
    "    \n",
    "    K_c = syst.K_c            # controller gains matrix\n",
    "    K_o = syst.K_o            # observer gains matrix\n",
    "    \n",
    "    Δx_c = np.copy(syst.x_ctrl)  # controler states\n",
    "    Δx_r = Δx_c[:syst.N_u_d,:]   # delay discrete states\n",
    "    Δx_i = Δx_c[syst.N_u_d:,:]   # integrators discrete states\n",
    "    \n",
    "    Δx_o = syst.x_obs       # observer states\n",
    "\n",
    "     \n",
    "    # outputs to control         \n",
    "    z_ctrl_values_list = []\n",
    "    for item in syst.z_ctrl_list:\n",
    "         z_ctrl_values_list += [syst.get_value(item)]\n",
    "    z_c = np.array(z_ctrl_values_list).reshape(N_z_c,1)\n",
    "    \n",
    "    Δz_c =   (z_c-z_c_0) - (z_ref-z_c_0)\n",
    "    \n",
    "    \n",
    "    # outputs for observer         \n",
    "    z_obs_values_list = []\n",
    "    for item in syst.z_obs_list:\n",
    "         z_obs_values_list += [syst.get_value(item)]\n",
    "    z_o = np.array(z_obs_values_list).reshape(N_z_o,1)\n",
    "    \n",
    "    Δz_o = z_o - z_o_0\n",
    "    \n",
    "\n",
    "    # control dynamics\n",
    "    Δx_r_k1 = Δu_d\n",
    "    Δx_i_k1 = Δx_i + Δt*Δz_c   \n",
    "\n",
    "    \n",
    "    # control law  \n",
    "    Δu_d = -K_c @ Δx_e \n",
    "\n",
    "    # observer dynamics\n",
    "    Δx_o_m1 = A_d @ Δx_o + B_d@Δu_d  +  K_o @ (Δz_o - C_o @ Δx_o - D_o @ Δu_d)\n",
    "    \n",
    "    # save statates for next step\n",
    "    syst.x_ctrl[:syst.N_u,:] = np.copy(Δx_r_k1)\n",
    "    syst.x_ctrl[syst.N_u:,:] = np.copy(Δx_i_k1)\n",
    "    syst.x_obs = np.copy(Δx_o_m1)\n",
    "    \n",
    "    if syst.observer == False:\n",
    "        syst.Δx_e  = np.copy(np.block([[Δx_d],[Δx_r_k1],[Δx_i_k1]]))\n",
    "        \n",
    "    if syst.observer == True:    \n",
    "        syst.Δx_e  = np.copy(np.block([[Δx_o_m1],[Δx_r_k1],[Δx_i_k1]]))\n",
    "        \n",
    "    syst.Δu_d = Δu_d\n",
    "    \n",
    "    # outputs for post-processing\n",
    "    syst.z_obs = C_o @ Δx_o + D_o @ Δu_d\n",
    "       \n",
    "    return Δx_r_k1 + x_r_0"
   ]
  },
  {
   "cell_type": "code",
   "execution_count": 265,
   "metadata": {},
   "outputs": [
    {
     "data": {
      "text/plain": [
       "array([[6.32120559]])"
      ]
     },
     "execution_count": 265,
     "metadata": {},
     "output_type": "execute_result"
    }
   ],
   "source": [
    "B_d"
   ]
  },
  {
   "cell_type": "markdown",
   "metadata": {},
   "source": [
    "## Initialization"
   ]
  },
  {
   "cell_type": "code",
   "execution_count": 262,
   "metadata": {},
   "outputs": [],
   "source": [
    "times = np.arange(0.0,20,Δt)\n",
    "\n",
    "## Calculate initial references\n",
    "events=[{'p':1000}]\n",
    "syst.initialize(events,xy0=1.0)\n",
    "\n",
    "\n",
    "# initial inputs\n",
    "u_values_list = []\n",
    "for item in syst.u_run_list:\n",
    "     u_values_list += [syst.get_value(item)]\n",
    "u_d_0 = np.array(u_values_list).reshape(syst.N_u_d,1)\n",
    "\n",
    "# initial states\n",
    "x_d_0 = T_r @ syst.struct[0].x    # initial plant states\n",
    "x_r_0 = u_d_0                     # initial delay states\n",
    "x_i_0 = np.zeros((syst.N_u_d,1))  # initial integrator states\n",
    "\n",
    "\n",
    "Δx_e = np.block([[x_d_0*0],[x_r_0*0],[x_i_0*0]])\n",
    "\n",
    "# initial outputs\n",
    "z_ctrl_values_list = []\n",
    "for item in syst.z_ctrl_list:\n",
    "     z_ctrl_values_list += [syst.get_value(item)]\n",
    "z_c_0 = np.array(z_ctrl_values_list).reshape(N_z_c,1)\n",
    "\n",
    "# outputs for observer         \n",
    "z_obs_values_list = []\n",
    "for item in syst.z_obs_list:\n",
    "     z_obs_values_list += [syst.get_value(item)]\n",
    "z_o_0 = np.array(z_obs_values_list).reshape(N_z_o,1)\n",
    "\n",
    "syst.Δx_e = Δx_e\n",
    "syst.Δu_d = np.zeros((syst.N_u_d,1))\n",
    "syst.x_d_0 = x_d_0\n",
    "syst.x_r_0 = x_r_0\n",
    "syst.u_d_0 = u_d_0\n",
    "syst.z_c_0 = z_c_0\n",
    "syst.z_o_0 = z_o_0\n",
    "\n",
    "syst.u_d =  np.copy(u_d_0)\n",
    "syst.x_ctrl = np.block([[x_r_0],[x_i_0]])*0\n",
    "syst.x_obs = np.copy(x_d_0)*0\n",
    "\n",
    "syst.observer = False"
   ]
  },
  {
   "cell_type": "markdown",
   "metadata": {},
   "source": [
    "## Simulation "
   ]
  },
  {
   "cell_type": "code",
   "execution_count": 263,
   "metadata": {},
   "outputs": [],
   "source": [
    "T_ctrl = np.zeros((len(times),1))\n",
    "X_ctrl = np.zeros((len(times),N_u_d*2))\n",
    "U_ctrl = np.zeros((len(times),2))\n",
    "X_obs = np.zeros((len(times),N_x_d))\n",
    "Z_obs = np.zeros((len(times),N_z_o))\n",
    "it = 0\n",
    "for t in times:\n",
    "    \n",
    "    # references\n",
    "    p_ref = 1000\n",
    "   \n",
    "    if t>=1:\n",
    "        p_ref = 1200\n",
    "\n",
    "        \n",
    "    z_ref = np.copy(np.array([[p_ref],\n",
    "                              ]))\n",
    "    \n",
    "    u_d = control(syst,z_ref)\n",
    "    \n",
    "    v_1 = u_d[0,0]\n",
    "           \n",
    "    events=[{'t_end':t,'v_1':v_1}]\n",
    "    syst.run(events)\n",
    "    \n",
    "    #X_ctrl[it,:] = np.hstack((x_i.T))\n",
    "    U_ctrl[it,:] = u_d.T\n",
    "    X_ctrl[it,:] = syst.x_ctrl.T\n",
    "    X_obs[it,:]  = syst.x_obs.T\n",
    "    Z_obs[it,:]  = syst.z_obs.T\n",
    "    it += 1\n",
    "syst.post();"
   ]
  },
  {
   "cell_type": "markdown",
   "metadata": {},
   "source": [
    "## Post processing"
   ]
  },
  {
   "cell_type": "code",
   "execution_count": 264,
   "metadata": {},
   "outputs": [
    {
     "data": {
      "application/vnd.jupyter.widget-view+json": {
       "model_id": "131065e93ca14e829c8e1babcddb12dd",
       "version_major": 2,
       "version_minor": 0
      },
      "text/plain": [
       "Canvas(toolbar=Toolbar(toolitems=[('Home', 'Reset original view', 'home', 'home'), ('Back', 'Back to previous …"
      ]
     },
     "metadata": {},
     "output_type": "display_data"
    },
    {
     "name": "stderr",
     "output_type": "stream",
     "text": [
      "No handles with labels found to put in legend.\n",
      "No handles with labels found to put in legend.\n"
     ]
    }
   ],
   "source": [
    "plt.close('all')\n",
    "fig, axes = plt.subplots(nrows=2,ncols=2, figsize=(10, 5), frameon=False, dpi=80)\n",
    "\n",
    "#axes[0,0].plot(syst.T, syst.get_values('omega'), label=f'$\\omega$')\n",
    "#axes[0,0].step(times,X_obs[:,1] + x_d_0[1],   label=f'$\\hat \\omega$')\n",
    "\n",
    "axes[0,0].plot(syst.T, syst.get_values('p'), label=f\"$p$\")\n",
    "\n",
    "\n",
    "\n",
    "axes[1,0].plot(syst.T, syst.get_values('v_1'), label=f\"$v_1$\")\n",
    "for ax in axes.flatten():\n",
    "    ax.legend(loc='best')\n",
    "    ax.grid(True)"
   ]
  },
  {
   "cell_type": "code",
   "execution_count": null,
   "metadata": {},
   "outputs": [],
   "source": []
  },
  {
   "cell_type": "code",
   "execution_count": null,
   "metadata": {},
   "outputs": [],
   "source": []
  }
 ],
 "metadata": {
  "kernelspec": {
   "display_name": "Python 3",
   "language": "python",
   "name": "python3"
  },
  "language_info": {
   "codemirror_mode": {
    "name": "ipython",
    "version": 3
   },
   "file_extension": ".py",
   "mimetype": "text/x-python",
   "name": "python",
   "nbconvert_exporter": "python",
   "pygments_lexer": "ipython3",
   "version": "3.8.5"
  }
 },
 "nbformat": 4,
 "nbformat_minor": 4
}
