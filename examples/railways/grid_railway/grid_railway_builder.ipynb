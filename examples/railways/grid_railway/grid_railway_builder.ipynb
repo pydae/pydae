{
 "cells": [
  {
   "cell_type": "code",
   "execution_count": 53,
   "metadata": {},
   "outputs": [],
   "source": [
    "import numpy as np\n",
    "from pydgrid.pydgrid import grid\n",
    "from pydgrid.plot_bokeh import plot_results\n",
    "import sympy as sym\n",
    "import pydae.build as db\n",
    "from pydae.grid_urisi import unb_ri_si\n",
    "from pydae.models import dcgrid2dae,dcrail2dae\n",
    "from pydae.tools import get_v,get_i,get_s,save,load\n",
    "from pydae.train_tools import trains_update,trains2params\n",
    "import json\n",
    "import matplotlib.pyplot as plt"
   ]
  },
  {
   "cell_type": "markdown",
   "metadata": {},
   "source": [
    "## Grid building"
   ]
  },
  {
   "cell_type": "code",
   "execution_count": 35,
   "metadata": {},
   "outputs": [],
   "source": [
    "grid_data = {\n",
    "        \"buses\":[\n",
    "                 {\"bus\": \"B1\",  \"pos_x\":   0, \"pos_y\":  0, \"units\": \"m\", \"U_kV\":20.0},\n",
    "                 {\"bus\": \"B2\",  \"pos_x\":  50, \"pos_y\":  0, \"units\": \"m\", \"U_kV\":20.0},\n",
    "                 {\"bus\": \"B3\",  \"pos_x\": 100, \"pos_y\":  0, \"units\": \"m\", \"U_kV\":20.0},\n",
    "                 {\"bus\": \"B4\",  \"pos_x\": 150, \"pos_y\":  0, \"units\": \"m\", \"U_kV\":20.0},\n",
    "                 {\"bus\": \"B5\",  \"pos_x\": 200, \"pos_y\":  0, \"units\": \"m\", \"U_kV\":20.0},\n",
    "                 {\"bus\": \"B6\",  \"pos_x\": 250, \"pos_y\":  0, \"units\": \"m\", \"U_kV\":20.0},\n",
    "                 {\"bus\": \"B7\",  \"pos_x\": 350, \"pos_y\":  0, \"units\": \"m\", \"U_kV\":20.0},\n",
    "                 {\"bus\": \"B2lv\",  \"pos_x\": 50, \"pos_y\":  -10, \"units\": \"m\", \"U_kV\":1.5},\n",
    "                 {\"bus\": \"B3lv\",  \"pos_x\": 100, \"pos_y\": -10, \"units\": \"m\", \"U_kV\":1.5},\n",
    "                 {\"bus\": \"B4lv\",  \"pos_x\": 150, \"pos_y\": -10, \"units\": \"m\", \"U_kV\":1.5},\n",
    "                 {\"bus\": \"B5lv\",  \"pos_x\": 200, \"pos_y\": -10, \"units\": \"m\", \"U_kV\":1.5},\n",
    "                 {\"bus\": \"B6lv\",  \"pos_x\": 250, \"pos_y\": -10, \"units\": \"m\", \"U_kV\":1.5},\n",
    "                ],\n",
    "        \"grid_formers\":[\n",
    "                        {\"bus\": \"B1\",\n",
    "                        \"bus_nodes\": [1, 2, 3], \"deg\": [0, -120, -240],\n",
    "                        \"kV\": [20.0/np.sqrt(3), 20.0/np.sqrt(3), 20.0/np.sqrt(3)]},\n",
    "                        {\"bus\": \"B7\",\n",
    "                        \"bus_nodes\": [1, 2, 3], \"deg\": [0, -120, -240],\n",
    "                        \"kV\": [20.0/np.sqrt(3), 20.0/np.sqrt(3), 20.0/np.sqrt(3)]},\n",
    "                       ],\n",
    "        \"lines\":[\n",
    "                 {\"bus_j\": \"B1\",  \"bus_k\": \"B2\",  \"code\": \"mv_al_185\", \"m\": 2600,'monitor':True},\n",
    "                 {\"bus_j\": \"B2\",  \"bus_k\": \"B3\",  \"code\": \"mv_al_185\", \"m\": 2600,'monitor':True},\n",
    "                 {\"bus_j\": \"B3\",  \"bus_k\": \"B4\",  \"code\": \"mv_al_185\", \"m\": 2600,'monitor':True},\n",
    "                # {\"bus_j\": \"B4\",  \"bus_k\": \"B5\",  \"code\": \"mv_al_185\", \"m\": 2600,'monitor':True},\n",
    "                 {\"bus_j\": \"B5\",  \"bus_k\": \"B6\",  \"code\": \"mv_al_185\", \"m\": 2600,'monitor':True},\n",
    "                 {\"bus_j\": \"B6\",  \"bus_k\": \"B7\",  \"code\": \"mv_al_185\", \"m\": 2600,'monitor':True},\n",
    "                ],\n",
    "\"transformers\":[\n",
    "        {\"bus_j\": \"B2\",  \"bus_k\": \"B2lv\",\n",
    "        \"S_n_kVA\": 2200.0, \"U_j_kV\":20.0, \"U_k_kV\":1.5,\n",
    "        \"R_cc_pu\": 0.01, \"X_cc_pu\":0.04, \"connection\": \"Dyn11\",\n",
    "  \"conductors_j\": 3, \"conductors_k\": 4, \"monitor\":True},\n",
    "        {\"bus_j\": \"B3\",  \"bus_k\": \"B3lv\",\n",
    "        \"S_n_kVA\": 2200.0, \"U_j_kV\":20.0, \"U_k_kV\":1.5,\n",
    "        \"R_cc_pu\": 0.01, \"X_cc_pu\":0.04, \"connection\": \"Dyn11\",\n",
    "  \"conductors_j\": 3, \"conductors_k\": 4, \"monitor\":True},\n",
    "        {\"bus_j\": \"B4\",  \"bus_k\": \"B4lv\",\n",
    "        \"S_n_kVA\": 2200.0, \"U_j_kV\":20.0, \"U_k_kV\":1.5,\n",
    "        \"R_cc_pu\": 0.01, \"X_cc_pu\":0.04, \"connection\": \"Dyn11\",\n",
    "  \"conductors_j\": 3, \"conductors_k\": 4, \"monitor\":True},\n",
    "        {\"bus_j\": \"B5\",  \"bus_k\": \"B5lv\",\n",
    "        \"S_n_kVA\": 2200.0, \"U_j_kV\":20.0, \"U_k_kV\":1.5,\n",
    "        \"R_cc_pu\": 0.01, \"X_cc_pu\":0.04, \"connection\": \"Dyn11\",\n",
    "  \"conductors_j\": 3, \"conductors_k\": 4, \"monitor\":True},\n",
    "        {\"bus_j\": \"B6\",  \"bus_k\": \"B6lv\",\n",
    "        \"S_n_kVA\": 2200.0, \"U_j_kV\":20.0, \"U_k_kV\":1.5,\n",
    "        \"R_cc_pu\": 0.01, \"X_cc_pu\":0.04, \"connection\": \"Dyn11\",\n",
    "         \"conductors_j\": 3, \"conductors_k\": 4, \"monitor\":True}\n",
    "        ],\n",
    "        \"loads\":[\n",
    "                 {\"bus\": \"B2lv\" , \"kVA\": [740.0,740.0,740.0], \"pf\":[0.9]*3,\"type\":\"3P+N\"},\n",
    "                 {\"bus\": \"B3lv\" , \"kVA\": [740.0,740.0,740.0], \"pf\":[0.9]*3,\"type\":\"3P+N\"},\n",
    "                 {\"bus\": \"B4lv\" , \"kVA\": [740.0,740.0,740.0], \"pf\":[0.9]*3,\"type\":\"3P+N\"},\n",
    "                 {\"bus\": \"B5lv\" , \"kVA\": [740.0,740.0,740.0], \"pf\":[0.9]*3,\"type\":\"3P+N\"},\n",
    "                 {\"bus\": \"B6lv\" , \"kVA\": [740.0,740.0,740.0], \"pf\":[0.9]*3,\"type\":\"3P+N\"}\n",
    "                ],\n",
    "        \"shunts\":[\n",
    "                 {\"bus\": \"B2lv\" , \"R\": 0.001, \"X\": 0.0, \"bus_nodes\": [4,0]},\n",
    "                 {\"bus\": \"B3lv\" , \"R\": 0.001, \"X\": 0.0, \"bus_nodes\": [4,0]},\n",
    "                 {\"bus\": \"B4lv\" , \"R\": 0.001, \"X\": 0.0, \"bus_nodes\": [4,0]},\n",
    "                 {\"bus\": \"B5lv\" , \"R\": 0.001, \"X\": 0.0, \"bus_nodes\": [4,0]},\n",
    "                 {\"bus\": \"B6lv\" , \"R\": 0.001, \"X\": 0.0, \"bus_nodes\": [4,0]}\n",
    "                 ],\n",
    "        \"line_codes\":\n",
    "            {\n",
    "                \"lv_cu_150\":  {\"Rph\":0.167,\"Xph\":0.08, \"Rn\":0.167, \"Xn\": 0.08},\n",
    "                \"mv_al_150\":   {\"R1\":0.262,  \"X1\":0.118, \"C_1_muF\":0.250 },\n",
    "                \"mv_al_185\":   {\"R1\":0.209,  \"X1\":0.113, \"C_1_muF\":0.281 },\n",
    "                \"mv_al_240\":   {\"R1\":0.161,  \"X1\":0.109, \"C_1_muF\":0.301 },\n",
    "                \"mv_al_300\":   {\"R1\":0.128,  \"X1\":0.105, \"C_1_muF\":0.340 }\n",
    "            }\n",
    "       }"
   ]
  },
  {
   "cell_type": "code",
   "execution_count": 36,
   "metadata": {},
   "outputs": [
    {
     "data": {
      "text/html": [
       "\n",
       "\n",
       "\n",
       "\n",
       "\n",
       "\n",
       "  <div class=\"bk-root\" id=\"b1f1a96e-d866-4203-ad5b-9d13425a4cce\" data-root-id=\"1299\"></div>\n"
      ]
     },
     "metadata": {},
     "output_type": "display_data"
    },
    {
     "data": {
      "application/javascript": [
       "(function(root) {\n",
       "  function embed_document(root) {\n",
       "    \n",
       "  var docs_json = {\"98dafce6-2b5e-4e81-b681-818e573fe83b\":{\"defs\":[],\"roots\":{\"references\":[{\"attributes\":{\"below\":[{\"id\":\"1310\"}],\"center\":[{\"id\":\"1313\"},{\"id\":\"1317\"}],\"height\":400,\"left\":[{\"id\":\"1314\"}],\"renderers\":[{\"id\":\"1336\"},{\"id\":\"1342\"},{\"id\":\"1348\"}],\"title\":{\"id\":\"1300\"},\"toolbar\":{\"id\":\"1325\"},\"x_range\":{\"id\":\"1302\"},\"x_scale\":{\"id\":\"1306\"},\"y_range\":{\"id\":\"1304\"},\"y_scale\":{\"id\":\"1308\"}},\"id\":\"1299\",\"subtype\":\"Figure\",\"type\":\"Plot\"},{\"attributes\":{\"axis\":{\"id\":\"1314\"},\"dimension\":1,\"ticker\":null},\"id\":\"1317\",\"type\":\"Grid\"},{\"attributes\":{\"data\":{\"deg_1a\":[-27.79016955889379,-27.833941471741188,-27.854420494832105,-27.78695362948667,-27.767026076508934],\"deg_1b\":[-147.79016955889412,-147.83394147174158,-147.85442049483223,-147.78695362948642,-147.76702607650947],\"deg_1c\":[92.20983044110606,92.16605852825836,92.145579505168,92.21304637051364,92.23297392349069],\"deg_1n\":[90.0,-14.036243467926479,153.434948822922,-116.56505117707799,180.0],\"deg_2a\":[122.20983044110596,122.1660585282588,122.14557950516766,122.21304637051324,122.23297392349103],\"deg_2b\":[2.2098304411058343,2.166058528258368,2.145579505167659,2.213046370513596,2.232973923490877],\"deg_2c\":[-117.79016955889409,-117.8339414717418,-117.85442049483204,-117.78695362948643,-117.76702607650947],\"deg_2n\":[-27.833941471741188,-27.854420494832105,-27.78695362948667,-27.767026076508934,-26.15947362280481],\"i_1a_m\":[66.68099071157992,67.19344933151635,67.45447387315487,66.67735913426681,66.42547911839956],\"i_1b_m\":[66.6809907115799,67.19344933151645,67.4544738731549,66.67735913426671,66.42547911839999],\"i_1c_m\":[66.68099071157964,67.19344933151595,67.45447387315488,66.6773591342668,66.42547911839927],\"i_1n_m\":[5.684341886080802e-14,2.3437142008433856e-13,2.5421149729252077e-13,2.5421149729252077e-13,2.2737367544323206e-13],\"i_2a_m\":[889.0798761543975,895.9126577535467,899.3929849753982,889.0314551235574,885.6730549119924],\"i_2b_m\":[889.0798761544031,895.9126577535538,899.3929849754009,889.0314551235576,885.6730549119962],\"i_2c_m\":[889.0798761543965,895.9126577535528,899.3929849753995,889.0314551235552,885.6730549119965],\"i_2n_m\":[67.19344933151635,67.45447387315487,66.67735913426681,66.42547911839956,198.3715750359425],\"trafo_id\":[\"B2-B2lv\",\"B3-B3lv\",\"B4-B4lv\",\"B5-B5lv\",\"B6-B6lv\"],\"x_s\":[[50,50],[100,100],[150,150],[200,200],[250,250]],\"y_s\":[[0,-10],[0,-10],[0,-10],[0,-10],[0,-10]]},\"selected\":{\"id\":\"1392\"},\"selection_policy\":{\"id\":\"1391\"}},\"id\":\"1332\",\"type\":\"ColumnDataSource\"},{\"attributes\":{\"line_alpha\":{\"value\":0.5},\"line_color\":{\"value\":\"red\"},\"line_width\":{\"value\":5},\"xs\":{\"field\":\"x_s\"},\"ys\":{\"field\":\"y_s\"}},\"id\":\"1340\",\"type\":\"MultiLine\"},{\"attributes\":{\"data_source\":{\"id\":\"1338\"},\"glyph\":{\"id\":\"1340\"},\"hover_glyph\":null,\"muted_glyph\":null,\"nonselection_glyph\":{\"id\":\"1341\"},\"view\":{\"id\":\"1343\"}},\"id\":\"1342\",\"type\":\"GlyphRenderer\"},{\"attributes\":{\"callback\":null,\"renderers\":[{\"id\":\"1336\"}],\"tooltips\":\"\\n            <div>\\n            transformer id = @trafo_id  \\n            <table border=\\\"5\\\">\\n                <tr >\\n                    <td>I<sub>1a</sub> =  @i_1a_m &ang; @deg_1a </td>\\n                    <td>I<sub>2a</sub> =  @i_2a_m &ang; @deg_2a </td>\\n                </tr>\\n                <tr>\\n                    <td >I<sub>1b</sub> =  @i_1b_m &ang; @deg_1b </td>\\n                    <td >I<sub>2b</sub> =  @i_2b_m &ang; @deg_2b </td>\\n                </tr>\\n                <tr>\\n                    <td >I<sub>1c</sub> =  @i_1c_m &ang; @deg_1c </td>\\n                    <td >I<sub>2c</sub> =  @i_2c_m &ang; @deg_2c </td>\\n                </tr>\\n                <tr>\\n                    <td >I<sub>1n</sub> =  @i_1n_m &ang; @deg_1n </td>\\n                    <td >I<sub>2n</sub> =  @i_2n_m &ang; @deg_2n </td>\\n                </tr>\\n            </table>            \\n            </div>\\n            \"},\"id\":\"1350\",\"type\":\"HoverTool\"},{\"attributes\":{\"line_alpha\":{\"value\":0.1},\"line_color\":{\"value\":\"red\"},\"line_width\":{\"value\":5},\"xs\":{\"field\":\"x_s\"},\"ys\":{\"field\":\"y_s\"}},\"id\":\"1341\",\"type\":\"MultiLine\"},{\"attributes\":{\"data_source\":{\"id\":\"1332\"},\"glyph\":{\"id\":\"1334\"},\"hover_glyph\":null,\"muted_glyph\":null,\"nonselection_glyph\":{\"id\":\"1335\"},\"view\":{\"id\":\"1337\"}},\"id\":\"1336\",\"type\":\"GlyphRenderer\"},{\"attributes\":{},\"id\":\"1315\",\"type\":\"BasicTicker\"},{\"attributes\":{},\"id\":\"1392\",\"type\":\"Selection\"},{\"attributes\":{\"formatter\":{\"id\":\"1389\"},\"major_label_policy\":{\"id\":\"1388\"},\"ticker\":{\"id\":\"1315\"}},\"id\":\"1314\",\"type\":\"LinearAxis\"},{\"attributes\":{},\"id\":\"1306\",\"type\":\"LinearScale\"},{\"attributes\":{},\"id\":\"1304\",\"type\":\"DataRange1d\"},{\"attributes\":{},\"id\":\"1386\",\"type\":\"BasicTickFormatter\"},{\"attributes\":{},\"id\":\"1323\",\"type\":\"HelpTool\"},{\"attributes\":{\"data\":{\"bus_id\":[\"B1\",\"B2\",\"B3\",\"B4\",\"B5\",\"B6\",\"B7\",\"B2lv\",\"B3lv\",\"B4lv\",\"B5lv\",\"B6lv\"],\"deg_an\":[\"0.00\",\"-0.02\",\"-0.04\",\"-0.04\",\"-0.02\",\"-0.02\",\"0.00\",\"-31.95\",\"-31.99\",\"-32.01\",\"-31.95\",\"-31.93\"],\"deg_bn\":[\"-120.00\",\"-120.02\",\"-120.04\",\"-120.04\",\"-120.02\",\"-120.02\",\"-120.00\",\"-151.95\",\"-151.99\",\"-152.01\",\"-151.95\",\"-151.93\"],\"deg_cn\":[\"120.00\",\"119.98\",\"119.96\",\"119.96\",\"119.98\",\"119.98\",\"120.00\",\"88.05\",\"88.01\",\"87.99\",\"88.05\",\"88.07\"],\"deg_ng\":[\"0.00\",\"0.00\",\"0.00\",\"0.00\",\"0.00\",\"0.00\",\"0.00\",\"104.04\",\"-114.14\",\"41.73\",\"37.55\",\"141.45\"],\"p_a\":[\"2055.97\",\"0.00\",\"0.00\",\"0.00\",\"0.00\",\"0.00\",\"1359.85\",\"-666.00\",\"-666.00\",\"-666.00\",\"-666.00\",\"-666.00\"],\"p_abc\":[\"6167.92\",\"0.00\",\"0.00\",\"0.00\",\"0.00\",\"0.00\",\"4079.54\",\"-1998.00\",\"-1998.00\",\"-1998.00\",\"-1998.00\",\"-1998.00\"],\"p_b\":[\"2055.97\",\"-0.00\",\"-0.00\",\"-0.00\",\"-0.00\",\"-0.00\",\"1359.85\",\"-666.00\",\"-666.00\",\"-666.00\",\"-666.00\",\"-666.00\"],\"p_c\":[\"2055.97\",\"0.00\",\"0.00\",\"0.00\",\"0.00\",\"0.00\",\"1359.85\",\"-666.00\",\"-666.00\",\"-666.00\",\"-666.00\",\"-666.00\"],\"q_a\":[\"994.56\",\"-0.00\",\"-0.00\",\"-0.00\",\"-0.00\",\"-0.00\",\"655.43\",\"-322.56\",\"-322.56\",\"-322.56\",\"-322.56\",\"-322.56\"],\"q_abc\":[\"2983.67\",\"0.00\",\"0.00\",\"0.00\",\"0.00\",\"0.00\",\"1966.30\",\"-967.68\",\"-967.68\",\"-967.68\",\"-967.68\",\"-967.68\"],\"q_b\":[\"994.56\",\"0.00\",\"0.00\",\"0.00\",\"0.00\",\"0.00\",\"655.43\",\"-322.56\",\"-322.56\",\"-322.56\",\"-322.56\",\"-322.56\"],\"q_c\":[\"994.56\",\"0.00\",\"0.00\",\"0.00\",\"0.00\",\"0.00\",\"655.43\",\"-322.56\",\"-322.56\",\"-322.56\",\"-322.56\",\"-322.56\"],\"s_color\":[\"red\",\"blue\",\"blue\",\"blue\",\"blue\",\"blue\",\"red\",\"green\",\"green\",\"green\",\"green\",\"green\"],\"s_radio\":[20,1,1,1,1,1,20,14.89966438881725,14.899664366397124,14.899664354064969,14.899664399695732,14.89966440606238],\"u_avg_pu\":[\"1.000\",\"0.989\",\"0.982\",\"0.979\",\"0.989\",\"0.993\",\"1.000\",\"0.961\",\"0.954\",\"0.950\",\"0.961\",\"0.965\"],\"v_ab\":[20000.0,19787.914946993904,19645.839316122074,19574.329699190464,19788.92986108137,19859.60023127859,20000.0,1441.6225421617833,1430.6278366499625,1425.0918193481803,1441.701062129529,1447.167876571465],\"v_an\":[\"11547.01\",\"11424.56\",\"11342.53\",\"11301.24\",\"11425.14\",\"11465.95\",\"11547.01\",\"832.32\",\"825.97\",\"822.78\",\"832.37\",\"835.52\"],\"v_an_pu\":[\"1.0000\",\"0.9894\",\"0.9823\",\"0.9787\",\"0.9894\",\"0.9930\",\"1.0000\",\"0.9611\",\"0.9538\",\"0.9501\",\"0.9611\",\"0.9648\"],\"v_bc\":[20000.0,19787.914946993893,19645.839316122074,19574.329699190457,19788.929861081375,19859.60023127859,20000.0,1441.6225421617821,1430.6278366499614,1425.0918193481791,1441.7010621295283,1447.1678765714648],\"v_bn\":[\"11547.01\",\"11424.56\",\"11342.53\",\"11301.24\",\"11425.14\",\"11465.95\",\"11547.01\",\"832.32\",\"825.97\",\"822.78\",\"832.37\",\"835.52\"],\"v_bn_pu\":[\"1.0000\",\"0.9894\",\"0.9823\",\"0.9787\",\"0.9894\",\"0.9930\",\"1.0000\",\"0.9611\",\"0.9538\",\"0.9501\",\"0.9611\",\"0.9648\"],\"v_ca\":[20000.000000000007,19787.914946993908,19645.839316122077,19574.329699190475,19788.929861081382,19859.60023127859,20000.000000000007,1441.6225421617823,1430.6278366499623,1425.09181934818,1441.7010621295292,1447.1678765714653],\"v_cn\":[\"11547.01\",\"11424.56\",\"11342.53\",\"11301.24\",\"11425.14\",\"11465.95\",\"11547.01\",\"832.32\",\"825.97\",\"822.78\",\"832.37\",\"835.52\"],\"v_cn_pu\":[\"1.0000\",\"0.9894\",\"0.9823\",\"0.9787\",\"0.9894\",\"0.9930\",\"1.0000\",\"0.9611\",\"0.9538\",\"0.9501\",\"0.9611\",\"0.9648\"],\"v_ng\":[\"0.00\",\"0.00\",\"0.00\",\"0.00\",\"0.00\",\"0.00\",\"0.00\",\"0.00\",\"0.00\",\"0.00\",\"0.00\",\"0.00\"],\"v_unb\":[\"0.0\",\"0.0\",\"0.0\",\"0.0\",\"0.0\",\"0.0\",\"0.0\",\"0.0\",\"0.0\",\"0.0\",\"0.0\",\"0.0\"],\"x\":[0,50,100,150,200,250,350,50,100,150,200,250],\"y\":[0,0,0,0,0,0,0,-10,-10,-10,-10,-10]},\"selected\":{\"id\":\"1396\"},\"selection_policy\":{\"id\":\"1395\"}},\"id\":\"1344\",\"type\":\"ColumnDataSource\"},{\"attributes\":{\"formatter\":{\"id\":\"1386\"},\"major_label_policy\":{\"id\":\"1385\"},\"ticker\":{\"id\":\"1311\"}},\"id\":\"1310\",\"type\":\"LinearAxis\"},{\"attributes\":{},\"id\":\"1389\",\"type\":\"BasicTickFormatter\"},{\"attributes\":{},\"id\":\"1308\",\"type\":\"LinearScale\"},{\"attributes\":{\"line_alpha\":{\"value\":0.5},\"line_color\":{\"value\":\"green\"},\"line_width\":{\"value\":5},\"xs\":{\"field\":\"x_s\"},\"ys\":{\"field\":\"y_s\"}},\"id\":\"1334\",\"type\":\"MultiLine\"},{\"attributes\":{},\"id\":\"1302\",\"type\":\"DataRange1d\"},{\"attributes\":{\"axis\":{\"id\":\"1310\"},\"ticker\":null},\"id\":\"1313\",\"type\":\"Grid\"},{\"attributes\":{},\"id\":\"1319\",\"type\":\"WheelZoomTool\"},{\"attributes\":{\"text\":\"Results\"},\"id\":\"1300\",\"type\":\"Title\"},{\"attributes\":{\"overlay\":{\"id\":\"1324\"}},\"id\":\"1320\",\"type\":\"BoxZoomTool\"},{\"attributes\":{\"data_source\":{\"id\":\"1344\"},\"glyph\":{\"id\":\"1346\"},\"hover_glyph\":null,\"muted_glyph\":null,\"nonselection_glyph\":{\"id\":\"1347\"},\"view\":{\"id\":\"1349\"}},\"id\":\"1348\",\"type\":\"GlyphRenderer\"},{\"attributes\":{},\"id\":\"1391\",\"type\":\"UnionRenderers\"},{\"attributes\":{},\"id\":\"1396\",\"type\":\"Selection\"},{\"attributes\":{\"callback\":null,\"renderers\":[{\"id\":\"1348\"}],\"tooltips\":\"\\n            <div>\\n            bus_id = @bus_id &nbsp &nbsp |  u<sub>avg</sub>= @u_avg_pu pu |  u<sub>unb</sub>= @v_unb %\\n            <table border=\\\"1\\\">\\n                <tr>\\n                <td>v<sub>an</sub> =  @v_an  &ang; @deg_an V </td> <td> S<sub>a</sub> = @p_a + j@q_a kVA</td>\\n                </tr>\\n                      <tr>\\n                      <td> </td> <td>v<sub>ab</sub>= @v_ab V</td>\\n                      </tr>\\n                <tr>\\n                <td>v<sub>bn</sub> = @v_bn &ang; @deg_bn V </td><td> S<sub>b</sub> = @p_b + j@q_b kVA</td>\\n                </tr>\\n                      <tr>\\n                      <td> </td><td>v<sub>bc</sub>= @v_bc V</td>\\n                      </tr>\\n                <tr>\\n                <td>v<sub>cn</sub>  = @v_cn &ang; @deg_cn V </td>  <td>S<sub>c</sub> = @p_c + j@q_c kVA </td>\\n                </tr> \\n                    <tr>\\n                     <td> </td> <td>v<sub>ca</sub>= @v_ca V</td>\\n                    </tr>\\n               <tr>\\n                <td>v<sub>ng</sub>    = @v_ng &ang; @deg_ng V</td>  <td>S<sub>abc</sub> = @p_abc + j@q_abc kVA </td>\\n              </tr>\\n            </table>\\n            </div>\\n            \"},\"id\":\"1354\",\"type\":\"HoverTool\"},{\"attributes\":{},\"id\":\"1388\",\"type\":\"AllLabels\"},{\"attributes\":{\"data\":{\"deg_j_a\":[-25.814920384038118,-25.847436158716032,-25.867178938625266,152.2130463705242,153.2328686930513],\"deg_j_b\":[-145.8149203840357,-145.84743615872043,-145.86717893862473,32.21304637051723,33.232868693049916],\"deg_j_c\":[94.18507961596231,94.15256384128463,94.13282106137368,-87.78695362948642,-86.76713130694938],\"deg_j_n\":[173.2085224208835,164.10512204000216,-135.0159820859211,-143.93109343054454,-145.6086727615277],\"deg_k_a\":[-26.49845231845201,-26.8572770511859,-27.854420494831427,154.24697542596172,154.266441294379],\"deg_k_b\":[-146.49845231844955,-146.8572770511903,-147.8544204948306,34.24697542595447,34.26644129437767],\"deg_k_c\":[93.50154768154846,93.14272294881468,92.14557950516752,-85.75302457404906,-85.73355870562169],\"deg_k_n\":[173.2135265945827,164.07147813172523,-134.96800905998936,-144.18594049176448,-145.63063164074288],\"i_j_a_m\":[197.79092586579804,132.29708823513104,66.28185475166235,66.67735913427386,131.89977560019574],\"i_j_b_m\":[197.79092586581208,132.29708823512703,66.281854751672,66.67735913427862,131.89977560018536],\"i_j_c_m\":[197.7909258658141,132.2970882351214,66.28185475166183,66.67735913427201,131.89977560019318],\"i_j_n_m\":[9.613599232505815e-12,3.3208600349791106e-12,9.006050693379435e-12,5.044635831128263e-12,1.0466138326716437e-11],\"i_k_a_m\":[198.95259395753973,133.45564611630408,67.45447387315068,65.4946698417705,130.73193252786277],\"i_k_b_m\":[198.9525939575537,133.45564611630027,67.4544738731603,65.49466984177495,130.73193252785234],\"i_k_c_m\":[198.9525939575558,133.45564611629445,67.45447387315019,65.4946698417682,130.73193252786015],\"i_k_n_m\":[9.620654838548329e-12,3.31402684931438e-12,8.998515301859338e-12,5.05139543240031e-12,1.047200248740128e-11],\"line_id\":[\"B1-B2\",\"B2-B3\",\"B3-B4\",\"B5-B6\",\"B6-B7\"],\"x_s\":[[0,50],[50,100],[100,150],[200,250],[250,350]],\"y_s\":[[0,0],[0,0],[0,0],[0,0],[0,0]]},\"selected\":{\"id\":\"1394\"},\"selection_policy\":{\"id\":\"1393\"}},\"id\":\"1338\",\"type\":\"ColumnDataSource\"},{\"attributes\":{},\"id\":\"1394\",\"type\":\"Selection\"},{\"attributes\":{\"fill_alpha\":{\"value\":0.1},\"fill_color\":{\"value\":\"navy\"},\"line_alpha\":{\"value\":0.1},\"line_color\":{\"value\":\"navy\"},\"size\":{\"value\":15},\"x\":{\"field\":\"x\"},\"y\":{\"field\":\"y\"}},\"id\":\"1347\",\"type\":\"Circle\"},{\"attributes\":{},\"id\":\"1321\",\"type\":\"SaveTool\"},{\"attributes\":{\"source\":{\"id\":\"1338\"}},\"id\":\"1343\",\"type\":\"CDSView\"},{\"attributes\":{\"callback\":null,\"renderers\":[{\"id\":\"1342\"}],\"tooltips\":\"\\n            <div>\\n            line id = @line_id \\n            <table border=\\\"5\\\">\\n                <tr >\\n                    <td>I<sub>ja</sub> =  @i_j_a_m &ang; @deg_j_a </td>\\n                    <td>I<sub>ka</sub> =  @i_k_a_m &ang; @deg_k_a </td>\\n                </tr>\\n                <tr>\\n                    <td >I<sub>jb</sub> =  @i_j_b_m &ang; @deg_j_b </td>\\n                    <td >I<sub>kb</sub> =  @i_k_b_m &ang; @deg_k_b </td>\\n                </tr>\\n                <tr>\\n                    <td >I<sub>jc</sub> =  @i_j_c_m &ang; @deg_j_c </td>\\n                    <td >I<sub>kc</sub> =  @i_k_c_m &ang; @deg_k_c </td>\\n                </tr>\\n                <tr>\\n                    <td >I<sub>jn</sub> =  @i_j_n_m &ang; @deg_j_n </td>\\n                    <td >I<sub>kn</sub> =  @i_k_n_m &ang; @deg_k_n </td>\\n                </tr>\\n            </table>            \\n            </div>\\n            \"},\"id\":\"1352\",\"type\":\"HoverTool\"},{\"attributes\":{\"fill_alpha\":{\"value\":0.5},\"fill_color\":{\"value\":\"navy\"},\"line_alpha\":{\"value\":0.5},\"line_color\":{\"value\":\"navy\"},\"size\":{\"value\":15},\"x\":{\"field\":\"x\"},\"y\":{\"field\":\"y\"}},\"id\":\"1346\",\"type\":\"Circle\"},{\"attributes\":{},\"id\":\"1385\",\"type\":\"AllLabels\"},{\"attributes\":{},\"id\":\"1393\",\"type\":\"UnionRenderers\"},{\"attributes\":{\"source\":{\"id\":\"1332\"}},\"id\":\"1337\",\"type\":\"CDSView\"},{\"attributes\":{},\"id\":\"1318\",\"type\":\"PanTool\"},{\"attributes\":{},\"id\":\"1311\",\"type\":\"BasicTicker\"},{\"attributes\":{\"active_multi\":null,\"tools\":[{\"id\":\"1318\"},{\"id\":\"1319\"},{\"id\":\"1320\"},{\"id\":\"1321\"},{\"id\":\"1322\"},{\"id\":\"1323\"},{\"id\":\"1350\"},{\"id\":\"1352\"},{\"id\":\"1354\"}]},\"id\":\"1325\",\"type\":\"Toolbar\"},{\"attributes\":{},\"id\":\"1395\",\"type\":\"UnionRenderers\"},{\"attributes\":{\"bottom_units\":\"screen\",\"fill_alpha\":0.5,\"fill_color\":\"lightgrey\",\"left_units\":\"screen\",\"level\":\"overlay\",\"line_alpha\":1.0,\"line_color\":\"black\",\"line_dash\":[4,4],\"line_width\":2,\"right_units\":\"screen\",\"syncable\":false,\"top_units\":\"screen\"},\"id\":\"1324\",\"type\":\"BoxAnnotation\"},{\"attributes\":{},\"id\":\"1322\",\"type\":\"ResetTool\"},{\"attributes\":{\"source\":{\"id\":\"1344\"}},\"id\":\"1349\",\"type\":\"CDSView\"},{\"attributes\":{\"line_alpha\":{\"value\":0.1},\"line_color\":{\"value\":\"green\"},\"line_width\":{\"value\":5},\"xs\":{\"field\":\"x_s\"},\"ys\":{\"field\":\"y_s\"}},\"id\":\"1335\",\"type\":\"MultiLine\"}],\"root_ids\":[\"1299\"]},\"title\":\"Bokeh Application\",\"version\":\"2.3.1\"}};\n",
       "  var render_items = [{\"docid\":\"98dafce6-2b5e-4e81-b681-818e573fe83b\",\"root_ids\":[\"1299\"],\"roots\":{\"1299\":\"b1f1a96e-d866-4203-ad5b-9d13425a4cce\"}}];\n",
       "  root.Bokeh.embed.embed_items_notebook(docs_json, render_items);\n",
       "\n",
       "  }\n",
       "  if (root.Bokeh !== undefined) {\n",
       "    embed_document(root);\n",
       "  } else {\n",
       "    var attempts = 0;\n",
       "    var timer = setInterval(function(root) {\n",
       "      if (root.Bokeh !== undefined) {\n",
       "        clearInterval(timer);\n",
       "        embed_document(root);\n",
       "      } else {\n",
       "        attempts++;\n",
       "        if (attempts > 100) {\n",
       "          clearInterval(timer);\n",
       "          console.log(\"Bokeh: ERROR: Unable to run BokehJS code because BokehJS library is missing\");\n",
       "        }\n",
       "      }\n",
       "    }, 10, root)\n",
       "  }\n",
       "})(window);"
      ],
      "application/vnd.bokehjs_exec.v0+json": ""
     },
     "metadata": {
      "application/vnd.bokehjs_exec.v0+json": {
       "id": "1299"
      }
     },
     "output_type": "display_data"
    }
   ],
   "source": [
    "grid_1 = grid()\n",
    "grid_1.read(grid_data)  # Load data\n",
    "grid_1.pf()  # solve power flow\n",
    "p=plot_results(grid_1)\n"
   ]
  },
  {
   "cell_type": "code",
   "execution_count": 37,
   "metadata": {},
   "outputs": [
    {
     "name": "stdout",
     "output_type": "stream",
     "text": [
      "system without dynamic equations, adding dummy dynamic equation\n"
     ]
    }
   ],
   "source": [
    "grid_mv = unb_ri_si(grid_data)\n",
    "\n",
    "params_dict  = grid_mv.dae['params']\n",
    "f_list = grid_mv.dae['f']\n",
    "x_list = grid_mv.dae['x']\n",
    "g_list = grid_mv.dae['g'] \n",
    "y_list = grid_mv.dae['y'] \n",
    "u_dict = grid_mv.dae['u']\n",
    "\n",
    "\n",
    "h_dict = grid_mv.dae['h_v_m_dict']\n",
    "\n",
    "sys_dict = {'name':'grid_mv',\n",
    "           'params_dict':params_dict,\n",
    "           'f_list':f_list,\n",
    "           'g_list':g_list,\n",
    "           'x_list':x_list,\n",
    "           'y_ini_list':y_list,\n",
    "           'y_run_list':y_list,\n",
    "           'u_run_dict':u_dict,\n",
    "           'u_ini_dict':u_dict,\n",
    "           'h_dict':h_dict\n",
    "           }\n",
    "\n",
    "db.system(sys_dict)\n",
    "db.sys2num(sys_dict)\n",
    "\n",
    "data = json.dumps(grid_mv.dae['xy_0_dict'], indent=4)\n",
    "fobj = open(\"grid_mv_xy_0_dict.json\",\"w\")\n",
    "fobj.write(data)\n",
    "fobj.close()"
   ]
  },
  {
   "cell_type": "code",
   "execution_count": 38,
   "metadata": {},
   "outputs": [],
   "source": [
    "Y_ii = grid_1.Y_ii.toarray()\n",
    "Y_vv = grid_1.Y_vv\n",
    "Y_vi = grid_1.Y_vi\n",
    "inv_Y_ii = np.linalg.inv(Y_ii)\n",
    "N_nz_nodes = grid_1.params_pf[0].N_nz_nodes\n",
    "N_v = grid_1.params_pf[0].N_nodes_v\n",
    "nodes_list = grid_1.nodes\n",
    "Y_primitive = grid_1.Y_primitive_sp.toarray() \n",
    "A_conect = grid_1.A_sp.toarray()\n",
    "node_sorter  = grid_1.node_sorter\n",
    "N_v = grid_1.N_nodes_v\n",
    "\n",
    "np.savez('matrices',Y_primitive=Y_primitive,A_conect=A_conect,nodes_list=nodes_list,\n",
    "         node_sorter=node_sorter,N_v=N_v, Y_vv=Y_vv, Y_vi=Y_vi)\n",
    "\n",
    "\n",
    "with open(\"grid_data.json\", \"w\") as fobj:\n",
    "    json.dump(grid_1.data, fobj, indent=4, sort_keys=True)\n"
   ]
  },
  {
   "cell_type": "markdown",
   "metadata": {},
   "source": [
    "## Railway building"
   ]
  },
  {
   "cell_type": "code",
   "execution_count": 39,
   "metadata": {},
   "outputs": [],
   "source": [
    "data_input = load('trains_lv_5vsc_params.json')   # See at the end of the notebook for .json creation"
   ]
  },
  {
   "cell_type": "code",
   "execution_count": 40,
   "metadata": {},
   "outputs": [],
   "source": [
    "dcgrid_dae = dcgrid2dae(data_input)  # Creates the DC grid from data_input\n",
    "dcrail2dae(data_input,dcgrid_dae)    # Modify the DC grid with the railway particularities"
   ]
  },
  {
   "cell_type": "code",
   "execution_count": 41,
   "metadata": {},
   "outputs": [],
   "source": [
    "rho = 1.72e-8    # copper conductivity\n",
    "s = 300.0/1.0e6  # conductor section m^2\n",
    "r_m = rho/s  # Ohm/m  \n",
    "    \n",
    "sections = data_input['sections']\n",
    "trains = data_input['trains']\n",
    "trips = data_input['trips']\n",
    "\n",
    "for trip in trips:    # converts json list to np.array\n",
    "    trips[trip]['times'] = np.array(trips[trip]['times'])\n",
    "    trips[trip]['positions'] = np.array(trips[trip]['positions'])\n",
    "    trips[trip]['powers'] = np.array(trips[trip]['powers'])\n",
    "    \n",
    "t=60*2\n",
    "train_positions_list,train_powers_list = trains_update(t,trains,trips)           # for the given t this creates a list\n",
    "                                                                                 # of train positions and their respective\n",
    "                                                                                 # powers\n",
    "params_dict_trains,nodes_dict = trains2params(sections,train_positions_list,train_powers_list,r_m)   # for the given trains the topology in defined\n"
   ]
  },
  {
   "cell_type": "code",
   "execution_count": 42,
   "metadata": {},
   "outputs": [],
   "source": [
    "f_list = dcgrid_dae['f']\n",
    "g_list = dcgrid_dae['g']\n",
    "y_list = dcgrid_dae['y']\n",
    "x_list = dcgrid_dae['x']\n",
    "u_run_dict = {'Dv_r_13':0.0,'Dv_r_23':0.0,'Dv_r_33':0.0,'Dv_r_43':0.0,'Dv_r_53':0.0}\n",
    "u_run_dict.update({'v_nom':3e3,'T_v':0.02,'K_r':0.05*3e3/500e3})\n",
    "h_dict = dcgrid_dae['h_dict']\n",
    "\n",
    "sys = {'name':f\"railway_5vsc\",\n",
    "       'params_dict':params_dict_trains,\n",
    "       'f_list':f_list,\n",
    "       'g_list':g_list,\n",
    "       'x_list':x_list,\n",
    "       'y_ini_list':y_list,\n",
    "       'y_run_list':y_list,\n",
    "       'u_run_dict':u_run_dict,\n",
    "       'u_ini_dict':u_run_dict,\n",
    "       'h_dict':h_dict\n",
    "      }\n",
    "\n",
    "sys = db.system(sys)\n",
    "db.sys2num(sys)"
   ]
  },
  {
   "cell_type": "markdown",
   "metadata": {},
   "source": [
    "## Grid and railway interaction"
   ]
  },
  {
   "cell_type": "code",
   "execution_count": 43,
   "metadata": {},
   "outputs": [],
   "source": [
    "params_dict  = grid_mv.dae['params']\n",
    "params_dict.update(params_dict_trains)\n",
    "f_list = grid_mv.dae['f'] + dcgrid_dae['f']\n",
    "x_list = grid_mv.dae['x'] + dcgrid_dae['x']\n",
    "g_list = grid_mv.dae['g'] + dcgrid_dae['g']\n",
    "y_list = grid_mv.dae['y'] + dcgrid_dae['y']\n",
    "u_dict = grid_mv.dae['u'] \n",
    "u_dict.update({'Dv_r_13':0.0,'Dv_r_23':0.0,'Dv_r_33':0.0,'Dv_r_43':0.0,'Dv_r_53':0.0})\n",
    "u_dict.update({'v_nom':3e3,'T_v':0.02,'K_r':0.05*3e3/500e3})\n",
    "h_dict = dcgrid_dae['h_dict']\n",
    "\n",
    "ac_dc_buses = [('B2lv','13'),('B3lv','23'),('B4lv','33'),('B5lv','43'),('B6lv','53')]\n",
    "\n",
    "for bus_ac,bus_dc in ac_dc_buses:\n",
    "\n",
    "    p_a,p_b,p_c = sym.symbols(f'p_{bus_ac}_a,p_{bus_ac}_b,p_{bus_ac}_c', real=True)\n",
    "    i_dc,v_dc = sym.symbols(f'i_{bus_dc},v_{bus_dc}', real=True)\n",
    "    i_a_r,i_a_i = sym.symbols(f'i_load_{bus_ac}_a_r,i_load_{bus_ac}_a_i', real=True)\n",
    "    a,b,c = sym.symbols(f'a_{bus_ac},b_{bus_ac},c_{bus_ac}', real=True)\n",
    "    \n",
    "    i_rms = sym.sqrt(i_a_r**2+i_a_i**2+1) \n",
    "    \n",
    "    p_simple = a + b*i_rms + c*i_rms*i_rms\n",
    "\n",
    "    p_vsc_loss = p_simple*6\n",
    "    \n",
    "    p_d = i_dc*v_dc\n",
    "    \n",
    "    p_dc = p_d + sym.Piecewise((p_vsc_loss, p_d < 1), (p_vsc_loss, p_d > 0),(0.0, True))\n",
    "    p_ac = p_dc\n",
    "    \n",
    "    g_list += [p_a + p_ac/3]\n",
    "    g_list += [p_b + p_ac/3] \n",
    "    g_list += [p_c + p_ac/3] \n",
    "    \n",
    "    y_list += [p_a]\n",
    "    y_list += [p_b]\n",
    "    y_list += [p_c]\n",
    "    \n",
    "    u_dict.update({f'a_{bus_ac}':2.92075867})\n",
    "    u_dict.update({f'b_{bus_ac}':0.44961794})\n",
    "    u_dict.update({f'c_{bus_ac}':0.02717091})\n",
    "    \n",
    "    u_dict.pop(str(p_a))\n",
    "    u_dict.pop(str(p_b))\n",
    "    u_dict.pop(str(p_c))"
   ]
  },
  {
   "cell_type": "code",
   "execution_count": 44,
   "metadata": {},
   "outputs": [],
   "source": [
    "\n",
    "sys = {'name':f\"grid_railway_5vsc\",\n",
    "       'params_dict':params_dict,\n",
    "       'f_list':f_list,\n",
    "       'g_list':g_list,\n",
    "       'x_list':x_list,\n",
    "       'y_ini_list':y_list,\n",
    "       'y_run_list':y_list,\n",
    "       'u_run_dict':u_dict,\n",
    "       'u_ini_dict':u_dict,\n",
    "       'h_dict':h_dict\n",
    "      }\n",
    "\n",
    "sys = db.system(sys)\n",
    "db.sys2num(sys)"
   ]
  },
  {
   "cell_type": "code",
   "execution_count": 45,
   "metadata": {},
   "outputs": [],
   "source": [
    "xy_0_dict = grid_mv.dae['xy_0_dict']\n",
    "xy_0_dict.update(dcgrid_dae['xy_0_dict'])"
   ]
  },
  {
   "cell_type": "code",
   "execution_count": 46,
   "metadata": {},
   "outputs": [],
   "source": [
    "data = json.dumps(xy_0_dict, indent=4)\n",
    "fobj = open(\"xy_0_dict.json\",\"w\")\n",
    "fobj.write(data)\n",
    "fobj.close()"
   ]
  },
  {
   "cell_type": "code",
   "execution_count": 47,
   "metadata": {},
   "outputs": [
    {
     "data": {
      "text/plain": [
       "{'v_B1_a_r': 11547.005383792517,\n",
       " 'v_B1_a_i': 0.0,\n",
       " 'v_B1_b_r': -5773.502691896256,\n",
       " 'v_B1_b_i': -10000.000000000002,\n",
       " 'v_B1_c_r': -5773.502691896264,\n",
       " 'v_B1_c_i': 10000.0,\n",
       " 'v_B7_a_r': 11547.005383792517,\n",
       " 'v_B7_a_i': 0.0,\n",
       " 'v_B7_b_r': -5773.502691896256,\n",
       " 'v_B7_b_i': -10000.000000000002,\n",
       " 'v_B7_c_r': -5773.502691896264,\n",
       " 'v_B7_c_i': 10000.0,\n",
       " 'i_B2lv_n_r': 5.684341886080802e-14,\n",
       " 'i_B2lv_n_i': 1.2505552149377763e-12,\n",
       " 'i_B3lv_n_r': -3.979039320256561e-13,\n",
       " 'i_B3lv_n_i': 1.2505552149377763e-12,\n",
       " 'i_B4lv_n_r': -3.979039320256561e-13,\n",
       " 'i_B4lv_n_i': 1.1368683772161603e-12,\n",
       " 'i_B5lv_n_r': -8.526512829121202e-13,\n",
       " 'i_B5lv_n_i': 3.410605131648481e-13,\n",
       " 'i_B6lv_n_r': -2.8421709430404007e-13,\n",
       " 'i_B6lv_n_i': 4.547473508864641e-13,\n",
       " 'i_B2_a_r': 0.0,\n",
       " 'i_B2_a_i': 0.0,\n",
       " 'i_B2_b_r': 0.0,\n",
       " 'i_B2_b_i': 0.0,\n",
       " 'i_B2_c_r': 0.0,\n",
       " 'i_B2_c_i': 0.0,\n",
       " 'i_B3_a_r': 0.0,\n",
       " 'i_B3_a_i': 0.0,\n",
       " 'i_B3_b_r': 0.0,\n",
       " 'i_B3_b_i': 0.0,\n",
       " 'i_B3_c_r': 0.0,\n",
       " 'i_B3_c_i': 0.0,\n",
       " 'i_B4_a_r': 0.0,\n",
       " 'i_B4_a_i': 0.0,\n",
       " 'i_B4_b_r': 0.0,\n",
       " 'i_B4_b_i': 0.0,\n",
       " 'i_B4_c_r': 0.0,\n",
       " 'i_B4_c_i': 0.0,\n",
       " 'i_B5_a_r': 0.0,\n",
       " 'i_B5_a_i': 0.0,\n",
       " 'i_B5_b_r': 0.0,\n",
       " 'i_B5_b_i': 0.0,\n",
       " 'i_B5_c_r': 0.0,\n",
       " 'i_B5_c_i': 0.0,\n",
       " 'i_B6_a_r': 0.0,\n",
       " 'i_B6_a_i': 0.0,\n",
       " 'i_B6_b_r': 0.0,\n",
       " 'i_B6_b_i': 0.0,\n",
       " 'i_B6_c_r': 0.0,\n",
       " 'i_B6_c_i': 0.0,\n",
       " 'q_B2lv_a': -322558.5103381794,\n",
       " 'q_B2lv_b': -322558.5103381794,\n",
       " 'q_B2lv_c': -322558.5103381795,\n",
       " 'q_B3lv_a': -322558.50336306763,\n",
       " 'q_B3lv_b': -322558.5033630677,\n",
       " 'q_B3lv_c': -322558.5033630677,\n",
       " 'q_B4lv_a': -322558.4994660576,\n",
       " 'q_B4lv_b': -322558.49946605746,\n",
       " 'q_B4lv_c': -322558.4994660576,\n",
       " 'q_B5lv_a': -322558.51338830066,\n",
       " 'q_B5lv_b': -322558.51338830066,\n",
       " 'q_B5lv_c': -322558.51338830055,\n",
       " 'q_B6lv_a': -322558.51542340475,\n",
       " 'q_B6lv_b': -322558.51542340487,\n",
       " 'q_B6lv_c': -322558.5154234048,\n",
       " 'u_dummy': 1.0,\n",
       " 'Dv_r_13': 0.0,\n",
       " 'Dv_r_23': 0.0,\n",
       " 'Dv_r_33': 0.0,\n",
       " 'Dv_r_43': 0.0,\n",
       " 'Dv_r_53': 0.0,\n",
       " 'v_nom': 3000.0,\n",
       " 'T_v': 0.02,\n",
       " 'K_r': 0.0003,\n",
       " 'a_B2lv': 2.92075867,\n",
       " 'b_B2lv': 0.44961794,\n",
       " 'c_B2lv': 0.02717091,\n",
       " 'a_B3lv': 2.92075867,\n",
       " 'b_B3lv': 0.44961794,\n",
       " 'c_B3lv': 0.02717091,\n",
       " 'a_B4lv': 2.92075867,\n",
       " 'b_B4lv': 0.44961794,\n",
       " 'c_B4lv': 0.02717091,\n",
       " 'a_B5lv': 2.92075867,\n",
       " 'b_B5lv': 0.44961794,\n",
       " 'c_B5lv': 0.02717091,\n",
       " 'a_B6lv': 2.92075867,\n",
       " 'b_B6lv': 0.44961794,\n",
       " 'c_B6lv': 0.02717091}"
      ]
     },
     "execution_count": 47,
     "metadata": {},
     "output_type": "execute_result"
    }
   ],
   "source": [
    "u_dict"
   ]
  },
  {
   "cell_type": "markdown",
   "metadata": {},
   "source": [
    "### Railway data building"
   ]
  },
  {
   "cell_type": "code",
   "execution_count": 49,
   "metadata": {},
   "outputs": [
    {
     "ename": "OSError",
     "evalue": "./data/izquierda_csv.csv not found.",
     "output_type": "error",
     "traceback": [
      "\u001b[1;31m---------------------------------------------------------------------------\u001b[0m",
      "\u001b[1;31mOSError\u001b[0m                                   Traceback (most recent call last)",
      "\u001b[1;32m<ipython-input-49-8514bc4e332a>\u001b[0m in \u001b[0;36m<module>\u001b[1;34m\u001b[0m\n\u001b[0;32m     69\u001b[0m }\n\u001b[0;32m     70\u001b[0m \u001b[1;33m\u001b[0m\u001b[0m\n\u001b[1;32m---> 71\u001b[1;33m \u001b[0ml_trip\u001b[0m \u001b[1;33m=\u001b[0m \u001b[0mnp\u001b[0m\u001b[1;33m.\u001b[0m\u001b[0mgenfromtxt\u001b[0m\u001b[1;33m(\u001b[0m\u001b[1;34m'./data/izquierda_csv.csv'\u001b[0m\u001b[1;33m,\u001b[0m\u001b[0mdelimiter\u001b[0m\u001b[1;33m=\u001b[0m\u001b[1;34m';'\u001b[0m\u001b[1;33m,\u001b[0m\u001b[0mskip_header\u001b[0m\u001b[1;33m=\u001b[0m\u001b[1;36m2\u001b[0m\u001b[1;33m)\u001b[0m\u001b[1;33m\u001b[0m\u001b[1;33m\u001b[0m\u001b[0m\n\u001b[0m\u001b[0;32m     72\u001b[0m \u001b[0mx_left\u001b[0m \u001b[1;33m=\u001b[0m \u001b[0ml_trip\u001b[0m\u001b[1;33m[\u001b[0m\u001b[1;33m:\u001b[0m\u001b[1;33m,\u001b[0m\u001b[1;36m1\u001b[0m\u001b[1;33m]\u001b[0m\u001b[1;33m\u001b[0m\u001b[1;33m\u001b[0m\u001b[0m\n\u001b[0;32m     73\u001b[0m \u001b[0mp_left\u001b[0m \u001b[1;33m=\u001b[0m \u001b[0ml_trip\u001b[0m\u001b[1;33m[\u001b[0m\u001b[1;33m:\u001b[0m\u001b[1;33m,\u001b[0m\u001b[1;36m3\u001b[0m\u001b[1;33m]\u001b[0m\u001b[1;33m\u001b[0m\u001b[1;33m\u001b[0m\u001b[0m\n",
      "\u001b[1;32m~\\anaconda3\\lib\\site-packages\\numpy\\lib\\npyio.py\u001b[0m in \u001b[0;36mgenfromtxt\u001b[1;34m(fname, dtype, comments, delimiter, skip_header, skip_footer, converters, missing_values, filling_values, usecols, names, excludelist, deletechars, replace_space, autostrip, case_sensitive, defaultfmt, unpack, usemask, loose, invalid_raise, max_rows, encoding)\u001b[0m\n\u001b[0;32m   1747\u001b[0m             \u001b[0mfname\u001b[0m \u001b[1;33m=\u001b[0m \u001b[0mos_fspath\u001b[0m\u001b[1;33m(\u001b[0m\u001b[0mfname\u001b[0m\u001b[1;33m)\u001b[0m\u001b[1;33m\u001b[0m\u001b[1;33m\u001b[0m\u001b[0m\n\u001b[0;32m   1748\u001b[0m         \u001b[1;32mif\u001b[0m \u001b[0misinstance\u001b[0m\u001b[1;33m(\u001b[0m\u001b[0mfname\u001b[0m\u001b[1;33m,\u001b[0m \u001b[0mstr\u001b[0m\u001b[1;33m)\u001b[0m\u001b[1;33m:\u001b[0m\u001b[1;33m\u001b[0m\u001b[1;33m\u001b[0m\u001b[0m\n\u001b[1;32m-> 1749\u001b[1;33m             \u001b[0mfid\u001b[0m \u001b[1;33m=\u001b[0m \u001b[0mnp\u001b[0m\u001b[1;33m.\u001b[0m\u001b[0mlib\u001b[0m\u001b[1;33m.\u001b[0m\u001b[0m_datasource\u001b[0m\u001b[1;33m.\u001b[0m\u001b[0mopen\u001b[0m\u001b[1;33m(\u001b[0m\u001b[0mfname\u001b[0m\u001b[1;33m,\u001b[0m \u001b[1;34m'rt'\u001b[0m\u001b[1;33m,\u001b[0m \u001b[0mencoding\u001b[0m\u001b[1;33m=\u001b[0m\u001b[0mencoding\u001b[0m\u001b[1;33m)\u001b[0m\u001b[1;33m\u001b[0m\u001b[1;33m\u001b[0m\u001b[0m\n\u001b[0m\u001b[0;32m   1750\u001b[0m             \u001b[0mfid_ctx\u001b[0m \u001b[1;33m=\u001b[0m \u001b[0mcontextlib\u001b[0m\u001b[1;33m.\u001b[0m\u001b[0mclosing\u001b[0m\u001b[1;33m(\u001b[0m\u001b[0mfid\u001b[0m\u001b[1;33m)\u001b[0m\u001b[1;33m\u001b[0m\u001b[1;33m\u001b[0m\u001b[0m\n\u001b[0;32m   1751\u001b[0m         \u001b[1;32melse\u001b[0m\u001b[1;33m:\u001b[0m\u001b[1;33m\u001b[0m\u001b[1;33m\u001b[0m\u001b[0m\n",
      "\u001b[1;32m~\\anaconda3\\lib\\site-packages\\numpy\\lib\\_datasource.py\u001b[0m in \u001b[0;36mopen\u001b[1;34m(path, mode, destpath, encoding, newline)\u001b[0m\n\u001b[0;32m    193\u001b[0m \u001b[1;33m\u001b[0m\u001b[0m\n\u001b[0;32m    194\u001b[0m     \u001b[0mds\u001b[0m \u001b[1;33m=\u001b[0m \u001b[0mDataSource\u001b[0m\u001b[1;33m(\u001b[0m\u001b[0mdestpath\u001b[0m\u001b[1;33m)\u001b[0m\u001b[1;33m\u001b[0m\u001b[1;33m\u001b[0m\u001b[0m\n\u001b[1;32m--> 195\u001b[1;33m     \u001b[1;32mreturn\u001b[0m \u001b[0mds\u001b[0m\u001b[1;33m.\u001b[0m\u001b[0mopen\u001b[0m\u001b[1;33m(\u001b[0m\u001b[0mpath\u001b[0m\u001b[1;33m,\u001b[0m \u001b[0mmode\u001b[0m\u001b[1;33m,\u001b[0m \u001b[0mencoding\u001b[0m\u001b[1;33m=\u001b[0m\u001b[0mencoding\u001b[0m\u001b[1;33m,\u001b[0m \u001b[0mnewline\u001b[0m\u001b[1;33m=\u001b[0m\u001b[0mnewline\u001b[0m\u001b[1;33m)\u001b[0m\u001b[1;33m\u001b[0m\u001b[1;33m\u001b[0m\u001b[0m\n\u001b[0m\u001b[0;32m    196\u001b[0m \u001b[1;33m\u001b[0m\u001b[0m\n\u001b[0;32m    197\u001b[0m \u001b[1;33m\u001b[0m\u001b[0m\n",
      "\u001b[1;32m~\\anaconda3\\lib\\site-packages\\numpy\\lib\\_datasource.py\u001b[0m in \u001b[0;36mopen\u001b[1;34m(self, path, mode, encoding, newline)\u001b[0m\n\u001b[0;32m    533\u001b[0m                                       encoding=encoding, newline=newline)\n\u001b[0;32m    534\u001b[0m         \u001b[1;32melse\u001b[0m\u001b[1;33m:\u001b[0m\u001b[1;33m\u001b[0m\u001b[1;33m\u001b[0m\u001b[0m\n\u001b[1;32m--> 535\u001b[1;33m             \u001b[1;32mraise\u001b[0m \u001b[0mIOError\u001b[0m\u001b[1;33m(\u001b[0m\u001b[1;34m\"%s not found.\"\u001b[0m \u001b[1;33m%\u001b[0m \u001b[0mpath\u001b[0m\u001b[1;33m)\u001b[0m\u001b[1;33m\u001b[0m\u001b[1;33m\u001b[0m\u001b[0m\n\u001b[0m\u001b[0;32m    536\u001b[0m \u001b[1;33m\u001b[0m\u001b[0m\n\u001b[0;32m    537\u001b[0m \u001b[1;33m\u001b[0m\u001b[0m\n",
      "\u001b[1;31mOSError\u001b[0m: ./data/izquierda_csv.csv not found."
     ]
    }
   ],
   "source": [
    "import numpy as np\n",
    "railway_pos_ini = 0.0e3\n",
    "railway_pos_end = 13.0e3\n",
    "xend = railway_pos_end\n",
    "data_input = {\n",
    "    \"system\":{\"f_hz\":50,\"model_type\":\"ae\"},\n",
    "    \"buses\":[{'bus':'11'},{'bus':'12'},{'bus':'13'},{'bus':'14'},{'bus':'15'},\n",
    "             {'bus':'21'},{'bus':'22'},{'bus':'23'},{'bus':'24'},{'bus':'25'},\n",
    "             {'bus':'31'},{'bus':'32'},{'bus':'33'},{'bus':'34'},{'bus':'35'},\n",
    "             {'bus':'41'},{'bus':'42'},{'bus':'43'},{'bus':'44'},{'bus':'45'},\n",
    "             {'bus':'51'},{'bus':'52'},{'bus':'53'},{'bus':'54'},{'bus':'55'},],\n",
    "    \"lines\":    [  \n",
    "                {\"bus_j\":\"11\", \"bus_k\":\"12\", \"R_km\":0.501, \"X_km\":0.716, \"B_muS_km\":47.493, \"km\":2.82},\n",
    "                {\"bus_j\":\"12\", \"bus_k\":\"13\", \"R_km\":0.501, \"X_km\":0.716, \"B_muS_km\":47.493, \"km\":4.42},\n",
    "                {\"bus_j\":\"13\", \"bus_k\":\"14\", \"R_km\":0.501, \"X_km\":0.716, \"B_muS_km\":47.493, \"km\":0.61},\n",
    "                {\"bus_j\":\"14\", \"bus_k\":\"15\", \"R_km\":0.501, \"X_km\":0.716, \"B_muS_km\":47.493, \"km\":0.61},\n",
    "                {\"bus_j\":\"21\", \"bus_k\":\"22\", \"R_km\":0.501, \"X_km\":0.716, \"B_muS_km\":47.493, \"km\":2.82},\n",
    "                {\"bus_j\":\"22\", \"bus_k\":\"23\", \"R_km\":0.501, \"X_km\":0.716, \"B_muS_km\":47.493, \"km\":4.42},\n",
    "                {\"bus_j\":\"23\", \"bus_k\":\"24\", \"R_km\":0.501, \"X_km\":0.716, \"B_muS_km\":47.493, \"km\":0.61},\n",
    "                {\"bus_j\":\"24\", \"bus_k\":\"25\", \"R_km\":0.501, \"X_km\":0.716, \"B_muS_km\":47.493, \"km\":0.61},\n",
    "                {\"bus_j\":\"31\", \"bus_k\":\"32\", \"R_km\":0.501, \"X_km\":0.716, \"B_muS_km\":47.493, \"km\":2.82},\n",
    "                {\"bus_j\":\"32\", \"bus_k\":\"33\", \"R_km\":0.501, \"X_km\":0.716, \"B_muS_km\":47.493, \"km\":4.42},\n",
    "                {\"bus_j\":\"33\", \"bus_k\":\"34\", \"R_km\":0.501, \"X_km\":0.716, \"B_muS_km\":47.493, \"km\":0.61},\n",
    "                {\"bus_j\":\"34\", \"bus_k\":\"35\", \"R_km\":0.501, \"X_km\":0.716, \"B_muS_km\":47.493, \"km\":0.61},\n",
    "                {\"bus_j\":\"41\", \"bus_k\":\"42\", \"R_km\":0.501, \"X_km\":0.716, \"B_muS_km\":47.493, \"km\":2.82},\n",
    "                {\"bus_j\":\"42\", \"bus_k\":\"43\", \"R_km\":0.501, \"X_km\":0.716, \"B_muS_km\":47.493, \"km\":4.42},\n",
    "                {\"bus_j\":\"43\", \"bus_k\":\"44\", \"R_km\":0.501, \"X_km\":0.716, \"B_muS_km\":47.493, \"km\":0.61},\n",
    "                {\"bus_j\":\"44\", \"bus_k\":\"45\", \"R_km\":0.501, \"X_km\":0.716, \"B_muS_km\":47.493, \"km\":0.61},\n",
    "                {\"bus_j\":\"51\", \"bus_k\":\"52\", \"R_km\":0.501, \"X_km\":0.716, \"B_muS_km\":47.493, \"km\":2.82},\n",
    "                {\"bus_j\":\"52\", \"bus_k\":\"53\", \"R_km\":0.501, \"X_km\":0.716, \"B_muS_km\":47.493, \"km\":4.42},\n",
    "                {\"bus_j\":\"53\", \"bus_k\":\"54\", \"R_km\":0.501, \"X_km\":0.716, \"B_muS_km\":47.493, \"km\":0.61},\n",
    "                {\"bus_j\":\"54\", \"bus_k\":\"55\", \"R_km\":0.501, \"X_km\":0.716, \"B_muS_km\":47.493, \"km\":0.61},\n",
    "                {\"bus_j\":\"15\", \"bus_k\":\"21\", \"R_km\":0.501, \"X_km\":0.716, \"B_muS_km\":47.493, \"km\":2.82}, # module link\n",
    "                {\"bus_j\":\"25\", \"bus_k\":\"31\", \"R_km\":0.501, \"X_km\":0.716, \"B_muS_km\":47.493, \"km\":4.42}, # module link\n",
    "                {\"bus_j\":\"35\", \"bus_k\":\"41\", \"R_km\":0.501, \"X_km\":0.716, \"B_muS_km\":47.493, \"km\":0.61}, # module link\n",
    "                {\"bus_j\":\"45\", \"bus_k\":\"51\", \"R_km\":0.501, \"X_km\":0.716, \"B_muS_km\":47.493, \"km\":0.61}, # module link\n",
    "             ],\n",
    "\"loads\" : [\n",
    "        #{\"bus\": \"12\", \"kVA\":0e3, \"pf\": 0.95, \"T_i\":0.01,\"I_max\":1200},\n",
    "        #{\"bus\": \"13\", \"kVA\":0e3, \"pf\": 0.95, \"T_i\":0.01,\"I_max\":1200},\n",
    "        #{\"bus\": \"14\", \"kVA\":0e3, \"pf\": 0.95, \"T_i\":0.01,\"I_max\":1200}\n",
    "        ],\n",
    "\"trains\":[{'t_ini':0, 'direction':'right', 'trip':'right'},   # T1 llega a B 130\n",
    "          {'t_ini':2, 'direction':'right', 'trip':'right'},  # T3 llega a B 160\n",
    "          {'t_ini':10, 'direction':'right', 'trip':'right'},  # T5 llega a B 220\n",
    "          {'t_ini':15, 'direction':'right', 'trip':'right'}, # T2 \n",
    "          {'t_ini':20, 'direction':'right', 'trip':'right'}, # T4\n",
    "          {'t_ini':0, 'direction':'left', 'trip':'left'},   # T2\n",
    "          {'t_ini':5, 'direction':'left', 'trip':'left'},   # T4\n",
    "          {'t_ini':10, 'direction':'left', 'trip':'left'},  # T6\n",
    "          {'t_ini':15, 'direction':'left', 'trip':'left'},  # T1\n",
    "          {'t_ini':20, 'direction':'left', 'trip':'left'}\n",
    "         ],  # T3\n",
    "\"grid_formers\" : [\n",
    "                  {\"bus\": \"13\",\"V_phph\":3e3, \"deg\":0.0, 'position':2.6e3},\n",
    "                  {\"bus\": \"23\",\"V_phph\":3e3, \"deg\":0.0, 'position':4.2e3},\n",
    "                  {\"bus\": \"33\",\"V_phph\":3e3, \"deg\":0.0, 'position':5.8e3},\n",
    "                  {\"bus\": \"43\",\"V_phph\":3e3, \"deg\":0.0, 'position':8.4e3},\n",
    "                  {\"bus\": \"53\",\"V_phph\":3e3, \"deg\":0.0, 'position':12.8e3},\n",
    "                 ],\n",
    "\"sections\" : [\n",
    "    {\"name\":\"ini_vsc13\",  \"pos_ini\":    0.0,\"pos_end\": 2.2e3,'N_tnodes':2,'N_trains':0,'T_power':[],'T_pos':[],'nodes_i':['11','12'],'nodes_v':['13']},\n",
    "    {\"name\":\"vsc13_vsc23\",\"pos_ini\":  2.2e3,\"pos_end\": 4.2e3,'N_tnodes':4,'N_trains':0,'T_power':[],'T_pos':[],'nodes_i':['14','15','21','22'],'nodes_v':['13','23']},\n",
    "    {\"name\":\"vsc23_vsc33\",\"pos_ini\":  4.2e3,\"pos_end\": 5.8e3,'N_tnodes':4,'N_trains':0,'T_power':[],'T_pos':[],'nodes_i':['24','25','31','32'],'nodes_v':['23','33']},\n",
    "    {\"name\":\"vsc33_vsc43\",\"pos_ini\":  5.8e3,\"pos_end\": 8.4e3,'N_tnodes':4,'N_trains':0,'T_power':[],'T_pos':[],'nodes_i':['34','35','41','42'],'nodes_v':['33','43']},\n",
    "    {\"name\":\"vsc43_vsc53\",\"pos_ini\":  8.4e3,\"pos_end\":11.0e3,'N_tnodes':4,'N_trains':0,'T_power':[],'T_pos':[],'nodes_i':['44','45','51','52'],'nodes_v':['43','53']},\n",
    "    {\"name\":\"vsc53_end\",  \"pos_ini\": 11.0e3,\"pos_end\": 13e3,'N_tnodes':2,'N_trains':0,'T_power':[],'T_pos':[],'nodes_i':['54','55'],'nodes_v':['53']},\n",
    "]\n",
    "}\n",
    "\n",
    "l_trip = np.genfromtxt('./data/izquierda_csv.csv',delimiter=';',skip_header=2)\n",
    "x_left = l_trip[:,1] \n",
    "p_left = l_trip[:,3] \n",
    "t_left = l_trip[:,0] \n",
    "v_left = l_trip[:,2]\n",
    "\n",
    "mask = np.abs(np.diff(x_left))>1\n",
    "mask[0]=True\n",
    "mask[-1]=True\n",
    "x_left_r =x_left[0:-1][mask]\n",
    "p_left_r =p_left[0:-1][mask]\n",
    "\n",
    "r_trip = np.genfromtxt('./data/derecha_csv.csv',delimiter=';',skip_header=2)\n",
    "x_right = r_trip[:,1] \n",
    "p_right = r_trip[:,3] \n",
    "t_right = r_trip[:,0] \n",
    "v_right = r_trip[:,2]\n",
    "\n",
    "mask = np.abs(np.diff(x_right))>1\n",
    "mask[0]=True\n",
    "mask[-1]=True\n",
    "x_right_r =x_right[0:-1][mask]\n",
    "p_right_r =p_right[0:-1][mask]\n",
    "\n",
    "\n",
    "\n",
    "trips = {\n",
    "    'right':{'times':list(t_right),'positions':list(x_right),'powers':list(p_right),'speed':list(v_right),'slope':list(v_right*0)},\n",
    "    'left': {'times':list( t_left),'positions':list( x_left),'powers':list( p_left),'speed':list( v_left),'slope':list( v_left*0)},\n",
    "     }\n",
    "\n",
    "data_input.update({'trips':trips})\n",
    "save('trains_lv_5vsc_params.json',data_input)"
   ]
  },
  {
   "cell_type": "markdown",
   "metadata": {},
   "source": [
    "## Losses"
   ]
  },
  {
   "cell_type": "code",
   "execution_count": 75,
   "metadata": {},
   "outputs": [
    {
     "data": {
      "text/plain": [
       "1249239.7688194206"
      ]
     },
     "execution_count": 75,
     "metadata": {},
     "output_type": "execute_result"
    }
   ],
   "source": [
    "# https://www.hitachiabb-powergrids.com/es/es/offering/product-and-system/semiconductors/semis-models/semis4\n",
    "\n",
    "# m=0.85, v_dc=3000, pf=0.85 for all de simulations\n",
    "\n",
    "# 5SNA 1000G650300, 1000A, 150ºC, 900Hz, 0.005K/W\n",
    "# 20A  1.11kW 2.36%\n",
    "#200A  6.11kW 1.31%\n",
    "#500A 16.52kW 1.42% \n",
    "#800A 30.41kW 1.63%\n",
    "\n",
    "# 5SNA 0600G650100 600A, 125ºC,900Hz, 0.005K/W\n",
    "#  1A  1.30kW 36.11% \n",
    "# 50A  2.53kW  2.15%\n",
    "#200A  7.36kW  1.58%\n",
    "#500A 21.25kW  1.82%\n",
    "#600A 27.69kW  1.97%\n",
    "\n",
    "# 5SNA 0400J650100 400 A, 125ºC,900Hz, 0.005K/W\n",
    "#  1A  0.47kW \n",
    "#100A  3.15kW\n",
    "#200A  6.82kW\n",
    "#300A 11.32kW\n",
    "#400A 17.03kW\n",
    "\n",
    "V_ac = 0.85*3000/np.sqrt(2)\n",
    "S_ac = np.sqrt(3)*V_ac*400\n",
    "S_ac"
   ]
  },
  {
   "cell_type": "code",
   "execution_count": 65,
   "metadata": {},
   "outputs": [],
   "source": [
    "IGBT_5SNA_0400J650100 = np.array([[1,470],[100,3150],[200,6820],[300,11320],[400.0,17030]])\n",
    "\n",
    "from scipy.optimize import curve_fit\n",
    "def func(x, a, b, c):\n",
    "    return a*x**2 + b*x + c\n",
    "\n",
    "popt, pcov = curve_fit(func, IGBT_5SNA_0400J650100[:,0],IGBT_5SNA_0400J650100[:,1])\n",
    "a,b,c = popt"
   ]
  },
  {
   "cell_type": "code",
   "execution_count": 77,
   "metadata": {},
   "outputs": [
    {
     "data": {
      "text/plain": [
       "[<matplotlib.lines.Line2D at 0x20b04264eb0>]"
      ]
     },
     "execution_count": 77,
     "metadata": {},
     "output_type": "execute_result"
    },
    {
     "data": {
      "image/png": "[encoded data removed]",
      "text/plain": [
       "<Figure size 600x500 with 1 Axes>"
      ]
     },
     "metadata": {
      "needs_background": "light"
     },
     "output_type": "display_data"
    }
   ],
   "source": [
    "fig, axes = plt.subplots(nrows=1,ncols=1, figsize=(6, 5), dpi=100)\n",
    "\n",
    "I_rms = np.linspace(0,500,100)\n",
    "axes.plot(np.sqrt(3)*V_ac*IGBT_5SNA_0400J650100[:,0]/1e6,IGBT_5SNA_0400J650100[:,1],'.')\n",
    "axes.plot(np.sqrt(3)*V_ac*I_rms/1e6,4.89073990e-02*I_rms**2+2.17705101e+01*I_rms+ 4.65090148e+02)"
   ]
  },
  {
   "cell_type": "code",
   "execution_count": null,
   "metadata": {},
   "outputs": [],
   "source": [
    "    axes[0].plot(grid_railway_droop.node_pos[it]/1e3,grid_railway_droop.voltages_dc[it], label = 'V', lw=0.08, color='#888888' )\n",
    "    axes[1].plot(grid_railway_droop.node_pos[it]/1e3,grid_railway_droop.voltages_dc[it], label = 'V')\n",
    "\n",
    "for ax in axes:\n",
    "    #ax.set_ylim((-1,4))\n",
    "    ax.grid()\n",
    "    ax.set_ylabel('Voltages (V)')\n",
    "    \n",
    "line_trains = axes[1].plot([],[], 'o', label = 'trains')\n",
    "axes[1].set_xlabel('Position (km)')\n",
    "fig.tight_layout()\n",
    "fig"
   ]
  },
  {
   "cell_type": "code",
   "execution_count": null,
   "metadata": {},
   "outputs": [],
   "source": [
    "params_30A = {\n",
    " 'a_i': 1.95773625,\n",
    " 'b_i': 0.32430738,\n",
    " 'c_i':-0.22694456,\n",
    " 'd_i': 0.0155737 ,\n",
    " 'e_i':-0.01093976,\n",
    " 'a_d': 0.96302242,\n",
    " 'b_d': 0.02653386,\n",
    " 'c_d': 0.05055759,\n",
    " 'd_d': 0.01328264,\n",
    " 'e_d': 0.01394945,\n",
    " 'R_th_igbt_sink': 0.5167999063238943,\n",
    " 'R_th_diode_sink': 0.8394969099630814,\n",
    " 'R_th_sink_a': 0.6619445743152772}\n",
    "\n",
    "params = params_30A\n",
    "\n",
    "a_i = params['a_i']\n",
    "b_i = params['b_i']\n",
    "c_i = params['c_i']\n",
    "d_i = params['d_i']\n",
    "e_i = params['e_i']\n",
    "a_d = params['a_d']\n",
    "b_d = params['b_d']\n",
    "c_d = params['c_d']\n",
    "d_d = params['d_d']\n",
    "e_d = params['e_d']\n",
    "\n",
    "m = 0.95\n",
    "fp = 0.8\n",
    "i_rms = np.linspace(0,30,600)\n",
    "p_igbt  = a_i + (b_i - c_i*m*fp)*i_rms + (d_i - e_i*m*fp)*i_rms*i_rms\n",
    "p_diode = a_d + (b_d - c_d*m*fp)*i_rms + (d_d - e_d*m*fp)*i_rms*i_rms\n",
    "\n",
    "p_switch = p_igbt + p_diode\n",
    "#print(f'p_switch = {p_switch} W')"
   ]
  }
 ],
 "metadata": {
  "kernelspec": {
   "display_name": "Python 3",
   "language": "python",
   "name": "python3"
  },
  "language_info": {
   "codemirror_mode": {
    "name": "ipython",
    "version": 3
   },
   "file_extension": ".py",
   "mimetype": "text/x-python",
   "name": "python",
   "nbconvert_exporter": "python",
   "pygments_lexer": "ipython3",
   "version": "3.8.5"
  }
 },
 "nbformat": 4,
 "nbformat_minor": 4
}
