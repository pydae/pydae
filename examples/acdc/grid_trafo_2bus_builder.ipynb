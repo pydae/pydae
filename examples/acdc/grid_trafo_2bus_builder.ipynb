{
 "cells": [
  {
   "cell_type": "code",
   "execution_count": 11,
   "metadata": {},
   "outputs": [],
   "source": [
    "import numpy as np"
   ]
  },
  {
   "cell_type": "code",
   "execution_count": 12,
   "metadata": {},
   "outputs": [],
   "source": [
    "import matplotlib.pyplot as plt\n",
    "from pydgrid.plot_bokeh import plot_results\n",
    "import sympy as sym\n",
    "import pydae.build as db\n",
    "from pydae.grid_urisi import unb_ri_si\n",
    "import json"
   ]
  },
  {
   "cell_type": "code",
   "execution_count": 18,
   "metadata": {},
   "outputs": [],
   "source": [
    "data = {\n",
    "        \"buses\":[\n",
    "                 {\"bus\": \"B1\",  \"pos_x\":   0, \"pos_y\":   0, \"units\": \"m\", \"U_kV\":20.0},\n",
    "                 {\"bus\": \"B2\",  \"pos_x\":  10, \"pos_y\":   0, \"units\": \"m\", \"U_kV\":0.4},\n",
    "                 {\"bus\": \"B3\",  \"pos_x\": 100, \"pos_y\":  0, \"units\": \"m\", \"U_kV\":0.4},\n",
    "                 {\"bus\": \"B4\",  \"pos_x\": 120, \"pos_y\":  0, \"units\": \"m\", \"U_kV\":0.4},\n",
    "                 {\"bus\": \"B2dc\",  \"pos_x\":  10, \"pos_y\":  -50, \"units\": \"m\", \"U_kV\":0.4},\n",
    "                 {\"bus\": \"B3dc\",  \"pos_x\": 100, \"pos_y\":  -50, \"units\": \"m\", \"U_kV\":0.4}\n",
    "                ],\n",
    "        \"grid_formers\":[\n",
    "                        {\"bus\": \"B1\",\n",
    "                        \"bus_nodes\": [1, 2, 3], \"deg\": [0, -120, -240],\n",
    "                        \"kV\": [11.547, 11.547, 11.547]},\n",
    "                        {\"bus\": \"B2dc\",\n",
    "                        \"bus_nodes\":  [1, 2, 3], \"deg\": [0, 0, 0],\n",
    "                        \"kV\": [0.8, 0.0,0.0]}\n",
    "                       ],\n",
    "        \"transformers\":[\n",
    "                        {\"bus_j\": \"B1\",  \"bus_k\": \"B2\",  \"S_n_kVA\": 1000.0, \"U_j_kV\":20, \"U_k_kV\":0.4,\n",
    "                         \"R_cc_pu\": 0.01, \"X_cc_pu\":0.04, \"connection\": \"Dyn11\",   \"conductors_j\": 3, \"conductors_k\": 4,\n",
    "                         \"monitor\":True},\n",
    "                       ],\n",
    "        \"lines\":[\n",
    "                 {\"bus_j\": \"B2\",  \"bus_k\": \"B3\",  \"code\": \"UG1\", \"m\": 200.0},\n",
    "                 {\"bus_j\": \"B3\",  \"bus_k\": \"B4\",  \"code\": \"UG1\", \"m\": 10.0},\n",
    "                 {\"bus_j\": \"B2dc\",  \"bus_k\": \"B3dc\",  \"code\": \"UG1dc\", \"m\": 200.0, 'monitor':True}\n",
    "                ],\n",
    "        \"loads\":[\n",
    "                 {\"bus\": \"B4\" , \"kVA\": 0.0, \"pf\": 0.85,\"type\":\"3P+N\"}\n",
    "                 #{\"bus\": \"B3dc\" ,  \"bus_nodes\": [1, 4], \"kVA\": 300.0, \"pf\": 1,\"type\":\"1P+N\"}\n",
    "                ],\n",
    "        \"shunts\":[\n",
    "                 {\"bus\": \"B2\" , \"R\": 0.0001, \"X\": 0.0, \"bus_nodes\": [4,0]},\n",
    "                 {\"bus\": \"B2dc\" , \"R\": 0.00001, \"X\": 0.0, \"bus_nodes\": [4,0]}\n",
    "                 ],\n",
    "        \"line_codes\":\n",
    "            {\"lv_cu_150\":     {\"Rph\":0.167,\"Xph\":0.08, \"Rn\":0.167, \"Xn\": 0.08},\n",
    "   \"UG1dc\":\n",
    "    {\"R\":[[ 0.211,  0.0,  0.0,  0.0],\n",
    "          [ 0.0,  0.211,  0.0,  0.0],\n",
    "          [ 0.0,  0.0,  0.211,  0.0],\n",
    "          [ 0.0,  0.0,  0.0,  0.211]],\n",
    "     \"X\":[[ 0.0,  0.0,  0.0,  0.0],\n",
    "          [ 0.0,  0.0,  0.0,  0.0],\n",
    "          [ 0.0,  0.0,  0.0,  0.0],\n",
    "          [ 0.0,  0.0,  0.0,  0.0]]\n",
    "            }\n",
    "       }}\n"
   ]
  },
  {
   "cell_type": "code",
   "execution_count": 19,
   "metadata": {},
   "outputs": [
    {
     "name": "stdout",
     "output_type": "stream",
     "text": [
      "[[0.211+0.j 0.   +0.j 0.   +0.j 0.   +0.j]\n",
      " [0.   +0.j 0.211+0.j 0.   +0.j 0.   +0.j]\n",
      " [0.   +0.j 0.   +0.j 0.211+0.j 0.   +0.j]\n",
      " [0.   +0.j 0.   +0.j 0.   +0.j 0.211+0.j]]\n"
     ]
    }
   ],
   "source": [
    "grid = unb_ri_si(data)\n",
    "\n",
    "v_B2_list = []\n",
    "i_B2_list = []\n",
    "v_B3_list = []\n",
    "i_B3_list = []\n",
    "for ph in ['a','b','c']:\n",
    "    v_B2_ph_r,v_B2_ph_i = sym.symbols(f'v_B2_{ph}_r,v_B2_{ph}_i',real=True)\n",
    "    v_B2_list += [v_B2_ph_r + 1j*v_B2_ph_i]\n",
    "    i_B2_ph_r,i_B2_ph_i = sym.symbols(f'i_B2_{ph}_r,i_B2_{ph}_i',real=True)\n",
    "    i_B2_list += [i_B2_ph_r + 1j*i_B2_ph_i]\n",
    "    v_B3_ph_r,v_B3_ph_i = sym.symbols(f'v_B3_{ph}_r,v_B3_{ph}_i',real=True)\n",
    "    v_B3_list += [v_B3_ph_r + 1j*v_B3_ph_i]\n",
    "    i_B3_ph_r,i_B3_ph_i = sym.symbols(f'i_B3_{ph}_r,i_B3_{ph}_i',real=True)\n",
    "    i_B3_list += [i_B3_ph_r + 1j*i_B3_ph_i]\n",
    "v_B2_abc = sym.Matrix([v_B2_list]).T\n",
    "i_B2_abc = sym.Matrix([i_B2_list]).T\n",
    "v_B3_abc = sym.Matrix([v_B3_list]).T\n",
    "i_B3_abc = sym.Matrix([i_B3_list]).T\n",
    "\n",
    "s_B2 = v_B2_abc.T * sym.conjugate(i_B2_abc)\n",
    "s_B2 = sym.expand(s_B2)\n",
    "s_B3 = v_B3_abc.T * sym.conjugate(i_B3_abc)\n",
    "s_B3 = sym.expand(s_B3)\n",
    "\n",
    "i_l_B2dc_B3dc_a_r,i_l_B2dc_B3dc_n_r = sym.symbols('i_l_B2dc_B3dc_a_r,i_l_B2dc_B3dc_n_r')\n",
    "v_B3dc_a_r,v_B3dc_n_r = sym.symbols('v_B3dc_a_r,v_B3dc_n_r')\n",
    "v_B2dc_a_r,v_B2dc_n_r = sym.symbols('v_B2dc_a_r,v_B2dc_n_r')\n",
    "\n",
    "p_B2dc,q_B2 = sym.symbols('p_B2dc,q_B2')\n",
    "i_B2_a_r,i_B2_a_i = sym.symbols('i_B2_a_r,i_B2_a_i',real=True)\n",
    "\n",
    "\n",
    "s_B2_a = v_B2_abc[0] * sym.conjugate(i_B2_abc[0])\n",
    "s_B2_b = v_B2_abc[1] * sym.conjugate(i_B2_abc[1])\n",
    "s_B2_c = v_B2_abc[2] * sym.conjugate(i_B2_abc[2])\n",
    "\n",
    "eq_i_B2_a_r =  sym.re(s_B2_a) - p_B2dc/3\n",
    "eq_i_B2_b_r =  sym.re(s_B2_b) - p_B2dc/3\n",
    "eq_i_B2_c_r =  sym.re(s_B2_c) - p_B2dc/3\n",
    "eq_i_B2_a_i =  sym.im(s_B2_a) - q_B2/3\n",
    "eq_i_B2_b_i =  sym.im(s_B2_b) - q_B2/3\n",
    "eq_i_B2_c_i =  sym.im(s_B2_c) - q_B2/3\n",
    "\n",
    "i_rms = sym.sqrt(i_B2_a_r**2+i_B2_a_i**2+1) \n",
    "a = 2.92075867\n",
    "b = 0.44961794\n",
    "c = 0.02717091\n",
    "p_simple = a + b*i_rms + c*i_rms*i_rms\n",
    "\n",
    "p_vsc_loss = p_simple*6\n",
    "\n",
    "eq_p_B2dc = p_B2dc + i_l_B2dc_B3dc_a_r * v_B2dc_a_r + i_l_B2dc_B3dc_n_r * v_B2dc_n_r + sym.Piecewise((p_vsc_loss, p_B2dc < 1), (p_vsc_loss, p_B2dc > 0),(0.0, True))\n",
    "\n",
    "i_B2_a_r,i_B2_b_r,i_B2_c_r,i_B2_a_i,i_B2_b_i,i_B2_c_i,p_B2dc = sym.symbols('i_B2_a_r,i_B2_b_r,i_B2_c_r,i_B2_a_i,i_B2_b_i,i_B2_c_i,p_B2dc',real=True)\n",
    "g_vsc = [eq_i_B2_a_r,eq_i_B2_b_r,eq_i_B2_c_r,eq_i_B2_a_i,eq_i_B2_b_i,eq_i_B2_c_i,eq_p_B2dc]\n",
    "y_vsc = [i_B2_a_r,i_B2_b_r,i_B2_c_r,i_B2_a_i,i_B2_b_i,i_B2_c_i,p_B2dc]\n",
    "\n",
    "\n",
    "p_B3,p_B3dc,q_B3 = sym.symbols('p_B3,p_B3dc,q_B3',real=True)\n",
    "i_B3dc_a_r,i_B3dc_n_r = sym.symbols('i_B3dc_a_r,i_B3dc_n_r',real=True)\n",
    "\n",
    "s_B3_a = v_B3_abc[0] * sym.conjugate(i_B3_abc[0])\n",
    "s_B3_b = v_B3_abc[1] * sym.conjugate(i_B3_abc[1])\n",
    "s_B3_c = v_B3_abc[2] * sym.conjugate(i_B3_abc[2])\n",
    "\n",
    "eq_i_B3_a_r =  sym.re(s_B3_a) - p_B3/3\n",
    "eq_i_B3_b_r =  sym.re(s_B3_b) - p_B3/3\n",
    "eq_i_B3_c_r =  sym.re(s_B3_c) - p_B3/3\n",
    "eq_i_B3_a_i =  sym.im(s_B3_a) - q_B3/3\n",
    "eq_i_B3_b_i =  sym.im(s_B3_b) - q_B3/3\n",
    "eq_i_B3_c_i =  sym.im(s_B3_c) - q_B3/3\n",
    "\n",
    "i_B3_a_r,i_B3_b_r,i_B3_c_r,i_B3_a_i,i_B3_b_i,i_B3_c_i,p_B3dc = sym.symbols('i_B3_a_r,i_B3_b_r,i_B3_c_r,i_B3_a_i,i_B3_b_i,i_B3_c_i,p_B3dc',real=True)\n",
    "\n",
    "i_rms = sym.sqrt(i_B3_a_r**2+i_B3_a_i**2+1) \n",
    "a = 2.92075867\n",
    "b = 0.44961794\n",
    "c = 0.02717091\n",
    "p_simple = a + b*i_rms + c*i_rms*i_rms\n",
    "\n",
    "p_vsc_loss = p_simple*6\n",
    "\n",
    "eq_p_B3dc = p_B3dc - p_B3 - sym.Piecewise((p_vsc_loss, p_B3dc < 1), (p_vsc_loss, p_B3dc > 0),(0.0, True))\n",
    "eq_i_B3dc_a_r = i_B3dc_a_r + p_B3dc/(v_B3dc_a_r-v_B3dc_n_r+1e-8)\n",
    "eq_i_B3dc_n_r = i_B3dc_n_r + p_B3dc/(v_B3dc_n_r-v_B3dc_a_r+1e-8)\n",
    "\n",
    "g_vsc += [eq_i_B3_a_r,eq_i_B3_b_r,eq_i_B3_c_r,eq_i_B3_a_i,eq_i_B3_b_i,eq_i_B3_c_i,eq_p_B3dc,eq_i_B3dc_a_r,eq_i_B3dc_n_r]\n",
    "y_vsc += [i_B3_a_r,i_B3_b_r,i_B3_c_r,i_B3_a_i,i_B3_b_i,i_B3_c_i,p_B3dc,i_B3dc_a_r,i_B3dc_n_r]\n",
    "u_vsc = {'p_B3':0.0,'q_B3':0.0,'q_B2':0.0}\n",
    "xy_0_dict_vsc = {'v_B3dc_a_r':800.0,'v_B3dc_n_r':10.0}"
   ]
  },
  {
   "cell_type": "code",
   "execution_count": 20,
   "metadata": {},
   "outputs": [
    {
     "name": "stdout",
     "output_type": "stream",
     "text": [
      "system without dynamic equations, adding dummy dynamic equation\n"
     ]
    }
   ],
   "source": [
    "params_dict  = grid.dae['params']\n",
    "f_list = grid.dae['f']\n",
    "x_list = grid.dae['x']\n",
    "g_list = grid.dae['g'] + g_vsc\n",
    "y_list = grid.dae['y'] + y_vsc\n",
    "u_dict = grid.dae['u']\n",
    "for ph in ['a','b','c']:\n",
    "    u_dict.pop(f'i_B2_{ph}_r')\n",
    "    u_dict.pop(f'i_B2_{ph}_i')\n",
    "for ph in ['a','n']:\n",
    "    u_dict.pop(f'i_B3dc_{ph}_r')\n",
    "\n",
    "u_dict.update(u_vsc)\n",
    "a = sym.Symbol('a')\n",
    "grid.dae['xy_0_dict'].update(xy_0_dict_vsc)\n",
    "\n",
    "h_dict = grid.dae['h_v_m_dict']\n",
    "\n",
    "sys_dict = {'name':'grid_trafo_2bus',\n",
    "           'params_dict':params_dict,\n",
    "           'f_list':f_list,\n",
    "           'g_list':g_list,\n",
    "           'x_list':x_list,\n",
    "           'y_ini_list':y_list,\n",
    "           'y_run_list':y_list,\n",
    "           'u_run_dict':u_dict,\n",
    "           'u_ini_dict':u_dict,\n",
    "           'h_dict':h_dict\n",
    "           }\n",
    "\n",
    "db.system(sys_dict)\n",
    "db.sys2num(sys_dict)\n",
    "\n",
    "data = json.dumps(grid.dae['xy_0_dict'], indent=4)\n",
    "fobj = open(\"xy_0_dict.json\",\"w\")\n",
    "fobj.write(data)\n",
    "fobj.close()"
   ]
  },
  {
   "cell_type": "code",
   "execution_count": 21,
   "metadata": {},
   "outputs": [
    {
     "data": {
      "text/html": [
       "\n",
       "\n",
       "\n",
       "\n",
       "\n",
       "\n",
       "  <div class=\"bk-root\" id=\"544a7faf-5afa-4d92-a920-5d6f8f793a9e\" data-root-id=\"1300\"></div>\n"
      ]
     },
     "metadata": {},
     "output_type": "display_data"
    },
    {
     "data": {
      "application/javascript": [
       "(function(root) {\n",
       "  function embed_document(root) {\n",
       "    \n",
       "  var docs_json = {\"9b4c8f79-1343-46a1-8784-061763a80dcf\":{\"roots\":{\"references\":[{\"attributes\":{\"below\":[{\"id\":\"1311\"}],\"center\":[{\"id\":\"1314\"},{\"id\":\"1318\"}],\"left\":[{\"id\":\"1315\"}],\"plot_height\":400,\"renderers\":[{\"id\":\"1336\"},{\"id\":\"1342\"},{\"id\":\"1348\"}],\"title\":{\"id\":\"1301\"},\"toolbar\":{\"id\":\"1325\"},\"x_range\":{\"id\":\"1303\"},\"x_scale\":{\"id\":\"1307\"},\"y_range\":{\"id\":\"1305\"},\"y_scale\":{\"id\":\"1309\"}},\"id\":\"1300\",\"subtype\":\"Figure\",\"type\":\"Plot\"},{\"attributes\":{},\"id\":\"1309\",\"type\":\"LinearScale\"},{\"attributes\":{\"axis\":{\"id\":\"1315\"},\"dimension\":1,\"ticker\":null},\"id\":\"1318\",\"type\":\"Grid\"},{\"attributes\":{\"fill_alpha\":{\"value\":0.1},\"fill_color\":{\"value\":\"navy\"},\"line_alpha\":{\"value\":0.1},\"line_color\":{\"value\":\"navy\"},\"size\":{\"units\":\"screen\",\"value\":15},\"x\":{\"field\":\"x\"},\"y\":{\"field\":\"y\"}},\"id\":\"1347\",\"type\":\"Circle\"},{\"attributes\":{},\"id\":\"1305\",\"type\":\"DataRange1d\"},{\"attributes\":{},\"id\":\"1322\",\"type\":\"SaveTool\"},{\"attributes\":{},\"id\":\"1316\",\"type\":\"BasicTicker\"},{\"attributes\":{\"text\":\"Results\"},\"id\":\"1301\",\"type\":\"Title\"},{\"attributes\":{\"overlay\":{\"id\":\"1385\"}},\"id\":\"1321\",\"type\":\"BoxZoomTool\"},{\"attributes\":{},\"id\":\"1303\",\"type\":\"DataRange1d\"},{\"attributes\":{},\"id\":\"1312\",\"type\":\"BasicTicker\"},{\"attributes\":{\"active_drag\":\"auto\",\"active_inspect\":\"auto\",\"active_multi\":null,\"active_scroll\":\"auto\",\"active_tap\":\"auto\",\"tools\":[{\"id\":\"1319\"},{\"id\":\"1320\"},{\"id\":\"1321\"},{\"id\":\"1322\"},{\"id\":\"1323\"},{\"id\":\"1324\"},{\"id\":\"1350\"},{\"id\":\"1352\"},{\"id\":\"1354\"}]},\"id\":\"1325\",\"type\":\"Toolbar\"},{\"attributes\":{},\"id\":\"1388\",\"type\":\"UnionRenderers\"},{\"attributes\":{\"line_alpha\":{\"value\":0.5},\"line_color\":{\"value\":\"green\"},\"line_width\":{\"value\":5},\"xs\":{\"field\":\"x_s\"},\"ys\":{\"field\":\"y_s\"}},\"id\":\"1334\",\"type\":\"MultiLine\"},{\"attributes\":{},\"id\":\"1390\",\"type\":\"UnionRenderers\"},{\"attributes\":{\"formatter\":{\"id\":\"1381\"},\"ticker\":{\"id\":\"1312\"}},\"id\":\"1311\",\"type\":\"LinearAxis\"},{\"attributes\":{\"callback\":null,\"renderers\":[{\"id\":\"1336\"}],\"tooltips\":\"\\n            <div>\\n            transformer id = @trafo_id  \\n            <table border=\\\"5\\\">\\n                <tr >\\n                    <td>I<sub>1a</sub> =  @i_1a_m &ang; @deg_1a </td>\\n                    <td>I<sub>2a</sub> =  @i_2a_m &ang; @deg_2a </td>\\n                </tr>\\n                <tr>\\n                    <td >I<sub>1b</sub> =  @i_1b_m &ang; @deg_1b </td>\\n                    <td >I<sub>2b</sub> =  @i_2b_m &ang; @deg_2b </td>\\n                </tr>\\n                <tr>\\n                    <td >I<sub>1c</sub> =  @i_1c_m &ang; @deg_1c </td>\\n                    <td >I<sub>2c</sub> =  @i_2c_m &ang; @deg_2c </td>\\n                </tr>\\n                <tr>\\n                    <td >I<sub>1n</sub> =  @i_1n_m &ang; @deg_1n </td>\\n                    <td >I<sub>2n</sub> =  @i_2n_m &ang; @deg_2n </td>\\n                </tr>\\n            </table>            \\n            </div>\\n            \"},\"id\":\"1350\",\"type\":\"HoverTool\"},{\"attributes\":{},\"id\":\"1387\",\"type\":\"Selection\"},{\"attributes\":{\"bottom_units\":\"screen\",\"fill_alpha\":0.5,\"fill_color\":\"lightgrey\",\"left_units\":\"screen\",\"level\":\"overlay\",\"line_alpha\":1.0,\"line_color\":\"black\",\"line_dash\":[4,4],\"line_width\":2,\"render_mode\":\"css\",\"right_units\":\"screen\",\"top_units\":\"screen\"},\"id\":\"1385\",\"type\":\"BoxAnnotation\"},{\"attributes\":{\"source\":{\"id\":\"1344\"}},\"id\":\"1349\",\"type\":\"CDSView\"},{\"attributes\":{},\"id\":\"1389\",\"type\":\"Selection\"},{\"attributes\":{\"line_alpha\":{\"value\":0.1},\"line_color\":{\"value\":\"green\"},\"line_width\":{\"value\":5},\"xs\":{\"field\":\"x_s\"},\"ys\":{\"field\":\"y_s\"}},\"id\":\"1335\",\"type\":\"MultiLine\"},{\"attributes\":{\"callback\":null,\"renderers\":[{\"id\":\"1342\"}],\"tooltips\":\"\\n            <div>\\n            line id = @line_id \\n            <table border=\\\"5\\\">\\n                <tr >\\n                    <td>I<sub>ja</sub> =  @i_j_a_m &ang; @deg_j_a </td>\\n                    <td>I<sub>ka</sub> =  @i_k_a_m &ang; @deg_k_a </td>\\n                </tr>\\n                <tr>\\n                    <td >I<sub>jb</sub> =  @i_j_b_m &ang; @deg_j_b </td>\\n                    <td >I<sub>kb</sub> =  @i_k_b_m &ang; @deg_k_b </td>\\n                </tr>\\n                <tr>\\n                    <td >I<sub>jc</sub> =  @i_j_c_m &ang; @deg_j_c </td>\\n                    <td >I<sub>kc</sub> =  @i_k_c_m &ang; @deg_k_c </td>\\n                </tr>\\n                <tr>\\n                    <td >I<sub>jn</sub> =  @i_j_n_m &ang; @deg_j_n </td>\\n                    <td >I<sub>kn</sub> =  @i_k_n_m &ang; @deg_k_n </td>\\n                </tr>\\n            </table>            \\n            </div>\\n            \"},\"id\":\"1352\",\"type\":\"HoverTool\"},{\"attributes\":{},\"id\":\"1323\",\"type\":\"ResetTool\"},{\"attributes\":{},\"id\":\"1324\",\"type\":\"HelpTool\"},{\"attributes\":{},\"id\":\"1307\",\"type\":\"LinearScale\"},{\"attributes\":{},\"id\":\"1391\",\"type\":\"Selection\"},{\"attributes\":{},\"id\":\"1381\",\"type\":\"BasicTickFormatter\"},{\"attributes\":{},\"id\":\"1319\",\"type\":\"PanTool\"},{\"attributes\":{\"callback\":null,\"renderers\":[{\"id\":\"1348\"}],\"tooltips\":\"\\n            <div>\\n            bus_id = @bus_id &nbsp &nbsp |  u<sub>avg</sub>= @u_avg_pu pu |  u<sub>unb</sub>= @v_unb %\\n            <table border=\\\"1\\\">\\n                <tr>\\n                <td>v<sub>an</sub> =  @v_an  &ang; @deg_an V </td> <td> S<sub>a</sub> = @p_a + j@q_a kVA</td>\\n                </tr>\\n                      <tr>\\n                      <td> </td> <td>v<sub>ab</sub>= @v_ab V</td>\\n                      </tr>\\n                <tr>\\n                <td>v<sub>bn</sub> = @v_bn &ang; @deg_bn V </td><td> S<sub>b</sub> = @p_b + j@q_b kVA</td>\\n                </tr>\\n                      <tr>\\n                      <td> </td><td>v<sub>bc</sub>= @v_bc V</td>\\n                      </tr>\\n                <tr>\\n                <td>v<sub>cn</sub>  = @v_cn &ang; @deg_cn V </td>  <td>S<sub>c</sub> = @p_c + j@q_c kVA </td>\\n                </tr> \\n                    <tr>\\n                     <td> </td> <td>v<sub>ca</sub>= @v_ca V</td>\\n                    </tr>\\n               <tr>\\n                <td>v<sub>ng</sub>    = @v_ng &ang; @deg_ng V</td>  <td>S<sub>abc</sub> = @p_abc + j@q_abc kVA </td>\\n              </tr>\\n            </table>\\n            </div>\\n            \"},\"id\":\"1354\",\"type\":\"HoverTool\"},{\"attributes\":{\"formatter\":{\"id\":\"1383\"},\"ticker\":{\"id\":\"1316\"}},\"id\":\"1315\",\"type\":\"LinearAxis\"},{\"attributes\":{\"data_source\":{\"id\":\"1344\"},\"glyph\":{\"id\":\"1346\"},\"hover_glyph\":null,\"muted_glyph\":null,\"nonselection_glyph\":{\"id\":\"1347\"},\"selection_glyph\":null,\"view\":{\"id\":\"1349\"}},\"id\":\"1348\",\"type\":\"GlyphRenderer\"},{\"attributes\":{\"source\":{\"id\":\"1332\"}},\"id\":\"1337\",\"type\":\"CDSView\"},{\"attributes\":{},\"id\":\"1320\",\"type\":\"WheelZoomTool\"},{\"attributes\":{\"line_alpha\":{\"value\":0.5},\"line_color\":{\"value\":\"red\"},\"line_width\":{\"value\":5},\"xs\":{\"field\":\"x_s\"},\"ys\":{\"field\":\"y_s\"}},\"id\":\"1340\",\"type\":\"MultiLine\"},{\"attributes\":{\"source\":{\"id\":\"1338\"}},\"id\":\"1343\",\"type\":\"CDSView\"},{\"attributes\":{\"axis\":{\"id\":\"1311\"},\"ticker\":null},\"id\":\"1314\",\"type\":\"Grid\"},{\"attributes\":{\"data_source\":{\"id\":\"1338\"},\"glyph\":{\"id\":\"1340\"},\"hover_glyph\":null,\"muted_glyph\":null,\"nonselection_glyph\":{\"id\":\"1341\"},\"selection_glyph\":null,\"view\":{\"id\":\"1343\"}},\"id\":\"1342\",\"type\":\"GlyphRenderer\"},{\"attributes\":{},\"id\":\"1383\",\"type\":\"BasicTickFormatter\"},{\"attributes\":{\"data\":{\"deg_1a\":[-75.96375653207353],\"deg_1b\":[142.8831393167297],\"deg_1c\":[22.306205054907643],\"deg_1n\":[68.19859051364818],\"deg_2a\":[38.65980825409009],\"deg_2b\":[-53.13010235415598],\"deg_2c\":[159.44395478041653],\"deg_2n\":[117.09555249375181],\"i_1a_m\":[1.757785650632539e-13],\"i_1b_m\":[3.2969489206266704e-13],\"i_1c_m\":[2.995255799242783e-13],\"i_1n_m\":[1.530555893832145e-13],\"i_2a_m\":[1.747082270621699e-11],\"i_2b_m\":[2.2737367544323206e-11],\"i_2c_m\":[7.77072613829435e-12],\"i_2n_m\":[2.1964814869958576e-11],\"trafo_id\":[\"B1-B2\"],\"x_s\":[[0,10]],\"y_s\":[[0,0]]},\"selected\":{\"id\":\"1387\"},\"selection_policy\":{\"id\":\"1386\"}},\"id\":\"1332\",\"type\":\"ColumnDataSource\"},{\"attributes\":{\"line_alpha\":{\"value\":0.1},\"line_color\":{\"value\":\"red\"},\"line_width\":{\"value\":5},\"xs\":{\"field\":\"x_s\"},\"ys\":{\"field\":\"y_s\"}},\"id\":\"1341\",\"type\":\"MultiLine\"},{\"attributes\":{\"data_source\":{\"id\":\"1332\"},\"glyph\":{\"id\":\"1334\"},\"hover_glyph\":null,\"muted_glyph\":null,\"nonselection_glyph\":{\"id\":\"1335\"},\"selection_glyph\":null,\"view\":{\"id\":\"1337\"}},\"id\":\"1336\",\"type\":\"GlyphRenderer\"},{\"attributes\":{\"data\":{\"deg_j_a\":[117.09555249375181,180.0,0.0],\"deg_j_b\":[138.50353164478446,-26.56505117707799,0.0],\"deg_j_c\":[-15.091572678594877,63.43494882292201,0.0],\"deg_j_n\":[-100.30484646876603,29.74488129694222,0.0],\"deg_k_a\":[117.09555249375181,180.0,0.0],\"deg_k_b\":[138.50353164478446,-26.56505117707799,0.0],\"deg_k_c\":[-15.091572678594877,63.43494882292201,0.0],\"deg_k_n\":[-100.30484646876603,29.74488129694222,0.0],\"i_j_a_m\":[2.1964814869958576e-11,2.9103830456733704e-11,0.0],\"i_j_b_m\":[7.892847387533849e-12,8.134767913360665e-12,0.0],\"i_j_c_m\":[5.239779361134531e-12,8.134767913360665e-12,0.0],\"i_j_n_m\":[2.5421149729252077e-12,2.9330322825621076e-11,0.0],\"i_k_a_m\":[2.1964814869958576e-11,2.9103830456733704e-11,0.0],\"i_k_b_m\":[7.892847387533849e-12,8.134767913360665e-12,0.0],\"i_k_c_m\":[5.239779361134531e-12,8.134767913360665e-12,0.0],\"i_k_n_m\":[2.5421149729252077e-12,2.9330322825621076e-11,0.0],\"line_id\":[\"B2-B3\",\"B3-B4\",\"B2dc-B3dc\"],\"x_s\":[[10,100],[100,120],[10,100]],\"y_s\":[[0,0],[0,0],[-50,-50]]},\"selected\":{\"id\":\"1389\"},\"selection_policy\":{\"id\":\"1388\"}},\"id\":\"1338\",\"type\":\"ColumnDataSource\"},{\"attributes\":{\"data\":{\"bus_id\":[\"B1\",\"B2\",\"B3\",\"B4\",\"B2dc\",\"B3dc\"],\"deg_an\":[\"0.00\",\"-30.00\",\"-30.00\",\"-30.00\",\"0.00\",\"0.00\"],\"deg_bn\":[\"-120.00\",\"-150.00\",\"-150.00\",\"-150.00\",\"0.00\",\"0.00\"],\"deg_cn\":[\"120.00\",\"90.00\",\"90.00\",\"90.00\",\"0.00\",\"0.00\"],\"deg_ng\":[\"0.00\",\"-56.31\",\"21.56\",\"20.84\",\"0.00\",\"0.00\"],\"p_a\":[\"0.00\",\"0.00\",\"0.00\",\"0.00\",\"0.00\",\"0.00\"],\"p_abc\":[\"0.00\",\"0.00\",\"0.00\",\"0.00\",\"0.00\",\"0.00\"],\"p_b\":[\"0.00\",\"-0.00\",\"-0.00\",\"-0.00\",\"0.00\",\"0.00\"],\"p_c\":[\"0.00\",\"0.00\",\"0.00\",\"0.00\",\"0.00\",\"0.00\"],\"q_a\":[\"0.00\",\"-0.00\",\"-0.00\",\"-0.00\",\"0.00\",\"0.00\"],\"q_abc\":[\"0.00\",\"0.00\",\"0.00\",\"0.00\",\"0.00\",\"0.00\"],\"q_b\":[\"0.00\",\"0.00\",\"0.00\",\"0.00\",\"0.00\",\"0.00\"],\"q_c\":[\"0.00\",\"0.00\",\"0.00\",\"0.00\",\"0.00\",\"0.00\"],\"s_color\":[\"red\",\"blue\",\"blue\",\"blue\",\"blue\",\"blue\"],\"s_radio\":[1,1,1,1,1,1],\"u_avg_pu\":[\"1.000\",\"1.000\",\"1.000\",\"1.000\",\"1.155\",\"1.155\"],\"v_ab\":[19999.99067499782,399.9998134999565,399.99981349995676,399.9998134999569,800.0,800.0],\"v_an\":[\"11547.00\",\"230.94\",\"230.94\",\"230.94\",\"800.00\",\"800.00\"],\"v_an_pu\":[\"1.0000\",\"1.0000\",\"1.0000\",\"1.0000\",\"3.4641\",\"3.4641\"],\"v_bc\":[19999.990674997825,399.9998134999564,399.9998134999561,399.9998134999561,0.0,0.0],\"v_bn\":[\"11547.00\",\"230.94\",\"230.94\",\"230.94\",\"0.00\",\"0.00\"],\"v_bn_pu\":[\"1.0000\",\"1.0000\",\"1.0000\",\"1.0000\",\"0.0000\",\"0.0000\"],\"v_ca\":[19999.99067499783,399.99981349995653,399.9998134999573,399.9998134999573,800.0,800.0],\"v_cn\":[\"11547.00\",\"230.94\",\"230.94\",\"230.94\",\"0.00\",\"0.00\"],\"v_cn_pu\":[\"1.0000\",\"1.0000\",\"1.0000\",\"1.0000\",\"0.0000\",\"0.0000\"],\"v_ng\":[\"0.00\",\"0.00\",\"0.00\",\"0.00\",\"0.00\",\"0.00\"],\"v_unb\":[\"0.0\",\"0.0\",\"0.0\",\"0.0\",\"200.0\",\"200.0\"],\"x\":[0,10,100,120,10,100],\"y\":[0,0,0,0,-50,-50]},\"selected\":{\"id\":\"1391\"},\"selection_policy\":{\"id\":\"1390\"}},\"id\":\"1344\",\"type\":\"ColumnDataSource\"},{\"attributes\":{},\"id\":\"1386\",\"type\":\"UnionRenderers\"},{\"attributes\":{\"fill_alpha\":{\"value\":0.5},\"fill_color\":{\"value\":\"navy\"},\"line_alpha\":{\"value\":0.5},\"line_color\":{\"value\":\"navy\"},\"size\":{\"units\":\"screen\",\"value\":15},\"x\":{\"field\":\"x\"},\"y\":{\"field\":\"y\"}},\"id\":\"1346\",\"type\":\"Circle\"}],\"root_ids\":[\"1300\"]},\"title\":\"Bokeh Application\",\"version\":\"2.0.0\"}};\n",
       "  var render_items = [{\"docid\":\"9b4c8f79-1343-46a1-8784-061763a80dcf\",\"root_ids\":[\"1300\"],\"roots\":{\"1300\":\"544a7faf-5afa-4d92-a920-5d6f8f793a9e\"}}];\n",
       "  root.Bokeh.embed.embed_items_notebook(docs_json, render_items);\n",
       "\n",
       "  }\n",
       "  if (root.Bokeh !== undefined) {\n",
       "    embed_document(root);\n",
       "  } else {\n",
       "    var attempts = 0;\n",
       "    var timer = setInterval(function(root) {\n",
       "      if (root.Bokeh !== undefined) {\n",
       "        clearInterval(timer);\n",
       "        embed_document(root);\n",
       "      } else {\n",
       "        attempts++;\n",
       "        if (attempts > 100) {\n",
       "          clearInterval(timer);\n",
       "          console.log(\"Bokeh: ERROR: Unable to run BokehJS code because BokehJS library is missing\");\n",
       "        }\n",
       "      }\n",
       "    }, 10, root)\n",
       "  }\n",
       "})(window);"
      ],
      "application/vnd.bokehjs_exec.v0+json": ""
     },
     "metadata": {
      "application/vnd.bokehjs_exec.v0+json": {
       "id": "1300"
      }
     },
     "output_type": "display_data"
    },
    {
     "data": {
      "text/html": [
       "<div style=\"display: table;\"><div style=\"display: table-row;\"><div style=\"display: table-cell;\"><b title=\"bokeh.plotting.figure.Figure\">Figure</b>(</div><div style=\"display: table-cell;\">id&nbsp;=&nbsp;'1300', <span id=\"1465\" style=\"cursor: pointer;\">&hellip;)</span></div></div><div class=\"1464\" style=\"display: none;\"><div style=\"display: table-cell;\"></div><div style=\"display: table-cell;\">above&nbsp;=&nbsp;[],</div></div><div class=\"1464\" style=\"display: none;\"><div style=\"display: table-cell;\"></div><div style=\"display: table-cell;\">align&nbsp;=&nbsp;'start',</div></div><div class=\"1464\" style=\"display: none;\"><div style=\"display: table-cell;\"></div><div style=\"display: table-cell;\">aspect_ratio&nbsp;=&nbsp;None,</div></div><div class=\"1464\" style=\"display: none;\"><div style=\"display: table-cell;\"></div><div style=\"display: table-cell;\">aspect_scale&nbsp;=&nbsp;1,</div></div><div class=\"1464\" style=\"display: none;\"><div style=\"display: table-cell;\"></div><div style=\"display: table-cell;\">background&nbsp;=&nbsp;None,</div></div><div class=\"1464\" style=\"display: none;\"><div style=\"display: table-cell;\"></div><div style=\"display: table-cell;\">background_fill_alpha&nbsp;=&nbsp;1.0,</div></div><div class=\"1464\" style=\"display: none;\"><div style=\"display: table-cell;\"></div><div style=\"display: table-cell;\">background_fill_color&nbsp;=&nbsp;'#ffffff',</div></div><div class=\"1464\" style=\"display: none;\"><div style=\"display: table-cell;\"></div><div style=\"display: table-cell;\">below&nbsp;=&nbsp;[LinearAxis(id='1311', ...)],</div></div><div class=\"1464\" style=\"display: none;\"><div style=\"display: table-cell;\"></div><div style=\"display: table-cell;\">border_fill_alpha&nbsp;=&nbsp;1.0,</div></div><div class=\"1464\" style=\"display: none;\"><div style=\"display: table-cell;\"></div><div style=\"display: table-cell;\">border_fill_color&nbsp;=&nbsp;'#ffffff',</div></div><div class=\"1464\" style=\"display: none;\"><div style=\"display: table-cell;\"></div><div style=\"display: table-cell;\">center&nbsp;=&nbsp;[Grid(id='1314', ...), Grid(id='1318', ...)],</div></div><div class=\"1464\" style=\"display: none;\"><div style=\"display: table-cell;\"></div><div style=\"display: table-cell;\">css_classes&nbsp;=&nbsp;[],</div></div><div class=\"1464\" style=\"display: none;\"><div style=\"display: table-cell;\"></div><div style=\"display: table-cell;\">disabled&nbsp;=&nbsp;False,</div></div><div class=\"1464\" style=\"display: none;\"><div style=\"display: table-cell;\"></div><div style=\"display: table-cell;\">extra_x_ranges&nbsp;=&nbsp;{},</div></div><div class=\"1464\" style=\"display: none;\"><div style=\"display: table-cell;\"></div><div style=\"display: table-cell;\">extra_y_ranges&nbsp;=&nbsp;{},</div></div><div class=\"1464\" style=\"display: none;\"><div style=\"display: table-cell;\"></div><div style=\"display: table-cell;\">frame_height&nbsp;=&nbsp;None,</div></div><div class=\"1464\" style=\"display: none;\"><div style=\"display: table-cell;\"></div><div style=\"display: table-cell;\">frame_width&nbsp;=&nbsp;None,</div></div><div class=\"1464\" style=\"display: none;\"><div style=\"display: table-cell;\"></div><div style=\"display: table-cell;\">height&nbsp;=&nbsp;None,</div></div><div class=\"1464\" style=\"display: none;\"><div style=\"display: table-cell;\"></div><div style=\"display: table-cell;\">height_policy&nbsp;=&nbsp;'auto',</div></div><div class=\"1464\" style=\"display: none;\"><div style=\"display: table-cell;\"></div><div style=\"display: table-cell;\">hidpi&nbsp;=&nbsp;True,</div></div><div class=\"1464\" style=\"display: none;\"><div style=\"display: table-cell;\"></div><div style=\"display: table-cell;\">js_event_callbacks&nbsp;=&nbsp;{},</div></div><div class=\"1464\" style=\"display: none;\"><div style=\"display: table-cell;\"></div><div style=\"display: table-cell;\">js_property_callbacks&nbsp;=&nbsp;{},</div></div><div class=\"1464\" style=\"display: none;\"><div style=\"display: table-cell;\"></div><div style=\"display: table-cell;\">left&nbsp;=&nbsp;[LinearAxis(id='1315', ...)],</div></div><div class=\"1464\" style=\"display: none;\"><div style=\"display: table-cell;\"></div><div style=\"display: table-cell;\">lod_factor&nbsp;=&nbsp;10,</div></div><div class=\"1464\" style=\"display: none;\"><div style=\"display: table-cell;\"></div><div style=\"display: table-cell;\">lod_interval&nbsp;=&nbsp;300,</div></div><div class=\"1464\" style=\"display: none;\"><div style=\"display: table-cell;\"></div><div style=\"display: table-cell;\">lod_threshold&nbsp;=&nbsp;2000,</div></div><div class=\"1464\" style=\"display: none;\"><div style=\"display: table-cell;\"></div><div style=\"display: table-cell;\">lod_timeout&nbsp;=&nbsp;500,</div></div><div class=\"1464\" style=\"display: none;\"><div style=\"display: table-cell;\"></div><div style=\"display: table-cell;\">margin&nbsp;=&nbsp;(0, 0, 0, 0),</div></div><div class=\"1464\" style=\"display: none;\"><div style=\"display: table-cell;\"></div><div style=\"display: table-cell;\">match_aspect&nbsp;=&nbsp;False,</div></div><div class=\"1464\" style=\"display: none;\"><div style=\"display: table-cell;\"></div><div style=\"display: table-cell;\">max_height&nbsp;=&nbsp;None,</div></div><div class=\"1464\" style=\"display: none;\"><div style=\"display: table-cell;\"></div><div style=\"display: table-cell;\">max_width&nbsp;=&nbsp;None,</div></div><div class=\"1464\" style=\"display: none;\"><div style=\"display: table-cell;\"></div><div style=\"display: table-cell;\">min_border&nbsp;=&nbsp;5,</div></div><div class=\"1464\" style=\"display: none;\"><div style=\"display: table-cell;\"></div><div style=\"display: table-cell;\">min_border_bottom&nbsp;=&nbsp;None,</div></div><div class=\"1464\" style=\"display: none;\"><div style=\"display: table-cell;\"></div><div style=\"display: table-cell;\">min_border_left&nbsp;=&nbsp;None,</div></div><div class=\"1464\" style=\"display: none;\"><div style=\"display: table-cell;\"></div><div style=\"display: table-cell;\">min_border_right&nbsp;=&nbsp;None,</div></div><div class=\"1464\" style=\"display: none;\"><div style=\"display: table-cell;\"></div><div style=\"display: table-cell;\">min_border_top&nbsp;=&nbsp;None,</div></div><div class=\"1464\" style=\"display: none;\"><div style=\"display: table-cell;\"></div><div style=\"display: table-cell;\">min_height&nbsp;=&nbsp;None,</div></div><div class=\"1464\" style=\"display: none;\"><div style=\"display: table-cell;\"></div><div style=\"display: table-cell;\">min_width&nbsp;=&nbsp;None,</div></div><div class=\"1464\" style=\"display: none;\"><div style=\"display: table-cell;\"></div><div style=\"display: table-cell;\">name&nbsp;=&nbsp;None,</div></div><div class=\"1464\" style=\"display: none;\"><div style=\"display: table-cell;\"></div><div style=\"display: table-cell;\">outline_line_alpha&nbsp;=&nbsp;1.0,</div></div><div class=\"1464\" style=\"display: none;\"><div style=\"display: table-cell;\"></div><div style=\"display: table-cell;\">outline_line_cap&nbsp;=&nbsp;'butt',</div></div><div class=\"1464\" style=\"display: none;\"><div style=\"display: table-cell;\"></div><div style=\"display: table-cell;\">outline_line_color&nbsp;=&nbsp;'#e5e5e5',</div></div><div class=\"1464\" style=\"display: none;\"><div style=\"display: table-cell;\"></div><div style=\"display: table-cell;\">outline_line_dash&nbsp;=&nbsp;[],</div></div><div class=\"1464\" style=\"display: none;\"><div style=\"display: table-cell;\"></div><div style=\"display: table-cell;\">outline_line_dash_offset&nbsp;=&nbsp;0,</div></div><div class=\"1464\" style=\"display: none;\"><div style=\"display: table-cell;\"></div><div style=\"display: table-cell;\">outline_line_join&nbsp;=&nbsp;'bevel',</div></div><div class=\"1464\" style=\"display: none;\"><div style=\"display: table-cell;\"></div><div style=\"display: table-cell;\">outline_line_width&nbsp;=&nbsp;1,</div></div><div class=\"1464\" style=\"display: none;\"><div style=\"display: table-cell;\"></div><div style=\"display: table-cell;\">output_backend&nbsp;=&nbsp;'canvas',</div></div><div class=\"1464\" style=\"display: none;\"><div style=\"display: table-cell;\"></div><div style=\"display: table-cell;\">plot_height&nbsp;=&nbsp;400,</div></div><div class=\"1464\" style=\"display: none;\"><div style=\"display: table-cell;\"></div><div style=\"display: table-cell;\">plot_width&nbsp;=&nbsp;600,</div></div><div class=\"1464\" style=\"display: none;\"><div style=\"display: table-cell;\"></div><div style=\"display: table-cell;\">renderers&nbsp;=&nbsp;[GlyphRenderer(id='1336', ...), GlyphRenderer(id='1342', ...), GlyphRenderer(id='1348', ...)],</div></div><div class=\"1464\" style=\"display: none;\"><div style=\"display: table-cell;\"></div><div style=\"display: table-cell;\">reset_policy&nbsp;=&nbsp;'standard',</div></div><div class=\"1464\" style=\"display: none;\"><div style=\"display: table-cell;\"></div><div style=\"display: table-cell;\">right&nbsp;=&nbsp;[],</div></div><div class=\"1464\" style=\"display: none;\"><div style=\"display: table-cell;\"></div><div style=\"display: table-cell;\">sizing_mode&nbsp;=&nbsp;None,</div></div><div class=\"1464\" style=\"display: none;\"><div style=\"display: table-cell;\"></div><div style=\"display: table-cell;\">subscribed_events&nbsp;=&nbsp;[],</div></div><div class=\"1464\" style=\"display: none;\"><div style=\"display: table-cell;\"></div><div style=\"display: table-cell;\">tags&nbsp;=&nbsp;[],</div></div><div class=\"1464\" style=\"display: none;\"><div style=\"display: table-cell;\"></div><div style=\"display: table-cell;\">title&nbsp;=&nbsp;Title(id='1301', ...),</div></div><div class=\"1464\" style=\"display: none;\"><div style=\"display: table-cell;\"></div><div style=\"display: table-cell;\">title_location&nbsp;=&nbsp;'above',</div></div><div class=\"1464\" style=\"display: none;\"><div style=\"display: table-cell;\"></div><div style=\"display: table-cell;\">toolbar&nbsp;=&nbsp;Toolbar(id='1325', ...),</div></div><div class=\"1464\" style=\"display: none;\"><div style=\"display: table-cell;\"></div><div style=\"display: table-cell;\">toolbar_location&nbsp;=&nbsp;'right',</div></div><div class=\"1464\" style=\"display: none;\"><div style=\"display: table-cell;\"></div><div style=\"display: table-cell;\">toolbar_sticky&nbsp;=&nbsp;True,</div></div><div class=\"1464\" style=\"display: none;\"><div style=\"display: table-cell;\"></div><div style=\"display: table-cell;\">visible&nbsp;=&nbsp;True,</div></div><div class=\"1464\" style=\"display: none;\"><div style=\"display: table-cell;\"></div><div style=\"display: table-cell;\">width&nbsp;=&nbsp;None,</div></div><div class=\"1464\" style=\"display: none;\"><div style=\"display: table-cell;\"></div><div style=\"display: table-cell;\">width_policy&nbsp;=&nbsp;'auto',</div></div><div class=\"1464\" style=\"display: none;\"><div style=\"display: table-cell;\"></div><div style=\"display: table-cell;\">x_range&nbsp;=&nbsp;DataRange1d(id='1303', ...),</div></div><div class=\"1464\" style=\"display: none;\"><div style=\"display: table-cell;\"></div><div style=\"display: table-cell;\">x_scale&nbsp;=&nbsp;LinearScale(id='1307', ...),</div></div><div class=\"1464\" style=\"display: none;\"><div style=\"display: table-cell;\"></div><div style=\"display: table-cell;\">y_range&nbsp;=&nbsp;DataRange1d(id='1305', ...),</div></div><div class=\"1464\" style=\"display: none;\"><div style=\"display: table-cell;\"></div><div style=\"display: table-cell;\">y_scale&nbsp;=&nbsp;LinearScale(id='1309', ...))</div></div></div>\n",
       "<script>\n",
       "(function() {\n",
       "  var expanded = false;\n",
       "  var ellipsis = document.getElementById(\"1465\");\n",
       "  ellipsis.addEventListener(\"click\", function() {\n",
       "    var rows = document.getElementsByClassName(\"1464\");\n",
       "    for (var i = 0; i < rows.length; i++) {\n",
       "      var el = rows[i];\n",
       "      el.style.display = expanded ? \"none\" : \"table-row\";\n",
       "    }\n",
       "    ellipsis.innerHTML = expanded ? \"&hellip;)\" : \"&lsaquo;&lsaquo;&lsaquo;\";\n",
       "    expanded = !expanded;\n",
       "  });\n",
       "})();\n",
       "</script>\n"
      ],
      "text/plain": [
       "Figure(id='1300', ...)"
      ]
     },
     "execution_count": 21,
     "metadata": {},
     "output_type": "execute_result"
    }
   ],
   "source": [
    "plot_results(grid)"
   ]
  },
  {
   "cell_type": "code",
   "execution_count": 17,
   "metadata": {},
   "outputs": [
    {
     "data": {
      "text/plain": [
       "{'v_B1_a_r': 11547.0,\n",
       " 'v_B1_a_i': 0.0,\n",
       " 'v_B1_b_r': -5773.499999999997,\n",
       " 'v_B1_b_i': -9999.995337498915,\n",
       " 'v_B1_c_r': -5773.5000000000055,\n",
       " 'v_B1_c_i': 9999.99533749891,\n",
       " 'v_B2dc_a_r': 800.0,\n",
       " 'v_B2dc_a_i': 0.0,\n",
       " 'v_B2dc_b_r': 0.0,\n",
       " 'v_B2dc_b_i': 0.0,\n",
       " 'v_B2dc_c_r': 0.0,\n",
       " 'v_B2dc_c_i': 0.0,\n",
       " 'i_B4_n_r': 0.0,\n",
       " 'i_B4_n_i': 0.0,\n",
       " 'i_B2_n_r': 0.0,\n",
       " 'i_B2_n_i': 0.0,\n",
       " 'i_B3_a_r': 0.0,\n",
       " 'i_B3_a_i': 0.0,\n",
       " 'i_B3_b_r': 0.0,\n",
       " 'i_B3_b_i': 0.0,\n",
       " 'i_B3_c_r': 0.0,\n",
       " 'i_B3_c_i': 0.0,\n",
       " 'i_B3_n_r': 0.0,\n",
       " 'i_B3_n_i': 0.0,\n",
       " 'i_B2dc_n_r': 0.0,\n",
       " 'i_B2dc_n_i': 0.0,\n",
       " 'i_B3dc_a_i': 0.0,\n",
       " 'i_B3dc_b_r': 0.0,\n",
       " 'i_B3dc_b_i': 0.0,\n",
       " 'i_B3dc_c_r': 0.0,\n",
       " 'i_B3dc_c_i': 0.0,\n",
       " 'i_B3dc_n_i': 0.0,\n",
       " 'p_B4_a': 0.0,\n",
       " 'q_B4_a': -0.0,\n",
       " 'p_B4_b': -0.0,\n",
       " 'q_B4_b': 0.0,\n",
       " 'p_B4_c': 0.0,\n",
       " 'q_B4_c': 0.0,\n",
       " 'p_B3': 0.0,\n",
       " 'q_B3': 0.0,\n",
       " 'q_B2': 0.0,\n",
       " 'u_dummy': 1.0}"
      ]
     },
     "execution_count": 17,
     "metadata": {},
     "output_type": "execute_result"
    }
   ],
   "source": [
    "u_dict"
   ]
  },
  {
   "cell_type": "code",
   "execution_count": 10,
   "metadata": {},
   "outputs": [
    {
     "data": {
      "text/plain": [
       "[v_B4_a_r,\n",
       " v_B4_a_i,\n",
       " v_B4_b_r,\n",
       " v_B4_b_i,\n",
       " v_B4_c_r,\n",
       " v_B4_c_i,\n",
       " v_B4_n_r,\n",
       " v_B4_n_i,\n",
       " v_B2_a_r,\n",
       " v_B2_a_i,\n",
       " v_B2_b_r,\n",
       " v_B2_b_i,\n",
       " v_B2_c_r,\n",
       " v_B2_c_i,\n",
       " v_B2_n_r,\n",
       " v_B2_n_i,\n",
       " v_B3_a_r,\n",
       " v_B3_a_i,\n",
       " v_B3_b_r,\n",
       " v_B3_b_i,\n",
       " v_B3_c_r,\n",
       " v_B3_c_i,\n",
       " v_B3_n_r,\n",
       " v_B3_n_i,\n",
       " v_B2dc_n_r,\n",
       " v_B2dc_n_i,\n",
       " v_B3dc_a_r,\n",
       " v_B3dc_a_i,\n",
       " v_B3dc_b_r,\n",
       " v_B3dc_b_i,\n",
       " v_B3dc_c_r,\n",
       " v_B3dc_c_i,\n",
       " v_B3dc_n_r,\n",
       " v_B3dc_n_i,\n",
       " i_t_B1_B2_a_r,\n",
       " i_t_B1_B2_a_i,\n",
       " i_t_B1_B2_b_r,\n",
       " i_t_B1_B2_b_i,\n",
       " i_t_B1_B2_c_r,\n",
       " i_t_B1_B2_c_i,\n",
       " i_l_B2dc_B3dc_a_r,\n",
       " i_l_B2dc_B3dc_a_i,\n",
       " i_l_B2dc_B3dc_b_r,\n",
       " i_l_B2dc_B3dc_b_i,\n",
       " i_l_B2dc_B3dc_c_r,\n",
       " i_l_B2dc_B3dc_c_i,\n",
       " i_l_B2dc_B3dc_n_r,\n",
       " i_l_B2dc_B3dc_n_i,\n",
       " i_B4_a_r,\n",
       " i_B4_a_i,\n",
       " i_B4_b_r,\n",
       " i_B4_b_i,\n",
       " i_B4_c_r,\n",
       " i_B4_c_i,\n",
       " i_B4_n_r,\n",
       " i_B4_n_i,\n",
       " i_B2_a_r,\n",
       " i_B2_b_r,\n",
       " i_B2_c_r,\n",
       " i_B2_a_i,\n",
       " i_B2_b_i,\n",
       " i_B2_c_i,\n",
       " p_B2dc,\n",
       " i_B3_a_r,\n",
       " i_B3_b_r,\n",
       " i_B3_c_r,\n",
       " i_B3_a_i,\n",
       " i_B3_b_i,\n",
       " i_B3_c_i,\n",
       " p_B3dc,\n",
       " i_B3dc_a_r,\n",
       " i_B3dc_n_r]"
      ]
     },
     "execution_count": 10,
     "metadata": {},
     "output_type": "execute_result"
    }
   ],
   "source": [
    "y_list"
   ]
  },
  {
   "cell_type": "code",
   "execution_count": null,
   "metadata": {},
   "outputs": [],
   "source": []
  },
  {
   "cell_type": "markdown",
   "metadata": {},
   "source": [
    "## Losses"
   ]
  },
  {
   "cell_type": "code",
   "execution_count": 22,
   "metadata": {},
   "outputs": [],
   "source": [
    "params_30A = {\n",
    " 'a_i': 1.95773625,\n",
    " 'b_i': 0.32430738,\n",
    " 'c_i':-0.22694456,\n",
    " 'd_i': 0.0155737 ,\n",
    " 'e_i':-0.01093976,\n",
    " 'a_d': 0.96302242,\n",
    " 'b_d': 0.02653386,\n",
    " 'c_d': 0.05055759,\n",
    " 'd_d': 0.01328264,\n",
    " 'e_d': 0.01394945,\n",
    " 'R_th_igbt_sink': 0.5167999063238943,\n",
    " 'R_th_diode_sink': 0.8394969099630814,\n",
    " 'R_th_sink_a': 0.6619445743152772}\n",
    "\n",
    "params = params_30A\n",
    "\n",
    "a_i = params['a_i']\n",
    "b_i = params['b_i']\n",
    "c_i = params['c_i']\n",
    "d_i = params['d_i']\n",
    "e_i = params['e_i']\n",
    "a_d = params['a_d']\n",
    "b_d = params['b_d']\n",
    "c_d = params['c_d']\n",
    "d_d = params['d_d']\n",
    "e_d = params['e_d']\n",
    "\n",
    "m = 0.95\n",
    "fp = 0.8\n",
    "i_rms = np.linspace(0,30,600)\n",
    "p_igbt  = a_i + (b_i - c_i*m*fp)*i_rms + (d_i - e_i*m*fp)*i_rms*i_rms\n",
    "p_diode = a_d + (b_d - c_d*m*fp)*i_rms + (d_d - e_d*m*fp)*i_rms*i_rms\n",
    "\n",
    "p_switch = p_igbt + p_diode\n",
    "#print(f'p_switch = {p_switch} W')"
   ]
  },
  {
   "cell_type": "code",
   "execution_count": 42,
   "metadata": {},
   "outputs": [
    {
     "data": {
      "text/plain": [
       "[<matplotlib.lines.Line2D at 0x1b56fe7b280>]"
      ]
     },
     "execution_count": 42,
     "metadata": {},
     "output_type": "execute_result"
    },
    {
     "data": {
      "image/png": "[encoded data removed]",
      "text/plain": [
       "<Figure size 504x504 with 2 Axes>"
      ]
     },
     "metadata": {
      "needs_background": "light"
     },
     "output_type": "display_data"
    }
   ],
   "source": [
    "fig_1,  axes   = plt.subplots(nrows=2,ncols=1, figsize=(7, 7))\n",
    "\n",
    "m = 0.95\n",
    "fp = 0.8\n",
    "i_rms = np.linspace(0,30,600)\n",
    "p_igbt  = a_i + (b_i - c_i*m*fp)*i_rms + (d_i - e_i*m*fp)*i_rms*i_rms\n",
    "p_diode = a_d + (b_d - c_d*m*fp)*i_rms + (d_d - e_d*m*fp)*i_rms*i_rms\n",
    "\n",
    "p_switch = p_igbt + p_diode\n",
    "\n",
    "axes[0].plot(i_rms,p_igbt)\n",
    "axes[0].plot(i_rms,p_diode)\n",
    "axes[0].plot(i_rms,p_switch)\n",
    "axes[1].plot(i_rms,p_switch)\n",
    "\n",
    "m = 0.4\n",
    "fp = 0.8\n",
    "i_rms = np.linspace(0,30,600)\n",
    "p_igbt  = a_i + (b_i - c_i*m*fp)*i_rms + (d_i - e_i*m*fp)*i_rms*i_rms\n",
    "p_diode = a_d + (b_d - c_d*m*fp)*i_rms + (d_d - e_d*m*fp)*i_rms*i_rms\n",
    "\n",
    "p_switch = p_igbt + p_diode\n",
    "\n",
    "a =  2.92075867\n",
    "b = 0.4496179432\n",
    "c = 0.0271709136\n",
    "p_simple = a + b*i_rms + c*i_rms*i_rms\n",
    "axes[1].plot(i_rms,p_simple)"
   ]
  },
  {
   "cell_type": "code",
   "execution_count": 44,
   "metadata": {},
   "outputs": [
    {
     "data": {
      "text/plain": [
       "array([    0.        ,    34.69884756,    69.39769513,   104.09654269,\n",
       "         138.79539026,   173.49423782,   208.19308538,   242.89193295,\n",
       "         277.59078051,   312.28962808,   346.98847564,   381.6873232 ,\n",
       "         416.38617077,   451.08501833,   485.7838659 ,   520.48271346,\n",
       "         555.18156102,   589.88040859,   624.57925615,   659.27810372,\n",
       "         693.97695128,   728.67579884,   763.37464641,   798.07349397,\n",
       "         832.77234154,   867.4711891 ,   902.17003666,   936.86888423,\n",
       "         971.56773179,  1006.26657936,  1040.96542692,  1075.66427448,\n",
       "        1110.36312205,  1145.06196961,  1179.76081718,  1214.45966474,\n",
       "        1249.1585123 ,  1283.85735987,  1318.55620743,  1353.255055  ,\n",
       "        1387.95390256,  1422.65275012,  1457.35159769,  1492.05044525,\n",
       "        1526.74929282,  1561.44814038,  1596.14698794,  1630.84583551,\n",
       "        1665.54468307,  1700.24353064,  1734.9423782 ,  1769.64122576,\n",
       "        1804.34007333,  1839.03892089,  1873.73776846,  1908.43661602,\n",
       "        1943.13546358,  1977.83431115,  2012.53315871,  2047.23200628,\n",
       "        2081.93085384,  2116.6297014 ,  2151.32854897,  2186.02739653,\n",
       "        2220.72624409,  2255.42509166,  2290.12393922,  2324.82278679,\n",
       "        2359.52163435,  2394.22048191,  2428.91932948,  2463.61817704,\n",
       "        2498.31702461,  2533.01587217,  2567.71471973,  2602.4135673 ,\n",
       "        2637.11241486,  2671.81126243,  2706.51010999,  2741.20895755,\n",
       "        2775.90780512,  2810.60665268,  2845.30550025,  2880.00434781,\n",
       "        2914.70319537,  2949.40204294,  2984.1008905 ,  3018.79973807,\n",
       "        3053.49858563,  3088.19743319,  3122.89628076,  3157.59512832,\n",
       "        3192.29397589,  3226.99282345,  3261.69167101,  3296.39051858,\n",
       "        3331.08936614,  3365.78821371,  3400.48706127,  3435.18590883,\n",
       "        3469.8847564 ,  3504.58360396,  3539.28245153,  3573.98129909,\n",
       "        3608.68014665,  3643.37899422,  3678.07784178,  3712.77668935,\n",
       "        3747.47553691,  3782.17438447,  3816.87323204,  3851.5720796 ,\n",
       "        3886.27092717,  3920.96977473,  3955.66862229,  3990.36746986,\n",
       "        4025.06631742,  4059.76516499,  4094.46401255,  4129.16286011,\n",
       "        4163.86170768,  4198.56055524,  4233.25940281,  4267.95825037,\n",
       "        4302.65709793,  4337.3559455 ,  4372.05479306,  4406.75364063,\n",
       "        4441.45248819,  4476.15133575,  4510.85018332,  4545.54903088,\n",
       "        4580.24787845,  4614.94672601,  4649.64557357,  4684.34442114,\n",
       "        4719.0432687 ,  4753.74211627,  4788.44096383,  4823.13981139,\n",
       "        4857.83865896,  4892.53750652,  4927.23635409,  4961.93520165,\n",
       "        4996.63404921,  5031.33289678,  5066.03174434,  5100.73059191,\n",
       "        5135.42943947,  5170.12828703,  5204.8271346 ,  5239.52598216,\n",
       "        5274.22482973,  5308.92367729,  5343.62252485,  5378.32137242,\n",
       "        5413.02021998,  5447.71906755,  5482.41791511,  5517.11676267,\n",
       "        5551.81561024,  5586.5144578 ,  5621.21330537,  5655.91215293,\n",
       "        5690.61100049,  5725.30984806,  5760.00869562,  5794.70754319,\n",
       "        5829.40639075,  5864.10523831,  5898.80408588,  5933.50293344,\n",
       "        5968.20178101,  6002.90062857,  6037.59947613,  6072.2983237 ,\n",
       "        6106.99717126,  6141.69601883,  6176.39486639,  6211.09371395,\n",
       "        6245.79256152,  6280.49140908,  6315.19025665,  6349.88910421,\n",
       "        6384.58795177,  6419.28679934,  6453.9856469 ,  6488.68449447,\n",
       "        6523.38334203,  6558.08218959,  6592.78103716,  6627.47988472,\n",
       "        6662.17873228,  6696.87757985,  6731.57642741,  6766.27527498,\n",
       "        6800.97412254,  6835.6729701 ,  6870.37181767,  6905.07066523,\n",
       "        6939.7695128 ,  6974.46836036,  7009.16720792,  7043.86605549,\n",
       "        7078.56490305,  7113.26375062,  7147.96259818,  7182.66144574,\n",
       "        7217.36029331,  7252.05914087,  7286.75798844,  7321.456836  ,\n",
       "        7356.15568356,  7390.85453113,  7425.55337869,  7460.25222626,\n",
       "        7494.95107382,  7529.64992138,  7564.34876895,  7599.04761651,\n",
       "        7633.74646408,  7668.44531164,  7703.1441592 ,  7737.84300677,\n",
       "        7772.54185433,  7807.2407019 ,  7841.93954946,  7876.63839702,\n",
       "        7911.33724459,  7946.03609215,  7980.73493972,  8015.43378728,\n",
       "        8050.13263484,  8084.83148241,  8119.53032997,  8154.22917754,\n",
       "        8188.9280251 ,  8223.62687266,  8258.32572023,  8293.02456779,\n",
       "        8327.72341536,  8362.42226292,  8397.12111048,  8431.81995805,\n",
       "        8466.51880561,  8501.21765318,  8535.91650074,  8570.6153483 ,\n",
       "        8605.31419587,  8640.01304343,  8674.711891  ,  8709.41073856,\n",
       "        8744.10958612,  8778.80843369,  8813.50728125,  8848.20612882,\n",
       "        8882.90497638,  8917.60382394,  8952.30267151,  8987.00151907,\n",
       "        9021.70036664,  9056.3992142 ,  9091.09806176,  9125.79690933,\n",
       "        9160.49575689,  9195.19460446,  9229.89345202,  9264.59229958,\n",
       "        9299.29114715,  9333.98999471,  9368.68884228,  9403.38768984,\n",
       "        9438.0865374 ,  9472.78538497,  9507.48423253,  9542.1830801 ,\n",
       "        9576.88192766,  9611.58077522,  9646.27962279,  9680.97847035,\n",
       "        9715.67731792,  9750.37616548,  9785.07501304,  9819.77386061,\n",
       "        9854.47270817,  9889.17155574,  9923.8704033 ,  9958.56925086,\n",
       "        9993.26809843, 10027.96694599, 10062.66579356, 10097.36464112,\n",
       "       10132.06348868, 10166.76233625, 10201.46118381, 10236.16003138,\n",
       "       10270.85887894, 10305.5577265 , 10340.25657407, 10374.95542163,\n",
       "       10409.6542692 , 10444.35311676, 10479.05196432, 10513.75081189,\n",
       "       10548.44965945, 10583.14850702, 10617.84735458, 10652.54620214,\n",
       "       10687.24504971, 10721.94389727, 10756.64274484, 10791.3415924 ,\n",
       "       10826.04043996, 10860.73928753, 10895.43813509, 10930.13698266,\n",
       "       10964.83583022, 10999.53467778, 11034.23352535, 11068.93237291,\n",
       "       11103.63122047, 11138.33006804, 11173.0289156 , 11207.72776317,\n",
       "       11242.42661073, 11277.12545829, 11311.82430586, 11346.52315342,\n",
       "       11381.22200099, 11415.92084855, 11450.61969611, 11485.31854368,\n",
       "       11520.01739124, 11554.71623881, 11589.41508637, 11624.11393393,\n",
       "       11658.8127815 , 11693.51162906, 11728.21047663, 11762.90932419,\n",
       "       11797.60817175, 11832.30701932, 11867.00586688, 11901.70471445,\n",
       "       11936.40356201, 11971.10240957, 12005.80125714, 12040.5001047 ,\n",
       "       12075.19895227, 12109.89779983, 12144.59664739, 12179.29549496,\n",
       "       12213.99434252, 12248.69319009, 12283.39203765, 12318.09088521,\n",
       "       12352.78973278, 12387.48858034, 12422.18742791, 12456.88627547,\n",
       "       12491.58512303, 12526.2839706 , 12560.98281816, 12595.68166573,\n",
       "       12630.38051329, 12665.07936085, 12699.77820842, 12734.47705598,\n",
       "       12769.17590355, 12803.87475111, 12838.57359867, 12873.27244624,\n",
       "       12907.9712938 , 12942.67014137, 12977.36898893, 13012.06783649,\n",
       "       13046.76668406, 13081.46553162, 13116.16437919, 13150.86322675,\n",
       "       13185.56207431, 13220.26092188, 13254.95976944, 13289.65861701,\n",
       "       13324.35746457, 13359.05631213, 13393.7551597 , 13428.45400726,\n",
       "       13463.15285483, 13497.85170239, 13532.55054995, 13567.24939752,\n",
       "       13601.94824508, 13636.64709265, 13671.34594021, 13706.04478777,\n",
       "       13740.74363534, 13775.4424829 , 13810.14133047, 13844.84017803,\n",
       "       13879.53902559, 13914.23787316, 13948.93672072, 13983.63556829,\n",
       "       14018.33441585, 14053.03326341, 14087.73211098, 14122.43095854,\n",
       "       14157.12980611, 14191.82865367, 14226.52750123, 14261.2263488 ,\n",
       "       14295.92519636, 14330.62404393, 14365.32289149, 14400.02173905,\n",
       "       14434.72058662, 14469.41943418, 14504.11828175, 14538.81712931,\n",
       "       14573.51597687, 14608.21482444, 14642.913672  , 14677.61251957,\n",
       "       14712.31136713, 14747.01021469, 14781.70906226, 14816.40790982,\n",
       "       14851.10675739, 14885.80560495, 14920.50445251, 14955.20330008,\n",
       "       14989.90214764, 15024.60099521, 15059.29984277, 15093.99869033,\n",
       "       15128.6975379 , 15163.39638546, 15198.09523303, 15232.79408059,\n",
       "       15267.49292815, 15302.19177572, 15336.89062328, 15371.58947084,\n",
       "       15406.28831841, 15440.98716597, 15475.68601354, 15510.3848611 ,\n",
       "       15545.08370866, 15579.78255623, 15614.48140379, 15649.18025136,\n",
       "       15683.87909892, 15718.57794648, 15753.27679405, 15787.97564161,\n",
       "       15822.67448918, 15857.37333674, 15892.0721843 , 15926.77103187,\n",
       "       15961.46987943, 15996.168727  , 16030.86757456, 16065.56642212,\n",
       "       16100.26526969, 16134.96411725, 16169.66296482, 16204.36181238,\n",
       "       16239.06065994, 16273.75950751, 16308.45835507, 16343.15720264,\n",
       "       16377.8560502 , 16412.55489776, 16447.25374533, 16481.95259289,\n",
       "       16516.65144046, 16551.35028802, 16586.04913558, 16620.74798315,\n",
       "       16655.44683071, 16690.14567828, 16724.84452584, 16759.5433734 ,\n",
       "       16794.24222097, 16828.94106853, 16863.6399161 , 16898.33876366,\n",
       "       16933.03761122, 16967.73645879, 17002.43530635, 17037.13415392,\n",
       "       17071.83300148, 17106.53184904, 17141.23069661, 17175.92954417,\n",
       "       17210.62839174, 17245.3272393 , 17280.02608686, 17314.72493443,\n",
       "       17349.42378199, 17384.12262956, 17418.82147712, 17453.52032468,\n",
       "       17488.21917225, 17522.91801981, 17557.61686738, 17592.31571494,\n",
       "       17627.0145625 , 17661.71341007, 17696.41225763, 17731.1111052 ,\n",
       "       17765.80995276, 17800.50880032, 17835.20764789, 17869.90649545,\n",
       "       17904.60534302, 17939.30419058, 17974.00303814, 18008.70188571,\n",
       "       18043.40073327, 18078.09958084, 18112.7984284 , 18147.49727596,\n",
       "       18182.19612353, 18216.89497109, 18251.59381866, 18286.29266622,\n",
       "       18320.99151378, 18355.69036135, 18390.38920891, 18425.08805648,\n",
       "       18459.78690404, 18494.4857516 , 18529.18459917, 18563.88344673,\n",
       "       18598.5822943 , 18633.28114186, 18667.97998942, 18702.67883699,\n",
       "       18737.37768455, 18772.07653212, 18806.77537968, 18841.47422724,\n",
       "       18876.17307481, 18910.87192237, 18945.57076994, 18980.2696175 ,\n",
       "       19014.96846506, 19049.66731263, 19084.36616019, 19119.06500776,\n",
       "       19153.76385532, 19188.46270288, 19223.16155045, 19257.86039801,\n",
       "       19292.55924558, 19327.25809314, 19361.9569407 , 19396.65578827,\n",
       "       19431.35463583, 19466.0534834 , 19500.75233096, 19535.45117852,\n",
       "       19570.15002609, 19604.84887365, 19639.54772122, 19674.24656878,\n",
       "       19708.94541634, 19743.64426391, 19778.34311147, 19813.04195903,\n",
       "       19847.7408066 , 19882.43965416, 19917.13850173, 19951.83734929,\n",
       "       19986.53619685, 20021.23504442, 20055.93389198, 20090.63273955,\n",
       "       20125.33158711, 20160.03043467, 20194.72928224, 20229.4281298 ,\n",
       "       20264.12697737, 20298.82582493, 20333.52467249, 20368.22352006,\n",
       "       20402.92236762, 20437.62121519, 20472.32006275, 20507.01891031,\n",
       "       20541.71775788, 20576.41660544, 20611.11545301, 20645.81430057,\n",
       "       20680.51314813, 20715.2119957 , 20749.91084326, 20784.60969083])"
      ]
     },
     "execution_count": 44,
     "metadata": {},
     "output_type": "execute_result"
    }
   ],
   "source": [
    "i_rms*400*np.sqrt(3)"
   ]
  },
  {
   "cell_type": "code",
   "execution_count": 37,
   "metadata": {},
   "outputs": [
    {
     "name": "stdout",
     "output_type": "stream",
     "text": [
      "b = 0.4496179432\n",
      "c = 0.027170913600000002\n"
     ]
    }
   ],
   "source": [
    "m = 0.7\n",
    "fp= 0.8\n",
    "b = (b_i - c_i*m*fp + b_d - c_d*m*fp)\n",
    "c = (d_i - e_i*m*fp + d_d - e_d*m*fp)\n",
    "print(f'b = {b}')\n",
    "print(f'c = {c}')"
   ]
  },
  {
   "cell_type": "code",
   "execution_count": 40,
   "metadata": {},
   "outputs": [
    {
     "data": {
      "text/plain": [
       "2.92075867"
      ]
     },
     "execution_count": 40,
     "metadata": {},
     "output_type": "execute_result"
    }
   ],
   "source": [
    "a_i+a_d"
   ]
  },
  {
   "cell_type": "code",
   "execution_count": 47,
   "metadata": {},
   "outputs": [
    {
     "data": {
      "text/plain": [
       "1.2"
      ]
     },
     "execution_count": 47,
     "metadata": {},
     "output_type": "execute_result"
    }
   ],
   "source": [
    "6*40/20000*100"
   ]
  },
  {
   "cell_type": "code",
   "execution_count": null,
   "metadata": {},
   "outputs": [],
   "source": []
  }
 ],
 "metadata": {
  "kernelspec": {
   "display_name": "Python 3",
   "language": "python",
   "name": "python3"
  },
  "language_info": {
   "codemirror_mode": {
    "name": "ipython",
    "version": 3
   },
   "file_extension": ".py",
   "mimetype": "text/x-python",
   "name": "python",
   "nbconvert_exporter": "python",
   "pygments_lexer": "ipython3",
   "version": "3.8.5"
  }
 },
 "nbformat": 4,
 "nbformat_minor": 4
}
