{
 "cells": [
  {
   "cell_type": "code",
   "execution_count": 17,
   "metadata": {},
   "outputs": [],
   "source": [
    "import numpy as np\n",
    "import scipy.optimize as sopt\n",
    "import matplotlib.pyplot as plt\n",
    "import pydae.ssa as ssa\n",
    "import pydae.grid_tools as gt\n",
    "from pydae.tools import get_i\n",
    "import json\n",
    "import time"
   ]
  },
  {
   "cell_type": "code",
   "execution_count": 18,
   "metadata": {},
   "outputs": [],
   "source": [
    "from grid_trafo_2bus import grid_trafo_2bus_class"
   ]
  },
  {
   "cell_type": "code",
   "execution_count": null,
   "metadata": {},
   "outputs": [],
   "source": []
  },
  {
   "cell_type": "code",
   "execution_count": 19,
   "metadata": {},
   "outputs": [
    {
     "name": "stdout",
     "output_type": "stream",
     "text": [
      "initialization not found!\n",
      "v_B4_a_r =  0.00\n",
      "v_B4_a_i =  0.00\n",
      "v_B4_b_r =  0.00\n",
      "v_B4_b_i =  0.00\n",
      "v_B4_c_r =  0.00\n",
      "v_B4_c_i =  0.00\n",
      "v_B4_n_r =  0.00\n",
      "v_B4_n_i =  0.00\n",
      "v_B2_a_r =  0.00\n",
      "v_B2_a_i =  0.00\n",
      "v_B2_b_r =  0.00\n",
      "v_B2_b_i =  0.00\n",
      "v_B2_c_r =  0.00\n",
      "v_B2_c_i =  0.00\n",
      "v_B2_n_r =  0.00\n",
      "v_B2_n_i =  0.00\n",
      "v_B3_a_r =  0.00\n",
      "v_B3_a_i =  0.00\n",
      "v_B3_b_r =  0.00\n",
      "v_B3_b_i =  0.00\n",
      "v_B3_c_r =  0.00\n",
      "v_B3_c_i =  0.00\n",
      "v_B3_n_r =  0.00\n",
      "v_B3_n_i =  0.00\n",
      "v_B2dc_n_r =  0.00\n",
      "v_B2dc_n_i =  0.00\n",
      "v_B3dc_a_r =  0.00\n",
      "v_B3dc_a_i =  0.00\n",
      "v_B3dc_b_r =  0.00\n",
      "v_B3dc_b_i =  0.00\n",
      "v_B3dc_c_r =  0.00\n",
      "v_B3dc_c_i =  0.00\n",
      "v_B3dc_n_r =  0.00\n",
      "v_B3dc_n_i =  0.00\n",
      "i_l_B2dc_B3dc_a_r =  0.00\n",
      "i_l_B2dc_B3dc_a_i =  0.00\n",
      "i_l_B2dc_B3dc_b_r =  0.00\n",
      "i_l_B2dc_B3dc_b_i =  0.00\n",
      "i_l_B2dc_B3dc_c_r =  0.00\n",
      "i_l_B2dc_B3dc_c_i =  0.00\n",
      "i_l_B2dc_B3dc_n_r =  0.00\n",
      "i_l_B2dc_B3dc_n_i =  0.00\n",
      "i_B4_a_r =  0.00\n",
      "i_B4_a_i =  0.00\n",
      "i_B4_b_r =  0.00\n",
      "i_B4_b_i =  0.00\n",
      "i_B4_c_r =  0.00\n",
      "i_B4_c_i =  0.00\n",
      "i_B4_n_r =  0.00\n",
      "i_B4_n_i =  0.00\n",
      "i_B2_a_r =  0.00\n",
      "i_B2_b_r =  0.00\n",
      "i_B2_c_r =  0.00\n",
      "i_B2_a_i =  0.00\n",
      "i_B2_b_i =  0.00\n",
      "i_B2_c_i =  0.00\n",
      "p_B2dc =  0.00\n",
      "i_B3_a_r =  0.00\n",
      "i_B3_b_r =  0.00\n",
      "i_B3_c_r =  0.00\n",
      "i_B3_a_i =  0.00\n",
      "i_B3_b_i =  0.00\n",
      "i_B3_c_i =  0.00\n",
      "p_B3dc =  0.00\n",
      "i_B3dc_a_r =  0.00\n",
      "i_B3dc_n_r =  0.00\n"
     ]
    }
   ],
   "source": [
    "grid = grid_trafo_2bus_class()\n",
    "grid.initialization_tol = 1e-8\n",
    "grid.initialize([{'p_B3': 10e3,'q_B3':0.0,\n",
    "                  'p_B4_a':-20e3,'p_B4_b':-20e3,'p_B4_c':-20e3}],xy0='xy_0_dict.json', \n",
    "                   compile=False)\n",
    "gt_grid = gt.grid(grid)\n",
    "grid.report_y()"
   ]
  },
  {
   "cell_type": "code",
   "execution_count": 16,
   "metadata": {},
   "outputs": [
    {
     "data": {
      "text/html": [
       "\n",
       "\n",
       "\n",
       "\n",
       "\n",
       "\n",
       "  <div class=\"bk-root\" id=\"e7497d3b-a38c-487e-9765-fefc824cb573\" data-root-id=\"1145\"></div>\n"
      ]
     },
     "metadata": {},
     "output_type": "display_data"
    },
    {
     "data": {
      "application/javascript": [
       "(function(root) {\n",
       "  function embed_document(root) {\n",
       "    \n",
       "  var docs_json = {\"100b1e6f-6393-4d76-8c69-a1ec82174ecb\":{\"roots\":{\"references\":[{\"attributes\":{\"below\":[{\"id\":\"1156\"}],\"center\":[{\"id\":\"1159\"},{\"id\":\"1163\"}],\"left\":[{\"id\":\"1160\"}],\"plot_height\":400,\"renderers\":[{\"id\":\"1181\"},{\"id\":\"1187\"},{\"id\":\"1193\"}],\"title\":{\"id\":\"1146\"},\"toolbar\":{\"id\":\"1170\"},\"x_range\":{\"id\":\"1148\"},\"x_scale\":{\"id\":\"1152\"},\"y_range\":{\"id\":\"1150\"},\"y_scale\":{\"id\":\"1154\"}},\"id\":\"1145\",\"subtype\":\"Figure\",\"type\":\"Plot\"},{\"attributes\":{},\"id\":\"1157\",\"type\":\"BasicTicker\"},{\"attributes\":{},\"id\":\"1217\",\"type\":\"BasicTickFormatter\"},{\"attributes\":{\"axis\":{\"id\":\"1156\"},\"ticker\":null},\"id\":\"1159\",\"type\":\"Grid\"},{\"attributes\":{\"line_alpha\":{\"value\":0.5},\"line_color\":{\"value\":\"red\"},\"line_width\":{\"value\":5},\"xs\":{\"field\":\"x_s\"},\"ys\":{\"field\":\"y_s\"}},\"id\":\"1185\",\"type\":\"MultiLine\"},{\"attributes\":{\"callback\":null,\"renderers\":[{\"id\":\"1193\"}],\"tooltips\":\"\\n            <div>\\n            bus_id = @bus_id &nbsp &nbsp |  u<sub>avg</sub>= @u_avg_pu pu |  u<sub>unb</sub>= @v_unb %\\n            <table border=\\\"1\\\">\\n                <tr>\\n                <td>v<sub>an</sub> =  @v_an  &ang; @deg_an V </td> <td> S<sub>a</sub> = @p_a + j@q_a kVA</td>\\n                </tr>\\n                      <tr>\\n                      <td> </td> <td>v<sub>ab</sub>= @v_ab V</td>\\n                      </tr>\\n                <tr>\\n                <td>v<sub>bn</sub> = @v_bn &ang; @deg_bn V </td><td> S<sub>b</sub> = @p_b + j@q_b kVA</td>\\n                </tr>\\n                      <tr>\\n                      <td> </td><td>v<sub>bc</sub>= @v_bc V</td>\\n                      </tr>\\n                <tr>\\n                <td>v<sub>cn</sub>  = @v_cn &ang; @deg_cn V </td>  <td>S<sub>c</sub> = @p_c + j@q_c kVA </td>\\n                </tr> \\n                    <tr>\\n                     <td> </td> <td>v<sub>ca</sub>= @v_ca V</td>\\n                    </tr>\\n               <tr>\\n                <td>v<sub>ng</sub>    = @v_ng &ang; @deg_ng V</td>  <td>S<sub>abc</sub> = @p_abc + j@q_abc kVA </td>\\n              </tr>\\n            </table>\\n            </div>\\n            \"},\"id\":\"1199\",\"type\":\"HoverTool\"},{\"attributes\":{},\"id\":\"1154\",\"type\":\"LinearScale\"},{\"attributes\":{\"callback\":null,\"renderers\":[{\"id\":\"1181\"}],\"tooltips\":\"\\n            <div>\\n            transformer id = @trafo_id  \\n            <table border=\\\"5\\\">\\n                <tr >\\n                    <td>I<sub>1a</sub> =  @i_1a_m &ang; @deg_1a </td>\\n                    <td>I<sub>2a</sub> =  @i_2a_m &ang; @deg_2a </td>\\n                </tr>\\n                <tr>\\n                    <td >I<sub>1b</sub> =  @i_1b_m &ang; @deg_1b </td>\\n                    <td >I<sub>2b</sub> =  @i_2b_m &ang; @deg_2b </td>\\n                </tr>\\n                <tr>\\n                    <td >I<sub>1c</sub> =  @i_1c_m &ang; @deg_1c </td>\\n                    <td >I<sub>2c</sub> =  @i_2c_m &ang; @deg_2c </td>\\n                </tr>\\n                <tr>\\n                    <td >I<sub>1n</sub> =  @i_1n_m &ang; @deg_1n </td>\\n                    <td >I<sub>2n</sub> =  @i_2n_m &ang; @deg_2n </td>\\n                </tr>\\n            </table>            \\n            </div>\\n            \"},\"id\":\"1195\",\"type\":\"HoverTool\"},{\"attributes\":{},\"id\":\"1223\",\"type\":\"Selection\"},{\"attributes\":{\"axis\":{\"id\":\"1160\"},\"dimension\":1,\"ticker\":null},\"id\":\"1163\",\"type\":\"Grid\"},{\"attributes\":{},\"id\":\"1218\",\"type\":\"UnionRenderers\"},{\"attributes\":{},\"id\":\"1165\",\"type\":\"WheelZoomTool\"},{\"attributes\":{\"formatter\":{\"id\":\"1215\"},\"ticker\":{\"id\":\"1157\"}},\"id\":\"1156\",\"type\":\"LinearAxis\"},{\"attributes\":{\"data_source\":{\"id\":\"1189\"},\"glyph\":{\"id\":\"1191\"},\"hover_glyph\":null,\"muted_glyph\":null,\"nonselection_glyph\":{\"id\":\"1192\"},\"selection_glyph\":null,\"view\":{\"id\":\"1194\"}},\"id\":\"1193\",\"type\":\"GlyphRenderer\"},{\"attributes\":{},\"id\":\"1219\",\"type\":\"Selection\"},{\"attributes\":{},\"id\":\"1215\",\"type\":\"BasicTickFormatter\"},{\"attributes\":{\"data\":{\"bus_id\":[\"B1\",\"B2\",\"B3\",\"B4\",\"B2dc\",\"B3dc\"],\"deg_an\":[\"0.00\",\"-30.14\",\"-30.41\",\"-30.42\",\"0.00\",\"0.00\"],\"deg_bn\":[\"-120.00\",\"-150.14\",\"-150.49\",\"-150.51\",\"180.00\",\"180.00\"],\"deg_cn\":[\"120.00\",\"89.86\",\"89.60\",\"89.58\",\"180.00\",\"180.00\"],\"deg_ng\":[\"0.00\",\"-60.98\",\"-58.87\",\"-58.93\",\"0.00\",\"0.00\"],\"p_a\":[\"20.30\",\"-3.40\",\"3.33\",\"-20.00\",\"5.05\",\"-10.09\"],\"p_abc\":[\"60.78\",\"-10.19\",\"10.00\",\"-60.00\",\"5.05\",\"-10.09\"],\"p_b\":[\"20.23\",\"-3.40\",\"3.33\",\"-20.00\",\"0.00\",\"0.00\"],\"p_c\":[\"20.26\",\"-3.40\",\"3.34\",\"-20.00\",\"0.00\",\"0.00\"],\"q_a\":[\"0.16\",\"-0.00\",\"0.00\",\"0.00\",\"0.00\",\"-0.00\"],\"q_abc\":[\"0.43\",\"-0.00\",\"-0.00\",\"0.00\",\"0.00\",\"0.00\"],\"q_b\":[\"0.16\",\"0.00\",\"-0.00\",\"-0.00\",\"0.00\",\"0.00\"],\"q_c\":[\"0.10\",\"-0.00\",\"0.00\",\"-0.00\",\"0.00\",\"0.00\"],\"s_color\":[\"red\",\"green\",\"red\",\"green\",\"red\",\"green\"],\"s_radio\":[2.4654717556233603,1.0095311563853278,1,2.4494897427801945,1,1.0045892204556655],\"u_avg_pu\":[\"1.000\",\"0.999\",\"0.989\",\"0.989\",\"1.155\",\"1.155\"],\"v_ab\":[19999.99067499782,399.7496369338439,395.31624298472576,395.0506250689933,800.0,799.733646228528],\"v_an\":[\"11547.00\",\"230.80\",\"227.86\",\"227.68\",\"800.00\",\"799.47\"],\"v_an_pu\":[\"1.0000\",\"0.9994\",\"0.9866\",\"0.9859\",\"3.4641\",\"3.4618\"],\"v_bc\":[19999.990674997825,399.75052507604374,395.9764735492747,395.750274681022,0.0,3.00272473371622e-27],\"v_bn\":[\"11547.00\",\"230.80\",\"228.43\",\"228.29\",\"0.00\",\"0.27\"],\"v_bn_pu\":[\"1.0000\",\"0.9994\",\"0.9891\",\"0.9885\",\"0.0000\",\"0.0012\"],\"v_ca\":[19999.99067499783,399.7529246023426,395.654886411737,395.4094743390086,800.0,799.733646228528],\"v_cn\":[\"11547.00\",\"230.80\",\"229.00\",\"228.89\",\"0.00\",\"0.27\"],\"v_cn_pu\":[\"1.0000\",\"0.9994\",\"0.9916\",\"0.9911\",\"0.0000\",\"0.0012\"],\"v_ng\":[\"0.00\",\"0.00\",\"0.33\",\"0.35\",\"0.00\",\"0.27\"],\"v_unb\":[\"0.0\",\"0.0\",\"0.3\",\"0.3\",\"200.0\",\"199.8\"],\"x\":[0,10,100,120,10,100],\"y\":[0,0,0,0,-50,-50]},\"selected\":{\"id\":\"1223\"},\"selection_policy\":{\"id\":\"1222\"}},\"id\":\"1189\",\"type\":\"ColumnDataSource\"},{\"attributes\":{\"source\":{\"id\":\"1189\"}},\"id\":\"1194\",\"type\":\"CDSView\"},{\"attributes\":{},\"id\":\"1221\",\"type\":\"Selection\"},{\"attributes\":{\"source\":{\"id\":\"1183\"}},\"id\":\"1188\",\"type\":\"CDSView\"},{\"attributes\":{\"data\":{\"deg_1a\":[-0.45965160171824987],\"deg_1b\":[-120.45700488809312],\"deg_1c\":[119.71000912101256],\"deg_1n\":[-135.0],\"deg_2a\":[149.62726672338502],\"deg_2b\":[29.534839871034137],\"deg_2c\":[-90.36874552948994],\"deg_2n\":[-30.41961030062846],\"i_1a_m\":[1.7576797329838865],\"i_1b_m\":[1.7517264665293895],\"i_1c_m\":[1.7547808700004086],\"i_1n_m\":[2.0097183471152322e-14],\"i_2a_m\":[87.95137985516718],\"i_2b_m\":[87.73479321074223],\"i_2c_m\":[87.52300742365249],\"i_2n_m\":[73.23215218374341],\"trafo_id\":[\"B1-B2\"],\"x_s\":[[0,10]],\"y_s\":[[0,0]]},\"selected\":{\"id\":\"1219\"},\"selection_policy\":{\"id\":\"1218\"}},\"id\":\"1177\",\"type\":\"ColumnDataSource\"},{\"attributes\":{},\"id\":\"1164\",\"type\":\"PanTool\"},{\"attributes\":{\"data_source\":{\"id\":\"1183\"},\"glyph\":{\"id\":\"1185\"},\"hover_glyph\":null,\"muted_glyph\":null,\"nonselection_glyph\":{\"id\":\"1186\"},\"selection_glyph\":null,\"view\":{\"id\":\"1188\"}},\"id\":\"1187\",\"type\":\"GlyphRenderer\"},{\"attributes\":{},\"id\":\"1220\",\"type\":\"UnionRenderers\"},{\"attributes\":{\"formatter\":{\"id\":\"1217\"},\"ticker\":{\"id\":\"1161\"}},\"id\":\"1160\",\"type\":\"LinearAxis\"},{\"attributes\":{\"fill_alpha\":{\"value\":0.1},\"fill_color\":{\"value\":\"navy\"},\"line_alpha\":{\"value\":0.1},\"line_color\":{\"value\":\"navy\"},\"size\":{\"units\":\"screen\",\"value\":15},\"x\":{\"field\":\"x\"},\"y\":{\"field\":\"y\"}},\"id\":\"1192\",\"type\":\"Circle\"},{\"attributes\":{},\"id\":\"1167\",\"type\":\"SaveTool\"},{\"attributes\":{},\"id\":\"1161\",\"type\":\"BasicTicker\"},{\"attributes\":{},\"id\":\"1169\",\"type\":\"HelpTool\"},{\"attributes\":{},\"id\":\"1148\",\"type\":\"DataRange1d\"},{\"attributes\":{\"fill_alpha\":{\"value\":0.5},\"fill_color\":{\"value\":\"navy\"},\"line_alpha\":{\"value\":0.5},\"line_color\":{\"value\":\"navy\"},\"size\":{\"units\":\"screen\",\"value\":15},\"x\":{\"field\":\"x\"},\"y\":{\"field\":\"y\"}},\"id\":\"1191\",\"type\":\"Circle\"},{\"attributes\":{\"text\":\"Results\"},\"id\":\"1146\",\"type\":\"Title\"},{\"attributes\":{\"active_drag\":\"auto\",\"active_inspect\":\"auto\",\"active_multi\":null,\"active_scroll\":\"auto\",\"active_tap\":\"auto\",\"tools\":[{\"id\":\"1164\"},{\"id\":\"1165\"},{\"id\":\"1166\"},{\"id\":\"1167\"},{\"id\":\"1168\"},{\"id\":\"1169\"},{\"id\":\"1195\"},{\"id\":\"1197\"},{\"id\":\"1199\"}]},\"id\":\"1170\",\"type\":\"Toolbar\"},{\"attributes\":{\"source\":{\"id\":\"1177\"}},\"id\":\"1182\",\"type\":\"CDSView\"},{\"attributes\":{\"data\":{\"deg_j_a\":[-30.41961030062846,-30.42424997581451,0.0],\"deg_j_b\":[-150.5308897655834,-150.51008296409762,180.0],\"deg_j_c\":[89.58477106079307,89.57932178164026,180.0],\"deg_j_n\":[118.94329849811866,118.94329852100459,180.0],\"deg_k_a\":[-30.41961030062846,-30.42424997581451,0.0],\"deg_k_b\":[-150.5308897655834,-150.51008296409762,180.0],\"deg_k_c\":[89.58477106079307,89.57932178164026,180.0],\"deg_k_n\":[118.94329849811866,118.94329852100459,180.0],\"i_j_a_m\":[73.23215218374341,87.84263231484813,6.311700745780399],\"i_j_b_m\":[73.01567000641933,87.60859757949522,6.779224831855486e-25],\"i_j_c_m\":[72.80382220690376,87.37787252463767,7.49077097728587e-25],\"i_j_n_m\":[0.26854316121678373,0.2685431611945219,6.311700745940466],\"i_k_a_m\":[73.23215218374341,87.84263231484813,6.311700745780399],\"i_k_b_m\":[73.01567000641933,87.60859757949522,6.779224831855486e-25],\"i_k_c_m\":[72.80382220690376,87.37787252463767,7.49077097728587e-25],\"i_k_n_m\":[0.26854316121678373,0.2685431611945219,6.311700745940466],\"line_id\":[\"B2-B3\",\"B3-B4\",\"B2dc-B3dc\"],\"x_s\":[[10,100],[100,120],[10,100]],\"y_s\":[[0,0],[0,0],[-50,-50]]},\"selected\":{\"id\":\"1221\"},\"selection_policy\":{\"id\":\"1220\"}},\"id\":\"1183\",\"type\":\"ColumnDataSource\"},{\"attributes\":{\"line_alpha\":{\"value\":0.1},\"line_color\":{\"value\":\"red\"},\"line_width\":{\"value\":5},\"xs\":{\"field\":\"x_s\"},\"ys\":{\"field\":\"y_s\"}},\"id\":\"1186\",\"type\":\"MultiLine\"},{\"attributes\":{},\"id\":\"1222\",\"type\":\"UnionRenderers\"},{\"attributes\":{},\"id\":\"1152\",\"type\":\"LinearScale\"},{\"attributes\":{\"line_alpha\":{\"value\":0.1},\"line_color\":{\"value\":\"green\"},\"line_width\":{\"value\":5},\"xs\":{\"field\":\"x_s\"},\"ys\":{\"field\":\"y_s\"}},\"id\":\"1180\",\"type\":\"MultiLine\"},{\"attributes\":{\"overlay\":{\"id\":\"1224\"}},\"id\":\"1166\",\"type\":\"BoxZoomTool\"},{\"attributes\":{},\"id\":\"1150\",\"type\":\"DataRange1d\"},{\"attributes\":{},\"id\":\"1168\",\"type\":\"ResetTool\"},{\"attributes\":{\"callback\":null,\"renderers\":[{\"id\":\"1187\"}],\"tooltips\":\"\\n            <div>\\n            line id = @line_id \\n            <table border=\\\"5\\\">\\n                <tr >\\n                    <td>I<sub>ja</sub> =  @i_j_a_m &ang; @deg_j_a </td>\\n                    <td>I<sub>ka</sub> =  @i_k_a_m &ang; @deg_k_a </td>\\n                </tr>\\n                <tr>\\n                    <td >I<sub>jb</sub> =  @i_j_b_m &ang; @deg_j_b </td>\\n                    <td >I<sub>kb</sub> =  @i_k_b_m &ang; @deg_k_b </td>\\n                </tr>\\n                <tr>\\n                    <td >I<sub>jc</sub> =  @i_j_c_m &ang; @deg_j_c </td>\\n                    <td >I<sub>kc</sub> =  @i_k_c_m &ang; @deg_k_c </td>\\n                </tr>\\n                <tr>\\n                    <td >I<sub>jn</sub> =  @i_j_n_m &ang; @deg_j_n </td>\\n                    <td >I<sub>kn</sub> =  @i_k_n_m &ang; @deg_k_n </td>\\n                </tr>\\n            </table>            \\n            </div>\\n            \"},\"id\":\"1197\",\"type\":\"HoverTool\"},{\"attributes\":{\"data_source\":{\"id\":\"1177\"},\"glyph\":{\"id\":\"1179\"},\"hover_glyph\":null,\"muted_glyph\":null,\"nonselection_glyph\":{\"id\":\"1180\"},\"selection_glyph\":null,\"view\":{\"id\":\"1182\"}},\"id\":\"1181\",\"type\":\"GlyphRenderer\"},{\"attributes\":{\"line_alpha\":{\"value\":0.5},\"line_color\":{\"value\":\"green\"},\"line_width\":{\"value\":5},\"xs\":{\"field\":\"x_s\"},\"ys\":{\"field\":\"y_s\"}},\"id\":\"1179\",\"type\":\"MultiLine\"},{\"attributes\":{\"bottom_units\":\"screen\",\"fill_alpha\":0.5,\"fill_color\":\"lightgrey\",\"left_units\":\"screen\",\"level\":\"overlay\",\"line_alpha\":1.0,\"line_color\":\"black\",\"line_dash\":[4,4],\"line_width\":2,\"render_mode\":\"css\",\"right_units\":\"screen\",\"top_units\":\"screen\"},\"id\":\"1224\",\"type\":\"BoxAnnotation\"}],\"root_ids\":[\"1145\"]},\"title\":\"Bokeh Application\",\"version\":\"2.0.0\"}};\n",
       "  var render_items = [{\"docid\":\"100b1e6f-6393-4d76-8c69-a1ec82174ecb\",\"root_ids\":[\"1145\"],\"roots\":{\"1145\":\"e7497d3b-a38c-487e-9765-fefc824cb573\"}}];\n",
       "  root.Bokeh.embed.embed_items_notebook(docs_json, render_items);\n",
       "\n",
       "  }\n",
       "  if (root.Bokeh !== undefined) {\n",
       "    embed_document(root);\n",
       "  } else {\n",
       "    var attempts = 0;\n",
       "    var timer = setInterval(function(root) {\n",
       "      if (root.Bokeh !== undefined) {\n",
       "        clearInterval(timer);\n",
       "        embed_document(root);\n",
       "      } else {\n",
       "        attempts++;\n",
       "        if (attempts > 100) {\n",
       "          clearInterval(timer);\n",
       "          console.log(\"Bokeh: ERROR: Unable to run BokehJS code because BokehJS library is missing\");\n",
       "        }\n",
       "      }\n",
       "    }, 10, root)\n",
       "  }\n",
       "})(window);"
      ],
      "application/vnd.bokehjs_exec.v0+json": ""
     },
     "metadata": {
      "application/vnd.bokehjs_exec.v0+json": {
       "id": "1145"
      }
     },
     "output_type": "display_data"
    },
    {
     "data": {
      "text/html": [
       "<div style=\"display: table;\"><div style=\"display: table-row;\"><div style=\"display: table-cell;\"><b title=\"bokeh.plotting.figure.Figure\">Figure</b>(</div><div style=\"display: table-cell;\">id&nbsp;=&nbsp;'1145', <span id=\"1298\" style=\"cursor: pointer;\">&hellip;)</span></div></div><div class=\"1297\" style=\"display: none;\"><div style=\"display: table-cell;\"></div><div style=\"display: table-cell;\">above&nbsp;=&nbsp;[],</div></div><div class=\"1297\" style=\"display: none;\"><div style=\"display: table-cell;\"></div><div style=\"display: table-cell;\">align&nbsp;=&nbsp;'start',</div></div><div class=\"1297\" style=\"display: none;\"><div style=\"display: table-cell;\"></div><div style=\"display: table-cell;\">aspect_ratio&nbsp;=&nbsp;None,</div></div><div class=\"1297\" style=\"display: none;\"><div style=\"display: table-cell;\"></div><div style=\"display: table-cell;\">aspect_scale&nbsp;=&nbsp;1,</div></div><div class=\"1297\" style=\"display: none;\"><div style=\"display: table-cell;\"></div><div style=\"display: table-cell;\">background&nbsp;=&nbsp;None,</div></div><div class=\"1297\" style=\"display: none;\"><div style=\"display: table-cell;\"></div><div style=\"display: table-cell;\">background_fill_alpha&nbsp;=&nbsp;1.0,</div></div><div class=\"1297\" style=\"display: none;\"><div style=\"display: table-cell;\"></div><div style=\"display: table-cell;\">background_fill_color&nbsp;=&nbsp;'#ffffff',</div></div><div class=\"1297\" style=\"display: none;\"><div style=\"display: table-cell;\"></div><div style=\"display: table-cell;\">below&nbsp;=&nbsp;[LinearAxis(id='1156', ...)],</div></div><div class=\"1297\" style=\"display: none;\"><div style=\"display: table-cell;\"></div><div style=\"display: table-cell;\">border_fill_alpha&nbsp;=&nbsp;1.0,</div></div><div class=\"1297\" style=\"display: none;\"><div style=\"display: table-cell;\"></div><div style=\"display: table-cell;\">border_fill_color&nbsp;=&nbsp;'#ffffff',</div></div><div class=\"1297\" style=\"display: none;\"><div style=\"display: table-cell;\"></div><div style=\"display: table-cell;\">center&nbsp;=&nbsp;[Grid(id='1159', ...), Grid(id='1163', ...)],</div></div><div class=\"1297\" style=\"display: none;\"><div style=\"display: table-cell;\"></div><div style=\"display: table-cell;\">css_classes&nbsp;=&nbsp;[],</div></div><div class=\"1297\" style=\"display: none;\"><div style=\"display: table-cell;\"></div><div style=\"display: table-cell;\">disabled&nbsp;=&nbsp;False,</div></div><div class=\"1297\" style=\"display: none;\"><div style=\"display: table-cell;\"></div><div style=\"display: table-cell;\">extra_x_ranges&nbsp;=&nbsp;{},</div></div><div class=\"1297\" style=\"display: none;\"><div style=\"display: table-cell;\"></div><div style=\"display: table-cell;\">extra_y_ranges&nbsp;=&nbsp;{},</div></div><div class=\"1297\" style=\"display: none;\"><div style=\"display: table-cell;\"></div><div style=\"display: table-cell;\">frame_height&nbsp;=&nbsp;None,</div></div><div class=\"1297\" style=\"display: none;\"><div style=\"display: table-cell;\"></div><div style=\"display: table-cell;\">frame_width&nbsp;=&nbsp;None,</div></div><div class=\"1297\" style=\"display: none;\"><div style=\"display: table-cell;\"></div><div style=\"display: table-cell;\">height&nbsp;=&nbsp;None,</div></div><div class=\"1297\" style=\"display: none;\"><div style=\"display: table-cell;\"></div><div style=\"display: table-cell;\">height_policy&nbsp;=&nbsp;'auto',</div></div><div class=\"1297\" style=\"display: none;\"><div style=\"display: table-cell;\"></div><div style=\"display: table-cell;\">hidpi&nbsp;=&nbsp;True,</div></div><div class=\"1297\" style=\"display: none;\"><div style=\"display: table-cell;\"></div><div style=\"display: table-cell;\">js_event_callbacks&nbsp;=&nbsp;{},</div></div><div class=\"1297\" style=\"display: none;\"><div style=\"display: table-cell;\"></div><div style=\"display: table-cell;\">js_property_callbacks&nbsp;=&nbsp;{},</div></div><div class=\"1297\" style=\"display: none;\"><div style=\"display: table-cell;\"></div><div style=\"display: table-cell;\">left&nbsp;=&nbsp;[LinearAxis(id='1160', ...)],</div></div><div class=\"1297\" style=\"display: none;\"><div style=\"display: table-cell;\"></div><div style=\"display: table-cell;\">lod_factor&nbsp;=&nbsp;10,</div></div><div class=\"1297\" style=\"display: none;\"><div style=\"display: table-cell;\"></div><div style=\"display: table-cell;\">lod_interval&nbsp;=&nbsp;300,</div></div><div class=\"1297\" style=\"display: none;\"><div style=\"display: table-cell;\"></div><div style=\"display: table-cell;\">lod_threshold&nbsp;=&nbsp;2000,</div></div><div class=\"1297\" style=\"display: none;\"><div style=\"display: table-cell;\"></div><div style=\"display: table-cell;\">lod_timeout&nbsp;=&nbsp;500,</div></div><div class=\"1297\" style=\"display: none;\"><div style=\"display: table-cell;\"></div><div style=\"display: table-cell;\">margin&nbsp;=&nbsp;(0, 0, 0, 0),</div></div><div class=\"1297\" style=\"display: none;\"><div style=\"display: table-cell;\"></div><div style=\"display: table-cell;\">match_aspect&nbsp;=&nbsp;False,</div></div><div class=\"1297\" style=\"display: none;\"><div style=\"display: table-cell;\"></div><div style=\"display: table-cell;\">max_height&nbsp;=&nbsp;None,</div></div><div class=\"1297\" style=\"display: none;\"><div style=\"display: table-cell;\"></div><div style=\"display: table-cell;\">max_width&nbsp;=&nbsp;None,</div></div><div class=\"1297\" style=\"display: none;\"><div style=\"display: table-cell;\"></div><div style=\"display: table-cell;\">min_border&nbsp;=&nbsp;5,</div></div><div class=\"1297\" style=\"display: none;\"><div style=\"display: table-cell;\"></div><div style=\"display: table-cell;\">min_border_bottom&nbsp;=&nbsp;None,</div></div><div class=\"1297\" style=\"display: none;\"><div style=\"display: table-cell;\"></div><div style=\"display: table-cell;\">min_border_left&nbsp;=&nbsp;None,</div></div><div class=\"1297\" style=\"display: none;\"><div style=\"display: table-cell;\"></div><div style=\"display: table-cell;\">min_border_right&nbsp;=&nbsp;None,</div></div><div class=\"1297\" style=\"display: none;\"><div style=\"display: table-cell;\"></div><div style=\"display: table-cell;\">min_border_top&nbsp;=&nbsp;None,</div></div><div class=\"1297\" style=\"display: none;\"><div style=\"display: table-cell;\"></div><div style=\"display: table-cell;\">min_height&nbsp;=&nbsp;None,</div></div><div class=\"1297\" style=\"display: none;\"><div style=\"display: table-cell;\"></div><div style=\"display: table-cell;\">min_width&nbsp;=&nbsp;None,</div></div><div class=\"1297\" style=\"display: none;\"><div style=\"display: table-cell;\"></div><div style=\"display: table-cell;\">name&nbsp;=&nbsp;None,</div></div><div class=\"1297\" style=\"display: none;\"><div style=\"display: table-cell;\"></div><div style=\"display: table-cell;\">outline_line_alpha&nbsp;=&nbsp;1.0,</div></div><div class=\"1297\" style=\"display: none;\"><div style=\"display: table-cell;\"></div><div style=\"display: table-cell;\">outline_line_cap&nbsp;=&nbsp;'butt',</div></div><div class=\"1297\" style=\"display: none;\"><div style=\"display: table-cell;\"></div><div style=\"display: table-cell;\">outline_line_color&nbsp;=&nbsp;'#e5e5e5',</div></div><div class=\"1297\" style=\"display: none;\"><div style=\"display: table-cell;\"></div><div style=\"display: table-cell;\">outline_line_dash&nbsp;=&nbsp;[],</div></div><div class=\"1297\" style=\"display: none;\"><div style=\"display: table-cell;\"></div><div style=\"display: table-cell;\">outline_line_dash_offset&nbsp;=&nbsp;0,</div></div><div class=\"1297\" style=\"display: none;\"><div style=\"display: table-cell;\"></div><div style=\"display: table-cell;\">outline_line_join&nbsp;=&nbsp;'bevel',</div></div><div class=\"1297\" style=\"display: none;\"><div style=\"display: table-cell;\"></div><div style=\"display: table-cell;\">outline_line_width&nbsp;=&nbsp;1,</div></div><div class=\"1297\" style=\"display: none;\"><div style=\"display: table-cell;\"></div><div style=\"display: table-cell;\">output_backend&nbsp;=&nbsp;'canvas',</div></div><div class=\"1297\" style=\"display: none;\"><div style=\"display: table-cell;\"></div><div style=\"display: table-cell;\">plot_height&nbsp;=&nbsp;400,</div></div><div class=\"1297\" style=\"display: none;\"><div style=\"display: table-cell;\"></div><div style=\"display: table-cell;\">plot_width&nbsp;=&nbsp;600,</div></div><div class=\"1297\" style=\"display: none;\"><div style=\"display: table-cell;\"></div><div style=\"display: table-cell;\">renderers&nbsp;=&nbsp;[GlyphRenderer(id='1181', ...), GlyphRenderer(id='1187', ...), GlyphRenderer(id='1193', ...)],</div></div><div class=\"1297\" style=\"display: none;\"><div style=\"display: table-cell;\"></div><div style=\"display: table-cell;\">reset_policy&nbsp;=&nbsp;'standard',</div></div><div class=\"1297\" style=\"display: none;\"><div style=\"display: table-cell;\"></div><div style=\"display: table-cell;\">right&nbsp;=&nbsp;[],</div></div><div class=\"1297\" style=\"display: none;\"><div style=\"display: table-cell;\"></div><div style=\"display: table-cell;\">sizing_mode&nbsp;=&nbsp;None,</div></div><div class=\"1297\" style=\"display: none;\"><div style=\"display: table-cell;\"></div><div style=\"display: table-cell;\">subscribed_events&nbsp;=&nbsp;[],</div></div><div class=\"1297\" style=\"display: none;\"><div style=\"display: table-cell;\"></div><div style=\"display: table-cell;\">tags&nbsp;=&nbsp;[],</div></div><div class=\"1297\" style=\"display: none;\"><div style=\"display: table-cell;\"></div><div style=\"display: table-cell;\">title&nbsp;=&nbsp;Title(id='1146', ...),</div></div><div class=\"1297\" style=\"display: none;\"><div style=\"display: table-cell;\"></div><div style=\"display: table-cell;\">title_location&nbsp;=&nbsp;'above',</div></div><div class=\"1297\" style=\"display: none;\"><div style=\"display: table-cell;\"></div><div style=\"display: table-cell;\">toolbar&nbsp;=&nbsp;Toolbar(id='1170', ...),</div></div><div class=\"1297\" style=\"display: none;\"><div style=\"display: table-cell;\"></div><div style=\"display: table-cell;\">toolbar_location&nbsp;=&nbsp;'right',</div></div><div class=\"1297\" style=\"display: none;\"><div style=\"display: table-cell;\"></div><div style=\"display: table-cell;\">toolbar_sticky&nbsp;=&nbsp;True,</div></div><div class=\"1297\" style=\"display: none;\"><div style=\"display: table-cell;\"></div><div style=\"display: table-cell;\">visible&nbsp;=&nbsp;True,</div></div><div class=\"1297\" style=\"display: none;\"><div style=\"display: table-cell;\"></div><div style=\"display: table-cell;\">width&nbsp;=&nbsp;None,</div></div><div class=\"1297\" style=\"display: none;\"><div style=\"display: table-cell;\"></div><div style=\"display: table-cell;\">width_policy&nbsp;=&nbsp;'auto',</div></div><div class=\"1297\" style=\"display: none;\"><div style=\"display: table-cell;\"></div><div style=\"display: table-cell;\">x_range&nbsp;=&nbsp;DataRange1d(id='1148', ...),</div></div><div class=\"1297\" style=\"display: none;\"><div style=\"display: table-cell;\"></div><div style=\"display: table-cell;\">x_scale&nbsp;=&nbsp;LinearScale(id='1152', ...),</div></div><div class=\"1297\" style=\"display: none;\"><div style=\"display: table-cell;\"></div><div style=\"display: table-cell;\">y_range&nbsp;=&nbsp;DataRange1d(id='1150', ...),</div></div><div class=\"1297\" style=\"display: none;\"><div style=\"display: table-cell;\"></div><div style=\"display: table-cell;\">y_scale&nbsp;=&nbsp;LinearScale(id='1154', ...))</div></div></div>\n",
       "<script>\n",
       "(function() {\n",
       "  var expanded = false;\n",
       "  var ellipsis = document.getElementById(\"1298\");\n",
       "  ellipsis.addEventListener(\"click\", function() {\n",
       "    var rows = document.getElementsByClassName(\"1297\");\n",
       "    for (var i = 0; i < rows.length; i++) {\n",
       "      var el = rows[i];\n",
       "      el.style.display = expanded ? \"none\" : \"table-row\";\n",
       "    }\n",
       "    ellipsis.innerHTML = expanded ? \"&hellip;)\" : \"&lsaquo;&lsaquo;&lsaquo;\";\n",
       "    expanded = !expanded;\n",
       "  });\n",
       "})();\n",
       "</script>\n"
      ],
      "text/plain": [
       "Figure(id='1145', ...)"
      ]
     },
     "execution_count": 16,
     "metadata": {},
     "output_type": "execute_result"
    }
   ],
   "source": [
    "gt_grid.dae2vi()\n",
    "gt_grid.get_v()\n",
    "gt_grid.get_i()\n",
    "\n",
    "gt_grid.bokeh_tools()\n",
    "\n",
    "gt.plot_results(gt_grid)"
   ]
  },
  {
   "cell_type": "code",
   "execution_count": 17,
   "metadata": {},
   "outputs": [],
   "source": [
    "grid = grid_trafo_2bus_class()\n",
    "\n",
    "def obj_eval(x):\n",
    "    p_B3 = x[0]\n",
    "    p_B4 = -60e3\n",
    "    grid.initialization_tol = 1e-8\n",
    "    grid.initialize([{'p_B3': p_B3,'q_B3':0.0,\n",
    "                      'p_B4_a':p_B4/3,'p_B4_b':p_B4/3,'p_B4_c':p_B4/3}],xy0='xy_0_dict.json')\n",
    "\n",
    "    bus_from,bus_to = 'B1','B2'\n",
    "    i_t_r_list = []\n",
    "    i_t_i_list = []\n",
    "    for ph in ['a','b','c']:\n",
    "        i_t_r_list += [f'i_t_{bus_from}_{bus_to}_{ph}_r']\n",
    "        i_t_i_list += [f'i_t_{bus_from}_{bus_to}_{ph}_i']\n",
    "    i_t = np.array(grid.get_mvalue(i_t_r_list)) +1j*np.array(grid.get_mvalue(i_t_i_list))\n",
    "\n",
    "    v_t = gt.get_voltage(grid,'B1',output='v_abcn')\n",
    "\n",
    "    s_t = v_t.T @ np.conj(i_t).reshape(3,1)\n",
    "\n",
    "    return float(s_t.real)\n"
   ]
  },
  {
   "cell_type": "code",
   "execution_count": 18,
   "metadata": {},
   "outputs": [],
   "source": [
    "p_loss_list = []\n",
    "p_dc = np.linspace(0,30e3,200)\n",
    "for p in p_dc:\n",
    "    p_loss_list += [obj_eval([p])] \n",
    "p_loss = np.array(p_loss_list)"
   ]
  },
  {
   "cell_type": "code",
   "execution_count": 19,
   "metadata": {},
   "outputs": [
    {
     "data": {
      "text/plain": [
       "[<matplotlib.lines.Line2D at 0x2218ba2d190>]"
      ]
     },
     "execution_count": 19,
     "metadata": {},
     "output_type": "execute_result"
    },
    {
     "data": {
      "image/png": "[encoded data removed]",
      "text/plain": [
       "<Figure size 504x504 with 2 Axes>"
      ]
     },
     "metadata": {
      "needs_background": "light"
     },
     "output_type": "display_data"
    }
   ],
   "source": [
    "fig,  axes   = plt.subplots(nrows=2,ncols=1, figsize=(7, 7))\n",
    "axes[0].plot(p_dc/1e3,p_loss)"
   ]
  },
  {
   "cell_type": "code",
   "execution_count": null,
   "metadata": {},
   "outputs": [],
   "source": []
  },
  {
   "cell_type": "code",
   "execution_count": null,
   "metadata": {},
   "outputs": [],
   "source": []
  },
  {
   "cell_type": "code",
   "execution_count": null,
   "metadata": {},
   "outputs": [],
   "source": []
  },
  {
   "cell_type": "code",
   "execution_count": null,
   "metadata": {},
   "outputs": [],
   "source": []
  },
  {
   "cell_type": "code",
   "execution_count": null,
   "metadata": {},
   "outputs": [],
   "source": []
  },
  {
   "cell_type": "code",
   "execution_count": null,
   "metadata": {},
   "outputs": [],
   "source": [
    "alpha = np.exp(2.0/3*np.pi*1j)\n",
    "A_0a =  np.array([[1, 1, 1],\n",
    "                  [1, alpha**2, alpha],\n",
    "                  [1, alpha, alpha**2]])\n",
    "\n",
    "A_a0 = 1/3*np.array([[1, 1, 1],\n",
    "                                     [1, alpha, alpha**2],\n",
    "                                     [1, alpha**2, alpha]])"
   ]
  },
  {
   "cell_type": "code",
   "execution_count": null,
   "metadata": {},
   "outputs": [],
   "source": [
    "grid = grid_trafo_2bus_class()\n",
    "grid.initialization_tol = 1e-7\n",
    "grid.initialize([{}],xy0='xy_0_dict.json')\n",
    "gt_grid = gt.grid(grid)\n",
    "\n",
    "p_ac_B2 = 0.0\n",
    "p_ac_B3   = 0.0\n",
    "p_ac_B3dc = 0.0\n",
    "p_B3_ac_f = 0.0\n",
    "p_B3_ac = 10e3\n",
    "for it in range(100):\n",
    "    \n",
    "    # ac/dc\n",
    "    gt_grid.dae2vi()\n",
    "    gt_grid.get_v()\n",
    "    gt_grid.get_i()\n",
    "    p_dc_B2dc = gt_grid.I_lines[15+3]*800\n",
    "    v_zpn = A_a0 @ gt.get_voltage(grid,'B2',output='v_abcn')\n",
    "    q_B2_ac = 0e3\n",
    "    p_B2_ac = p_dc_B2dc\n",
    "  \n",
    "    s_B2_ac = p_B2_ac + 1j*q_B2_ac\n",
    "    v_B2_abcn = gt.get_voltage(grid,'B2',output='v_abcn')\n",
    "    #s_zpn = np.array([0,s_ac[0],0]).reshape((3,1))\n",
    "    #i_zpn = np.conj(s_zpn/(3*v_zpn))\n",
    "    #i_abc = A_0a @ i_zpn\n",
    "    i_abc_B2 = np.conj(s_B2_ac / (3*v_B2_abcn))\n",
    "    bus_name = 'B2'\n",
    "    it1 = 0\n",
    "    for ph in ['a','b','c']:\n",
    "        #print(f'i_{bus_name}_{ph}_r',i_abc_B2[it1].real)\n",
    "        grid.set_value(f'i_{bus_name}_{ph}_r',i_abc_B2[it1].real)  \n",
    "        grid.set_value(f'i_{bus_name}_{ph}_i',i_abc_B2[it1].imag)  \n",
    "        it1 += 1\n",
    "        \n",
    "    # dc/ac\n",
    "    \n",
    "    p_B3_ac_f = p_B3_ac_f + 0.01*(p_B3_ac - p_B3_ac_f)\n",
    "    q_B3_ac = 0.0\n",
    "    s_B3_ac = p_B3_ac_f +1j*q_B3_ac\n",
    "    v_abcn = gt.get_voltage(grid,'B3',output='v_abcn')\n",
    "    #v_zpn = A_a0 @ v_abcn\n",
    "    #s_zpn = np.array([0,s_B3_ac,0]).reshape((3,1))\n",
    "    #i_zpn = np.conj(s_zpn/(3*v_zpn))\n",
    "    i_abc_B3 = np.conj(s_B3_ac / (3*v_abcn))\n",
    "    bus_name = 'B3'\n",
    "    it1 = 0\n",
    "    for ph in ['a','b','c']:\n",
    "        grid.set_value(f'i_{bus_name}_{ph}_r',i_abc_B3[it1].real)  \n",
    "        grid.set_value(f'i_{bus_name}_{ph}_i',i_abc_B3[it1].imag)  \n",
    "        it1 += 1\n",
    "    i_n = -np.sum(i_abc_B3)\n",
    "    grid.set_value(f'i_{bus_name}_n_r', i_n.real)  \n",
    "    grid.set_value(f'i_{bus_name}_n_i', i_n.imag)  \n",
    "        \n",
    "    v_dc = gt.get_voltage(grid,'B3dc',output='v_an')\n",
    "    p_ac = 0e3\n",
    "    p_dc = p_B3_ac\n",
    "    i_dc = -p_dc/v_dc\n",
    "    \n",
    "    bus_name = 'B3dc'\n",
    "    \n",
    "    grid.set_value(f'i_{bus_name}_a_r', i_dc.real)\n",
    "    grid.set_value(f'i_{bus_name}_a_i', 0.0)\n",
    "    grid.set_value(f'i_{bus_name}_n_r',-i_dc.real)\n",
    "    grid.set_value(f'i_{bus_name}_n_i',-0.0) \n",
    "    \n",
    "    grid.initialize([{'p_B4_a':0,'p_B4_b':0,'p_B4_c':0,\n",
    "                      'q_B4_a':0,'q_B4_b':0,'q_B4_c':0}],'prev')\n",
    "    \n",
    "    print(p_B3_ac_f)\n",
    "\n",
    "\n",
    "    "
   ]
  },
  {
   "cell_type": "code",
   "execution_count": null,
   "metadata": {},
   "outputs": [],
   "source": [
    "grid.report_u()"
   ]
  },
  {
   "cell_type": "code",
   "execution_count": 21,
   "metadata": {},
   "outputs": [
    {
     "data": {
      "text/plain": [
       "array([-12.50412381+0.j])"
      ]
     },
     "execution_count": 21,
     "metadata": {},
     "output_type": "execute_result"
    }
   ],
   "source": [
    "gt_grid.I_lines[15+3]"
   ]
  },
  {
   "cell_type": "code",
   "execution_count": 27,
   "metadata": {},
   "outputs": [
    {
     "data": {
      "text/plain": [
       "array([0.+0.j])"
      ]
     },
     "execution_count": 27,
     "metadata": {},
     "output_type": "execute_result"
    }
   ],
   "source": [
    "p_dc_B2dc"
   ]
  },
  {
   "cell_type": "code",
   "execution_count": null,
   "metadata": {},
   "outputs": [],
   "source": [
    "grid_gt.I_lines[11+3]"
   ]
  },
  {
   "cell_type": "code",
   "execution_count": 29,
   "metadata": {},
   "outputs": [
    {
     "data": {
      "text/plain": [
       "array([[2.67541750e-12],\n",
       "       [2.43300457e-12],\n",
       "       [2.13635991e-12],\n",
       "       [2.16483825e-10],\n",
       "       [4.06738396e-12],\n",
       "       [1.99594202e-10],\n",
       "       [3.74552843e-10],\n",
       "       [2.97848157e-10],\n",
       "       [1.18840093e-10],\n",
       "       [1.58501786e-10],\n",
       "       [1.24031068e-10],\n",
       "       [1.08325530e-11],\n",
       "       [2.17569263e-11],\n",
       "       [8.55441493e-12],\n",
       "       [7.59087891e-12],\n",
       "       [0.00000000e+00],\n",
       "       [0.00000000e+00],\n",
       "       [0.00000000e+00],\n",
       "       [0.00000000e+00],\n",
       "       [2.59159559e-10],\n",
       "       [0.00000000e+00]])"
      ]
     },
     "execution_count": 29,
     "metadata": {},
     "output_type": "execute_result"
    }
   ],
   "source": [
    "np.abs(gt_grid.I_lines)"
   ]
  },
  {
   "cell_type": "code",
   "execution_count": 24,
   "metadata": {},
   "outputs": [
    {
     "data": {
      "text/plain": [
       "array([[ 0.-0.j],\n",
       "       [-0.+0.j],\n",
       "       [ 0.+0.j]])"
      ]
     },
     "execution_count": 24,
     "metadata": {},
     "output_type": "execute_result"
    }
   ],
   "source": [
    "i_abc_B2"
   ]
  },
  {
   "cell_type": "code",
   "execution_count": 3,
   "metadata": {},
   "outputs": [
    {
     "data": {
      "text/plain": [
       "'2.0.0'"
      ]
     },
     "execution_count": 3,
     "metadata": {},
     "output_type": "execute_result"
    }
   ],
   "source": [
    "bokeh.__version__"
   ]
  },
  {
   "cell_type": "code",
   "execution_count": null,
   "metadata": {},
   "outputs": [],
   "source": []
  }
 ],
 "metadata": {
  "kernelspec": {
   "display_name": "Python 3",
   "language": "python",
   "name": "python3"
  },
  "language_info": {
   "codemirror_mode": {
    "name": "ipython",
    "version": 3
   },
   "file_extension": ".py",
   "mimetype": "text/x-python",
   "name": "python",
   "nbconvert_exporter": "python",
   "pygments_lexer": "ipython3",
   "version": "3.8.5"
  }
 },
 "nbformat": 4,
 "nbformat_minor": 4
}
