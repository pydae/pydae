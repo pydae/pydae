{
 "cells": [
  {
   "cell_type": "markdown",
   "metadata": {},
   "source": [
    "# SMIB system as in Milano's book example 8.1 (AVR added)"
   ]
  },
  {
   "cell_type": "code",
   "execution_count": 2,
   "metadata": {},
   "outputs": [],
   "source": [
    "%matplotlib widget"
   ]
  },
  {
   "cell_type": "code",
   "execution_count": 3,
   "metadata": {},
   "outputs": [],
   "source": [
    "import numpy as np\n",
    "import matplotlib.pyplot as plt"
   ]
  },
  {
   "cell_type": "markdown",
   "metadata": {},
   "source": [
    "## Import system module"
   ]
  },
  {
   "cell_type": "code",
   "execution_count": 4,
   "metadata": {},
   "outputs": [],
   "source": [
    "from iso_milano_ex8p1_4ord_avr_gov import iso_milano_ex8p1_4ord_avr_gov_class,daesolver"
   ]
  },
  {
   "cell_type": "markdown",
   "metadata": {},
   "source": [
    "## Instantiate system"
   ]
  },
  {
   "cell_type": "code",
   "execution_count": 5,
   "metadata": {},
   "outputs": [],
   "source": [
    "syst = iso_milano_ex8p1_4ord_avr_gov_class()"
   ]
  },
  {
   "cell_type": "code",
   "execution_count": 6,
   "metadata": {},
   "outputs": [
    {
     "name": "stdout",
     "output_type": "stream",
     "text": [
      "delta = -0.00\n",
      "omega =  1.00\n",
      "e1q   =  0.93\n",
      "e1d   =  0.41\n",
      "v_c   =  0.98\n",
      "p_m   =  0.70\n",
      "xi_m  = -701.70\n",
      "i_d   =  0.65\n",
      "i_q   =  0.37\n",
      "v_1   =  0.98\n",
      "theta_1 = -0.73\n",
      "P_t   =  0.70\n",
      "Q_t   =  0.24\n",
      "v_f   =  1.92\n",
      "p_m_ref =  0.70\n",
      "v_0   =  0.97\n",
      "theta_0 = -0.77\n"
     ]
    }
   ],
   "source": [
    "syst.initialize([{}],\n",
    "               1.0);\n",
    "syst.report_x()\n",
    "syst.report_y()"
   ]
  },
  {
   "cell_type": "code",
   "execution_count": 7,
   "metadata": {},
   "outputs": [],
   "source": [
    "syst.simulate([{'t_end':1.0,  'P_l':0.8, 'H':6.0,'P_cig':0.1, 'T_m':5, 'D':0},\n",
    "               {'t_end':60.0, 'P_l':0.9, 'P_cig':0.1}],1.0);"
   ]
  },
  {
   "cell_type": "code",
   "execution_count": 8,
   "metadata": {
    "scrolled": false
   },
   "outputs": [
    {
     "data": {
      "application/vnd.jupyter.widget-view+json": {
       "model_id": "221a3c228ab7455489f9efcb65882613",
       "version_major": 2,
       "version_minor": 0
      },
      "text/plain": [
       "Canvas(toolbar=Toolbar(toolitems=[('Home', 'Reset original view', 'home', 'home'), ('Back', 'Back to previous …"
      ]
     },
     "metadata": {},
     "output_type": "display_data"
    }
   ],
   "source": [
    "fig, axes = plt.subplots(nrows=2, ncols=1, figsize=(5, 4))\n",
    "\n",
    "axes[0].plot(syst.T, syst.get_values('P_t') , label='$\\sf P_t$')\n",
    "axes[0].plot(syst.T, syst.get_values('p_m') , label='$\\sf p_m$')\n",
    "axes[0].plot(syst.T, syst.get_values('P_l') , label='$\\sf P_l$')\n",
    "axes[0].plot(syst.T, syst.get_values('P_cig') , label='$\\sf P_{cig}$')\n",
    "\n",
    "axes[1].plot(syst.T, syst.get_values('omega') , label='$\\sf \\omega$')\n",
    "\n",
    "for ax in axes.flatten():\n",
    "    ax.grid()\n",
    "    ax.legend()"
   ]
  },
  {
   "cell_type": "code",
   "execution_count": 9,
   "metadata": {},
   "outputs": [
    {
     "name": "stdout",
     "output_type": "stream",
     "text": [
      "RoCoF = 0.40 Hz/s\n",
      "H = 6.25 s\n"
     ]
    }
   ],
   "source": [
    "Dp = 0.1\n",
    "Dt = 1.0\n",
    "idx = np.argmax(syst.T>(1.0+Dt))\n",
    "\n",
    "Dw = 1-syst.get_values('omega')[idx]\n",
    "\n",
    "RoCoF = Dw/Dt\n",
    "\n",
    "print(f'RoCoF = {RoCoF*50:0.2f} Hz/s')\n",
    "H = Dp/(2*RoCoF)\n",
    "print(f'H = {H:0.2f} s')\n"
   ]
  },
  {
   "cell_type": "code",
   "execution_count": 10,
   "metadata": {},
   "outputs": [
    {
     "name": "stdout",
     "output_type": "stream",
     "text": [
      "nadir = 49.22 Hz\n",
      "Δf(nadir) = 0.78 Hz\n"
     ]
    }
   ],
   "source": [
    "nadir = np.min(syst.get_values('omega'))\n",
    "nadir*50\n",
    "print(f'nadir = {nadir*50:0.2f} Hz')\n",
    "print(f'Δf(nadir) = {50-nadir*50:0.2f} Hz')\n"
   ]
  },
  {
   "cell_type": "code",
   "execution_count": 11,
   "metadata": {},
   "outputs": [
    {
     "name": "stdout",
     "output_type": "stream",
     "text": [
      "nadir = 49.22 Hz\n",
      "Δf(nadir) = 0.78 Hz\n",
      "f(end) = 49.75 Hz\n",
      "Δf(end) = 0.25 Hz\n",
      "Droop = 0.05\n"
     ]
    }
   ],
   "source": [
    "f_end = syst.get_values('omega')[-1]\n",
    "Dw_end = 1.0-f_end\n",
    "\n",
    "print(f'nadir = {nadir*50:0.2f} Hz')\n",
    "print(f'Δf(nadir) = {50-nadir*50:0.2f} Hz')\n",
    "print(f'f(end) = {f_end*50:0.2f} Hz')\n",
    "print(f'Δf(end) = {50-f_end*50:0.2f} Hz')\n",
    "\n",
    "Droop = Dw_end/Dp\n",
    "print(f'Droop = {Droop:0.2f}')\n"
   ]
  },
  {
   "cell_type": "code",
   "execution_count": 12,
   "metadata": {},
   "outputs": [],
   "source": [
    "syst.simulate([{'t_end':1.0,  'P_l':0.8, 'H':3.0,'P_cig':0.1, 'T_m':5, 'D':0},\n",
    "               {'t_end':60.0, 'P_l':0.9, 'P_cig':0.1}],1.0);"
   ]
  },
  {
   "cell_type": "code",
   "execution_count": 13,
   "metadata": {},
   "outputs": [
    {
     "data": {
      "application/vnd.jupyter.widget-view+json": {
       "model_id": "535ee3096bc644f8b117e8d83ba721c8",
       "version_major": 2,
       "version_minor": 0
      },
      "text/plain": [
       "Canvas(toolbar=Toolbar(toolitems=[('Home', 'Reset original view', 'home', 'home'), ('Back', 'Back to previous …"
      ]
     },
     "metadata": {},
     "output_type": "display_data"
    }
   ],
   "source": [
    "fig, axes = plt.subplots(nrows=2, ncols=1, figsize=(5, 4))\n",
    "\n",
    "axes[0].plot(syst.T, syst.get_values('P_t') , label='$\\sf P_t$')\n",
    "axes[0].plot(syst.T, syst.get_values('p_m') , label='$\\sf p_m$')\n",
    "axes[0].plot(syst.T, syst.get_values('P_l') , label='$\\sf P_l$')\n",
    "axes[0].plot(syst.T, syst.get_values('P_cig') , label='$\\sf P_{cig}$')\n",
    "\n",
    "axes[1].plot(syst.T, syst.get_values('omega') , label='$\\sf \\omega$')\n",
    "\n",
    "for ax in axes.flatten():\n",
    "    ax.grid()\n",
    "    ax.legend()"
   ]
  },
  {
   "cell_type": "code",
   "execution_count": 14,
   "metadata": {},
   "outputs": [
    {
     "name": "stdout",
     "output_type": "stream",
     "text": [
      "RoCoF = 0.76 Hz/s\n",
      "H = 3.30 s\n",
      "nadir = 48.92 Hz\n",
      "Δf(nadir) = 1.08 Hz\n",
      "nadir = 48.92 Hz\n",
      "Δf(nadir) = 1.08 Hz\n",
      "f(end) = 49.75 Hz\n",
      "Δf(end) = 0.25 Hz\n",
      "Droop = 0.05\n"
     ]
    }
   ],
   "source": [
    "Dp = 0.1\n",
    "Dt = 1.0\n",
    "idx = np.argmax(syst.T>(1.0+Dt))\n",
    "\n",
    "Dw = 1-syst.get_values('omega')[idx]\n",
    "\n",
    "RoCoF = Dw/Dt\n",
    "\n",
    "print(f'RoCoF = {RoCoF*50:0.2f} Hz/s')\n",
    "H = Dp/(2*RoCoF)\n",
    "print(f'H = {H:0.2f} s')\n",
    "\n",
    "nadir = np.min(syst.get_values('omega'))\n",
    "nadir*50\n",
    "print(f'nadir = {nadir*50:0.2f} Hz')\n",
    "print(f'Δf(nadir) = {50-nadir*50:0.2f} Hz')\n",
    "\n",
    "f_end = syst.get_values('omega')[-1]\n",
    "Dw_end = 1.0-f_end\n",
    "\n",
    "print(f'nadir = {nadir*50:0.2f} Hz')\n",
    "print(f'Δf(nadir) = {50-nadir*50:0.2f} Hz')\n",
    "print(f'f(end) = {f_end*50:0.2f} Hz')\n",
    "print(f'Δf(end) = {50-f_end*50:0.2f} Hz')\n",
    "\n",
    "Droop = Dw_end/Dp\n",
    "print(f'Droop = {Droop:0.2f}')"
   ]
  },
  {
   "cell_type": "code",
   "execution_count": 15,
   "metadata": {},
   "outputs": [],
   "source": [
    "import numba"
   ]
  },
  {
   "cell_type": "code",
   "execution_count": 16,
   "metadata": {},
   "outputs": [
    {
     "name": "stdout",
     "output_type": "stream",
     "text": [
      "0.51.2\n"
     ]
    }
   ],
   "source": [
    "print(numba.__version__)"
   ]
  },
  {
   "cell_type": "code",
   "execution_count": null,
   "metadata": {},
   "outputs": [],
   "source": []
  }
 ],
 "metadata": {
  "kernelspec": {
   "display_name": "Python 3",
   "language": "python",
   "name": "python3"
  },
  "language_info": {
   "codemirror_mode": {
    "name": "ipython",
    "version": 3
   },
   "file_extension": ".py",
   "mimetype": "text/x-python",
   "name": "python",
   "nbconvert_exporter": "python",
   "pygments_lexer": "ipython3",
   "version": "3.8.5"
  }
 },
 "nbformat": 4,
 "nbformat_minor": 4
}
