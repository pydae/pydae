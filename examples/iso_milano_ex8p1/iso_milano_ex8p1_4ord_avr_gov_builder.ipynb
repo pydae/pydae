{
 "cells": [
  {
   "cell_type": "code",
   "execution_count": 1,
   "metadata": {},
   "outputs": [],
   "source": [
    "import numpy as np\n",
    "import sympy as sym\n",
    "import numba\n",
    "import pydae.build as db"
   ]
  },
  {
   "cell_type": "code",
   "execution_count": null,
   "metadata": {},
   "outputs": [],
   "source": []
  },
  {
   "cell_type": "markdown",
   "metadata": {},
   "source": [
    "\\begin{eqnarray}\n",
    "\\dot \\delta &=& \\Omega_b \\left(\\omega - \\omega_s\\right)\\\\\n",
    "\\dot \\omega &=& 1/(2 H) \\left(p_m - p_e - D (\\omega - \\omega_s) \\right)\\\\\n",
    "\\end{eqnarray}\n",
    "\n",
    "$$ \\sf\n",
    "\\Omega_{b} \\left(\\sf \\omega - \\omega_{s}\\right)\n",
    "$$"
   ]
  },
  {
   "cell_type": "markdown",
   "metadata": {},
   "source": [
    "## System definition "
   ]
  },
  {
   "cell_type": "code",
   "execution_count": 2,
   "metadata": {},
   "outputs": [],
   "source": [
    "params = {'X_d':1.81,'X1d':0.3,'T1d0':8.0,   # synnchronous machine d-axis parameters\n",
    "          'X_q':1.76,'X1q':0.65,'T1q0':1.0,  # synnchronous machine q-axis parameters\n",
    "          'R_a':0.003,'X_l': 0.05, \n",
    "          'H':3.5,'D':1.0,\n",
    "          'Omega_b':2*np.pi*50,'omega_s':1.0,\n",
    "          'v_0':1.0,'theta_0':0.0,\n",
    "          'K_a':100, 'T_r':0.1, 'v_pss':0.0}\n",
    "\n",
    "\n",
    "u_ini_dict = {'P_t':0.8, 'Q_t':0.2}  # for the initialization problem\n",
    "u_run_dict = {'p_m_ref':0.8,'v_ref':1.0}  # for the running problem (here initialization and running problem are the same)\n",
    "\n",
    "\n",
    "x_list = ['delta','omega','e1q','e1d','v_c','p_m']    # [inductor current, PI integrator]\n",
    "y_ini_list = ['i_d','i_q','v_1','theta_1','p_m','v_ref','v_f'] # for the initialization problem\n",
    "y_run_list = ['i_d','i_q','v_1','theta_1','P_t','Q_t',  'v_f'] # for the running problem (here initialization and running problem are the same)\n",
    "\n",
    "sys_vars = {'params':params,\n",
    "            'u_list':u_run_dict,\n",
    "            'x_list':x_list,\n",
    "            'y_list':y_run_list}\n",
    "\n",
    "exec(db.sym_gen_str())  # exec to generate the required symbolic varables and constants"
   ]
  },
  {
   "cell_type": "code",
   "execution_count": 3,
   "metadata": {},
   "outputs": [
    {
     "ename": "KeyError",
     "evalue": "'f_list'",
     "output_type": "error",
     "traceback": [
      "\u001b[1;31m---------------------------------------------------------------------------\u001b[0m",
      "\u001b[1;31mKeyError\u001b[0m                                  Traceback (most recent call last)",
      "\u001b[1;32m<ipython-input-3-580b7f659214>\u001b[0m in \u001b[0;36m<module>\u001b[1;34m\u001b[0m\n\u001b[0;32m     33\u001b[0m        'h':[h_1]}\n\u001b[0;32m     34\u001b[0m \u001b[1;33m\u001b[0m\u001b[0m\n\u001b[1;32m---> 35\u001b[1;33m \u001b[0msys\u001b[0m \u001b[1;33m=\u001b[0m \u001b[0mdb\u001b[0m\u001b[1;33m.\u001b[0m\u001b[0msystem\u001b[0m\u001b[1;33m(\u001b[0m\u001b[0msys\u001b[0m\u001b[1;33m)\u001b[0m\u001b[1;33m\u001b[0m\u001b[1;33m\u001b[0m\u001b[0m\n\u001b[0m\u001b[0;32m     36\u001b[0m \u001b[0mdb\u001b[0m\u001b[1;33m.\u001b[0m\u001b[0msys2num\u001b[0m\u001b[1;33m(\u001b[0m\u001b[0msys\u001b[0m\u001b[1;33m)\u001b[0m\u001b[1;33m\u001b[0m\u001b[1;33m\u001b[0m\u001b[0m\n\u001b[0;32m     37\u001b[0m \u001b[1;33m\u001b[0m\u001b[0m\n",
      "\u001b[1;32m~\\anaconda3\\lib\\site-packages\\pydae\\build.py\u001b[0m in \u001b[0;36msystem\u001b[1;34m(sys)\u001b[0m\n\u001b[0;32m    143\u001b[0m \u001b[1;33m\u001b[0m\u001b[0m\n\u001b[0;32m    144\u001b[0m     '''\n\u001b[1;32m--> 145\u001b[1;33m     \u001b[0mcheck_system\u001b[0m\u001b[1;33m(\u001b[0m\u001b[0msys\u001b[0m\u001b[1;33m)\u001b[0m\u001b[1;33m\u001b[0m\u001b[1;33m\u001b[0m\u001b[0m\n\u001b[0m\u001b[0;32m    146\u001b[0m \u001b[1;33m\u001b[0m\u001b[0m\n\u001b[0;32m    147\u001b[0m     \u001b[0mf\u001b[0m \u001b[1;33m=\u001b[0m \u001b[0msym\u001b[0m\u001b[1;33m.\u001b[0m\u001b[0mMatrix\u001b[0m\u001b[1;33m(\u001b[0m\u001b[0msys\u001b[0m\u001b[1;33m[\u001b[0m\u001b[1;34m'f_list'\u001b[0m\u001b[1;33m]\u001b[0m\u001b[1;33m)\u001b[0m\u001b[1;33m.\u001b[0m\u001b[0mT\u001b[0m\u001b[1;33m\u001b[0m\u001b[1;33m\u001b[0m\u001b[0m\n",
      "\u001b[1;32m~\\anaconda3\\lib\\site-packages\\pydae\\build.py\u001b[0m in \u001b[0;36mcheck_system\u001b[1;34m(sys)\u001b[0m\n\u001b[0;32m     91\u001b[0m \u001b[1;32mdef\u001b[0m \u001b[0mcheck_system\u001b[0m\u001b[1;33m(\u001b[0m\u001b[0msys\u001b[0m\u001b[1;33m)\u001b[0m\u001b[1;33m:\u001b[0m\u001b[1;33m\u001b[0m\u001b[1;33m\u001b[0m\u001b[0m\n\u001b[0;32m     92\u001b[0m \u001b[1;33m\u001b[0m\u001b[0m\n\u001b[1;32m---> 93\u001b[1;33m     \u001b[1;32mif\u001b[0m \u001b[0mlen\u001b[0m\u001b[1;33m(\u001b[0m\u001b[0msys\u001b[0m\u001b[1;33m[\u001b[0m\u001b[1;34m'f_list'\u001b[0m\u001b[1;33m]\u001b[0m\u001b[1;33m)\u001b[0m \u001b[1;33m==\u001b[0m \u001b[1;36m0\u001b[0m\u001b[1;33m:\u001b[0m\u001b[1;33m\u001b[0m\u001b[1;33m\u001b[0m\u001b[0m\n\u001b[0m\u001b[0;32m     94\u001b[0m         \u001b[0mprint\u001b[0m\u001b[1;33m(\u001b[0m\u001b[1;34m'system without dynamic equations, adding dummy dynamic equation'\u001b[0m\u001b[1;33m)\u001b[0m\u001b[1;33m\u001b[0m\u001b[1;33m\u001b[0m\u001b[0m\n\u001b[0;32m     95\u001b[0m         \u001b[0mx_dummy\u001b[0m\u001b[1;33m,\u001b[0m\u001b[0mu_dummy\u001b[0m \u001b[1;33m=\u001b[0m \u001b[0msym\u001b[0m\u001b[1;33m.\u001b[0m\u001b[0msymbols\u001b[0m\u001b[1;33m(\u001b[0m\u001b[1;34m'x_dummy,u_dummy'\u001b[0m\u001b[1;33m)\u001b[0m\u001b[1;33m\u001b[0m\u001b[1;33m\u001b[0m\u001b[0m\n",
      "\u001b[1;31mKeyError\u001b[0m: 'f_list'"
     ]
    }
   ],
   "source": [
    "v_d = v_1*sin(delta - theta_1) \n",
    "v_q = v_1*cos(delta - theta_1) \n",
    "\n",
    "p_e = i_d*(v_d + R_a*i_d) + i_q*(v_q + R_a*i_q) \n",
    "\n",
    "\n",
    "ddelta = Omega_b*(omega - omega_s)\n",
    "domega = 1/(2*H)*(p_m - p_e - D*(omega - omega_s))\n",
    "de1q = 1/T1d0*(-e1q - (X_d - X1d)*i_d + v_f)\n",
    "de1d = 1/T1q0*(-e1d + (X_q - X1q)*i_q)\n",
    "dv_c =   (v_1 - v_c)/T_r\n",
    "dp_m =   (p_m_ref - p_m)/T_m\n",
    "\n",
    "g_1 = v_q + R_a*i_q + X1d*i_d - e1q\n",
    "g_2 = v_d + R_a*i_d - X1q*i_q - e1d\n",
    "g_3 = P_t - (v_1*v_0*sin(theta_1 - theta_0))/X_l\n",
    "g_4 = Q_t + (v_1*v_0*cos(theta_1 - theta_0))/X_l - v_1**2/X_l\n",
    "g_5 = i_d*v_d + i_q*v_q - P_t\n",
    "g_6 = i_d*v_q - i_q*v_d - Q_t\n",
    "g_7 = K_a*(v_ref - v_c + v_pss) - v_f \n",
    "\n",
    "\n",
    "sys = {'name':'smib_milano_ex8p1_4ord_avr',\n",
    "       'params_dict':params,\n",
    "       'f_list':[ddelta,domega,de1q,de1d,dv_c],\n",
    "       'g_list':[g_1,g_2,g_3,g_4,g_5,g_6,g_7],\n",
    "       'x_list':x_list,\n",
    "       'y_ini_list':y_ini_list,\n",
    "       'y_run_list':y_run_list,\n",
    "       'u_run_dict':u_run_dict,\n",
    "       'u_ini_dict':u_ini_dict,\n",
    "       'h_dict':{'p_m':p_m}}\n",
    "\n",
    "sys = db.system(sys)\n",
    "db.sys2num(sys)\n",
    "                "
   ]
  },
  {
   "cell_type": "code",
   "execution_count": null,
   "metadata": {},
   "outputs": [],
   "source": []
  }
 ],
 "metadata": {
  "kernelspec": {
   "display_name": "Python 3",
   "language": "python",
   "name": "python3"
  },
  "language_info": {
   "codemirror_mode": {
    "name": "ipython",
    "version": 3
   },
   "file_extension": ".py",
   "mimetype": "text/x-python",
   "name": "python",
   "nbconvert_exporter": "python",
   "pygments_lexer": "ipython3",
   "version": "3.7.9"
  }
 },
 "nbformat": 4,
 "nbformat_minor": 4
}
