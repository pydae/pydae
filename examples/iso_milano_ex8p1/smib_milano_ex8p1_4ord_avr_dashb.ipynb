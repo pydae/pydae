{
 "cells": [
  {
   "cell_type": "markdown",
   "metadata": {},
   "source": [
    "# SMIB system as in Milano's book example 8.1 (AVR added)"
   ]
  },
  {
   "cell_type": "code",
   "execution_count": 1,
   "metadata": {},
   "outputs": [],
   "source": [
    "%matplotlib widget"
   ]
  },
  {
   "cell_type": "code",
   "execution_count": 2,
   "metadata": {},
   "outputs": [],
   "source": [
    "import numpy as np\n",
    "import matplotlib.pyplot as plt\n",
    "import scipy.optimize as sopt\n",
    "import ipywidgets\n",
    "from pydae import ssa"
   ]
  },
  {
   "cell_type": "markdown",
   "metadata": {},
   "source": [
    "## Import system module"
   ]
  },
  {
   "cell_type": "code",
   "execution_count": 3,
   "metadata": {},
   "outputs": [],
   "source": [
    "from smib_milano_ex8p1_4ord_avr import smib_milano_ex8p1_4ord_avr_class,daesolver"
   ]
  },
  {
   "cell_type": "markdown",
   "metadata": {},
   "source": [
    "## Instantiate system"
   ]
  },
  {
   "cell_type": "code",
   "execution_count": 4,
   "metadata": {},
   "outputs": [],
   "source": [
    "syst = smib_milano_ex8p1_4ord_avr_class()\n",
    "syst.t_end = 15.0\n",
    "syst.Dt = 0.005\n",
    "syst.decimation =10\n",
    "syst.update()"
   ]
  },
  {
   "cell_type": "markdown",
   "metadata": {},
   "source": [
    "## Solution function"
   ]
  },
  {
   "cell_type": "code",
   "execution_count": 16,
   "metadata": {},
   "outputs": [],
   "source": [
    "def test(syst,p_m,v_ref,K_a,use_numba=True):\n",
    "    # simulation parameters\n",
    "    syst.struct[0].imax = 50    # maximum number of iterations\n",
    "    syst.struct[0].itol = 1e-6  # relative tolerance to stop iteration\n",
    "    syst.struct[0].solvern = 5  # 5 = DAE trapezoidal solver (fixed step)\n",
    "    syst.struct[0].it = 0       # set time step to zero\n",
    "    syst.struct[0].it_store = 0 # set storage to zero\n",
    "    syst.struct[0].t = 0.0      # set time to zero\n",
    "    \n",
    "    syst.struct[0].D = 0\n",
    "    \n",
    "    syst.struct[0].p_m = 0\n",
    "    syst.struct[0].v_ref = 1\n",
    "    syst.struct[0].T_r = 0.02\n",
    "    syst.struct[0].K_a = K_a\n",
    "    \n",
    "    syst.struct[0].T1d0 = 8\n",
    "\n",
    "    syst.struct.P_t = 0\n",
    "    syst.struct.Q_t = 0    \n",
    "    \n",
    "    # compute initial conditions using x and y_ini \n",
    "    xy0 = np.ones(syst.N_x+syst.N_y)\n",
    "    xy = sopt.fsolve(syst.ini_problem,xy0 )\n",
    "\n",
    "    # from ini system to run system\n",
    "    syst.struct[0].p_m = xy[syst.xy_ini_list.index('p_m')]\n",
    "    syst.struct[0].v_ref = xy[syst.xy_ini_list.index('v_ref')]\n",
    "\n",
    "    syst.struct[0].x[:,0] = xy[0:syst.N_x]\n",
    "    syst.struct[0].y[:,0] = xy[syst.N_x:]\n",
    "\n",
    "    syst.struct[0].y[syst.y_list.index('P_t'),0] = syst.struct.P_t\n",
    "    syst.struct[0].y[syst.y_list.index('Q_t'),0] = syst.struct.Q_t\n",
    "    \n",
    "    # solve system\n",
    "    syst.struct.t_end = 1.0  \n",
    "    daesolver(syst.struct)    # run until 1 s\n",
    "    syst.struct[0].p_m = p_m  # apply step in mechanical power p_m\n",
    "    syst.struct[0].v_ref = v_ref  # apply step in mechanical power p_m\n",
    "    syst.struct.t_end = 20.0  \n",
    "    daesolver(syst.struct)    # run until 10 s\n",
    "        \n",
    "    T = syst.struct[0]['T'][:syst.struct[0].it_store]\n",
    "    X = syst.struct[0]['X'][:syst.struct[0].it_store,:]\n",
    "    Y = syst.struct[0]['Y'][:syst.struct[0].it_store,:]\n",
    "\n",
    "    return T,X,Y"
   ]
  },
  {
   "cell_type": "markdown",
   "metadata": {},
   "source": [
    "## Run test"
   ]
  },
  {
   "cell_type": "code",
   "execution_count": 17,
   "metadata": {},
   "outputs": [],
   "source": [
    "T,X,Y =test(syst,0.0,1.0,200,use_numba=True)\n"
   ]
  },
  {
   "cell_type": "code",
   "execution_count": null,
   "metadata": {},
   "outputs": [],
   "source": []
  },
  {
   "cell_type": "markdown",
   "metadata": {},
   "source": [
    "### Results extraction"
   ]
  },
  {
   "cell_type": "code",
   "execution_count": 18,
   "metadata": {},
   "outputs": [],
   "source": [
    "plt.ioff()\n",
    "plt.clf()\n",
    "\n",
    "T,X,Y =test(syst,0.0,1.0,200,use_numba=True)\n",
    "fig, axes = plt.subplots(nrows=2, ncols=2, figsize=(5, 4), frameon=False)\n",
    "fig.canvas.toolbar_visible = False\n",
    "\n",
    "line_delta = axes[0,0].plot(T, X[:,syst.x_list.index('delta')], label='$\\sf \\delta$')\n",
    "line_omega = axes[1,0].plot(T, X[:,syst.x_list.index('omega')], label='$\\sf \\omega$')\n",
    "line_v_1 = axes[0,1].plot(T, Y[:,syst.y_list.index('v_1')], label='$\\sf v_1$')\n",
    "#line_theta_1 = axes[0,1].plot(T, Y[:,syst.y_list.index('theta_1')], label='$\\sf \\\\theta_1$')\n",
    "line_p_t = axes[1,1].plot(T, Y[:,syst.y_list.index('P_t')], label='$\\sf P_t$')\n",
    "line_q_t = axes[1,1].plot(T, Y[:,syst.y_list.index('Q_t')], label='$\\sf Q_t$')\n",
    "\n",
    "x_0 = X[0,:]\n",
    "y_0 = Y[0,:]\n",
    "\n",
    "y_labels = ['$\\delta$','$\\omega$','$P_t$']\n",
    "\n",
    "axes[0,0].set_ylim((-1,2))\n",
    "axes[1,0].set_ylim((0.95,1.05))\n",
    "axes[0,1].set_ylim((0.8,1.2))\n",
    "axes[1,1].set_ylim((-0.5,1.5))\n",
    "\n",
    "axes[0,0].grid(True)\n",
    "axes[1,0].grid(True)\n",
    "axes[0,1].grid(True)\n",
    "axes[1,1].grid(True)\n",
    "axes[0,0].legend(loc='best')\n",
    "axes[1,0].legend(loc='best')\n",
    "axes[0,1].legend(loc='best')\n",
    "axes[1,1].legend(loc='best')\n",
    "\n",
    "axes[1,0].set_xlabel('Time (s)')  \n",
    "axes[1,1].set_xlabel('Time (s)') \n",
    "\n",
    "fig.tight_layout()\n",
    "#axes[0].set_title('Par en función de la velocidad')\n",
    "#axes[1].set_title('Corriente en función de la velocidad')\n",
    "\n",
    "\n",
    "sld_p_m = ipywidgets.FloatSlider(orientation='horizontal',description = u\"p\\N{LATIN SUBSCRIPT SMALL LETTER M}:\", \n",
    "                                value=0.0, min=0.0,max= 1.2, \n",
    "                                step=.1)\n",
    "\n",
    "\n",
    "sld_v_ref = ipywidgets.FloatSlider(orientation='horizontal',description = u\"v_ref:\", \n",
    "                                value=syst.struct.v_ref, min=0.9,max= 1.1, \n",
    "                                step=.01)\n",
    "\n",
    "sld_K_a = ipywidgets.FloatSlider(orientation='horizontal',description =  'K\\N{LATIN SUBSCRIPT SMALL LETTER A}' , \n",
    "                                value=syst.struct.K_a, min=0.0,max= 500, \n",
    "                                step=10)\n",
    "\n",
    "prog_c = ipywidgets.IntProgress(\n",
    "    value=100,\n",
    "    min=0,\n",
    "    max=120,\n",
    "    step=1,\n",
    "    description='SM Load:',\n",
    "    bar_style='', # 'success', 'info', 'warning', 'danger' or ''\n",
    "    orientation='horizontal' \n",
    ")\n",
    "\n",
    "prog_damp = ipywidgets.IntProgress(\n",
    "    value=10,\n",
    "    min=0,\n",
    "    max=20,\n",
    "    step=1,\n",
    "    description='ζ = 1.0',\n",
    "    bar_style='', # 'success', 'info', 'warning', 'danger' or ''\n",
    "    orientation='horizontal' \n",
    ")"
   ]
  },
  {
   "cell_type": "markdown",
   "metadata": {},
   "source": [
    "### Results plots"
   ]
  },
  {
   "cell_type": "code",
   "execution_count": 19,
   "metadata": {
    "scrolled": true
   },
   "outputs": [
    {
     "data": {
      "application/vnd.jupyter.widget-view+json": {
       "model_id": "ea273df29a4b451d825b5e1141620a30",
       "version_major": 2,
       "version_minor": 0
      },
      "text/plain": [
       "VBox(children=(HBox(children=(Canvas(toolbar=Toolbar(toolitems=[('Home', 'Reset original view', 'home', 'home'…"
      ]
     },
     "metadata": {},
     "output_type": "display_data"
    }
   ],
   "source": [
    " \n",
    "\n",
    "def update(change):\n",
    "    \n",
    "    p_m = sld_p_m.value\n",
    "    v_ref = sld_v_ref.value\n",
    "    K_a = sld_K_a.value\n",
    "    \n",
    "    try:\n",
    "        T,X,Y = test(syst,p_m,v_ref,K_a,use_numba=True)\n",
    "\n",
    "        line_delta[0].set_data(T, X[:,syst.x_list.index('delta')])\n",
    "        line_omega[0].set_data(T, X[:,syst.x_list.index('omega')])\n",
    "        line_v_1[0].set_data(T, Y[:,syst.y_list.index('v_1')])\n",
    "        #line_theta_1[0].set_data(T, Y[:,syst.y_list.index('theta_1')])\n",
    "        line_p_t[0].set_data(T, Y[:,syst.y_list.index('P_t')])\n",
    "        line_q_t[0].set_data(T, Y[:,syst.y_list.index('Q_t')])\n",
    "\n",
    "        c = np.abs(Y[-1,syst.y_list.index('i_d')]+1j*Y[-1,syst.y_list.index('i_q')])\n",
    "\n",
    "        prog_c.bar_style = 'success'\n",
    "        if c>0.9:\n",
    "            prog_c.bar_style = 'warning'\n",
    "        if c>1.0:\n",
    "            prog_c.bar_style = 'danger'\n",
    "        prog_c.value = 100*c\n",
    "        \n",
    "        A = ssa.eval_A(syst)\n",
    "\n",
    "        w,v = np.linalg.eig(A)\n",
    "        w_osc = w[w.imag>1.0]\n",
    "        damp_psc = -w_osc.real/np.abs(w_osc)\n",
    "        min_damp = np.min(damp_psc)\n",
    "\n",
    "        prog_damp.bar_style = 'success'\n",
    "        if min_damp<0.07:\n",
    "            prog_damp.bar_style = 'warning'\n",
    "        if min_damp<0.05:\n",
    "            prog_damp.bar_style = 'danger'\n",
    "        prog_damp.value = 100*min_damp\n",
    "        min_damp_100 = 100*min_damp\n",
    "        if min_damp_100>20: min_damp_100=20 \n",
    "        if min_damp_100<0: min_damp_100=0\n",
    "        prog_damp.description=f'ζ = {100*min_damp:2.0f}%'\n",
    "\n",
    "        fig.canvas.draw_idle()\n",
    "    except:\n",
    "          print(\"An exception occurred\")        \n",
    "   \n",
    "    \n",
    "sld_p_m.observe(update, names='value')\n",
    "sld_v_ref.observe(update, names='value')\n",
    "sld_K_a.observe(update, names='value')\n",
    "\n",
    "layout_row1 = ipywidgets.HBox([fig.canvas])\n",
    "layout_row2 = ipywidgets.HBox([sld_p_m,sld_v_ref,prog_c])\n",
    "layout_row3 = ipywidgets.HBox([sld_K_a,prog_damp])\n",
    "\n",
    "layout = ipywidgets.VBox([layout_row1,layout_row2,layout_row3])\n",
    "layout\n"
   ]
  },
  {
   "cell_type": "code",
   "execution_count": null,
   "metadata": {},
   "outputs": [],
   "source": []
  },
  {
   "cell_type": "code",
   "execution_count": null,
   "metadata": {},
   "outputs": [],
   "source": []
  },
  {
   "cell_type": "code",
   "execution_count": null,
   "metadata": {},
   "outputs": [],
   "source": []
  }
 ],
 "metadata": {
  "kernelspec": {
   "display_name": "Python 3",
   "language": "python",
   "name": "python3"
  },
  "language_info": {
   "codemirror_mode": {
    "name": "ipython",
    "version": 3
   },
   "file_extension": ".py",
   "mimetype": "text/x-python",
   "name": "python",
   "nbconvert_exporter": "python",
   "pygments_lexer": "ipython3",
   "version": "3.7.6"
  }
 },
 "nbformat": 4,
 "nbformat_minor": 4
}
