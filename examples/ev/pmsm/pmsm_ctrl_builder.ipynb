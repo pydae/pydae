{
 "cells": [
  {
   "cell_type": "code",
   "execution_count": 1,
   "metadata": {},
   "outputs": [],
   "source": [
    "import numpy as np\n",
    "import sympy as sym\n",
    "import pydae.build_cffi as db"
   ]
  },
  {
   "cell_type": "code",
   "execution_count": 4,
   "metadata": {},
   "outputs": [],
   "source": [
    "tau_d = 0.01\n",
    "L_s = 0.01\n",
    "R_s = 0.01\n",
    "K_p = L_s/tau_d\n",
    "K_i = R_s/tau_d\n",
    "params_dict = {'L_s':L_s,'R_s':R_s,\n",
    "               'N_pp':2.0,'Phi':1.0,\n",
    "              'K_p':K_p,'K_i':K_i}\n",
    "\n",
    "\n",
    "u_ini_dict = {'tau_r_ref':0.0,'i_d_ref':0.0,'omega_r':0.0}  # for the initialization problem\n",
    "u_run_dict = {'tau_r_ref':0.0,'i_d_ref':0.0,'omega_r':0.0}  # for the running problem (here initialization and running problem are the same)\n",
    "\n",
    "\n",
    "x_list = ['i_d','i_q','xi_i_d','xi_i_q']    # [inductor current, PI integrator]\n",
    "y_ini_list = ['tau_r','omega_e','v_d','v_q','i_q_ref'] # for the initialization problem\n",
    "y_run_list = ['tau_r','omega_e','v_d','v_q','i_q_ref'] # for the running problem (here initialization and running problem are the same)\n",
    "\n",
    "sys_vars = {'params':params_dict,\n",
    "            'u_list':u_run_dict,\n",
    "            'x_list':x_list,\n",
    "            'y_list':y_run_list}\n",
    "\n",
    "exec(db.sym_gen_str())  # exec to generate the required symbolic varables and constants"
   ]
  },
  {
   "cell_type": "code",
   "execution_count": 10,
   "metadata": {},
   "outputs": [],
   "source": [
    "# pmsm:\n",
    "di_d = 1/L_s * (  v_d + L_s * omega_e * i_q - R_s * i_d  )\n",
    "di_q = 1/L_s * (  v_q - L_s * omega_e * i_d - omega_e * Phi - R_s * i_q  )\n",
    "eq_tau_r = -tau_r + 3/2*Phi*N_pp*i_q\n",
    "eq_omega_e = -omega_e + N_pp*omega_r\n",
    "\n",
    "# ctrl:\n",
    "epsilon_i_d =  i_d_ref - i_d\n",
    "epsilon_i_q =  i_q_ref - i_q\n",
    "u_d = K_p*epsilon_i_d + K_i*xi_i_d\n",
    "u_q = K_p*epsilon_i_q + K_i*xi_i_q\n",
    "\n",
    "eq_v_d = -u_d + v_d + L_s * omega_e * i_q \n",
    "eq_v_q = -u_q + v_q - L_s * omega_e * i_d -  omega_e * Phi \n",
    "dxi_i_d = epsilon_i_d\n",
    "dxi_i_q = epsilon_i_q\n",
    "eq_i_q_ref = - tau_r_ref + 3/2*Phi*N_pp*i_q_ref\n"
   ]
  },
  {
   "cell_type": "code",
   "execution_count": 12,
   "metadata": {},
   "outputs": [
    {
     "name": "stdout",
     "output_type": "stream",
     "text": [
      "0.04986906051635742\n",
      "0.030918121337890625\n",
      "Compilation time: 4.82 s\n"
     ]
    }
   ],
   "source": [
    "f_list = [di_d,di_q,dxi_i_d,dxi_i_q]\n",
    "g_list = [eq_tau_r,eq_omega_e,eq_v_d,eq_v_q,eq_i_q_ref]\n",
    "h_dict = {'u_d':u_d,'u_q':u_q,'tau_r_ref':tau_r_ref,'v_pk':(v_d**2+v_q**2)**0.5}\n",
    "\n",
    "sys = {'name':f\"pmsm_ctrl\",\n",
    "       'params_dict':params_dict,\n",
    "       'f_list':f_list,\n",
    "       'g_list':g_list,\n",
    "       'x_list':x_list,\n",
    "       'y_ini_list':y_list,\n",
    "       'y_run_list':y_list,\n",
    "       'u_run_dict':u_run_dict,\n",
    "       'u_ini_dict':u_ini_dict,\n",
    "       'h_dict':h_dict\n",
    "      }\n",
    "\n",
    "sys = db.build(sys)\n"
   ]
  },
  {
   "cell_type": "code",
   "execution_count": 7,
   "metadata": {},
   "outputs": [
    {
     "data": {
      "text/latex": [
       "$\\displaystyle \\left[\\begin{matrix}- \\frac{R_{s}}{L_{s}} & \\omega_{e} & 0 & 0 & 0 & i_{q} & \\frac{1}{L_{s}} & 0 & 0\\\\- \\omega_{e} & - \\frac{R_{s}}{L_{s}} & 0 & 0 & 0 & \\frac{- L_{s} i_{d} - \\Phi}{L_{s}} & 0 & \\frac{1}{L_{s}} & 0\\\\-1 & 0 & 0 & 0 & 0 & 0 & 0 & 0 & 0\\\\0 & -1 & 0 & 0 & 0 & 0 & 0 & 0 & 1\\\\0 & 1.5 N_{pp} \\Phi & 0 & 0 & -1 & 0 & 0 & 0 & 0\\\\0 & 0 & 0 & 0 & 0 & -1 & 0 & 0 & 0\\\\0 & L_{s} \\omega_{e} & 0 & 0 & 0 & L_{s} i_{q} & 1 & 0 & 0\\\\- L_{s} \\omega_{e} & 0 & 0 & 0 & 0 & - L_{s} i_{d} - \\Phi & 0 & 1 & 0\\\\0 & 0 & 0 & 0 & 0 & 0 & 0 & 0 & 1.5 N_{pp} \\Phi + 1\\end{matrix}\\right]$"
      ],
      "text/plain": [
       "Matrix([\n",
       "[    -R_s/L_s,      omega_e, 0, 0,  0,                  i_q, 1/L_s,     0,                0],\n",
       "[    -omega_e,     -R_s/L_s, 0, 0,  0, (-L_s*i_d - Phi)/L_s,     0, 1/L_s,                0],\n",
       "[          -1,            0, 0, 0,  0,                    0,     0,     0,                0],\n",
       "[           0,           -1, 0, 0,  0,                    0,     0,     0,                1],\n",
       "[           0, 1.5*N_pp*Phi, 0, 0, -1,                    0,     0,     0,                0],\n",
       "[           0,            0, 0, 0,  0,                   -1,     0,     0,                0],\n",
       "[           0,  L_s*omega_e, 0, 0,  0,              L_s*i_q,     1,     0,                0],\n",
       "[-L_s*omega_e,            0, 0, 0,  0,       -L_s*i_d - Phi,     0,     1,                0],\n",
       "[           0,            0, 0, 0,  0,                    0,     0,     0, 1.5*N_pp*Phi + 1]])"
      ]
     },
     "execution_count": 7,
     "metadata": {},
     "output_type": "execute_result"
    }
   ],
   "source": [
    "sys['jac_ini']"
   ]
  },
  {
   "cell_type": "code",
   "execution_count": null,
   "metadata": {},
   "outputs": [],
   "source": []
  }
 ],
 "metadata": {
  "kernelspec": {
   "display_name": "Python 3 (ipykernel)",
   "language": "python",
   "name": "python3"
  },
  "language_info": {
   "codemirror_mode": {
    "name": "ipython",
    "version": 3
   },
   "file_extension": ".py",
   "mimetype": "text/x-python",
   "name": "python",
   "nbconvert_exporter": "python",
   "pygments_lexer": "ipython3",
   "version": "3.9.7"
  }
 },
 "nbformat": 4,
 "nbformat_minor": 4
}
