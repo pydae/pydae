{
 "cells": [
  {
   "cell_type": "code",
   "execution_count": 1,
   "metadata": {},
   "outputs": [],
   "source": [
    "import numpy as np\n",
    "import sympy as sym\n",
    "import pydae.build_cffi as db"
   ]
  },
  {
   "cell_type": "code",
   "execution_count": 2,
   "metadata": {},
   "outputs": [],
   "source": [
    "tau_d = 0.01\n",
    "L_s_n = 0.01\n",
    "R_s_n = 0.01\n",
    "K_p_n = L_s_n/tau_d\n",
    "K_i_n = R_s_n/tau_d\n",
    "params_dict = {'L_s':L_s_n,'R_s':R_s_n,\n",
    "               'N_pp':2.0,'Phi':1.0,\n",
    "              'K_p':K_p_n,'K_i':K_i_n}\n",
    "\n",
    "\n",
    "u_ini_dict = {'tau_r_ref':0.0,'i_d_ref':0.0}  # for the initialization problem\n",
    "u_run_dict = {'tau_r_ref':0.0,'i_d_ref':0.0}  # for the running problem (here initialization and running problem are the same)\n",
    "\n",
    "\n",
    "x_list = ['i_d','i_q','xi_i_d','xi_i_q']    # [inductor current, PI integrator]\n",
    "y_ini_list = ['tau_r','omega_e','v_d','v_q','i_q_ref'] # for the initialization problem\n",
    "y_run_list = ['tau_r','omega_e','v_d','v_q','i_q_ref'] # for the running problem (here initialization and running problem are the same)\n",
    "\n",
    "sys_vars = {'params':params_dict,\n",
    "            'u_list':u_run_dict,\n",
    "            'x_list':x_list,\n",
    "            'y_list':y_run_list}\n",
    "\n",
    "exec(db.sym_gen_str())  # exec to generate the required symbolic varables and constants"
   ]
  },
  {
   "cell_type": "code",
   "execution_count": 3,
   "metadata": {},
   "outputs": [],
   "source": [
    "params_dict = {'R_w':0.316,'G':9.81,'M':1200.0,'K_w':1.0,'C_rr':0.03,'Rho':1.225,'S_f':2.13,'C_x':0.32,'K_sign':100}\n",
    "\n",
    "\n",
    "u_ini_dict = {'beta':0.0}  # for the initialization problem\n",
    "u_run_dict = {'beta':0.0}  # for the running problem (here initialization and running problem are the same)\n",
    "\n",
    "\n",
    "x_list = ['nu','x_pos']    # [inductor current, PI integrator]\n",
    "y_ini_list = ['omega_r','snu'] # for the initialization problem\n",
    "y_run_list = ['omega_r','snu'] # for the running problem (here initialization and running problem are the same)\n",
    "\n",
    "sys_vars = {'params':params_dict,\n",
    "            'u_list':u_run_dict,\n",
    "            'x_list':x_list,\n",
    "            'y_list':y_run_list}\n",
    "\n",
    "exec(db.sym_gen_str())  # exec to generate the required symbolic varables and constants"
   ]
  },
  {
   "cell_type": "code",
   "execution_count": 4,
   "metadata": {},
   "outputs": [],
   "source": [
    "tau_w = tau_r/K_w\n",
    "f_w = tau_w/R_w\n",
    "f_b = G*M*sym.sin(beta)\n",
    "f_d = 0.5*Rho*S_f*C_x*nu**2*snu\n",
    "f_r = C_rr*G*M*snu\n",
    "p_r = tau_r*omega_r\n",
    "\n",
    "dnu = 1/M*(f_w - f_d - f_r - f_b)\n",
    "dx_pos = nu - x_pos*1e-4\n",
    "\n",
    "eq_snu = -snu + (1/(1+sym.exp(-nu*K_sign)))*2-1\n",
    "eq_omega_r =-omega_r +  nu/(K_w*R_w)\n",
    "\n",
    "\n",
    "f_mech_list = [dnu,dx_pos]\n",
    "g_mech_list = [eq_snu,eq_omega_r]\n",
    "\n",
    "x_mech_list = [ nu,  x_pos]\n",
    "y_mech_list = [ snu,omega_r]\n",
    "\n",
    "u_mech_dict = {'beta':0.0}\n",
    "\n",
    "params_mech_dict = {'R_w':0.316,'G':9.81,'M':1200.0,'K_w':1.0,'C_rr':0.03,'Rho':1.225,'S_f':2.13,'C_x':0.32,'K_sign':100}\n",
    "\n"
   ]
  },
  {
   "cell_type": "code",
   "execution_count": 5,
   "metadata": {},
   "outputs": [],
   "source": [
    "# pmsm:\n",
    "di_d = 1/L_s * (  v_d + L_s * omega_e * i_q - R_s * i_d  )\n",
    "di_q = 1/L_s * (  v_q - L_s * omega_e * i_d - omega_e * Phi - R_s * i_q  )\n",
    "eq_tau_r = -tau_r + 3/2*Phi*N_pp*i_q\n",
    "eq_omega_e = -omega_e + N_pp*omega_r\n",
    "\n",
    "# ctrl:\n",
    "epsilon_i_d =  i_d_ref - i_d\n",
    "epsilon_i_q =  i_q_ref - i_q\n",
    "u_d = K_p*epsilon_i_d + K_i*xi_i_d\n",
    "u_q = K_p*epsilon_i_q + K_i*xi_i_q\n",
    "\n",
    "eq_v_d = -u_d + v_d + L_s * omega_e * i_q \n",
    "eq_v_q = -u_q + v_q - L_s * omega_e * i_d -  omega_e * Phi \n",
    "dxi_i_d = epsilon_i_d\n",
    "dxi_i_q = epsilon_i_q\n",
    "eq_i_q_ref = - tau_r_ref + 3/2*Phi*N_pp*i_q_ref\n",
    "\n",
    "f_pmsm_list = [di_d,di_q,dxi_i_d,dxi_i_q]\n",
    "g_pmsm_list = [eq_tau_r,eq_omega_e,eq_v_d,eq_v_q,eq_i_q_ref]\n",
    "\n",
    "x_pmsm_list = [ i_d, i_q, xi_i_d, xi_i_q]\n",
    "y_pmsm_list = [ tau_r, omega_e, v_d, v_q, i_q_ref]\n",
    "\n",
    "u_pmsm_dict = {'tau_r_ref':0.0,'i_d_ref':0.0}\n",
    "\n",
    "params_pmsm_dict = {'L_s':L_s_n,'R_s':R_s_n,\n",
    "               'N_pp':2.0,'Phi':1.0,\n",
    "              'K_p':K_p_n,'K_i':K_i_n}"
   ]
  },
  {
   "cell_type": "code",
   "execution_count": 6,
   "metadata": {},
   "outputs": [
    {
     "name": "stderr",
     "output_type": "stream",
     "text": [
      "C:\\Users\\jmmau\\anaconda3\\lib\\site-packages\\sympy\\matrices\\repmatrix.py:98: SymPyDeprecationWarning: \n",
      "\n",
      "non-Expr objects in a Matrix has been deprecated since SymPy 1.9. Use\n",
      "list of lists, TableForm or some other data structure instead. See\n",
      "https://github.com/sympy/sympy/issues/21497 for more info.\n",
      "\n",
      "  SymPyDeprecationWarning(\n"
     ]
    },
    {
     "name": "stdout",
     "output_type": "stream",
     "text": [
      "0.029957056045532227\n",
      "0.03190112113952637\n",
      "Compilation time: 4.47 s\n"
     ]
    }
   ],
   "source": [
    "f_list = f_pmsm_list + f_mech_list\n",
    "g_list = g_pmsm_list + g_mech_list\n",
    "x_list = x_pmsm_list + x_mech_list\n",
    "y_list = y_pmsm_list + y_mech_list\n",
    "params_dict = params_pmsm_dict\n",
    "params_dict.update(params_mech_dict)\n",
    "u_dict = u_pmsm_dict\n",
    "u_dict.update(u_mech_dict)\n",
    "h_dict = {'u_d':u_d,'u_q':u_q,'tau_r_ref':tau_r_ref,'v_pk':(v_d**2+v_q**2)**0.5,\n",
    "         'f_w':f_w,'f_d':f_d,'f_r':f_r,'tau_r':tau_r,'p_r':tau_r*omega_r,'nu_kmh':3.6*nu}\n",
    "\n",
    "sys = {'name':f\"pmsm_mech\",\n",
    "       'params_dict':params_dict,\n",
    "       'f_list':f_list,\n",
    "       'g_list':g_list,\n",
    "       'x_list':x_list,\n",
    "       'y_ini_list':y_list,\n",
    "       'y_run_list':y_list,\n",
    "       'u_run_dict':u_dict,\n",
    "       'u_ini_dict':u_dict,\n",
    "       'h_dict':h_dict\n",
    "      }\n",
    "\n",
    "sys = db.build(sys)\n"
   ]
  },
  {
   "cell_type": "code",
   "execution_count": 11,
   "metadata": {},
   "outputs": [
    {
     "data": {
      "text/latex": [
       "$\\displaystyle \\omega_{r}$"
      ],
      "text/plain": [
       "omega_r"
      ]
     },
     "execution_count": 11,
     "metadata": {},
     "output_type": "execute_result"
    }
   ],
   "source": [
    "omega_r"
   ]
  },
  {
   "cell_type": "code",
   "execution_count": 12,
   "metadata": {},
   "outputs": [
    {
     "data": {
      "text/plain": [
       "{'tau_r_ref': 0.0, 'i_d_ref': 0.0, 'beta': 0.0}"
      ]
     },
     "execution_count": 12,
     "metadata": {},
     "output_type": "execute_result"
    }
   ],
   "source": [
    "u_dict"
   ]
  },
  {
   "cell_type": "code",
   "execution_count": null,
   "metadata": {},
   "outputs": [],
   "source": []
  }
 ],
 "metadata": {
  "kernelspec": {
   "display_name": "Python 3 (ipykernel)",
   "language": "python",
   "name": "python3"
  },
  "language_info": {
   "codemirror_mode": {
    "name": "ipython",
    "version": 3
   },
   "file_extension": ".py",
   "mimetype": "text/x-python",
   "name": "python",
   "nbconvert_exporter": "python",
   "pygments_lexer": "ipython3",
   "version": "3.9.7"
  }
 },
 "nbformat": 4,
 "nbformat_minor": 4
}
