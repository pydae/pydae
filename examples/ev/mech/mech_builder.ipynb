{
 "cells": [
  {
   "cell_type": "code",
   "execution_count": 1,
   "metadata": {},
   "outputs": [],
   "source": [
    "import numpy as np\n",
    "import sympy as sym\n",
    "import pydae.build_cffi as db"
   ]
  },
  {
   "cell_type": "code",
   "execution_count": 2,
   "metadata": {},
   "outputs": [],
   "source": [
    "params_dict = {'R_w':0.316,'G':9.81,'M':1200.0,'K_w':1.0,'C_rr':0.03,'Rho':1.225,'S_f':2.13,'C_x':0.32,'K_sign':100}\n",
    "\n",
    "\n",
    "u_ini_dict = {'tau_r':0.0,'beta':0.0}  # for the initialization problem\n",
    "u_run_dict = {'tau_r':0.0,'beta':0.0}  # for the running problem (here initialization and running problem are the same)\n",
    "\n",
    "\n",
    "x_list = ['nu','x_pos']    # [inductor current, PI integrator]\n",
    "y_ini_list = ['omega_r','snu'] # for the initialization problem\n",
    "y_run_list = ['omega_r','snu'] # for the running problem (here initialization and running problem are the same)\n",
    "\n",
    "sys_vars = {'params':params_dict,\n",
    "            'u_list':u_run_dict,\n",
    "            'x_list':x_list,\n",
    "            'y_list':y_run_list}\n",
    "\n",
    "exec(db.sym_gen_str())  # exec to generate the required symbolic varables and constants"
   ]
  },
  {
   "cell_type": "code",
   "execution_count": 3,
   "metadata": {},
   "outputs": [],
   "source": [
    "tau_w = tau_r/K_w\n",
    "f_w = tau_w/R_w\n",
    "f_b = G*M*sym.sin(beta)\n",
    "f_d = 0.5*Rho*S_f*C_x*nu**2*snu\n",
    "f_r = C_rr*G*M*snu\n",
    "p_r = tau_r*omega_r\n",
    "\n",
    "dnu = 1/M*(f_w - f_d - f_r - f_b)\n",
    "dx_pos = nu - x_pos*1e-4\n",
    "\n",
    "eq_snu = -snu + (1/(1+sym.exp(-nu*K_sign)))*2-1\n",
    "eq_omega_r =-omega_r +  nu/(K_w*R_w)\n",
    "\n"
   ]
  },
  {
   "cell_type": "code",
   "execution_count": 4,
   "metadata": {},
   "outputs": [
    {
     "name": "stderr",
     "output_type": "stream",
     "text": [
      "C:\\Users\\jmmau\\anaconda3\\lib\\site-packages\\sympy\\matrices\\repmatrix.py:98: SymPyDeprecationWarning: \n",
      "\n",
      "non-Expr objects in a Matrix has been deprecated since SymPy 1.9. Use\n",
      "list of lists, TableForm or some other data structure instead. See\n",
      "https://github.com/sympy/sympy/issues/21497 for more info.\n",
      "\n",
      "  SymPyDeprecationWarning(\n"
     ]
    },
    {
     "name": "stdout",
     "output_type": "stream",
     "text": [
      "0.006979942321777344\n",
      "0.017953157424926758\n",
      "Compilation time: 5.50 s\n"
     ]
    }
   ],
   "source": [
    "f_list = [dnu,dx_pos]\n",
    "g_list = [eq_snu,eq_omega_r]\n",
    "h_dict = {'f_w':f_w,'f_d':f_d,'f_r':f_r,'tau_r':tau_r,'p_r':p_r,'nu_kmh':3.6*nu}\n",
    "\n",
    "sys = {'name':f\"mech\",\n",
    "       'params_dict':params_dict,\n",
    "       'f_list':f_list,\n",
    "       'g_list':g_list,\n",
    "       'x_list':x_list,\n",
    "       'y_ini_list':y_list,\n",
    "       'y_run_list':y_list,\n",
    "       'u_run_dict':u_run_dict,\n",
    "       'u_ini_dict':u_ini_dict,\n",
    "       'h_dict':h_dict\n",
    "      }\n",
    "\n",
    "sys = db.build(sys)\n"
   ]
  },
  {
   "cell_type": "code",
   "execution_count": 10,
   "metadata": {},
   "outputs": [
    {
     "data": {
      "text/latex": [
       "$\\displaystyle \\left[\\begin{matrix}- \\frac{1.0 C_{x} P S_{f} \\nu snu}{M} & 0 & 0 & \\frac{- C_{rr} G M - 0.5 C_{x} P S_{f} \\nu^{2}}{M}\\\\1 & -0.0001 & 0 & 0\\\\\\frac{2 K_{sign} e^{- K_{sign} \\nu}}{\\left(1 + e^{- K_{sign} \\nu}\\right)^{2}} & 0 & 0 & -1\\\\\\frac{1}{K_{w} R_{w}} & 0 & -1 & 0\\end{matrix}\\right]$"
      ],
      "text/plain": [
       "Matrix([\n",
       "[                        -1.0*C_x*Rho*S_f*nu*snu/M,       0,  0, (-C_rr*G*M - 0.5*C_x*Rho*S_f*nu**2)/M],\n",
       "[                                                1, -0.0001,  0,                                     0],\n",
       "[2*K_sign*exp(-K_sign*nu)/(1 + exp(-K_sign*nu))**2,       0,  0,                                    -1],\n",
       "[                                      1/(K_w*R_w),       0, -1,                                     0]])"
      ]
     },
     "execution_count": 10,
     "metadata": {},
     "output_type": "execute_result"
    }
   ],
   "source": [
    "sys['jac_ini']"
   ]
  },
  {
   "cell_type": "code",
   "execution_count": null,
   "metadata": {},
   "outputs": [],
   "source": []
  }
 ],
 "metadata": {
  "kernelspec": {
   "display_name": "Python 3 (ipykernel)",
   "language": "python",
   "name": "python3"
  },
  "language_info": {
   "codemirror_mode": {
    "name": "ipython",
    "version": 3
   },
   "file_extension": ".py",
   "mimetype": "text/x-python",
   "name": "python",
   "nbconvert_exporter": "python",
   "pygments_lexer": "ipython3",
   "version": "3.9.7"
  }
 },
 "nbformat": 4,
 "nbformat_minor": 4
}
