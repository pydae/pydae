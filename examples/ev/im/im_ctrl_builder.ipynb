{
 "cells": [
  {
   "cell_type": "code",
   "execution_count": 1,
   "metadata": {},
   "outputs": [],
   "source": [
    "import numpy as np\n",
    "import sympy as sym\n",
    "import pydae.build_cffi as db"
   ]
  },
  {
   "cell_type": "code",
   "execution_count": 2,
   "metadata": {},
   "outputs": [],
   "source": [
    "tau_d = 0.01\n",
    "L_ls = 0.01\n",
    "R_s = 0.01\n",
    "L_lr = 0.01\n",
    "R_r = 0.01\n",
    "L_m = 1.0\n",
    "\n",
    "K_p = L_ls/tau_d\n",
    "K_i = R_s/tau_d\n",
    "params_dict = {'L_m':L_m,\n",
    "               'R_s':R_s,'L_ls':L_ls,\n",
    "               'R_r':R_r,'L_lr':L_lr,               \n",
    "               'N_pp':2.0,\n",
    "               'J_r':1.0, 'B_r':0.1,\n",
    "               'K_p':K_p,'K_i':K_i,\n",
    "               'K_p_sq':0.0,'K_i_sq':0.0}\n",
    "\n",
    "\n",
    "u_ini_dict = {'v_sd':0.0,'v_sq':325.0,'tau_l':0,\n",
    "              'omega':2*np.pi*50,'i_sq_ref':0.0,'i_sd_ref':0.0}  # for the initialization problem\n",
    "u_run_dict = {'v_sd':0.0,'v_sq':325.0,'tau_l':0,\n",
    "              'omega':2*np.pi*50,'i_sq_ref':0.0,'i_sd_ref':0.0}  # for the running problem (here initialization and running problem are the same)\n",
    "\n",
    "\n",
    "x_list = ['lambda_sd','lambda_sq','lambda_rd','lambda_rq','omega_r',\n",
    "         'lambda_rd_est','delta_lrd_est']    # [inductor current, PI integrator]\n",
    "y_ini_list = ['tau_r'] # for the initialization problem\n",
    "y_run_list = ['tau_r'] # for the running problem (here initialization and running problem are the same)\n",
    "\n",
    "sys_vars = {'params':params_dict,\n",
    "            'u_list':u_run_dict,\n",
    "            'x_list':x_list,\n",
    "            'y_list':y_run_list}\n",
    "\n",
    "exec(db.sym_gen_str())  # exec to generate the required symbolic varables and constants"
   ]
  },
  {
   "cell_type": "code",
   "execution_count": 4,
   "metadata": {},
   "outputs": [
    {
     "ename": "NameError",
     "evalue": "name 'xi_sd' is not defined",
     "output_type": "error",
     "traceback": [
      "\u001b[1;31m---------------------------------------------------------------------------\u001b[0m",
      "\u001b[1;31mNameError\u001b[0m                                 Traceback (most recent call last)",
      "\u001b[1;32m~\\AppData\\Local\\Temp/ipykernel_17344/4016741057.py\u001b[0m in \u001b[0;36m<module>\u001b[1;34m\u001b[0m\n\u001b[0;32m     58\u001b[0m \u001b[0mepsilon_sq\u001b[0m \u001b[1;33m=\u001b[0m \u001b[0mi_sq_ref\u001b[0m \u001b[1;33m-\u001b[0m \u001b[0mi_sq_ctrl\u001b[0m\u001b[1;33m;\u001b[0m\u001b[1;33m\u001b[0m\u001b[1;33m\u001b[0m\u001b[0m\n\u001b[0;32m     59\u001b[0m \u001b[1;33m\u001b[0m\u001b[0m\n\u001b[1;32m---> 60\u001b[1;33m \u001b[0mu_d\u001b[0m \u001b[1;33m=\u001b[0m \u001b[0mK_p\u001b[0m\u001b[1;33m*\u001b[0m\u001b[1;33m(\u001b[0m\u001b[0mepsilon_sd\u001b[0m \u001b[1;33m+\u001b[0m \u001b[0mxi_sd\u001b[0m\u001b[1;33m/\u001b[0m\u001b[0mT_pi\u001b[0m\u001b[1;33m)\u001b[0m\u001b[1;33m;\u001b[0m\u001b[1;33m\u001b[0m\u001b[1;33m\u001b[0m\u001b[0m\n\u001b[0m\u001b[0;32m     61\u001b[0m \u001b[0mu_q\u001b[0m \u001b[1;33m=\u001b[0m \u001b[0mK_p\u001b[0m\u001b[1;33m*\u001b[0m\u001b[1;33m(\u001b[0m\u001b[0mepsilon_sq\u001b[0m \u001b[1;33m+\u001b[0m \u001b[0mxi_sq\u001b[0m\u001b[1;33m/\u001b[0m\u001b[0mT_pi\u001b[0m\u001b[1;33m)\u001b[0m\u001b[1;33m;\u001b[0m\u001b[1;33m\u001b[0m\u001b[1;33m\u001b[0m\u001b[0m\n\u001b[0;32m     62\u001b[0m \u001b[1;33m\u001b[0m\u001b[0m\n",
      "\u001b[1;31mNameError\u001b[0m: name 'xi_sd' is not defined"
     ]
    }
   ],
   "source": [
    "# im:\n",
    "\n",
    "L_s  =  L_m + L_ls\n",
    "L_r  =  L_m + L_lr \n",
    "omega_e = N_pp*omega_r\n",
    "i_sd = (L_m * lambda_rd - L_r * lambda_sd)/(L_m**2 - L_r * L_s)\n",
    "i_sq = (L_m * lambda_rq - L_r * lambda_sq)/(L_m**2 - L_r * L_s)\n",
    "i_rd = (L_m * lambda_sd - L_s * lambda_rd)/(L_m**2 - L_r * L_s)\n",
    "i_rq = (L_m * lambda_sq - L_s * lambda_rq)/(L_m**2 - L_r * L_s)\n",
    "\n",
    "dlambda_sd = v_sd - R_s * i_sd + omega * lambda_sq\n",
    "dlambda_sq = v_sq - R_s * i_sq - omega * lambda_sd\n",
    "dlambda_rd = -R_r * i_rd + (omega - omega_e) * lambda_rq \n",
    "dlambda_rq = -R_r * i_rq - (omega - omega_e) * lambda_rd\n",
    "\n",
    "eq_tau_r = -tau_r + 3/2* N_pp * (lambda_sd *  i_sq - lambda_sq * i_sd)\n",
    "\n",
    "# mech:\n",
    "domega_r = 1/J_r*(tau_r - B_r*omega_r**2 - tau_l)\n",
    "\n",
    "# ctrl:\n",
    "i_sd_ctrl = 2.0/3.0*(i_sd*cos(delta_lrd_est) + i_sq*sin(delta_lrd_est))\n",
    "i_sq_ctrl = 2.0/3.0*(i_sd*sin(delta_lrd_est) - i_sq*cos(delta_lrd_est))\n",
    "\n",
    "#dlambda_rd_est = -R_r/L_r*lambda_rd_est + L_m*R_r/L_r*i_sd_m\n",
    "#ddelta_lrd_est = -L_m*i_sq_m/(L_r*delta_lrd_est)*R_r + omega_e - omega\n",
    "\n",
    "#lambda_sq = L_s*i_sq + L_m*i_rq\n",
    "#i_rq = L_m/L_r*i_sq\n",
    "#lambda_sq = L_s*i_sq + L_m*L_m/L_r*i_sq\n",
    "#dlambda_sq = (L_s+L_m**2/L_r)*di_sq\n",
    "#dlambda_sq = v_sq - R_s * i_sq - omega * lambda_sd\n",
    "#di_sq = 1/L_eq*(v_sq - R_s * i_sq - omega * lambda_sd)\n",
    "#lambda_sd_est = L_s*i_sd\n",
    "#omega_est = -L_m*i_sq/(L_r*lambda_rd_est)*R_r + omega_e\n",
    "#di_sq = 1/L_eq*(v_sq - R_s * i_sq - omega_est * lambda_sd_est)\n",
    "\n",
    "#u_sq = v_sq - omega_est * lambda_sd_est\n",
    "#di_sq = 1/L_eq*(u_sq - R_s * i_sq)\n",
    "\n",
    "#epsilon_sq = i_sq_ref - i_sq\n",
    "#epsilon_sd = i_sd_ref - i_sd\n",
    "\n",
    "#u_sq = K_p_sq*epsilon_sq + K_i_sq*xi_sq\n",
    "#eq_v_sq = -v_sq +  u_sq + omega_est * lambda_sd_est\n",
    "\n",
    "#i_sq_ref = tau_r_ref/(3/2*N_pp*lambda_rd*L_m/L_r);\n",
    "#theta_e = N_pp*theta_r;\n",
    "omega_e = N_pp*omega_r;\n",
    "\n",
    "\n",
    "\n",
    "omega_est = L_m/L_r*i_sq_ctrl/lambda_rd*R_r + omega_e - omega;\n",
    "ddelta_lrd_est = omega_est;\n",
    "dlambda_rd_est = -R_r/L_r * lambda_rd_est + R_r*L_m/L_r*i_sd_ctrl;\n",
    "\n",
    "epsilon_sd = i_sd_ref - i_sd_ctrl;\n",
    "epsilon_sq = i_sq_ref - i_sq_ctrl;\n",
    "\n",
    "u_d = K_p*(epsilon_sd + xi_sd/T_pi);\n",
    "u_q = K_p*(epsilon_sq + xi_sq/T_pi);\n",
    "\n",
    "dxi_d = epsilon_sd;\n",
    "dxi_q = epsilon_sq;\n",
    "\n",
    "lambda_sd = L_s*i_sd_ctrl;\n",
    "\n",
    "i_rq_ctrl = -L_m/L_r*i_sq_ctrl;\n",
    "lambda_sq = L_s*i_sq_ctrl + L_m*i_rq_ctrl;\n",
    "\n",
    "v_sd_ctrl = u_d + lambda_sq*omega_est;\n",
    "v_sq_ctrl = u_q + lambda_sq*omega_est;\n",
    "\n",
    "eq_v_sd = -v_sd + 2.0/3.0*(v_sd_ctrl*cos(delta_lrd_est) - v_sq_ctrl*sin(delta_lrd_est))\n",
    "eq_v_sq = -v_sq + 2.0/3.0*(v_sd_ctrl*sin(delta_lrd_est) + v_sq_ctrl*cos(delta_lrd_est))\n",
    "\n"
   ]
  },
  {
   "cell_type": "code",
   "execution_count": 13,
   "metadata": {},
   "outputs": [
    {
     "name": "stdout",
     "output_type": "stream",
     "text": [
      "Compilation time: 2.11 s\n"
     ]
    }
   ],
   "source": [
    "f_list = [dlambda_sd,dlambda_sq,dlambda_rd,dlambda_rq,domega_r,\n",
    "          dlambda_rd_est,ddelta_lrd_est,dxi_d,dxi_q]\n",
    "x_list = [ lambda_sd, lambda_sq, lambda_rd, lambda_rq, omega_r,\n",
    "           lambda_rd_est,delta_lrd_est, xi_d, xi_q]\n",
    "g_list = [eq_tau_r, eq_v_sd]\n",
    "y_list = [   tau_r,   v_sd]\n",
    "\n",
    "p_s = 3/2*(i_sq*v_sq + i_sd*v_sd)\n",
    "q_s = 3/2*(i_sd*v_sq - i_sq*v_sd)\n",
    "\n",
    "h_dict = {'i_sd':i_sd,'i_sq':i_sq,'i_rd':i_rd,'i_rq':i_rq,'i_pk':(i_sd**2+i_sq**2)**0.5,\n",
    "          'tau_b':B_r*omega_r,'tau_l':tau_l,\n",
    "         'p_s':p_s,'q_s':q_s}\n",
    "\n",
    "sys = {'name':f\"im_ctrl\",\n",
    "       'params_dict':params_dict,\n",
    "       'f_list':f_list,\n",
    "       'g_list':g_list,\n",
    "       'x_list':x_list,\n",
    "       'y_ini_list':y_list,\n",
    "       'y_run_list':y_list,\n",
    "       'u_run_dict':u_run_dict,\n",
    "       'u_ini_dict':u_ini_dict,\n",
    "       'h_dict':h_dict\n",
    "      }\n",
    "\n",
    "sys = db.build(sys)\n"
   ]
  },
  {
   "cell_type": "code",
   "execution_count": null,
   "metadata": {},
   "outputs": [],
   "source": []
  },
  {
   "cell_type": "code",
   "execution_count": 5,
   "metadata": {},
   "outputs": [
    {
     "name": "stdout",
     "output_type": "stream",
     "text": [
      "Compilation time: 4.20 s\n"
     ]
    }
   ],
   "source": [
    "f_list = [domega_r]\n",
    "x_list = [omega_r]\n",
    "g_list = [eq_tau_r,dlambda_sd,dlambda_sq,dlambda_rd,dlambda_rq]\n",
    "y_list = [tau_r,lambda_sd,lambda_sq,lambda_rd,lambda_rq]\n",
    "p_s = 3/2*(i_sq*v_sq + i_sd*v_sd)\n",
    "q_s = 3/2*(i_sd*v_sq - i_sq*v_sd)\n",
    "\n",
    "h_dict = {'i_sd':i_sd,'i_sq':i_sq,'i_rd':i_rd,'i_rq':i_rq,'i_pk':(i_sd**2+i_sq**2)**0.5,\n",
    "          'tau_b':B_r*omega_r,'tau_l':tau_l,\n",
    "         'p_s':p_s,'q_s':q_s}\n",
    "\n",
    "sys = {'name':f\"ima\",\n",
    "       'params_dict':params_dict,\n",
    "       'f_list':f_list,\n",
    "       'g_list':g_list,\n",
    "       'x_list':x_list,\n",
    "       'y_ini_list':y_list,\n",
    "       'y_run_list':y_list,\n",
    "       'u_run_dict':u_run_dict,\n",
    "       'u_ini_dict':u_ini_dict,\n",
    "       'h_dict':h_dict\n",
    "      }\n",
    "\n",
    "sys = db.build(sys)"
   ]
  },
  {
   "cell_type": "code",
   "execution_count": 7,
   "metadata": {},
   "outputs": [
    {
     "data": {
      "text/latex": [
       "$\\displaystyle \\left[\\begin{matrix}- \\frac{R_{s}}{L_{s}} & \\omega_{e} & 0 & 0 & 0 & i_{q} & \\frac{1}{L_{s}} & 0 & 0\\\\- \\omega_{e} & - \\frac{R_{s}}{L_{s}} & 0 & 0 & 0 & \\frac{- L_{s} i_{d} - \\Phi}{L_{s}} & 0 & \\frac{1}{L_{s}} & 0\\\\-1 & 0 & 0 & 0 & 0 & 0 & 0 & 0 & 0\\\\0 & -1 & 0 & 0 & 0 & 0 & 0 & 0 & 1\\\\0 & 1.5 N_{pp} \\Phi & 0 & 0 & -1 & 0 & 0 & 0 & 0\\\\0 & 0 & 0 & 0 & 0 & -1 & 0 & 0 & 0\\\\0 & L_{s} \\omega_{e} & 0 & 0 & 0 & L_{s} i_{q} & 1 & 0 & 0\\\\- L_{s} \\omega_{e} & 0 & 0 & 0 & 0 & - L_{s} i_{d} - \\Phi & 0 & 1 & 0\\\\0 & 0 & 0 & 0 & 0 & 0 & 0 & 0 & 1.5 N_{pp} \\Phi + 1\\end{matrix}\\right]$"
      ],
      "text/plain": [
       "Matrix([\n",
       "[    -R_s/L_s,      omega_e, 0, 0,  0,                  i_q, 1/L_s,     0,                0],\n",
       "[    -omega_e,     -R_s/L_s, 0, 0,  0, (-L_s*i_d - Phi)/L_s,     0, 1/L_s,                0],\n",
       "[          -1,            0, 0, 0,  0,                    0,     0,     0,                0],\n",
       "[           0,           -1, 0, 0,  0,                    0,     0,     0,                1],\n",
       "[           0, 1.5*N_pp*Phi, 0, 0, -1,                    0,     0,     0,                0],\n",
       "[           0,            0, 0, 0,  0,                   -1,     0,     0,                0],\n",
       "[           0,  L_s*omega_e, 0, 0,  0,              L_s*i_q,     1,     0,                0],\n",
       "[-L_s*omega_e,            0, 0, 0,  0,       -L_s*i_d - Phi,     0,     1,                0],\n",
       "[           0,            0, 0, 0,  0,                    0,     0,     0, 1.5*N_pp*Phi + 1]])"
      ]
     },
     "execution_count": 7,
     "metadata": {},
     "output_type": "execute_result"
    }
   ],
   "source": [
    "# ctrl:\n",
    "epsilon_i_d =  i_d_ref - i_d\n",
    "epsilon_i_q =  i_q_ref - i_q\n",
    "u_d = K_p*epsilon_i_d + K_i*xi_i_d\n",
    "u_q = K_p*epsilon_i_q + K_i*xi_i_q\n",
    "\n",
    "eq_v_d = -u_d + v_d + L_s * omega_e * i_q \n",
    "eq_v_q = -u_q + v_q - L_s * omega_e * i_d -  omega_e * Phi \n",
    "dxi_i_d = epsilon_i_d\n",
    "dxi_i_q = epsilon_i_q\n",
    "eq_i_q_ref = - tau_r_ref + 3/2*Phi*N_pp*i_q_ref"
   ]
  },
  {
   "cell_type": "code",
   "execution_count": null,
   "metadata": {},
   "outputs": [],
   "source": []
  }
 ],
 "metadata": {
  "kernelspec": {
   "display_name": "Python 3 (ipykernel)",
   "language": "python",
   "name": "python3"
  },
  "language_info": {
   "codemirror_mode": {
    "name": "ipython",
    "version": 3
   },
   "file_extension": ".py",
   "mimetype": "text/x-python",
   "name": "python",
   "nbconvert_exporter": "python",
   "pygments_lexer": "ipython3",
   "version": "3.9.7"
  }
 },
 "nbformat": 4,
 "nbformat_minor": 4
}
