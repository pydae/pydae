{
 "cells": [
  {
   "cell_type": "code",
   "execution_count": 1,
   "metadata": {},
   "outputs": [],
   "source": [
    "import numpy as np\n",
    "import sympy as sym\n",
    "import numba\n",
    "import pydae.build as db"
   ]
  },
  {
   "cell_type": "code",
   "execution_count": null,
   "metadata": {},
   "outputs": [],
   "source": []
  },
  {
   "cell_type": "markdown",
   "metadata": {},
   "source": [
    "\\begin{eqnarray}\n",
    "\\dot \\delta &=& \\Omega_b \\left(\\omega - \\omega_s\\right)\\\\\n",
    "\\dot \\omega &=& 1/(2 H) \\left(p_m - p_e - D (\\omega - \\omega_s) \\right)\\\\\n",
    "\\end{eqnarray}\n",
    "\n"
   ]
  },
  {
   "cell_type": "markdown",
   "metadata": {},
   "source": [
    "## System definition "
   ]
  },
  {
   "cell_type": "code",
   "execution_count": 2,
   "metadata": {},
   "outputs": [],
   "source": [
    "params_dict = {'X_d':1.81,'X1d':0.3,'T1d0':8.0,\n",
    "               'X_q':1.76,'X1q':0.65,'T1q0':1.0,\n",
    "               'R_a':0.003,'X_l': 0.05, \n",
    "               'H':3.5,'D':1.0,\n",
    "               'Omega_b':2*np.pi*50,'omega_s':1.0,\n",
    "               'v_0':0.9008,'theta_0':0.0}\n",
    "\n",
    "\n",
    "u_ini_dict = {'P_t':0.8, 'Q_t':0.2}  # for the initialization problem\n",
    "u_run_dict = {'p_m':0.8,'e1q':1.0}  # for the running problem (here initialization and running problem are the same)\n",
    "\n",
    "\n",
    "x_list = ['delta','omega']    # [inductor current, PI integrator]\n",
    "y_ini_list = ['p_e','i_d','i_q','v_d','v_q','v_1','theta_1','p_m','e1q'] # for the initialization problem\n",
    "y_run_list = ['p_e','i_d','i_q','v_d','v_q','v_1','theta_1','P_t','Q_t'] # for the running problem \n",
    "\n",
    "sys_vars = {'params':params_dict,\n",
    "            'u_list':u_run_dict,\n",
    "            'x_list':x_list,\n",
    "            'y_list':y_run_list}\n",
    "\n",
    "exec(db.sym_gen_str())  # exec to generate the required symbolic varables and constants"
   ]
  },
  {
   "cell_type": "code",
   "execution_count": 3,
   "metadata": {},
   "outputs": [],
   "source": [
    " \n",
    "\n",
    "ddelta = Omega_b*(omega - omega_s)\n",
    "domega = 1/(2*H)*(p_m - p_e - D*(omega - omega_s))\n",
    "\n",
    "g_1 = (v_q + R_a*i_q)*i_q + (v_d + R_a*i_d)*i_d  - p_e \n",
    "g_2 = v_q + R_a*i_q - e1q + X1q*i_d \n",
    "g_3 = v_d + R_a*i_d - X1d*i_q\n",
    "g_4 = v_1*sin(delta - theta_1) - v_d\n",
    "g_5 = v_1*cos(delta - theta_1) - v_q\n",
    "g_6 = i_d*v_d + i_q*v_q - P_t\n",
    "g_7 = i_d*v_q - i_q*v_d - Q_t\n",
    "g_8 = -P_t - (v_1*v_0*sin(theta_1 - theta_0))/X_l\n",
    "g_9 = -Q_t + (v_1*v_0*cos(theta_1 - theta_0))/X_l - v_1**2/X_l\n",
    "\n",
    "\n",
    "f_list = [ddelta,domega]\n",
    "g_list = [g_1,g_2,g_3,g_4,g_5,g_6,g_7,g_8,g_9]\n",
    "h_dict = {'p_m':p_m,'p_e':p_e}\n",
    "\n",
    "sys_dict = {'name':'smib_milano_ex8p1',\n",
    "            'params_dict':params_dict,\n",
    "            'f_list':f_list,\n",
    "            'g_list':g_list,\n",
    "            'x_list':x_list,\n",
    "            'y_ini_list':y_ini_list,\n",
    "            'y_run_list':y_run_list,\n",
    "            'u_run_dict':u_run_dict,\n",
    "            'u_ini_dict':u_ini_dict,\n",
    "            'h_dict':h_dict}\n",
    "\n",
    "\n",
    "db.system(sys_dict)\n",
    "db.sys2num(sys_dict)\n",
    "                "
   ]
  },
  {
   "cell_type": "code",
   "execution_count": 4,
   "metadata": {},
   "outputs": [
    {
     "data": {
      "text/latex": [
       "$\\displaystyle \\left[\\begin{matrix}i_{d} \\left(R_{a} i_{d} + v_{d}\\right) + i_{q} \\left(R_{a} i_{q} + v_{q}\\right) - p_{e}\\\\R_{a} i_{q} + X1q i_{d} - e1q + v_{q}\\\\R_{a} i_{d} - X1d i_{q} + v_{d}\\\\v_{1} \\sin{\\left(\\delta - \\theta_{1} \\right)} - v_{d}\\\\v_{1} \\cos{\\left(\\delta - \\theta_{1} \\right)} - v_{q}\\\\- P_{t} + i_{d} v_{d} + i_{q} v_{q}\\\\- Q_{t} + i_{d} v_{q} - i_{q} v_{d}\\\\- P_{t} + \\frac{v_{0} v_{1} \\sin{\\left(\\theta_{0} - \\theta_{1} \\right)}}{X_{l}}\\\\- Q_{t} + \\frac{v_{0} v_{1} \\cos{\\left(\\theta_{0} - \\theta_{1} \\right)}}{X_{l}} - \\frac{v_{1}^{2}}{X_{l}}\\end{matrix}\\right]$"
      ],
      "text/plain": [
       "Matrix([\n",
       "[       i_d*(R_a*i_d + v_d) + i_q*(R_a*i_q + v_q) - p_e],\n",
       "[                         R_a*i_q + X1q*i_d - e1q + v_q],\n",
       "[                               R_a*i_d - X1d*i_q + v_d],\n",
       "[                        v_1*sin(delta - theta_1) - v_d],\n",
       "[                        v_1*cos(delta - theta_1) - v_q],\n",
       "[                              -P_t + i_d*v_d + i_q*v_q],\n",
       "[                              -Q_t + i_d*v_q - i_q*v_d],\n",
       "[             -P_t + v_0*v_1*sin(theta_0 - theta_1)/X_l],\n",
       "[-Q_t + v_0*v_1*cos(theta_0 - theta_1)/X_l - v_1**2/X_l]])"
      ]
     },
     "execution_count": 4,
     "metadata": {},
     "output_type": "execute_result"
    }
   ],
   "source": [
    "sys_dict['g']"
   ]
  },
  {
   "cell_type": "code",
   "execution_count": null,
   "metadata": {},
   "outputs": [],
   "source": []
  },
  {
   "cell_type": "code",
   "execution_count": null,
   "metadata": {},
   "outputs": [],
   "source": []
  }
 ],
 "metadata": {
  "kernelspec": {
   "display_name": "Python 3",
   "language": "python",
   "name": "python3"
  },
  "language_info": {
   "codemirror_mode": {
    "name": "ipython",
    "version": 3
   },
   "file_extension": ".py",
   "mimetype": "text/x-python",
   "name": "python",
   "nbconvert_exporter": "python",
   "pygments_lexer": "ipython3",
   "version": "3.7.7"
  }
 },
 "nbformat": 4,
 "nbformat_minor": 4
}
