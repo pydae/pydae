{
 "cells": [
  {
   "cell_type": "markdown",
   "metadata": {},
   "source": [
    "# SMIB system as in Milano's book example 8.1"
   ]
  },
  {
   "cell_type": "code",
   "execution_count": 1,
   "metadata": {},
   "outputs": [],
   "source": [
    "%matplotlib widget"
   ]
  },
  {
   "cell_type": "code",
   "execution_count": 2,
   "metadata": {},
   "outputs": [],
   "source": [
    "import numpy as np\n",
    "import matplotlib.pyplot as plt\n",
    "import scipy.optimize as sopt\n",
    "import ipywidgets\n",
    "from pydae import ssa\n",
    "import control as ctrl"
   ]
  },
  {
   "cell_type": "markdown",
   "metadata": {},
   "source": [
    "## Import system module"
   ]
  },
  {
   "cell_type": "code",
   "execution_count": 3,
   "metadata": {},
   "outputs": [],
   "source": [
    "from smib_milano_ex8p1_4ord import smib_milano_ex8p1_4ord_class"
   ]
  },
  {
   "cell_type": "markdown",
   "metadata": {},
   "source": [
    "## Instantiate system"
   ]
  },
  {
   "cell_type": "code",
   "execution_count": 4,
   "metadata": {},
   "outputs": [],
   "source": [
    "syst = smib_milano_ex8p1_4ord_class()\n",
    "syst.t_end = 15.0\n",
    "syst.Dt = 0.001\n",
    "syst.decimation =1\n",
    "syst.update()"
   ]
  },
  {
   "cell_type": "markdown",
   "metadata": {},
   "source": [
    "## Initialize the system (backward and foreward)"
   ]
  },
  {
   "cell_type": "code",
   "execution_count": 5,
   "metadata": {},
   "outputs": [
    {
     "data": {
      "text/plain": [
       "(array([], shape=(0, 1), dtype=float64),\n",
       " array([], shape=(0, 4), dtype=float64),\n",
       " array([], shape=(0, 6), dtype=float64),\n",
       " array([], shape=(0, 2), dtype=float64))"
      ]
     },
     "execution_count": 5,
     "metadata": {},
     "output_type": "execute_result"
    }
   ],
   "source": [
    "events=[{}]\n",
    "syst.initialize(events,xy0=1)"
   ]
  },
  {
   "cell_type": "code",
   "execution_count": 6,
   "metadata": {},
   "outputs": [
    {
     "data": {
      "text/plain": [
       "array([[[ 0.        ,  0.        ,  0.        ,  0.        ,\n",
       "          0.        ,  0.        ],\n",
       "        [ 0.72663535,  0.70707554,  0.79276616, -0.20000015,\n",
       "          0.        ,  0.        ]]])"
      ]
     },
     "execution_count": 6,
     "metadata": {},
     "output_type": "execute_result"
    }
   ],
   "source": [
    "syst.struct.Hy"
   ]
  },
  {
   "cell_type": "markdown",
   "metadata": {},
   "source": [
    "## Run in two time intervals"
   ]
  },
  {
   "cell_type": "code",
   "execution_count": 64,
   "metadata": {},
   "outputs": [
    {
     "data": {
      "text/plain": [
       "1"
      ]
     },
     "execution_count": 64,
     "metadata": {},
     "output_type": "execute_result"
    }
   ],
   "source": [
    "events=[{'t_end':1.0}]\n",
    "syst.run(events)\n",
    "events=[{'t_end':2.0}]\n",
    "syst.run(events)"
   ]
  },
  {
   "cell_type": "code",
   "execution_count": 65,
   "metadata": {},
   "outputs": [
    {
     "data": {
      "text/plain": [
       "['p_m', 'v_f']"
      ]
     },
     "execution_count": 65,
     "metadata": {},
     "output_type": "execute_result"
    }
   ],
   "source": [
    "syst.inputs_run_list"
   ]
  },
  {
   "cell_type": "code",
   "execution_count": 66,
   "metadata": {},
   "outputs": [],
   "source": [
    "self = syst\n",
    "\n",
    "\n"
   ]
  },
  {
   "cell_type": "code",
   "execution_count": 67,
   "metadata": {},
   "outputs": [
    {
     "data": {
      "text/plain": [
       "4.5127034567025355"
      ]
     },
     "execution_count": 67,
     "metadata": {},
     "output_type": "execute_result"
    }
   ],
   "source": [
    "syst.get_value('omega')"
   ]
  },
  {
   "cell_type": "code",
   "execution_count": 68,
   "metadata": {},
   "outputs": [],
   "source": [
    "syst.set_value('p_m', 0.0)"
   ]
  },
  {
   "cell_type": "code",
   "execution_count": 69,
   "metadata": {},
   "outputs": [
    {
     "data": {
      "text/plain": [
       "68.55079227969233"
      ]
     },
     "execution_count": 69,
     "metadata": {},
     "output_type": "execute_result"
    }
   ],
   "source": [
    "syst.get_value('p_m')"
   ]
  },
  {
   "cell_type": "code",
   "execution_count": 112,
   "metadata": {},
   "outputs": [],
   "source": [
    "Ts_control = 0.010\n",
    "times = np.arange(0.0,10,Ts_control)\n",
    "\n",
    "# Calculate second references\n",
    "events=[{'P_t':0.9, 'Q_t':0.0}]\n",
    "syst.initialize(events,xy0=1.0)\n",
    "x_ref = np.copy(syst.struct[0].x)\n",
    "v_f_ref = syst.struct[0]['v_f']\n",
    "p_m_ref = syst.struct[0]['p_m']\n",
    "\n",
    "# Calculate initial references\n",
    "events=[{'P_t':0.0, 'Q_t':0.0}]\n",
    "syst.initialize(events,xy0=1.0)\n",
    "x_0 = np.copy(syst.struct[0].x)\n",
    "v_f_0 = syst.get_value('v_f')\n",
    "p_m_0 = syst.get_value('p_m')\n",
    "\n",
    "# Control design\n",
    "ssa.eval_ss(syst)\n",
    "Q = np.eye(syst.N_x)*100\n",
    "R = np.eye(syst.N_u)\n",
    "\n",
    "K = ctrl.place(syst.A,syst.B,[-2.0+1j*6,-2.0-1j*6,-100,-100])\n",
    "K,S,E = ctrl.lqr(syst.A,syst.B,Q,R)\n",
    "Ad,Bd = ssa.discretise_time(syst.A,syst.B,Ts_control)\n",
    "Kd,S,E = ssa.dlqr(Ad,Bd,Q,R)\n",
    "\n",
    "for t in times:\n",
    "    \n",
    "    x = np.copy(syst.struct[0].x)\n",
    "    v_f = v_f_0 \n",
    "    p_m = p_m_0 \n",
    "\n",
    "    if t>1.0: \n",
    "        u_ctrl = K*(x_ref - x)\n",
    "        p_m = p_m_ref + u_ctrl[0]\n",
    "        v_f = v_f_ref + u_ctrl[1]\n",
    "        \n",
    "        \n",
    "    events=[{'t_end':t,'v_f':v_f,'p_m':p_m}]\n",
    "    syst.run(events)\n",
    "\n",
    "syst.post();\n",
    "    "
   ]
  },
  {
   "cell_type": "code",
   "execution_count": 113,
   "metadata": {},
   "outputs": [
    {
     "data": {
      "application/vnd.jupyter.widget-view+json": {
       "model_id": "a96d7ba7f9284117b956f262fd826ddc",
       "version_major": 2,
       "version_minor": 0
      },
      "text/plain": [
       "Canvas(toolbar=Toolbar(toolitems=[('Home', 'Reset original view', 'home', 'home'), ('Back', 'Back to previous …"
      ]
     },
     "metadata": {},
     "output_type": "display_data"
    },
    {
     "data": {
      "text/plain": [
       "[<matplotlib.lines.Line2D at 0x29bb032f808>]"
      ]
     },
     "execution_count": 113,
     "metadata": {},
     "output_type": "execute_result"
    }
   ],
   "source": [
    "plt.close('all')\n",
    "fig, axes = plt.subplots(nrows=2,ncols=2, figsize=(10, 5), frameon=False, dpi=50)\n",
    "\n",
    "axes[0,0].plot(syst.T, syst.get_values('omega'), label=f'$\\omega$')\n",
    "axes[0,1].plot(syst.T, syst.get_values('v_1'),   label=f'$v_1$')\n",
    "axes[1,0].plot(syst.T, syst.get_values('P_t'),   label=f'$P_t$')\n",
    "axes[1,1].plot(syst.T, syst.get_values('Q_t'),   label=f'$Q_t$')"
   ]
  },
  {
   "cell_type": "code",
   "execution_count": 15,
   "metadata": {},
   "outputs": [
    {
     "data": {
      "text/plain": [
       "array([[ 0.00000000e+00,  3.14159265e+02,  0.00000000e+00,\n",
       "         0.00000000e+00],\n",
       "       [-3.54343376e-01, -1.42857143e-01, -3.57095245e-01,\n",
       "         1.00330478e-01],\n",
       "       [-4.67038328e-01,  0.00000000e+00, -6.64265905e-01,\n",
       "        -2.31113959e-03],\n",
       "       [ 7.98653399e-01,  0.00000000e+00,  1.35913375e-02,\n",
       "        -2.58565604e+00]])"
      ]
     },
     "execution_count": 15,
     "metadata": {},
     "output_type": "execute_result"
    }
   ],
   "source": [
    "ssa.eval_ss(syst)\n"
   ]
  },
  {
   "cell_type": "code",
   "execution_count": 33,
   "metadata": {},
   "outputs": [],
   "source": [
    "from scipy.signal import ss2tf,lti,bode"
   ]
  },
  {
   "cell_type": "code",
   "execution_count": 37,
   "metadata": {},
   "outputs": [],
   "source": [
    "num,den =ss2tf(syst.A,syst.B,syst.C,syst.D,input=0)"
   ]
  },
  {
   "cell_type": "code",
   "execution_count": 38,
   "metadata": {},
   "outputs": [
    {
     "name": "stderr",
     "output_type": "stream",
     "text": [
      "C:\\programdata\\anaconda3\\lib\\site-packages\\scipy\\signal\\filter_design.py:1622: BadCoefficients: Badly conditioned filter coefficients (numerator): the results may be meaningless\n",
      "  \"results may be meaningless\", BadCoefficients)\n"
     ]
    }
   ],
   "source": [
    "G = lti(num[1],den)"
   ]
  },
  {
   "cell_type": "code",
   "execution_count": 39,
   "metadata": {},
   "outputs": [
    {
     "data": {
      "application/vnd.jupyter.widget-view+json": {
       "model_id": "0b86534370b24bb88bdb895b75dccb2a",
       "version_major": 2,
       "version_minor": 0
      },
      "text/plain": [
       "Canvas(toolbar=Toolbar(toolitems=[('Home', 'Reset original view', 'home', 'home'), ('Back', 'Back to previous …"
      ]
     },
     "metadata": {},
     "output_type": "display_data"
    },
    {
     "data": {
      "application/vnd.jupyter.widget-view+json": {
       "model_id": "9d83d17c81fb4eaa8e859171b337a45d",
       "version_major": 2,
       "version_minor": 0
      },
      "text/plain": [
       "Canvas(toolbar=Toolbar(toolitems=[('Home', 'Reset original view', 'home', 'home'), ('Back', 'Back to previous …"
      ]
     },
     "metadata": {},
     "output_type": "display_data"
    }
   ],
   "source": [
    "w, mag, phase = G.bode()\n",
    "plt.figure()\n",
    "plt.semilogx(w, mag)    # Bode magnitude plot\n",
    "plt.figure()\n",
    "plt.semilogx(w, phase)  # Bode phase plot\n",
    "plt.show()"
   ]
  },
  {
   "cell_type": "code",
   "execution_count": null,
   "metadata": {},
   "outputs": [],
   "source": [
    "events=[{'t_end':1.0,'P_t':0.8, 'Q_t':0.5},\n",
    "        {'t_end':10.0, 'p_m':0.9}\n",
    "       ]\n",
    "\n",
    "syst.simulate(events,xy0=1.0);"
   ]
  },
  {
   "cell_type": "code",
   "execution_count": 20,
   "metadata": {},
   "outputs": [
    {
     "data": {
      "text/plain": [
       "['p_m', 'v_f']"
      ]
     },
     "execution_count": 20,
     "metadata": {},
     "output_type": "execute_result"
    }
   ],
   "source": [
    "syst.inputs_run_list\n"
   ]
  },
  {
   "cell_type": "code",
   "execution_count": 43,
   "metadata": {},
   "outputs": [
    {
     "data": {
      "text/plain": [
       "0.0016666666666666668"
      ]
     },
     "execution_count": 43,
     "metadata": {},
     "output_type": "execute_result"
    }
   ],
   "source": [
    "0.01/6"
   ]
  },
  {
   "cell_type": "code",
   "execution_count": 28,
   "metadata": {},
   "outputs": [
    {
     "data": {
      "text/plain": [
       "array([[0.        , 0.        ],\n",
       "       [0.14285714, 0.        ],\n",
       "       [0.        , 0.125     ],\n",
       "       [0.        , 0.        ]])"
      ]
     },
     "execution_count": 28,
     "metadata": {},
     "output_type": "execute_result"
    }
   ],
   "source": [
    "syst.B"
   ]
  },
  {
   "cell_type": "code",
   "execution_count": 30,
   "metadata": {},
   "outputs": [
    {
     "data": {
      "text/plain": [
       "array([[0.        , 0.        ],\n",
       "       [0.14285714, 0.        ],\n",
       "       [0.        , 0.125     ],\n",
       "       [0.        , 0.        ]])"
      ]
     },
     "execution_count": 30,
     "metadata": {},
     "output_type": "execute_result"
    }
   ],
   "source": [
    "syst.struct[0]['Fu']"
   ]
  },
  {
   "cell_type": "code",
   "execution_count": 15,
   "metadata": {},
   "outputs": [],
   "source": []
  },
  {
   "cell_type": "code",
   "execution_count": null,
   "metadata": {},
   "outputs": [],
   "source": []
  }
 ],
 "metadata": {
  "kernelspec": {
   "display_name": "Python 3",
   "language": "python",
   "name": "python3"
  },
  "language_info": {
   "codemirror_mode": {
    "name": "ipython",
    "version": 3
   },
   "file_extension": ".py",
   "mimetype": "text/x-python",
   "name": "python",
   "nbconvert_exporter": "python",
   "pygments_lexer": "ipython3",
   "version": "3.7.7"
  }
 },
 "nbformat": 4,
 "nbformat_minor": 4
}
