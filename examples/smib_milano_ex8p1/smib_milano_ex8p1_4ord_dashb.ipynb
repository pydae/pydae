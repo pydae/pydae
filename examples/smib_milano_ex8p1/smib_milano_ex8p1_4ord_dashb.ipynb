{
 "cells": [
  {
   "cell_type": "markdown",
   "metadata": {},
   "source": [
    "# SMIB system as in Milano's book example 8.1 (4ord order added)"
   ]
  },
  {
   "cell_type": "code",
   "execution_count": 10,
   "metadata": {},
   "outputs": [],
   "source": [
    "%matplotlib widget"
   ]
  },
  {
   "cell_type": "code",
   "execution_count": 11,
   "metadata": {},
   "outputs": [],
   "source": [
    "import numpy as np\n",
    "import matplotlib.pyplot as plt\n",
    "import scipy.optimize as sopt\n",
    "import ipywidgets"
   ]
  },
  {
   "cell_type": "markdown",
   "metadata": {},
   "source": [
    "## Import system module"
   ]
  },
  {
   "cell_type": "code",
   "execution_count": 12,
   "metadata": {},
   "outputs": [],
   "source": [
    "from smib_milano_ex8p1_4ord import smib_milano_ex8p1_4ord_class,daesolver"
   ]
  },
  {
   "cell_type": "markdown",
   "metadata": {},
   "source": [
    "## Instantiate system"
   ]
  },
  {
   "cell_type": "code",
   "execution_count": 13,
   "metadata": {},
   "outputs": [],
   "source": [
    "syst = smib_milano_ex8p1_4ord_class()\n",
    "syst.t_end = 15.0\n",
    "syst.Dt = 0.05\n",
    "syst.decimation =1\n",
    "syst.update()"
   ]
  },
  {
   "cell_type": "markdown",
   "metadata": {},
   "source": [
    "## Solution function"
   ]
  },
  {
   "cell_type": "code",
   "execution_count": 14,
   "metadata": {},
   "outputs": [],
   "source": [
    "def test(syst,p_m,v_f,use_numba=True):\n",
    "    # simulation parameters\n",
    "    syst.struct[0].imax = 50    # maximum number of iterations\n",
    "    syst.struct[0].itol = 1e-8  # relative tolerance to stop iteration\n",
    "    syst.struct[0].solvern = 5  # 5 = DAE trapezoidal solver (fixed step)\n",
    "    syst.struct[0].it = 0       # set time step to zero\n",
    "    syst.struct[0].it_store = 0 # set storage to zero\n",
    "    syst.struct[0].t = 0.0      # set time to zero\n",
    "    \n",
    "    syst.struct[0].D = 0\n",
    "    \n",
    "    syst.struct[0].p_m = 0\n",
    "    syst.struct[0].v_f = 0\n",
    "    syst.struct[0].T1d0 = 4\n",
    "\n",
    "    syst.struct.P_t = 0\n",
    "    syst.struct.Q_t = 0    \n",
    "    \n",
    "    # compute initial conditions using x and y_ini \n",
    "    xy0 = np.ones(syst.N_x+syst.N_y)\n",
    "    xy = sopt.fsolve(syst.ini_problem,xy0 )\n",
    "\n",
    "    # from ini system to run system\n",
    "    syst.struct[0].p_m = xy[syst.xy_ini_list.index('p_m')]\n",
    "    syst.struct[0].v_f = xy[syst.xy_ini_list.index('v_f')]\n",
    "\n",
    "    syst.struct[0].x[:,0] = xy[0:syst.N_x]\n",
    "    syst.struct[0].y[:,0] = xy[syst.N_x:]\n",
    "\n",
    "    syst.struct[0].y[syst.y_list.index('P_t'),0] = syst.struct.P_t\n",
    "    syst.struct[0].y[syst.y_list.index('Q_t'),0] = syst.struct.Q_t\n",
    "    \n",
    "    # solve system\n",
    "    syst.struct.t_end = 1.0  \n",
    "    daesolver(syst.struct)    # run until 1 s\n",
    "    syst.struct[0].p_m = p_m  # apply step in mechanical power p_m\n",
    "    syst.struct[0].v_f = v_f  # apply step in mechanical power p_m\n",
    "    syst.struct.t_end = 20.0  \n",
    "    daesolver(syst.struct)    # run until 10 s\n",
    "        \n",
    "    T = syst.struct[0]['T'][:syst.struct[0].it_store]\n",
    "    X = syst.struct[0]['X'][:syst.struct[0].it_store,:]\n",
    "    Y = syst.struct[0]['Y'][:syst.struct[0].it_store,:]\n",
    "\n",
    "    return T,X,Y"
   ]
  },
  {
   "cell_type": "markdown",
   "metadata": {},
   "source": [
    "## Run test"
   ]
  },
  {
   "cell_type": "code",
   "execution_count": 15,
   "metadata": {},
   "outputs": [],
   "source": [
    "T,X,Y =test(syst,0.0,1.0,use_numba=True)\n"
   ]
  },
  {
   "cell_type": "code",
   "execution_count": null,
   "metadata": {},
   "outputs": [],
   "source": []
  },
  {
   "cell_type": "markdown",
   "metadata": {},
   "source": [
    "### Results extraction"
   ]
  },
  {
   "cell_type": "code",
   "execution_count": 16,
   "metadata": {},
   "outputs": [],
   "source": [
    "plt.ioff()\n",
    "plt.clf()\n",
    "\n",
    "T,X,Y =test(syst,0.0,1.0,use_numba=True)\n",
    "fig, axes = plt.subplots(nrows=2, ncols=2, figsize=(5, 4), frameon=False)\n",
    "fig.canvas.toolbar_visible = False\n",
    "\n",
    "line_delta = axes[0,0].plot(T, X[:,syst.x_list.index('delta')], label='$\\sf \\delta$')\n",
    "line_omega = axes[1,0].plot(T, X[:,syst.x_list.index('omega')], label='$\\sf \\omega$')\n",
    "line_v_1 = axes[0,1].plot(T, Y[:,syst.y_list.index('v_1')], label='$\\sf v_1$')\n",
    "#line_theta_1 = axes[0,1].plot(T, Y[:,syst.y_list.index('theta_1')], label='$\\sf \\\\theta_1$')\n",
    "line_p_t = axes[1,1].plot(T, Y[:,syst.y_list.index('P_t')], label='$\\sf P_t$')\n",
    "line_q_t = axes[1,1].plot(T, Y[:,syst.y_list.index('Q_t')], label='$\\sf Q_t$')\n",
    "\n",
    "x_0 = X[0,:]\n",
    "y_0 = Y[0,:]\n",
    "\n",
    "y_labels = ['$\\delta$','$\\omega$','$P_t$']\n",
    "\n",
    "axes[0,0].set_ylim((-1,2))\n",
    "axes[1,0].set_ylim((0.95,1.05))\n",
    "axes[0,1].set_ylim((0.8,1.2))\n",
    "axes[1,1].set_ylim((-0.5,1.5))\n",
    "\n",
    "axes[0,0].grid(True)\n",
    "axes[1,0].grid(True)\n",
    "axes[0,1].grid(True)\n",
    "axes[1,1].grid(True)\n",
    "axes[0,0].legend(loc='best')\n",
    "axes[1,0].legend(loc='best')\n",
    "axes[0,1].legend(loc='best')\n",
    "axes[1,1].legend(loc='best')\n",
    "\n",
    "axes[1,0].set_xlabel('Time (s)')  \n",
    "axes[1,1].set_xlabel('Time (s)') \n",
    "\n",
    "fig.tight_layout()\n",
    "#axes[0].set_title('Par en función de la velocidad')\n",
    "#axes[1].set_title('Corriente en función de la velocidad')\n",
    "\n",
    "\n",
    "sld_p_m = ipywidgets.FloatSlider(orientation='horizontal',description = u\"p_m:\", \n",
    "                                value=0.0, min=0.0,max= 1.2, \n",
    "                                step=.1)\n",
    "\n",
    "\n",
    "sld_v_f = ipywidgets.FloatSlider(orientation='horizontal',description = u\"v_f:\", \n",
    "                                value=syst.struct.v_f, min=0.0,max= 3.0, \n",
    "                                step=.1)\n",
    "\n",
    "prog_c = ipywidgets.IntProgress(\n",
    "    value=100,\n",
    "    min=0,\n",
    "    max=120,\n",
    "    step=1,\n",
    "    description='Carga:',\n",
    "    bar_style='', # 'success', 'info', 'warning', 'danger' or ''\n",
    "    orientation='horizontal' \n",
    ")"
   ]
  },
  {
   "cell_type": "markdown",
   "metadata": {},
   "source": [
    "### Results plots"
   ]
  },
  {
   "cell_type": "code",
   "execution_count": 17,
   "metadata": {},
   "outputs": [
    {
     "data": {
      "application/vnd.jupyter.widget-view+json": {
       "model_id": "31f79edaab6d43e883b80611f786ba4e",
       "version_major": 2,
       "version_minor": 0
      },
      "text/plain": [
       "VBox(children=(HBox(children=(Canvas(toolbar=Toolbar(toolitems=[('Home', 'Reset original view', 'home', 'home'…"
      ]
     },
     "metadata": {},
     "output_type": "display_data"
    }
   ],
   "source": [
    " \n",
    "\n",
    "def update(change):\n",
    "    \n",
    "    p_m = sld_p_m.value\n",
    "    v_f = sld_v_f.value\n",
    "    \n",
    "    try:\n",
    "        T,X,Y = test(syst,p_m,v_f,use_numba=True)\n",
    "\n",
    "        line_delta[0].set_data(T, X[:,syst.x_list.index('delta')])\n",
    "        line_omega[0].set_data(T, X[:,syst.x_list.index('omega')])\n",
    "        line_v_1[0].set_data(T, Y[:,syst.y_list.index('v_1')])\n",
    "        #line_theta_1[0].set_data(T, Y[:,syst.y_list.index('theta_1')])\n",
    "        line_p_t[0].set_data(T, Y[:,syst.y_list.index('P_t')])\n",
    "        line_q_t[0].set_data(T, Y[:,syst.y_list.index('Q_t')])\n",
    "\n",
    "        c = np.abs(Y[-1,syst.y_list.index('i_d')]+1j*Y[-1,syst.y_list.index('i_q')])\n",
    "\n",
    "        prog_c.bar_style = 'success'\n",
    "        if c>0.9:\n",
    "            prog_c.bar_style = 'warning'\n",
    "        if c>1.0:\n",
    "            prog_c.bar_style = 'danger'\n",
    "        prog_c.value = 100*c\n",
    "        \n",
    "        fig.canvas.draw_idle()\n",
    "    except:\n",
    "          print(\"An exception occurred\")        \n",
    "   \n",
    "    \n",
    "sld_p_m.observe(update, names='value')\n",
    "sld_v_f.observe(update, names='value')\n",
    "\n",
    "layout_row1 = ipywidgets.HBox([fig.canvas])\n",
    "layout_row2 = ipywidgets.HBox([sld_p_m,sld_v_f,prog_c])\n",
    "\n",
    "layout = ipywidgets.VBox([layout_row1,layout_row2])\n",
    "layout\n"
   ]
  },
  {
   "cell_type": "code",
   "execution_count": null,
   "metadata": {},
   "outputs": [],
   "source": []
  },
  {
   "cell_type": "code",
   "execution_count": null,
   "metadata": {},
   "outputs": [],
   "source": []
  }
 ],
 "metadata": {
  "kernelspec": {
   "display_name": "Python 3",
   "language": "python",
   "name": "python3"
  },
  "language_info": {
   "codemirror_mode": {
    "name": "ipython",
    "version": 3
   },
   "file_extension": ".py",
   "mimetype": "text/x-python",
   "name": "python",
   "nbconvert_exporter": "python",
   "pygments_lexer": "ipython3",
   "version": "3.7.7"
  }
 },
 "nbformat": 4,
 "nbformat_minor": 4
}
