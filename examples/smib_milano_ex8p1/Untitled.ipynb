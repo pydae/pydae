{
 "cells": [
  {
   "cell_type": "code",
   "execution_count": 44,
   "metadata": {},
   "outputs": [],
   "source": [
    "import numpy as np\n",
    "from smib_4ord_ctrl import smib_4ord_ctrl_class\n",
    "from pydae import ssa\n"
   ]
  },
  {
   "cell_type": "code",
   "execution_count": 45,
   "metadata": {},
   "outputs": [],
   "source": [
    "syst = smib_4ord_ctrl_class()\n",
    "syst.t_end = 1.0\n",
    "syst.Dt = 0.001\n",
    "syst.decimation =1\n",
    "syst.update()\n"
   ]
  },
  {
   "cell_type": "code",
   "execution_count": 60,
   "metadata": {},
   "outputs": [],
   "source": [
    "events=[{'t_end':10,'p_t':0.5, 'v_1':1.0}]\n",
    "syst.initialization_tol = 1e-12\n",
    "syst.initialize(events,xy0=1)\n",
    "syst.xy_prev[0]=0\n",
    "syst.simulate(events,xy0='prev')\n",
    "ssa.eval_ss(syst)\n",
    "\n",
    "A = np.copy(syst.A)\n",
    "B = np.copy(syst.B)\n",
    "C = np.copy(syst.C)\n",
    "D = np.copy(syst.D)\n",
    "x_0 = np.copy(syst.struct[0].x)\n",
    "y_0 = np.copy(syst.struct[0].y_run)\n",
    "u_0 = np.array([syst.struct[0]['p_m_ref'],syst.struct[0]['v_f']]).reshape(2,1)\n",
    "z_0 = np.copy(syst.struct.h)\n"
   ]
  },
  {
   "cell_type": "code",
   "execution_count": 65,
   "metadata": {},
   "outputs": [],
   "source": [
    "events=[{'t_end':10,'p_t':0.55, 'v_1':1.0}]\n",
    "syst.initialization_tol = 1e-12\n",
    "syst.initialize(events,xy0=1)\n",
    "syst.xy_prev[0]=0\n",
    "syst.simulate(events,xy0='prev')\n",
    "\n",
    "x_1 = np.copy(syst.struct[0].x)\n",
    "y_1 = np.copy(syst.struct[0].y_run)\n",
    "u_1 = np.array([syst.struct[0]['p_m_ref'],syst.struct[0]['v_f']]).reshape(2,1)\n",
    "z_1 = np.copy(syst.struct.h)"
   ]
  },
  {
   "cell_type": "code",
   "execution_count": 66,
   "metadata": {},
   "outputs": [
    {
     "data": {
      "text/plain": [
       "array([[[0.78921134],\n",
       "        [1.        ],\n",
       "        [0.84035498],\n",
       "        [0.43599889],\n",
       "        [0.55090767],\n",
       "        [0.55090767],\n",
       "        [0.54859255]]])"
      ]
     },
     "execution_count": 66,
     "metadata": {},
     "output_type": "execute_result"
    }
   ],
   "source": [
    "C @ (x_1-x_0) + D @ (u_1 - u_0) + z_0"
   ]
  },
  {
   "cell_type": "code",
   "execution_count": 67,
   "metadata": {},
   "outputs": [
    {
     "data": {
      "text/plain": [
       "array([[[0.78921134],\n",
       "        [1.        ],\n",
       "        [0.84035498],\n",
       "        [0.43599889],\n",
       "        [0.55090767],\n",
       "        [0.55090767],\n",
       "        [0.55      ]]])"
      ]
     },
     "execution_count": 67,
     "metadata": {},
     "output_type": "execute_result"
    }
   ],
   "source": [
    "z_1"
   ]
  },
  {
   "cell_type": "code",
   "execution_count": 64,
   "metadata": {},
   "outputs": [
    {
     "data": {
      "text/plain": [
       "array([[0., 0.],\n",
       "       [0., 0.],\n",
       "       [0., 0.],\n",
       "       [0., 0.],\n",
       "       [0., 0.],\n",
       "       [0., 0.],\n",
       "       [0., 0.]])"
      ]
     },
     "execution_count": 64,
     "metadata": {},
     "output_type": "execute_result"
    }
   ],
   "source": [
    "D"
   ]
  },
  {
   "cell_type": "code",
   "execution_count": 40,
   "metadata": {},
   "outputs": [
    {
     "data": {
      "text/plain": [
       "array([[0.74049023],\n",
       "       [1.        ],\n",
       "       [0.85570657],\n",
       "       [0.41434766],\n",
       "       [0.50075012],\n",
       "       [0.50075012],\n",
       "       [0.5       ]])"
      ]
     },
     "execution_count": 40,
     "metadata": {},
     "output_type": "execute_result"
    }
   ],
   "source": [
    "syst.struct[0].h"
   ]
  },
  {
   "cell_type": "code",
   "execution_count": 8,
   "metadata": {},
   "outputs": [],
   "source": [
    "Hx = syst.struct[0].Hx\n",
    "Hy = syst.struct[0].Hy\n",
    "Hu = syst.struct[0].Hu\n",
    "Gx = syst.struct[0].Gx\n",
    "Gy = syst.struct[0].Gy\n",
    "Gu = syst.struct[0].Gu\n",
    "\n",
    "\n",
    "C_man = Hx - Hy @ np.linalg.solve(Gy,Gx)"
   ]
  },
  {
   "cell_type": "code",
   "execution_count": 9,
   "metadata": {},
   "outputs": [
    {
     "data": {
      "text/plain": [
       "array([[8.34998951e+00],\n",
       "       [9.99395831e-01],\n",
       "       [7.83221877e-01],\n",
       "       [4.84615703e-03],\n",
       "       [1.27042121e-02],\n",
       "       [1.27042121e-02],\n",
       "       [5.72924843e-18]])"
      ]
     },
     "execution_count": 9,
     "metadata": {},
     "output_type": "execute_result"
    }
   ],
   "source": [
    "C @ syst.struct[0].x"
   ]
  },
  {
   "cell_type": "code",
   "execution_count": 43,
   "metadata": {},
   "outputs": [
    {
     "data": {
      "text/plain": [
       "array([[0.74049023],\n",
       "       [1.        ],\n",
       "       [0.85570657],\n",
       "       [0.41434766],\n",
       "       [0.50075012]])"
      ]
     },
     "execution_count": 43,
     "metadata": {},
     "output_type": "execute_result"
    }
   ],
   "source": [
    "syst.struct[0].x"
   ]
  },
  {
   "cell_type": "code",
   "execution_count": 58,
   "metadata": {},
   "outputs": [
    {
     "data": {
      "text/plain": [
       "array([[ 0.00000000e+00],\n",
       "       [ 0.00000000e+00],\n",
       "       [ 0.00000000e+00],\n",
       "       [ 0.00000000e+00],\n",
       "       [ 0.00000000e+00],\n",
       "       [-3.65212306e-04],\n",
       "       [ 5.18519951e-01]])"
      ]
     },
     "execution_count": 58,
     "metadata": {},
     "output_type": "execute_result"
    }
   ],
   "source": [
    "C @ syst.struct[0].x - syst.struct[0].h"
   ]
  },
  {
   "cell_type": "code",
   "execution_count": 59,
   "metadata": {},
   "outputs": [
    {
     "data": {
      "text/plain": [
       "array([[-2.33106054],\n",
       "       [ 1.        ],\n",
       "       [ 0.82503045],\n",
       "       [ 0.00418184],\n",
       "       [ 0.01690954],\n",
       "       [ 0.01727475],\n",
       "       [ 0.00397473]])"
      ]
     },
     "execution_count": 59,
     "metadata": {},
     "output_type": "execute_result"
    }
   ],
   "source": [
    "Hx@syst.struct[0].x + Hy@syst.struct[0].y_run"
   ]
  },
  {
   "cell_type": "code",
   "execution_count": 41,
   "metadata": {},
   "outputs": [],
   "source": [
    "Dx = syst.struct[0].x\n",
    "Du = np.array([syst.struct[0]['p_m_ref'],syst.struct[0]['v_f']]).reshape(2,1)\n",
    "Dy_man = -np.linalg.solve(Gy,Gx)@Dx - np.linalg.solve(Gy,Gu)@Du"
   ]
  },
  {
   "cell_type": "code",
   "execution_count": 42,
   "metadata": {},
   "outputs": [],
   "source": [
    "Dy = syst.struct[0].y_run"
   ]
  },
  {
   "cell_type": "code",
   "execution_count": 43,
   "metadata": {},
   "outputs": [
    {
     "data": {
      "text/plain": [
       "array([[1.75999184e-03],\n",
       "       [9.99998451e-01],\n",
       "       [1.00000300e-03],\n",
       "       [1.78499180e-06],\n",
       "       [9.99998407e-04],\n",
       "       [2.49999992e-08],\n",
       "       [5.00000000e-05],\n",
       "       [1.00000000e-03],\n",
       "       [1.00000000e+00],\n",
       "       [1.00000300e-03]])"
      ]
     },
     "execution_count": 43,
     "metadata": {},
     "output_type": "execute_result"
    }
   ],
   "source": [
    "Dy"
   ]
  },
  {
   "cell_type": "code",
   "execution_count": 44,
   "metadata": {},
   "outputs": [
    {
     "data": {
      "text/plain": [
       "array([[1.14776660e-03],\n",
       "       [1.42848942e-01],\n",
       "       [1.84157789e-02],\n",
       "       [2.85704437e+00],\n",
       "       [1.32444638e-02],\n",
       "       [2.85701574e+00],\n",
       "       [9.13640906e-04],\n",
       "       [1.84156688e-02],\n",
       "       [1.42850741e-01],\n",
       "       [1.00000300e-03]])"
      ]
     },
     "execution_count": 44,
     "metadata": {},
     "output_type": "execute_result"
    }
   ],
   "source": [
    "Dy_man"
   ]
  },
  {
   "cell_type": "code",
   "execution_count": 45,
   "metadata": {},
   "outputs": [
    {
     "data": {
      "text/plain": [
       "array([[ 6.12225246e-04],\n",
       "       [ 8.57149509e-01],\n",
       "       [-1.74157759e-02],\n",
       "       [-2.85704258e+00],\n",
       "       [-1.22444654e-02],\n",
       "       [-2.85701572e+00],\n",
       "       [-8.63640906e-04],\n",
       "       [-1.74156688e-02],\n",
       "       [ 8.57149259e-01],\n",
       "       [ 0.00000000e+00]])"
      ]
     },
     "execution_count": 45,
     "metadata": {},
     "output_type": "execute_result"
    }
   ],
   "source": [
    "Dy-Dy_man"
   ]
  },
  {
   "cell_type": "code",
   "execution_count": 60,
   "metadata": {},
   "outputs": [
    {
     "data": {
      "text/plain": [
       "array([[0.],\n",
       "       [0.],\n",
       "       [0.],\n",
       "       [0.],\n",
       "       [0.],\n",
       "       [0.],\n",
       "       [0.],\n",
       "       [0.],\n",
       "       [0.],\n",
       "       [0.]])"
      ]
     },
     "execution_count": 60,
     "metadata": {},
     "output_type": "execute_result"
    }
   ],
   "source": [
    "np.linalg.solve(Gy,Gu)@Du"
   ]
  },
  {
   "cell_type": "code",
   "execution_count": null,
   "metadata": {},
   "outputs": [],
   "source": []
  }
 ],
 "metadata": {
  "kernelspec": {
   "display_name": "Python 3.7.7 64-bit ('ProgramData': virtualenv)",
   "language": "python",
   "name": "python37764bitprogramdatavirtualenv46c0821546dd4f01859541541cbf05ac"
  },
  "language_info": {
   "codemirror_mode": {
    "name": "ipython",
    "version": 3
   },
   "file_extension": ".py",
   "mimetype": "text/x-python",
   "name": "python",
   "nbconvert_exporter": "python",
   "pygments_lexer": "ipython3",
   "version": "3.7.7"
  }
 },
 "nbformat": 4,
 "nbformat_minor": 4
}
