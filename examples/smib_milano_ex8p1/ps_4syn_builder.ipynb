{
 "cells": [
  {
   "cell_type": "code",
   "execution_count": 2,
   "metadata": {},
   "outputs": [],
   "source": [
    "import numpy as np\n",
    "import sympy as sym\n",
    "import numba\n",
    "import pydae.build as db"
   ]
  },
  {
   "cell_type": "code",
   "execution_count": 32,
   "metadata": {},
   "outputs": [
    {
     "data": {
      "text/plain": [
       "dict_keys(['name', 'bus', 'S_b', 'X_d', 'X1d', 'T1d0', 'X_q', 'X1q', 'T1q0', 'R_a', 'X_l', 'H', 'D', 'Omega_b', 'omega_s', 'v_0', 'theta_0', 'K_a', 'T_r', 'v_pss', 'P_t', 'Q_t'])"
      ]
     },
     "execution_count": 32,
     "metadata": {},
     "output_type": "execute_result"
    }
   ],
   "source": [
    "g01.keys()"
   ]
  },
  {
   "cell_type": "code",
   "execution_count": 56,
   "metadata": {},
   "outputs": [],
   "source": [
    "g01 = {'name':'g01','bus':1,'S_b':2200e6,'X_d':1.81,'X1d':0.3,'T1d0':8.0,   # synnchronous machine d-axis parameters\n",
    "          'X_q':1.76,'X1q':0.65,'T1q0':1.0,  # synnchronous machine q-axis parameters\n",
    "          'R_a':0.003,'X_l': 0.05, \n",
    "          'H':3.5,'D':1.0,\n",
    "          'Omega_b':2*np.pi*50,'omega_s':1.0,\n",
    "          'v_0':1.0,'theta_0':0.0,\n",
    "          'K_a':100, 'T_r':0.1, 'v_pss':0.0,\n",
    "           'p_t':0.8, 'q_t':0.2 }\n",
    "\n",
    "\n",
    "data = {\n",
    "\"system\":{\"S_b\":2200e6,\"f_hz\":50,\"model_type\":\"ode\"},\n",
    "\"buses\": [{\"bus\":\"1\"},{\"bus\":\"0\"}],\n",
    "\"lines\":     [  \n",
    "               {\"bus_j\":\"1\", \"bus_k\":\"0\", \"R\":0.01, \"X\":0.05, \"B\":0.0},\n",
    "             ],\n",
    "\"loads\" : [\n",
    "        ],\n",
    "\"syns\" : [\n",
    "          g01,\n",
    "                 ],\n",
    "\"grid_formers\" : [\n",
    "                  #{\"bus\": \"12\",\"V_phph\":20.0e3, \"deg\":0.0},\n",
    "                 ]}"
   ]
  },
  {
   "cell_type": "code",
   "execution_count": 57,
   "metadata": {},
   "outputs": [
    {
     "data": {
      "text/plain": [
       "{'system': {'S_b': 2200000000.0, 'f_hz': 50, 'model_type': 'ode'},\n",
       " 'buses': [{'bus': '1'}, {'bus': '0'}],\n",
       " 'lines': [{'bus_j': '1', 'bus_k': '0', 'R': 0.01, 'X': 0.05, 'B': 0.0}],\n",
       " 'loads': [],\n",
       " 'syns': [{'name': 'g01',\n",
       "   'bus': 1,\n",
       "   'S_b': 2200000000.0,\n",
       "   'X_d': 1.81,\n",
       "   'X1d': 0.3,\n",
       "   'T1d0': 8.0,\n",
       "   'X_q': 1.76,\n",
       "   'X1q': 0.65,\n",
       "   'T1q0': 1.0,\n",
       "   'R_a': 0.003,\n",
       "   'X_l': 0.05,\n",
       "   'H': 3.5,\n",
       "   'D': 1.0,\n",
       "   'Omega_b': 314.1592653589793,\n",
       "   'omega_s': 1.0,\n",
       "   'v_0': 1.0,\n",
       "   'theta_0': 0.0,\n",
       "   'K_a': 100,\n",
       "   'T_r': 0.1,\n",
       "   'v_pss': 0.0,\n",
       "   'p_t': 0.8,\n",
       "   'q_t': 0.2}],\n",
       " 'grid_formers': []}"
      ]
     },
     "execution_count": 57,
     "metadata": {},
     "output_type": "execute_result"
    }
   ],
   "source": [
    "data"
   ]
  },
  {
   "cell_type": "code",
   "execution_count": 59,
   "metadata": {},
   "outputs": [],
   "source": [
    "sin = sym.sin\n",
    "cos = sym.cos\n",
    "\n",
    "# AVR\n",
    "#dv_c =   (v_1 - v_c)/T_r\n",
    "#g_7 = K_a*(v_ref - v_c + v_pss) - v_f \n",
    "\n",
    "\n",
    "f_syn = []\n",
    "x_syn = []\n",
    "g_syn = []\n",
    "y_syn_ini = []\n",
    "y_syn_run = []\n",
    "\n",
    "syn = data['syns'][0]\n",
    "name = syn['name']\n",
    "x_list = ['delta','omega','e1q','e1d']  \n",
    "y_ini_list = ['i_d','i_q','v_1','theta_1','p_m','v_f'] \n",
    "y_run_list = ['i_d','i_q','v_1','theta_1','P_t','Q_t']    \n",
    "\n",
    "# synchronous generator 4rd order as in Milano's book\n",
    "delta,omega,e1q,e1d = sym.symbols([item + f\"_{syn['name']}\" for item in x_list],real=True)\n",
    "i_d,i_q,v_1,theta_1,p_m,v_ref = sym.symbols([item + f\"_{syn['name']}\" for item in y_ini_list],real=True)\n",
    "## parameters:\n",
    "params_vsc_filter = {}\n",
    "for item in ['S_b', 'X_d', 'X1d', 'T1d0', 'X_q', 'X1q', 'T1q0', 'R_a', 'X_l', 'H', 'D', 'Omega_b', 'omega_s']:\n",
    "    params_vsc_filter.update({f'{item}_{name}':syn[item]})\n",
    "    exec(f\"{item} = sym.Symbol('{item}_{name}', real=True)\",globals())\n",
    "## inputs:\n",
    "u_vsc_filter = {}\n",
    "for item in ['p_t', 'q_t']:#,'eta_D','eta_Q']:\n",
    "    u_vsc_filter.update({f'{item}_{name}':syn[item]})\n",
    "    exec(f\"{item} = sym.Symbol('{item}_{name}', real=True)\",globals())\n",
    "\n",
    "v_f,p_m,omega_coi = sym.symbols([item + f\"_{syn['name']}\" for item in ['v_f','p_m','omega_coi']],real=True)\n",
    "v_d = v_1*sin(delta - theta_1) \n",
    "v_q = v_1*cos(delta - theta_1) \n",
    "\n",
    "p_e = i_d*(v_d + R_a*i_d) + i_q*(v_q + R_a*i_q) \n",
    "\n",
    "ddelta = Omega_b*(omega - omega_coi)\n",
    "domega = 1/(2*H)*(p_m - p_e - D*(omega - omega_coi))\n",
    "de1q = 1/T1d0*(-e1q - (X_d - X1d)*i_d + v_f)\n",
    "de1d = 1/T1q0*(-e1d + (X_q - X1q)*i_q)\n",
    "\n",
    "g_i_d = v_q + R_a*i_q + X1d*i_d - e1q\n",
    "g_i_q = v_d + R_a*i_d - X1q*i_q - e1d\n",
    "g_p_t = i_d*v_d + i_q*v_q - p_t\n",
    "g_q_t = i_d*v_q - i_q*v_d - q_t\n",
    "\n",
    "f_syn += [ddelta,domega,de1q,de1d]\n",
    "x_syn += [ delta, omega, e1q, e1d]\n",
    "g_syn += [g_i_d,g_i_q,g_p_t,g_q_t]\n",
    "y_syn_ini += [ i_d, i_q, p_m, v_f]\n",
    "y_syn_run += [ i_d, i_q, p_t, q_t]"
   ]
  },
  {
   "cell_type": "code",
   "execution_count": 53,
   "metadata": {},
   "outputs": [
    {
     "data": {
      "text/latex": [
       "$\\displaystyle \\frac{- D_{g01} \\left(- \\omega_{coi g01} + \\omega_{g01}\\right) - i_{d g01} \\left(R_{a g01} i_{d g01} + v_{1 g01} \\sin{\\left(\\delta_{g01} - \\theta_{1 g01} \\right)}\\right) - i_{q g01} \\left(R_{a g01} i_{q g01} + v_{1 g01} \\cos{\\left(\\delta_{g01} - \\theta_{1 g01} \\right)}\\right) + p_{m g01}}{2 H_{g01}}$"
      ],
      "text/plain": [
       "(-D_g01*(-omega_coi_g01 + omega_g01) - i_d_g01*(R_a_g01*i_d_g01 + v_1_g01*sin(delta_g01 - theta_1_g01)) - i_q_g01*(R_a_g01*i_q_g01 + v_1_g01*cos(delta_g01 - theta_1_g01)) + p_m_g01)/(2*H_g01)"
      ]
     },
     "execution_count": 53,
     "metadata": {},
     "output_type": "execute_result"
    }
   ],
   "source": [
    "domega"
   ]
  },
  {
   "cell_type": "code",
   "execution_count": 52,
   "metadata": {},
   "outputs": [
    {
     "data": {
      "text/plain": [
       "['delta_g01', 'omega_g01', 'e1q_g01', 'e1d_g01']"
      ]
     },
     "execution_count": 52,
     "metadata": {},
     "output_type": "execute_result"
    }
   ],
   "source": [
    "[item + f\"_{syn['name']}\" for item in x_list]"
   ]
  },
  {
   "cell_type": "code",
   "execution_count": 30,
   "metadata": {},
   "outputs": [
    {
     "data": {
      "text/latex": [
       "$\\displaystyle \\delta_{g01}$"
      ],
      "text/plain": [
       "delta_g01"
      ]
     },
     "execution_count": 30,
     "metadata": {},
     "output_type": "execute_result"
    }
   ],
   "source": [
    "g_3 = P_t - (v_1*v_0*sin(theta_1 - theta_0))/X_l\n",
    "g_4 = Q_t + (v_1*v_0*cos(theta_1 - theta_0))/X_l - v_1**2/X_l"
   ]
  },
  {
   "cell_type": "markdown",
   "metadata": {},
   "source": [
    "\\begin{eqnarray}\n",
    "\\dot \\delta &=& \\Omega_b \\left(\\omega - \\omega_s\\right)\\\\\n",
    "\\dot \\omega &=& 1/(2 H) \\left(p_m - p_e - D (\\omega - \\omega_s) \\right)\\\\\n",
    "\\end{eqnarray}\n",
    "\n",
    "$$ \\sf\n",
    "\\Omega_{b} \\left(\\sf \\omega - \\omega_{s}\\right)\n",
    "$$"
   ]
  },
  {
   "cell_type": "markdown",
   "metadata": {},
   "source": [
    "## System definition "
   ]
  },
  {
   "cell_type": "code",
   "execution_count": 2,
   "metadata": {},
   "outputs": [],
   "source": [
    "params = {'X_d':1.81,'X1d':0.3,'T1d0':8.0,   # synnchronous machine d-axis parameters\n",
    "          'X_q':1.76,'X1q':0.65,'T1q0':1.0,  # synnchronous machine q-axis parameters\n",
    "          'R_a':0.003,'X_l': 0.05, \n",
    "          'H':3.5,'D':1.0,\n",
    "          'Omega_b':2*np.pi*50,'omega_s':1.0,\n",
    "          'v_0':1.0,'theta_0':0.0,\n",
    "          'K_a':100, 'T_r':0.1, 'v_pss':0.0}\n",
    "\n",
    "\n",
    "u_ini_dict = {'P_t':0.8, 'Q_t':0.2}  # for the initialization problem\n",
    "u_run_dict = {'p_m':0.8,'v_ref':1.0}  # for the running problem (here initialization and running problem are the same)\n",
    "\n",
    "\n",
    "x_list = ['delta','omega','e1q','e1d','v_c']    # [inductor current, PI integrator]\n",
    "y_ini_list = ['i_d','i_q','v_1','theta_1','p_m','v_ref','v_f'] # for the initialization problem\n",
    "y_run_list = ['i_d','i_q','v_1','theta_1','P_t','Q_t',  'v_f'] # for the running problem (here initialization and running problem are the same)\n",
    "\n",
    "sys_vars = {'params':params,\n",
    "            'u_list':u_run_dict,\n",
    "            'x_list':x_list,\n",
    "            'y_list':y_run_list}\n",
    "\n",
    "exec(db.sym_gen_str())  # exec to generate the required symbolic varables and constants"
   ]
  },
  {
   "cell_type": "code",
   "execution_count": 3,
   "metadata": {},
   "outputs": [],
   "source": [
    "v_d = v_1*sin(delta - theta_1) \n",
    "v_q = v_1*cos(delta - theta_1) \n",
    "\n",
    "p_e = i_d*(v_d + R_a*i_d) + i_q*(v_q + R_a*i_q) \n",
    "\n",
    "\n",
    "ddelta = Omega_b*(omega - omega_s)\n",
    "domega = 1/(2*H)*(p_m - p_e - D*(omega - omega_s))\n",
    "de1q = 1/T1d0*(-e1q - (X_d - X1d)*i_d + v_f)\n",
    "de1d = 1/T1q0*(-e1d + (X_q - X1q)*i_q)\n",
    "dv_c =   (v_1 - v_c)/T_r\n",
    "\n",
    "g_1 = v_q + R_a*i_q + X1d*i_d - e1q\n",
    "g_2 = v_d + R_a*i_d - X1q*i_q - e1d\n",
    "g_3 = P_t - (v_1*v_0*sin(theta_1 - theta_0))/X_l\n",
    "g_4 = Q_t + (v_1*v_0*cos(theta_1 - theta_0))/X_l - v_1**2/X_l\n",
    "g_5 = i_d*v_d + i_q*v_q - P_t\n",
    "g_6 = i_d*v_q - i_q*v_d - Q_t\n",
    "g_7 = K_a*(v_ref - v_c + v_pss) - v_f \n",
    "\n",
    "h_1 = p_m\n",
    "\n",
    "sys = {'name':'smib_milano_ex8p1_4ord_avr',\n",
    "       'params':params,\n",
    "       'f':[ddelta,domega,de1q,de1d,dv_c],\n",
    "       'g':[g_1,g_2,g_3,g_4,g_5,g_6,g_7],\n",
    "       'g_ini':[g_1,g_2],\n",
    "       'x':x_list,\n",
    "       'y_ini':y_ini_list,\n",
    "       'y':y_run_list,\n",
    "       'u_run_dict':u_run_dict,\n",
    "       'u_ini_dict':u_ini_dict,\n",
    "       'h':[h_1]}\n",
    "\n",
    "sys = db.system(sys)\n",
    "db.sys2num(sys)\n",
    "                "
   ]
  },
  {
   "cell_type": "code",
   "execution_count": null,
   "metadata": {},
   "outputs": [],
   "source": []
  }
 ],
 "metadata": {
  "kernelspec": {
   "display_name": "Python 3",
   "language": "python",
   "name": "python3"
  },
  "language_info": {
   "codemirror_mode": {
    "name": "ipython",
    "version": 3
   },
   "file_extension": ".py",
   "mimetype": "text/x-python",
   "name": "python",
   "nbconvert_exporter": "python",
   "pygments_lexer": "ipython3",
   "version": "3.7.6"
  }
 },
 "nbformat": 4,
 "nbformat_minor": 4
}
