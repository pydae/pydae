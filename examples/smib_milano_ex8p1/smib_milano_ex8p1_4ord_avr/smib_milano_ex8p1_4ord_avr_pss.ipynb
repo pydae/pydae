{
 "cells": [
  {
   "cell_type": "markdown",
   "metadata": {},
   "source": [
    "# SMIB system as in Milano's book example 8.1"
   ]
  },
  {
   "cell_type": "code",
   "execution_count": 1,
   "metadata": {},
   "outputs": [],
   "source": [
    "%matplotlib widget"
   ]
  },
  {
   "cell_type": "code",
   "execution_count": 2,
   "metadata": {},
   "outputs": [],
   "source": [
    "import numpy as np\n",
    "import matplotlib.pyplot as plt\n",
    "import scipy.optimize as sopt\n",
    "import ipywidgets\n",
    "from pydae import ssa\n",
    "import json"
   ]
  },
  {
   "cell_type": "markdown",
   "metadata": {},
   "source": [
    "## Import system module"
   ]
  },
  {
   "cell_type": "code",
   "execution_count": 3,
   "metadata": {},
   "outputs": [],
   "source": [
    "from smib_milano_ex8p1_4ord_avr_pss import smib_milano_ex8p1_4ord_avr_pss_class"
   ]
  },
  {
   "cell_type": "markdown",
   "metadata": {},
   "source": [
    "## Instantiate system"
   ]
  },
  {
   "cell_type": "code",
   "execution_count": 4,
   "metadata": {},
   "outputs": [],
   "source": [
    "smib = smib_milano_ex8p1_4ord_avr_pss_class()\n",
    "\n",
    "xy_0_dict = {\n",
    "'omega':1,'v_ref':1,'v_c':1\n",
    "}"
   ]
  },
  {
   "cell_type": "markdown",
   "metadata": {},
   "source": [
    "## Initialize the system (backward and foreward)"
   ]
  },
  {
   "cell_type": "code",
   "execution_count": 5,
   "metadata": {},
   "outputs": [
    {
     "name": "stdout",
     "output_type": "stream",
     "text": [
      "p_m   =  0.80\n",
      "v_ref =  1.02\n",
      "delta =  1.01\n",
      "omega =  1.00\n",
      "e1q   =  0.80\n",
      "e1d   =  0.51\n",
      "v_c   =  1.00\n",
      "x_wo  =  0.00\n",
      "x_l   =  0.00\n",
      "v_d   =  0.80\n",
      "v_q   =  0.60\n",
      "i_d   =  0.66\n",
      "i_q   =  0.46\n",
      "p_e   =  0.80\n",
      "p_t   =  0.80\n",
      "q_t   =  0.03\n",
      "v_t   =  1.00\n",
      "theta_t =  0.08\n",
      "v_f   =  1.79\n",
      "z_wo  =  0.00\n",
      "v_pss =  0.00\n"
     ]
    },
    {
     "data": {
      "text/html": [
       "<div>\n",
       "<style scoped>\n",
       "    .dataframe tbody tr th:only-of-type {\n",
       "        vertical-align: middle;\n",
       "    }\n",
       "\n",
       "    .dataframe tbody tr th {\n",
       "        vertical-align: top;\n",
       "    }\n",
       "\n",
       "    .dataframe thead th {\n",
       "        text-align: right;\n",
       "    }\n",
       "</style>\n",
       "<table border=\"1\" class=\"dataframe\">\n",
       "  <thead>\n",
       "    <tr style=\"text-align: right;\">\n",
       "      <th></th>\n",
       "      <th>Real</th>\n",
       "      <th>Imag</th>\n",
       "      <th>Freq.</th>\n",
       "      <th>Damp</th>\n",
       "    </tr>\n",
       "  </thead>\n",
       "  <tbody>\n",
       "    <tr>\n",
       "      <th>Mode 1</th>\n",
       "      <td>-10.000000</td>\n",
       "      <td>0.000000</td>\n",
       "      <td>0.000000</td>\n",
       "      <td>1.000000</td>\n",
       "    </tr>\n",
       "    <tr>\n",
       "      <th>Mode 2</th>\n",
       "      <td>-0.100000</td>\n",
       "      <td>0.000000</td>\n",
       "      <td>0.000000</td>\n",
       "      <td>1.000000</td>\n",
       "    </tr>\n",
       "    <tr>\n",
       "      <th>Mode 3</th>\n",
       "      <td>-0.281985</td>\n",
       "      <td>9.759436</td>\n",
       "      <td>1.553262</td>\n",
       "      <td>0.028882</td>\n",
       "    </tr>\n",
       "    <tr>\n",
       "      <th>Mode 4</th>\n",
       "      <td>-0.281985</td>\n",
       "      <td>-9.759436</td>\n",
       "      <td>1.553262</td>\n",
       "      <td>0.028882</td>\n",
       "    </tr>\n",
       "    <tr>\n",
       "      <th>Mode 5</th>\n",
       "      <td>-6.614971</td>\n",
       "      <td>0.000000</td>\n",
       "      <td>0.000000</td>\n",
       "      <td>1.000000</td>\n",
       "    </tr>\n",
       "    <tr>\n",
       "      <th>Mode 6</th>\n",
       "      <td>-4.663374</td>\n",
       "      <td>0.000000</td>\n",
       "      <td>0.000000</td>\n",
       "      <td>1.000000</td>\n",
       "    </tr>\n",
       "    <tr>\n",
       "      <th>Mode 7</th>\n",
       "      <td>-1.234500</td>\n",
       "      <td>0.000000</td>\n",
       "      <td>0.000000</td>\n",
       "      <td>1.000000</td>\n",
       "    </tr>\n",
       "  </tbody>\n",
       "</table>\n",
       "</div>"
      ],
      "text/plain": [
       "             Real      Imag     Freq.      Damp\n",
       "Mode 1 -10.000000  0.000000  0.000000  1.000000\n",
       "Mode 2  -0.100000  0.000000  0.000000  1.000000\n",
       "Mode 3  -0.281985  9.759436  1.553262  0.028882\n",
       "Mode 4  -0.281985 -9.759436  1.553262  0.028882\n",
       "Mode 5  -6.614971  0.000000  0.000000  1.000000\n",
       "Mode 6  -4.663374  0.000000  0.000000  1.000000\n",
       "Mode 7  -1.234500  0.000000  0.000000  1.000000"
      ]
     },
     "execution_count": 5,
     "metadata": {},
     "output_type": "execute_result"
    }
   ],
   "source": [
    "events=[{'p_m':0.8, 'v_t':1.0, 'K_a':100, 'T_e':0.1}]\n",
    "smib.initialize(events,xy_0_dict)\n",
    "\n",
    "smib.save_0()\n",
    "smib.ss()\n",
    "smib.report_u()\n",
    "smib.report_x()\n",
    "smib.report_y()\n",
    "\n",
    "ssa.eval_A(smib)\n",
    "ssa.damp_report(smib)"
   ]
  },
  {
   "cell_type": "code",
   "execution_count": 6,
   "metadata": {},
   "outputs": [
    {
     "name": "stdout",
     "output_type": "stream",
     "text": [
      "X_d   =  1.81\n",
      "X1d   =  0.30\n",
      "T1d0  =  8.00\n",
      "X_q   =  1.76\n",
      "X1q   =  0.65\n",
      "T1q0  =  1.00\n",
      "R_a   =  0.00\n",
      "X_l   =  0.10\n",
      "H     =  3.50\n",
      "D     =  0.00\n",
      "Omega_b = 314.16\n",
      "omega_s =  1.00\n",
      "v_0   =  1.00\n",
      "theta_0 =  0.00\n",
      "K_a   = 100.00\n",
      "T_e   =  0.10\n",
      "T_wo  = 10.00\n",
      "T_1   =  0.10\n",
      "T_2   =  0.10\n",
      "K_stab =  0.00\n"
     ]
    }
   ],
   "source": [
    "smib = smib_milano_ex8p1_4ord_avr_pss_class()\n",
    "smib.load_0('xy_0.json')\n",
    "smib.ss()\n",
    "smib.eval_jacobians()\n",
    "smib.eval_A()\n",
    "ssa.damp_report(smib)\n",
    "smib.report_params()"
   ]
  },
  {
   "cell_type": "code",
   "execution_count": 7,
   "metadata": {},
   "outputs": [],
   "source": [
    "smib.load_0('xy_0.json')\n",
    "def obj(x):\n",
    "    T_1 = x[0]\n",
    "    #K_stab = x[1]\n",
    "    smib.set_value('T_1',T_1)\n",
    "    freq = 1.2\n",
    "    T_2 = 0.1\n",
    "    cplx = (1j*2*np.pi*freq*T_1 + 1)/(1j*2*np.pi*freq*T_2 + 1)\n",
    "\n",
    "    smib.set_value('K_stab',1)\n",
    "    smib.set_value('K_a',100)\n",
    "    smib.set_value('H',6)\n",
    "    smib.ss()\n",
    "    smib.eval_jacobians()\n",
    "    ssa.eval_A(smib)\n",
    "    eig_values,eig_vectors = np.linalg.eig(smib.A)\n",
    "    zetas = -eig_values.real/np.abs(eig_values)\n",
    "    return -100*np.min(zetas)"
   ]
  },
  {
   "cell_type": "code",
   "execution_count": 8,
   "metadata": {},
   "outputs": [
    {
     "data": {
      "text/plain": [
       "     fun: -29.116122348363678\n",
       "     jac: array([-1.59872117e-05])\n",
       " message: 'Optimization terminated successfully.'\n",
       "    nfev: 66\n",
       "     nit: 3\n",
       " success: True\n",
       "       x: array([4.40068351])"
      ]
     },
     "execution_count": 8,
     "metadata": {},
     "output_type": "execute_result"
    }
   ],
   "source": [
    "sopt.differential_evolution(obj,bounds=[(0.1,5)])\n"
   ]
  },
  {
   "cell_type": "code",
   "execution_count": 9,
   "metadata": {},
   "outputs": [
    {
     "ename": "NameError",
     "evalue": "name 'v_ref_0' is not defined",
     "output_type": "error",
     "traceback": [
      "\u001b[1;31m---------------------------------------------------------------------------\u001b[0m",
      "\u001b[1;31mNameError\u001b[0m                                 Traceback (most recent call last)",
      "\u001b[1;32m<ipython-input-9-d760bb30c935>\u001b[0m in \u001b[0;36m<module>\u001b[1;34m\u001b[0m\n\u001b[0;32m      1\u001b[0m events=[{'t_end':1.0},\n\u001b[1;32m----> 2\u001b[1;33m         \u001b[1;33m{\u001b[0m\u001b[1;34m't_end'\u001b[0m\u001b[1;33m:\u001b[0m\u001b[1;36m5.0\u001b[0m\u001b[1;33m,\u001b[0m \u001b[1;34m'v_ref'\u001b[0m\u001b[1;33m:\u001b[0m\u001b[0mv_ref_0\u001b[0m\u001b[1;33m*\u001b[0m\u001b[1;36m1.05\u001b[0m\u001b[1;33m}\u001b[0m\u001b[1;33m\u001b[0m\u001b[1;33m\u001b[0m\u001b[0m\n\u001b[0m\u001b[0;32m      3\u001b[0m        ]\n\u001b[0;32m      4\u001b[0m \u001b[1;33m\u001b[0m\u001b[0m\n\u001b[0;32m      5\u001b[0m \u001b[0msmib\u001b[0m\u001b[1;33m.\u001b[0m\u001b[0msimulate\u001b[0m\u001b[1;33m(\u001b[0m\u001b[0mevents\u001b[0m\u001b[1;33m,\u001b[0m\u001b[0mxy0\u001b[0m\u001b[1;33m=\u001b[0m\u001b[1;34m'prev'\u001b[0m\u001b[1;33m)\u001b[0m\u001b[1;33m;\u001b[0m\u001b[1;33m\u001b[0m\u001b[1;33m\u001b[0m\u001b[0m\n",
      "\u001b[1;31mNameError\u001b[0m: name 'v_ref_0' is not defined"
     ]
    }
   ],
   "source": [
    "events=[{'t_end':1.0},\n",
    "        {'t_end':5.0, 'v_ref':v_ref_0*1.05}\n",
    "       ]\n",
    "\n",
    "smib.simulate(events,xy0='prev');\n",
    "\n",
    "plt.close('all')\n",
    "fig, axes = plt.subplots(nrows=2,ncols=2, figsize=(10, 5), frameon=False, dpi=70)\n",
    "\n",
    "axes[0,0].plot(smib.T, smib.get_values('omega'), label=f'$\\omega$')\n",
    "axes[0,1].plot(smib.T, smib.get_values('v_t'),   label=f'$v_t$')\n",
    "axes[1,0].plot(smib.T, smib.get_values('p_t'),   label=f'$p_t$')\n",
    "axes[1,1].plot(smib.T, smib.get_values('q_t'),   label=f'$q_t$')\n",
    "\n",
    "for ax in axes.flatten():\n",
    "    ax.legend()"
   ]
  },
  {
   "cell_type": "markdown",
   "metadata": {},
   "source": [
    "## Simulation"
   ]
  },
  {
   "cell_type": "code",
   "execution_count": null,
   "metadata": {},
   "outputs": [],
   "source": [
    "smib = smib_milano_ex8p1_4ord_avr_pss_class()\n",
    "\n",
    "\n",
    "events=[{'p_t':0.8, 'v_t':1.0, 'K_a':200, 'T_e':0.2, 'H':6, 'K_stab':0, 'T_1':0.1}]\n",
    "smib.initialize(events,xy0=1)\n",
    " \n",
    "v_ref_0 = smib.get_value('v_ref')\n",
    "events=[{'t_end':1.0},\n",
    "        {'t_end':15.0, 'v_ref':v_ref_0*1.05}\n",
    "       ]\n",
    "\n",
    "smib.simulate(events,xy0='prev');"
   ]
  },
  {
   "cell_type": "code",
   "execution_count": null,
   "metadata": {},
   "outputs": [],
   "source": [
    "plt.close('all')\n",
    "fig, axes = plt.subplots(nrows=2,ncols=2, figsize=(10, 5), frameon=False, dpi=70)\n",
    "\n",
    "axes[0,0].plot(smib.T, smib.get_values('omega'), label=f'$\\omega$')\n",
    "axes[0,1].plot(smib.T, smib.get_values('v_t'),   label=f'$v_t$')\n",
    "axes[1,0].plot(smib.T, smib.get_values('p_t'),   label=f'$p_t$')\n",
    "axes[1,1].plot(smib.T, smib.get_values('q_t'),   label=f'$q_t$')\n",
    "\n",
    "for ax in axes.flatten():\n",
    "    ax.legend()"
   ]
  },
  {
   "cell_type": "code",
   "execution_count": null,
   "metadata": {},
   "outputs": [],
   "source": [
    "smib = smib_milano_ex8p1_4ord_avr_pss_class()\n",
    "\n",
    "\n",
    "events=[{'p_t':0.8, 'v_t':1.0, 'K_a':200, 'T_e':0.2, 'H':6, 'K_stab':0, 'T_1':0.1}]\n",
    "smib.initialize(events,xy_0_dict)\n",
    " \n",
    "ssa.eval_A(smib)\n",
    "ssa.damp_report(smib)"
   ]
  },
  {
   "cell_type": "markdown",
   "metadata": {},
   "source": [
    "## Run in two time intervals"
   ]
  },
  {
   "cell_type": "code",
   "execution_count": null,
   "metadata": {},
   "outputs": [],
   "source": [
    "events=[{'t_end':1.0}]\n",
    "syst.run(events)\n",
    "events=[{'t_end':2.0}]\n",
    "syst.run(events)"
   ]
  },
  {
   "cell_type": "code",
   "execution_count": null,
   "metadata": {},
   "outputs": [],
   "source": [
    "syst.get_value('omega')"
   ]
  },
  {
   "cell_type": "code",
   "execution_count": null,
   "metadata": {},
   "outputs": [],
   "source": [
    "events=[{'p_t':0.8, 'v_t':1.0, 'K_a':100, 'T_e':0.2, 'H':6, 'K_stab':0, 'T_1':0.1}]\n",
    "smib.initialize(events,xy0=1)\n",
    "ssa.eval_A(smib)\n",
    "ssa.damp_report(smib)"
   ]
  },
  {
   "cell_type": "code",
   "execution_count": null,
   "metadata": {},
   "outputs": [],
   "source": [
    "ssa.participation(smib).abs().round(2)"
   ]
  },
  {
   "cell_type": "code",
   "execution_count": null,
   "metadata": {},
   "outputs": [],
   "source": [
    "smib.report_params()"
   ]
  },
  {
   "cell_type": "code",
   "execution_count": null,
   "metadata": {},
   "outputs": [],
   "source": [
    "Ts_control = 0.010\n",
    "times = np.arange(0.0,10,Ts_control)\n",
    "\n",
    "# Calculate second references\n",
    "events=[{'P_t':0.9, 'Q_t':0.0}]\n",
    "syst.initialize(events,xy0=1.0)\n",
    "x_ref = np.copy(syst.struct[0].x)\n",
    "v_f_ref = syst.struct[0]['v_f']\n",
    "p_m_ref = syst.struct[0]['p_m']\n",
    "\n",
    "# Calculate initial references\n",
    "events=[{'P_t':0.0, 'Q_t':0.0}]\n",
    "syst.initialize(events,xy0=1.0)\n",
    "x_0 = np.copy(syst.struct[0].x)\n",
    "v_f_0 = syst.get_value('v_f')\n",
    "p_m_0 = syst.get_value('p_m')\n",
    "\n",
    "# Control design\n",
    "ssa.eval_ss(syst)\n",
    "Q = np.eye(syst.N_x)*100\n",
    "R = np.eye(syst.N_u)\n",
    "\n",
    "K = ctrl.place(syst.A,syst.B,[-2.0+1j*6,-2.0-1j*6,-100,-101])\n",
    "K,S,E = ctrl.lqr(syst.A,syst.B,Q,R)\n",
    "Ad,Bd = ssa.discretise_time(syst.A,syst.B,Ts_control)\n",
    "Kd,S,E = ssa.dlqr(Ad,Bd,Q,R)\n",
    "\n",
    "for t in times:\n",
    "    \n",
    "    x = np.copy(syst.struct[0].x)\n",
    "    v_f = v_f_0 \n",
    "    p_m = p_m_0 \n",
    "\n",
    "    if t>1.0: \n",
    "        u_ctrl = K*(x_ref - x)\n",
    "        p_m = p_m_ref + u_ctrl[0]\n",
    "        v_f = v_f_ref + u_ctrl[1]\n",
    "        \n",
    "        \n",
    "    events=[{'t_end':t,'v_f':v_f,'p_m':p_m}]\n",
    "    syst.run(events)\n",
    "\n",
    "syst.post();\n",
    "    "
   ]
  },
  {
   "cell_type": "code",
   "execution_count": null,
   "metadata": {},
   "outputs": [],
   "source": [
    "plt.close('all')\n",
    "fig, axes = plt.subplots(nrows=2,ncols=2, figsize=(10, 5), frameon=False, dpi=50)\n",
    "\n",
    "axes[0,0].plot(syst.T, syst.get_values('omega'), label=f'$\\omega$')\n",
    "axes[0,1].plot(syst.T, syst.get_values('v_1'),   label=f'$v_1$')\n",
    "axes[1,0].plot(syst.T, syst.get_values('P_t'),   label=f'$P_t$')\n",
    "axes[1,1].plot(syst.T, syst.get_values('Q_t'),   label=f'$Q_t$')"
   ]
  },
  {
   "cell_type": "code",
   "execution_count": null,
   "metadata": {},
   "outputs": [],
   "source": [
    "ssa.eval_ss(syst)\n"
   ]
  },
  {
   "cell_type": "code",
   "execution_count": null,
   "metadata": {},
   "outputs": [],
   "source": [
    "from scipy.signal import ss2tf,lti,bode"
   ]
  },
  {
   "cell_type": "code",
   "execution_count": null,
   "metadata": {},
   "outputs": [],
   "source": [
    "num,den =ss2tf(syst.A,syst.B,syst.C,syst.D,input=0)"
   ]
  },
  {
   "cell_type": "code",
   "execution_count": null,
   "metadata": {},
   "outputs": [],
   "source": [
    "G = lti(num[1],den)"
   ]
  },
  {
   "cell_type": "code",
   "execution_count": null,
   "metadata": {},
   "outputs": [],
   "source": [
    "w, mag, phase = G.bode()\n",
    "plt.figure()\n",
    "plt.semilogx(w, mag)    # Bode magnitude plot\n",
    "plt.figure()\n",
    "plt.semilogx(w, phase)  # Bode phase plot\n",
    "plt.show()"
   ]
  },
  {
   "cell_type": "code",
   "execution_count": null,
   "metadata": {},
   "outputs": [],
   "source": [
    "events=[{'t_end':1.0,'P_t':0.8, 'Q_t':0.5},\n",
    "        {'t_end':10.0, 'p_m':0.9}\n",
    "       ]\n",
    "\n",
    "syst.simulate(events,xy0=1.0);"
   ]
  },
  {
   "cell_type": "code",
   "execution_count": null,
   "metadata": {},
   "outputs": [],
   "source": [
    "syst.inputs_run_list\n"
   ]
  },
  {
   "cell_type": "code",
   "execution_count": null,
   "metadata": {},
   "outputs": [],
   "source": [
    "0.01/6"
   ]
  },
  {
   "cell_type": "code",
   "execution_count": null,
   "metadata": {},
   "outputs": [],
   "source": [
    "syst.B"
   ]
  },
  {
   "cell_type": "code",
   "execution_count": null,
   "metadata": {},
   "outputs": [],
   "source": [
    "syst.struct[0]['Fu']"
   ]
  },
  {
   "cell_type": "code",
   "execution_count": null,
   "metadata": {},
   "outputs": [],
   "source": []
  },
  {
   "cell_type": "code",
   "execution_count": null,
   "metadata": {},
   "outputs": [],
   "source": []
  }
 ],
 "metadata": {
  "kernelspec": {
   "display_name": "Python 3",
   "language": "python",
   "name": "python3"
  },
  "language_info": {
   "codemirror_mode": {
    "name": "ipython",
    "version": 3
   },
   "file_extension": ".py",
   "mimetype": "text/x-python",
   "name": "python",
   "nbconvert_exporter": "python",
   "pygments_lexer": "ipython3",
   "version": "3.8.5"
  }
 },
 "nbformat": 4,
 "nbformat_minor": 4
}
