{
 "cells": [
  {
   "cell_type": "markdown",
   "metadata": {},
   "source": [
    "# SMIB system as in Milano's book example 8.1"
   ]
  },
  {
   "cell_type": "code",
   "execution_count": 1,
   "metadata": {},
   "outputs": [],
   "source": [
    "%matplotlib widget"
   ]
  },
  {
   "cell_type": "code",
   "execution_count": 2,
   "metadata": {},
   "outputs": [],
   "source": [
    "import numpy as np\n",
    "import matplotlib.pyplot as plt\n",
    "import scipy.optimize as sopt\n",
    "import ipywidgets\n",
    "from pydae import ssa\n",
    "import json"
   ]
  },
  {
   "cell_type": "markdown",
   "metadata": {},
   "source": [
    "## Import system module"
   ]
  },
  {
   "cell_type": "code",
   "execution_count": 3,
   "metadata": {},
   "outputs": [],
   "source": [
    "from smib_milano_ex8p1_4ord_avr import smib_milano_ex8p1_4ord_avr_class"
   ]
  },
  {
   "cell_type": "markdown",
   "metadata": {},
   "source": [
    "## Instantiate system"
   ]
  },
  {
   "cell_type": "code",
   "execution_count": 4,
   "metadata": {},
   "outputs": [],
   "source": [
    "syst = smib_milano_ex8p1_4ord_avr_class()\n"
   ]
  },
  {
   "cell_type": "markdown",
   "metadata": {},
   "source": [
    "## Initialize the system (backward and foreward)"
   ]
  },
  {
   "cell_type": "code",
   "execution_count": 5,
   "metadata": {},
   "outputs": [
    {
     "name": "stdout",
     "output_type": "stream",
     "text": [
      "p_m   =  0.80\n",
      "v_ref =  1.11\n",
      "delta =  0.49\n",
      "omega =  1.00\n",
      "e1q   =  1.38\n",
      "e1d   =  0.28\n",
      "v_c   =  1.10\n",
      "v_d   =  0.44\n",
      "v_q   =  1.01\n",
      "i_d   =  1.23\n",
      "i_q   =  0.25\n",
      "p_e   =  0.80\n",
      "p_t   =  0.80\n",
      "q_t   =  1.13\n",
      "v_t   =  1.10\n",
      "theta_t =  0.07\n",
      "v_f   =  3.24\n"
     ]
    }
   ],
   "source": [
    "events=[{'p_t':0.8, 'v_t':1.1, 'K_a':500, 'T_e':0.1}]\n",
    "syst.initialize(events,xy0=1)\n",
    "\n",
    "syst.save_0()\n",
    "syst.report_u()\n",
    "syst.report_x()\n",
    "syst.report_y()"
   ]
  },
  {
   "cell_type": "markdown",
   "metadata": {},
   "source": [
    "## Simulation"
   ]
  },
  {
   "cell_type": "code",
   "execution_count": 99,
   "metadata": {},
   "outputs": [],
   "source": [
    "syst = smib_milano_ex8p1_4ord_avr_class()\n",
    "\n",
    "\n",
    "events=[{'p_t':0.8, 'v_t':1.0, 'K_a':400, 'T_e':0.5, 'H':6}]\n",
    "syst.initialize(events,xy0=1)\n",
    "\n",
    "events=[{'t_end':1.0},\n",
    "        {'t_end':15.0, 'p_m':0.8, 'v_ref':1.05}\n",
    "       ]\n",
    "\n",
    "syst.simulate(events,xy0='prev');"
   ]
  },
  {
   "cell_type": "code",
   "execution_count": 100,
   "metadata": {},
   "outputs": [
    {
     "data": {
      "application/vnd.jupyter.widget-view+json": {
       "model_id": "0107740b92c445d4ab6cce216309ba92",
       "version_major": 2,
       "version_minor": 0
      },
      "text/plain": [
       "Canvas(toolbar=Toolbar(toolitems=[('Home', 'Reset original view', 'home', 'home'), ('Back', 'Back to previous …"
      ]
     },
     "metadata": {},
     "output_type": "display_data"
    },
    {
     "data": {
      "text/plain": [
       "[<matplotlib.lines.Line2D at 0x17f98814310>]"
      ]
     },
     "execution_count": 100,
     "metadata": {},
     "output_type": "execute_result"
    }
   ],
   "source": [
    "plt.close('all')\n",
    "fig, axes = plt.subplots(nrows=2,ncols=2, figsize=(10, 5), frameon=False, dpi=50)\n",
    "\n",
    "axes[0,0].plot(syst.T, syst.get_values('omega'), label=f'$\\omega$')\n",
    "axes[0,1].plot(syst.T, syst.get_values('v_t'),   label=f'$v_t$')\n",
    "axes[1,0].plot(syst.T, syst.get_values('p_t'),   label=f'$p_t$')\n",
    "axes[1,1].plot(syst.T, syst.get_values('q_t'),   label=f'$q_t$')"
   ]
  },
  {
   "cell_type": "markdown",
   "metadata": {},
   "source": [
    "## Run in two time intervals"
   ]
  },
  {
   "cell_type": "code",
   "execution_count": 101,
   "metadata": {},
   "outputs": [
    {
     "data": {
      "text/plain": [
       "1"
      ]
     },
     "execution_count": 101,
     "metadata": {},
     "output_type": "execute_result"
    }
   ],
   "source": [
    "events=[{'t_end':1.0}]\n",
    "syst.run(events)\n",
    "events=[{'t_end':2.0}]\n",
    "syst.run(events)"
   ]
  },
  {
   "cell_type": "code",
   "execution_count": 102,
   "metadata": {},
   "outputs": [
    {
     "data": {
      "text/plain": [
       "1.000058557546387"
      ]
     },
     "execution_count": 102,
     "metadata": {},
     "output_type": "execute_result"
    }
   ],
   "source": [
    "syst.get_value('omega')"
   ]
  },
  {
   "cell_type": "code",
   "execution_count": 6,
   "metadata": {},
   "outputs": [
    {
     "data": {
      "text/html": [
       "<div>\n",
       "<style scoped>\n",
       "    .dataframe tbody tr th:only-of-type {\n",
       "        vertical-align: middle;\n",
       "    }\n",
       "\n",
       "    .dataframe tbody tr th {\n",
       "        vertical-align: top;\n",
       "    }\n",
       "\n",
       "    .dataframe thead th {\n",
       "        text-align: right;\n",
       "    }\n",
       "</style>\n",
       "<table border=\"1\" class=\"dataframe\">\n",
       "  <thead>\n",
       "    <tr style=\"text-align: right;\">\n",
       "      <th></th>\n",
       "      <th>Real</th>\n",
       "      <th>Imag</th>\n",
       "      <th>Freq.</th>\n",
       "      <th>Damp</th>\n",
       "    </tr>\n",
       "  </thead>\n",
       "  <tbody>\n",
       "    <tr>\n",
       "      <th>Mode 1</th>\n",
       "      <td>-0.301684</td>\n",
       "      <td>9.727972</td>\n",
       "      <td>1.548255</td>\n",
       "      <td>0.030997</td>\n",
       "    </tr>\n",
       "    <tr>\n",
       "      <th>Mode 2</th>\n",
       "      <td>-0.301684</td>\n",
       "      <td>-9.727972</td>\n",
       "      <td>1.548255</td>\n",
       "      <td>0.030997</td>\n",
       "    </tr>\n",
       "    <tr>\n",
       "      <th>Mode 3</th>\n",
       "      <td>-1.715734</td>\n",
       "      <td>0.000000</td>\n",
       "      <td>0.000000</td>\n",
       "      <td>1.000000</td>\n",
       "    </tr>\n",
       "    <tr>\n",
       "      <th>Mode 4</th>\n",
       "      <td>-1.378857</td>\n",
       "      <td>3.840144</td>\n",
       "      <td>0.611178</td>\n",
       "      <td>0.337940</td>\n",
       "    </tr>\n",
       "    <tr>\n",
       "      <th>Mode 5</th>\n",
       "      <td>-1.378857</td>\n",
       "      <td>-3.840144</td>\n",
       "      <td>0.611178</td>\n",
       "      <td>0.337940</td>\n",
       "    </tr>\n",
       "  </tbody>\n",
       "</table>\n",
       "</div>"
      ],
      "text/plain": [
       "            Real      Imag     Freq.      Damp\n",
       "Mode 1 -0.301684  9.727972  1.548255  0.030997\n",
       "Mode 2 -0.301684 -9.727972  1.548255  0.030997\n",
       "Mode 3 -1.715734  0.000000  0.000000  1.000000\n",
       "Mode 4 -1.378857  3.840144  0.611178  0.337940\n",
       "Mode 5 -1.378857 -3.840144  0.611178  0.337940"
      ]
     },
     "execution_count": 6,
     "metadata": {},
     "output_type": "execute_result"
    }
   ],
   "source": [
    "events=[{'p_t':0.8, 'v_t':1.0, 'K_a':400, 'T_e':0.5}]\n",
    "syst.initialize(events,xy0=1)\n",
    "ssa.eval_A(syst)\n",
    "ssa.damp_report(syst)"
   ]
  },
  {
   "cell_type": "code",
   "execution_count": 104,
   "metadata": {},
   "outputs": [
    {
     "data": {
      "text/plain": [
       "0.8019231311057791"
      ]
     },
     "execution_count": 104,
     "metadata": {},
     "output_type": "execute_result"
    }
   ],
   "source": [
    "syst.get_value('p_m')"
   ]
  },
  {
   "cell_type": "code",
   "execution_count": 21,
   "metadata": {},
   "outputs": [
    {
     "ename": "ValueError",
     "evalue": "at least one of the requested pole is repeated more than rank(B) times",
     "output_type": "error",
     "traceback": [
      "\u001b[1;31m---------------------------------------------------------------------------\u001b[0m",
      "\u001b[1;31mValueError\u001b[0m                                Traceback (most recent call last)",
      "\u001b[1;32m<ipython-input-21-1a86a2bc6969>\u001b[0m in \u001b[0;36m<module>\u001b[1;34m\u001b[0m\n\u001b[0;32m     21\u001b[0m \u001b[0mR\u001b[0m \u001b[1;33m=\u001b[0m \u001b[0mnp\u001b[0m\u001b[1;33m.\u001b[0m\u001b[0meye\u001b[0m\u001b[1;33m(\u001b[0m\u001b[0msyst\u001b[0m\u001b[1;33m.\u001b[0m\u001b[0mN_u\u001b[0m\u001b[1;33m)\u001b[0m\u001b[1;33m\u001b[0m\u001b[1;33m\u001b[0m\u001b[0m\n\u001b[0;32m     22\u001b[0m \u001b[1;33m\u001b[0m\u001b[0m\n\u001b[1;32m---> 23\u001b[1;33m \u001b[0mK\u001b[0m \u001b[1;33m=\u001b[0m \u001b[0mctrl\u001b[0m\u001b[1;33m.\u001b[0m\u001b[0mplace\u001b[0m\u001b[1;33m(\u001b[0m\u001b[0msyst\u001b[0m\u001b[1;33m.\u001b[0m\u001b[0mA\u001b[0m\u001b[1;33m,\u001b[0m\u001b[0msyst\u001b[0m\u001b[1;33m.\u001b[0m\u001b[0mB\u001b[0m\u001b[1;33m,\u001b[0m\u001b[1;33m[\u001b[0m\u001b[1;33m-\u001b[0m\u001b[1;36m2.0\u001b[0m\u001b[1;33m+\u001b[0m\u001b[1;36m1j\u001b[0m\u001b[1;33m*\u001b[0m\u001b[1;36m6\u001b[0m\u001b[1;33m,\u001b[0m\u001b[1;33m-\u001b[0m\u001b[1;36m2.0\u001b[0m\u001b[1;33m-\u001b[0m\u001b[1;36m1j\u001b[0m\u001b[1;33m*\u001b[0m\u001b[1;36m6\u001b[0m\u001b[1;33m,\u001b[0m\u001b[1;33m-\u001b[0m\u001b[1;36m100\u001b[0m\u001b[1;33m,\u001b[0m\u001b[1;33m-\u001b[0m\u001b[1;36m101\u001b[0m\u001b[1;33m]\u001b[0m\u001b[1;33m)\u001b[0m\u001b[1;33m\u001b[0m\u001b[1;33m\u001b[0m\u001b[0m\n\u001b[0m\u001b[0;32m     24\u001b[0m \u001b[0mK\u001b[0m\u001b[1;33m,\u001b[0m\u001b[0mS\u001b[0m\u001b[1;33m,\u001b[0m\u001b[0mE\u001b[0m \u001b[1;33m=\u001b[0m \u001b[0mctrl\u001b[0m\u001b[1;33m.\u001b[0m\u001b[0mlqr\u001b[0m\u001b[1;33m(\u001b[0m\u001b[0msyst\u001b[0m\u001b[1;33m.\u001b[0m\u001b[0mA\u001b[0m\u001b[1;33m,\u001b[0m\u001b[0msyst\u001b[0m\u001b[1;33m.\u001b[0m\u001b[0mB\u001b[0m\u001b[1;33m,\u001b[0m\u001b[0mQ\u001b[0m\u001b[1;33m,\u001b[0m\u001b[0mR\u001b[0m\u001b[1;33m)\u001b[0m\u001b[1;33m\u001b[0m\u001b[1;33m\u001b[0m\u001b[0m\n\u001b[0;32m     25\u001b[0m \u001b[0mAd\u001b[0m\u001b[1;33m,\u001b[0m\u001b[0mBd\u001b[0m \u001b[1;33m=\u001b[0m \u001b[0mssa\u001b[0m\u001b[1;33m.\u001b[0m\u001b[0mdiscretise_time\u001b[0m\u001b[1;33m(\u001b[0m\u001b[0msyst\u001b[0m\u001b[1;33m.\u001b[0m\u001b[0mA\u001b[0m\u001b[1;33m,\u001b[0m\u001b[0msyst\u001b[0m\u001b[1;33m.\u001b[0m\u001b[0mB\u001b[0m\u001b[1;33m,\u001b[0m\u001b[0mTs_control\u001b[0m\u001b[1;33m)\u001b[0m\u001b[1;33m\u001b[0m\u001b[1;33m\u001b[0m\u001b[0m\n",
      "\u001b[1;32m~\\anaconda3\\lib\\site-packages\\control\\statefbk.py\u001b[0m in \u001b[0;36mplace\u001b[1;34m(A, B, p)\u001b[0m\n\u001b[0;32m    111\u001b[0m     \u001b[0mplaced_eigs\u001b[0m \u001b[1;33m=\u001b[0m \u001b[0mnp\u001b[0m\u001b[1;33m.\u001b[0m\u001b[0marray\u001b[0m\u001b[1;33m(\u001b[0m\u001b[0mp\u001b[0m\u001b[1;33m)\u001b[0m\u001b[1;33m\u001b[0m\u001b[1;33m\u001b[0m\u001b[0m\n\u001b[0;32m    112\u001b[0m \u001b[1;33m\u001b[0m\u001b[0m\n\u001b[1;32m--> 113\u001b[1;33m     \u001b[0mresult\u001b[0m \u001b[1;33m=\u001b[0m \u001b[0mplace_poles\u001b[0m\u001b[1;33m(\u001b[0m\u001b[0mA_mat\u001b[0m\u001b[1;33m,\u001b[0m \u001b[0mB_mat\u001b[0m\u001b[1;33m,\u001b[0m \u001b[0mplaced_eigs\u001b[0m\u001b[1;33m,\u001b[0m \u001b[0mmethod\u001b[0m\u001b[1;33m=\u001b[0m\u001b[1;34m'YT'\u001b[0m\u001b[1;33m)\u001b[0m\u001b[1;33m\u001b[0m\u001b[1;33m\u001b[0m\u001b[0m\n\u001b[0m\u001b[0;32m    114\u001b[0m     \u001b[0mK\u001b[0m \u001b[1;33m=\u001b[0m \u001b[0mresult\u001b[0m\u001b[1;33m.\u001b[0m\u001b[0mgain_matrix\u001b[0m\u001b[1;33m\u001b[0m\u001b[1;33m\u001b[0m\u001b[0m\n\u001b[0;32m    115\u001b[0m     \u001b[1;32mreturn\u001b[0m \u001b[0m_ssmatrix\u001b[0m\u001b[1;33m(\u001b[0m\u001b[0mK\u001b[0m\u001b[1;33m)\u001b[0m\u001b[1;33m\u001b[0m\u001b[1;33m\u001b[0m\u001b[0m\n",
      "\u001b[1;32m~\\anaconda3\\lib\\site-packages\\scipy\\signal\\ltisys.py\u001b[0m in \u001b[0;36mplace_poles\u001b[1;34m(A, B, poles, method, rtol, maxiter)\u001b[0m\n\u001b[0;32m   3211\u001b[0m     \"\"\"\n\u001b[0;32m   3212\u001b[0m     \u001b[1;31m# Move away all the inputs checking, it only adds noise to the code\u001b[0m\u001b[1;33m\u001b[0m\u001b[1;33m\u001b[0m\u001b[1;33m\u001b[0m\u001b[0m\n\u001b[1;32m-> 3213\u001b[1;33m     \u001b[0mupdate_loop\u001b[0m\u001b[1;33m,\u001b[0m \u001b[0mpoles\u001b[0m \u001b[1;33m=\u001b[0m \u001b[0m_valid_inputs\u001b[0m\u001b[1;33m(\u001b[0m\u001b[0mA\u001b[0m\u001b[1;33m,\u001b[0m \u001b[0mB\u001b[0m\u001b[1;33m,\u001b[0m \u001b[0mpoles\u001b[0m\u001b[1;33m,\u001b[0m \u001b[0mmethod\u001b[0m\u001b[1;33m,\u001b[0m \u001b[0mrtol\u001b[0m\u001b[1;33m,\u001b[0m \u001b[0mmaxiter\u001b[0m\u001b[1;33m)\u001b[0m\u001b[1;33m\u001b[0m\u001b[1;33m\u001b[0m\u001b[0m\n\u001b[0m\u001b[0;32m   3214\u001b[0m \u001b[1;33m\u001b[0m\u001b[0m\n\u001b[0;32m   3215\u001b[0m     \u001b[1;31m# The current value of the relative tolerance we achieved\u001b[0m\u001b[1;33m\u001b[0m\u001b[1;33m\u001b[0m\u001b[1;33m\u001b[0m\u001b[0m\n",
      "\u001b[1;32m~\\anaconda3\\lib\\site-packages\\scipy\\signal\\ltisys.py\u001b[0m in \u001b[0;36m_valid_inputs\u001b[1;34m(A, B, poles, method, rtol, maxiter)\u001b[0m\n\u001b[0;32m   2676\u001b[0m     \u001b[1;32mfor\u001b[0m \u001b[0mp\u001b[0m \u001b[1;32min\u001b[0m \u001b[0mpoles\u001b[0m\u001b[1;33m:\u001b[0m\u001b[1;33m\u001b[0m\u001b[1;33m\u001b[0m\u001b[0m\n\u001b[0;32m   2677\u001b[0m         \u001b[1;32mif\u001b[0m \u001b[0msum\u001b[0m\u001b[1;33m(\u001b[0m\u001b[0mp\u001b[0m \u001b[1;33m==\u001b[0m \u001b[0mpoles\u001b[0m\u001b[1;33m)\u001b[0m \u001b[1;33m>\u001b[0m \u001b[0mr\u001b[0m\u001b[1;33m:\u001b[0m\u001b[1;33m\u001b[0m\u001b[1;33m\u001b[0m\u001b[0m\n\u001b[1;32m-> 2678\u001b[1;33m             raise ValueError(\"at least one of the requested pole is repeated \"\n\u001b[0m\u001b[0;32m   2679\u001b[0m                              \"more than rank(B) times\")\n\u001b[0;32m   2680\u001b[0m     \u001b[1;31m# Choose update method\u001b[0m\u001b[1;33m\u001b[0m\u001b[1;33m\u001b[0m\u001b[1;33m\u001b[0m\u001b[0m\n",
      "\u001b[1;31mValueError\u001b[0m: at least one of the requested pole is repeated more than rank(B) times"
     ]
    }
   ],
   "source": [
    "Ts_control = 0.010\n",
    "times = np.arange(0.0,10,Ts_control)\n",
    "\n",
    "# Calculate second references\n",
    "events=[{'P_t':0.9, 'Q_t':0.0}]\n",
    "syst.initialize(events,xy0=1.0)\n",
    "x_ref = np.copy(syst.struct[0].x)\n",
    "v_f_ref = syst.struct[0]['v_f']\n",
    "p_m_ref = syst.struct[0]['p_m']\n",
    "\n",
    "# Calculate initial references\n",
    "events=[{'P_t':0.0, 'Q_t':0.0}]\n",
    "syst.initialize(events,xy0=1.0)\n",
    "x_0 = np.copy(syst.struct[0].x)\n",
    "v_f_0 = syst.get_value('v_f')\n",
    "p_m_0 = syst.get_value('p_m')\n",
    "\n",
    "# Control design\n",
    "ssa.eval_ss(syst)\n",
    "Q = np.eye(syst.N_x)*100\n",
    "R = np.eye(syst.N_u)\n",
    "\n",
    "K = ctrl.place(syst.A,syst.B,[-2.0+1j*6,-2.0-1j*6,-100,-101])\n",
    "K,S,E = ctrl.lqr(syst.A,syst.B,Q,R)\n",
    "Ad,Bd = ssa.discretise_time(syst.A,syst.B,Ts_control)\n",
    "Kd,S,E = ssa.dlqr(Ad,Bd,Q,R)\n",
    "\n",
    "for t in times:\n",
    "    \n",
    "    x = np.copy(syst.struct[0].x)\n",
    "    v_f = v_f_0 \n",
    "    p_m = p_m_0 \n",
    "\n",
    "    if t>1.0: \n",
    "        u_ctrl = K*(x_ref - x)\n",
    "        p_m = p_m_ref + u_ctrl[0]\n",
    "        v_f = v_f_ref + u_ctrl[1]\n",
    "        \n",
    "        \n",
    "    events=[{'t_end':t,'v_f':v_f,'p_m':p_m}]\n",
    "    syst.run(events)\n",
    "\n",
    "syst.post();\n",
    "    "
   ]
  },
  {
   "cell_type": "code",
   "execution_count": null,
   "metadata": {},
   "outputs": [],
   "source": [
    "plt.close('all')\n",
    "fig, axes = plt.subplots(nrows=2,ncols=2, figsize=(10, 5), frameon=False, dpi=50)\n",
    "\n",
    "axes[0,0].plot(syst.T, syst.get_values('omega'), label=f'$\\omega$')\n",
    "axes[0,1].plot(syst.T, syst.get_values('v_1'),   label=f'$v_1$')\n",
    "axes[1,0].plot(syst.T, syst.get_values('P_t'),   label=f'$P_t$')\n",
    "axes[1,1].plot(syst.T, syst.get_values('Q_t'),   label=f'$Q_t$')"
   ]
  },
  {
   "cell_type": "code",
   "execution_count": 15,
   "metadata": {},
   "outputs": [
    {
     "data": {
      "text/plain": [
       "array([[ 0.00000000e+00,  3.14159265e+02,  0.00000000e+00,\n",
       "         0.00000000e+00],\n",
       "       [-3.54343376e-01, -1.42857143e-01, -3.57095245e-01,\n",
       "         1.00330478e-01],\n",
       "       [-4.67038328e-01,  0.00000000e+00, -6.64265905e-01,\n",
       "        -2.31113959e-03],\n",
       "       [ 7.98653399e-01,  0.00000000e+00,  1.35913375e-02,\n",
       "        -2.58565604e+00]])"
      ]
     },
     "execution_count": 15,
     "metadata": {},
     "output_type": "execute_result"
    }
   ],
   "source": [
    "ssa.eval_ss(syst)\n"
   ]
  },
  {
   "cell_type": "code",
   "execution_count": 33,
   "metadata": {},
   "outputs": [],
   "source": [
    "from scipy.signal import ss2tf,lti,bode"
   ]
  },
  {
   "cell_type": "code",
   "execution_count": 37,
   "metadata": {},
   "outputs": [],
   "source": [
    "num,den =ss2tf(syst.A,syst.B,syst.C,syst.D,input=0)"
   ]
  },
  {
   "cell_type": "code",
   "execution_count": 38,
   "metadata": {},
   "outputs": [
    {
     "name": "stderr",
     "output_type": "stream",
     "text": [
      "C:\\programdata\\anaconda3\\lib\\site-packages\\scipy\\signal\\filter_design.py:1622: BadCoefficients: Badly conditioned filter coefficients (numerator): the results may be meaningless\n",
      "  \"results may be meaningless\", BadCoefficients)\n"
     ]
    }
   ],
   "source": [
    "G = lti(num[1],den)"
   ]
  },
  {
   "cell_type": "code",
   "execution_count": 39,
   "metadata": {},
   "outputs": [
    {
     "data": {
      "application/vnd.jupyter.widget-view+json": {
       "model_id": "0b86534370b24bb88bdb895b75dccb2a",
       "version_major": 2,
       "version_minor": 0
      },
      "text/plain": [
       "Canvas(toolbar=Toolbar(toolitems=[('Home', 'Reset original view', 'home', 'home'), ('Back', 'Back to previous …"
      ]
     },
     "metadata": {},
     "output_type": "display_data"
    },
    {
     "data": {
      "application/vnd.jupyter.widget-view+json": {
       "model_id": "9d83d17c81fb4eaa8e859171b337a45d",
       "version_major": 2,
       "version_minor": 0
      },
      "text/plain": [
       "Canvas(toolbar=Toolbar(toolitems=[('Home', 'Reset original view', 'home', 'home'), ('Back', 'Back to previous …"
      ]
     },
     "metadata": {},
     "output_type": "display_data"
    }
   ],
   "source": [
    "w, mag, phase = G.bode()\n",
    "plt.figure()\n",
    "plt.semilogx(w, mag)    # Bode magnitude plot\n",
    "plt.figure()\n",
    "plt.semilogx(w, phase)  # Bode phase plot\n",
    "plt.show()"
   ]
  },
  {
   "cell_type": "code",
   "execution_count": null,
   "metadata": {},
   "outputs": [],
   "source": [
    "events=[{'t_end':1.0,'P_t':0.8, 'Q_t':0.5},\n",
    "        {'t_end':10.0, 'p_m':0.9}\n",
    "       ]\n",
    "\n",
    "syst.simulate(events,xy0=1.0);"
   ]
  },
  {
   "cell_type": "code",
   "execution_count": 20,
   "metadata": {},
   "outputs": [
    {
     "data": {
      "text/plain": [
       "['p_m', 'v_f']"
      ]
     },
     "execution_count": 20,
     "metadata": {},
     "output_type": "execute_result"
    }
   ],
   "source": [
    "syst.inputs_run_list\n"
   ]
  },
  {
   "cell_type": "code",
   "execution_count": 43,
   "metadata": {},
   "outputs": [
    {
     "data": {
      "text/plain": [
       "0.0016666666666666668"
      ]
     },
     "execution_count": 43,
     "metadata": {},
     "output_type": "execute_result"
    }
   ],
   "source": [
    "0.01/6"
   ]
  },
  {
   "cell_type": "code",
   "execution_count": 28,
   "metadata": {},
   "outputs": [
    {
     "data": {
      "text/plain": [
       "array([[0.        , 0.        ],\n",
       "       [0.14285714, 0.        ],\n",
       "       [0.        , 0.125     ],\n",
       "       [0.        , 0.        ]])"
      ]
     },
     "execution_count": 28,
     "metadata": {},
     "output_type": "execute_result"
    }
   ],
   "source": [
    "syst.B"
   ]
  },
  {
   "cell_type": "code",
   "execution_count": 30,
   "metadata": {},
   "outputs": [
    {
     "data": {
      "text/plain": [
       "array([[0.        , 0.        ],\n",
       "       [0.14285714, 0.        ],\n",
       "       [0.        , 0.125     ],\n",
       "       [0.        , 0.        ]])"
      ]
     },
     "execution_count": 30,
     "metadata": {},
     "output_type": "execute_result"
    }
   ],
   "source": [
    "syst.struct[0]['Fu']"
   ]
  },
  {
   "cell_type": "code",
   "execution_count": 15,
   "metadata": {},
   "outputs": [],
   "source": []
  },
  {
   "cell_type": "code",
   "execution_count": null,
   "metadata": {},
   "outputs": [],
   "source": []
  }
 ],
 "metadata": {
  "kernelspec": {
   "display_name": "Python 3",
   "language": "python",
   "name": "python3"
  },
  "language_info": {
   "codemirror_mode": {
    "name": "ipython",
    "version": 3
   },
   "file_extension": ".py",
   "mimetype": "text/x-python",
   "name": "python",
   "nbconvert_exporter": "python",
   "pygments_lexer": "ipython3",
   "version": "3.8.5"
  }
 },
 "nbformat": 4,
 "nbformat_minor": 4
}
