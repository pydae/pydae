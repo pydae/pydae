{
 "cells": [
  {
   "cell_type": "markdown",
   "metadata": {},
   "source": [
    "### Electromechanical differential equations\n",
    "\\begin{eqnarray}\n",
    "f_1 &=& \\dot \\delta = \\Omega_b \\left( \\omega - \\omega_s  \\right) \\\\\n",
    "f_2 &=& \\dot \\omega = \\frac{1}{2H} \\left( p_m - p_e - D   \\left( \\omega - \\omega_s \\right) \\right)   \n",
    "\\end{eqnarray}\n",
    "\n",
    "### Electric rotor differential equations\n",
    "\\begin{eqnarray}\n",
    "f_3 &=& \\dot e_q' =  \\frac{1}{T'_{d0}} \\left( -e'_q - \\left(X_d - X'_d \\right) i_d + v_f^\\star \\right) \\\\\n",
    "f_4 &=& \\dot e'_d = \\frac{1}{T'_{q0}} \\left( -e'_d - \\left(X_q - X'_q \\right) i_q \\right)       \n",
    "\\end{eqnarray}\n",
    "\n",
    "### AVR/Exitation dynamic\n",
    "\\begin{eqnarray}\n",
    "f_5 &=& \\dot v_c =   (v_t - v_c)/T_e\n",
    "\\end{eqnarray}\n",
    "\n",
    "\n",
    "\n",
    "\n",
    "### Park transform\n",
    "\\begin{eqnarray}\n",
    "g_1 &=&-v_d + v_t \\sin\\left(\\delta - \\theta_t\\right) \\\\\n",
    "g_2 &=&-v_q + v_t \\cos\\left(\\delta - \\theta_t\\right) \n",
    "\\end{eqnarray}\n",
    "\n",
    "### Stator equations\n",
    "\\begin{eqnarray}\n",
    "g_3 &=& v_q + R_a i_q + X'_d i_d - e'_q\\\\\n",
    "g_4 &=& v_d + R_a i_d - X'_q i_q - e'_d\\\\\n",
    "\\end{eqnarray}\n",
    "\n",
    "### Powers\n",
    "\\begin{eqnarray}\n",
    "g_5 &=& -p_e + \\left( v_q + R_a i_q  \\right) i_q + \\left( v_d + R_a i_d  \\right) i_d \\\\\n",
    "g_6 &=&  i_d v_d + i_q v_q - p_t \\\\\n",
    "g_7 &=&  i_d v_q - i_q v_d - q_t\n",
    "\\end{eqnarray}\n",
    "\n",
    "### Network equations\n",
    "\\begin{eqnarray}\n",
    "g_8 &=&   p_t - \\left(v_t V_0 \\sin\\left(\\theta_t - \\theta_0\\right)\\right)/X_l\\\\\n",
    "g_9 &=&   q_t + \\left(v_t V_0 \\cos\\left(\\theta_t - \\theta_0\\right)\\right)/X_l - v_t^2/X_l\n",
    "\\end{eqnarray}    \n",
    "\n",
    "### AVR algebraic equations\n",
    "\\begin{eqnarray}\n",
    "g_{10} &=&   K_a (v^\\star - v_c + v_s) - v_f \n",
    "\\end{eqnarray}  "
   ]
  },
  {
   "cell_type": "code",
   "execution_count": 1,
   "metadata": {},
   "outputs": [],
   "source": [
    "import numpy as np\n",
    "import sympy as sym\n",
    "import numba\n",
    "import pydae.build as db"
   ]
  },
  {
   "cell_type": "markdown",
   "metadata": {},
   "source": [
    "## System definition "
   ]
  },
  {
   "cell_type": "code",
   "execution_count": 10,
   "metadata": {},
   "outputs": [],
   "source": [
    "params_dict = {'X_d':1.81,'X1d':0.3, 'T1d0':8.0,  # synnchronous machine d-axis parameters\n",
    "               'X_q':1.76,'X1q':0.65,'T1q0':1.0,  # synnchronous machine q-axis parameters\n",
    "               'R_a':0.003,'X_l': 0.1, \n",
    "               'H':3.5,'D':0.0,\n",
    "               'Omega_b':2*np.pi*50,'omega_s':1.0,\n",
    "               'v_0':1.0,'theta_0':0.0,\n",
    "               'K_a':100, 'T_e':0.1,\n",
    "               'T_wo':10.0,'T_1':0.1,'T_2':0.1,'K_stab':0.0}\n",
    "\n",
    "\n",
    "u_ini_dict = {'p_t':0.8,'v_t':1.0}  # for the initialization problem\n",
    "u_run_dict = {'p_m':0.8,'v_ref':1.0}  # for the running problem (here initialization and running problem are the same)\n",
    "\n",
    "\n",
    "x_list = ['delta','omega','e1q','e1d','v_c','x_wo','x_l']    # dynamic states\n",
    "y_ini_list = ['v_d','v_q','i_d','i_q','p_e','p_m','q_t','v_ref','theta_t','v_f','z_wo','v_pss']  \n",
    "y_run_list = ['v_d','v_q','i_d','i_q','p_e','p_t','q_t','v_t','theta_t','v_f','z_wo','v_pss']   \n",
    "\n",
    "sys_vars = {'params':params_dict,\n",
    "            'u_list':u_run_dict,\n",
    "            'x_list':x_list,\n",
    "            'y_list':y_run_list}\n",
    "\n",
    "exec(db.sym_gen_str())  # exec to generate the required symbolic varables and constants"
   ]
  },
  {
   "cell_type": "code",
   "execution_count": 11,
   "metadata": {},
   "outputs": [
    {
     "name": "stdout",
     "output_type": "stream",
     "text": [
      "jacobians respect u = 0\n"
     ]
    }
   ],
   "source": [
    "ddelta = Omega_b*(omega - omega_s)\n",
    "domega = 1/(2*H)*(p_m - p_e - D*(omega - omega_s))\n",
    "de1q = 1/T1d0*(-e1q - (X_d - X1d)*i_d + v_f)\n",
    "de1d = 1/T1q0*(-e1d + (X_q - X1q)*i_q)\n",
    "dv_c =   (v_t - v_c)/T_e\n",
    "u_wo = omega - omega_s\n",
    "dx_wo =   (u_wo - x_wo)/T_wo\n",
    "g_z_wo =  (u_wo - x_wo) - z_wo  \n",
    "dx_l =  (z_wo - x_l)/T_2\n",
    "g_v_pss = K_stab*((z_wo - x_l)*T_1/T_2 + x_l) - v_pss  \n",
    "\n",
    "\n",
    "g_1 = -v_d + v_t*sin(delta - theta_t)\n",
    "g_2 = -v_q + v_t*cos(delta - theta_t) \n",
    "g_3 = v_q + R_a*i_q + X1d*i_d - e1q\n",
    "g_4 = v_d + R_a*i_d - X1q*i_q - e1d\n",
    "g_5 = -p_e + i_d*(v_d + R_a*i_d) + i_q*(v_q + R_a*i_q) \n",
    "g_6 = i_d*v_d + i_q*v_q - p_t\n",
    "g_7 = i_d*v_q - i_q*v_d - q_t\n",
    "g_8 = p_t - (v_t*v_0*sin(theta_t - theta_0))/X_l\n",
    "g_9 = q_t + (v_t*v_0*cos(theta_t - theta_0))/X_l - v_t**2/X_l\n",
    "g_10 = K_a*(v_ref - v_c + v_pss) - v_f \n",
    "\n",
    "\n",
    "sys = {'name':'smib_milano_ex8p1_4ord_avr_pss',\n",
    "       'params_dict':params_dict,\n",
    "       'f_list':[ddelta,domega,de1q,de1d,dv_c,dx_wo,dx_l],\n",
    "       'g_list':[g_1,g_2,g_3,g_4,g_5,g_6,g_7,g_8,g_9,g_10,g_z_wo,g_v_pss],\n",
    "       'x_list':x_list,\n",
    "       'y_ini_list':y_ini_list,\n",
    "       'y_run_list':y_run_list,\n",
    "       'u_run_dict':u_run_dict,\n",
    "       'u_ini_dict':u_ini_dict,\n",
    "       'h_dict':{'p_m':p_m}}\n",
    "\n",
    "sys = db.system(sys)\n",
    "db.sys2num(sys)\n",
    "                "
   ]
  },
  {
   "cell_type": "code",
   "execution_count": null,
   "metadata": {},
   "outputs": [],
   "source": []
  },
  {
   "cell_type": "code",
   "execution_count": null,
   "metadata": {},
   "outputs": [],
   "source": []
  }
 ],
 "metadata": {
  "kernelspec": {
   "display_name": "Python 3",
   "language": "python",
   "name": "python3"
  },
  "language_info": {
   "codemirror_mode": {
    "name": "ipython",
    "version": 3
   },
   "file_extension": ".py",
   "mimetype": "text/x-python",
   "name": "python",
   "nbconvert_exporter": "python",
   "pygments_lexer": "ipython3",
   "version": "3.8.5"
  }
 },
 "nbformat": 4,
 "nbformat_minor": 4
}
