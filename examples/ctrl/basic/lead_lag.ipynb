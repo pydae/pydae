{
 "cells": [
  {
   "cell_type": "code",
   "execution_count": 1,
   "metadata": {},
   "outputs": [],
   "source": [
    "import numpy as np\n",
    "import matplotlib.pyplot as plt\n",
    "from IPython.core.display import HTML\n",
    "import pydae.svg_tools as svgt\n",
    "%config InlineBackend.figure_format = 'svg'"
   ]
  },
  {
   "cell_type": "code",
   "execution_count": 2,
   "metadata": {},
   "outputs": [],
   "source": [
    "%matplotlib widget"
   ]
  },
  {
   "cell_type": "code",
   "execution_count": 3,
   "metadata": {},
   "outputs": [],
   "source": [
    "from pydae import ssa\n",
    "from lead_lag import lead_lag_class"
   ]
  },
  {
   "cell_type": "code",
   "execution_count": 4,
   "metadata": {},
   "outputs": [],
   "source": [
    "syst = lead_lag_class()"
   ]
  },
  {
   "cell_type": "code",
   "execution_count": 5,
   "metadata": {},
   "outputs": [
    {
     "data": {
      "text/plain": [
       "True"
      ]
     },
     "execution_count": 5,
     "metadata": {},
     "output_type": "execute_result"
    }
   ],
   "source": [
    "\n",
    "syst.initialize([{    # parameters setting\n",
    "                   # initial desired angle = 0º\n",
    "                }],-1)                  # here -1 means that -1 is considered as initial gess for\n",
    "                                        # dynamic and algebraic states"
   ]
  },
  {
   "cell_type": "code",
   "execution_count": 6,
   "metadata": {},
   "outputs": [
    {
     "name": "stdout",
     "output_type": "stream",
     "text": [
      "z_l   =  0.00\n"
     ]
    }
   ],
   "source": [
    "syst.report_y()"
   ]
  },
  {
   "cell_type": "code",
   "execution_count": 7,
   "metadata": {},
   "outputs": [],
   "source": [
    "syst.simulate([{'t_end':1.0, 'u_l':0.0, 'T_1':0.1, 'T_2':0.1},\n",
    "               {'t_end':5.0, 'u_l':0.5}],0);"
   ]
  },
  {
   "cell_type": "code",
   "execution_count": 8,
   "metadata": {},
   "outputs": [
    {
     "data": {
      "application/vnd.jupyter.widget-view+json": {
       "model_id": "23bbcae4bdc841f7b7f3e4dc47203c7c",
       "version_major": 2,
       "version_minor": 0
      },
      "text/plain": [
       "Canvas(toolbar=Toolbar(toolitems=[('Home', 'Reset original view', 'home', 'home'), ('Back', 'Back to previous …"
      ]
     },
     "metadata": {},
     "output_type": "display_data"
    }
   ],
   "source": [
    "fig, axes = plt.subplots(nrows=1,ncols=1, figsize=(6, 3), dpi=100)\n",
    "\n",
    "axes.plot(syst.T, syst.get_values('z_l'), label=f'z_l')\n",
    "axes.set_ylabel('$\\\\theta (º)$')\n",
    "axes.set_xlabel('Time (s)')\n",
    "fig.tight_layout()"
   ]
  },
  {
   "cell_type": "code",
   "execution_count": 9,
   "metadata": {},
   "outputs": [],
   "source": [
    "Δt = 0.001\n",
    "syst = lead_lag_class()\n",
    "times = np.arange(0,5,Δt)\n",
    "syst.initialize([{'u_l':0.0, 'T_1':1.0, 'T_2':0.1}],0)\n",
    "\n",
    "for t in times:\n",
    "    syst.run([{'t_end':t,'u_l':np.sin(1*np.pi*2*t)}])\n",
    "    \n",
    "syst.post();\n"
   ]
  },
  {
   "cell_type": "code",
   "execution_count": 10,
   "metadata": {},
   "outputs": [
    {
     "data": {
      "application/vnd.jupyter.widget-view+json": {
       "model_id": "d0e52c3cf9ea43d2a3e5767ff362dd22",
       "version_major": 2,
       "version_minor": 0
      },
      "text/plain": [
       "Canvas(toolbar=Toolbar(toolitems=[('Home', 'Reset original view', 'home', 'home'), ('Back', 'Back to previous …"
      ]
     },
     "metadata": {},
     "output_type": "display_data"
    }
   ],
   "source": [
    "fig, axes = plt.subplots(nrows=1,ncols=1, figsize=(6, 3), dpi=100)\n",
    "\n",
    "axes.plot(syst.T, syst.get_values('u_l'), label=f'u_l')\n",
    "axes.plot(syst.T, syst.get_values('z_l'), label=f'z_l')\n",
    "axes.legend()\n",
    "axes.set_xlabel('Time (s)')\n",
    "fig.tight_layout()"
   ]
  },
  {
   "cell_type": "code",
   "execution_count": 11,
   "metadata": {},
   "outputs": [],
   "source": [
    "import ipywidgets\n",
    "%matplotlib widget"
   ]
  },
  {
   "cell_type": "code",
   "execution_count": null,
   "metadata": {},
   "outputs": [],
   "source": []
  },
  {
   "cell_type": "code",
   "execution_count": 19,
   "metadata": {},
   "outputs": [
    {
     "data": {
      "application/vnd.jupyter.widget-view+json": {
       "model_id": "62df21d584fc454ca53599eefe970a49",
       "version_major": 2,
       "version_minor": 0
      },
      "text/plain": [
       "VBox(children=(HBox(children=(Canvas(toolbar=Toolbar(toolitems=[('Home', 'Reset original view', 'home', 'home'…"
      ]
     },
     "metadata": {},
     "output_type": "display_data"
    }
   ],
   "source": [
    "plt.ioff()\n",
    "plt.clf()\n",
    "syst = lead_lag_class()\n",
    "syst.initialize([{'u_l':0.0, 'T_1':1.0, 'T_2':0.1}],0)\n",
    "fig, axes = plt.subplots(nrows=1,ncols=1, figsize=(6, 3), dpi=100)\n",
    "\n",
    "line_u_l = axes.plot(syst.T, syst.get_values('u_l'), label=f'u_l')\n",
    "line_z_l = axes.plot(syst.T, syst.get_values('z_l'), label=f'z_l')\n",
    "axes.legend()\n",
    "axes.set_xlabel('Time (s)')\n",
    "fig.tight_layout()\n",
    "\n",
    "\n",
    "\n",
    "axes.set_ylim((-2,2))\n",
    "axes.set_xlim((0,50))\n",
    "\n",
    "axes.grid(True)\n",
    "axes.legend(loc='best')\n",
    "fig.tight_layout()\n",
    "\n",
    "\n",
    "sld_T_1  = ipywidgets.FloatSlider(orientation='horizontal',description = \"$\\sf T_1$\", \n",
    "                                value=0.1, min=-0.5,max= 2.0, \n",
    "                                step=0.01,continuous_update=False)\n",
    "\n",
    "\n",
    "sld_T_2  = ipywidgets.FloatSlider(orientation='horizontal',description = \"$\\sf T_2$\", \n",
    "                                value=0.1, min=0.05,max= 10.0, \n",
    "                                step=0.01,continuous_update=False)\n",
    "\n",
    "sld_freq  = ipywidgets.FloatSlider(orientation='horizontal',description = \"$\\sf freq$\", \n",
    "                                value=1.0, min=0.1,max= 2.0, \n",
    "                                step=0.1)\n",
    "\n",
    "ckbox_gain = ipywidgets.Checkbox(\n",
    "    value=False,\n",
    "    description='Gain compensation',\n",
    "    disabled=False\n",
    ")\n",
    "\n",
    "txt_phase = ipywidgets.Text(\n",
    "    value='1∠0º',\n",
    "    placeholder='Type something',\n",
    "    description='gain∠phase:',\n",
    "    disabled=False)\n",
    "\n",
    "drop_signal = ipywidgets.Dropdown(\n",
    "    options=['sin(wt)', 'step'],\n",
    "    value='sin(wt)',\n",
    "    description='Input:',\n",
    "    disabled=False,\n",
    ")\n",
    "\n",
    "\n",
    "\n",
    "Δt = 0.01\n",
    "times = np.arange(0,5,Δt)\n",
    "\n",
    "def update(change):\n",
    "    \n",
    "    T_1 = sld_T_1.value\n",
    "    T_2 = sld_T_2.value\n",
    "    freq  = sld_freq.value\n",
    "    \n",
    "    cplx_ = (1j*2*np.pi*freq*T_1 + 1)/(1j*2*np.pi*freq*T_2 + 1)\n",
    "    phase_wo = np.angle(cplx_,deg=True)\n",
    "    \n",
    "    gain_wo = 1.0\n",
    "    if ckbox_gain.value:\n",
    "        gain_wo = np.abs(cplx_)\n",
    "        \n",
    "    \n",
    "    txt_phase.value = f'{np.abs(cplx_):4.1f}∠{phase_wo:4.1f}º'\n",
    "    \n",
    "    syst.initialize([{'u_l':0.0, 'T_1':T_1, 'T_2':T_2}],0)\n",
    "    \n",
    "    if drop_signal.value == 'sin(wt)':\n",
    "        for t in times:\n",
    "            syst.run([{'t_end':t,'u_l':np.sin(2*np.pi*freq*t)}])\n",
    "    if drop_signal.value == 'step':\n",
    "        syst.run([{'t_end':50,'u_l':1.0, 'Dt':0.01}])\n",
    "        \n",
    "\n",
    "    syst.post();\n",
    "\n",
    "    line_u_l[0].set_data(syst.T, syst.get_values('u_l'))\n",
    "    line_z_l[0].set_data(syst.T, syst.get_values('z_l')/gain_wo)\n",
    "\n",
    "    fig.canvas.draw_idle()\n",
    "      \n",
    "sld_T_1.observe(update, names='value')\n",
    "sld_T_2.observe(update, names='value')\n",
    "sld_freq.observe(update, names='value')\n",
    "ckbox_gain.observe(update, names='value')\n",
    "drop_signal.observe(update, names='value')\n",
    "\n",
    "layout_row1 = ipywidgets.HBox([fig.canvas])\n",
    "layout_row2 = ipywidgets.HBox([sld_T_1,sld_T_2, txt_phase])\n",
    "layout_row3 = ipywidgets.HBox([sld_freq,ckbox_gain,drop_signal])\n",
    "layout = ipywidgets.VBox([layout_row1,layout_row2,layout_row3])\n",
    "layout"
   ]
  },
  {
   "cell_type": "code",
   "execution_count": null,
   "metadata": {},
   "outputs": [],
   "source": []
  },
  {
   "cell_type": "code",
   "execution_count": null,
   "metadata": {},
   "outputs": [],
   "source": []
  }
 ],
 "metadata": {
  "kernelspec": {
   "display_name": "Python 3",
   "language": "python",
   "name": "python3"
  },
  "language_info": {
   "codemirror_mode": {
    "name": "ipython",
    "version": 3
   },
   "file_extension": ".py",
   "mimetype": "text/x-python",
   "name": "python",
   "nbconvert_exporter": "python",
   "pygments_lexer": "ipython3",
   "version": "3.8.5"
  }
 },
 "nbformat": 4,
 "nbformat_minor": 4
}
