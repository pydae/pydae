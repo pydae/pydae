{
 "cells": [
  {
   "cell_type": "code",
   "execution_count": 2,
   "metadata": {},
   "outputs": [],
   "source": [
    "import numpy as np\n",
    "import sympy as sym\n",
    "import pydae.build as db"
   ]
  },
  {
   "cell_type": "code",
   "execution_count": 3,
   "metadata": {},
   "outputs": [
    {
     "ename": "SyntaxError",
     "evalue": "invalid syntax (<ipython-input-3-cea0b92f9579>, line 1)",
     "output_type": "error",
     "traceback": [
      "\u001b[1;36m  File \u001b[1;32m\"<ipython-input-3-cea0b92f9579>\"\u001b[1;36m, line \u001b[1;32m1\u001b[0m\n\u001b[1;33m    https://ctms.engin.umich.edu/CTMS/index.php?aux=Extras_Leadlag\u001b[0m\n\u001b[1;37m          ^\u001b[0m\n\u001b[1;31mSyntaxError\u001b[0m\u001b[1;31m:\u001b[0m invalid syntax\n"
     ]
    }
   ],
   "source": [
    "https://ctms.engin.umich.edu/CTMS/index.php?aux=Extras_Leadlag"
   ]
  },
  {
   "cell_type": "code",
   "execution_count": 10,
   "metadata": {},
   "outputs": [],
   "source": [
    "params_dict = {'T_1':2,'T_2':0.1}  # parameters with default values\n",
    "\n",
    "\n",
    "u_ini_dict = {'u_l':0.0}  # input for the initialization problem\n",
    "u_run_dict = {'u_l':0.0}                  # input for the running problem, its value is updated \n",
    "\n",
    "\n",
    "x_list = ['x_l']  # dynamic states\n",
    "y_ini_list = ['z_l']          # algebraic states for the initialization problem\n",
    "y_run_list = ['z_l']        # algebraic for the running problem\n",
    "\n",
    "sys_vars = {'params':params_dict,\n",
    "            'u_list':u_run_dict,\n",
    "            'x_list':x_list,\n",
    "            'y_list':y_run_list}\n",
    "\n",
    "exec(db.sym_gen_str())  # exec to generate the required symbolic varables and constants"
   ]
  },
  {
   "cell_type": "code",
   "execution_count": 7,
   "metadata": {},
   "outputs": [],
   "source": [
    "dx_l =  (u_l - x_l)/T_l\n",
    "g_z_l = (u_l - x_l)/Alpha_l + x_l - z_l  "
   ]
  },
  {
   "cell_type": "code",
   "execution_count": null,
   "metadata": {},
   "outputs": [],
   "source": [
    "dx_1 = (u_l - x_1)/T_1\n",
    "dx_2 = (u_l - x_2)/T_2\n",
    "g_z_l = K_stab*(T_1/T_2*(u_lead-x_2) + x_1)\n",
    "g_z_l = (u_l - x_l)/(Alpha_l) + x_l - z_l  "
   ]
  },
  {
   "cell_type": "code",
   "execution_count": 8,
   "metadata": {},
   "outputs": [
    {
     "name": "stdout",
     "output_type": "stream",
     "text": [
      "jacobians respect u = 0\n"
     ]
    }
   ],
   "source": [
    "sys = {'name':'lead_lag',\n",
    "       'params_dict':params_dict,\n",
    "       'f_list':[dx_l],\n",
    "       'g_list':[g_z_l],\n",
    "       'x_list':[x_l],\n",
    "       'y_ini_list':y_ini_list,\n",
    "       'y_run_list':y_run_list,\n",
    "       'u_run_dict':u_run_dict,\n",
    "       'u_ini_dict':u_ini_dict,\n",
    "       'h_dict':{'u_l':u_l}}\n",
    "\n",
    "sys = db.system(sys)\n",
    "db.sys2num(sys)"
   ]
  },
  {
   "cell_type": "code",
   "execution_count": null,
   "metadata": {},
   "outputs": [],
   "source": []
  },
  {
   "cell_type": "code",
   "execution_count": null,
   "metadata": {},
   "outputs": [],
   "source": []
  }
 ],
 "metadata": {
  "kernelspec": {
   "display_name": "Python 3",
   "language": "python",
   "name": "python3"
  },
  "language_info": {
   "codemirror_mode": {
    "name": "ipython",
    "version": 3
   },
   "file_extension": ".py",
   "mimetype": "text/x-python",
   "name": "python",
   "nbconvert_exporter": "python",
   "pygments_lexer": "ipython3",
   "version": "3.8.5"
  }
 },
 "nbformat": 4,
 "nbformat_minor": 4
}
