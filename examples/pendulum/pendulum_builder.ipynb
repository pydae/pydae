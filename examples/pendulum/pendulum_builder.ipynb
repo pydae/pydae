{
 "cells": [
  {
   "cell_type": "code",
   "execution_count": 2,
   "metadata": {},
   "outputs": [],
   "source": [
    "import numpy as np\n",
    "import sympy as sym\n",
    "import pydae.build as db"
   ]
  },
  {
   "cell_type": "code",
   "execution_count": 15,
   "metadata": {},
   "outputs": [],
   "source": [
    "params_dict = {'L':5.21,'G':9.81,'M':10.0,'K_d':1e-6}\n",
    "\n",
    "\n",
    "u_ini_dict = {'theta':np.deg2rad(5.0)}  # for the initialization problem\n",
    "u_run_dict = {'f_x':10}  # for the running problem (here initialization and running problem are the same)\n",
    "\n",
    "#u_ini_dict = {'theta':10}  # for the initialization problem\n",
    "u_run_dict = {'f_x':10}  # for the running problem (here initialization and running problem are the same)\n",
    "\n",
    "\n",
    "\n",
    "x_list = ['pos_x','pos_y','v_x','v_y']    # [inductor current, PI integrator]\n",
    "y_ini_list = ['lam','f_x'] # for the initialization problem\n",
    "y_run_list = ['lam','theta'] # for the running problem (here initialization and running problem are the same)\n",
    "\n",
    "sys_vars = {'params':params_dict,\n",
    "            'u_list':u_run_dict,\n",
    "            'x_list':x_list,\n",
    "            'y_list':y_run_list}\n",
    "\n",
    "exec(db.sym_gen_str())  # exec to generate the required symbolic varables and constants"
   ]
  },
  {
   "cell_type": "code",
   "execution_count": 16,
   "metadata": {},
   "outputs": [],
   "source": [
    "dpos_x = v_x\n",
    "dpos_y = v_y\n",
    "dv_x = (-2*pos_x*lam + f_x - K_d*v_x)/M\n",
    "dv_y = (-M*G - 2*pos_y*lam - K_d*v_y)/M   \n",
    "\n",
    "g_1 = pos_x**2 + pos_y**2 - L**2 -lam*1e-6\n",
    "g_2 = -theta + sym.atan2(pos_x,-pos_y)"
   ]
  },
  {
   "cell_type": "code",
   "execution_count": 17,
   "metadata": {},
   "outputs": [],
   "source": [
    "sys = {'name':'pendulum',\n",
    "       'params_dict':params_dict,\n",
    "       'f_list':[dpos_x,dpos_y,dv_x,dv_y],\n",
    "       'g_list':[g_1,g_2],\n",
    "       'x_list':x_list,\n",
    "       'y_ini_list':y_ini_list,\n",
    "       'y_run_list':y_run_list,\n",
    "       'u_run_dict':u_run_dict,\n",
    "       'u_ini_dict':u_ini_dict,\n",
    "       'h_dict':{'g_1':g_1,'PE':M*G*pos_y,'KE':0.5*M*(v_x**2+v_y**2),'theta':theta}}\n",
    "\n",
    "sys = db.system(sys)\n",
    "db.sys2num(sys)"
   ]
  },
  {
   "cell_type": "code",
   "execution_count": null,
   "metadata": {},
   "outputs": [],
   "source": [
    "g = -I + Y @ V\n",
    "g_p = -p + i*v \n",
    "g_q = -q + i*v \n",
    "y = V\n",
    "\n",
    "G_y = jacobiano(g,y)"
   ]
  },
  {
   "cell_type": "code",
   "execution_count": null,
   "metadata": {},
   "outputs": [],
   "source": []
  }
 ],
 "metadata": {
  "kernelspec": {
   "display_name": "Python 3",
   "language": "python",
   "name": "python3"
  },
  "language_info": {
   "codemirror_mode": {
    "name": "ipython",
    "version": 3
   },
   "file_extension": ".py",
   "mimetype": "text/x-python",
   "name": "python",
   "nbconvert_exporter": "python",
   "pygments_lexer": "ipython3",
   "version": "3.8.5"
  }
 },
 "nbformat": 4,
 "nbformat_minor": 4
}
