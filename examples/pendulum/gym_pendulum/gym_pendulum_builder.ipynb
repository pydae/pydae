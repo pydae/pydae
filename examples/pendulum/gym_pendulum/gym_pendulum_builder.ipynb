{
 "cells": [
  {
   "cell_type": "code",
   "execution_count": 1,
   "id": "722391f8",
   "metadata": {},
   "outputs": [],
   "source": [
    "import numpy as np\n",
    "import sympy as sym\n",
    "import pydae.build_cffi as db"
   ]
  },
  {
   "cell_type": "code",
   "execution_count": 2,
   "id": "597210ab",
   "metadata": {},
   "outputs": [],
   "source": [
    "params_dict = {'L':5.21,'G':9.81,'M':10.0,'K_d':1e-6}\n",
    "\n",
    "\n",
    "u_ini_dict = {'theta_m':np.deg2rad(5.0)}  # for the initialization problem\n",
    "u_run_dict = {'tau_ref':10}  # for the running problem (here initialization and running problem are the same)\n",
    "\n",
    "x_list = ['theta','omega']    #  \n",
    "y_ini_list = ['tau_ref','tau'] #  \n",
    "y_run_list = ['theta_m','tau'] #  )\n",
    "\n",
    "sys_vars = {'params':params_dict,\n",
    "            'u_list':u_run_dict,\n",
    "            'x_list':x_list,\n",
    "            'y_list':y_run_list}\n",
    "\n",
    "exec(db.sym_gen_str())  # exec to generate the required symbolic varables and constants"
   ]
  },
  {
   "cell_type": "code",
   "execution_count": 3,
   "id": "cacdb4d5",
   "metadata": {},
   "outputs": [],
   "source": [
    "sin = sym.sin\n",
    "\n",
    "dtheta = omega\n",
    "domega = 3/2*G/L*sin(theta) + 3/(M*L**2)*tau\n",
    "\n",
    "g_tau   = tau_ref - tau\n",
    "g_theta = theta_m - theta"
   ]
  },
  {
   "cell_type": "code",
   "execution_count": 5,
   "id": "77f89049",
   "metadata": {},
   "outputs": [
    {
     "name": "stdout",
     "output_type": "stream",
     "text": [
      "0.003988742828369141\n",
      "0.005022525787353516\n",
      "Compilation time: 2.83 s\n"
     ]
    }
   ],
   "source": [
    "sys = {'name':'gym_pendulum',\n",
    "       'params_dict':params_dict,\n",
    "       'f_list':[dtheta,domega],\n",
    "       'g_list':[g_tau,g_theta],\n",
    "       'x_list':x_list,\n",
    "       'y_ini_list':y_ini_list,\n",
    "       'y_run_list':y_run_list,\n",
    "       'u_run_dict':u_run_dict,\n",
    "       'u_ini_dict':u_ini_dict,\n",
    "       'h_dict':{'theta':theta}}\n",
    "\n",
    "sys = db.system(sys)\n",
    "db.jacobians(sys)\n",
    "defs,source = db.sym2src(sys)\n",
    "db.compile_module('gym_pendulum_cffi',defs,source)\n",
    "db.sys2num(sys)"
   ]
  },
  {
   "cell_type": "code",
   "execution_count": null,
   "id": "b2b0ee7c",
   "metadata": {},
   "outputs": [],
   "source": []
  }
 ],
 "metadata": {
  "kernelspec": {
   "display_name": "Python 3 (ipykernel)",
   "language": "python",
   "name": "python3"
  },
  "language_info": {
   "codemirror_mode": {
    "name": "ipython",
    "version": 3
   },
   "file_extension": ".py",
   "mimetype": "text/x-python",
   "name": "python",
   "nbconvert_exporter": "python",
   "pygments_lexer": "ipython3",
   "version": "3.9.7"
  }
 },
 "nbformat": 4,
 "nbformat_minor": 5
}
