{
 "cells": [
  {
   "cell_type": "code",
   "execution_count": 1,
   "metadata": {},
   "outputs": [],
   "source": [
    "import numpy as np\n",
    "import sympy as sym\n",
    "import numba\n",
    "import pydae.build as db"
   ]
  },
  {
   "cell_type": "code",
   "execution_count": null,
   "metadata": {},
   "outputs": [],
   "source": []
  },
  {
   "cell_type": "markdown",
   "metadata": {},
   "source": [
    "\\begin{eqnarray}\n",
    "\\dot \\delta &=& \\Omega_b \\left(\\omega - \\omega_s\\right)\\\\\n",
    "\\dot \\omega &=& 1/(2 H) \\left(p_m - p_e - D (\\omega - \\omega_s) \\right)\\\\\n",
    "\\end{eqnarray}\n",
    "\n",
    "$$ \\sf\n",
    "\\Omega_{b} \\left(\\sf \\omega - \\omega_{s}\\right)\n",
    "$$"
   ]
  },
  {
   "cell_type": "markdown",
   "metadata": {},
   "source": [
    "## System definition "
   ]
  },
  {
   "cell_type": "code",
   "execution_count": 2,
   "metadata": {},
   "outputs": [],
   "source": [
    "params = {'S_b':500.0,\n",
    "          'X_d':1.81,'X1d':0.3,'T1d0':8.0,   # synnchronous machine d-axis parameters\n",
    "          'X_q':1.76,'X1q':0.65,'T1q0':1.0,  # synnchronous machine q-axis parameters\n",
    "          'R_a':0.003,'X_l': 0.05, \n",
    "          'H':3.5,'D':1.0,\n",
    "          'Omega_b':2*np.pi*50,'omega_s':1.0,\n",
    "          'v_0':1.0,'theta_0':0.0,\n",
    "          'K_a':100, 'T_r':0.1, 'v_pss':0.0,\n",
    "          'T_c':2.0,'T_b':10.0,'Kpgov':10.0,'Kigov':2.0,'Droop':0.05,'Kimw':0.0,'S_b_g':500.0}\n",
    "                            \n",
    "u_ini_dict = {'P_t':0.8, 'Q_t':0.2}  # for the initialization problem\n",
    "u_run_dict = {'p_m':0.8,'v_ref':1.0}  # for the running problem (here initialization and running problem are the same)\n",
    "\n",
    "\n",
    "x_list_syn = ['delta','omega','e1q','e1d','v_c']    # [inductor current, PI integrator]\n",
    "y_ini_list = ['i_d','i_q','v_1','theta_1','p_m','v_ref','v_f'] # for the initialization problem\n",
    "y_run_list = ['i_d','i_q','v_1','theta_1','P_t','Q_t',  'v_f'] # for the running problem (here initialization and running problem are the same)\n",
    "\n",
    "x_list_gov = ['xi_gov','xi_mw','x_gov','p_m_meas']    # [inductor current, PI integrator]\n",
    "\n",
    "\n",
    "sys_vars = {'params':params,\n",
    "            'u_list':u_run_dict,\n",
    "            'x_list':x_list_syn + x_list_gov,\n",
    "            'y_list':y_run_list}\n",
    "\n",
    "exec(db.sym_gen_str())  # exec to generate the required symbolic varables and constants"
   ]
  },
  {
   "cell_type": "code",
   "execution_count": 7,
   "metadata": {},
   "outputs": [
    {
     "ename": "IndexError",
     "evalue": "list index out of range",
     "output_type": "error",
     "traceback": [
      "\u001b[1;31m---------------------------------------------------------------------------\u001b[0m",
      "\u001b[1;31mIndexError\u001b[0m                                Traceback (most recent call last)",
      "\u001b[1;32m<ipython-input-7-9d29f133eea3>\u001b[0m in \u001b[0;36m<module>\u001b[1;34m\u001b[0m\n\u001b[0;32m     32\u001b[0m \u001b[1;33m\u001b[0m\u001b[0m\n\u001b[0;32m     33\u001b[0m \u001b[0msys\u001b[0m \u001b[1;33m=\u001b[0m \u001b[0mdb\u001b[0m\u001b[1;33m.\u001b[0m\u001b[0msystem\u001b[0m\u001b[1;33m(\u001b[0m\u001b[0msys\u001b[0m\u001b[1;33m)\u001b[0m\u001b[1;33m\u001b[0m\u001b[1;33m\u001b[0m\u001b[0m\n\u001b[1;32m---> 34\u001b[1;33m \u001b[0mdb\u001b[0m\u001b[1;33m.\u001b[0m\u001b[0msys2num\u001b[0m\u001b[1;33m(\u001b[0m\u001b[0msys\u001b[0m\u001b[1;33m)\u001b[0m\u001b[1;33m\u001b[0m\u001b[1;33m\u001b[0m\u001b[0m\n\u001b[0m\u001b[0;32m     35\u001b[0m \u001b[1;33m\u001b[0m\u001b[0m\n",
      "\u001b[1;32m~\\anaconda3\\lib\\site-packages\\pydae\\build.py\u001b[0m in \u001b[0;36msys2num\u001b[1;34m(sys)\u001b[0m\n\u001b[0;32m    371\u001b[0m     \u001b[0mini_fun\u001b[0m \u001b[1;33m+=\u001b[0m \u001b[1;34m'\\n'\u001b[0m\u001b[1;33m\u001b[0m\u001b[1;33m\u001b[0m\u001b[0m\n\u001b[0;32m    372\u001b[0m     \u001b[1;32mfor\u001b[0m \u001b[0mirow\u001b[0m \u001b[1;32min\u001b[0m \u001b[0mrange\u001b[0m\u001b[1;33m(\u001b[0m\u001b[0mN_x\u001b[0m\u001b[1;33m)\u001b[0m\u001b[1;33m:\u001b[0m\u001b[1;33m\u001b[0m\u001b[1;33m\u001b[0m\u001b[0m\n\u001b[1;32m--> 373\u001b[1;33m         \u001b[0mstring\u001b[0m \u001b[1;33m=\u001b[0m \u001b[1;34mf'{f[irow]}'\u001b[0m\u001b[1;33m\u001b[0m\u001b[1;33m\u001b[0m\u001b[0m\n\u001b[0m\u001b[0;32m    374\u001b[0m         \u001b[0mrun_fun\u001b[0m \u001b[1;33m+=\u001b[0m \u001b[1;34mf'{2*tab}struct[0].f[{irow},0] = {arg2np(string,\"Piecewise\")}\\n'\u001b[0m\u001b[1;33m\u001b[0m\u001b[1;33m\u001b[0m\u001b[0m\n\u001b[0;32m    375\u001b[0m         \u001b[0mini_fun\u001b[0m \u001b[1;33m+=\u001b[0m \u001b[1;34mf'{2*tab}struct[0].f[{irow},0] = {arg2np(string,\"Piecewise\")}\\n'\u001b[0m\u001b[1;33m\u001b[0m\u001b[1;33m\u001b[0m\u001b[0m\n",
      "\u001b[1;32m~\\anaconda3\\lib\\site-packages\\sympy\\matrices\\dense.py\u001b[0m in \u001b[0;36m__getitem__\u001b[1;34m(self, key)\u001b[0m\n\u001b[0;32m    122\u001b[0m             \u001b[1;32mif\u001b[0m \u001b[0misinstance\u001b[0m\u001b[1;33m(\u001b[0m\u001b[0mkey\u001b[0m\u001b[1;33m,\u001b[0m \u001b[0mslice\u001b[0m\u001b[1;33m)\u001b[0m\u001b[1;33m:\u001b[0m\u001b[1;33m\u001b[0m\u001b[1;33m\u001b[0m\u001b[0m\n\u001b[0;32m    123\u001b[0m                 \u001b[1;32mreturn\u001b[0m \u001b[0mself\u001b[0m\u001b[1;33m.\u001b[0m\u001b[0m_mat\u001b[0m\u001b[1;33m[\u001b[0m\u001b[0mkey\u001b[0m\u001b[1;33m]\u001b[0m\u001b[1;33m\u001b[0m\u001b[1;33m\u001b[0m\u001b[0m\n\u001b[1;32m--> 124\u001b[1;33m             \u001b[1;32mreturn\u001b[0m \u001b[0mself\u001b[0m\u001b[1;33m.\u001b[0m\u001b[0m_mat\u001b[0m\u001b[1;33m[\u001b[0m\u001b[0ma2idx\u001b[0m\u001b[1;33m(\u001b[0m\u001b[0mkey\u001b[0m\u001b[1;33m)\u001b[0m\u001b[1;33m]\u001b[0m\u001b[1;33m\u001b[0m\u001b[1;33m\u001b[0m\u001b[0m\n\u001b[0m\u001b[0;32m    125\u001b[0m \u001b[1;33m\u001b[0m\u001b[0m\n\u001b[0;32m    126\u001b[0m     \u001b[1;32mdef\u001b[0m \u001b[0m__setitem__\u001b[0m\u001b[1;33m(\u001b[0m\u001b[0mself\u001b[0m\u001b[1;33m,\u001b[0m \u001b[0mkey\u001b[0m\u001b[1;33m,\u001b[0m \u001b[0mvalue\u001b[0m\u001b[1;33m)\u001b[0m\u001b[1;33m:\u001b[0m\u001b[1;33m\u001b[0m\u001b[1;33m\u001b[0m\u001b[0m\n",
      "\u001b[1;31mIndexError\u001b[0m: list index out of range"
     ]
    }
   ],
   "source": [
    "v_d = v_1*sin(delta - theta_1) \n",
    "v_q = v_1*cos(delta - theta_1) \n",
    "\n",
    "p_e = i_d*(v_d + R_a*i_d) + i_q*(v_q + R_a*i_q) \n",
    "\n",
    "\n",
    "ddelta = Omega_b*(omega - omega_s)\n",
    "domega = 1/(2*H)*(p_m - p_e - D*(omega - omega_s))\n",
    "de1q = 1/T1d0*(-e1q - (X_d - X1d)*i_d + v_f)\n",
    "de1d = 1/T1q0*(-e1d + (X_q - X1q)*i_q)\n",
    "dv_c =   (v_1 - v_c)/T_r\n",
    "\n",
    "g_1 = v_q + R_a*i_q + X1d*i_d - e1q\n",
    "g_2 = v_d + R_a*i_d - X1q*i_q - e1d\n",
    "g_3 = P_t - (v_1*v_0*sin(theta_1 - theta_0))/X_l\n",
    "g_4 = Q_t + (v_1*v_0*cos(theta_1 - theta_0))/X_l - v_1**2/X_l\n",
    "g_5 = i_d*v_d + i_q*v_q - P_t\n",
    "g_6 = i_d*v_q - i_q*v_d - Q_t\n",
    "g_7 = K_a*(v_ref - v_c + v_pss) - v_f \n",
    "\n",
    "\n",
    "sys = {'name':'smib_milano_ex8p1_4ord_avr',\n",
    "       'params_dict':params,\n",
    "       'f_list':[ddelta,domega,de1q,de1d,dv_c],\n",
    "       'g_list':[g_1,g_2,g_3,g_4,g_5,g_6,g_7],\n",
    "       'x_list':x_list,\n",
    "       'y_ini_list':y_ini_list,\n",
    "       'y_run_list':y_run_list,\n",
    "       'u_run_dict':u_run_dict,\n",
    "       'u_ini_dict':u_ini_dict,\n",
    "       'h_dict':{'p_m':p_m}}\n",
    "\n",
    "sys = db.system(sys)\n",
    "db.sys2num(sys)\n",
    "                "
   ]
  },
  {
   "cell_type": "code",
   "execution_count": 6,
   "metadata": {},
   "outputs": [
    {
     "ename": "NameError",
     "evalue": "name 'omega_ref' is not defined",
     "output_type": "error",
     "traceback": [
      "\u001b[1;31m---------------------------------------------------------------------------\u001b[0m",
      "\u001b[1;31mNameError\u001b[0m                                 Traceback (most recent call last)",
      "\u001b[1;32m<ipython-input-6-4ce731bf3ca7>\u001b[0m in \u001b[0;36m<module>\u001b[1;34m\u001b[0m\n\u001b[0;32m      1\u001b[0m \u001b[0momega_droop\u001b[0m \u001b[1;33m=\u001b[0m \u001b[0mDroop\u001b[0m\u001b[1;33m*\u001b[0m\u001b[0mp_m_meas\u001b[0m\u001b[1;33m\u001b[0m\u001b[1;33m\u001b[0m\u001b[0m\n\u001b[1;32m----> 2\u001b[1;33m \u001b[0mp_gov\u001b[0m\u001b[1;33m=\u001b[0m \u001b[0mKpgov\u001b[0m\u001b[1;33m*\u001b[0m\u001b[1;33m(\u001b[0m\u001b[0momega_ref\u001b[0m \u001b[1;33m-\u001b[0m \u001b[0momega\u001b[0m \u001b[1;33m-\u001b[0m \u001b[0momega_droop\u001b[0m \u001b[1;33m+\u001b[0m \u001b[0mKimw\u001b[0m\u001b[1;33m*\u001b[0m\u001b[0mxi_mw\u001b[0m\u001b[1;33m)\u001b[0m \u001b[1;33m+\u001b[0m \u001b[0mKigov\u001b[0m\u001b[1;33m*\u001b[0m\u001b[0mxi_gov\u001b[0m\u001b[1;33m\u001b[0m\u001b[1;33m\u001b[0m\u001b[0m\n\u001b[0m\u001b[0;32m      3\u001b[0m \u001b[0mp_m\u001b[0m \u001b[1;33m=\u001b[0m \u001b[0mx_gov\u001b[0m \u001b[1;33m+\u001b[0m \u001b[0mT_c_1\u001b[0m\u001b[1;33m/\u001b[0m\u001b[0mT_b_1\u001b[0m\u001b[1;33m*\u001b[0m\u001b[1;33m(\u001b[0m\u001b[0mp_gov\u001b[0m \u001b[1;33m-\u001b[0m \u001b[0mx_gov\u001b[0m\u001b[1;33m)\u001b[0m\u001b[1;33m\u001b[0m\u001b[1;33m\u001b[0m\u001b[0m\n\u001b[0;32m      4\u001b[0m \u001b[0mf1\u001b[0m \u001b[1;33m=\u001b[0m  \u001b[1;36m1.0\u001b[0m \u001b[1;33m-\u001b[0m \u001b[0momega_1\u001b[0m \u001b[1;33m-\u001b[0m \u001b[0momega_droop_1\u001b[0m \u001b[1;33m+\u001b[0m \u001b[0mKimw_1\u001b[0m\u001b[1;33m*\u001b[0m\u001b[0mxi_mw_1\u001b[0m\u001b[1;33m\u001b[0m\u001b[1;33m\u001b[0m\u001b[0m\n\u001b[0;32m      5\u001b[0m \u001b[0mf2\u001b[0m \u001b[1;33m=\u001b[0m \u001b[0mp_ref\u001b[0m \u001b[1;33m-\u001b[0m \u001b[0mp_m\u001b[0m\u001b[1;33m\u001b[0m\u001b[1;33m\u001b[0m\u001b[0m\n",
      "\u001b[1;31mNameError\u001b[0m: name 'omega_ref' is not defined"
     ]
    }
   ],
   "source": [
    "\n",
    "\n",
    "omega_droop = Droop*p_m_meas\n",
    "p_gov= Kpgov*(omega_ref - omega - omega_droop + Kimw*xi_mw) + Kigov*xi_gov\n",
    "p_m = x_gov + T_c_1/T_b_1*(p_gov - x_gov)\n",
    "f1 =  1.0 - omega_1 - omega_droop_1 + Kimw_1*xi_mw_1\n",
    "f2 = p_ref - p_m\n",
    "f3 = (p_gov_1 - x_gov_1)/T_b_1\n",
    "f4 = 1/0.1*(p_m_1 - p_m_meas_1) \n",
    "\n",
    "g_grid_p = P_t_1*S_b_1/S_b - (v_1*v_0*sin(theta_1 - theta_0))/X_l_1\n",
    "g_grid_q = Q_t_1*S_b_1/S_b + (v_1*v_0*cos(theta_1 - theta_0))/X_l_1 - v_1**2/X_l_1"
   ]
  },
  {
   "cell_type": "code",
   "execution_count": null,
   "metadata": {},
   "outputs": [],
   "source": []
  }
 ],
 "metadata": {
  "kernelspec": {
   "display_name": "Python 3",
   "language": "python",
   "name": "python3"
  },
  "language_info": {
   "codemirror_mode": {
    "name": "ipython",
    "version": 3
   },
   "file_extension": ".py",
   "mimetype": "text/x-python",
   "name": "python",
   "nbconvert_exporter": "python",
   "pygments_lexer": "ipython3",
   "version": "3.7.9"
  }
 },
 "nbformat": 4,
 "nbformat_minor": 2
}
