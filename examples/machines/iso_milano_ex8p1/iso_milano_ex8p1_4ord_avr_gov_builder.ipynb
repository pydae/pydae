{
 "cells": [
  {
   "cell_type": "code",
   "execution_count": 1,
   "metadata": {},
   "outputs": [],
   "source": [
    "import numpy as np\n",
    "import sympy as sym\n",
    "import numba\n",
    "import pydae.build as db"
   ]
  },
  {
   "cell_type": "code",
   "execution_count": null,
   "metadata": {},
   "outputs": [],
   "source": []
  },
  {
   "cell_type": "markdown",
   "metadata": {},
   "source": [
    "\\begin{eqnarray}\n",
    "\\dot \\delta &=& \\Omega_b \\left(\\omega - \\omega_s\\right)\\\\\n",
    "\\dot \\omega &=& 1/(2 H) \\left(p_m - p_e - D (\\omega - \\omega_s) \\right)\\\\\n",
    "\\end{eqnarray}\n",
    "\n",
    "$$ \\sf\n",
    "\\Omega_{b} \\left(\\sf \\omega - \\omega_{s}\\right)\n",
    "$$"
   ]
  },
  {
   "cell_type": "markdown",
   "metadata": {},
   "source": [
    "## System definition "
   ]
  },
  {
   "cell_type": "code",
   "execution_count": 5,
   "metadata": {},
   "outputs": [],
   "source": [
    "params = {'X_d':1.81,'X1d':0.3,'T1d0':8.0,   # synnchronous machine d-axis parameters\n",
    "          'X_q':1.76,'X1q':0.65,'T1q0':1.0,  # synnchronous machine q-axis parameters\n",
    "          'R_a':0.003,'X_l': 0.05, \n",
    "          'H':6.0,'D':1.0,'S_n':1.0,\n",
    "          'Omega_b':2*np.pi*50,'omega_s':1.0,\n",
    "          'K_a':100, 'T_r':0.1, 'v_pss':0.0,\n",
    "          'Droop':0.05,'T_m':5.0,'K_sec':0.001,\n",
    "          'K_delta':0.01}\n",
    "\n",
    "\n",
    "u_ini_dict = {'P_l':0.8, 'Q_l':0.2,'P_cig':0.1,'Q_cig':0.0,'v_ref':1.0}  # for the initialization problem\n",
    "u_run_dict = {'P_l':0.8, 'Q_l':0.2,'P_cig':0.1,'Q_cig':0.0,'v_ref':1.0}  # for the running problem (here initialization and running problem are the same)\n",
    "\n",
    "\n",
    "x_list = ['delta','omega','e1q','e1d','v_c','p_m','xi_m']    # [inductor current, PI integrator]\n",
    "y_ini_list = ['i_d','i_q','v_1','theta_1','P_t','Q_t','v_f','p_m_ref','v_0','theta_0'] # for the initialization problem\n",
    "y_run_list = ['i_d','i_q','v_1','theta_1','P_t','Q_t','v_f','p_m_ref','v_0','theta_0'] # for the running problem (here initialization and running problem are the same)\n",
    "\n",
    "sys_vars = {'params':params,\n",
    "            'u_list':u_run_dict,\n",
    "            'x_list':x_list,\n",
    "            'y_list':y_run_list}\n",
    "\n",
    "exec(db.sym_gen_str())  # exec to generate the required symbolic varables and constants"
   ]
  },
  {
   "cell_type": "code",
   "execution_count": 6,
   "metadata": {},
   "outputs": [],
   "source": [
    "v_d = v_1*sin(delta - theta_1) \n",
    "v_q = v_1*cos(delta - theta_1) \n",
    "\n",
    "p_e = i_d*(v_d + R_a*i_d) + i_q*(v_q + R_a*i_q) \n",
    "\n",
    "\n",
    "ddelta = Omega_b*(omega - omega_s) - K_delta*delta\n",
    "domega = 1/(2*H)*(p_m - p_e - D*(omega - omega_s))\n",
    "de1q = 1/T1d0*(-e1q - (X_d - X1d)*i_d + v_f)\n",
    "de1d = 1/T1q0*(-e1d + (X_q - X1q)*i_q)\n",
    "dv_c =   (v_1 - v_c)/T_r\n",
    "dp_m =   (p_m_ref - p_m)/T_m\n",
    "dxi_m =   omega - 1\n",
    "\n",
    "g_1  = v_q + R_a*i_q + X1d*i_d - e1q\n",
    "g_2  = v_d + R_a*i_d - X1q*i_q - e1d\n",
    "g_3  = P_t*S_n + P_cig - (v_1*v_0*sin(theta_1 - theta_0))/X_l\n",
    "g_4  = Q_t*S_n + Q_cig + (v_1*v_0*cos(theta_1 - theta_0))/X_l - v_1**2/X_l\n",
    "g_5  = i_d*v_d + i_q*v_q - P_t\n",
    "g_6  = i_d*v_q - i_q*v_d - Q_t\n",
    "g_7  = K_a*(v_ref - v_c + v_pss) - v_f \n",
    "g_8  = -p_m_ref - K_sec*xi_m - 1/Droop*(omega - 1)\n",
    "g_9  = -P_l - (v_0*v_1*sin(theta_0 - theta_1))/X_l\n",
    "g_10 = -Q_l + (v_0*v_1*cos(theta_0 - theta_1))/X_l - v_0**2/X_l\n",
    "\n",
    "sys = {'name':'iso_milano_ex8p1_4ord_avr_gov',\n",
    "       'params_dict':params,\n",
    "       'f_list':[ddelta,domega,de1q,de1d,dv_c,dp_m,dxi_m],\n",
    "       'g_list':[g_1,g_2,g_3,g_4,g_5,g_6,g_7,g_8,g_9,g_10],\n",
    "       'x_list':x_list,\n",
    "       'y_ini_list':y_ini_list,\n",
    "       'y_run_list':y_run_list,\n",
    "       'u_run_dict':u_run_dict,\n",
    "       'u_ini_dict':u_ini_dict,\n",
    "       'h_dict':{'p_m':p_m,'P_l':P_l,'Q_l':Q_l,'P_cig':P_cig,'Q_cig':Q_cig}}\n",
    "\n",
    "sys = db.system(sys)\n",
    "db.sys2num(sys)\n",
    "                "
   ]
  },
  {
   "cell_type": "code",
   "execution_count": null,
   "metadata": {},
   "outputs": [],
   "source": []
  },
  {
   "cell_type": "code",
   "execution_count": null,
   "metadata": {},
   "outputs": [],
   "source": []
  },
  {
   "cell_type": "code",
   "execution_count": null,
   "metadata": {},
   "outputs": [],
   "source": []
  }
 ],
 "metadata": {
  "kernelspec": {
   "display_name": "Python 3",
   "language": "python",
   "name": "python3"
  },
  "language_info": {
   "codemirror_mode": {
    "name": "ipython",
    "version": 3
   },
   "file_extension": ".py",
   "mimetype": "text/x-python",
   "name": "python",
   "nbconvert_exporter": "python",
   "pygments_lexer": "ipython3",
   "version": "3.8.5"
  }
 },
 "nbformat": 4,
 "nbformat_minor": 4
}
