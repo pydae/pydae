{
 "cells": [
  {
   "cell_type": "code",
   "execution_count": 1,
   "metadata": {},
   "outputs": [],
   "source": [
    "import numpy as np\n",
    "import sympy as sym\n",
    "import numba\n",
    "import pydae.build as db"
   ]
  },
  {
   "cell_type": "code",
   "execution_count": 2,
   "metadata": {},
   "outputs": [],
   "source": [
    "S_b = 90e3\n",
    "U_b = 400.0\n",
    "Z_b = U_b**2/S_b\n",
    "I_b = S_b/(np.sqrt(3)*U_b)\n",
    "Omega_b = 2*np.pi*50\n",
    "R_s = 0.023/Z_b\n",
    "R_r = 0.024/Z_b\n",
    "Ll_s = 0.086/Z_b\n",
    "Ll_r = 0.196/Z_b\n",
    "L_m = 3.7/Z_b\n",
    "\n",
    "\n",
    "params = {'S_b':S_b,'U_b':U_b,'I_b':I_b,\n",
    "          'R_s':R_s,'R_r':R_r,'L_ls':Ll_s,'L_lr':Ll_r,'L_m':L_m,   # synnchronous machine d-axis parameters\n",
    "          'H_m':3.5,'Omega_b':2*np.pi*50,'D':0.1,\n",
    "          'v_0':1,'theta_0':0.0,\n",
    "          'X_l':0.05, 'omega_s':1.0,'v_rd':0.0,'v_rq':0.0}\n",
    "\n",
    "\n",
    "\n",
    "u_ini_dict = {'P_h':0.1,'Q_h':0.0}  # for the initialization problem\n",
    "u_run_dict = {'tau_m':0.1,'B_c':0.0}  # for the running problem (here initialization and running problem are the same)\n",
    "\n",
    "\n",
    "x_list = ['omega_e','psi_rd','psi_rq']    # [inductor current, PI integrator]\n",
    "y_ini_list = ['psi_sd','psi_sq','i_sd','i_sq','i_rd','i_rq','tau_m','B_c','v_h','theta_h'] # for the initialization problem\n",
    "y_run_list = ['psi_sd','psi_sq','i_sd','i_sq','i_rd','i_rq','P_h','Q_h','v_h','theta_h'] # for the running problem (here initialization and running problem are the same)\n",
    "\n",
    "sys_vars = {'params':params,\n",
    "            'u_list':u_run_dict,\n",
    "            'x_list':x_list,\n",
    "            'y_list':y_run_list}\n",
    "\n",
    "exec(db.sym_gen_str())  # exec to generate the required symbolic varables and constants"
   ]
  },
  {
   "cell_type": "code",
   "execution_count": 3,
   "metadata": {},
   "outputs": [],
   "source": [
    "v_sd =  v_h*sin(-theta_h) \n",
    "v_sq =  v_h*cos(-theta_h) \n",
    "\n",
    "tau_e = psi_sd*i_sq - psi_sq*i_sd\n",
    "\n",
    "\n",
    "domega_e = 1/(2*H_m)*(tau_m - tau_e - D*omega_e)\n",
    "\n",
    "dpsi_rd = Omega_b*(-v_rd -R_r*i_rd - (omega_s-omega_e)*psi_rq)\n",
    "dpsi_rq = Omega_b*(-v_rq -R_r*i_rq + (omega_s-omega_e)*psi_rd)\n",
    "\n",
    "g_psi_sd = Omega_b*(-v_sd -R_s*i_sd - omega_s*psi_sq)\n",
    "g_psi_sq = Omega_b*(-v_sq -R_s*i_sq + omega_s*psi_sd)\n",
    "g_1 = -psi_sd + (L_m + L_ls)*i_sd + L_m*i_rd\n",
    "g_2 = -psi_sq + (L_m + L_ls)*i_sq + L_m*i_rq\n",
    "g_3 = -psi_rd + (L_m + L_lr)*i_rd + L_m*i_sd\n",
    "g_4 = -psi_rq + (L_m + L_lr)*i_rq + L_m*i_sq\n",
    "        \n",
    "Q_c = B_c*v_h**2\n",
    "\n",
    "g_5 = P_h - (v_h*v_0*sin(theta_h - theta_0))/X_l\n",
    "g_6 = Q_h + (v_h*v_0*cos(theta_h - theta_0))/X_l - v_h**2/X_l\n",
    "g_7 = -P_h + (v_sd*i_sd + v_sq*i_sq)\n",
    "g_8 = -Q_h + (v_sd*i_sq - v_sq*i_sd) + Q_c\n",
    "\n",
    "h_1 = I_b*(i_sd*i_sd + i_sq*i_sq)**0.5\n",
    "h_p = v_sd\n",
    "h_q = v_sq\n",
    "h_qc = Q_c\n",
    "\n",
    "sys = {'name':'imib_fisix_3ord',\n",
    "       'params':params,\n",
    "       'f':[domega_e,dpsi_rd,dpsi_rq],\n",
    "       'g':    [g_psi_sd,g_psi_sq,g_1,g_2,g_3,g_4,g_5,g_6,g_7,g_8],\n",
    "       'g_ini':[g_psi_sd,g_psi_sq,g_1,g_2,g_3,g_4,g_5,g_6,g_7,g_8],\n",
    "       'x':x_list,\n",
    "       'y_ini':y_ini_list,\n",
    "       'y':y_run_list,\n",
    "       'u_run_dict':u_run_dict,\n",
    "       'u_ini_dict':u_ini_dict,\n",
    "       'h':[h_1,h_p,h_q,h_qc]}\n",
    "\n",
    "sys = db.system(sys)\n",
    "db.sys2num(sys)"
   ]
  },
  {
   "cell_type": "code",
   "execution_count": null,
   "metadata": {},
   "outputs": [],
   "source": [
    "sys['f']"
   ]
  },
  {
   "cell_type": "code",
   "execution_count": null,
   "metadata": {},
   "outputs": [],
   "source": []
  },
  {
   "cell_type": "code",
   "execution_count": null,
   "metadata": {},
   "outputs": [],
   "source": []
  },
  {
   "cell_type": "code",
   "execution_count": null,
   "metadata": {},
   "outputs": [],
   "source": []
  }
 ],
 "metadata": {
  "kernelspec": {
   "display_name": "Python 3",
   "language": "python",
   "name": "python3"
  },
  "language_info": {
   "codemirror_mode": {
    "name": "ipython",
    "version": 3
   },
   "file_extension": ".py",
   "mimetype": "text/x-python",
   "name": "python",
   "nbconvert_exporter": "python",
   "pygments_lexer": "ipython3",
   "version": "3.7.7"
  }
 },
 "nbformat": 4,
 "nbformat_minor": 4
}
