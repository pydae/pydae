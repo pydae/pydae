{
 "cells": [
  {
   "cell_type": "code",
   "execution_count": 3,
   "metadata": {},
   "outputs": [],
   "source": [
    "import numpy as np\n",
    "import sympy as sym\n",
    "import numba\n",
    "import pydae.build as db\n",
    "\n",
    "\n",
    "\n",
    "\n"
   ]
  },
  {
   "cell_type": "code",
   "execution_count": 4,
   "metadata": {},
   "outputs": [
    {
     "data": {
      "text/plain": [
       "0.15307854209445587"
      ]
     },
     "execution_count": 4,
     "metadata": {},
     "output_type": "execute_result"
    }
   ],
   "source": [
    "S_b = 90e3\n",
    "U_b = 400.0\n",
    "Z_b = U_b**2/S_b\n",
    "I_b = S_b/(np.sqrt(3)*U_b)\n",
    "Omega_b = 2*np.pi*50\n",
    "R_s = 0.023/Z_b\n",
    "R_r = 0.024/Z_b\n",
    "X_s = 0.086/Z_b\n",
    "X_r = 0.196/Z_b\n",
    "X_m = 3.7/Z_b\n",
    "\n",
    "X_0 = X_s + X_m\n",
    "X1  = X_s + X_r*X_m/(X_r + X_m)\n",
    "T10 = (X_r + X_m)/(Omega_b*R_r)\n",
    "X1"
   ]
  },
  {
   "cell_type": "code",
   "execution_count": 11,
   "metadata": {},
   "outputs": [
    {
     "data": {
      "text/plain": [
       "0.15307854209445587"
      ]
     },
     "execution_count": 11,
     "metadata": {},
     "output_type": "execute_result"
    }
   ],
   "source": [
    "S_b = 90e3\n",
    "\n",
    "U_b = 400.0\n",
    "Z_b = U_b**2/S_b\n",
    "I_b = S_b/(np.sqrt(3)*U_b)\n",
    "Omega_b = 2*np.pi*50\n",
    "R_s = 0.023/Z_b\n",
    "R_r = 0.024/Z_b\n",
    "X_s = 0.086/Z_b\n",
    "X_r = 0.196/Z_b\n",
    "X_m = 3.7/Z_b\n",
    "\n",
    "X_0 = X_s + X_m\n",
    "X1  = X_s + X_r*X_m/(X_r + X_m)\n",
    "#X1  = X_s+X_m - X_m**2/(X_r+X_m)\n",
    "X1"
   ]
  },
  {
   "cell_type": "code",
   "execution_count": 6,
   "metadata": {},
   "outputs": [],
   "source": [
    "S_b = 90e3\n",
    "U_b = 400.0\n",
    "Z_b = U_b**2/S_b\n",
    "I_b = S_b/(np.sqrt(3)*U_b)\n",
    "Omega_b = 2*np.pi*50\n",
    "R_s = 0.023/Z_b\n",
    "R_r = 0.024/Z_b\n",
    "X_s = 0.086/Z_b\n",
    "X_r = 0.196/Z_b\n",
    "X_m = 3.7/Z_b\n",
    "\n",
    "X_0 = X_s + X_m\n",
    "X1  = X_s + X_r*X_m/(X_r + X_m)\n",
    "X1  = X_s - X_m**2/X_r\n",
    "\n",
    "T10 = (X_r + X_m)/(Omega_b*R_r)\n",
    "\n",
    "params = {'S_b':S_b,'U_b':U_b,'I_b':I_b,\n",
    "          'R_s':R_s,'X_0':X_0,'X1':X1,'T10':T10,   # synnchronous machine d-axis parameters\n",
    "          'H_m':3.5,'Omega_b':2*np.pi*50,\n",
    "          'v_0':1,'theta_0':0.0,\n",
    "          'X_l':0.05}\n",
    "\n",
    "\n",
    "\n",
    "u_ini_dict = {'P_h':0.1, 'Q_h':0.0}  # for the initialization problem\n",
    "u_run_dict = {'tau_m':0.8,'Q_c':0.0}  # for the running problem (here initialization and running problem are the same)\n",
    "\n",
    "\n",
    "x_list = ['omega_r','e1d','e1q']    # [inductor current, PI integrator]\n",
    "y_ini_list = ['i_d','i_q','v_h','theta_h','tau_m','Q_c'] # for the initialization problem\n",
    "y_run_list = ['i_d','i_q','v_h','theta_h','P_h','Q_h'] # for the running problem (here initialization and running problem are the same)\n",
    "\n",
    "sys_vars = {'params':params,\n",
    "            'u_list':u_run_dict,\n",
    "            'x_list':x_list,\n",
    "            'y_list':y_run_list}\n",
    "\n",
    "exec(db.sym_gen_str())  # exec to generate the required symbolic varables and constants"
   ]
  },
  {
   "cell_type": "code",
   "execution_count": 14,
   "metadata": {},
   "outputs": [],
   "source": [
    "v_d =  -v_h*sin(theta_h) \n",
    "v_q =  v_h*cos(theta_h) \n",
    "\n",
    "tau_e = e1d*i_d + e1q*i_q\n",
    "\n",
    "sigma = 1-omega_r\n",
    "\n",
    "domega_r = 1/(2*H_m)*(tau_m - tau_e)\n",
    "de1d = Omega_b*sigma*e1q - (e1d + (X_0 - X1)*i_q)/T10\n",
    "de1q =-Omega_b*sigma*e1d - (e1q - (X_0 - X1)*i_d)/T10\n",
    "\n",
    "g_1 = R_s*i_d - X1*i_q - v_d + e1d\n",
    "g_2 = R_s*i_q + X1*i_d - v_q + e1q\n",
    "g_3 = -P_h - (v_h*v_0*sin(theta_h - theta_0))/X_l\n",
    "g_4 = -Q_c - Q_h + (v_h*v_0*cos(theta_h - theta_0))/X_l - v_h**2/X_l\n",
    "g_5 = -P_h - (v_d*i_d + v_q*i_q)\n",
    "g_6 = -Q_h - (v_q*i_d - v_d*i_q)\n",
    "\n",
    "h_1 = I_b*(i_d*i_d + i_q*i_q)**0.5\n",
    "\n",
    "sys = {'name':'imib_milano_3rd',\n",
    "       'params':params,\n",
    "       'f':[domega_r,de1d,de1q],\n",
    "       'g':[g_1,g_2,g_3,g_4,g_5,g_6],\n",
    "       'g_ini':[g_1,g_2,g_3,g_4,g_5,g_6],\n",
    "       'x':x_list,\n",
    "       'y_ini':y_ini_list,\n",
    "       'y':y_run_list,\n",
    "       'u_run_dict':u_run_dict,\n",
    "       'u_ini_dict':u_ini_dict,\n",
    "       'h':[h_1]}\n",
    "\n",
    "sys = db.system(sys)\n",
    "db.sys2num(sys)"
   ]
  },
  {
   "cell_type": "code",
   "execution_count": 15,
   "metadata": {},
   "outputs": [
    {
     "data": {
      "text/latex": [
       "$\\displaystyle \\left[\\begin{matrix}\\frac{- e1d i_{d} - e1q i_{q} + \\tau_{m}}{2 H_{m}}\\\\e1q \\left(314.159265358979 - 314.159265358979 \\omega_{r}\\right) - \\frac{e1d + 1.97654645790554 i_{q}}{T_{10}}\\\\e1d \\left(314.159265358979 \\omega_{r} - 314.159265358979\\right) - \\frac{e1q - 1.97654645790554 i_{d}}{T_{10}}\\end{matrix}\\right]$"
      ],
      "text/plain": [
       "Matrix([\n",
       "[                                                (-e1d*i_d - e1q*i_q + tau_m)/(2*H_m)],\n",
       "[e1q*(314.159265358979 - 314.159265358979*omega_r) - (e1d + 1.97654645790554*i_q)/T10],\n",
       "[e1d*(314.159265358979*omega_r - 314.159265358979) - (e1q - 1.97654645790554*i_d)/T10]])"
      ]
     },
     "execution_count": 15,
     "metadata": {},
     "output_type": "execute_result"
    }
   ],
   "source": [
    "sys['f']"
   ]
  },
  {
   "cell_type": "code",
   "execution_count": null,
   "metadata": {},
   "outputs": [],
   "source": []
  }
 ],
 "metadata": {
  "kernelspec": {
   "display_name": "Python 3",
   "language": "python",
   "name": "python3"
  },
  "language_info": {
   "codemirror_mode": {
    "name": "ipython",
    "version": 3
   },
   "file_extension": ".py",
   "mimetype": "text/x-python",
   "name": "python",
   "nbconvert_exporter": "python",
   "pygments_lexer": "ipython3",
   "version": "3.7.5"
  }
 },
 "nbformat": 4,
 "nbformat_minor": 4
}
