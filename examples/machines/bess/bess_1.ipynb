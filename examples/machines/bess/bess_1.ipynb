{
 "cells": [
  {
   "cell_type": "code",
   "execution_count": 1,
   "metadata": {},
   "outputs": [],
   "source": [
    "import numpy as np\n",
    "import matplotlib.pyplot as plt\n",
    "from IPython.core.display import HTML\n",
    "import pydae.svg_tools as svgt\n",
    "from pydae import ssa\n",
    "#%config InlineBackend.figure_format = 'svg'\n",
    "import pandas as pd"
   ]
  },
  {
   "cell_type": "code",
   "execution_count": 2,
   "metadata": {},
   "outputs": [],
   "source": [
    "%matplotlib widget"
   ]
  },
  {
   "cell_type": "code",
   "execution_count": 3,
   "metadata": {},
   "outputs": [],
   "source": [
    "from bess_1 import bess_1_class"
   ]
  },
  {
   "cell_type": "code",
   "execution_count": 4,
   "metadata": {},
   "outputs": [],
   "source": [
    "df_v = pd.read_excel(r'C:\\Users\\jmmau\\ownCloud\\EASY-RES PROJECT\\WP2\\T2.2\\FENECON\\Tests\\Diagramms_Discharging Test\\1DischargingTest_BatteryVoltage.xlsx',nrows=2438)\n",
    "df_p = pd.read_excel(r'C:\\Users\\jmmau\\ownCloud\\EASY-RES PROJECT\\WP2\\T2.2\\FENECON\\Tests\\Diagramms_Discharging Test\\p_u.xlsx',usecols='A:C',nrows=2438)\n",
    "df_v['time'] = np.linspace(0,203*60,len(df_v['Time']))\n",
    "df_p['time'] = np.linspace(0,203*60,len(df_p['Time']))\n",
    "df_v_2 = df_v.dropna()\n",
    "df_p_2 = df_p.dropna() "
   ]
  },
  {
   "cell_type": "code",
   "execution_count": 5,
   "metadata": {},
   "outputs": [
    {
     "data": {
      "text/plain": [
       "205714.2857142857"
      ]
     },
     "execution_count": 5,
     "metadata": {},
     "output_type": "execute_result"
    }
   ],
   "source": [
    "E_bess = 3000.0\n",
    "V_u_max = 53.0\n",
    "V_u_min = 52\n",
    "\n",
    "E_Joules = E_bess*3600\n",
    "C_u = 2*E_Joules/((V_u_max**2 - V_u_min**2))\n",
    "\n",
    "# E_max = 0.5*C_ucap*(V_ucap_max*V_ucap_max - V_ucap_min*V_ucap_min)\n",
    "# soc = 0.5*C_ucap*(e_u*e_u - V_ucap_min*V_ucap_min)/E_max\n",
    "#V_ucap_0 = (2*soc_0*E_Joules/(0.5*C_ucap) + V_u_min**2)**0.5\n",
    "C_u"
   ]
  },
  {
   "cell_type": "code",
   "execution_count": 6,
   "metadata": {},
   "outputs": [
    {
     "name": "stdout",
     "output_type": "stream",
     "text": [
      "p_u_ref =  0.00\n"
     ]
    }
   ],
   "source": [
    "b1 = bess_1_class()\n",
    "b1.simulate([{'Dt':1e-1, 'K_p':0.001,'K_i':0.001,'R_stor':0.02,'p_u_ref':0,\n",
    "              'soc_ref':1.0,'V_u_min':V_u_min,'V_u_max':V_u_max,'C_u':C_u},\n",
    "            ],0);\n",
    "b1.report_u()"
   ]
  },
  {
   "cell_type": "code",
   "execution_count": 7,
   "metadata": {},
   "outputs": [],
   "source": [
    "b1 = bess_1_class()\n",
    "b1.initialize([{'Dt':1e-1, 'K_p':0.001,'K_i':0.001,'R_stor':0.022,'p_u_ref':0,\n",
    "              'soc_ref':1.0,'V_u_min':V_u_min,'V_u_max':V_u_max,'C_u':C_u},\n",
    "            ],0);\n",
    "\n",
    "t_prev = 0\n",
    "for t in df_p_2['time'].values:\n",
    "    p_u_ref = np.interp(t,df_p_2['time'].values,df_p_2['Value'].values)\n",
    "    if t>t_prev:\n",
    "        b1.run([{'t_end':t,'p_u_ref':p_u_ref}])\n",
    "        t_prev = t\n",
    "b1.post();"
   ]
  },
  {
   "cell_type": "code",
   "execution_count": 8,
   "metadata": {},
   "outputs": [
    {
     "data": {
      "application/vnd.jupyter.widget-view+json": {
       "model_id": "30c50ee9f6754093a001147c35687a17",
       "version_major": 2,
       "version_minor": 0
      },
      "text/plain": [
       "Canvas(toolbar=Toolbar(toolitems=[('Home', 'Reset original view', 'home', 'home'), ('Back', 'Back to previous …"
      ]
     },
     "metadata": {},
     "output_type": "display_data"
    }
   ],
   "source": [
    "fig, axes = plt.subplots(nrows=3,ncols=1, figsize=(6, 6), dpi=80)\n",
    "\n",
    "axes[0].plot(b1.T/60, b1.get_values('p_u_soc'), label=f'p_u_soc')\n",
    "axes[0].plot(b1.T/60, b1.get_values('p_u'), label=f'p_u')\n",
    "axes[1].plot(b1.T/60, b1.get_values('soc'), label=f'soc')\n",
    "axes[2].plot(b1.T/60, b1.get_values('v_u'), label=f'v_u (model)')\n",
    "axes[2].plot(df_v_2['time'].values/60,df_v_2['Real Value in Volt'].values,  label=f'v_u (FENECON)')\n",
    "#axes.set_ylabel('$\\\\theta (º)$')\n",
    "#axes[2].set_xlabel('Time (s)')\n",
    "for ax in axes:\n",
    "    ax.legend(ncol=2)\n",
    "    ax.set_xlim((0,165))\n",
    "axes[2].set_ylim((51.25,54.5))\n",
    "axes[2].set_xlabel('Time (minutes)')\n",
    "\n",
    "fig.tight_layout()"
   ]
  },
  {
   "cell_type": "code",
   "execution_count": null,
   "metadata": {},
   "outputs": [],
   "source": []
  },
  {
   "cell_type": "code",
   "execution_count": null,
   "metadata": {},
   "outputs": [],
   "source": []
  },
  {
   "cell_type": "code",
   "execution_count": null,
   "metadata": {},
   "outputs": [],
   "source": []
  },
  {
   "cell_type": "code",
   "execution_count": null,
   "metadata": {},
   "outputs": [],
   "source": []
  }
 ],
 "metadata": {
  "kernelspec": {
   "display_name": "Python 3",
   "language": "python",
   "name": "python3"
  },
  "language_info": {
   "codemirror_mode": {
    "name": "ipython",
    "version": 3
   },
   "file_extension": ".py",
   "mimetype": "text/x-python",
   "name": "python",
   "nbconvert_exporter": "python",
   "pygments_lexer": "ipython3",
   "version": "3.8.10"
  }
 },
 "nbformat": 4,
 "nbformat_minor": 4
}
