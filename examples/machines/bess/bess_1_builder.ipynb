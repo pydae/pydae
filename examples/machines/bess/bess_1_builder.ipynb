{
 "cells": [
  {
   "cell_type": "code",
   "execution_count": 1,
   "metadata": {},
   "outputs": [],
   "source": [
    "import numpy as np\n",
    "import sympy as sym\n",
    "import pydae.build as db"
   ]
  },
  {
   "cell_type": "code",
   "execution_count": 19,
   "metadata": {},
   "outputs": [],
   "source": [
    "params_dict = {'R_stor':0.05,'C_u':100.0, 'soc_ref':0.5,'K_p':1.0,'K_i':1.0,\n",
    "              'V_u_max':305, 'V_u_min':295}  # parameters with default values\n",
    "\n",
    "\n",
    "u_ini_dict = {'p_u_ref':1.0}  # input for the initialization problem\n",
    "u_run_dict = {'p_u_ref':1.0}  # input for the running problem, its value is updated \n",
    "\n",
    "\n",
    "x_list = ['e_u','xi_esoc']  # dynamic states\n",
    "y_ini_list = ['p_u_soc','p_u','i_u','v_u','soc']          # algebraic states for the initialization problem\n",
    "y_run_list = ['p_u_soc','p_u','i_u','v_u','soc']        # algebraic for the running problem\n",
    "\n",
    "sys_vars = {'params':params_dict,\n",
    "            'u_list':u_run_dict,\n",
    "            'x_list':x_list,\n",
    "            'y_list':y_run_list}\n",
    "\n",
    "exec(db.sym_gen_str())  # exec to generate the required symbolic varables and constants"
   ]
  },
  {
   "cell_type": "code",
   "execution_count": 21,
   "metadata": {},
   "outputs": [],
   "source": [
    "de_u = 1.0/C_u*(-i_u)\n",
    "dxi_esoc = soc_ref - soc\n",
    "\n",
    "g_p_u_soc = -p_u_soc +  K_p*(soc_ref - soc) + K_i*xi_esoc\n",
    "g_p_u = -p_u + p_u_ref + p_u_soc\n",
    "g_i_u = i_u*v_u - p_u\n",
    "g_v_u = e_u - i_u*R_stor - v_u\n",
    "#!soc = (e_u - V_u_min)/(V_u_max - V_u_min)\n",
    "E_max = 0.5*C_u*(V_u_max*V_u_max - V_u_min*V_u_min)\n",
    "eq_soc = -soc + 0.5*C_u*(e_u*e_u - V_u_min*V_u_min)/E_max"
   ]
  },
  {
   "cell_type": "code",
   "execution_count": 22,
   "metadata": {},
   "outputs": [
    {
     "name": "stdout",
     "output_type": "stream",
     "text": [
      "jacobians respect u = 0\n"
     ]
    }
   ],
   "source": [
    "sys = {'name':'bess_1',\n",
    "       'params_dict':params_dict,\n",
    "       'f_list':[de_u,dxi_esoc],\n",
    "       'g_list':[g_p_u_soc,g_p_u,g_i_u,g_v_u,eq_soc],\n",
    "       'x_list':[ e_u, xi_esoc],\n",
    "       'y_ini_list':y_ini_list,\n",
    "       'y_run_list':y_run_list,\n",
    "       'u_run_dict':u_run_dict,\n",
    "       'u_ini_dict':u_ini_dict,\n",
    "       'h_dict':{'p_u_ref':p_u_ref}}\n",
    "\n",
    "sys = db.system(sys)\n",
    "db.sys2num(sys)"
   ]
  },
  {
   "cell_type": "code",
   "execution_count": null,
   "metadata": {},
   "outputs": [],
   "source": []
  }
 ],
 "metadata": {
  "kernelspec": {
   "display_name": "Python 3",
   "language": "python",
   "name": "python3"
  },
  "language_info": {
   "codemirror_mode": {
    "name": "ipython",
    "version": 3
   },
   "file_extension": ".py",
   "mimetype": "text/x-python",
   "name": "python",
   "nbconvert_exporter": "python",
   "pygments_lexer": "ipython3",
   "version": "3.8.5"
  }
 },
 "nbformat": 4,
 "nbformat_minor": 4
}
