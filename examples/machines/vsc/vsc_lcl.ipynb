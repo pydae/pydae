{
 "cells": [
  {
   "cell_type": "code",
   "execution_count": 1,
   "metadata": {},
   "outputs": [],
   "source": [
    "%matplotlib widget"
   ]
  },
  {
   "cell_type": "code",
   "execution_count": 2,
   "metadata": {},
   "outputs": [],
   "source": [
    "import numpy as np\n",
    "import matplotlib.pyplot as plt\n",
    "import pydae.ssa as ssa"
   ]
  },
  {
   "cell_type": "code",
   "execution_count": 3,
   "metadata": {},
   "outputs": [],
   "source": [
    "from vsc_lcl import vsc_lcl_class "
   ]
  },
  {
   "cell_type": "code",
   "execution_count": null,
   "metadata": {},
   "outputs": [],
   "source": []
  },
  {
   "cell_type": "markdown",
   "metadata": {},
   "source": [
    "## Instantiate system"
   ]
  },
  {
   "cell_type": "code",
   "execution_count": 4,
   "metadata": {},
   "outputs": [],
   "source": [
    "syst = vsc_lcl_class()\n",
    "syst.Dt = 5e-6\n",
    "syst.decimation = 1\n",
    "syst.N_store = 100_000\n",
    "syst.update()"
   ]
  },
  {
   "cell_type": "markdown",
   "metadata": {},
   "source": [
    "## Solve steady state"
   ]
  },
  {
   "cell_type": "code",
   "execution_count": 5,
   "metadata": {},
   "outputs": [],
   "source": [
    "syst.initialize([{'eta_q_g01':0.8693333333333333,'G_d_g01':0.01}],xy0=100)\n",
    "ssa.eval_ss(syst);"
   ]
  },
  {
   "cell_type": "code",
   "execution_count": 6,
   "metadata": {},
   "outputs": [
    {
     "name": "stdout",
     "output_type": "stream",
     "text": [
      "i_tD_g01 = -0.20\n",
      "i_tQ_g01 =  1.63\n",
      "v_mD_g01 =  0.65\n",
      "v_mQ_g01 = 326.02\n",
      "i_sD_g01 =  0.20\n",
      "i_sQ_g01 = -1.63\n",
      "i_1_D =  0.20\n",
      "i_1_Q = -1.63\n",
      "v_sD_g01 =  0.00\n",
      "v_sQ_g01 = 326.00\n",
      "v_md_g01 =  0.65\n",
      "v_mq_g01 = 326.02\n",
      "v_sd_g01 =  0.00\n",
      "v_sq_g01 = 326.00\n",
      "i_td_g01 = -0.20\n",
      "i_tq_g01 =  1.63\n",
      "i_sd_g01 =  0.20\n",
      "i_sq_g01 = -1.63\n",
      "eta_D_g01 =  0.00\n",
      "eta_Q_g01 =  0.87\n",
      "v_dc_g01 = 750.00\n",
      "v_1_D =  0.00\n",
      "v_1_Q = 326.00\n",
      "phi_g01 =  0.00\n",
      "eta_d_g01 =  0.00\n",
      "eta_q_g01 =  0.87\n",
      "v_t_D =  0.00\n",
      "v_t_Q = 326.00\n",
      "damp_D =  0.01\n",
      "damp_Q =  3.26\n",
      "i_sd_g01 =  0.20\n",
      "i_sq_g01 = -1.63\n",
      "v_md_g01 =  0.65\n",
      "v_mq_g01 = 326.02\n",
      "i_td_g01 = -0.20\n",
      "i_tq_g01 =  1.63\n"
     ]
    }
   ],
   "source": [
    "syst.report_x()\n",
    "syst.report_y()\n",
    "syst.report_u()\n",
    "syst.report_z()"
   ]
  },
  {
   "cell_type": "code",
   "execution_count": 7,
   "metadata": {},
   "outputs": [
    {
     "data": {
      "text/html": [
       "<div>\n",
       "<style scoped>\n",
       "    .dataframe tbody tr th:only-of-type {\n",
       "        vertical-align: middle;\n",
       "    }\n",
       "\n",
       "    .dataframe tbody tr th {\n",
       "        vertical-align: top;\n",
       "    }\n",
       "\n",
       "    .dataframe thead th {\n",
       "        text-align: right;\n",
       "    }\n",
       "</style>\n",
       "<table border=\"1\" class=\"dataframe\">\n",
       "  <thead>\n",
       "    <tr style=\"text-align: right;\">\n",
       "      <th></th>\n",
       "      <th>Real</th>\n",
       "      <th>Imag</th>\n",
       "      <th>Freq.</th>\n",
       "      <th>Damp</th>\n",
       "    </tr>\n",
       "  </thead>\n",
       "  <tbody>\n",
       "    <tr>\n",
       "      <th>Mode 1</th>\n",
       "      <td>-1265.707963</td>\n",
       "      <td>20276.036010</td>\n",
       "      <td>3227.031357</td>\n",
       "      <td>0.062303</td>\n",
       "    </tr>\n",
       "    <tr>\n",
       "      <th>Mode 2</th>\n",
       "      <td>-1265.707963</td>\n",
       "      <td>-20276.036010</td>\n",
       "      <td>3227.031357</td>\n",
       "      <td>0.062303</td>\n",
       "    </tr>\n",
       "    <tr>\n",
       "      <th>Mode 3</th>\n",
       "      <td>-1265.707963</td>\n",
       "      <td>19647.717479</td>\n",
       "      <td>3127.031357</td>\n",
       "      <td>0.064287</td>\n",
       "    </tr>\n",
       "    <tr>\n",
       "      <th>Mode 4</th>\n",
       "      <td>-1265.707963</td>\n",
       "      <td>-19647.717479</td>\n",
       "      <td>3127.031357</td>\n",
       "      <td>0.064287</td>\n",
       "    </tr>\n",
       "    <tr>\n",
       "      <th>Mode 5</th>\n",
       "      <td>-31.415927</td>\n",
       "      <td>314.159265</td>\n",
       "      <td>50.000000</td>\n",
       "      <td>0.099504</td>\n",
       "    </tr>\n",
       "    <tr>\n",
       "      <th>Mode 6</th>\n",
       "      <td>-31.415927</td>\n",
       "      <td>-314.159265</td>\n",
       "      <td>50.000000</td>\n",
       "      <td>0.099504</td>\n",
       "    </tr>\n",
       "  </tbody>\n",
       "</table>\n",
       "</div>"
      ],
      "text/plain": [
       "               Real          Imag        Freq.      Damp\n",
       "Mode 1 -1265.707963  20276.036010  3227.031357  0.062303\n",
       "Mode 2 -1265.707963 -20276.036010  3227.031357  0.062303\n",
       "Mode 3 -1265.707963  19647.717479  3127.031357  0.064287\n",
       "Mode 4 -1265.707963 -19647.717479  3127.031357  0.064287\n",
       "Mode 5   -31.415927    314.159265    50.000000  0.099504\n",
       "Mode 6   -31.415927   -314.159265    50.000000  0.099504"
      ]
     },
     "execution_count": 7,
     "metadata": {},
     "output_type": "execute_result"
    }
   ],
   "source": [
    "ssa.damp_report(syst)"
   ]
  },
  {
   "cell_type": "code",
   "execution_count": 8,
   "metadata": {},
   "outputs": [
    {
     "data": {
      "text/html": [
       "<div>\n",
       "<style scoped>\n",
       "    .dataframe tbody tr th:only-of-type {\n",
       "        vertical-align: middle;\n",
       "    }\n",
       "\n",
       "    .dataframe tbody tr th {\n",
       "        vertical-align: top;\n",
       "    }\n",
       "\n",
       "    .dataframe thead th {\n",
       "        text-align: right;\n",
       "    }\n",
       "</style>\n",
       "<table border=\"1\" class=\"dataframe\">\n",
       "  <thead>\n",
       "    <tr style=\"text-align: right;\">\n",
       "      <th></th>\n",
       "      <th>Mode 1</th>\n",
       "      <th>Mode 2</th>\n",
       "      <th>Mode 3</th>\n",
       "      <th>Mode 4</th>\n",
       "      <th>Mode 5</th>\n",
       "      <th>Mode 6</th>\n",
       "    </tr>\n",
       "  </thead>\n",
       "  <tbody>\n",
       "    <tr>\n",
       "      <th>i_tD_g01</th>\n",
       "      <td>0.13</td>\n",
       "      <td>0.13</td>\n",
       "      <td>0.13</td>\n",
       "      <td>0.13</td>\n",
       "      <td>0.25</td>\n",
       "      <td>0.25</td>\n",
       "    </tr>\n",
       "    <tr>\n",
       "      <th>i_tQ_g01</th>\n",
       "      <td>0.13</td>\n",
       "      <td>0.13</td>\n",
       "      <td>0.13</td>\n",
       "      <td>0.13</td>\n",
       "      <td>0.25</td>\n",
       "      <td>0.25</td>\n",
       "    </tr>\n",
       "    <tr>\n",
       "      <th>v_mD_g01</th>\n",
       "      <td>0.25</td>\n",
       "      <td>0.25</td>\n",
       "      <td>0.25</td>\n",
       "      <td>0.25</td>\n",
       "      <td>0.00</td>\n",
       "      <td>0.00</td>\n",
       "    </tr>\n",
       "    <tr>\n",
       "      <th>v_mQ_g01</th>\n",
       "      <td>0.25</td>\n",
       "      <td>0.25</td>\n",
       "      <td>0.25</td>\n",
       "      <td>0.25</td>\n",
       "      <td>0.00</td>\n",
       "      <td>0.00</td>\n",
       "    </tr>\n",
       "    <tr>\n",
       "      <th>i_sD_g01</th>\n",
       "      <td>0.13</td>\n",
       "      <td>0.13</td>\n",
       "      <td>0.13</td>\n",
       "      <td>0.13</td>\n",
       "      <td>0.25</td>\n",
       "      <td>0.25</td>\n",
       "    </tr>\n",
       "    <tr>\n",
       "      <th>i_sQ_g01</th>\n",
       "      <td>0.13</td>\n",
       "      <td>0.13</td>\n",
       "      <td>0.13</td>\n",
       "      <td>0.13</td>\n",
       "      <td>0.25</td>\n",
       "      <td>0.25</td>\n",
       "    </tr>\n",
       "  </tbody>\n",
       "</table>\n",
       "</div>"
      ],
      "text/plain": [
       "          Mode 1  Mode 2  Mode 3  Mode 4  Mode 5  Mode 6\n",
       "i_tD_g01    0.13    0.13    0.13    0.13    0.25    0.25\n",
       "i_tQ_g01    0.13    0.13    0.13    0.13    0.25    0.25\n",
       "v_mD_g01    0.25    0.25    0.25    0.25    0.00    0.00\n",
       "v_mQ_g01    0.25    0.25    0.25    0.25    0.00    0.00\n",
       "i_sD_g01    0.13    0.13    0.13    0.13    0.25    0.25\n",
       "i_sQ_g01    0.13    0.13    0.13    0.13    0.25    0.25"
      ]
     },
     "execution_count": 8,
     "metadata": {},
     "output_type": "execute_result"
    }
   ],
   "source": [
    "ssa.participation(syst).abs().round(2)"
   ]
  },
  {
   "cell_type": "markdown",
   "metadata": {},
   "source": [
    "### Open loop"
   ]
  },
  {
   "cell_type": "code",
   "execution_count": 9,
   "metadata": {},
   "outputs": [],
   "source": [
    "Δt = 50.0e-6 \n",
    "times = np.arange(0.0,0.2,Δt)"
   ]
  },
  {
   "cell_type": "code",
   "execution_count": 10,
   "metadata": {},
   "outputs": [],
   "source": [
    "syst.initialize([{'eta_q_g01':0.8693333333333333,'G_d_g01':0.0}],xy0=100)\n",
    "eta_q_g01_0 = syst.get_value('eta_q_g01')\n",
    "it = 0\n",
    "for t in times:\n",
    "    \n",
    "    eta_q_g01 = eta_q_g01_0\n",
    "    if t>5e-3: \n",
    "        eta_q_g01 = eta_q_g01_0*1.05\n",
    "   # if t>10e-3: \n",
    "   #     eta_q_g01 = eta_q_g01_0\n",
    "        \n",
    "    events=[{'t_end':t,'eta_q_g01':eta_q_g01}]\n",
    "    syst.run(events)\n",
    "\n",
    "    it += 1\n",
    "    \n",
    "syst.post();"
   ]
  },
  {
   "cell_type": "code",
   "execution_count": 11,
   "metadata": {},
   "outputs": [
    {
     "data": {
      "application/vnd.jupyter.widget-view+json": {
       "model_id": "",
       "version_major": 2,
       "version_minor": 0
      },
      "text/plain": [
       "Canvas(toolbar=Toolbar(toolitems=[('Home', 'Reset original view', 'home', 'home'), ('Back', 'Back to previous …"
      ]
     },
     "metadata": {},
     "output_type": "display_data"
    },
    {
     "name": "stderr",
     "output_type": "stream",
     "text": [
      "No handles with labels found to put in legend.\n"
     ]
    },
    {
     "data": {
      "text/plain": [
       "Text(0.5, 0, 'Time (s)')"
      ]
     },
     "execution_count": 11,
     "metadata": {},
     "output_type": "execute_result"
    }
   ],
   "source": [
    "fig, axes = plt.subplots(nrows=2, ncols=1, figsize=(7, 7))\n",
    "\n",
    "axes[0].plot(syst.T,syst.get_values('i_sd_g01'),label='i_sd_g01')\n",
    "axes[0].plot(syst.T,syst.get_values('i_sq_g01'),label='i_sq_g01')\n",
    "\n",
    "\n",
    "for ax in axes:\n",
    "    ax.grid()\n",
    "    ax.legend()\n",
    "ax.set_xlabel('Time (s)')"
   ]
  },
  {
   "cell_type": "code",
   "execution_count": 12,
   "metadata": {},
   "outputs": [
    {
     "data": {
      "text/plain": [
       "100000"
      ]
     },
     "execution_count": 12,
     "metadata": {},
     "output_type": "execute_result"
    }
   ],
   "source": [
    "syst.N_store"
   ]
  },
  {
   "cell_type": "markdown",
   "metadata": {},
   "source": [
    "### CTRL1"
   ]
  },
  {
   "cell_type": "code",
   "execution_count": 13,
   "metadata": {},
   "outputs": [],
   "source": [
    "syst = vsc_lcl_class()\n",
    "syst.Dt = 5e-6\n",
    "syst.decimation =1\n",
    "syst.N_store =100_000\n",
    "syst.update()\n",
    "\n",
    "Δt = 50.0e-6 \n",
    "times = np.arange(0.0,0.2,Δt)\n",
    "\n",
    "syst.initialize([{'G_d_g01':0.005}],xy0=1000)\n",
    "eta_q_g01_0 = syst.get_value('eta_q_g01')\n",
    "it = 0\n",
    "\n",
    "i_sd,i_sq,v_sd,v_sq = syst.get_mvalue(['i_sd_g01','i_sq_g01','v_sd_g01','v_sq_g01'])\n",
    "v_dc = syst.get_value('v_dc_g01')\n",
    "eta_d = syst.get_value('eta_d_g01')  \n",
    "eta_q = syst.get_value('eta_q_g01')  \n",
    "\n",
    "# control design\n",
    "R_t_g01,L_t_g01  = syst.get_value('R_t_g01'),syst.get_value('L_t_g01')\n",
    "R_s_g01,L_s_g01,C_m_g01  = syst.get_value('R_s_g01'),syst.get_value('L_s_g01'),syst.get_value('C_m_g01') \n",
    "R = R_t_g01 + R_s_g01\n",
    "L = L_t_g01 + L_s_g01\n",
    "tau_ctrl_1 = 5e-3; #Time constant of CTRL 1\n",
    "K_pi = L/tau_ctrl_1; #Proportional gain of CTRL 1\n",
    "K_ii = R/tau_ctrl_1; #Integral gain of CTRL 1\n",
    "xi = np.zeros((2,1))\n",
    "\n",
    "#u_d = K_pi*epsilon_d + K_ii*xi_d\n",
    "#u_q = K_pi*epsilon_q + K_ii*xi_q   \n",
    "#u_d = eta_d*v_dc/2 - v_sd + L*i_sq*omega => eta_d = (u_d + v_sd - L*i_sq*omega)*2/v_dc\n",
    "#u_q = eta_q*v_dc/2 - v_sq - L*i_sd*omega => eta_q = (u_q + v_sq + L*i_sd*omega)*2/v_dc\n",
    "omega = 2*np.pi*50\n",
    "u_d_0 = eta_d*v_dc/2 - v_sd + L*i_sq*omega\n",
    "u_q_0 = eta_q*v_dc/2 - v_sq - L*i_sd*omega \n",
    "i_sd_ref_0 = i_sd\n",
    "i_sq_ref_0 = i_sq\n",
    "\n",
    "# simulation\n",
    "for t in times:\n",
    "    \n",
    "    # measurements\n",
    "    i_sd = syst.get_value('i_sd_g01')\n",
    "    i_sq = syst.get_value('i_sq_g01')  \n",
    "    v_sd = syst.get_value('v_sd_g01')\n",
    "    v_sq = syst.get_value('v_sq_g01')  \n",
    "    v_dc = syst.get_value('v_dc_g01')\n",
    "    \n",
    "    i_sd_ref = i_sd_ref_0\n",
    "    i_sq_ref = i_sq_ref_0\n",
    "    if t>10e-3: i_sd_ref = 20\n",
    "    if t>100e-3: i_sq_ref = 30\n",
    "        \n",
    "    xi_d = xi[0,0]\n",
    "    xi_q = xi[1,0]\n",
    "    \n",
    "    epsilon_d = i_sd_ref - i_sd\n",
    "    epsilon_q = i_sq_ref - i_sq\n",
    "    \n",
    "    u_d = K_pi*epsilon_d + K_ii*xi_d + u_d_0\n",
    "    u_q = K_pi*epsilon_q + K_ii*xi_q + u_q_0  \n",
    "\n",
    "    eta_d = (u_d + v_sd - L*i_sq*omega)*2/v_dc\n",
    "    eta_q = (u_q + v_sq + L*i_sd*omega)*2/v_dc\n",
    "    \n",
    "    xi[0,0] += Δt*epsilon_d\n",
    "    xi[1,0] += Δt*epsilon_q\n",
    "    \n",
    "    events=[{'t_end':t,'eta_d_g01':eta_d,'eta_q_g01':eta_q}]\n",
    "    syst.run(events)\n",
    "\n",
    "    it += 1\n",
    "    \n",
    "syst.post();"
   ]
  },
  {
   "cell_type": "code",
   "execution_count": 14,
   "metadata": {},
   "outputs": [
    {
     "data": {
      "application/vnd.jupyter.widget-view+json": {
       "model_id": "",
       "version_major": 2,
       "version_minor": 0
      },
      "text/plain": [
       "Canvas(toolbar=Toolbar(toolitems=[('Home', 'Reset original view', 'home', 'home'), ('Back', 'Back to previous …"
      ]
     },
     "metadata": {},
     "output_type": "display_data"
    },
    {
     "data": {
      "text/plain": [
       "Text(0.5, 0, 'Time (s)')"
      ]
     },
     "execution_count": 14,
     "metadata": {},
     "output_type": "execute_result"
    }
   ],
   "source": [
    "plt.close('all')\n",
    "fig, axes = plt.subplots(nrows=2, ncols=1, figsize=(7, 7))\n",
    "\n",
    "axes[0].plot(syst.T,syst.get_values('i_sd_g01'),label='i_sd_g01')\n",
    "axes[0].plot(syst.T,syst.get_values('i_sq_g01'),label='i_sq_g01')\n",
    "\n",
    "axes[1].plot(syst.T,syst.get_values('eta_D_g01'),label='eta_D_g01')\n",
    "axes[1].plot(syst.T,syst.get_values('eta_Q_g01'),label='eta_Q_g01')\n",
    "\n",
    "for ax in axes:\n",
    "    ax.grid()\n",
    "    ax.legend()\n",
    "ax.set_xlabel('Time (s)')"
   ]
  },
  {
   "cell_type": "code",
   "execution_count": null,
   "metadata": {},
   "outputs": [],
   "source": []
  },
  {
   "cell_type": "markdown",
   "metadata": {},
   "source": [
    "### CTRL1 + Active damping"
   ]
  },
  {
   "cell_type": "code",
   "execution_count": 15,
   "metadata": {},
   "outputs": [],
   "source": [
    "syst = vsc_lcl_class()\n",
    "syst.Dt = 5e-6\n",
    "syst.decimation =1\n",
    "syst.N_store =100_000\n",
    "syst.update()\n",
    "\n",
    "Δt = 50.0e-6 \n",
    "times = np.arange(0.0,0.2,Δt)\n",
    "\n",
    "syst.initialize([{'G_d_g01':0.0}],xy0=1000)\n",
    "eta_q_g01_0 = syst.get_value('eta_q_g01')\n",
    "it = 0\n",
    "\n",
    "i_sd,i_sq,i_td,i_tq,v_sd,v_sq = syst.get_mvalue(['i_sd_g01','i_sq_g01','i_td_g01','i_tq_g01','v_sd_g01','v_sq_g01'])\n",
    "v_dc = syst.get_value('v_dc_g01')\n",
    "eta_d = syst.get_value('eta_d_g01')  \n",
    "eta_q = syst.get_value('eta_q_g01')  \n",
    "\n",
    "# control design\n",
    "R_t_g01,L_t_g01  = syst.get_value('R_t_g01'),syst.get_value('L_t_g01')\n",
    "R_s_g01,L_s_g01,C_m_g01  = syst.get_value('R_s_g01'),syst.get_value('L_s_g01'),syst.get_value('C_m_g01') \n",
    "R = R_t_g01 + R_s_g01\n",
    "L = L_t_g01 + L_s_g01\n",
    "tau_ctrl_1 = 5e-3; #Time constant of CTRL 1\n",
    "K_pi = L/tau_ctrl_1; #Proportional gain of CTRL 1\n",
    "K_ii = R/tau_ctrl_1; #Integral gain of CTRL 1\n",
    "G_v = 1.0  #Active damping\n",
    "# en pu G_d = L/C*G_v\n",
    "\n",
    "xi = np.zeros((2,1))\n",
    "\n",
    "#u_d = K_pi*epsilon_d + K_ii*xi_d\n",
    "#u_q = K_pi*epsilon_q + K_ii*xi_q   \n",
    "#u_d = eta_d*v_dc/2 - v_sd + L*i_sq*omega => eta_d = (u_d + v_sd - L*i_sq*omega)*2/v_dc\n",
    "#u_q = eta_q*v_dc/2 - v_sq - L*i_sd*omega => eta_q = (u_q + v_sq + L*i_sd*omega)*2/v_dc\n",
    "omega = 2*np.pi*50\n",
    "u_d_0 = eta_d*v_dc/2 - v_sd + L*i_sq*omega + G_v*(i_td - i_sd)\n",
    "u_q_0 = eta_q*v_dc/2 - v_sq - L*i_sd*omega + G_v*(i_tq - i_sq)\n",
    "i_sd_ref_0 = i_sd\n",
    "i_sq_ref_0 = i_sq\n",
    "\n",
    "# simulation\n",
    "for t in times:\n",
    "    \n",
    "    # measurements\n",
    "    i_sd = syst.get_value('i_sd_g01')\n",
    "    i_sq = syst.get_value('i_sq_g01')  \n",
    "    v_sd = syst.get_value('v_sd_g01')\n",
    "    v_sq = syst.get_value('v_sq_g01')\n",
    "    i_td = syst.get_value('i_td_g01')\n",
    "    i_tq = syst.get_value('i_tq_g01') \n",
    "    v_dc = syst.get_value('v_dc_g01')\n",
    "    \n",
    "    i_sd_ref = i_sd_ref_0\n",
    "    i_sq_ref = i_sq_ref_0\n",
    "    if t>10e-3: i_sd_ref = 20\n",
    "    if t>100e-3: i_sq_ref = 30\n",
    "        \n",
    "    xi_d = xi[0,0]\n",
    "    xi_q = xi[1,0]\n",
    "    \n",
    "    epsilon_d = i_sd_ref - i_sd\n",
    "    epsilon_q = i_sq_ref - i_sq\n",
    "    \n",
    "    u_d = K_pi*epsilon_d + K_ii*xi_d + u_d_0\n",
    "    u_q = K_pi*epsilon_q + K_ii*xi_q + u_q_0  \n",
    "\n",
    "    eta_d = (u_d + v_sd - L*i_sq*omega - G_v*(i_td - i_sd))*2/v_dc\n",
    "    eta_q = (u_q + v_sq + L*i_sd*omega - G_v*(i_tq - i_sq))*2/v_dc\n",
    "    \n",
    "    xi[0,0] += Δt*epsilon_d\n",
    "    xi[1,0] += Δt*epsilon_q\n",
    "    \n",
    "    events=[{'t_end':t,'eta_d_g01':eta_d,'eta_q_g01':eta_q}]\n",
    "    syst.run(events)\n",
    "\n",
    "    it += 1\n",
    "    \n",
    "syst.post();"
   ]
  },
  {
   "cell_type": "code",
   "execution_count": 16,
   "metadata": {},
   "outputs": [
    {
     "data": {
      "application/vnd.jupyter.widget-view+json": {
       "model_id": "",
       "version_major": 2,
       "version_minor": 0
      },
      "text/plain": [
       "Canvas(toolbar=Toolbar(toolitems=[('Home', 'Reset original view', 'home', 'home'), ('Back', 'Back to previous …"
      ]
     },
     "metadata": {},
     "output_type": "display_data"
    },
    {
     "data": {
      "text/plain": [
       "Text(0.5, 0, 'Time (s)')"
      ]
     },
     "execution_count": 16,
     "metadata": {},
     "output_type": "execute_result"
    }
   ],
   "source": [
    "plt.close('all')\n",
    "fig, axes = plt.subplots(nrows=2, ncols=1, figsize=(7, 7))\n",
    "\n",
    "axes[0].plot(syst.T,syst.get_values('i_sd_g01'),label='i_sd_g01')\n",
    "axes[0].plot(syst.T,syst.get_values('i_sq_g01'),label='i_sq_g01')\n",
    "\n",
    "axes[1].plot(syst.T,syst.get_values('eta_D_g01'),label='eta_D_g01')\n",
    "axes[1].plot(syst.T,syst.get_values('eta_Q_g01'),label='eta_Q_g01')\n",
    "\n",
    "for ax in axes:\n",
    "    ax.grid()\n",
    "    ax.legend()\n",
    "ax.set_xlabel('Time (s)')"
   ]
  },
  {
   "cell_type": "code",
   "execution_count": null,
   "metadata": {},
   "outputs": [],
   "source": []
  },
  {
   "cell_type": "markdown",
   "metadata": {},
   "source": [
    "### CTRL1 + Active damping + delay"
   ]
  },
  {
   "cell_type": "code",
   "execution_count": 17,
   "metadata": {},
   "outputs": [],
   "source": [
    "syst = vsc_lcl_class()\n",
    "syst.Dt = 5e-6\n",
    "syst.decimation =1\n",
    "syst.N_store =100_000\n",
    "syst.update()\n",
    "\n",
    "Δt = 500.0e-6 \n",
    "times = np.arange(0.0,0.2,Δt)\n",
    "\n",
    "syst.initialize([{'G_d_g01':0.0, 'C_m_g01':4e-6}],xy0=1000)\n",
    "eta_q_g01_0 = syst.get_value('eta_q_g01')\n",
    "it = 0\n",
    "\n",
    "i_sd,i_sq,i_td,i_tq,v_sd,v_sq = syst.get_mvalue(['i_sd_g01','i_sq_g01','i_td_g01','i_tq_g01','v_sd_g01','v_sq_g01'])\n",
    "v_dc = syst.get_value('v_dc_g01')\n",
    "eta_d = syst.get_value('eta_d_g01')  \n",
    "eta_q = syst.get_value('eta_q_g01')  \n",
    "\n",
    "# control design\n",
    "R_t_g01,L_t_g01  = syst.get_value('R_t_g01'),syst.get_value('L_t_g01')\n",
    "R_s_g01,L_s_g01,C_m_g01  = syst.get_value('R_s_g01'),syst.get_value('L_s_g01'),syst.get_value('C_m_g01') \n",
    "R = R_t_g01 + R_s_g01\n",
    "L = L_t_g01 + L_s_g01\n",
    "tau_ctrl_1 = 5e-3; #Time constant of CTRL 1\n",
    "K_pi = L/tau_ctrl_1; #Proportional gain of CTRL 1\n",
    "K_ii = R/tau_ctrl_1; #Integral gain of CTRL 1\n",
    "G_v = 0.0  #Active damping\n",
    "\n",
    "xi = np.zeros((2,1))\n",
    "\n",
    "#u_d = K_pi*epsilon_d + K_ii*xi_d\n",
    "#u_q = K_pi*epsilon_q + K_ii*xi_q   \n",
    "#u_d = eta_d*v_dc/2 - v_sd + L*i_sq*omega => eta_d = (u_d + v_sd - L*i_sq*omega)*2/v_dc\n",
    "#u_q = eta_q*v_dc/2 - v_sq - L*i_sd*omega => eta_q = (u_q + v_sq + L*i_sd*omega)*2/v_dc\n",
    "omega = 2*np.pi*50\n",
    "u_d_0 = eta_d*v_dc/2 - v_sd + L*i_sq*omega + G_v*(i_td - i_sd)\n",
    "u_q_0 = eta_q*v_dc/2 - v_sq - L*i_sd*omega + G_v*(i_tq - i_sq)\n",
    "i_sd_ref_0 = i_sd\n",
    "i_sq_ref_0 = i_sq\n",
    "eta_d_prev = eta_d\n",
    "eta_q_prev = eta_q\n",
    "damp_d_list = []\n",
    "damp_q_list = []\n",
    "# simulation\n",
    "for t in times:\n",
    "    \n",
    "    # measurements\n",
    "    i_sd = syst.get_value('i_sd_g01')\n",
    "    i_sq = syst.get_value('i_sq_g01')  \n",
    "    v_sd = syst.get_value('v_sd_g01')\n",
    "    v_sq = syst.get_value('v_sq_g01')\n",
    "    i_td = syst.get_value('i_td_g01')\n",
    "    i_tq = syst.get_value('i_tq_g01') \n",
    "    v_dc = syst.get_value('v_dc_g01')\n",
    "    \n",
    "    i_sd_ref = i_sd_ref_0\n",
    "    i_sq_ref = i_sq_ref_0\n",
    "    if t>10e-3: i_sd_ref = 20\n",
    "    if t>100e-3: i_sq_ref = 30\n",
    "        \n",
    "    xi_d = xi[0,0]\n",
    "    xi_q = xi[1,0]\n",
    "    \n",
    "    epsilon_d = i_sd_ref - i_sd\n",
    "    epsilon_q = i_sq_ref - i_sq\n",
    "    \n",
    "    u_d = K_pi*epsilon_d + K_ii*xi_d + u_d_0\n",
    "    u_q = K_pi*epsilon_q + K_ii*xi_q + u_q_0  \n",
    "\n",
    "    i_m_d_0  = i_td - i_sd\n",
    "    i_m_q_0  = i_tq - i_sq\n",
    "    i_m_d_90 = (i_tq - i_sq) \n",
    "    i_m_q_90 = (i_td - i_sd) \n",
    "    \n",
    "    K_0 =  -0.6453\n",
    "    K_90 = -(1-0.6453)\n",
    "    \n",
    "    K_0  = -0.5286373998102673\n",
    "    K_90 = -0.8488477481397001\n",
    "\n",
    "    K_0  = -1.0\n",
    "    K_90 = -0.0\n",
    "\n",
    "    damp_d =  G_v*(K_0*i_m_d_0+K_90*i_m_d_90)\n",
    "    damp_q =  G_v*(K_0*i_m_q_0-K_90*i_m_q_90)\n",
    "    \n",
    "    eta_d = (u_d + v_sd - L*i_sq*omega + damp_d)*2/v_dc\n",
    "    eta_q = (u_q + v_sq + L*i_sd*omega + damp_q)*2/v_dc\n",
    "    \n",
    "    xi[0,0] += Δt*epsilon_d\n",
    "    xi[1,0] += Δt*epsilon_q\n",
    "    \n",
    "    events=[{'t_end':t,'eta_d_g01':eta_d_prev,'eta_q_g01':eta_q_prev}]\n",
    "    syst.run(events)\n",
    "\n",
    "    eta_d_prev = eta_d\n",
    "    eta_q_prev = eta_q\n",
    "\n",
    "    damp_d_list += [damp_d]\n",
    "    damp_q_list += [damp_q]\n",
    "\n",
    "    it += 1\n",
    "    \n",
    "syst.post();\n",
    "\n",
    "Damp_d = np.array(damp_d_list)\n",
    "Damp_q = np.array(damp_q_list) "
   ]
  },
  {
   "cell_type": "code",
   "execution_count": 18,
   "metadata": {},
   "outputs": [
    {
     "data": {
      "application/vnd.jupyter.widget-view+json": {
       "model_id": "",
       "version_major": 2,
       "version_minor": 0
      },
      "text/plain": [
       "Canvas(toolbar=Toolbar(toolitems=[('Home', 'Reset original view', 'home', 'home'), ('Back', 'Back to previous …"
      ]
     },
     "metadata": {},
     "output_type": "display_data"
    },
    {
     "data": {
      "text/plain": [
       "Text(0.5, 0, 'Time (s)')"
      ]
     },
     "execution_count": 18,
     "metadata": {},
     "output_type": "execute_result"
    }
   ],
   "source": [
    "plt.close('all')\n",
    "fig, axes = plt.subplots(nrows=2, ncols=1, figsize=(7, 7),sharex=True)\n",
    "\n",
    "axes[0].plot(syst.T,syst.get_values('i_sd_g01'),label='i_sd_g01')\n",
    "axes[0].plot(syst.T,syst.get_values('i_sq_g01'),label='i_sq_g01')\n",
    "\n",
    "#axes[0].plot(syst.T,syst.get_values('damp_D')-syst.get_values('damp_D')[0],label='damp_D')\n",
    "axes[1].plot(syst.T,syst.get_values('damp_Q'),label='damp_Q')\n",
    "\n",
    "#axes[1].plot(syst.T,syst.get_values('eta_D_g01'),label='eta_D_g01')\n",
    "#axes[1].plot(syst.T,syst.get_values('eta_Q_g01'),label='eta_Q_g01')\n",
    "#axes[0].plot(times,Damp_d-Damp_d[0],label='Damp_d')\n",
    "axes[1].plot(times,Damp_q-Damp_q[0],label='Damp_q')\n",
    "for ax in axes:\n",
    "    ax.grid()\n",
    "    ax.legend()\n",
    "ax.set_xlabel('Time (s)')"
   ]
  },
  {
   "cell_type": "raw",
   "metadata": {},
   "source": [
    "1 = K_d_0**2+K_d_90**2\n",
    "phase = Δt/(T_2damp*np.pi*2)\n",
    "K_d_0/K_d_90 = np.tan(phase) = tangente\n",
    "K_d_0 = tangente*K_d_90\n",
    "1 =  (tangente*K_d_90)**2 + K_d_90**2\n",
    "1 = (tangente**2+1)*K_d_90**2"
   ]
  },
  {
   "cell_type": "code",
   "execution_count": 19,
   "metadata": {},
   "outputs": [
    {
     "name": "stdout",
     "output_type": "stream",
     "text": [
      "    K_0  = -0.7562459294598116\n",
      "    K_90 = -0.6542874705933666\n"
     ]
    }
   ],
   "source": [
    "T_2damp = 1/(3227.031357)\n",
    "phase = Δt/(T_2damp)*2*np.pi\n",
    "tangente = np.tan(phase)\n",
    "\n",
    "K_90 = (1/((1/tangente)**2+1))**0.5\n",
    "K_0 = (1 - K_90**2)**0.5\n",
    "\n",
    "print(f'    K_0  = {-K_0}')\n",
    "print(f'    K_90 = {-K_90}')"
   ]
  },
  {
   "cell_type": "code",
   "execution_count": 20,
   "metadata": {},
   "outputs": [],
   "source": [
    "T_2damp = 1/(3227.031357)\n",
    "phase = Δt/(T_2damp)*2*np.pi"
   ]
  },
  {
   "cell_type": "code",
   "execution_count": 21,
   "metadata": {},
   "outputs": [
    {
     "data": {
      "text/plain": [
       "3600.034981468857"
      ]
     },
     "execution_count": 21,
     "metadata": {},
     "output_type": "execute_result"
    }
   ],
   "source": [
    "np.rad2deg(phase)*20/3.227"
   ]
  },
  {
   "cell_type": "code",
   "execution_count": 22,
   "metadata": {},
   "outputs": [
    {
     "data": {
      "text/plain": [
       "0.00030988233127354764"
      ]
     },
     "execution_count": 22,
     "metadata": {},
     "output_type": "execute_result"
    }
   ],
   "source": [
    "T_2damp"
   ]
  },
  {
   "cell_type": "markdown",
   "metadata": {},
   "source": [
    "## CTRL1 in state feedback"
   ]
  },
  {
   "cell_type": "code",
   "execution_count": 104,
   "metadata": {},
   "outputs": [],
   "source": [
    "import pydae.ssa as ssa\n",
    "import scipy.signal as sctrl"
   ]
  },
  {
   "cell_type": "code",
   "execution_count": 105,
   "metadata": {},
   "outputs": [],
   "source": [
    "ssa.eval_ss(syst);"
   ]
  },
  {
   "cell_type": "code",
   "execution_count": 106,
   "metadata": {},
   "outputs": [],
   "source": [
    "syst = vsc_lcl_class()\n",
    "syst.Dt = 5e-6\n",
    "syst.decimation =1\n",
    "syst.N_store =100_000\n",
    "syst.update()\n",
    "\n",
    "Δt = 50e-6 \n",
    "#x_d_ctrl_list = ['i']   # states to consider in the reduction\n",
    "z_ctrl_list = [ 'i_sd_g01', 'i_sq_g01']     # outputs to consider in the controller\n",
    "u_ctrl_list = ['eta_d_g01','eta_q_g01']     # intputs to consider in the controller\n",
    "z_ctrl_idxs = [syst.outputs_list.index(item) for item in z_ctrl_list]\n",
    "u_ctrl_idxs = [syst.inputs_run_list.index(item) for item in u_ctrl_list]\n",
    "\n",
    "syst.Δt = Δt\n",
    "\n",
    "## Calculate equilibirum point\n",
    "syst.initialize([{'G_d_g01':0.0,'eta_d_g01':0.0,'eta_q_g01':-0.8693333,'v_1_Q':-326,'v_1_D':0.0}],xy0=1000)\n",
    "ssa.eval_ss(syst)\n",
    "\n",
    "# linear continous plant\n",
    "A_p = syst.A\n",
    "B_p = syst.B\n",
    "C_p = syst.C\n",
    "D_p = syst.D\n",
    "\n",
    "# plant discretization\n",
    "A_d,B_d,C_d,D_d,Dt = sctrl.cont2discrete((A_p,B_p,C_p,D_p),Δt,method='zoh')\n",
    "\n",
    "N_z_d,N_x_d = C_d.shape  # discreticed plant dimensions\n",
    "N_x_d,N_u_d = B_d.shape\n",
    "\n",
    "# convenient matrices\n",
    "O_ux = np.zeros((N_u_d,N_x_d))\n",
    "O_xu = np.zeros((N_x_d,N_u_d))\n",
    "O_uu = np.zeros((N_u_d,N_u_d))\n",
    "I_uu = np.eye(N_u_d)\n",
    "\n",
    "syst.A_d = A_d\n",
    "syst.B_d = B_d\n",
    "\n",
    "\n",
    "# Controller ##################################################################################\n",
    "B_c = B_d[:,u_ctrl_idxs]\n",
    "C_c = C_d[z_ctrl_idxs,:]\n",
    "D_c = D_d[z_ctrl_idxs,:]\n",
    "\n",
    "N_x_c,N_u_d = B_c.shape\n",
    "N_z_c,N_x_c = C_c.shape\n",
    "\n",
    "\n",
    "O_ux = np.zeros((N_u_d,N_x_d))\n",
    "O_xu = np.zeros((N_x_d,N_u_d))\n",
    "O_uu = np.zeros((N_u_d,N_u_d))\n",
    "I_uu = np.eye(N_u_d)\n",
    "\n",
    "\n",
    "# discretized plant:\n",
    "# Δx_d = A_d*Δx_d + B_d*Δu_d\n",
    "# Δz_c = C_c*Δx_d + D_c*Δu_d\n",
    "\n",
    "# dinamic extension:\n",
    "# Δx_d = A_d*Δx_d + B_d*Δu_d\n",
    "# Δx_i = Δx_i + Δt*(Δz_c-Δz_c_ref) = Δx_i + Δt*C_c*Δx_d - Dt*Δz_c_ref\n",
    "# Δz_c = z_c - z_c_0\n",
    "# Δz_c_ref = z_c_ref - z_c_0\n",
    "# (Δz_c-Δz_c_ref) = z_c - z_c_ref\n",
    "\n",
    "A_e = np.block([\n",
    "                [    A_d, O_xu],    # Δx_d\n",
    "                [ Δt*C_c, I_uu],    # Δx_i    \n",
    "               ])\n",
    "\n",
    "B_e = np.block([\n",
    "                [   B_c],\n",
    "                [   O_uu],    \n",
    "               ])\n",
    "\n",
    "\n",
    "\n",
    "# weighting matrices\n",
    "Q_c = np.eye(A_e.shape[0])\n",
    "Q_c[-1,-1] = 1e4\n",
    "Q_c[-2,-2] = 1e4\n",
    "\n",
    "R_c = np.eye(B_c.shape[1])*100000\n",
    "\n",
    "\n",
    "K_c,S_c,E_c = ssa.dlqr(A_e,B_e,Q_c,R_c)\n",
    "\n",
    "E_cont = np.log(E_c)/Δt"
   ]
  },
  {
   "cell_type": "code",
   "execution_count": 107,
   "metadata": {},
   "outputs": [
    {
     "data": {
      "text/plain": [
       "array([-0.4895141 , -0.4895141 , -0.51666282, -0.51666282, -0.99987441,\n",
       "       -0.99987441, -0.99999999, -0.99999999])"
      ]
     },
     "execution_count": 107,
     "metadata": {},
     "output_type": "execute_result"
    }
   ],
   "source": [
    "-E_c.real/np.abs(E_c)"
   ]
  },
  {
   "cell_type": "code",
   "execution_count": 108,
   "metadata": {},
   "outputs": [
    {
     "data": {
      "text/plain": [
       "array([0.37274688+6.63992221e-01j, 0.37274688-6.63992221e-01j,\n",
       "       0.39312068+6.51460819e-01j, 0.39312068-6.51460819e-01j,\n",
       "       0.97147951+1.53979236e-02j, 0.97147951-1.53979236e-02j,\n",
       "       0.99690471+1.40510238e-04j, 0.99690471-1.40510238e-04j])"
      ]
     },
     "execution_count": 108,
     "metadata": {},
     "output_type": "execute_result"
    }
   ],
   "source": [
    "E_c"
   ]
  },
  {
   "cell_type": "code",
   "execution_count": 109,
   "metadata": {},
   "outputs": [],
   "source": [
    "syst = vsc_lcl_class()\n",
    "syst.Dt = 5e-6\n",
    "syst.decimation =10\n",
    "syst.N_store =1_000_000\n",
    "syst.update()\n",
    "times = np.arange(0.0,0.2,Δt)\n",
    "\n",
    "syst.initialize([{'G_d_g01':0.0,'eta_d_g01':0.0,'eta_q_g01':-0.8693333,'v_1_Q':-326,'v_1_D':0.0}],xy0=1000)\n",
    "i_sd = syst.get_value('i_sd_g01')\n",
    "i_sq = syst.get_value('i_sq_g01')  \n",
    "v_sd = syst.get_value('v_sd_g01')\n",
    "v_sq = syst.get_value('v_sq_g01')\n",
    "i_td = syst.get_value('i_td_g01')\n",
    "i_tq = syst.get_value('i_tq_g01') \n",
    "v_md = syst.get_value('v_md_g01')\n",
    "v_mq = syst.get_value('v_mq_g01') \n",
    "v_dc = syst.get_value('v_dc_g01')\n",
    "eta_d = syst.get_value('eta_d_g01')\n",
    "eta_q = syst.get_value('eta_q_g01')\n",
    "eta_d_prev = eta_d\n",
    "eta_q_prev = eta_q \n",
    "i_sd_ref_0 = i_sd\n",
    "i_sq_ref_0 = i_sq\n",
    "x_d_0 = np.array([i_td,i_tq,v_md,v_mq,i_sd,i_sq]).reshape(6,1)\n",
    "u_d_0 = np.array([eta_d,eta_q]).reshape(2,1)\n",
    "syst.Δxi = np.zeros((2,1))    \n",
    "it = 0\n",
    "for t in times:\n",
    "    \n",
    "    # measurements\n",
    "    i_sd = syst.get_value('i_sd_g01')\n",
    "    i_sq = syst.get_value('i_sq_g01')  \n",
    "    v_sd = syst.get_value('v_sd_g01')\n",
    "    v_sq = syst.get_value('v_sq_g01')\n",
    "    i_td = syst.get_value('i_td_g01')\n",
    "    i_tq = syst.get_value('i_tq_g01') \n",
    "    v_md = syst.get_value('v_md_g01')\n",
    "    v_mq = syst.get_value('v_mq_g01') \n",
    "    v_dc = syst.get_value('v_dc_g01')\n",
    "\n",
    "    x_d = np.array([i_td,i_tq,v_md,v_mq,i_sd,i_sq]).reshape(6,1)\n",
    "    Δx_d = x_d - x_d_0 \n",
    "    \n",
    "    Δx_i = syst.Δxi   \n",
    "    \n",
    "    i_sd_ref = i_sd_ref_0\n",
    "    i_sq_ref = i_sq_ref_0\n",
    "    if t>10e-3: i_sd_ref = 20\n",
    "    if t>100e-3: i_sq_ref = 30\n",
    "           \n",
    "    epsilon_d = i_sd - i_sd_ref\n",
    "    epsilon_q = i_sq - i_sq_ref  \n",
    "    \n",
    "    epsilon = np.block([[epsilon_d],[epsilon_q]])\n",
    "    \n",
    "\n",
    "    Δx_e = np.block([[Δx_d], [Δx_i]])\n",
    "    \n",
    "    Δu_d = -K_c @ Δx_e\n",
    "    \n",
    "    u_d = Δu_d + u_d_0\n",
    "    \n",
    "    syst.Δxi += Δt*epsilon\n",
    "    \n",
    "    eta_d = u_d[0,0]\n",
    "    eta_q = u_d[1,0]\n",
    "\n",
    "    \n",
    "    events=[{'t_end':t,'eta_d_g01':eta_d_prev,'eta_q_g01':eta_q_prev}]\n",
    "    syst.run(events)\n",
    "\n",
    "    eta_d_prev = eta_d\n",
    "    eta_q_prev = eta_q\n",
    "    it += 1\n",
    "    \n",
    "syst.post();"
   ]
  },
  {
   "cell_type": "code",
   "execution_count": 110,
   "metadata": {},
   "outputs": [
    {
     "data": {
      "application/vnd.jupyter.widget-view+json": {
       "model_id": "",
       "version_major": 2,
       "version_minor": 0
      },
      "text/plain": [
       "Canvas(toolbar=Toolbar(toolitems=[('Home', 'Reset original view', 'home', 'home'), ('Back', 'Back to previous …"
      ]
     },
     "metadata": {},
     "output_type": "display_data"
    },
    {
     "name": "stderr",
     "output_type": "stream",
     "text": [
      "No handles with labels found to put in legend.\n"
     ]
    },
    {
     "data": {
      "text/plain": [
       "Text(0.5, 0, 'Time (s)')"
      ]
     },
     "execution_count": 110,
     "metadata": {},
     "output_type": "execute_result"
    }
   ],
   "source": [
    "plt.close('all')\n",
    "fig, axes = plt.subplots(nrows=2, ncols=1, figsize=(7, 7),sharex=True)\n",
    "\n",
    "axes[0].plot(syst.T,syst.get_values('i_sd_g01'),label='i_sd_g01')\n",
    "axes[0].plot(syst.T,syst.get_values('i_sq_g01'),label='i_sq_g01')\n",
    "\n",
    "\n",
    "for ax in axes:\n",
    "    ax.grid()\n",
    "    ax.legend()\n",
    "ax.set_xlabel('Time (s)')"
   ]
  },
  {
   "cell_type": "code",
   "execution_count": 98,
   "metadata": {},
   "outputs": [
    {
     "ename": "NameError",
     "evalue": "name 'L_t' is not defined",
     "output_type": "error",
     "traceback": [
      "\u001b[1;31m---------------------------------------------------------------------------\u001b[0m",
      "\u001b[1;31mNameError\u001b[0m                                 Traceback (most recent call last)",
      "\u001b[1;32m<ipython-input-98-7c83f5ccaa14>\u001b[0m in \u001b[0;36m<module>\u001b[1;34m\u001b[0m\n\u001b[1;32m----> 1\u001b[1;33m \u001b[0mL_t\u001b[0m\u001b[1;33m\u001b[0m\u001b[1;33m\u001b[0m\u001b[0m\n\u001b[0m",
      "\u001b[1;31mNameError\u001b[0m: name 'L_t' is not defined"
     ]
    }
   ],
   "source": [
    "L_t"
   ]
  },
  {
   "cell_type": "code",
   "execution_count": 99,
   "metadata": {},
   "outputs": [
    {
     "data": {
      "text/plain": [
       "matrix([[ 3.05930459e-02,  2.28423291e-04, -5.37914607e-04,\n",
       "         -4.28085968e-06, -2.70547919e-02, -2.11027070e-04,\n",
       "          2.11938528e-01, -1.06665661e-01],\n",
       "        [-2.28423291e-04,  3.05930459e-02,  4.28085968e-06,\n",
       "         -5.37914607e-04,  2.11027070e-04, -2.70547919e-02,\n",
       "          1.06665661e-01,  2.11938528e-01]])"
      ]
     },
     "execution_count": 99,
     "metadata": {},
     "output_type": "execute_result"
    }
   ],
   "source": [
    "K_c"
   ]
  },
  {
   "cell_type": "code",
   "execution_count": null,
   "metadata": {},
   "outputs": [],
   "source": []
  },
  {
   "cell_type": "code",
   "execution_count": 132,
   "metadata": {},
   "outputs": [],
   "source": [
    "syst = vsc_lcl_class()\n",
    "syst.Dt = 5e-6\n",
    "syst.decimation =1\n",
    "syst.N_store =100_000\n",
    "syst.update()\n",
    "\n",
    "Δt = 100e-6 \n",
    "#x_d_ctrl_list = ['i']   # states to consider in the reduction\n",
    "z_ctrl_list = [ 'i_sd_g01', 'i_sq_g01']     # outputs to consider in the controller\n",
    "u_ctrl_list = ['eta_d_g01','eta_q_g01']     # intputs to consider in the controller\n",
    "z_ctrl_idxs = [syst.outputs_list.index(item) for item in z_ctrl_list]\n",
    "u_ctrl_idxs = [syst.inputs_run_list.index(item) for item in u_ctrl_list]\n",
    "\n",
    "syst.Δt = Δt\n",
    "\n",
    "## Calculate equilibirum point\n",
    "syst.initialize([{'G_d_g01':0.0,'eta_d_g01':0.0,'eta_q_g01':-0.8693333,'v_1_Q':-326,'v_1_D':0.0, 'C_m_g01':4e-6}],xy0=1000)\n",
    "ssa.eval_ss(syst)\n",
    "\n",
    "# linear continous plant\n",
    "A_p = syst.A\n",
    "B_p = syst.B\n",
    "C_p = syst.C\n",
    "D_p = syst.D\n",
    "\n",
    "# plant discretization\n",
    "A_d,B_d,C_d,D_d,Dt = sctrl.cont2discrete((A_p,B_p,C_p,D_p),Δt,method='zoh')\n",
    "\n",
    "N_z_d,N_x_d = C_d.shape  # discreticed plant dimensions\n",
    "N_x_d,N_u_d = B_d.shape\n",
    "\n",
    "# convenient matrices\n",
    "O_ux = np.zeros((N_u_d,N_x_d))\n",
    "O_xu = np.zeros((N_x_d,N_u_d))\n",
    "O_uu = np.zeros((N_u_d,N_u_d))\n",
    "I_uu = np.eye(N_u_d)\n",
    "\n",
    "syst.A_d = A_d\n",
    "syst.B_d = B_d\n",
    "\n",
    "\n",
    "# Controller ##################################################################################\n",
    "B_c = B_d[:,u_ctrl_idxs]\n",
    "C_c = C_d[z_ctrl_idxs,:]\n",
    "D_c = D_d[z_ctrl_idxs,:][:,u_ctrl_idxs]\n",
    "\n",
    "N_x_c,N_u_d = B_c.shape\n",
    "N_z_c,N_x_c = C_c.shape\n",
    "\n",
    "\n",
    "O_ux = np.zeros((N_u_d,N_x_d))\n",
    "O_xu = np.zeros((N_x_d,N_u_d))\n",
    "O_uu = np.zeros((N_u_d,N_u_d))\n",
    "I_uu = np.eye(N_u_d)\n",
    "\n",
    "\n",
    "# discretized plant:\n",
    "# Δx_d = A_d*Δx_d + B_d*Δu_d\n",
    "# Δz_c = C_c*Δx_d + D_c*Δu_d\n",
    "\n",
    "# dinamic extension:\n",
    "# Δx_d = A_d*Δx_d + B_d*Δu_d\n",
    "# Δx_i = Δx_i + Δt*(Δz_c-Δz_c_ref) = Δx_i + Δt*C_c*Δx_d - Dt*Δz_c_ref\n",
    "# Δz_c = z_c - z_c_0\n",
    "# Δz_c_ref = z_c_ref - z_c_0\n",
    "# (Δz_c-Δz_c_ref) = z_c - z_c_ref\n",
    "omega_b = 2*np.pi*50\n",
    "\n",
    "W =  np.block([\n",
    "                [   np.cos(omega_b*Δt), -np.sin(omega_b*Δt)],   \n",
    "                [   np.sin(omega_b*Δt),  np.cos(omega_b*Δt)],    \n",
    "               ])\n",
    "\n",
    "A_e = np.block([\n",
    "                [    A_d,  B_c@W, O_xu],    # Δx_d\n",
    "                [   O_ux,   O_uu, O_uu],    # Δx_r\n",
    "                [ Δt*C_c, Δt*D_c, I_uu],    # Δx_i    \n",
    "               ])\n",
    "\n",
    "B_e = np.block([\n",
    "                [   O_xu],\n",
    "                [   I_uu],\n",
    "                [   O_uu],    \n",
    "               ])\n",
    "\n",
    "A_ctrl = A_e[N_x_d:,N_x_d:]\n",
    "B_ctrl = B_e[N_x_d:]\n",
    "\n",
    "# weighting matrices\n",
    "Q_c = np.eye(A_e.shape[0])\n",
    "Q_c[-1,-1] = 1e7\n",
    "Q_c[-2,-2] = 1e7\n",
    "\n",
    "R_c = np.eye(B_c.shape[1])\n",
    "\n",
    "K_c,S_c,E_c = ssa.dlqr(A_e,B_e,Q_c,R_c)\n",
    "\n",
    "E_cont = np.log(E_c)/Δt\n",
    "\n",
    "syst.A_ctrl = A_ctrl\n",
    "syst.B_ctrl = B_ctrl\n",
    "syst.K_c = K_c\n",
    "syst.N_x_d = N_x_d  # number of plant states\n",
    "syst.N_u_d = N_u_d  # number of plant inputs\n",
    "syst.N_z_c = N_z_c  # number of plant outputs considered for the controller"
   ]
  },
  {
   "cell_type": "code",
   "execution_count": 133,
   "metadata": {},
   "outputs": [
    {
     "data": {
      "text/plain": [
       "array([ 4961.58042816, -4961.58042816,   181.10033477,  -181.10033477,\n",
       "         131.13747671,  -131.13747671,  4938.38239422, -4938.38239422,\n",
       "           0.        ,  5000.        ])"
      ]
     },
     "execution_count": 133,
     "metadata": {},
     "output_type": "execute_result"
    }
   ],
   "source": [
    "E_cont.imag/2/np.pi"
   ]
  },
  {
   "cell_type": "code",
   "execution_count": 134,
   "metadata": {},
   "outputs": [
    {
     "data": {
      "text/plain": [
       "array([[ 0.99950656, -0.03141076],\n",
       "       [ 0.03141076,  0.99950656]])"
      ]
     },
     "execution_count": 134,
     "metadata": {},
     "output_type": "execute_result"
    }
   ],
   "source": [
    "W"
   ]
  },
  {
   "cell_type": "code",
   "execution_count": 135,
   "metadata": {},
   "outputs": [
    {
     "data": {
      "text/plain": [
       "array([0.02782544, 0.02782544, 0.75202455, 0.75202455, 0.82785763,\n",
       "       0.82785763, 0.95872622, 0.95872622, 1.        , 0.99213562])"
      ]
     },
     "execution_count": 135,
     "metadata": {},
     "output_type": "execute_result"
    }
   ],
   "source": [
    "-E_cont.real/np.abs(E_cont)"
   ]
  },
  {
   "cell_type": "code",
   "execution_count": 136,
   "metadata": {},
   "outputs": [
    {
     "data": {
      "text/plain": [
       "array([   -867.78091113+31174.52924662j,    -867.78091113-31174.52924662j,\n",
       "         -1298.24512951 +1137.88696253j,   -1298.24512951 -1137.88696253j,\n",
       "         -1216.03836363  +823.96106691j,   -1216.03836363  -823.96106691j,\n",
       "       -104624.92913934+31028.77170057j, -104624.92913934-31028.77170057j,\n",
       "       -248040.19728861    +0.j        , -249017.20157367+31415.9265359j ])"
      ]
     },
     "execution_count": 136,
     "metadata": {},
     "output_type": "execute_result"
    }
   ],
   "source": [
    "E_cont"
   ]
  },
  {
   "cell_type": "code",
   "execution_count": 140,
   "metadata": {},
   "outputs": [],
   "source": [
    "syst = vsc_lcl_class()\n",
    "syst.Dt = 5e-6\n",
    "syst.decimation =1\n",
    "syst.N_store =100_000\n",
    "syst.update()\n",
    "times = np.arange(0.0,0.1,Δt)\n",
    "\n",
    "syst.initialize([{'G_d_g01':0.0,'eta_d_g01':0.0,'eta_q_g01':-0.8693333,'v_1_Q':-326,'v_1_D':0.0, 'C_m_g01':4e-6}],xy0=1000)\n",
    "ssa.eval_A(syst)\n",
    "i_sd = syst.get_value('i_sd_g01')\n",
    "i_sq = syst.get_value('i_sq_g01')  \n",
    "v_sd = syst.get_value('v_sd_g01')\n",
    "v_sq = syst.get_value('v_sq_g01')\n",
    "i_td = syst.get_value('i_td_g01')\n",
    "i_tq = syst.get_value('i_tq_g01') \n",
    "v_md = syst.get_value('v_md_g01')\n",
    "v_mq = syst.get_value('v_mq_g01') \n",
    "v_dc = syst.get_value('v_dc_g01')\n",
    "eta_d = syst.get_value('eta_d_g01')\n",
    "eta_q = syst.get_value('eta_q_g01')\n",
    "i_sd_ref_0 = i_sd\n",
    "i_sq_ref_0 = i_sq\n",
    "v_sq_0 = v_sq\n",
    "v_sd_0 = v_sd\n",
    "x_d_0 = np.array([i_td,i_tq,v_md,v_mq,i_sd,i_sq]).reshape(6,1)\n",
    "u_d_0 = np.array([eta_d,eta_q]).reshape(2,1)\n",
    "x_r_0 = u_d_0\n",
    "syst.Δx_e = np.zeros((10,1))\n",
    "it = 0\n",
    "for t in times:\n",
    "    \n",
    "    Δx_e = syst.Δx_e\n",
    "    # measurements\n",
    "    i_sd = syst.get_value('i_sd_g01')\n",
    "    i_sq = syst.get_value('i_sq_g01')  \n",
    "    v_sd = syst.get_value('v_sd_g01')\n",
    "    v_sq = syst.get_value('v_sq_g01')\n",
    "    i_td = syst.get_value('i_td_g01')\n",
    "    i_tq = syst.get_value('i_tq_g01') \n",
    "    v_md = syst.get_value('v_md_g01')\n",
    "    v_mq = syst.get_value('v_mq_g01') \n",
    "    v_dc = syst.get_value('v_dc_g01')\n",
    "\n",
    "    x_d = np.array([i_td,i_tq,v_md,v_mq,i_sd,i_sq]).reshape(6,1)\n",
    "    \n",
    "    Δx_d = x_d - x_d_0     \n",
    "    Δx_r = syst.Δx_e[N_x_c:-N_u_d,:]   \n",
    "    Δx_i = syst.Δx_e[(N_x_c+N_u_d):,:] \n",
    "    \n",
    "    i_sd_ref = i_sd_ref_0\n",
    "    i_sq_ref = i_sq_ref_0\n",
    "    v_sq = v_sq_0\n",
    "    v_sd = v_sd_0\n",
    "    if t>20e-3: i_sd_ref = 20\n",
    "    if t>30e-3: i_sq_ref = 30\n",
    "    if t>45e-3: v_sd =  163 \n",
    "    if t>45e-3: v_sq = -163\n",
    "    epsilon_d = i_sd - i_sd_ref\n",
    "    epsilon_q = i_sq - i_sq_ref  \n",
    "    \n",
    "    epsilon = np.block([[epsilon_d],[epsilon_q]])\n",
    "    \n",
    "    Δu_r = -K_c @ Δx_e + np.block([[ (v_sd-v_sd_0)*2/v_dc],[(v_sq-v_sq_0)*2/v_dc]])\n",
    "    \n",
    "   \n",
    "    Δx_r = Δu_r\n",
    "    Δx_i += Δt*epsilon\n",
    "    \n",
    "    Δx_e = np.block([[Δx_d],[Δx_r],[Δx_i]])\n",
    "    \n",
    "    syst.Δx_e  =  Δx_e\n",
    "    \n",
    "    x_r = Δx_r + x_r_0 \n",
    "    \n",
    "    eta_dq = W@x_r\n",
    "    eta_d = eta_dq[0,0]  \n",
    "    eta_q = eta_dq[1,0]   \n",
    "\n",
    "    \n",
    "    events=[{'t_end':t,'eta_d_g01':eta_d,'eta_q_g01':eta_q,'v_1_Q':v_sq,'v_1_D':v_sd}]\n",
    "    syst.run(events)\n",
    "\n",
    "#    eta_d_prev = eta_d\n",
    "#    eta_q_prev = eta_q\n",
    "    it += 1\n",
    "    \n",
    "syst.post();"
   ]
  },
  {
   "cell_type": "code",
   "execution_count": 141,
   "metadata": {
    "jupyter": {
     "source_hidden": true
    }
   },
   "outputs": [
    {
     "data": {
      "application/vnd.jupyter.widget-view+json": {
       "model_id": "d0bb0fe01c9c4362880cda9ba557238d",
       "version_major": 2,
       "version_minor": 0
      },
      "text/plain": [
       "Canvas(toolbar=Toolbar(toolitems=[('Home', 'Reset original view', 'home', 'home'), ('Back', 'Back to previous …"
      ]
     },
     "metadata": {},
     "output_type": "display_data"
    },
    {
     "data": {
      "text/plain": [
       "Text(0.5, 0, 'Time (s)')"
      ]
     },
     "execution_count": 141,
     "metadata": {},
     "output_type": "execute_result"
    }
   ],
   "source": [
    "plt.close('all')\n",
    "fig, axes = plt.subplots(nrows=2, ncols=1, figsize=(7, 7),sharex=True)\n",
    "\n",
    "axes[0].plot(syst.T,syst.get_values('i_sd_g01'),label='i_sd_g01')\n",
    "axes[0].plot(syst.T,syst.get_values('i_sq_g01'),label='i_sq_g01')\n",
    "\n",
    "axes[1].plot(syst.T,syst.get_values('eta_D_g01'),label='eta_D_g01')\n",
    "axes[1].plot(syst.T,syst.get_values('eta_Q_g01'),label='eta_Q_g01')\n",
    "for ax in axes:\n",
    "    ax.grid()\n",
    "    ax.legend()\n",
    "ax.set_xlabel('Time (s)')"
   ]
  },
  {
   "cell_type": "code",
   "execution_count": 142,
   "metadata": {},
   "outputs": [
    {
     "data": {
      "text/html": [
       "<div>\n",
       "<style scoped>\n",
       "    .dataframe tbody tr th:only-of-type {\n",
       "        vertical-align: middle;\n",
       "    }\n",
       "\n",
       "    .dataframe tbody tr th {\n",
       "        vertical-align: top;\n",
       "    }\n",
       "\n",
       "    .dataframe thead th {\n",
       "        text-align: right;\n",
       "    }\n",
       "</style>\n",
       "<table border=\"1\" class=\"dataframe\">\n",
       "  <thead>\n",
       "    <tr style=\"text-align: right;\">\n",
       "      <th></th>\n",
       "      <th>Real</th>\n",
       "      <th>Imag</th>\n",
       "      <th>Freq.</th>\n",
       "      <th>Damp</th>\n",
       "    </tr>\n",
       "  </thead>\n",
       "  <tbody>\n",
       "    <tr>\n",
       "      <th>Mode 1</th>\n",
       "      <td>-15.707963</td>\n",
       "      <td>20314.153097</td>\n",
       "      <td>3233.09788</td>\n",
       "      <td>0.000773</td>\n",
       "    </tr>\n",
       "    <tr>\n",
       "      <th>Mode 2</th>\n",
       "      <td>-15.707963</td>\n",
       "      <td>-20314.153097</td>\n",
       "      <td>3233.09788</td>\n",
       "      <td>0.000773</td>\n",
       "    </tr>\n",
       "    <tr>\n",
       "      <th>Mode 3</th>\n",
       "      <td>-15.707963</td>\n",
       "      <td>19685.834566</td>\n",
       "      <td>3133.09788</td>\n",
       "      <td>0.000798</td>\n",
       "    </tr>\n",
       "    <tr>\n",
       "      <th>Mode 4</th>\n",
       "      <td>-15.707963</td>\n",
       "      <td>-19685.834566</td>\n",
       "      <td>3133.09788</td>\n",
       "      <td>0.000798</td>\n",
       "    </tr>\n",
       "    <tr>\n",
       "      <th>Mode 5</th>\n",
       "      <td>-31.415927</td>\n",
       "      <td>314.159265</td>\n",
       "      <td>50.00000</td>\n",
       "      <td>0.099504</td>\n",
       "    </tr>\n",
       "    <tr>\n",
       "      <th>Mode 6</th>\n",
       "      <td>-31.415927</td>\n",
       "      <td>-314.159265</td>\n",
       "      <td>50.00000</td>\n",
       "      <td>0.099504</td>\n",
       "    </tr>\n",
       "  </tbody>\n",
       "</table>\n",
       "</div>"
      ],
      "text/plain": [
       "             Real          Imag       Freq.      Damp\n",
       "Mode 1 -15.707963  20314.153097  3233.09788  0.000773\n",
       "Mode 2 -15.707963 -20314.153097  3233.09788  0.000773\n",
       "Mode 3 -15.707963  19685.834566  3133.09788  0.000798\n",
       "Mode 4 -15.707963 -19685.834566  3133.09788  0.000798\n",
       "Mode 5 -31.415927    314.159265    50.00000  0.099504\n",
       "Mode 6 -31.415927   -314.159265    50.00000  0.099504"
      ]
     },
     "execution_count": 142,
     "metadata": {},
     "output_type": "execute_result"
    }
   ],
   "source": [
    "ssa.damp_report(syst)\n"
   ]
  },
  {
   "cell_type": "code",
   "execution_count": 85,
   "metadata": {},
   "outputs": [],
   "source": [
    "import sympy as sym\n",
    "\n",
    "x_d_1,x_d_2,x_d_3,x_d_4,x_d_5,x_d_6 = sym.symbols('Dx_d_1,Dx_d_2,Dx_d_3,Dx_d_4,Dx_d_5,Dx_d_6')\n",
    "x_r_1,x_r_2 = sym.symbols('Dx_r_1,Dx_r_2')\n",
    "x_i_1,x_i_2 = sym.symbols('Dx_i_1,Dx_i_2')\n",
    "\n",
    "x_e = sym.Matrix([x_d_1,x_d_2,x_d_3,x_d_4,x_d_5,x_d_6,x_r_1,x_r_2,x_i_1,x_i_2])\n",
    "u_r = -K_c * x_e"
   ]
  },
  {
   "cell_type": "code",
   "execution_count": 86,
   "metadata": {},
   "outputs": [
    {
     "name": "stdout",
     "output_type": "stream",
     "text": [
      "0.023914820787791*Dx_d_1 + 0.00124312201525765*Dx_d_2 + 0.00210868343440974*Dx_d_3 + 9.76673467759675e-5*Dx_d_4 - 0.0363072666129747*Dx_d_5 - 0.0013695946212219*Dx_d_6 - 10.022203616505*Dx_i_1 + 1.45742192739155*Dx_i_2 - 0.327372378893965*Dx_r_1 - 0.000502327486946109*Dx_r_2\n"
     ]
    }
   ],
   "source": [
    "print(u_r[0])"
   ]
  },
  {
   "cell_type": "code",
   "execution_count": 87,
   "metadata": {},
   "outputs": [
    {
     "name": "stdout",
     "output_type": "stream",
     "text": [
      "0.023914820787791*Dx_d_1 + 0.00124312201525765*Dx_d_2 + 0.00210868343440974*Dx_d_3 + 9.76673467759675e-5*Dx_d_4 - 0.0363072666129747*Dx_d_5 - 0.0013695946212219*Dx_d_6 - 10.022203616505*Dx_i_1 + 1.45742192739155*Dx_i_2 - 0.327372378893965*Dx_r_1 - 0.000502327486946109*Dx_r_2\n"
     ]
    }
   ],
   "source": [
    "print(u_r[0])"
   ]
  },
  {
   "cell_type": "code",
   "execution_count": 88,
   "metadata": {},
   "outputs": [
    {
     "name": "stdout",
     "output_type": "stream",
     "text": [
      "-0.00124312201525856*Dx_d_1 + 0.0239148207877911*Dx_d_2 - 9.76673467759516e-5*Dx_d_3 + 0.00210868343440976*Dx_d_4 + 0.00136959462122251*Dx_d_5 - 0.0363072666129741*Dx_d_6 - 1.45742192739181*Dx_i_1 - 10.0222036165041*Dx_i_2 + 0.000502327486927267*Dx_r_1 - 0.327372378893964*Dx_r_2\n"
     ]
    }
   ],
   "source": [
    "print(u_r[1])"
   ]
  },
  {
   "cell_type": "code",
   "execution_count": 63,
   "metadata": {},
   "outputs": [
    {
     "data": {
      "text/plain": [
       "4e-06"
      ]
     },
     "execution_count": 63,
     "metadata": {},
     "output_type": "execute_result"
    }
   ],
   "source": [
    "syst.get_value('C_m_g01')"
   ]
  },
  {
   "cell_type": "code",
   "execution_count": null,
   "metadata": {},
   "outputs": [],
   "source": []
  }
 ],
 "metadata": {
  "kernelspec": {
   "display_name": "Python 3",
   "language": "python",
   "name": "python3"
  },
  "language_info": {
   "codemirror_mode": {
    "name": "ipython",
    "version": 3
   },
   "file_extension": ".py",
   "mimetype": "text/x-python",
   "name": "python",
   "nbconvert_exporter": "python",
   "pygments_lexer": "ipython3",
   "version": "3.8.5"
  }
 },
 "nbformat": 4,
 "nbformat_minor": 4
}
