{
 "cells": [
  {
   "cell_type": "code",
   "execution_count": 2,
   "metadata": {},
   "outputs": [],
   "source": [
    "%matplotlib widget"
   ]
  },
  {
   "cell_type": "code",
   "execution_count": 7,
   "metadata": {},
   "outputs": [],
   "source": [
    "import numpy as np\n",
    "import matplotlib.pyplot as plt\n",
    "import pydae.ssa as ssa\n",
    "import scipy.signal as sctrl"
   ]
  },
  {
   "cell_type": "code",
   "execution_count": 8,
   "metadata": {},
   "outputs": [],
   "source": [
    "from vsc_lcl import vsc_lcl_class "
   ]
  },
  {
   "cell_type": "markdown",
   "metadata": {},
   "source": [
    "## Instantiate system"
   ]
  },
  {
   "cell_type": "code",
   "execution_count": 45,
   "metadata": {},
   "outputs": [],
   "source": [
    "syst = vsc_lcl_class()\n",
    "syst.Dt = 5e-6\n",
    "syst.decimation = 1\n",
    "syst.N_store = 100_000\n",
    "syst.update()"
   ]
  },
  {
   "cell_type": "markdown",
   "metadata": {},
   "source": [
    "## CTRL1 in state feedback"
   ]
  },
  {
   "cell_type": "code",
   "execution_count": 82,
   "metadata": {},
   "outputs": [],
   "source": [
    "syst = vsc_lcl_class()\n",
    "syst.Dt = 5e-6\n",
    "syst.decimation =1\n",
    "syst.N_store =100_000\n",
    "syst.update()\n",
    "\n",
    "Δt = 50e-6 \n",
    "#x_d_ctrl_list = ['i']   # states to consider in the reduction\n",
    "z_ctrl_list = [ 'i_sd_g01', 'i_sq_g01']     # outputs to consider in the controller\n",
    "u_ctrl_list = ['eta_d_g01','eta_q_g01']     # intputs to consider in the controller\n",
    "z_ctrl_idxs = [syst.outputs_list.index(item) for item in z_ctrl_list]\n",
    "u_ctrl_idxs = [syst.inputs_run_list.index(item) for item in u_ctrl_list]\n",
    "\n",
    "syst.Δt = Δt\n",
    "\n",
    "## Calculate equilibirum point\n",
    "syst.initialize([{'G_d_g01':0.0,'eta_d_g01':0.0,'eta_q_g01':-0.8693333,'v_1_Q':-326,'v_1_D':0.0, 'C_m_g01':4e-6}],xy0=1000)\n",
    "ssa.eval_ss(syst)\n",
    "\n",
    "# linear continous plant\n",
    "A_p = syst.A\n",
    "B_p = syst.B\n",
    "C_p = syst.C\n",
    "D_p = syst.D\n",
    "\n",
    "# plant discretization\n",
    "A_d,B_d,C_d,D_d,Dt = sctrl.cont2discrete((A_p,B_p,C_p,D_p),Δt,method='zoh')\n",
    "\n",
    "N_z_d,N_x_d = C_d.shape  # discreticed plant dimensions\n",
    "N_x_d,N_u_d = B_d.shape\n",
    "\n",
    "# convenient matrices\n",
    "O_ux = np.zeros((N_u_d,N_x_d))\n",
    "O_xu = np.zeros((N_x_d,N_u_d))\n",
    "O_uu = np.zeros((N_u_d,N_u_d))\n",
    "I_uu = np.eye(N_u_d)\n",
    "\n",
    "syst.A_d = A_d\n",
    "syst.B_d = B_d\n",
    "\n",
    "\n",
    "# Controller ##################################################################################\n",
    "B_c = B_d[:,u_ctrl_idxs]\n",
    "C_c = C_d[z_ctrl_idxs,:]\n",
    "D_c = D_d[z_ctrl_idxs,:][:,u_ctrl_idxs]\n",
    "\n",
    "N_x_c,N_u_d = B_c.shape\n",
    "N_z_c,N_x_c = C_c.shape\n",
    "\n",
    "\n",
    "O_ux = np.zeros((N_u_d,N_x_d))\n",
    "O_xu = np.zeros((N_x_d,N_u_d))\n",
    "O_uu = np.zeros((N_u_d,N_u_d))\n",
    "I_uu = np.eye(N_u_d)\n",
    "\n",
    "\n",
    "# discretized plant:\n",
    "# Δx_d = A_d*Δx_d + B_d*Δu_d\n",
    "# Δz_c = C_c*Δx_d + D_c*Δu_d\n",
    "\n",
    "# dinamic extension:\n",
    "# Δx_d = A_d*Δx_d + B_d*Δu_d\n",
    "# Δx_i = Δx_i + Δt*(Δz_c-Δz_c_ref) = Δx_i + Δt*C_c*Δx_d - Dt*Δz_c_ref\n",
    "# Δz_c = z_c - z_c_0\n",
    "# Δz_c_ref = z_c_ref - z_c_0\n",
    "# (Δz_c-Δz_c_ref) = z_c - z_c_ref\n",
    "omega_b = 2*np.pi*50\n",
    "\n",
    "W =  np.block([\n",
    "                [   np.cos(omega_b*Δt), -np.sin(omega_b*Δt)],   \n",
    "                [   np.sin(omega_b*Δt),  np.cos(omega_b*Δt)],    \n",
    "               ])\n",
    "\n",
    "A_e = np.block([\n",
    "                [    A_d,  B_c@W, O_xu],    # Δx_d\n",
    "                [   O_ux,   O_uu, O_uu],    # Δx_r\n",
    "                [ Δt*C_c, Δt*D_c, I_uu],    # Δx_i    \n",
    "               ])\n",
    "\n",
    "B_e = np.block([\n",
    "                [   O_xu],\n",
    "                [   I_uu],\n",
    "                [   O_uu],    \n",
    "               ])\n",
    "\n",
    "A_ctrl = A_e[N_x_d:,N_x_d:]\n",
    "B_ctrl = B_e[N_x_d:]\n",
    "\n",
    "# weighting matrices\n",
    "Q_c = np.eye(A_e.shape[0])\n",
    "Q_c[-1,-1] = 1e6\n",
    "Q_c[-2,-2] = 1e6\n",
    "\n",
    "R_c = np.eye(B_c.shape[1])*100000\n",
    "\n",
    "K_c,S_c,E_c = ssa.dlqr(A_e,B_e,Q_c,R_c)\n",
    "\n",
    "E_cont = np.log(E_c)/Δt\n",
    "\n",
    "syst.A_ctrl = A_ctrl\n",
    "syst.B_ctrl = B_ctrl\n",
    "syst.K_c = K_c\n",
    "syst.N_x_d = N_x_d  # number of plant states\n",
    "syst.N_u_d = N_u_d  # number of plant inputs\n",
    "syst.N_z_c = N_z_c  # number of plant outputs considered for the controller"
   ]
  },
  {
   "cell_type": "code",
   "execution_count": 83,
   "metadata": {},
   "outputs": [],
   "source": [
    "syst = vsc_lcl_class()\n",
    "syst.Dt = 5e-6\n",
    "syst.decimation =1\n",
    "syst.N_store =100_000\n",
    "syst.update()\n",
    "times = np.arange(0.0,0.1,Δt)\n",
    "\n",
    "syst.initialize([{'G_d_g01':0.0,'eta_d_g01':0.0,'eta_q_g01':-0.8693333,'v_1_Q':-326,'v_1_D':0.0, 'C_m_g01':4e-6}],xy0=1000)\n",
    "ssa.eval_A(syst)\n",
    "i_sd = syst.get_value('i_sd_g01')\n",
    "i_sq = syst.get_value('i_sq_g01')  \n",
    "v_sd = syst.get_value('v_sd_g01')\n",
    "v_sq = syst.get_value('v_sq_g01')\n",
    "i_td = syst.get_value('i_td_g01')\n",
    "i_tq = syst.get_value('i_tq_g01') \n",
    "v_md = syst.get_value('v_md_g01')\n",
    "v_mq = syst.get_value('v_mq_g01') \n",
    "v_dc = syst.get_value('v_dc_g01')\n",
    "eta_d = syst.get_value('eta_d_g01')\n",
    "eta_q = syst.get_value('eta_q_g01')\n",
    "i_sd_ref_0 = i_sd\n",
    "i_sq_ref_0 = i_sq\n",
    "v_sq_0 = v_sq\n",
    "v_sd_0 = v_sd\n",
    "x_d_0 = np.array([i_td,i_tq,v_md,v_mq,i_sd,i_sq]).reshape(6,1)\n",
    "u_d_0 = np.array([eta_d,eta_q]).reshape(2,1)\n",
    "x_r_0 = u_d_0\n",
    "syst.Δx_e = np.zeros((10,1))\n",
    "it = 0\n",
    "for t in times:\n",
    "    \n",
    "    Δx_e = syst.Δx_e\n",
    "    # measurements\n",
    "    i_sd = syst.get_value('i_sd_g01')\n",
    "    i_sq = syst.get_value('i_sq_g01')  \n",
    "    v_sd = syst.get_value('v_sd_g01')\n",
    "    v_sq = syst.get_value('v_sq_g01')\n",
    "    i_td = syst.get_value('i_td_g01')\n",
    "    i_tq = syst.get_value('i_tq_g01') \n",
    "    v_md = syst.get_value('v_md_g01')\n",
    "    v_mq = syst.get_value('v_mq_g01') \n",
    "    v_dc = syst.get_value('v_dc_g01')\n",
    "\n",
    "    x_d = np.array([i_td,i_tq,v_md,v_mq,i_sd,i_sq]).reshape(6,1)\n",
    "    \n",
    "    Δx_d = x_d - x_d_0     \n",
    "    Δx_r = syst.Δx_e[N_x_c:-N_u_d,:]   \n",
    "    Δx_i = syst.Δx_e[(N_x_c+N_u_d):,:] \n",
    "    \n",
    "    i_sd_ref = i_sd_ref_0\n",
    "    i_sq_ref = i_sq_ref_0\n",
    "    v_sq = v_sq_0\n",
    "    v_sd = v_sd_0\n",
    "    if t>20e-3: i_sd_ref = 20\n",
    "    if t>30e-3: i_sq_ref = 30\n",
    "    if t>45e-3: v_sd =  163 \n",
    "    if t>45e-3: v_sq = -163\n",
    "    epsilon_d = i_sd - i_sd_ref\n",
    "    epsilon_q = i_sq - i_sq_ref  \n",
    "    \n",
    "    epsilon = np.block([[epsilon_d],[epsilon_q]])\n",
    "    \n",
    "    Δu_r = -K_c @ Δx_e + np.block([[ (v_sd-v_sd_0)*2/v_dc],[(v_sq-v_sq_0)*2/v_dc]])\n",
    "    \n",
    "   \n",
    "    Δx_r = W@Δu_r\n",
    "    Δx_i += Δt*epsilon\n",
    "    \n",
    "    Δx_e = np.block([[Δx_d],[Δx_r],[Δx_i]])\n",
    "    \n",
    "    syst.Δx_e  =  Δx_e\n",
    "    \n",
    "    x_r = Δx_r + x_r_0 \n",
    "    \n",
    "    eta_dq = x_r\n",
    "    eta_d = eta_dq[0,0]  \n",
    "    eta_q = eta_dq[1,0]   \n",
    "\n",
    "    \n",
    "    events=[{'t_end':t,'eta_d_g01':eta_d,'eta_q_g01':eta_q,'v_1_Q':v_sq,'v_1_D':v_sd}]\n",
    "    syst.run(events)\n",
    "\n",
    "#    eta_d_prev = eta_d\n",
    "#    eta_q_prev = eta_q\n",
    "    it += 1\n",
    "    \n",
    "syst.post();\n",
    "\n"
   ]
  },
  {
   "cell_type": "code",
   "execution_count": 84,
   "metadata": {},
   "outputs": [
    {
     "data": {
      "application/vnd.jupyter.widget-view+json": {
       "model_id": "",
       "version_major": 2,
       "version_minor": 0
      },
      "text/plain": [
       "Canvas(toolbar=Toolbar(toolitems=[('Home', 'Reset original view', 'home', 'home'), ('Back', 'Back to previous …"
      ]
     },
     "metadata": {},
     "output_type": "display_data"
    },
    {
     "data": {
      "text/plain": [
       "<mpldatacursor.datacursor.DataCursor at 0x28035551488>"
      ]
     },
     "execution_count": 84,
     "metadata": {},
     "output_type": "execute_result"
    }
   ],
   "source": [
    "plt.close('all')\n",
    "fig, axes = plt.subplots(nrows=2, ncols=1, figsize=(7, 7),sharex=True)\n",
    "\n",
    "lines = axes[0].plot(syst.T,syst.get_values('i_sd_g01'),label='i_sd_g01')\n",
    "lines = axes[0].plot(syst.T,syst.get_values('i_sq_g01'),label='i_sq_g01')\n",
    "\n",
    "axes[1].plot(syst.T,syst.get_values('eta_D_g01'),label='eta_D_g01')\n",
    "axes[1].plot(syst.T,syst.get_values('eta_Q_g01'),label='eta_Q_g01')\n",
    "for ax in axes:\n",
    "    ax.grid()\n",
    "    ax.legend()\n",
    "ax.set_xlabel('Time (s)')\n",
    "\n",
    "datacursor(lines, display='multiple')"
   ]
  },
  {
   "cell_type": "code",
   "execution_count": 85,
   "metadata": {},
   "outputs": [],
   "source": [
    "import sympy as sym\n",
    "\n",
    "x_d_1,x_d_2,x_d_3,x_d_4,x_d_5,x_d_6 = sym.symbols('Dx_d_1,Dx_d_2,Dx_d_3,Dx_d_4,Dx_d_5,Dx_d_6')\n",
    "x_r_1,x_r_2 = sym.symbols('Dx_r_1,Dx_r_2')\n",
    "x_i_1,x_i_2 = sym.symbols('Dx_i_1,Dx_i_2')\n",
    "\n",
    "x_e = sym.Matrix([x_d_1,x_d_2,x_d_3,x_d_4,x_d_5,x_d_6,x_r_1,x_r_2,x_i_1,x_i_2])\n",
    "u_r = -K_c * x_e"
   ]
  },
  {
   "cell_type": "code",
   "execution_count": 86,
   "metadata": {},
   "outputs": [
    {
     "name": "stdout",
     "output_type": "stream",
     "text": [
      "Du_r_1 = -0.013355528*Dx_d_1 - 0.000487326*Dx_d_2 + 0.0021855202*Dx_d_3 + 8.7205357e-5*Dx_d_4 + 0.0071938875*Dx_d_5 + 0.00034010605*Dx_d_6 - 2.2549315*Dx_i_1 + 0.65433868*Dx_i_2 - 0.36460717*Dx_r_1 - 0.0049366387*Dx_r_2;\n",
      "Du_r_2 = 0.000487326*Dx_d_1 - 0.013355528*Dx_d_2 - 8.7205357e-5*Dx_d_3 + 0.0021855202*Dx_d_4 - 0.00034010605*Dx_d_5 + 0.0071938875*Dx_d_6 - 0.65433868*Dx_i_1 - 2.2549315*Dx_i_2 + 0.0049366387*Dx_r_1 - 0.36460717*Dx_r_2;\n"
     ]
    }
   ],
   "source": [
    "u_r_d = str(sym.N(u_r[0],8))\n",
    "u_r_q = str(sym.N(u_r[1],8))\n",
    "\n",
    "print(f'Du_r_1 = {u_r_d};')\n",
    "print(f'Du_r_2 = {u_r_q};')"
   ]
  },
  {
   "cell_type": "code",
   "execution_count": 66,
   "metadata": {},
   "outputs": [
    {
     "data": {
      "text/latex": [
       "$\\displaystyle \\left[\\begin{matrix}0.999876632481661 Du_{r 1} - 0.0157073173118207 Du_{r 2}\\\\0.0157073173118207 Du_{r 1} + 0.999876632481661 Du_{r 2}\\end{matrix}\\right]$"
      ],
      "text/plain": [
       "Matrix([\n",
       "[0.999876632481661*Du_r_1 - 0.0157073173118207*Du_r_2],\n",
       "[0.0157073173118207*Du_r_1 + 0.999876632481661*Du_r_2]])"
      ]
     },
     "execution_count": 66,
     "metadata": {},
     "output_type": "execute_result"
    }
   ],
   "source": [
    "Du_r_1,Du_r_2 = sym.symbols('Du_r_1,Du_r_2')\n",
    "Du_r = sym.Matrix([Du_r_1,Du_r_2 ])\n",
    "\n",
    "Dx_r = W@Du_r\n",
    "\n",
    "Dx_r_1 = str(sym.N(Dx_r[0],8))\n",
    "Dx_r_1 = str(sym.N(Dx_r[1],8))\n",
    "\n",
    "print(f'Dx_r_1 = {u_r_d};')\n",
    "print(f'Dx_r_2 = {u_r_q};')"
   ]
  },
  {
   "cell_type": "code",
   "execution_count": 87,
   "metadata": {},
   "outputs": [
    {
     "name": "stdout",
     "output_type": "stream",
     "text": [
      "0.023914820787791*Dx_d_1 + 0.00124312201525765*Dx_d_2 + 0.00210868343440974*Dx_d_3 + 9.76673467759675e-5*Dx_d_4 - 0.0363072666129747*Dx_d_5 - 0.0013695946212219*Dx_d_6 - 10.022203616505*Dx_i_1 + 1.45742192739155*Dx_i_2 - 0.327372378893965*Dx_r_1 - 0.000502327486946109*Dx_r_2\n"
     ]
    }
   ],
   "source": [
    "print(u_r[0])"
   ]
  },
  {
   "cell_type": "code",
   "execution_count": 88,
   "metadata": {},
   "outputs": [
    {
     "name": "stdout",
     "output_type": "stream",
     "text": [
      "-0.00124312201525856*Dx_d_1 + 0.0239148207877911*Dx_d_2 - 9.76673467759516e-5*Dx_d_3 + 0.00210868343440976*Dx_d_4 + 0.00136959462122251*Dx_d_5 - 0.0363072666129741*Dx_d_6 - 1.45742192739181*Dx_i_1 - 10.0222036165041*Dx_i_2 + 0.000502327486927267*Dx_r_1 - 0.327372378893964*Dx_r_2\n"
     ]
    }
   ],
   "source": [
    "print(u_r[1])"
   ]
  },
  {
   "cell_type": "code",
   "execution_count": 63,
   "metadata": {},
   "outputs": [
    {
     "data": {
      "text/plain": [
       "4e-06"
      ]
     },
     "execution_count": 63,
     "metadata": {},
     "output_type": "execute_result"
    }
   ],
   "source": [
    "syst.get_value('C_m_g01')"
   ]
  },
  {
   "cell_type": "code",
   "execution_count": 32,
   "metadata": {},
   "outputs": [
    {
     "data": {
      "application/vnd.jupyter.widget-view+json": {
       "model_id": "",
       "version_major": 2,
       "version_minor": 0
      },
      "text/plain": [
       "Canvas(toolbar=Toolbar(toolitems=[('Home', 'Reset original view', 'home', 'home'), ('Back', 'Back to previous …"
      ]
     },
     "metadata": {},
     "output_type": "display_data"
    }
   ],
   "source": [
    "from mpldatacursor import datacursor\n",
    "\n",
    "data = np.outer(range(10), range(1, 5))\n",
    "\n",
    "fig, ax = plt.subplots()\n",
    "lines = ax.plot(data)\n",
    "ax.set_title('Click somewhere on a line')\n",
    "\n",
    "#datacursor(lines)\n",
    "datacursor(display='multiple', draggable=True)\n",
    "plt.show()"
   ]
  },
  {
   "cell_type": "code",
   "execution_count": 30,
   "metadata": {},
   "outputs": [],
   "source": [
    "import matplotlib.pyplot as plt\n",
    "import numpy as np\n",
    "from mpldatacursor import datacursor\n",
    "\n",
    "data = np.outer(range(10), range(1, 5))\n",
    "\n",
    "plt.plot(data)\n",
    "plt.title('Click somewhere on a line')\n",
    "\n",
    "datacursor()\n",
    "\n",
    "plt.show()"
   ]
  },
  {
   "cell_type": "code",
   "execution_count": null,
   "metadata": {},
   "outputs": [],
   "source": []
  },
  {
   "cell_type": "code",
   "execution_count": null,
   "metadata": {},
   "outputs": [],
   "source": [
    "Ts_ctr = 1/200;\n",
    "Ts_med = 1/20000;\n",
    "\n",
    "wN_ctr = 2*pi*1/Ts_ctr/2;\n",
    "wN_med = 2*pi*1/Ts_med/2;\n",
    "\n",
    "[nA, Wn] = buttord(wN_ctr, wN_med, -20*log10(0.7), -20*log10(0.1), 's');\n",
    "[NUM_aaA,DEN_aaA] = butter(nA,Wn,'low','s');"
   ]
  },
  {
   "cell_type": "code",
   "execution_count": 88,
   "metadata": {},
   "outputs": [],
   "source": [
    "from scipy import signal\n",
    "import matplotlib.pyplot as plt\n",
    "\n",
    "\n",
    "\n",
    "\n"
   ]
  },
  {
   "cell_type": "code",
   "execution_count": 97,
   "metadata": {},
   "outputs": [
    {
     "data": {
      "application/vnd.jupyter.widget-view+json": {
       "model_id": "e5d6a86052304ffa8755ca301e59d466",
       "version_major": 2,
       "version_minor": 0
      },
      "text/plain": [
       "Canvas(toolbar=Toolbar(toolitems=[('Home', 'Reset original view', 'home', 'home'), ('Back', 'Back to previous …"
      ]
     },
     "metadata": {},
     "output_type": "display_data"
    },
    {
     "data": {
      "text/plain": [
       "(0, 20000.0)"
      ]
     },
     "execution_count": 97,
     "metadata": {},
     "output_type": "execute_result"
    }
   ],
   "source": [
    "plt.close('all')\n",
    "fig, axes = plt.subplots(nrows=1, ncols=1, figsize=(7, 7),sharex=True)\n",
    "\n",
    "N, Wn = signal.buttord([20, 50], [14, 60], 3, 40, True)\n",
    "b, a = signal.butter(N, Wn, 'band', True)\n",
    "w, h = signal.freqs(b, a, np.logspace(1, 2, 500))\n",
    "axes.plot(w/2/np.pi, 20 * np.log10(abs(h)))\n",
    "plt.title('Butterworth bandpass filter fit to constraints')\n",
    "axes.set_xlabel('Frequency [radians / second]')\n",
    "axes.set_ylabel('Amplitude [dB]')\n",
    "axes.grid(which='both', axis='both')\n",
    "axes.fill([1,  14,  14,   1], [-40, -40, 99, 99], '0.9', lw=0) # stop\n",
    "axes.fill([20, 20,  50,  50], [-99, -3, -3, -99], '0.9', lw=0) # pass\n",
    "axes.fill([60, 60, 1e9, 1e9], [99, -40, -40, 99], '0.9', lw=0) # stop\n",
    "axes.set_xlim([0, 20e3])\n"
   ]
  },
  {
   "cell_type": "code",
   "execution_count": 98,
   "metadata": {},
   "outputs": [
    {
     "data": {
      "text/plain": [
       "array([1.59811317e+19, 0.00000000e+00, 0.00000000e+00, 0.00000000e+00,\n",
       "       0.00000000e+00, 0.00000000e+00, 0.00000000e+00, 0.00000000e+00,\n",
       "       0.00000000e+00, 0.00000000e+00, 0.00000000e+00, 0.00000000e+00,\n",
       "       0.00000000e+00, 0.00000000e+00])"
      ]
     },
     "execution_count": 98,
     "metadata": {},
     "output_type": "execute_result"
    }
   ],
   "source": [
    "b"
   ]
  },
  {
   "cell_type": "code",
   "execution_count": 99,
   "metadata": {},
   "outputs": [
    {
     "data": {
      "text/plain": [
       "array([1.00000000e+00, 2.48932358e+02, 4.39836594e+04, 5.53273916e+06,\n",
       "       5.72496657e+08, 4.90725288e+10, 3.64084365e+12, 2.34845893e+14,\n",
       "       1.34274060e+16, 6.81861593e+17, 3.10677599e+19, 1.27024773e+21,\n",
       "       4.68749241e+22, 1.55890260e+24, 4.68749241e+25, 1.27024773e+27,\n",
       "       3.10677599e+28, 6.81861593e+29, 1.34274060e+31, 2.34845893e+32,\n",
       "       3.64084365e+33, 4.90725288e+34, 5.72496657e+35, 5.53273916e+36,\n",
       "       4.39836594e+37, 2.48932358e+38, 1.00000000e+39])"
      ]
     },
     "execution_count": 99,
     "metadata": {},
     "output_type": "execute_result"
    }
   ],
   "source": [
    "a"
   ]
  },
  {
   "cell_type": "code",
   "execution_count": null,
   "metadata": {},
   "outputs": [],
   "source": []
  }
 ],
 "metadata": {
  "kernelspec": {
   "display_name": "Python 3",
   "language": "python",
   "name": "python3"
  },
  "language_info": {
   "codemirror_mode": {
    "name": "ipython",
    "version": 3
   },
   "file_extension": ".py",
   "mimetype": "text/x-python",
   "name": "python",
   "nbconvert_exporter": "python",
   "pygments_lexer": "ipython3",
   "version": "3.8.10"
  }
 },
 "nbformat": 4,
 "nbformat_minor": 4
}
