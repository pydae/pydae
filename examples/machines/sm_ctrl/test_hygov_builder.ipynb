{
 "cells": [
  {
   "cell_type": "code",
   "execution_count": 1,
   "metadata": {},
   "outputs": [],
   "source": [
    "import numpy as np\n",
    "import sympy as sym\n",
    "import pydae.build as db\n",
    "from pydae.grid_b_pu import bal_pu"
   ]
  },
  {
   "cell_type": "code",
   "execution_count": 2,
   "metadata": {
    "scrolled": true
   },
   "outputs": [
    {
     "name": "stdout",
     "output_type": "stream",
     "text": [
      "AVR added\n"
     ]
    }
   ],
   "source": [
    "file_path = 'test_hygov.json'\n",
    "grid = bal_pu(file_path)"
   ]
  },
  {
   "cell_type": "code",
   "execution_count": 3,
   "metadata": {},
   "outputs": [],
   "source": [
    "params_dict = grid['params']\n",
    "\n",
    "g_list = grid['g']\n",
    "h_dict = grid['h']\n",
    "f_list = grid['f']\n",
    "x_list = grid['x']\n",
    "\n",
    "sys = {'name':'test_hygov',\n",
    "       'params_dict':params_dict,\n",
    "       'f_list':f_list,\n",
    "       'g_list':g_list,\n",
    "       'x_list':x_list,\n",
    "       'y_ini_list':grid['y'],\n",
    "       'y_run_list':grid['y'],\n",
    "       'u_run_dict':grid['u'],\n",
    "       'u_ini_dict':grid['u'],\n",
    "       'h_dict':h_dict}\n",
    "\n",
    "sys = db.system(sys)\n",
    "db.sys2num(sys)"
   ]
  },
  {
   "cell_type": "code",
   "execution_count": 4,
   "metadata": {},
   "outputs": [
    {
     "data": {
      "text/plain": [
       "[-P_B1/S_base + V_B1**2*g_B1_B2 + V_B1*V_B2*(-b_B1_B2*sin(theta_B1 - theta_B2) - g_B1_B2*cos(theta_B1 - theta_B2)) - S_n_B1*p_g_B1_1/S_base,\n",
       " -Q_B1/S_base + V_B1**2*(-b_B1_B2 - bs_B1_B2/2) + V_B1*V_B2*(b_B1_B2*cos(theta_B1 - theta_B2) - g_B1_B2*sin(theta_B1 - theta_B2)) - S_n_B1*q_g_B1_1/S_base,\n",
       " -P_B2/S_base + V_B1*V_B2*(b_B1_B2*sin(theta_B1 - theta_B2) - g_B1_B2*cos(theta_B1 - theta_B2)) + V_B2**2*g_B1_B2,\n",
       " -Q_B2/S_base + V_B1*V_B2*(b_B1_B2*cos(theta_B1 - theta_B2) + g_B1_B2*sin(theta_B1 - theta_B2)) + V_B2**2*(-b_B1_B2 - bs_B1_B2/2),\n",
       " R_a_B1*i_q_B1 + V_B1*cos(delta_B1 - theta_B1) + X1d_B1*i_d_B1 - e1q_B1,\n",
       " R_a_B1*i_d_B1 + V_B1*sin(delta_B1 - theta_B1) - X1q_B1*i_q_B1 - e1d_B1,\n",
       " V_B1*i_d_B1*sin(delta_B1 - theta_B1) + V_B1*i_q_B1*cos(delta_B1 - theta_B1) - p_g_B1_1,\n",
       " V_B1*i_d_B1*cos(delta_B1 - theta_B1) - V_B1*i_q_B1*sin(delta_B1 - theta_B1) - q_g_B1_1,\n",
       " K_a_B1*(-v_c_B1 + v_pss_B1 + v_ref_B1) + K_ai_B1*xi_v_B1 - v_f_B1,\n",
       " K_i_gov_B1*xi_omega_B1 + K_p_gov_B1*(-omega_B1 + omega_ref_B1) - servo_u_B1,\n",
       " -gate_B1 + pos_B1,\n",
       " flow_B1/(gate_B1 + 1.0e-8) - head_B1,\n",
       " A_t_B1*head_B1*(-Flow_nl_B1 + flow_B1) - p_m_B1,\n",
       " omega_B1 - omega_coi,\n",
       " K_sec_B1*xi_freq - p_r_B1]"
      ]
     },
     "execution_count": 4,
     "metadata": {},
     "output_type": "execute_result"
    }
   ],
   "source": [
    "g_list"
   ]
  },
  {
   "cell_type": "markdown",
   "metadata": {},
   "source": [
    "<img src=https://ars.els-cdn.com/content/image/1-s2.0-S1364032117308821-gr2_lrg.jpg>"
   ]
  },
  {
   "cell_type": "code",
   "execution_count": 8,
   "metadata": {},
   "outputs": [],
   "source": [
    "params_dict = {'Droop':0.05,'A_t':1,'T_w':2.5,'D_t':1, \n",
    "               'K_p_gov':1.0, 'K_i_gov':0.1,\n",
    "               'K_servo':1.0, 'T_servo':1.0,\n",
    "               'V_gate_max':0.5, 'Gate_max':1.0,\n",
    "                'H':5.0}  # parameters with default values\n",
    "\n",
    "\n",
    "u_ini_dict = {'omega_ref':1.0, 'q_nl':0.0}  # input for the initialization problem\n",
    "u_run_dict = {'omega_ref':1.0, 'q_nl':0.0}  # input for the running problem, its value is updated \n",
    "\n",
    "\n",
    "x_list = ['xi_omega','servo','pos','q','omega']  # dynamic states\n",
    "y_ini_list = ['servo_u','gate','head','p_m']          # algebraic states for the initialization problem\n",
    "y_run_list = ['servo_u','gate','head','p_m']        # algebraic for the running problem\n",
    "\n",
    "sys_vars = {'params':params_dict,\n",
    "            'u_list':u_run_dict,\n",
    "            'x_list':x_list,\n",
    "            'y_list':y_run_list}\n",
    "\n",
    "exec(db.sym_gen_str())  # exec to generate the required symbolic varables and constants"
   ]
  },
  {
   "cell_type": "markdown",
   "metadata": {},
   "source": [
    "<img src=\"htgsys2.png\">\n",
    "<img src=\"htgsys3.png\">"
   ]
  },
  {
   "cell_type": "code",
   "execution_count": null,
   "metadata": {},
   "outputs": [],
   "source": [
    "https://www.sciencedirect.com/science/article/pii/S1364032117308821"
   ]
  },
  {
   "cell_type": "code",
   "execution_count": null,
   "metadata": {},
   "outputs": [],
   "source": []
  },
  {
   "cell_type": "code",
   "execution_count": 9,
   "metadata": {},
   "outputs": [],
   "source": [
    "epsilon_omega = omega_ref - omega - Droop*gate\n",
    "dxi_omega = epsilon_omega\n",
    "g_servo_u = -servo_u + K_p_gov*epsilon_omega + K_i_gov*xi_omega\n",
    "dservo = (K_servo*(servo_u-gate) - servo)/T_servo\n",
    "dpos = sym.Piecewise((V_gate_max,servo>V_gate_max),(-V_gate_max,servo<-V_gate_max),(servo,True))\n",
    "g_gate = -gate + sym.Piecewise((Gate_max,pos>Gate_max),(1e-6,pos<1e-6),(pos,True))\n",
    "dq =  (1-head)/T_w\n",
    "g_head = -head + (q/(gate+1e-6))**2 \n",
    "g_p_m = -p_m + A_t*head*(q - q_nl)\n",
    "domega = 1/(2*H)*(p_m - 0.1*omega)"
   ]
  },
  {
   "cell_type": "code",
   "execution_count": null,
   "metadata": {},
   "outputs": [],
   "source": [
    "dx = 1/T*(u - x)\n",
    "dx2 =1/T*(dx*A*T - x2)\n"
   ]
  },
  {
   "cell_type": "code",
   "execution_count": null,
   "metadata": {},
   "outputs": [],
   "source": []
  }
 ],
 "metadata": {
  "kernelspec": {
   "display_name": "Python 3",
   "language": "python",
   "name": "python3"
  },
  "language_info": {
   "codemirror_mode": {
    "name": "ipython",
    "version": 3
   },
   "file_extension": ".py",
   "mimetype": "text/x-python",
   "name": "python",
   "nbconvert_exporter": "python",
   "pygments_lexer": "ipython3",
   "version": "3.8.5"
  }
 },
 "nbformat": 4,
 "nbformat_minor": 4
}
