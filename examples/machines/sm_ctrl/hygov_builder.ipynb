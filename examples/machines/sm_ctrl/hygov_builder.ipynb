{
 "cells": [
  {
   "cell_type": "code",
   "execution_count": 1,
   "metadata": {},
   "outputs": [],
   "source": [
    "import numpy as np\n",
    "import sympy as sym\n",
    "import pydae.build as db"
   ]
  },
  {
   "cell_type": "markdown",
   "metadata": {},
   "source": [
    "<img src=https://ars.els-cdn.com/content/image/1-s2.0-S1364032117308821-gr2_lrg.jpg>"
   ]
  },
  {
   "cell_type": "code",
   "execution_count": 8,
   "metadata": {},
   "outputs": [],
   "source": [
    "params_dict = {'Droop':0.05,'A_t':1,'T_w':2.5,'D_t':1, \n",
    "               'K_p_gov':1.0, 'K_i_gov':0.1,\n",
    "               'K_servo':1.0, 'T_servo':1.0,\n",
    "               'V_gate_max':0.5, 'Gate_max':1.0,\n",
    "                'H':5.0}  # parameters with default values\n",
    "\n",
    "\n",
    "u_ini_dict = {'omega_ref':1.0, 'q_nl':0.0}  # input for the initialization problem\n",
    "u_run_dict = {'omega_ref':1.0, 'q_nl':0.0}  # input for the running problem, its value is updated \n",
    "\n",
    "\n",
    "x_list = ['xi_omega','servo','pos','q','omega']  # dynamic states\n",
    "y_ini_list = ['servo_u','gate','head','p_m']          # algebraic states for the initialization problem\n",
    "y_run_list = ['servo_u','gate','head','p_m']        # algebraic for the running problem\n",
    "\n",
    "sys_vars = {'params':params_dict,\n",
    "            'u_list':u_run_dict,\n",
    "            'x_list':x_list,\n",
    "            'y_list':y_run_list}\n",
    "\n",
    "exec(db.sym_gen_str())  # exec to generate the required symbolic varables and constants"
   ]
  },
  {
   "cell_type": "markdown",
   "metadata": {},
   "source": [
    "<img src=\"htgsys2.png\">\n",
    "<img src=\"htgsys3.png\">"
   ]
  },
  {
   "cell_type": "markdown",
   "metadata": {},
   "source": [
    "<img src=hygov_nl_1.jpg>"
   ]
  },
  {
   "cell_type": "markdown",
   "metadata": {},
   "source": [
    "<img src: hygov_nl_1.jpg>\n",
    "\n",
    "\n",
    "\n",
    "\n",
    "\n",
    "\n"
   ]
  },
  {
   "cell_type": "code",
   "execution_count": 10,
   "metadata": {},
   "outputs": [],
   "source": [
    "sys = {'name':'hygov',\n",
    "       'params_dict':params_dict,\n",
    "       'f_list':[dxi_omega,dservo,dpos,dq,domega],\n",
    "       'g_list':[g_servo_u,g_gate,g_head,g_p_m],\n",
    "       'x_list':[ xi_omega, servo, pos, q, omega],\n",
    "       'y_ini_list':y_ini_list,\n",
    "       'y_run_list':y_run_list,\n",
    "       'u_run_dict':u_run_dict,\n",
    "       'u_ini_dict':u_ini_dict,\n",
    "       'h_dict':{'gate':gate}}\n",
    "\n",
    "sys = db.system(sys)\n",
    "db.sys2num(sys)"
   ]
  },
  {
   "cell_type": "code",
   "execution_count": null,
   "metadata": {},
   "outputs": [],
   "source": []
  },
  {
   "cell_type": "code",
   "execution_count": null,
   "metadata": {},
   "outputs": [],
   "source": []
  }
 ],
 "metadata": {
  "kernelspec": {
   "display_name": "Python 3",
   "language": "python",
   "name": "python3"
  },
  "language_info": {
   "codemirror_mode": {
    "name": "ipython",
    "version": 3
   },
   "file_extension": ".py",
   "mimetype": "text/x-python",
   "name": "python",
   "nbconvert_exporter": "python",
   "pygments_lexer": "ipython3",
   "version": "3.8.5"
  }
 },
 "nbformat": 4,
 "nbformat_minor": 4
}
