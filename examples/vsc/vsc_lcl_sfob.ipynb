{
 "cells": [
  {
   "cell_type": "code",
   "execution_count": 294,
   "metadata": {},
   "outputs": [],
   "source": [
    "%matplotlib widget"
   ]
  },
  {
   "cell_type": "code",
   "execution_count": 295,
   "metadata": {},
   "outputs": [],
   "source": [
    "import numpy as np\n",
    "import matplotlib.pyplot as plt\n",
    "import pydae.ssa as ssa\n",
    "import scipy.signal as sctrl"
   ]
  },
  {
   "cell_type": "code",
   "execution_count": 296,
   "metadata": {},
   "outputs": [],
   "source": [
    "from vsc_lcl import vsc_lcl_class "
   ]
  },
  {
   "cell_type": "markdown",
   "metadata": {},
   "source": [
    "## Instantiate system"
   ]
  },
  {
   "cell_type": "code",
   "execution_count": 297,
   "metadata": {},
   "outputs": [],
   "source": [
    "syst = vsc_lcl_class()\n",
    "syst.Dt = 5e-6\n",
    "syst.decimation = 1\n",
    "syst.N_store = 100_000\n",
    "syst.update()"
   ]
  },
  {
   "cell_type": "markdown",
   "metadata": {},
   "source": [
    "## CTRL1 in state feedback"
   ]
  },
  {
   "cell_type": "code",
   "execution_count": 298,
   "metadata": {},
   "outputs": [],
   "source": [
    "syst = vsc_lcl_class()\n",
    "syst.Dt = 5e-6\n",
    "syst.decimation =1\n",
    "syst.N_store =100_000\n",
    "syst.update()\n",
    "\n",
    "Δt = 50e-6 \n",
    "#x_d_ctrl_list = ['i']   # states to consider in the reduction\n",
    "z_ctrl_list = [ 'i_sd_g01', 'i_sq_g01']     # outputs to consider in the controller\n",
    "u_ctrl_list = ['eta_d_g01','eta_q_g01']     # intputs to consider in the controller\n",
    "z_ctrl_idxs = [syst.outputs_list.index(item) for item in z_ctrl_list]\n",
    "u_ctrl_idxs = [syst.inputs_run_list.index(item) for item in u_ctrl_list]\n",
    "u_pert_list = ['v_sD_g01','v_sQ_g01']     # intputs to consider in the controller\n",
    "u_pert_idxs = [syst.outputs_list.index(item) for item in z_pert_list]\n",
    "\n",
    "syst.Δt = Δt\n",
    "\n",
    "## Calculate equilibirum point\n",
    "syst.initialize([{'G_d_g01':0.0,'eta_d_g01':0.0,'eta_q_g01':-0.8693333,'v_1_Q':-326,'v_1_D':0.0, 'C_m_g01':4e-6}],xy0=1000)\n",
    "ssa.eval_ss(syst)\n",
    "\n",
    "# linear continous plant\n",
    "A_p = syst.A\n",
    "B_p = syst.B\n",
    "C_p = syst.C\n",
    "D_p = syst.D\n",
    "\n",
    "# plant discretization\n",
    "A_d,B_d,C_d,D_d,Dt = sctrl.cont2discrete((A_p,B_p,C_p,D_p),Δt,method='zoh')\n",
    "\n",
    "N_z_d,N_x_d = C_d.shape  # discreticed plant dimensions\n",
    "N_x_d,N_u_d = B_d.shape\n",
    "\n",
    "# convenient matrices\n",
    "O_ux = np.zeros((N_u_d,N_x_d))\n",
    "O_xu = np.zeros((N_x_d,N_u_d))\n",
    "O_uu = np.zeros((N_u_d,N_u_d))\n",
    "I_uu = np.eye(N_u_d)\n",
    "\n",
    "syst.A_d = A_d\n",
    "syst.B_d = B_d\n",
    "\n",
    "\n",
    "# Controller ##################################################################################\n",
    "B_c = B_d[:,u_ctrl_idxs]\n",
    "C_c = C_d[z_ctrl_idxs,:]\n",
    "D_c = D_d[z_ctrl_idxs,:][:,u_ctrl_idxs]\n",
    "\n",
    "N_x_c,N_u_d = B_c.shape\n",
    "N_z_c,N_x_c = C_c.shape\n",
    "\n",
    "\n",
    "O_ux = np.zeros((N_u_d,N_x_d))\n",
    "O_xu = np.zeros((N_x_d,N_u_d))\n",
    "O_uu = np.zeros((N_u_d,N_u_d))\n",
    "I_uu = np.eye(N_u_d)\n",
    "\n",
    "\n",
    "# discretized plant:\n",
    "# Δx_d = A_d*Δx_d + B_d*Δu_d\n",
    "# Δz_c = C_c*Δx_d + D_c*Δu_d\n",
    "\n",
    "# dinamic extension:\n",
    "# Δx_d = A_d*Δx_d + B_d*Δu_d\n",
    "# Δx_i = Δx_i + Δt*(Δz_c-Δz_c_ref) = Δx_i + Δt*C_c*Δx_d - Dt*Δz_c_ref\n",
    "# Δz_c = z_c - z_c_0\n",
    "# Δz_c_ref = z_c_ref - z_c_0\n",
    "# (Δz_c-Δz_c_ref) = z_c - z_c_ref\n",
    "omega_b = 2*np.pi*50\n",
    "\n",
    "W =  np.block([\n",
    "                [   np.cos(omega_b*Δt), -np.sin(omega_b*Δt)],   \n",
    "                [   np.sin(omega_b*Δt),  np.cos(omega_b*Δt)],    \n",
    "               ])\n",
    "W = np.eye(2)\n",
    "A_e = np.block([\n",
    "                [    A_d,  B_c@W, O_xu],    # Δx_d\n",
    "                [   O_ux,   O_uu, O_uu],    # Δx_r\n",
    "                [ Δt*C_c, Δt*D_c, I_uu],    # Δx_i    \n",
    "               ])\n",
    "\n",
    "B_e = np.block([\n",
    "                [   O_xu],\n",
    "                [   I_uu],\n",
    "                [   O_uu],    \n",
    "               ])\n",
    "\n",
    "A_ctrl = A_e[N_x_d:,N_x_d:]\n",
    "B_ctrl = B_e[N_x_d:]\n",
    "\n",
    "# weighting matrices\n",
    "Q_c = np.eye(A_e.shape[0])\n",
    "Q_c[-1,-1] = 1e6\n",
    "Q_c[-2,-2] = 1e6\n",
    "\n",
    "R_c = np.eye(B_c.shape[1])*100000\n",
    "\n",
    "K_c,S_c,E_c = ssa.dlqr(A_e,B_e,Q_c,R_c)\n",
    "\n",
    "E_cont = np.log(E_c)/Δt\n",
    "\n",
    "syst.A_ctrl = A_ctrl\n",
    "syst.B_ctrl = B_ctrl\n",
    "syst.K_c = K_c\n",
    "syst.N_x_d = N_x_d  # number of plant states\n",
    "syst.N_u_d = N_u_d  # number of plant inputs\n",
    "syst.N_z_c = N_z_c  # number of plant outputs considered for the controller"
   ]
  },
  {
   "cell_type": "markdown",
   "metadata": {},
   "source": [
    "## Observer"
   ]
  },
  {
   "cell_type": "code",
   "execution_count": 349,
   "metadata": {},
   "outputs": [
    {
     "name": "stdout",
     "output_type": "stream",
     "text": [
      "damp_ctrl [-0.48951411 -0.48951411 -0.51666281 -0.51666281 -0.99964555 -0.99964555\n",
      " -0.9999404  -0.9999404  -1.          1.        ]\n",
      "damp_obs [-0.99987663 -0.99987663 -0.11391326 -0.11391326 -0.08265076 -0.08265076]\n"
     ]
    }
   ],
   "source": [
    "z_obs_list =  ['v_md_g01', 'v_mq_g01','i_sd_g01', 'i_sq_g01']       # outputs to consider in the observer\n",
    "z_obs_idxs  = [syst.outputs_list.index(item) for item in z_obs_list]\n",
    "\n",
    "# discretized plant:\n",
    "# Dx_d = A_d*Dx_d + B_d*Du_d\n",
    "# z_o  = C_o*Dx_d + D_o*Du_d\n",
    "\n",
    "# x_o = A_d*x_o + B_d*u_d + L_o*(z_o - C_o*x_o - D_o*Du_d)\n",
    "B_o = B_d[:,u_ctrl_idxs]\n",
    "C_o = C_d[z_obs_idxs,:]\n",
    "D_o = D_d[z_obs_idxs,:][:,u_ctrl_idxs]\n",
    "B_pert = B_d[:,[1,2]]\n",
    "N_z_o = C_o.shape[0]\n",
    "\n",
    "Q_o = np.eye(A_d.shape[0])\n",
    "\n",
    "R_o = np.diag([1]*N_z_o)\n",
    "K_o_T,S_o,E_o = ssa.dlqr(A_d.T,C_o.T,Q_o,R_o)\n",
    "K_o = K_o_T.T\n",
    "\n",
    "syst.K_o = K_o\n",
    "syst.C_o = C_o\n",
    "syst.D_o = D_o\n",
    "\n",
    "syst.z_obs_list = z_obs_list\n",
    "syst.N_z_o = N_z_o\n",
    "syst.x_obs = np.zeros((N_x_d,1))\n",
    "\n",
    "print('damp_ctrl',-E_c.real/np.abs(E_c))\n",
    "print('damp_obs',-E_o.real/np.abs(E_o))"
   ]
  },
  {
   "cell_type": "markdown",
   "metadata": {},
   "source": [
    "## Performance assessment"
   ]
  },
  {
   "cell_type": "code",
   "execution_count": 350,
   "metadata": {},
   "outputs": [],
   "source": [
    "syst.Dt = 5e-6\n",
    "syst.decimation =1\n",
    "syst.N_store =100_000\n",
    "syst.update()\n",
    "times = np.arange(0.0,0.1,Δt)\n",
    "\n",
    "syst.initialize([{'G_d_g01':0.0,'eta_d_g01':0.0,'eta_q_g01':-0.8693333,'v_1_Q':-326,'v_1_D':0.0, 'C_m_g01':4e-6}],xy0=1000)\n",
    "ssa.eval_A(syst)\n",
    "i_sd = syst.get_value('i_sd_g01')\n",
    "i_sq = syst.get_value('i_sq_g01')  \n",
    "v_sd = syst.get_value('v_sd_g01')\n",
    "v_sq = syst.get_value('v_sq_g01')\n",
    "i_td = syst.get_value('i_td_g01')\n",
    "i_tq = syst.get_value('i_tq_g01') \n",
    "v_md = syst.get_value('v_md_g01')\n",
    "v_mq = syst.get_value('v_mq_g01') \n",
    "v_dc = syst.get_value('v_dc_g01')\n",
    "eta_d = syst.get_value('eta_d_g01')\n",
    "eta_q = syst.get_value('eta_q_g01')\n",
    "i_sd_ref_0 = i_sd\n",
    "i_sq_ref_0 = i_sq\n",
    "v_sq_0 = v_sq\n",
    "v_sd_0 = v_sd\n",
    "x_d_0 = np.array([i_td,i_tq,v_md,v_mq,i_sd,i_sq]).reshape(6,1)\n",
    "u_d_0 = np.array([eta_d,eta_q]).reshape(2,1)\n",
    "x_r_0 = u_d_0\n",
    "syst.Δx_e = np.zeros((10,1))\n",
    "\n",
    "# outputs for observer         \n",
    "z_obs_values_list = []\n",
    "for item in syst.z_obs_list:\n",
    "     z_obs_values_list += [syst.get_value(item)]\n",
    "z_o_0 = np.array(z_obs_values_list).reshape(N_z_o,1)\n",
    "syst.Δx_o = np.zeros((6,1))    \n",
    "ΔX_o = np.zeros((len(times),6))\n",
    "\n",
    "it = 0\n",
    "for t in times:\n",
    "    \n",
    "    Δx_e = syst.Δx_e\n",
    "    Δx_o = syst.Δx_o\n",
    "    \n",
    "    # measurements\n",
    "    i_sd = syst.get_value('i_sd_g01')\n",
    "    i_sq = syst.get_value('i_sq_g01')  \n",
    "    v_sd = syst.get_value('v_sd_g01')\n",
    "    v_sq = syst.get_value('v_sq_g01')\n",
    "    i_td = syst.get_value('i_td_g01')\n",
    "    i_tq = syst.get_value('i_tq_g01') \n",
    "    v_md = syst.get_value('v_md_g01')\n",
    "    v_mq = syst.get_value('v_mq_g01') \n",
    "    v_dc = syst.get_value('v_dc_g01')\n",
    "\n",
    "    x_d = np.array([i_td,i_tq,v_md,v_mq,i_sd,i_sq]).reshape(6,1)\n",
    "    \n",
    "    Δx_d = x_d - x_d_0 \n",
    "    Δx_d = Δx_o\n",
    "    Δx_r = syst.Δx_e[N_x_c:-N_u_d,:]   \n",
    "    Δx_i = syst.Δx_e[(N_x_c+N_u_d):,:] \n",
    "\n",
    "    # outputs for observer         \n",
    "    z_obs_values_list = []\n",
    "    for item in syst.z_obs_list:\n",
    "         z_obs_values_list += [syst.get_value(item)]\n",
    "    z_o = np.array(z_obs_values_list).reshape(N_z_o,1)\n",
    "    \n",
    "    Δz_o = z_o - z_o_0\n",
    "    \n",
    "    # observer dynamics\n",
    "    Δu_pert = np.block([[ (v_sd-v_sd_0)],[(v_sq-v_sq_0)]])\n",
    "    \n",
    "    Δx_o = A_d @ Δx_o + B_o@(Δx_r) + B_pert@Δu_pert  +  K_o @ (Δz_o - C_o @ Δx_o - D_o @ (Δx_r-Δx_pert))\n",
    "    \n",
    "    \n",
    "    i_sd_ref = i_sd_ref_0\n",
    "    i_sq_ref = i_sq_ref_0\n",
    "    v_sq = v_sq_0\n",
    "    v_sd = v_sd_0\n",
    "    if t>20e-3: i_sd_ref = 20\n",
    "    if t>30e-3: i_sq_ref = 30\n",
    "    if t>45e-3: v_sd =  163 \n",
    "    if t>45e-3: v_sq = -163\n",
    "    epsilon_d = i_sd - i_sd_ref\n",
    "    epsilon_q = i_sq - i_sq_ref  \n",
    "    \n",
    "    epsilon = np.block([[epsilon_d],[epsilon_q]])\n",
    "    \n",
    "    Δu_r = -K_c @ Δx_e + np.block([[ (v_sd-v_sd_0)*2/v_dc],[(v_sq-v_sq_0)*2/v_dc]])\n",
    "    \n",
    "   \n",
    "    Δx_r = Δu_r\n",
    "    Δx_i += Δt*epsilon\n",
    "    \n",
    "    Δx_e = np.block([[Δx_d],[Δx_r],[Δx_i]])\n",
    "    \n",
    "    \n",
    "    \n",
    "    x_r = Δx_r + x_r_0 \n",
    "    \n",
    "    eta_dq = x_r\n",
    "    eta_d = eta_dq[0,0]  \n",
    "    eta_q = eta_dq[1,0]   \n",
    "\n",
    "    \n",
    "    events=[{'t_end':t,'eta_d_g01':eta_d,'eta_q_g01':eta_q,'v_1_Q':v_sq,'v_1_D':v_sd}]\n",
    "    syst.run(events)\n",
    "\n",
    "#    eta_d_prev = eta_d\n",
    "#    eta_q_prev = eta_q\n",
    "\n",
    "    syst.Δx_e =  Δx_e\n",
    "    syst.Δx_o =  Δx_o\n",
    "    \n",
    "    ΔX_o[it,:] = Δx_o.T\n",
    "    \n",
    "    it += 1\n",
    "    \n",
    "syst.post();\n",
    "\n"
   ]
  },
  {
   "cell_type": "code",
   "execution_count": 351,
   "metadata": {},
   "outputs": [
    {
     "data": {
      "application/vnd.jupyter.widget-view+json": {
       "model_id": "",
       "version_major": 2,
       "version_minor": 0
      },
      "text/plain": [
       "Canvas(toolbar=Toolbar(toolitems=[('Home', 'Reset original view', 'home', 'home'), ('Back', 'Back to previous …"
      ]
     },
     "metadata": {},
     "output_type": "display_data"
    },
    {
     "data": {
      "text/plain": [
       "Text(0.5, 0, 'Time (s)')"
      ]
     },
     "execution_count": 351,
     "metadata": {},
     "output_type": "execute_result"
    }
   ],
   "source": [
    "plt.close('all')\n",
    "fig, axes = plt.subplots(nrows=2, ncols=1, figsize=(7, 7),sharex=True)\n",
    "\n",
    "lines = axes[0].plot(syst.T,syst.get_values('i_sd_g01'),label='i_sd_g01')\n",
    "lines = axes[0].plot(syst.T,syst.get_values('i_sq_g01'),label='i_sq_g01')\n",
    "\n",
    "axes[1].plot(syst.T,syst.get_values('eta_D_g01'),label='eta_D_g01')\n",
    "axes[1].plot(syst.T,syst.get_values('eta_Q_g01'),label='eta_Q_g01')\n",
    "for ax in axes:\n",
    "    ax.grid()\n",
    "    ax.legend()\n",
    "ax.set_xlabel('Time (s)')\n"
   ]
  },
  {
   "cell_type": "code",
   "execution_count": 352,
   "metadata": {},
   "outputs": [
    {
     "data": {
      "application/vnd.jupyter.widget-view+json": {
       "model_id": "b8935b7fc28b49fa8886e116624abe6d",
       "version_major": 2,
       "version_minor": 0
      },
      "text/plain": [
       "Canvas(toolbar=Toolbar(toolitems=[('Home', 'Reset original view', 'home', 'home'), ('Back', 'Back to previous …"
      ]
     },
     "metadata": {},
     "output_type": "display_data"
    },
    {
     "data": {
      "text/plain": [
       "Text(0.5, 0, 'Time (s)')"
      ]
     },
     "execution_count": 352,
     "metadata": {},
     "output_type": "execute_result"
    }
   ],
   "source": [
    "plt.close('all')\n",
    "fig, axes = plt.subplots(nrows=3, ncols=1, figsize=(7, 7),sharex=True)\n",
    "\n",
    "axes[0].plot(syst.T,syst.get_values('i_td_g01'),label='i_td')\n",
    "axes[0].plot(syst.T,syst.get_values('i_tq_g01'),label='i_tq')\n",
    "axes[0].plot(times,ΔX_o[:,0],label='i_sd est.')\n",
    "axes[0].plot(times,ΔX_o[:,1],label='i_sq est.')\n",
    "\n",
    "axes[1].plot(syst.T,syst.get_values('v_md_g01'),label='v_md')\n",
    "axes[1].plot(syst.T,syst.get_values('v_mq_g01'),label='v_mq')\n",
    "axes[1].plot(times,ΔX_o[:,2]+syst.get_values('v_md_g01')[0],label='v_md est.')\n",
    "axes[1].plot(times,ΔX_o[:,3]+syst.get_values('v_mq_g01')[0],label='v_mq est.')\n",
    "\n",
    "axes[2].plot(syst.T,syst.get_values('i_sd_g01'),label='i_sd')\n",
    "axes[2].plot(syst.T,syst.get_values('i_sq_g01'),label='i_sq')\n",
    "axes[2].plot(times,ΔX_o[:,4]+syst.get_values('i_sd_g01')[0],label='i_sd est.')\n",
    "axes[2].plot(times,ΔX_o[:,5]+syst.get_values('i_sq_g01')[0],label='i_sq est.')\n",
    "\n",
    "\n",
    "for ax in axes:\n",
    "    ax.grid()\n",
    "    ax.legend()\n",
    "ax.set_xlabel('Time (s)')\n"
   ]
  },
  {
   "cell_type": "markdown",
   "metadata": {},
   "source": [
    "## Simulink"
   ]
  },
  {
   "cell_type": "code",
   "execution_count": 353,
   "metadata": {},
   "outputs": [
    {
     "name": "stdout",
     "output_type": "stream",
     "text": [
      "Du_r_1 = -0.013361535*Dx_d_1 - 0.00027748637*Dx_d_2 + 0.0021866204*Dx_d_3 + 5.2865939e-5*Dx_d_4 + 0.0071983421*Dx_d_5 + 0.00022706741*Dx_d_6 - 2.2443754*Dx_i_1 + 0.68967688*Dx_i_2 - 0.36460717*Dx_r_1 - 0.0049366387*Dx_r_2;\n",
      "Du_r_2 = 0.00027748637*Dx_d_1 - 0.013361535*Dx_d_2 - 5.2865939e-5*Dx_d_3 + 0.0021866204*Dx_d_4 - 0.00022706741*Dx_d_5 + 0.0071983421*Dx_d_6 - 0.68967688*Dx_i_1 - 2.2443754*Dx_i_2 + 0.0049366387*Dx_r_1 - 0.36460717*Dx_r_2;\n",
      "\n",
      "Warning: Control output is eta_dq!!\n"
     ]
    }
   ],
   "source": [
    "import sympy as sym\n",
    "\n",
    "x_d_1,x_d_2,x_d_3,x_d_4,x_d_5,x_d_6 = sym.symbols('Dx_d_1,Dx_d_2,Dx_d_3,Dx_d_4,Dx_d_5,Dx_d_6')\n",
    "x_r_1,x_r_2 = sym.symbols('Dx_r_1,Dx_r_2')\n",
    "x_i_1,x_i_2 = sym.symbols('Dx_i_1,Dx_i_2')\n",
    "\n",
    "x_e = sym.Matrix([x_d_1,x_d_2,x_d_3,x_d_4,x_d_5,x_d_6,x_r_1,x_r_2,x_i_1,x_i_2])\n",
    "u_r = -K_c * x_e\n",
    "\n",
    "u_r_d = str(sym.N(u_r[0],8))\n",
    "u_r_q = str(sym.N(u_r[1],8))\n",
    "\n",
    "print(f'Du_r_1 = {u_r_d};')\n",
    "print(f'Du_r_2 = {u_r_q};')\n",
    "print('\\nWarning: Control output is eta_dq!!')"
   ]
  },
  {
   "cell_type": "code",
   "execution_count": 359,
   "metadata": {},
   "outputs": [
    {
     "name": "stdout",
     "output_type": "stream",
     "text": [
      "xD[4] = 13.7996619184135*Dx_r_1 + 0.103767816974477*Dx_r_2 + 0.290189894236834*i_sd - 0.290189894236834*i_sd_0 + 0.00455866714091358*i_sq - 0.00455866714091358*i_sq_0 + 0.004003346842446*v_md - 0.004003346842446*v_md_0 + 6.2889597697231e-5*v_mq - 6.2889597697231e-5*v_mq_0 + 0.768729374614947*xD[4] + 0.0120761660206275*xD[5] - 0.0376316155873075*xD[6] - 0.000591164657503082*xD[7] - 0.060612006008949*xD[8] - 0.000952169478073937*xD[9];\n",
      "xD[5] = -0.103767816974477*Dx_r_1 + 13.7996619184135*Dx_r_2 - 0.00455866714091368*i_sd + 0.00455866714091368*i_sd_0 + 0.290189894236833*i_sq - 0.290189894236833*i_sq_0 - 6.28895976972104e-5*v_md + 6.28895976972104e-5*v_md_0 + 0.00400334684244601*v_mq - 0.00400334684244601*v_mq_0 - 0.0120761660206275*xD[4] + 0.768729374614947*xD[5] + 0.000591164657503061*xD[6] - 0.0376316155873075*xD[7] + 0.000952169478074047*xD[8] - 0.060612006008949*xD[9];\n",
      "xD[6] = 86.1438235366479*Dx_r_1 + 0.886477352734974*Dx_r_2 - 4.2224902133574*i_sd + 4.2224902133574*i_sd_0 - 0.0663321768633114*i_sq + 0.0663321768633114*i_sq_0 + 1.05808548346984*v_md - 1.05808548346984*v_md_0 + 0.016621735014091*v_mq - 0.016621735014091*v_mq_0 + 10.5088339827692*xD[4] + 0.165085956189328*xD[5] - 0.517613418057255*xD[6] - 0.00813132134321622*xD[7] - 6.28634376941182*xD[8] - 0.0987537793260168*xD[9];\n",
      "xD[7] = -0.886477352734974*Dx_r_1 + 86.1438235366479*Dx_r_2 + 0.0663321768633069*i_sd - 0.0663321768633069*i_sd_0 - 4.2224902133574*i_sq + 4.2224902133574*i_sq_0 - 0.0166217350140914*v_md + 0.0166217350140914*v_md_0 + 1.05808548346984*v_mq - 1.05808548346984*v_mq_0 - 0.165085956189328*xD[4] + 10.5088339827692*xD[5] + 0.00813132134321657*xD[6] - 0.517613418057256*xD[7] + 0.0987537793260213*xD[8] - 6.28634376941182*xD[9];\n",
      "xD[8] = 1.18794715879488*Dx_r_1 + 0.0139161908172305*Dx_r_2 + 0.506762435260992*i_sd - 0.506762435260992*i_sd_0 + 0.00796086048395717*i_sq - 0.00796086048395717*i_sq_0 + 0.0441783203908041*v_md - 0.0441783203908041*v_md_0 + 0.000694008514789877*v_mq - 0.000694008514789877*v_mq_0 + 0.229577888227884*xD[4] + 0.00360649766283964*xD[5] - 0.0105500516459425*xD[6] - 0.000165733454984027*xD[7] + 0.261966939353954*xD[8] + 0.00411530553667028*xD[9];\n",
      "xD[9] = -0.0139161908172305*Dx_r_1 + 1.18794715879488*Dx_r_2 - 0.00796086048395704*i_sd + 0.00796086048395704*i_sd_0 + 0.506762435260992*i_sq - 0.506762435260992*i_sq_0 - 0.000694008514789839*v_md + 0.000694008514789839*v_md_0 + 0.044178320390804*v_mq - 0.044178320390804*v_mq_0 - 0.00360649766283964*xD[4] + 0.229577888227884*xD[5] + 0.000165733454983989*xD[6] - 0.0105500516459425*xD[7] - 0.00411530553667041*xD[8] + 0.261966939353954*xD[9];\n"
     ]
    }
   ],
   "source": [
    "it_ini = 4\n",
    "Δx_o = sym.Matrix([sym.Symbol(f'xD[{it+it_ini}]') for it in range(6)])\n",
    "Δz_o = sym.Matrix([sym.Symbol(item) - sym.Symbol(item+'_0') for item in ['v_md', 'v_mq', 'i_sd', 'i_sq']])\n",
    "Δx_r = sym.Matrix([sym.Symbol(f'Dx_r_{it+1}') for it in range(2)])\n",
    "Δu_pert = sym.Matrix([sym.Symbol(f'Du_pert_{it+1}') for it in range(2)])\n",
    "\n",
    "Δx_o_kp1 = A_d @ Δx_o + B_o@(Δx_r) +  K_o @ (Δz_o - C_o @ Δx_o) # + B_pert@Δu_pert  +  K_o @ (Δz_o - C_o @ Δx_o - D_o @ (Δx_r))\n",
    "\n",
    "for it in range(6):\n",
    "    print(f'xD[{it+it_ini}] = {Δx_o_kp1[it]};')"
   ]
  },
  {
   "cell_type": "code",
   "execution_count": 354,
   "metadata": {},
   "outputs": [
    {
     "name": "stdout",
     "output_type": "stream",
     "text": [
      "Dx_r_1 = -0.013361535*Dx_d_1 - 0.00027748637*Dx_d_2 + 0.0021866204*Dx_d_3 + 5.2865939e-5*Dx_d_4 + 0.0071983421*Dx_d_5 + 0.00022706741*Dx_d_6 - 2.2443754*Dx_i_1 + 0.68967688*Dx_i_2 - 0.36460717*Dx_r_1 - 0.0049366387*Dx_r_2;\n",
      "Dx_r_2 = 0.00027748637*Dx_d_1 - 0.013361535*Dx_d_2 - 5.2865939e-5*Dx_d_3 + 0.0021866204*Dx_d_4 - 0.00022706741*Dx_d_5 + 0.0071983421*Dx_d_6 - 0.68967688*Dx_i_1 - 2.2443754*Dx_i_2 + 0.0049366387*Dx_r_1 - 0.36460717*Dx_r_2;\n"
     ]
    }
   ],
   "source": [
    "Du_r_1,Du_r_2 = sym.symbols('Du_r_1,Du_r_2')\n",
    "Du_r = sym.Matrix([Du_r_1,Du_r_2 ])\n",
    "\n",
    "Dx_r = W@Du_r\n",
    "\n",
    "Dx_r_1 = str(sym.N(Dx_r[0],8))\n",
    "Dx_r_1 = str(sym.N(Dx_r[1],8))\n",
    "\n",
    "print(f'Dx_r_1 = {u_r_d};')\n",
    "print(f'Dx_r_2 = {u_r_q};')"
   ]
  },
  {
   "cell_type": "code",
   "execution_count": 356,
   "metadata": {},
   "outputs": [
    {
     "name": "stdout",
     "output_type": "stream",
     "text": [
      "xD[4] = 13.7996619184135*Dx_r_1 + 0.103767816974477*Dx_r_2 + 0.290189894236834*i_sd - 0.290189894236834*i_sd_0 + 0.00455866714091358*i_sq - 0.00455866714091358*i_sq_0 + 0.004003346842446*v_md - 0.004003346842446*v_md_0 + 6.2889597697231e-5*v_mq - 6.2889597697231e-5*v_mq_0 + 0.768729374614947*xD[4] + 0.0120761660206275*xD[5] - 0.0376316155873075*xD[6] - 0.000591164657503082*xD[7] - 0.060612006008949*xD[8] - 0.000952169478073937*xD[9];\n",
      "xD[5] = -0.103767816974477*Dx_r_1 + 13.7996619184135*Dx_r_2 - 0.00455866714091368*i_sd + 0.00455866714091368*i_sd_0 + 0.290189894236833*i_sq - 0.290189894236833*i_sq_0 - 6.28895976972104e-5*v_md + 6.28895976972104e-5*v_md_0 + 0.00400334684244601*v_mq - 0.00400334684244601*v_mq_0 - 0.0120761660206275*xD[4] + 0.768729374614947*xD[5] + 0.000591164657503061*xD[6] - 0.0376316155873075*xD[7] + 0.000952169478074047*xD[8] - 0.060612006008949*xD[9];\n",
      "xD[6] = 86.1438235366479*Dx_r_1 + 0.886477352734974*Dx_r_2 - 4.2224902133574*i_sd + 4.2224902133574*i_sd_0 - 0.0663321768633114*i_sq + 0.0663321768633114*i_sq_0 + 1.05808548346984*v_md - 1.05808548346984*v_md_0 + 0.016621735014091*v_mq - 0.016621735014091*v_mq_0 + 10.5088339827692*xD[4] + 0.165085956189328*xD[5] - 0.517613418057255*xD[6] - 0.00813132134321622*xD[7] - 6.28634376941182*xD[8] - 0.0987537793260168*xD[9];\n",
      "xD[7] = -0.886477352734974*Dx_r_1 + 86.1438235366479*Dx_r_2 + 0.0663321768633069*i_sd - 0.0663321768633069*i_sd_0 - 4.2224902133574*i_sq + 4.2224902133574*i_sq_0 - 0.0166217350140914*v_md + 0.0166217350140914*v_md_0 + 1.05808548346984*v_mq - 1.05808548346984*v_mq_0 - 0.165085956189328*xD[4] + 10.5088339827692*xD[5] + 0.00813132134321657*xD[6] - 0.517613418057256*xD[7] + 0.0987537793260213*xD[8] - 6.28634376941182*xD[9];\n",
      "xD[8] = 1.18794715879488*Dx_r_1 + 0.0139161908172305*Dx_r_2 + 0.506762435260992*i_sd - 0.506762435260992*i_sd_0 + 0.00796086048395717*i_sq - 0.00796086048395717*i_sq_0 + 0.0441783203908041*v_md - 0.0441783203908041*v_md_0 + 0.000694008514789877*v_mq - 0.000694008514789877*v_mq_0 + 0.229577888227884*xD[4] + 0.00360649766283964*xD[5] - 0.0105500516459425*xD[6] - 0.000165733454984027*xD[7] + 0.261966939353954*xD[8] + 0.00411530553667028*xD[9];\n",
      "xD[9] = -0.0139161908172305*Dx_r_1 + 1.18794715879488*Dx_r_2 - 0.00796086048395704*i_sd + 0.00796086048395704*i_sd_0 + 0.506762435260992*i_sq - 0.506762435260992*i_sq_0 - 0.000694008514789839*v_md + 0.000694008514789839*v_md_0 + 0.044178320390804*v_mq - 0.044178320390804*v_mq_0 - 0.00360649766283964*xD[4] + 0.229577888227884*xD[5] + 0.000165733454983989*xD[6] - 0.0105500516459425*xD[7] - 0.00411530553667041*xD[8] + 0.261966939353954*xD[9];\n"
     ]
    }
   ],
   "source": [
    "for it in range(6):\n",
    "    print(f'xD[{it+it_ini}] = {Δx_o_kp1[it]};')"
   ]
  },
  {
   "cell_type": "code",
   "execution_count": 346,
   "metadata": {},
   "outputs": [
    {
     "data": {
      "text/plain": [
       "['v_md_g01', 'v_mq_g01', 'i_sd_g01', 'i_sq_g01']"
      ]
     },
     "execution_count": 346,
     "metadata": {},
     "output_type": "execute_result"
    }
   ],
   "source": [
    "z_obs_list"
   ]
  },
  {
   "cell_type": "code",
   "execution_count": 338,
   "metadata": {},
   "outputs": [
    {
     "data": {
      "text/plain": [
       "matrix([[ 2.20758392e-02,  3.46794994e-04,  2.30800093e-01,\n",
       "          3.62569759e-03],\n",
       "        [-3.46794994e-04,  2.20758392e-02, -3.62569759e-03,\n",
       "          2.30800093e-01],\n",
       "        [ 1.30196616e+00,  2.04529188e-02, -1.04919893e+01,\n",
       "         -1.64821339e-01],\n",
       "        [-2.04529188e-02,  1.30196616e+00,  1.64821339e-01,\n",
       "         -1.04919893e+01],\n",
       "        [ 5.02642205e-02,  7.89613473e-04,  7.69087392e-01,\n",
       "          1.20817902e-02],\n",
       "        [-7.89613473e-04,  5.02642205e-02, -1.20817902e-02,\n",
       "          7.69087392e-01]])"
      ]
     },
     "execution_count": 338,
     "metadata": {},
     "output_type": "execute_result"
    }
   ],
   "source": [
    "K_o"
   ]
  },
  {
   "cell_type": "code",
   "execution_count": 357,
   "metadata": {},
   "outputs": [
    {
     "name": "stdout",
     "output_type": "stream",
     "text": [
      "Du_r_1 = -2.2443754*Dx_i_1 + 0.68967688*Dx_i_2 - 0.36460717*Dx_r_1 - 0.0049366387*Dx_r_2 - 0.013361535*xD[4] - 0.00027748637*xD[5] + 0.0021866204*xD[6] + 5.2865939e-5*xD[7] + 0.0071983421*xD[8] + 0.00022706741*xD[9];\n",
      "Du_r_2 = -0.68967688*Dx_i_1 - 2.2443754*Dx_i_2 + 0.0049366387*Dx_r_1 - 0.36460717*Dx_r_2 + 0.00027748637*xD[4] - 0.013361535*xD[5] - 5.2865939e-5*xD[6] + 0.0021866204*xD[7] - 0.00022706741*xD[8] + 0.0071983421*xD[9];\n",
      "\n",
      "Warning: Control output is eta_dq!!\n"
     ]
    }
   ],
   "source": [
    "import sympy as sym\n",
    "\n",
    "x_d_1,x_d_2,x_d_3,x_d_4,x_d_5,x_d_6 = sym.symbols('xD[4],xD[5],xD[6],xD[7],xD[8],xD[9]')\n",
    "x_r_1,x_r_2 = sym.symbols('Dx_r_1,Dx_r_2')\n",
    "x_i_1,x_i_2 = sym.symbols('Dx_i_1,Dx_i_2')\n",
    "\n",
    "x_e = sym.Matrix([x_d_1,x_d_2,x_d_3,x_d_4,x_d_5,x_d_6,x_r_1,x_r_2,x_i_1,x_i_2])\n",
    "u_r = -K_c * x_e\n",
    "\n",
    "u_r_d = str(sym.N(u_r[0],8))\n",
    "u_r_q = str(sym.N(u_r[1],8))\n",
    "\n",
    "print(f'Du_r_1 = {u_r_d};')\n",
    "print(f'Du_r_2 = {u_r_q};')\n",
    "print('\\nWarning: Control output is eta_dq!!')"
   ]
  },
  {
   "cell_type": "code",
   "execution_count": 341,
   "metadata": {},
   "outputs": [
    {
     "data": {
      "text/plain": [
       "array([[ 1.37996619e+01,  1.03767817e-01],\n",
       "       [-1.03767817e-01,  1.37996619e+01],\n",
       "       [ 8.61438235e+01,  8.86477353e-01],\n",
       "       [-8.86477353e-01,  8.61438235e+01],\n",
       "       [ 1.18794716e+00,  1.39161908e-02],\n",
       "       [-1.39161908e-02,  1.18794716e+00]])"
      ]
     },
     "execution_count": 341,
     "metadata": {},
     "output_type": "execute_result"
    }
   ],
   "source": [
    "B_o"
   ]
  },
  {
   "cell_type": "code",
   "execution_count": null,
   "metadata": {},
   "outputs": [],
   "source": []
  }
 ],
 "metadata": {
  "kernelspec": {
   "display_name": "Python 3",
   "language": "python",
   "name": "python3"
  },
  "language_info": {
   "codemirror_mode": {
    "name": "ipython",
    "version": 3
   },
   "file_extension": ".py",
   "mimetype": "text/x-python",
   "name": "python",
   "nbconvert_exporter": "python",
   "pygments_lexer": "ipython3",
   "version": "3.7.6"
  }
 },
 "nbformat": 4,
 "nbformat_minor": 4
}
