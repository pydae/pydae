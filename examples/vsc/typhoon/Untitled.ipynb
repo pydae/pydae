{
 "cells": [
  {
   "cell_type": "code",
   "execution_count": 1,
   "metadata": {},
   "outputs": [],
   "source": [
    "%matplotlib widget"
   ]
  },
  {
   "cell_type": "code",
   "execution_count": 2,
   "metadata": {},
   "outputs": [],
   "source": [
    "import scipy.io as sio\n",
    "import numpy as np\n",
    "import matplotlib.pyplot as plt\n",
    "import pandas as pd"
   ]
  },
  {
   "cell_type": "code",
   "execution_count": 55,
   "metadata": {},
   "outputs": [],
   "source": [
    "df_typhoon = pd.read_csv('TRAN_COMPLEX.csv',index_col=False)\n",
    "data = sio.matlab.loadmat('ctrl_cplx')"
   ]
  },
  {
   "cell_type": "code",
   "execution_count": 73,
   "metadata": {},
   "outputs": [],
   "source": [
    "def abc2dq(times,a,b,c,omega=2*np.pi*50,theta_0=0.0):\n",
    "\n",
    "    Dt = times[1]-times[0] \n",
    "    d = times*0.0\n",
    "    q = times*0.0\n",
    "    for it in range(len(times)):\n",
    "\n",
    "        theta = Dt*it*omega + theta_0\n",
    "        abc = np.array([[a[it]],[b[it]],[c[it]]])\n",
    "        T_p = 2.0/3.0*np.array([[ np.cos(theta), np.cos(theta-2.0/3.0*np.pi), np.cos(theta+2.0/3.0*np.pi)],\n",
    "                                [-np.sin(theta),-np.sin(theta-2.0/3.0*np.pi),-np.sin(theta+2.0/3.0*np.pi)]])\n",
    "\n",
    "        dq=T_p@abc;\n",
    "        \n",
    "        d[it] = dq[0]\n",
    "        q[it] = dq[1]\n",
    "    \n",
    "    return d,q"
   ]
  },
  {
   "cell_type": "code",
   "execution_count": 90,
   "metadata": {},
   "outputs": [],
   "source": [
    "times_sim = data['stru']['time'][0][0][:,0]-0.04-0.001129729-0.0005\n",
    "i_sa_sim =  data['stru']['i_sabc_1'][0][0][:,0]\n",
    "i_sb_sim =  data['stru']['i_sabc_2'][0][0][:,0]\n",
    "i_sc_sim =  data['stru']['i_sabc_3'][0][0][:,0]\n",
    "i_sd_sim,i_sq_sim = abc2dq(times_sim,i_sa_sim,i_sb_sim,i_sc_sim,omega=2*np.pi*50,theta_0=0.0+np.pi/2)\n",
    "\n",
    "times_exp = df_typhoon.Time.values\n",
    "i_sa_exp = df_typhoon.Ia.values\n",
    "i_sb_exp = df_typhoon.Ib.values\n",
    "i_sc_exp = df_typhoon.Ic.values\n",
    "i_sd_exp,i_sq_exp = abc2dq(times_exp,i_sa_exp,i_sb_exp,i_sc_exp,omega=2*np.pi*50,theta_0=0.4+np.pi/2)"
   ]
  },
  {
   "cell_type": "code",
   "execution_count": 91,
   "metadata": {},
   "outputs": [
    {
     "data": {
      "text/plain": [
       "array([ 0.00000000e+00,  0.00000000e+00, -9.51859239e-05, ...,\n",
       "        6.39291035e-01,  5.78075870e-01,  5.15042315e-01])"
      ]
     },
     "execution_count": 91,
     "metadata": {},
     "output_type": "execute_result"
    }
   ],
   "source": [
    "i_sa_sim"
   ]
  },
  {
   "cell_type": "code",
   "execution_count": 94,
   "metadata": {},
   "outputs": [
    {
     "name": "stderr",
     "output_type": "stream",
     "text": [
      "C:\\Users\\jmmauricio\\anaconda3\\lib\\site-packages\\ipykernel_launcher.py:1: RuntimeWarning: More than 20 figures have been opened. Figures created through the pyplot interface (`matplotlib.pyplot.figure`) are retained until explicitly closed and may consume too much memory. (To control this warning, see the rcParam `figure.max_open_warning`).\n",
      "  \"\"\"Entry point for launching an IPython kernel.\n"
     ]
    },
    {
     "data": {
      "application/vnd.jupyter.widget-view+json": {
       "model_id": "c29c071aa3864c82a231feb3e190175a",
       "version_major": 2,
       "version_minor": 0
      },
      "text/plain": [
       "Canvas(toolbar=Toolbar(toolitems=[('Home', 'Reset original view', 'home', 'home'), ('Back', 'Back to previous …"
      ]
     },
     "metadata": {},
     "output_type": "display_data"
    },
    {
     "data": {
      "text/plain": [
       "(-0.01, 0.03)"
      ]
     },
     "execution_count": 94,
     "metadata": {},
     "output_type": "execute_result"
    }
   ],
   "source": [
    "fig, axes = plt.subplots(nrows=1, ncols=1, figsize=(7, 7), sharex=True)\n",
    "\n",
    "t_offset = 0.016+0.16+200e-6\n",
    "scale_amp = 0.9486\n",
    "#axes[0].plot(times,i_sa)\n",
    "#axes[0].plot(times,i_sb)\n",
    "#axes[0].plot(times,i_sc)\n",
    "axes = [axes]\n",
    "axes[0].plot(times_sim,i_sd_sim, label='simulink: $i_{sd}$')\n",
    "axes[0].plot(times_sim,i_sq_sim, label='simulink: $i_{sq}$')\n",
    "axes[0].plot(times_exp,i_sd_exp, label='typhoon: $i_{sd}$')\n",
    "axes[0].plot(times_exp,i_sq_exp, label='typhoon: $i_{sq}$')\n",
    "\n",
    "\n",
    "for ax in axes:\n",
    "    ax.grid()\n",
    "    ax.legend()\n",
    "ax.set_xlabel('Time (s)')\n",
    "ax.set_xlim([-0.01,0.03])"
   ]
  },
  {
   "cell_type": "code",
   "execution_count": 77,
   "metadata": {},
   "outputs": [
    {
     "data": {
      "text/plain": [
       "-0.001129729"
      ]
     },
     "execution_count": 77,
     "metadata": {},
     "output_type": "execute_result"
    }
   ],
   "source": [
    "0.000298771-0.0014285"
   ]
  },
  {
   "cell_type": "code",
   "execution_count": 30,
   "metadata": {},
   "outputs": [],
   "source": []
  }
 ],
 "metadata": {
  "kernelspec": {
   "display_name": "Python 3",
   "language": "python",
   "name": "python3"
  },
  "language_info": {
   "codemirror_mode": {
    "name": "ipython",
    "version": 3
   },
   "file_extension": ".py",
   "mimetype": "text/x-python",
   "name": "python",
   "nbconvert_exporter": "python",
   "pygments_lexer": "ipython3",
   "version": "3.7.6"
  }
 },
 "nbformat": 4,
 "nbformat_minor": 4
}
