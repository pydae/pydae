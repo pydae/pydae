{
 "cells": [
  {
   "cell_type": "markdown",
   "metadata": {},
   "source": [
    "# Control based on León paper\n",
    "\n",
    "A. E. Leon and J. A. Solsona, \"Performance Improvement of Full-Converter Wind Turbines Under Distorted Conditions,\" in IEEE Transactions on Sustainable Energy, vol. 4, no. 3, pp. 652-660, July 2013, doi: 10.1109/TSTE.2013.2239317."
   ]
  },
  {
   "cell_type": "code",
   "execution_count": 1,
   "metadata": {},
   "outputs": [],
   "source": [
    "%matplotlib widget"
   ]
  },
  {
   "cell_type": "code",
   "execution_count": 2,
   "metadata": {},
   "outputs": [],
   "source": [
    "import numpy as np\n",
    "import sympy as sym\n",
    "import matplotlib.pyplot as plt\n",
    "import scipy.signal as sctrl\n",
    "import pydae.ssa as ssa\n",
    "from sympy.physics.quantum import TensorProduct"
   ]
  },
  {
   "cell_type": "markdown",
   "metadata": {},
   "source": [
    "### Plant model"
   ]
  },
  {
   "cell_type": "code",
   "execution_count": 22,
   "metadata": {},
   "outputs": [],
   "source": [
    "Δt = 50e-6\n",
    "R_t =  0.039269908169872414\n",
    "L_t =  0.00125\n",
    "C_m =  4e-06\n",
    "G_d =  1.0\n",
    "R_s =  0.039269908169872414\n",
    "L_s =  0.00125\n",
    "\n",
    "A = np.array([\n",
    "    [-R_t/L_t,       0,   -1/L_t,        0,        0,        0],\n",
    "    [       0,-R_t/L_t,        0,   -1/L_t,        0,        0],\n",
    "    [   1/C_m,       0, -G_d/C_m,        0,   -1/C_m,        0],\n",
    "    [       0,   1/C_m,        0, -G_d/C_m,        0,   -1/C_m],\n",
    "    [       0,       0,    1/L_s,        0, -R_s/L_s,        0],\n",
    "    [       0,       0,        0,    1/L_s,        0, -R_s/L_s],\n",
    "    ])\n",
    "\n",
    "B = np.array([\n",
    "    [ 1/L_t,        0],\n",
    "    [       0,  1/L_t],\n",
    "    [       0,      0],\n",
    "    [       0,      0],\n",
    "    [       0,      0],\n",
    "    [       0,      0],\n",
    "    ])\n",
    "\n",
    "B_g = np.array([\n",
    "    [       0,      0],\n",
    "    [       0,      0],\n",
    "    [       0,      0],\n",
    "    [       0,      0],\n",
    "    [-1/L_s,        0],\n",
    "    [       0, -1/L_s],\n",
    "    ])\n",
    "\n",
    "C_c = np.array([\n",
    "    [ 0, 0, 0, 0, 1, 0],\n",
    "    [ 0, 0, 0, 0, 0, 1],\n",
    "    ])\n",
    "\n",
    "D_c = np.array([\n",
    "    [ 0, 0],\n",
    "    [ 0, 0],\n",
    "    ])\n",
    "\n",
    "C_o = np.array([\n",
    "    [ 0, 0, 1, 0, 0, 0],\n",
    "    [ 0, 0, 0, 1, 0, 0],\n",
    "    [ 0, 0, 0, 0, 1, 0],\n",
    "    [ 0, 0, 0, 0, 0, 1],\n",
    "    ])\n",
    "\n",
    "D_o = np.array([\n",
    "    [ 0, 0],\n",
    "    [ 0, 0],\n",
    "    ])\n",
    "\n",
    "# plant discretization\n",
    "A_d,B_d,C_d,D_d,Dt = sctrl.cont2discrete((A,B,C_c,D_c),Δt,method='zoh')\n",
    "A_,B_gd,C_,D_,Dt   = sctrl.cont2discrete((A,B_g,C_c,D_c),Δt,method='zoh')\n",
    "A_,B_,C_o,D_o,Dt   = sctrl.cont2discrete((A,B,C_o,D_o),Δt,method='zoh')\n"
   ]
  },
  {
   "cell_type": "markdown",
   "metadata": {},
   "source": [
    "## Park aplication"
   ]
  },
  {
   "cell_type": "code",
   "execution_count": 23,
   "metadata": {},
   "outputs": [],
   "source": [
    "omega_g,t_k,Δt_sym = sym.symbols('omega_g,t_k,Δt_sym')\n",
    "theta_k = omega_g*t_k\n",
    "theta_kp1 = omega_g*(t_k + Δt_sym)\n",
    "\n",
    "P_k =  sym.Matrix([\n",
    "                [   sym.cos(theta_k), -sym.sin(theta_k)],   \n",
    "                [  -sym.sin(theta_k), -sym.cos(theta_k)],    \n",
    "               ])\n",
    "\n",
    "P_kp1 =  sym.Matrix([\n",
    "                [   sym.cos(theta_kp1), -sym.sin(theta_kp1)],   \n",
    "                [  -sym.sin(theta_kp1), -sym.cos(theta_kp1)],    \n",
    "               ])\n",
    "\n",
    "W_sym = sym.simplify(P_kp1 @ P_k.inv())\n",
    "\n",
    "m2 = sym.Matrix([[1,0,0],[0,1,0],[0,0,1]])\n",
    "P_kp1_3 = TensorProduct(m2, P_kp1)\n",
    "P_ki_3  = TensorProduct(m2, P_k.inv())\n",
    "\n",
    "A_b_sym   = sym.simplify(P_kp1_3 @ A_d  @ P_ki_3 )\n",
    "B_b_sym   = sym.simplify(P_kp1_3 @ B_d  @ P_k.inv() )\n",
    "B_g_bsym =  sym.simplify(P_kp1_3 @ B_gd @ P_k.inv() )"
   ]
  },
  {
   "cell_type": "code",
   "execution_count": 24,
   "metadata": {},
   "outputs": [],
   "source": [
    "A_b_eval = sym.lambdify([omega_g,Δt_sym], A_b_sym)\n",
    "B_b_eval = sym.lambdify([omega_g,Δt_sym], B_b_sym)\n",
    "B_g_b_eval = sym.lambdify([omega_g,Δt_sym], B_g_bsym)\n",
    "W_eval  = sym.lambdify([omega_g,Δt_sym], W_sym) "
   ]
  },
  {
   "cell_type": "code",
   "execution_count": 25,
   "metadata": {},
   "outputs": [],
   "source": [
    "omega_b = 2*np.pi*50\n",
    "A_b = A_b_eval(omega_b,Δt)\n",
    "B_b = B_b_eval(omega_b,Δt)\n",
    "B_g_b = B_g_b_eval(omega_b,Δt)\n",
    "W =  W_eval(omega_b,Δ𝑡)"
   ]
  },
  {
   "cell_type": "markdown",
   "metadata": {},
   "source": [
    "## Controller"
   ]
  },
  {
   "cell_type": "code",
   "execution_count": 26,
   "metadata": {},
   "outputs": [],
   "source": [
    "# Controller ##################################################################################\n",
    "N_x_c,N_u_d = B_b.shape\n",
    "N_z_c,N_x_c = C_c.shape\n",
    "\n",
    "\n",
    "O_ux = np.zeros((N_u_d,N_x_c))\n",
    "O_xu = np.zeros((N_x_c,N_u_d))\n",
    "O_uu = np.zeros((N_u_d,N_u_d))\n",
    "I_uu = np.eye(N_u_d)\n",
    "\n",
    "\n",
    "# discretized plant:\n",
    "# Δx_d = A_d*Δx_d + B_d*Δu_d\n",
    "# Δz_c = C_c*Δx_d + D_c*Δu_d\n",
    "\n",
    "# dinamic extension:\n",
    "# Δx_d = A_d*Δx_d + B_d*Δu_d\n",
    "# Δx_i = Δx_i + Δt*(Δz_c-Δz_c_ref) = Δx_i + Δt*C_c*Δx_d - Dt*Δz_c_ref\n",
    "# Δz_c = z_c - z_c_0\n",
    "# Δz_c_ref = z_c_ref - z_c_0\n",
    "# (Δz_c-Δz_c_ref) = z_c - z_c_ref\n",
    "\n",
    "\n",
    "A_e = np.block([\n",
    "                [    A_b,    B_b, O_xu],    # Δx_d\n",
    "                [   O_ux,   O_uu, O_uu],    # Δx_r\n",
    "                [ Δt*C_d,   O_uu, I_uu],    # Δx_i    \n",
    "               ])\n",
    "\n",
    "B_e = np.block([\n",
    "                [   O_xu],\n",
    "                [      W],\n",
    "                [   O_uu],    \n",
    "               ])\n",
    "\n",
    "\n",
    "\n",
    "# weighting matrices\n",
    "Q_c = np.eye(A_e.shape[0])\n",
    "Q_c[-1,-1] = 1e8\n",
    "Q_c[-2,-2] = 1e8\n",
    "\n",
    "R_c = np.eye(B_e.shape[1])*10\n",
    "\n",
    "K_c,S_c,E_c = ssa.dlqr(A_e,B_e,Q_c,R_c)\n",
    "\n",
    "E_cont = np.log(E_c)/Δt"
   ]
  },
  {
   "cell_type": "markdown",
   "metadata": {},
   "source": [
    "## Observer"
   ]
  },
  {
   "cell_type": "code",
   "execution_count": 27,
   "metadata": {},
   "outputs": [
    {
     "name": "stdout",
     "output_type": "stream",
     "text": [
      "damp_ctrl [-0.99989883 -0.99989883 -0.99881325 -0.99881325 -0.9995029  -0.9995029\n",
      " -0.99987663 -0.99987663 -1.         -1.        ]\n",
      "damp_obs [-1. -1. -1. -1. -1. -1.]\n"
     ]
    }
   ],
   "source": [
    "N_z_o = C_o.shape[0]\n",
    "\n",
    "Q_o = np.eye(A_d.shape[0])\n",
    "\n",
    "R_o = np.diag([1]*N_z_o)\n",
    "K_o_T,S_o,E_o = ssa.dlqr(A_d.T,C_o.T,Q_o,R_o)\n",
    "K_o = K_o_T.T\n",
    "\n",
    "\n",
    "print('damp_ctrl',-E_c.real/np.abs(E_c))\n",
    "print('damp_obs',-E_o.real/np.abs(E_o))"
   ]
  },
  {
   "cell_type": "markdown",
   "metadata": {},
   "source": [
    "## Simulink"
   ]
  },
  {
   "cell_type": "code",
   "execution_count": 28,
   "metadata": {},
   "outputs": [
    {
     "name": "stdout",
     "output_type": "stream",
     "text": [
      "Du_r_1 = -1.8262175*Dx_d_1 + 0.019754652*Dx_d_2 - 0.0048070784*Dx_d_3 + 0.0010494948*Dx_d_4 - 3.4543535*Dx_d_5 + 0.39761572*Dx_d_6 - 2715.7977*Dx_i_1 + 1040.9568*Dx_i_2 - 0.071871552*Dx_r_1 + 0.00052148736*Dx_r_2;\n",
      "Du_r_2 = -0.019754652*Dx_d_1 - 1.8262175*Dx_d_2 - 0.0010494948*Dx_d_3 - 0.0048070784*Dx_d_4 - 0.39761572*Dx_d_5 - 3.4543535*Dx_d_6 - 1040.9568*Dx_i_1 - 2715.7977*Dx_i_2 - 0.00052148736*Dx_r_1 - 0.071871552*Dx_r_2;\n",
      "\n",
      "Warning: Control output is v_t_dq!!\n"
     ]
    }
   ],
   "source": [
    "# Control without observer Du_r = -K_c*Dx_e\n",
    "x_d_1,x_d_2,x_d_3,x_d_4,x_d_5,x_d_6 = sym.symbols('Dx_d_1,Dx_d_2,Dx_d_3,Dx_d_4,Dx_d_5,Dx_d_6')\n",
    "x_r_1,x_r_2 = sym.symbols('Dx_r_1,Dx_r_2')\n",
    "x_i_1,x_i_2 = sym.symbols('Dx_i_1,Dx_i_2')\n",
    "\n",
    "x_e = sym.Matrix([x_d_1,x_d_2,x_d_3,x_d_4,x_d_5,x_d_6,x_r_1,x_r_2,x_i_1,x_i_2])\n",
    "u_r = -K_c * x_e\n",
    "\n",
    "u_r_d = str(sym.N(u_r[0],8))\n",
    "u_r_q = str(sym.N(u_r[1],8))\n",
    "\n",
    "print(f'Du_r_1 = {u_r_d};')\n",
    "print(f'Du_r_2 = {u_r_q};')\n",
    "\n",
    "print('\\nWarning: Control output is v_t_dq!!')"
   ]
  },
  {
   "cell_type": "code",
   "execution_count": 29,
   "metadata": {},
   "outputs": [
    {
     "name": "stdout",
     "output_type": "stream",
     "text": [
      "xD[4] = 0.0392952872921423*Dx_r_1 + 0.000617299701089028*Dx_r_2 + 0.167670572903802*i_sd - 0.167670572903802*i_sd_0 + 0.427599429013122*v_md - 0.427599429013122*v_md_0 + 0.962811636697318*xD[4] - 0.430586049216921*xD[6] - 0.132051772873075*xD[8];\n",
      "xD[5] = -0.000617299701089028*Dx_r_1 + 0.0392952872921423*Dx_r_2 + 0.167670572903802*i_sq - 0.167670572903802*i_sq_0 + 0.427599429013122*v_mq - 0.427599429013122*v_mq_0 + 0.962811636697318*xD[5] - 0.430586049216921*xD[7] - 0.132051772873075*xD[9];\n",
      "xD[6] = 0.0356406531431186*Dx_r_1 + 0.000559888120127431*Dx_r_2 - 0.425448653071038*i_sd + 0.425448653071038*i_sd_0 + 0.443158057967852*v_md - 0.443158057967852*v_md_0 + 0.933318813687106*xD[4] - 0.449166750687225*xD[6] - 0.507870160616068*xD[8];\n",
      "xD[7] = -0.000559888120127431*Dx_r_1 + 0.0356406531431186*Dx_r_2 - 0.425448653071038*i_sq + 0.425448653071038*i_sq_0 + 0.443158057967853*v_mq - 0.443158057967853*v_mq_0 + 0.933318813687106*xD[5] - 0.449166750687225*xD[7] - 0.507870160616068*xD[9];\n",
      "xD[8] = 0.000668382397147673*Dx_r_1 + 1.0499789730636e-5*Dx_r_2 + 0.590326602628365*i_sd - 0.590326602628365*i_sd_0 - 0.0126468749218836*v_md + 0.0126468749218836*v_md_0 + 0.0356188000307263*xD[4] + 0.0156334951256824*xD[6] + 0.372485034068953*xD[8];\n",
      "xD[9] = -1.0499789730636e-5*Dx_r_1 + 0.000668382397147673*Dx_r_2 + 0.590326602628365*i_sq - 0.590326602628365*i_sq_0 - 0.0126468749218836*v_mq + 0.0126468749218836*v_mq_0 + 0.0356188000307263*xD[5] + 0.0156334951256824*xD[7] + 0.372485034068953*xD[9];\n"
     ]
    }
   ],
   "source": [
    "it_ini = 4\n",
    "Δx_o = sym.Matrix([sym.Symbol(f'xD[{it+it_ini}]') for it in range(6)])\n",
    "Δz_o = sym.Matrix([sym.Symbol(item) - sym.Symbol(item+'_0') for item in ['v_md', 'v_mq', 'i_sd', 'i_sq']])\n",
    "Δx_r = sym.Matrix([sym.Symbol(f'Dx_r_{it+1}') for it in range(2)])\n",
    "Δu_pert = sym.Matrix([sym.Symbol(f'Du_pert_{it+1}') for it in range(2)])\n",
    "\n",
    "Δx_o_kp1 = A_d @ Δx_o + B_b@(Δx_r) +  K_o @ (Δz_o - C_o @ Δx_o) # + B_pert@Δu_pert  +  K_o @ (Δz_o - C_o @ Δx_o - D_o @ (Δx_r))\n",
    "\n",
    "for it in range(6):\n",
    "    print(f'xD[{it+it_ini}] = {Δx_o_kp1[it]};')"
   ]
  },
  {
   "cell_type": "code",
   "execution_count": 30,
   "metadata": {},
   "outputs": [
    {
     "name": "stdout",
     "output_type": "stream",
     "text": [
      "Dx_r_1 = -0.015707317*Du_r_1 + 0.99987663*Du_r_2;\n",
      "Dx_r_2 = -0.015707317*Du_r_1 + 0.99987663*Du_r_2;\n"
     ]
    }
   ],
   "source": [
    "#eta_dq[0] = Du_r_1*2/v_dc[0] + (v_sd)*2/v_dc[0] ; \n",
    "#eta_dq[1] = Du_r_2*2/v_dc[0] + (v_sq)*2/v_dc[0] ;\n",
    "#Du_r_1 = eta_dq[0]*v_dc[0]/2\n",
    "#Du_r_2 = eta_dq[1]*v_dc[0]/2\n",
    "\n",
    "Du_r_1,Du_r_2 = sym.symbols('Du_r_1,Du_r_2')\n",
    "Du_r = sym.Matrix([Du_r_1,Du_r_2 ])\n",
    "\n",
    "Dx_r = W@Du_r\n",
    "\n",
    "Dx_r_1 = str(sym.N(Dx_r[0],8))\n",
    "Dx_r_1 = str(sym.N(Dx_r[1],8))\n",
    "\n",
    "print(f'Dx_r_1 = {Dx_r_1};')\n",
    "print(f'Dx_r_2 = {Dx_r_1};')"
   ]
  },
  {
   "cell_type": "code",
   "execution_count": 32,
   "metadata": {},
   "outputs": [
    {
     "name": "stdout",
     "output_type": "stream",
     "text": [
      "Du_r_1 = -2715.7977*Dx_i_1 + 1040.9568*Dx_i_2 - 0.071871552*Dx_r_1 + 0.00052148736*Dx_r_2 - 1.8262175*xD[4] + 0.019754652*xD[5] - 0.0048070784*xD[6] + 0.0010494948*xD[7] - 3.4543535*xD[8] + 0.39761572*xD[9];\n",
      "Du_r_2 = -1040.9568*Dx_i_1 - 2715.7977*Dx_i_2 - 0.00052148736*Dx_r_1 - 0.071871552*Dx_r_2 - 0.019754652*xD[4] - 1.8262175*xD[5] - 0.0010494948*xD[6] - 0.0048070784*xD[7] - 0.39761572*xD[8] - 3.4543535*xD[9];\n",
      "\n",
      "Warning: Control output is eta_dq!!\n"
     ]
    }
   ],
   "source": [
    "# Control with observer Du_r = -K_c*Dx_o\n",
    "x_d_1,x_d_2,x_d_3,x_d_4,x_d_5,x_d_6 = sym.symbols('xD[4],xD[5],xD[6],xD[7],xD[8],xD[9]')\n",
    "x_r_1,x_r_2 = sym.symbols('Dx_r_1,Dx_r_2')\n",
    "x_i_1,x_i_2 = sym.symbols('Dx_i_1,Dx_i_2')\n",
    "\n",
    "x_e = sym.Matrix([x_d_1,x_d_2,x_d_3,x_d_4,x_d_5,x_d_6,x_r_1,x_r_2,x_i_1,x_i_2])\n",
    "u_r = -K_c * x_e\n",
    "\n",
    "u_r_d = str(sym.N(u_r[0],8))\n",
    "u_r_q = str(sym.N(u_r[1],8))\n",
    "\n",
    "print(f'Du_r_1 = {u_r_d};')\n",
    "print(f'Du_r_2 = {u_r_q};')\n",
    "\n",
    "print('\\nWarning: Control output is eta_dq!!')"
   ]
  },
  {
   "cell_type": "markdown",
   "metadata": {},
   "source": [
    "## Symbolic obtention of the plant model"
   ]
  },
  {
   "cell_type": "raw",
   "metadata": {},
   "source": [
    "# as in pydae example (synchronous dq):\n",
    "di_tD = 1/L_t*(eta_D/2*v_dc - R_t*i_tD + omega*L_t*i_tQ - v_mD)  \n",
    "di_tQ = 1/L_t*(eta_Q/2*v_dc - R_t*i_tQ - omega*L_t*i_tD - v_mQ) \n",
    "dv_mD = 1/C_m*(i_tD + C_m*omega*v_mQ - G_d*v_mD - i_sD) \n",
    "dv_mQ = 1/C_m*(i_tQ - C_m*omega*v_mD - G_d*v_mQ - i_sQ) \n",
    "di_sD = 1/L_s*(v_mD - R_s*i_sD + omega*L_s*i_sQ - v_sD)  \n",
    "di_sQ = 1/L_s*(v_mQ - R_s*i_sQ - omega*L_s*i_sD - v_sQ) \n",
    "\n",
    "# equivalent to pydae example (stationary dq):\n",
    "di_tD = 1/L_t*(v_tD - R_t*i_tD - v_mD)  \n",
    "di_tQ = 1/L_t*(v_tQ - R_t*i_tQ - v_mQ) \n",
    "dv_mD = 1/C_m*(i_tD - G_d*v_mD - i_sD) \n",
    "dv_mQ = 1/C_m*(i_tQ - G_d*v_mQ - i_sQ) \n",
    "di_sD = 1/L_s*(v_mD - R_s*i_sD - v_sD)  \n",
    "di_sQ = 1/L_s*(v_mQ - R_s*i_sQ - v_sQ)"
   ]
  },
  {
   "cell_type": "code",
   "execution_count": 44,
   "metadata": {},
   "outputs": [
    {
     "data": {
      "text/latex": [
       "$\\displaystyle \\left[\\begin{matrix}0\\\\0\\\\0\\\\0\\\\0\\\\0\\end{matrix}\\right]$"
      ],
      "text/plain": [
       "Matrix([\n",
       "[0],\n",
       "[0],\n",
       "[0],\n",
       "[0],\n",
       "[0],\n",
       "[0]])"
      ]
     },
     "execution_count": 44,
     "metadata": {},
     "output_type": "execute_result"
    }
   ],
   "source": [
    "R_t,L_t,C_m,G_d,R_s,L_s = sym.symbols('R_t,L_t,C_m,G_d,R_s,L_s', real=True)\n",
    "i_tD,i_tQ,v_mD,v_mQ,i_sD,i_sQ = sym.symbols('i_tD,i_tQ,v_mD,v_mQ,i_sD,i_sQ', real=True)\n",
    "v_tD,v_tQ = sym.symbols('v_tD,v_tQ', real=True)\n",
    "v_sD,v_sQ = sym.symbols('v_sD,v_sQ', real=True)\n",
    "\n",
    "A = sym.Matrix([\n",
    "    [-R_t/L_t,       0,   -1/L_t,        0,        0,        0],\n",
    "    [       0,-R_t/L_t,        0,   -1/L_t,        0,        0],\n",
    "    [   1/C_m,       0, -G_d/C_m,        0,   -1/C_m,        0],\n",
    "    [       0,   1/C_m,        0, -G_d/C_m,        0,   -1/C_m],\n",
    "    [       0,       0,    1/L_s,        0, -R_s/L_s,        0],\n",
    "    [       0,       0,        0,    1/L_s,        0, -R_s/L_s],\n",
    "    ])\n",
    "\n",
    "B = sym.Matrix([\n",
    "    [ 1/L_t,        0],\n",
    "    [       0,  1/L_t],\n",
    "    [       0,      0],\n",
    "    [       0,      0],\n",
    "    [       0,      0],\n",
    "    [       0,      0],\n",
    "    ])\n",
    "\n",
    "B_g = sym.Matrix([\n",
    "    [       0,      0],\n",
    "    [       0,      0],\n",
    "    [       0,      0],\n",
    "    [       0,      0],\n",
    "    [-1/L_s,        0],\n",
    "    [       0, -1/L_s],\n",
    "    ])\n",
    "\n",
    "x = sym.Matrix([i_tD,i_tQ,v_mD,v_mQ,i_sD,i_sQ])\n",
    "u = sym.Matrix([v_tD,v_tQ])\n",
    "u_g = sym.Matrix([v_sD,v_sQ])\n",
    "\n",
    "dx_new = A@x + B@u + B_g@u_g\n",
    "\n",
    "di_tD = 1/L_t*(v_tD - R_t*i_tD - v_mD)  \n",
    "di_tQ = 1/L_t*(v_tQ - R_t*i_tQ - v_mQ) \n",
    "dv_mD = 1/C_m*(i_tD - G_d*v_mD - i_sD) \n",
    "dv_mQ = 1/C_m*(i_tQ - G_d*v_mQ - i_sQ) \n",
    "di_sD = 1/L_s*(v_mD - R_s*i_sD - v_sD)  \n",
    "di_sQ = 1/L_s*(v_mQ - R_s*i_sQ - v_sQ)\n",
    "dx = sym.Matrix([di_tD,di_tQ,dv_mD,dv_mQ,di_sD,di_sQ])\n",
    "\n",
    "dx = sym.Matrix([di_tD,di_tQ,dv_mD,dv_mQ,di_sD,di_sQ])\n",
    "sym.simplify(dx_new - dx)  # just to check the model is ok"
   ]
  }
 ],
 "metadata": {
  "kernelspec": {
   "display_name": "Python 3",
   "language": "python",
   "name": "python3"
  },
  "language_info": {
   "codemirror_mode": {
    "name": "ipython",
    "version": 3
   },
   "file_extension": ".py",
   "mimetype": "text/x-python",
   "name": "python",
   "nbconvert_exporter": "python",
   "pygments_lexer": "ipython3",
   "version": "3.8.5"
  }
 },
 "nbformat": 4,
 "nbformat_minor": 4
}
