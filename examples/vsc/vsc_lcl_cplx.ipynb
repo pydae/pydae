{
 "cells": [
  {
   "cell_type": "code",
   "execution_count": 1,
   "metadata": {},
   "outputs": [],
   "source": [
    "%matplotlib widget"
   ]
  },
  {
   "cell_type": "code",
   "execution_count": 2,
   "metadata": {},
   "outputs": [],
   "source": [
    "import numpy as np\n",
    "import sympy as sym\n",
    "import matplotlib.pyplot as plt\n",
    "import scipy.signal as sctrl\n",
    "import pydae.ssa as ssa\n",
    "from sympy.physics.quantum import TensorProduct"
   ]
  },
  {
   "cell_type": "code",
   "execution_count": null,
   "metadata": {},
   "outputs": [],
   "source": []
  },
  {
   "cell_type": "markdown",
   "metadata": {},
   "source": [
    "# Control in real domain\n",
    "\n"
   ]
  },
  {
   "cell_type": "markdown",
   "metadata": {},
   "source": [
    "### Plant model"
   ]
  },
  {
   "cell_type": "code",
   "execution_count": 3,
   "metadata": {},
   "outputs": [],
   "source": [
    "Δt = 50e-6\n",
    "R_t =  0.039269908169872414\n",
    "L_t =  0.00125\n",
    "C_m =  4e-06\n",
    "G_d =  1.0\n",
    "R_s =  0.039269908169872414\n",
    "L_s =  0.00125\n",
    "omega = 2*np.pi*50\n",
    "\n",
    "R = R_t + R_s\n",
    "L = L_t + L_s\n",
    "A =  np.array([\n",
    "    [  -R/L, omega],\n",
    "    [-omega,  -R/L],\n",
    "    ])\n",
    "\n",
    "B = np.array([\n",
    "    [ 1/L,0],\n",
    "    [ 0,1/L],\n",
    "    ])\n",
    "\n",
    "B_g = np.array([\n",
    "    [ -1/L,0],\n",
    "    [ 0,-1/L],\n",
    "    ])\n",
    "\n",
    "C_c = np.array([\n",
    "    [ 1, 0],\n",
    "    [ 0, 1],\n",
    "    ])\n",
    "\n",
    "D_c = np.array([\n",
    "    [ 0, 0],\n",
    "    [ 0, 0],\n",
    "    ])\n",
    "\n",
    "C_o = np.array([\n",
    "    [ 1],\n",
    "    ])\n",
    "\n",
    "D_o = np.array([\n",
    "    [ 0, 0],\n",
    "    [ 0, 0],\n",
    "    ])\n",
    "\n",
    "# plant discretization\n",
    "A_d,B_d,C_d,D_d,Dt = sctrl.cont2discrete((A,B,C_c,D_c),Δt,method='zoh')\n",
    "A_,B_gd,C_,D_,Dt   = sctrl.cont2discrete((A,B_g,C_c,D_c),Δt,method='zoh')\n",
    "A_,B_,C_o,D_o,Dt   = sctrl.cont2discrete((A,B,C_o,D_o),Δt,method='zoh')\n"
   ]
  },
  {
   "cell_type": "markdown",
   "metadata": {},
   "source": [
    "## Controller"
   ]
  },
  {
   "cell_type": "code",
   "execution_count": 33,
   "metadata": {},
   "outputs": [],
   "source": [
    "def acker(A,B,poles):\n",
    "    '''\n",
    "    This function is a copy from the original in: https://github.com/python-control/python-control\n",
    "    but it allows to work with complex A and B matrices. It is experimental and the original should be\n",
    "    considered\n",
    "    \n",
    "    \n",
    "    ----------\n",
    "    A : numpy array_like (complex can be used)\n",
    "        Dynamics amatrix of the system\n",
    "    B : numpy array_like (complex can be used)\n",
    "        Input matrix of the system\n",
    "    poles : numpy array_like\n",
    "        Desired eigenvalue locations.\n",
    "\n",
    "    Returns\n",
    "    -------\n",
    "    K : numpy array_like\n",
    "        Gain such that A - B K has eigenvalues given in p.\n",
    "\n",
    "    '''\n",
    "    \n",
    "    \n",
    "    N_x = np.shape(A)[0]\n",
    "    \n",
    "    ctrb = np.hstack([B] + [np.dot(np.linalg.matrix_power(A, i), B)\n",
    "                                             for i in range(1, N_x)])\n",
    "\n",
    "    # Compute the desired characteristic polynomial\n",
    "    p = np.real(np.poly(poles))\n",
    "\n",
    "    n = np.size(p)\n",
    "    pmat = p[n-1] * np.linalg.matrix_power(A, 0)\n",
    "    for i in np.arange(1,n):\n",
    "        pmat = pmat + np.dot(p[n-i-1], np.linalg.matrix_power(A, i))\n",
    "    K = np.linalg.solve(ctrb, pmat)\n",
    "\n",
    "    K = K[-1][:]                # Extract the last row            # Extract the last row\n",
    "    \n",
    "    return K"
   ]
  },
  {
   "cell_type": "code",
   "execution_count": 35,
   "metadata": {},
   "outputs": [
    {
     "ename": "LinAlgError",
     "evalue": "Last 2 dimensions of the array must be square",
     "output_type": "error",
     "traceback": [
      "\u001b[1;31m---------------------------------------------------------------------------\u001b[0m",
      "\u001b[1;31mLinAlgError\u001b[0m                               Traceback (most recent call last)",
      "\u001b[1;32m<ipython-input-35-b5ed9db7e4d3>\u001b[0m in \u001b[0;36m<module>\u001b[1;34m\u001b[0m\n\u001b[0;32m     51\u001b[0m \u001b[0mpoles\u001b[0m \u001b[1;33m=\u001b[0m \u001b[0mnp\u001b[0m\u001b[1;33m.\u001b[0m\u001b[0marray\u001b[0m\u001b[1;33m(\u001b[0m\u001b[1;33m[\u001b[0m\u001b[0mgamma\u001b[0m\u001b[1;33m,\u001b[0m\u001b[0mgamma\u001b[0m\u001b[1;33m]\u001b[0m\u001b[1;33m*\u001b[0m\u001b[1;36m3\u001b[0m\u001b[1;33m)\u001b[0m\u001b[1;33m;\u001b[0m\u001b[1;33m\u001b[0m\u001b[1;33m\u001b[0m\u001b[0m\n\u001b[0;32m     52\u001b[0m \u001b[1;33m\u001b[0m\u001b[0m\n\u001b[1;32m---> 53\u001b[1;33m \u001b[0mK_c\u001b[0m \u001b[1;33m=\u001b[0m \u001b[0macker\u001b[0m\u001b[1;33m(\u001b[0m\u001b[0mA_e\u001b[0m\u001b[1;33m,\u001b[0m\u001b[0mB_e\u001b[0m\u001b[1;33m,\u001b[0m\u001b[0mpoles\u001b[0m\u001b[1;33m)\u001b[0m\u001b[1;33m\u001b[0m\u001b[1;33m\u001b[0m\u001b[0m\n\u001b[0m\u001b[0;32m     54\u001b[0m \u001b[1;33m\u001b[0m\u001b[0m\n",
      "\u001b[1;32m<ipython-input-33-1b2b09052788>\u001b[0m in \u001b[0;36macker\u001b[1;34m(A, B, poles)\u001b[0m\n\u001b[0;32m     34\u001b[0m     \u001b[1;32mfor\u001b[0m \u001b[0mi\u001b[0m \u001b[1;32min\u001b[0m \u001b[0mnp\u001b[0m\u001b[1;33m.\u001b[0m\u001b[0marange\u001b[0m\u001b[1;33m(\u001b[0m\u001b[1;36m1\u001b[0m\u001b[1;33m,\u001b[0m\u001b[0mn\u001b[0m\u001b[1;33m)\u001b[0m\u001b[1;33m:\u001b[0m\u001b[1;33m\u001b[0m\u001b[1;33m\u001b[0m\u001b[0m\n\u001b[0;32m     35\u001b[0m         \u001b[0mpmat\u001b[0m \u001b[1;33m=\u001b[0m \u001b[0mpmat\u001b[0m \u001b[1;33m+\u001b[0m \u001b[0mnp\u001b[0m\u001b[1;33m.\u001b[0m\u001b[0mdot\u001b[0m\u001b[1;33m(\u001b[0m\u001b[0mp\u001b[0m\u001b[1;33m[\u001b[0m\u001b[0mn\u001b[0m\u001b[1;33m-\u001b[0m\u001b[0mi\u001b[0m\u001b[1;33m-\u001b[0m\u001b[1;36m1\u001b[0m\u001b[1;33m]\u001b[0m\u001b[1;33m,\u001b[0m \u001b[0mnp\u001b[0m\u001b[1;33m.\u001b[0m\u001b[0mlinalg\u001b[0m\u001b[1;33m.\u001b[0m\u001b[0mmatrix_power\u001b[0m\u001b[1;33m(\u001b[0m\u001b[0mA\u001b[0m\u001b[1;33m,\u001b[0m \u001b[0mi\u001b[0m\u001b[1;33m)\u001b[0m\u001b[1;33m)\u001b[0m\u001b[1;33m\u001b[0m\u001b[1;33m\u001b[0m\u001b[0m\n\u001b[1;32m---> 36\u001b[1;33m     \u001b[0mK\u001b[0m \u001b[1;33m=\u001b[0m \u001b[0mnp\u001b[0m\u001b[1;33m.\u001b[0m\u001b[0mlinalg\u001b[0m\u001b[1;33m.\u001b[0m\u001b[0msolve\u001b[0m\u001b[1;33m(\u001b[0m\u001b[0mctrb\u001b[0m\u001b[1;33m,\u001b[0m \u001b[0mpmat\u001b[0m\u001b[1;33m)\u001b[0m\u001b[1;33m\u001b[0m\u001b[1;33m\u001b[0m\u001b[0m\n\u001b[0m\u001b[0;32m     37\u001b[0m \u001b[1;33m\u001b[0m\u001b[0m\n\u001b[0;32m     38\u001b[0m     \u001b[0mK\u001b[0m \u001b[1;33m=\u001b[0m \u001b[0mK\u001b[0m\u001b[1;33m[\u001b[0m\u001b[1;33m-\u001b[0m\u001b[1;36m1\u001b[0m\u001b[1;33m]\u001b[0m\u001b[1;33m[\u001b[0m\u001b[1;33m:\u001b[0m\u001b[1;33m]\u001b[0m                \u001b[1;31m# Extract the last row            # Extract the last row\u001b[0m\u001b[1;33m\u001b[0m\u001b[1;33m\u001b[0m\u001b[0m\n",
      "\u001b[1;32m<__array_function__ internals>\u001b[0m in \u001b[0;36msolve\u001b[1;34m(*args, **kwargs)\u001b[0m\n",
      "\u001b[1;32m~\\anaconda3\\lib\\site-packages\\numpy\\linalg\\linalg.py\u001b[0m in \u001b[0;36msolve\u001b[1;34m(a, b)\u001b[0m\n\u001b[0;32m    384\u001b[0m     \u001b[0ma\u001b[0m\u001b[1;33m,\u001b[0m \u001b[0m_\u001b[0m \u001b[1;33m=\u001b[0m \u001b[0m_makearray\u001b[0m\u001b[1;33m(\u001b[0m\u001b[0ma\u001b[0m\u001b[1;33m)\u001b[0m\u001b[1;33m\u001b[0m\u001b[1;33m\u001b[0m\u001b[0m\n\u001b[0;32m    385\u001b[0m     \u001b[0m_assert_stacked_2d\u001b[0m\u001b[1;33m(\u001b[0m\u001b[0ma\u001b[0m\u001b[1;33m)\u001b[0m\u001b[1;33m\u001b[0m\u001b[1;33m\u001b[0m\u001b[0m\n\u001b[1;32m--> 386\u001b[1;33m     \u001b[0m_assert_stacked_square\u001b[0m\u001b[1;33m(\u001b[0m\u001b[0ma\u001b[0m\u001b[1;33m)\u001b[0m\u001b[1;33m\u001b[0m\u001b[1;33m\u001b[0m\u001b[0m\n\u001b[0m\u001b[0;32m    387\u001b[0m     \u001b[0mb\u001b[0m\u001b[1;33m,\u001b[0m \u001b[0mwrap\u001b[0m \u001b[1;33m=\u001b[0m \u001b[0m_makearray\u001b[0m\u001b[1;33m(\u001b[0m\u001b[0mb\u001b[0m\u001b[1;33m)\u001b[0m\u001b[1;33m\u001b[0m\u001b[1;33m\u001b[0m\u001b[0m\n\u001b[0;32m    388\u001b[0m     \u001b[0mt\u001b[0m\u001b[1;33m,\u001b[0m \u001b[0mresult_t\u001b[0m \u001b[1;33m=\u001b[0m \u001b[0m_commonType\u001b[0m\u001b[1;33m(\u001b[0m\u001b[0ma\u001b[0m\u001b[1;33m,\u001b[0m \u001b[0mb\u001b[0m\u001b[1;33m)\u001b[0m\u001b[1;33m\u001b[0m\u001b[1;33m\u001b[0m\u001b[0m\n",
      "\u001b[1;32m~\\anaconda3\\lib\\site-packages\\numpy\\linalg\\linalg.py\u001b[0m in \u001b[0;36m_assert_stacked_square\u001b[1;34m(*arrays)\u001b[0m\n\u001b[0;32m    211\u001b[0m         \u001b[0mm\u001b[0m\u001b[1;33m,\u001b[0m \u001b[0mn\u001b[0m \u001b[1;33m=\u001b[0m \u001b[0ma\u001b[0m\u001b[1;33m.\u001b[0m\u001b[0mshape\u001b[0m\u001b[1;33m[\u001b[0m\u001b[1;33m-\u001b[0m\u001b[1;36m2\u001b[0m\u001b[1;33m:\u001b[0m\u001b[1;33m]\u001b[0m\u001b[1;33m\u001b[0m\u001b[1;33m\u001b[0m\u001b[0m\n\u001b[0;32m    212\u001b[0m         \u001b[1;32mif\u001b[0m \u001b[0mm\u001b[0m \u001b[1;33m!=\u001b[0m \u001b[0mn\u001b[0m\u001b[1;33m:\u001b[0m\u001b[1;33m\u001b[0m\u001b[1;33m\u001b[0m\u001b[0m\n\u001b[1;32m--> 213\u001b[1;33m             \u001b[1;32mraise\u001b[0m \u001b[0mLinAlgError\u001b[0m\u001b[1;33m(\u001b[0m\u001b[1;34m'Last 2 dimensions of the array must be square'\u001b[0m\u001b[1;33m)\u001b[0m\u001b[1;33m\u001b[0m\u001b[1;33m\u001b[0m\u001b[0m\n\u001b[0m\u001b[0;32m    214\u001b[0m \u001b[1;33m\u001b[0m\u001b[0m\n\u001b[0;32m    215\u001b[0m \u001b[1;32mdef\u001b[0m \u001b[0m_assert_finite\u001b[0m\u001b[1;33m(\u001b[0m\u001b[1;33m*\u001b[0m\u001b[0marrays\u001b[0m\u001b[1;33m)\u001b[0m\u001b[1;33m:\u001b[0m\u001b[1;33m\u001b[0m\u001b[1;33m\u001b[0m\u001b[0m\n",
      "\u001b[1;31mLinAlgError\u001b[0m: Last 2 dimensions of the array must be square"
     ]
    }
   ],
   "source": [
    "# Controller ##################################################################################\n",
    "N_x_c,N_u_d = B_d.shape\n",
    "N_z_c,N_x_c = C_c.shape\n",
    "\n",
    "\n",
    "O_ux = np.zeros((N_u_d,N_x_c))\n",
    "O_xu = np.zeros((N_x_c,N_u_d))\n",
    "O_uu = np.zeros((N_u_d,N_u_d))\n",
    "I_uu = np.eye(N_u_d)\n",
    "\n",
    "\n",
    "# discretized plant:\n",
    "# Δx_d = A_d*Δx_d + B_d*Δu_d\n",
    "# Δz_c = C_c*Δx_d + D_c*Δu_d\n",
    "\n",
    "# dinamic extension:\n",
    "# Δx_d = A_d*Δx_d + B_d*Δu_d\n",
    "# Δx_i = Δx_i + Δt*(Δz_c-Δz_c_ref) = Δx_i + Δt*C_c*Δx_d - Dt*Δz_c_ref\n",
    "# Δz_c = z_c - z_c_0\n",
    "# Δz_c_ref = z_c_ref - z_c_0\n",
    "# (Δz_c-Δz_c_ref) = z_c - z_c_ref\n",
    "\n",
    "\n",
    "A_e = np.block([\n",
    "                [    A_d,    B_d, O_xu],    # Δx_d\n",
    "                [   O_ux,   O_uu, O_uu],    # Δx_r\n",
    "                [ Δt*C_d,   O_uu, I_uu],    # Δx_i    \n",
    "               ])\n",
    "\n",
    "B_e = np.block([\n",
    "                [   O_xu],\n",
    "                [   I_uu],\n",
    "                [   O_uu],    \n",
    "               ])\n",
    "\n",
    "\n",
    "\n",
    "# weighting matrices\n",
    "Q_c = np.eye(A_e.shape[0])\n",
    "Q_c[-1,-1] = 1e7\n",
    "Q_c[-2,-2] = 1e7\n",
    "\n",
    "R_c = np.eye(B_e.shape[1])*10\n",
    "\n",
    "K_c,S_c,E_c = ssa.dlqr(A_e,B_e,Q_c,R_c)\n",
    "\n",
    "E_cont = np.log(E_c)/Δt\n",
    "\n",
    "\n",
    "gamma = np.exp(-1000*50.0e-6)  \n",
    "poles = np.array([gamma,gamma]*3);\n",
    "\n",
    "K_c = acker(A_e,B_e,poles)\n",
    "\n"
   ]
  },
  {
   "cell_type": "code",
   "execution_count": 32,
   "metadata": {},
   "outputs": [
    {
     "data": {
      "text/plain": [
       "array([[0., 0.],\n",
       "       [0., 0.],\n",
       "       [1., 0.],\n",
       "       [0., 1.],\n",
       "       [0., 0.],\n",
       "       [0., 0.]])"
      ]
     },
     "execution_count": 32,
     "metadata": {},
     "output_type": "execute_result"
    }
   ],
   "source": [
    "B_e"
   ]
  },
  {
   "cell_type": "code",
   "execution_count": 24,
   "metadata": {},
   "outputs": [
    {
     "name": "stdout",
     "output_type": "stream",
     "text": [
      "Du_r[0] = -2.1004933*Dx_d[0] - 0.015941738*Dx_d[1] - 876.73711*Dx_i[0] + 322.0766*Dx_i[1] - 0.041168797*Dx_r[0] - 0.00031799792*Dx_r[1];\n",
      "Du_r[1] = 0.015941738*Dx_d[0] - 2.1004933*Dx_d[1] - 322.0766*Dx_i[0] - 876.73711*Dx_i[1] + 0.00031799792*Dx_r[0] - 0.041168797*Dx_r[1];\n",
      "\n",
      "Warning: Control output is v_t_dq!!\n"
     ]
    }
   ],
   "source": [
    "N_x = 2\n",
    "N_r = 2\n",
    "N_i = 2\n",
    "\n",
    "Dx_d = sym.Matrix([sym.Symbol(f'Dx_d[{it}]', real=True) for it in range(N_x)])\n",
    "Dx_r = sym.Matrix([sym.Symbol(f'Dx_r[{it}]', real=True) for it in range(N_r)])\n",
    "Dx_i = sym.Matrix([sym.Symbol(f'Dx_i[{it}]', real=True) for it in range(N_i)])\n",
    "\n",
    "Dx_e = sym.Matrix([[Dx_d],[Dx_r],[Dx_i]])\n",
    "                   \n",
    "Du_r = -K_c @ Dx_e\n",
    "\n",
    "Du_r = sym.N(sym.simplify(u_r))\n",
    "\n",
    "for it in range(2):\n",
    "    print(f'Du_r[{it}] = {str(sym.N(Du_r[it],8))};')\n",
    " \n",
    "print('\\nWarning: Control output is v_t_dq!!')"
   ]
  },
  {
   "cell_type": "code",
   "execution_count": null,
   "metadata": {},
   "outputs": [],
   "source": []
  },
  {
   "cell_type": "markdown",
   "metadata": {},
   "source": [
    "## Controller in complex domain without delay"
   ]
  },
  {
   "cell_type": "markdown",
   "metadata": {},
   "source": [
    "### Plant model"
   ]
  },
  {
   "cell_type": "code",
   "execution_count": 36,
   "metadata": {},
   "outputs": [],
   "source": [
    "Δt = 50e-6\n",
    "R_t =  0.039269908169872414\n",
    "L_t =  0.00125\n",
    "C_m =  4e-06\n",
    "G_d =  1.0\n",
    "R_s =  0.039269908169872414\n",
    "L_s =  0.00125\n",
    "omega = 2*np.pi*50\n",
    "\n",
    "R = R_t + R_s\n",
    "L = L_t + L_s\n",
    "A =  np.array([\n",
    "    [-R/L-1j*omega],\n",
    "    ])\n",
    "\n",
    "B = np.array([\n",
    "    [ 1/L],\n",
    "    ])\n",
    "\n",
    "B_g = np.array([\n",
    "    [ -1/L],\n",
    "    ])\n",
    "\n",
    "C_c = np.array([\n",
    "    [ 1],\n",
    "    ])\n",
    "\n",
    "D_c = np.array([\n",
    "    [ 0],\n",
    "    ])\n",
    "\n",
    "C_o = np.array([\n",
    "    [ 1],\n",
    "    ])\n",
    "\n",
    "D_o = np.array([\n",
    "    [ 0],\n",
    "    ])\n",
    "\n",
    "# plant discretization\n",
    "A_d,B_d,C_d,D_d,Dt = sctrl.cont2discrete((A,B,C_c,D_c),Δt,method='zoh')\n",
    "A_,B_gd,C_,D_,Dt   = sctrl.cont2discrete((A,B_g,C_c,D_c),Δt,method='zoh')\n",
    "A_,B_,C_o,D_o,Dt   = sctrl.cont2discrete((A,B,C_o,D_o),Δt,method='zoh')\n"
   ]
  },
  {
   "cell_type": "code",
   "execution_count": null,
   "metadata": {},
   "outputs": [],
   "source": []
  },
  {
   "cell_type": "code",
   "execution_count": 37,
   "metadata": {},
   "outputs": [],
   "source": [
    "# Controller ##################################################################################\n",
    "N_x_c,N_u_d = B_d.shape\n",
    "N_z_c,N_x_c = C_c.shape\n",
    "\n",
    "\n",
    "O_ux = np.zeros((N_u_d,N_x_c))\n",
    "O_xu = np.zeros((N_x_c,N_u_d))\n",
    "O_uu = np.zeros((N_u_d,N_u_d))\n",
    "I_uu = np.eye(N_u_d)\n",
    "\n",
    "\n",
    "# discretized plant:\n",
    "# Δx_d = A_d*Δx_d + B_d*Δu_d\n",
    "# Δz_c = C_c*Δx_d + D_c*Δu_d\n",
    "\n",
    "# dinamic extension:\n",
    "# Δx_d = A_d*Δx_d + B_d*Δu_d\n",
    "# Δx_i = Δx_i + Δt*(Δz_c-Δz_c_ref) = Δx_i + Δt*C_c*Δx_d - Dt*Δz_c_ref\n",
    "# Δz_c = z_c - z_c_0\n",
    "# Δz_c_ref = z_c_ref - z_c_0\n",
    "# (Δz_c-Δz_c_ref) = z_c - z_c_ref\n",
    "\n",
    "\n",
    "\n",
    "A_e = np.block([\n",
    "                [    A_d,   O_xu],    # Δx_d\n",
    "                [ Δt*C_d,   I_uu],    # Δx_i    \n",
    "               ])\n",
    "\n",
    "B_e = np.block([\n",
    "                [   B_d],\n",
    "                [   O_uu],    \n",
    "               ])\n",
    "\n",
    "# weighting matrices\n",
    "Q_c = np.eye(A_e.shape[0])\n",
    "Q_c[-1,-1] = 1e7\n",
    "\n",
    "\n",
    "R_c = np.eye(B_e.shape[1])*10\n",
    "\n",
    "K_c,S_c,E_c = ssa.dlqr(A_e,B_e,Q_c,R_c)\n",
    "\n",
    "E_cont = np.log(E_c)/Δt\n",
    "\n",
    "\n",
    "gamma = np.exp(-1000*50.0e-6)  \n",
    "poles = np.array([gamma,gamma]);\n",
    "\n",
    "K_c = ssa.acker(A_e,B_e,poles).reshape(1,2)"
   ]
  },
  {
   "cell_type": "code",
   "execution_count": 38,
   "metadata": {},
   "outputs": [
    {
     "data": {
      "text/latex": [
       "$\\displaystyle \\left[\\begin{matrix}Dx_{d[0]}\\\\Dx_{d[1]}\\\\Dx_{r[0]}\\\\Dx_{r[1]}\\\\Dx_{i[0]}\\\\Dx_{i[1]}\\end{matrix}\\right]$"
      ],
      "text/plain": [
       "Matrix([\n",
       "[Dx_d[0]],\n",
       "[Dx_d[1]],\n",
       "[Dx_r[0]],\n",
       "[Dx_r[1]],\n",
       "[Dx_i[0]],\n",
       "[Dx_i[1]]])"
      ]
     },
     "execution_count": 38,
     "metadata": {},
     "output_type": "execute_result"
    }
   ],
   "source": [
    "Dx_e"
   ]
  },
  {
   "cell_type": "code",
   "execution_count": 39,
   "metadata": {},
   "outputs": [
    {
     "name": "stdout",
     "output_type": "stream",
     "text": [
      "Du_r[0] = -4.8022489*Dx_d[0] - 0.74707379*Dx_d[1] - 2380.3887*Dx_i[0] + 18.691019*Dx_i[1];\n",
      "Du_r[1] = 0.74707379*Dx_d[0] - 4.8022489*Dx_d[1] - 18.691019*Dx_i[0] - 2380.3887*Dx_i[1];\n",
      "\n",
      "Warning: Control output is v_t_dq!!\n"
     ]
    }
   ],
   "source": [
    "N_x_cplx = 1\n",
    "N_i_cplx = 1\n",
    "\n",
    "Dx_d = sym.Matrix([sym.Symbol(f'Dx_d[{it}]', real=True) + 1j*sym.Symbol(f'Dx_d[{it+1}]', real=True)  for it in range(0,N_x_cplx,2)])\n",
    "Dx_i = sym.Matrix([sym.Symbol(f'Dx_i[{it}]', real=True) + 1j*sym.Symbol(f'Dx_i[{it+1}]', real=True)  for it in range(0,N_i_cplx,2)])\n",
    "\n",
    "Dx_e = sym.Matrix([[Dx_d],[Dx_i]])\n",
    "  \n",
    "   \n",
    "\n",
    "\n",
    "                   \n",
    "u_r = -K_c @ Dx_e\n",
    "\n",
    "Du_r_1 = str(sym.N(sym.simplify(sym.re(u_r[0])),8))\n",
    "Du_r_2 = str(sym.N(sym.simplify(sym.im(u_r[0])),8))\n",
    "\n",
    "print(f'Du_r[0] = {Du_r_1};')\n",
    "print(f'Du_r[1] = {Du_r_2};')\n",
    "print('\\nWarning: Control output is v_t_dq!!')"
   ]
  },
  {
   "cell_type": "code",
   "execution_count": 70,
   "metadata": {},
   "outputs": [
    {
     "data": {
      "text/plain": [
       "array([   4.80224889 -0.74707379j, 2380.3887398 +18.69101907j])"
      ]
     },
     "execution_count": 70,
     "metadata": {},
     "output_type": "execute_result"
    }
   ],
   "source": [
    "K_c"
   ]
  },
  {
   "cell_type": "markdown",
   "metadata": {},
   "source": [
    "## Controller"
   ]
  },
  {
   "cell_type": "code",
   "execution_count": 16,
   "metadata": {},
   "outputs": [],
   "source": [
    "# Controller ##################################################################################\n",
    "N_x_c,N_u_d = B_d.shape\n",
    "N_z_c,N_x_c = C_c.shape\n",
    "\n",
    "\n",
    "O_ux = np.zeros((N_u_d,N_x_c))\n",
    "O_xu = np.zeros((N_x_c,N_u_d))\n",
    "O_uu = np.zeros((N_u_d,N_u_d))\n",
    "I_uu = np.eye(N_u_d)\n",
    "\n",
    "\n",
    "# discretized plant:\n",
    "# Δx_d = A_d*Δx_d + B_d*Δu_d\n",
    "# Δz_c = C_c*Δx_d + D_c*Δu_d\n",
    "\n",
    "# dinamic extension:\n",
    "# Δx_d = A_d*Δx_d + B_d*Δu_d\n",
    "# Δx_i = Δx_i + Δt*(Δz_c-Δz_c_ref) = Δx_i + Δt*C_c*Δx_d - Dt*Δz_c_ref\n",
    "# Δz_c = z_c - z_c_0\n",
    "# Δz_c_ref = z_c_ref - z_c_0\n",
    "# (Δz_c-Δz_c_ref) = z_c - z_c_ref\n",
    "\n",
    "\n",
    "A_e = np.block([\n",
    "                [    A_d,    B_d, O_xu],    # Δx_d\n",
    "                [   O_ux,   O_uu, O_uu],    # Δx_r\n",
    "                [ Δt*C_d,   O_uu, I_uu],    # Δx_i    \n",
    "               ])\n",
    "\n",
    "B_e = np.block([\n",
    "                [   O_xu],\n",
    "                [   I_uu],\n",
    "                [   O_uu],    \n",
    "               ])\n",
    "\n",
    "A_e = np.block([\n",
    "                [    A_d,   O_xu],    # Δx_d\n",
    "                [ Δt*C_d,   I_uu],    # Δx_i    \n",
    "               ])\n",
    "\n",
    "B_e = np.block([\n",
    "                [   B_d],\n",
    "                [   O_uu],    \n",
    "               ])\n",
    "\n",
    "# weighting matrices\n",
    "Q_c = np.eye(A_e.shape[0])\n",
    "Q_c[-1,-1] = 1e7\n",
    "\n",
    "\n",
    "R_c = np.eye(B_e.shape[1])*10\n",
    "\n",
    "K_c,S_c,E_c = ssa.dlqr(A_e,B_e,Q_c,R_c)\n",
    "\n",
    "E_cont = np.log(E_c)/Δt\n",
    "\n"
   ]
  },
  {
   "cell_type": "code",
   "execution_count": 23,
   "metadata": {},
   "outputs": [],
   "source": [
    "\n",
    "\n",
    " \n",
    " "
   ]
  },
  {
   "cell_type": "code",
   "execution_count": 24,
   "metadata": {},
   "outputs": [
    {
     "data": {
      "text/plain": [
       "array([ 5.00382521e+01+3.92904700e-01j, -9.03149268e+05-7.09160647e+03j])"
      ]
     },
     "execution_count": 24,
     "metadata": {},
     "output_type": "execute_result"
    }
   ],
   "source": [
    "K"
   ]
  },
  {
   "cell_type": "code",
   "execution_count": 199,
   "metadata": {},
   "outputs": [
    {
     "data": {
      "text/plain": [
       "array([[9.98307263e-01-0.01568266j, 0.00000000e+00+0.j        ],\n",
       "       [5.00000000e-05+0.j        , 1.00000000e+00+0.j        ]])"
      ]
     },
     "execution_count": 199,
     "metadata": {},
     "output_type": "execute_result"
    }
   ],
   "source": [
    "A_e"
   ]
  },
  {
   "cell_type": "code",
   "execution_count": 164,
   "metadata": {},
   "outputs": [
    {
     "name": "stdout",
     "output_type": "stream",
     "text": [
      "Du_r_1 = -4.8037*Dx_d_1 - 0.7471*Dx_d_2 - 2381.8*Dx_i_1 + 18.702*Dx_i_2;\n",
      "Du_r_2 = 0.7471*Dx_d_1 - 4.8037*Dx_d_2 - 18.702*Dx_i_1 - 2381.8*Dx_i_2;\n",
      "\n",
      "Warning: Control output is v_t_dq!!\n"
     ]
    }
   ],
   "source": [
    "# Control without observer Du_r = -K_c*Dx_e\n",
    "Dx_d_1,Dx_d_2 = sym.symbols('Dx_d_1,Dx_d_2', real=True)\n",
    "Dx_r_1,Dx_r_2 = sym.symbols('Dx_r_1,Dx_r_2', real=True)\n",
    "Dx_i_1,Dx_i_2 = sym.symbols('Dx_i_1,Dx_i_2', real=True)\n",
    "\n",
    "Dx_d_12 = Dx_d_1 + 1j*Dx_d_2\n",
    "Dx_r_12 = Dx_r_1 + 1j*Dx_r_2\n",
    "Dx_i_12 = Dx_i_1 + 1j*Dx_i_2\n",
    "\n",
    "\n",
    "   \n",
    "   \n",
    "K_c = np.array([4.8037 - 0.7471j, 2.3818e+03 + 1.8702e+01j ]).reshape(1,2)\n",
    "   \n",
    "x_e = sym.Matrix([Dx_d_12,Dx_r_12,Dx_i_12])\n",
    "x_e = sym.Matrix([Dx_d_12,Dx_i_12])\n",
    "u_r = -K_c @ x_e\n",
    "\n",
    "Du_r_1 = str(sym.N(sym.simplify(sym.re(u_r[0])),8))\n",
    "Du_r_2 = str(sym.N(sym.simplify(sym.im(u_r[0])),8))\n",
    "\n",
    "print(f'Du_r_1 = {Du_r_1};')\n",
    "print(f'Du_r_2 = {Du_r_2};')\n",
    "print('\\nWarning: Control output is v_t_dq!!')"
   ]
  },
  {
   "cell_type": "code",
   "execution_count": 159,
   "metadata": {},
   "outputs": [
    {
     "data": {
      "text/plain": [
       "0.7853981633974483"
      ]
     },
     "execution_count": 159,
     "metadata": {},
     "output_type": "execute_result"
    }
   ],
   "source": [
    "omega*L"
   ]
  },
  {
   "cell_type": "code",
   "execution_count": 76,
   "metadata": {},
   "outputs": [
    {
     "data": {
      "text/plain": [
       "array([-7.13979286e+05-58453.58811349j, -4.30854602e+02  +604.05182493j,\n",
       "       -4.24472904e+02  -289.89255957j])"
      ]
     },
     "execution_count": 76,
     "metadata": {},
     "output_type": "execute_result"
    }
   ],
   "source": [
    "E_cont"
   ]
  },
  {
   "cell_type": "markdown",
   "metadata": {},
   "source": [
    "## Observer"
   ]
  },
  {
   "cell_type": "code",
   "execution_count": 10,
   "metadata": {},
   "outputs": [
    {
     "name": "stdout",
     "output_type": "stream",
     "text": [
      "damp_ctrl [-0.99954394 -0.99954394 -0.99989495 -0.99989495 -1.          1.        ]\n",
      "damp_obs [-0.99987663]\n"
     ]
    }
   ],
   "source": [
    "N_z_o = C_o.shape[0]\n",
    "\n",
    "Q_o = np.eye(A_d.shape[0])\n",
    "\n",
    "R_o = np.diag([1]*N_z_o)\n",
    "K_o_T,S_o,E_o = ssa.dlqr(A_d.T,C_o.T,Q_o,R_o)\n",
    "K_o = K_o_T.T\n",
    "\n",
    "\n",
    "print('damp_ctrl',-E_c.real/np.abs(E_c))\n",
    "print('damp_obs',-E_o.real/np.abs(E_o))"
   ]
  },
  {
   "cell_type": "code",
   "execution_count": null,
   "metadata": {},
   "outputs": [],
   "source": []
  },
  {
   "cell_type": "code",
   "execution_count": null,
   "metadata": {},
   "outputs": [],
   "source": []
  },
  {
   "cell_type": "code",
   "execution_count": null,
   "metadata": {},
   "outputs": [],
   "source": []
  },
  {
   "cell_type": "code",
   "execution_count": null,
   "metadata": {},
   "outputs": [],
   "source": []
  },
  {
   "cell_type": "markdown",
   "metadata": {},
   "source": [
    "## Simulink"
   ]
  },
  {
   "cell_type": "code",
   "execution_count": 78,
   "metadata": {},
   "outputs": [
    {
     "name": "stdout",
     "output_type": "stream",
     "text": [
      "Du_r_1 = Dx_d_1*(-2.1004933 - 0.015941738*I) + Dx_i_1*(-876.73711 + 322.0766*I) + Dx_r_1*(-0.041168797 - 0.00031799792*I);\n",
      "\n",
      "Warning: Control output is v_t_dq!!\n"
     ]
    }
   ],
   "source": [
    "# Control without observer Du_r = -K_c*Dx_e\n",
    "Dx_d_1 = sym.symbols('Dx_d_1')\n",
    "Dx_r_1 = sym.symbols('Dx_r_1')\n",
    "Dx_i_1 = sym.symbols('Dx_i_1')\n",
    "\n",
    "x_e = sym.Matrix([Dx_d_1,Dx_r_1,Dx_i_1 ])\n",
    "u_r = -K_c * x_e\n",
    "\n",
    "u_r_d = str(sym.N(u_r[0],8))\n",
    "\n",
    "print(f'Du_r_1 = {u_r_d};')\n",
    "\n",
    "print('\\nWarning: Control output is v_t_dq!!')"
   ]
  },
  {
   "cell_type": "code",
   "execution_count": null,
   "metadata": {},
   "outputs": [],
   "source": []
  },
  {
   "cell_type": "code",
   "execution_count": 32,
   "metadata": {},
   "outputs": [
    {
     "name": "stdout",
     "output_type": "stream",
     "text": [
      "#include \"myfcn.h\"\n",
      "#include <math.h>\n",
      "double myfcn(double Dx_d_1, double Dx_i_1, double Dx_r_1) {\n",
      "   double myfcn_result;\n",
      "   myfcn_result = Dx_d_1*(-0.0032323944000000001 + 2.3373778999999999e-5*I) + Dx_i_1*(-0.10354921 + 0.99459178000000004*I) + Dx_r_1*(-6.4596544999999994e-5 - 2.0057920000000001e-8*I);\n",
      "   return myfcn_result;\n",
      "}\n",
      "\n"
     ]
    }
   ],
   "source": [
    "from sympy.utilities.codegen import codegen\n",
    "from sympy.abc import f, g\n",
    "\n",
    "from sympy import Eq\n",
    "\n",
    "[(c_name, c_code), (h_name, c_header)] = codegen(\n",
    "\n",
    "     [(\"myfcn\", u_r_d)],\n",
    "\n",
    "     \"C99\", header=False, empty=False)\n",
    "\n",
    "print(c_code)\n",
    "\n"
   ]
  },
  {
   "cell_type": "code",
   "execution_count": null,
   "metadata": {},
   "outputs": [],
   "source": []
  },
  {
   "cell_type": "code",
   "execution_count": 29,
   "metadata": {},
   "outputs": [
    {
     "name": "stdout",
     "output_type": "stream",
     "text": [
      "xD[4] = 0.0392952872921423*Dx_r_1 + 0.000617299701089028*Dx_r_2 + 0.167670572903802*i_sd - 0.167670572903802*i_sd_0 + 0.427599429013122*v_md - 0.427599429013122*v_md_0 + 0.962811636697318*xD[4] - 0.430586049216921*xD[6] - 0.132051772873075*xD[8];\n",
      "xD[5] = -0.000617299701089028*Dx_r_1 + 0.0392952872921423*Dx_r_2 + 0.167670572903802*i_sq - 0.167670572903802*i_sq_0 + 0.427599429013122*v_mq - 0.427599429013122*v_mq_0 + 0.962811636697318*xD[5] - 0.430586049216921*xD[7] - 0.132051772873075*xD[9];\n",
      "xD[6] = 0.0356406531431186*Dx_r_1 + 0.000559888120127431*Dx_r_2 - 0.425448653071038*i_sd + 0.425448653071038*i_sd_0 + 0.443158057967852*v_md - 0.443158057967852*v_md_0 + 0.933318813687106*xD[4] - 0.449166750687225*xD[6] - 0.507870160616068*xD[8];\n",
      "xD[7] = -0.000559888120127431*Dx_r_1 + 0.0356406531431186*Dx_r_2 - 0.425448653071038*i_sq + 0.425448653071038*i_sq_0 + 0.443158057967853*v_mq - 0.443158057967853*v_mq_0 + 0.933318813687106*xD[5] - 0.449166750687225*xD[7] - 0.507870160616068*xD[9];\n",
      "xD[8] = 0.000668382397147673*Dx_r_1 + 1.0499789730636e-5*Dx_r_2 + 0.590326602628365*i_sd - 0.590326602628365*i_sd_0 - 0.0126468749218836*v_md + 0.0126468749218836*v_md_0 + 0.0356188000307263*xD[4] + 0.0156334951256824*xD[6] + 0.372485034068953*xD[8];\n",
      "xD[9] = -1.0499789730636e-5*Dx_r_1 + 0.000668382397147673*Dx_r_2 + 0.590326602628365*i_sq - 0.590326602628365*i_sq_0 - 0.0126468749218836*v_mq + 0.0126468749218836*v_mq_0 + 0.0356188000307263*xD[5] + 0.0156334951256824*xD[7] + 0.372485034068953*xD[9];\n"
     ]
    }
   ],
   "source": [
    "it_ini = 4\n",
    "Δx_o = sym.Matrix([sym.Symbol(f'xD[{it+it_ini}]') for it in range(6)])\n",
    "Δz_o = sym.Matrix([sym.Symbol(item) - sym.Symbol(item+'_0') for item in ['v_md', 'v_mq', 'i_sd', 'i_sq']])\n",
    "Δx_r = sym.Matrix([sym.Symbol(f'Dx_r_{it+1}') for it in range(2)])\n",
    "Δu_pert = sym.Matrix([sym.Symbol(f'Du_pert_{it+1}') for it in range(2)])\n",
    "\n",
    "Δx_o_kp1 = A_d @ Δx_o + B_b@(Δx_r) +  K_o @ (Δz_o - C_o @ Δx_o) # + B_pert@Δu_pert  +  K_o @ (Δz_o - C_o @ Δx_o - D_o @ (Δx_r))\n",
    "\n",
    "for it in range(6):\n",
    "    print(f'xD[{it+it_ini}] = {Δx_o_kp1[it]};')"
   ]
  },
  {
   "cell_type": "code",
   "execution_count": 30,
   "metadata": {},
   "outputs": [
    {
     "name": "stdout",
     "output_type": "stream",
     "text": [
      "Dx_r_1 = -0.015707317*Du_r_1 + 0.99987663*Du_r_2;\n",
      "Dx_r_2 = -0.015707317*Du_r_1 + 0.99987663*Du_r_2;\n"
     ]
    }
   ],
   "source": [
    "#eta_dq[0] = Du_r_1*2/v_dc[0] + (v_sd)*2/v_dc[0] ; \n",
    "#eta_dq[1] = Du_r_2*2/v_dc[0] + (v_sq)*2/v_dc[0] ;\n",
    "#Du_r_1 = eta_dq[0]*v_dc[0]/2\n",
    "#Du_r_2 = eta_dq[1]*v_dc[0]/2\n",
    "\n",
    "Du_r_1,Du_r_2 = sym.symbols('Du_r_1,Du_r_2')\n",
    "Du_r = sym.Matrix([Du_r_1,Du_r_2 ])\n",
    "\n",
    "Dx_r = W@Du_r\n",
    "\n",
    "Dx_r_1 = str(sym.N(Dx_r[0],8))\n",
    "Dx_r_1 = str(sym.N(Dx_r[1],8))\n",
    "\n",
    "print(f'Dx_r_1 = {Dx_r_1};')\n",
    "print(f'Dx_r_2 = {Dx_r_1};')"
   ]
  },
  {
   "cell_type": "code",
   "execution_count": 32,
   "metadata": {},
   "outputs": [
    {
     "name": "stdout",
     "output_type": "stream",
     "text": [
      "Du_r_1 = -2715.7977*Dx_i_1 + 1040.9568*Dx_i_2 - 0.071871552*Dx_r_1 + 0.00052148736*Dx_r_2 - 1.8262175*xD[4] + 0.019754652*xD[5] - 0.0048070784*xD[6] + 0.0010494948*xD[7] - 3.4543535*xD[8] + 0.39761572*xD[9];\n",
      "Du_r_2 = -1040.9568*Dx_i_1 - 2715.7977*Dx_i_2 - 0.00052148736*Dx_r_1 - 0.071871552*Dx_r_2 - 0.019754652*xD[4] - 1.8262175*xD[5] - 0.0010494948*xD[6] - 0.0048070784*xD[7] - 0.39761572*xD[8] - 3.4543535*xD[9];\n",
      "\n",
      "Warning: Control output is eta_dq!!\n"
     ]
    }
   ],
   "source": [
    "# Control with observer Du_r = -K_c*Dx_o\n",
    "x_d_1,x_d_2,x_d_3,x_d_4,x_d_5,x_d_6 = sym.symbols('xD[4],xD[5],xD[6],xD[7],xD[8],xD[9]')\n",
    "x_r_1,x_r_2 = sym.symbols('Dx_r_1,Dx_r_2')\n",
    "x_i_1,x_i_2 = sym.symbols('Dx_i_1,Dx_i_2')\n",
    "\n",
    "x_e = sym.Matrix([x_d_1,x_d_2,x_d_3,x_d_4,x_d_5,x_d_6,x_r_1,x_r_2,x_i_1,x_i_2])\n",
    "u_r = -K_c * x_e\n",
    "\n",
    "u_r_d = str(sym.N(u_r[0],8))\n",
    "u_r_q = str(sym.N(u_r[1],8))\n",
    "\n",
    "print(f'Du_r_1 = {u_r_d};')\n",
    "print(f'Du_r_2 = {u_r_q};')\n",
    "\n",
    "print('\\nWarning: Control output is eta_dq!!')"
   ]
  },
  {
   "cell_type": "markdown",
   "metadata": {},
   "source": [
    "## Symbolic obtention of the plant model"
   ]
  },
  {
   "cell_type": "raw",
   "metadata": {},
   "source": [
    "# as in pydae example (synchronous dq):\n",
    "j*di_tD = j/L_t*(v_tD - R_t*i_tD + omega*L_t*i_tQ - v_mD)  \n",
    "  di_tQ = 1/L_t*(v_tQ - R_t*i_tQ - omega*L_t*i_tD - v_mQ) \n",
    "dv_mD = 1/C_m*(i_tD + C_m*omega*v_mQ - G_d*v_mD - i_sD) \n",
    "dv_mQ = 1/C_m*(i_tQ - C_m*omega*v_mD - G_d*v_mQ - i_sQ) \n",
    "di_sD = 1/L_s*(v_mD - R_s*i_sD + omega*L_s*i_sQ - v_sD)  \n",
    "di_sQ = 1/L_s*(v_mQ - R_s*i_sQ - omega*L_s*i_sD - v_sQ) \n",
    "\n",
    "# complex equivalent:\n",
    "di_tD = 1/L_t*(v_tD - R_t*i_tD - v_mD)  \n",
    "di_tQ = 1/L_t*(v_tQ - R_t*i_tQ - v_mQ) \n",
    "dv_mD = 1/C_m*(i_tD - G_d*v_mD - i_sD) \n",
    "dv_mQ = 1/C_m*(i_tQ - G_d*v_mQ - i_sQ) \n",
    "di_sD = 1/L_s*(v_mD - R_s*i_sD - v_sD)  \n",
    "di_sQ = 1/L_s*(v_mQ - R_s*i_sQ - v_sQ)\n",
    "\n",
    "j*di_tD + di_tQ =  1/L_t*(j*v_tD + v_tQ - R_t*(j*i_tD + i_tQ)  + omega*L_t * j/j*(j*i_tQ - i_tD) - (j*v_mD + v_mQ))  \n",
    "di_t = 1/L_t*(v_t - R_t*i_t + omega*L_t*j*i_t - v_m)\n",
    "di_t = -R_t/L_t+j*omega\n"
   ]
  },
  {
   "cell_type": "code",
   "execution_count": null,
   "metadata": {},
   "outputs": [],
   "source": [
    "R_t,L_t,C_m,G_d,R_s,L_s = sym.symbols('R_t,L_t,C_m,G_d,R_s,L_s', real=True)\n",
    "i_tD,i_tQ,v_mD,v_mQ,i_sD,i_sQ = sym.symbols('i_tD,i_tQ,v_mD,v_mQ,i_sD,i_sQ', real=True)\n",
    "v_tD,v_tQ = sym.symbols('v_tD,v_tQ', real=True)\n",
    "v_sD,v_sQ = sym.symbols('v_sD,v_sQ', real=True)\n"
   ]
  },
  {
   "cell_type": "code",
   "execution_count": null,
   "metadata": {},
   "outputs": [],
   "source": []
  },
  {
   "cell_type": "code",
   "execution_count": 44,
   "metadata": {},
   "outputs": [
    {
     "data": {
      "text/latex": [
       "$\\displaystyle \\left[\\begin{matrix}0\\\\0\\\\0\\\\0\\\\0\\\\0\\end{matrix}\\right]$"
      ],
      "text/plain": [
       "Matrix([\n",
       "[0],\n",
       "[0],\n",
       "[0],\n",
       "[0],\n",
       "[0],\n",
       "[0]])"
      ]
     },
     "execution_count": 44,
     "metadata": {},
     "output_type": "execute_result"
    }
   ],
   "source": [
    "R_t,L_t,C_m,G_d,R_s,L_s = sym.symbols('R_t,L_t,C_m,G_d,R_s,L_s', real=True)\n",
    "i_tD,i_tQ,v_mD,v_mQ,i_sD,i_sQ = sym.symbols('i_tD,i_tQ,v_mD,v_mQ,i_sD,i_sQ', real=True)\n",
    "v_tD,v_tQ = sym.symbols('v_tD,v_tQ', real=True)\n",
    "v_sD,v_sQ = sym.symbols('v_sD,v_sQ', real=True)\n",
    "\n",
    "A = sym.Matrix([\n",
    "    [-R_t/L_t,       0,   -1/L_t,        0,        0,        0],\n",
    "    [       0,-R_t/L_t,        0,   -1/L_t,        0,        0],\n",
    "    [   1/C_m,       0, -G_d/C_m,        0,   -1/C_m,        0],\n",
    "    [       0,   1/C_m,        0, -G_d/C_m,        0,   -1/C_m],\n",
    "    [       0,       0,    1/L_s,        0, -R_s/L_s,        0],\n",
    "    [       0,       0,        0,    1/L_s,        0, -R_s/L_s],\n",
    "    ])\n",
    "\n",
    "B = sym.Matrix([\n",
    "    [ 1/L_t,        0],\n",
    "    [       0,  1/L_t],\n",
    "    [       0,      0],\n",
    "    [       0,      0],\n",
    "    [       0,      0],\n",
    "    [       0,      0],\n",
    "    ])\n",
    "\n",
    "B_g = sym.Matrix([\n",
    "    [       0,      0],\n",
    "    [       0,      0],\n",
    "    [       0,      0],\n",
    "    [       0,      0],\n",
    "    [-1/L_s,        0],\n",
    "    [       0, -1/L_s],\n",
    "    ])\n",
    "\n",
    "x = sym.Matrix([i_tD,i_tQ,v_mD,v_mQ,i_sD,i_sQ])\n",
    "u = sym.Matrix([v_tD,v_tQ])\n",
    "u_g = sym.Matrix([v_sD,v_sQ])\n",
    "\n",
    "dx_new = A@x + B@u + B_g@u_g\n",
    "\n",
    "di_tD = 1/L_t*(v_tD - R_t*i_tD - v_mD)  \n",
    "di_tQ = 1/L_t*(v_tQ - R_t*i_tQ - v_mQ) \n",
    "dv_mD = 1/C_m*(i_tD - G_d*v_mD - i_sD) \n",
    "dv_mQ = 1/C_m*(i_tQ - G_d*v_mQ - i_sQ) \n",
    "di_sD = 1/L_s*(v_mD - R_s*i_sD - v_sD)  \n",
    "di_sQ = 1/L_s*(v_mQ - R_s*i_sQ - v_sQ)\n",
    "dx = sym.Matrix([di_tD,di_tQ,dv_mD,dv_mQ,di_sD,di_sQ])\n",
    "\n",
    "dx = sym.Matrix([di_tD,di_tQ,dv_mD,dv_mQ,di_sD,di_sQ])\n",
    "sym.simplify(dx_new - dx)  # just to check the model is ok"
   ]
  },
  {
   "cell_type": "code",
   "execution_count": 40,
   "metadata": {},
   "outputs": [],
   "source": [
    "import os\n"
   ]
  },
  {
   "cell_type": "code",
   "execution_count": 41,
   "metadata": {},
   "outputs": [
    {
     "data": {
      "text/plain": [
       "'nt'"
      ]
     },
     "execution_count": 41,
     "metadata": {},
     "output_type": "execute_result"
    }
   ],
   "source": [
    "os.name"
   ]
  },
  {
   "cell_type": "code",
   "execution_count": 34,
   "metadata": {},
   "outputs": [
    {
     "data": {
      "application/vnd.jupyter.widget-view+json": {
       "model_id": "79f5da05dca64be98b14eb7b7a5d2dba",
       "version_major": 2,
       "version_minor": 0
      },
      "text/plain": [
       "FloatProgress(value=0.0, max=1.0)"
      ]
     },
     "metadata": {},
     "output_type": "display_data"
    },
    {
     "data": {
      "application/vnd.jupyter.widget-view+json": {
       "model_id": "7225d06142db4fcd8a4d1fd4f7b7dc5a",
       "version_major": 2,
       "version_minor": 0
      },
      "text/plain": [
       "VBox(children=(FloatSlider(value=1.0, max=2.0, min=0.1), Button(description='Reiniciar', style=ButtonStyle(), …"
      ]
     },
     "metadata": {},
     "output_type": "display_data"
    }
   ],
   "source": []
  },
  {
   "cell_type": "code",
   "execution_count": 32,
   "metadata": {},
   "outputs": [
    {
     "data": {
      "text/plain": [
       "\u001b[1;31mDocstring:\u001b[0m\n",
       "sleep(seconds)\n",
       "\n",
       "Delay execution for a given number of seconds.  The argument may be\n",
       "a floating point number for subsecond precision.\n",
       "\u001b[1;31mType:\u001b[0m      builtin_function_or_method\n"
      ]
     },
     "metadata": {},
     "output_type": "display_data"
    }
   ],
   "source": [
    "time.sleep?"
   ]
  },
  {
   "cell_type": "code",
   "execution_count": null,
   "metadata": {},
   "outputs": [],
   "source": []
  }
 ],
 "metadata": {
  "kernelspec": {
   "display_name": "Python 3",
   "language": "python",
   "name": "python3"
  },
  "language_info": {
   "codemirror_mode": {
    "name": "ipython",
    "version": 3
   },
   "file_extension": ".py",
   "mimetype": "text/x-python",
   "name": "python",
   "nbconvert_exporter": "python",
   "pygments_lexer": "ipython3",
   "version": "3.7.6"
  }
 },
 "nbformat": 4,
 "nbformat_minor": 4
}
