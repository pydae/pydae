{
 "cells": [
  {
   "cell_type": "code",
   "execution_count": 5,
   "metadata": {},
   "outputs": [],
   "source": [
    "import numpy as np\n",
    "import pydae.build as db\n",
    "import sympy as sym"
   ]
  },
  {
   "cell_type": "code",
   "execution_count": 6,
   "metadata": {},
   "outputs": [],
   "source": [
    "Omega_b = 2*np.pi*50\n",
    "L_t = 1.25e-3; #Converter side Filter Inductance H\n",
    "R_t = L_t*Omega_b/10; #Converter side Filter resistance Ohms. Quality Factor of 10\n",
    "L_s = 1.25e-3; #Grid Side Filter Inductance H\n",
    "R_s = L_s*Omega_b/10; #Grid side Filter resistance Ohms. Quality Factor of 10\n",
    "R_d = 20; #Dmaping resistor\n",
    "C_m = 4e-6; #Filter capacitance\n",
    "tau_ctrl_1 = 5e-3; #Time constant of CTRL 1\n",
    "Ts_Power=50e-6; #Sample time of power plant\n",
    "Ts_Control=50e-6; #Sample time of controller\n",
    "K_pi = (L_t+L_s)/tau_ctrl_1; #Proportional gain of CTRL 1\n",
    "K_ii = (R_t+R_s)/tau_ctrl_1; #Integral gain of CTRL 1\n",
    "H = 5.0; # desired virtual inertia \n",
    "K_p = 0.01; # active power proportinal gain\n",
    "#H = T_p/K_p/2\n",
    "\n",
    "T_p = K_p*2*H;  # active power integral time constant\n",
    "\n",
    "K_q = 0.1; # reactive power proportinal gain\n",
    "T_q = 0.1; # reactive power integral time constant\n",
    "\n",
    "X_v = 0.05; # virtual reactance\n",
    "R_v = 0.01;  # virtual resistance\n",
    "\n",
    "K_pv = 0.0004\n",
    "K_iv = 11.313708\n",
    "\n",
    "g01 = {\"name\":\"g01\",\"bus\": \"1\",\"U_b\":400.0,\"S_b_kVA\":30,\"v_dc\":750,'type':'sm2_i',\n",
    "           'R_t':R_t,'L_t':L_t,'R_s':R_s,'L_s':L_s,'C_m':C_m,'K_phi':0.00,'omega':Omega_b, 'G_d':1.0, #VSC\n",
    "           'T_eta':0.01,   # CTRL0\n",
    "           'K_pi':K_pi,'K_ii':K_ii,'Gv_in':0.1,   # CTRL1\n",
    "           'K_pv':K_pv,'K_iv':K_iv,   # CTRL2\n",
    "           'K_p':K_p,'T_p':T_p,'K_q':K_q,'T_q':T_q,'R_v':R_v,'X_v':X_v,'p_m_ref':0.5,'q_s_ref':0.2,   # CTRL3\n",
    "           'H':5.0,'D':5.0,  # CTRL3\n",
    "           'K_f':20.0, 'K_vr':20.0}   # CTRL4\n",
    "\n",
    "data = {\n",
    "\"system\":{\"f_hz\":50,\"model_type\":\"ae\"},\n",
    "\"buses\": [{\"bus\":\"1\"},{\"bus\":\"2\"}],\n",
    "\"lines\":     [  {\"bus_j\":\"1\", \"bus_k\":\"2\", \"R\":0.01, \"X\":0.1, \"B\":1e-3}\n",
    "             ],\n",
    "\"loads\" : [\n",
    "    #    {\"bus\": \"R06\", \"kVA\": 55.0, \"pf\": 0.95, \"T_i\":0.01,\"I_max\":1200}\n",
    "        ],\n",
    "\"grid_formers\" : [\n",
    "                  {\"bus\": \"1\",\"V_phph\":400.0, \"deg\":0.0},\n",
    "                  {\"bus\": \"2\",\"V_phph\":400.0, \"deg\":0.0},\n",
    "                 ],\n",
    "\"vsgs\" : [g01]}\n"
   ]
  },
  {
   "cell_type": "code",
   "execution_count": 7,
   "metadata": {},
   "outputs": [],
   "source": [
    "cos = sym.cos\n",
    "sin = sym.sin\n",
    "\n",
    "vsg = g01\n",
    "\n",
    "name = vsg['name']\n",
    "bus = vsg['bus']\n",
    "\n",
    "U_b = vsg['U_b']\n",
    "S_b = vsg['S_b_kVA']*1000\n",
    "I_b = S_b/(np.sqrt(3)*U_b)\n",
    "\n",
    "U_bdq = U_b*(np.sqrt(2))\n",
    "V_bdq = U_bdq/np.sqrt(3)\n",
    "I_bdq = I_b*np.sqrt(2)\n",
    "\n",
    "eta_D,eta_Q =sym.symbols(f'eta_D_{name},eta_Q_{name}',real=True)\n",
    "\n",
    "params_vsg = {}\n",
    "u_vsg = {}\n",
    "\n",
    "## Transformations #########################################################################\n",
    "## feedbacks:\n",
    "feedbacks = ['i_tD','i_tQ'] + ['v_mD','v_mQ'] + ['i_sD','i_sQ'] + ['v_sD','v_sQ'] + ['phi']\n",
    "for item in feedbacks:\n",
    "    exec(f\"{item} = sym.Symbol('{item}_{name}', real=True)\",globals())    \n",
    "\n",
    "v_md,v_mq = sym.symbols(f'v_md_{name},v_mq_{name}', real=True)\n",
    "v_sd,v_sq = sym.symbols(f'v_sd_{name},v_sq_{name}', real=True)\n",
    "i_sd,i_sq = sym.symbols(f'i_sd_{name},i_sq_{name}', real=True)\n",
    "i_td,i_tq = sym.symbols(f'i_td_{name},i_tq_{name}', real=True)\n",
    "eta_d,eta_q = sym.symbols(f'eta_d_{name},eta_q_{name}', real=True)\n",
    "phi,dum= sym.symbols(f'phi_{name},dum_{name}', real=True)\n",
    "\n",
    "eq_v_md = -v_md + v_mD*cos(phi) + v_mQ*sin(phi) # original park\n",
    "eq_v_mq = -v_mq - v_mD*sin(phi) + v_mQ*cos(phi) # original park\n",
    "\n",
    "eq_v_sd = -v_sd + v_sD*cos(phi) + v_sQ*sin(phi) # original park\n",
    "eq_v_sq = -v_sq - v_sD*sin(phi) + v_sQ*cos(phi) # original park\n",
    "\n",
    "eq_i_sd = -i_sd + i_sD*cos(phi) + i_sQ*sin(phi) # original park\n",
    "eq_i_sq = -i_sq - i_sD*sin(phi) + i_sQ*cos(phi) # original park\n",
    "\n",
    "# jmm: medimos i_t?\n",
    "eq_i_td = -i_td + i_tD*cos(phi) + i_tQ*sin(phi) # original park\n",
    "eq_i_tq = -i_tq - i_tD*sin(phi) + i_tQ*cos(phi) # original park\n",
    "\n",
    "eq_eta_D = -eta_D + eta_d*cos(phi) - eta_q*sin(phi) # original park\n",
    "eq_eta_Q = -eta_Q + eta_d*sin(phi) + eta_q*cos(phi) # original park\n",
    "\n",
    "g_aux = [eq_v_md,eq_v_mq,eq_v_sd,eq_v_sq,eq_i_td,eq_i_tq,eq_i_sd,eq_i_sq,eq_eta_D,eq_eta_Q]    \n",
    "y_aux = [   v_md,   v_mq,   v_sd,   v_sq,   i_td,   i_tq,   i_sd,   i_sq,   eta_D,   eta_Q]\n",
    "y_0_aux = [  0.0,  V_bdq,    0.0,  V_bdq,       0,      0]    \n",
    "        \n",
    "        \n",
    "## parameters:\n",
    "params_vsc_filter = {}\n",
    "for item in ['L_t','R_t','C_m','L_s','R_s','omega','G_d']:\n",
    "    params_vsc_filter.update({f'{item}_{name}':vsg[item]})\n",
    "    exec(f\"{item} = sym.Symbol('{item}_{name}', real=True)\",globals())\n",
    "## inputs:\n",
    "u_vsc_filter = {}\n",
    "for item in ['v_dc']:#,'eta_D','eta_Q']:\n",
    "    u_vsc_filter.update({f'{item}_{name}':vsg[item]})\n",
    "    exec(f\"{item} = sym.Symbol('{item}_{name}', real=True)\",globals())\n",
    "## dynamic states:\n",
    "x_list_vsc_filter = []\n",
    "for item in x_list_vsc_filter:\n",
    "    exec(f\"{item} = sym.Symbol('{item}_{name}', real=True)\")\n",
    "## algebraic states\n",
    "y_list_vsc_filter = ['i_tD','i_tQ'] + ['v_mD','v_mQ'] + ['i_sD','i_sQ'] + ['v_sD','v_sQ']\n",
    "for item in y_list_vsc_filter:\n",
    "    exec(f\"{item} = sym.Symbol('{item}_{name}', real=True)\",globals())    \n",
    "## feedbacks:\n",
    "v_poiD,v_poiQ = sym.symbols(f'v_{bus}_D,v_{bus}_Q', real=True)\n",
    "i_poiD,i_poiQ = sym.symbols(f'i_{bus}_D,i_{bus}_Q', real=True)\n",
    "\n",
    "#eta_D = eta_D_ref # - Gv_in*(i_tD - i_sD)\n",
    "#eta_Q = eta_Q_ref #- Gv_in*(i_tQ - i_sQ)\n",
    "\n",
    "# LCL filter\n",
    "di_tD = 1/L_t*(eta_D/2*v_dc - R_t*i_tD + omega*L_t*i_tQ - v_mD)  \n",
    "di_tQ = 1/L_t*(eta_Q/2*v_dc - R_t*i_tQ - omega*L_t*i_tD - v_mQ) \n",
    "dv_mD = 1/C_m*(i_tD + C_m*omega*v_mQ - G_d*v_mD - i_sD) \n",
    "dv_mQ = 1/C_m*(i_tQ - C_m*omega*v_mD - G_d*v_mQ - i_sQ) \n",
    "di_sD = 1/L_s*(v_mD - R_s*i_sD + omega*L_s*i_sQ - v_sD)  \n",
    "di_sQ = 1/L_s*(v_mQ - R_s*i_sQ - omega*L_s*i_sD - v_sQ) \n",
    "\n",
    "# Grid interaction\n",
    "eq_i_poiD =  i_sD - i_poiD\n",
    "eq_i_poiQ =  i_sQ - i_poiQ   \n",
    "\n",
    "eq_v_sD =  v_sD - v_poiD\n",
    "eq_v_sQ =  v_sQ - v_poiQ    \n",
    "\n",
    "#grid_dae['params'].pop(f'i_{bus}_D')\n",
    "#grid_dae['params'].pop(f'i_{bus}_Q')\n",
    "\n",
    "# DAE\n",
    "f_vsc_filter = [di_tD, di_tQ, dv_mD, dv_mQ, di_sD, di_sQ]\n",
    "x_vsc_filter = [ i_tD,  i_tQ,  v_mD,  v_mQ,  i_sD,  i_sQ]\n",
    "g_vsc_filter = [ eq_i_poiD, eq_i_poiQ, eq_v_sD, eq_v_sQ]\n",
    "y_vsc_filter = [    i_poiD,    i_poiQ,    v_sD,    v_sQ ]    \n",
    "x_0_vsc_filter = [ ]\n",
    "y_0_vsc_filter = [ 0.0,  0.0,   0.0, V_bdq,     0,     0,         0,         0,       0,   V_bdq]\n",
    "\n",
    "\n",
    "## Model integration\n",
    "f_vsg = f_vsc_filter \n",
    "x_vsg = x_vsc_filter\n",
    "g_vsg = g_vsc_filter + g_aux\n",
    "y_vsg = y_vsc_filter + y_aux\n",
    "params_vsg.update(params_vsc_filter)\n",
    "#params_vsg.update(params_ctrl_1)\n",
    "u_vsg.update(u_vsc_filter)\n",
    "#u_vsg.update(u_ctrl_0)\n",
    "#u_vsg.update(u_ctrl_1)   \n",
    "u_vsg.update({'v_1_D':0.0,'v_1_Q':326,'phi_g01':0.0,'eta_d_g01':0.0,'eta_q_g01':0.8})\n",
    "#u_vsg.update({'v_1_D':0.0,'v_1_Q':326,'eta_d_g01':0.0,'eta_q_g01':0.8})"
   ]
  },
  {
   "cell_type": "code",
   "execution_count": 9,
   "metadata": {},
   "outputs": [],
   "source": [
    "i_sd_g01,i_sq_g01 = sym.symbols(f'i_sd_g01,i_sq_g01', real=True)\n",
    "sys_dict = {'name':'vsc_lcl',\n",
    "           'params_dict':params_vsg,\n",
    "           'f_list':[f_vsg],\n",
    "           'g_list':[g_vsg],\n",
    "           'x_list':[x_vsg],\n",
    "           'y_ini_list':y_vsg,\n",
    "           'y_run_list':y_vsg,\n",
    "           'u_run_dict':u_vsg,\n",
    "           'u_ini_dict':u_vsg,\n",
    "           'h_dict':{'v_t_D':eta_D/2*v_dc,'v_t_Q':eta_Q/2*v_dc,'damp_D':G_d*v_mD,'damp_Q':G_d*v_mQ,\n",
    "                     'i_sd_g01':i_sd,'i_sq_g01':i_sq,\n",
    "                     'v_md_g01':v_md,'v_mq_g01':v_mq,\n",
    "                     'i_td_g01':i_td,'i_tq_g01':i_tq,\n",
    "                     'v_sd_g01':v_sd,'v_sq_g01':v_sq,}\n",
    "           }\n",
    "\n",
    "db.system(sys_dict)\n",
    "db.sys2num(sys_dict)"
   ]
  },
  {
   "cell_type": "code",
   "execution_count": 11,
   "metadata": {},
   "outputs": [
    {
     "data": {
      "text/plain": [
       "{'v_dc_g01': 750,\n",
       " 'v_1_D': 0.0,\n",
       " 'v_1_Q': 326,\n",
       " 'phi_g01': 0.0,\n",
       " 'eta_d_g01': 0.0,\n",
       " 'eta_q_g01': 0.8}"
      ]
     },
     "execution_count": 11,
     "metadata": {},
     "output_type": "execute_result"
    }
   ],
   "source": [
    "u_vsg"
   ]
  },
  {
   "cell_type": "code",
   "execution_count": 6,
   "metadata": {},
   "outputs": [
    {
     "data": {
      "text/plain": [
       "[(L_t_g01*i_tQ_g01*omega_g01 - R_t_g01*i_tD_g01 + eta_D_g01*v_dc_g01/2 - v_mD_g01)/L_t_g01,\n",
       " (-L_t_g01*i_tD_g01*omega_g01 - R_t_g01*i_tQ_g01 + eta_Q_g01*v_dc_g01/2 - v_mQ_g01)/L_t_g01,\n",
       " (C_m_g01*omega_g01*v_mQ_g01 - G_d_g01*v_mD_g01 - i_sD_g01 + i_tD_g01)/C_m_g01,\n",
       " (-C_m_g01*omega_g01*v_mD_g01 - G_d_g01*v_mQ_g01 - i_sQ_g01 + i_tQ_g01)/C_m_g01,\n",
       " (L_s_g01*i_sQ_g01*omega_g01 - R_s_g01*i_sD_g01 + v_mD_g01 - v_sD_g01)/L_s_g01,\n",
       " (-L_s_g01*i_sD_g01*omega_g01 - R_s_g01*i_sQ_g01 + v_mQ_g01 - v_sQ_g01)/L_s_g01]"
      ]
     },
     "execution_count": 6,
     "metadata": {},
     "output_type": "execute_result"
    }
   ],
   "source": [
    "f_vsg"
   ]
  },
  {
   "cell_type": "code",
   "execution_count": 7,
   "metadata": {},
   "outputs": [
    {
     "data": {
      "text/latex": [
       "$\\displaystyle \\left[\\begin{matrix}0 & 0 & 0 & 0 & 0 & 0\\\\0 & 0 & 0 & 0 & 0 & 0\\\\0 & -1 & 0 & 0 & 0 & 0\\\\0 & 0 & -1 & 0 & 0 & 0\\\\0 & 0 & 0 & - v_{mD g01} \\sin{\\left(\\phi_{g01} \\right)} + v_{mQ g01} \\cos{\\left(\\phi_{g01} \\right)} & 0 & 0\\\\0 & 0 & 0 & - v_{mD g01} \\cos{\\left(\\phi_{g01} \\right)} - v_{mQ g01} \\sin{\\left(\\phi_{g01} \\right)} & 0 & 0\\\\0 & 0 & 0 & - v_{sD g01} \\sin{\\left(\\phi_{g01} \\right)} + v_{sQ g01} \\cos{\\left(\\phi_{g01} \\right)} & 0 & 0\\\\0 & 0 & 0 & - v_{sD g01} \\cos{\\left(\\phi_{g01} \\right)} - v_{sQ g01} \\sin{\\left(\\phi_{g01} \\right)} & 0 & 0\\\\0 & 0 & 0 & - i_{tD g01} \\sin{\\left(\\phi_{g01} \\right)} + i_{tQ g01} \\cos{\\left(\\phi_{g01} \\right)} & 0 & 0\\\\0 & 0 & 0 & - i_{tD g01} \\cos{\\left(\\phi_{g01} \\right)} - i_{tQ g01} \\sin{\\left(\\phi_{g01} \\right)} & 0 & 0\\\\0 & 0 & 0 & - i_{sD g01} \\sin{\\left(\\phi_{g01} \\right)} + i_{sQ g01} \\cos{\\left(\\phi_{g01} \\right)} & 0 & 0\\\\0 & 0 & 0 & - i_{sD g01} \\cos{\\left(\\phi_{g01} \\right)} - i_{sQ g01} \\sin{\\left(\\phi_{g01} \\right)} & 0 & 0\\\\0 & 0 & 0 & - \\eta_{d g01} \\sin{\\left(\\phi_{g01} \\right)} - \\eta_{q g01} \\cos{\\left(\\phi_{g01} \\right)} & \\cos{\\left(\\phi_{g01} \\right)} & - \\sin{\\left(\\phi_{g01} \\right)}\\\\0 & 0 & 0 & \\eta_{d g01} \\cos{\\left(\\phi_{g01} \\right)} - \\eta_{q g01} \\sin{\\left(\\phi_{g01} \\right)} & \\sin{\\left(\\phi_{g01} \\right)} & \\cos{\\left(\\phi_{g01} \\right)}\\end{matrix}\\right]$"
      ],
      "text/plain": [
       "Matrix([\n",
       "[0,  0,  0,                                                0,            0,             0],\n",
       "[0,  0,  0,                                                0,            0,             0],\n",
       "[0, -1,  0,                                                0,            0,             0],\n",
       "[0,  0, -1,                                                0,            0,             0],\n",
       "[0,  0,  0,   -v_mD_g01*sin(phi_g01) + v_mQ_g01*cos(phi_g01),            0,             0],\n",
       "[0,  0,  0,   -v_mD_g01*cos(phi_g01) - v_mQ_g01*sin(phi_g01),            0,             0],\n",
       "[0,  0,  0,   -v_sD_g01*sin(phi_g01) + v_sQ_g01*cos(phi_g01),            0,             0],\n",
       "[0,  0,  0,   -v_sD_g01*cos(phi_g01) - v_sQ_g01*sin(phi_g01),            0,             0],\n",
       "[0,  0,  0,   -i_tD_g01*sin(phi_g01) + i_tQ_g01*cos(phi_g01),            0,             0],\n",
       "[0,  0,  0,   -i_tD_g01*cos(phi_g01) - i_tQ_g01*sin(phi_g01),            0,             0],\n",
       "[0,  0,  0,   -i_sD_g01*sin(phi_g01) + i_sQ_g01*cos(phi_g01),            0,             0],\n",
       "[0,  0,  0,   -i_sD_g01*cos(phi_g01) - i_sQ_g01*sin(phi_g01),            0,             0],\n",
       "[0,  0,  0, -eta_d_g01*sin(phi_g01) - eta_q_g01*cos(phi_g01), cos(phi_g01), -sin(phi_g01)],\n",
       "[0,  0,  0,  eta_d_g01*cos(phi_g01) - eta_q_g01*sin(phi_g01), sin(phi_g01),  cos(phi_g01)]])"
      ]
     },
     "execution_count": 7,
     "metadata": {},
     "output_type": "execute_result"
    }
   ],
   "source": [
    "sys_dict['g'].jacobian(sys_dict['u_run'])"
   ]
  },
  {
   "cell_type": "code",
   "execution_count": 9,
   "metadata": {},
   "outputs": [
    {
     "data": {
      "text/latex": [
       "$\\displaystyle \\left[\\begin{matrix}i_{tD g01}\\\\i_{tQ g01}\\\\v_{mD g01}\\\\v_{mQ g01}\\\\i_{sD g01}\\\\i_{sQ g01}\\end{matrix}\\right]$"
      ],
      "text/plain": [
       "Matrix([\n",
       "[i_tD_g01],\n",
       "[i_tQ_g01],\n",
       "[v_mD_g01],\n",
       "[v_mQ_g01],\n",
       "[i_sD_g01],\n",
       "[i_sQ_g01]])"
      ]
     },
     "execution_count": 9,
     "metadata": {},
     "output_type": "execute_result"
    }
   ],
   "source": [
    "sys_dict['x']"
   ]
  },
  {
   "cell_type": "code",
   "execution_count": null,
   "metadata": {},
   "outputs": [],
   "source": []
  }
 ],
 "metadata": {
  "kernelspec": {
   "display_name": "Python 3",
   "language": "python",
   "name": "python3"
  },
  "language_info": {
   "codemirror_mode": {
    "name": "ipython",
    "version": 3
   },
   "file_extension": ".py",
   "mimetype": "text/x-python",
   "name": "python",
   "nbconvert_exporter": "python",
   "pygments_lexer": "ipython3",
   "version": "3.7.6"
  }
 },
 "nbformat": 4,
 "nbformat_minor": 4
}
