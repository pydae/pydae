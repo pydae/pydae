{
 "cells": [
  {
   "cell_type": "code",
   "execution_count": 1,
   "metadata": {},
   "outputs": [],
   "source": [
    "import pydae.build_cffi as db\n",
    "from pydae.grid_bpu import bpu"
   ]
  },
  {
   "cell_type": "code",
   "execution_count": 2,
   "metadata": {},
   "outputs": [],
   "source": [
    "bpu_obj = bpu('pq_sat.json')"
   ]
  },
  {
   "cell_type": "code",
   "execution_count": 3,
   "metadata": {},
   "outputs": [
    {
     "name": "stdout",
     "output_type": "stream",
     "text": [
      "check_system (time: 0.0)\n",
      "computing jacobians Fx_run,Fy_run  (time: 0.042 s)\n",
      "computing jacobians Gx_run,Gy_run  (time: 0.553 s)\n",
      "computing jacobians Fu_run,Gu_run  (time: 1.337 s)\n",
      "computing jacobians Fx_ini,Fy_ini  (time: 1.782 s)\n",
      "computing jacobians Gx_ini,Gy_ini  (time: 1.862 s)\n",
      "computing jacobians Hx_run,Hy_run,Hu_run  (time: 2.0136141777038574 s)\n",
      "end system  (time: 2.147 s)\n",
      "computing jac_ini (time: 0.0)\n",
      "computing jac_run (time: 0.007948637008666992)\n",
      "computing jac_trap (time: 0.01891803741455078)\n",
      "end of jacobians computation (time: 0.103)\n",
      "writting f_ini and g_ini code (time: 0.000 s)\n",
      "writting f_run and g_run code (time: 0.330 s)\n",
      "writting h_run code (time: 0.576 s)\n",
      "converting jac_ini to sp_jac_ini  (time: 0.592 s)\n",
      "running sym2rhs for sp_jac_ini (time: 0.594 s)\n",
      "converting jac_run to sp_jac_run  (time: 0.750 s)\n",
      "running sym2rhs for sp_jac_run (time: 0.752 s)\n",
      "converting jac_trap to sp_jac_trap  (time: 0.882 s)\n",
      "running sym2rhs for sp_jac_trap (time: 0.884 s)\n",
      "wrtting  de_jac_trap code (time: 1.096 s)\n",
      "writting sp_jac_trap code (time: 1.096 s)\n",
      "writting full source (time: 1.096 s)\n",
      "Code wrote in 1.096 s\n",
      "Compilation time: 10.18 s\n",
      "sys2num (time: 0.008)\n"
     ]
    }
   ],
   "source": [
    "g_list = bpu_obj.dae['g'] \n",
    "h_dict = bpu_obj.dae['h_dict']\n",
    "f_list = bpu_obj.dae['f']\n",
    "x_list = bpu_obj.dae['x']\n",
    "params_dict = bpu_obj.dae['params_dict']\n",
    "\n",
    "sys = {'name':'pq_sat',\n",
    "       'params_dict':params_dict,\n",
    "       'f_list':f_list,\n",
    "       'g_list':g_list,\n",
    "       'x_list':x_list,\n",
    "       'y_ini_list':bpu_obj.dae['y_ini'],\n",
    "       'y_run_list':bpu_obj.dae['y_run'],\n",
    "       'u_run_dict':bpu_obj.dae['u_run_dict'],\n",
    "       'u_ini_dict':bpu_obj.dae['u_ini_dict'],\n",
    "       'h_dict':h_dict}\n",
    "\n",
    "sys = db.build(sys, verbose=True)"
   ]
  },
  {
   "cell_type": "code",
   "execution_count": null,
   "metadata": {},
   "outputs": [],
   "source": []
  },
  {
   "cell_type": "code",
   "execution_count": null,
   "metadata": {},
   "outputs": [],
   "source": []
  }
 ],
 "metadata": {
  "kernelspec": {
   "display_name": "Python 3 (ipykernel)",
   "language": "python",
   "name": "python3"
  },
  "language_info": {
   "codemirror_mode": {
    "name": "ipython",
    "version": 3
   },
   "file_extension": ".py",
   "mimetype": "text/x-python",
   "name": "python",
   "nbconvert_exporter": "python",
   "pygments_lexer": "ipython3",
   "version": "3.9.7"
  }
 },
 "nbformat": 4,
 "nbformat_minor": 4
}
