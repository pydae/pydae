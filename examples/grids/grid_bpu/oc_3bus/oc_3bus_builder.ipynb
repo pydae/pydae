{
 "cells": [
  {
   "cell_type": "code",
   "execution_count": 1,
   "metadata": {},
   "outputs": [],
   "source": [
    "import numpy as np\n",
    "import sympy as sym\n",
    "import pydae.build as db\n",
    "from pydae.grid_bpu import bpu"
   ]
  },
  {
   "cell_type": "code",
   "execution_count": 4,
   "metadata": {},
   "outputs": [],
   "source": [
    "bpu_obj = bpu(data_input='oc_3bus_vsg_pi.json')\n",
    "\n",
    "g_list = bpu_obj.dae['g'] \n",
    "h_dict = bpu_obj.dae['h_dict']\n",
    "f_list = bpu_obj.dae['f']\n",
    "x_list = bpu_obj.dae['x']\n",
    "params_dict = bpu_obj.dae['params_dict']\n",
    "\n",
    "P_2 = sym.Symbol(\"P_B2\", real=True)\n",
    "\n",
    "h_dict.update({'P_B2':P_2})\n",
    "\n",
    "sys = {'name':'oc_3bus',\n",
    "       'params_dict':params_dict,\n",
    "       'f_list':f_list,\n",
    "       'g_list':g_list,\n",
    "       'x_list':x_list,\n",
    "       'y_ini_list':bpu_obj.dae['y_ini'],\n",
    "       'y_run_list':bpu_obj.dae['y_run'],\n",
    "       'u_run_dict':bpu_obj.dae['u_run_dict'],\n",
    "       'u_ini_dict':bpu_obj.dae['u_ini_dict'],\n",
    "       'h_dict':h_dict}\n",
    "\n",
    "sys = db.system(sys)\n",
    "db.sys2num(sys)"
   ]
  },
  {
   "cell_type": "code",
   "execution_count": 3,
   "metadata": {},
   "outputs": [
    {
     "data": {
      "text/latex": [
       "$\\displaystyle \\left[\\begin{matrix}- K_{\\delta B1} \\delta_{B1} + \\Omega_{b B1} \\left(\\omega_{B1} - \\omega_{coi}\\right)\\\\- i_{d B1} \\left(R_{v B1} i_{d B1} + V_{B1} \\sin{\\left(\\delta_{B1} - \\theta_{B1} \\right)}\\right) - i_{q B1} \\left(R_{v B1} i_{q B1} + V_{B1} \\cos{\\left(\\delta_{B1} - \\theta_{B1} \\right)}\\right) + p_{m B1}\\\\\\frac{K_{q B1} \\left(- q_{g B1} + q_{ref B1}\\right) - e_{qv B1} + v_{ref B1}}{T_{v B1}}\\\\- K_{\\delta B3} \\delta_{B3} + \\Omega_{b B3} \\left(\\omega_{B3} - \\omega_{coi}\\right)\\\\- i_{d B3} \\left(R_{v B3} i_{d B3} + V_{B3} \\sin{\\left(\\delta_{B3} - \\theta_{B3} \\right)}\\right) - i_{q B3} \\left(R_{v B3} i_{q B3} + V_{B3} \\cos{\\left(\\delta_{B3} - \\theta_{B3} \\right)}\\right) + p_{m B3}\\\\\\frac{K_{q B3} \\left(- q_{g B3} + q_{ref B3}\\right) - e_{qv B3} + v_{ref B3}}{T_{v B3}}\\\\1 - \\omega_{coi}\\end{matrix}\\right]$"
      ],
      "text/plain": [
       "Matrix([\n",
       "[                                                                 -K_delta_B1*delta_B1 + Omega_b_B1*(omega_B1 - omega_coi)],\n",
       "[-i_d_B1*(R_v_B1*i_d_B1 + V_B1*sin(delta_B1 - theta_B1)) - i_q_B1*(R_v_B1*i_q_B1 + V_B1*cos(delta_B1 - theta_B1)) + p_m_B1],\n",
       "[                                                                (K_q_B1*(-q_g_B1 + q_ref_B1) - e_qv_B1 + v_ref_B1)/T_v_B1],\n",
       "[                                                                 -K_delta_B3*delta_B3 + Omega_b_B3*(omega_B3 - omega_coi)],\n",
       "[-i_d_B3*(R_v_B3*i_d_B3 + V_B3*sin(delta_B3 - theta_B3)) - i_q_B3*(R_v_B3*i_q_B3 + V_B3*cos(delta_B3 - theta_B3)) + p_m_B3],\n",
       "[                                                                (K_q_B3*(-q_g_B3 + q_ref_B3) - e_qv_B3 + v_ref_B3)/T_v_B3],\n",
       "[                                                                                                            1 - omega_coi]])"
      ]
     },
     "execution_count": 3,
     "metadata": {},
     "output_type": "execute_result"
    }
   ],
   "source": [
    "sys['f'].T"
   ]
  },
  {
   "cell_type": "code",
   "execution_count": 8,
   "metadata": {},
   "outputs": [
    {
     "data": {
      "text/latex": [
       "$\\displaystyle \\left[\\begin{matrix}\\delta_{B1}\\\\\\xi_{p B1}\\\\e_{qv B1}\\\\\\delta_{B3}\\\\\\xi_{p B3}\\\\e_{qv B3}\\\\\\xi_{freq}\\end{matrix}\\right]$"
      ],
      "text/plain": [
       "Matrix([\n",
       "[delta_B1],\n",
       "[ xi_p_B1],\n",
       "[ e_qv_B1],\n",
       "[delta_B3],\n",
       "[ xi_p_B3],\n",
       "[ e_qv_B3],\n",
       "[ xi_freq]])"
      ]
     },
     "execution_count": 8,
     "metadata": {},
     "output_type": "execute_result"
    }
   ],
   "source": [
    "sys['x'].T"
   ]
  },
  {
   "cell_type": "code",
   "execution_count": null,
   "metadata": {},
   "outputs": [],
   "source": []
  }
 ],
 "metadata": {
  "kernelspec": {
   "display_name": "Python 3",
   "language": "python",
   "name": "python3"
  },
  "language_info": {
   "codemirror_mode": {
    "name": "ipython",
    "version": 3
   },
   "file_extension": ".py",
   "mimetype": "text/x-python",
   "name": "python",
   "nbconvert_exporter": "python",
   "pygments_lexer": "ipython3",
   "version": "3.8.11"
  }
 },
 "nbformat": 4,
 "nbformat_minor": 4
}
