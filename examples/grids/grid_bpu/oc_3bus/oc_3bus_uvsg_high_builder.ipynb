{
 "cells": [
  {
   "cell_type": "code",
   "execution_count": 1,
   "metadata": {},
   "outputs": [],
   "source": [
    "import numpy as np\n",
    "import sympy as sym\n",
    "import pydae.build as db\n",
    "from pydae.grid_bpu import bpu"
   ]
  },
  {
   "cell_type": "code",
   "execution_count": 2,
   "metadata": {},
   "outputs": [],
   "source": [
    "bpu_obj = bpu(data_input='oc_3bus_uvsg_high.json')\n",
    "\n",
    "g_list = bpu_obj.dae['g'] \n",
    "h_dict = bpu_obj.dae['h_dict']\n",
    "f_list = bpu_obj.dae['f']\n",
    "x_list = bpu_obj.dae['x']\n",
    "params_dict = bpu_obj.dae['params_dict']\n",
    "\n",
    "sys = {'name':'oc_3bus_uvsg_high',\n",
    "       'params_dict':params_dict,\n",
    "       'f_list':f_list,\n",
    "       'g_list':g_list,\n",
    "       'x_list':x_list,\n",
    "       'y_ini_list':bpu_obj.dae['y_ini'],\n",
    "       'y_run_list':bpu_obj.dae['y_run'],\n",
    "       'u_run_dict':bpu_obj.dae['u_run_dict'],\n",
    "       'u_ini_dict':bpu_obj.dae['u_ini_dict'],\n",
    "       'h_dict':h_dict}\n",
    "\n",
    "sys = db.system(sys)\n",
    "db.sys2num(sys)"
   ]
  },
  {
   "cell_type": "code",
   "execution_count": 3,
   "metadata": {},
   "outputs": [],
   "source": [
    "H = 5.0; # desired virtual inertia \n",
    "K_p = 0.01; # active power proportinal gain\n",
    "#H = T_p/K_p/2\n",
    "\n",
    "T_p = K_p*2*H;  # active power integral time constant"
   ]
  },
  {
   "cell_type": "code",
   "execution_count": 4,
   "metadata": {},
   "outputs": [
    {
     "data": {
      "text/plain": [
       "0.1"
      ]
     },
     "execution_count": 4,
     "metadata": {},
     "output_type": "execute_result"
    }
   ],
   "source": [
    "T_p"
   ]
  },
  {
   "cell_type": "code",
   "execution_count": 4,
   "metadata": {},
   "outputs": [
    {
     "data": {
      "text/plain": [
       "0.0051199999999999996"
      ]
     },
     "execution_count": 4,
     "metadata": {},
     "output_type": "execute_result"
    }
   ],
   "source": [
    "160**2*0.2e-6"
   ]
  },
  {
   "cell_type": "code",
   "execution_count": null,
   "metadata": {},
   "outputs": [],
   "source": []
  }
 ],
 "metadata": {
  "kernelspec": {
   "display_name": "Python 3",
   "language": "python",
   "name": "python3"
  },
  "language_info": {
   "codemirror_mode": {
    "name": "ipython",
    "version": 3
   },
   "file_extension": ".py",
   "mimetype": "text/x-python",
   "name": "python",
   "nbconvert_exporter": "python",
   "pygments_lexer": "ipython3",
   "version": "3.8.11"
  }
 },
 "nbformat": 4,
 "nbformat_minor": 4
}
