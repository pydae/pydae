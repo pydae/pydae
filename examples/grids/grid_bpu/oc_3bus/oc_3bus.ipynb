{
 "cells": [
  {
   "cell_type": "code",
   "execution_count": 7,
   "metadata": {},
   "outputs": [],
   "source": [
    "import numpy as np\n",
    "import matplotlib.pyplot as plt\n",
    "from IPython.core.display import HTML\n",
    "import pydae.svg_tools as svgt\n",
    "#%config InlineBackend.figure_format = 'svg'\n",
    "import pydae.grid_tools as gt\n",
    "import scipy.optimize as sopt\n",
    "from scipy.optimize import NonlinearConstraint\n"
   ]
  },
  {
   "cell_type": "code",
   "execution_count": 8,
   "metadata": {},
   "outputs": [],
   "source": [
    "%matplotlib widget"
   ]
  },
  {
   "cell_type": "code",
   "execution_count": 9,
   "metadata": {},
   "outputs": [],
   "source": [
    "from pydae import ssa\n",
    "from oc_3bus import oc_3bus_class"
   ]
  },
  {
   "cell_type": "code",
   "execution_count": 14,
   "metadata": {},
   "outputs": [],
   "source": [
    "#grid_wo = oc_3bus_class()\n",
    "#grid_pi = oc_3bus_vsg_pi_class()\n",
    "\n",
    "grid = oc_3bus_class()\n",
    "\n",
    "\n",
    "params = {\"S_n_B1\":100e3,\"S_n_B3\":100e3,\"K_p_agc\":0.0,\"K_i_agc\":1,\n",
    "          \"p_c_B1\":0.0,\"p_c_B3\":0.0,\n",
    "          \"R_v_B1\":0.0,\"R_v_B3\":0.0,\n",
    "          \"X_v_B1\":0.1,\"X_v_B3\":0.1,\n",
    "          'v_ref_B1': 1.049999999986537,\n",
    "          'v_ref_B3': 1.049610220464389,\n",
    "          \"Droop_B1\":0.05,\"Droop_B3\":0.05,\n",
    "          \"K_delta_B1\":0.0,\"K_delta_B3\":0.00001,\n",
    "          \"P_B2\":-50e3,\"Q_B2\":0e3,\n",
    "          \"T_v_B1\":0.1,\"T_v_B3\":0.1,\n",
    "          \"K_sec_B1\":0.5,\"K_sec_B3\":0.5 }\n",
    "\n"
   ]
  },
  {
   "cell_type": "code",
   "execution_count": 15,
   "metadata": {},
   "outputs": [
    {
     "name": "stdout",
     "output_type": "stream",
     "text": [
      "V_B1  =  1.05\n",
      "theta_B1 = -0.03\n",
      "V_B2  =  1.04\n",
      "theta_B2 = -0.03\n",
      "V_B3  =  1.05\n",
      "theta_B3 = -0.02\n",
      "omega_B1 =  1.00\n",
      "i_d_B1 =  0.04\n",
      "i_q_B1 =  0.24\n",
      "p_g_B1 =  0.25\n",
      "q_g_B1 =  0.04\n",
      "p_m_B1 =  0.25\n",
      "omega_B3 =  1.00\n",
      "i_d_B3 = -0.03\n",
      "i_q_B3 =  0.24\n",
      "p_g_B3 =  0.25\n",
      "q_g_B3 = -0.03\n",
      "p_m_B3 =  0.25\n",
      "omega_coi =  1.00\n",
      "p_agc =  0.50\n",
      "420.78860825540323\n"
     ]
    }
   ],
   "source": [
    "grid = oc_3bus_class()\n",
    "\n",
    "gt.change_line(grid,'B1','B2',X_km=0.167,R_km=0.287,km=0.1)\n",
    "gt.change_line(grid,'B2','B3',X_km=0.167,R_km=0.287,km=0.3)\n",
    "\n",
    "grid.initialize([params],'xy_0.json',compile=True)\n",
    "grid.report_y()\n",
    "#grid.save_0('xy_0.json')\n",
    "\n",
    "#ssa.eval_A(grid_pi)\n",
    "#ssa.damp_report(grid_pi)\n",
    "#ssa.participation(grid)\n",
    "P_loss = grid.get_value('p_g_B1')*100e3 + grid.get_value('p_g_B3')*100e3 + grid.get_value('P_B2') \n",
    "\n",
    "print(P_loss)"
   ]
  },
  {
   "cell_type": "code",
   "execution_count": 16,
   "metadata": {},
   "outputs": [
    {
     "name": "stdout",
     "output_type": "stream",
     "text": [
      "P_B2: -50000.00\n"
     ]
    }
   ],
   "source": [
    "grid = oc_3bus_class()\n",
    "gt.change_line(grid,'B1','B2',X_km=0.167,R_km=0.287,km=0.1)\n",
    "gt.change_line(grid,'B2','B3',X_km=0.167,R_km=0.287,km=0.3)\n",
    "grid.initialize([params],'xy_0.json',compile=True)\n",
    "print(f'P_B2: {grid.get_value(\"P_B2\"):0.2f}')\n",
    "grid.run([{'t_end': 1.0,'Dt':0.01,'decimation':1}])\n",
    "grid.run([{'t_end': 5.0,'P_B2':-100e3}])\n",
    "grid.run([{'t_end': 8.0,'v_ref_B1':1.032,'v_ref_B3':1.05}])\n",
    "grid.run([{'t_end':30.0,'omega_ref_B1':1.011,'omega_ref_B3':1.011}])\n",
    "#grid.set_value('P_B2', -1e3)\n",
    "#grid.run([{'t_end':3.0}])\n",
    "grid.post();"
   ]
  },
  {
   "cell_type": "code",
   "execution_count": 17,
   "metadata": {},
   "outputs": [
    {
     "data": {
      "application/vnd.jupyter.widget-view+json": {
       "model_id": "63e2a7c910524ca2be6abbbcf40637ca",
       "version_major": 2,
       "version_minor": 0
      },
      "text/plain": [
       "Canvas(toolbar=Toolbar(toolitems=[('Home', 'Reset original view', 'home', 'home'), ('Back', 'Back to previous …"
      ]
     },
     "metadata": {},
     "output_type": "display_data"
    },
    {
     "data": {
      "text/plain": [
       "<matplotlib.legend.Legend at 0x150bd42ca90>"
      ]
     },
     "execution_count": 17,
     "metadata": {},
     "output_type": "execute_result"
    }
   ],
   "source": [
    "fig, axes = plt.subplots(nrows=2, ncols=1, figsize=(4, 4))\n",
    "axes[0].plot(grid.T,grid.get_values('p_g_B1'), label='$p_{B1}$')\n",
    "axes[0].plot(grid.T,grid.get_values('p_g_B3'), label='$p_{B3}$')\n",
    "axes[1].plot(grid.T,grid.get_values('q_g_B1'), label='$q_{B1}$')\n",
    "axes[1].plot(grid.T,grid.get_values('q_g_B3'), label='$q_{B3}$')\n",
    "\n",
    "for ax in axes:\n",
    "    ax.grid()\n",
    "    ax.legend()\n",
    "ax.set_xlabel('Time (s)')\n",
    "\n",
    "axes[1].legend(loc='best')"
   ]
  },
  {
   "cell_type": "code",
   "execution_count": 18,
   "metadata": {},
   "outputs": [
    {
     "data": {
      "application/vnd.jupyter.widget-view+json": {
       "model_id": "c34567b8f78447b6bd41757835770985",
       "version_major": 2,
       "version_minor": 0
      },
      "text/plain": [
       "Canvas(toolbar=Toolbar(toolitems=[('Home', 'Reset original view', 'home', 'home'), ('Back', 'Back to previous …"
      ]
     },
     "metadata": {},
     "output_type": "display_data"
    },
    {
     "data": {
      "text/plain": [
       "<matplotlib.legend.Legend at 0x150b93c0790>"
      ]
     },
     "execution_count": 18,
     "metadata": {},
     "output_type": "execute_result"
    }
   ],
   "source": [
    "fig, axes = plt.subplots(nrows=3, ncols=1, figsize=(4, 5))\n",
    "axes[0].plot(grid.T,grid.get_values('omega_B1'), label='$\\omega_{B1}$')\n",
    "axes[0].plot(grid.T,grid.get_values('omega_B3'), label='$\\omega_{B3}$')\n",
    "axes[0].plot(grid.T,grid.get_values('omega_coi'), label='$\\omega_{coi}$')\n",
    "axes[1].plot(grid.T,grid.get_values('V_B2'), label='$V_{{B2}}$')\n",
    "\n",
    "P_loss = grid.get_values('p_g_B1')*100e3 + grid.get_values('p_g_B3')*100e3 + grid.get_values('P_B2') \n",
    "axes[2].plot(grid.T,P_loss, label='$P_{{loss}}$ (W)')\n",
    "\n",
    "for ax in axes:\n",
    "    ax.grid()\n",
    "    ax.legend()\n",
    "ax.set_xlabel('Time (s)')\n",
    "\n",
    "axes[1].legend(loc='best')"
   ]
  },
  {
   "cell_type": "markdown",
   "metadata": {},
   "source": [
    "### Optmizer"
   ]
  },
  {
   "cell_type": "code",
   "execution_count": 158,
   "metadata": {},
   "outputs": [
    {
     "data": {
      "text/plain": [
       " barrier_parameter: 0.0008000000000000003\n",
       " barrier_tolerance: 0.0008000000000000003\n",
       "          cg_niter: 24\n",
       "      cg_stop_cond: 4\n",
       "            constr: [array([7.8078868e-06]), array([1.0459524 , 1.04999088])]\n",
       "       constr_nfev: [45, 0]\n",
       "       constr_nhev: [0, 0]\n",
       "       constr_njev: [0, 0]\n",
       "    constr_penalty: 1.0\n",
       "  constr_violation: 0.0\n",
       "    execution_time: 0.12965607643127441\n",
       "               fun: 102.73856691579567\n",
       "              grad: array([ -48.47205585, -149.29770708])\n",
       "               jac: [array([[-0.41904048, -0.57953092]]), array([[1., 0.],\n",
       "       [0., 1.]])]\n",
       "   lagrangian_grad: array([-2.45784298e-09,  4.34795311e-10])\n",
       "           message: '`gtol` termination condition is satisfied.'\n",
       "            method: 'tr_interior_point'\n",
       "              nfev: 45\n",
       "              nhev: 0\n",
       "               nit: 18\n",
       "             niter: 18\n",
       "              njev: 15\n",
       "        optimality: 2.4578429846933147e-09\n",
       "            status: 1\n",
       "           success: True\n",
       "         tr_radius: 1190.2502223809092\n",
       "                 v: [array([-115.22179271]), array([ 0.18946063, 82.52311553])]\n",
       "                 x: array([1.0459524 , 1.04999088])"
      ]
     },
     "execution_count": 158,
     "metadata": {},
     "output_type": "execute_result"
    }
   ],
   "source": [
    "class opt_class:\n",
    "    \n",
    "    def __init__(self,grid):\n",
    "        self.grid = grid    \n",
    "        self.x_0 = np.array([ 1,1 ])\n",
    "        self.bounds = [(0.95,1.05),(0.95,1.05)]\n",
    "        \n",
    "    def optimize(self):\n",
    "            \n",
    "        #res = sopt.minimize(opt.obj_eval, x0, method='trust-constr', bounds=bounds)  # SLSQP, Powell, COBYLA,trust-constr\n",
    "        cons_1 = {'type':'ineq','fun':opt.cons_1}\n",
    "        cons = [cons_1]\n",
    "        res = sopt.minimize(opt.obj_eval, self.x_0, method='trust-constr', bounds=self.bounds, \n",
    "                            constraints=cons)  # SLSQP, Powell, COBYLA,trust-constr\n",
    "        self.res = res\n",
    "        self.x_0 = res.x \n",
    "        return res.x\n",
    "        \n",
    "    \n",
    "    def obj_eval(self,u):\n",
    "        self.grid.load_0('xy_0.json')\n",
    "\n",
    "        v_ref_B1 = u[0]\n",
    "        v_ref_B3 = u[1]\n",
    "        \n",
    "        self.grid.set_value('v_ref_B1',v_ref_B1)\n",
    "        self.grid.set_value('v_ref_B3',v_ref_B3) \n",
    "        \n",
    "        self.grid.ss()\n",
    "\n",
    "        P_B1 = self.grid.get_value('p_g_B1')*100e3\n",
    "        P_B3 = self.grid.get_value('p_g_B3')*100e3\n",
    "        P_B2 = self.grid.get_value('P_B2')\n",
    "\n",
    "        P_loss = P_B1 + P_B3 + P_B2\n",
    "        return P_loss\n",
    "\n",
    "    def cons(self,u):\n",
    "         \n",
    "        return {'type':'ineq','fun':self.cons_1(u)}\n",
    "\n",
    "    def cons_1(self,u):\n",
    "        self.grid.load_0('xy_0.json')\n",
    "\n",
    "        v_ref_B1 = u[0]\n",
    "        v_ref_B3 = u[1]\n",
    "        \n",
    "        self.grid.set_value('v_ref_B1',v_ref_B1)\n",
    "        self.grid.set_value('v_ref_B3',v_ref_B3) \n",
    "        \n",
    "        self.grid.ss()\n",
    "\n",
    "        V_B3 = self.grid.get_value('V_B3')\n",
    "        \n",
    "        return 1.05-V_B3\n",
    "    \n",
    "opt = opt_class(grid_ss)\n",
    "\n",
    "u = [1.1,1]\n",
    "opt.obj_eval(u)\n",
    "opt.cons(u)\n",
    "opt.optimize()\n",
    "opt.res"
   ]
  },
  {
   "cell_type": "markdown",
   "metadata": {},
   "source": [
    "## Control loop"
   ]
  },
  {
   "cell_type": "code",
   "execution_count": 168,
   "metadata": {},
   "outputs": [],
   "source": [
    "grid = oc_3bus_class()    # for time domain simulation\n",
    "grid_ss = oc_3bus_class() # for steady state optimization\n",
    "gt.change_line(grid,'B1','B2',X_km=0.167,R_km=0.287,km=0.1)\n",
    "gt.change_line(grid,'B2','B3',X_km=0.167,R_km=0.287,km=0.3)\n",
    "gt.change_line(grid_ss,'B1','B2',X_km=0.167,R_km=0.287,km=0.1)\n",
    "gt.change_line(grid_ss,'B2','B3',X_km=0.167,R_km=0.287,km=0.3)\n",
    "\n",
    "params_ctrl = params.copy()\n",
    "params_ctrl.update({'Dt':0.01,'decimation':1})\n",
    "grid.initialize([params_ctrl],'xy_0.json',compile=True)\n",
    "grid_ss.initialize([params_ctrl],'xy_0.json',compile=True)\n",
    "\n",
    "P_B2_0 = grid.get_value('P_B2')\n",
    "\n",
    "opt = opt_class(grid_ss)\n",
    "opt.grid.set_value('P_B2',P_B2_0)\n",
    "v_ref_B1, v_ref_B3 = opt.optimize()\n",
    "\n",
    "params_ctrl.update({'v_ref_B1':v_ref_B1,'v_ref_B3':v_ref_B3})\n",
    "grid.initialize([params_ctrl],'xy_0.json',compile=True)\n",
    "\n",
    "Δt = 1.0\n",
    "t_end = 10.0\n",
    "\n",
    "times = np.arange(0,t_end+Δt,Δt)\n",
    "\n",
    "for t in times:\n",
    "    \n",
    "    # events\n",
    "    P_B2 = P_B2_0\n",
    "    if t>2.0:\n",
    "        P_B2 = 2*P_B2_0\n",
    "    if t>7.0:\n",
    "        P_B2 = 0.5*P_B2_0\n",
    "        \n",
    "    # simulate one large step\n",
    "    grid.run([{'t_end': t,'P_B2':P_B2}])\n",
    "    \n",
    "    # update ss system\n",
    "    opt.grid.set_value('P_B2',P_B2)\n",
    "    \n",
    "    # update inputs in main system\n",
    "    v_ref_B1, v_ref_B3 = opt.optimize()      \n",
    "\n",
    "    grid.set_value('v_ref_B1',v_ref_B1)\n",
    "    grid.set_value('v_ref_B3',v_ref_B3) \n",
    "        \n",
    "    \n",
    "\n",
    "grid.post();"
   ]
  },
  {
   "cell_type": "code",
   "execution_count": 169,
   "metadata": {
    "scrolled": false
   },
   "outputs": [
    {
     "data": {
      "application/vnd.jupyter.widget-view+json": {
       "model_id": "7446b93e34c4448ab4db82c28352c6ec",
       "version_major": 2,
       "version_minor": 0
      },
      "text/plain": [
       "Canvas(toolbar=Toolbar(toolitems=[('Home', 'Reset original view', 'home', 'home'), ('Back', 'Back to previous …"
      ]
     },
     "metadata": {},
     "output_type": "display_data"
    }
   ],
   "source": [
    "fig, axes = plt.subplots(nrows=5, ncols=1, figsize=(4, 8))\n",
    "\n",
    "axes[0].plot(grid.T,grid.get_values('p_g_B1'), label='$p_{B1}$')\n",
    "axes[0].plot(grid.T,grid.get_values('p_g_B3'), label='$p_{B3}$')\n",
    "\n",
    "axes[1].plot(grid.T,grid.get_values('q_g_B1'), label='$q_{B1}$')\n",
    "axes[1].plot(grid.T,grid.get_values('q_g_B3'), label='$q_{B3}$')\n",
    "\n",
    "axes[2].plot(grid.T,grid.get_values('omega_B1'), label='$\\omega_{B1}$')\n",
    "axes[2].plot(grid.T,grid.get_values('omega_B3'), label='$\\omega_{B3}$')\n",
    "axes[2].plot(grid.T,grid.get_values('omega_coi'), label='$\\omega_{coi}$')\n",
    "\n",
    "axes[3].plot([0,t_end],2*[1.05],'r')\n",
    "#axes[3].plot([0,t_end],2*[0.95],'b')\n",
    "axes[3].plot(grid.T,grid.get_values('V_B1'), label='$V_{{B1}}$')\n",
    "axes[3].plot(grid.T,grid.get_values('V_B2'), label='$V_{{B2}}$')\n",
    "axes[3].plot(grid.T,grid.get_values('V_B3'), label='$V_{{B3}}$')\n",
    "\n",
    "\n",
    "P_loss = grid.get_values('p_g_B1')*100e3 + grid.get_values('p_g_B3')*100e3 + grid.get_values('P_B2') \n",
    "axes[4].plot(grid.T,P_loss, label='$P_{{loss}}$ (W)')\n",
    "\n",
    "for ax in axes:\n",
    "    ax.grid()\n",
    "    ax.legend()\n",
    "    ax.set_xlim(0,t_end)\n",
    "ax.set_xlabel('Time (s)')\n",
    "\n",
    "axes[1].legend(loc='best')\n",
    "\n",
    "fig.tight_layout()"
   ]
  },
  {
   "cell_type": "code",
   "execution_count": 164,
   "metadata": {},
   "outputs": [
    {
     "data": {
      "text/plain": [
       "array([1.04596204, 1.04999538])"
      ]
     },
     "execution_count": 164,
     "metadata": {},
     "output_type": "execute_result"
    }
   ],
   "source": [
    "opt.x_0"
   ]
  },
  {
   "cell_type": "code",
   "execution_count": null,
   "metadata": {},
   "outputs": [],
   "source": []
  },
  {
   "cell_type": "markdown",
   "metadata": {},
   "source": [
    "## Reporter"
   ]
  },
  {
   "cell_type": "code",
   "execution_count": 10,
   "metadata": {},
   "outputs": [],
   "source": [
    "U_b = 400.0\n",
    "S_b = 100e3\n",
    "I_b = S_b/(np.sqrt(3)*U_b)\n",
    "\n",
    "\n",
    "def report(grid):\n",
    "    P_B1,P_B2,P_B3 = grid.get_value('p_g_B1')*100,grid.get_value('P_B1')/1e3,grid.get_value('P_B2')/1e3\n",
    "    Q_B1,Q_B2,Q_B3 = grid.get_value('q_g_B0_1')*100,grid.get_value('Q_B1')/1e3,grid.get_value('Q_B2')/1e3\n",
    "\n",
    "    U_B0,U_B1,U_B2,U_B3 = grid.get_value('V_B0')*400,grid.get_value('V_B1')*400,grid.get_value('V_B2')*400,grid.get_value('V_B3')*400\n",
    "    I_03_m = np.abs(grid.get_value('i_d_ref_B0') + 1j*grid.get_value('i_q_ref_B0'))*I_b\n",
    "    S_B1_m = np.abs(grid.get_value('P_B1') + 1j*grid.get_value('Q_B1'))/100e3\n",
    "    I_B1_m = S_B1_m/grid.get_value('V_B1')*I_b\n",
    "    S_B2_m = np.abs(grid.get_value('P_B2') + 1j*grid.get_value('Q_B2'))/100e3\n",
    "    I_B2_m = S_B2_m/grid.get_value('V_B2')*I_b\n",
    "    P_loss = P_B0 + P_B1 + P_B2 - 400\n",
    "\n",
    "    print(f'    P_1      P_2      P_3       Q_1     Q_2      Q_3    P_loss      I_1      I_2     U_1      U_2     U_3') #      & $P_0\\,(kW)$ & $P_1\\,(kW)$ & $P_2\\,(kW)$ & $P_{loss}\\,(kW)$ & $i_{0,3}\\,(A)$ & $v_{max}\\,(V)$ & $v_{min}\\,(V)$ \\\\ \\hline\n",
    "    print(f'{P_B0:7.2f}  {P_B1:7.2f}  {P_B2:7.2f}  {Q_B0:7.2f}  {Q_B1:7.2f}  {Q_B2:7.2f}   {P_loss:7.2f}  {I_B1_m:7.1f}  {I_B2_m:7.1f}  {U_B1:7.1f}  {U_B2:7.1f} {U_B3:7.1f}') \n",
    "    \n"
   ]
  },
  {
   "cell_type": "markdown",
   "metadata": {},
   "source": [
    "## Optimization problem"
   ]
  },
  {
   "cell_type": "code",
   "execution_count": 70,
   "metadata": {},
   "outputs": [],
   "source": [
    "grid_pi_opt = oc_3bus_vsg_pi_class()\n",
    "gt.change_line(grid_pi,'B1','B2',X_km=0.167,R_km=0.287,km=0.1)\n",
    "gt.change_line(grid_pi,'B2','B3',X_km=0.167,R_km=0.287,km=0.3)\n",
    "grid_pi_opt.initialize([params_vsg_pi],'xy_0.json',compile=True)\n",
    "grid_pi_opt.initialization_tol = 1e-10\n",
    "\n",
    "P_B2 = -100e3\n",
    "grid_pi_opt.set_value('P_B2',P_B2)\n",
    "\n",
    "\n",
    "def obj_eval(u):\n",
    "    grid_pi_opt.load_0('xy_0.json')\n",
    "    \n",
    "    v_ref_B1 = u[0]\n",
    "    v_ref_B3 = u[1]\n",
    "    grid_pi_opt.set_value('v_ref_B1',v_ref_B1)\n",
    "    grid_pi_opt.set_value('v_ref_B3',v_ref_B3) \n",
    "    \n",
    "    params_vsg_pi['v_ref_B1'] = v_ref_B1\n",
    "    params_vsg_pi['v_ref_B3'] = v_ref_B3\n",
    "    params_vsg_pi['P_B2'] = P_B2\n",
    "    \n",
    "    gt.change_line(grid_pi,'B1','B2',X_km=0.167,R_km=0.287,km=0.1)\n",
    "    gt.change_line(grid_pi,'B2','B3',X_km=0.167,R_km=0.287,km=0.3)\n",
    "    grid_pi_opt.initialize([params_vsg_pi],'xy_0.json',compile=True)\n",
    "    \n",
    "    P_B1 = grid_pi_opt.get_value('p_g_B1')*100e3\n",
    "    P_B3 = grid_pi_opt.get_value('p_g_B3')*100e3\n",
    "    \n",
    "    P_loss = P_B1 + P_B3 + grid_pi_opt.get_value('P_B2')\n",
    "    return P_loss"
   ]
  },
  {
   "cell_type": "code",
   "execution_count": 73,
   "metadata": {},
   "outputs": [
    {
     "data": {
      "text/plain": [
       "   direc: array([[ 1.06709386e-02,  2.11613751e-02],\n",
       "       [-1.53616589e-06, -1.46384007e-06]])\n",
       "     fun: 1168.703133449977\n",
       " message: 'Optimization terminated successfully.'\n",
       "    nfev: 142\n",
       "     nit: 3\n",
       "  status: 0\n",
       " success: True\n",
       "       x: array([1.04636675, 1.05      ])"
      ]
     },
     "execution_count": 73,
     "metadata": {},
     "output_type": "execute_result"
    }
   ],
   "source": [
    "x0 = np.array([ 1,1 ])\n",
    "#SLSQP\n",
    "bounds = [(0.95,1.05),(0.95,1.05)]\n",
    "res = sopt.minimize(obj_eval, x0, method='Powell',bounds=bounds, \n",
    "               options={})\n",
    "res\n",
    "#grid_pi_opt.save_params('opt.json')"
   ]
  },
  {
   "cell_type": "code",
   "execution_count": 72,
   "metadata": {},
   "outputs": [
    {
     "data": {
      "text/plain": [
       "array([1.04636675, 1.05      ])"
      ]
     },
     "execution_count": 72,
     "metadata": {},
     "output_type": "execute_result"
    }
   ],
   "source": [
    "res.x"
   ]
  },
  {
   "cell_type": "code",
   "execution_count": 39,
   "metadata": {},
   "outputs": [
    {
     "data": {
      "text/plain": [
       "286.9984772622847"
      ]
     },
     "execution_count": 39,
     "metadata": {},
     "output_type": "execute_result"
    }
   ],
   "source": [
    "grid_pi_opt.initialize([params_vsg_pi],'xy_0.json',compile=True)\n",
    "P_loss = grid_pi_opt.get_value('p_g_B1')*100e3 + grid_pi_opt.get_value('p_g_B3')*100e3 + grid_pi_opt.get_value('P_B2') \n",
    "P_loss"
   ]
  },
  {
   "cell_type": "code",
   "execution_count": 68,
   "metadata": {},
   "outputs": [],
   "source": [
    "grid_pi_opt.run([{'t_end': 1.0,'P_B2':-50e3, 'v_ref_B1':res.x[0],'v_ref_B3':res.x[1]}])\n",
    "grid_pi_opt.run([{'t_end': 5.0,'P_B2':-100e3}])\n",
    "grid_pi_opt.run([{'t_end': 8.0,'v_ref_B1':1.04636674,'v_ref_B3':1.05}])\n",
    "grid_pi_opt.run([{'t_end':30.0,'omega_ref_B1':1.011,'omega_ref_B3':1.011}])\n",
    "#grid.set_value('P_B2', -1e3)\n",
    "#grid.run([{'t_end':3.0}])\n",
    "grid_pi_opt.post();"
   ]
  },
  {
   "cell_type": "code",
   "execution_count": 59,
   "metadata": {},
   "outputs": [
    {
     "name": "stdout",
     "output_type": "stream",
     "text": [
      "P_B1  =  0.00\n",
      "Q_B1  =  0.00\n",
      "P_B2  = -50000.00\n",
      "Q_B2  =  0.00\n",
      "P_B3  =  0.00\n",
      "Q_B3  =  0.00\n",
      "v_ref_B1 =  1.05\n",
      "p_m_B1 =  0.25\n",
      "p_c_B1 =  0.00\n",
      "omega_ref_B1 =  1.01\n",
      "v_ref_B3 =  1.05\n",
      "p_m_B3 =  0.25\n",
      "p_c_B3 =  0.00\n",
      "omega_ref_B3 =  1.01\n"
     ]
    }
   ],
   "source": [
    "grid_pi.report_u()"
   ]
  },
  {
   "cell_type": "code",
   "execution_count": 48,
   "metadata": {},
   "outputs": [],
   "source": [
    "#grid_pi.initialize([params_vsg_pi],'xy_0.json',compile=True)\n",
    "\n",
    "grid_pi.run([{'t_end': 1.0,'P_B2':-50e3, 'v_ref_B1':res.x[0],'v_ref_B3':res.x[1]}])\n",
    "grid_pi.run([{'t_end': 5.0,'P_B2':-100e3}])\n",
    "grid_pi.run([{'t_end': 8.0,'v_ref_B1':1.04636674,'v_ref_B3':1.05}])\n",
    "grid_pi.run([{'t_end':30.0,'omega_ref_B1':1.011,'omega_ref_B3':1.011}])\n",
    "#grid.set_value('P_B2', -1e3)\n",
    "#grid.run([{'t_end':3.0}])\n",
    "grid_pi.post();"
   ]
  },
  {
   "cell_type": "code",
   "execution_count": 69,
   "metadata": {},
   "outputs": [
    {
     "name": "stderr",
     "output_type": "stream",
     "text": [
      "<ipython-input-69-c23dcbe0a565>:1: RuntimeWarning: More than 20 figures have been opened. Figures created through the pyplot interface (`matplotlib.pyplot.figure`) are retained until explicitly closed and may consume too much memory. (To control this warning, see the rcParam `figure.max_open_warning`).\n",
      "  fig, axes = plt.subplots(nrows=3, ncols=1, figsize=(4, 5))\n"
     ]
    },
    {
     "data": {
      "application/vnd.jupyter.widget-view+json": {
       "model_id": "8599e54c0c0b425eb9b02dc43aea8a19",
       "version_major": 2,
       "version_minor": 0
      },
      "text/plain": [
       "Canvas(toolbar=Toolbar(toolitems=[('Home', 'Reset original view', 'home', 'home'), ('Back', 'Back to previous …"
      ]
     },
     "metadata": {},
     "output_type": "display_data"
    },
    {
     "data": {
      "text/plain": [
       "<matplotlib.legend.Legend at 0x25f6ccf6e50>"
      ]
     },
     "execution_count": 69,
     "metadata": {},
     "output_type": "execute_result"
    }
   ],
   "source": [
    "fig, axes = plt.subplots(nrows=3, ncols=1, figsize=(4, 5))\n",
    "axes[0].plot(grid_pi.T,grid_pi.get_values('omega_B1'), label='$\\omega_{B1}$')\n",
    "axes[0].plot(grid_pi.T,grid_pi.get_values('omega_B3'), label='$\\omega_{B3}$')\n",
    "axes[0].plot(grid_pi.T,grid_pi.get_values('omega_coi'), label='$\\omega_{coi}$')\n",
    "axes[1].plot(grid_pi.T,grid_pi.get_values('V_B2'), label='$V_{{B2}}$')\n",
    "\n",
    "P_loss = grid_pi_opt.get_values('p_g_B1')*100e3 + grid_pi_opt.get_values('p_g_B3')*100e3 + grid_pi_opt.get_values('P_B2') \n",
    "axes[2].plot(grid_pi_opt.T,P_loss, label='$P_{{loss}}$ (W)')\n",
    "\n",
    "for ax in axes:\n",
    "    ax.grid()\n",
    "    ax.legend()\n",
    "ax.set_xlabel('Time (s)')\n",
    "\n",
    "axes[1].legend(loc='best')"
   ]
  },
  {
   "cell_type": "code",
   "execution_count": 51,
   "metadata": {},
   "outputs": [
    {
     "ename": "NameError",
     "evalue": "name 'arn_4bus_class' is not defined",
     "output_type": "error",
     "traceback": [
      "\u001b[1;31m---------------------------------------------------------------------------\u001b[0m",
      "\u001b[1;31mNameError\u001b[0m                                 Traceback (most recent call last)",
      "\u001b[1;32m<ipython-input-51-f09a25be5292>\u001b[0m in \u001b[0;36m<module>\u001b[1;34m\u001b[0m\n\u001b[1;32m----> 1\u001b[1;33m \u001b[0mgrid\u001b[0m \u001b[1;33m=\u001b[0m \u001b[0marn_4bus_class\u001b[0m\u001b[1;33m(\u001b[0m\u001b[1;33m)\u001b[0m\u001b[1;33m\u001b[0m\u001b[1;33m\u001b[0m\u001b[0m\n\u001b[0m\u001b[0;32m      2\u001b[0m \u001b[0mgrid\u001b[0m\u001b[1;33m.\u001b[0m\u001b[0minitialization_tol\u001b[0m \u001b[1;33m=\u001b[0m \u001b[1;36m1e-10\u001b[0m\u001b[1;33m\u001b[0m\u001b[1;33m\u001b[0m\u001b[0m\n\u001b[0;32m      3\u001b[0m \u001b[0mgt\u001b[0m\u001b[1;33m.\u001b[0m\u001b[0mchange_line\u001b[0m\u001b[1;33m(\u001b[0m\u001b[0mgrid\u001b[0m\u001b[1;33m,\u001b[0m\u001b[1;34m'B0'\u001b[0m\u001b[1;33m,\u001b[0m\u001b[1;34m'B3'\u001b[0m\u001b[1;33m,\u001b[0m\u001b[0mX_km\u001b[0m\u001b[1;33m=\u001b[0m\u001b[1;36m0.167\u001b[0m\u001b[1;33m,\u001b[0m\u001b[0mR_km\u001b[0m\u001b[1;33m=\u001b[0m\u001b[1;36m0.287\u001b[0m\u001b[1;33m,\u001b[0m\u001b[0mkm\u001b[0m\u001b[1;33m=\u001b[0m\u001b[1;36m0.2\u001b[0m\u001b[1;33m)\u001b[0m\u001b[1;33m\u001b[0m\u001b[1;33m\u001b[0m\u001b[0m\n\u001b[0;32m      4\u001b[0m \u001b[0mgt\u001b[0m\u001b[1;33m.\u001b[0m\u001b[0mchange_line\u001b[0m\u001b[1;33m(\u001b[0m\u001b[0mgrid\u001b[0m\u001b[1;33m,\u001b[0m\u001b[1;34m'B2'\u001b[0m\u001b[1;33m,\u001b[0m\u001b[1;34m'B3'\u001b[0m\u001b[1;33m,\u001b[0m\u001b[0mX_km\u001b[0m\u001b[1;33m=\u001b[0m\u001b[1;36m0.167\u001b[0m\u001b[1;33m,\u001b[0m\u001b[0mR_km\u001b[0m\u001b[1;33m=\u001b[0m\u001b[1;36m0.287\u001b[0m\u001b[1;33m,\u001b[0m\u001b[0mkm\u001b[0m\u001b[1;33m=\u001b[0m\u001b[1;36m0.2\u001b[0m\u001b[1;33m)\u001b[0m\u001b[1;33m\u001b[0m\u001b[1;33m\u001b[0m\u001b[0m\n\u001b[0;32m      5\u001b[0m \u001b[0mgt\u001b[0m\u001b[1;33m.\u001b[0m\u001b[0mchange_line\u001b[0m\u001b[1;33m(\u001b[0m\u001b[0mgrid\u001b[0m\u001b[1;33m,\u001b[0m\u001b[1;34m'B1'\u001b[0m\u001b[1;33m,\u001b[0m\u001b[1;34m'B3'\u001b[0m\u001b[1;33m,\u001b[0m\u001b[0mX_km\u001b[0m\u001b[1;33m=\u001b[0m\u001b[1;36m0.167\u001b[0m\u001b[1;33m,\u001b[0m\u001b[0mR_km\u001b[0m\u001b[1;33m=\u001b[0m\u001b[1;36m0.287\u001b[0m\u001b[1;33m,\u001b[0m\u001b[0mkm\u001b[0m\u001b[1;33m=\u001b[0m\u001b[1;36m0.3\u001b[0m\u001b[1;33m)\u001b[0m\u001b[1;33m\u001b[0m\u001b[1;33m\u001b[0m\u001b[0m\n",
      "\u001b[1;31mNameError\u001b[0m: name 'arn_4bus_class' is not defined"
     ]
    }
   ],
   "source": [
    "grid = arn_4bus_class()\n",
    "grid.initialization_tol = 1e-10\n",
    "gt.change_line(grid,'B0','B3',X_km=0.167,R_km=0.287,km=0.2)\n",
    "gt.change_line(grid,'B2','B3',X_km=0.167,R_km=0.287,km=0.2)\n",
    "gt.change_line(grid,'B1','B3',X_km=0.167,R_km=0.287,km=0.3)\n",
    "\n",
    "grid.set_value('P_B3',-400e3)\n",
    "\n",
    "u =   np.array([ 50. ,        253.50910792  , 3.4676086 ,  17.1092196 ])*1e3\n",
    "\n",
    "grid.set_value('P_B1',u[0])\n",
    "grid.set_value('P_B2',u[1]) \n",
    "grid.set_value('Q_B1',u[2])\n",
    "grid.set_value('Q_B2',u[3]) \n",
    "grid.set_value('K_delta_B0',1)\n",
    "grid.set_value('R_v_B0',1e-8)\n",
    "grid.set_value('X_v_B0',1e-8)\n",
    "grid.load_0('xy_0.json')\n",
    "grid.ss()\n",
    "print(grid.get_value('V_B0'))\n",
    "\n",
    "\n",
    "def obj_eval(u):\n",
    "    grid_pi.load_0('xy_0.json')\n",
    "    \n",
    "    v_ref_B1 = u[0]\n",
    "    v_ref_B3 = u[1]\n",
    "    grid.set_value('v_ref_B1',v_ref_B1)\n",
    "    grid.set_value('v_ref_B3',v_ref_B3) \n",
    "    \n",
    "    grid.ss()\n",
    "    \n",
    "    P_B1 = grid_pi.get_values('p_g_B1')*100e3\n",
    "    P_B1 = grid_pi.get_values('p_g_B1')*100e3\n",
    "    \n",
    "    P_loss = P_B0 + P_B1 + P_B2 - 400e3\n",
    "    return P_loss\n",
    "\n",
    "def contraint_I_B0_B3(u):\n",
    "    grid.set_value('P_B1',u[0])\n",
    "    grid.set_value('P_B2',u[1]) \n",
    "    grid.set_value('Q_B1',u[2])\n",
    "    grid.set_value('Q_B2',u[3]) \n",
    "    grid.load_0('xy_0.json')\n",
    "    grid.ss()\n",
    "    \n",
    "    I_B0_B3 = np.abs(grid.get_value('i_d_ref_B0') + 1j*grid.get_value('i_q_ref_B0'))*I_b\n",
    "    \n",
    "    return I_B0_B3\n",
    "\n",
    "def contraint_I_B1(u):\n",
    "    grid.set_value('P_B1',u[0])\n",
    "    grid.set_value('P_B2',u[1]) \n",
    "    grid.set_value('Q_B1',u[2])\n",
    "    grid.set_value('Q_B2',u[3]) \n",
    "    grid.load_0('xy_0.json')\n",
    "    grid.ss()\n",
    "    \n",
    "    S_B1_m = np.abs(grid.get_value('P_B1') + 1j*grid.get_value('Q_B1'))/100e3\n",
    "    I_B1_m = S_B1_m/(np.sqrt(3)*grid.get_value('V_B1')*400)\n",
    "    \n",
    "    return I_B1_m\n",
    "\n",
    "def contraint_I_B2(u):\n",
    "    grid.set_value('P_B1',u[0])\n",
    "    grid.set_value('P_B2',u[1]) \n",
    "    grid.set_value('Q_B1',u[2])\n",
    "    grid.set_value('Q_B2',u[3]) \n",
    "    grid.load_0('xy_0.json')\n",
    "    grid.ss()\n",
    "    \n",
    "    S_B2_m = np.abs(grid.get_value('P_B2') + 1j*grid.get_value('Q_B2'))\n",
    "    I_B2_m = S_B2_m/(np.sqrt(3)*grid.get_value('V_B2')*400)\n",
    "    \n",
    "    return I_B2_m\n",
    "\n",
    "\n",
    "def contraint_V_B3(u):\n",
    "    grid.set_value('P_B1',u[0])\n",
    "    grid.set_value('P_B2',u[1]) \n",
    "    grid.set_value('Q_B1',u[2])\n",
    "    grid.set_value('Q_B2',u[3]) \n",
    "    grid.load_0('xy_0.json')\n",
    "    grid.ss()\n",
    "    \n",
    "    U_B3 = grid.get_value('V_B3')*400\n",
    "    \n",
    "    return U_B3\n",
    "\n",
    "def contraint_V_B2(u):\n",
    "    grid.set_value('P_B1',u[0])\n",
    "    grid.set_value('P_B2',u[1]) \n",
    "    grid.set_value('Q_B1',u[2])\n",
    "    grid.set_value('Q_B2',u[3]) \n",
    "    grid.load_0('xy_0.json')\n",
    "    grid.ss()\n",
    "    \n",
    "    U_B2 = grid.get_value('V_B2')*400\n",
    "    \n",
    "    return U_B2\n",
    "\n",
    "\n",
    "def contraint_V_B1(u):\n",
    "    grid.set_value('P_B1',u[0])\n",
    "    grid.set_value('P_B2',u[1]) \n",
    "    grid.set_value('Q_B1',u[2])\n",
    "    grid.set_value('Q_B2',u[3]) \n",
    "    grid.load_0('xy_0.json')\n",
    "    grid.ss()\n",
    "    \n",
    "    U_B1 = grid.get_value('V_B1')*400\n",
    "    \n",
    "    return U_B1\n",
    "\n",
    "c1_nlcs = (\n",
    "    NonlinearConstraint(contraint_I_B1, -80, 80),\n",
    "    NonlinearConstraint(contraint_I_B2, -476, 476),\n",
    "   # NonlinearConstraint(contraint_V_B1, 400*0.8, 400*1.2),\n",
    "   # NonlinearConstraint(contraint_V_B2, 400*0.8, 400*1.2),\n",
    "   # NonlinearConstraint(contraint_V_B3, 400*0.8, 400*1.2),\n",
    "   # NonlinearConstraint(contraint_I_B0_B3, -400, 400),\n",
    ")\n",
    "\n",
    "c2_nlcs = (\n",
    "    NonlinearConstraint(contraint_I_B1, -80, 80),\n",
    "    NonlinearConstraint(contraint_I_B2, -476, 476),\n",
    "    NonlinearConstraint(contraint_V_B1, 400*0.95, 400*1.05),\n",
    "    NonlinearConstraint(contraint_V_B2, 400*0.95, 400*1.05),\n",
    "    NonlinearConstraint(contraint_V_B3, 400*0.95, 400*1.05),\n",
    "    #NonlinearConstraint(contraint_I_B0_B3, -400, 400),\n",
    ")\n",
    "\n",
    "c3_nlcs = (\n",
    "    NonlinearConstraint(contraint_I_B1, -80, 80),\n",
    "    NonlinearConstraint(contraint_I_B2, -476, 476),\n",
    "    NonlinearConstraint(contraint_V_B1, 400*0.95, 400*1.05),\n",
    "    NonlinearConstraint(contraint_V_B2, 400*0.95, 400*1.05),\n",
    "    #NonlinearConstraint(contraint_V_B3, 400*0.95, 400*1.05),\n",
    "    NonlinearConstraint(contraint_I_B0_B3, -180, 180),\n",
    ")\n",
    "\n",
    "bounds=[(0e3,50e3),(0,400e3),(-50e3,50e3),(-300e3,300e3)]\n",
    "\n"
   ]
  },
  {
   "cell_type": "markdown",
   "metadata": {},
   "source": [
    "### Minimize"
   ]
  },
  {
   "cell_type": "code",
   "execution_count": 28,
   "metadata": {},
   "outputs": [
    {
     "name": "stdout",
     "output_type": "stream",
     "text": [
      "    P_0      P_1      P_2       Q_0     Q_1      Q_2    P_loss      I_1      I_2     I_03         U_1      U_2     U_3\n",
      " 140.95   113.22   169.86    -4.80     7.29    11.49     24.03    161.7    242.6    203.6       405.1    405.1   380.3\n"
     ]
    }
   ],
   "source": [
    "x0 = np.array([ 50. ,        253.50910792  , 3.4676086 ,  17.1092196 ])*1e3\n",
    "res = sopt.minimize(obj_eval, x0, method='Powell', \n",
    "               options={})\n",
    "report(grid)"
   ]
  },
  {
   "cell_type": "markdown",
   "metadata": {},
   "source": [
    "### Case 1"
   ]
  },
  {
   "cell_type": "code",
   "execution_count": 30,
   "metadata": {},
   "outputs": [
    {
     "name": "stdout",
     "output_type": "stream",
     "text": [
      "    P_0      P_1      P_2       Q_0     Q_1      Q_2    P_loss      I_1      I_2     I_03         U_1      U_2     U_3\n",
      " 171.53    50.00   205.23    -3.52     4.51    14.58     26.76     74.8    292.7    247.7       387.6    405.8   375.9\n"
     ]
    }
   ],
   "source": [
    "c1_solution = sopt.differential_evolution(obj_eval,bounds=bounds ,constraints=(c1_nlcs), tol=1e-10)\n",
    "report(grid)"
   ]
  },
  {
   "cell_type": "markdown",
   "metadata": {},
   "source": [
    "### Case 2"
   ]
  },
  {
   "cell_type": "code",
   "execution_count": 48,
   "metadata": {},
   "outputs": [
    {
     "name": "stdout",
     "output_type": "stream",
     "text": [
      "    P_0      P_1      P_2       Q_0     Q_1      Q_2    P_loss      I_1      I_2     I_03         U_1      U_2     U_3\n",
      " 151.13    50.00   225.98   -16.66     8.94    23.49     27.11     74.8    317.6    219.5       392.1    413.0   380.0\n"
     ]
    }
   ],
   "source": [
    "c2_solution = sopt.differential_evolution(obj_eval, bounds=bounds,constraints=(c2_nlcs), tol=1e-8)\n",
    "report(grid)"
   ]
  },
  {
   "cell_type": "markdown",
   "metadata": {},
   "source": [
    "### Case 3"
   ]
  },
  {
   "cell_type": "code",
   "execution_count": 49,
   "metadata": {},
   "outputs": [
    {
     "name": "stdout",
     "output_type": "stream",
     "text": [
      "    P_0      P_1      P_2       Q_0     Q_1      Q_2    P_loss      I_1      I_2     I_03         U_1      U_2     U_3\n",
      " 124.61    50.00   253.53    -4.85     3.83    17.39     28.15     73.5    350.6    180.0       394.1    418.4   382.7\n"
     ]
    }
   ],
   "source": [
    "c3_solution = sopt.differential_evolution(obj_eval, bounds=bounds,constraints=(c3_nlcs), tol=1e-8)\n",
    "report(grid)"
   ]
  }
 ],
 "metadata": {
  "kernelspec": {
   "display_name": "Python 3",
   "language": "python",
   "name": "python3"
  },
  "language_info": {
   "codemirror_mode": {
    "name": "ipython",
    "version": 3
   },
   "file_extension": ".py",
   "mimetype": "text/x-python",
   "name": "python",
   "nbconvert_exporter": "python",
   "pygments_lexer": "ipython3",
   "version": "3.8.8"
  }
 },
 "nbformat": 4,
 "nbformat_minor": 4
}
