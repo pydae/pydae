{
 "cells": [
  {
   "cell_type": "code",
   "execution_count": 34,
   "metadata": {},
   "outputs": [],
   "source": [
    "from IPython.core.display import HTML,SVG\n"
   ]
  },
  {
   "cell_type": "code",
   "execution_count": 30,
   "metadata": {},
   "outputs": [
    {
     "name": "stdout",
     "output_type": "stream",
     "text": [
      "<path d=\"M 200,200 h 1.32292 v -52.916665 h 1.32291 l -2.64583,-5.291666 -2.64583,5.291666 h 1.32291 v 52.916665 z\" fill=\"#337ab7\" id=\"arrow_1\" class=\"tooltip-trigger\" data-tooltip-text=\"arrow_1\n",
      " v\" data_v=\"v = 2.0 V\" data_i=\"i = 0.0 A\" stroke-width=\"0\" transform=\"translate(-200,-200) scale(2)  rotate(0,200,200)\" /><path d=\"M 200,200 h 1.32292 v -52.916665 h 1.32291 l -2.64583,-5.291666 -2.64583,5.291666 h 1.32291 v 52.916665 z\" fill=\"#337ab7\" id=\"arrow_1\" class=\"tooltip-trigger\" data-tooltip-text=\"arrow_2\" data_v=\"v = 2.0 V\" data_i=\"i = 90.0 A\" stroke-width=\"0\" transform=\"translate(-200,-200) scale(2)  rotate(90,200,200)\" /><path d=\"M 200,200 h 1.32292 v -52.916665 h 1.32291 l -2.64583,-5.291666 -2.64583,5.291666 h 1.32291 v 52.916665 z\" fill=\"#337ab7\" id=\"arrow_1\" class=\"tooltip-trigger\" data-tooltip-text=\"arrow_3\" data_v=\"v = 1.5 V\" data_i=\"i = 180.0 A\" stroke-width=\"0\" transform=\"translate(-100.0,-100.0) scale(1.5)  rotate(180,200,200)\" />\n"
     ]
    }
   ],
   "source": [
    "svg_arrows = ''\n",
    "\n",
    "def add_arrow(string,name='arrow',scale=1,angle=0,center_x=0,center_y=0,color=\"#337ab7\"):\n",
    "    trans_x = center_x*(1-scale)\n",
    "    trans_y = center_y*(1-scale)\n",
    "    \n",
    "   \n",
    "    string += f'<path d=\"M {center_x},{center_y} h 1.32292 v -52.916665 h 1.32291 l -2.64583,-5.291666 -2.64583,5.291666 h 1.32291 v 52.916665 z\" ' \n",
    "    string += f'fill=\"#337ab7\" id=\"arrow_1\" class=\"tooltip-trigger\" data-tooltip-text=\"{name}\" '\n",
    "    string += f'data_v=\"v = {scale:2.1f} V\" data_i=\"i = {angle:2.1f} A\" '\n",
    "    string += f'stroke-width=\"0\" transform=\"translate({trans_x},{trans_y}) scale({scale})  rotate({angle},{center_x},{center_y})\" '   \n",
    "    string += f'/>' \n",
    "    return string\n",
    "\n",
    "\n",
    "svg_arrows = add_arrow(svg_arrows,name='arrow_1\\n v',scale=2,angle=0, center_x=200,center_y=200,color=\"#337ab7\") \n",
    "svg_arrows = add_arrow(svg_arrows,name='arrow_2',scale=2,angle=90,center_x=200,center_y=200,color=\"#337ab7\")       \n",
    "svg_arrows = add_arrow(svg_arrows,name='arrow_3',scale=1.5,angle=180,center_x=200,center_y=200,color=\"#337ab7\")  \n",
    "\n",
    "print(svg_arrows)"
   ]
  },
  {
   "cell_type": "code",
   "execution_count": 38,
   "metadata": {},
   "outputs": [
    {
     "data": {
      "image/svg+xml": [
       "<svg xmlns=\"http://www.w3.org/2000/svg\" height=\"400\" width=\"400\" id=\"tooltip-svg-5\">\n",
       "\t<style>\n",
       "\t\t#tooltip {\n",
       "\t\t\tdominant-baseline: hanging; \n",
       "\t\t}\n",
       "\t</style>\n",
       "\n",
       "<path d=\"M 200,200 h 1.32292 v -52.916665 h 1.32291 l -2.64583,-5.291666 -2.64583,5.291666 h 1.32291 v 52.916665 z\" fill=\"#337ab7\" id=\"arrow_1\" class=\"tooltip-trigger\" data-tooltip-text=\"arrow_1  v\" data_v=\"v = 2.0 V\" data_i=\"i = 0.0 A\" stroke-width=\"0\" transform=\"translate(-200,-200) scale(2)  rotate(0,200,200)\"/><path d=\"M 200,200 h 1.32292 v -52.916665 h 1.32291 l -2.64583,-5.291666 -2.64583,5.291666 h 1.32291 v 52.916665 z\" fill=\"#337ab7\" id=\"arrow_1\" class=\"tooltip-trigger\" data-tooltip-text=\"arrow_2\" data_v=\"v = 2.0 V\" data_i=\"i = 90.0 A\" stroke-width=\"0\" transform=\"translate(-200,-200) scale(2)  rotate(90,200,200)\"/><path d=\"M 200,200 h 1.32292 v -52.916665 h 1.32291 l -2.64583,-5.291666 -2.64583,5.291666 h 1.32291 v 52.916665 z\" fill=\"#337ab7\" id=\"arrow_1\" class=\"tooltip-trigger\" data-tooltip-text=\"arrow_3\" data_v=\"v = 1.5 V\" data_i=\"i = 180.0 A\" stroke-width=\"0\" transform=\"translate(-100.0,-100.0) scale(1.5)  rotate(180,200,200)\"/>    <g id=\"tooltip\" visibility=\"hidden\">\n",
       "\t\t<rect x=\"2\" y=\"2\" width=\"80\" height=\"55\" fill=\"black\" opacity=\"0.4\" rx=\"2\" ry=\"2\"/>\n",
       "\t\t<rect width=\"80\" height=\"54\" fill=\"white\" rx=\"2\" ry=\"2\"/>\n",
       "\t\t<text x=\"3\" y=\"6\">Tooltip\n",
       "        <tspan dy=\"1.2em\" x=\"4\" fill=\"red\">line1</tspan>\n",
       "        <tspan dy=\"1.2em\" x=\"4\" fill=\"red\">line2</tspan>\n",
       "        </text>\n",
       "\t</g>\n",
       "\n",
       "\n",
       "\t<script type=\"text/ecmascript\"><![CDATA[\n",
       "\t\t(function() {\n",
       "\t\t\tvar svg = document.getElementById('tooltip-svg-5');\n",
       "\t\t\tvar tooltip = svg.getElementById('tooltip');\n",
       "\t\t\tvar tooltipText = tooltip.getElementsByTagName('text')[0].firstChild;\n",
       "            var tooltipTspan_1 = tooltip.getElementsByTagName('text')[0].getElementsByTagName('tspan')[0].firstChild;\n",
       "            var tooltipTspan_2 = tooltip.getElementsByTagName('text')[0].getElementsByTagName('tspan')[1].firstChild;\n",
       "\t\t\tvar triggers = svg.getElementsByClassName('tooltip-trigger');\n",
       "\n",
       "\t\t\tfor (var i = 0; i < triggers.length; i++) {\n",
       "\t\t\t\ttriggers[i].addEventListener('mousemove', showTooltip);\n",
       "\t\t\t\ttriggers[i].addEventListener('mouseout', hideTooltip);\n",
       "\t\t\t}\n",
       "\n",
       "\t\t\tfunction showTooltip(evt) {\n",
       "\t\t\t\tvar CTM = svg.getScreenCTM();\n",
       "\t\t\t\tvar x = (evt.clientX - CTM.e + 6) / CTM.a;\n",
       "\t\t\t\tvar y = (evt.clientY - CTM.f + 20) / CTM.d;\n",
       "\t\t\t\ttooltip.setAttributeNS(null, \"transform\", \"translate(\" + x + \" \" + y + \")\");\n",
       "\t\t\t\ttooltip.setAttributeNS(null, \"visibility\", \"visible\");\n",
       "\t\t\t\ttooltipText.data = evt.target.getAttributeNS(null, \"data-tooltip-text\");\n",
       "                tooltipTspan_1.data = evt.target.getAttributeNS(null, \"data_v\");\n",
       "                tooltipTspan_2.data = evt.target.getAttributeNS(null, \"data_i\");\n",
       "\t\t\t}\n",
       "\n",
       "\t\t\tfunction hideTooltip(evt) {\n",
       "\t\t\t\ttooltip.setAttributeNS(null, \"visibility\", \"hidden\");\n",
       "\t\t\t}\n",
       "\t\t})()\n",
       "    ]]></script>\n",
       "</svg>"
      ],
      "text/plain": [
       "<IPython.core.display.SVG object>"
      ]
     },
     "execution_count": 38,
     "metadata": {},
     "output_type": "execute_result"
    }
   ],
   "source": [
    "SVG('''\n",
    "<svg xmlns=\"http://www.w3.org/2000/svg\" \n",
    "height=\"400\"  width=\"400\"\n",
    "id=\"tooltip-svg-5\">\n",
    "\t<style>\n",
    "\t\t#tooltip {\n",
    "\t\t\tdominant-baseline: hanging; \n",
    "\t\t}\n",
    "\t</style>\n",
    "\n",
    "{arrows}    <g id=\"tooltip\" visibility=\"hidden\" >\n",
    "\t\t<rect x=\"2\" y=\"2\" width=\"80\" height=\"55\" fill=\"black\" opacity=\"0.4\" rx=\"2\" ry=\"2\"/>\n",
    "\t\t<rect width=\"80\" height=\"54\" fill=\"white\" rx=\"2\" ry=\"2\"/>\n",
    "\t\t<text x=\"3\" y=\"6\">Tooltip\n",
    "        <tspan dy=\"1.2em\" x=\"4\" fill=\"red\">line1</tspan>\n",
    "        <tspan dy=\"1.2em\" x=\"4\" fill=\"red\">line2</tspan>\n",
    "        </text>\n",
    "\t</g>\n",
    "\n",
    "\n",
    "\t<script type=\"text/ecmascript\"><![CDATA[\n",
    "\t\t(function() {\n",
    "\t\t\tvar svg = document.getElementById('tooltip-svg-5');\n",
    "\t\t\tvar tooltip = svg.getElementById('tooltip');\n",
    "\t\t\tvar tooltipText = tooltip.getElementsByTagName('text')[0].firstChild;\n",
    "            var tooltipTspan_1 = tooltip.getElementsByTagName('text')[0].getElementsByTagName('tspan')[0].firstChild;\n",
    "            var tooltipTspan_2 = tooltip.getElementsByTagName('text')[0].getElementsByTagName('tspan')[1].firstChild;\n",
    "\t\t\tvar triggers = svg.getElementsByClassName('tooltip-trigger');\n",
    "\n",
    "\t\t\tfor (var i = 0; i < triggers.length; i++) {\n",
    "\t\t\t\ttriggers[i].addEventListener('mousemove', showTooltip);\n",
    "\t\t\t\ttriggers[i].addEventListener('mouseout', hideTooltip);\n",
    "\t\t\t}\n",
    "\n",
    "\t\t\tfunction showTooltip(evt) {\n",
    "\t\t\t\tvar CTM = svg.getScreenCTM();\n",
    "\t\t\t\tvar x = (evt.clientX - CTM.e + 6) / CTM.a;\n",
    "\t\t\t\tvar y = (evt.clientY - CTM.f + 20) / CTM.d;\n",
    "\t\t\t\ttooltip.setAttributeNS(null, \"transform\", \"translate(\" + x + \" \" + y + \")\");\n",
    "\t\t\t\ttooltip.setAttributeNS(null, \"visibility\", \"visible\");\n",
    "\t\t\t\ttooltipText.data = evt.target.getAttributeNS(null, \"data-tooltip-text\");\n",
    "                tooltipTspan_1.data = evt.target.getAttributeNS(null, \"data_v\");\n",
    "                tooltipTspan_2.data = evt.target.getAttributeNS(null, \"data_i\");\n",
    "\t\t\t}\n",
    "\n",
    "\t\t\tfunction hideTooltip(evt) {\n",
    "\t\t\t\ttooltip.setAttributeNS(null, \"visibility\", \"hidden\");\n",
    "\t\t\t}\n",
    "\t\t})()\n",
    "    ]]></script>\n",
    "</svg>\n",
    "'''.replace('{arrows}',svg_arrows))"
   ]
  },
  {
   "cell_type": "code",
   "execution_count": 39,
   "metadata": {},
   "outputs": [
    {
     "ename": "SyntaxError",
     "evalue": "invalid syntax (<ipython-input-39-33b1a0bd61ec>, line 1)",
     "output_type": "error",
     "traceback": [
      "\u001b[1;36m  File \u001b[1;32m\"<ipython-input-39-33b1a0bd61ec>\"\u001b[1;36m, line \u001b[1;32m1\u001b[0m\n\u001b[1;33m    var tooltipTspan_2 = tooltip.getElementsByTagName('text')[0].getElementsByTagName('tspan')[0].lastChild;\u001b[0m\n\u001b[1;37m        ^\u001b[0m\n\u001b[1;31mSyntaxError\u001b[0m\u001b[1;31m:\u001b[0m invalid syntax\n"
     ]
    }
   ],
   "source": [
    "var tooltipTspan_2 = tooltip.getElementsByTagName('text')[0].getElementsByTagName('tspan')[0].lastChild;"
   ]
  },
  {
   "cell_type": "code",
   "execution_count": 9,
   "metadata": {},
   "outputs": [
    {
     "data": {
      "text/plain": [
       "'<svg baseProfile=\"full\" height=\"400\" version=\"1.1\" width=\"400\" xmlns=\"http://www.w3.org/2000/svg\" xmlns:ev=\"http://www.w3.org/2001/xml-events\" xmlns:xlink=\"http://www.w3.org/1999/xlink\"><defs /><path d=\"M 200,200 h 1.32292 v -52.916665 h 1.32291 l -2.64583,-5.291666 -2.64583,5.291666 h 1.32291 v 52.916665 z\" fill=\"#337ab7\" id=\"arrow_1\" onmouseover=\"showMyTooltip(evt)\" stroke=\"black\" stroke-width=\"0\" transform=\"translate(100.0,100.0) scale(0.5)  rotate(10,200,200)\" /></svg>'"
      ]
     },
     "execution_count": 9,
     "metadata": {},
     "output_type": "execute_result"
    }
   ],
   "source": [
    "dwg = svgwrite.Drawing('arrows.svg', (400, 400))\n",
    "\n",
    "def add_arrow(dwg,name='arrow',scale=1,angle=0,center_x=0,center_y=0,color=\"#337ab7\"):\n",
    "    trans_x = center_x*(1-scale)\n",
    "    trans_y = center_y*(1-scale)\n",
    "    transform = f\"translate({trans_x},{trans_y}) scale({scale})  rotate({angle},{center_x},{center_y})\"\n",
    "    line = dwg.add(dwg.path(d=\"M 200,200 h 1.32292 v -52.916665 h 1.32291 l -2.64583,-5.291666 -2.64583,5.291666 h 1.32291 v 52.916665 z\",\n",
    "                        id=name,\n",
    "                        transform=transform,fill=color, stroke=\"black\", stroke_width=\"0\",\n",
    "                        onmouseover=\"showMyTooltip(evt)\"))\n",
    "    \n",
    "    return line\n",
    "\n",
    "\n",
    "add_arrow(dwg,name='arrow_1',scale=0.5,angle=10,center_x=200,center_y=200)\n",
    "dwg.tostring()"
   ]
  },
  {
   "cell_type": "code",
   "execution_count": null,
   "metadata": {},
   "outputs": [],
   "source": []
  }
 ],
 "metadata": {
  "kernelspec": {
   "display_name": "Python 3",
   "language": "python",
   "name": "python3"
  },
  "language_info": {
   "codemirror_mode": {
    "name": "ipython",
    "version": 3
   },
   "file_extension": ".py",
   "mimetype": "text/x-python",
   "name": "python",
   "nbconvert_exporter": "python",
   "pygments_lexer": "ipython3",
   "version": "3.8.5"
  }
 },
 "nbformat": 4,
 "nbformat_minor": 4
}
