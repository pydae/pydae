{
 "cells": [
  {
   "cell_type": "code",
   "execution_count": 1,
   "metadata": {},
   "outputs": [],
   "source": [
    "import numpy as np\n",
    "import sympy as sym\n",
    "import json\n",
    "import sympy as sym\n",
    "import pydae.build as db\n",
    "from pydae.grid_bpu import bpu"
   ]
  },
  {
   "cell_type": "code",
   "execution_count": 4,
   "metadata": {},
   "outputs": [],
   "source": [
    "file_path = 'k12p6_pss.json'\n",
    "bpu_obj = bpu(data_input=file_path)"
   ]
  },
  {
   "cell_type": "code",
   "execution_count": 7,
   "metadata": {},
   "outputs": [],
   "source": [
    "g_list = bpu_obj.dae['g'] \n",
    "h_dict = bpu_obj.dae['h_dict']\n",
    "f_list = bpu_obj.dae['f']\n",
    "x_list = bpu_obj.dae['x']\n",
    "params_dict = bpu_obj.dae['params_dict']\n",
    "\n",
    "sys = {'name':'k12p6_pss',\n",
    "       'params_dict':params_dict,\n",
    "       'f_list':f_list,\n",
    "       'g_list':g_list,\n",
    "       'x_list':x_list,\n",
    "       'y_ini_list':bpu_obj.dae['y_ini'],\n",
    "       'y_run_list':bpu_obj.dae['y_run'],\n",
    "       'u_run_dict':bpu_obj.dae['u_run_dict'],\n",
    "       'u_ini_dict':bpu_obj.dae['u_ini_dict'],\n",
    "       'h_dict':h_dict}\n",
    "\n",
    "sys = db.system(sys)\n",
    "db.sys2num(sys)"
   ]
  },
  {
   "cell_type": "code",
   "execution_count": 8,
   "metadata": {},
   "outputs": [
    {
     "data": {
      "text/latex": [
       "$\\displaystyle - \\omega_{coi} + \\frac{H_{1} S_{n 1} \\omega_{1} + H_{2} S_{n 2} \\omega_{2} + H_{3} S_{n 3} \\omega_{3} + H_{4} S_{n 4} \\omega_{4}}{H_{1} S_{n 1} + H_{2} S_{n 2} + H_{3} S_{n 3} + H_{4} S_{n 4}}$"
      ],
      "text/plain": [
       "-omega_coi + (H_1*S_n_1*omega_1 + H_2*S_n_2*omega_2 + H_3*S_n_3*omega_3 + H_4*S_n_4*omega_4)/(H_1*S_n_1 + H_2*S_n_2 + H_3*S_n_3 + H_4*S_n_4)"
      ]
     },
     "execution_count": 8,
     "metadata": {},
     "output_type": "execute_result"
    }
   ],
   "source": [
    "sys['g'][-2]"
   ]
  },
  {
   "cell_type": "code",
   "execution_count": null,
   "metadata": {},
   "outputs": [],
   "source": []
  }
 ],
 "metadata": {
  "kernelspec": {
   "display_name": "Python 3",
   "language": "python",
   "name": "python3"
  },
  "language_info": {
   "codemirror_mode": {
    "name": "ipython",
    "version": 3
   },
   "file_extension": ".py",
   "mimetype": "text/x-python",
   "name": "python",
   "nbconvert_exporter": "python",
   "pygments_lexer": "ipython3",
   "version": "3.8.11"
  }
 },
 "nbformat": 4,
 "nbformat_minor": 4
}
