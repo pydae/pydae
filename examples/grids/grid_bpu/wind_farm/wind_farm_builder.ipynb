{
 "cells": [
  {
   "cell_type": "markdown",
   "metadata": {},
   "source": [
    "# Wind farm"
   ]
  },
  {
   "cell_type": "code",
   "execution_count": 19,
   "metadata": {},
   "outputs": [],
   "source": [
    "import numpy as np\n",
    "import sympy as sym\n",
    "import pydae.build as db\n",
    "from pydae.grid_bpu import bpu"
   ]
  },
  {
   "cell_type": "markdown",
   "metadata": {},
   "source": [
    "![](./png/wind_farm.png)"
   ]
  },
  {
   "cell_type": "code",
   "execution_count": 22,
   "metadata": {},
   "outputs": [],
   "source": [
    "           \n",
    "data = {\n",
    "    \"sys\":{\"name\":\"wind_farm\",\"S_base\":100e6, \"K_sec\":0.01,\"K_p_agc\":0.01,\"K_i_agc\":0.01},  \n",
    "    \"lines\":[\n",
    "        {\"bus_j\": \"W1mv\",  \"bus_k\":  \"W2mv\", \"R_km\":0.262,  \"X_km\":0.118, \"C_muF_km\":0.250, \"km\":0.5},\n",
    "        {\"bus_j\": \"W2mv\",  \"bus_k\":  \"W3mv\", \"R_km\":0.262,  \"X_km\":0.118, \"C_muF_km\":0.250, \"km\":0.5},\n",
    "        {\"bus_j\": \"W3mv\",  \"bus_k\": \"POImv\", \"R_km\":0.262,  \"X_km\":0.118, \"C_muF_km\":0.250, \"km\":0.5},\n",
    "        {\"bus_j\": \"STmv\",  \"bus_k\": \"POImv\", \"R_km\":0.262,  \"X_km\":0.118, \"C_muF_km\":0.250, \"km\":0.5},\n",
    "        {\"bus_j\": \"POI\",   \"bus_k\":  \"GRID\", \"R_km\":0.262,  \"X_km\":0.118, \"C_muF_km\":0.250, \"km\":50.0, 'monitor':True},\n",
    "        {\"bus_j\": \"POI\",  \"bus_k\": \"POImv\", \"X_pu\":0.01,\"R_pu\":0.05, \"S_mva\":10.0},\n",
    "        {\"bus_j\": \"W1mv\",  \"bus_k\": \"W1lv\", \"X_pu\":0.01,\"R_pu\":0.06, \"S_mva\": 2.5},\n",
    "        {\"bus_j\": \"W2mv\",  \"bus_k\": \"W2lv\", \"X_pu\":0.01,\"R_pu\":0.06, \"S_mva\": 2.5},\n",
    "        {\"bus_j\": \"W3mv\",  \"bus_k\": \"W3lv\", \"X_pu\":0.01,\"R_pu\":0.06, \"S_mva\": 2.5},\n",
    "        {\"bus_j\": \"STmv\",  \"bus_k\": \"STlv\", \"X_pu\":0.01,\"R_pu\":0.06, \"S_mva\": 2.5}\n",
    "            ],\n",
    "    \"buses\":[\n",
    "            {\"name\":  \"W1lv\", \"P_W\":0.0, \"Q_var\":0.0, \"pos_x\": -1500.0, \"pos_y\":  200.0, \"units\": \"m\", \"U_kV\":0.69},\n",
    "            {\"name\":  \"W2lv\", \"P_W\":0.0, \"Q_var\":0.0, \"pos_x\": -1000.0, \"pos_y\":  200.0, \"units\": \"m\", \"U_kV\":0.69},\n",
    "            {\"name\":  \"W3lv\", \"P_W\":0.0, \"Q_var\":0.0, \"pos_x\":  -500.0, \"pos_y\":  200.0, \"units\": \"m\", \"U_kV\":0.69},\n",
    "            {\"name\":  \"STlv\", \"P_W\":0.0, \"Q_var\":0.0, \"pos_x\":  -500.0, \"pos_y\":  200.0, \"units\": \"m\", \"U_kV\":0.69},\n",
    "            {\"name\":  \"W1mv\", \"P_W\":0.0, \"Q_var\":0.0, \"pos_x\": -1500.0, \"pos_y\":  180.0, \"units\": \"m\", \"U_kV\":20.0},\n",
    "            {\"name\":  \"W2mv\", \"P_W\":0.0, \"Q_var\":0.0, \"pos_x\": -1000.0, \"pos_y\":  180.0, \"units\": \"m\", \"U_kV\":20.0},\n",
    "            {\"name\":  \"W3mv\", \"P_W\":0.0, \"Q_var\":0.0, \"pos_x\":  -500.0, \"pos_y\":  180.0, \"units\": \"m\", \"U_kV\":20.0},\n",
    "            {\"name\": \"POImv\", \"P_W\":0.0, \"Q_var\":0.0, \"pos_x\":     0.0, \"pos_y\":    0.0, \"units\": \"m\", \"U_kV\":20.0},\n",
    "            {\"name\":  \"STmv\", \"P_W\":0.0, \"Q_var\":0.0, \"pos_x\":     0.0, \"pos_y\":    0.0, \"units\": \"m\", \"U_kV\":20.0},\n",
    "            {\"name\":   \"POI\", \"P_W\":0.0, \"Q_var\":0.0, \"pos_x\":   100.0, \"pos_y\":    0.0, \"units\": \"m\", \"U_kV\":66.0},\n",
    "            {\"name\":  \"GRID\", \"P_W\":0.0, \"Q_var\":0.0, \"pos_x\":   500.0, \"pos_y\":    0.0, \"units\": \"m\", \"U_kV\":66.0},\n",
    "    ],\n",
    "    \"vsgs\":[{\"bus\":\"GRID\",\"S_n\":50e6,\"type\":\"vsg_co\",\n",
    "        \"R_v\":0.01,\"X_v\":0.1, \"T_v\":0.1,\"T_w\":1,    \n",
    "    \"K_p\":0.01,\"T_p\":0.1,\"D\":1.0,\"v_ref\":1.1,\"p_c\":0.0,\"Droop\":0.05,\n",
    "    \"K_q\":0.01,\n",
    "    \"Omega_b\":314.1592653589793,\"omega_s\":1.0,\"K_sec\":0.0,\n",
    "    \"K_delta\":0.001}],\n",
    "        \n",
    "    }"
   ]
  },
  {
   "cell_type": "code",
   "execution_count": 23,
   "metadata": {},
   "outputs": [],
   "source": [
    "bpu_obj = bpu(data_input=data)\n",
    "\n",
    "g_list = bpu_obj.dae['g'] \n",
    "h_dict = bpu_obj.dae['h_dict']\n",
    "f_list = bpu_obj.dae['f']\n",
    "x_list = bpu_obj.dae['x']\n",
    "params_dict = bpu_obj.dae['params_dict']\n",
    "\n",
    "\n",
    "sys = {'name':'wind_farm',\n",
    "       'params_dict':params_dict,\n",
    "       'f_list':f_list,\n",
    "       'g_list':g_list,\n",
    "       'x_list':x_list,\n",
    "       'y_ini_list':bpu_obj.dae['y_ini'],\n",
    "       'y_run_list':bpu_obj.dae['y_run'],\n",
    "       'u_run_dict':bpu_obj.dae['u_run_dict'],\n",
    "       'u_ini_dict':bpu_obj.dae['u_ini_dict'],\n",
    "       'h_dict':h_dict}\n",
    "\n",
    "sys = db.system(sys)\n",
    "db.sys2num(sys)"
   ]
  },
  {
   "cell_type": "code",
   "execution_count": null,
   "metadata": {},
   "outputs": [],
   "source": []
  }
 ],
 "metadata": {
  "kernelspec": {
   "display_name": "Python 3",
   "language": "python",
   "name": "python3"
  },
  "language_info": {
   "codemirror_mode": {
    "name": "ipython",
    "version": 3
   },
   "file_extension": ".py",
   "mimetype": "text/x-python",
   "name": "python",
   "nbconvert_exporter": "python",
   "pygments_lexer": "ipython3",
   "version": "3.8.8"
  }
 },
 "nbformat": 4,
 "nbformat_minor": 4
}
