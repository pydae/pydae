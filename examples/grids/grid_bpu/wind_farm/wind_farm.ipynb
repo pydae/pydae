{
 "cells": [
  {
   "cell_type": "code",
   "execution_count": 10,
   "metadata": {},
   "outputs": [],
   "source": [
    "%matplotlib widget"
   ]
  },
  {
   "cell_type": "code",
   "execution_count": 13,
   "metadata": {},
   "outputs": [],
   "source": [
    "import numpy as np\n",
    "import scipy.optimize as sopt\n",
    "import matplotlib.pyplot as plt\n",
    "\n",
    "plt.style.use('easyres.mplstyle')"
   ]
  },
  {
   "cell_type": "markdown",
   "metadata": {},
   "source": [
    "<img src=\"./png/wind_farm.png\" width=\"800\">\n",
    "\n"
   ]
  },
  {
   "cell_type": "code",
   "execution_count": 14,
   "metadata": {},
   "outputs": [],
   "source": [
    "from wind_farm import wind_farm_class"
   ]
  },
  {
   "cell_type": "code",
   "execution_count": 15,
   "metadata": {},
   "outputs": [],
   "source": [
    "grid = wind_farm_class()"
   ]
  },
  {
   "cell_type": "code",
   "execution_count": 16,
   "metadata": {},
   "outputs": [
    {
     "name": "stdout",
     "output_type": "stream",
     "text": [
      "V_W1lv =  1.11\n",
      "theta_W1lv =  0.06\n",
      "V_W2lv =  1.11\n",
      "theta_W2lv =  0.06\n",
      "V_W3lv =  1.11\n",
      "theta_W3lv =  0.06\n",
      "V_STlv =  1.06\n",
      "theta_STlv =  0.05\n",
      "V_W1mv =  1.06\n",
      "theta_W1mv =  0.05\n",
      "V_W2mv =  1.06\n",
      "theta_W2mv =  0.05\n",
      "V_W3mv =  1.06\n",
      "theta_W3mv =  0.05\n",
      "V_POImv =  1.06\n",
      "theta_POImv =  0.05\n",
      "V_STmv =  1.06\n",
      "theta_STmv =  0.05\n",
      "V_POI =  1.02\n",
      "theta_POI =  0.04\n",
      "V_GRID =  1.00\n",
      "theta_GRID =  0.03\n",
      "omega_GRID =  1.00\n",
      "i_d_GRID =  0.02\n",
      "i_q_GRID = -0.34\n",
      "p_g_GRID = -0.34\n",
      "q_g_GRID =  0.01\n",
      "p_m_GRID = -0.34\n",
      "omega_coi =  1.00\n",
      "p_agc = -3.36\n"
     ]
    }
   ],
   "source": [
    "params = {\n",
    "    \"K_i_agc\":1.0,\n",
    "    \"K_sec_GRID\":0.1,\"S_n_GRID\":20e6,\"v_ref_GRID\":1.0,\"K_delta_GRID\":0.1,\n",
    "    \"P_W1lv\":2.5e6,\n",
    "    \"P_W2lv\":2.5e6,\n",
    "    \"P_W3lv\":2.5e6,\n",
    "    \"Q_STlv\":0.0,\n",
    "    'Q_W1lv':0.0,\n",
    "    'Q_W2lv':0.0,\n",
    "    'Q_W3lv':0.0\n",
    "}\n",
    "grid.ini(params,'xy_0.json')\n",
    "\n",
    "#grid.save_xy_0('xy_0.json')\n",
    "grid.report_y()"
   ]
  },
  {
   "cell_type": "code",
   "execution_count": 17,
   "metadata": {},
   "outputs": [],
   "source": [
    "grid.ini(params,'xy_0.json')\n",
    "grid.run(1.0,{})\n",
    "grid.run(2.0,{'Q_W1lv':-1e6})\n",
    "grid.run(3.0,{'Q_W2lv':-1e6})\n",
    "grid.run(4.0,{'Q_W3lv':-1e6})\n",
    "grid.run(10.0,{})\n",
    "\n",
    "grid.post();"
   ]
  },
  {
   "cell_type": "code",
   "execution_count": 18,
   "metadata": {},
   "outputs": [
    {
     "data": {
      "application/vnd.jupyter.widget-view+json": {
       "model_id": "bc7b8b8be37d4fffb59386343e2dc2fd",
       "version_major": 2,
       "version_minor": 0
      },
      "text/plain": [
       "Canvas(toolbar=Toolbar(toolitems=[('Home', 'Reset original view', 'home', 'home'), ('Back', 'Back to previous …"
      ]
     },
     "metadata": {},
     "output_type": "display_data"
    },
    {
     "data": {
      "text/plain": [
       "[<matplotlib.lines.Line2D at 0x247df7305e0>]"
      ]
     },
     "execution_count": 18,
     "metadata": {},
     "output_type": "execute_result"
    }
   ],
   "source": [
    "plt.close('all')\n",
    "fig, axes = plt.subplots(nrows=1,ncols=2, figsize=(8, 3), frameon=False, dpi=100, squeeze=False)\n",
    "\n",
    "axes[0,0].plot(grid.Time, grid.get_values('omega_coi'), label=\"$\\omega_{coi}$\")\n",
    "axes[0,1].plot(grid.Time, grid.get_values('V_POI'), label=\"$V_{POI}$\")\n",
    "axes[0,1].plot(grid.Time, grid.get_values('V_W1lv'), label=\"$V_{POI}$\")\n",
    "axes[0,1].plot(grid.Time, grid.get_values('V_W2lv'), label=\"$V_{POI}$\")\n",
    "axes[0,1].plot(grid.Time, grid.get_values('V_W3lv'), label=\"$V_{POI}$\")\n"
   ]
  },
  {
   "cell_type": "code",
   "execution_count": null,
   "metadata": {},
   "outputs": [],
   "source": []
  },
  {
   "cell_type": "markdown",
   "metadata": {},
   "source": [
    "* Local control LV side (lctrl_lv)\n",
    "* Local control MV side (lctrl_mv)\n",
    "* Centralized control: reference tracking (cctrl_ref)\n",
    "* Centralized control: perturbation rejection (cctrl_pert)\n",
    "* Centralized control with local in MV side: perturbation rejection (cctrl_mv_pert)\n",
    "* Distributed control with local in LV side: reference tracking (dctrl_lv_ref)\n",
    "* Distributed control with local in MV side: reference tracking (dctrl_mv_ref)\n",
    "* Distributed control with local in LV side: perturbation rejection (dctrl_lv_pert)\n",
    "* Distributed control with local in MV side: perturbation rejection (dctrl_mv_pert)"
   ]
  }
 ],
 "metadata": {
  "kernelspec": {
   "display_name": "Python 3 (ipykernel)",
   "language": "python",
   "name": "python3"
  },
  "language_info": {
   "codemirror_mode": {
    "name": "ipython",
    "version": 3
   },
   "file_extension": ".py",
   "mimetype": "text/x-python",
   "name": "python",
   "nbconvert_exporter": "python",
   "pygments_lexer": "ipython3",
   "version": "3.9.7"
  }
 },
 "nbformat": 4,
 "nbformat_minor": 4
}
