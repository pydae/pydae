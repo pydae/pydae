{
 "cells": [
  {
   "cell_type": "code",
   "execution_count": 296,
   "id": "7867c835",
   "metadata": {},
   "outputs": [],
   "source": [
    "import numpy as np\n",
    "import matplotlib.pyplot as plt\n",
    "from IPython.core.display import HTML\n",
    "import pydae.svg_tools as svgt\n",
    "#%config InlineBackend.figure_format = 'svg'\n",
    "import pydae.grid_tools as gt\n",
    "import scipy.optimize as sopt\n",
    "from scipy.optimize import NonlinearConstraint\n",
    "import time\n",
    "import json\n",
    "plt.style.use('ieee.mplstyle')\n",
    "colors = plt.rcParams['axes.prop_cycle'].by_key()['color']"
   ]
  },
  {
   "cell_type": "code",
   "execution_count": 297,
   "id": "79779560",
   "metadata": {},
   "outputs": [],
   "source": [
    "%matplotlib widget"
   ]
  },
  {
   "cell_type": "code",
   "execution_count": 298,
   "id": "39389b62",
   "metadata": {},
   "outputs": [],
   "source": [
    "from pydae import ssa\n",
    "from onehalf import onehalf_class"
   ]
  },
  {
   "cell_type": "code",
   "execution_count": 299,
   "id": "175e95d3",
   "metadata": {},
   "outputs": [
    {
     "name": "stdout",
     "output_type": "stream",
     "text": [
      "S_base = 100000.00\n",
      "g_01_02 = 124.92\n",
      "b_01_02 = -4996.88\n",
      "bs_01_02 =  0.00\n",
      "g_02_03 = 124.92\n",
      "b_02_03 = -4996.88\n",
      "bs_02_03 =  0.00\n",
      "U_01_n = 400.00\n",
      "U_02_n = 400.00\n",
      "U_03_n = 400.00\n",
      "S_n_01 = 10000000.00\n",
      "Omega_b_01 = 314.16\n",
      "H_01  =  6.50\n",
      "T1d0_01 =  8.00\n",
      "T1q0_01 =  0.40\n",
      "X_d_01 =  1.80\n",
      "X_q_01 =  1.70\n",
      "X1d_01 =  0.30\n",
      "X1q_01 =  0.55\n",
      "D_01  =  0.00\n",
      "R_a_01 =  0.00\n",
      "K_delta_01 =  0.01\n",
      "K_sec_01 =  0.10\n",
      "K_a_01 = 200.00\n",
      "K_ai_01 =  0.00\n",
      "T_r_01 =  0.02\n",
      "V_min_01 = -10000.00\n",
      "V_max_01 =  5.00\n",
      "K_aw_01 = 10.00\n",
      "Droop_01 =  0.05\n",
      "T_gov_1_01 =  1.00\n",
      "T_gov_2_01 =  2.00\n",
      "T_gov_3_01 = 10.00\n",
      "K_imw_01 =  0.00\n",
      "omega_ref_01 =  1.00\n",
      "T_wo_01 = 10.00\n",
      "T_1_01 =  0.10\n",
      "T_2_01 =  0.10\n",
      "K_stab_01 =  1.00\n",
      "S_n_03 = 2000000.00\n",
      "Omega_b_03 = 314.16\n",
      "K_p_03 =  0.80\n",
      "T_p_03 =  0.16\n",
      "K_q_03 =  0.10\n",
      "T_q_03 =  0.10\n",
      "X_v_03 =  0.10\n",
      "R_v_03 =  0.00\n",
      "R_s_03 =  0.01\n",
      "C_u_03 = 514.00\n",
      "K_u_0_03 =  0.01\n",
      "K_u_max_03 = 10.00\n",
      "V_u_min_03 = 80.00\n",
      "V_u_max_03 = 160.00\n",
      "R_uc_03 =  0.00\n",
      "K_h_03 = 10.00\n",
      "R_lim_03 =  0.02\n",
      "V_u_lt_03 = 81.00\n",
      "V_u_ht_03 = 159.00\n",
      "Droop_03 = 1000.04\n",
      "DB_03 =  0.01\n",
      "T_cur_03 = 1000.00\n",
      "R_lim_max_03 = 100.00\n",
      "K_fpfr_03 =  1.00\n",
      "P_f_min_03 = -1.00\n",
      "P_f_max_03 =  1.00\n",
      "K_p_agc =  0.01\n",
      "K_i_agc =  0.01\n"
     ]
    }
   ],
   "source": [
    "grid = onehalf_class()\n",
    "\n",
    "#H = T_p/K_p/2\n",
    "H_03 = 0.1; # desired virtual inertia \n",
    "K_p_03 = 0.8; # active power proportinal gain\n",
    "T_p_03 = K_p_03*2*H_03;  # active power integral time constant\n",
    "\n",
    "params = {\n",
    "          \"S_n_01\":10e6,\"K_p_agc\":0.01,\"K_i_agc\":0.01,\n",
    "          \"K_delta_01\":0.01,\"p_c_01\":0.01,'K_sec_01':0.1,\"K_imw_01\":0.0,\"K_a_01\":200,\n",
    "          'D_01':0,\n",
    "           \"P_02\":-8.0e6,\"Q_02\":0.0,\n",
    "        # UVSG 03:\n",
    "          \"S_n_03\":2e6,\"R_s_03\":0.01, # VSC\n",
    "          \"R_v_03\":0.0,\"X_v_03\":0.1,\"K_p_03\":K_p_03,\"T_p_03\":T_p_03, # PI-VSG\n",
    "          \"R_uc_03\":0.001,'K_u_0_03':0.005,'K_u_max_03':10,\"C_u_03\":514, # UCAP ans SoC control\n",
    "          'p_gin_0_03': 1.0,'p_g_ref_03': 0.001,\"T_cur_03\":1000,  # primary source\n",
    "          'q_s_ref_03': 0.0, # reactive power\n",
    "          'R_lim_03':0.02,\"K_h_03\":10,  # HFPS\n",
    "          \"Droop_03\":1000.04,'DB_03':0.015, \"K_fpfr_03\":1.0, # PFR\n",
    "          \"v_u_ref_03\":126.491,\n",
    "          \"V_u_lt_03\":81,\"V_u_ht_03\":159\n",
    "          }\n",
    "\n",
    "\n",
    "gt.change_line(grid,'01','02',X_pu=0.04,R_pu=0.001,S_mva=20)\n",
    "gt.change_line(grid,'02','03',X_pu=0.04,R_pu=0.001,S_mva=20)\n",
    "grid.initialize([params],'xy_0.json',compile=True)\n",
    "S_b_01_mva = grid.get_value('S_n_01')/1e6\n",
    "S_b_03_mva = grid.get_value('S_n_03')/1e6\n",
    "S_b_sys_mva = grid.get_value('S_base')/1e6\n",
    "#grid.save_0('xy_0.json')\n",
    "#grid.report_y()\n",
    "#ssa.eval_A(grid)\n",
    "#ssa.damp_report(grid)\n",
    "#ssa.participation(grid).abs().round(2)\n",
    "grid.report_params()"
   ]
  },
  {
   "cell_type": "markdown",
   "id": "e67283aa",
   "metadata": {},
   "source": [
    "## PFR Design"
   ]
  },
  {
   "cell_type": "markdown",
   "id": "4da4baba",
   "metadata": {},
   "source": [
    "### Simulation without PFR"
   ]
  },
  {
   "cell_type": "code",
   "execution_count": 300,
   "id": "055b7ed1",
   "metadata": {},
   "outputs": [],
   "source": [
    "## Without PFR by CIG\n",
    "Dp_pert = -0.2 # p.u. installed power capacity base \n",
    "t_pert = 1.0\n",
    "\n",
    "grid = onehalf_class()\n",
    "gt.change_line(grid,'01','02',X_pu=0.04,R_pu=0.001,S_mva=20)\n",
    "gt.change_line(grid,'02','03',X_pu=0.04,R_pu=0.001,S_mva=20)\n",
    "time_0 = time.time()\n",
    "grid.initialize([params],'xy_0.json',compile=True)\n",
    "P_load_0_mva = grid.get_value('P_02')/1e6\n",
    "grid.run([{'t_end':t_pert,'Dt':0.01,'decimation':1}])\n",
    "grid.run([{'t_end':10.0,'P_01':P_load_0_mva*(0-Dp_pert)*1e6}])\n",
    "grid.run([{'t_end':60.1,'Dt':0.1}])\n",
    "grid.post();"
   ]
  },
  {
   "cell_type": "code",
   "execution_count": 310,
   "id": "cbc242e4",
   "metadata": {},
   "outputs": [
    {
     "data": {
      "text/plain": [
       "2.7375408804161725"
      ]
     },
     "execution_count": 310,
     "metadata": {},
     "output_type": "execute_result"
    }
   ],
   "source": [
    "(t_nadir_ref_end-t_nadir_ref)*p_pfr_mw/2"
   ]
  },
  {
   "cell_type": "markdown",
   "id": "5e5893b1",
   "metadata": {},
   "source": [
    "### PFR design"
   ]
  },
  {
   "cell_type": "code",
   "execution_count": 301,
   "id": "eab5e722",
   "metadata": {},
   "outputs": [
    {
     "name": "stdout",
     "output_type": "stream",
     "text": [
      "omega_ll = 0.9837, omega_ref = 0.9820, omega_lh = 0.9817\n",
      "p_pfr_pu = 0.5542,P_f_max = 0.6650, DB = 0.0327\n"
     ]
    }
   ],
   "source": [
    "## Design of PFR by CIG\n",
    "omega_nadir_ref = 0.982\n",
    "Droop = 0.003 # in CIG base\n",
    "mid_pos = 0.5\n",
    "K_ol = 1.2\n",
    "\n",
    "S_n_syn_mva = grid.get_value('S_n_01')/1e6\n",
    "S_n_cig_mva = grid.get_value('S_n_03')/1e6\n",
    "S_n_sys_mva = S_n_syn_mva + S_n_cig_mva\n",
    "\n",
    "# importan points\n",
    "idx_pert = np.searchsorted(grid.T[:,0],t_pert)\n",
    "idx_nadir = np.argmin(grid.get_values('omega_coi'))\n",
    "t_nadir = grid.T[idx_nadir]\n",
    "p_m_pert = grid.get_values('p_m_01')[idx_pert]*S_b_01_mva\n",
    "omega_nadir = grid.get_values('omega_coi')[idx_nadir]\n",
    "\n",
    "t_nadir_ref = grid.T[idx_pert:idx_nadir,0][np.argmin(grid.get_values('omega_coi')[idx_pert:idx_nadir]>omega_nadir_ref)]\n",
    "idx_nadir_ref = np.searchsorted(grid.T[:,0],t_nadir_ref)\n",
    "\n",
    "t_nadir_ref_end = grid.T[idx_nadir:,0][np.argmin(grid.get_values('omega_coi')[idx_nadir:]<omega_nadir_ref)]\n",
    "idx_nadir_ref_end = np.searchsorted(grid.T[:,0],t_nadir_ref_end)\n",
    "\n",
    "# Load\n",
    "P_load = grid.get_values('p_g_01')*S_b_01_mva + grid.get_values('p_s_03')*S_b_03_mva \n",
    "p_pfr_mw = P_load[idx_nadir_ref] - grid.get_values('p_m_01')[idx_nadir_ref]*S_b_01_mva\n",
    "p_pfr_pu = p_pfr_mw/S_n_cig_mva\n",
    "omega_ref = omega_nadir_ref\n",
    "\n",
    "# FPFR parameters\n",
    "P_f_max = p_pfr_pu*K_ol  # pu in CIG power base\n",
    "omega_ll = omega_ref + Droop*p_pfr_pu\n",
    "omega_lh = omega_ref - Droop*(P_f_max - p_pfr_pu)\n",
    "DB = (1 - omega_ll)*2\n",
    "\n",
    "print(f'omega_ll = {omega_ll:0.4f}, omega_ref = {omega_ref:0.4f}, omega_lh = {omega_lh:0.4f}')\n",
    "print(f'p_pfr_pu = {p_pfr_pu:0.4f},P_f_max = {P_f_max:0.4f}, DB = {DB:0.4f}')\n",
    "\n",
    "# Obtained PFR curve\n",
    "omega_hh = 1 + DB/2\n",
    "omega_h_ref = 1 + (1-omega_ref)\n",
    "omega_hl = 1 + (1-omega_lh)\n",
    "omegas = np.array([      0,   omega_lh, omega_ref,omega_ll,1,omega_hh,omega_h_ref,omega_hl,2])\n",
    "p_fs   = np.array([P_f_max,    P_f_max,  p_pfr_pu,       0,0,       0,  -p_pfr_pu, -P_f_max,    -P_f_max])"
   ]
  },
  {
   "cell_type": "code",
   "execution_count": 308,
   "id": "54cce0b4",
   "metadata": {},
   "outputs": [
    {
     "data": {
      "application/vnd.jupyter.widget-view+json": {
       "model_id": "e08540bcc2c848fd9aba2753417c3212",
       "version_major": 2,
       "version_minor": 0
      },
      "text/plain": [
       "Canvas(toolbar=Toolbar(toolitems=[('Home', 'Reset original view', 'home', 'home'), ('Back', 'Back to previous …"
      ]
     },
     "metadata": {},
     "output_type": "display_data"
    }
   ],
   "source": [
    "fig,axes = plt.subplots(nrows=2)\n",
    "axes[0].plot(grid.T,grid.get_values('omega_coi'),label='$f_{coi}$')\n",
    "\n",
    "\n",
    "axes[0].plot(grid.T[idx_pert],grid.get_values('omega_coi')[idx_pert],'o',color=colors[5] )\n",
    "axes[0].plot(grid.T[idx_nadir],grid.get_values('omega_coi')[idx_nadir],'o',color=colors[3])\n",
    "axes[0].plot(grid.T[idx_nadir_ref],grid.get_values('omega_coi')[idx_nadir_ref],'o',color=colors[2] )\n",
    "\n",
    "P_load_mw = grid.get_values('p_g_01')*S_b_01_mva + grid.get_values('p_s_03')*S_b_03_mva \n",
    "P_m_mw = grid.get_values('p_m_01')*S_b_01_mva\n",
    "\n",
    "axes[1].plot(grid.T,P_load_mw,label='$p_l$')\n",
    "\n",
    "axes[1].plot(grid.T,P_m_mw,label='$p_m$')\n",
    "#axes[1].plot(grid_pfr.T,grid_pfr.get_values('p_m_01')*S_b_01_mva,label='p_m_01')\n",
    "\n",
    "axes[1].plot(grid.T[idx_nadir_ref],P_m_mw[idx_nadir_ref],'o',color=colors[2])\n",
    "axes[1].plot(grid.T[idx_nadir_ref],P_load_mw[idx_nadir_ref],'o',color=colors[2])\n",
    "\n",
    "axes[1].plot(grid.T[idx_nadir],P_load_mw[idx_nadir],'o',color=colors[3])\n",
    "\n",
    "axes[1].plot(grid.T[idx_nadir_ref_end],P_load_mw[idx_nadir_ref_end],'o',color='#888')\n",
    "\n",
    "#axes[2].plot(grid_pfr.T,grid_pfr.get_values('p_s_03')*S_b_03_mva)\n",
    "#axes[1].annotate(s='', xy=(1,1), xytext=(0,0), arrowprops=dict(arrowstyle='<->'))\n",
    "\n",
    "axes[1].annotate(\"\",\n",
    "            xy=(grid.T[idx_nadir_ref], P_m_mw[idx_nadir_ref]), xycoords='data',\n",
    "            xytext=(grid.T[idx_nadir_ref], P_load_mw[idx_nadir_ref]), textcoords='data',\n",
    "            arrowprops=dict(arrowstyle='<|-|>, head_width=0.1', facecolor='black')\n",
    "            )\n",
    "\n",
    "for ax in axes:\n",
    "    ax.grid()\n",
    "    ax.set_xlim(0,30)\n",
    "#axes[1].plot(grid.T,grid.get_values('p_s_03')*S_b_03_mva,label='p_s_03')\n",
    "\n",
    "axes[1].fill_between(grid.T[idx_nadir_ref:idx_nadir,0], \n",
    "                     P_m_mw[idx_nadir_ref:idx_nadir], \n",
    "                     P_load_mw[idx_nadir_ref:idx_nadir], \n",
    "                     where=(P_m_mw[idx_nadir_ref:idx_nadir] < P_load_mw[idx_nadir_ref:idx_nadir]),\n",
    "                color=colors[2], alpha=0.5)\n",
    "\n",
    "axes[1].fill_between(grid.T[idx_nadir:idx_nadir_ref_end,0], \n",
    "                     P_m_mw[idx_nadir:idx_nadir_ref_end], \n",
    "                     P_load_mw[idx_nadir:idx_nadir_ref_end], \n",
    "                     where=(P_m_mw[idx_nadir:idx_nadir_ref_end] > P_load_mw[idx_nadir:idx_nadir_ref_end]),\n",
    "                color='#AAA', alpha=0.5)\n",
    "\n",
    "axes[0].legend()\n",
    "axes[1].legend()\n",
    "axes[0].set_ylabel('Frequency (pu)')\n",
    "axes[1].set_ylabel('Powers (MW)')\n",
    "\n",
    "axes[1].set_xlabel('Time (s)')\n",
    "\n",
    "fig.align_ylabels()\n",
    "fig.tight_layout()\n",
    "fig.savefig('../'*5 + 'docs/fpfr/figs/without_pfr.pdf')"
   ]
  },
  {
   "cell_type": "markdown",
   "id": "ab4bea34",
   "metadata": {},
   "source": [
    "### Storage design"
   ]
  },
  {
   "cell_type": "code",
   "execution_count": 303,
   "id": "4515b55b",
   "metadata": {},
   "outputs": [
    {
     "name": "stdout",
     "output_type": "stream",
     "text": [
      "e_pfr_estimated = 2.468 MJ\n",
      "V_u_0 = 126.491 V\n",
      "C_u = 514.199 F\n"
     ]
    }
   ],
   "source": [
    "Dtime_pfr_estimated = grid.T[idx_nadir_ref:idx_nadir,0]-grid.T[idx_nadir_ref,0]\n",
    "P_pfr_estimated = P_load_mw[idx_nadir_ref:idx_nadir] - P_m_mw[idx_nadir_ref:idx_nadir]  \n",
    "e_pfr_estimated_1 = np.trapz(P_pfr_estimated,x=Dtime_pfr_estimated)\n",
    "\n",
    "Dtime_pfr_estimated = grid.T[idx_nadir:idx_nadir_ref_end,0]-grid.T[idx_nadir,0]\n",
    "P_pfr_estimated = P_load_mw[idx_nadir:idx_nadir_ref_end] - P_m_mw[idx_nadir:idx_nadir_ref_end]  \n",
    "e_pfr_estimated_2 = np.trapz(P_pfr_estimated,x=Dtime_pfr_estimated)\n",
    "\n",
    "e_pfr_estimated = e_pfr_estimated_1 - e_pfr_estimated_2\n",
    "\n",
    "print(f'e_pfr_estimated = {e_pfr_estimated:0.3f} MJ')\n",
    "\n",
    "# E_u_discharge = 0.5*C_u*(V_u_0**2 - V_u_min**2)\n",
    "E_u_discharge =  e_pfr_estimated*1e6\n",
    "V_u_min = 80\n",
    "V_u_max = 160\n",
    "#SoC = (v_u**2 - V_u_min**2)/(V_u_max**2 - V_u_min**2) \n",
    "SoC_0 = 0.5\n",
    "\n",
    "V_u_0 = np.sqrt(SoC_0*(V_u_max**2 - V_u_min**2)+V_u_min**2)\n",
    "print(f'V_u_0 = {V_u_0:0.3f} V')\n",
    "\n",
    "C_u = E_u_discharge/(0.5*(V_u_0**2 - V_u_min**2))\n",
    "print(f'C_u = {C_u:0.3f} F')"
   ]
  },
  {
   "cell_type": "code",
   "execution_count": null,
   "id": "1c91fa0f",
   "metadata": {},
   "outputs": [],
   "source": []
  },
  {
   "cell_type": "markdown",
   "id": "d8dbb91b",
   "metadata": {},
   "source": [
    "## Results with PFR"
   ]
  },
  {
   "cell_type": "code",
   "execution_count": 304,
   "id": "0daa66ab",
   "metadata": {},
   "outputs": [],
   "source": [
    "params_pfr = params.copy()\n",
    "params_pfr.update({'DB_03':DB,'Droop_03':Droop,'P_f_max_03':P_f_max})\n",
    "grid_pfr = onehalf_class()\n",
    "gt.change_line(grid_pfr,'01','02',X_pu=0.04,R_pu=0.001,S_mva=20)\n",
    "gt.change_line(grid_pfr,'02','03',X_pu=0.04,R_pu=0.001,S_mva=20)\n",
    "time_0 = time.time()\n",
    "grid_pfr.initialize([params_pfr],'xy_0.json',compile=True)\n",
    "grid_pfr.run([{'t_end':1.0,'Dt':0.01,'decimation':1}])\n",
    "grid_pfr.run([{'t_end':10.0,'P_01':P_load_0_mva*(0-Dp_pert)*1e6}])\n",
    "grid_pfr.run([{'t_end':60.1,'Dt':0.1}])\n",
    "grid_pfr.post();\n",
    "\n",
    "\n",
    "\n"
   ]
  },
  {
   "cell_type": "markdown",
   "id": "affc3a0c",
   "metadata": {},
   "source": [
    "### Frequency and powers"
   ]
  },
  {
   "cell_type": "code",
   "execution_count": 305,
   "id": "2ab747a6",
   "metadata": {},
   "outputs": [
    {
     "data": {
      "application/vnd.jupyter.widget-view+json": {
       "model_id": "f6dc3bb0bf8c4c8fb535f77d1b47137d",
       "version_major": 2,
       "version_minor": 0
      },
      "text/plain": [
       "Canvas(toolbar=Toolbar(toolitems=[('Home', 'Reset original view', 'home', 'home'), ('Back', 'Back to previous …"
      ]
     },
     "metadata": {},
     "output_type": "display_data"
    }
   ],
   "source": [
    "plt.close('all')\n",
    "fig,axes = plt.subplots(nrows=4, figsize=(6.4, 4.8*1.75))\n",
    "t_ini = 0\n",
    "t_end = 45\n",
    "\n",
    "# Frequency\n",
    "axes[0].plot(grid.T,grid.get_values('omega_coi'),label='w/o PFR',color=colors[2])\n",
    "axes[0].plot(grid_pfr.T,grid_pfr.get_values('omega_coi'),label='with PFR',color=colors[1])\n",
    "\n",
    "axes[0].plot(grid.T[idx_pert],grid.get_values('omega_coi')[idx_pert],'o',color=colors[5] )\n",
    "axes[0].plot(grid.T[idx_nadir],grid.get_values('omega_coi')[idx_nadir],'o',color=colors[3])\n",
    "axes[0].plot(grid.T[idx_nadir_ref],grid.get_values('omega_coi')[idx_nadir_ref],'o',color=colors[2] )\n",
    "axes[0].plot(grid.T[idx_nadir_ref_end],grid.get_values('omega_coi')[idx_nadir_ref_end],'o',color='#888')\n",
    "\n",
    "# Powers\n",
    "P_load = grid.get_values('p_g_01')*S_b_01_mva + grid.get_values('p_s_03')*S_b_03_mva \n",
    "axes[1].plot(grid.T,P_load,label='$p_l$',color=colors[0])\n",
    "\n",
    "axes[1].plot(grid.T,grid.get_values('p_m_01')*S_b_01_mva,label='$p_m$ w/o PFR',color=colors[2])\n",
    "axes[1].plot(grid_pfr.T,grid_pfr.get_values('p_m_01')*S_b_01_mva,label='$p_m$ with PFR',color=colors[1])\n",
    "\n",
    "axes[1].plot(grid.T[idx_pert],grid.get_values('p_m_01')[idx_pert]*S_b_01_mva,'o',color=colors[5] )\n",
    "axes[1].plot(grid.T[idx_nadir],grid.get_values('p_m_01')[idx_nadir]*S_b_01_mva,'o',color=colors[3])\n",
    "axes[1].plot(grid.T[idx_nadir_ref],grid.get_values('p_m_01')[idx_nadir_ref]*S_b_01_mva,'o',color=colors[2] )\n",
    "axes[1].plot(grid.T[idx_nadir_ref_end],grid.get_values('p_m_01')[idx_nadir_ref_end]*S_b_01_mva,'o',color='#888')\n",
    "axes[1].plot(grid_pfr.T[idx_nadir_ref_end],grid_pfr.get_values('p_m_01')[idx_nadir_ref_end]*S_b_01_mva,'o',color='#888')\n",
    "\n",
    "# CIG Power\n",
    "axes[2].plot(grid_pfr.T,grid_pfr.get_values('p_s_03')*S_b_03_mva,color=colors[1])\n",
    "axes[2].plot(grid.T[idx_pert],grid_pfr.get_values('p_s_03')[idx_pert]*S_b_03_mva,'o',color=colors[5] )\n",
    "axes[2].plot(grid.T[idx_nadir],grid_pfr.get_values('p_s_03')[idx_nadir]*S_b_03_mva,'o',color=colors[3])\n",
    "axes[2].plot(grid.T[idx_nadir_ref],grid_pfr.get_values('p_s_03')[idx_nadir_ref]*S_b_03_mva,'o',color=colors[2] )\n",
    "axes[2].plot(grid.T[idx_nadir_ref_end],grid_pfr.get_values('p_s_03')[idx_nadir_ref_end]*S_b_03_mva,'o',color='#888')\n",
    "axes[2].plot([t_ini,t_end],[p_pfr_pu*S_b_03_mva]*2,color='#666')\n",
    "axes[2].plot([t_ini,t_end],[P_f_max*S_b_03_mva]*2,color=colors[0])\n",
    "\n",
    "axes[2].annotate(\"$p_f^{\\star}$\",\n",
    "            xy=(23,p_pfr_pu*S_b_03_mva), xycoords='data',\n",
    "            xytext=(23,0.7), textcoords='data',ha=\"center\",color='#444',\n",
    "            arrowprops=dict(arrowstyle='-|>, head_width=0.1', facecolor='#666', edgecolor='#666')\n",
    "            )\n",
    "\n",
    "axes[2].annotate(\"$P_f^{\\max}$\",\n",
    "            xy=(33,P_f_max*S_b_03_mva), xycoords='data',\n",
    "            xytext=(33,0.7), textcoords='data',ha=\"center\",color=colors[0],\n",
    "            arrowprops=dict(arrowstyle='-|>, head_width=0.1', facecolor=colors[0], edgecolor=colors[0])\n",
    "            )\n",
    "\n",
    "# Energy \n",
    "axes[3].plot(grid_pfr.T[:,0],grid_pfr.get_values('soc_03'),color=colors[1])\n",
    "axes[3].plot([t_ini,t_end],[0.5]*2,color='#555')\n",
    "axes[3].plot([t_ini,t_end],[0.0]*2,color=colors[0])\n",
    "axes[3].plot(grid.T[idx_pert],grid_pfr.get_values('soc_03')[idx_pert],'o',color=colors[5] )\n",
    "axes[3].plot(grid.T[idx_nadir],grid_pfr.get_values('soc_03')[idx_nadir],'o',color=colors[3])\n",
    "axes[3].plot(grid.T[idx_nadir_ref],grid_pfr.get_values('soc_03')[idx_nadir_ref],'o',color=colors[2] )\n",
    "axes[3].plot(grid.T[idx_nadir_ref_end],grid_pfr.get_values('soc_03')[idx_nadir_ref_end],'o',color='#888')\n",
    "\n",
    "axes[3].annotate(\"Steady State Energy\",\n",
    "            xy=(35,0.5), xycoords='data',\n",
    "            xytext=(35,0.3), textcoords='data',ha=\"center\",color='#444',\n",
    "            arrowprops=dict(arrowstyle='-|>, head_width=0.1', facecolor='#444', edgecolor='#444')\n",
    "            )\n",
    "\n",
    "axes[3].annotate(\"Energy Slow Recovery\",\n",
    "            xy=(35,0.03), xycoords='data',\n",
    "            xytext=(30,0.15), textcoords='data',ha=\"center\",color='#444',\n",
    "            arrowprops=dict(arrowstyle='-|>, head_width=0.1', facecolor='#444', edgecolor='#444')\n",
    "            )\n",
    "\n",
    "for ax in axes:\n",
    "    ax.grid()\n",
    "    ax.set_xlim(t_ini,t_end)\n",
    "#axes[1].plot(grid.T,grid.get_values('p_s_03')*S_b_03_mva,label='p_s_03')\n",
    "\n",
    "axes[0].legend()\n",
    "axes[1].legend()\n",
    "\n",
    "axes[0].set_ylabel('Frequency (pu)')\n",
    "axes[1].set_ylabel('SYN Powers (MW)')\n",
    "axes[2].set_ylabel('CIG Powers (MW)')\n",
    "axes[3].set_ylabel('CIG Energy (p.u.)')\n",
    "axes[3].set_xlabel('Time (s)')\n",
    "\n",
    "fig.align_ylabels()\n",
    "fig.tight_layout()\n",
    "\n",
    "fig.savefig('../'*5 + 'docs/fpfr/figs/freq_powers_energy.pdf')"
   ]
  },
  {
   "cell_type": "markdown",
   "id": "0b8c5736",
   "metadata": {},
   "source": [
    "### PFR curve and obtained values"
   ]
  },
  {
   "cell_type": "code",
   "execution_count": 306,
   "id": "793a8456",
   "metadata": {},
   "outputs": [
    {
     "data": {
      "application/vnd.jupyter.widget-view+json": {
       "model_id": "7edecd1d4db047028af10745a738ba9d",
       "version_major": 2,
       "version_minor": 0
      },
      "text/plain": [
       "Canvas(toolbar=Toolbar(toolitems=[('Home', 'Reset original view', 'home', 'home'), ('Back', 'Back to previous …"
      ]
     },
     "metadata": {},
     "output_type": "display_data"
    }
   ],
   "source": [
    "fig,axes = plt.subplots(nrows=1)\n",
    "\n",
    "omega_ini = 0.97\n",
    "omega_end = 1.05\n",
    "\n",
    "axes.plot([omega_ini,omega_end],[p_pfr_pu]*2,color='#666')\n",
    "axes.plot([omega_ref,omega_ref],[-10,10],color='#666')\n",
    "\n",
    "axes.plot(omegas,p_fs)\n",
    "\n",
    "axes.plot(grid_pfr.get_values('omega_coi'),grid_pfr.get_values('p_s_03'))\n",
    "axes.plot(grid_pfr.get_values('omega_coi')[idx_nadir_ref],grid_pfr.get_values('p_s_03')[idx_nadir_ref],'o',color=colors[2])\n",
    "axes.plot(grid_pfr.get_values('omega_coi')[idx_pert],grid_pfr.get_values('p_s_03')[idx_pert],'o',color=colors[5] )\n",
    "axes.plot(grid_pfr.get_values('omega_coi')[idx_nadir],grid_pfr.get_values('p_s_03')[idx_nadir],'o',color=colors[3])\n",
    "axes.plot(grid_pfr.get_values('omega_coi')[idx_nadir_ref_end],grid_pfr.get_values('p_s_03')[idx_nadir_ref_end],'o',color='#888')\n",
    "\n",
    "#axes.plot(omega_lh,P_f_max,'o')\n",
    "\n",
    "#axes.plot(omega_ll,0,'o')\n",
    "\n",
    "\n",
    "#axes.plot([omega_ini,omega_end],[P_f_max]*2,color=colors[0])\n",
    "\n",
    "axes.annotate(\"$p_f^{\\star}$\",\n",
    "            xy=(0.986,p_pfr_pu), xycoords='data',\n",
    "            xytext=(0.989,p_pfr_pu*1.2), textcoords='data',ha=\"center\",color='#444',\n",
    "            arrowprops=dict(arrowstyle='-|>, head_width=0.1', facecolor='#666', edgecolor='#666')\n",
    "            )\n",
    "\n",
    "axes.annotate(\"$\\omega^{\\star}$\",\n",
    "            xy=(omega_ref,-0.044), xycoords='data',\n",
    "            xytext=(omega_ref-0.005,-0.044), textcoords='data',ha=\"center\",color='#444',\n",
    "            arrowprops=dict(arrowstyle='-|>, head_width=0.1', facecolor='#666', edgecolor='#666')\n",
    "            )\n",
    "\n",
    "axes.annotate(\"$P_f^{\\max}$\",\n",
    "            xy=(0.975,P_f_max), xycoords='data',\n",
    "            xytext=(0.972,0.44), textcoords='data',ha=\"center\",color=colors[0],\n",
    "            arrowprops=dict(arrowstyle='-|>, head_width=0.1', facecolor=colors[0], edgecolor=colors[0])\n",
    "            )\n",
    "\n",
    "axes.annotate(\"Load Switching Transient\",\n",
    "            xy=(1,0.1), xycoords='data',\n",
    "            xytext=(0.992,0.147), textcoords='data',ha=\"center\",color='#666',\n",
    "            arrowprops=dict(arrowstyle='-|>, head_width=0.1', facecolor='#666', edgecolor='#666')\n",
    "            )\n",
    "\n",
    "\n",
    "#axes.annotate(\"DB\",\n",
    "#            xy=(1, 0), xycoords='data',\n",
    "#            xytext=(1-DB/2,-0.01), textcoords='data',ha=\"center\",va=\"center\",\n",
    "#            arrowprops=dict(arrowstyle='<|-|>, head_width=0.1', facecolor='black',connectionstyle=\"bar\")\n",
    "#            )\n",
    "\n",
    "axes.set_xlim(0.97,1.005)\n",
    "axes.set_ylim(-0.1,P_f_max*1.2)\n",
    "axes.grid()\n",
    "\n",
    "axes.set_xlabel('Frequency (pu)')\n",
    "axes.set_ylabel('Powers (pu)')\n",
    "\n",
    "fig.align_ylabels()\n",
    "fig.tight_layout()\n",
    "\n",
    "fig.savefig('../'*5 + 'docs/fpfr/figs/obtained_droop.pdf')"
   ]
  },
  {
   "cell_type": "markdown",
   "id": "998f85de",
   "metadata": {},
   "source": [
    "### Energy validation"
   ]
  },
  {
   "cell_type": "code",
   "execution_count": 307,
   "id": "cbf3e45b",
   "metadata": {},
   "outputs": [
    {
     "name": "stdout",
     "output_type": "stream",
     "text": [
      "e_pfr_estimated = 2.468 MJ\n",
      "e_pfr_real = 2.295 MJ\n"
     ]
    }
   ],
   "source": [
    "P_cig_mw =grid_pfr.get_values('p_s_03')*S_b_03_mva \n",
    "e_pfr_real =np.trapz(P_cig_mw,grid_pfr.T[:,0])\n",
    "\n",
    "print(f'e_pfr_estimated = {e_pfr_estimated:0.3f} MJ')\n",
    "print(f'e_pfr_real = {e_pfr_real:0.3f} MJ')"
   ]
  },
  {
   "cell_type": "code",
   "execution_count": null,
   "id": "7bbec08f",
   "metadata": {},
   "outputs": [],
   "source": []
  },
  {
   "cell_type": "code",
   "execution_count": null,
   "id": "dccb1aa4",
   "metadata": {},
   "outputs": [],
   "source": []
  },
  {
   "cell_type": "code",
   "execution_count": 286,
   "id": "e71cb1cf",
   "metadata": {},
   "outputs": [
    {
     "data": {
      "application/vnd.jupyter.widget-view+json": {
       "model_id": "6833e17d036a4a278814d87cfe0794a4",
       "version_major": 2,
       "version_minor": 0
      },
      "text/plain": [
       "Canvas(toolbar=Toolbar(toolitems=[('Home', 'Reset original view', 'home', 'home'), ('Back', 'Back to previous …"
      ]
     },
     "metadata": {},
     "output_type": "display_data"
    }
   ],
   "source": [
    "from matplotlib.colors import ListedColormap\n",
    "\n",
    "plt.close('all')\n",
    "fig,axes = plt.subplots(nrows=3, figsize=(6.4, 4.8*1.5))\n",
    "\n",
    "#ax1 = fig.add_axes([0.10,0.10,0.70,0.85])\n",
    "\n",
    "N = 20\n",
    "p_pert_min = -0.25\n",
    "p_pert_max =  0.25\n",
    "\n",
    "color_list = []\n",
    "for Dp_pert in np.linspace(p_pert_min,p_pert_max,N):\n",
    "    \n",
    "    color = (0,0,0)\n",
    "    if Dp_pert<0.0:\n",
    "        color = tuple(np.array([217, 83,  79,255])/255*Dp_pert/(p_pert_min))\n",
    "    if Dp_pert>=0.0:\n",
    "        color = tuple(np.array([51, 122, 183,255])/255*Dp_pert/(p_pert_max)) \n",
    "    color_list += [color]\n",
    "    \n",
    "cmap = ListedColormap(color_list)\n",
    "\n",
    "\n",
    "Dp_pert_designed = -0.2\n",
    "t_ini = 0\n",
    "t_end = 45\n",
    "\n",
    "\n",
    "axes[0].plot([t_ini,t_end],2*[omega_ref],color='black',lw=lw)\n",
    "axes[0].plot([t_ini,t_end],2*[omega_h_ref],color='black',lw=lw)\n",
    " \n",
    "axes[1].plot([t_ini,t_end],[p_pfr_pu*S_b_03_mva]*2,color='#666')\n",
    "axes[1].plot([t_ini,t_end],[P_f_max*S_b_03_mva]*2,color='#444')\n",
    "\n",
    "axes[1].plot([t_ini,t_end],[-p_pfr_pu*S_b_03_mva]*2,color='#666')\n",
    "axes[1].plot([t_ini,t_end],[-P_f_max*S_b_03_mva]*2,color='#444')\n",
    "\n",
    "color_list = []\n",
    "i = 0\n",
    "for Dp_pert in np.linspace(p_pert_min,p_pert_max,N):\n",
    "    \n",
    "    color = (0,0,0,0)\n",
    "    if Dp_pert>0.0:\n",
    "        color = tuple(np.array([217, 83,  79,255])/255*Dp_pert/(p_pert_max))\n",
    "    if Dp_pert<=0.0:\n",
    "        color = tuple(np.array([51, 122, 183,255])/255*Dp_pert/(p_pert_min)) \n",
    "    color_list += [color]\n",
    "    \n",
    "    lw = 1.0\n",
    "    if abs(Dp_pert-Dp_pert_designed)<0.01:\n",
    "        lw = 2\n",
    "        color = colors[1]\n",
    "    \n",
    "    params_pfr = params.copy()\n",
    "    params_pfr.update({'DB_03':DB,'Droop_03':Droop,'P_f_max_03':P_f_max,'P_f_min_03':-P_f_max})\n",
    "    grid_pfr = onehalf_class()\n",
    "    gt.change_line(grid_pfr,'01','02',X_pu=0.04,R_pu=0.001,S_mva=20)\n",
    "    gt.change_line(grid_pfr,'02','03',X_pu=0.04,R_pu=0.001,S_mva=20)\n",
    "    time_0 = time.time()\n",
    "    grid_pfr.initialize([params_pfr],'xy_0.json',compile=True)\n",
    "    grid_pfr.run([{'t_end':1.0,'Dt':0.01,'decimation':1}])\n",
    "    grid_pfr.run([{'t_end':10.0,'P_01':P_load_0_mva*(0-Dp_pert)*1e6}])\n",
    "    grid_pfr.run([{'t_end':60.1,'Dt':0.1}])\n",
    "    grid_pfr.post();\n",
    "    \n",
    "    # Frequency\n",
    "    axes[0].plot(grid_pfr.T,grid_pfr.get_values('omega_coi'),label='with PFR',color=color,lw=lw)\n",
    "\n",
    "    # CIG Power\n",
    "    axes[1].plot(grid_pfr.T,grid_pfr.get_values('p_s_03')*S_b_03_mva,color=color,lw=lw)\n",
    "\n",
    "    # Energy \n",
    "    axes[2].plot(grid_pfr.T[:,0],grid_pfr.get_values('soc_03'),color=color,lw=lw)\n",
    "\n",
    "    for ax in axes:\n",
    "        ax.grid()\n",
    "        ax.set_xlim(t_ini,t_end)\n",
    "#axes[1].plot(grid.T,grid.get_values('p_s_03')*S_b_03_mva,label='p_s_03')\n",
    "\n",
    "#axes[0].legend()\n",
    "#axes[1].legend()\n",
    "\n",
    "axes[0].set_ylabel('Frequency (pu)')\n",
    "axes[1].set_ylabel('CIG Powers (MW)')\n",
    "axes[2].set_ylabel('CIG Energy (p.u.)')\n",
    "axes[2].set_xlabel('Time (s)')\n",
    "\n",
    "fig.align_ylabels()\n",
    "fig.tight_layout()\n",
    "\n",
    "cmap = ListedColormap(color_list)\n",
    "#cmap = mpl.cm.cool\n",
    "norm = mpl.colors.Normalize(vmin=p_pert_min, vmax=p_pert_max)\n",
    "\n",
    "#fig.colorbar(mpl.cm.ScalarMappable(norm=norm, cmap=cmap),\n",
    "#             cax=axes[1], orientation='horizontal', label='Some Units')\n",
    "fig.colorbar(mpl.cm.ScalarMappable(norm=norm, cmap=cmap), ax=axes.ravel().tolist(), \n",
    "             label='Load Power Increment (pu)', shrink=0.7)\n",
    "\n",
    "fig.savefig('../'*5 + 'docs/fpfr/figs/sweep_load.pdf')"
   ]
  },
  {
   "cell_type": "code",
   "execution_count": 211,
   "id": "3d16ab3e",
   "metadata": {},
   "outputs": [
    {
     "data": {
      "text/plain": [
       "<matplotlib.colorbar.Colorbar at 0x1e059d466d0>"
      ]
     },
     "execution_count": 211,
     "metadata": {},
     "output_type": "execute_result"
    }
   ],
   "source": []
  },
  {
   "cell_type": "code",
   "execution_count": 209,
   "id": "7e30d39f",
   "metadata": {},
   "outputs": [
    {
     "ename": "ValueError",
     "evalue": "Invalid RGBA argument: 0.8509803921568627",
     "output_type": "error",
     "traceback": [
      "\u001b[1;31m---------------------------------------------------------------------------\u001b[0m",
      "\u001b[1;31mValueError\u001b[0m                                Traceback (most recent call last)",
      "\u001b[1;32m~\\anaconda3\\lib\\site-packages\\IPython\\core\\formatters.py\u001b[0m in \u001b[0;36m__call__\u001b[1;34m(self, obj)\u001b[0m\n\u001b[0;32m    343\u001b[0m             \u001b[0mmethod\u001b[0m \u001b[1;33m=\u001b[0m \u001b[0mget_real_method\u001b[0m\u001b[1;33m(\u001b[0m\u001b[0mobj\u001b[0m\u001b[1;33m,\u001b[0m \u001b[0mself\u001b[0m\u001b[1;33m.\u001b[0m\u001b[0mprint_method\u001b[0m\u001b[1;33m)\u001b[0m\u001b[1;33m\u001b[0m\u001b[1;33m\u001b[0m\u001b[0m\n\u001b[0;32m    344\u001b[0m             \u001b[1;32mif\u001b[0m \u001b[0mmethod\u001b[0m \u001b[1;32mis\u001b[0m \u001b[1;32mnot\u001b[0m \u001b[1;32mNone\u001b[0m\u001b[1;33m:\u001b[0m\u001b[1;33m\u001b[0m\u001b[1;33m\u001b[0m\u001b[0m\n\u001b[1;32m--> 345\u001b[1;33m                 \u001b[1;32mreturn\u001b[0m \u001b[0mmethod\u001b[0m\u001b[1;33m(\u001b[0m\u001b[1;33m)\u001b[0m\u001b[1;33m\u001b[0m\u001b[1;33m\u001b[0m\u001b[0m\n\u001b[0m\u001b[0;32m    346\u001b[0m             \u001b[1;32mreturn\u001b[0m \u001b[1;32mNone\u001b[0m\u001b[1;33m\u001b[0m\u001b[1;33m\u001b[0m\u001b[0m\n\u001b[0;32m    347\u001b[0m         \u001b[1;32melse\u001b[0m\u001b[1;33m:\u001b[0m\u001b[1;33m\u001b[0m\u001b[1;33m\u001b[0m\u001b[0m\n",
      "\u001b[1;32m~\\anaconda3\\lib\\site-packages\\matplotlib\\colors.py\u001b[0m in \u001b[0;36m_repr_html_\u001b[1;34m(self)\u001b[0m\n\u001b[0;32m    797\u001b[0m     \u001b[1;32mdef\u001b[0m \u001b[0m_repr_html_\u001b[0m\u001b[1;33m(\u001b[0m\u001b[0mself\u001b[0m\u001b[1;33m)\u001b[0m\u001b[1;33m:\u001b[0m\u001b[1;33m\u001b[0m\u001b[1;33m\u001b[0m\u001b[0m\n\u001b[0;32m    798\u001b[0m         \u001b[1;34m\"\"\"Generate an HTML representation of the Colormap.\"\"\"\u001b[0m\u001b[1;33m\u001b[0m\u001b[1;33m\u001b[0m\u001b[0m\n\u001b[1;32m--> 799\u001b[1;33m         \u001b[0mpng_bytes\u001b[0m \u001b[1;33m=\u001b[0m \u001b[0mself\u001b[0m\u001b[1;33m.\u001b[0m\u001b[0m_repr_png_\u001b[0m\u001b[1;33m(\u001b[0m\u001b[1;33m)\u001b[0m\u001b[1;33m\u001b[0m\u001b[1;33m\u001b[0m\u001b[0m\n\u001b[0m\u001b[0;32m    800\u001b[0m         \u001b[0mpng_base64\u001b[0m \u001b[1;33m=\u001b[0m \u001b[0mbase64\u001b[0m\u001b[1;33m.\u001b[0m\u001b[0mb64encode\u001b[0m\u001b[1;33m(\u001b[0m\u001b[0mpng_bytes\u001b[0m\u001b[1;33m)\u001b[0m\u001b[1;33m.\u001b[0m\u001b[0mdecode\u001b[0m\u001b[1;33m(\u001b[0m\u001b[1;34m'ascii'\u001b[0m\u001b[1;33m)\u001b[0m\u001b[1;33m\u001b[0m\u001b[1;33m\u001b[0m\u001b[0m\n\u001b[0;32m    801\u001b[0m         \u001b[1;32mdef\u001b[0m \u001b[0mcolor_block\u001b[0m\u001b[1;33m(\u001b[0m\u001b[0mcolor\u001b[0m\u001b[1;33m)\u001b[0m\u001b[1;33m:\u001b[0m\u001b[1;33m\u001b[0m\u001b[1;33m\u001b[0m\u001b[0m\n",
      "\u001b[1;32m~\\anaconda3\\lib\\site-packages\\matplotlib\\colors.py\u001b[0m in \u001b[0;36m_repr_png_\u001b[1;34m(self)\u001b[0m\n\u001b[0;32m    783\u001b[0m         X = np.tile(np.linspace(0, 1, _REPR_PNG_SIZE[0]),\n\u001b[0;32m    784\u001b[0m                     (_REPR_PNG_SIZE[1], 1))\n\u001b[1;32m--> 785\u001b[1;33m         \u001b[0mpixels\u001b[0m \u001b[1;33m=\u001b[0m \u001b[0mself\u001b[0m\u001b[1;33m(\u001b[0m\u001b[0mX\u001b[0m\u001b[1;33m,\u001b[0m \u001b[0mbytes\u001b[0m\u001b[1;33m=\u001b[0m\u001b[1;32mTrue\u001b[0m\u001b[1;33m)\u001b[0m\u001b[1;33m\u001b[0m\u001b[1;33m\u001b[0m\u001b[0m\n\u001b[0m\u001b[0;32m    786\u001b[0m         \u001b[0mpng_bytes\u001b[0m \u001b[1;33m=\u001b[0m \u001b[0mio\u001b[0m\u001b[1;33m.\u001b[0m\u001b[0mBytesIO\u001b[0m\u001b[1;33m(\u001b[0m\u001b[1;33m)\u001b[0m\u001b[1;33m\u001b[0m\u001b[1;33m\u001b[0m\u001b[0m\n\u001b[0;32m    787\u001b[0m         \u001b[0mtitle\u001b[0m \u001b[1;33m=\u001b[0m \u001b[0mself\u001b[0m\u001b[1;33m.\u001b[0m\u001b[0mname\u001b[0m \u001b[1;33m+\u001b[0m \u001b[1;34m' colormap'\u001b[0m\u001b[1;33m\u001b[0m\u001b[1;33m\u001b[0m\u001b[0m\n",
      "\u001b[1;32m~\\anaconda3\\lib\\site-packages\\matplotlib\\colors.py\u001b[0m in \u001b[0;36m__call__\u001b[1;34m(self, X, alpha, bytes)\u001b[0m\n\u001b[0;32m    610\u001b[0m         \"\"\"\n\u001b[0;32m    611\u001b[0m         \u001b[1;32mif\u001b[0m \u001b[1;32mnot\u001b[0m \u001b[0mself\u001b[0m\u001b[1;33m.\u001b[0m\u001b[0m_isinit\u001b[0m\u001b[1;33m:\u001b[0m\u001b[1;33m\u001b[0m\u001b[1;33m\u001b[0m\u001b[0m\n\u001b[1;32m--> 612\u001b[1;33m             \u001b[0mself\u001b[0m\u001b[1;33m.\u001b[0m\u001b[0m_init\u001b[0m\u001b[1;33m(\u001b[0m\u001b[1;33m)\u001b[0m\u001b[1;33m\u001b[0m\u001b[1;33m\u001b[0m\u001b[0m\n\u001b[0m\u001b[0;32m    613\u001b[0m \u001b[1;33m\u001b[0m\u001b[0m\n\u001b[0;32m    614\u001b[0m         \u001b[0mmask_bad\u001b[0m \u001b[1;33m=\u001b[0m \u001b[0mX\u001b[0m\u001b[1;33m.\u001b[0m\u001b[0mmask\u001b[0m \u001b[1;32mif\u001b[0m \u001b[0mnp\u001b[0m\u001b[1;33m.\u001b[0m\u001b[0mma\u001b[0m\u001b[1;33m.\u001b[0m\u001b[0mis_masked\u001b[0m\u001b[1;33m(\u001b[0m\u001b[0mX\u001b[0m\u001b[1;33m)\u001b[0m \u001b[1;32melse\u001b[0m \u001b[0mnp\u001b[0m\u001b[1;33m.\u001b[0m\u001b[0misnan\u001b[0m\u001b[1;33m(\u001b[0m\u001b[0mX\u001b[0m\u001b[1;33m)\u001b[0m  \u001b[1;31m# Mask nan's.\u001b[0m\u001b[1;33m\u001b[0m\u001b[1;33m\u001b[0m\u001b[0m\n",
      "\u001b[1;32m~\\anaconda3\\lib\\site-packages\\matplotlib\\colors.py\u001b[0m in \u001b[0;36m_init\u001b[1;34m(self)\u001b[0m\n\u001b[0;32m   1052\u001b[0m     \u001b[1;32mdef\u001b[0m \u001b[0m_init\u001b[0m\u001b[1;33m(\u001b[0m\u001b[0mself\u001b[0m\u001b[1;33m)\u001b[0m\u001b[1;33m:\u001b[0m\u001b[1;33m\u001b[0m\u001b[1;33m\u001b[0m\u001b[0m\n\u001b[0;32m   1053\u001b[0m         \u001b[0mself\u001b[0m\u001b[1;33m.\u001b[0m\u001b[0m_lut\u001b[0m \u001b[1;33m=\u001b[0m \u001b[0mnp\u001b[0m\u001b[1;33m.\u001b[0m\u001b[0mzeros\u001b[0m\u001b[1;33m(\u001b[0m\u001b[1;33m(\u001b[0m\u001b[0mself\u001b[0m\u001b[1;33m.\u001b[0m\u001b[0mN\u001b[0m \u001b[1;33m+\u001b[0m \u001b[1;36m3\u001b[0m\u001b[1;33m,\u001b[0m \u001b[1;36m4\u001b[0m\u001b[1;33m)\u001b[0m\u001b[1;33m,\u001b[0m \u001b[0mfloat\u001b[0m\u001b[1;33m)\u001b[0m\u001b[1;33m\u001b[0m\u001b[1;33m\u001b[0m\u001b[0m\n\u001b[1;32m-> 1054\u001b[1;33m         \u001b[0mself\u001b[0m\u001b[1;33m.\u001b[0m\u001b[0m_lut\u001b[0m\u001b[1;33m[\u001b[0m\u001b[1;33m:\u001b[0m\u001b[1;33m-\u001b[0m\u001b[1;36m3\u001b[0m\u001b[1;33m]\u001b[0m \u001b[1;33m=\u001b[0m \u001b[0mto_rgba_array\u001b[0m\u001b[1;33m(\u001b[0m\u001b[0mself\u001b[0m\u001b[1;33m.\u001b[0m\u001b[0mcolors\u001b[0m\u001b[1;33m)\u001b[0m\u001b[1;33m\u001b[0m\u001b[1;33m\u001b[0m\u001b[0m\n\u001b[0m\u001b[0;32m   1055\u001b[0m         \u001b[0mself\u001b[0m\u001b[1;33m.\u001b[0m\u001b[0m_isinit\u001b[0m \u001b[1;33m=\u001b[0m \u001b[1;32mTrue\u001b[0m\u001b[1;33m\u001b[0m\u001b[1;33m\u001b[0m\u001b[0m\n\u001b[0;32m   1056\u001b[0m         \u001b[0mself\u001b[0m\u001b[1;33m.\u001b[0m\u001b[0m_set_extremes\u001b[0m\u001b[1;33m(\u001b[0m\u001b[1;33m)\u001b[0m\u001b[1;33m\u001b[0m\u001b[1;33m\u001b[0m\u001b[0m\n",
      "\u001b[1;32m~\\anaconda3\\lib\\site-packages\\matplotlib\\colors.py\u001b[0m in \u001b[0;36mto_rgba_array\u001b[1;34m(c, alpha)\u001b[0m\n\u001b[0;32m    381\u001b[0m             \u001b[0mrgba\u001b[0m \u001b[1;33m=\u001b[0m \u001b[0mnp\u001b[0m\u001b[1;33m.\u001b[0m\u001b[0marray\u001b[0m\u001b[1;33m(\u001b[0m\u001b[0mc\u001b[0m\u001b[1;33m)\u001b[0m\u001b[1;33m\u001b[0m\u001b[1;33m\u001b[0m\u001b[0m\n\u001b[0;32m    382\u001b[0m         \u001b[1;32melse\u001b[0m\u001b[1;33m:\u001b[0m\u001b[1;33m\u001b[0m\u001b[1;33m\u001b[0m\u001b[0m\n\u001b[1;32m--> 383\u001b[1;33m             \u001b[0mrgba\u001b[0m \u001b[1;33m=\u001b[0m \u001b[0mnp\u001b[0m\u001b[1;33m.\u001b[0m\u001b[0marray\u001b[0m\u001b[1;33m(\u001b[0m\u001b[1;33m[\u001b[0m\u001b[0mto_rgba\u001b[0m\u001b[1;33m(\u001b[0m\u001b[0mcc\u001b[0m\u001b[1;33m)\u001b[0m \u001b[1;32mfor\u001b[0m \u001b[0mcc\u001b[0m \u001b[1;32min\u001b[0m \u001b[0mc\u001b[0m\u001b[1;33m]\u001b[0m\u001b[1;33m)\u001b[0m\u001b[1;33m\u001b[0m\u001b[1;33m\u001b[0m\u001b[0m\n\u001b[0m\u001b[0;32m    384\u001b[0m     \u001b[1;32melse\u001b[0m\u001b[1;33m:\u001b[0m\u001b[1;33m\u001b[0m\u001b[1;33m\u001b[0m\u001b[0m\n\u001b[0;32m    385\u001b[0m         \u001b[0mrgba\u001b[0m \u001b[1;33m=\u001b[0m \u001b[0mnp\u001b[0m\u001b[1;33m.\u001b[0m\u001b[0marray\u001b[0m\u001b[1;33m(\u001b[0m\u001b[1;33m[\u001b[0m\u001b[0mto_rgba\u001b[0m\u001b[1;33m(\u001b[0m\u001b[0mcc\u001b[0m\u001b[1;33m)\u001b[0m \u001b[1;32mfor\u001b[0m \u001b[0mcc\u001b[0m \u001b[1;32min\u001b[0m \u001b[0mc\u001b[0m\u001b[1;33m]\u001b[0m\u001b[1;33m)\u001b[0m\u001b[1;33m\u001b[0m\u001b[1;33m\u001b[0m\u001b[0m\n",
      "\u001b[1;32m~\\anaconda3\\lib\\site-packages\\matplotlib\\colors.py\u001b[0m in \u001b[0;36m<listcomp>\u001b[1;34m(.0)\u001b[0m\n\u001b[0;32m    381\u001b[0m             \u001b[0mrgba\u001b[0m \u001b[1;33m=\u001b[0m \u001b[0mnp\u001b[0m\u001b[1;33m.\u001b[0m\u001b[0marray\u001b[0m\u001b[1;33m(\u001b[0m\u001b[0mc\u001b[0m\u001b[1;33m)\u001b[0m\u001b[1;33m\u001b[0m\u001b[1;33m\u001b[0m\u001b[0m\n\u001b[0;32m    382\u001b[0m         \u001b[1;32melse\u001b[0m\u001b[1;33m:\u001b[0m\u001b[1;33m\u001b[0m\u001b[1;33m\u001b[0m\u001b[0m\n\u001b[1;32m--> 383\u001b[1;33m             \u001b[0mrgba\u001b[0m \u001b[1;33m=\u001b[0m \u001b[0mnp\u001b[0m\u001b[1;33m.\u001b[0m\u001b[0marray\u001b[0m\u001b[1;33m(\u001b[0m\u001b[1;33m[\u001b[0m\u001b[0mto_rgba\u001b[0m\u001b[1;33m(\u001b[0m\u001b[0mcc\u001b[0m\u001b[1;33m)\u001b[0m \u001b[1;32mfor\u001b[0m \u001b[0mcc\u001b[0m \u001b[1;32min\u001b[0m \u001b[0mc\u001b[0m\u001b[1;33m]\u001b[0m\u001b[1;33m)\u001b[0m\u001b[1;33m\u001b[0m\u001b[1;33m\u001b[0m\u001b[0m\n\u001b[0m\u001b[0;32m    384\u001b[0m     \u001b[1;32melse\u001b[0m\u001b[1;33m:\u001b[0m\u001b[1;33m\u001b[0m\u001b[1;33m\u001b[0m\u001b[0m\n\u001b[0;32m    385\u001b[0m         \u001b[0mrgba\u001b[0m \u001b[1;33m=\u001b[0m \u001b[0mnp\u001b[0m\u001b[1;33m.\u001b[0m\u001b[0marray\u001b[0m\u001b[1;33m(\u001b[0m\u001b[1;33m[\u001b[0m\u001b[0mto_rgba\u001b[0m\u001b[1;33m(\u001b[0m\u001b[0mcc\u001b[0m\u001b[1;33m)\u001b[0m \u001b[1;32mfor\u001b[0m \u001b[0mcc\u001b[0m \u001b[1;32min\u001b[0m \u001b[0mc\u001b[0m\u001b[1;33m]\u001b[0m\u001b[1;33m)\u001b[0m\u001b[1;33m\u001b[0m\u001b[1;33m\u001b[0m\u001b[0m\n",
      "\u001b[1;32m~\\anaconda3\\lib\\site-packages\\matplotlib\\colors.py\u001b[0m in \u001b[0;36mto_rgba\u001b[1;34m(c, alpha)\u001b[0m\n\u001b[0;32m    204\u001b[0m         \u001b[0mrgba\u001b[0m \u001b[1;33m=\u001b[0m \u001b[1;32mNone\u001b[0m\u001b[1;33m\u001b[0m\u001b[1;33m\u001b[0m\u001b[0m\n\u001b[0;32m    205\u001b[0m     \u001b[1;32mif\u001b[0m \u001b[0mrgba\u001b[0m \u001b[1;32mis\u001b[0m \u001b[1;32mNone\u001b[0m\u001b[1;33m:\u001b[0m  \u001b[1;31m# Suppress exception chaining of cache lookup failure.\u001b[0m\u001b[1;33m\u001b[0m\u001b[1;33m\u001b[0m\u001b[0m\n\u001b[1;32m--> 206\u001b[1;33m         \u001b[0mrgba\u001b[0m \u001b[1;33m=\u001b[0m \u001b[0m_to_rgba_no_colorcycle\u001b[0m\u001b[1;33m(\u001b[0m\u001b[0mc\u001b[0m\u001b[1;33m,\u001b[0m \u001b[0malpha\u001b[0m\u001b[1;33m)\u001b[0m\u001b[1;33m\u001b[0m\u001b[1;33m\u001b[0m\u001b[0m\n\u001b[0m\u001b[0;32m    207\u001b[0m         \u001b[1;32mtry\u001b[0m\u001b[1;33m:\u001b[0m\u001b[1;33m\u001b[0m\u001b[1;33m\u001b[0m\u001b[0m\n\u001b[0;32m    208\u001b[0m             \u001b[0m_colors_full_map\u001b[0m\u001b[1;33m.\u001b[0m\u001b[0mcache\u001b[0m\u001b[1;33m[\u001b[0m\u001b[0mc\u001b[0m\u001b[1;33m,\u001b[0m \u001b[0malpha\u001b[0m\u001b[1;33m]\u001b[0m \u001b[1;33m=\u001b[0m \u001b[0mrgba\u001b[0m\u001b[1;33m\u001b[0m\u001b[1;33m\u001b[0m\u001b[0m\n",
      "\u001b[1;32m~\\anaconda3\\lib\\site-packages\\matplotlib\\colors.py\u001b[0m in \u001b[0;36m_to_rgba_no_colorcycle\u001b[1;34m(c, alpha)\u001b[0m\n\u001b[0;32m    282\u001b[0m     \u001b[1;31m# tuple color.\u001b[0m\u001b[1;33m\u001b[0m\u001b[1;33m\u001b[0m\u001b[1;33m\u001b[0m\u001b[0m\n\u001b[0;32m    283\u001b[0m     \u001b[1;32mif\u001b[0m \u001b[1;32mnot\u001b[0m \u001b[0mnp\u001b[0m\u001b[1;33m.\u001b[0m\u001b[0miterable\u001b[0m\u001b[1;33m(\u001b[0m\u001b[0mc\u001b[0m\u001b[1;33m)\u001b[0m\u001b[1;33m:\u001b[0m\u001b[1;33m\u001b[0m\u001b[1;33m\u001b[0m\u001b[0m\n\u001b[1;32m--> 284\u001b[1;33m         \u001b[1;32mraise\u001b[0m \u001b[0mValueError\u001b[0m\u001b[1;33m(\u001b[0m\u001b[1;34mf\"Invalid RGBA argument: {orig_c!r}\"\u001b[0m\u001b[1;33m)\u001b[0m\u001b[1;33m\u001b[0m\u001b[1;33m\u001b[0m\u001b[0m\n\u001b[0m\u001b[0;32m    285\u001b[0m     \u001b[1;32mif\u001b[0m \u001b[0mlen\u001b[0m\u001b[1;33m(\u001b[0m\u001b[0mc\u001b[0m\u001b[1;33m)\u001b[0m \u001b[1;32mnot\u001b[0m \u001b[1;32min\u001b[0m \u001b[1;33m[\u001b[0m\u001b[1;36m3\u001b[0m\u001b[1;33m,\u001b[0m \u001b[1;36m4\u001b[0m\u001b[1;33m]\u001b[0m\u001b[1;33m:\u001b[0m\u001b[1;33m\u001b[0m\u001b[1;33m\u001b[0m\u001b[0m\n\u001b[0;32m    286\u001b[0m         \u001b[1;32mraise\u001b[0m \u001b[0mValueError\u001b[0m\u001b[1;33m(\u001b[0m\u001b[1;34m\"RGBA sequence should have length 3 or 4\"\u001b[0m\u001b[1;33m)\u001b[0m\u001b[1;33m\u001b[0m\u001b[1;33m\u001b[0m\u001b[0m\n",
      "\u001b[1;31mValueError\u001b[0m: Invalid RGBA argument: 0.8509803921568627"
     ]
    },
    {
     "ename": "ValueError",
     "evalue": "Invalid RGBA argument: 0.8509803921568627",
     "output_type": "error",
     "traceback": [
      "\u001b[1;31m---------------------------------------------------------------------------\u001b[0m",
      "\u001b[1;31mValueError\u001b[0m                                Traceback (most recent call last)",
      "\u001b[1;32m~\\anaconda3\\lib\\site-packages\\IPython\\core\\formatters.py\u001b[0m in \u001b[0;36m__call__\u001b[1;34m(self, obj)\u001b[0m\n\u001b[0;32m    343\u001b[0m             \u001b[0mmethod\u001b[0m \u001b[1;33m=\u001b[0m \u001b[0mget_real_method\u001b[0m\u001b[1;33m(\u001b[0m\u001b[0mobj\u001b[0m\u001b[1;33m,\u001b[0m \u001b[0mself\u001b[0m\u001b[1;33m.\u001b[0m\u001b[0mprint_method\u001b[0m\u001b[1;33m)\u001b[0m\u001b[1;33m\u001b[0m\u001b[1;33m\u001b[0m\u001b[0m\n\u001b[0;32m    344\u001b[0m             \u001b[1;32mif\u001b[0m \u001b[0mmethod\u001b[0m \u001b[1;32mis\u001b[0m \u001b[1;32mnot\u001b[0m \u001b[1;32mNone\u001b[0m\u001b[1;33m:\u001b[0m\u001b[1;33m\u001b[0m\u001b[1;33m\u001b[0m\u001b[0m\n\u001b[1;32m--> 345\u001b[1;33m                 \u001b[1;32mreturn\u001b[0m \u001b[0mmethod\u001b[0m\u001b[1;33m(\u001b[0m\u001b[1;33m)\u001b[0m\u001b[1;33m\u001b[0m\u001b[1;33m\u001b[0m\u001b[0m\n\u001b[0m\u001b[0;32m    346\u001b[0m             \u001b[1;32mreturn\u001b[0m \u001b[1;32mNone\u001b[0m\u001b[1;33m\u001b[0m\u001b[1;33m\u001b[0m\u001b[0m\n\u001b[0;32m    347\u001b[0m         \u001b[1;32melse\u001b[0m\u001b[1;33m:\u001b[0m\u001b[1;33m\u001b[0m\u001b[1;33m\u001b[0m\u001b[0m\n",
      "\u001b[1;32m~\\anaconda3\\lib\\site-packages\\matplotlib\\colors.py\u001b[0m in \u001b[0;36m_repr_png_\u001b[1;34m(self)\u001b[0m\n\u001b[0;32m    783\u001b[0m         X = np.tile(np.linspace(0, 1, _REPR_PNG_SIZE[0]),\n\u001b[0;32m    784\u001b[0m                     (_REPR_PNG_SIZE[1], 1))\n\u001b[1;32m--> 785\u001b[1;33m         \u001b[0mpixels\u001b[0m \u001b[1;33m=\u001b[0m \u001b[0mself\u001b[0m\u001b[1;33m(\u001b[0m\u001b[0mX\u001b[0m\u001b[1;33m,\u001b[0m \u001b[0mbytes\u001b[0m\u001b[1;33m=\u001b[0m\u001b[1;32mTrue\u001b[0m\u001b[1;33m)\u001b[0m\u001b[1;33m\u001b[0m\u001b[1;33m\u001b[0m\u001b[0m\n\u001b[0m\u001b[0;32m    786\u001b[0m         \u001b[0mpng_bytes\u001b[0m \u001b[1;33m=\u001b[0m \u001b[0mio\u001b[0m\u001b[1;33m.\u001b[0m\u001b[0mBytesIO\u001b[0m\u001b[1;33m(\u001b[0m\u001b[1;33m)\u001b[0m\u001b[1;33m\u001b[0m\u001b[1;33m\u001b[0m\u001b[0m\n\u001b[0;32m    787\u001b[0m         \u001b[0mtitle\u001b[0m \u001b[1;33m=\u001b[0m \u001b[0mself\u001b[0m\u001b[1;33m.\u001b[0m\u001b[0mname\u001b[0m \u001b[1;33m+\u001b[0m \u001b[1;34m' colormap'\u001b[0m\u001b[1;33m\u001b[0m\u001b[1;33m\u001b[0m\u001b[0m\n",
      "\u001b[1;32m~\\anaconda3\\lib\\site-packages\\matplotlib\\colors.py\u001b[0m in \u001b[0;36m__call__\u001b[1;34m(self, X, alpha, bytes)\u001b[0m\n\u001b[0;32m    610\u001b[0m         \"\"\"\n\u001b[0;32m    611\u001b[0m         \u001b[1;32mif\u001b[0m \u001b[1;32mnot\u001b[0m \u001b[0mself\u001b[0m\u001b[1;33m.\u001b[0m\u001b[0m_isinit\u001b[0m\u001b[1;33m:\u001b[0m\u001b[1;33m\u001b[0m\u001b[1;33m\u001b[0m\u001b[0m\n\u001b[1;32m--> 612\u001b[1;33m             \u001b[0mself\u001b[0m\u001b[1;33m.\u001b[0m\u001b[0m_init\u001b[0m\u001b[1;33m(\u001b[0m\u001b[1;33m)\u001b[0m\u001b[1;33m\u001b[0m\u001b[1;33m\u001b[0m\u001b[0m\n\u001b[0m\u001b[0;32m    613\u001b[0m \u001b[1;33m\u001b[0m\u001b[0m\n\u001b[0;32m    614\u001b[0m         \u001b[0mmask_bad\u001b[0m \u001b[1;33m=\u001b[0m \u001b[0mX\u001b[0m\u001b[1;33m.\u001b[0m\u001b[0mmask\u001b[0m \u001b[1;32mif\u001b[0m \u001b[0mnp\u001b[0m\u001b[1;33m.\u001b[0m\u001b[0mma\u001b[0m\u001b[1;33m.\u001b[0m\u001b[0mis_masked\u001b[0m\u001b[1;33m(\u001b[0m\u001b[0mX\u001b[0m\u001b[1;33m)\u001b[0m \u001b[1;32melse\u001b[0m \u001b[0mnp\u001b[0m\u001b[1;33m.\u001b[0m\u001b[0misnan\u001b[0m\u001b[1;33m(\u001b[0m\u001b[0mX\u001b[0m\u001b[1;33m)\u001b[0m  \u001b[1;31m# Mask nan's.\u001b[0m\u001b[1;33m\u001b[0m\u001b[1;33m\u001b[0m\u001b[0m\n",
      "\u001b[1;32m~\\anaconda3\\lib\\site-packages\\matplotlib\\colors.py\u001b[0m in \u001b[0;36m_init\u001b[1;34m(self)\u001b[0m\n\u001b[0;32m   1052\u001b[0m     \u001b[1;32mdef\u001b[0m \u001b[0m_init\u001b[0m\u001b[1;33m(\u001b[0m\u001b[0mself\u001b[0m\u001b[1;33m)\u001b[0m\u001b[1;33m:\u001b[0m\u001b[1;33m\u001b[0m\u001b[1;33m\u001b[0m\u001b[0m\n\u001b[0;32m   1053\u001b[0m         \u001b[0mself\u001b[0m\u001b[1;33m.\u001b[0m\u001b[0m_lut\u001b[0m \u001b[1;33m=\u001b[0m \u001b[0mnp\u001b[0m\u001b[1;33m.\u001b[0m\u001b[0mzeros\u001b[0m\u001b[1;33m(\u001b[0m\u001b[1;33m(\u001b[0m\u001b[0mself\u001b[0m\u001b[1;33m.\u001b[0m\u001b[0mN\u001b[0m \u001b[1;33m+\u001b[0m \u001b[1;36m3\u001b[0m\u001b[1;33m,\u001b[0m \u001b[1;36m4\u001b[0m\u001b[1;33m)\u001b[0m\u001b[1;33m,\u001b[0m \u001b[0mfloat\u001b[0m\u001b[1;33m)\u001b[0m\u001b[1;33m\u001b[0m\u001b[1;33m\u001b[0m\u001b[0m\n\u001b[1;32m-> 1054\u001b[1;33m         \u001b[0mself\u001b[0m\u001b[1;33m.\u001b[0m\u001b[0m_lut\u001b[0m\u001b[1;33m[\u001b[0m\u001b[1;33m:\u001b[0m\u001b[1;33m-\u001b[0m\u001b[1;36m3\u001b[0m\u001b[1;33m]\u001b[0m \u001b[1;33m=\u001b[0m \u001b[0mto_rgba_array\u001b[0m\u001b[1;33m(\u001b[0m\u001b[0mself\u001b[0m\u001b[1;33m.\u001b[0m\u001b[0mcolors\u001b[0m\u001b[1;33m)\u001b[0m\u001b[1;33m\u001b[0m\u001b[1;33m\u001b[0m\u001b[0m\n\u001b[0m\u001b[0;32m   1055\u001b[0m         \u001b[0mself\u001b[0m\u001b[1;33m.\u001b[0m\u001b[0m_isinit\u001b[0m \u001b[1;33m=\u001b[0m \u001b[1;32mTrue\u001b[0m\u001b[1;33m\u001b[0m\u001b[1;33m\u001b[0m\u001b[0m\n\u001b[0;32m   1056\u001b[0m         \u001b[0mself\u001b[0m\u001b[1;33m.\u001b[0m\u001b[0m_set_extremes\u001b[0m\u001b[1;33m(\u001b[0m\u001b[1;33m)\u001b[0m\u001b[1;33m\u001b[0m\u001b[1;33m\u001b[0m\u001b[0m\n",
      "\u001b[1;32m~\\anaconda3\\lib\\site-packages\\matplotlib\\colors.py\u001b[0m in \u001b[0;36mto_rgba_array\u001b[1;34m(c, alpha)\u001b[0m\n\u001b[0;32m    381\u001b[0m             \u001b[0mrgba\u001b[0m \u001b[1;33m=\u001b[0m \u001b[0mnp\u001b[0m\u001b[1;33m.\u001b[0m\u001b[0marray\u001b[0m\u001b[1;33m(\u001b[0m\u001b[0mc\u001b[0m\u001b[1;33m)\u001b[0m\u001b[1;33m\u001b[0m\u001b[1;33m\u001b[0m\u001b[0m\n\u001b[0;32m    382\u001b[0m         \u001b[1;32melse\u001b[0m\u001b[1;33m:\u001b[0m\u001b[1;33m\u001b[0m\u001b[1;33m\u001b[0m\u001b[0m\n\u001b[1;32m--> 383\u001b[1;33m             \u001b[0mrgba\u001b[0m \u001b[1;33m=\u001b[0m \u001b[0mnp\u001b[0m\u001b[1;33m.\u001b[0m\u001b[0marray\u001b[0m\u001b[1;33m(\u001b[0m\u001b[1;33m[\u001b[0m\u001b[0mto_rgba\u001b[0m\u001b[1;33m(\u001b[0m\u001b[0mcc\u001b[0m\u001b[1;33m)\u001b[0m \u001b[1;32mfor\u001b[0m \u001b[0mcc\u001b[0m \u001b[1;32min\u001b[0m \u001b[0mc\u001b[0m\u001b[1;33m]\u001b[0m\u001b[1;33m)\u001b[0m\u001b[1;33m\u001b[0m\u001b[1;33m\u001b[0m\u001b[0m\n\u001b[0m\u001b[0;32m    384\u001b[0m     \u001b[1;32melse\u001b[0m\u001b[1;33m:\u001b[0m\u001b[1;33m\u001b[0m\u001b[1;33m\u001b[0m\u001b[0m\n\u001b[0;32m    385\u001b[0m         \u001b[0mrgba\u001b[0m \u001b[1;33m=\u001b[0m \u001b[0mnp\u001b[0m\u001b[1;33m.\u001b[0m\u001b[0marray\u001b[0m\u001b[1;33m(\u001b[0m\u001b[1;33m[\u001b[0m\u001b[0mto_rgba\u001b[0m\u001b[1;33m(\u001b[0m\u001b[0mcc\u001b[0m\u001b[1;33m)\u001b[0m \u001b[1;32mfor\u001b[0m \u001b[0mcc\u001b[0m \u001b[1;32min\u001b[0m \u001b[0mc\u001b[0m\u001b[1;33m]\u001b[0m\u001b[1;33m)\u001b[0m\u001b[1;33m\u001b[0m\u001b[1;33m\u001b[0m\u001b[0m\n",
      "\u001b[1;32m~\\anaconda3\\lib\\site-packages\\matplotlib\\colors.py\u001b[0m in \u001b[0;36m<listcomp>\u001b[1;34m(.0)\u001b[0m\n\u001b[0;32m    381\u001b[0m             \u001b[0mrgba\u001b[0m \u001b[1;33m=\u001b[0m \u001b[0mnp\u001b[0m\u001b[1;33m.\u001b[0m\u001b[0marray\u001b[0m\u001b[1;33m(\u001b[0m\u001b[0mc\u001b[0m\u001b[1;33m)\u001b[0m\u001b[1;33m\u001b[0m\u001b[1;33m\u001b[0m\u001b[0m\n\u001b[0;32m    382\u001b[0m         \u001b[1;32melse\u001b[0m\u001b[1;33m:\u001b[0m\u001b[1;33m\u001b[0m\u001b[1;33m\u001b[0m\u001b[0m\n\u001b[1;32m--> 383\u001b[1;33m             \u001b[0mrgba\u001b[0m \u001b[1;33m=\u001b[0m \u001b[0mnp\u001b[0m\u001b[1;33m.\u001b[0m\u001b[0marray\u001b[0m\u001b[1;33m(\u001b[0m\u001b[1;33m[\u001b[0m\u001b[0mto_rgba\u001b[0m\u001b[1;33m(\u001b[0m\u001b[0mcc\u001b[0m\u001b[1;33m)\u001b[0m \u001b[1;32mfor\u001b[0m \u001b[0mcc\u001b[0m \u001b[1;32min\u001b[0m \u001b[0mc\u001b[0m\u001b[1;33m]\u001b[0m\u001b[1;33m)\u001b[0m\u001b[1;33m\u001b[0m\u001b[1;33m\u001b[0m\u001b[0m\n\u001b[0m\u001b[0;32m    384\u001b[0m     \u001b[1;32melse\u001b[0m\u001b[1;33m:\u001b[0m\u001b[1;33m\u001b[0m\u001b[1;33m\u001b[0m\u001b[0m\n\u001b[0;32m    385\u001b[0m         \u001b[0mrgba\u001b[0m \u001b[1;33m=\u001b[0m \u001b[0mnp\u001b[0m\u001b[1;33m.\u001b[0m\u001b[0marray\u001b[0m\u001b[1;33m(\u001b[0m\u001b[1;33m[\u001b[0m\u001b[0mto_rgba\u001b[0m\u001b[1;33m(\u001b[0m\u001b[0mcc\u001b[0m\u001b[1;33m)\u001b[0m \u001b[1;32mfor\u001b[0m \u001b[0mcc\u001b[0m \u001b[1;32min\u001b[0m \u001b[0mc\u001b[0m\u001b[1;33m]\u001b[0m\u001b[1;33m)\u001b[0m\u001b[1;33m\u001b[0m\u001b[1;33m\u001b[0m\u001b[0m\n",
      "\u001b[1;32m~\\anaconda3\\lib\\site-packages\\matplotlib\\colors.py\u001b[0m in \u001b[0;36mto_rgba\u001b[1;34m(c, alpha)\u001b[0m\n\u001b[0;32m    204\u001b[0m         \u001b[0mrgba\u001b[0m \u001b[1;33m=\u001b[0m \u001b[1;32mNone\u001b[0m\u001b[1;33m\u001b[0m\u001b[1;33m\u001b[0m\u001b[0m\n\u001b[0;32m    205\u001b[0m     \u001b[1;32mif\u001b[0m \u001b[0mrgba\u001b[0m \u001b[1;32mis\u001b[0m \u001b[1;32mNone\u001b[0m\u001b[1;33m:\u001b[0m  \u001b[1;31m# Suppress exception chaining of cache lookup failure.\u001b[0m\u001b[1;33m\u001b[0m\u001b[1;33m\u001b[0m\u001b[0m\n\u001b[1;32m--> 206\u001b[1;33m         \u001b[0mrgba\u001b[0m \u001b[1;33m=\u001b[0m \u001b[0m_to_rgba_no_colorcycle\u001b[0m\u001b[1;33m(\u001b[0m\u001b[0mc\u001b[0m\u001b[1;33m,\u001b[0m \u001b[0malpha\u001b[0m\u001b[1;33m)\u001b[0m\u001b[1;33m\u001b[0m\u001b[1;33m\u001b[0m\u001b[0m\n\u001b[0m\u001b[0;32m    207\u001b[0m         \u001b[1;32mtry\u001b[0m\u001b[1;33m:\u001b[0m\u001b[1;33m\u001b[0m\u001b[1;33m\u001b[0m\u001b[0m\n\u001b[0;32m    208\u001b[0m             \u001b[0m_colors_full_map\u001b[0m\u001b[1;33m.\u001b[0m\u001b[0mcache\u001b[0m\u001b[1;33m[\u001b[0m\u001b[0mc\u001b[0m\u001b[1;33m,\u001b[0m \u001b[0malpha\u001b[0m\u001b[1;33m]\u001b[0m \u001b[1;33m=\u001b[0m \u001b[0mrgba\u001b[0m\u001b[1;33m\u001b[0m\u001b[1;33m\u001b[0m\u001b[0m\n",
      "\u001b[1;32m~\\anaconda3\\lib\\site-packages\\matplotlib\\colors.py\u001b[0m in \u001b[0;36m_to_rgba_no_colorcycle\u001b[1;34m(c, alpha)\u001b[0m\n\u001b[0;32m    282\u001b[0m     \u001b[1;31m# tuple color.\u001b[0m\u001b[1;33m\u001b[0m\u001b[1;33m\u001b[0m\u001b[1;33m\u001b[0m\u001b[0m\n\u001b[0;32m    283\u001b[0m     \u001b[1;32mif\u001b[0m \u001b[1;32mnot\u001b[0m \u001b[0mnp\u001b[0m\u001b[1;33m.\u001b[0m\u001b[0miterable\u001b[0m\u001b[1;33m(\u001b[0m\u001b[0mc\u001b[0m\u001b[1;33m)\u001b[0m\u001b[1;33m:\u001b[0m\u001b[1;33m\u001b[0m\u001b[1;33m\u001b[0m\u001b[0m\n\u001b[1;32m--> 284\u001b[1;33m         \u001b[1;32mraise\u001b[0m \u001b[0mValueError\u001b[0m\u001b[1;33m(\u001b[0m\u001b[1;34mf\"Invalid RGBA argument: {orig_c!r}\"\u001b[0m\u001b[1;33m)\u001b[0m\u001b[1;33m\u001b[0m\u001b[1;33m\u001b[0m\u001b[0m\n\u001b[0m\u001b[0;32m    285\u001b[0m     \u001b[1;32mif\u001b[0m \u001b[0mlen\u001b[0m\u001b[1;33m(\u001b[0m\u001b[0mc\u001b[0m\u001b[1;33m)\u001b[0m \u001b[1;32mnot\u001b[0m \u001b[1;32min\u001b[0m \u001b[1;33m[\u001b[0m\u001b[1;36m3\u001b[0m\u001b[1;33m,\u001b[0m \u001b[1;36m4\u001b[0m\u001b[1;33m]\u001b[0m\u001b[1;33m:\u001b[0m\u001b[1;33m\u001b[0m\u001b[1;33m\u001b[0m\u001b[0m\n\u001b[0;32m    286\u001b[0m         \u001b[1;32mraise\u001b[0m \u001b[0mValueError\u001b[0m\u001b[1;33m(\u001b[0m\u001b[1;34m\"RGBA sequence should have length 3 or 4\"\u001b[0m\u001b[1;33m)\u001b[0m\u001b[1;33m\u001b[0m\u001b[1;33m\u001b[0m\u001b[0m\n",
      "\u001b[1;31mValueError\u001b[0m: Invalid RGBA argument: 0.8509803921568627"
     ]
    },
    {
     "data": {
      "text/plain": [
       "<matplotlib.colors.ListedColormap at 0x1e0522cb490>"
      ]
     },
     "execution_count": 209,
     "metadata": {},
     "output_type": "execute_result"
    }
   ],
   "source": [
    "cmap"
   ]
  },
  {
   "cell_type": "code",
   "execution_count": 203,
   "id": "cf5d965b",
   "metadata": {},
   "outputs": [
    {
     "data": {
      "application/vnd.jupyter.widget-view+json": {
       "model_id": "99e1f18248a042c1bbafbf17ce75d88f",
       "version_major": 2,
       "version_minor": 0
      },
      "text/plain": [
       "Canvas(toolbar=Toolbar(toolitems=[('Home', 'Reset original view', 'home', 'home'), ('Back', 'Back to previous …"
      ]
     },
     "metadata": {},
     "output_type": "display_data"
    },
    {
     "data": {
      "text/plain": [
       "<matplotlib.colorbar.Colorbar at 0x1e051eaa6d0>"
      ]
     },
     "execution_count": 203,
     "metadata": {},
     "output_type": "execute_result"
    }
   ],
   "source": [
    "import matplotlib as mpl\n",
    "\n",
    "fig, ax = plt.subplots(figsize=(6, 1))\n",
    "fig.subplots_adjust(bottom=0.5)\n",
    "\n",
    "cmap = mpl.cm.cool\n",
    "norm = mpl.colors.Normalize(vmin=p_pert_min, vmax=p_pert_max)\n",
    "\n",
    "fig.colorbar(mpl.cm.ScalarMappable(norm=norm, cmap=cmap),\n",
    "             cax=axes[3], orientation='horizontal', label='Some Units')"
   ]
  },
  {
   "cell_type": "code",
   "execution_count": 183,
   "id": "08b5346a",
   "metadata": {},
   "outputs": [
    {
     "data": {
      "application/vnd.jupyter.widget-view+json": {
       "model_id": "994620a67dfa4d1a98dea732e93f7779",
       "version_major": 2,
       "version_minor": 0
      },
      "text/plain": [
       "Canvas(toolbar=Toolbar(toolitems=[('Home', 'Reset original view', 'home', 'home'), ('Back', 'Back to previous …"
      ]
     },
     "metadata": {},
     "output_type": "display_data"
    },
    {
     "ename": "TypeError",
     "evalue": "Invalid shape (4,) for image data",
     "output_type": "error",
     "traceback": [
      "\u001b[1;31m---------------------------------------------------------------------------\u001b[0m",
      "\u001b[1;31mTypeError\u001b[0m                                 Traceback (most recent call last)",
      "\u001b[1;32m<ipython-input-183-56ef5d467882>\u001b[0m in \u001b[0;36m<module>\u001b[1;34m\u001b[0m\n\u001b[0;32m      3\u001b[0m \u001b[0mdata\u001b[0m \u001b[1;33m=\u001b[0m \u001b[0mnp\u001b[0m\u001b[1;33m.\u001b[0m\u001b[0marray\u001b[0m\u001b[1;33m(\u001b[0m\u001b[1;33m[\u001b[0m\u001b[1;36m0\u001b[0m\u001b[1;33m,\u001b[0m\u001b[1;36m2\u001b[0m\u001b[1;33m,\u001b[0m\u001b[1;36m3\u001b[0m\u001b[1;33m,\u001b[0m\u001b[1;36m4\u001b[0m\u001b[1;33m]\u001b[0m\u001b[1;33m)\u001b[0m\u001b[1;33m\u001b[0m\u001b[1;33m\u001b[0m\u001b[0m\n\u001b[0;32m      4\u001b[0m \u001b[1;33m\u001b[0m\u001b[0m\n\u001b[1;32m----> 5\u001b[1;33m \u001b[0mcax\u001b[0m \u001b[1;33m=\u001b[0m \u001b[0max\u001b[0m\u001b[1;33m.\u001b[0m\u001b[0mimshow\u001b[0m\u001b[1;33m(\u001b[0m\u001b[0mdata\u001b[0m\u001b[1;33m,\u001b[0m \u001b[0mcmap\u001b[0m\u001b[1;33m=\u001b[0m\u001b[0mcmap\u001b[0m\u001b[1;33m)\u001b[0m\u001b[1;33m\u001b[0m\u001b[1;33m\u001b[0m\u001b[0m\n\u001b[0m\u001b[0;32m      6\u001b[0m \u001b[0max\u001b[0m\u001b[1;33m.\u001b[0m\u001b[0mset_title\u001b[0m\u001b[1;33m(\u001b[0m\u001b[1;34m'Gaussian noise with horizontal colorbar'\u001b[0m\u001b[1;33m)\u001b[0m\u001b[1;33m\u001b[0m\u001b[1;33m\u001b[0m\u001b[0m\n\u001b[0;32m      7\u001b[0m \u001b[1;33m\u001b[0m\u001b[0m\n",
      "\u001b[1;32m~\\anaconda3\\lib\\site-packages\\matplotlib\\__init__.py\u001b[0m in \u001b[0;36minner\u001b[1;34m(ax, data, *args, **kwargs)\u001b[0m\n\u001b[0;32m   1359\u001b[0m     \u001b[1;32mdef\u001b[0m \u001b[0minner\u001b[0m\u001b[1;33m(\u001b[0m\u001b[0max\u001b[0m\u001b[1;33m,\u001b[0m \u001b[1;33m*\u001b[0m\u001b[0margs\u001b[0m\u001b[1;33m,\u001b[0m \u001b[0mdata\u001b[0m\u001b[1;33m=\u001b[0m\u001b[1;32mNone\u001b[0m\u001b[1;33m,\u001b[0m \u001b[1;33m**\u001b[0m\u001b[0mkwargs\u001b[0m\u001b[1;33m)\u001b[0m\u001b[1;33m:\u001b[0m\u001b[1;33m\u001b[0m\u001b[1;33m\u001b[0m\u001b[0m\n\u001b[0;32m   1360\u001b[0m         \u001b[1;32mif\u001b[0m \u001b[0mdata\u001b[0m \u001b[1;32mis\u001b[0m \u001b[1;32mNone\u001b[0m\u001b[1;33m:\u001b[0m\u001b[1;33m\u001b[0m\u001b[1;33m\u001b[0m\u001b[0m\n\u001b[1;32m-> 1361\u001b[1;33m             \u001b[1;32mreturn\u001b[0m \u001b[0mfunc\u001b[0m\u001b[1;33m(\u001b[0m\u001b[0max\u001b[0m\u001b[1;33m,\u001b[0m \u001b[1;33m*\u001b[0m\u001b[0mmap\u001b[0m\u001b[1;33m(\u001b[0m\u001b[0msanitize_sequence\u001b[0m\u001b[1;33m,\u001b[0m \u001b[0margs\u001b[0m\u001b[1;33m)\u001b[0m\u001b[1;33m,\u001b[0m \u001b[1;33m**\u001b[0m\u001b[0mkwargs\u001b[0m\u001b[1;33m)\u001b[0m\u001b[1;33m\u001b[0m\u001b[1;33m\u001b[0m\u001b[0m\n\u001b[0m\u001b[0;32m   1362\u001b[0m \u001b[1;33m\u001b[0m\u001b[0m\n\u001b[0;32m   1363\u001b[0m         \u001b[0mbound\u001b[0m \u001b[1;33m=\u001b[0m \u001b[0mnew_sig\u001b[0m\u001b[1;33m.\u001b[0m\u001b[0mbind\u001b[0m\u001b[1;33m(\u001b[0m\u001b[0max\u001b[0m\u001b[1;33m,\u001b[0m \u001b[1;33m*\u001b[0m\u001b[0margs\u001b[0m\u001b[1;33m,\u001b[0m \u001b[1;33m**\u001b[0m\u001b[0mkwargs\u001b[0m\u001b[1;33m)\u001b[0m\u001b[1;33m\u001b[0m\u001b[1;33m\u001b[0m\u001b[0m\n",
      "\u001b[1;32m~\\anaconda3\\lib\\site-packages\\matplotlib\\axes\\_axes.py\u001b[0m in \u001b[0;36mimshow\u001b[1;34m(self, X, cmap, norm, aspect, interpolation, alpha, vmin, vmax, origin, extent, filternorm, filterrad, resample, url, **kwargs)\u001b[0m\n\u001b[0;32m   5607\u001b[0m                               resample=resample, **kwargs)\n\u001b[0;32m   5608\u001b[0m \u001b[1;33m\u001b[0m\u001b[0m\n\u001b[1;32m-> 5609\u001b[1;33m         \u001b[0mim\u001b[0m\u001b[1;33m.\u001b[0m\u001b[0mset_data\u001b[0m\u001b[1;33m(\u001b[0m\u001b[0mX\u001b[0m\u001b[1;33m)\u001b[0m\u001b[1;33m\u001b[0m\u001b[1;33m\u001b[0m\u001b[0m\n\u001b[0m\u001b[0;32m   5610\u001b[0m         \u001b[0mim\u001b[0m\u001b[1;33m.\u001b[0m\u001b[0mset_alpha\u001b[0m\u001b[1;33m(\u001b[0m\u001b[0malpha\u001b[0m\u001b[1;33m)\u001b[0m\u001b[1;33m\u001b[0m\u001b[1;33m\u001b[0m\u001b[0m\n\u001b[0;32m   5611\u001b[0m         \u001b[1;32mif\u001b[0m \u001b[0mim\u001b[0m\u001b[1;33m.\u001b[0m\u001b[0mget_clip_path\u001b[0m\u001b[1;33m(\u001b[0m\u001b[1;33m)\u001b[0m \u001b[1;32mis\u001b[0m \u001b[1;32mNone\u001b[0m\u001b[1;33m:\u001b[0m\u001b[1;33m\u001b[0m\u001b[1;33m\u001b[0m\u001b[0m\n",
      "\u001b[1;32m~\\anaconda3\\lib\\site-packages\\matplotlib\\image.py\u001b[0m in \u001b[0;36mset_data\u001b[1;34m(self, A)\u001b[0m\n\u001b[0;32m    707\u001b[0m         if not (self._A.ndim == 2\n\u001b[0;32m    708\u001b[0m                 or self._A.ndim == 3 and self._A.shape[-1] in [3, 4]):\n\u001b[1;32m--> 709\u001b[1;33m             raise TypeError(\"Invalid shape {} for image data\"\n\u001b[0m\u001b[0;32m    710\u001b[0m                             .format(self._A.shape))\n\u001b[0;32m    711\u001b[0m \u001b[1;33m\u001b[0m\u001b[0m\n",
      "\u001b[1;31mTypeError\u001b[0m: Invalid shape (4,) for image data"
     ]
    }
   ],
   "source": [
    "fig, ax = plt.subplots()\n",
    "\n",
    "data = np.array([0,2,3,4])\n",
    "\n",
    "cax = ax.imshow(data, cmap=cmap)\n",
    "ax.set_title('Gaussian noise with horizontal colorbar')\n",
    "\n",
    "cbar = fig.colorbar(cax, ticks=[-1, 0, 1], orientation='horizontal')\n",
    "cbar.ax.set_xticklabels(['Low', 'Medium', 'High'])  # horizontal colorbar\n",
    "\n",
    "plt.show()"
   ]
  },
  {
   "cell_type": "code",
   "execution_count": 150,
   "id": "806a024a",
   "metadata": {},
   "outputs": [
    {
     "data": {
      "text/plain": [
       "[0.8509803921568627,\n",
       " 0.3254901960784314,\n",
       " 0.30980392156862746,\n",
       " 1.0,\n",
       " 0.0,\n",
       " 0.0,\n",
       " 0.0,\n",
       " 0.0,\n",
       " 0.2,\n",
       " 0.47843137254901963,\n",
       " 0.7176470588235294,\n",
       " 1.0]"
      ]
     },
     "execution_count": 150,
     "metadata": {},
     "output_type": "execute_result"
    }
   ],
   "source": [
    "color_list"
   ]
  },
  {
   "cell_type": "code",
   "execution_count": null,
   "id": "eb82507f",
   "metadata": {},
   "outputs": [],
   "source": []
  },
  {
   "cell_type": "code",
   "execution_count": 184,
   "id": "1eb45c4d",
   "metadata": {},
   "outputs": [
    {
     "data": {
      "application/vnd.jupyter.widget-view+json": {
       "model_id": "8c2b1a26ee804d9892f4110b24674e7e",
       "version_major": 2,
       "version_minor": 0
      },
      "text/plain": [
       "Canvas(toolbar=Toolbar(toolitems=[('Home', 'Reset original view', 'home', 'home'), ('Back', 'Back to previous …"
      ]
     },
     "metadata": {},
     "output_type": "display_data"
    }
   ],
   "source": [
    "import numpy as np\n",
    "import matplotlib as mpl\n",
    "import matplotlib.pyplot as plt\n",
    "\n",
    "x = np.linspace(0, 5, 100)\n",
    "N = 21\n",
    "cmap = plt.get_cmap('jet',N)\n",
    "\n",
    "fig = plt.figure(figsize=(8,6))\n",
    "ax1 = fig.add_axes([0.10,0.10,0.70,0.85])\n",
    "\n",
    "for i,n in enumerate(np.linspace(0,2,N)):\n",
    "    y = np.sin(x)*x**n\n",
    "    ax1.plot(x,y,c=cmap(i))\n",
    "\n",
    "plt.xlabel('x')\n",
    "plt.ylabel('y')\n",
    "\n",
    "norm = mpl.colors.Normalize(vmin=0,vmax=2)\n",
    "sm = plt.cm.ScalarMappable(cmap=cmap, norm=norm)\n",
    "sm.set_array([])\n",
    "plt.colorbar(sm, ticks=np.linspace(0,2,N), \n",
    "             boundaries=np.arange(-0.05,2.1,.1))\n",
    "\n",
    "\n",
    "plt.show()"
   ]
  },
  {
   "cell_type": "code",
   "execution_count": null,
   "id": "c3ba761b",
   "metadata": {},
   "outputs": [],
   "source": []
  },
  {
   "cell_type": "markdown",
   "id": "f1d82483",
   "metadata": {},
   "source": [
    "### PFR power at point h"
   ]
  },
  {
   "cell_type": "code",
   "execution_count": null,
   "id": "3e16c9fd",
   "metadata": {},
   "outputs": [],
   "source": []
  },
  {
   "cell_type": "code",
   "execution_count": null,
   "id": "9748e3d3",
   "metadata": {},
   "outputs": [],
   "source": []
  },
  {
   "cell_type": "code",
   "execution_count": null,
   "id": "8e54ac97",
   "metadata": {},
   "outputs": [],
   "source": []
  },
  {
   "cell_type": "code",
   "execution_count": null,
   "id": "1ab7e5bf",
   "metadata": {},
   "outputs": [],
   "source": []
  },
  {
   "cell_type": "code",
   "execution_count": null,
   "id": "285296e6",
   "metadata": {},
   "outputs": [],
   "source": []
  },
  {
   "cell_type": "code",
   "execution_count": null,
   "id": "f001f303",
   "metadata": {},
   "outputs": [],
   "source": []
  },
  {
   "cell_type": "code",
   "execution_count": null,
   "id": "1c2b4454",
   "metadata": {},
   "outputs": [],
   "source": []
  },
  {
   "cell_type": "code",
   "execution_count": null,
   "id": "a5eca0dd",
   "metadata": {},
   "outputs": [],
   "source": []
  },
  {
   "cell_type": "code",
   "execution_count": null,
   "id": "c067b5cb",
   "metadata": {},
   "outputs": [],
   "source": []
  },
  {
   "cell_type": "code",
   "execution_count": null,
   "id": "46e73be6",
   "metadata": {},
   "outputs": [],
   "source": []
  },
  {
   "cell_type": "code",
   "execution_count": 10,
   "id": "b4b0c693",
   "metadata": {},
   "outputs": [
    {
     "name": "stdout",
     "output_type": "stream",
     "text": [
      "omega_ld = 0.9909, omega_hd = 0.9870\n",
      "P_f_max = 0.1934, DB = 0.0183\n"
     ]
    },
    {
     "data": {
      "application/vnd.jupyter.widget-view+json": {
       "model_id": "03c1ea02caea41cfa32c157ed362342b",
       "version_major": 2,
       "version_minor": 0
      },
      "text/plain": [
       "Canvas(toolbar=Toolbar(toolitems=[('Home', 'Reset original view', 'home', 'home'), ('Back', 'Back to previous …"
      ]
     },
     "metadata": {},
     "output_type": "display_data"
    },
    {
     "data": {
      "text/plain": [
       "<matplotlib.legend.Legend at 0x13707a97c70>"
      ]
     },
     "execution_count": 10,
     "metadata": {},
     "output_type": "execute_result"
    }
   ],
   "source": [
    "t_pert = 1.0\n",
    "omega_nadir_ref = 0.987\n",
    "S_base_cig_mva = grid.get_value('S_n_03')/1e6\n",
    "Droop = 0.02 # in CIG base\n",
    "\n",
    "omega_hd = omega_nadir_ref\n",
    "\n",
    "idx_pert = np.searchsorted(grid.T[:,0],t_pert)\n",
    "idx_nadir = np.argmin(grid.get_values('omega_coi'))\n",
    "t_nadir = grid.T[idx_nadir]\n",
    "p_m_pert = grid.get_values('p_m_01')[idx_pert]*S_b_01_mva\n",
    "omega_nadir = grid.get_values('omega_coi')[idx_nadir]\n",
    "\n",
    "t_nadir_ref = grid.T[idx_pert:idx_nadir,0][np.argmin(grid.get_values('omega_coi')[idx_pert:idx_nadir]>omega_nadir_ref)]\n",
    "idx_nadir_ref = np.searchsorted(grid.T[:,0],t_nadir_ref)\n",
    "\n",
    "P_load = grid.get_values('p_g_01')*S_b_01_mva + grid.get_values('p_s_03')*S_b_03_mva \n",
    "p_pfr_mw = P_load[idx_nadir_ref] - grid.get_values('p_m_01')[idx_nadir_ref]*S_b_01_mva\n",
    "\n",
    "P_f_max = p_pfr_mw/S_base_cig_mva  # pu in CIG power base\n",
    "Domega = -Droop*P_f_max \n",
    "omega_ld = omega_hd - Domega\n",
    "\n",
    "DB = (1 - omega_ld)*2\n",
    "\n",
    "print(f'omega_ld = {omega_ld:0.4f}, omega_hd = {omega_hd:0.4f}')\n",
    "print(f'P_f_max = {P_f_max:0.4f}, DB = {DB:0.4f}')\n",
    "\n",
    "omegas = np.array([      0,omega_hd, omega_ld,1])\n",
    "p_fs   = np.array([P_f_max, P_f_max,        0,0])\n",
    "\n",
    "params_pfr = params.copy()\n",
    "params_pfr.update({'DB_03':DB,'Droop_03':Droop,'P_f_max_03':P_f_max})\n",
    "grid_pfr = onehalf_class()\n",
    "gt.change_line(grid_pfr,'01','02',X_pu=0.04,R_pu=0.001,S_mva=20)\n",
    "gt.change_line(grid_pfr,'02','03',X_pu=0.04,R_pu=0.001,S_mva=20)\n",
    "time_0 = time.time()\n",
    "grid_pfr.initialize([params_pfr],'xy_0.json',compile=True)\n",
    "grid_pfr.run([{'t_end':1.0,'Dt':0.01,'decimation':1}])\n",
    "grid_pfr.run([{'t_end':t_nadir_ref,'P_02':-9e6}])\n",
    "grid_pfr.run([{'t_end':10.0,'P_02':-9e6}])\n",
    "grid_pfr.run([{'t_end':30.0,'Dt':1}])\n",
    "grid_pfr.post();\n",
    "\n",
    "\n",
    "fig,axes = plt.subplots(nrows=2)\n",
    "axes[0].plot(grid.T,grid.get_values('omega_coi'),label='omega_coi')\n",
    "axes[0].plot(grid_pfr.T,grid_pfr.get_values('omega_coi'),label='omega_coi')\n",
    "\n",
    "axes[0].plot(grid.T[idx_pert],grid.get_values('omega_coi')[idx_pert],'o' )\n",
    "axes[0].plot(grid.T[idx_nadir],grid.get_values('omega_coi')[idx_nadir],'o' )\n",
    "axes[0].plot(grid.T[idx_nadir_ref],grid.get_values('omega_coi')[idx_nadir_ref],'o' )\n",
    "\n",
    "P_load = grid.get_values('p_g_01')*S_b_01_mva + grid.get_values('p_s_03')*S_b_03_mva \n",
    "axes[1].plot(grid.T,P_load,label='p_load')\n",
    "\n",
    "axes[1].plot(grid.T,grid.get_values('p_m_01')*S_b_01_mva,label='p_m_01')\n",
    "axes[1].plot(grid_pfr.T,grid_pfr.get_values('p_m_01')*S_b_01_mva,label='p_m_01')\n",
    "\n",
    "axes[1].plot(grid.T[idx_nadir_ref],grid.get_values('p_m_01')[idx_nadir_ref]*S_b_01_mva,'o')\n",
    "\n",
    "#axes[1].plot(grid.T,grid.get_values('p_s_03')*S_b_03_mva,label='p_s_03')\n",
    "axes[1].legend()\n",
    "\n"
   ]
  },
  {
   "cell_type": "code",
   "execution_count": 11,
   "id": "de788b2a",
   "metadata": {},
   "outputs": [
    {
     "data": {
      "application/vnd.jupyter.widget-view+json": {
       "model_id": "7e8ad724f35843d495b4220c39e83a46",
       "version_major": 2,
       "version_minor": 0
      },
      "text/plain": [
       "Canvas(toolbar=Toolbar(toolitems=[('Home', 'Reset original view', 'home', 'home'), ('Back', 'Back to previous …"
      ]
     },
     "metadata": {},
     "output_type": "display_data"
    },
    {
     "data": {
      "text/plain": [
       "(0.98, 1.01)"
      ]
     },
     "execution_count": 11,
     "metadata": {},
     "output_type": "execute_result"
    }
   ],
   "source": [
    "fig,axes = plt.subplots(nrows=1)\n",
    "axes.plot(omegas,p_fs)\n",
    "\n",
    "axes.plot(grid_pfr.get_values('omega_coi'),grid_pfr.get_values('p_s_03'))\n",
    "axes.set_xlim(0.98,1.01)"
   ]
  },
  {
   "cell_type": "code",
   "execution_count": 12,
   "id": "c5f8a052",
   "metadata": {},
   "outputs": [
    {
     "data": {
      "text/plain": [
       "9.003910944225773"
      ]
     },
     "execution_count": 12,
     "metadata": {},
     "output_type": "execute_result"
    }
   ],
   "source": [
    "P_load[idx_nadir_ref]"
   ]
  },
  {
   "cell_type": "code",
   "execution_count": 13,
   "id": "99179e97",
   "metadata": {},
   "outputs": [
    {
     "name": "stdout",
     "output_type": "stream",
     "text": [
      "omega_ld = 0.9824, omega_md = 0.9820, omega_hd = 0.9787\n",
      "P_f_max = 0.3700, DB = 0.0353\n"
     ]
    },
    {
     "data": {
      "application/vnd.jupyter.widget-view+json": {
       "model_id": "826e68dd8ac84f10bd606d5800fff90f",
       "version_major": 2,
       "version_minor": 0
      },
      "text/plain": [
       "Canvas(toolbar=Toolbar(toolitems=[('Home', 'Reset original view', 'home', 'home'), ('Back', 'Back to previous …"
      ]
     },
     "metadata": {},
     "output_type": "display_data"
    }
   ],
   "source": [
    "## Without PFR by CIG\n",
    "Dp_pert = -0.2 # p.u. installed power capacity base \n",
    "t_pert = 1.0\n",
    "\n",
    "grid = onehalf_class()\n",
    "gt.change_line(grid,'01','02',X_pu=0.04,R_pu=0.001,S_mva=20)\n",
    "gt.change_line(grid,'02','03',X_pu=0.04,R_pu=0.001,S_mva=20)\n",
    "time_0 = time.time()\n",
    "grid.initialize([params],'xy_0.json',compile=True)\n",
    "P_load_0_mva = grid.get_value('P_02')/1e6\n",
    "grid.run([{'t_end':t_pert,'Dt':0.01,'decimation':1}])\n",
    "grid.run([{'t_end':10.0,'P_01':P_load_0_mva*(0-Dp_pert)*1e6}])\n",
    "grid.run([{'t_end':60.1,'Dt':0.1}])\n",
    "grid.post();\n",
    " \n",
    "## Design of PFR by CIG\n",
    "omega_nadir_ref = 0.982\n",
    "Droop = 0.01 # in CIG base\n",
    "mid_pos = 0.1\n",
    "S_n_syn_mva = grid.get_value('S_n_01')/1e6\n",
    "S_n_cig_mva = grid.get_value('S_n_03')/1e6\n",
    "S_n_sys_mva = S_n_syn_mva + S_n_cig_mva\n",
    "\n",
    "\n",
    "idx_pert = np.searchsorted(grid.T[:,0],t_pert)\n",
    "idx_nadir = np.argmin(grid.get_values('omega_coi'))\n",
    "t_nadir = grid.T[idx_nadir]\n",
    "p_m_pert = grid.get_values('p_m_01')[idx_pert]*S_b_01_mva\n",
    "omega_nadir = grid.get_values('omega_coi')[idx_nadir]\n",
    "\n",
    "t_nadir_ref = grid.T[idx_pert:idx_nadir,0][np.argmin(grid.get_values('omega_coi')[idx_pert:idx_nadir]>omega_nadir_ref)]\n",
    "idx_nadir_ref = np.searchsorted(grid.T[:,0],t_nadir_ref)\n",
    "\n",
    "t_nadir_ref_end = grid.T[idx_nadir:,0][np.argmin(grid.get_values('omega_coi')[idx_nadir:]<omega_nadir_ref)]\n",
    "idx_nadir_ref_end = np.searchsorted(grid.T[:,0],t_nadir_ref_end)\n",
    "\n",
    "P_load = grid.get_values('p_g_01')*S_b_01_mva + grid.get_values('p_s_03')*S_b_03_mva \n",
    "p_pfr_mw = P_load[idx_nadir_ref] - grid.get_values('p_m_01')[idx_nadir_ref]*S_b_01_mva\n",
    "\n",
    "omega_md = omega_nadir_ref\n",
    "P_f_max = p_pfr_mw/S_n_cig_mva  # pu in CIG power base\n",
    "\n",
    "omega_hd = omega_md - Droop*P_f_max*(1-mid_pos)\n",
    "omega_ld = omega_md + Droop*P_f_max*mid_pos\n",
    "\n",
    "DB = (1 - omega_ld)*2\n",
    "\n",
    "print(f'omega_ld = {omega_ld:0.4f}, omega_md = {omega_md:0.4f}, omega_hd = {omega_hd:0.4f}')\n",
    "print(f'P_f_max = {P_f_max:0.4f}, DB = {DB:0.4f}')\n",
    "\n",
    "## Performance test\n",
    "Dp_pert = -0.2\n",
    "\n",
    "params_pfr = params.copy()\n",
    "params_pfr.update({'DB_03':DB,'Droop_03':Droop,'P_f_max_03':P_f_max})\n",
    "grid_pfr = onehalf_class()\n",
    "gt.change_line(grid_pfr,'01','02',X_pu=0.04,R_pu=0.001,S_mva=20)\n",
    "gt.change_line(grid_pfr,'02','03',X_pu=0.04,R_pu=0.001,S_mva=20)\n",
    "time_0 = time.time()\n",
    "grid_pfr.initialize([params_pfr],'xy_0.json',compile=True)\n",
    "grid_pfr.run([{'t_end':1.0,'Dt':0.01,'decimation':1}])\n",
    "grid_pfr.run([{'t_end':10.0,'P_01':P_load_0_mva*(0-Dp_pert)*1e6}])\n",
    "grid_pfr.run([{'t_end':60.1,'Dt':0.1}])\n",
    "grid_pfr.post();\n",
    "\n",
    "fig,axes = plt.subplots(nrows=3, figsize=(6.4, 4.8*1.5))\n",
    "axes[0].plot(grid.T,grid.get_values('omega_coi'),label='w/o PFR',color=colors[1])\n",
    "axes[0].plot(grid_pfr.T,grid_pfr.get_values('omega_coi'),label='with PFR',color=colors[2])\n",
    "\n",
    "axes[0].plot(grid.T[idx_pert],grid.get_values('omega_coi')[idx_pert],'o',color=colors[5] )\n",
    "axes[0].plot(grid.T[idx_nadir],grid.get_values('omega_coi')[idx_nadir],'o',color=colors[3])\n",
    "axes[0].plot(grid.T[idx_nadir_ref],grid.get_values('omega_coi')[idx_nadir_ref],'o',color=colors[2] )\n",
    "\n",
    "\n",
    "P_load = grid.get_values('p_g_01')*S_b_01_mva + grid.get_values('p_s_03')*S_b_03_mva \n",
    "axes[1].plot(grid.T,P_load,label='$p_l$')\n",
    "\n",
    "axes[1].plot(grid.T,grid.get_values('p_m_01')*S_b_01_mva,label='$p_m$ w/o PFR')\n",
    "axes[1].plot(grid_pfr.T,grid_pfr.get_values('p_m_01')*S_b_01_mva,label='$p_m$ with PFR')\n",
    "\n",
    "\n",
    "axes[1].plot(grid.T[idx_pert],grid.get_values('p_m_01')[idx_pert]*S_b_01_mva,'o',color=colors[5] )\n",
    "axes[1].plot(grid.T[idx_nadir],grid.get_values('p_m_01')[idx_nadir]*S_b_01_mva,'o',color=colors[3])\n",
    "axes[1].plot(grid.T[idx_nadir_ref],grid.get_values('p_m_01')[idx_nadir_ref]*S_b_01_mva,'o',color=colors[2] )\n",
    "\n",
    "\n",
    "axes[2].plot(grid_pfr.T,grid_pfr.get_values('p_s_03')*S_b_03_mva)\n",
    "axes[2].plot(grid.T[idx_pert],grid_pfr.get_values('p_s_03')[idx_pert]*S_b_03_mva,'o',color=colors[5] )\n",
    "axes[2].plot(grid.T[idx_nadir],grid_pfr.get_values('p_s_03')[idx_nadir]*S_b_03_mva,'o',color=colors[3])\n",
    "axes[2].plot(grid.T[idx_nadir_ref],grid_pfr.get_values('p_s_03')[idx_nadir_ref]*S_b_03_mva,'o',color=colors[2] )\n",
    "axes[2].plot(grid.T[idx_nadir_ref_end],grid_pfr.get_values('p_s_03')[idx_nadir_ref_end]*S_b_03_mva,'o',color='#888')\n",
    "axes[2].plot(grid.T,grid.T*0+P_f_max*S_b_03_mva,color='#888')\n",
    "\n",
    "\n",
    "for ax in axes:\n",
    "    ax.grid()\n",
    "    ax.set_xlim(0,45)\n",
    "#axes[1].plot(grid.T,grid.get_values('p_s_03')*S_b_03_mva,label='p_s_03')\n",
    "\n",
    "axes[0].legend()\n",
    "axes[1].legend()\n",
    "\n",
    "axes[0].set_ylabel('Frequency (pu)')\n",
    "axes[1].set_ylabel('SYN Powers (MW)')\n",
    "axes[2].set_ylabel('CIG Powers (MW)')\n",
    "axes[2].set_xlabel('Time (s)')\n",
    "\n",
    "fig.align_ylabels()\n",
    "fig.tight_layout()\n",
    "\n",
    "\n",
    "omegas = np.array([      0,omega_hd, omega_ld,1])\n",
    "p_fs   = np.array([P_f_max, P_f_max,        0,0])"
   ]
  },
  {
   "cell_type": "code",
   "execution_count": 19,
   "id": "04133fac",
   "metadata": {},
   "outputs": [
    {
     "name": "stdout",
     "output_type": "stream",
     "text": [
      "p_pfr = 1.3394013652550338\n"
     ]
    }
   ],
   "source": [
    "t_pert = 1.0\n",
    "idx_pert = np.searchsorted(grid.T[:,0],t_pert)\n",
    "idx_nadir = np.argmin(grid.get_values('omega_coi'))\n",
    "t_nadir = grid.T[idx_nadir]\n",
    "p_m_pert = grid.get_values('p_m_01')[idx_pert]*S_b_01_mva\n",
    "omega_nadir = grid.get_values('omega_coi')[idx_nadir]\n",
    "omega_nadir_ref = 0.987\n",
    "t_nadir_ref = grid.T[idx_pert:idx_nadir,0][np.argmin(grid.get_values('omega_coi')[idx_pert:idx_nadir]>omega_nadir_ref)]\n",
    "idx_nadir_ref = np.searchsorted(grid.T[:,0],t_nadir_ref)\n",
    "\n",
    "P_load = grid.get_values('p_g_01')*S_b_01_mva + grid.get_values('p_s_03')*S_b_03_mva \n",
    "p_pfr = P_load[idx_nadir_ref] - grid.get_values('p_m_01')[idx_nadir_ref]*S_b_01_mva\n",
    "p_pfr\n",
    "\n",
    "Domega = 0.0005\n",
    "omega_DB_min = omega_nadir_ref + Domega\n",
    "omega_DB_mid = omega_nadir_ref + Domega*0.5\n",
    "omega_p_f_max = omega_nadir_ref - Domega\n",
    "DB = 2*(1 - omega_DB_min)\n",
    "# Droop = freq_pu/p_pu\n",
    "Droop = (omega_DB_min-omega_DB_mid)/(p_pfr/S_b_03_mva)\n",
    "P_f_max =1/Droop*(omega_DB_min - omega_p_f_max)\n",
    "\n",
    "params_pfr = params.copy()\n",
    "params_pfr.update({'DB_03':DB,'Droop_03':Droop,'P_f_max_03':P_f_max})\n",
    "grid_pfr = onehalf_class()\n",
    "gt.change_line(grid_pfr,'01','02',X_pu=0.04,R_pu=0.001,S_mva=20)\n",
    "gt.change_line(grid_pfr,'02','03',X_pu=0.04,R_pu=0.001,S_mva=20)\n",
    "time_0 = time.time()\n",
    "grid_pfr.initialize([params_pfr],'xy_0.json',compile=True)\n",
    "grid_pfr.run([{'t_end':1.0,'Dt':0.01,'decimation':1}])\n",
    "grid_pfr.run([{'t_end':t_nadir_ref,'P_02':-9e6}])\n",
    "grid_pfr.run([{'t_end':10.0,'P_02':-9e6+0*p_pfr*1e6}])\n",
    "grid_pfr.run([{'t_end':60.0,'Dt':1}])\n",
    "grid_pfr.post();\n",
    "print(f'p_pfr = {p_pfr}')"
   ]
  },
  {
   "cell_type": "code",
   "execution_count": 397,
   "id": "1eac5ee5",
   "metadata": {},
   "outputs": [
    {
     "data": {
      "text/plain": [
       "0.025000000000000133"
      ]
     },
     "execution_count": 397,
     "metadata": {},
     "output_type": "execute_result"
    }
   ],
   "source": [
    "DB"
   ]
  },
  {
   "cell_type": "code",
   "execution_count": 590,
   "id": "ee2aafbb",
   "metadata": {},
   "outputs": [
    {
     "data": {
      "text/plain": [
       "1.163715642842888"
      ]
     },
     "execution_count": 590,
     "metadata": {},
     "output_type": "execute_result"
    }
   ],
   "source": [
    "P_f_max"
   ]
  },
  {
   "cell_type": "code",
   "execution_count": 598,
   "id": "e4d3321e",
   "metadata": {},
   "outputs": [
    {
     "data": {
      "application/vnd.jupyter.widget-view+json": {
       "model_id": "a5c54183e04f44628edf03400a0ac969",
       "version_major": 2,
       "version_minor": 0
      },
      "text/plain": [
       "Canvas(toolbar=Toolbar(toolitems=[('Home', 'Reset original view', 'home', 'home'), ('Back', 'Back to previous …"
      ]
     },
     "metadata": {},
     "output_type": "display_data"
    },
    {
     "data": {
      "text/plain": [
       "<matplotlib.legend.Legend at 0x2617955bb80>"
      ]
     },
     "execution_count": 598,
     "metadata": {},
     "output_type": "execute_result"
    }
   ],
   "source": [
    "\n",
    "\n",
    "\n"
   ]
  },
  {
   "cell_type": "code",
   "execution_count": 594,
   "id": "2be74951",
   "metadata": {},
   "outputs": [
    {
     "data": {
      "application/vnd.jupyter.widget-view+json": {
       "model_id": "eb32b572f0c7442e8f9e2d5dfb71af37",
       "version_major": 2,
       "version_minor": 0
      },
      "text/plain": [
       "Canvas(toolbar=Toolbar(toolitems=[('Home', 'Reset original view', 'home', 'home'), ('Back', 'Back to previous …"
      ]
     },
     "metadata": {},
     "output_type": "display_data"
    },
    {
     "data": {
      "text/plain": [
       "<matplotlib.legend.Legend at 0x2617949eb80>"
      ]
     },
     "execution_count": 594,
     "metadata": {},
     "output_type": "execute_result"
    }
   ],
   "source": [
    "fig,axes = plt.subplots()\n",
    "\n",
    "axes.plot(grid_pfr.T,grid_pfr.get_values('v_u_03'),label='v_u_03')\n",
    "\n",
    "axes.legend()"
   ]
  },
  {
   "cell_type": "code",
   "execution_count": 535,
   "id": "ad7d8d68",
   "metadata": {},
   "outputs": [
    {
     "data": {
      "text/plain": [
       "350"
      ]
     },
     "execution_count": 535,
     "metadata": {},
     "output_type": "execute_result"
    }
   ],
   "source": [
    "omega_pu = np.array([0,])\n"
   ]
  },
  {
   "cell_type": "code",
   "execution_count": 514,
   "id": "6b4a745e",
   "metadata": {
    "scrolled": true
   },
   "outputs": [
    {
     "data": {
      "application/vnd.jupyter.widget-view+json": {
       "model_id": "8bcb327f2e5e4427a4bbd2b57db21621",
       "version_major": 2,
       "version_minor": 0
      },
      "text/plain": [
       "Canvas(toolbar=Toolbar(toolitems=[('Home', 'Reset original view', 'home', 'home'), ('Back', 'Back to previous …"
      ]
     },
     "metadata": {},
     "output_type": "display_data"
    },
    {
     "data": {
      "text/plain": [
       "<matplotlib.legend.Legend at 0x2618a86fd60>"
      ]
     },
     "execution_count": 514,
     "metadata": {},
     "output_type": "execute_result"
    }
   ],
   "source": [
    "fig,axes = plt.subplots()\n",
    "axes.plot(grid.T,grid.get_values('V_01'),label='V_01')\n",
    "axes.plot(grid.T,grid.get_values('V_02'),label='V_02')\n",
    "axes.plot(grid.T,grid.get_values('V_03'),label='V_03')\n",
    "\n",
    "axes.legend()"
   ]
  },
  {
   "cell_type": "code",
   "execution_count": 495,
   "id": "da550a54",
   "metadata": {},
   "outputs": [
    {
     "data": {
      "application/vnd.jupyter.widget-view+json": {
       "model_id": "f77e8547ac7b4c8087252401ef73d67b",
       "version_major": 2,
       "version_minor": 0
      },
      "text/plain": [
       "Canvas(toolbar=Toolbar(toolitems=[('Home', 'Reset original view', 'home', 'home'), ('Back', 'Back to previous …"
      ]
     },
     "metadata": {},
     "output_type": "display_data"
    },
    {
     "data": {
      "text/plain": [
       "<matplotlib.legend.Legend at 0x26179b4ef70>"
      ]
     },
     "execution_count": 495,
     "metadata": {},
     "output_type": "execute_result"
    }
   ],
   "source": [
    "fig,axes = plt.subplots()\n",
    "axes.plot(grid.T,grid.get_values('v_u_03'),label='v_u_03')\n",
    "axes.legend()"
   ]
  },
  {
   "cell_type": "code",
   "execution_count": 316,
   "id": "b9781570",
   "metadata": {},
   "outputs": [
    {
     "name": "stdout",
     "output_type": "stream",
     "text": [
      "{'columns': ['code', 'msg'],\n",
      " 'data': [[400,\n",
      "           'Query contains not permitted arguments for account type Free: '\n",
      "           'from']]}\n"
     ]
    }
   ],
   "source": [
    "#!/usr/bin/python3\n",
    "import requests\n",
    "import json\n",
    "import pprint\n",
    "\n",
    "## Request and header parameters\n",
    "token = 'gYw1vzE50Vc41NKzNf9NuUlH6Em3G5eFwoofcAynyk/axgyy++IgUwVODd2O3PBMVx7CNoSRDGEcDSdVAo1mCLQ3DzkJLBIzj1fGpk1bSGHHpexlIyQ+yB8jzO+0j+/N'\n",
    "url = 'https://api.gridradar.net/query'\n",
    "\n",
    "headers = {\n",
    "    'Content-type': 'application/json', \n",
    "    'Authorization': 'Bearer '+token\n",
    "}\n",
    "\n",
    "## API query parameters\n",
    "request = {\n",
    "  \"metric\":\"frequency-ucte-median-1s\",\n",
    "#  \"pmus\":\"neustadt,dresden\", \n",
    "#  \"from\":\"2021-05-26T02:36:17.3Z\", \n",
    "#  \"to\":\"2021-05-26T02:36:17.6Z\", \n",
    "  \"aggr\":\"1s\", \n",
    "  \"format\":\"json\",\n",
    "  \"ts\":\"rfc3339\"\n",
    "}\n",
    "\n",
    "## Converting the Python dictionary to a JSON string\n",
    "json_request = json.dumps(request)\n",
    "\n",
    "## Request execution and response reception\n",
    "response = requests.post(url, data=json_request, headers=headers)\n",
    "\n",
    "## Converting the JSON response string to a Python dictionary\n",
    "result_dict = json.loads(response.content)\n",
    "\n",
    "## Pretty print response dictionary\n",
    "pprint.pprint(result_dict)"
   ]
  },
  {
   "cell_type": "code",
   "execution_count": null,
   "id": "51a7d51c",
   "metadata": {},
   "outputs": [],
   "source": []
  }
 ],
 "metadata": {
  "kernelspec": {
   "display_name": "Python 3",
   "language": "python",
   "name": "python3"
  },
  "language_info": {
   "codemirror_mode": {
    "name": "ipython",
    "version": 3
   },
   "file_extension": ".py",
   "mimetype": "text/x-python",
   "name": "python",
   "nbconvert_exporter": "python",
   "pygments_lexer": "ipython3",
   "version": "3.8.11"
  }
 },
 "nbformat": 4,
 "nbformat_minor": 5
}
