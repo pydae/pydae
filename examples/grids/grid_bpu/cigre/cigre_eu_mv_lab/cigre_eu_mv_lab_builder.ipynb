{
 "cells": [
  {
   "cell_type": "code",
   "execution_count": 10,
   "metadata": {},
   "outputs": [],
   "source": [
    "import numpy as np\n",
    "import sympy as sym\n",
    "import json\n",
    "import sympy as sym\n",
    "import pydae.build_cffi as db\n",
    "from pydae.grid_bpu import bpu"
   ]
  },
  {
   "cell_type": "code",
   "execution_count": 11,
   "metadata": {},
   "outputs": [],
   "source": [
    "file_path = 'cigre_eu_mv_lab.json'\n",
    "bpu_obj = bpu(data_input=file_path)"
   ]
  },
  {
   "cell_type": "code",
   "execution_count": 12,
   "metadata": {},
   "outputs": [
    {
     "name": "stdout",
     "output_type": "stream",
     "text": [
      "check_system (time: 0.0)\n",
      "computing jacobians Fx_run,Fy_run  (time: 0.029 s)\n",
      "computing jacobians Gx_run,Gy_run  (time: 0.069 s)\n",
      "computing jacobians Fu_run,Gu_run  (time: 0.311 s)\n",
      "computing jacobians Fx_ini,Fy_ini  (time: 0.456 s)\n",
      "computing jacobians Gx_ini,Gy_ini  (time: 0.487 s)\n",
      "computing jacobians Hx_run,Hy_run,Hu_run  (time: 0.7091033458709717 s)\n",
      "end system  (time: 0.758 s)\n",
      "computing jac_ini (time: 0.0)\n",
      "computing jac_run (time: 0.003986358642578125)\n",
      "computing jac_trap (time: 0.006978273391723633)\n",
      "end of jacobians computation (time: 0.028)\n",
      "writting f_ini and g_ini code (time: 0.000 s)\n",
      "writting f_run and g_run code (time: 0.240 s)\n",
      "writting h_run code (time: 0.551 s)\n",
      "converting jac_ini to sp_jac_ini  (time: 0.566 s)\n",
      "running sym2rhs for sp_jac_ini (time: 0.567 s)\n",
      "converting jac_run to sp_jac_run  (time: 1.044 s)\n",
      "running sym2rhs for sp_jac_run (time: 1.048 s)\n",
      "converting jac_trap to sp_jac_trap  (time: 1.489 s)\n",
      "running sym2rhs for sp_jac_trap (time: 1.490 s)\n",
      "wrtting  de_jac_trap code (time: 1.863 s)\n",
      "writting sp_jac_trap code (time: 1.864 s)\n",
      "writting full source (time: 1.865 s)\n",
      "Code wrote in 1.865 s\n",
      "Compilation time: 22.07 s\n",
      "sys2num (time: 0.016)\n"
     ]
    }
   ],
   "source": [
    "g_list = bpu_obj.dae['g'] \n",
    "h_dict = bpu_obj.dae['h_dict']\n",
    "f_list = bpu_obj.dae['f']\n",
    "x_list = bpu_obj.dae['x']\n",
    "params_dict = bpu_obj.dae['params_dict']\n",
    "\n",
    "sys = {'name':'cigre_eu_mv_lab',\n",
    "       'params_dict':params_dict,\n",
    "       'f_list':f_list,\n",
    "       'g_list':g_list,\n",
    "       'x_list':x_list,\n",
    "       'y_ini_list':bpu_obj.dae['y_ini'],\n",
    "       'y_run_list':bpu_obj.dae['y_run'],\n",
    "       'u_run_dict':bpu_obj.dae['u_run_dict'],\n",
    "       'u_ini_dict':bpu_obj.dae['u_ini_dict'],\n",
    "       'h_dict':h_dict}\n",
    "\n",
    "sys = db.build(sys, verbose=True)"
   ]
  },
  {
   "cell_type": "code",
   "execution_count": null,
   "metadata": {},
   "outputs": [],
   "source": []
  },
  {
   "cell_type": "code",
   "execution_count": null,
   "metadata": {},
   "outputs": [],
   "source": []
  }
 ],
 "metadata": {
  "kernelspec": {
   "display_name": "Python 3 (ipykernel)",
   "language": "python",
   "name": "python3"
  },
  "language_info": {
   "codemirror_mode": {
    "name": "ipython",
    "version": 3
   },
   "file_extension": ".py",
   "mimetype": "text/x-python",
   "name": "python",
   "nbconvert_exporter": "python",
   "pygments_lexer": "ipython3",
   "version": "3.9.7"
  }
 },
 "nbformat": 4,
 "nbformat_minor": 4
}
