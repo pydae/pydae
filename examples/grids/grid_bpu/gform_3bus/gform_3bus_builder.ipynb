{
 "cells": [
  {
   "cell_type": "code",
   "execution_count": 2,
   "metadata": {},
   "outputs": [],
   "source": [
    "import numpy as np\n",
    "import sympy as sym\n",
    "import pydae.build as db\n",
    "from pydae.grid_b_pu import bal_pu"
   ]
  },
  {
   "cell_type": "code",
   "execution_count": 11,
   "metadata": {},
   "outputs": [],
   "source": [
    "def gformer_add(grid):\n",
    "    sin = sym.sin\n",
    "    cos = sym.cos\n",
    "    buses = grid['data']['buses']\n",
    "    buses_list = [bus['name'] for bus in buses]\n",
    "    for gformer in grid['data']['gformers']:\n",
    "\n",
    "        bus_name = gformer['bus']\n",
    "        idx_bus = buses_list.index(bus_name) # get the number of the bus where the syn is connected\n",
    "        if not 'idx_powers' in buses[idx_bus]: buses[idx_bus].update({'idx_powers':0})\n",
    "        buses[idx_bus]['idx_powers'] += 1\n",
    "\n",
    "        p_g = sym.Symbol(f\"p_g_{bus_name}_{buses[idx_bus]['idx_powers']}\", real=True)\n",
    "        q_g = sym.Symbol(f\"q_g_{bus_name}_{buses[idx_bus]['idx_powers']}\", real=True)\n",
    "        V = sym.Symbol(f\"V_{bus_name}\", real=True)\n",
    "        theta = sym.Symbol(f\"theta_{bus_name}\", real=True)\n",
    "        i_d = sym.Symbol(f\"i_d_{bus_name}\", real=True)\n",
    "        i_q = sym.Symbol(f\"i_q_{bus_name}\", real=True)\n",
    "        delta = sym.Symbol(f\"delta_{bus_name}\", real=True)\n",
    "        omega = sym.Symbol(f\"omega_{bus_name}\", real=True)\n",
    "        p_ref = sym.Symbol(f\"p_ref_{bus_name}\", real=True)\n",
    "        q_ref = sym.Symbol(f\"q_ref_{bus_name}\", real=True)\n",
    "        e = sym.Symbol(f\"e_{bus_name}\", real=True)\n",
    "        \n",
    "        omega_coi = sym.Symbol(\"omega_coi\", real=True)\n",
    "\n",
    "        p_m_ref  = sym.Symbol(f\"p_m_ref_{bus_name}\", real=True)\n",
    "        v_ref  = sym.Symbol(f\"v_ref_{bus_name}\", real=True)\n",
    "        xi_m = sym.Symbol(f\"xi_m_{bus_name}\", real=True)\n",
    "        \n",
    "        v_d = V*sin(delta - theta) \n",
    "        v_q = V*cos(delta - theta) \n",
    "\n",
    "        for item in ['S_n','Omega_b','T_omega','T_e','X_v','R_v',\n",
    "                     'K_wp','K_wq','K_ep','K_eq',\n",
    "                      'K_delta']:\n",
    "            string = f\"{item}=sym.Symbol('{item}_{bus_name}', real = True)\" \n",
    "            exec(string,globals())\n",
    "            grid['params'].update({f'{item}_{bus_name}':gformer[item]})\n",
    "\n",
    "        p_e = i_d*(v_d + R_v*i_d) + i_q*(v_q + R_v*i_q) \n",
    "\n",
    "        omega_s = omega_coi\n",
    "        \n",
    "        omega_ref = 1 + K_wp*(p_ref - p_g) + K_wq*(q_ref - q_g)\n",
    "        e_ref     = 1 + K_ep*(p_ref - p_g) + K_eq*(q_ref - q_g)\n",
    "        \n",
    "        ddelta = Omega_b*(omega - omega_s) - K_delta*delta\n",
    "        domega = 1/T_omega*(omega_ref - omega)\n",
    "        de     = 1/T_e*(e_ref - e)\n",
    "       \n",
    "        g_i_d  = v_q + R_v*i_q + X_v*i_d - e\n",
    "        g_i_q  = v_d + R_v*i_d - X_v*i_q\n",
    "        g_p_g  = i_d*v_d + i_q*v_q - p_g  \n",
    "        g_q_g  = i_d*v_q - i_q*v_d - q_g \n",
    "                \n",
    "        if 'f' not in grid: grid.update({'f':[]})\n",
    "        if 'x' not in grid: grid.update({'x':[]})\n",
    "        grid['f'] += [ddelta,domega,de]\n",
    "        grid['x'] += [ delta, omega, e]\n",
    "        grid['g'] += [g_i_d,g_i_q,g_p_g,g_q_g]\n",
    "        grid['y'] += [i_d,i_q,p_g,q_g]  \n",
    "        \n",
    "        S_base = sym.Symbol('S_base', real = True)\n",
    "        grid['g'][idx_bus*2]   += -p_g*S_n/S_base\n",
    "        grid['g'][idx_bus*2+1] += -q_g*S_n/S_base\n",
    "\n",
    "        grid['u'].update({f'p_ref_{bus_name}':0.0})\n",
    "        grid['u'].update({f'q_ref_{bus_name}':0.0})\n",
    "        #for item in syn:       \n",
    "        #    grid['params'].update({f\"{item}_{bus_name}\":syn[item]})\n",
    "        #grid['params'].pop(f\"bus_{bus_name}\")\n",
    "        #"
   ]
  },
  {
   "cell_type": "code",
   "execution_count": 12,
   "metadata": {},
   "outputs": [],
   "source": [
    "grid = bal_pu('gform_3bus.json') "
   ]
  },
  {
   "cell_type": "code",
   "execution_count": 13,
   "metadata": {},
   "outputs": [],
   "source": [
    "gformer_add(grid)"
   ]
  },
  {
   "cell_type": "code",
   "execution_count": 14,
   "metadata": {},
   "outputs": [],
   "source": [
    "params_dict = grid['params']\n",
    "\n",
    "g_list = grid['g']\n",
    "h_dict = grid['h']\n",
    "f_list = grid['f']\n",
    "x_list = grid['x']\n",
    "\n",
    "sys = {'name':'gform_3bus',\n",
    "       'params_dict':params_dict,\n",
    "       'f_list':f_list,\n",
    "       'g_list':g_list,\n",
    "       'x_list':x_list,\n",
    "       'y_ini_list':grid['y'],\n",
    "       'y_run_list':grid['y'],\n",
    "       'u_run_dict':grid['u'],\n",
    "       'u_ini_dict':grid['u'],\n",
    "       'h_dict':h_dict}\n",
    "\n",
    "sys = db.system(sys)\n",
    "db.sys2num(sys)"
   ]
  },
  {
   "cell_type": "code",
   "execution_count": null,
   "metadata": {},
   "outputs": [],
   "source": []
  }
 ],
 "metadata": {
  "kernelspec": {
   "display_name": "Python 3",
   "language": "python",
   "name": "python3"
  },
  "language_info": {
   "codemirror_mode": {
    "name": "ipython",
    "version": 3
   },
   "file_extension": ".py",
   "mimetype": "text/x-python",
   "name": "python",
   "nbconvert_exporter": "python",
   "pygments_lexer": "ipython3",
   "version": "3.8.5"
  }
 },
 "nbformat": 4,
 "nbformat_minor": 4
}
