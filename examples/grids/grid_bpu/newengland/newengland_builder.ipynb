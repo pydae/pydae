{
 "cells": [
  {
   "cell_type": "code",
   "execution_count": 1,
   "metadata": {},
   "outputs": [],
   "source": [
    "import numpy as np\n",
    "import sympy as sym\n",
    "import json\n",
    "import sympy as sym\n",
    "import pydae.buildfast as db\n",
    "from pydae.grid_bpu import bpu"
   ]
  },
  {
   "cell_type": "code",
   "execution_count": 2,
   "metadata": {},
   "outputs": [],
   "source": [
    "file_path = 'newengland.json'\n",
    "bpu_obj = bpu(data_input=file_path)"
   ]
  },
  {
   "cell_type": "code",
   "execution_count": 3,
   "metadata": {},
   "outputs": [
    {
     "name": "stdout",
     "output_type": "stream",
     "text": [
      "check_system (time: 0.0\n",
      "computing jacobians Fx_run,Fy_run  (time: 0.16365528106689453\n",
      "computing jacobians Gx_run,Gy_run  (time: 6.502557277679443\n",
      "computing jacobians Fu_run,Gu_run  (time: 34.460084438323975\n",
      "computing jacobians Fx_ini,Fy_ini  (time: 46.2013144493103\n",
      "computing jacobians Gx_ini,Gy_ini  (time: 51.14857363700867\n",
      "computing jacobians Hx_run,Hy_run,Hu_run  (time: 79.05542755126953\n",
      "end system  (time: 85.01694655418396\n",
      "computing jac_ini (time: 0.0\n",
      "computing jac_run (time: 0.1253817081451416\n",
      "computing jac_trap (time: 0.31370973587036133\n",
      "generating f_ini_eval string (time: 0.8629999160766602\n",
      "generating f_run_eval string (time: 20.331060886383057\n",
      "generating g_ini_eval string (time: 34.94929051399231\n",
      "generating g_run_eval string (time: 68.25121140480042\n",
      "generating h_run_eval string (time: 103.80594563484192\n",
      "generating f_run_gpu string (time: 110.74840903282166\n",
      "generating h_run_gpu string (time: 127.2387273311615\n",
      "generating jac_ini_ss_eval string (time: 139.34722256660461\n",
      "generating sp_jac_ini_eval string (time: 324.9748783111572\n",
      "generating jac_ss_eval string (time: 532.8239006996155\n",
      "generating jac_trap_eval string (time: 717.7546422481537\n",
      "writting file (time: 1081.5785808563232\n"
     ]
    }
   ],
   "source": [
    "g_list = bpu_obj.dae['g'] \n",
    "h_dict = bpu_obj.dae['h_dict']\n",
    "f_list = bpu_obj.dae['f']\n",
    "x_list = bpu_obj.dae['x']\n",
    "params_dict = bpu_obj.dae['params_dict']\n",
    "\n",
    "sys = {'name':'newengland',\n",
    "       'params_dict':params_dict,\n",
    "       'f_list':f_list,\n",
    "       'g_list':g_list,\n",
    "       'x_list':x_list,\n",
    "       'y_ini_list':bpu_obj.dae['y_ini'],\n",
    "       'y_run_list':bpu_obj.dae['y_run'],\n",
    "       'u_run_dict':bpu_obj.dae['u_run_dict'],\n",
    "       'u_ini_dict':bpu_obj.dae['u_ini_dict'],\n",
    "       'h_dict':h_dict}\n",
    "\n",
    "sys = db.system(sys,verbose=True)\n",
    "db.sys2num(sys,verbose=True)"
   ]
  },
  {
   "cell_type": "code",
   "execution_count": 13,
   "metadata": {},
   "outputs": [],
   "source": [
    "from sympy import SparseMatrix, Matrix"
   ]
  },
  {
   "cell_type": "code",
   "execution_count": 16,
   "metadata": {},
   "outputs": [],
   "source": [
    "Gy_ini_sp = SparseMatrix(sys['Gy_ini'])"
   ]
  },
  {
   "cell_type": "code",
   "execution_count": 25,
   "metadata": {},
   "outputs": [],
   "source": [
    "from sympy.matrices.sparsetools import _doktocsr\n",
    "\n",
    "Gy_ini_csr = _doktocsr(Gy_ini_sp)"
   ]
  },
  {
   "cell_type": "code",
   "execution_count": 33,
   "metadata": {},
   "outputs": [
    {
     "data": {
      "text/plain": [
       "[170, 170]"
      ]
     },
     "execution_count": 33,
     "metadata": {},
     "output_type": "execute_result"
    }
   ],
   "source": [
    "Gy_ini_csr[3]"
   ]
  },
  {
   "cell_type": "code",
   "execution_count": null,
   "metadata": {},
   "outputs": [],
   "source": []
  },
  {
   "cell_type": "code",
   "execution_count": null,
   "metadata": {},
   "outputs": [],
   "source": []
  },
  {
   "cell_type": "code",
   "execution_count": 42,
   "metadata": {},
   "outputs": [],
   "source": [
    "def getIndex(s, i): \n",
    "  \n",
    "    # If input is invalid. \n",
    "    if s[i] != '(':\n",
    "        return -1\n",
    "  \n",
    "    # Create a deque to use it as a stack. \n",
    "    d = deque() \n",
    "  \n",
    "    # Traverse through all elements \n",
    "    # starting from i. \n",
    "    for k in range(i, len(s)): \n",
    "  \n",
    "        # Pop a starting bracket \n",
    "        # for every closing bracket \n",
    "        if s[k] == ')': \n",
    "            d.popleft() \n",
    "  \n",
    "        # Push all starting brackets \n",
    "        elif s[k] == '(': \n",
    "            d.append(s[i]) \n",
    "  \n",
    "        # If deque becomes empty \n",
    "        if not d: \n",
    "            return k \n",
    "  \n",
    "    return -1\n",
    "  \n",
    "def arg2np(string,function_name):\n",
    "    idx_end = 0\n",
    "    for it in range(3):\n",
    "        if function_name in string[idx_end:]:\n",
    "            #print(string[idx_end:])\n",
    "            idx_ini = string.find(f'{function_name}(',idx_end)+len(f'{function_name}(')\n",
    "            idx_end = getIndex(string, idx_ini-1)\n",
    "            string = string.replace(string[idx_ini:idx_end],f'np.array([{string[idx_ini:idx_end]}])')\n",
    "    else: pass\n",
    "    return string   \n",
    "\n",
    "def arg2cp(string,function_name,i_pwise):\n",
    "    idx_end = 0\n",
    "    for it in range(3):\n",
    "        if function_name in string[idx_end:]:\n",
    "            #print(string[idx_end:])\n",
    "            idx_ini = string.find(f'{function_name}(',idx_end)+len(f'{function_name}(')\n",
    "            idx_end = getIndex(string, idx_ini-1)\n",
    "            string_inline = string.replace(string[idx_ini:idx_end],'pwise[0]').replace(f'{function_name}(','').replace(')','')\n",
    "            string_pwise = string[idx_ini:idx_end]\n",
    "    else: pass\n",
    "    return string_pwise,string_inline "
   ]
  },
  {
   "cell_type": "code",
   "execution_count": 45,
   "metadata": {},
   "outputs": [
    {
     "ename": "ValueError",
     "evalue": "too many values to unpack (expected 2)",
     "output_type": "error",
     "traceback": [
      "\u001b[1;31m---------------------------------------------------------------------------\u001b[0m",
      "\u001b[1;31mValueError\u001b[0m                                Traceback (most recent call last)",
      "\u001b[1;32m<ipython-input-45-f35f4c05e32e>\u001b[0m in \u001b[0;36m<module>\u001b[1;34m\u001b[0m\n\u001b[0;32m      1\u001b[0m \u001b[1;32mfrom\u001b[0m \u001b[0mcollections\u001b[0m \u001b[1;32mimport\u001b[0m \u001b[0mdeque\u001b[0m\u001b[1;33m\u001b[0m\u001b[1;33m\u001b[0m\u001b[0m\n\u001b[0;32m      2\u001b[0m \u001b[1;33m\u001b[0m\u001b[0m\n\u001b[1;32m----> 3\u001b[1;33m \u001b[0mstring_pwise\u001b[0m\u001b[1;33m,\u001b[0m\u001b[0mstring_inline\u001b[0m \u001b[1;33m=\u001b[0m \u001b[0mstr\u001b[0m\u001b[1;33m(\u001b[0m\u001b[0msys\u001b[0m\u001b[1;33m[\u001b[0m\u001b[1;34m'g'\u001b[0m\u001b[1;33m]\u001b[0m\u001b[1;33m[\u001b[0m\u001b[1;33m-\u001b[0m\u001b[1;36m3\u001b[0m\u001b[1;33m]\u001b[0m\u001b[1;33m)\u001b[0m\u001b[1;33m\u001b[0m\u001b[1;33m\u001b[0m\u001b[0m\n\u001b[0m\u001b[0;32m      4\u001b[0m \u001b[0mstring_pwise\u001b[0m\u001b[1;33m\u001b[0m\u001b[1;33m\u001b[0m\u001b[0m\n",
      "\u001b[1;31mValueError\u001b[0m: too many values to unpack (expected 2)"
     ]
    }
   ],
   "source": [
    "from collections import deque \n",
    "\n",
    "string = str(sys['g'][-3])"
   ]
  },
  {
   "cell_type": "code",
   "execution_count": 47,
   "metadata": {},
   "outputs": [],
   "source": [
    "string_pwise,string_inline =  arg2cp(string,'Piecewise',0)\n",
    "string_pwise_list = string_pwise.split(',')"
   ]
  },
  {
   "cell_type": "code",
   "execution_count": 50,
   "metadata": {},
   "outputs": [
    {
     "data": {
      "text/plain": [
       "['-V_lim_4',\n",
       " ' V_lim_4 < -K_stab_4*(T_1_4*(-x_lead_4 + z_wo_4)/T_2_4 + x_lead_4)',\n",
       " '(V_lim_4',\n",
       " ' V_lim_4 < K_stab_4*(T_1_4*(-x_lead_4 + z_wo_4)/T_2_4 + x_lead_4)',\n",
       " '(K_stab_4*(T_1_4*(-x_lead_4 + z_wo_4)/T_2_4 + x_lead_4)',\n",
       " ' True']"
      ]
     },
     "execution_count": 50,
     "metadata": {},
     "output_type": "execute_result"
    }
   ],
   "source": [
    "string_pwise_list\n",
    "\n",
    "for it in range(int(len(string_pwise_list)/2)):\n",
    "    string_pwise_list[2*it] = string_pwise_list[2*it][1:] \n",
    "    string_pwise_list[2*it+1] = string_pwise_list[2*it+1][:-1] \n",
    "    \n",
    "    \n",
    "string_pwise_list    "
   ]
  },
  {
   "cell_type": "code",
   "execution_count": null,
   "metadata": {},
   "outputs": [],
   "source": []
  }
 ],
 "metadata": {
  "kernelspec": {
   "display_name": "Python 3 (ipykernel)",
   "language": "python",
   "name": "python3"
  },
  "language_info": {
   "codemirror_mode": {
    "name": "ipython",
    "version": 3
   },
   "file_extension": ".py",
   "mimetype": "text/x-python",
   "name": "python",
   "nbconvert_exporter": "python",
   "pygments_lexer": "ipython3",
   "version": "3.8.12"
  }
 },
 "nbformat": 4,
 "nbformat_minor": 4
}
