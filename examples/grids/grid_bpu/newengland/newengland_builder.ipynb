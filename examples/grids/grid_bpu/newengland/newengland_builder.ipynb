{
 "cells": [
  {
   "cell_type": "code",
   "execution_count": 1,
   "metadata": {},
   "outputs": [],
   "source": [
    "import numpy as np\n",
    "import sympy as sym\n",
    "import json\n",
    "import sympy as sym\n",
    "import pydae.build_cffi as db\n",
    "from pydae.grid_bpu import bpu"
   ]
  },
  {
   "cell_type": "code",
   "execution_count": 2,
   "metadata": {},
   "outputs": [],
   "source": [
    "file_path = 'newengland.json'\n",
    "bpu_obj = bpu(data_input=file_path)"
   ]
  },
  {
   "cell_type": "code",
   "execution_count": 3,
   "metadata": {},
   "outputs": [
    {
     "name": "stdout",
     "output_type": "stream",
     "text": [
      "check_system (time: 0.0)\n",
      "computing jacobians Fx_run,Fy_run  (time: 0.093 s)\n",
      "computing jacobians Gx_run,Gy_run  (time: 3.912 s)\n",
      "computing jacobians Fu_run,Gu_run  (time: 15.381 s)\n",
      "computing jacobians Fx_ini,Fy_ini  (time: 19.440 s)\n",
      "computing jacobians Gx_ini,Gy_ini  (time: 22.615 s)\n",
      "computing jacobians Hx_run,Hy_run,Hu_run  (time: 33.54235053062439 s)\n",
      "end system  (time: 35.379 s)\n",
      "computing jac_ini (time: 0.0)\n",
      "computing jac_run (time: 0.05888557434082031)\n",
      "computing jac_trap (time: 0.1161501407623291)\n",
      "end of jacobians computation (time: 0.310)\n",
      "writting f_ini and g_ini code (time: 0.000 s)\n",
      "writting f_run and g_run code (time: 2.899 s)\n",
      "writting h_run code (time: 5.781 s)\n",
      "converting jac_ini to sp_jac_ini  (time: 5.965 s)\n",
      "running sym2rhs for sp_jac_ini (time: 5.976 s)\n",
      "converting jac_run to sp_jac_run  (time: 10.594 s)\n",
      "running sym2rhs for sp_jac_run (time: 10.603 s)\n",
      "converting jac_trap to sp_jac_trap  (time: 14.976 s)\n",
      "running sym2rhs for sp_jac_trap (time: 14.984 s)\n",
      "wrtting  de_jac_trap code (time: 20.201 s)\n",
      "writting sp_jac_trap code (time: 20.203 s)\n",
      "writting full source (time: 20.205 s)\n",
      "Code wrote in 20.206 s\n",
      "Compilation time: 102.04 s\n",
      "sys2num (time: 0.025)\n"
     ]
    }
   ],
   "source": [
    "g_list = bpu_obj.dae['g'] \n",
    "h_dict = bpu_obj.dae['h_dict']\n",
    "f_list = bpu_obj.dae['f']\n",
    "x_list = bpu_obj.dae['x']\n",
    "params_dict = bpu_obj.dae['params_dict']\n",
    "\n",
    "sys = {'name':'newengland',\n",
    "       'params_dict':params_dict,\n",
    "       'f_list':f_list,\n",
    "       'g_list':g_list,\n",
    "       'x_list':x_list,\n",
    "       'y_ini_list':bpu_obj.dae['y_ini'],\n",
    "       'y_run_list':bpu_obj.dae['y_run'],\n",
    "       'u_run_dict':bpu_obj.dae['u_run_dict'],\n",
    "       'u_ini_dict':bpu_obj.dae['u_ini_dict'],\n",
    "       'h_dict':h_dict}\n",
    "\n",
    "sys = db.build(sys, verbose=True)"
   ]
  },
  {
   "cell_type": "code",
   "execution_count": null,
   "metadata": {},
   "outputs": [],
   "source": []
  },
  {
   "cell_type": "code",
   "execution_count": null,
   "metadata": {},
   "outputs": [],
   "source": []
  }
 ],
 "metadata": {
  "kernelspec": {
   "display_name": "Python 3 (ipykernel)",
   "language": "python",
   "name": "python3"
  },
  "language_info": {
   "codemirror_mode": {
    "name": "ipython",
    "version": 3
   },
   "file_extension": ".py",
   "mimetype": "text/x-python",
   "name": "python",
   "nbconvert_exporter": "python",
   "pygments_lexer": "ipython3",
   "version": "3.9.7"
  }
 },
 "nbformat": 4,
 "nbformat_minor": 4
}
