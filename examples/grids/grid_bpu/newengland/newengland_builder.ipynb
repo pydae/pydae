{
 "cells": [
  {
   "cell_type": "code",
   "execution_count": 1,
   "metadata": {},
   "outputs": [],
   "source": [
    "import numpy as np\n",
    "import sympy as sym\n",
    "import json\n",
    "import sympy as sym\n",
    "import pydae.build_cffi as db\n",
    "from pydae.grid_bpu import bpu"
   ]
  },
  {
   "cell_type": "code",
   "execution_count": 2,
   "metadata": {},
   "outputs": [],
   "source": [
    "file_path = 'newengland.json'\n",
    "bpu_obj = bpu(data_input=file_path)"
   ]
  },
  {
   "cell_type": "code",
   "execution_count": 3,
   "metadata": {},
   "outputs": [
    {
     "name": "stdout",
     "output_type": "stream",
     "text": [
      "check_system (time: 0.0)\n",
      "computing jacobians Fx_run,Fy_run  (time: 0.08377456665039062)\n",
      "computing jacobians Gx_run,Gy_run  (time: 3.815830945968628)\n",
      "computing jacobians Fu_run,Gu_run  (time: 16.853975534439087)\n",
      "computing jacobians Fx_ini,Fy_ini  (time: 21.885128259658813\n",
      "computing jacobians Gx_ini,Gy_ini  (time: 25.47895908355713\n",
      "computing jacobians Hx_run,Hy_run,Hu_run  (time: 37.73419380187988)\n",
      "end system  (time: 39.90738534927368)\n",
      "145.4311580657959\n",
      "109.26303315162659\n",
      "Compilation time: 74.52 s\n"
     ]
    },
    {
     "ename": "NameError",
     "evalue": "name 'sysc' is not defined",
     "output_type": "error",
     "traceback": [
      "\u001b[1;31m---------------------------------------------------------------------------\u001b[0m",
      "\u001b[1;31mNameError\u001b[0m                                 Traceback (most recent call last)",
      "\u001b[1;32m~\\AppData\\Local\\Temp/ipykernel_17404/1975867785.py\u001b[0m in \u001b[0;36m<module>\u001b[1;34m\u001b[0m\n\u001b[0;32m     20\u001b[0m \u001b[0mdefs\u001b[0m\u001b[1;33m,\u001b[0m\u001b[0msource\u001b[0m \u001b[1;33m=\u001b[0m \u001b[0mdb\u001b[0m\u001b[1;33m.\u001b[0m\u001b[0msym2src\u001b[0m\u001b[1;33m(\u001b[0m\u001b[0msys\u001b[0m\u001b[1;33m)\u001b[0m\u001b[1;33m\u001b[0m\u001b[1;33m\u001b[0m\u001b[0m\n\u001b[0;32m     21\u001b[0m \u001b[0mdb\u001b[0m\u001b[1;33m.\u001b[0m\u001b[0mcompile_module\u001b[0m\u001b[1;33m(\u001b[0m\u001b[1;34m'newengland_cffi'\u001b[0m\u001b[1;33m,\u001b[0m\u001b[0mdefs\u001b[0m\u001b[1;33m,\u001b[0m\u001b[0msource\u001b[0m\u001b[1;33m)\u001b[0m\u001b[1;33m\u001b[0m\u001b[1;33m\u001b[0m\u001b[0m\n\u001b[1;32m---> 22\u001b[1;33m \u001b[0mdb\u001b[0m\u001b[1;33m.\u001b[0m\u001b[0msys2num\u001b[0m\u001b[1;33m(\u001b[0m\u001b[1;34m'newengland'\u001b[0m\u001b[1;33m,\u001b[0m\u001b[0msysc\u001b[0m\u001b[1;33m,\u001b[0m \u001b[0mverbose\u001b[0m\u001b[1;33m=\u001b[0m\u001b[1;32mTrue\u001b[0m\u001b[1;33m)\u001b[0m\u001b[1;33m\u001b[0m\u001b[1;33m\u001b[0m\u001b[0m\n\u001b[0m",
      "\u001b[1;31mNameError\u001b[0m: name 'sysc' is not defined"
     ]
    }
   ],
   "source": [
    "g_list = bpu_obj.dae['g'] \n",
    "h_dict = bpu_obj.dae['h_dict']\n",
    "f_list = bpu_obj.dae['f']\n",
    "x_list = bpu_obj.dae['x']\n",
    "params_dict = bpu_obj.dae['params_dict']\n",
    "\n",
    "sys = {'name':'newengland',\n",
    "       'params_dict':params_dict,\n",
    "       'f_list':f_list,\n",
    "       'g_list':g_list,\n",
    "       'x_list':x_list,\n",
    "       'y_ini_list':bpu_obj.dae['y_ini'],\n",
    "       'y_run_list':bpu_obj.dae['y_run'],\n",
    "       'u_run_dict':bpu_obj.dae['u_run_dict'],\n",
    "       'u_ini_dict':bpu_obj.dae['u_ini_dict'],\n",
    "       'h_dict':h_dict}\n",
    "\n",
    "sys = db.system(sys, verbose=True)\n",
    "db.jacobians(sys)\n",
    "defs,source = db.sym2src(sys)\n",
    "db.compile_module('newengland_cffi',defs,source)\n",
    "db.sys2num('newengland',sys, verbose=True)"
   ]
  },
  {
   "cell_type": "code",
   "execution_count": 4,
   "metadata": {},
   "outputs": [
    {
     "name": "stdout",
     "output_type": "stream",
     "text": [
      "sys2num (time: 0.048876047134399414)\n"
     ]
    }
   ],
   "source": []
  },
  {
   "cell_type": "code",
   "execution_count": 16,
   "metadata": {},
   "outputs": [],
   "source": [
    "Gy_ini_sp = SparseMatrix(sys['Gy_ini'])"
   ]
  },
  {
   "cell_type": "code",
   "execution_count": 25,
   "metadata": {},
   "outputs": [],
   "source": [
    "from sympy.matrices.sparsetools import _doktocsr\n",
    "\n",
    "Gy_ini_csr = _doktocsr(Gy_ini_sp)"
   ]
  },
  {
   "cell_type": "code",
   "execution_count": 33,
   "metadata": {},
   "outputs": [
    {
     "data": {
      "text/plain": [
       "[170, 170]"
      ]
     },
     "execution_count": 33,
     "metadata": {},
     "output_type": "execute_result"
    }
   ],
   "source": [
    "Gy_ini_csr[3]"
   ]
  },
  {
   "cell_type": "code",
   "execution_count": null,
   "metadata": {},
   "outputs": [],
   "source": []
  },
  {
   "cell_type": "code",
   "execution_count": null,
   "metadata": {},
   "outputs": [],
   "source": []
  },
  {
   "cell_type": "code",
   "execution_count": 42,
   "metadata": {},
   "outputs": [],
   "source": [
    "def getIndex(s, i): \n",
    "  \n",
    "    # If input is invalid. \n",
    "    if s[i] != '(':\n",
    "        return -1\n",
    "  \n",
    "    # Create a deque to use it as a stack. \n",
    "    d = deque() \n",
    "  \n",
    "    # Traverse through all elements \n",
    "    # starting from i. \n",
    "    for k in range(i, len(s)): \n",
    "  \n",
    "        # Pop a starting bracket \n",
    "        # for every closing bracket \n",
    "        if s[k] == ')': \n",
    "            d.popleft() \n",
    "  \n",
    "        # Push all starting brackets \n",
    "        elif s[k] == '(': \n",
    "            d.append(s[i]) \n",
    "  \n",
    "        # If deque becomes empty \n",
    "        if not d: \n",
    "            return k \n",
    "  \n",
    "    return -1\n",
    "  \n",
    "def arg2np(string,function_name):\n",
    "    idx_end = 0\n",
    "    for it in range(3):\n",
    "        if function_name in string[idx_end:]:\n",
    "            #print(string[idx_end:])\n",
    "            idx_ini = string.find(f'{function_name}(',idx_end)+len(f'{function_name}(')\n",
    "            idx_end = getIndex(string, idx_ini-1)\n",
    "            string = string.replace(string[idx_ini:idx_end],f'np.array([{string[idx_ini:idx_end]}])')\n",
    "    else: pass\n",
    "    return string   \n",
    "\n",
    "def arg2cp(string,function_name,i_pwise):\n",
    "    idx_end = 0\n",
    "    for it in range(3):\n",
    "        if function_name in string[idx_end:]:\n",
    "            #print(string[idx_end:])\n",
    "            idx_ini = string.find(f'{function_name}(',idx_end)+len(f'{function_name}(')\n",
    "            idx_end = getIndex(string, idx_ini-1)\n",
    "            string_inline = string.replace(string[idx_ini:idx_end],'pwise[0]').replace(f'{function_name}(','').replace(')','')\n",
    "            string_pwise = string[idx_ini:idx_end]\n",
    "    else: pass\n",
    "    return string_pwise,string_inline "
   ]
  },
  {
   "cell_type": "code",
   "execution_count": 45,
   "metadata": {},
   "outputs": [
    {
     "ename": "ValueError",
     "evalue": "too many values to unpack (expected 2)",
     "output_type": "error",
     "traceback": [
      "\u001b[1;31m---------------------------------------------------------------------------\u001b[0m",
      "\u001b[1;31mValueError\u001b[0m                                Traceback (most recent call last)",
      "\u001b[1;32m<ipython-input-45-f35f4c05e32e>\u001b[0m in \u001b[0;36m<module>\u001b[1;34m\u001b[0m\n\u001b[0;32m      1\u001b[0m \u001b[1;32mfrom\u001b[0m \u001b[0mcollections\u001b[0m \u001b[1;32mimport\u001b[0m \u001b[0mdeque\u001b[0m\u001b[1;33m\u001b[0m\u001b[1;33m\u001b[0m\u001b[0m\n\u001b[0;32m      2\u001b[0m \u001b[1;33m\u001b[0m\u001b[0m\n\u001b[1;32m----> 3\u001b[1;33m \u001b[0mstring_pwise\u001b[0m\u001b[1;33m,\u001b[0m\u001b[0mstring_inline\u001b[0m \u001b[1;33m=\u001b[0m \u001b[0mstr\u001b[0m\u001b[1;33m(\u001b[0m\u001b[0msys\u001b[0m\u001b[1;33m[\u001b[0m\u001b[1;34m'g'\u001b[0m\u001b[1;33m]\u001b[0m\u001b[1;33m[\u001b[0m\u001b[1;33m-\u001b[0m\u001b[1;36m3\u001b[0m\u001b[1;33m]\u001b[0m\u001b[1;33m)\u001b[0m\u001b[1;33m\u001b[0m\u001b[1;33m\u001b[0m\u001b[0m\n\u001b[0m\u001b[0;32m      4\u001b[0m \u001b[0mstring_pwise\u001b[0m\u001b[1;33m\u001b[0m\u001b[1;33m\u001b[0m\u001b[0m\n",
      "\u001b[1;31mValueError\u001b[0m: too many values to unpack (expected 2)"
     ]
    }
   ],
   "source": [
    "from collections import deque \n",
    "\n",
    "string = str(sys['g'][-3])"
   ]
  },
  {
   "cell_type": "code",
   "execution_count": 47,
   "metadata": {},
   "outputs": [],
   "source": [
    "string_pwise,string_inline =  arg2cp(string,'Piecewise',0)\n",
    "string_pwise_list = string_pwise.split(',')"
   ]
  },
  {
   "cell_type": "code",
   "execution_count": 50,
   "metadata": {},
   "outputs": [
    {
     "data": {
      "text/plain": [
       "['-V_lim_4',\n",
       " ' V_lim_4 < -K_stab_4*(T_1_4*(-x_lead_4 + z_wo_4)/T_2_4 + x_lead_4)',\n",
       " '(V_lim_4',\n",
       " ' V_lim_4 < K_stab_4*(T_1_4*(-x_lead_4 + z_wo_4)/T_2_4 + x_lead_4)',\n",
       " '(K_stab_4*(T_1_4*(-x_lead_4 + z_wo_4)/T_2_4 + x_lead_4)',\n",
       " ' True']"
      ]
     },
     "execution_count": 50,
     "metadata": {},
     "output_type": "execute_result"
    }
   ],
   "source": [
    "string_pwise_list\n",
    "\n",
    "for it in range(int(len(string_pwise_list)/2)):\n",
    "    string_pwise_list[2*it] = string_pwise_list[2*it][1:] \n",
    "    string_pwise_list[2*it+1] = string_pwise_list[2*it+1][:-1] \n",
    "    \n",
    "    \n",
    "string_pwise_list    "
   ]
  },
  {
   "cell_type": "code",
   "execution_count": null,
   "metadata": {},
   "outputs": [],
   "source": []
  }
 ],
 "metadata": {
  "kernelspec": {
   "display_name": "Python 3 (ipykernel)",
   "language": "python",
   "name": "python3"
  },
  "language_info": {
   "codemirror_mode": {
    "name": "ipython",
    "version": 3
   },
   "file_extension": ".py",
   "mimetype": "text/x-python",
   "name": "python",
   "nbconvert_exporter": "python",
   "pygments_lexer": "ipython3",
   "version": "3.8.12"
  }
 },
 "nbformat": 4,
 "nbformat_minor": 4
}
