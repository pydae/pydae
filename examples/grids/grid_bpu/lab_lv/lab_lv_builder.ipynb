{
 "cells": [
  {
   "cell_type": "code",
   "execution_count": 1,
   "id": "d3194ede",
   "metadata": {},
   "outputs": [],
   "source": [
    "import numpy as np\n",
    "import sympy as sym\n",
    "import pydae.build as db\n",
    "from pydae.grid_bpu import bpu"
   ]
  },
  {
   "cell_type": "code",
   "execution_count": 2,
   "id": "527379fc",
   "metadata": {},
   "outputs": [],
   "source": [
    "bpu_obj = bpu(data_input='lab_lv.json')\n",
    "\n",
    "g_list = bpu_obj.dae['g'] \n",
    "h_dict = bpu_obj.dae['h_dict']\n",
    "f_list = bpu_obj.dae['f']\n",
    "x_list = bpu_obj.dae['x']\n",
    "params_dict = bpu_obj.dae['params_dict']\n",
    "\n",
    "sys = {'name':'lab_lv',\n",
    "       'params_dict':params_dict,\n",
    "       'f_list':f_list,\n",
    "       'g_list':g_list,\n",
    "       'x_list':x_list,\n",
    "       'y_ini_list':bpu_obj.dae['y_ini'],\n",
    "       'y_run_list':bpu_obj.dae['y_run'],\n",
    "       'u_run_dict':bpu_obj.dae['u_run_dict'],\n",
    "       'u_ini_dict':bpu_obj.dae['u_ini_dict'],\n",
    "       'h_dict':h_dict}\n",
    "\n",
    "sys = db.system(sys)\n",
    "db.sys2num(sys)"
   ]
  },
  {
   "cell_type": "code",
   "execution_count": 3,
   "id": "5e28926c",
   "metadata": {},
   "outputs": [
    {
     "data": {
      "text/latex": [
       "$\\displaystyle \\frac{- k_{cur 08} + \\frac{p_{g ref 08}}{inc_{p gin 08} + p_{gin 0 08}} + \\frac{\\begin{cases} P_{f min 08} & \\text{for}\\: P_{f min 08} > p_{f 08} \\\\P_{f max 08} & \\text{for}\\: P_{f max 08} < p_{f 08} \\\\p_{f 08} & \\text{otherwise} \\end{cases}}{inc_{p gin 08} + p_{gin 0 08}}}{T_{cur 08}}$"
      ],
      "text/plain": [
       "(-k_cur_08 + p_g_ref_08/(inc_p_gin_08 + p_gin_0_08) + Piecewise((P_f_min_08, P_f_min_08 > p_f_08), (P_f_max_08, P_f_max_08 < p_f_08), (p_f_08, True))/(inc_p_gin_08 + p_gin_0_08))/T_cur_08"
      ]
     },
     "execution_count": 3,
     "metadata": {},
     "output_type": "execute_result"
    }
   ],
   "source": [
    "sys['f'][5]"
   ]
  },
  {
   "cell_type": "code",
   "execution_count": null,
   "id": "d8a8a95b",
   "metadata": {},
   "outputs": [],
   "source": []
  }
 ],
 "metadata": {
  "kernelspec": {
   "display_name": "Python 3",
   "language": "python",
   "name": "python3"
  },
  "language_info": {
   "codemirror_mode": {
    "name": "ipython",
    "version": 3
   },
   "file_extension": ".py",
   "mimetype": "text/x-python",
   "name": "python",
   "nbconvert_exporter": "python",
   "pygments_lexer": "ipython3",
   "version": "3.8.11"
  }
 },
 "nbformat": 4,
 "nbformat_minor": 5
}
