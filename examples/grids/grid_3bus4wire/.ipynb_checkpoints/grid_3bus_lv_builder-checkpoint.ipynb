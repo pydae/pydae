{
 "cells": [
  {
   "cell_type": "code",
   "execution_count": 4,
   "metadata": {},
   "outputs": [],
   "source": [
    "import numpy as np\n",
    "from pydgrid.pydgrid import grid\n",
    "from pydgrid.plot_bokeh import plot_results\n",
    "import sympy as sym\n",
    "import pydae.build as db\n",
    "from pydae.models import pydgrid2pydae\n",
    "import json\n",
    "from bokeh.models import ColumnDataSource, HoverTool\n",
    "from bokeh.io import push_notebook\n",
    "from bokeh.plotting import figure\n",
    "from bokeh.resources import INLINE\n",
    "from bokeh.io import output_notebook, show\n"
   ]
  },
  {
   "cell_type": "code",
   "execution_count": 5,
   "metadata": {},
   "outputs": [],
   "source": [
    "data = {\n",
    "        \"buses\":[\n",
    "                 {\"bus\": \"B1\",  \"pos_x\":   0, \"pos_y\":   0, \"units\": \"m\", \"U_kV\":0.4},\n",
    "                 {\"bus\": \"B2\",  \"pos_x\":  10, \"pos_y\":   0, \"units\": \"m\", \"U_kV\":0.4},\n",
    "                 {\"bus\": \"B3\",  \"pos_x\": 100, \"pos_y\":  0, \"units\": \"m\", \"U_kV\":0.4}\n",
    "                ],\n",
    "        \"grid_formers\":[\n",
    "                        {\"bus\": \"B1\",\n",
    "                        \"bus_nodes\": [1, 2, 3], \"deg\": [0, -120, -240],\n",
    "                        \"kV\": [0.231, 0.231, 0.231]},\n",
    "                        {\"bus\": \"B3\",\n",
    "                        \"bus_nodes\": [1, 2, 3], \"deg\": [0, -120, -240],\n",
    "                        \"kV\": [0.231, 0.231, 0.231]}\n",
    "                       ],\n",
    "        \"lines\":[\n",
    "                 {\"bus_j\": \"B1\",  \"bus_k\": \"B2\",  \"code\": \"lv_cu_150\", \"m\": 50.0},\n",
    "                 {\"bus_j\": \"B2\",  \"bus_k\": \"B3\",  \"code\": \"lv_cu_150\", \"m\": 100.0},\n",
    "                ],\n",
    "        \"loads\":[\n",
    "                 {\"bus\": \"B2\" , \"kVA\": [100.0,100.0,300.0], \"pf\":[ 0.85]*3,\"type\":\"3P+N\"}\n",
    "                ],\n",
    "        \"shunts\":[\n",
    "                 {\"bus\": \"B1\" , \"R\": 0.001, \"X\": 0.0, \"bus_nodes\": [4,0]},\n",
    "                 {\"bus\": \"B3\" , \"R\": 0.001, \"X\": 0.0, \"bus_nodes\": [4,0]}\n",
    "                 ],\n",
    "        \"line_codes\":\n",
    "            {\"lv_cu_150\":  {\"Rph\":0.167,\"Xph\":0.08, \"Rn\":0.167, \"Xn\": 0.08}\n",
    "            }\n",
    "       }"
   ]
  },
  {
   "cell_type": "code",
   "execution_count": 6,
   "metadata": {},
   "outputs": [
    {
     "data": {
      "text/html": [
       "\n",
       "\n",
       "\n",
       "\n",
       "\n",
       "\n",
       "  <div class=\"bk-root\" id=\"0d5daef7-096a-4b40-b399-35c5abd9f155\" data-root-id=\"1144\"></div>\n"
      ]
     },
     "metadata": {},
     "output_type": "display_data"
    },
    {
     "data": {
      "application/javascript": [
       "(function(root) {\n",
       "  function embed_document(root) {\n",
       "    \n",
       "  var docs_json = {\"a4647445-b3bc-4d1e-8734-b941158b1b15\":{\"roots\":{\"references\":[{\"attributes\":{\"below\":[{\"id\":\"1155\",\"type\":\"LinearAxis\"}],\"center\":[{\"id\":\"1159\",\"type\":\"Grid\"},{\"id\":\"1164\",\"type\":\"Grid\"}],\"left\":[{\"id\":\"1160\",\"type\":\"LinearAxis\"}],\"plot_height\":400,\"renderers\":[{\"id\":\"1182\",\"type\":\"GlyphRenderer\"},{\"id\":\"1188\",\"type\":\"GlyphRenderer\"},{\"id\":\"1194\",\"type\":\"GlyphRenderer\"}],\"title\":{\"id\":\"1145\",\"type\":\"Title\"},\"toolbar\":{\"id\":\"1171\",\"type\":\"Toolbar\"},\"x_range\":{\"id\":\"1147\",\"type\":\"DataRange1d\"},\"x_scale\":{\"id\":\"1151\",\"type\":\"LinearScale\"},\"y_range\":{\"id\":\"1149\",\"type\":\"DataRange1d\"},\"y_scale\":{\"id\":\"1153\",\"type\":\"LinearScale\"}},\"id\":\"1144\",\"subtype\":\"Figure\",\"type\":\"Plot\"},{\"attributes\":{\"callback\":null,\"renderers\":[{\"id\":\"1182\",\"type\":\"GlyphRenderer\"}],\"tooltips\":\"\\n            <div>\\n            transformer id = @trafo_id  \\n            <table border=\\\"5\\\">\\n                <tr >\\n                    <td>I<sub>1a</sub> =  @i_1a_m &ang; @deg_1a </td>\\n                    <td>I<sub>2a</sub> =  @i_2a_m &ang; @deg_2a </td>\\n                </tr>\\n                <tr>\\n                    <td >I<sub>1b</sub> =  @i_1b_m &ang; @deg_1b </td>\\n                    <td >I<sub>2b</sub> =  @i_2b_m &ang; @deg_2b </td>\\n                </tr>\\n                <tr>\\n                    <td >I<sub>1c</sub> =  @i_1c_m &ang; @deg_1c </td>\\n                    <td >I<sub>2c</sub> =  @i_2c_m &ang; @deg_2c </td>\\n                </tr>\\n                <tr>\\n                    <td >I<sub>1n</sub> =  @i_1n_m &ang; @deg_1n </td>\\n                    <td >I<sub>2n</sub> =  @i_2n_m &ang; @deg_2n </td>\\n                </tr>\\n            </table>            \\n            </div>\\n            \"},\"id\":\"1196\",\"type\":\"HoverTool\"},{\"attributes\":{\"fill_alpha\":{\"value\":0.1},\"fill_color\":{\"value\":\"#1f77b4\"},\"line_alpha\":{\"value\":0.1},\"line_color\":{\"value\":\"#1f77b4\"},\"size\":{\"units\":\"screen\",\"value\":15},\"x\":{\"field\":\"x\"},\"y\":{\"field\":\"y\"}},\"id\":\"1193\",\"type\":\"Circle\"},{\"attributes\":{},\"id\":\"1170\",\"type\":\"HelpTool\"},{\"attributes\":{\"bottom_units\":\"screen\",\"fill_alpha\":{\"value\":0.5},\"fill_color\":{\"value\":\"lightgrey\"},\"left_units\":\"screen\",\"level\":\"overlay\",\"line_alpha\":{\"value\":1.0},\"line_color\":{\"value\":\"black\"},\"line_dash\":[4,4],\"line_width\":{\"value\":2},\"render_mode\":\"css\",\"right_units\":\"screen\",\"top_units\":\"screen\"},\"id\":\"1225\",\"type\":\"BoxAnnotation\"},{\"attributes\":{},\"id\":\"1168\",\"type\":\"SaveTool\"},{\"attributes\":{\"data_source\":{\"id\":\"1190\",\"type\":\"ColumnDataSource\"},\"glyph\":{\"id\":\"1192\",\"type\":\"Circle\"},\"hover_glyph\":null,\"muted_glyph\":null,\"nonselection_glyph\":{\"id\":\"1193\",\"type\":\"Circle\"},\"selection_glyph\":null,\"view\":{\"id\":\"1195\",\"type\":\"CDSView\"}},\"id\":\"1194\",\"type\":\"GlyphRenderer\"},{\"attributes\":{\"source\":{\"id\":\"1178\",\"type\":\"ColumnDataSource\"}},\"id\":\"1183\",\"type\":\"CDSView\"},{\"attributes\":{\"overlay\":{\"id\":\"1225\",\"type\":\"BoxAnnotation\"}},\"id\":\"1167\",\"type\":\"BoxZoomTool\"},{\"attributes\":{},\"id\":\"1224\",\"type\":\"UnionRenderers\"},{\"attributes\":{},\"id\":\"1169\",\"type\":\"ResetTool\"},{\"attributes\":{\"formatter\":{\"id\":\"1215\",\"type\":\"BasicTickFormatter\"},\"ticker\":{\"id\":\"1156\",\"type\":\"BasicTicker\"}},\"id\":\"1155\",\"type\":\"LinearAxis\"},{\"attributes\":{\"callback\":null},\"id\":\"1147\",\"type\":\"DataRange1d\"},{\"attributes\":{\"source\":{\"id\":\"1190\",\"type\":\"ColumnDataSource\"}},\"id\":\"1195\",\"type\":\"CDSView\"},{\"attributes\":{},\"id\":\"1151\",\"type\":\"LinearScale\"},{\"attributes\":{},\"id\":\"1156\",\"type\":\"BasicTicker\"},{\"attributes\":{},\"id\":\"1153\",\"type\":\"LinearScale\"},{\"attributes\":{\"callback\":null,\"renderers\":[{\"id\":\"1194\",\"type\":\"GlyphRenderer\"}],\"tooltips\":\"\\n            <div>\\n            bus_id = @bus_id &nbsp &nbsp |  u<sub>avg</sub>= @u_avg_pu pu |  u<sub>unb</sub>= @v_unb %\\n            <table border=\\\"1\\\">\\n                <tr>\\n                <td>v<sub>an</sub> =  @v_an  &ang; @deg_an V </td> <td> S<sub>a</sub> = @p_a + j@q_a kVA</td>\\n                </tr>\\n                      <tr>\\n                      <td> </td> <td>v<sub>ab</sub>= @v_ab V</td>\\n                      </tr>\\n                <tr>\\n                <td>v<sub>bn</sub> = @v_bn &ang; @deg_bn V </td><td> S<sub>b</sub> = @p_b + j@q_b kVA</td>\\n                </tr>\\n                      <tr>\\n                      <td> </td><td>v<sub>bc</sub>= @v_bc V</td>\\n                      </tr>\\n                <tr>\\n                <td>v<sub>cn</sub>  = @v_cn &ang; @deg_cn V </td>  <td>S<sub>c</sub> = @p_c + j@q_c kVA </td>\\n                </tr> \\n                    <tr>\\n                     <td> </td> <td>v<sub>ca</sub>= @v_ca V</td>\\n                    </tr>\\n               <tr>\\n                <td>v<sub>ng</sub>    = @v_ng &ang; @deg_ng V</td>  <td>S<sub>abc</sub> = @p_abc + j@q_abc kVA </td>\\n              </tr>\\n            </table>\\n            </div>\\n            \"},\"id\":\"1200\",\"type\":\"HoverTool\"},{\"attributes\":{\"ticker\":{\"id\":\"1156\",\"type\":\"BasicTicker\"}},\"id\":\"1159\",\"type\":\"Grid\"},{\"attributes\":{\"data_source\":{\"id\":\"1184\",\"type\":\"ColumnDataSource\"},\"glyph\":{\"id\":\"1186\",\"type\":\"MultiLine\"},\"hover_glyph\":null,\"muted_glyph\":null,\"nonselection_glyph\":{\"id\":\"1187\",\"type\":\"MultiLine\"},\"selection_glyph\":null,\"view\":{\"id\":\"1189\",\"type\":\"CDSView\"}},\"id\":\"1188\",\"type\":\"GlyphRenderer\"},{\"attributes\":{},\"id\":\"1161\",\"type\":\"BasicTicker\"},{\"attributes\":{\"data_source\":{\"id\":\"1178\",\"type\":\"ColumnDataSource\"},\"glyph\":{\"id\":\"1180\",\"type\":\"MultiLine\"},\"hover_glyph\":null,\"muted_glyph\":null,\"nonselection_glyph\":{\"id\":\"1181\",\"type\":\"MultiLine\"},\"selection_glyph\":null,\"view\":{\"id\":\"1183\",\"type\":\"CDSView\"}},\"id\":\"1182\",\"type\":\"GlyphRenderer\"},{\"attributes\":{\"active_drag\":\"auto\",\"active_inspect\":\"auto\",\"active_multi\":null,\"active_scroll\":\"auto\",\"active_tap\":\"auto\",\"tools\":[{\"id\":\"1165\",\"type\":\"PanTool\"},{\"id\":\"1166\",\"type\":\"WheelZoomTool\"},{\"id\":\"1167\",\"type\":\"BoxZoomTool\"},{\"id\":\"1168\",\"type\":\"SaveTool\"},{\"id\":\"1169\",\"type\":\"ResetTool\"},{\"id\":\"1170\",\"type\":\"HelpTool\"},{\"id\":\"1196\",\"type\":\"HoverTool\"},{\"id\":\"1198\",\"type\":\"HoverTool\"},{\"id\":\"1200\",\"type\":\"HoverTool\"}]},\"id\":\"1171\",\"type\":\"Toolbar\"},{\"attributes\":{\"callback\":null,\"data\":{\"deg_1a\":[],\"deg_1b\":[],\"deg_1c\":[],\"deg_1n\":[],\"deg_2a\":[],\"deg_2b\":[],\"deg_2c\":[],\"deg_2n\":[],\"i_1a_m\":[],\"i_1b_m\":[],\"i_1c_m\":[],\"i_1n_m\":[],\"i_2a_m\":[],\"i_2b_m\":[],\"i_2c_m\":[],\"i_2n_m\":[],\"trafo_id\":[],\"x_s\":[],\"y_s\":[]},\"selected\":{\"id\":\"1219\",\"type\":\"Selection\"},\"selection_policy\":{\"id\":\"1220\",\"type\":\"UnionRenderers\"}},\"id\":\"1178\",\"type\":\"ColumnDataSource\"},{\"attributes\":{},\"id\":\"1223\",\"type\":\"Selection\"},{\"attributes\":{},\"id\":\"1215\",\"type\":\"BasicTickFormatter\"},{\"attributes\":{},\"id\":\"1221\",\"type\":\"Selection\"},{\"attributes\":{\"dimension\":1,\"ticker\":{\"id\":\"1161\",\"type\":\"BasicTicker\"}},\"id\":\"1164\",\"type\":\"Grid\"},{\"attributes\":{\"line_alpha\":{\"value\":0.1},\"line_color\":{\"value\":\"#1f77b4\"},\"line_width\":{\"value\":5},\"xs\":{\"field\":\"x_s\"},\"ys\":{\"field\":\"y_s\"}},\"id\":\"1187\",\"type\":\"MultiLine\"},{\"attributes\":{},\"id\":\"1220\",\"type\":\"UnionRenderers\"},{\"attributes\":{\"callback\":null,\"data\":{\"deg_j_a\":[-33.139472680743204,146.8605273192568],\"deg_j_b\":[-150.50952472247891,29.490475277521085],\"deg_j_c\":[88.66055105439267,-91.33944894560733],\"deg_j_n\":[-90.84952120442159,87.99018720380555],\"deg_k_a\":[-33.139472680743204,146.8605273192568],\"deg_k_b\":[-150.50952472247891,29.490475277521085],\"deg_k_c\":[88.66055105439267,-91.33944894560733],\"deg_k_n\":[-90.84952120442159,87.99018720380555],\"i_j_a_m\":[288.86268658442924,144.43134329221462],\"i_j_b_m\":[287.0617547732187,143.53087738660935],\"i_j_c_m\":[924.7169519608443,462.35847598042216],\"i_j_n_m\":[615.7391208341461,322.3789050192516],\"i_k_a_m\":[288.86268658442924,144.43134329221462],\"i_k_b_m\":[287.0617547732187,143.53087738660935],\"i_k_c_m\":[924.7169519608443,462.35847598042216],\"i_k_n_m\":[615.7391208341461,322.3789050192516],\"line_id\":[\"B1-B2\",\"B2-B3\"],\"x_s\":[[0,10],[10,100]],\"y_s\":[[0,0],[0,0]]},\"selected\":{\"id\":\"1221\",\"type\":\"Selection\"},\"selection_policy\":{\"id\":\"1222\",\"type\":\"UnionRenderers\"}},\"id\":\"1184\",\"type\":\"ColumnDataSource\"},{\"attributes\":{\"source\":{\"id\":\"1184\",\"type\":\"ColumnDataSource\"}},\"id\":\"1189\",\"type\":\"CDSView\"},{\"attributes\":{},\"id\":\"1217\",\"type\":\"BasicTickFormatter\"},{\"attributes\":{\"line_alpha\":{\"value\":0.1},\"line_color\":{\"value\":\"#1f77b4\"},\"line_width\":{\"value\":5},\"xs\":{\"field\":\"x_s\"},\"ys\":{\"field\":\"y_s\"}},\"id\":\"1181\",\"type\":\"MultiLine\"},{\"attributes\":{\"callback\":null,\"renderers\":[{\"id\":\"1188\",\"type\":\"GlyphRenderer\"}],\"tooltips\":\"\\n            <div>\\n            line id = @line_id \\n            <table border=\\\"5\\\">\\n                <tr >\\n                    <td>I<sub>ja</sub> =  @i_j_a_m &ang; @deg_j_a </td>\\n                    <td>I<sub>ka</sub> =  @i_k_a_m &ang; @deg_k_a </td>\\n                </tr>\\n                <tr>\\n                    <td >I<sub>jb</sub> =  @i_j_b_m &ang; @deg_j_b </td>\\n                    <td >I<sub>kb</sub> =  @i_k_b_m &ang; @deg_k_b </td>\\n                </tr>\\n                <tr>\\n                    <td >I<sub>jc</sub> =  @i_j_c_m &ang; @deg_j_c </td>\\n                    <td >I<sub>kc</sub> =  @i_k_c_m &ang; @deg_k_c </td>\\n                </tr>\\n                <tr>\\n                    <td >I<sub>jn</sub> =  @i_j_n_m &ang; @deg_j_n </td>\\n                    <td >I<sub>kn</sub> =  @i_k_n_m &ang; @deg_k_n </td>\\n                </tr>\\n            </table>            \\n            </div>\\n            \"},\"id\":\"1198\",\"type\":\"HoverTool\"},{\"attributes\":{\"callback\":null},\"id\":\"1149\",\"type\":\"DataRange1d\"},{\"attributes\":{\"line_alpha\":{\"value\":0.5},\"line_color\":{\"value\":\"green\"},\"line_width\":{\"value\":5},\"xs\":{\"field\":\"x_s\"},\"ys\":{\"field\":\"y_s\"}},\"id\":\"1180\",\"type\":\"MultiLine\"},{\"attributes\":{\"callback\":null,\"data\":{\"bus_id\":[\"B1\",\"B2\",\"B3\"],\"deg_an\":[\"-0.15\",\"-1.35\",\"-0.08\"],\"deg_bn\":[\"-119.93\",\"-118.72\",\"-119.96\"],\"deg_cn\":[\"120.08\",\"120.45\",\"120.04\"],\"deg_ng\":[\"89.15\",\"112.31\",\"87.99\"],\"p_a\":[\"55.97\",\"-85.00\",\"27.96\"],\"p_abc\":[\"295.06\",\"-425.00\",\"147.62\"],\"p_b\":[\"57.22\",\"-85.00\",\"28.59\"],\"p_c\":[\"181.87\",\"-255.00\",\"91.07\"],\"q_a\":[\"36.33\",\"-52.68\",\"18.20\"],\"q_abc\":[\"181.24\",\"-263.39\",\"90.62\"],\"q_b\":[\"33.82\",\"-52.68\",\"16.87\"],\"q_c\":[\"111.10\",\"-158.03\",\"55.55\"],\"s_color\":[\"red\",\"green\",\"red\"],\"s_radio\":[5.8845608968376295,7.071067811729393,4.161969009720262],\"u_avg_pu\":[\"1.000\",\"0.981\",\"1.000\"],\"v_ab\":[400.1037365484106,395.5763942213756,400.1037365484106],\"v_an\":[\"230.99\",\"230.79\",\"230.99\"],\"v_an_pu\":[\"1.0002\",\"0.9994\",\"1.0002\"],\"v_bc\":[400.1037365484106,390.12365072849445,400.1037365484106],\"v_bn\":[\"231.54\",\"232.24\",\"231.28\"],\"v_bn_pu\":[\"1.0026\",\"1.0056\",\"1.0015\"],\"v_ca\":[400.1037365484107,390.70334449478787,400.1037365484107],\"v_cn\":[\"230.47\",\"216.28\",\"230.73\"],\"v_cn_pu\":[\"0.9980\",\"0.9365\",\"0.9991\"],\"v_ng\":[\"0.62\",\"6.26\",\"0.32\"],\"v_unb\":[\"0.2\",\"4.5\",\"0.1\"],\"x\":[0,10,100],\"y\":[0,0,0]},\"selected\":{\"id\":\"1223\",\"type\":\"Selection\"},\"selection_policy\":{\"id\":\"1224\",\"type\":\"UnionRenderers\"}},\"id\":\"1190\",\"type\":\"ColumnDataSource\"},{\"attributes\":{},\"id\":\"1219\",\"type\":\"Selection\"},{\"attributes\":{},\"id\":\"1222\",\"type\":\"UnionRenderers\"},{\"attributes\":{},\"id\":\"1166\",\"type\":\"WheelZoomTool\"},{\"attributes\":{\"fill_alpha\":{\"value\":0.5},\"fill_color\":{\"value\":\"navy\"},\"line_alpha\":{\"value\":0.5},\"line_color\":{\"value\":\"navy\"},\"size\":{\"units\":\"screen\",\"value\":15},\"x\":{\"field\":\"x\"},\"y\":{\"field\":\"y\"}},\"id\":\"1192\",\"type\":\"Circle\"},{\"attributes\":{\"formatter\":{\"id\":\"1217\",\"type\":\"BasicTickFormatter\"},\"ticker\":{\"id\":\"1161\",\"type\":\"BasicTicker\"}},\"id\":\"1160\",\"type\":\"LinearAxis\"},{\"attributes\":{},\"id\":\"1165\",\"type\":\"PanTool\"},{\"attributes\":{\"text\":\"Results\"},\"id\":\"1145\",\"type\":\"Title\"},{\"attributes\":{\"line_alpha\":{\"value\":0.5},\"line_color\":{\"value\":\"red\"},\"line_width\":{\"value\":5},\"xs\":{\"field\":\"x_s\"},\"ys\":{\"field\":\"y_s\"}},\"id\":\"1186\",\"type\":\"MultiLine\"}],\"root_ids\":[\"1144\"]},\"title\":\"Bokeh Application\",\"version\":\"1.4.0\"}};\n",
       "  var render_items = [{\"docid\":\"a4647445-b3bc-4d1e-8734-b941158b1b15\",\"roots\":{\"1144\":\"0d5daef7-096a-4b40-b399-35c5abd9f155\"}}];\n",
       "  root.Bokeh.embed.embed_items_notebook(docs_json, render_items);\n",
       "\n",
       "  }\n",
       "  if (root.Bokeh !== undefined) {\n",
       "    embed_document(root);\n",
       "  } else {\n",
       "    var attempts = 0;\n",
       "    var timer = setInterval(function(root) {\n",
       "      if (root.Bokeh !== undefined) {\n",
       "        clearInterval(timer);\n",
       "        embed_document(root);\n",
       "      } else {\n",
       "        attempts++;\n",
       "        if (attempts > 100) {\n",
       "          clearInterval(timer);\n",
       "          console.log(\"Bokeh: ERROR: Unable to run BokehJS code because BokehJS library is missing\");\n",
       "        }\n",
       "      }\n",
       "    }, 10, root)\n",
       "  }\n",
       "})(window);"
      ],
      "application/vnd.bokehjs_exec.v0+json": ""
     },
     "metadata": {
      "application/vnd.bokehjs_exec.v0+json": {
       "id": "1144"
      }
     },
     "output_type": "display_data"
    }
   ],
   "source": [
    "grid_1 = grid()\n",
    "grid_1.read(data)  # Load data\n",
    "grid_1.pf()  # solve power flow\n",
    "p=plot_results(grid_1)\n",
    "\n"
   ]
  },
  {
   "cell_type": "code",
   "execution_count": 7,
   "metadata": {},
   "outputs": [
    {
     "name": "stdout",
     "output_type": "stream",
     "text": [
      "system without dynamic equations, adding dummy dynamic equation\n"
     ]
    }
   ],
   "source": [
    "grid_dict = pydgrid2pydae(grid_1)\n",
    "params_dict  = grid_dict['params']\n",
    "f_list = grid_dict['f']\n",
    "x_list = grid_dict['x']\n",
    "g_list = grid_dict['g']\n",
    "y_list = grid_dict['y']\n",
    "u_dict = grid_dict['u']\n",
    "a = sym.Symbol('a')\n",
    "h_dict = grid_dict['h_v_m_dict']\n",
    "\n",
    "sys_dict = {'name':'grid_3bus_lv',\n",
    "           'params_dict':params_dict,\n",
    "           'f_list':f_list,\n",
    "           'g_list':g_list,\n",
    "           'x_list':x_list,\n",
    "           'y_ini_list':y_list,\n",
    "           'y_run_list':y_list,\n",
    "           'u_run_dict':u_dict,\n",
    "           'u_ini_dict':u_dict,\n",
    "           'h_dict':h_dict\n",
    "           }\n",
    "\n",
    "db.system(sys_dict)\n",
    "db.sys2num(sys_dict)\n",
    "\n",
    "data = json.dumps(grid_dict['xy_0_dict'], indent=4)\n",
    "fobj = open(\"xy_0_dict.json\",\"w\")\n",
    "fobj.write(data)\n",
    "fobj.close()"
   ]
  }
 ],
 "metadata": {
  "kernelspec": {
   "display_name": "Python 3",
   "language": "python",
   "name": "python3"
  },
  "language_info": {
   "codemirror_mode": {
    "name": "ipython",
    "version": 3
   },
   "file_extension": ".py",
   "mimetype": "text/x-python",
   "name": "python",
   "nbconvert_exporter": "python",
   "pygments_lexer": "ipython3",
   "version": "3.7.9"
  }
 },
 "nbformat": 4,
 "nbformat_minor": 4
}
