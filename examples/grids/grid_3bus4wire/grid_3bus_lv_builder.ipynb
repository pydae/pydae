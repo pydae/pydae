{
 "cells": [
  {
   "cell_type": "code",
   "execution_count": 10,
   "metadata": {},
   "outputs": [],
   "source": [
    "import numpy as np\n",
    "from pydgrid.pydgrid import grid\n",
    "from pydgrid.plot_bokeh import plot_results\n",
    "import sympy as sym\n",
    "import pydae.build as db\n",
    "import json"
   ]
  },
  {
   "cell_type": "code",
   "execution_count": 29,
   "metadata": {},
   "outputs": [],
   "source": [
    "data = {\n",
    "        \"buses\":[\n",
    "                 {\"bus\": \"B1\",  \"pos_x\":   0, \"pos_y\":   0, \"units\": \"m\", \"U_kV\":0.4},\n",
    "                 {\"bus\": \"B2\",  \"pos_x\":  10, \"pos_y\":   0, \"units\": \"m\", \"U_kV\":0.4},\n",
    "                 {\"bus\": \"B3\",  \"pos_x\": 100, \"pos_y\":  0, \"units\": \"m\", \"U_kV\":0.4}\n",
    "                ],\n",
    "        \"grid_formers\":[\n",
    "                        {\"bus\": \"B1\",\n",
    "                        \"bus_nodes\": [1, 2, 3], \"deg\": [0, -120, -240],\n",
    "                        \"kV\": [0.231, 0.231, 0.231]},\n",
    "                        {\"bus\": \"B3\",\n",
    "                        \"bus_nodes\": [1, 2, 3], \"deg\": [0, -120, -240],\n",
    "                        \"kV\": [0.231, 0.231, 0.231]}\n",
    "                       ],\n",
    "        \"lines\":[\n",
    "                 {\"bus_j\": \"B1\",  \"bus_k\": \"B2\",  \"code\": \"lv_cu_150\", \"m\": 50.0},\n",
    "                 {\"bus_j\": \"B2\",  \"bus_k\": \"B3\",  \"code\": \"lv_cu_150\", \"m\": 100.0},\n",
    "                ],\n",
    "        \"loads\":[\n",
    "                 {\"bus\": \"B2\" , \"kVA\": [100.0,100.0,300.0], \"pf\":[ 0.85]*3,\"type\":\"3P+N\"}\n",
    "                ],\n",
    "        \"shunts\":[\n",
    "                 {\"bus\": \"B1\" , \"R\": 0.001, \"X\": 0.0, \"bus_nodes\": [4,0]},\n",
    "                 {\"bus\": \"B3\" , \"R\": 0.001, \"X\": 0.0, \"bus_nodes\": [4,0]}\n",
    "                 ],\n",
    "        \"line_codes\":\n",
    "            {\"lv_cu_150\":  {\"Rph\":0.167,\"Xph\":0.08, \"Rn\":0.167, \"Xn\": 0.08}\n",
    "            }\n",
    "       }"
   ]
  },
  {
   "cell_type": "code",
   "execution_count": 30,
   "metadata": {},
   "outputs": [
    {
     "data": {
      "text/html": [
       "\n",
       "\n",
       "\n",
       "\n",
       "\n",
       "\n",
       "  <div class=\"bk-root\" id=\"1e97d337-92b5-4b98-b8b0-2e3064576eb1\" data-root-id=\"1464\"></div>\n"
      ]
     },
     "metadata": {},
     "output_type": "display_data"
    },
    {
     "data": {
      "application/javascript": [
       "(function(root) {\n",
       "  function embed_document(root) {\n",
       "    \n",
       "  var docs_json = {\"27768435-9416-4614-ae7e-752d44019260\":{\"roots\":{\"references\":[{\"attributes\":{\"below\":[{\"id\":\"1475\",\"type\":\"LinearAxis\"}],\"center\":[{\"id\":\"1479\",\"type\":\"Grid\"},{\"id\":\"1484\",\"type\":\"Grid\"}],\"left\":[{\"id\":\"1480\",\"type\":\"LinearAxis\"}],\"plot_height\":400,\"renderers\":[{\"id\":\"1502\",\"type\":\"GlyphRenderer\"},{\"id\":\"1508\",\"type\":\"GlyphRenderer\"},{\"id\":\"1514\",\"type\":\"GlyphRenderer\"}],\"title\":{\"id\":\"1465\",\"type\":\"Title\"},\"toolbar\":{\"id\":\"1491\",\"type\":\"Toolbar\"},\"x_range\":{\"id\":\"1467\",\"type\":\"DataRange1d\"},\"x_scale\":{\"id\":\"1471\",\"type\":\"LinearScale\"},\"y_range\":{\"id\":\"1469\",\"type\":\"DataRange1d\"},\"y_scale\":{\"id\":\"1473\",\"type\":\"LinearScale\"}},\"id\":\"1464\",\"subtype\":\"Figure\",\"type\":\"Plot\"},{\"attributes\":{\"source\":{\"id\":\"1504\",\"type\":\"ColumnDataSource\"}},\"id\":\"1509\",\"type\":\"CDSView\"},{\"attributes\":{},\"id\":\"1562\",\"type\":\"BasicTickFormatter\"},{\"attributes\":{},\"id\":\"1486\",\"type\":\"WheelZoomTool\"},{\"attributes\":{\"callback\":null,\"renderers\":[{\"id\":\"1502\",\"type\":\"GlyphRenderer\"}],\"tooltips\":\"\\n            <div>\\n            transformer id = @trafo_id  \\n            <table border=\\\"5\\\">\\n                <tr >\\n                    <td>I<sub>1a</sub> =  @i_1a_m &ang; @deg_1a </td>\\n                    <td>I<sub>2a</sub> =  @i_2a_m &ang; @deg_2a </td>\\n                </tr>\\n                <tr>\\n                    <td >I<sub>1b</sub> =  @i_1b_m &ang; @deg_1b </td>\\n                    <td >I<sub>2b</sub> =  @i_2b_m &ang; @deg_2b </td>\\n                </tr>\\n                <tr>\\n                    <td >I<sub>1c</sub> =  @i_1c_m &ang; @deg_1c </td>\\n                    <td >I<sub>2c</sub> =  @i_2c_m &ang; @deg_2c </td>\\n                </tr>\\n                <tr>\\n                    <td >I<sub>1n</sub> =  @i_1n_m &ang; @deg_1n </td>\\n                    <td >I<sub>2n</sub> =  @i_2n_m &ang; @deg_2n </td>\\n                </tr>\\n            </table>            \\n            </div>\\n            \"},\"id\":\"1516\",\"type\":\"HoverTool\"},{\"attributes\":{\"source\":{\"id\":\"1510\",\"type\":\"ColumnDataSource\"}},\"id\":\"1515\",\"type\":\"CDSView\"},{\"attributes\":{\"bottom_units\":\"screen\",\"fill_alpha\":{\"value\":0.5},\"fill_color\":{\"value\":\"lightgrey\"},\"left_units\":\"screen\",\"level\":\"overlay\",\"line_alpha\":{\"value\":1.0},\"line_color\":{\"value\":\"black\"},\"line_dash\":[4,4],\"line_width\":{\"value\":2},\"render_mode\":\"css\",\"right_units\":\"screen\",\"top_units\":\"screen\"},\"id\":\"1569\",\"type\":\"BoxAnnotation\"},{\"attributes\":{\"line_alpha\":{\"value\":0.5},\"line_color\":{\"value\":\"red\"},\"line_width\":{\"value\":5},\"xs\":{\"field\":\"x_s\"},\"ys\":{\"field\":\"y_s\"}},\"id\":\"1506\",\"type\":\"MultiLine\"},{\"attributes\":{\"formatter\":{\"id\":\"1560\",\"type\":\"BasicTickFormatter\"},\"ticker\":{\"id\":\"1476\",\"type\":\"BasicTicker\"}},\"id\":\"1475\",\"type\":\"LinearAxis\"},{\"attributes\":{\"source\":{\"id\":\"1498\",\"type\":\"ColumnDataSource\"}},\"id\":\"1503\",\"type\":\"CDSView\"},{\"attributes\":{},\"id\":\"1481\",\"type\":\"BasicTicker\"},{\"attributes\":{\"fill_alpha\":{\"value\":0.1},\"fill_color\":{\"value\":\"#1f77b4\"},\"line_alpha\":{\"value\":0.1},\"line_color\":{\"value\":\"#1f77b4\"},\"size\":{\"units\":\"screen\",\"value\":15},\"x\":{\"field\":\"x\"},\"y\":{\"field\":\"y\"}},\"id\":\"1513\",\"type\":\"Circle\"},{\"attributes\":{\"callback\":null,\"renderers\":[{\"id\":\"1508\",\"type\":\"GlyphRenderer\"}],\"tooltips\":\"\\n            <div>\\n            line id = @line_id \\n            <table border=\\\"5\\\">\\n                <tr >\\n                    <td>I<sub>ja</sub> =  @i_j_a_m &ang; @deg_j_a </td>\\n                    <td>I<sub>ka</sub> =  @i_k_a_m &ang; @deg_k_a </td>\\n                </tr>\\n                <tr>\\n                    <td >I<sub>jb</sub> =  @i_j_b_m &ang; @deg_j_b </td>\\n                    <td >I<sub>kb</sub> =  @i_k_b_m &ang; @deg_k_b </td>\\n                </tr>\\n                <tr>\\n                    <td >I<sub>jc</sub> =  @i_j_c_m &ang; @deg_j_c </td>\\n                    <td >I<sub>kc</sub> =  @i_k_c_m &ang; @deg_k_c </td>\\n                </tr>\\n                <tr>\\n                    <td >I<sub>jn</sub> =  @i_j_n_m &ang; @deg_j_n </td>\\n                    <td >I<sub>kn</sub> =  @i_k_n_m &ang; @deg_k_n </td>\\n                </tr>\\n            </table>            \\n            </div>\\n            \"},\"id\":\"1518\",\"type\":\"HoverTool\"},{\"attributes\":{\"data_source\":{\"id\":\"1504\",\"type\":\"ColumnDataSource\"},\"glyph\":{\"id\":\"1506\",\"type\":\"MultiLine\"},\"hover_glyph\":null,\"muted_glyph\":null,\"nonselection_glyph\":{\"id\":\"1507\",\"type\":\"MultiLine\"},\"selection_glyph\":null,\"view\":{\"id\":\"1509\",\"type\":\"CDSView\"}},\"id\":\"1508\",\"type\":\"GlyphRenderer\"},{\"attributes\":{},\"id\":\"1490\",\"type\":\"HelpTool\"},{\"attributes\":{},\"id\":\"1485\",\"type\":\"PanTool\"},{\"attributes\":{},\"id\":\"1565\",\"type\":\"Selection\"},{\"attributes\":{},\"id\":\"1563\",\"type\":\"Selection\"},{\"attributes\":{\"data_source\":{\"id\":\"1498\",\"type\":\"ColumnDataSource\"},\"glyph\":{\"id\":\"1500\",\"type\":\"MultiLine\"},\"hover_glyph\":null,\"muted_glyph\":null,\"nonselection_glyph\":{\"id\":\"1501\",\"type\":\"MultiLine\"},\"selection_glyph\":null,\"view\":{\"id\":\"1503\",\"type\":\"CDSView\"}},\"id\":\"1502\",\"type\":\"GlyphRenderer\"},{\"attributes\":{\"dimension\":1,\"ticker\":{\"id\":\"1481\",\"type\":\"BasicTicker\"}},\"id\":\"1484\",\"type\":\"Grid\"},{\"attributes\":{\"data_source\":{\"id\":\"1510\",\"type\":\"ColumnDataSource\"},\"glyph\":{\"id\":\"1512\",\"type\":\"Circle\"},\"hover_glyph\":null,\"muted_glyph\":null,\"nonselection_glyph\":{\"id\":\"1513\",\"type\":\"Circle\"},\"selection_glyph\":null,\"view\":{\"id\":\"1515\",\"type\":\"CDSView\"}},\"id\":\"1514\",\"type\":\"GlyphRenderer\"},{\"attributes\":{},\"id\":\"1560\",\"type\":\"BasicTickFormatter\"},{\"attributes\":{\"callback\":null},\"id\":\"1469\",\"type\":\"DataRange1d\"},{\"attributes\":{\"active_drag\":\"auto\",\"active_inspect\":\"auto\",\"active_multi\":null,\"active_scroll\":\"auto\",\"active_tap\":\"auto\",\"tools\":[{\"id\":\"1485\",\"type\":\"PanTool\"},{\"id\":\"1486\",\"type\":\"WheelZoomTool\"},{\"id\":\"1487\",\"type\":\"BoxZoomTool\"},{\"id\":\"1488\",\"type\":\"SaveTool\"},{\"id\":\"1489\",\"type\":\"ResetTool\"},{\"id\":\"1490\",\"type\":\"HelpTool\"},{\"id\":\"1516\",\"type\":\"HoverTool\"},{\"id\":\"1518\",\"type\":\"HoverTool\"},{\"id\":\"1520\",\"type\":\"HoverTool\"}]},\"id\":\"1491\",\"type\":\"Toolbar\"},{\"attributes\":{\"callback\":null,\"data\":{\"deg_1a\":[],\"deg_1b\":[],\"deg_1c\":[],\"deg_1n\":[],\"deg_2a\":[],\"deg_2b\":[],\"deg_2c\":[],\"deg_2n\":[],\"i_1a_m\":[],\"i_1b_m\":[],\"i_1c_m\":[],\"i_1n_m\":[],\"i_2a_m\":[],\"i_2b_m\":[],\"i_2c_m\":[],\"i_2n_m\":[],\"trafo_id\":[],\"x_s\":[],\"y_s\":[]},\"selected\":{\"id\":\"1563\",\"type\":\"Selection\"},\"selection_policy\":{\"id\":\"1564\",\"type\":\"UnionRenderers\"}},\"id\":\"1498\",\"type\":\"ColumnDataSource\"},{\"attributes\":{\"formatter\":{\"id\":\"1562\",\"type\":\"BasicTickFormatter\"},\"ticker\":{\"id\":\"1481\",\"type\":\"BasicTicker\"}},\"id\":\"1480\",\"type\":\"LinearAxis\"},{\"attributes\":{\"callback\":null,\"data\":{\"bus_id\":[\"B1\",\"B2\",\"B3\"],\"deg_an\":[\"-0.15\",\"-1.35\",\"-0.08\"],\"deg_bn\":[\"-119.93\",\"-118.72\",\"-119.96\"],\"deg_cn\":[\"120.08\",\"120.45\",\"120.04\"],\"deg_ng\":[\"89.15\",\"112.31\",\"87.99\"],\"p_a\":[\"55.97\",\"-85.00\",\"27.96\"],\"p_abc\":[\"295.06\",\"-425.00\",\"147.62\"],\"p_b\":[\"57.22\",\"-85.00\",\"28.59\"],\"p_c\":[\"181.87\",\"-255.00\",\"91.07\"],\"q_a\":[\"36.33\",\"-52.68\",\"18.20\"],\"q_abc\":[\"181.24\",\"-263.39\",\"90.62\"],\"q_b\":[\"33.82\",\"-52.68\",\"16.87\"],\"q_c\":[\"111.10\",\"-158.03\",\"55.55\"],\"s_color\":[\"red\",\"green\",\"red\"],\"s_radio\":[5.8845608968376295,7.071067811729393,4.161969009720262],\"u_avg_pu\":[\"1.000\",\"0.981\",\"1.000\"],\"v_ab\":[400.1037365484106,395.5763942213756,400.1037365484106],\"v_an\":[\"230.99\",\"230.79\",\"230.99\"],\"v_an_pu\":[\"1.0002\",\"0.9994\",\"1.0002\"],\"v_bc\":[400.1037365484106,390.12365072849445,400.1037365484106],\"v_bn\":[\"231.54\",\"232.24\",\"231.28\"],\"v_bn_pu\":[\"1.0026\",\"1.0056\",\"1.0015\"],\"v_ca\":[400.1037365484107,390.70334449478787,400.1037365484107],\"v_cn\":[\"230.47\",\"216.28\",\"230.73\"],\"v_cn_pu\":[\"0.9980\",\"0.9365\",\"0.9991\"],\"v_ng\":[\"0.62\",\"6.26\",\"0.32\"],\"v_unb\":[\"0.2\",\"4.5\",\"0.1\"],\"x\":[0,10,100],\"y\":[0,0,0]},\"selected\":{\"id\":\"1567\",\"type\":\"Selection\"},\"selection_policy\":{\"id\":\"1568\",\"type\":\"UnionRenderers\"}},\"id\":\"1510\",\"type\":\"ColumnDataSource\"},{\"attributes\":{\"overlay\":{\"id\":\"1569\",\"type\":\"BoxAnnotation\"}},\"id\":\"1487\",\"type\":\"BoxZoomTool\"},{\"attributes\":{},\"id\":\"1566\",\"type\":\"UnionRenderers\"},{\"attributes\":{},\"id\":\"1473\",\"type\":\"LinearScale\"},{\"attributes\":{},\"id\":\"1568\",\"type\":\"UnionRenderers\"},{\"attributes\":{\"text\":\"Results\"},\"id\":\"1465\",\"type\":\"Title\"},{\"attributes\":{},\"id\":\"1471\",\"type\":\"LinearScale\"},{\"attributes\":{\"ticker\":{\"id\":\"1476\",\"type\":\"BasicTicker\"}},\"id\":\"1479\",\"type\":\"Grid\"},{\"attributes\":{\"line_alpha\":{\"value\":0.5},\"line_color\":{\"value\":\"green\"},\"line_width\":{\"value\":5},\"xs\":{\"field\":\"x_s\"},\"ys\":{\"field\":\"y_s\"}},\"id\":\"1500\",\"type\":\"MultiLine\"},{\"attributes\":{},\"id\":\"1564\",\"type\":\"UnionRenderers\"},{\"attributes\":{\"line_alpha\":{\"value\":0.1},\"line_color\":{\"value\":\"#1f77b4\"},\"line_width\":{\"value\":5},\"xs\":{\"field\":\"x_s\"},\"ys\":{\"field\":\"y_s\"}},\"id\":\"1507\",\"type\":\"MultiLine\"},{\"attributes\":{\"line_alpha\":{\"value\":0.1},\"line_color\":{\"value\":\"#1f77b4\"},\"line_width\":{\"value\":5},\"xs\":{\"field\":\"x_s\"},\"ys\":{\"field\":\"y_s\"}},\"id\":\"1501\",\"type\":\"MultiLine\"},{\"attributes\":{\"callback\":null,\"data\":{\"deg_j_a\":[-33.139472680743204,146.8605273192568],\"deg_j_b\":[-150.50952472247891,29.490475277521085],\"deg_j_c\":[88.66055105439267,-91.33944894560733],\"deg_j_n\":[-90.84952120442159,87.99018720380555],\"deg_k_a\":[-33.139472680743204,146.8605273192568],\"deg_k_b\":[-150.50952472247891,29.490475277521085],\"deg_k_c\":[88.66055105439267,-91.33944894560733],\"deg_k_n\":[-90.84952120442159,87.99018720380555],\"i_j_a_m\":[288.86268658442924,144.43134329221462],\"i_j_b_m\":[287.0617547732187,143.53087738660935],\"i_j_c_m\":[924.7169519608443,462.35847598042216],\"i_j_n_m\":[615.7391208341461,322.3789050192516],\"i_k_a_m\":[288.86268658442924,144.43134329221462],\"i_k_b_m\":[287.0617547732187,143.53087738660935],\"i_k_c_m\":[924.7169519608443,462.35847598042216],\"i_k_n_m\":[615.7391208341461,322.3789050192516],\"line_id\":[\"B1-B2\",\"B2-B3\"],\"x_s\":[[0,10],[10,100]],\"y_s\":[[0,0],[0,0]]},\"selected\":{\"id\":\"1565\",\"type\":\"Selection\"},\"selection_policy\":{\"id\":\"1566\",\"type\":\"UnionRenderers\"}},\"id\":\"1504\",\"type\":\"ColumnDataSource\"},{\"attributes\":{},\"id\":\"1488\",\"type\":\"SaveTool\"},{\"attributes\":{\"callback\":null,\"renderers\":[{\"id\":\"1514\",\"type\":\"GlyphRenderer\"}],\"tooltips\":\"\\n            <div>\\n            bus_id = @bus_id &nbsp &nbsp |  u<sub>avg</sub>= @u_avg_pu pu |  u<sub>unb</sub>= @v_unb %\\n            <table border=\\\"1\\\">\\n                <tr>\\n                <td>v<sub>an</sub> =  @v_an  &ang; @deg_an V </td> <td> S<sub>a</sub> = @p_a + j@q_a kVA</td>\\n                </tr>\\n                      <tr>\\n                      <td> </td> <td>v<sub>ab</sub>= @v_ab V</td>\\n                      </tr>\\n                <tr>\\n                <td>v<sub>bn</sub> = @v_bn &ang; @deg_bn V </td><td> S<sub>b</sub> = @p_b + j@q_b kVA</td>\\n                </tr>\\n                      <tr>\\n                      <td> </td><td>v<sub>bc</sub>= @v_bc V</td>\\n                      </tr>\\n                <tr>\\n                <td>v<sub>cn</sub>  = @v_cn &ang; @deg_cn V </td>  <td>S<sub>c</sub> = @p_c + j@q_c kVA </td>\\n                </tr> \\n                    <tr>\\n                     <td> </td> <td>v<sub>ca</sub>= @v_ca V</td>\\n                    </tr>\\n               <tr>\\n                <td>v<sub>ng</sub>    = @v_ng &ang; @deg_ng V</td>  <td>S<sub>abc</sub> = @p_abc + j@q_abc kVA </td>\\n              </tr>\\n            </table>\\n            </div>\\n            \"},\"id\":\"1520\",\"type\":\"HoverTool\"},{\"attributes\":{\"fill_alpha\":{\"value\":0.5},\"fill_color\":{\"value\":\"navy\"},\"line_alpha\":{\"value\":0.5},\"line_color\":{\"value\":\"navy\"},\"size\":{\"units\":\"screen\",\"value\":15},\"x\":{\"field\":\"x\"},\"y\":{\"field\":\"y\"}},\"id\":\"1512\",\"type\":\"Circle\"},{\"attributes\":{},\"id\":\"1489\",\"type\":\"ResetTool\"},{\"attributes\":{},\"id\":\"1567\",\"type\":\"Selection\"},{\"attributes\":{},\"id\":\"1476\",\"type\":\"BasicTicker\"},{\"attributes\":{\"callback\":null},\"id\":\"1467\",\"type\":\"DataRange1d\"}],\"root_ids\":[\"1464\"]},\"title\":\"Bokeh Application\",\"version\":\"1.4.0\"}};\n",
       "  var render_items = [{\"docid\":\"27768435-9416-4614-ae7e-752d44019260\",\"roots\":{\"1464\":\"1e97d337-92b5-4b98-b8b0-2e3064576eb1\"}}];\n",
       "  root.Bokeh.embed.embed_items_notebook(docs_json, render_items);\n",
       "\n",
       "  }\n",
       "  if (root.Bokeh !== undefined) {\n",
       "    embed_document(root);\n",
       "  } else {\n",
       "    var attempts = 0;\n",
       "    var timer = setInterval(function(root) {\n",
       "      if (root.Bokeh !== undefined) {\n",
       "        clearInterval(timer);\n",
       "        embed_document(root);\n",
       "      } else {\n",
       "        attempts++;\n",
       "        if (attempts > 100) {\n",
       "          clearInterval(timer);\n",
       "          console.log(\"Bokeh: ERROR: Unable to run BokehJS code because BokehJS library is missing\");\n",
       "        }\n",
       "      }\n",
       "    }, 10, root)\n",
       "  }\n",
       "})(window);"
      ],
      "application/vnd.bokehjs_exec.v0+json": ""
     },
     "metadata": {
      "application/vnd.bokehjs_exec.v0+json": {
       "id": "1464"
      }
     },
     "output_type": "display_data"
    }
   ],
   "source": [
    "grid_1 = grid()\n",
    "grid_1.read(data)  # Load data\n",
    "grid_1.pf()  # solve power flow\n",
    "p=plot_results(grid_1)"
   ]
  },
  {
   "cell_type": "code",
   "execution_count": 31,
   "metadata": {},
   "outputs": [],
   "source": [
    "V_node = grid_1.V_node\n",
    "I_node = grid_1.I_node\n",
    "V_node_new = np.copy(V_node)"
   ]
  },
  {
   "cell_type": "code",
   "execution_count": 32,
   "metadata": {},
   "outputs": [
    {
     "name": "stdout",
     "output_type": "stream",
     "text": [
      "2.44 ms ± 120 µs per loop (mean ± std. dev. of 7 runs, 100 loops each)\n"
     ]
    }
   ],
   "source": [
    "%timeit grid_1.pf() "
   ]
  },
  {
   "cell_type": "code",
   "execution_count": 33,
   "metadata": {},
   "outputs": [],
   "source": [
    "V_known   = np.copy(grid_1.V_node[0:N_v,:])\n",
    "I_known = grid_1.I_node[N_v:,:]\n",
    "I_aux = ( I_known - Y_iv @ V_known)  \n",
    "V_unknown = inv_Y_ii[:,0:N_nz_nodes] @ I_aux[0:N_nz_nodes,:]\n",
    "V_node_new[0:N_v,:] = V_known \n",
    "V_node_new[N_v:,:]  = V_unknown "
   ]
  },
  {
   "cell_type": "code",
   "execution_count": 34,
   "metadata": {},
   "outputs": [],
   "source": [
    "import sympy as sym"
   ]
  },
  {
   "cell_type": "code",
   "execution_count": 35,
   "metadata": {},
   "outputs": [],
   "source": [
    "def grid2dae(nodes_list,V_node,I_node,Y_iv,inv_Y_ii,Y_vv,Y_vi,load_buses):\n",
    "    \n",
    "    N_v = Y_iv.shape[1]   # number of nodes with known voltages\n",
    "    I_node_sym_list = []\n",
    "    V_node_sym_list = []\n",
    "    v_list = []\n",
    "    i_list = []\n",
    "    v_list_str = []\n",
    "    i_list_str = []\n",
    "    i_node = []\n",
    "    v_num_list = []\n",
    "    i_num_list = []\n",
    "    n2a = {'1':'a','2':'b','3':'c','4':'n'}\n",
    "    a2n = {'a':'1','b':'2','c':'3','n':'4'}\n",
    "\n",
    "    # every voltage bus and current bus injection is generted as sympy symbol\n",
    "    # the voltages ar named as v_{bus_name}_{n2a[phase]}_r\n",
    "    # the currents ar named as i_{bus_name}_{n2a[phase]}_r\n",
    "    inode = 0\n",
    "    for node in grid_1.nodes:\n",
    "        bus_name,phase = node.split('.')\n",
    "        i_real = sym.Symbol(f\"i_{bus_name}_{n2a[phase]}_r\", real=True)\n",
    "        i_imag = sym.Symbol(f\"i_{bus_name}_{n2a[phase]}_i\", real=True)\n",
    "        v_real = sym.Symbol(f\"v_{bus_name}_{n2a[phase]}_r\", real=True)\n",
    "        v_imag = sym.Symbol(f\"v_{bus_name}_{n2a[phase]}_i\", real=True)    \n",
    "\n",
    "        v_list += [v_real,v_imag]  \n",
    "        i_list += [i_real,i_imag]\n",
    "\n",
    "        v_list_str += [str(v_real),str(v_imag)]\n",
    "        i_list_str += [str(i_real),str(i_imag)]\n",
    "\n",
    "        v_num_list += [V_node[inode].real[0],V_node[inode].imag[0]]\n",
    "        i_num_list += [I_node[inode].real[0],I_node[inode].imag[0]]\n",
    "\n",
    "        V_node_sym_list += [v_real+sym.I*v_imag]\n",
    "        I_node_sym_list += [i_real+sym.I*i_imag]\n",
    "\n",
    "        inode += 1\n",
    "    \n",
    "    # symbolic voltage and currents vectors (complex)\n",
    "    V_known_sym = sym.Matrix(V_node_sym_list[:N_v])\n",
    "    V_unknown_sym = sym.Matrix(V_node_sym_list[N_v:])\n",
    "    I_known_sym = sym.Matrix(I_node_sym_list[N_v:])\n",
    "    I_unknown_sym = sym.Matrix(I_node_sym_list[:N_v])\n",
    "    \n",
    "    inv_Y_ii_re = inv_Y_ii.real\n",
    "    inv_Y_ii_im = inv_Y_ii.imag\n",
    "\n",
    "    inv_Y_ii_re[np.abs(inv_Y_ii_re)<1e-8] = 0\n",
    "    inv_Y_ii_im[np.abs(inv_Y_ii_im)<1e-8] = 0\n",
    "\n",
    "    inv_Y_ii = inv_Y_ii_re+sym.I*inv_Y_ii_im\n",
    "\n",
    "    I_aux = ( I_known_sym - Y_iv @ V_known_sym)  \n",
    "    g_cplx = -V_unknown_sym + inv_Y_ii @ I_aux\n",
    "    \n",
    "    g_cplx_iu = -I_unknown_sym + Y_vv @ V_known_sym + Y_vi @ V_unknown_sym\n",
    "\n",
    "    g_list = []\n",
    "    for item in g_cplx:\n",
    "        g_list += [sym.re(item)]\n",
    "        g_list += [sym.im(item)]\n",
    "    for item in g_cplx_iu:\n",
    "        g_list += [sym.re(item)]\n",
    "        g_list += [sym.im(item)]\n",
    "\n",
    "    y_list = v_list[2*N_v:]\n",
    "    y_0_list = v_num_list[2*N_v:]\n",
    "\n",
    "    for item in I_unknown_sym:\n",
    "        y_list += [sym.re(item)]\n",
    "        y_list += [sym.im(item)]\n",
    "        \n",
    "    u_dict = dict(zip(v_list_str[:2*N_v],v_num_list[:2*N_v]))\n",
    "    u_dict.update(dict(zip(i_list_str[2*N_v:],i_num_list[2*N_v:])))\n",
    "\n",
    "    h_dict = {}\n",
    "    for bus in load_buses:\n",
    "\n",
    "        v_a = V_node_sym_list[nodes_list.index(f'{bus}.1')]\n",
    "        v_b = V_node_sym_list[nodes_list.index(f'{bus}.2')]\n",
    "        v_c = V_node_sym_list[nodes_list.index(f'{bus}.3')]\n",
    "        v_n = V_node_sym_list[nodes_list.index(f'{bus}.4')]\n",
    "\n",
    "        i_a = I_node_sym_list[nodes_list.index(f'{bus}.1')]\n",
    "        i_b = I_node_sym_list[nodes_list.index(f'{bus}.2')]\n",
    "        i_c = I_node_sym_list[nodes_list.index(f'{bus}.3')]\n",
    "        i_n = I_node_sym_list[nodes_list.index(f'{bus}.4')]\n",
    "\n",
    "\n",
    "        v_an = v_a - v_n\n",
    "        v_bn = v_b - v_n\n",
    "        v_cn = v_c - v_n\n",
    "\n",
    "        s_a = v_an*sym.conjugate(i_a)\n",
    "        s_b = v_bn*sym.conjugate(i_b)\n",
    "        s_c = v_cn*sym.conjugate(i_c)\n",
    "\n",
    "        s = s_a + s_b + s_c\n",
    "        p_a,p_b,p_c = sym.symbols(f'p_{bus}_a,p_{bus}_b,p_{bus}_c')\n",
    "        q_a,q_b,q_c = sym.symbols(f'q_{bus}_a,q_{bus}_b,q_{bus}_c')\n",
    "        g_list += [p_a + sym.re(s_a)]\n",
    "        g_list += [p_b + sym.re(s_b)]\n",
    "        g_list += [p_c + sym.re(s_c)]\n",
    "        g_list += [q_a + sym.im(s_a)]\n",
    "        g_list += [q_b + sym.im(s_b)]\n",
    "        g_list += [q_c + sym.im(s_c)]\n",
    "\n",
    "        g_list += [sym.re(i_a+i_b+i_c+i_n)]\n",
    "        g_list += [sym.im(i_a+i_b+i_c+i_n)]\n",
    "\n",
    "        buses_list = [bus['bus'] for bus in grid_1.buses]\n",
    "\n",
    "        for phase in ['a','b','c']:\n",
    "            i_real,i_imag = sym.symbols(f'i_{bus}_{phase}_r,i_{bus}_{phase}_i', real=True)\n",
    "            y_list += [i_real,i_imag]\n",
    "            i_cplx = I_node[grid_1.nodes.index(f'{bus}.{a2n[phase]}')][0]\n",
    "            y_0_list += [i_cplx.real,i_cplx.imag]\n",
    "            u_dict.pop(f'i_{bus}_{phase}_r')\n",
    "            u_dict.pop(f'i_{bus}_{phase}_i')\n",
    "            p_value = grid_1.buses[buses_list.index(bus)][f'p_{phase}']\n",
    "            q_value = grid_1.buses[buses_list.index(bus)][f'q_{phase}']\n",
    "            u_dict.update({f'p_{bus}_{phase}':p_value})\n",
    "            u_dict.update({f'q_{bus}_{phase}':q_value})\n",
    "\n",
    "        \n",
    "        i_real,i_imag = sym.symbols(f'i_{bus}_n_r,i_{bus}_n_i', real=True)\n",
    "        y_list += [i_real,i_imag]    \n",
    "        i_cplx = I_node[grid_1.nodes.index(f'{bus}.{a2n[\"n\"]}')][0]\n",
    "        y_0_list += [i_cplx.real,i_cplx.imag]\n",
    "        \n",
    "        \n",
    "    return y_list,g_list,y_0_list,u_dict"
   ]
  },
  {
   "cell_type": "code",
   "execution_count": 36,
   "metadata": {},
   "outputs": [],
   "source": [
    "nodes_list = grid_1.nodes\n",
    "I_node = grid_1.I_node\n",
    "V_node = grid_1.V_node\n",
    "Y_vv = grid_1.Y_vv\n",
    "Y_ii = grid_1.Y_ii.toarray()\n",
    "Y_iv = grid_1.Y_iv\n",
    "Y_vi = grid_1.Y_vi\n",
    "inv_Y_ii = np.linalg.inv(Y_ii)\n",
    "N_nz_nodes = grid_1.params_pf[0].N_nz_nodes\n",
    "N_v = grid_1.params_pf[0].N_nodes_v\n",
    "load_buses=['B2']\n",
    "\n",
    "y_list,g_list,y_0_list,u_dict = grid2dae(nodes_list,V_node,I_node,Y_iv,inv_Y_ii,Y_vv,Y_vi,load_buses=load_buses)\n",
    "\n",
    "Y_ii = grid_1.Y_ii.toarray()\n",
    "Y_iv = grid_1.Y_iv\n",
    "inv_Y_ii = np.linalg.inv(Y_ii)\n",
    "N_nz_nodes = grid_1.params_pf[0].N_nz_nodes\n",
    "N_v = grid_1.params_pf[0].N_nodes_v\n",
    "\n",
    "Y_primitive = grid_1.Y_primitive_sp.toarray() \n",
    "A_conect = grid_1.A_sp.toarray()\n",
    "node_sorter  = grid_1.node_sorter\n",
    "\n",
    "np.savez('matrices',Y_primitive=Y_primitive,A_conect=A_conect,nodes_list=nodes_list,node_sorter=node_sorter)\n",
    "\n",
    "\n",
    "with open(\"grid_data.json\", \"w\") as fobj:\n",
    "    json.dump(grid_1.data, fobj, indent=4, sort_keys=True)\n"
   ]
  },
  {
   "cell_type": "code",
   "execution_count": 37,
   "metadata": {},
   "outputs": [],
   "source": [
    "x_dummy,u_dummy = sym.symbols('x_dummy,u_dummy')\n",
    "params = {'a':1}\n",
    "u_dict.update({'u_dummy':1.0})\n",
    "\n",
    "sys_dict = {'name':'grid_3bus_lv',\n",
    "           'params_dict':params,\n",
    "           'f_list':[(u_dummy-x_dummy)],\n",
    "           'g_list':g_list,\n",
    "           'x_list':[x_dummy],\n",
    "           'y_ini_list':y_list,\n",
    "           'y_run_list':y_list,\n",
    "           'u_run_dict':u_dict,\n",
    "           'u_ini_dict':u_dict,\n",
    "           'h_dict':{'x_dummy':x_dummy}\n",
    "           }\n",
    "\n",
    "db.system(sys_dict)\n",
    "db.sys2num(sys_dict)"
   ]
  },
  {
   "cell_type": "code",
   "execution_count": 22,
   "metadata": {},
   "outputs": [
    {
     "data": {
      "text/plain": [
       "[v_B2_a_r,\n",
       " v_B2_a_i,\n",
       " v_B2_b_r,\n",
       " v_B2_b_i,\n",
       " v_B2_c_r,\n",
       " v_B2_c_i,\n",
       " v_B2_n_r,\n",
       " v_B2_n_i,\n",
       " v_B1_n_r,\n",
       " v_B1_n_i,\n",
       " v_B3_n_r,\n",
       " v_B3_n_i,\n",
       " i_B1_a_r,\n",
       " i_B1_a_i,\n",
       " i_B1_b_r,\n",
       " i_B1_b_i,\n",
       " i_B1_c_r,\n",
       " i_B1_c_i,\n",
       " i_B3_a_r,\n",
       " i_B3_a_i,\n",
       " i_B3_b_r,\n",
       " i_B3_b_i,\n",
       " i_B3_c_r,\n",
       " i_B3_c_i,\n",
       " i_B2_a_r,\n",
       " i_B2_a_i,\n",
       " i_B2_b_r,\n",
       " i_B2_b_i,\n",
       " i_B2_c_r,\n",
       " i_B2_c_i,\n",
       " i_B2_n_r,\n",
       " i_B2_n_i]"
      ]
     },
     "execution_count": 22,
     "metadata": {},
     "output_type": "execute_result"
    }
   ],
   "source": [
    "y_list"
   ]
  },
  {
   "cell_type": "code",
   "execution_count": null,
   "metadata": {},
   "outputs": [],
   "source": []
  },
  {
   "cell_type": "code",
   "execution_count": null,
   "metadata": {},
   "outputs": [],
   "source": []
  }
 ],
 "metadata": {
  "kernelspec": {
   "display_name": "Python 3",
   "language": "python",
   "name": "python3"
  },
  "language_info": {
   "codemirror_mode": {
    "name": "ipython",
    "version": 3
   },
   "file_extension": ".py",
   "mimetype": "text/x-python",
   "name": "python",
   "nbconvert_exporter": "python",
   "pygments_lexer": "ipython3",
   "version": "3.7.6"
  }
 },
 "nbformat": 4,
 "nbformat_minor": 4
}
