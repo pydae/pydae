{
 "cells": [
  {
   "cell_type": "code",
   "execution_count": 1,
   "metadata": {},
   "outputs": [],
   "source": [
    "%matplotlib widget"
   ]
  },
  {
   "cell_type": "code",
   "execution_count": 2,
   "metadata": {},
   "outputs": [],
   "source": [
    "from grid_3bus import grid_3bus_class\n",
    "import numpy as np\n",
    "import matplotlib.pyplot as plt\n",
    "import scipy.optimize as sopt\n",
    "import ipywidgets\n",
    "from pydae import ssa"
   ]
  },
  {
   "cell_type": "code",
   "execution_count": 3,
   "metadata": {},
   "outputs": [],
   "source": [
    "syst = grid_3bus_class()\n",
    "syst.Dt = 500e-6\n",
    "syst.decimation = 1\n",
    "syst.update()"
   ]
  },
  {
   "cell_type": "code",
   "execution_count": 4,
   "metadata": {},
   "outputs": [
    {
     "data": {
      "text/plain": [
       "(array([], shape=(0, 1), dtype=float64),\n",
       " array([], shape=(0, 10), dtype=float64),\n",
       " array([], shape=(0, 1), dtype=float64),\n",
       " array([], shape=(0, 1), dtype=float64))"
      ]
     },
     "execution_count": 4,
     "metadata": {},
     "output_type": "execute_result"
    }
   ],
   "source": [
    "syst.sopt_root_jac = False\n",
    "events = [{'t_end':0.01}]\n",
    "\n",
    "syst.initialize(events,xy0=20e3)\n"
   ]
  },
  {
   "cell_type": "code",
   "execution_count": 5,
   "metadata": {},
   "outputs": [
    {
     "name": "stdout",
     "output_type": "stream",
     "text": [
      "i_l_1213_D =    -0.00\n",
      "i_l_1213_Q =     0.00\n",
      "i_l_1314_D =    -0.00\n",
      "i_l_1314_Q =     0.00\n",
      "v_12_D   =     0.00\n",
      "v_12_Q   =    -0.00\n",
      "v_13_D   =     0.00\n",
      "v_13_Q   =    -0.00\n",
      "v_14_D   =     0.00\n",
      "v_14_Q   =    -0.00\n"
     ]
    }
   ],
   "source": [
    "for item in syst.x_list:\n",
    "    print(f'{item:8s} = {syst.get_value(item):8.2f}')"
   ]
  },
  {
   "cell_type": "code",
   "execution_count": 6,
   "metadata": {},
   "outputs": [
    {
     "data": {
      "text/html": [
       "<div>\n",
       "<style scoped>\n",
       "    .dataframe tbody tr th:only-of-type {\n",
       "        vertical-align: middle;\n",
       "    }\n",
       "\n",
       "    .dataframe tbody tr th {\n",
       "        vertical-align: top;\n",
       "    }\n",
       "\n",
       "    .dataframe thead th {\n",
       "        text-align: right;\n",
       "    }\n",
       "</style>\n",
       "<table border=\"1\" class=\"dataframe\">\n",
       "  <thead>\n",
       "    <tr style=\"text-align: right;\">\n",
       "      <th></th>\n",
       "      <th>Real</th>\n",
       "      <th>Imag</th>\n",
       "      <th>Freq.</th>\n",
       "      <th>Damp</th>\n",
       "    </tr>\n",
       "  </thead>\n",
       "  <tbody>\n",
       "    <tr>\n",
       "      <th>Mode 1</th>\n",
       "      <td>-1.099119e+02</td>\n",
       "      <td>31314.806797</td>\n",
       "      <td>4983.906294</td>\n",
       "      <td>3.509879e-03</td>\n",
       "    </tr>\n",
       "    <tr>\n",
       "      <th>Mode 2</th>\n",
       "      <td>-1.099119e+02</td>\n",
       "      <td>-31314.806797</td>\n",
       "      <td>4983.906294</td>\n",
       "      <td>3.509879e-03</td>\n",
       "    </tr>\n",
       "    <tr>\n",
       "      <th>Mode 3</th>\n",
       "      <td>-1.099119e+02</td>\n",
       "      <td>30686.488266</td>\n",
       "      <td>4883.906294</td>\n",
       "      <td>3.581745e-03</td>\n",
       "    </tr>\n",
       "    <tr>\n",
       "      <th>Mode 4</th>\n",
       "      <td>-1.099119e+02</td>\n",
       "      <td>-30686.488266</td>\n",
       "      <td>4883.906294</td>\n",
       "      <td>3.581745e-03</td>\n",
       "    </tr>\n",
       "    <tr>\n",
       "      <th>Mode 5</th>\n",
       "      <td>-1.099119e+02</td>\n",
       "      <td>17796.763273</td>\n",
       "      <td>2832.442846</td>\n",
       "      <td>6.175829e-03</td>\n",
       "    </tr>\n",
       "    <tr>\n",
       "      <th>Mode 6</th>\n",
       "      <td>-1.099119e+02</td>\n",
       "      <td>-17796.763273</td>\n",
       "      <td>2832.442846</td>\n",
       "      <td>6.175829e-03</td>\n",
       "    </tr>\n",
       "    <tr>\n",
       "      <th>Mode 7</th>\n",
       "      <td>-1.099119e+02</td>\n",
       "      <td>18425.081804</td>\n",
       "      <td>2932.442846</td>\n",
       "      <td>5.965233e-03</td>\n",
       "    </tr>\n",
       "    <tr>\n",
       "      <th>Mode 8</th>\n",
       "      <td>-1.099119e+02</td>\n",
       "      <td>-18425.081804</td>\n",
       "      <td>2932.442846</td>\n",
       "      <td>5.965233e-03</td>\n",
       "    </tr>\n",
       "    <tr>\n",
       "      <th>Mode 9</th>\n",
       "      <td>-1.785239e-13</td>\n",
       "      <td>314.159265</td>\n",
       "      <td>50.000000</td>\n",
       "      <td>5.682591e-16</td>\n",
       "    </tr>\n",
       "    <tr>\n",
       "      <th>Mode 10</th>\n",
       "      <td>-1.785239e-13</td>\n",
       "      <td>-314.159265</td>\n",
       "      <td>50.000000</td>\n",
       "      <td>5.682591e-16</td>\n",
       "    </tr>\n",
       "  </tbody>\n",
       "</table>\n",
       "</div>"
      ],
      "text/plain": [
       "                 Real          Imag        Freq.          Damp\n",
       "Mode 1  -1.099119e+02  31314.806797  4983.906294  3.509879e-03\n",
       "Mode 2  -1.099119e+02 -31314.806797  4983.906294  3.509879e-03\n",
       "Mode 3  -1.099119e+02  30686.488266  4883.906294  3.581745e-03\n",
       "Mode 4  -1.099119e+02 -30686.488266  4883.906294  3.581745e-03\n",
       "Mode 5  -1.099119e+02  17796.763273  2832.442846  6.175829e-03\n",
       "Mode 6  -1.099119e+02 -17796.763273  2832.442846  6.175829e-03\n",
       "Mode 7  -1.099119e+02  18425.081804  2932.442846  5.965233e-03\n",
       "Mode 8  -1.099119e+02 -18425.081804  2932.442846  5.965233e-03\n",
       "Mode 9  -1.785239e-13    314.159265    50.000000  5.682591e-16\n",
       "Mode 10 -1.785239e-13   -314.159265    50.000000  5.682591e-16"
      ]
     },
     "execution_count": 6,
     "metadata": {},
     "output_type": "execute_result"
    }
   ],
   "source": [
    "ssa.eval_A(syst)\n",
    "ssa.damp_report(syst)"
   ]
  },
  {
   "cell_type": "code",
   "execution_count": 7,
   "metadata": {},
   "outputs": [
    {
     "data": {
      "text/html": [
       "<div>\n",
       "<style scoped>\n",
       "    .dataframe tbody tr th:only-of-type {\n",
       "        vertical-align: middle;\n",
       "    }\n",
       "\n",
       "    .dataframe tbody tr th {\n",
       "        vertical-align: top;\n",
       "    }\n",
       "\n",
       "    .dataframe thead th {\n",
       "        text-align: right;\n",
       "    }\n",
       "</style>\n",
       "<table border=\"1\" class=\"dataframe\">\n",
       "  <thead>\n",
       "    <tr style=\"text-align: right;\">\n",
       "      <th></th>\n",
       "      <th>Real</th>\n",
       "      <th>Imag</th>\n",
       "      <th>Freq.</th>\n",
       "      <th>Damp</th>\n",
       "    </tr>\n",
       "  </thead>\n",
       "  <tbody>\n",
       "    <tr>\n",
       "      <th>Mode 1</th>\n",
       "      <td>-1.099119e+02</td>\n",
       "      <td>31314.806797</td>\n",
       "      <td>4983.906294</td>\n",
       "      <td>3.509879e-03</td>\n",
       "    </tr>\n",
       "    <tr>\n",
       "      <th>Mode 2</th>\n",
       "      <td>-1.099119e+02</td>\n",
       "      <td>-31314.806797</td>\n",
       "      <td>4983.906294</td>\n",
       "      <td>3.509879e-03</td>\n",
       "    </tr>\n",
       "    <tr>\n",
       "      <th>Mode 3</th>\n",
       "      <td>-1.099119e+02</td>\n",
       "      <td>30686.488266</td>\n",
       "      <td>4883.906294</td>\n",
       "      <td>3.581745e-03</td>\n",
       "    </tr>\n",
       "    <tr>\n",
       "      <th>Mode 4</th>\n",
       "      <td>-1.099119e+02</td>\n",
       "      <td>-30686.488266</td>\n",
       "      <td>4883.906294</td>\n",
       "      <td>3.581745e-03</td>\n",
       "    </tr>\n",
       "    <tr>\n",
       "      <th>Mode 5</th>\n",
       "      <td>-1.099119e+02</td>\n",
       "      <td>17796.763273</td>\n",
       "      <td>2832.442846</td>\n",
       "      <td>6.175829e-03</td>\n",
       "    </tr>\n",
       "    <tr>\n",
       "      <th>Mode 6</th>\n",
       "      <td>-1.099119e+02</td>\n",
       "      <td>-17796.763273</td>\n",
       "      <td>2832.442846</td>\n",
       "      <td>6.175829e-03</td>\n",
       "    </tr>\n",
       "    <tr>\n",
       "      <th>Mode 7</th>\n",
       "      <td>-1.099119e+02</td>\n",
       "      <td>18425.081804</td>\n",
       "      <td>2932.442846</td>\n",
       "      <td>5.965233e-03</td>\n",
       "    </tr>\n",
       "    <tr>\n",
       "      <th>Mode 8</th>\n",
       "      <td>-1.099119e+02</td>\n",
       "      <td>-18425.081804</td>\n",
       "      <td>2932.442846</td>\n",
       "      <td>5.965233e-03</td>\n",
       "    </tr>\n",
       "    <tr>\n",
       "      <th>Mode 9</th>\n",
       "      <td>-1.785239e-13</td>\n",
       "      <td>314.159265</td>\n",
       "      <td>50.000000</td>\n",
       "      <td>5.682591e-16</td>\n",
       "    </tr>\n",
       "    <tr>\n",
       "      <th>Mode 10</th>\n",
       "      <td>-1.785239e-13</td>\n",
       "      <td>-314.159265</td>\n",
       "      <td>50.000000</td>\n",
       "      <td>5.682591e-16</td>\n",
       "    </tr>\n",
       "  </tbody>\n",
       "</table>\n",
       "</div>"
      ],
      "text/plain": [
       "                 Real          Imag        Freq.          Damp\n",
       "Mode 1  -1.099119e+02  31314.806797  4983.906294  3.509879e-03\n",
       "Mode 2  -1.099119e+02 -31314.806797  4983.906294  3.509879e-03\n",
       "Mode 3  -1.099119e+02  30686.488266  4883.906294  3.581745e-03\n",
       "Mode 4  -1.099119e+02 -30686.488266  4883.906294  3.581745e-03\n",
       "Mode 5  -1.099119e+02  17796.763273  2832.442846  6.175829e-03\n",
       "Mode 6  -1.099119e+02 -17796.763273  2832.442846  6.175829e-03\n",
       "Mode 7  -1.099119e+02  18425.081804  2932.442846  5.965233e-03\n",
       "Mode 8  -1.099119e+02 -18425.081804  2932.442846  5.965233e-03\n",
       "Mode 9  -1.785239e-13    314.159265    50.000000  5.682591e-16\n",
       "Mode 10 -1.785239e-13   -314.159265    50.000000  5.682591e-16"
      ]
     },
     "execution_count": 7,
     "metadata": {},
     "output_type": "execute_result"
    }
   ],
   "source": [
    "ssa.eval_A(syst)\n",
    "ssa.damp_report(syst)"
   ]
  },
  {
   "cell_type": "code",
   "execution_count": 8,
   "metadata": {},
   "outputs": [
    {
     "data": {
      "text/html": [
       "<div>\n",
       "<style scoped>\n",
       "    .dataframe tbody tr th:only-of-type {\n",
       "        vertical-align: middle;\n",
       "    }\n",
       "\n",
       "    .dataframe tbody tr th {\n",
       "        vertical-align: top;\n",
       "    }\n",
       "\n",
       "    .dataframe thead th {\n",
       "        text-align: right;\n",
       "    }\n",
       "</style>\n",
       "<table border=\"1\" class=\"dataframe\">\n",
       "  <thead>\n",
       "    <tr style=\"text-align: right;\">\n",
       "      <th></th>\n",
       "      <th>Real</th>\n",
       "      <th>Imag</th>\n",
       "      <th>Freq.</th>\n",
       "      <th>Damp</th>\n",
       "    </tr>\n",
       "  </thead>\n",
       "  <tbody>\n",
       "    <tr>\n",
       "      <th>Mode 1</th>\n",
       "      <td>-1.099119e+02</td>\n",
       "      <td>31314.806797</td>\n",
       "      <td>4983.906294</td>\n",
       "      <td>3.509879e-03</td>\n",
       "    </tr>\n",
       "    <tr>\n",
       "      <th>Mode 2</th>\n",
       "      <td>-1.099119e+02</td>\n",
       "      <td>-31314.806797</td>\n",
       "      <td>4983.906294</td>\n",
       "      <td>3.509879e-03</td>\n",
       "    </tr>\n",
       "    <tr>\n",
       "      <th>Mode 3</th>\n",
       "      <td>-1.099119e+02</td>\n",
       "      <td>30686.488266</td>\n",
       "      <td>4883.906294</td>\n",
       "      <td>3.581745e-03</td>\n",
       "    </tr>\n",
       "    <tr>\n",
       "      <th>Mode 4</th>\n",
       "      <td>-1.099119e+02</td>\n",
       "      <td>-30686.488266</td>\n",
       "      <td>4883.906294</td>\n",
       "      <td>3.581745e-03</td>\n",
       "    </tr>\n",
       "    <tr>\n",
       "      <th>Mode 5</th>\n",
       "      <td>-1.099119e+02</td>\n",
       "      <td>17796.763273</td>\n",
       "      <td>2832.442846</td>\n",
       "      <td>6.175829e-03</td>\n",
       "    </tr>\n",
       "    <tr>\n",
       "      <th>Mode 6</th>\n",
       "      <td>-1.099119e+02</td>\n",
       "      <td>-17796.763273</td>\n",
       "      <td>2832.442846</td>\n",
       "      <td>6.175829e-03</td>\n",
       "    </tr>\n",
       "    <tr>\n",
       "      <th>Mode 7</th>\n",
       "      <td>-1.099119e+02</td>\n",
       "      <td>18425.081804</td>\n",
       "      <td>2932.442846</td>\n",
       "      <td>5.965233e-03</td>\n",
       "    </tr>\n",
       "    <tr>\n",
       "      <th>Mode 8</th>\n",
       "      <td>-1.099119e+02</td>\n",
       "      <td>-18425.081804</td>\n",
       "      <td>2932.442846</td>\n",
       "      <td>5.965233e-03</td>\n",
       "    </tr>\n",
       "    <tr>\n",
       "      <th>Mode 9</th>\n",
       "      <td>-1.785239e-13</td>\n",
       "      <td>314.159265</td>\n",
       "      <td>50.000000</td>\n",
       "      <td>5.682591e-16</td>\n",
       "    </tr>\n",
       "    <tr>\n",
       "      <th>Mode 10</th>\n",
       "      <td>-1.785239e-13</td>\n",
       "      <td>-314.159265</td>\n",
       "      <td>50.000000</td>\n",
       "      <td>5.682591e-16</td>\n",
       "    </tr>\n",
       "  </tbody>\n",
       "</table>\n",
       "</div>"
      ],
      "text/plain": [
       "                 Real          Imag        Freq.          Damp\n",
       "Mode 1  -1.099119e+02  31314.806797  4983.906294  3.509879e-03\n",
       "Mode 2  -1.099119e+02 -31314.806797  4983.906294  3.509879e-03\n",
       "Mode 3  -1.099119e+02  30686.488266  4883.906294  3.581745e-03\n",
       "Mode 4  -1.099119e+02 -30686.488266  4883.906294  3.581745e-03\n",
       "Mode 5  -1.099119e+02  17796.763273  2832.442846  6.175829e-03\n",
       "Mode 6  -1.099119e+02 -17796.763273  2832.442846  6.175829e-03\n",
       "Mode 7  -1.099119e+02  18425.081804  2932.442846  5.965233e-03\n",
       "Mode 8  -1.099119e+02 -18425.081804  2932.442846  5.965233e-03\n",
       "Mode 9  -1.785239e-13    314.159265    50.000000  5.682591e-16\n",
       "Mode 10 -1.785239e-13   -314.159265    50.000000  5.682591e-16"
      ]
     },
     "execution_count": 8,
     "metadata": {},
     "output_type": "execute_result"
    }
   ],
   "source": [
    "ssa.eval_A(syst)\n",
    "ssa.damp_report(syst)"
   ]
  },
  {
   "cell_type": "raw",
   "metadata": {},
   "source": [
    "          -109.911865883274 +      31314.8067970775i\n",
    "          -109.911865883274 -      31314.8067970775i\n",
    "          -109.911865883274 +      30686.4882663595i\n",
    "          -109.911865883274 -      30686.4882663595i\n",
    "       -9.9475983006414e-13 +       314.15926535898i\n",
    "       -9.9475983006414e-13 -       314.15926535898i\n",
    "          -109.911865883273 +      18425.0818038866i\n",
    "          -109.911865883273 -      18425.0818038866i\n",
    "          -109.911865883274 +      17796.7632731686i\n",
    "          -109.911865883274 -      17796.7632731686i"
   ]
  },
  {
   "cell_type": "code",
   "execution_count": 9,
   "metadata": {},
   "outputs": [
    {
     "name": "stdout",
     "output_type": "stream",
     "text": [
      "R_1213   = 2.44989\n",
      "L_1213   = 0.011144793059021352\n",
      "C_1213   = 7.392453306593591e-07\n",
      "R_1314   = 1.4979900000000002\n",
      "L_1314   = 0.006814505367377064\n",
      "C_1314   = 4.520129935933505e-07\n",
      "i_12_D   = 0.0\n",
      "i_12_Q   = 0.0\n",
      "i_13_D   = 0.0\n",
      "i_13_Q   = 0.0\n",
      "i_14_D   = 0.0\n",
      "i_14_Q   = 0.0\n",
      "omega    = 314.1592653589793\n"
     ]
    }
   ],
   "source": [
    "for item in syst.params_list:\n",
    "    print(f'{item:8s} = {syst.get_value(item)}')"
   ]
  },
  {
   "cell_type": "code",
   "execution_count": 8,
   "metadata": {},
   "outputs": [],
   "source": [
    "L_1314 = syst.get_value('L_1314')\n",
    "C_1314 = syst.get_value('C_1314')"
   ]
  },
  {
   "cell_type": "code",
   "execution_count": 9,
   "metadata": {},
   "outputs": [
    {
     "data": {
      "text/plain": [
       "18018.03272678112"
      ]
     },
     "execution_count": 9,
     "metadata": {},
     "output_type": "execute_result"
    }
   ],
   "source": [
    "1/np.sqrt(L_1314*C_1314)"
   ]
  },
  {
   "cell_type": "code",
   "execution_count": 11,
   "metadata": {},
   "outputs": [
    {
     "data": {
      "text/plain": [
       "array([[[0.00000000e+00],\n",
       "        [0.00000000e+00],\n",
       "        [2.60672895e-13],\n",
       "        [0.00000000e+00],\n",
       "        [0.00000000e+00],\n",
       "        [7.28105500e-13],\n",
       "        [0.00000000e+00],\n",
       "        [0.00000000e+00],\n",
       "        [4.08406201e-18],\n",
       "        [4.08406203e-18],\n",
       "        [4.08406201e-18],\n",
       "        [4.08406201e-18],\n",
       "        [4.08406202e-18],\n",
       "        [4.08406202e-18]]])"
      ]
     },
     "execution_count": 11,
     "metadata": {},
     "output_type": "execute_result"
    }
   ],
   "source": [
    "syst.struct.f"
   ]
  },
  {
   "cell_type": "code",
   "execution_count": 7,
   "metadata": {},
   "outputs": [
    {
     "data": {
      "text/plain": [
       "(array([-109.91186588+31014.74264123j, -109.91186588-31014.74264123j,\n",
       "        -109.91186588+30386.42411052j, -109.91186588-30386.42411052j,\n",
       "        -109.91186588+10500.62896241j, -109.91186588-10500.62896241j,\n",
       "        -109.91186588 +9872.3104317j , -109.91186588 -9872.3104317j ]),\n",
       " array([[-8.50593133e-04-3.04522807e-06j, -8.50593133e-04+3.04522807e-06j,\n",
       "         -3.04522807e-06+8.50593133e-04j, -3.04522807e-06-8.50593133e-04j,\n",
       "         -4.00611925e-03-4.32259708e-05j, -4.00611925e-03+4.32259708e-05j,\n",
       "          4.00611925e-03+4.32259708e-05j,  4.00611925e-03-4.32259708e-05j],\n",
       "        [-3.04522807e-06+8.50593133e-04j, -3.04522807e-06-8.50593133e-04j,\n",
       "         -8.50593133e-04-3.04522807e-06j, -8.50593133e-04+3.04522807e-06j,\n",
       "         -4.32259708e-05+4.00611925e-03j, -4.32259708e-05-4.00611925e-03j,\n",
       "         -4.32259708e-05+4.00611925e-03j, -4.32259708e-05-4.00611925e-03j],\n",
       "        [ 4.47133072e-03+1.60079141e-05j,  4.47133072e-03-1.60079141e-05j,\n",
       "          1.60079141e-05-4.47133072e-03j,  1.60079141e-05+4.47133072e-03j,\n",
       "         -1.24636895e-03-1.34483036e-05j, -1.24636895e-03+1.34483036e-05j,\n",
       "          1.24636895e-03+1.34483036e-05j,  1.24636895e-03-1.34483036e-05j],\n",
       "        [ 1.60079141e-05-4.47133072e-03j,  1.60079141e-05+4.47133072e-03j,\n",
       "          4.47133072e-03+1.60079141e-05j,  4.47133072e-03-1.60079141e-05j,\n",
       "         -1.34483036e-05+1.24636895e-03j, -1.34483036e-05-1.24636895e-03j,\n",
       "         -1.34483036e-05+1.24636895e-03j, -1.34483036e-05-1.24636895e-03j],\n",
       "        [ 1.03097408e-15+2.91035573e-01j,  1.03097408e-15-2.91035573e-01j,\n",
       "          2.91035573e-01-3.70001737e-17j,  2.91035573e-01+3.70001737e-17j,\n",
       "         -6.43467165e-16+4.54852031e-01j, -6.43467165e-16-4.54852031e-01j,\n",
       "         -9.20002630e-16-4.54852031e-01j, -9.20002630e-16+4.54852031e-01j],\n",
       "        [ 2.91035573e-01+7.12673647e-17j,  2.91035573e-01-7.12673647e-17j,\n",
       "          8.79214512e-16+2.91035573e-01j,  8.79214512e-16-2.91035573e-01j,\n",
       "          4.54852031e-01+2.95929848e-17j,  4.54852031e-01-2.95929848e-17j,\n",
       "          4.54852031e-01+1.12779307e-16j,  4.54852031e-01-1.12779307e-16j],\n",
       "        [-2.28056470e-15-6.44420343e-01j, -2.28056470e-15+6.44420343e-01j,\n",
       "         -6.44420343e-01+0.00000000e+00j, -6.44420343e-01-0.00000000e+00j,\n",
       "         -6.58692543e-16+5.41379742e-01j, -6.58692543e-16-5.41379742e-01j,\n",
       "         -1.06851079e-15-5.41379742e-01j, -1.06851079e-15+5.41379742e-01j],\n",
       "        [-6.44420343e-01+0.00000000e+00j, -6.44420343e-01-0.00000000e+00j,\n",
       "         -2.11962379e-15-6.44420343e-01j, -2.11962379e-15+6.44420343e-01j,\n",
       "          5.41379742e-01+0.00000000e+00j,  5.41379742e-01-0.00000000e+00j,\n",
       "          5.41379742e-01+0.00000000e+00j,  5.41379742e-01-0.00000000e+00j]]))"
      ]
     },
     "execution_count": 7,
     "metadata": {},
     "output_type": "execute_result"
    }
   ],
   "source": [
    "np.linalg.eig(syst.A)"
   ]
  },
  {
   "cell_type": "code",
   "execution_count": null,
   "metadata": {},
   "outputs": [],
   "source": []
  },
  {
   "cell_type": "code",
   "execution_count": null,
   "metadata": {},
   "outputs": [],
   "source": []
  }
 ],
 "metadata": {
  "kernelspec": {
   "display_name": "Python 3.7.7 64-bit ('ProgramData': virtualenv)",
   "language": "python",
   "name": "python37764bitprogramdatavirtualenv46c0821546dd4f01859541541cbf05ac"
  },
  "language_info": {
   "codemirror_mode": {
    "name": "ipython",
    "version": 3
   },
   "file_extension": ".py",
   "mimetype": "text/x-python",
   "name": "python",
   "nbconvert_exporter": "python",
   "pygments_lexer": "ipython3",
   "version": "3.7.7"
  }
 },
 "nbformat": 4,
 "nbformat_minor": 4
}
