{
 "cells": [
  {
   "cell_type": "code",
   "execution_count": 8,
   "metadata": {},
   "outputs": [],
   "source": [
    "%matplotlib widget"
   ]
  },
  {
   "cell_type": "code",
   "execution_count": 1,
   "metadata": {},
   "outputs": [],
   "source": [
    "import numpy as np\n",
    "import scipy.optimize as sopt\n",
    "import matplotlib.pyplot as plt\n",
    "import pandas as pd\n",
    "import pydae.ssa as ssa"
   ]
  },
  {
   "cell_type": "code",
   "execution_count": 2,
   "metadata": {},
   "outputs": [
    {
     "ename": "ModuleNotFoundError",
     "evalue": "No module named 'cigre_eur_lv_res_bpu'",
     "output_type": "error",
     "traceback": [
      "\u001b[1;31m---------------------------------------------------------------------------\u001b[0m",
      "\u001b[1;31mModuleNotFoundError\u001b[0m                       Traceback (most recent call last)",
      "\u001b[1;32m<ipython-input-2-62ac6aa8ac18>\u001b[0m in \u001b[0;36m<module>\u001b[1;34m\u001b[0m\n\u001b[1;32m----> 1\u001b[1;33m \u001b[1;32mfrom\u001b[0m \u001b[0mcigre_eur_lv_res_bpu\u001b[0m \u001b[1;32mimport\u001b[0m \u001b[0mcigre_eur_lv_res_bpu_class\u001b[0m\u001b[1;33m\u001b[0m\u001b[1;33m\u001b[0m\u001b[0m\n\u001b[0m",
      "\u001b[1;31mModuleNotFoundError\u001b[0m: No module named 'cigre_eur_lv_res_bpu'"
     ]
    }
   ],
   "source": [
    "from cigre_eur_lv_res_bpu import cigre_eur_lv_res_bpu_class"
   ]
  },
  {
   "cell_type": "code",
   "execution_count": null,
   "metadata": {},
   "outputs": [],
   "source": []
  },
  {
   "cell_type": "code",
   "execution_count": null,
   "metadata": {},
   "outputs": [],
   "source": []
  },
  {
   "cell_type": "code",
   "execution_count": 11,
   "metadata": {},
   "outputs": [],
   "source": [
    "syst =cigre_lv_res_vsg_class()\n",
    "syst.Dt = 0.01\n",
    "syst.decimation = 1\n",
    "syst.update()\n",
    "\n",
    "events = [{ # CTRL4-3-0\n",
    "           't_end':0.0, \n",
    "           'K_f_sec':0.001,\n",
    "           'K_q_G10':0.5, 'K_q_G14':0.5,'D_G10':1,'D_G14':1,\n",
    "           'R_v_G10':0.01,'X_v_G10':0.1,'R_v_G14':0.01,'X_v_G14':0.1,\n",
    "           'K_f_G10':5,'K_f_G14':5,\n",
    "           'K_vpoi_G10':50,'K_vpoi_G14':50,\n",
    "           'K_phi_G10':1e-3,'K_phi_G14':1e-3,\n",
    "           'p_r_G10':0.0,'q_r_G10':0.0, \n",
    "           'p_r_G14':0.0,'q_r_G14':0.0, #'R_12':0.01, 'R_23':0.01, 'L_12':1e-3, 'L_23':1e-3, 'C_12':1e-6, 'C_23':1e-6,'R_t_1':0.01,'R_t_2':0.01,'L_t_1':1e-3,'L_t_2':1e-3\n",
    "           'v_s_ref_G10':1.0,'v_s_ref_G14':1.0,'omega_ref_G10':1.0,'omega_ref_G14':1.0,\n",
    "          },\n",
    "          {'t_end':1.0}, \n",
    "          {'t_end':6.0},\n",
    "          {'t_end':15.0,'p_r_G10':0.05,'p_r_G14':0.05}\n",
    "          ]\n",
    "\n",
    "loads_0 = [\n",
    "        {\"bus\": \"R01\", \"kVA\":  1.0, \"pf\": 0.95, \"T_i\":0.01,\"I_max\":434.78},\n",
    "        {\"bus\": \"R11\", \"kVA\": 15.0, \"pf\": 0.95, \"T_i\":0.01,\"I_max\":32.6},\n",
    "        {\"bus\": \"R15\", \"kVA\": 52.0, \"pf\": 0.95, \"T_i\":0.01,\"I_max\":120},\n",
    "        {\"bus\": \"R16\", \"kVA\": 55.0, \"pf\": 0.95, \"T_i\":0.01,\"I_max\":120},\n",
    "        {\"bus\": \"R17\", \"kVA\": 35.0, \"pf\": 0.95, \"T_i\":0.01,\"I_max\":120},\n",
    "        {\"bus\": \"R18\", \"kVA\": 47.0, \"pf\": 0.95, \"T_i\":0.01,\"I_max\":120}\n",
    "        ]\n",
    "\n",
    "loads_1 = [\n",
    "        {\"bus\": \"R01\", \"kVA\":  1.0, \"pf\": 0.95, \"T_i\":0.01,\"I_max\":434.78},\n",
    "        {\"bus\": \"R11\", \"kVA\": 15.0, \"pf\": 0.95, \"T_i\":0.01,\"I_max\":32.6},\n",
    "        {\"bus\": \"R15\", \"kVA\": 52.0, \"pf\": 0.95, \"T_i\":0.01,\"I_max\":120},\n",
    "        {\"bus\": \"R16\", \"kVA\": 55.0, \"pf\": 0.95, \"T_i\":0.01,\"I_max\":120},\n",
    "        {\"bus\": \"R17\", \"kVA\": 35.0, \"pf\": 0.95, \"T_i\":0.01,\"I_max\":120},\n",
    "        {\"bus\": \"R18\", \"kVA\": 70.0, \"pf\": 0.95, \"T_i\":0.01,\"I_max\":120}\n",
    "        ]\n",
    "\n",
    "# makes all loads zero for initilization\n",
    "loads_dict = {}\n",
    "for load in loads_0:\n",
    "    p = f\"p_{load['bus']}_ref\"\n",
    "    q = f\"q_{load['bus']}_ref\"\n",
    "    events[0][p] = 0.0\n",
    "    events[0][q] = 0.0    \n",
    "\n",
    "syst.sopt_root_jac = True\n",
    "syst.initialization_tol = 1e-2\n",
    "syst.initialize(events,xy0=1)\n",
    "syst.sopt_root_jac = True\n",
    "\n",
    "syst.initialization_tol = 1e-12\n",
    "syst.xy_prev[syst.x_list.index('phi_G10')]  = 0.0\n",
    "syst.xy_prev[syst.x_list.index('phi_G14')]  = 0.0\n",
    "\n",
    "# assign initial loads\n",
    "for load in loads_0:\n",
    "    p_ref_name = f\"p_{load['bus']}_ref\"\n",
    "    q_ref_name = f\"q_{load['bus']}_ref\"\n",
    "    s = load['kVA']*1000\n",
    "    p = s*load['pf']\n",
    "    q = np.sign(load['pf'])*(s**2 - p**2)**0.5\n",
    "    events[0][p_ref_name] = p\n",
    "    events[0][q_ref_name] = q\n",
    "    events[1][p_ref_name] = p\n",
    "    events[1][q_ref_name] = q\n",
    "    \n",
    "# assign step 1 loads\n",
    "for load in loads_1:\n",
    "    p_ref_name = f\"p_{load['bus']}_ref\"\n",
    "    q_ref_name = f\"q_{load['bus']}_ref\"\n",
    "    s = load['kVA']*1000\n",
    "    p = s*load['pf']\n",
    "    q = np.sign(load['pf'])*(s**2 - p**2)**0.5\n",
    "    events[2][p_ref_name] = p\n",
    "    events[2][q_ref_name] = q\n",
    "    \n",
    "    \n",
    "events[0].update(loads_dict)    \n",
    "syst.initialize(events,xy0='prev')\n",
    "ssa.eval_A(syst);"
   ]
  },
  {
   "cell_type": "code",
   "execution_count": 12,
   "metadata": {},
   "outputs": [],
   "source": [
    "syst.simulate(events,xy0='prev');"
   ]
  },
  {
   "cell_type": "code",
   "execution_count": 13,
   "metadata": {},
   "outputs": [
    {
     "data": {
      "application/vnd.jupyter.widget-view+json": {
       "model_id": "f0b9bcc881524e9480af44ece110f523",
       "version_major": 2,
       "version_minor": 0
      },
      "text/plain": [
       "Canvas(toolbar=Toolbar(toolitems=[('Home', 'Reset original view', 'home', 'home'), ('Back', 'Back to previous …"
      ]
     },
     "metadata": {},
     "output_type": "display_data"
    },
    {
     "name": "stderr",
     "output_type": "stream",
     "text": [
      "No handles with labels found to put in legend.\n"
     ]
    }
   ],
   "source": [
    "fig, axes = plt.subplots(nrows=4, figsize=(7, 10), dpi=80)\n",
    "\n",
    "\n",
    "#axes[0].plot(syst.T, syst.get_values('i_sD_G10'), label=f'i_sD_G10')\n",
    "#axes[0].plot(syst.T, syst.get_values('i_sQ_G10'), label=f'i_sQ_G10')\n",
    "\n",
    "#axes[0].plot(syst.T, syst.get_values('i_sD_G14'), label=f'i_sD_G14')\n",
    "#axes[0].plot(syst.T, syst.get_values('i_sQ_G14'), label=f'i_sQ_G14')\n",
    "\n",
    "\n",
    "axes[0].plot(syst.T, syst.get_values('p_s_pu_G10')*200, label=f'p_s_pu_G10')\n",
    "axes[0].plot(syst.T, syst.get_values('p_s_pu_G14')*200, label=f'p_s_pu_G14')\n",
    "\n",
    "axes[1].plot(syst.T, syst.get_values('q_s_pu_G10')*200, label=f'q_s_pu_G10')\n",
    "axes[1].plot(syst.T, syst.get_values('q_s_pu_G14')*200, label=f'q_s_pu_G14')\n",
    "\n",
    "axes[2].plot(syst.T, syst.get_values('omega_v_G10'), label=f'omega_v_G10')\n",
    "axes[2].plot(syst.T, syst.get_values('omega_v_G14'), label=f'omega_v_G14')\n",
    "\n",
    "for ax in axes:\n",
    "    ax.legend(loc='upper right')\n",
    "    ax.grid(True)"
   ]
  },
  {
   "cell_type": "code",
   "execution_count": 7,
   "metadata": {},
   "outputs": [
    {
     "ename": "NameError",
     "evalue": "name 'loads' is not defined",
     "output_type": "error",
     "traceback": [
      "\u001b[1;31m---------------------------------------------------------------------------\u001b[0m",
      "\u001b[1;31mNameError\u001b[0m                                 Traceback (most recent call last)",
      "\u001b[1;32m<ipython-input-7-a9d342ef936d>\u001b[0m in \u001b[0;36m<module>\u001b[1;34m\u001b[0m\n\u001b[1;32m----> 1\u001b[1;33m \u001b[0mloads_kva\u001b[0m \u001b[1;33m=\u001b[0m \u001b[1;33m[\u001b[0m\u001b[0mitem\u001b[0m\u001b[1;33m[\u001b[0m\u001b[1;34m'kVA'\u001b[0m\u001b[1;33m]\u001b[0m \u001b[1;32mfor\u001b[0m \u001b[0mitem\u001b[0m \u001b[1;32min\u001b[0m \u001b[0mloads\u001b[0m\u001b[1;33m]\u001b[0m\u001b[1;33m\u001b[0m\u001b[1;33m\u001b[0m\u001b[0m\n\u001b[0m",
      "\u001b[1;31mNameError\u001b[0m: name 'loads' is not defined"
     ]
    }
   ],
   "source": [
    "loads_kva = [item['kVA'] for item in loads] "
   ]
  },
  {
   "cell_type": "code",
   "execution_count": null,
   "metadata": {},
   "outputs": [],
   "source": [
    "ssa.damp_report(syst).round(3)"
   ]
  },
  {
   "cell_type": "code",
   "execution_count": 78,
   "metadata": {},
   "outputs": [
    {
     "data": {
      "text/plain": [
       "205.0"
      ]
     },
     "execution_count": 78,
     "metadata": {},
     "output_type": "execute_result"
    }
   ],
   "source": [
    "np.sum(np.array(loads_kva))"
   ]
  },
  {
   "cell_type": "code",
   "execution_count": 9,
   "metadata": {},
   "outputs": [
    {
     "data": {
      "text/plain": [
       "(-190000.00000000006-62449.97998398403j)"
      ]
     },
     "execution_count": 9,
     "metadata": {},
     "output_type": "execute_result"
    }
   ],
   "source": [
    "get_s(syst,'R01')"
   ]
  },
  {
   "cell_type": "code",
   "execution_count": 11,
   "metadata": {},
   "outputs": [
    {
     "data": {
      "application/vnd.jupyter.widget-view+json": {
       "model_id": "8c28efe9fe58442c9a8d16db760edac1",
       "version_major": 2,
       "version_minor": 0
      },
      "text/plain": [
       "Canvas(toolbar=Toolbar(toolitems=[('Home', 'Reset original view', 'home', 'home'), ('Back', 'Back to previous …"
      ]
     },
     "metadata": {},
     "output_type": "display_data"
    },
    {
     "name": "stdout",
     "output_type": "stream",
     "text": [
      "V_R18 = [-10.66,301.58, |V_R18| = 369.586]\n",
      "V_R18 = [398270.37,144564.01, |V_R18| = 369.586]\n"
     ]
    }
   ],
   "source": [
    "fig, axes = plt.subplots(nrows=4, figsize=(7, 10), dpi=50)\n",
    "\n",
    "\n",
    "#for ig in range(1,6):\n",
    "#axes[0].plot(T, (Z[:,0]-, label=f'$\\Delta f_{{coi}}$')\n",
    "\n",
    "bus = 'R18'\n",
    "v_d = Y[:,syst.y_list.index(f'v_{bus}_d')]\n",
    "v_q = Y[:,syst.y_list.index(f'v_{bus}_q')]\n",
    "axes[0].plot(T, np.abs(v_d+1j*v_q)*np.sqrt(3/2), label=f'{bus}: $V$')\n",
    "\n",
    "bus = 'R00'\n",
    "v_d = Z[:,0]\n",
    "v_q = Z[:,1]\n",
    "\n",
    "i_d = Y[:,syst.y_list.index(f'i_{bus}_d')]\n",
    "i_q = Y[:,syst.y_list.index(f'i_{bus}_q')]\n",
    "\n",
    "p = 3/2*(i_d*v_d + i_q*v_q)\n",
    "q = 3/2*(i_q*v_d - i_d*v_q)\n",
    "\n",
    "axes[1].plot(T, p/1000, label=f'{bus}: $p$')\n",
    "axes[1].plot(T, q/1000, label=f'{bus}: $p$')\n",
    "\n",
    "v_r18_d = Y[-1,syst.y_list.index('v_R18_d')]\n",
    "v_r18_q = Y[-1,syst.y_list.index('v_R18_q')]\n",
    "v_r18_m = np.abs(v_r18_d+1j*v_r18_q)*np.sqrt(3/2)\n",
    "print(f'V_R18 = [{v_r18_d:0.2f},{v_r18_q:0.2f}, |V_R18| = {v_r18_m:0.3f}]' )\n",
    "print(f'V_R18 = [{p[-1]:0.2f},{q[-1]:0.2f}, |V_R18| = {v_r18_m:0.3f}]' )"
   ]
  },
  {
   "cell_type": "code",
   "execution_count": 29,
   "metadata": {},
   "outputs": [],
   "source": [
    "buses = [{\"bus\":\"R00\"},{\"bus\":\"R01\"},{\"bus\":\"R02\"},{\"bus\":\"R03\"},{\"bus\":\"R04\"},{\"bus\":\"R05\"},{\"bus\":\"R06\"},\n",
    "        {\"bus\":\"R07\"},{\"bus\":\"R08\"},{\"bus\":\"R09\"},{\"bus\":\"R10\"},{\"bus\":\"R11\"},{\"bus\":\"R12\"},\n",
    "        {\"bus\":\"R13\"},{\"bus\":\"R14\"},{\"bus\":\"R15\"},{\"bus\":\"R16\"},{\"bus\":\"R17\"},{\"bus\":\"R18\"}]"
   ]
  },
  {
   "cell_type": "code",
   "execution_count": 30,
   "metadata": {},
   "outputs": [],
   "source": [
    "buses_list = [bus['bus'] for bus in buses]"
   ]
  },
  {
   "cell_type": "code",
   "execution_count": 33,
   "metadata": {},
   "outputs": [],
   "source": [
    "ds_v = [1.0,0.9808973,0.9722749,0.9636541,0.9556469,0.9498654,0.9440847,0.9406105,0.9371365,\n",
    "0.9336628,0.9316682,0.9612911,0.9455948,0.9355475,0.925505,0.9154676,0.935177,\n",
    "0.9279505,0.923964]"
   ]
  },
  {
   "cell_type": "code",
   "execution_count": 129,
   "metadata": {},
   "outputs": [
    {
     "name": "stdout",
     "output_type": "stream",
     "text": [
      "Bus   |  v_m  |  error  |p      | q      \n",
      ":-----|:------|--------:|------:|---------:\n",
      "R00   | 400.0 | 0.0000% | 398.27|  144.56\n",
      "R01   | 392.4 | 0.0000% |-190.00|  -62.45\n",
      "R02   | 388.9 | 0.0000% |   0.00|   -0.00\n",
      "R03   | 385.5 | 0.0000% |   0.00|   -0.00\n",
      "R04   | 382.3 | 0.0000% |   0.00|   -0.00\n",
      "R05   | 379.9 | 0.0000% |   0.00|   -0.00\n",
      "R06   | 377.6 | 0.0000% |   0.00|   -0.00\n",
      "R07   | 376.2 | 0.0000% |   0.00|   -0.00\n",
      "R08   | 374.9 | 0.0000% |   0.00|   -0.00\n",
      "R09   | 373.5 | 0.0000% |   0.00|   -0.00\n",
      "R10   | 372.7 | 0.0000% |   0.00|   -0.00\n",
      "R11   | 384.5 | 0.0000% | -14.25|   -4.68\n",
      "R12   | 378.2 | 0.0000% |   0.00|   -0.00\n",
      "R13   | 374.2 | 0.0000% |   0.00|   -0.00\n",
      "R14   | 370.2 | 0.0000% |   0.00|   -0.00\n",
      "R15   | 366.2 | 0.0000% | -49.40|  -16.24\n",
      "R16   | 374.1 | 0.0000% | -52.25|  -17.17\n",
      "R17   | 371.2 | 0.0000% | -33.25|  -10.93\n",
      "R18   | 369.6 | 0.0000% | -44.65|  -14.68\n"
     ]
    }
   ],
   "source": [
    "it = 0\n",
    "p_total = 0.0\n",
    "header = f\"{'Bus':6s}|  {'v_m':5s}|  {'error':7s}|{'p':7s}| {'q':7s}\"\n",
    "print(header)\n",
    "print(':-----|:------|--------:|------:|---------:')\n",
    "for bus in buses:\n",
    "    #if bus['bus']=='R00': continue\n",
    "\n",
    "    v_m = get_v(syst,bus['bus'])\n",
    "    s = get_s(syst,bus['bus'])\n",
    "    \n",
    "    error = v_m/400 -ds_v[it] \n",
    "    \n",
    "    print(f\"{bus['bus']:6s}| {v_m:5.1f} | {100*np.abs(error):6.4f}% |{s.real/1000:7.2f}| {s.imag/1000:7.2f}\")\n",
    "    p_total += s.real\n",
    "    it+=1"
   ]
  },
  {
   "cell_type": "code",
   "execution_count": 71,
   "metadata": {},
   "outputs": [
    {
     "ename": "NameError",
     "evalue": "name 'buses' is not defined",
     "output_type": "error",
     "traceback": [
      "\u001b[1;31m---------------------------------------------------------------------------\u001b[0m",
      "\u001b[1;31mNameError\u001b[0m                                 Traceback (most recent call last)",
      "\u001b[1;32m<ipython-input-71-9f538b23329f>\u001b[0m in \u001b[0;36m<module>\u001b[1;34m\u001b[0m\n\u001b[1;32m----> 1\u001b[1;33m data = {'bus':[bus['bus'] for bus in buses],\n\u001b[0m\u001b[0;32m      2\u001b[0m         \u001b[1;34m'v_m'\u001b[0m\u001b[1;33m:\u001b[0m\u001b[1;33m[\u001b[0m\u001b[0mget_v\u001b[0m\u001b[1;33m(\u001b[0m\u001b[0msyst\u001b[0m\u001b[1;33m,\u001b[0m\u001b[0mbus\u001b[0m\u001b[1;33m[\u001b[0m\u001b[1;34m'bus'\u001b[0m\u001b[1;33m]\u001b[0m\u001b[1;33m)\u001b[0m \u001b[1;32mfor\u001b[0m \u001b[0mbus\u001b[0m \u001b[1;32min\u001b[0m \u001b[0mbuses\u001b[0m\u001b[1;33m]\u001b[0m\u001b[1;33m,\u001b[0m\u001b[1;33m\u001b[0m\u001b[1;33m\u001b[0m\u001b[0m\n\u001b[0;32m      3\u001b[0m         \u001b[1;34m'p'\u001b[0m\u001b[1;33m:\u001b[0m\u001b[1;33m[\u001b[0m\u001b[0mget_s\u001b[0m\u001b[1;33m(\u001b[0m\u001b[0msyst\u001b[0m\u001b[1;33m,\u001b[0m\u001b[0mbus\u001b[0m\u001b[1;33m[\u001b[0m\u001b[1;34m'bus'\u001b[0m\u001b[1;33m]\u001b[0m\u001b[1;33m)\u001b[0m\u001b[1;33m.\u001b[0m\u001b[0mreal\u001b[0m\u001b[1;33m/\u001b[0m\u001b[1;36m1000\u001b[0m \u001b[1;32mfor\u001b[0m \u001b[0mbus\u001b[0m \u001b[1;32min\u001b[0m \u001b[0mbuses\u001b[0m\u001b[1;33m]\u001b[0m\u001b[1;33m,\u001b[0m\u001b[1;33m\u001b[0m\u001b[1;33m\u001b[0m\u001b[0m\n\u001b[0;32m      4\u001b[0m         'q':[get_s(syst,bus['bus']).imag/1000 for bus in buses]}\n\u001b[0;32m      5\u001b[0m \u001b[0mdf\u001b[0m \u001b[1;33m=\u001b[0m \u001b[0mpd\u001b[0m\u001b[1;33m.\u001b[0m\u001b[0mDataFrame\u001b[0m\u001b[1;33m(\u001b[0m\u001b[0mdata\u001b[0m\u001b[1;33m=\u001b[0m\u001b[0mdata\u001b[0m\u001b[1;33m)\u001b[0m\u001b[1;33m\u001b[0m\u001b[1;33m\u001b[0m\u001b[0m\n",
      "\u001b[1;31mNameError\u001b[0m: name 'buses' is not defined"
     ]
    }
   ],
   "source": [
    "data = {'bus':[bus['bus'] for bus in buses],\n",
    "        'v_m':[get_v(syst,bus['bus']) for bus in buses],\n",
    "        'p':[get_s(syst,bus['bus']).real/1000 for bus in buses],\n",
    "        'q':[get_s(syst,bus['bus']).imag/1000 for bus in buses]}\n",
    "df = pd.DataFrame(data=data)\n",
    "df.set_index('bus')\n",
    "\n",
    "df['v_m'] = df['v_m'].apply(lambda x: \"{:,.1f}\".format(x))\n",
    "df['p'] = df['p'].apply(lambda x: \"{:,.1f}\".format(x))\n",
    "df['q'] = df['q'].apply(lambda x: \"{:,.1f}\".format(x))\n",
    "df = df.set_index('bus')\n",
    "df"
   ]
  },
  {
   "cell_type": "code",
   "execution_count": null,
   "metadata": {},
   "outputs": [],
   "source": []
  },
  {
   "cell_type": "code",
   "execution_count": 89,
   "metadata": {},
   "outputs": [],
   "source": [
    "import sympy as sym\n",
    "v_d,v_q,i_d,i_q = sym.symbols('v_d,v_q,i_d,i_q', real=True)\n",
    "i_p_ref,i_q_ref = sym.symbols('i_p_ref,i_q_ref ', real=True)\n",
    "v_dq = v_q +1j*v_d\n",
    "i_dq = i_q +1j*i_d\n",
    "s = 3/2*v_dq*np.conj(i_dq)\n",
    "\n",
    "v_m = sym.sqrt(v_d**2+v_q**2)\n",
    "\n",
    "g_p = -i_p_ref + 3/2*(i_d*v_d + i_q*v_q)/v_m\n",
    "g_q = -i_q_ref + 3/2*(i_q*v_d - i_d*v_q)/v_m"
   ]
  },
  {
   "cell_type": "code",
   "execution_count": 90,
   "metadata": {},
   "outputs": [],
   "source": [
    "sol = sym.solve([g_p,g_q],[i_d,i_q])"
   ]
  },
  {
   "cell_type": "code",
   "execution_count": 91,
   "metadata": {},
   "outputs": [
    {
     "name": "stdout",
     "output_type": "stream",
     "text": [
      "0.666666666666667*(i_p_ref*v_q + i_q_ref*v_d)/sqrt(v_d**2 + v_q**2)\n"
     ]
    }
   ],
   "source": [
    "print(sol[i_q])"
   ]
  },
  {
   "cell_type": "code",
   "execution_count": 92,
   "metadata": {},
   "outputs": [
    {
     "ename": "NameError",
     "evalue": "name 'sqrt' is not defined",
     "output_type": "error",
     "traceback": [
      "\u001b[1;31m---------------------------------------------------------------------------\u001b[0m",
      "\u001b[1;31mNameError\u001b[0m                                 Traceback (most recent call last)",
      "\u001b[1;32m<ipython-input-92-db2d5c32896c>\u001b[0m in \u001b[0;36m<module>\u001b[1;34m\u001b[0m\n\u001b[1;32m----> 1\u001b[1;33m \u001b[0mi_d_ref\u001b[0m \u001b[1;33m=\u001b[0m \u001b[1;36m2\u001b[0m\u001b[1;33m/\u001b[0m\u001b[1;36m3\u001b[0m\u001b[1;33m*\u001b[0m\u001b[1;33m(\u001b[0m\u001b[0mi_p_ref\u001b[0m\u001b[1;33m*\u001b[0m\u001b[0mv_d\u001b[0m \u001b[1;33m-\u001b[0m \u001b[0mi_q_ref\u001b[0m\u001b[1;33m*\u001b[0m\u001b[0mv_q\u001b[0m\u001b[1;33m)\u001b[0m\u001b[1;33m/\u001b[0m\u001b[0msqrt\u001b[0m\u001b[1;33m(\u001b[0m\u001b[0mv_d\u001b[0m\u001b[1;33m^\u001b[0m\u001b[1;36m2\u001b[0m \u001b[1;33m+\u001b[0m \u001b[0mv_q\u001b[0m\u001b[1;33m^\u001b[0m\u001b[1;36m2\u001b[0m\u001b[1;33m)\u001b[0m\u001b[1;33m\u001b[0m\u001b[1;33m\u001b[0m\u001b[0m\n\u001b[0m\u001b[0;32m      2\u001b[0m \u001b[0mi_q_ref\u001b[0m \u001b[1;33m=\u001b[0m \u001b[1;36m2\u001b[0m\u001b[1;33m/\u001b[0m\u001b[1;36m3\u001b[0m\u001b[1;33m*\u001b[0m\u001b[1;33m(\u001b[0m\u001b[0mi_p_ref\u001b[0m\u001b[1;33m*\u001b[0m\u001b[0mv_q\u001b[0m \u001b[1;33m+\u001b[0m \u001b[0mi_q_ref\u001b[0m\u001b[1;33m*\u001b[0m\u001b[0mv_d\u001b[0m\u001b[1;33m)\u001b[0m\u001b[1;33m/\u001b[0m\u001b[0msqrt\u001b[0m\u001b[1;33m(\u001b[0m\u001b[0mv_d\u001b[0m\u001b[1;33m^\u001b[0m\u001b[1;36m2\u001b[0m \u001b[1;33m+\u001b[0m \u001b[0mv_q\u001b[0m\u001b[1;33m^\u001b[0m\u001b[1;36m2\u001b[0m\u001b[1;33m)\u001b[0m\u001b[1;33m\u001b[0m\u001b[1;33m\u001b[0m\u001b[0m\n",
      "\u001b[1;31mNameError\u001b[0m: name 'sqrt' is not defined"
     ]
    }
   ],
   "source": [
    "i_d_ref = 2/3*(i_p_ref*v_d - i_q_ref*v_q)/sqrt(v_d^2 + v_q^2)\n",
    "i_q_ref = 2/3*(i_p_ref*v_q + i_q_ref*v_d)/sqrt(v_d^2 + v_q^2)\n"
   ]
  },
  {
   "cell_type": "code",
   "execution_count": 11,
   "metadata": {},
   "outputs": [
    {
     "ename": "AttributeError",
     "evalue": "'cigre_lv_res_vsg_class' object has no attribute 'u_run'",
     "output_type": "error",
     "traceback": [
      "\u001b[1;31m---------------------------------------------------------------------------\u001b[0m",
      "\u001b[1;31mAttributeError\u001b[0m                            Traceback (most recent call last)",
      "\u001b[1;32m<ipython-input-11-8b190c1376d5>\u001b[0m in \u001b[0;36m<module>\u001b[1;34m\u001b[0m\n\u001b[1;32m----> 1\u001b[1;33m \u001b[0msyst\u001b[0m\u001b[1;33m.\u001b[0m\u001b[0mu_run\u001b[0m\u001b[1;33m\u001b[0m\u001b[1;33m\u001b[0m\u001b[0m\n\u001b[0m",
      "\u001b[1;31mAttributeError\u001b[0m: 'cigre_lv_res_vsg_class' object has no attribute 'u_run'"
     ]
    }
   ],
   "source": [
    "syst.u_run"
   ]
  },
  {
   "cell_type": "code",
   "execution_count": null,
   "metadata": {},
   "outputs": [],
   "source": []
  }
 ],
 "metadata": {
  "kernelspec": {
   "display_name": "Python 3",
   "language": "python",
   "name": "python3"
  },
  "language_info": {
   "codemirror_mode": {
    "name": "ipython",
    "version": 3
   },
   "file_extension": ".py",
   "mimetype": "text/x-python",
   "name": "python",
   "nbconvert_exporter": "python",
   "pygments_lexer": "ipython3",
   "version": "3.8.5"
  }
 },
 "nbformat": 4,
 "nbformat_minor": 4
}
