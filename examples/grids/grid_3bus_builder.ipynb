{
 "cells": [
  {
   "cell_type": "code",
   "execution_count": 1,
   "metadata": {},
   "outputs": [],
   "source": [
    "import numpy as np\n",
    "import pydae.build as db\n",
    "import sympy as sym\n",
    "from pydae.models import grid2dae_dq"
   ]
  },
  {
   "cell_type": "code",
   "execution_count": null,
   "metadata": {},
   "outputs": [],
   "source": []
  },
  {
   "cell_type": "code",
   "execution_count": 9,
   "metadata": {},
   "outputs": [],
   "source": [
    "U_b = 20e3\n",
    "V_b = U_b/np.sqrt(3)\n",
    "\n",
    "R_ph_km   = 0.501\n",
    "X_ph_km   = 0.716\n",
    "B_ph_muS_km = 47.493\n",
    "\n",
    "Length_12_13_km = 4.89\n",
    "Length_13_14_km = 2.99\n",
    "\n",
    "R_12_13 = Length_12_13_km*R_ph_km\n",
    "X_12_13 = Length_12_13_km*X_ph_km\n",
    "B_12_13 = Length_12_13_km*B_ph_muS_km*1e-6\n",
    "\n",
    "R_13_14 = Length_13_14_km*R_ph_km\n",
    "X_13_14 = Length_13_14_km*X_ph_km\n",
    "B_13_14 = Length_13_14_km*B_ph_muS_km*1e-6\n",
    "\n",
    "\n",
    "data = {\n",
    "\"system\":{\"f_hz\":50,\"model_type\":\"ode\"},\n",
    "\"buses\": [{\"bus\":\"12\"},{\"bus\":\"13\"},{\"bus\":\"14\"}],\n",
    "\"lines\":     [  \n",
    "              # {\"bus_j\":\"0\", \"bus_k\":\"12\", \"R\":0.016, \"X\":1.92, \"B\":B_12_13/10},\n",
    "                {\"bus_j\":\"12\", \"bus_k\":\"13\", \"R_km\":0.501, \"X_km\":0.716, \"B_muS_km\":47.493, \"km\":4.89},\n",
    "                {\"bus_j\":\"13\", \"bus_k\":\"14\", \"R_km\":0.501, \"X_km\":0.716, \"B_muS_km\":47.493, \"km\":2.99},\n",
    "             ],\n",
    "\"loads\" : [\n",
    "        #{\"bus\": \"12\", \"kVA\":0e3, \"pf\": 0.95, \"T_i\":0.01,\"I_max\":1200},\n",
    "        #{\"bus\": \"13\", \"kVA\":0e3, \"pf\": 0.95, \"T_i\":0.01,\"I_max\":1200},\n",
    "        #{\"bus\": \"14\", \"kVA\":0e3, \"pf\": 0.95, \"T_i\":0.01,\"I_max\":1200}\n",
    "        ],\n",
    "\"grid_formers\" : [\n",
    "                  #{\"bus\": \"12\",\"V_phph\":20.0e3, \"deg\":0.0},\n",
    "                 ]}"
   ]
  },
  {
   "cell_type": "code",
   "execution_count": 10,
   "metadata": {},
   "outputs": [
    {
     "data": {
      "text/plain": [
       "15300"
      ]
     },
     "execution_count": 10,
     "metadata": {},
     "output_type": "execute_result"
    }
   ],
   "source": [
    "15300"
   ]
  },
  {
   "cell_type": "code",
   "execution_count": null,
   "metadata": {},
   "outputs": [],
   "source": []
  },
  {
   "cell_type": "code",
   "execution_count": 11,
   "metadata": {},
   "outputs": [],
   "source": [
    "grid_dae  = grid2dae_dq(data,park_type = 'fisix')\n",
    "\n",
    "'''\n",
    "grid_formers = data[\"grid_formers\"]\n",
    "for grid_former in grid_formers:\n",
    "    bus = grid_former['bus']\n",
    "    idx_D = grid_dae['x_list'].index(f'v_{bus}_D')\n",
    "    grid_dae['f'].pop(idx_D)\n",
    "    grid_dae['x'].pop(idx_D)\n",
    "    grid_dae['x_list'].pop(idx_D)\n",
    "    grid_dae['u'].update({f'v_{bus}_D':grid_former[\"V_phph\"]*np.sqrt(2/3)*np.sin(np.deg2rad(grid_former[\"deg\"]))})\n",
    "    idx_Q = grid_dae['x_list'].index(f'v_{bus}_Q')\n",
    "    grid_dae['f'].pop(idx_Q)\n",
    "    grid_dae['x'].pop(idx_Q)\n",
    "    grid_dae['x_list'].pop(idx_Q)\n",
    "    grid_dae['u'].update({f'v_{bus}_Q':grid_former[\"V_phph\"]*np.sqrt(2/3)*np.cos(np.deg2rad(grid_former[\"deg\"]))})\n",
    "'''    \n",
    "f_list = grid_dae['f']  \n",
    "x_list = grid_dae['x']   \n",
    "\n",
    "g_list = grid_dae['g']  \n",
    "y_list = grid_dae['y']  \n",
    "params_dict = grid_dae['params'] \n",
    "u_run_dict = grid_dae['u'] \n",
    "u_run_dict.update({'ina':0})\n",
    "a = sym.Symbol('a')\n",
    "ina = sym.Symbol('ina')\n",
    "y_list = ['a']\n",
    "g_list = [1-a]\n",
    "sys = {'name':'grid_3bus',\n",
    "       'params_dict':params_dict,\n",
    "       'f_list':f_list,\n",
    "       'g_list':g_list,\n",
    "       'x_list':x_list,\n",
    "       'y_ini_list':y_list,\n",
    "       'y_run_list':y_list,\n",
    "       'u_run_dict':u_run_dict,\n",
    "       'u_ini_dict':u_run_dict,\n",
    "       'h_dict':{'i_R06_d':y_list[0]}\n",
    "      }\n",
    "\n",
    "sys = db.system(sys)\n",
    "db.sys2num(sys)"
   ]
  },
  {
   "cell_type": "code",
   "execution_count": 12,
   "metadata": {},
   "outputs": [
    {
     "data": {
      "text/plain": [
       "{'f': [(-L_1213*i_l_1213_Q*omega - R_1213*i_l_1213_D + v_12_D - v_13_D)/L_1213,\n",
       "  (L_1213*i_l_1213_D*omega - R_1213*i_l_1213_Q + v_12_Q - v_13_Q)/L_1213,\n",
       "  (-L_1314*i_l_1314_Q*omega - R_1314*i_l_1314_D + v_13_D - v_14_D)/L_1314,\n",
       "  (L_1314*i_l_1314_D*omega - R_1314*i_l_1314_Q + v_13_Q - v_14_Q)/L_1314,\n",
       "  2*(-C_1213*omega*v_12_Q/2 + i_12_D - i_l_1213_D)/C_1213,\n",
       "  2*(C_1213*omega*v_12_D/2 + i_12_Q - i_l_1213_Q)/C_1213,\n",
       "  (i_13_D + i_l_1213_D - i_l_1314_D + omega*v_13_Q*(-C_1213/2 - C_1314/2))/(C_1213/2 + C_1314/2),\n",
       "  (i_13_Q + i_l_1213_Q - i_l_1314_Q - omega*v_13_D*(-C_1213/2 - C_1314/2))/(C_1213/2 + C_1314/2),\n",
       "  2*(-C_1314*omega*v_14_Q/2 + i_14_D + i_l_1314_D)/C_1314,\n",
       "  2*(C_1314*omega*v_14_D/2 + i_14_Q + i_l_1314_Q)/C_1314],\n",
       " 'g': [],\n",
       " 'x': [i_l_1213_D,\n",
       "  i_l_1213_Q,\n",
       "  i_l_1314_D,\n",
       "  i_l_1314_Q,\n",
       "  v_12_D,\n",
       "  v_12_Q,\n",
       "  v_13_D,\n",
       "  v_13_Q,\n",
       "  v_14_D,\n",
       "  v_14_Q],\n",
       " 'y': [],\n",
       " 'x_list': ['i_l_1213_D',\n",
       "  'i_l_1213_Q',\n",
       "  'i_l_1314_D',\n",
       "  'i_l_1314_Q',\n",
       "  'v_12_D',\n",
       "  'v_12_Q',\n",
       "  'v_13_D',\n",
       "  'v_13_Q',\n",
       "  'v_14_D',\n",
       "  'v_14_Q'],\n",
       " 'u': {'ina': 0},\n",
       " 'params': {'R_1213': 2.44989,\n",
       "  'L_1213': 0.011144793059021352,\n",
       "  'C_1213': 7.392453306593591e-07,\n",
       "  'R_1314': 1.4979900000000002,\n",
       "  'L_1314': 0.006814505367377064,\n",
       "  'C_1314': 4.520129935933505e-07,\n",
       "  'i_12_D': 0.0,\n",
       "  'i_12_Q': 0.0,\n",
       "  'i_13_D': 0.0,\n",
       "  'i_13_Q': 0.0,\n",
       "  'i_14_D': 0.0,\n",
       "  'i_14_Q': 0.0,\n",
       "  'omega': 314.1592653589793},\n",
       " 'v_list': [v_12_D, v_12_Q, v_13_D, v_13_Q, v_14_D, v_14_Q]}"
      ]
     },
     "execution_count": 12,
     "metadata": {},
     "output_type": "execute_result"
    }
   ],
   "source": [
    "grid_dae"
   ]
  },
  {
   "cell_type": "code",
   "execution_count": 13,
   "metadata": {},
   "outputs": [
    {
     "data": {
      "text/plain": [
       "{'ina': 0}"
      ]
     },
     "execution_count": 13,
     "metadata": {},
     "output_type": "execute_result"
    }
   ],
   "source": [
    "u_run_dict"
   ]
  },
  {
   "cell_type": "code",
   "execution_count": null,
   "metadata": {},
   "outputs": [],
   "source": []
  },
  {
   "cell_type": "code",
   "execution_count": null,
   "metadata": {},
   "outputs": [],
   "source": []
  }
 ],
 "metadata": {
  "kernelspec": {
   "display_name": "Python 3",
   "language": "python",
   "name": "python3"
  },
  "language_info": {
   "codemirror_mode": {
    "name": "ipython",
    "version": 3
   },
   "file_extension": ".py",
   "mimetype": "text/x-python",
   "name": "python",
   "nbconvert_exporter": "python",
   "pygments_lexer": "ipython3",
   "version": "3.8.5"
  }
 },
 "nbformat": 4,
 "nbformat_minor": 4
}
