{
 "cells": [
  {
   "cell_type": "code",
   "execution_count": 1,
   "metadata": {},
   "outputs": [],
   "source": [
    "import numpy as np\n",
    "import sympy as sym\n",
    "import numba\n",
    "import pydae.build as db"
   ]
  },
  {
   "cell_type": "code",
   "execution_count": null,
   "metadata": {},
   "outputs": [],
   "source": []
  },
  {
   "cell_type": "markdown",
   "metadata": {},
   "source": [
    "\\begin{eqnarray}\n",
    "\\dot \\delta &=& \\Omega_b \\left(\\omega - \\omega_s\\right)\\\\\n",
    "\\dot \\omega &=& 1/(2 H) \\left(p_m - p_e - D (\\omega - \\omega_s) \\right)\\\\\n",
    "\\end{eqnarray}\n",
    "\n",
    "$$ \\sf\n",
    "\\Omega_{b} \\left(\\sf \\omega - \\omega_{s}\\right)\n",
    "$$"
   ]
  },
  {
   "cell_type": "markdown",
   "metadata": {},
   "source": [
    "## System definition "
   ]
  },
  {
   "cell_type": "code",
   "execution_count": 13,
   "metadata": {},
   "outputs": [],
   "source": [
    "params_dict = {'T_1':2.0}\n",
    "\n",
    "\n",
    "u_ini_dict = {'u_1':0.0}  # for the initialization problem\n",
    "u_run_dict = {'u_1':0.0}  # for the running problem (here initialization and running problem are the same)\n",
    "\n",
    "\n",
    "x_list = ['x_1']    \n",
    "y_ini_list = ['y_1'] \n",
    "y_run_list = ['y_1'] \n",
    "\n",
    "sys_vars = {'params':params_dict,\n",
    "            'u_list':u_run_dict,\n",
    "            'x_list':x_list,\n",
    "            'y_list':y_run_list}\n",
    "\n",
    "exec(db.sym_gen_str())  # exec to generate the required symbolic varables and constants"
   ]
  },
  {
   "cell_type": "code",
   "execution_count": 21,
   "metadata": {},
   "outputs": [],
   "source": [
    "dx1 = T_1*(u_1 - x_1)\n",
    "g_1 = x_1 - y_1\n",
    "\n",
    "f_list = [dx1,dx2]\n",
    "g_list = [g_1,g_2]\n",
    "h_dict = {'x_1':x_1**2,'y_1':y_1}\n",
    "\n",
    "\n",
    "sys = {'name':'test',\n",
    "       'params_dict':params_dict,\n",
    "       'f_list':f_list,\n",
    "       'g_list':g_list,\n",
    "       'x_list':x_list,\n",
    "       'y_ini_list':y_ini_list,\n",
    "       'y_run_list':y_run_list,\n",
    "       'u_run_dict':u_run_dict,\n",
    "       'u_ini_dict':u_ini_dict,\n",
    "       'h_dict':h_dict\n",
    "      }\n",
    "\n",
    "sys = db.system(sys)\n",
    "db.sys2num(sys)\n",
    "                "
   ]
  },
  {
   "cell_type": "code",
   "execution_count": 20,
   "metadata": {},
   "outputs": [
    {
     "data": {
      "text/plain": [
       "{'name': 'test',\n",
       " 'params_dict': {'T_1': 2.0},\n",
       " 'f_list': [T_1*(u_1 - x_1**3), T_2*(u_2 - x_2)],\n",
       " 'g_list': [1 - y_1, 1 - y_2],\n",
       " 'x_list': ['x_1'],\n",
       " 'y_ini_list': ['y_1'],\n",
       " 'y_run_list': ['y_1'],\n",
       " 'u_run_dict': {'u_1': 0.0},\n",
       " 'u_ini_dict': {'u_1': 0.0},\n",
       " 'h_dict': {'x_1': x_1**2, 'y_1': y_1},\n",
       " 'f': Matrix([\n",
       " [T_1*(u_1 - x_1**3)],\n",
       " [   T_2*(u_2 - x_2)]]),\n",
       " 'g': Matrix([\n",
       " [1 - y_1],\n",
       " [1 - y_2]]),\n",
       " 'x': Matrix([[x_1]]),\n",
       " 'y_ini': Matrix([[y_1]]),\n",
       " 'y_run': Matrix([[y_1]]),\n",
       " 'u_ini': Matrix([[u_1]]),\n",
       " 'u_run': Matrix([[u_1]]),\n",
       " 'h': Matrix([\n",
       " [x_1**2],\n",
       " [   y_1]]),\n",
       " 'Fx_run': Matrix([\n",
       " [-3*T_1*x_1**2],\n",
       " [            0]]),\n",
       " 'Fy_run': Matrix([\n",
       " [0],\n",
       " [0]]),\n",
       " 'Gx_run': Matrix([\n",
       " [0],\n",
       " [0]]),\n",
       " 'Gy_run': Matrix([\n",
       " [-1],\n",
       " [ 0]]),\n",
       " 'Fx_ini': Matrix([\n",
       " [-3*T_1*x_1**2],\n",
       " [            0]]),\n",
       " 'Fy_ini': Matrix([\n",
       " [0],\n",
       " [0]]),\n",
       " 'Gx_ini': Matrix([\n",
       " [0],\n",
       " [0]]),\n",
       " 'Gy_ini': Matrix([\n",
       " [-1],\n",
       " [ 0]]),\n",
       " 'Fu_run': Matrix([\n",
       " [T_1],\n",
       " [  0]]),\n",
       " 'Gu_run': Matrix([\n",
       " [0],\n",
       " [0]]),\n",
       " 'Hx_run': Matrix([\n",
       " [2*x_1],\n",
       " [    0]]),\n",
       " 'Hy_run': Matrix([\n",
       " [0],\n",
       " [1]]),\n",
       " 'Hu_run': Matrix([\n",
       " [0],\n",
       " [0]])}"
      ]
     },
     "execution_count": 20,
     "metadata": {},
     "output_type": "execute_result"
    }
   ],
   "source": [
    "sys"
   ]
  },
  {
   "cell_type": "code",
   "execution_count": null,
   "metadata": {},
   "outputs": [],
   "source": []
  }
 ],
 "metadata": {
  "kernelspec": {
   "display_name": "Python 3",
   "language": "python",
   "name": "python3"
  },
  "language_info": {
   "codemirror_mode": {
    "name": "ipython",
    "version": 3
   },
   "file_extension": ".py",
   "mimetype": "text/x-python",
   "name": "python",
   "nbconvert_exporter": "python",
   "pygments_lexer": "ipython3",
   "version": "3.8.8"
  }
 },
 "nbformat": 4,
 "nbformat_minor": 4
}
