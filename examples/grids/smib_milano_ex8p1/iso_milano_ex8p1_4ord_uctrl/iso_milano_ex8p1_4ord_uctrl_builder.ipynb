{
 "cells": [
  {
   "cell_type": "code",
   "execution_count": 1,
   "metadata": {},
   "outputs": [],
   "source": [
    "import numpy as np\n",
    "import sympy as sym\n",
    "import numba\n",
    "import pydae.build as db"
   ]
  },
  {
   "cell_type": "code",
   "execution_count": null,
   "metadata": {},
   "outputs": [],
   "source": []
  },
  {
   "cell_type": "markdown",
   "metadata": {},
   "source": [
    "### Electromechanical differential equations\n",
    "\\begin{eqnarray}\n",
    "f_1 &=& \\dot \\delta = \\Omega_b \\left( \\omega - \\omega_s  \\right) \\\\\n",
    "f_2 &=& \\dot \\omega = \\frac{1}{2H} \\left( p_m - p_e - D   \\left( \\omega - \\omega_s \\right) \\right)   \n",
    "\\end{eqnarray}\n",
    "\n",
    "### Electric rotor differential equations\n",
    "\\begin{eqnarray}\n",
    "f_3 &=& \\dot e_q' =  \\frac{1}{T'_{d0}} \\left( -e'_q - \\left(X_d - X'_d \\right) i_d + v_f^\\star \\right) \\\\\n",
    "f_4 &=& \\dot e'_d = \\frac{1}{T'_{q0}} \\left( -e'_d - \\left(X_q - X'_q \\right) i_q \\right)       \n",
    "\\end{eqnarray}\n",
    "\n",
    "\n",
    "### Park transform\n",
    "\\begin{eqnarray}\n",
    "v_d &=& v_t \\sin\\left(\\delta - \\theta_t\\right) \\\\\n",
    "v_q &=& v_t \\cos\\left(\\delta - \\theta_t\\right) \\\\\n",
    "p_e &=& \\left( v_q + R_a i_q  \\right) i_q + \\left( v_d + R_a i_d  \\right) i_d  \n",
    "\\end{eqnarray}\n",
    "\n",
    "### Stator equations\n",
    "\\begin{eqnarray}\n",
    "g_1 &=& v_q + R_a i_q + X'_d i_d - e'_q\\\\\n",
    "g_2 &=& v_d + R_a i_d - X'_q i_q - e'_d\\\\\n",
    "\\end{eqnarray}\n",
    "\n",
    "### Powers\n",
    "\\begin{eqnarray}\n",
    "g_3 &=&  i_d v_d + i_q v_q - p_t \\\\\n",
    "g_4 &=&  i_d v_q - i_q v_d - q_t\n",
    "\\end{eqnarray}\n",
    "\n",
    "### Network equations\n",
    "\\begin{eqnarray}\n",
    "g_5 &=&   p_t - \\left(v_t v_0 \\sin\\left(\\theta_t - \\theta_0\\right)\\right)/X_l\\\\\n",
    "g_6 &=&   q_t + \\left(v_t v_0 \\cos\\left(\\theta_t - \\theta_0\\right)\\right)/X_l - v_t^2/X_l \\\\\n",
    "g_7 &=&  p_l - \\left(v_0 v_t \\sin\\left(\\theta_0 - \\theta_t\\right)\\right)/X_l\\\\\n",
    "g_8 &=&  q_l + \\left(v_0 v_t \\cos\\left(\\theta_0 - \\theta_t\\right)\\right)/X_l - v_0^2/X_l\n",
    "\\end{eqnarray}    \n",
    "\n"
   ]
  },
  {
   "cell_type": "markdown",
   "metadata": {},
   "source": [
    "## System definition "
   ]
  },
  {
   "cell_type": "code",
   "execution_count": 23,
   "metadata": {},
   "outputs": [],
   "source": [
    "params_dict = {'X_d':1.81,'X1d':0.3, 'T1d0':8.0,  # synnchronous machine d-axis parameters\n",
    "               'X_q':1.76,'X1q':0.65,'T1q0':1.0,  # synnchronous machine q-axis parameters\n",
    "               'R_a':0.003,\n",
    "               'X_l': 0.02, \n",
    "               'H':3.5,'D':0.01,\n",
    "               'Omega_b':2*np.pi*50,'omega_s':1.0,\n",
    "               'K_delta':0.1,'K_v':1e-3\n",
    "               }\n",
    "\n",
    "u_ini_dict = {'v_t':0.8,'theta_t':1.0,'p_l':0.0,'q_l':0.0}  # for the initialization problem\n",
    "u_run_dict = {'p_m':0.8,'v_f':1.0,'p_l':0.0,'q_l':0.0}  # for the running problem (here initialization and running problem are the same)\n",
    "\n",
    "\n",
    "x_list = ['delta','omega','e1q','e1d']    # dynamic states\n",
    "y_ini_list = ['i_d','i_q','p_t','q_t','p_m','v_f','v_0','theta_0']   \n",
    "y_run_list = ['i_d','i_q','p_t','q_t','v_t','theta_t','v_0','theta_0']   \n",
    "\n",
    "sys_vars = {'params':params_dict,\n",
    "            'u_list':u_run_dict,\n",
    "            'x_list':x_list,\n",
    "            'y_list':y_run_list}\n",
    "\n",
    "exec(db.sym_gen_str())  # exec to generate the required symbolic varables and constants"
   ]
  },
  {
   "cell_type": "code",
   "execution_count": 24,
   "metadata": {},
   "outputs": [],
   "source": [
    "# auxiliar equations\n",
    "v_d = v_t*sin(delta - theta_t)  # park\n",
    "v_q = v_t*cos(delta - theta_t)  # park\n",
    "\n",
    "p_e = i_d*(v_d + R_a*i_d) + i_q*(v_q + R_a*i_q) # electromagnetic power\n",
    "\n",
    "# dynamic equations\n",
    "ddelta = Omega_b*(omega - omega_s) - K_delta*delta  # load angle\n",
    "domega = 1/(2*H)*(p_m - p_e - D*(omega - omega_s)) # speed\n",
    "de1q = 1/T1d0*(-e1q - (X_d - X1d)*i_d + v_f + K_v*(1-v_t))\n",
    "de1d = 1/T1q0*(-e1d + (X_q - X1q)*i_q)\n",
    "\n",
    "# algrbraic equations\n",
    "g_1 = v_q + R_a*i_q + X1d*i_d - e1q # stator\n",
    "g_2 = v_d + R_a*i_d - X1q*i_q - e1d # stator\n",
    "g_3 = i_d*v_d + i_q*v_q - p_t # active power \n",
    "g_4 = i_d*v_q - i_q*v_d - q_t # reactive power\n",
    "g_5 = p_t - (v_t*v_0*sin(theta_t - theta_0))/X_l  # network equation (p)\n",
    "g_6 = q_t + (v_t*v_0*cos(theta_t - theta_0))/X_l - v_t**2/X_l  # network equation (q) \n",
    "g_7 = -p_l - (v_t*v_0*sin(theta_0 - theta_t))/X_l  # network equation (p)\n",
    "g_8 = -q_l + (v_t*v_0*cos(theta_0 - theta_t))/X_l - v_0**2/X_l  # network equation (q)"
   ]
  },
  {
   "cell_type": "code",
   "execution_count": 25,
   "metadata": {},
   "outputs": [],
   "source": [
    "sys = {'name':'iso_milano_ex8p1_4ord_uctrl',\n",
    "       'params_dict':params,\n",
    "       'f_list':[ddelta,domega,de1q,de1d],\n",
    "       'g_list':[g_1,g_2,g_3,g_4,g_5,g_6,g_7,g_8],\n",
    "       'x_list':x_list,\n",
    "       'y_ini_list':y_ini_list,\n",
    "       'y_run_list':y_run_list,\n",
    "       'u_ini_dict':u_ini_dict,\n",
    "       'u_run_dict':u_run_dict,\n",
    "       'h_dict':{'p_m':p_m,'p_e':p_e, 'v_f':v_f}}\n",
    "\n",
    "sys = db.system(sys)\n",
    "db.sys2num(sys)"
   ]
  },
  {
   "cell_type": "code",
   "execution_count": 11,
   "metadata": {},
   "outputs": [
    {
     "data": {
      "text/plain": [
       "{'v_t': 0.8, 'theta_t': 1.0, 'p_l': 0.0, 'q_l': 0.0}"
      ]
     },
     "execution_count": 11,
     "metadata": {},
     "output_type": "execute_result"
    }
   ],
   "source": [
    "u_ini_dict"
   ]
  },
  {
   "cell_type": "code",
   "execution_count": 12,
   "metadata": {},
   "outputs": [
    {
     "data": {
      "text/plain": [
       "{'v_t': 0.8, 'theta_t': 1.0, 'p_l': 0.0, 'q_l': 0.0}"
      ]
     },
     "execution_count": 12,
     "metadata": {},
     "output_type": "execute_result"
    }
   ],
   "source": [
    "u_ini_dict"
   ]
  },
  {
   "cell_type": "code",
   "execution_count": null,
   "metadata": {},
   "outputs": [],
   "source": []
  }
 ],
 "metadata": {
  "kernelspec": {
   "display_name": "Python 3",
   "language": "python",
   "name": "python3"
  },
  "language_info": {
   "codemirror_mode": {
    "name": "ipython",
    "version": 3
   },
   "file_extension": ".py",
   "mimetype": "text/x-python",
   "name": "python",
   "nbconvert_exporter": "python",
   "pygments_lexer": "ipython3",
   "version": "3.8.5"
  }
 },
 "nbformat": 4,
 "nbformat_minor": 4
}
