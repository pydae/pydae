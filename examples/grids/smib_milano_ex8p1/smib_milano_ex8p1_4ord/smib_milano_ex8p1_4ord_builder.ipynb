{
 "cells": [
  {
   "cell_type": "code",
   "execution_count": 1,
   "metadata": {},
   "outputs": [],
   "source": [
    "import numpy as np\n",
    "import sympy as sym\n",
    "import numba\n",
    "import pydae.build as db"
   ]
  },
  {
   "cell_type": "code",
   "execution_count": null,
   "metadata": {},
   "outputs": [],
   "source": []
  },
  {
   "cell_type": "markdown",
   "metadata": {},
   "source": [
    "### Electromechanical differential equations\n",
    "\\begin{eqnarray}\n",
    "f_1 &=& \\dot \\delta = \\Omega_b \\left( \\omega - \\omega_s  \\right) \\\\\n",
    "f_2 &=& \\dot \\omega = \\frac{1}{2H} \\left( p_m - p_e - D   \\left( \\omega - \\omega_s \\right) \\right)   \n",
    "\\end{eqnarray}\n",
    "\n",
    "### Electric rotor differential equations\n",
    "\\begin{eqnarray}\n",
    "f_3 &=& \\dot e_q' =  \\frac{1}{T'_{d0}} \\left( -e'_q - \\left(X_d - X'_d \\right) i_d + v_f^\\star \\right) \\\\\n",
    "f_4 &=& \\dot e'_d = \\frac{1}{T'_{q0}} \\left( -e'_d - \\left(X_q - X'_q \\right) i_q \\right)       \n",
    "\\end{eqnarray}\n",
    "\n",
    "\n",
    "### Park transform\n",
    "\\begin{eqnarray}\n",
    "g_1 &=&-v_d + v_t \\sin\\left(\\delta - \\theta_t\\right) \\\\\n",
    "g_2 &=&-v_q + v_t \\cos\\left(\\delta - \\theta_t\\right) \n",
    "\\end{eqnarray}\n",
    "\n",
    "### Stator equations\n",
    "\\begin{eqnarray}\n",
    "g_3 &=& v_q + R_a i_q + X'_d i_d - e'_q\\\\\n",
    "g_4 &=& v_d + R_a i_d - X'_q i_q - e'_d\\\\\n",
    "\\end{eqnarray}\n",
    "\n",
    "### Powers\n",
    "\\begin{eqnarray}\n",
    "g_5 &=& -p_e + \\left( v_q + R_a i_q  \\right) i_q + \\left( v_d + R_a i_d  \\right) i_d \\\\\n",
    "g_6 &=&  i_d v_d + i_q v_q - p_t \\\\\n",
    "g_7 &=&  i_d v_q - i_q v_d - q_t\n",
    "\\end{eqnarray}\n",
    "\n",
    "### Network equations\n",
    "\\begin{eqnarray}\n",
    "g_8 &=&   p_t - \\left(v_t V_0 \\sin\\left(\\theta_t - \\Theta_0\\right)\\right)/X_l\\\\\n",
    "g_9 &=&   q_t + \\left(v_t V_0 \\cos\\left(\\theta_t - \\Theta_0\\right)\\right)/X_l - v_t^2/X_l \n",
    "\\end{eqnarray}    \n",
    "\n"
   ]
  },
  {
   "cell_type": "markdown",
   "metadata": {},
   "source": [
    "## System definition "
   ]
  },
  {
   "cell_type": "code",
   "execution_count": 1,
   "metadata": {},
   "outputs": [
    {
     "ename": "NameError",
     "evalue": "name 'np' is not defined",
     "output_type": "error",
     "traceback": [
      "\u001b[1;31m---------------------------------------------------------------------------\u001b[0m",
      "\u001b[1;31mNameError\u001b[0m                                 Traceback (most recent call last)",
      "\u001b[1;32m<ipython-input-1-d69a2f833d73>\u001b[0m in \u001b[0;36m<module>\u001b[1;34m\u001b[0m\n\u001b[0;32m      4\u001b[0m                \u001b[1;34m'X_l'\u001b[0m\u001b[1;33m:\u001b[0m \u001b[1;36m0.02\u001b[0m\u001b[1;33m,\u001b[0m\u001b[1;33m\u001b[0m\u001b[1;33m\u001b[0m\u001b[0m\n\u001b[0;32m      5\u001b[0m                \u001b[1;34m'H'\u001b[0m\u001b[1;33m:\u001b[0m\u001b[1;36m3.5\u001b[0m\u001b[1;33m,\u001b[0m\u001b[1;34m'D'\u001b[0m\u001b[1;33m:\u001b[0m\u001b[1;36m0.0\u001b[0m\u001b[1;33m,\u001b[0m\u001b[1;33m\u001b[0m\u001b[1;33m\u001b[0m\u001b[0m\n\u001b[1;32m----> 6\u001b[1;33m                \u001b[1;34m'Omega_b'\u001b[0m\u001b[1;33m:\u001b[0m\u001b[1;36m2\u001b[0m\u001b[1;33m*\u001b[0m\u001b[0mnp\u001b[0m\u001b[1;33m.\u001b[0m\u001b[0mpi\u001b[0m\u001b[1;33m*\u001b[0m\u001b[1;36m50\u001b[0m\u001b[1;33m,\u001b[0m\u001b[1;34m'omega_s'\u001b[0m\u001b[1;33m:\u001b[0m\u001b[1;36m1.0\u001b[0m\u001b[1;33m,\u001b[0m\u001b[1;33m\u001b[0m\u001b[1;33m\u001b[0m\u001b[0m\n\u001b[0m\u001b[0;32m      7\u001b[0m                'V_0':1.0,'Theta_0':0.0}\n\u001b[0;32m      8\u001b[0m \u001b[1;33m\u001b[0m\u001b[0m\n",
      "\u001b[1;31mNameError\u001b[0m: name 'np' is not defined"
     ]
    }
   ],
   "source": [
    "params_dict = {'X_d':1.81,'X1d':0.3, 'T1d0':8.0,  # synnchronous machine d-axis parameters\n",
    "               'X_q':1.76,'X1q':0.65,'T1q0':1.0,  # synnchronous machine q-axis parameters\n",
    "               'R_a':0.003,\n",
    "               'X_l': 0.02, \n",
    "               'H':3.5,'D':0.0,\n",
    "               'Omega_b':2*np.pi*50,'omega_s':1.0,\n",
    "               'V_0':1.0,'Theta_0':0.0}\n",
    "\n",
    "\n",
    "u_ini_dict = {'p_m':0.8,'v_f':1.0}  # for the initialization problem\n",
    "u_run_dict = {'p_m':0.8,'v_f':1.0}  # for the running problem (here initialization and running problem are the same)\n",
    "\n",
    "\n",
    "x_list = ['delta','omega','e1q','e1d']    # dynamic states\n",
    "y_ini_list = ['i_d','i_q','p_t','q_t','v_t','theta_t']   \n",
    "y_run_list = ['i_d','i_q','p_t','q_t','v_t','theta_t']   \n",
    "\n",
    "sys_vars = {'params':params_dict,\n",
    "            'u_list':u_run_dict,\n",
    "            'x_list':x_list,\n",
    "            'y_list':y_run_list}\n",
    "\n",
    "exec(db.sym_gen_str())  # exec to generate the required symbolic varables and constants"
   ]
  },
  {
   "cell_type": "code",
   "execution_count": null,
   "metadata": {},
   "outputs": [],
   "source": [
    "# auxiliar equations\n",
    "v_d = v_t*sin(delta - theta_t)  # park\n",
    "v_q = v_t*cos(delta - theta_t)  # park\n",
    "\n",
    "p_e = i_d*(v_d + R_a*i_d) + i_q*(v_q + R_a*i_q) # electromagnetic power\n",
    "\n",
    "# dynamic equations\n",
    "ddelta = Omega_b*(omega - omega_s) - K_delta*delta  # load angle\n",
    "domega = 1/(2*H)*(p_m - p_e - D*(omega - omega_s)) # speed\n",
    "de1q = 1/T1d0*(-e1q - (X_d - X1d)*i_d + v_f)\n",
    "de1d = 1/T1q0*(-e1d + (X_q - X1q)*i_q)\n",
    "\n",
    "# algrbraic equations\n",
    "g_1 = v_q + R_a*i_q + X1d*i_d - e1q # stator\n",
    "g_2 = v_d + R_a*i_d - X1q*i_q - e1d # stator\n",
    "g_3 = i_d*v_d + i_q*v_q - p_t # active power \n",
    "g_4 = i_d*v_q - i_q*v_d - q_t # reactive power\n",
    "g_5 = p_t - (v_t*V_0*sin(theta_t - Theta_0))/X_l  # network equation (p)\n",
    "g_6 = q_t + (v_t*V_0*cos(theta_t - Theta_0))/X_l - v_t**2/X_l  # network equation (q)                "
   ]
  },
  {
   "cell_type": "code",
   "execution_count": 2,
   "metadata": {},
   "outputs": [
    {
     "ename": "NameError",
     "evalue": "name 'params' is not defined",
     "output_type": "error",
     "traceback": [
      "\u001b[1;31m---------------------------------------------------------------------------\u001b[0m",
      "\u001b[1;31mNameError\u001b[0m                                 Traceback (most recent call last)",
      "\u001b[1;32m<ipython-input-2-83863883e207>\u001b[0m in \u001b[0;36m<module>\u001b[1;34m\u001b[0m\n\u001b[0;32m      1\u001b[0m sys = {'name':'smib_milano_ex8p1_4ord',\n\u001b[1;32m----> 2\u001b[1;33m        \u001b[1;34m'params_dict'\u001b[0m\u001b[1;33m:\u001b[0m\u001b[0mparams\u001b[0m\u001b[1;33m,\u001b[0m\u001b[1;33m\u001b[0m\u001b[1;33m\u001b[0m\u001b[0m\n\u001b[0m\u001b[0;32m      3\u001b[0m        \u001b[1;34m'f_list'\u001b[0m\u001b[1;33m:\u001b[0m\u001b[1;33m[\u001b[0m\u001b[0mddelta\u001b[0m\u001b[1;33m,\u001b[0m\u001b[0mdomega\u001b[0m\u001b[1;33m,\u001b[0m\u001b[0mde1q\u001b[0m\u001b[1;33m,\u001b[0m\u001b[0mde1d\u001b[0m\u001b[1;33m]\u001b[0m\u001b[1;33m,\u001b[0m\u001b[1;33m\u001b[0m\u001b[1;33m\u001b[0m\u001b[0m\n\u001b[0;32m      4\u001b[0m        \u001b[1;34m'g_list'\u001b[0m\u001b[1;33m:\u001b[0m\u001b[1;33m[\u001b[0m\u001b[0mg_1\u001b[0m\u001b[1;33m,\u001b[0m\u001b[0mg_2\u001b[0m\u001b[1;33m,\u001b[0m\u001b[0mg_3\u001b[0m\u001b[1;33m,\u001b[0m\u001b[0mg_4\u001b[0m\u001b[1;33m,\u001b[0m\u001b[0mg_5\u001b[0m\u001b[1;33m,\u001b[0m\u001b[0mg_6\u001b[0m\u001b[1;33m]\u001b[0m\u001b[1;33m,\u001b[0m\u001b[1;33m\u001b[0m\u001b[1;33m\u001b[0m\u001b[0m\n\u001b[0;32m      5\u001b[0m        \u001b[1;34m'x_list'\u001b[0m\u001b[1;33m:\u001b[0m\u001b[0mx_list\u001b[0m\u001b[1;33m,\u001b[0m\u001b[1;33m\u001b[0m\u001b[1;33m\u001b[0m\u001b[0m\n",
      "\u001b[1;31mNameError\u001b[0m: name 'params' is not defined"
     ]
    }
   ],
   "source": [
    "sys = {'name':'smib_milano_ex8p1_4ord',\n",
    "       'params_dict':params,\n",
    "       'f_list':[ddelta,domega,de1q,de1d],\n",
    "       'g_list':[g_1,g_2,g_3,g_4,g_5,g_6],\n",
    "       'x_list':x_list,\n",
    "       'y_ini_list':y_ini_list,\n",
    "       'y_run_list':y_run_list,\n",
    "       'u_run_dict':u_run_dict,\n",
    "       'u_ini_dict':u_ini_dict,\n",
    "       'h_dict':{'p_m':p_m,'p_e':p_e, 'v_f':v_f}}\n",
    "\n",
    "sys = db.system(sys)\n",
    "db.sys2num(sys)"
   ]
  },
  {
   "cell_type": "code",
   "execution_count": null,
   "metadata": {},
   "outputs": [],
   "source": []
  }
 ],
 "metadata": {
  "kernelspec": {
   "display_name": "Python 3",
   "language": "python",
   "name": "python3"
  },
  "language_info": {
   "codemirror_mode": {
    "name": "ipython",
    "version": 3
   },
   "file_extension": ".py",
   "mimetype": "text/x-python",
   "name": "python",
   "nbconvert_exporter": "python",
   "pygments_lexer": "ipython3",
   "version": "3.8.8"
  }
 },
 "nbformat": 4,
 "nbformat_minor": 4
}
