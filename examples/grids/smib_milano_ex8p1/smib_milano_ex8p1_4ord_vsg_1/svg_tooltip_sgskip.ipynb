{
 "cells": [
  {
   "cell_type": "code",
   "execution_count": 1,
   "metadata": {},
   "outputs": [],
   "source": [
    "%matplotlib inline"
   ]
  },
  {
   "cell_type": "markdown",
   "metadata": {},
   "source": [
    "\n",
    "# SVG Tooltip\n",
    "\n",
    "\n",
    "This example shows how to create a tooltip that will show up when\n",
    "hovering over a matplotlib patch.\n",
    "\n",
    "Although it is possible to create the tooltip from CSS or javascript,\n",
    "here we create it in matplotlib and simply toggle its visibility on\n",
    "when hovering over the patch. This approach provides total control over\n",
    "the tooltip placement and appearance, at the expense of more code up\n",
    "front.\n",
    "\n",
    "The alternative approach would be to put the tooltip content in ``title``\n",
    "attributes of SVG objects. Then, using an existing js/CSS library, it\n",
    "would be relatively straightforward to create the tooltip in the\n",
    "browser. The content would be dictated by the ``title`` attribute, and\n",
    "the appearance by the CSS.\n",
    "\n",
    "\n",
    ":author: David Huard\n"
   ]
  },
  {
   "cell_type": "code",
   "execution_count": 2,
   "metadata": {},
   "outputs": [
    {
     "data": {
      "image/png": "[encoded data removed]",
      "text/plain": [
       "<Figure size 432x288 with 1 Axes>"
      ]
     },
     "metadata": {
      "needs_background": "light"
     },
     "output_type": "display_data"
    }
   ],
   "source": [
    "import matplotlib.pyplot as plt\n",
    "import xml.etree.ElementTree as ET\n",
    "from io import BytesIO\n",
    "\n",
    "ET.register_namespace(\"\", \"http://www.w3.org/2000/svg\")\n",
    "\n",
    "fig, ax = plt.subplots()\n",
    "\n",
    "# Create patches to which tooltips will be assigned.\n",
    "rect1 = plt.Rectangle((10, -20), 10, 5, fc='blue')\n",
    "rect2 = plt.Rectangle((-20, 15), 10, 5, fc='green')\n",
    "\n",
    "shapes = [rect1, rect2]\n",
    "labels = ['This is a blue rectangle.', 'This is a green rectangle']\n",
    "\n",
    "for i, (item, label) in enumerate(zip(shapes, labels)):\n",
    "    patch = ax.add_patch(item)\n",
    "    annotate = ax.annotate(labels[i], xy=item.get_xy(), xytext=(0, 0),\n",
    "                           textcoords='offset points', color='w', ha='center',\n",
    "                           fontsize=8, bbox=dict(boxstyle='round, pad=.5',\n",
    "                                                 fc=(.1, .1, .1, .92),\n",
    "                                                 ec=(1., 1., 1.), lw=1,\n",
    "                                                 zorder=1))\n",
    "\n",
    "    ax.add_patch(patch)\n",
    "    patch.set_gid('mypatch_{:03d}'.format(i))\n",
    "    annotate.set_gid('mytooltip_{:03d}'.format(i))\n",
    "\n",
    "# Save the figure in a fake file object\n",
    "ax.set_xlim(-30, 30)\n",
    "ax.set_ylim(-30, 30)\n",
    "ax.set_aspect('equal')\n",
    "\n",
    "f = BytesIO()\n",
    "plt.savefig(f, format=\"svg\")\n",
    "\n",
    "# --- Add interactivity ---\n",
    "\n",
    "# Create XML tree from the SVG file.\n",
    "tree, xmlid = ET.XMLID(f.getvalue())\n",
    "tree.set('onload', 'init(event)')\n",
    "\n",
    "for i in shapes:\n",
    "    # Get the index of the shape\n",
    "    index = shapes.index(i)\n",
    "    # Hide the tooltips\n",
    "    tooltip = xmlid['mytooltip_{:03d}'.format(index)]\n",
    "    tooltip.set('visibility', 'hidden')\n",
    "    # Assign onmouseover and onmouseout callbacks to patches.\n",
    "    mypatch = xmlid['mypatch_{:03d}'.format(index)]\n",
    "    mypatch.set('onmouseover', \"ShowTooltip(this)\")\n",
    "    mypatch.set('onmouseout', \"HideTooltip(this)\")\n",
    "\n",
    "# This is the script defining the ShowTooltip and HideTooltip functions.\n",
    "script = \"\"\"\n",
    "    <script type=\"text/ecmascript\">\n",
    "    <![CDATA[\n",
    "\n",
    "    function init(event) {\n",
    "        if ( window.svgDocument == null ) {\n",
    "            svgDocument = event.target.ownerDocument;\n",
    "            }\n",
    "        }\n",
    "\n",
    "    function ShowTooltip(obj) {\n",
    "        var cur = obj.id.split(\"_\")[1];\n",
    "        var tip = svgDocument.getElementById('mytooltip_' + cur);\n",
    "        tip.setAttribute('visibility', \"visible\")\n",
    "        }\n",
    "\n",
    "    function HideTooltip(obj) {\n",
    "        var cur = obj.id.split(\"_\")[1];\n",
    "        var tip = svgDocument.getElementById('mytooltip_' + cur);\n",
    "        tip.setAttribute('visibility', \"hidden\")\n",
    "        }\n",
    "\n",
    "    ]]>\n",
    "    </script>\n",
    "    \"\"\"\n",
    "\n",
    "# Insert the script at the top of the file and save it.\n",
    "tree.insert(0, ET.XML(script))\n",
    "ET.ElementTree(tree).write('svg_tooltip.svg')"
   ]
  },
  {
   "cell_type": "code",
   "execution_count": null,
   "metadata": {},
   "outputs": [],
   "source": []
  }
 ],
 "metadata": {
  "kernelspec": {
   "display_name": "Python 3",
   "language": "python",
   "name": "python3"
  },
  "language_info": {
   "codemirror_mode": {
    "name": "ipython",
    "version": 3
   },
   "file_extension": ".py",
   "mimetype": "text/x-python",
   "name": "python",
   "nbconvert_exporter": "python",
   "pygments_lexer": "ipython3",
   "version": "3.8.5"
  }
 },
 "nbformat": 4,
 "nbformat_minor": 1
}
