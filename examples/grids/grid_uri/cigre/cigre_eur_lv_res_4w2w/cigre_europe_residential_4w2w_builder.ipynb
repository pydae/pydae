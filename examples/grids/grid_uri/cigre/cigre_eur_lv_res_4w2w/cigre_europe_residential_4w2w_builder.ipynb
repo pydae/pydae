{
 "cells": [
  {
   "cell_type": "code",
   "execution_count": 1,
   "metadata": {},
   "outputs": [],
   "source": [
    "import numpy as np\n",
    "import matplotlib.pyplot as plt\n",
    "#from pydgrid.plot_bokeh import plot_results\n",
    "import sympy as sym\n",
    "import pydae.build as db\n",
    "import pydae.build_cffi as db\n",
    "\n",
    "from pydae.grid_urisi import unb_ri_si\n",
    "import json"
   ]
  },
  {
   "cell_type": "code",
   "execution_count": 2,
   "metadata": {},
   "outputs": [
    {
     "name": "stdout",
     "output_type": "stream",
     "text": [
      "Requirement already satisfied: pydgrid in c:\\users\\jmmau\\anaconda3\\lib\\site-packages (0.5.3)\n"
     ]
    }
   ],
   "source": [
    "!pip install pydgrid"
   ]
  },
  {
   "cell_type": "code",
   "execution_count": 3,
   "metadata": {},
   "outputs": [
    {
     "name": "stdout",
     "output_type": "stream",
     "text": [
      "check_system (time: 0.0)\n",
      "system without dynamic equations, adding dummy dynamic equation\n",
      "computing jacobians Fx_run,Fy_run  (time: 0.326 s)\n",
      "computing jacobians Gx_run,Gy_run  (time: 0.375 s)\n",
      "computing jacobians Fu_run,Gu_run  (time: 23.891 s)\n",
      "computing jacobians Fx_ini,Fy_ini  (time: 37.050 s)\n",
      "computing jacobians Gx_ini,Gy_ini  (time: 37.073 s)\n",
      "computing jacobians Hx_run,Hy_run,Hu_run  (time: 58.869354486465454 s)\n",
      "end system  (time: 85.251 s)\n",
      "computing jac_ini (time: 0.0)\n",
      "computing jac_run (time: 0.11668896675109863)\n",
      "computing jac_trap (time: 0.2523171901702881)\n",
      "end of jacobians computation (time: 0.393)\n",
      "writting f_ini and g_ini code (time: 0.000 s)\n",
      "writting f_run and g_run code (time: 7.559 s)\n",
      "writting h_run code (time: 14.054 s)\n",
      "converting jac_ini to sp_jac_ini  (time: 18.770 s)\n",
      "running sym2rhs for sp_jac_ini (time: 18.851 s)\n",
      "converting jac_trap to sp_jac_trap  (time: 26.098 s)\n",
      "running sym2rhs for sp_jac_trap (time: 26.139 s)\n",
      "wrtting  de_jac_trap code (time: 29.232 s)\n",
      "writting sp_jac_trap code (time: 29.238 s)\n",
      "writting full source (time: 29.244 s)\n",
      "Code wrote in 29.245 s\n",
      "Compilation time: 52.94 s\n",
      "sys2num (time: 0.050)\n"
     ]
    }
   ],
   "source": [
    "grid = unb_ri_si('cigre_europe_residential_4w2w.json')\n",
    "\n",
    "params_dict  = grid.dae['params']\n",
    "f_list = grid.dae['f']\n",
    "x_list = grid.dae['x']\n",
    "g_list = grid.dae['g'] \n",
    "y_list = grid.dae['y'] \n",
    "u_dict = grid.dae['u']\n",
    "\n",
    "\n",
    "h_dict = grid.dae['h_dict']\n",
    "h_dict.update(grid.dae['h_v_m_dict'])\n",
    "\n",
    "sys_dict = {'name':'cigre_europe_residential_4w2w',\n",
    "           'params_dict':params_dict,\n",
    "           'f_list':f_list,\n",
    "           'g_list':g_list,\n",
    "           'x_list':x_list,\n",
    "           'y_ini_list':y_list,\n",
    "           'y_run_list':y_list,\n",
    "           'u_run_dict':u_dict,\n",
    "           'u_ini_dict':u_dict,\n",
    "           'h_dict':h_dict\n",
    "           }\n",
    "\n",
    "db.build(sys_dict,verbose=True)\n",
    "\n",
    "data = json.dumps(grid.dae['xy_0_dict'], indent=4)\n",
    "fobj = open(\"xy_0_dict.json\",\"w\")\n",
    "fobj.write(data)\n",
    "fobj.close()"
   ]
  },
  {
   "cell_type": "code",
   "execution_count": null,
   "metadata": {},
   "outputs": [],
   "source": []
  },
  {
   "cell_type": "code",
   "execution_count": 4,
   "metadata": {},
   "outputs": [
    {
     "name": "stdout",
     "output_type": "stream",
     "text": [
      "Matrix([[(0.212261128378539 - 0.849044513514155*I)*(I*v_R0_a_i + v_R0_a_r) + (-0.212261128378539 + 0.849044513514155*I)*(I*v_R0_c_i + v_R0_c_r)], [(-0.212261128378539 + 0.849044513514155*I)*(I*v_R0_a_i + v_R0_a_r) + (0.212261128378539 - 0.849044513514155*I)*(I*v_R0_b_i + v_R0_b_r)], [(-0.212261128378539 + 0.849044513514155*I)*(I*v_R0_b_i + v_R0_b_r) + (0.212261128378539 - 0.849044513514155*I)*(I*v_R0_c_i + v_R0_c_r)], [0], [0], [0], [0], [0], [0], [0], [0], [0], [0], [0], [0], [0], [0], [0], [0], [0], [0], [0], [0], [0], [0], [0], [0], [0], [0], [0], [0], [0], [0], [0], [0], [0], [0], [0], [0], [0], [0], [0], [0], [0], [0], [0], [0], [0], [0], [0], [0], [0], [0], [0], [0], [0], [0], [0], [0], [0], [0], [0], [0], [0], [0], [0], [0], [0], [0], [0], [0], [0], [0], [0], [0], [0], [0], [0], [0], [0], [0], [0], [0], [67.7048070412999*I*v_D1_a_i + 67.7048070412999*v_D1_a_r], [67.7048070412999*I*v_D1_b_i + 67.7048070412999*v_D1_b_r], [67.7048070412999*I*v_D1_c_i + 67.7048070412999*v_D1_c_r], [0], [0], [0], [0], [0], [0], [0], [0], [0], [0], [0], [0], [0], [0], [0], [0], [0], [0], [0], [0], [0], [0], [0], [0], [0], [0], [0], [0], [0], [0], [0]])\n",
      "i_load_D15_a_r + 135.4096140826*v_D14_a_r - 135.4096140826*v_D15_a_r\n",
      "i_load_D15_a_r\n",
      "i_load_D15_a_i + 135.4096140826*v_D14_a_i - 135.4096140826*v_D15_a_i\n",
      "i_load_D15_a_i\n",
      "i_load_D15_n_r + 135.4096140826*v_D14_n_r - 135.4096140826*v_D15_n_r\n",
      "i_load_D15_n_r\n",
      "i_load_D15_n_i + 135.4096140826*v_D14_n_i - 135.4096140826*v_D15_n_i\n",
      "i_load_D15_n_i\n",
      "i_load_D11_a_r - 157.977883096366*v_D11_a_r + 157.977883096366*v_D3_a_r\n",
      "i_load_D11_a_r\n",
      "i_load_D11_a_i - 157.977883096366*v_D11_a_i + 157.977883096366*v_D3_a_i\n",
      "i_load_D11_a_i\n",
      "i_load_D11_n_r - 157.977883096366*v_D11_n_r + 157.977883096366*v_D3_n_r\n",
      "i_load_D11_n_r\n",
      "i_load_D11_n_i - 157.977883096366*v_D11_n_i + 157.977883096366*v_D3_n_i\n",
      "i_load_D11_n_i\n",
      "i_load_D16_a_r - 157.977883096366*v_D16_a_r + 157.977883096366*v_D6_a_r\n",
      "i_load_D16_a_r\n",
      "i_load_D16_a_i - 157.977883096366*v_D16_a_i + 157.977883096366*v_D6_a_i\n",
      "i_load_D16_a_i\n",
      "i_load_D16_n_r - 157.977883096366*v_D16_n_r + 157.977883096366*v_D6_n_r\n",
      "i_load_D16_n_r\n",
      "i_load_D16_n_i - 157.977883096366*v_D16_n_i + 157.977883096366*v_D6_n_i\n",
      "i_load_D16_n_i\n",
      "i_load_D17_a_r - 157.977883096366*v_D17_a_r + 157.977883096366*v_D9_a_r\n",
      "i_load_D17_a_r\n",
      "i_load_D17_a_i - 157.977883096366*v_D17_a_i + 157.977883096366*v_D9_a_i\n",
      "i_load_D17_a_i\n",
      "i_load_D17_n_r - 157.977883096366*v_D17_n_r + 157.977883096366*v_D9_n_r\n",
      "i_load_D17_n_r\n",
      "i_load_D17_n_i - 157.977883096366*v_D17_n_i + 157.977883096366*v_D9_n_i\n",
      "i_load_D17_n_i\n",
      "i_load_D18_a_r + 157.977883096366*v_D10_a_r - 157.977883096366*v_D18_a_r\n",
      "i_load_D18_a_r\n",
      "i_load_D18_a_i + 157.977883096366*v_D10_a_i - 157.977883096366*v_D18_a_i\n",
      "i_load_D18_a_i\n",
      "i_load_D18_n_r + 157.977883096366*v_D10_n_r - 157.977883096366*v_D18_n_r\n",
      "i_load_D18_n_r\n",
      "i_load_D18_n_i + 157.977883096366*v_D10_n_i - 157.977883096366*v_D18_n_i\n",
      "i_load_D18_n_i\n"
     ]
    },
    {
     "ename": "NameError",
     "evalue": "name 'dbf' is not defined",
     "output_type": "error",
     "traceback": [
      "\u001b[1;31m---------------------------------------------------------------------------\u001b[0m",
      "\u001b[1;31mNameError\u001b[0m                                 Traceback (most recent call last)",
      "\u001b[1;32m~\\AppData\\Local\\Temp/ipykernel_79188/934766662.py\u001b[0m in \u001b[0;36m<module>\u001b[1;34m\u001b[0m\n\u001b[0;32m     23\u001b[0m            }\n\u001b[0;32m     24\u001b[0m \u001b[1;33m\u001b[0m\u001b[0m\n\u001b[1;32m---> 25\u001b[1;33m \u001b[0mdbf\u001b[0m\u001b[1;33m.\u001b[0m\u001b[0msystem\u001b[0m\u001b[1;33m(\u001b[0m\u001b[0msys_dict\u001b[0m\u001b[1;33m)\u001b[0m\u001b[1;33m\u001b[0m\u001b[1;33m\u001b[0m\u001b[0m\n\u001b[0m\u001b[0;32m     26\u001b[0m \u001b[0mdbf\u001b[0m\u001b[1;33m.\u001b[0m\u001b[0msys2num\u001b[0m\u001b[1;33m(\u001b[0m\u001b[0msys_dict\u001b[0m\u001b[1;33m,\u001b[0m\u001b[0mverbose\u001b[0m\u001b[1;33m=\u001b[0m\u001b[1;32mTrue\u001b[0m\u001b[1;33m)\u001b[0m\u001b[1;33m\u001b[0m\u001b[1;33m\u001b[0m\u001b[0m\n\u001b[0;32m     27\u001b[0m \u001b[1;33m\u001b[0m\u001b[0m\n",
      "\u001b[1;31mNameError\u001b[0m: name 'dbf' is not defined"
     ]
    }
   ],
   "source": [
    "grid = unb_ri_si('cigre_europe_residential_4w2w.json')\n",
    "\n",
    "params_dict  = grid.dae['params']\n",
    "f_list = grid.dae['f']\n",
    "x_list = grid.dae['x']\n",
    "g_list = grid.dae['g'] \n",
    "y_list = grid.dae['y'] \n",
    "u_dict = grid.dae['u']\n",
    "\n",
    "\n",
    "h_dict = grid.dae['h_v_m_dict']\n",
    "\n",
    "sys_dict = {'name':'cigre_europe_residential_4w2w_dbf',\n",
    "           'params_dict':params_dict,\n",
    "           'f_list':f_list,\n",
    "           'g_list':g_list,\n",
    "           'x_list':x_list,\n",
    "           'y_ini_list':y_list,\n",
    "           'y_run_list':y_list,\n",
    "           'u_run_dict':u_dict,\n",
    "           'u_ini_dict':u_dict,\n",
    "           'h_dict':h_dict\n",
    "           }\n",
    "\n",
    "dbf.system(sys_dict)\n",
    "dbf.sys2num(sys_dict,verbose=True)\n",
    "\n"
   ]
  },
  {
   "cell_type": "code",
   "execution_count": null,
   "metadata": {},
   "outputs": [],
   "source": [
    "computing jac_ini (time: {time.time()-t_0}\n",
    "computing jac_run (time: {time.time()-t_0}\n",
    "computing jac_trap (time: {time.time()-t_0}\n",
    "generating f_ini_eval string (time: 0.6490600109100342\n",
    "generating f_run_eval string (time: 0.7218649387359619\n",
    "generating g_ini_eval string (time: 0.8046433925628662\n",
    "generating g_run_eval string (time: 47.52769351005554\n",
    "generating h_run_eval string (time: 91.69856548309326\n",
    "generating f_run_gpu string (time: 101.43751955032349\n",
    "generating h_run_gpu string (time: 101.51630854606628\n",
    "generating jac_ini_ss_eval string (time: 110.87129044532776\n",
    "generating sp_jac_ini_eval string (time: 518.0190172195435"
   ]
  },
  {
   "cell_type": "code",
   "execution_count": null,
   "metadata": {},
   "outputs": [],
   "source": []
  },
  {
   "cell_type": "code",
   "execution_count": 4,
   "metadata": {},
   "outputs": [
    {
     "ename": "NameError",
     "evalue": "name 'q_ref' is not defined",
     "output_type": "error",
     "traceback": [
      "\u001b[1;31m---------------------------------------------------------------------------\u001b[0m",
      "\u001b[1;31mNameError\u001b[0m                                 Traceback (most recent call last)",
      "\u001b[1;32m~\\AppData\\Local\\Temp/ipykernel_16484/2662184195.py\u001b[0m in \u001b[0;36m<module>\u001b[1;34m\u001b[0m\n\u001b[0;32m      3\u001b[0m \u001b[0merror\u001b[0m \u001b[1;33m=\u001b[0m \u001b[0mv_ref\u001b[0m \u001b[1;33m-\u001b[0m \u001b[0mv_m\u001b[0m\u001b[1;33m\u001b[0m\u001b[1;33m\u001b[0m\u001b[0m\n\u001b[0;32m      4\u001b[0m \u001b[0mg_list\u001b[0m \u001b[1;33m+=\u001b[0m \u001b[1;33m[\u001b[0m\u001b[0merror\u001b[0m\u001b[1;33m]\u001b[0m\u001b[1;33m\u001b[0m\u001b[1;33m\u001b[0m\u001b[0m\n\u001b[1;32m----> 5\u001b[1;33m \u001b[0mg_list\u001b[0m \u001b[1;33m+=\u001b[0m \u001b[1;33m[\u001b[0m\u001b[1;33m-\u001b[0m\u001b[0mq_ref\u001b[0m \u001b[1;33m+\u001b[0m \u001b[0mK_p\u001b[0m\u001b[1;33m*\u001b[0m\u001b[0merror\u001b[0m \u001b[1;33m+\u001b[0m \u001b[0mK_i\u001b[0m\u001b[1;33m*\u001b[0m\u001b[0mxi\u001b[0m\u001b[1;33m]\u001b[0m\u001b[1;33m\u001b[0m\u001b[1;33m\u001b[0m\u001b[0m\n\u001b[0m\u001b[0;32m      6\u001b[0m \u001b[1;33m\u001b[0m\u001b[0m\n\u001b[0;32m      7\u001b[0m \u001b[0my_list\u001b[0m \u001b[1;33m+=\u001b[0m \u001b[1;33m[\u001b[0m\u001b[0mxi\u001b[0m\u001b[1;33m]\u001b[0m\u001b[1;33m\u001b[0m\u001b[1;33m\u001b[0m\u001b[0m\n",
      "\u001b[1;31mNameError\u001b[0m: name 'q_ref' is not defined"
     ]
    }
   ],
   "source": [
    "v_R1_a_r,v_R1_a_i,v_ref = sym.symbols('v_R1_a_r,v_R1_a_i,v_ref', real=True)\n",
    "v_m = (v_R1_a_r**2 + v_R1_a_i**2)**0.5\n",
    "error = v_ref - v_m\n",
    "g_list += [error]\n",
    "g_list += [-q_ref + K_p*error + K_i*xi]\n",
    "\n",
    "y_list += [xi]\n",
    "y_list += [q_ref]\n",
    "u_dict.pop('q_ref')\n",
    "u_dict.update({'v_ref': 230.0})\n"
   ]
  },
  {
   "cell_type": "code",
   "execution_count": null,
   "metadata": {},
   "outputs": [],
   "source": []
  }
 ],
 "metadata": {
  "kernelspec": {
   "display_name": "Python 3 (ipykernel)",
   "language": "python",
   "name": "python3"
  },
  "language_info": {
   "codemirror_mode": {
    "name": "ipython",
    "version": 3
   },
   "file_extension": ".py",
   "mimetype": "text/x-python",
   "name": "python",
   "nbconvert_exporter": "python",
   "pygments_lexer": "ipython3",
   "version": "3.9.7"
  }
 },
 "nbformat": 4,
 "nbformat_minor": 4
}
