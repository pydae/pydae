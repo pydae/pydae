{
 "cells": [
  {
   "cell_type": "code",
   "execution_count": 20,
   "metadata": {},
   "outputs": [],
   "source": [
    "import numpy as np\n",
    "import scipy.optimize as sopt\n",
    "import matplotlib.pyplot as plt\n",
    "import pydae.ssa as ssa\n",
    "import pydae.grid_tools as gt\n",
    "from pydae.tools import get_i\n",
    "import json\n",
    "import time\n",
    "import scipy.optimize as sopt\n",
    "import pandas as pd\n",
    "from scipy.sparse.linalg import spsolve,spilu,splu\n",
    "import matplotlib.pyplot as plt\n",
    "from pydae.svg_tools import svg,grid2svg\n",
    "from IPython.core.display import HTML\n"
   ]
  },
  {
   "cell_type": "code",
   "execution_count": 21,
   "metadata": {},
   "outputs": [],
   "source": [
    "def get_bus_powers(gt_grid,bus_name):\n",
    "    idx = gt_grid.bus_data['bus_id'].index(bus_name)\n",
    "    p_a,q_a = gt_grid.buses[idx]['p_a'],gt_grid.buses[idx]['p_a']\n",
    "    p_b,q_b = gt_grid.buses[idx]['p_b'],gt_grid.buses[idx]['q_b']\n",
    "    p_c,q_c = gt_grid.buses[idx]['p_c'],gt_grid.buses[idx]['q_c']\n",
    "    p = p_a + p_b + p_c\n",
    "    q = q_a + q_b + q_c\n",
    "    return p,q\n",
    "\n"
   ]
  },
  {
   "cell_type": "code",
   "execution_count": 22,
   "metadata": {},
   "outputs": [],
   "source": [
    "from cigre_eu_lv_ind import cigre_eu_lv_ind_class"
   ]
  },
  {
   "cell_type": "code",
   "execution_count": 23,
   "metadata": {},
   "outputs": [
    {
     "name": "stdout",
     "output_type": "stream",
     "text": [
      "0.013963937759399414\n",
      "v_I02_a_r = 195.83\n",
      "v_I02_a_i = -112.54\n",
      "v_I02_b_r = -196.00\n",
      "v_I02_b_i = -113.04\n",
      "v_I02_c_r = -0.35\n",
      "v_I02_c_i = 226.65\n",
      "v_I02_n_r = -0.17\n",
      "v_I02_n_i =  0.23\n",
      "v_I01_a_r = 197.95\n",
      "v_I01_a_i = -115.62\n",
      "v_I01_b_r = -199.64\n",
      "v_I01_b_i = -113.27\n",
      "v_I01_c_r =  1.19\n",
      "v_I01_c_i = 229.87\n",
      "v_I01_n_r = -0.17\n",
      "v_I01_n_i =  0.33\n",
      "i_t_I00_I01_a_r =  2.51\n",
      "i_t_I00_I01_a_i = -1.55\n",
      "i_t_I00_I01_b_r = -2.59\n",
      "i_t_I00_I01_b_i = -1.39\n",
      "i_t_I00_I01_c_r =  0.09\n",
      "i_t_I00_I01_c_i =  2.94\n",
      "i_load_I02_a_r = -69.88\n",
      "i_load_I02_a_i = 129.79\n",
      "i_load_I02_b_r = 147.28\n",
      "i_load_I02_b_i = -4.48\n",
      "i_load_I02_c_r = -77.46\n",
      "i_load_I02_c_i = -125.19\n",
      "i_load_I02_n_r =  0.06\n",
      "i_load_I02_n_i = -0.11\n"
     ]
    }
   ],
   "source": [
    "grid_c0 = cigre_eu_lv_ind_class()\n",
    "\n",
    "lf = 1.0\n",
    "          \n",
    "          \n",
    "params = {}\n",
    "\n",
    "#grid_c0.load_0()\n",
    "t_0 = time.time()\n",
    "grid_c0.ini(params,'xy_0.json')\n",
    "print(time.time()-t_0)\n",
    "grid_c0.report_y()"
   ]
  },
  {
   "cell_type": "code",
   "execution_count": 24,
   "metadata": {},
   "outputs": [],
   "source": [
    "grid_c0.save_xy_0('xy_0.json')"
   ]
  },
  {
   "cell_type": "code",
   "execution_count": 25,
   "metadata": {},
   "outputs": [
    {
     "name": "stdout",
     "output_type": "stream",
     "text": [
      "961, 546, 56.81581685744017\n"
     ]
    },
    {
     "name": "stderr",
     "output_type": "stream",
     "text": [
      "C:\\Users\\jmmau\\anaconda3\\lib\\site-packages\\scipy\\sparse\\linalg\\dsolve\\linsolve.py:407: SparseEfficiencyWarning: splu requires CSC matrix format\n",
      "  warn('splu requires CSC matrix format', SparseEfficiencyWarning)\n"
     ]
    }
   ],
   "source": [
    "grid_c0.fill_factor_ini = 80\n",
    "grid_c0.drop_tol_ini = 1e-8\n",
    "grid_c0.drop_rule_ini = 'basic,dynamic,area,prows'\n",
    "grid_c0.eval_preconditioner_ini()\n",
    "grid_c0.ltol_ini =1e-8\n",
    "N = grid_c0.P_slu.shape[0]\n",
    "Nnz = grid_c0.P_slu.nnz\n",
    "print(f'{N**2}, {Nnz}, {Nnz/N**2*100}')\n"
   ]
  },
  {
   "cell_type": "code",
   "execution_count": 27,
   "metadata": {},
   "outputs": [
    {
     "data": {
      "text/html": [
       "<?xml version=\"1.0\" encoding=\"utf-8\" ?>\n",
       "<svg baseProfile=\"full\" height=\"800\" version=\"1.1\" width=\"640\" xmlns=\"http://www.w3.org/2000/svg\" xmlns:ev=\"http://www.w3.org/2001/xml-events\" xmlns:xlink=\"http://www.w3.org/1999/xlink\"><defs /><rect height=\"15\" id=\"I00\" width=\"15\" x=\"147.5\" y=\"42.5\" /><text fill=\"black\" id=\"I00_tt\" x=\"155.0\" y=\"40.0\">I00</text><rect height=\"15\" id=\"I01\" width=\"15\" x=\"147.5\" y=\"72.5\" /><text fill=\"black\" id=\"I01_tt\" x=\"155.0\" y=\"70.0\">I01</text><rect height=\"15\" id=\"I02\" width=\"15\" x=\"147.5\" y=\"372.5\" /><text fill=\"black\" id=\"I02_tt\" x=\"155.0\" y=\"370.0\">I02</text><line id=\"l_I01_I02_a\" stroke=\"rgb(10%,10%,16%)\" stroke-width=\"2\" x1=\"150.0\" x2=\"150.0\" y1=\"75.0\" y2=\"375.0\" /><line id=\"l_I01_I02_b\" stroke=\"rgb(10%,10%,16%)\" stroke-width=\"2\" x1=\"153.0\" x2=\"153.0\" y1=\"75.0\" y2=\"375.0\" /><line id=\"l_I01_I02_c\" stroke=\"rgb(10%,10%,16%)\" stroke-width=\"2\" x1=\"156.0\" x2=\"156.0\" y1=\"75.0\" y2=\"375.0\" /><line id=\"l_I01_I02_n\" stroke=\"rgb(10%,10%,16%)\" stroke-width=\"2\" x1=\"159.0\" x2=\"159.0\" y1=\"75.0\" y2=\"375.0\" /><line stroke=\"rgb(10%,10%,16%)\" x1=\"150.0\" x2=\"150.0\" y1=\"45.0\" y2=\"75.0\" /></svg>"
      ],
      "text/plain": [
       "<IPython.core.display.HTML object>"
      ]
     },
     "execution_count": 27,
     "metadata": {},
     "output_type": "execute_result"
    }
   ],
   "source": [
    "input_json = 'cigre_eu_lv_ind.json'\n",
    "output_svg = 'raw_cigre_eu_lv_ind.svg'\n",
    "grid2svg(input_json,output_svg)\n",
    "HTML(output_svg)"
   ]
  },
  {
   "cell_type": "code",
   "execution_count": 8,
   "metadata": {},
   "outputs": [
    {
     "data": {
      "text/html": [
       "<svg xmlns=\"http://www.w3.org/2000/svg\" baseProfile=\"full\" height=\"800\" version=\"1.1\" width=\"640\"><defs /><rect height=\"15\" id=\"C00\" width=\"15\" x=\"147.5\" y=\"42.5\" /><text fill=\"black\" id=\"C00_tt\" x=\"155.0\" y=\"40.0\">C00</text><rect height=\"15\" id=\"C01\" width=\"15\" x=\"147.5\" y=\"72.5\" /><text fill=\"black\" id=\"C01_tt\" x=\"155.0\" y=\"70.0\">C01</text><rect height=\"15\" id=\"C02\" width=\"15\" x=\"147.5\" y=\"117.5\" /><text fill=\"black\" id=\"C02_tt\" x=\"155.0\" y=\"115.0\">C02</text><rect height=\"15\" id=\"C03\" width=\"15\" x=\"147.5\" y=\"162.5\" /><text fill=\"black\" id=\"C03_tt\" x=\"155.0\" y=\"160.0\">C03</text><rect height=\"15\" id=\"C04\" width=\"15\" x=\"147.5\" y=\"207.5\" /><text fill=\"black\" id=\"C04_tt\" x=\"155.0\" y=\"205.0\">C04</text><rect height=\"15\" id=\"C05\" width=\"15\" x=\"147.5\" y=\"252.5\" /><text fill=\"black\" id=\"C05_tt\" x=\"155.0\" y=\"250.0\">C05</text><rect height=\"15\" id=\"C06\" width=\"15\" x=\"147.5\" y=\"297.5\" /><text fill=\"black\" id=\"C06_tt\" x=\"155.0\" y=\"295.0\">C06</text><rect height=\"15\" id=\"C07\" width=\"15\" x=\"147.5\" y=\"342.5\" /><text fill=\"black\" id=\"C07_tt\" x=\"155.0\" y=\"340.0\">C07</text><rect height=\"15\" id=\"C08\" width=\"15\" x=\"147.5\" y=\"387.5\" /><text fill=\"black\" id=\"C08_tt\" x=\"155.0\" y=\"385.0\">C08</text><rect height=\"15\" id=\"C09\" width=\"15\" x=\"147.5\" y=\"432.5\" /><text fill=\"black\" id=\"C09_tt\" x=\"155.0\" y=\"430.0\">C09</text><rect height=\"15\" id=\"C10\" width=\"15\" x=\"102.5\" y=\"162.5\" /><text fill=\"black\" id=\"C10_tt\" x=\"110.0\" y=\"160.0\">C10</text><rect height=\"15\" id=\"C11\" width=\"15\" x=\"57.5\" y=\"162.5\" /><text fill=\"black\" id=\"C11_tt\" x=\"65.0\" y=\"160.0\">C11</text><rect height=\"15\" id=\"C12\" width=\"15\" x=\"12.5\" y=\"162.5\" /><text fill=\"black\" id=\"C12_tt\" x=\"20.0\" y=\"160.0\">C12</text><rect height=\"15\" id=\"C13\" width=\"15\" x=\"57.5\" y=\"207.5\" /><text fill=\"black\" id=\"C13_tt\" x=\"65.0\" y=\"205.0\">C13</text><rect height=\"15\" id=\"C14\" width=\"15\" x=\"102.5\" y=\"207.5\" /><text fill=\"black\" id=\"C14_tt\" x=\"110.0\" y=\"205.0\">C14</text><rect height=\"15\" id=\"C15\" width=\"15\" x=\"192.5\" y=\"252.5\" /><text fill=\"black\" id=\"C15_tt\" x=\"200.0\" y=\"250.0\">C15</text><rect height=\"15\" id=\"C16\" width=\"15\" x=\"237.5\" y=\"252.5\" /><text fill=\"black\" id=\"C16_tt\" x=\"245.0\" y=\"250.0\">C16</text><rect height=\"15\" id=\"C17\" width=\"15\" x=\"237.5\" y=\"297.5\" /><text fill=\"black\" id=\"C17_tt\" x=\"245.0\" y=\"295.0\">C17</text><rect height=\"15\" id=\"C18\" width=\"15\" x=\"192.5\" y=\"297.5\" /><text fill=\"black\" id=\"C18_tt\" x=\"200.0\" y=\"295.0\">C18</text><rect height=\"15\" id=\"C19\" width=\"15\" x=\"102.5\" y=\"387.5\" /><text fill=\"black\" id=\"C19_tt\" x=\"110.0\" y=\"385.0\">C19</text><rect height=\"15\" id=\"C20\" width=\"15\" x=\"192.5\" y=\"432.5\" /><text fill=\"black\" id=\"C20_tt\" x=\"200.0\" y=\"430.0\">C20</text><line id=\"l_C01_C02_a\" stroke=\"rgb(10%,10%,16%)\" stroke-width=\"2\" x1=\"150.0\" x2=\"150.0\" y1=\"75.0\" y2=\"120.0\" style=\"stroke:#680000\" /><line id=\"l_C01_C02_b\" stroke=\"rgb(10%,10%,16%)\" stroke-width=\"2\" x1=\"153.0\" x2=\"153.0\" y1=\"75.0\" y2=\"120.0\" style=\"stroke:#650000\" /><line id=\"l_C01_C02_c\" stroke=\"rgb(10%,10%,16%)\" stroke-width=\"2\" x1=\"156.0\" x2=\"156.0\" y1=\"75.0\" y2=\"120.0\" style=\"stroke:#660000\" /><line id=\"l_C01_C02_n\" stroke=\"rgb(10%,10%,16%)\" stroke-width=\"2\" x1=\"159.0\" x2=\"159.0\" y1=\"75.0\" y2=\"120.0\" style=\"stroke:#000000\" /><line id=\"l_C02_C03_a\" stroke=\"rgb(10%,10%,16%)\" stroke-width=\"2\" x1=\"150.0\" x2=\"150.0\" y1=\"120.0\" y2=\"165.0\" style=\"stroke:#680000\" /><line id=\"l_C02_C03_b\" stroke=\"rgb(10%,10%,16%)\" stroke-width=\"2\" x1=\"153.0\" x2=\"153.0\" y1=\"120.0\" y2=\"165.0\" style=\"stroke:#650000\" /><line id=\"l_C02_C03_c\" stroke=\"rgb(10%,10%,16%)\" stroke-width=\"2\" x1=\"156.0\" x2=\"156.0\" y1=\"120.0\" y2=\"165.0\" style=\"stroke:#660000\" /><line id=\"l_C02_C03_n\" stroke=\"rgb(10%,10%,16%)\" stroke-width=\"2\" x1=\"159.0\" x2=\"159.0\" y1=\"120.0\" y2=\"165.0\" style=\"stroke:#000000\" /><line id=\"l_C03_C04_a\" stroke=\"rgb(10%,10%,16%)\" stroke-width=\"2\" x1=\"150.0\" x2=\"150.0\" y1=\"165.0\" y2=\"210.0\" style=\"stroke:#160000\" /><line id=\"l_C03_C04_b\" stroke=\"rgb(10%,10%,16%)\" stroke-width=\"2\" x1=\"153.0\" x2=\"153.0\" y1=\"165.0\" y2=\"210.0\" style=\"stroke:#160000\" /><line id=\"l_C03_C04_c\" stroke=\"rgb(10%,10%,16%)\" stroke-width=\"2\" x1=\"156.0\" x2=\"156.0\" y1=\"165.0\" y2=\"210.0\" style=\"stroke:#160000\" /><line id=\"l_C03_C04_n\" stroke=\"rgb(10%,10%,16%)\" stroke-width=\"2\" x1=\"159.0\" x2=\"159.0\" y1=\"165.0\" y2=\"210.0\" style=\"stroke:#000000\" /><line id=\"l_C04_C05_a\" stroke=\"rgb(10%,10%,16%)\" stroke-width=\"2\" x1=\"150.0\" x2=\"150.0\" y1=\"210.0\" y2=\"255.0\" style=\"stroke:#160000\" /><line id=\"l_C04_C05_b\" stroke=\"rgb(10%,10%,16%)\" stroke-width=\"2\" x1=\"153.0\" x2=\"153.0\" y1=\"210.0\" y2=\"255.0\" style=\"stroke:#160000\" /><line id=\"l_C04_C05_c\" stroke=\"rgb(10%,10%,16%)\" stroke-width=\"2\" x1=\"156.0\" x2=\"156.0\" y1=\"210.0\" y2=\"255.0\" style=\"stroke:#160000\" /><line id=\"l_C04_C05_n\" stroke=\"rgb(10%,10%,16%)\" stroke-width=\"2\" x1=\"159.0\" x2=\"159.0\" y1=\"210.0\" y2=\"255.0\" style=\"stroke:#000000\" /><line id=\"l_C05_C06_a\" stroke=\"rgb(10%,10%,16%)\" stroke-width=\"2\" x1=\"150.0\" x2=\"150.0\" y1=\"255.0\" y2=\"300.0\" style=\"stroke:#030000\" /><line id=\"l_C05_C06_b\" stroke=\"rgb(10%,10%,16%)\" stroke-width=\"2\" x1=\"153.0\" x2=\"153.0\" y1=\"255.0\" y2=\"300.0\" style=\"stroke:#030000\" /><line id=\"l_C05_C06_c\" stroke=\"rgb(10%,10%,16%)\" stroke-width=\"2\" x1=\"156.0\" x2=\"156.0\" y1=\"255.0\" y2=\"300.0\" style=\"stroke:#030000\" /><line id=\"l_C05_C06_n\" stroke=\"rgb(10%,10%,16%)\" stroke-width=\"2\" x1=\"159.0\" x2=\"159.0\" y1=\"255.0\" y2=\"300.0\" style=\"stroke:#000000\" /><line id=\"l_C06_C07_a\" stroke=\"rgb(10%,10%,16%)\" stroke-width=\"2\" x1=\"150.0\" x2=\"150.0\" y1=\"300.0\" y2=\"345.0\" style=\"stroke:#030000\" /><line id=\"l_C06_C07_b\" stroke=\"rgb(10%,10%,16%)\" stroke-width=\"2\" x1=\"153.0\" x2=\"153.0\" y1=\"300.0\" y2=\"345.0\" style=\"stroke:#030000\" /><line id=\"l_C06_C07_c\" stroke=\"rgb(10%,10%,16%)\" stroke-width=\"2\" x1=\"156.0\" x2=\"156.0\" y1=\"300.0\" y2=\"345.0\" style=\"stroke:#030000\" /><line id=\"l_C06_C07_n\" stroke=\"rgb(10%,10%,16%)\" stroke-width=\"2\" x1=\"159.0\" x2=\"159.0\" y1=\"300.0\" y2=\"345.0\" style=\"stroke:#000000\" /><line id=\"l_C07_C08_a\" stroke=\"rgb(10%,10%,16%)\" stroke-width=\"2\" x1=\"150.0\" x2=\"150.0\" y1=\"345.0\" y2=\"390.0\" style=\"stroke:#030000\" /><line id=\"l_C07_C08_b\" stroke=\"rgb(10%,10%,16%)\" stroke-width=\"2\" x1=\"153.0\" x2=\"153.0\" y1=\"345.0\" y2=\"390.0\" style=\"stroke:#030000\" /><line id=\"l_C07_C08_c\" stroke=\"rgb(10%,10%,16%)\" stroke-width=\"2\" x1=\"156.0\" x2=\"156.0\" y1=\"345.0\" y2=\"390.0\" style=\"stroke:#030000\" /><line id=\"l_C07_C08_n\" stroke=\"rgb(10%,10%,16%)\" stroke-width=\"2\" x1=\"159.0\" x2=\"159.0\" y1=\"345.0\" y2=\"390.0\" style=\"stroke:#000000\" /><line id=\"l_C08_C09_a\" stroke=\"rgb(10%,10%,16%)\" stroke-width=\"2\" x1=\"150.0\" x2=\"150.0\" y1=\"390.0\" y2=\"435.0\" style=\"stroke:#000000\" /><line id=\"l_C08_C09_b\" stroke=\"rgb(10%,10%,16%)\" stroke-width=\"2\" x1=\"153.0\" x2=\"153.0\" y1=\"390.0\" y2=\"435.0\" style=\"stroke:#000000\" /><line id=\"l_C08_C09_c\" stroke=\"rgb(10%,10%,16%)\" stroke-width=\"2\" x1=\"156.0\" x2=\"156.0\" y1=\"390.0\" y2=\"435.0\" style=\"stroke:#000000\" /><line id=\"l_C08_C09_n\" stroke=\"rgb(10%,10%,16%)\" stroke-width=\"2\" x1=\"159.0\" x2=\"159.0\" y1=\"390.0\" y2=\"435.0\" style=\"stroke:#000000\" /><line id=\"l_C03_C10_a\" stroke=\"rgb(10%,10%,16%)\" stroke-width=\"2\" x1=\"150.0\" x2=\"105.0\" y1=\"165.0\" y2=\"165.0\" style=\"stroke:#1d0000\" /><line id=\"l_C03_C10_b\" stroke=\"rgb(10%,10%,16%)\" stroke-width=\"2\" x1=\"150.0\" x2=\"105.0\" y1=\"168.0\" y2=\"168.0\" style=\"stroke:#1c0000\" /><line id=\"l_C03_C10_c\" stroke=\"rgb(10%,10%,16%)\" stroke-width=\"2\" x1=\"150.0\" x2=\"105.0\" y1=\"171.0\" y2=\"171.0\" style=\"stroke:#1c0000\" /><line id=\"l_C03_C10_n\" stroke=\"rgb(10%,10%,16%)\" stroke-width=\"2\" x1=\"150.0\" x2=\"105.0\" y1=\"174.0\" y2=\"174.0\" style=\"stroke:#000000\" /><line id=\"l_C10_C11_a\" stroke=\"rgb(10%,10%,16%)\" stroke-width=\"2\" x1=\"105.0\" x2=\"60.0\" y1=\"165.0\" y2=\"165.0\" style=\"stroke:#0b0000\" /><line id=\"l_C10_C11_b\" stroke=\"rgb(10%,10%,16%)\" stroke-width=\"2\" x1=\"105.0\" x2=\"60.0\" y1=\"168.0\" y2=\"168.0\" style=\"stroke:#0a0000\" /><line id=\"l_C10_C11_c\" stroke=\"rgb(10%,10%,16%)\" stroke-width=\"2\" x1=\"105.0\" x2=\"60.0\" y1=\"171.0\" y2=\"171.0\" style=\"stroke:#0b0000\" /><line id=\"l_C10_C11_n\" stroke=\"rgb(10%,10%,16%)\" stroke-width=\"2\" x1=\"105.0\" x2=\"60.0\" y1=\"174.0\" y2=\"174.0\" style=\"stroke:#000000\" /><line id=\"l_C11_C12_a\" stroke=\"rgb(10%,10%,16%)\" stroke-width=\"2\" x1=\"60.0\" x2=\"15.0\" y1=\"165.0\" y2=\"165.0\" style=\"stroke:#020000\" /><line id=\"l_C11_C12_b\" stroke=\"rgb(10%,10%,16%)\" stroke-width=\"2\" x1=\"60.0\" x2=\"15.0\" y1=\"168.0\" y2=\"168.0\" style=\"stroke:#020000\" /><line id=\"l_C11_C12_c\" stroke=\"rgb(10%,10%,16%)\" stroke-width=\"2\" x1=\"60.0\" x2=\"15.0\" y1=\"171.0\" y2=\"171.0\" style=\"stroke:#020000\" /><line id=\"l_C11_C12_n\" stroke=\"rgb(10%,10%,16%)\" stroke-width=\"2\" x1=\"60.0\" x2=\"15.0\" y1=\"174.0\" y2=\"174.0\" style=\"stroke:#000000\" /><line id=\"l_C11_C13_a\" stroke=\"rgb(10%,10%,16%)\" stroke-width=\"2\" x1=\"60.0\" x2=\"60.0\" y1=\"165.0\" y2=\"210.0\" style=\"stroke:#020000\" /><line id=\"l_C11_C13_b\" stroke=\"rgb(10%,10%,16%)\" stroke-width=\"2\" x1=\"63.0\" x2=\"63.0\" y1=\"165.0\" y2=\"210.0\" style=\"stroke:#020000\" /><line id=\"l_C11_C13_c\" stroke=\"rgb(10%,10%,16%)\" stroke-width=\"2\" x1=\"66.0\" x2=\"66.0\" y1=\"165.0\" y2=\"210.0\" style=\"stroke:#020000\" /><line id=\"l_C11_C13_n\" stroke=\"rgb(10%,10%,16%)\" stroke-width=\"2\" x1=\"69.0\" x2=\"69.0\" y1=\"165.0\" y2=\"210.0\" style=\"stroke:#000000\" /><line id=\"l_C10_C14_a\" stroke=\"rgb(10%,10%,16%)\" stroke-width=\"2\" x1=\"105.0\" x2=\"105.0\" y1=\"165.0\" y2=\"210.0\" style=\"stroke:#040000\" /><line id=\"l_C10_C14_b\" stroke=\"rgb(10%,10%,16%)\" stroke-width=\"2\" x1=\"108.0\" x2=\"108.0\" y1=\"165.0\" y2=\"210.0\" style=\"stroke:#040000\" /><line id=\"l_C10_C14_c\" stroke=\"rgb(10%,10%,16%)\" stroke-width=\"2\" x1=\"111.0\" x2=\"111.0\" y1=\"165.0\" y2=\"210.0\" style=\"stroke:#040000\" /><line id=\"l_C10_C14_n\" stroke=\"rgb(10%,10%,16%)\" stroke-width=\"2\" x1=\"114.0\" x2=\"114.0\" y1=\"165.0\" y2=\"210.0\" style=\"stroke:#000000\" /><line id=\"l_C05_C15_a\" stroke=\"rgb(10%,10%,16%)\" stroke-width=\"2\" x1=\"150.0\" x2=\"195.0\" y1=\"255.0\" y2=\"255.0\" style=\"stroke:#070000\" /><line id=\"l_C05_C15_b\" stroke=\"rgb(10%,10%,16%)\" stroke-width=\"2\" x1=\"150.0\" x2=\"195.0\" y1=\"258.0\" y2=\"258.0\" style=\"stroke:#070000\" /><line id=\"l_C05_C15_c\" stroke=\"rgb(10%,10%,16%)\" stroke-width=\"2\" x1=\"150.0\" x2=\"195.0\" y1=\"261.0\" y2=\"261.0\" style=\"stroke:#070000\" /><line id=\"l_C05_C15_n\" stroke=\"rgb(10%,10%,16%)\" stroke-width=\"2\" x1=\"150.0\" x2=\"195.0\" y1=\"264.0\" y2=\"264.0\" style=\"stroke:#000000\" /><line id=\"l_C15_C16_a\" stroke=\"rgb(10%,10%,16%)\" stroke-width=\"2\" x1=\"195.0\" x2=\"240.0\" y1=\"255.0\" y2=\"255.0\" style=\"stroke:#040000\" /><line id=\"l_C15_C16_b\" stroke=\"rgb(10%,10%,16%)\" stroke-width=\"2\" x1=\"195.0\" x2=\"240.0\" y1=\"258.0\" y2=\"258.0\" style=\"stroke:#040000\" /><line id=\"l_C15_C16_c\" stroke=\"rgb(10%,10%,16%)\" stroke-width=\"2\" x1=\"195.0\" x2=\"240.0\" y1=\"261.0\" y2=\"261.0\" style=\"stroke:#040000\" /><line id=\"l_C15_C16_n\" stroke=\"rgb(10%,10%,16%)\" stroke-width=\"2\" x1=\"195.0\" x2=\"240.0\" y1=\"264.0\" y2=\"264.0\" style=\"stroke:#000000\" /><line id=\"l_C15_C18_a\" stroke=\"rgb(10%,10%,16%)\" stroke-width=\"2\" x1=\"195.0\" x2=\"195.0\" y1=\"255.0\" y2=\"300.0\" style=\"stroke:#000000\" /><line id=\"l_C15_C18_b\" stroke=\"rgb(10%,10%,16%)\" stroke-width=\"2\" x1=\"198.0\" x2=\"198.0\" y1=\"255.0\" y2=\"300.0\" style=\"stroke:#000000\" /><line id=\"l_C15_C18_c\" stroke=\"rgb(10%,10%,16%)\" stroke-width=\"2\" x1=\"201.0\" x2=\"201.0\" y1=\"255.0\" y2=\"300.0\" style=\"stroke:#000000\" /><line id=\"l_C15_C18_n\" stroke=\"rgb(10%,10%,16%)\" stroke-width=\"2\" x1=\"204.0\" x2=\"204.0\" y1=\"255.0\" y2=\"300.0\" style=\"stroke:#000000\" /><line id=\"l_C16_C17_a\" stroke=\"rgb(10%,10%,16%)\" stroke-width=\"2\" x1=\"240.0\" x2=\"240.0\" y1=\"255.0\" y2=\"300.0\" style=\"stroke:#040000\" /><line id=\"l_C16_C17_b\" stroke=\"rgb(10%,10%,16%)\" stroke-width=\"2\" x1=\"243.0\" x2=\"243.0\" y1=\"255.0\" y2=\"300.0\" style=\"stroke:#040000\" /><line id=\"l_C16_C17_c\" stroke=\"rgb(10%,10%,16%)\" stroke-width=\"2\" x1=\"246.0\" x2=\"246.0\" y1=\"255.0\" y2=\"300.0\" style=\"stroke:#040000\" /><line id=\"l_C16_C17_n\" stroke=\"rgb(10%,10%,16%)\" stroke-width=\"2\" x1=\"249.0\" x2=\"249.0\" y1=\"255.0\" y2=\"300.0\" style=\"stroke:#000000\" /><line id=\"l_C08_C19_a\" stroke=\"rgb(10%,10%,16%)\" stroke-width=\"2\" x1=\"150.0\" x2=\"105.0\" y1=\"390.0\" y2=\"390.0\" style=\"stroke:#010000\" /><line id=\"l_C08_C19_b\" stroke=\"rgb(10%,10%,16%)\" stroke-width=\"2\" x1=\"150.0\" x2=\"105.0\" y1=\"393.0\" y2=\"393.0\" style=\"stroke:#010000\" /><line id=\"l_C08_C19_c\" stroke=\"rgb(10%,10%,16%)\" stroke-width=\"2\" x1=\"150.0\" x2=\"105.0\" y1=\"396.0\" y2=\"396.0\" style=\"stroke:#010000\" /><line id=\"l_C08_C19_n\" stroke=\"rgb(10%,10%,16%)\" stroke-width=\"2\" x1=\"150.0\" x2=\"105.0\" y1=\"399.0\" y2=\"399.0\" style=\"stroke:#000000\" /><line id=\"l_C09_C20_a\" stroke=\"rgb(10%,10%,16%)\" stroke-width=\"2\" x1=\"150.0\" x2=\"195.0\" y1=\"435.0\" y2=\"435.0\" style=\"stroke:#000000\" /><line id=\"l_C09_C20_b\" stroke=\"rgb(10%,10%,16%)\" stroke-width=\"2\" x1=\"150.0\" x2=\"195.0\" y1=\"438.0\" y2=\"438.0\" style=\"stroke:#000000\" /><line id=\"l_C09_C20_c\" stroke=\"rgb(10%,10%,16%)\" stroke-width=\"2\" x1=\"150.0\" x2=\"195.0\" y1=\"441.0\" y2=\"441.0\" style=\"stroke:#000000\" /><line id=\"l_C09_C20_n\" stroke=\"rgb(10%,10%,16%)\" stroke-width=\"2\" x1=\"150.0\" x2=\"195.0\" y1=\"444.0\" y2=\"444.0\" style=\"stroke:#000000\" /><line stroke=\"rgb(10%,10%,16%)\" x1=\"150.0\" x2=\"150.0\" y1=\"45.0\" y2=\"75.0\" /></svg>"
      ],
      "text/plain": [
       "<IPython.core.display.HTML object>"
      ]
     },
     "execution_count": 8,
     "metadata": {},
     "output_type": "execute_result"
    }
   ],
   "source": [
    "svg_1 = svg('raw_cigre_eu_lv_com.svg')\n",
    "   \n",
    "json_data = open(input_json).read().replace(\"'\",'\"')\n",
    "data = json.loads(json_data)\n",
    "\n",
    "buses = data['buses']\n",
    "lines = data['lines']\n",
    "trafos = data['transformers']\n",
    "\n",
    "for line in lines:\n",
    "    #if not 'monitor'in line or not 'vsc_line' in line: continue\n",
    "    if 'monitor' in line:\n",
    "        if not line['monitor']: continue\n",
    "    if 'vsc_line' in line:\n",
    "        if not line['vsc_line']: continue\n",
    "    bus_j = line['bus_j']\n",
    "    bus_k = line['bus_k']\n",
    "\n",
    "    for ph in ['a','b','c','n']:\n",
    "\n",
    "        I_max = data[\"line_codes\"][line['code']]['I_max']\n",
    "        i_r = grid_c0.get_value(f'i_l_{bus_j}_{bus_k}_{ph}_r') \n",
    "        i_i = grid_c0.get_value(f'i_l_{bus_j}_{bus_k}_{ph}_i') \n",
    "        i = i_r + 1j*i_i\n",
    "        i_abs = np.abs(i)\n",
    "        #print(f'l_{bus_j}_{bus_k}_{ph} = {i_abs:8.1f} A')\n",
    "        if i_abs < 1e-3: continue\n",
    "        i_sat = np.clip(i_abs**2/I_max**2*255,0,255)\n",
    "        svg_1.set_color('line',f'l_{bus_j}_{bus_k}_{ph}',(int(i_sat),0,0))\n",
    "        \n",
    "        \n",
    "#svg_1.set_color('rect','R1',(255,9,0))\n",
    "svg_1.save('cigre_eu_lv_com_i.svg')\n",
    "HTML('cigre_eu_lv_com_i.svg')"
   ]
  },
  {
   "cell_type": "code",
   "execution_count": null,
   "metadata": {},
   "outputs": [],
   "source": []
  },
  {
   "cell_type": "code",
   "execution_count": 26,
   "metadata": {},
   "outputs": [
    {
     "name": "stdout",
     "output_type": "stream",
     "text": [
      "2.7965247631073\n"
     ]
    }
   ],
   "source": [
    "t_0 = time.time()\n",
    "i_list = []\n",
    "N = 1000\n",
    "muls = (0.5-np.random.rand(N))*100e3+70e3\n",
    "for mul in muls:\n",
    "    grid_c0.ini({'p_C20_a':mul})\n",
    "    i_list += [grid_c0.get_value('i_t_C00_C01_a_r')]\n",
    "print(time.time()-t_0)"
   ]
  },
  {
   "cell_type": "code",
   "execution_count": 27,
   "metadata": {},
   "outputs": [
    {
     "data": {
      "text/plain": [
       "[<matplotlib.lines.Line2D at 0x1d959da4ca0>]"
      ]
     },
     "execution_count": 27,
     "metadata": {},
     "output_type": "execute_result"
    },
    {
     "data": {
      "image/png": "[encoded data removed]",
      "text/plain": [
       "<Figure size 600x500 with 1 Axes>"
      ]
     },
     "metadata": {
      "needs_background": "light"
     },
     "output_type": "display_data"
    }
   ],
   "source": [
    "fig, axes = plt.subplots(nrows=1,ncols=1, figsize=(6, 5), dpi=100)\n",
    "axes.plot(muls,i_list,'.')"
   ]
  },
  {
   "cell_type": "code",
   "execution_count": 17,
   "metadata": {},
   "outputs": [
    {
     "data": {
      "text/plain": [
       "[4.695825789904744,\n",
       " 4.8512072509082556,\n",
       " 2.396434769180189,\n",
       " 2.8645725768870216,\n",
       " 2.803263168172455,\n",
       " 5.434429011536248,\n",
       " 4.4366964036007595,\n",
       " 4.281595131132943,\n",
       " 2.769624420681243,\n",
       " 3.509179057742635,\n",
       " 3.408529922323668,\n",
       " 4.267309271568358,\n",
       " 3.9882873355030934,\n",
       " 2.674363973023656,\n",
       " 3.372209573943197,\n",
       " 2.237731225944638,\n",
       " 3.232747307125966,\n",
       " 5.283074617628943,\n",
       " 5.16573495707839,\n",
       " 2.8995446681099803,\n",
       " 4.3913463287586705,\n",
       " 5.521671099784407,\n",
       " 3.8268201997252813,\n",
       " 4.682194970213431,\n",
       " 3.4793160967193466,\n",
       " 2.7400237681536495,\n",
       " 5.258449566467132,\n",
       " 2.9543755168610777,\n",
       " 2.320372261870708,\n",
       " 5.156522664376866,\n",
       " 2.695392171094685,\n",
       " 3.068098924156019,\n",
       " 2.5938914945194167,\n",
       " 5.388048626904189,\n",
       " 5.539230527395034,\n",
       " 3.8505548764899378,\n",
       " 2.9255571877184687,\n",
       " 4.356631033127088,\n",
       " 4.012242025506916,\n",
       " 3.089977555111294,\n",
       " 3.7910926283589137,\n",
       " 2.775366949263019,\n",
       " 4.296833032844253,\n",
       " 3.6502370577417067,\n",
       " 2.7591688858871866,\n",
       " 5.434288469401673,\n",
       " 4.507862780831141,\n",
       " 2.6151107672605414,\n",
       " 4.451509820150948,\n",
       " 4.368519033268793,\n",
       " 4.5208771742934895,\n",
       " 4.542809735916025,\n",
       " 2.909587961409971,\n",
       " 3.1219459563718037,\n",
       " 2.958079520639009,\n",
       " 2.5410144341575567,\n",
       " 3.211458386912984,\n",
       " 2.83324151314364,\n",
       " 4.3902752064790285,\n",
       " 3.9735043949315996,\n",
       " 5.527605865612232,\n",
       " 2.878216658911043,\n",
       " 2.2105172572443403,\n",
       " 5.144740823354581,\n",
       " 2.93019652986446,\n",
       " 3.531373989943623,\n",
       " 4.023056714838583,\n",
       " 3.497926566320387,\n",
       " 5.555571279883698,\n",
       " 3.964396151488146,\n",
       " 3.6644616953622293,\n",
       " 3.974672896560465,\n",
       " 5.55620286780383,\n",
       " 4.391532994909551,\n",
       " 3.5904107767497955,\n",
       " 4.789230096632242,\n",
       " 2.2522530709446293,\n",
       " 2.622150178855502,\n",
       " 2.991636013360087,\n",
       " 2.568492718332383,\n",
       " 2.752100090083274,\n",
       " 5.277961394703365,\n",
       " 2.5948955101336617,\n",
       " 4.0251319936691,\n",
       " 3.13046520945303,\n",
       " 3.767152544309065,\n",
       " 5.19348028186386,\n",
       " 2.810922434941867,\n",
       " 5.492703728829208,\n",
       " 4.829610638154486,\n",
       " 2.515704295458552,\n",
       " 4.354926668897093,\n",
       " 5.547803370551365,\n",
       " 3.984287620164809,\n",
       " 3.5284521660484094,\n",
       " 3.9057390632507287,\n",
       " 4.879628252462986,\n",
       " 3.9288403060280883,\n",
       " 2.474319745514343,\n",
       " 3.9899225119595934,\n",
       " 3.1172160509927687,\n",
       " 5.304662729923987,\n",
       " 4.510244088404685,\n",
       " 3.773424458804,\n",
       " 2.640160473104623,\n",
       " 3.297003449100359,\n",
       " 4.375044342444959,\n",
       " 2.5558248407527384,\n",
       " 3.344401536912394,\n",
       " 3.7319279344260123,\n",
       " 2.948694141225103,\n",
       " 2.077282171745204,\n",
       " 4.900536743861396,\n",
       " 3.7486977083286432,\n",
       " 2.2062703241899344,\n",
       " 3.1022831904407786,\n",
       " 5.125273090877926,\n",
       " 3.061355871237577,\n",
       " 2.8820677490324846,\n",
       " 4.521899978187205,\n",
       " 4.386118717914399,\n",
       " 2.510901984804174,\n",
       " 4.099966325994842,\n",
       " 3.1231318820627676,\n",
       " 3.6798683034567534,\n",
       " 2.7718863624863865,\n",
       " 3.0453648845287002,\n",
       " 4.980407926064562,\n",
       " 4.3285372737929055,\n",
       " 2.662085524486635,\n",
       " 4.571033331922746,\n",
       " 4.380174521819742,\n",
       " 4.044288431302019,\n",
       " 3.3908956100272625,\n",
       " 2.9417961604052816,\n",
       " 4.323391162802116,\n",
       " 4.294620079717391,\n",
       " 2.3019247374916154,\n",
       " 3.192626791430333,\n",
       " 2.386136420458728,\n",
       " 3.7328967881713253,\n",
       " 3.2541632306908617,\n",
       " 3.345992580356655,\n",
       " 4.878963070773211,\n",
       " 4.119087001020358,\n",
       " 2.722536278030564,\n",
       " 5.4823609107721625,\n",
       " 4.431186563794856,\n",
       " 4.334396801664477,\n",
       " 3.9960880152323512,\n",
       " 4.680000765376716,\n",
       " 4.1464878184986125,\n",
       " 2.9791964365265993,\n",
       " 5.260145876466902,\n",
       " nan,\n",
       " nan,\n",
       " nan,\n",
       " nan,\n",
       " nan,\n",
       " nan,\n",
       " nan,\n",
       " nan,\n",
       " nan,\n",
       " nan,\n",
       " nan,\n",
       " nan,\n",
       " nan,\n",
       " nan,\n",
       " nan,\n",
       " nan,\n",
       " nan,\n",
       " nan,\n",
       " nan,\n",
       " nan,\n",
       " nan,\n",
       " nan,\n",
       " nan,\n",
       " nan,\n",
       " nan,\n",
       " nan,\n",
       " nan,\n",
       " nan,\n",
       " nan,\n",
       " nan,\n",
       " nan,\n",
       " nan,\n",
       " nan,\n",
       " nan,\n",
       " nan,\n",
       " nan,\n",
       " nan,\n",
       " nan,\n",
       " nan,\n",
       " nan,\n",
       " nan,\n",
       " nan,\n",
       " nan,\n",
       " nan,\n",
       " nan,\n",
       " nan,\n",
       " nan,\n",
       " nan,\n",
       " nan,\n",
       " nan,\n",
       " nan,\n",
       " nan,\n",
       " nan,\n",
       " nan,\n",
       " nan,\n",
       " nan,\n",
       " nan,\n",
       " nan,\n",
       " nan,\n",
       " nan,\n",
       " nan,\n",
       " nan,\n",
       " nan,\n",
       " nan,\n",
       " nan,\n",
       " nan,\n",
       " nan,\n",
       " nan,\n",
       " nan,\n",
       " nan,\n",
       " nan,\n",
       " nan,\n",
       " nan,\n",
       " nan,\n",
       " nan,\n",
       " nan,\n",
       " nan,\n",
       " nan,\n",
       " nan,\n",
       " nan,\n",
       " nan,\n",
       " nan,\n",
       " nan,\n",
       " nan,\n",
       " nan,\n",
       " nan,\n",
       " nan,\n",
       " nan,\n",
       " nan,\n",
       " nan,\n",
       " nan,\n",
       " nan,\n",
       " nan,\n",
       " nan,\n",
       " nan,\n",
       " nan,\n",
       " nan,\n",
       " nan,\n",
       " nan,\n",
       " nan,\n",
       " nan,\n",
       " nan,\n",
       " nan,\n",
       " nan,\n",
       " nan,\n",
       " nan,\n",
       " nan,\n",
       " nan,\n",
       " nan,\n",
       " nan,\n",
       " nan,\n",
       " nan,\n",
       " nan,\n",
       " nan,\n",
       " nan,\n",
       " nan,\n",
       " nan,\n",
       " nan,\n",
       " nan,\n",
       " nan,\n",
       " nan,\n",
       " nan,\n",
       " nan,\n",
       " nan,\n",
       " nan,\n",
       " nan,\n",
       " nan,\n",
       " nan,\n",
       " nan,\n",
       " nan,\n",
       " nan,\n",
       " nan,\n",
       " nan,\n",
       " nan,\n",
       " nan,\n",
       " nan,\n",
       " nan,\n",
       " nan,\n",
       " nan,\n",
       " nan,\n",
       " nan,\n",
       " nan,\n",
       " nan,\n",
       " nan,\n",
       " nan,\n",
       " nan,\n",
       " nan,\n",
       " nan,\n",
       " nan,\n",
       " nan,\n",
       " nan,\n",
       " nan,\n",
       " nan,\n",
       " nan,\n",
       " nan,\n",
       " nan,\n",
       " nan,\n",
       " nan,\n",
       " nan,\n",
       " nan,\n",
       " nan,\n",
       " nan,\n",
       " nan,\n",
       " nan,\n",
       " nan,\n",
       " nan,\n",
       " nan,\n",
       " nan,\n",
       " nan,\n",
       " nan,\n",
       " nan,\n",
       " nan,\n",
       " nan,\n",
       " nan,\n",
       " nan,\n",
       " nan,\n",
       " nan,\n",
       " nan,\n",
       " nan,\n",
       " nan,\n",
       " nan,\n",
       " nan,\n",
       " nan,\n",
       " nan,\n",
       " nan,\n",
       " nan,\n",
       " nan,\n",
       " nan,\n",
       " nan,\n",
       " nan,\n",
       " nan,\n",
       " nan,\n",
       " nan,\n",
       " nan,\n",
       " nan,\n",
       " nan,\n",
       " nan,\n",
       " nan,\n",
       " nan,\n",
       " nan,\n",
       " nan,\n",
       " nan,\n",
       " nan,\n",
       " nan,\n",
       " nan,\n",
       " nan,\n",
       " nan,\n",
       " nan,\n",
       " nan,\n",
       " nan,\n",
       " nan,\n",
       " nan,\n",
       " nan,\n",
       " nan,\n",
       " nan,\n",
       " nan,\n",
       " nan,\n",
       " nan,\n",
       " nan,\n",
       " nan,\n",
       " nan,\n",
       " nan,\n",
       " nan,\n",
       " nan,\n",
       " nan,\n",
       " nan,\n",
       " nan,\n",
       " nan,\n",
       " nan,\n",
       " nan,\n",
       " nan,\n",
       " nan,\n",
       " nan,\n",
       " nan,\n",
       " nan,\n",
       " nan,\n",
       " nan,\n",
       " nan,\n",
       " nan,\n",
       " nan,\n",
       " nan,\n",
       " nan,\n",
       " nan,\n",
       " nan,\n",
       " nan,\n",
       " nan,\n",
       " nan,\n",
       " nan,\n",
       " nan,\n",
       " nan,\n",
       " nan,\n",
       " nan,\n",
       " nan,\n",
       " nan,\n",
       " nan,\n",
       " nan,\n",
       " nan,\n",
       " nan,\n",
       " nan,\n",
       " nan,\n",
       " nan,\n",
       " nan,\n",
       " nan,\n",
       " nan,\n",
       " nan,\n",
       " nan,\n",
       " nan,\n",
       " nan,\n",
       " nan,\n",
       " nan,\n",
       " nan,\n",
       " nan,\n",
       " nan,\n",
       " nan,\n",
       " nan,\n",
       " nan,\n",
       " nan,\n",
       " nan,\n",
       " nan,\n",
       " nan,\n",
       " nan,\n",
       " nan,\n",
       " nan,\n",
       " nan,\n",
       " nan,\n",
       " nan,\n",
       " nan,\n",
       " nan,\n",
       " nan,\n",
       " nan,\n",
       " nan,\n",
       " nan,\n",
       " nan,\n",
       " nan,\n",
       " nan,\n",
       " nan,\n",
       " nan,\n",
       " nan,\n",
       " nan,\n",
       " nan,\n",
       " nan,\n",
       " nan,\n",
       " nan,\n",
       " nan,\n",
       " nan,\n",
       " nan,\n",
       " nan,\n",
       " nan,\n",
       " nan,\n",
       " nan,\n",
       " nan,\n",
       " nan,\n",
       " nan,\n",
       " nan,\n",
       " nan,\n",
       " nan,\n",
       " nan,\n",
       " nan,\n",
       " nan,\n",
       " nan,\n",
       " nan,\n",
       " nan,\n",
       " nan,\n",
       " nan,\n",
       " nan,\n",
       " nan,\n",
       " nan,\n",
       " nan,\n",
       " nan,\n",
       " nan,\n",
       " nan,\n",
       " nan,\n",
       " nan,\n",
       " nan,\n",
       " nan,\n",
       " nan,\n",
       " nan,\n",
       " nan,\n",
       " nan,\n",
       " nan,\n",
       " nan,\n",
       " nan,\n",
       " nan,\n",
       " nan,\n",
       " nan,\n",
       " nan,\n",
       " nan,\n",
       " nan,\n",
       " nan,\n",
       " nan,\n",
       " nan,\n",
       " nan,\n",
       " nan,\n",
       " nan,\n",
       " nan,\n",
       " nan,\n",
       " nan,\n",
       " nan,\n",
       " nan,\n",
       " nan,\n",
       " nan,\n",
       " nan,\n",
       " nan,\n",
       " nan,\n",
       " nan,\n",
       " nan,\n",
       " nan,\n",
       " nan,\n",
       " nan,\n",
       " nan,\n",
       " nan,\n",
       " nan,\n",
       " nan,\n",
       " nan,\n",
       " nan,\n",
       " nan,\n",
       " nan,\n",
       " nan,\n",
       " nan,\n",
       " nan,\n",
       " nan,\n",
       " nan,\n",
       " nan,\n",
       " nan,\n",
       " nan,\n",
       " nan,\n",
       " nan,\n",
       " nan,\n",
       " nan,\n",
       " nan,\n",
       " nan,\n",
       " nan,\n",
       " nan,\n",
       " nan,\n",
       " nan,\n",
       " nan,\n",
       " nan,\n",
       " nan,\n",
       " nan,\n",
       " nan,\n",
       " nan,\n",
       " nan,\n",
       " nan,\n",
       " nan,\n",
       " nan,\n",
       " nan,\n",
       " nan,\n",
       " nan,\n",
       " nan,\n",
       " nan,\n",
       " nan,\n",
       " nan,\n",
       " nan,\n",
       " nan,\n",
       " nan,\n",
       " nan,\n",
       " nan,\n",
       " nan,\n",
       " nan,\n",
       " nan,\n",
       " nan,\n",
       " nan,\n",
       " nan,\n",
       " nan,\n",
       " nan,\n",
       " nan,\n",
       " nan,\n",
       " nan,\n",
       " nan,\n",
       " nan,\n",
       " nan,\n",
       " nan,\n",
       " nan,\n",
       " nan,\n",
       " nan,\n",
       " nan,\n",
       " nan,\n",
       " nan,\n",
       " nan,\n",
       " nan,\n",
       " nan,\n",
       " nan,\n",
       " nan,\n",
       " nan,\n",
       " nan,\n",
       " nan,\n",
       " nan,\n",
       " nan,\n",
       " nan,\n",
       " nan,\n",
       " nan,\n",
       " nan,\n",
       " nan,\n",
       " nan,\n",
       " nan,\n",
       " nan,\n",
       " nan,\n",
       " nan,\n",
       " nan,\n",
       " nan,\n",
       " nan,\n",
       " nan,\n",
       " nan,\n",
       " nan,\n",
       " nan,\n",
       " nan,\n",
       " nan,\n",
       " nan,\n",
       " nan,\n",
       " nan,\n",
       " nan,\n",
       " nan,\n",
       " nan,\n",
       " nan,\n",
       " nan,\n",
       " nan,\n",
       " nan,\n",
       " nan,\n",
       " nan,\n",
       " nan,\n",
       " nan,\n",
       " nan,\n",
       " nan,\n",
       " nan,\n",
       " nan,\n",
       " nan,\n",
       " nan,\n",
       " nan,\n",
       " nan,\n",
       " nan,\n",
       " nan,\n",
       " nan,\n",
       " nan,\n",
       " nan,\n",
       " nan,\n",
       " nan,\n",
       " nan,\n",
       " nan,\n",
       " nan,\n",
       " nan,\n",
       " nan,\n",
       " nan,\n",
       " nan,\n",
       " nan,\n",
       " nan,\n",
       " nan,\n",
       " nan,\n",
       " nan,\n",
       " nan,\n",
       " nan,\n",
       " nan,\n",
       " nan,\n",
       " nan,\n",
       " nan,\n",
       " nan,\n",
       " nan,\n",
       " nan,\n",
       " nan,\n",
       " nan,\n",
       " nan,\n",
       " nan,\n",
       " nan,\n",
       " nan,\n",
       " nan,\n",
       " nan,\n",
       " nan,\n",
       " nan,\n",
       " nan,\n",
       " nan,\n",
       " nan,\n",
       " nan,\n",
       " nan,\n",
       " nan,\n",
       " nan,\n",
       " nan,\n",
       " nan,\n",
       " nan,\n",
       " nan,\n",
       " nan,\n",
       " nan,\n",
       " nan,\n",
       " nan,\n",
       " nan,\n",
       " nan,\n",
       " nan,\n",
       " nan,\n",
       " nan,\n",
       " nan,\n",
       " nan,\n",
       " nan,\n",
       " nan,\n",
       " nan,\n",
       " nan,\n",
       " nan,\n",
       " nan,\n",
       " nan,\n",
       " nan,\n",
       " nan,\n",
       " nan,\n",
       " nan,\n",
       " nan,\n",
       " nan,\n",
       " nan,\n",
       " nan,\n",
       " nan,\n",
       " nan,\n",
       " nan,\n",
       " nan,\n",
       " nan,\n",
       " nan,\n",
       " nan,\n",
       " nan,\n",
       " nan,\n",
       " nan,\n",
       " nan,\n",
       " nan,\n",
       " nan,\n",
       " nan,\n",
       " nan,\n",
       " nan,\n",
       " nan,\n",
       " nan,\n",
       " nan,\n",
       " nan,\n",
       " nan,\n",
       " nan,\n",
       " nan,\n",
       " nan,\n",
       " nan,\n",
       " nan,\n",
       " nan,\n",
       " nan,\n",
       " nan,\n",
       " nan,\n",
       " nan,\n",
       " nan,\n",
       " nan,\n",
       " nan,\n",
       " nan,\n",
       " nan,\n",
       " nan,\n",
       " nan,\n",
       " nan,\n",
       " nan,\n",
       " nan,\n",
       " nan,\n",
       " nan,\n",
       " nan,\n",
       " nan,\n",
       " nan,\n",
       " nan,\n",
       " nan,\n",
       " nan,\n",
       " nan,\n",
       " nan,\n",
       " nan,\n",
       " nan,\n",
       " nan,\n",
       " nan,\n",
       " nan,\n",
       " nan,\n",
       " nan,\n",
       " nan,\n",
       " nan,\n",
       " nan,\n",
       " nan,\n",
       " nan,\n",
       " nan,\n",
       " nan,\n",
       " nan,\n",
       " nan,\n",
       " nan,\n",
       " nan,\n",
       " nan,\n",
       " nan,\n",
       " nan,\n",
       " nan,\n",
       " nan,\n",
       " nan,\n",
       " nan,\n",
       " nan,\n",
       " nan,\n",
       " nan,\n",
       " nan,\n",
       " nan,\n",
       " nan,\n",
       " nan,\n",
       " nan,\n",
       " nan,\n",
       " nan,\n",
       " nan,\n",
       " nan,\n",
       " nan,\n",
       " nan,\n",
       " nan,\n",
       " nan,\n",
       " nan,\n",
       " nan,\n",
       " nan,\n",
       " nan,\n",
       " nan,\n",
       " nan,\n",
       " nan,\n",
       " nan,\n",
       " nan,\n",
       " nan,\n",
       " nan,\n",
       " nan,\n",
       " nan,\n",
       " nan,\n",
       " nan,\n",
       " nan,\n",
       " nan,\n",
       " nan,\n",
       " nan,\n",
       " nan,\n",
       " nan,\n",
       " nan,\n",
       " nan,\n",
       " nan,\n",
       " nan,\n",
       " nan,\n",
       " nan,\n",
       " nan,\n",
       " nan,\n",
       " nan,\n",
       " nan,\n",
       " nan,\n",
       " nan,\n",
       " nan,\n",
       " nan,\n",
       " nan,\n",
       " nan,\n",
       " nan,\n",
       " nan,\n",
       " nan,\n",
       " nan,\n",
       " nan,\n",
       " nan,\n",
       " nan,\n",
       " nan,\n",
       " nan,\n",
       " nan,\n",
       " nan,\n",
       " nan,\n",
       " nan,\n",
       " nan,\n",
       " nan,\n",
       " nan,\n",
       " nan,\n",
       " nan,\n",
       " nan,\n",
       " nan,\n",
       " nan,\n",
       " nan,\n",
       " nan,\n",
       " nan,\n",
       " nan,\n",
       " nan,\n",
       " nan,\n",
       " nan,\n",
       " nan,\n",
       " nan,\n",
       " nan,\n",
       " nan,\n",
       " nan,\n",
       " nan,\n",
       " nan,\n",
       " nan,\n",
       " nan,\n",
       " nan,\n",
       " nan,\n",
       " nan,\n",
       " nan,\n",
       " nan,\n",
       " nan,\n",
       " nan,\n",
       " nan,\n",
       " nan,\n",
       " nan,\n",
       " nan,\n",
       " nan,\n",
       " nan,\n",
       " nan,\n",
       " nan,\n",
       " nan,\n",
       " nan,\n",
       " nan,\n",
       " nan,\n",
       " nan,\n",
       " nan,\n",
       " nan,\n",
       " nan,\n",
       " nan,\n",
       " nan,\n",
       " nan,\n",
       " nan,\n",
       " nan,\n",
       " nan,\n",
       " nan,\n",
       " nan,\n",
       " nan,\n",
       " nan,\n",
       " nan,\n",
       " nan,\n",
       " nan,\n",
       " nan,\n",
       " nan,\n",
       " nan,\n",
       " nan,\n",
       " nan,\n",
       " nan,\n",
       " nan,\n",
       " nan,\n",
       " nan,\n",
       " nan,\n",
       " nan,\n",
       " nan,\n",
       " nan,\n",
       " nan,\n",
       " nan,\n",
       " nan,\n",
       " nan,\n",
       " nan,\n",
       " nan,\n",
       " nan,\n",
       " nan,\n",
       " nan,\n",
       " nan,\n",
       " nan,\n",
       " nan,\n",
       " nan,\n",
       " nan,\n",
       " nan,\n",
       " nan,\n",
       " nan,\n",
       " nan,\n",
       " nan,\n",
       " nan,\n",
       " nan,\n",
       " nan,\n",
       " nan,\n",
       " nan,\n",
       " nan,\n",
       " nan,\n",
       " nan,\n",
       " nan,\n",
       " nan,\n",
       " nan,\n",
       " nan,\n",
       " nan,\n",
       " nan,\n",
       " nan,\n",
       " nan,\n",
       " nan,\n",
       " nan,\n",
       " nan,\n",
       " nan,\n",
       " nan,\n",
       " nan,\n",
       " nan,\n",
       " nan,\n",
       " nan,\n",
       " nan,\n",
       " nan,\n",
       " nan,\n",
       " nan,\n",
       " nan,\n",
       " nan,\n",
       " nan,\n",
       " nan,\n",
       " nan,\n",
       " nan,\n",
       " nan,\n",
       " nan,\n",
       " nan,\n",
       " nan,\n",
       " nan,\n",
       " nan,\n",
       " nan,\n",
       " nan,\n",
       " nan,\n",
       " nan,\n",
       " nan,\n",
       " nan,\n",
       " nan]"
      ]
     },
     "execution_count": 17,
     "metadata": {},
     "output_type": "execute_result"
    }
   ],
   "source": [
    "i_list"
   ]
  },
  {
   "cell_type": "code",
   "execution_count": 33,
   "metadata": {},
   "outputs": [],
   "source": [
    "json_file = 'cigre_europe_residential_4w2w.json'\n",
    "json_file = json_file\n",
    "json_data = open(json_file).read().replace(\"'\",'\"')\n",
    "data = json.loads(json_data)\n",
    "lines = data['lines']\n",
    "line_codes = data['line_codes']"
   ]
  },
  {
   "cell_type": "code",
   "execution_count": 39,
   "metadata": {},
   "outputs": [
    {
     "data": {
      "text/html": [
       "<svg xmlns=\"http://www.w3.org/2000/svg\" xmlns:inkscape=\"http://www.inkscape.org/namespaces/inkscape\" xmlns:ns3=\"http://www.w3.org/1999/xlink\" xmlns:sodipodi=\"http://sodipodi.sourceforge.net/DTD/sodipodi-0.dtd\" height=\"581.80493\" version=\"1.1\" width=\"306.04492\" id=\"svg180\" sodipodi:docname=\"cigre.svg\" inkscape:version=\"1.1 (c68e22c387, 2021-05-23)\">\n",
       "  <sodipodi:namedview id=\"namedview182\" pagecolor=\"#ffffff\" bordercolor=\"#666666\" borderopacity=\"1.0\" inkscape:pageshadow=\"2\" inkscape:pageopacity=\"0.0\" inkscape:pagecheckerboard=\"0\" showgrid=\"false\" inkscape:zoom=\"0.78125\" inkscape:cx=\"-76.16\" inkscape:cy=\"401.28\" inkscape:window-width=\"1600\" inkscape:window-height=\"812\" inkscape:window-x=\"-8\" inkscape:window-y=\"-8\" inkscape:window-maximized=\"1\" inkscape:current-layer=\"g5936\" inkscape:snap-intersection-paths=\"true\" inkscape:snap-bbox=\"true\" inkscape:snap-smooth-nodes=\"true\" fit-margin-top=\"5\" fit-margin-left=\"5\" fit-margin-right=\"5\" fit-margin-bottom=\"5\" lock-margins=\"true\" />\n",
       "  <defs id=\"defs2\" />\n",
       "  <g id=\"g3943\" transform=\"rotate(90,168.00064,541.64557)\">\n",
       "    <path style=\"fill:#5cb85c;stroke:none;stroke-width:2;stroke-linecap:butt;stroke-linejoin:miter;stroke-opacity:1\" d=\"m 161.75534,614.44668 22.93554,-26.55063 17.41129,20.43073 -23.13844,26.77352 z\" id=\"path3050-3\" sodipodi:nodetypes=\"ccccc\" />\n",
       "    <rect style=\"fill:#337ab7;stroke-width:2;-inkscape-stroke:none;stop-color:#000000\" id=\"rect2194-9-8-3\" width=\"20.631113\" height=\"24.537434\" x=\"182.5289\" y=\"586.58258\" rx=\"5.6568542\" ry=\"5.6568542\" />\n",
       "    <rect style=\"fill:#d9534f;stroke-width:2;-inkscape-stroke:none;stop-color:#000000\" id=\"rect2194-9-5-3-2\" width=\"20.631113\" height=\"24.537434\" x=\"160.0289\" y=\"612.08258\" rx=\"5.6568542\" ry=\"5.6568542\" />\n",
       "  </g>\n",
       "  <path style=\"fill:#5cb85c;stroke:none;stroke-width:2;stroke-linecap:butt;stroke-linejoin:miter;stroke-opacity:1\" d=\"m 234.74937,218.75065 25.59426,-22.59083 17.41129,21.10955 -26.08,23.04 z\" id=\"path3050\" sodipodi:nodetypes=\"ccccc\" />\n",
       "  <rect style=\"fill:#5cb85c;stroke-width:2;-inkscape-stroke:none;stop-color:#000000\" id=\"rect2194\" width=\"43.055714\" height=\"22.901604\" x=\"77.017075\" y=\"60.038574\" rx=\"5.6568542\" ry=\"5.6568542\" />\n",
       "  <rect style=\"fill:#337ab7;stroke-width:2;-inkscape-stroke:none;stop-color:#000000\" id=\"rect2194-9\" width=\"19.255705\" height=\"22.901604\" x=\"101.66707\" y=\"60.538574\" rx=\"5.6568542\" ry=\"5.6568542\" />\n",
       "  <rect style=\"fill:#337ab7;stroke-width:2;-inkscape-stroke:none;stop-color:#000000\" id=\"rect2194-9-8\" width=\"20.631113\" height=\"24.537434\" x=\"258.4794\" y=\"194.72067\" rx=\"5.6568542\" ry=\"5.6568542\" />\n",
       "  <rect style=\"fill:#d9534f;stroke-width:2;-inkscape-stroke:none;stop-color:#000000\" id=\"rect2194-9-5\" width=\"19.255705\" height=\"22.901604\" x=\"75.667068\" y=\"60.038574\" rx=\"5.6568542\" ry=\"5.6568542\" />\n",
       "  <rect style=\"fill:#d9534f;stroke-width:2;-inkscape-stroke:none;stop-color:#000000\" id=\"rect2194-9-5-3\" width=\"20.631113\" height=\"24.537434\" x=\"232.9794\" y=\"217.22067\" rx=\"5.6568542\" ry=\"5.6568542\" />\n",
       "  <rect height=\"14\" id=\"R0\" width=\"14\" x=\"78.794922\" y=\"16.109375\" style=\"stroke-width:1\" />\n",
       "  <text fill=\"#000000\" id=\"R0_tt\" x=\"78.904297\" y=\"13.109375\" style=\"font-style:normal;font-variant:normal;font-weight:normal;font-stretch:normal;font-family:'Times New Roman';-inkscape-font-specification:'Times New Roman, '\">R0</text>\n",
       "  <set attributeName=\"visibility\" begin=\"R18.mouseover\" end=\"R18.mouseout\" to=\"visible\" ns3:href=\"R18_tt\" />\n",
       "  <text fill=\"#000000\" id=\"R1_tt\" x=\"56.043945\" y=\"76.366325\" style=\"font-style:normal;font-variant:normal;font-weight:normal;font-stretch:normal;font-family:'Times New Roman';-inkscape-font-specification:'Times New Roman, '\">R1</text>\n",
       "  <set attributeName=\"visibility\" begin=\"R18.mouseover\" end=\"R18.mouseout\" to=\"visible\" ns3:href=\"R18_tt\" />\n",
       "  <text fill=\"#000000\" id=\"R2_tt\" x=\"55.794922\" y=\"128.48938\" style=\"font-style:normal;font-variant:normal;font-weight:normal;font-stretch:normal;font-family:'Times New Roman';-inkscape-font-specification:'Times New Roman, '\">R2</text>\n",
       "  <set attributeName=\"visibility\" begin=\"R18.mouseover\" end=\"R18.mouseout\" to=\"visible\" ns3:href=\"R18_tt\" />\n",
       "  <text fill=\"#000000\" id=\"R3_tt\" x=\"57.850578\" y=\"196.98938\" style=\"font-style:normal;font-variant:normal;font-weight:normal;font-stretch:normal;font-family:'Times New Roman';-inkscape-font-specification:'Times New Roman, '\">R3</text>\n",
       "  <set attributeName=\"visibility\" begin=\"R18.mouseover\" end=\"R18.mouseout\" to=\"visible\" ns3:href=\"R18_tt\" />\n",
       "  <text fill=\"#000000\" id=\"R4_tt\" x=\"57.689453\" y=\"233.48938\" style=\"font-style:normal;font-variant:normal;font-weight:normal;font-stretch:normal;font-family:'Times New Roman';-inkscape-font-specification:'Times New Roman, '\">R4</text>\n",
       "  <set attributeName=\"visibility\" begin=\"R18.mouseover\" end=\"R18.mouseout\" to=\"visible\" ns3:href=\"R18_tt\" />\n",
       "  <text fill=\"#000000\" id=\"R5_tt\" x=\"57.824219\" y=\"283.98938\" style=\"font-style:normal;font-variant:normal;font-weight:normal;font-stretch:normal;font-family:'Times New Roman';-inkscape-font-specification:'Times New Roman, '\">R5</text>\n",
       "  <set attributeName=\"visibility\" begin=\"R18.mouseover\" end=\"R18.mouseout\" to=\"visible\" ns3:href=\"R18_tt\" />\n",
       "  <text fill=\"#000000\" id=\"R6_tt\" x=\"59.554916\" y=\"321.92938\" style=\"font-style:normal;font-variant:normal;font-weight:normal;font-stretch:normal;font-family:'Times New Roman';-inkscape-font-specification:'Times New Roman, '\">R6</text>\n",
       "  <set attributeName=\"visibility\" begin=\"R18.mouseover\" end=\"R18.mouseout\" to=\"visible\" ns3:href=\"R18_tt\" />\n",
       "  <text fill=\"#000000\" id=\"R7_tt\" x=\"57.777344\" y=\"390.98938\" style=\"font-style:normal;font-variant:normal;font-weight:normal;font-stretch:normal;font-family:'Times New Roman';-inkscape-font-specification:'Times New Roman, '\">R7</text>\n",
       "  <set attributeName=\"visibility\" begin=\"R18.mouseover\" end=\"R18.mouseout\" to=\"visible\" ns3:href=\"R18_tt\" />\n",
       "  <text fill=\"#000000\" id=\"R8_tt\" x=\"57.756828\" y=\"443.48938\" style=\"font-style:normal;font-variant:normal;font-weight:normal;font-stretch:normal;font-family:'Times New Roman';-inkscape-font-specification:'Times New Roman, '\">R8</text>\n",
       "  <set attributeName=\"visibility\" begin=\"R18.mouseover\" end=\"R18.mouseout\" to=\"visible\" ns3:href=\"R18_tt\" />\n",
       "  <text fill=\"#000000\" id=\"R9_tt\" x=\"57.794922\" y=\"495.98938\" style=\"font-style:normal;font-variant:normal;font-weight:normal;font-stretch:normal;font-family:'Times New Roman';-inkscape-font-specification:'Times New Roman, '\">R9</text>\n",
       "  <set attributeName=\"visibility\" begin=\"R18.mouseover\" end=\"R18.mouseout\" to=\"visible\" ns3:href=\"R18_tt\" />\n",
       "  <text fill=\"#000000\" id=\"R10_tt\" x=\"53.663979\" y=\"533.58429\" style=\"font-style:normal;font-variant:normal;font-weight:normal;font-stretch:normal;font-family:'Times New Roman';-inkscape-font-specification:'Times New Roman, '\">R10</text>\n",
       "  <set attributeName=\"visibility\" begin=\"R18.mouseover\" end=\"R18.mouseout\" to=\"visible\" ns3:href=\"R18_tt\" />\n",
       "  <text fill=\"#000000\" id=\"R11_tt\" x=\"6.7949219\" y=\"180.98938\" style=\"font-style:normal;font-variant:normal;font-weight:normal;font-stretch:normal;font-family:'Times New Roman';-inkscape-font-specification:'Times New Roman, '\">R11</text>\n",
       "  <set attributeName=\"visibility\" begin=\"R18.mouseover\" end=\"R18.mouseout\" to=\"visible\" ns3:href=\"R18_tt\" />\n",
       "  <text fill=\"#000000\" id=\"R12_tt\" x=\"126.29492\" y=\"251.48938\" style=\"font-style:normal;font-variant:normal;font-weight:normal;font-stretch:normal;font-family:'Times New Roman';-inkscape-font-specification:'Times New Roman, '\">R12</text>\n",
       "  <set attributeName=\"visibility\" begin=\"R18.mouseover\" end=\"R18.mouseout\" to=\"visible\" ns3:href=\"R18_tt\" />\n",
       "  <text fill=\"#000000\" id=\"R13_tt\" x=\"178.79492\" y=\"251.48938\" style=\"font-style:normal;font-variant:normal;font-weight:normal;font-stretch:normal;font-family:'Times New Roman';-inkscape-font-specification:'Times New Roman, '\">R13</text>\n",
       "  <set attributeName=\"visibility\" begin=\"R18.mouseover\" end=\"R18.mouseout\" to=\"visible\" ns3:href=\"R18_tt\" />\n",
       "  <text fill=\"#000000\" id=\"R14_tt\" x=\"210.33493\" y=\"250.84937\" style=\"font-style:normal;font-variant:normal;font-weight:normal;font-stretch:normal;font-family:'Times New Roman';-inkscape-font-specification:'Times New Roman, '\">R14</text>\n",
       "  <set attributeName=\"visibility\" begin=\"R18.mouseover\" end=\"R18.mouseout\" to=\"visible\" ns3:href=\"R18_tt\" />\n",
       "  <text fill=\"#000000\" id=\"R15_tt\" x=\"230.81491\" y=\"303.98938\" style=\"font-style:normal;font-variant:normal;font-weight:normal;font-stretch:normal;font-family:'Times New Roman';-inkscape-font-specification:'Times New Roman, '\">R15</text>\n",
       "  <set attributeName=\"visibility\" begin=\"R18.mouseover\" end=\"R18.mouseout\" to=\"visible\" ns3:href=\"R18_tt\" />\n",
       "  <text fill=\"#000000\" id=\"R16_tt\" x=\"4.7949219\" y=\"338.24939\" style=\"font-style:normal;font-variant:normal;font-weight:normal;font-stretch:normal;font-family:'Times New Roman';-inkscape-font-specification:'Times New Roman, '\">R16</text>\n",
       "  <set attributeName=\"visibility\" begin=\"R18.mouseover\" end=\"R18.mouseout\" to=\"visible\" ns3:href=\"R18_tt\" />\n",
       "  <text fill=\"#000000\" id=\"R17_tt\" x=\"158.79492\" y=\"495.98938\" style=\"font-style:normal;font-variant:normal;font-weight:normal;font-stretch:normal;font-family:'Times New Roman';-inkscape-font-specification:'Times New Roman, '\">R17</text>\n",
       "  <set attributeName=\"visibility\" begin=\"R18.mouseover\" end=\"R18.mouseout\" to=\"visible\" ns3:href=\"R18_tt\" />\n",
       "  <text fill=\"#000000\" id=\"R18_tt\" x=\"6.7949219\" y=\"549.12939\" style=\"font-style:normal;font-variant:normal;font-weight:normal;font-stretch:normal;font-family:'Times New Roman';-inkscape-font-specification:'Times New Roman, '\">R18</text>\n",
       "  <set attributeName=\"visibility\" begin=\"R18.mouseover\" end=\"R18.mouseout\" to=\"visible\" ns3:href=\"R18_tt\" />\n",
       "  <text fill=\"#000000\" id=\"D1_tt\" x=\"121.48242\" y=\"76.366325\" style=\"font-style:normal;font-variant:normal;font-weight:normal;font-stretch:normal;font-family:'Times New Roman';-inkscape-font-specification:'Times New Roman, '\">D1</text>\n",
       "  <set attributeName=\"visibility\" begin=\"R18.mouseover\" end=\"R18.mouseout\" to=\"visible\" ns3:href=\"R18_tt\" />\n",
       "  <text fill=\"#000000\" id=\"D3_tt\" x=\"121.29492\" y=\"158.85168\" style=\"font-style:normal;font-variant:normal;font-weight:normal;font-stretch:normal;font-family:'Times New Roman';-inkscape-font-specification:'Times New Roman, '\">D3</text>\n",
       "  <set attributeName=\"visibility\" begin=\"R18.mouseover\" end=\"R18.mouseout\" to=\"visible\" ns3:href=\"R18_tt\" />\n",
       "  <text fill=\"#000000\" id=\"D4_tt\" x=\"119.29492\" y=\"196.98938\" style=\"font-style:normal;font-variant:normal;font-weight:normal;font-stretch:normal;font-family:'Times New Roman';-inkscape-font-specification:'Times New Roman, '\">D4</text>\n",
       "  <set attributeName=\"visibility\" begin=\"R18.mouseover\" end=\"R18.mouseout\" to=\"visible\" ns3:href=\"R18_tt\" />\n",
       "  <text fill=\"#000000\" id=\"D6_tt\" x=\"119.61493\" y=\"346.98938\" style=\"font-style:normal;font-variant:normal;font-weight:normal;font-stretch:normal;font-family:'Times New Roman';-inkscape-font-specification:'Times New Roman, '\">D6</text>\n",
       "  <set attributeName=\"visibility\" begin=\"R18.mouseover\" end=\"R18.mouseout\" to=\"visible\" ns3:href=\"R18_tt\" />\n",
       "  <text fill=\"#000000\" id=\"D9_tt\" x=\"118.17493\" y=\"459.48938\" style=\"font-style:normal;font-variant:normal;font-weight:normal;font-stretch:normal;font-family:'Times New Roman';-inkscape-font-specification:'Times New Roman, '\">D9</text>\n",
       "  <set attributeName=\"visibility\" begin=\"R18.mouseover\" end=\"R18.mouseout\" to=\"visible\" ns3:href=\"R18_tt\" />\n",
       "  <text fill=\"#000000\" id=\"D10_tt\" x=\"124.6451\" y=\"572.37598\" style=\"font-style:normal;font-variant:normal;font-weight:normal;font-stretch:normal;font-family:'Times New Roman';-inkscape-font-specification:'Times New Roman, '\">D10</text>\n",
       "  <set attributeName=\"visibility\" begin=\"R18.mouseover\" end=\"R18.mouseout\" to=\"visible\" ns3:href=\"R18_tt\" />\n",
       "  <text fill=\"#000000\" id=\"D11_tt\" x=\"6.7949219\" y=\"158.48938\" style=\"font-style:normal;font-variant:normal;font-weight:normal;font-stretch:normal;font-family:'Times New Roman';-inkscape-font-specification:'Times New Roman, '\">D11</text>\n",
       "  <set attributeName=\"visibility\" begin=\"R18.mouseover\" end=\"R18.mouseout\" to=\"visible\" ns3:href=\"R18_tt\" />\n",
       "  <text fill=\"#000000\" id=\"D16_tt\" x=\"4.7949219\" y=\"361.38937\" style=\"font-style:normal;font-variant:normal;font-weight:normal;font-stretch:normal;font-family:'Times New Roman';-inkscape-font-specification:'Times New Roman, '\">D16</text>\n",
       "  <set attributeName=\"visibility\" begin=\"R18.mouseover\" end=\"R18.mouseout\" to=\"visible\" ns3:href=\"R18_tt\" />\n",
       "  <text fill=\"#000000\" id=\"D17_tt\" x=\"158.79492\" y=\"473.48938\" style=\"font-style:normal;font-variant:normal;font-weight:normal;font-stretch:normal;font-family:'Times New Roman';-inkscape-font-specification:'Times New Roman, '\">D17</text>\n",
       "  <set attributeName=\"visibility\" begin=\"R18.mouseover\" end=\"R18.mouseout\" to=\"visible\" ns3:href=\"R18_tt\" />\n",
       "  <text fill=\"#000000\" id=\"D18_tt\" x=\"6.7949219\" y=\"571.70935\" style=\"font-style:normal;font-variant:normal;font-weight:normal;font-stretch:normal;font-family:'Times New Roman';-inkscape-font-specification:'Times New Roman, '\">D18</text>\n",
       "  <set attributeName=\"visibility\" begin=\"R18.mouseover\" end=\"R18.mouseout\" to=\"visible\" ns3:href=\"R18_tt\" />\n",
       "  <text fill=\"#000000\" id=\"D14_tt\" x=\"280.79492\" y=\"208.98938\" style=\"font-style:normal;font-variant:normal;font-weight:normal;font-stretch:normal;font-family:'Times New Roman';-inkscape-font-specification:'Times New Roman, '\">D14</text>\n",
       "  <set attributeName=\"visibility\" begin=\"R18.mouseover\" end=\"R18.mouseout\" to=\"visible\" ns3:href=\"R18_tt\" />\n",
       "  <text fill=\"#000000\" id=\"D15_tt\" x=\"260.15491\" y=\"303.98938\" style=\"font-style:normal;font-variant:normal;font-weight:normal;font-stretch:normal;font-family:'Times New Roman';-inkscape-font-specification:'Times New Roman, '\">D15</text>\n",
       "  <set attributeName=\"visibility\" begin=\"R18.mouseover\" end=\"R18.mouseout\" to=\"visible\" ns3:href=\"R18_tt\" />\n",
       "  <line id=\"l_R1_R2_a\" stroke=\"#191928\" stroke-width=\"2\" x1=\"80.794922\" x2=\"80.794922\" y1=\"66.989372\" y2=\"119.48937\" style=\"stroke:#ff0000\" />\n",
       "  <line id=\"l_R1_R2_b\" stroke=\"#191928\" stroke-width=\"2\" x1=\"83.794922\" x2=\"83.794922\" y1=\"66.989372\" y2=\"119.48937\" style=\"stroke:#ff0000\" />\n",
       "  <line id=\"l_R1_R2_c\" stroke=\"#191928\" stroke-width=\"2\" x1=\"86.794922\" x2=\"86.794922\" y1=\"66.989372\" y2=\"119.48937\" style=\"stroke:#ff0000\" />\n",
       "  <line id=\"l_R1_R2_n\" stroke=\"rgb(10%,10%,16%)\" stroke-width=\"2\" x1=\"89.794922\" x2=\"89.794922\" y1=\"66.989372\" y2=\"119.48937\" style=\"stroke:#010000\" />\n",
       "  <line id=\"l_R2_R3_b\" stroke=\"#191928\" stroke-width=\"2\" x1=\"83.794922\" x2=\"83.794922\" y1=\"119.48937\" y2=\"171.98938\" style=\"stroke:#ff0000\" />\n",
       "  <line id=\"l_R2_R3_c\" stroke=\"#191928\" stroke-width=\"2\" x1=\"86.794922\" x2=\"86.794922\" y1=\"119.48937\" y2=\"171.98938\" style=\"stroke:#ff0000\" />\n",
       "  <g id=\"g5908\" transform=\"translate(-69.205078,-8.010626)\">\n",
       "    <line id=\"l_R2_R3_a\" stroke=\"#191928\" stroke-width=\"2\" x1=\"150\" x2=\"150\" y1=\"127.5\" y2=\"180\" style=\"stroke:#ff0000\" />\n",
       "    <line id=\"l_R2_R3_n\" stroke=\"#191928\" stroke-width=\"2\" x1=\"159\" x2=\"159\" y1=\"127.5\" y2=\"180\" style=\"stroke:#000000\" />\n",
       "  </g>\n",
       "  <line id=\"l_R3_R4_a\" stroke=\"#191928\" stroke-width=\"2\" x1=\"80.794922\" x2=\"80.794922\" y1=\"171.98938\" y2=\"224.48938\" style=\"stroke:#ff0000\" />\n",
       "  <line id=\"l_R3_R4_b\" stroke=\"#191928\" stroke-width=\"2\" x1=\"83.794922\" x2=\"83.794922\" y1=\"171.98938\" y2=\"224.48938\" style=\"stroke:#ff0000\" />\n",
       "  <line id=\"l_R3_R4_c\" stroke=\"#191928\" stroke-width=\"2\" x1=\"86.794922\" x2=\"86.794922\" y1=\"171.98938\" y2=\"224.48938\" style=\"stroke:#ff0000\" />\n",
       "  <line id=\"l_R3_R4_n\" stroke=\"#191928\" stroke-width=\"2\" x1=\"89.794922\" x2=\"89.794922\" y1=\"171.98938\" y2=\"224.48938\" style=\"stroke:#000000\" />\n",
       "  <line id=\"l_R4_R5_a\" stroke=\"#191928\" stroke-width=\"2\" x1=\"80.794922\" x2=\"80.794922\" y1=\"235.98938\" y2=\"274.98938\" style=\"stroke:#c10000\" />\n",
       "  <line id=\"l_R4_R5_b\" stroke=\"#191928\" stroke-width=\"2\" x1=\"83.794922\" x2=\"83.794922\" y1=\"235.98938\" y2=\"274.98938\" style=\"stroke:#c00000\" />\n",
       "  <line id=\"l_R4_R5_c\" stroke=\"#191928\" stroke-width=\"2\" x1=\"86.794922\" x2=\"86.794922\" y1=\"235.98938\" y2=\"274.98938\" style=\"stroke:#be0000\" />\n",
       "  <line id=\"l_R4_R5_n\" stroke=\"#191928\" stroke-width=\"2\" x1=\"89.794922\" x2=\"89.794922\" y1=\"235.98938\" y2=\"274.98938\" style=\"stroke:#000000\" />\n",
       "  <line id=\"l_R5_R6_a\" stroke=\"#191928\" stroke-width=\"2\" x1=\"80.794922\" x2=\"80.794922\" y1=\"288.98938\" y2=\"329.48938\" style=\"stroke:#c10000\" />\n",
       "  <line id=\"l_R5_R6_b\" stroke=\"#191928\" stroke-width=\"2\" x1=\"83.794922\" x2=\"83.794922\" y1=\"276.98938\" y2=\"329.48938\" style=\"stroke:#c00000\" />\n",
       "  <line id=\"l_R5_R6_c\" stroke=\"#191928\" stroke-width=\"2\" x1=\"86.794922\" x2=\"86.794922\" y1=\"288.98938\" y2=\"329.48938\" style=\"stroke:#be0000\" />\n",
       "  <line id=\"l_R5_R6_n\" stroke=\"#191928\" stroke-width=\"2\" x1=\"89.794922\" x2=\"89.794922\" y1=\"288.98938\" y2=\"329.48938\" style=\"stroke:#000000\" />\n",
       "  <line id=\"l_R6_R7_a\" stroke=\"#191928\" stroke-width=\"2\" x1=\"80.794922\" x2=\"80.794922\" y1=\"329.48938\" y2=\"381.98938\" style=\"stroke:#580000\" />\n",
       "  <line id=\"l_R6_R7_b\" stroke=\"#191928\" stroke-width=\"2\" x1=\"83.794922\" x2=\"83.794922\" y1=\"329.48938\" y2=\"381.98938\" style=\"stroke:#580000\" />\n",
       "  <line id=\"l_R6_R7_c\" stroke=\"#191928\" stroke-width=\"2\" x1=\"86.794922\" x2=\"86.794922\" y1=\"329.48938\" y2=\"381.98938\" style=\"stroke:#570000\" />\n",
       "  <line id=\"l_R6_R7_n\" stroke=\"#191928\" stroke-width=\"2\" x1=\"89.794922\" x2=\"89.794922\" y1=\"329.48938\" y2=\"381.98938\" style=\"stroke:#000000\" />\n",
       "  <line id=\"l_R7_R8_a\" stroke=\"#191928\" stroke-width=\"2\" x1=\"80.794922\" x2=\"80.794922\" y1=\"381.98938\" y2=\"434.48938\" style=\"stroke:#580000\" />\n",
       "  <line id=\"l_R7_R8_b\" stroke=\"#191928\" stroke-width=\"2\" x1=\"83.794922\" x2=\"83.794922\" y1=\"381.98938\" y2=\"434.48938\" style=\"stroke:#580000\" />\n",
       "  <line id=\"l_R7_R8_c\" stroke=\"#191928\" stroke-width=\"2\" x1=\"86.794922\" x2=\"86.794922\" y1=\"381.98938\" y2=\"434.48938\" style=\"stroke:#570000\" />\n",
       "  <line id=\"l_R7_R8_n\" stroke=\"#191928\" stroke-width=\"2\" x1=\"89.794922\" x2=\"89.794922\" y1=\"381.98938\" y2=\"434.48938\" style=\"stroke:#000000\" />\n",
       "  <line id=\"l_R8_R9_a\" stroke=\"#191928\" stroke-width=\"2\" x1=\"80.794922\" x2=\"80.794922\" y1=\"434.48938\" y2=\"486.98938\" style=\"stroke:#580000\" />\n",
       "  <line id=\"l_R8_R9_b\" stroke=\"#191928\" stroke-width=\"2\" x1=\"83.794922\" x2=\"83.794922\" y1=\"434.48938\" y2=\"486.98938\" style=\"stroke:#580000\" />\n",
       "  <line id=\"l_R8_R9_c\" stroke=\"#191928\" stroke-width=\"2\" x1=\"86.794922\" x2=\"86.794922\" y1=\"434.48938\" y2=\"486.98938\" style=\"stroke:#570000\" />\n",
       "  <line id=\"l_R8_R9_n\" stroke=\"#191928\" stroke-width=\"2\" x1=\"89.794922\" x2=\"89.794922\" y1=\"434.48938\" y2=\"486.98938\" style=\"stroke:#000000\" />\n",
       "  <line id=\"l_R9_R10_a\" stroke=\"#191928\" stroke-width=\"2\" x1=\"80.794922\" x2=\"80.794922\" y1=\"486.98938\" y2=\"539.48938\" style=\"stroke:#1d0000\" />\n",
       "  <line id=\"l_R9_R10_b\" stroke=\"#191928\" stroke-width=\"2\" x1=\"83.794922\" x2=\"83.794922\" y1=\"486.98938\" y2=\"539.48938\" style=\"stroke:#1d0000\" />\n",
       "  <line id=\"l_R9_R10_c\" stroke=\"#191928\" stroke-width=\"2\" x1=\"86.794922\" x2=\"86.794922\" y1=\"486.98938\" y2=\"539.48938\" style=\"stroke:#1d0000\" />\n",
       "  <line id=\"l_R9_R10_n\" stroke=\"#191928\" stroke-width=\"2\" x1=\"89.794922\" x2=\"89.794922\" y1=\"486.98938\" y2=\"539.48938\" style=\"stroke:#000000\" />\n",
       "  <line id=\"l_R3_R11_a\" stroke=\"#191928\" stroke-width=\"1.81405\" x1=\"78.294922\" x2=\"47.794918\" y1=\"171.98938\" y2=\"171.98938\" style=\"stroke:#380000\" />\n",
       "  <line id=\"l_R3_R11_b\" stroke=\"#191928\" stroke-width=\"1.81405\" x1=\"85.316185\" x2=\"47.794918\" y1=\"174.98938\" y2=\"174.98938\" style=\"stroke:#380000\" />\n",
       "  <line id=\"l_R3_R11_c\" stroke=\"#191928\" stroke-width=\"1.81405\" x1=\"78.294922\" x2=\"47.794918\" y1=\"177.98938\" y2=\"177.98938\" style=\"stroke:#380000\" />\n",
       "  <line id=\"l_R3_R11_n\" stroke=\"#191928\" stroke-width=\"1.81405\" x1=\"78.294922\" x2=\"47.794918\" y1=\"180.98938\" y2=\"180.98938\" style=\"stroke:#000000\" />\n",
       "  <line id=\"l_R4_R12_b\" stroke=\"#191928\" stroke-width=\"2\" x1=\"80.794922\" x2=\"133.29492\" y1=\"227.48938\" y2=\"227.48938\" style=\"stroke:#cc0000\" />\n",
       "  <line id=\"l_R4_R12_c\" stroke=\"#191928\" stroke-width=\"2\" x1=\"80.794922\" x2=\"133.29492\" y1=\"230.48938\" y2=\"230.48938\" style=\"stroke:#ca0000\" />\n",
       "  <g id=\"g5916\" transform=\"translate(-69.205078,-8.010626)\">\n",
       "    <line id=\"l_R4_R12_a\" stroke=\"#191928\" stroke-width=\"2\" x1=\"150\" x2=\"202.5\" y1=\"232.5\" y2=\"232.5\" style=\"stroke:#cd0000\" />\n",
       "    <line id=\"l_R4_R12_n\" stroke=\"#191928\" stroke-width=\"2\" x1=\"150\" x2=\"202.5\" y1=\"241.5\" y2=\"241.5\" style=\"stroke:#000000\" />\n",
       "  </g>\n",
       "  <line id=\"l_R12_R13_a\" stroke=\"#191928\" stroke-width=\"2\" x1=\"133.29492\" x2=\"185.79492\" y1=\"224.48938\" y2=\"224.48938\" style=\"stroke:#cd0000\" />\n",
       "  <line id=\"l_R12_R13_b\" stroke=\"#191928\" stroke-width=\"2\" x1=\"133.29492\" x2=\"185.79492\" y1=\"227.48938\" y2=\"227.48938\" style=\"stroke:#cc0000\" />\n",
       "  <line id=\"l_R12_R13_c\" stroke=\"#191928\" stroke-width=\"2\" x1=\"133.29492\" x2=\"185.79492\" y1=\"230.48938\" y2=\"230.48938\" style=\"stroke:#ca0000\" />\n",
       "  <line id=\"l_R12_R13_n\" stroke=\"#191928\" stroke-width=\"2\" x1=\"133.29492\" x2=\"185.79492\" y1=\"233.48938\" y2=\"233.48938\" style=\"stroke:#000000\" />\n",
       "  <line id=\"l_R13_R14_a\" stroke=\"#191928\" stroke-width=\"2\" x1=\"185.79492\" x2=\"238.29492\" y1=\"224.48938\" y2=\"224.48938\" style=\"stroke:#cd0000\" />\n",
       "  <line id=\"l_R13_R14_b\" stroke=\"#191928\" stroke-width=\"2\" x1=\"185.79492\" x2=\"238.29492\" y1=\"227.48938\" y2=\"227.48938\" style=\"stroke:#cc0000\" />\n",
       "  <line id=\"l_R13_R14_c\" stroke=\"#191928\" stroke-width=\"2\" x1=\"185.79492\" x2=\"238.29492\" y1=\"230.48938\" y2=\"230.48938\" style=\"stroke:#ca0000\" />\n",
       "  <line id=\"l_R13_R14_n\" stroke=\"#191928\" stroke-width=\"2\" x1=\"185.79492\" x2=\"238.29492\" y1=\"233.48938\" y2=\"233.48938\" style=\"stroke:#000000\" />\n",
       "  <line id=\"l_R14_R15_b\" stroke=\"#191928\" stroke-width=\"2\" x1=\"241.29492\" x2=\"241.29492\" y1=\"224.48938\" y2=\"276.98938\" style=\"stroke:#cc0000\" />\n",
       "  <line id=\"l_R14_R15_c\" stroke=\"#191928\" stroke-width=\"2\" x1=\"244.29492\" x2=\"244.29492\" y1=\"224.48938\" y2=\"276.98938\" style=\"stroke:#ca0000\" />\n",
       "  <g id=\"g5924\" transform=\"translate(-69.205078,-8.010626)\">\n",
       "    <line id=\"l_R14_R15_a\" stroke=\"#191928\" stroke-width=\"2\" x1=\"307.5\" x2=\"307.5\" y1=\"232.5\" y2=\"285\" style=\"stroke:#cd0000\" />\n",
       "    <line id=\"l_R14_R15_n\" stroke=\"#191928\" stroke-width=\"2\" x1=\"316.5\" x2=\"316.5\" y1=\"232.5\" y2=\"285\" style=\"stroke:#000000\" />\n",
       "  </g>\n",
       "  <line id=\"l_R6_R16_b\" stroke=\"#191928\" stroke-width=\"1.74574\" x1=\"80.794922\" x2=\"40.794922\" y1=\"332.48938\" y2=\"332.48938\" style=\"stroke:#d20000\" />\n",
       "  <line id=\"l_R6_R16_c\" stroke=\"#191928\" stroke-width=\"1.74574\" x1=\"80.794922\" x2=\"40.794922\" y1=\"335.48938\" y2=\"335.48938\" style=\"stroke:#d10000\" />\n",
       "  <g id=\"g5932\" transform=\"translate(-69.205078,-8.010626)\">\n",
       "    <line id=\"l_R6_R16_a\" stroke=\"#191928\" stroke-width=\"1.74574\" x1=\"150\" x2=\"110\" y1=\"337.5\" y2=\"337.5\" style=\"stroke:#d30000\" />\n",
       "    <line id=\"l_R6_R16_n\" stroke=\"#191928\" stroke-width=\"1.74574\" x1=\"150\" x2=\"110\" y1=\"346.5\" y2=\"346.5\" style=\"stroke:#000000\" />\n",
       "  </g>\n",
       "  <line id=\"l_R9_R17_a\" stroke=\"#191928\" stroke-width=\"2.35885\" x1=\"80.794922\" x2=\"143.39169\" y1=\"486.98938\" y2=\"486.98938\" style=\"stroke:#870000\" />\n",
       "  <line id=\"l_R9_R17_b\" stroke=\"#191928\" stroke-width=\"2.35273\" x1=\"80.794922\" x2=\"143.06747\" y1=\"489.98938\" y2=\"489.98938\" style=\"stroke:#860000\" />\n",
       "  <line id=\"l_R9_R17_c\" stroke=\"#191928\" stroke-width=\"2.35273\" x1=\"80.794922\" x2=\"143.06747\" y1=\"492.98938\" y2=\"492.98938\" style=\"stroke:#850000\" />\n",
       "  <line id=\"l_R9_R17_n\" stroke=\"#191928\" stroke-width=\"2.35885\" x1=\"80.794922\" x2=\"143.39169\" y1=\"495.98938\" y2=\"495.98938\" style=\"stroke:#000000\" />\n",
       "  <line id=\"l_R10_R18_b\" stroke=\"#191928\" stroke-width=\"2\" x1=\"80.794922\" x2=\"35.794922\" y1=\"542.48938\" y2=\"542.48938\" style=\"stroke:#b50000\" />\n",
       "  <line id=\"l_R10_R18_c\" stroke=\"#191928\" stroke-width=\"2\" x1=\"80.794922\" x2=\"35.794922\" y1=\"545.48938\" y2=\"545.48938\" style=\"stroke:#b30000\" />\n",
       "  <g id=\"g5940\" transform=\"translate(-69.205078,-8.010626)\">\n",
       "    <line id=\"l_R10_R18_a\" stroke=\"#191928\" stroke-width=\"2\" x1=\"150\" x2=\"105\" y1=\"547.5\" y2=\"547.5\" style=\"stroke:#b60000\" />\n",
       "    <line id=\"l_R10_R18_n\" stroke=\"#191928\" stroke-width=\"2\" x1=\"150\" x2=\"105\" y1=\"556.5\" y2=\"556.5\" style=\"stroke:#000000\" />\n",
       "  </g>\n",
       "  <line id=\"l_D1_D3_b\" stroke=\"rgb(10%,10%,16%)\" stroke-width=\"2\" x1=\"109.29492\" x2=\"109.29492\" y1=\"66.989372\" y2=\"149.48938\" style=\"stroke:none;stroke-width:2\" />\n",
       "  <line id=\"l_D1_D3_c\" stroke=\"rgb(10%,10%,16%)\" stroke-width=\"2\" x1=\"112.29492\" x2=\"112.29492\" y1=\"66.989372\" y2=\"149.48938\" style=\"stroke:none;stroke-width:2\" />\n",
       "  <g id=\"g5912\" transform=\"translate(-69.205078,-8.010626)\">\n",
       "    <line id=\"l_D1_D3_a\" stroke=\"#191928\" stroke-width=\"2\" x1=\"175.5\" x2=\"175.5\" y1=\"75\" y2=\"157.5\" style=\"stroke:#ff0000\" />\n",
       "    <line id=\"l_D1_D3_n\" stroke=\"#191928\" stroke-width=\"2\" x1=\"184.5\" x2=\"184.5\" y1=\"75\" y2=\"157.5\" style=\"stroke:#ff0000\" />\n",
       "  </g>\n",
       "  <line id=\"l_D3_D4_a\" stroke=\"#191928\" stroke-width=\"2\" x1=\"106.29492\" x2=\"106.29492\" y1=\"149.48938\" y2=\"201.98938\" style=\"stroke:#ff0000\" />\n",
       "  <line id=\"l_D3_D4_b\" stroke=\"rgb(10%,10%,16%)\" stroke-width=\"2\" x1=\"109.29492\" x2=\"109.29492\" y1=\"149.48938\" y2=\"201.98938\" style=\"stroke:none;stroke-width:2\" />\n",
       "  <line id=\"l_D3_D4_n\" stroke=\"#191928\" stroke-width=\"2\" x1=\"115.29492\" x2=\"115.29492\" y1=\"149.48938\" y2=\"201.98938\" style=\"stroke:#ff0000\" />\n",
       "  <line id=\"l_D4_D6_a\" stroke=\"#191928\" stroke-width=\"2\" x1=\"106.29492\" x2=\"106.29492\" y1=\"201.98938\" y2=\"351.98938\" style=\"stroke:#ff0000\" />\n",
       "  <line id=\"l_D4_D6_b\" stroke=\"rgb(10%,10%,16%)\" stroke-width=\"2\" x1=\"109.29492\" x2=\"109.29492\" y1=\"201.98938\" y2=\"351.98938\" style=\"stroke:none;stroke-width:2\" />\n",
       "  <line id=\"l_D4_D6_c\" stroke=\"rgb(10%,10%,16%)\" stroke-width=\"2\" x1=\"112.29492\" x2=\"112.29492\" y1=\"201.98938\" y2=\"351.98938\" style=\"stroke:none;stroke-width:2\" />\n",
       "  <line id=\"l_D4_D6_n\" stroke=\"#191928\" stroke-width=\"2\" x1=\"115.29492\" x2=\"115.29492\" y1=\"201.98938\" y2=\"351.98938\" style=\"stroke:#ff0000\" />\n",
       "  <line id=\"l_D6_D9_a\" stroke=\"#191928\" stroke-width=\"2\" x1=\"106.29492\" x2=\"106.29492\" y1=\"351.98938\" y2=\"464.48938\" style=\"stroke:#ff0000\" />\n",
       "  <line id=\"l_D6_D9_b\" stroke=\"rgb(10%,10%,16%)\" stroke-width=\"2\" x1=\"109.29492\" x2=\"109.29492\" y1=\"351.98938\" y2=\"464.48938\" style=\"stroke:none;stroke-width:2\" />\n",
       "  <line id=\"l_D6_D9_n\" stroke=\"#191928\" stroke-width=\"2\" x1=\"115.29492\" x2=\"115.29492\" y1=\"351.98938\" y2=\"464.48938\" style=\"stroke:#ff0000\" />\n",
       "  <line id=\"l_D9_D10_a\" stroke=\"#191928\" stroke-width=\"2\" x1=\"106.29492\" x2=\"106.29492\" y1=\"464.48938\" y2=\"561.98938\" style=\"stroke:#820000\" />\n",
       "  <line id=\"l_D9_D10_b\" stroke=\"rgb(10%,10%,16%)\" stroke-width=\"2\" x1=\"109.29492\" x2=\"109.29492\" y1=\"464.48938\" y2=\"561.98938\" style=\"stroke:none;stroke-width:2\" />\n",
       "  <line id=\"l_D9_D10_c\" stroke=\"rgb(10%,10%,16%)\" stroke-width=\"2\" x1=\"112.29492\" x2=\"112.29492\" y1=\"464.48938\" y2=\"561.98938\" style=\"stroke:none;stroke-width:2\" />\n",
       "  <line id=\"l_D9_D10_n\" stroke=\"#191928\" stroke-width=\"2\" x1=\"115.29492\" x2=\"115.29492\" y1=\"464.48938\" y2=\"561.98938\" style=\"stroke:#820000\" />\n",
       "  <line id=\"l_D3_D11_a\" stroke=\"#191928\" stroke-width=\"1.81405\" x1=\"103.79492\" x2=\"47.794922\" y1=\"149.48938\" y2=\"149.48938\" style=\"stroke:#b20000\" />\n",
       "  <line id=\"l_D3_D11_b\" stroke=\"rgb(10%,10%,16%)\" stroke-width=\"2\" x1=\"106.29492\" x2=\"35.794922\" y1=\"152.48938\" y2=\"152.48938\" style=\"stroke:none;stroke-width:2\" />\n",
       "  <line id=\"l_D3_D11_c\" stroke=\"rgb(10%,10%,16%)\" stroke-width=\"2\" x1=\"106.29492\" x2=\"35.794922\" y1=\"155.48938\" y2=\"155.48938\" style=\"stroke:none;stroke-width:2\" />\n",
       "  <line id=\"l_D3_D11_n\" stroke=\"#191928\" stroke-width=\"1.81405\" x1=\"103.79492\" x2=\"47.794922\" y1=\"158.48938\" y2=\"158.48938\" style=\"stroke:#b20000\" />\n",
       "  <line id=\"l_D6_D16_b\" stroke=\"#191928\" stroke-width=\"1.83275\" x1=\"106.29492\" x2=\"40.794922\" y1=\"354.98938\" y2=\"354.98938\" style=\"stroke:none;stroke-width:2\" />\n",
       "  <line id=\"l_D6_D16_c\" stroke=\"#191928\" stroke-width=\"1.83275\" x1=\"106.29492\" x2=\"40.794922\" y1=\"357.98938\" y2=\"357.98938\" style=\"stroke:none;stroke-width:2\" />\n",
       "  <g id=\"g5936\" transform=\"translate(-69.205078,-8.010626)\">\n",
       "    <line id=\"l_D6_D16_a\" stroke=\"#191928\" stroke-width=\"1.83275\" x1=\"175.5\" x2=\"110\" y1=\"360\" y2=\"360\" style=\"stroke:#ac0000\" />\n",
       "    <line id=\"l_D6_D16_n\" stroke=\"#191928\" stroke-width=\"1.83275\" x1=\"175.5\" x2=\"110\" y1=\"369\" y2=\"369\" style=\"stroke:#ac0000\" />\n",
       "  </g>\n",
       "  <line id=\"l_D9_D17_a\" stroke=\"#191928\" stroke-width=\"2.79808\" x1=\"117.79492\" x2=\"141.79492\" y1=\"464.48938\" y2=\"464.48938\" style=\"stroke:#a90000\" />\n",
       "  <line id=\"l_D9_D17_b\" stroke=\"#191928\" stroke-width=\"2.28184\" x1=\"106.29492\" x2=\"143.55746\" y1=\"467.48938\" y2=\"467.48938\" style=\"stroke:none;stroke-width:2\" />\n",
       "  <line id=\"l_D9_D17_c\" stroke=\"#191928\" stroke-width=\"2.79393\" x1=\"106.29492\" x2=\"144.3494\" y1=\"470.48938\" y2=\"470.48938\" style=\"stroke:none;stroke-width:2\" />\n",
       "  <line id=\"l_D9_D17_n\" stroke=\"#191928\" stroke-width=\"2.83925\" x1=\"117.79492\" x2=\"141.79492\" y1=\"473.48938\" y2=\"473.48938\" style=\"stroke:#a90000\" />\n",
       "  <line id=\"l_D10_D18_b\" stroke=\"rgb(10%,10%,16%)\" stroke-width=\"2\" x1=\"106.29492\" x2=\"35.794922\" y1=\"564.98938\" y2=\"564.98938\" style=\"stroke:none;stroke-width:2\" />\n",
       "  <line id=\"l_D10_D18_c\" stroke=\"rgb(10%,10%,16%)\" stroke-width=\"2\" x1=\"106.29492\" x2=\"35.794922\" y1=\"567.98938\" y2=\"567.98938\" style=\"stroke:none;stroke-width:2\" />\n",
       "  <g id=\"g5944\" transform=\"translate(-69.205078,-8.010626)\">\n",
       "    <line id=\"l_D10_D18_a\" stroke=\"#191928\" stroke-width=\"2\" x1=\"175.5\" x2=\"105\" y1=\"570\" y2=\"570\" style=\"stroke:#a90000\" />\n",
       "    <line id=\"l_D10_D18_n\" stroke=\"#191928\" stroke-width=\"2\" x1=\"175.5\" x2=\"105\" y1=\"579\" y2=\"579\" style=\"stroke:#a90000\" />\n",
       "  </g>\n",
       "  <line id=\"l_D4_D14_b\" stroke=\"rgb(10%,10%,16%)\" stroke-width=\"2\" x1=\"106.29492\" x2=\"263.79492\" y1=\"204.98938\" y2=\"204.98938\" style=\"stroke:none;stroke-width:2\" />\n",
       "  <line id=\"l_D4_D14_c\" stroke=\"rgb(10%,10%,16%)\" stroke-width=\"2\" x1=\"106.29492\" x2=\"263.79492\" y1=\"207.98938\" y2=\"207.98938\" style=\"stroke:none;stroke-width:2\" />\n",
       "  <g id=\"g5920\" transform=\"translate(-69.205078,-8.010626)\">\n",
       "    <line id=\"l_D4_D14_a\" stroke=\"#191928\" stroke-width=\"2\" x1=\"175.5\" x2=\"333\" y1=\"210\" y2=\"210\" style=\"stroke:#ad0000\" />\n",
       "    <line id=\"l_D4_D14_n\" stroke=\"#191928\" stroke-width=\"2\" x1=\"175.5\" x2=\"333\" y1=\"219\" y2=\"219\" style=\"stroke:#ad0000\" />\n",
       "  </g>\n",
       "  <line id=\"l_D14_D15_b\" stroke=\"#191928\" stroke-width=\"1.82574\" x1=\"266.79492\" x2=\"266.79492\" y1=\"214.48938\" y2=\"276.98938\" style=\"stroke:none;stroke-width:2\" />\n",
       "  <line id=\"l_D14_D15_c\" stroke=\"#191928\" stroke-width=\"1.82574\" x1=\"269.79492\" x2=\"269.79492\" y1=\"214.48938\" y2=\"276.98938\" style=\"stroke:none;stroke-width:2\" />\n",
       "  <g id=\"g5928\" transform=\"translate(-69.205078,-8.010626)\">\n",
       "    <line id=\"l_D14_D15_a\" stroke=\"#191928\" stroke-width=\"1.82574\" x1=\"333\" x2=\"333\" y1=\"219\" y2=\"285\" style=\"stroke:#ad0000\" />\n",
       "    <line id=\"l_D14_D15_n\" stroke=\"#191928\" stroke-width=\"1.82574\" x1=\"342\" x2=\"342\" y1=\"219.26646\" y2=\"285\" style=\"stroke:#ad0000\" />\n",
       "  </g>\n",
       "  <line stroke=\"#191928\" x1=\"80.794922\" x2=\"80.794922\" y1=\"55.753639\" y2=\"66.989372\" id=\"line178\" style=\"stroke:#000000;stroke-width:2\" />\n",
       "  <line stroke=\"#191928\" x1=\"83.794922\" x2=\"83.794922\" y1=\"57.263863\" y2=\"66.989372\" id=\"line178-9\" style=\"stroke:#000000;stroke-width:2\" />\n",
       "  <line stroke=\"#191928\" x1=\"86.794922\" x2=\"86.794922\" y1=\"57.263863\" y2=\"66.989372\" id=\"line178-9-9\" style=\"stroke:#000000;stroke-width:2\" />\n",
       "  <line stroke=\"#191928\" x1=\"89.794922\" x2=\"89.794922\" y1=\"55.753647\" y2=\"66.989372\" id=\"line178-9-3\" style=\"stroke:#000000;stroke-width:2\" />\n",
       "  <rect height=\"14\" id=\"R8\" width=\"14\" x=\"78.294922\" y=\"432.48938\" style=\"stroke-width:1\" />\n",
       "  <rect height=\"14\" id=\"R7\" width=\"14\" x=\"78.294922\" y=\"379.98938\" style=\"stroke-width:1\" />\n",
       "  <rect height=\"14\" id=\"D18\" width=\"14\" x=\"33.794922\" y=\"559.48938\" style=\"fill:#000000;stroke-width:1\" />\n",
       "  <rect height=\"14\" id=\"R1\" width=\"14\" x=\"78.294922\" y=\"64.956039\" style=\"stroke-width:1\" />\n",
       "  <rect height=\"14\" id=\"D1\" width=\"14\" x=\"103.79492\" y=\"64.989372\" style=\"stroke-width:1\" />\n",
       "  <rect height=\"14\" id=\"R2\" width=\"14\" x=\"78.294922\" y=\"117.48937\" style=\"stroke-width:1\" />\n",
       "  <line id=\"l_D3_D4_c\" stroke=\"rgb(10%,10%,16%)\" stroke-width=\"2\" x1=\"112.29492\" x2=\"112.29492\" y1=\"149.48938\" y2=\"201.98938\" style=\"stroke:none;stroke-width:2\" />\n",
       "  <rect height=\"14\" id=\"D3\" width=\"14\" x=\"103.79492\" y=\"147.48938\" style=\"stroke-width:1\" />\n",
       "  <rect height=\"14\" id=\"R11\" width=\"14\" x=\"33.794922\" y=\"169.98938\" style=\"stroke-width:1\" />\n",
       "  <rect height=\"14\" id=\"D11\" width=\"14\" x=\"33.794922\" y=\"147.48938\" style=\"stroke-width:1\" />\n",
       "  <rect height=\"14\" id=\"R3\" width=\"14\" x=\"78.294922\" y=\"169.98938\" style=\"stroke-width:1\" />\n",
       "  <rect height=\"14\" id=\"R4\" width=\"14\" x=\"78.294922\" y=\"221.98938\" style=\"stroke-width:1\" />\n",
       "  <rect height=\"14\" id=\"R12\" width=\"14\" x=\"131.29492\" y=\"221.98938\" style=\"stroke-width:1\" />\n",
       "  <rect height=\"14\" id=\"D4\" width=\"14\" x=\"103.79492\" y=\"199.48938\" style=\"stroke-width:1\" />\n",
       "  <rect height=\"14\" id=\"R5\" width=\"14\" x=\"78.294922\" y=\"274.98938\" style=\"stroke-width:1\" />\n",
       "  <rect height=\"14\" id=\"R6\" width=\"14\" x=\"78.294922\" y=\"326.98938\" style=\"stroke-width:1\" />\n",
       "  <rect height=\"14\" id=\"R16\" width=\"14\" x=\"33.794922\" y=\"326.98938\" style=\"stroke-width:1\" />\n",
       "  <rect height=\"14\" id=\"D16\" width=\"14\" x=\"33.794922\" y=\"349.48938\" style=\"stroke-width:1\" />\n",
       "  <line id=\"l_D6_D9_c\" stroke=\"rgb(10%,10%,16%)\" stroke-width=\"2\" x1=\"110.79492\" x2=\"110.79492\" y1=\"351.98938\" y2=\"464.48938\" style=\"stroke:none;stroke-width:2\" />\n",
       "  <rect height=\"14\" id=\"R9\" width=\"14\" x=\"78.294922\" y=\"484.98938\" style=\"stroke-width:1\" />\n",
       "  <rect height=\"14\" id=\"D9\" width=\"14\" x=\"103.79492\" y=\"462.48938\" style=\"stroke-width:1\" />\n",
       "  <rect height=\"14\" id=\"R10\" width=\"14\" x=\"78.294922\" y=\"536.98938\" style=\"stroke-width:1\" />\n",
       "  <rect height=\"14\" id=\"R18\" width=\"14\" x=\"33.794922\" y=\"536.98938\" style=\"stroke-width:1\" />\n",
       "  <rect height=\"14\" id=\"D10\" width=\"14\" x=\"103.79492\" y=\"559.48938\" style=\"stroke-width:1\" />\n",
       "  <rect height=\"14\" id=\"R13\" width=\"14\" x=\"183.79492\" y=\"221.98938\" style=\"stroke-width:1\" />\n",
       "  <rect height=\"14\" id=\"R14\" width=\"14\" x=\"235.79492\" y=\"221.98938\" style=\"stroke-width:1\" />\n",
       "  <rect height=\"14\" id=\"R15\" width=\"14\" x=\"235.79492\" y=\"274.98938\" style=\"stroke-width:1\" />\n",
       "  <rect height=\"14\" id=\"D14\" width=\"14\" x=\"261.29492\" y=\"199.48938\" style=\"stroke-width:1\" />\n",
       "  <rect height=\"14\" id=\"D15\" width=\"14\" x=\"261.29492\" y=\"274.98938\" style=\"stroke-width:1\" />\n",
       "  <rect height=\"14\" id=\"D6\" width=\"14\" x=\"104.29492\" y=\"349.48938\" style=\"stroke-width:1\" />\n",
       "  <circle style=\"font-variation-settings:normal;opacity:1;vector-effect:none;fill:none;fill-opacity:1;stroke:#000000;stroke-width:2;stroke-linecap:butt;stroke-linejoin:miter;stroke-miterlimit:4;stroke-dasharray:none;stroke-dashoffset:0;stroke-opacity:1;-inkscape-stroke:none;stop-color:#000000;stop-opacity:1\" id=\"path6184\" cx=\"85.294922\" cy=\"50.549377\" r=\"6.8800001\" />\n",
       "  <circle style=\"font-variation-settings:normal;vector-effect:none;fill:none;fill-opacity:1;stroke:#000000;stroke-width:2;stroke-linecap:butt;stroke-linejoin:miter;stroke-miterlimit:4;stroke-dasharray:none;stroke-dashoffset:0;stroke-opacity:1;-inkscape-stroke:none;stop-color:#000000\" id=\"path6184-7\" cx=\"85.294922\" cy=\"42.731071\" r=\"6.8800001\" />\n",
       "  <g id=\"g6550\" transform=\"translate(-80.065079,-8.010626)\">\n",
       "    <line stroke=\"#191928\" x1=\"162.36\" x2=\"162.36\" y1=\"36.532356\" y2=\"44.55022\" id=\"line178-2\" style=\"stroke:#000000;stroke-width:2\" />\n",
       "    <line stroke=\"#191928\" x1=\"165.36\" x2=\"165.36\" y1=\"36.532356\" y2=\"43.861698\" id=\"line178-9-7\" style=\"stroke:#000000;stroke-width:2\" />\n",
       "    <line stroke=\"#191928\" x1=\"168.36\" x2=\"168.36\" y1=\"36.532356\" y2=\"44.55022\" id=\"line178-9-9-8\" style=\"stroke:#000000;stroke-width:2\" />\n",
       "  </g>\n",
       "  <rect height=\"14\" id=\"R17\" width=\"14\" x=\"141.79492\" y=\"484.98938\" style=\"stroke-width:1\" />\n",
       "  <rect height=\"14\" id=\"D17\" width=\"14\" x=\"141.79492\" y=\"462.48938\" style=\"stroke-width:1\" />\n",
       "</svg>"
      ],
      "text/plain": [
       "<IPython.core.display.HTML object>"
      ]
     },
     "execution_count": 39,
     "metadata": {},
     "output_type": "execute_result"
    }
   ],
   "source": [
    "svg_1 = svg('cigre.svg')\n",
    "\n",
    "\n",
    "for line in lines:\n",
    "    #if not 'monitor'in line or not 'vsc_line' in line: continue\n",
    "    if 'monitor' in line:\n",
    "        if not line['monitor']: continue\n",
    "    if 'vsc_line' in line:\n",
    "        if not line['vsc_line']: continue\n",
    "    bus_j = line['bus_j']\n",
    "    bus_k = line['bus_k']\n",
    "\n",
    "    for ph in ['a','b','c','n']:\n",
    "\n",
    "        I_max = data[\"line_codes\"][line['code']]['I_max']\n",
    "        i_r = grid_c0.get_value(f'i_l_{bus_j}_{bus_k}_{ph}_r') \n",
    "        i_i = grid_c0.get_value(f'i_l_{bus_j}_{bus_k}_{ph}_i') \n",
    "        i = i_r + 1j*i_i\n",
    "        i_abs = np.abs(i)\n",
    "        #print(f'l_{bus_j}_{bus_k}_{ph} = {i_abs:8.1f} A')\n",
    "        if i_abs < 1e-3: continue\n",
    "        i_sat = np.clip(i_abs/I_max*255,0,255)\n",
    "        svg_1.set_color('line',f'l_{bus_j}_{bus_k}_{ph}',(int(i_sat),0,0))\n",
    "        \n",
    "        \n",
    "#svg_1.set_color('rect','R1',(255,9,0))\n",
    "svg_1.save('test_cigre.svg')\n",
    "HTML('test_cigre.svg')"
   ]
  },
  {
   "cell_type": "code",
   "execution_count": 137,
   "metadata": {},
   "outputs": [
    {
     "data": {
      "text/plain": [
       "<matplotlib.lines.Line2D at 0x272285cf0a0>"
      ]
     },
     "execution_count": 137,
     "metadata": {},
     "output_type": "execute_result"
    },
    {
     "data": {
      "image/png": "[encoded data removed]",
      "text/plain": [
       "<Figure size 432x288 with 1 Axes>"
      ]
     },
     "metadata": {
      "needs_background": "light"
     },
     "output_type": "display_data"
    }
   ],
   "source": [
    "import matplotlib.pyplot as plt\n",
    "import numpy as np\n",
    "\n",
    "A = np.abs(grid_c0.P_slu.solve(np.eye(346)))\n",
    "fig, axs = plt.subplots(1)\n",
    "axs.spy(A, precision=1e-12, markersize=0.05)\n"
   ]
  },
  {
   "cell_type": "code",
   "execution_count": 53,
   "metadata": {},
   "outputs": [
    {
     "name": "stdout",
     "output_type": "stream",
     "text": [
      "0.0359039306640625\n"
     ]
    }
   ],
   "source": [
    "grid_c0f = cigre_europe_residential_4w2w_dbf_class()\n",
    "t_0 = time.time()\n",
    "grid_c0f.ini({},'xy_0_dict.json')\n",
    "print(time.time()-t_0)"
   ]
  },
  {
   "cell_type": "code",
   "execution_count": 151,
   "metadata": {},
   "outputs": [
    {
     "data": {
      "text/plain": [
       "200.0"
      ]
     },
     "execution_count": 151,
     "metadata": {},
     "output_type": "execute_result"
    }
   ],
   "source": []
  },
  {
   "cell_type": "code",
   "execution_count": 95,
   "metadata": {},
   "outputs": [],
   "source": [
    "grid_c0f.ini({},'xy_0_dict.json')\n",
    "\n",
    "grid_c0f.fill_factor_ini=10\n",
    "grid_c0f.drop_tol_ini=0.001\n",
    "grid_c0f.drop_rule_ini='interp'  # basic, prows, column, area, secondary, dynamic, interp. \n",
    "\n",
    "\n",
    "grid_c0f.lmax_it_ini=20\n",
    "grid_c0f.ltol_ini=1e-6\n",
    "grid_c0f.ldamp_ini=1\n",
    "\n",
    "grid_c0f.eval_preconditioner_ini()\n",
    "\n",
    "\n"
   ]
  },
  {
   "cell_type": "code",
   "execution_count": 96,
   "metadata": {},
   "outputs": [
    {
     "name": "stdout",
     "output_type": "stream",
     "text": [
      "0.01595759391784668\n"
     ]
    }
   ],
   "source": [
    "#%%timeit\n",
    "t_0 = time.time()\n",
    "p_R10 = np.random.rand()*10e3\n",
    "grid_c0f.spini({'p_R10':p_R10},'xy_0_dict.json')\n",
    "print(time.time()-t_0)\n",
    "#print(grid_c0f.get_value('v_R10_a_r'))"
   ]
  },
  {
   "cell_type": "code",
   "execution_count": 88,
   "metadata": {},
   "outputs": [
    {
     "name": "stdout",
     "output_type": "stream",
     "text": [
      "0.05385541915893555\n"
     ]
    }
   ],
   "source": [
    "t_0 = time.time()\n",
    "grid_c0f.ini({},'xy_0_dict.json')\n",
    "print(time.time()-t_0)"
   ]
  },
  {
   "cell_type": "code",
   "execution_count": 66,
   "metadata": {},
   "outputs": [],
   "source": [
    "grid_c0f.mode = 0"
   ]
  },
  {
   "cell_type": "code",
   "execution_count": 21,
   "metadata": {},
   "outputs": [
    {
     "name": "stdout",
     "output_type": "stream",
     "text": [
      "44.6 ms ± 7.64 ms per loop (mean ± std. dev. of 7 runs, 10 loops each)\n"
     ]
    }
   ],
   "source": [
    "%%timeit \n",
    "p_R10 = np.random.rand()*10e3\n",
    "grid_c0f.ini({'p_R10':p_R10},'xy_0_dict.json')"
   ]
  },
  {
   "cell_type": "code",
   "execution_count": 48,
   "metadata": {},
   "outputs": [
    {
     "data": {
      "text/plain": [
       "(346, 346)"
      ]
     },
     "execution_count": 48,
     "metadata": {},
     "output_type": "execute_result"
    }
   ],
   "source": [
    "grid_c0.P_slu.shape"
   ]
  },
  {
   "cell_type": "code",
   "execution_count": 69,
   "metadata": {},
   "outputs": [
    {
     "data": {
      "text/plain": [
       "<matplotlib.lines.Line2D at 0x1d99735fa30>"
      ]
     },
     "execution_count": 69,
     "metadata": {},
     "output_type": "execute_result"
    },
    {
     "data": {
      "image/png": "[encoded data removed]",
      "text/plain": [
       "<Figure size 432x288 with 1 Axes>"
      ]
     },
     "metadata": {
      "needs_background": "light"
     },
     "output_type": "display_data"
    }
   ],
   "source": [
    "A = grid_c0f.jac_ini\n",
    "fig, axs = plt.subplots(1)\n",
    "axs.spy(A, precision=1e-8, markersize=0.05)\n"
   ]
  },
  {
   "cell_type": "code",
   "execution_count": 70,
   "metadata": {},
   "outputs": [
    {
     "data": {
      "text/plain": [
       "188356"
      ]
     },
     "execution_count": 70,
     "metadata": {},
     "output_type": "execute_result"
    }
   ],
   "source": [
    "434*434"
   ]
  },
  {
   "cell_type": "code",
   "execution_count": null,
   "metadata": {},
   "outputs": [],
   "source": [
    "import matplotlib.pyplot as plt\n",
    "import numpy as np\n",
    "\n",
    "\n",
    "# Fixing random state for reproducibility\n",
    "np.random.seed(19680801)\n",
    "\n",
    "fig, axs = plt.subplots(2, 2)\n",
    "ax1 = axs[0, 0]\n",
    "ax2 = axs[0, 1]\n",
    "ax3 = axs[1, 0]\n",
    "ax4 = axs[1, 1]\n",
    "\n",
    "x = np.random.randn(20, 20)\n",
    "x[5, :] = 0.\n",
    "x[:, 12] = 0.\n",
    "\n",
    "ax1.spy(x, markersize=5)\n",
    "ax2.spy(x, precision=0.1, markersize=5)\n",
    "\n",
    "ax3.spy(x)\n",
    "ax4.spy(x, precision=0.1)\n",
    "\n",
    "plt.show()"
   ]
  },
  {
   "cell_type": "code",
   "execution_count": null,
   "metadata": {},
   "outputs": [],
   "source": [
    "plt.imshow(A[0:10,0:10], cmap='hot')\n",
    "plt.show()"
   ]
  },
  {
   "cell_type": "code",
   "execution_count": null,
   "metadata": {},
   "outputs": [],
   "source": [
    "A = grid_c0f.P_slu.solve(np.eye(434))\n",
    "plt.imshow(np.abs(A), cmap='hot')\n",
    "plt.show()"
   ]
  },
  {
   "cell_type": "code",
   "execution_count": null,
   "metadata": {},
   "outputs": [],
   "source": [
    "self = grid_c0f\n",
    "self.sp_jac_ini.data[self.sp_jac_ini.data==0]"
   ]
  },
  {
   "cell_type": "code",
   "execution_count": 7,
   "metadata": {},
   "outputs": [],
   "source": [
    "p_R1 = 200e3\n",
    "for ph in ['a','b','c']:\n",
    "    grid_c0.set_value(f'p_R1_{ph}', -p_R1/3)\n",
    "grid_c0.ss()\n",
    "\n",
    "v_R18_a_r = grid_c0.get_value('v_R18_a_r')\n",
    "v_R18_a_i = grid_c0.get_value('v_R18_a_i')\n",
    "v_R18_a = v_R18_a_r + 1j*v_R18_a_i"
   ]
  },
  {
   "cell_type": "code",
   "execution_count": null,
   "metadata": {},
   "outputs": [],
   "source": []
  },
  {
   "cell_type": "code",
   "execution_count": 138,
   "metadata": {},
   "outputs": [],
   "source": [
    "def get_bus_powers(gt_grid,bus_name):\n",
    "    idx = gt_grid.bus_data['bus_id'].index(bus_name)\n",
    "    p_a,q_a = gt_grid.buses[idx]['p_a'],gt_grid.buses[idx]['p_a']\n",
    "    p_b,q_b = gt_grid.buses[idx]['p_b'],gt_grid.buses[idx]['q_b']\n",
    "    p_c,q_c = gt_grid.buses[idx]['p_c'],gt_grid.buses[idx]['q_c']\n",
    "    p = p_a + p_b + p_c\n",
    "    q = q_a + q_b + q_c\n",
    "    return p,q\n",
    "\n",
    "def vsc2params(vsc_losses,name,multiplier=1):\n",
    "    i_rms  = np.array(vsc_losses[name]['i_rms'])\n",
    "    p_loss = np.array(vsc_losses[name]['p_loss']) \n",
    "    c,b,a = np.polyfit(i_rms, p_loss*multiplier,2)\n",
    "    return a,b,c\n",
    "\n",
    "def report(grid, gt_grid):\n",
    "    p_R0,q_R0 = get_bus_powers(gt_grid,'R0')\n",
    "    p_R1,q_R1 = get_bus_powers(gt_grid,'R1')\n",
    "    p_D1,q_D1 = get_bus_powers(gt_grid,'D1')\n",
    "    p_R10,q_R10 = get_bus_powers(gt_grid,'R10')\n",
    "    p_D10,q_D10 = get_bus_powers(gt_grid,'D10')\n",
    "    p_R14,q_R14 = get_bus_powers(gt_grid,'R14')\n",
    "    p_D14,q_D14 = get_bus_powers(gt_grid,'D14')\n",
    "\n",
    "    p_R1_load = (loads_ac[0]['kVA']*np.exp(1j*np.arccos( loads_ac[0]['pf']))*1000).real\n",
    "\n",
    "    p_main_vsc_ac = -(p_R1 - p_R1_load)\n",
    "\n",
    "    p_dc_losses = p_main_vsc_ac - grid.p_dc_loads\n",
    "\n",
    "    p_losses = p_R0 + grid.p_ac_loads + grid.p_dc_loads\n",
    "    grid.p_losses = p_losses\n",
    "    print(f'Grid power = {p_R0/1e3:0.2f} kW')\n",
    "    print(f'AC loads   = {-grid.p_ac_loads/1e3:0.2f} kW')\n",
    "    print(f'DC loads   = {-grid.p_dc_loads/1e3:0.2f} kW')\n",
    "    print(f'Total load = {-(grid.p_ac_loads+grid.p_dc_loads)/1e3:0.2f} kW')\n",
    "    p_loss_R1  = -(p_R1+p_D1-p_R1_load)\n",
    "    p_loss_R10 = -(p_R10+p_D10)\n",
    "    p_loss_R14 = -(p_R14+p_D14)\n",
    "    print(f'VSC Losses: R1 = {p_loss_R1:0.2f} W ({-p_loss_R1/p_R1*100:0.1f}%),  R10 = {p_loss_R10:0.2f} W ({p_loss_R10/p_R10*100:0.1f}%),  R14 = {p_loss_R14:0.2f} W ({p_loss_R14/p_R14*100:0.1f}%)')\n",
    "\n",
    "    idx = [(item['bus_j'],item['bus_k']) for item in gt_grid.lines].index(('R1', 'R2'))\n",
    "    i_j_a_m = gt_grid.lines[idx]['i_j_a_m']\n",
    "    print(f'Current R1-R2 ={i_j_a_m:0.2f} A')\n",
    "    idx = [(item['bus_j'],item['bus_k']) for item in gt_grid.lines].index(('R4', 'R12'))\n",
    "    i_j_a_m = gt_grid.lines[idx]['i_j_a_m']\n",
    "    print(f'Current R4-R12 ={i_j_a_m:0.2f} A')\n",
    "    idx = [(item['bus_j'],item['bus_k']) for item in gt_grid.lines].index(('D1', 'D3'))\n",
    "    i_j_a_m = gt_grid.lines[idx]['i_j_a_m']\n",
    "    print(f'Current D1-D3 ={i_j_a_m:0.2f} A')\n",
    "    idx = [(item['bus_j'],item['bus_k']) for item in gt_grid.lines].index(('D4', 'D14'))\n",
    "    i_j_a_m = gt_grid.lines[idx]['i_j_a_m']\n",
    "    print(f'Current D4-R14 ={i_j_a_m:0.2f} A')\n"
   ]
  },
  {
   "cell_type": "markdown",
   "metadata": {},
   "source": [
    "### VSC models"
   ]
  },
  {
   "cell_type": "code",
   "execution_count": 139,
   "metadata": {},
   "outputs": [],
   "source": [
    "vsc_losses = {\n",
    "    'vsc_3ph3w_200A_100kVA':{'model':'','coolant':'air','v_dc':800,\n",
    "                            'i_rms':[50,100,200],'p_loss':[404.9,871.61,2090.05],'rend':[98.6,98.54,98.26]},\n",
    "    'vsc_3ph3w_250A_200kVA':{'model':'SKiiP1213GB123-2DW V3','coolant':'water','Rth_sa': 0.0114,'v_dc':800,\n",
    "                            'i_rms':[125,250,500],'p_loss':[1210.95,2610.23,6229.22],'rend':[98.38,98.26,97.93]}, \n",
    "    'vsc_1ph2w_120A':{'model':'SKiiP39AC12T7V1_HpTp','coolant':'air','v_dc':800,'pf':0.85,'Rth_sa': 0.0707,\n",
    "                         'i_rms':[20,40,60,80,100,120],\n",
    "                         'p_loss':[96.91,205.54,322.16,455.22,609.84,795.07],\n",
    "                         'rend':[97.59,97.45,97.34,97.18,96.99,96.74]}\n",
    "}\n",
    "\n"
   ]
  },
  {
   "cell_type": "markdown",
   "metadata": {},
   "source": [
    "## Case 0"
   ]
  },
  {
   "cell_type": "code",
   "execution_count": 140,
   "metadata": {},
   "outputs": [],
   "source": [
    "loads_ac =[{\"bus\":  \"R1\", \"kVA\":-200.0, \"pf\": 0.95},\n",
    "           {\"bus\": \"R11\", \"kVA\": -15.0, \"pf\": 0.95},\n",
    "           {\"bus\": \"R15\", \"kVA\": -52.0, \"pf\": 0.95},\n",
    "           {\"bus\": \"R16\", \"kVA\": -55.0, \"pf\": 0.95},\n",
    "           {\"bus\": \"R17\", \"kVA\": -35.0, \"pf\": 0.95},\n",
    "           {\"bus\": \"R18\", \"kVA\": -47.0, \"pf\": 0.95}]\n",
    "\n",
    "loads_dc =[{\"bus\": \"D11\", \"kW\": 0.0},\n",
    "           {\"bus\": \"D15\", \"kW\": 0.0},\n",
    "           {\"bus\": \"D16\", \"kW\": 0.0},\n",
    "           {\"bus\": \"D17\", \"kW\": 0.0},\n",
    "           {\"bus\": \"D18\", \"kW\": 0.0}]\n",
    "\n",
    "vscs =[{\"bus\": \"R1\", \"type\":'vdc',\"kW\":0.0, \"kvar\": 0.0,'losses':vsc2params(vsc_losses,'vsc_3ph3w_200A_100kVA')},\n",
    "       {\"bus\": \"R10\",\"type\":'pq', \"kW\":10.0, \"kvar\": 0.0,'losses':vsc2params(vsc_losses,'vsc_3ph3w_200A_100kVA')},\n",
    "       {\"bus\": \"R14\",\"type\":'pq', \"kW\":10.0, \"kvar\": 0.0,'losses':vsc2params(vsc_losses,'vsc_3ph3w_200A_100kVA')}\n",
    "      ]"
   ]
  },
  {
   "cell_type": "code",
   "execution_count": 141,
   "metadata": {},
   "outputs": [],
   "source": [
    "grid_c0 = cigre_europe_residential_4w2w_class()\n",
    "\n",
    "grid_c0.p_ac_loads = 0.0\n",
    "for load in loads_ac:\n",
    "    bus_name = load['bus']\n",
    "    s = load['kVA']*np.exp(1j*np.arccos( load['pf']))*1000\n",
    "    gt.set_powers(grid_c0,bus_name,s)\n",
    "    grid_c0.p_ac_loads += s.real\n",
    "\n",
    "grid_c0.p_dc_loads = 0.0\n",
    "for load in loads_dc:\n",
    "    bus_name = load['bus']\n",
    "    grid_c0.set_value(f'p_{bus_name}_1',load['kW']*1000.0)\n",
    "    grid_c0.set_value(f'q_{bus_name}_1',0.0)\n",
    "       \n",
    "for vsc in vscs:\n",
    "    bus_name = vsc['bus']\n",
    "    if vsc['bus'] == 'pq':\n",
    "        s = vsc['kW'] + 1j*vsc['kvar']\n",
    "        grid_c0.set_value(f'p_{bus_name}',vsc['kW']*1000.0)\n",
    "        grid_c0.set_value(f'q_{bus_name}',vsc['kvar']*1000.0)\n",
    "    grid_c0.set_value(f'a_{bus_name}',vsc['losses'][0])\n",
    "    grid_c0.set_value(f'b_{bus_name}',vsc['losses'][1])\n",
    "    grid_c0.set_value(f'c_{bus_name}',vsc['losses'][2])\n",
    "    \n",
    "\n",
    "import json \n",
    "\n",
    "def save_params(self,file_name = 'case_0_parameters.json'):\n",
    "    params_dict = {}\n",
    "    for item in self.params_list:\n",
    "        params_dict.update({item:self.get_value(item)})\n",
    "\n",
    "    params_dict_str = json.dumps(params_dict, indent=4)\n",
    "    with open(file_name,'w') as fobj:\n",
    "        fobj.write(params_dict_str)\n",
    "\n",
    "def save_inputs_ini(self,file_name = 'case_0_inputs_ini.json'):\n",
    "    inputs_ini_dict = {}\n",
    "    for item in self.inputs_ini_list:\n",
    "        inputs_ini_dict.update({item:self.get_value(item)})\n",
    "\n",
    "    inputs_ini_dict_str = json.dumps(inputs_ini_dict, indent=4)\n",
    "    with open(file_name,'w') as fobj:\n",
    "        fobj.write(inputs_ini_dict_str)\n",
    "              \n",
    "def load_inputs_ini(self,data_input):\n",
    "\n",
    "    if type(data_input) == str:\n",
    "        json_file = data_input\n",
    "        self.json_file = json_file\n",
    "        self.json_data = open(json_file).read().replace(\"'\",'\"')\n",
    "        data = json.loads(self.json_data)\n",
    "    elif type(data_input) == dict:\n",
    "        data = data_input\n",
    "\n",
    "    for item in data:\n",
    "        self.struct[0][item] = data[item]\n",
    "        self.inputs_ini_values_list[self.inputs_ini_list.index(item)] = data[item]\n",
    "        self.set_value(item,data[item])\n",
    "            \n",
    "            \n",
    "save_params(grid_c0)\n",
    "save_inputs_ini(grid_c0)\n"
   ]
  },
  {
   "cell_type": "code",
   "execution_count": 143,
   "metadata": {},
   "outputs": [
    {
     "ename": "AttributeError",
     "evalue": "'cigre_europe_residential_4w2w_class' object has no attribute 'struct'",
     "output_type": "error",
     "traceback": [
      "\u001b[1;31m---------------------------------------------------------------------------\u001b[0m",
      "\u001b[1;31mAttributeError\u001b[0m                            Traceback (most recent call last)",
      "\u001b[1;32m~\\AppData\\Local\\Temp/ipykernel_20220/3854923024.py\u001b[0m in \u001b[0;36m<module>\u001b[1;34m\u001b[0m\n\u001b[1;32m----> 1\u001b[1;33m \u001b[0mgrid_c0\u001b[0m\u001b[1;33m.\u001b[0m\u001b[0mload_params\u001b[0m\u001b[1;33m(\u001b[0m\u001b[1;34m'case_0_parameters.json'\u001b[0m\u001b[1;33m)\u001b[0m\u001b[1;33m\u001b[0m\u001b[1;33m\u001b[0m\u001b[0m\n\u001b[0m\u001b[0;32m      2\u001b[0m \u001b[0mgrid_c0\u001b[0m\u001b[1;33m.\u001b[0m\u001b[0mload_params\u001b[0m\u001b[1;33m(\u001b[0m\u001b[1;34m'case_0_inputs_ini.json'\u001b[0m\u001b[1;33m)\u001b[0m\u001b[1;33m\u001b[0m\u001b[1;33m\u001b[0m\u001b[0m\n\u001b[0;32m      3\u001b[0m \u001b[0mgrid_c0\u001b[0m\u001b[1;33m.\u001b[0m\u001b[0mini\u001b[0m\u001b[1;33m(\u001b[0m\u001b[1;33m{\u001b[0m\u001b[1;33m}\u001b[0m\u001b[1;33m,\u001b[0m\u001b[1;34m'xy_0_dict.json'\u001b[0m\u001b[1;33m)\u001b[0m\u001b[1;33m\u001b[0m\u001b[1;33m\u001b[0m\u001b[0m\n\u001b[0;32m      4\u001b[0m \u001b[0mgt_grid\u001b[0m \u001b[1;33m=\u001b[0m \u001b[0mgt\u001b[0m\u001b[1;33m.\u001b[0m\u001b[0mgrid\u001b[0m\u001b[1;33m(\u001b[0m\u001b[0mgrid_c0\u001b[0m\u001b[1;33m)\u001b[0m\u001b[1;33m\u001b[0m\u001b[1;33m\u001b[0m\u001b[0m\n",
      "\u001b[1;32m~\\workspace\\pydae\\examples\\grids\\grid_uri\\cigre\\cigre_eur_lv_res_4w2w\\cigre_europe_residential_4w2w.py\u001b[0m in \u001b[0;36mload_params\u001b[1;34m(self, data_input)\u001b[0m\n\u001b[0;32m    432\u001b[0m         \u001b[0mself\u001b[0m\u001b[1;33m.\u001b[0m\u001b[0mdata\u001b[0m \u001b[1;33m=\u001b[0m \u001b[0mdata\u001b[0m\u001b[1;33m\u001b[0m\u001b[1;33m\u001b[0m\u001b[0m\n\u001b[0;32m    433\u001b[0m         \u001b[1;32mfor\u001b[0m \u001b[0mitem\u001b[0m \u001b[1;32min\u001b[0m \u001b[0mself\u001b[0m\u001b[1;33m.\u001b[0m\u001b[0mdata\u001b[0m\u001b[1;33m:\u001b[0m\u001b[1;33m\u001b[0m\u001b[1;33m\u001b[0m\u001b[0m\n\u001b[1;32m--> 434\u001b[1;33m             \u001b[0mself\u001b[0m\u001b[1;33m.\u001b[0m\u001b[0mstruct\u001b[0m\u001b[1;33m[\u001b[0m\u001b[1;36m0\u001b[0m\u001b[1;33m]\u001b[0m\u001b[1;33m[\u001b[0m\u001b[0mitem\u001b[0m\u001b[1;33m]\u001b[0m \u001b[1;33m=\u001b[0m \u001b[0mself\u001b[0m\u001b[1;33m.\u001b[0m\u001b[0mdata\u001b[0m\u001b[1;33m[\u001b[0m\u001b[0mitem\u001b[0m\u001b[1;33m]\u001b[0m\u001b[1;33m\u001b[0m\u001b[1;33m\u001b[0m\u001b[0m\n\u001b[0m\u001b[0;32m    435\u001b[0m             \u001b[1;32mif\u001b[0m \u001b[0mitem\u001b[0m \u001b[1;32min\u001b[0m \u001b[0mself\u001b[0m\u001b[1;33m.\u001b[0m\u001b[0mparams_list\u001b[0m\u001b[1;33m:\u001b[0m\u001b[1;33m\u001b[0m\u001b[1;33m\u001b[0m\u001b[0m\n\u001b[0;32m    436\u001b[0m                 \u001b[0mself\u001b[0m\u001b[1;33m.\u001b[0m\u001b[0mparams_values_list\u001b[0m\u001b[1;33m[\u001b[0m\u001b[0mself\u001b[0m\u001b[1;33m.\u001b[0m\u001b[0mparams_list\u001b[0m\u001b[1;33m.\u001b[0m\u001b[0mindex\u001b[0m\u001b[1;33m(\u001b[0m\u001b[0mitem\u001b[0m\u001b[1;33m)\u001b[0m\u001b[1;33m]\u001b[0m \u001b[1;33m=\u001b[0m \u001b[0mself\u001b[0m\u001b[1;33m.\u001b[0m\u001b[0mdata\u001b[0m\u001b[1;33m[\u001b[0m\u001b[0mitem\u001b[0m\u001b[1;33m]\u001b[0m\u001b[1;33m\u001b[0m\u001b[1;33m\u001b[0m\u001b[0m\n",
      "\u001b[1;31mAttributeError\u001b[0m: 'cigre_europe_residential_4w2w_class' object has no attribute 'struct'"
     ]
    }
   ],
   "source": [
    "grid_c0.load_params('case_0_parameters.json')\n",
    "grid_c0.load_params('case_0_inputs_ini.json')\n",
    "grid_c0.ini({},'xy_0_dict.json')\n",
    "gt_grid = gt.grid(grid_c0)"
   ]
  },
  {
   "cell_type": "code",
   "execution_count": 59,
   "metadata": {},
   "outputs": [
    {
     "data": {
      "text/html": [
       "\n",
       "\n",
       "\n",
       "\n",
       "\n",
       "\n",
       "  <div class=\"bk-root\" id=\"2db6f7d9-7313-4c0f-98e8-e4eaa0abd996\" data-root-id=\"1003\"></div>\n"
      ]
     },
     "metadata": {},
     "output_type": "display_data"
    },
    {
     "data": {
      "application/javascript": [
       "(function(root) {\n",
       "  function embed_document(root) {\n",
       "    \n",
       "  const docs_json = {\"680132eb-3cf2-48da-afb0-b31838a89626\":{\"defs\":[],\"roots\":{\"references\":[{\"attributes\":{\"below\":[{\"id\":\"1014\"}],\"center\":[{\"id\":\"1017\"},{\"id\":\"1021\"}],\"height\":400,\"left\":[{\"id\":\"1018\"}],\"renderers\":[{\"id\":\"1041\"},{\"id\":\"1048\"},{\"id\":\"1055\"}],\"title\":{\"id\":\"1004\"},\"toolbar\":{\"id\":\"1029\"},\"x_range\":{\"id\":\"1006\"},\"x_scale\":{\"id\":\"1010\"},\"y_range\":{\"id\":\"1008\"},\"y_scale\":{\"id\":\"1012\"}},\"id\":\"1003\",\"subtype\":\"Figure\",\"type\":\"Plot\"},{\"attributes\":{\"callback\":null,\"renderers\":[{\"id\":\"1041\"}],\"tooltips\":\"\\n            <div>\\n            transformer id = @trafo_id  \\n            <table border=\\\"5\\\">\\n                <tr >\\n                    <td>I<sub>1a</sub> =  @i_1a_m &ang; @deg_1a </td>\\n                    <td>I<sub>2a</sub> =  @i_2a_m &ang; @deg_2a </td>\\n                </tr>\\n                <tr>\\n                    <td >I<sub>1b</sub> =  @i_1b_m &ang; @deg_1b </td>\\n                    <td >I<sub>2b</sub> =  @i_2b_m &ang; @deg_2b </td>\\n                </tr>\\n                <tr>\\n                    <td >I<sub>1c</sub> =  @i_1c_m &ang; @deg_1c </td>\\n                    <td >I<sub>2c</sub> =  @i_2c_m &ang; @deg_2c </td>\\n                </tr>\\n                <tr>\\n                    <td >I<sub>1n</sub> =  @i_1n_m &ang; @deg_1n </td>\\n                    <td >I<sub>2n</sub> =  @i_2n_m &ang; @deg_2n </td>\\n                </tr>\\n            </table>            \\n            </div>\\n            \"},\"id\":\"1057\",\"type\":\"HoverTool\"},{\"attributes\":{},\"id\":\"1068\",\"type\":\"BasicTickFormatter\"},{\"attributes\":{\"line_alpha\":{\"value\":0.5},\"line_color\":{\"value\":\"green\"},\"line_width\":{\"value\":5},\"xs\":{\"field\":\"x_s\"},\"ys\":{\"field\":\"y_s\"}},\"id\":\"1038\",\"type\":\"MultiLine\"},{\"attributes\":{\"line_alpha\":{\"value\":0.1},\"line_color\":{\"value\":\"green\"},\"line_width\":{\"value\":5},\"xs\":{\"field\":\"x_s\"},\"ys\":{\"field\":\"y_s\"}},\"id\":\"1039\",\"type\":\"MultiLine\"},{\"attributes\":{},\"id\":\"1071\",\"type\":\"Selection\"},{\"attributes\":{\"source\":{\"id\":\"1043\"}},\"id\":\"1049\",\"type\":\"CDSView\"},{\"attributes\":{},\"id\":\"1069\",\"type\":\"AllLabels\"},{\"attributes\":{\"line_alpha\":{\"value\":0.2},\"line_color\":{\"value\":\"green\"},\"line_width\":{\"value\":5},\"xs\":{\"field\":\"x_s\"},\"ys\":{\"field\":\"y_s\"}},\"id\":\"1040\",\"type\":\"MultiLine\"},{\"attributes\":{\"line_alpha\":{\"value\":0.2},\"line_color\":{\"value\":\"red\"},\"line_width\":{\"value\":5},\"xs\":{\"field\":\"x_s\"},\"ys\":{\"field\":\"y_s\"}},\"id\":\"1047\",\"type\":\"MultiLine\"},{\"attributes\":{},\"id\":\"1065\",\"type\":\"BasicTickFormatter\"},{\"attributes\":{\"coordinates\":null,\"data_source\":{\"id\":\"1050\"},\"glyph\":{\"id\":\"1052\"},\"group\":null,\"hover_glyph\":null,\"muted_glyph\":{\"id\":\"1054\"},\"nonselection_glyph\":{\"id\":\"1053\"},\"view\":{\"id\":\"1056\"}},\"id\":\"1055\",\"type\":\"GlyphRenderer\"},{\"attributes\":{},\"id\":\"1073\",\"type\":\"Selection\"},{\"attributes\":{\"coordinates\":null,\"data_source\":{\"id\":\"1043\"},\"glyph\":{\"id\":\"1045\"},\"group\":null,\"hover_glyph\":null,\"muted_glyph\":{\"id\":\"1047\"},\"nonselection_glyph\":{\"id\":\"1046\"},\"view\":{\"id\":\"1049\"}},\"id\":\"1048\",\"type\":\"GlyphRenderer\"},{\"attributes\":{},\"id\":\"1075\",\"type\":\"Selection\"},{\"attributes\":{\"callback\":null,\"renderers\":[{\"id\":\"1055\"}],\"tooltips\":\"\\n            <div>\\n            bus_id = @bus_id &nbsp &nbsp |  u<sub>avg</sub>= @u_avg_pu pu |  u<sub>unb</sub>= @v_unb %\\n            <table border=\\\"1\\\">\\n                <tr>\\n                <td>v<sub>an</sub> =  @v_an  &ang; @deg_an V </td> <td> S<sub>a</sub> = @p_a + j@q_a kVA</td>\\n                </tr>\\n                      <tr>\\n                      <td> </td> <td>v<sub>ab</sub>= @v_ab V</td>\\n                      </tr>\\n                <tr>\\n                <td>v<sub>bn</sub> = @v_bn &ang; @deg_bn V </td><td> S<sub>b</sub> = @p_b + j@q_b kVA</td>\\n                </tr>\\n                      <tr>\\n                      <td> </td><td>v<sub>bc</sub>= @v_bc V</td>\\n                      </tr>\\n                <tr>\\n                <td>v<sub>cn</sub>  = @v_cn &ang; @deg_cn V </td>  <td>S<sub>c</sub> = @p_c + j@q_c kVA </td>\\n                </tr> \\n                    <tr>\\n                     <td> </td> <td>v<sub>ca</sub>= @v_ca V</td>\\n                    </tr>\\n               <tr>\\n                <td>v<sub>ng</sub>    = @v_ng &ang; @deg_ng V</td>  <td>S<sub>abc</sub> = @p_abc + j@q_abc kVA </td>\\n              </tr>\\n            </table>\\n            </div>\\n            \"},\"id\":\"1061\",\"type\":\"HoverTool\"},{\"attributes\":{\"bottom_units\":\"screen\",\"coordinates\":null,\"fill_alpha\":0.5,\"fill_color\":\"lightgrey\",\"group\":null,\"left_units\":\"screen\",\"level\":\"overlay\",\"line_alpha\":1.0,\"line_color\":\"black\",\"line_dash\":[4,4],\"line_width\":2,\"right_units\":\"screen\",\"syncable\":false,\"top_units\":\"screen\"},\"id\":\"1028\",\"type\":\"BoxAnnotation\"},{\"attributes\":{\"line_alpha\":{\"value\":0.1},\"line_color\":{\"value\":\"red\"},\"line_width\":{\"value\":5},\"xs\":{\"field\":\"x_s\"},\"ys\":{\"field\":\"y_s\"}},\"id\":\"1046\",\"type\":\"MultiLine\"},{\"attributes\":{},\"id\":\"1074\",\"type\":\"UnionRenderers\"},{\"attributes\":{\"source\":{\"id\":\"1036\"}},\"id\":\"1042\",\"type\":\"CDSView\"},{\"attributes\":{\"line_alpha\":{\"value\":0.5},\"line_color\":{\"value\":\"red\"},\"line_width\":{\"value\":5},\"xs\":{\"field\":\"x_s\"},\"ys\":{\"field\":\"y_s\"}},\"id\":\"1045\",\"type\":\"MultiLine\"},{\"attributes\":{},\"id\":\"1025\",\"type\":\"SaveTool\"},{\"attributes\":{},\"id\":\"1070\",\"type\":\"UnionRenderers\"},{\"attributes\":{\"fill_alpha\":{\"value\":0.1},\"fill_color\":{\"value\":\"navy\"},\"hatch_alpha\":{\"value\":0.1},\"hatch_color\":{\"value\":\"navy\"},\"line_alpha\":{\"value\":0.1},\"line_color\":{\"value\":\"navy\"},\"size\":{\"value\":15},\"x\":{\"field\":\"x\"},\"y\":{\"field\":\"y\"}},\"id\":\"1053\",\"type\":\"Circle\"},{\"attributes\":{\"data\":{\"bus_id\":[\"R0\",\"R1\",\"R2\",\"R3\",\"R4\",\"R5\",\"R6\",\"R7\",\"R8\",\"R9\",\"R10\",\"R11\",\"R12\",\"R13\",\"R14\",\"R15\",\"R16\",\"R17\",\"R18\",\"D1\",\"D3\",\"D4\",\"D6\",\"D9\",\"D10\",\"D11\",\"D16\",\"D17\",\"D18\",\"D14\",\"D15\"],\"deg_an\":[\"0.00\",\"-31.70\",\"-31.73\",\"-31.75\",\"-31.77\",\"-31.79\",\"-31.80\",\"-31.81\",\"-31.82\",\"-31.83\",\"-31.84\",\"-31.71\",\"-31.63\",\"-31.48\",\"-31.33\",\"-31.18\",\"-31.67\",\"-31.74\",\"-31.72\",\"0.00\",\"0.00\",\"0.00\",\"0.00\",\"0.00\",\"0.00\",\"0.00\",\"0.00\",\"0.00\",\"0.00\",\"0.00\",\"0.00\"],\"deg_bn\":[\"-120.00\",\"-151.69\",\"-151.81\",\"-151.92\",\"-152.03\",\"-152.11\",\"-152.19\",\"-152.24\",\"-152.29\",\"-152.34\",\"-152.37\",\"-151.89\",\"-151.92\",\"-151.80\",\"-151.68\",\"-151.56\",\"-152.09\",\"-152.27\",\"-152.27\",\"180.00\",\"180.00\",\"180.00\",\"180.00\",\"180.00\",\"180.00\",\"180.00\",\"180.00\",\"180.00\",\"180.00\",\"180.00\",\"180.00\"],\"deg_cn\":[\"120.00\",\"88.32\",\"88.23\",\"88.14\",\"88.06\",\"88.00\",\"87.94\",\"87.91\",\"87.87\",\"87.83\",\"87.81\",\"88.18\",\"88.18\",\"88.31\",\"88.43\",\"88.56\",\"88.05\",\"87.91\",\"87.91\",\"180.00\",\"180.00\",\"180.00\",\"180.00\",\"180.00\",\"180.00\",\"180.00\",\"180.00\",\"180.00\",\"180.00\",\"180.00\",\"180.00\"],\"deg_ng\":[\"0.00\",\"109.63\",\"110.43\",\"111.33\",\"112.29\",\"113.09\",\"113.93\",\"114.49\",\"115.08\",\"115.72\",\"116.09\",\"111.35\",\"112.55\",\"112.82\",\"113.13\",\"113.46\",\"114.25\",\"115.97\",\"116.46\",\"0.00\",\"0.00\",\"0.00\",\"0.00\",\"0.00\",\"0.00\",\"0.00\",\"0.00\",\"0.00\",\"0.00\",\"0.00\",\"0.00\"],\"p_a\":[\"133.25\",\"-63.37\",\"0.00\",\"0.00\",\"0.00\",\"0.00\",\"0.00\",\"0.00\",\"0.00\",\"0.00\",\"0.00\",\"-4.75\",\"0.00\",\"0.00\",\"0.00\",\"-16.47\",\"-17.42\",\"-11.08\",\"-14.88\",\"0.07\",\"0.00\",\"0.00\",\"0.00\",\"0.00\",\"-0.04\",\"0.00\",\"0.00\",\"0.00\",\"0.00\",\"-0.04\",\"0.00\"],\"p_abc\":[\"398.39\",\"-190.11\",\"0.00\",\"0.00\",\"0.00\",\"0.00\",\"0.00\",\"0.00\",\"0.00\",\"0.00\",\"0.00\",\"-14.25\",\"0.00\",\"0.00\",\"0.00\",\"-49.40\",\"-52.25\",\"-33.25\",\"-44.65\",\"0.07\",\"0.00\",\"0.00\",\"0.00\",\"0.00\",\"-0.04\",\"0.00\",\"0.00\",\"0.00\",\"0.00\",\"-0.04\",\"0.00\"],\"p_b\":[\"132.30\",\"-63.37\",\"-0.00\",\"-0.00\",\"-0.00\",\"-0.00\",\"-0.00\",\"-0.00\",\"-0.00\",\"-0.00\",\"-0.00\",\"-4.75\",\"-0.00\",\"-0.00\",\"-0.00\",\"-16.47\",\"-17.42\",\"-11.08\",\"-14.88\",\"0.00\",\"0.00\",\"0.00\",\"0.00\",\"0.00\",\"0.00\",\"0.00\",\"0.00\",\"0.00\",\"0.00\",\"0.00\",\"0.00\"],\"p_c\":[\"132.84\",\"-63.37\",\"0.00\",\"0.00\",\"0.00\",\"0.00\",\"0.00\",\"0.00\",\"0.00\",\"0.00\",\"0.00\",\"-4.75\",\"0.00\",\"0.00\",\"0.00\",\"-16.47\",\"-17.42\",\"-11.08\",\"-14.88\",\"-0.00\",\"0.00\",\"0.00\",\"0.00\",\"0.00\",\"0.00\",\"0.00\",\"0.00\",\"0.00\",\"0.00\",\"0.00\",\"0.00\"],\"q_a\":[\"48.51\",\"-20.82\",\"-0.00\",\"-0.00\",\"-0.00\",\"-0.00\",\"-0.00\",\"-0.00\",\"-0.00\",\"-0.00\",\"-0.00\",\"-1.56\",\"-0.00\",\"-0.00\",\"-0.00\",\"-5.41\",\"-5.72\",\"-3.64\",\"-4.89\",\"0.00\",\"0.00\",\"0.00\",\"0.00\",\"0.00\",\"-0.00\",\"0.00\",\"0.00\",\"0.00\",\"0.00\",\"-0.00\",\"0.00\"],\"q_abc\":[\"144.58\",\"-62.45\",\"0.00\",\"0.00\",\"0.00\",\"0.00\",\"0.00\",\"0.00\",\"0.00\",\"0.00\",\"0.00\",\"-4.68\",\"0.00\",\"0.00\",\"0.00\",\"-16.24\",\"-17.17\",\"-10.93\",\"-14.68\",\"0.00\",\"0.00\",\"0.00\",\"0.00\",\"0.00\",\"0.00\",\"0.00\",\"0.00\",\"0.00\",\"0.00\",\"0.00\",\"0.00\"],\"q_b\":[\"48.43\",\"-20.82\",\"0.00\",\"0.00\",\"0.00\",\"0.00\",\"0.00\",\"0.00\",\"0.00\",\"0.00\",\"0.00\",\"-1.56\",\"0.00\",\"0.00\",\"0.00\",\"-5.41\",\"-5.72\",\"-3.64\",\"-4.89\",\"0.00\",\"0.00\",\"0.00\",\"0.00\",\"0.00\",\"0.00\",\"0.00\",\"0.00\",\"0.00\",\"0.00\",\"0.00\",\"0.00\"],\"q_c\":[\"47.64\",\"-20.82\",\"0.00\",\"0.00\",\"0.00\",\"0.00\",\"0.00\",\"0.00\",\"0.00\",\"0.00\",\"0.00\",\"-1.56\",\"0.00\",\"0.00\",\"0.00\",\"-5.41\",\"-5.72\",\"-3.64\",\"-4.89\",\"0.00\",\"0.00\",\"0.00\",\"0.00\",\"0.00\",\"0.00\",\"0.00\",\"0.00\",\"0.00\",\"0.00\",\"0.00\",\"0.00\"],\"s_color\":[\"red\",\"green\",\"blue\",\"blue\",\"blue\",\"blue\",\"blue\",\"blue\",\"blue\",\"blue\",\"blue\",\"green\",\"blue\",\"blue\",\"blue\",\"green\",\"green\",\"green\",\"green\",\"red\",\"blue\",\"blue\",\"blue\",\"blue\",\"green\",\"blue\",\"blue\",\"blue\",\"blue\",\"green\",\"blue\"],\"s_radio\":[6.510061708402774,4.47326153255983,1,1,1,1,1,1,1,1,1,1.2247448713915892,1,1,1,2.280350850198276,2.3452078799117153,1.8708286933869707,2.16794833886788,1,1,1,1,1,1,1,1,1,1,1,1],\"u_avg_pu\":[\"1.000\",\"0.981\",\"0.972\",\"0.964\",\"0.956\",\"0.950\",\"0.944\",\"0.941\",\"0.937\",\"0.934\",\"0.932\",\"0.961\",\"0.946\",\"0.936\",\"0.926\",\"0.916\",\"0.935\",\"0.928\",\"0.924\",\"1.155\",\"1.155\",\"1.155\",\"1.155\",\"1.155\",\"1.155\",\"1.155\",\"1.155\",\"1.155\",\"1.155\",\"1.155\",\"1.155\"],\"v_ab\":[19999.99067499782,392.3174735673212,388.6583287294983,384.99929393743355,381.5993261633965,379.1435262066609,376.6878270230874,375.2108705725588,373.73395073391214,372.2569753959851,371.4087540631932,383.88007593391893,377.50783763964716,373.4185813974153,369.331530321433,365.24686286506255,373.0612572677593,369.9279913588634,368.2662971329593,800.0,799.9986984199226,799.9980476298845,799.9973968390727,799.9964206528689,799.9961417425283,799.9986984199226,799.9973968390727,799.9964206528689,799.9961417425283,799.9970714459843,799.9970714459843],\"v_an\":[\"11547.00\",\"226.52\",\"224.13\",\"221.74\",\"219.52\",\"217.92\",\"216.31\",\"215.35\",\"214.38\",\"213.42\",\"212.87\",\"221.07\",\"217.08\",\"214.63\",\"212.20\",\"209.76\",\"214.15\",\"212.03\",\"210.99\",\"800.00\",\"800.00\",\"800.00\",\"799.99\",\"799.99\",\"799.99\",\"800.00\",\"799.99\",\"799.99\",\"799.99\",\"799.99\",\"799.99\"],\"v_an_pu\":[\"1.0000\",\"0.9809\",\"0.9705\",\"0.9602\",\"0.9505\",\"0.9436\",\"0.9367\",\"0.9325\",\"0.9283\",\"0.9241\",\"0.9217\",\"0.9573\",\"0.9400\",\"0.9294\",\"0.9188\",\"0.9083\",\"0.9273\",\"0.9181\",\"0.9136\",\"3.4641\",\"3.4641\",\"3.4641\",\"3.4641\",\"3.4641\",\"3.4641\",\"3.4641\",\"3.4641\",\"3.4641\",\"3.4641\",\"3.4641\",\"3.4641\"],\"v_bc\":[19999.990674997825,392.3451343097559,389.19125941143716,386.03776644469457,383.10937052613167,380.99572740633243,378.88230195419374,377.61293696999525,376.3436508160785,375.07435705789027,374.34568054316384,384.95760762403233,379.1838990961534,375.2604627307557,371.33903577426844,367.4197759284535,375.40586066019637,372.84884560898746,371.34541609854733,0.0,1.2896466349312089e-29,1.934469952396813e-29,1.934469952396744e-29,1.9344699523966733e-29,1.9344699523966604e-29,1.2896466349312089e-29,1.9344699523967445e-29,1.9344699523966733e-29,1.9344699523966604e-29,3.8689399047937216e-29,4.513763222259348e-29],\"v_bn\":[\"11547.00\",\"226.51\",\"224.47\",\"222.43\",\"220.53\",\"219.16\",\"217.80\",\"216.97\",\"216.15\",\"215.33\",\"214.86\",\"221.79\",\"218.20\",\"215.86\",\"213.53\",\"211.20\",\"215.73\",\"214.00\",\"213.06\",\"0.00\",\"0.00\",\"0.00\",\"0.00\",\"0.00\",\"0.00\",\"0.00\",\"0.00\",\"0.00\",\"0.00\",\"0.00\",\"0.00\"],\"v_bn_pu\":[\"1.0000\",\"0.9808\",\"0.9720\",\"0.9631\",\"0.9549\",\"0.9490\",\"0.9431\",\"0.9395\",\"0.9360\",\"0.9324\",\"0.9304\",\"0.9604\",\"0.9448\",\"0.9347\",\"0.9246\",\"0.9145\",\"0.9341\",\"0.9266\",\"0.9226\",\"0.0000\",\"0.0000\",\"0.0000\",\"0.0000\",\"0.0000\",\"0.0000\",\"0.0000\",\"0.0000\",\"0.0000\",\"0.0000\",\"0.0000\",\"0.0000\"],\"v_ca\":[19999.99067499783,392.4099236141139,388.8854982888626,385.36274007352023,382.0922298992665,379.73140335071844,377.3713674768321,375.9536664105249,374.5362592631867,373.1191493844408,372.30564421533927,384.2532939919462,378.050139123251,374.00949001162525,369.97032980001745,365.93270779180506,373.78814629139004,370.8212326674858,369.20642115835585,800.0,799.9986984199226,799.9980476298845,799.9973968390727,799.9964206528689,799.9961417425283,799.9986984199226,799.9973968390727,799.9964206528689,799.9961417425283,799.9970714459843,799.9970714459843],\"v_cn\":[\"11547.00\",\"226.55\",\"225.01\",\"223.48\",\"222.05\",\"221.02\",\"219.99\",\"219.38\",\"218.76\",\"218.14\",\"217.79\",\"222.88\",\"219.87\",\"217.69\",\"215.51\",\"213.32\",\"218.06\",\"216.91\",\"216.12\",\"0.00\",\"0.00\",\"0.00\",\"0.00\",\"0.00\",\"0.00\",\"0.00\",\"0.00\",\"0.00\",\"0.00\",\"0.00\",\"0.00\"],\"v_cn_pu\":[\"1.0000\",\"0.9810\",\"0.9743\",\"0.9677\",\"0.9615\",\"0.9571\",\"0.9526\",\"0.9499\",\"0.9473\",\"0.9446\",\"0.9431\",\"0.9651\",\"0.9521\",\"0.9426\",\"0.9332\",\"0.9237\",\"0.9442\",\"0.9392\",\"0.9358\",\"0.0000\",\"0.0000\",\"0.0000\",\"0.0000\",\"0.0000\",\"0.0000\",\"0.0000\",\"0.0000\",\"0.0000\",\"0.0000\",\"0.0000\",\"0.0000\"],\"v_ng\":[\"0.00\",\"6.63\",\"6.38\",\"6.13\",\"5.91\",\"5.75\",\"5.59\",\"5.49\",\"5.40\",\"5.30\",\"5.25\",\"6.11\",\"5.84\",\"5.77\",\"5.70\",\"5.64\",\"5.53\",\"5.27\",\"5.20\",\"0.00\",\"0.00\",\"0.00\",\"0.00\",\"0.00\",\"0.00\",\"0.00\",\"0.00\",\"0.00\",\"0.00\",\"0.00\",\"0.00\"],\"v_unb\":[\"0.0\",\"0.0\",\"0.2\",\"0.4\",\"0.6\",\"0.8\",\"0.9\",\"1.0\",\"1.1\",\"1.2\",\"1.2\",\"0.4\",\"0.7\",\"0.8\",\"0.8\",\"0.9\",\"1.0\",\"1.2\",\"1.3\",\"200.0\",\"200.0\",\"200.0\",\"200.0\",\"200.0\",\"200.0\",\"200.0\",\"200.0\",\"200.0\",\"200.0\",\"200.0\",\"200.0\"],\"x\":[0,0,0,0,0,0,0,0,0,0,0,-30,35,70,105,105,-35,30,-30,4,4,4,4,4,4,-30,-35,30,-30,109,109],\"y\":[20,0,-35,-70,-105,-140,-175,-210,-245,-280,-315,-70,-105,-105,-105,-140,-175,-280,-315,0,-55,-90,-190,-265,-330,-55,-190,-265,-330,-90,-140]},\"selected\":{\"id\":\"1075\"},\"selection_policy\":{\"id\":\"1074\"}},\"id\":\"1050\",\"type\":\"ColumnDataSource\"},{\"attributes\":{\"overlay\":{\"id\":\"1028\"}},\"id\":\"1024\",\"type\":\"BoxZoomTool\"},{\"attributes\":{\"fill_alpha\":{\"value\":0.5},\"fill_color\":{\"value\":\"navy\"},\"hatch_alpha\":{\"value\":0.5},\"hatch_color\":{\"value\":\"navy\"},\"line_alpha\":{\"value\":0.5},\"line_color\":{\"value\":\"navy\"},\"size\":{\"value\":15},\"x\":{\"field\":\"x\"},\"y\":{\"field\":\"y\"}},\"id\":\"1052\",\"type\":\"Circle\"},{\"attributes\":{\"data\":{\"deg_1a\":[-20.00285436948783],\"deg_1b\":[-140.1064483649001],\"deg_1c\":[100.27054112058693],\"deg_1n\":[-135.0],\"deg_2a\":[130.17525082264672],\"deg_2b\":[9.952261277097278],\"deg_2c\":[-109.9668869159857],\"deg_2n\":[-49.76583517639191],\"i_1a_m\":[12.28071843585747],\"i_1b_m\":[12.200663032336548],\"i_1c_m\":[12.221715834047252],\"i_1n_m\":[1.0048591735576161e-14],\"i_2a_m\":[614.5882015906499],\"i_2b_m\":[612.1069493336851],\"i_2c_m\":[608.4550373395703],\"i_2n_m\":[320.13493235140044],\"trafo_id\":[\"R0-R1\"],\"x_s\":[[0,0]],\"y_s\":[[20,0]]},\"selected\":{\"id\":\"1071\"},\"selection_policy\":{\"id\":\"1070\"}},\"id\":\"1036\",\"type\":\"ColumnDataSource\"},{\"attributes\":{},\"id\":\"1026\",\"type\":\"ResetTool\"},{\"attributes\":{},\"id\":\"1023\",\"type\":\"WheelZoomTool\"},{\"attributes\":{\"fill_alpha\":{\"value\":0.2},\"fill_color\":{\"value\":\"navy\"},\"hatch_alpha\":{\"value\":0.2},\"hatch_color\":{\"value\":\"navy\"},\"line_alpha\":{\"value\":0.2},\"line_color\":{\"value\":\"navy\"},\"size\":{\"value\":15},\"x\":{\"field\":\"x\"},\"y\":{\"field\":\"y\"}},\"id\":\"1054\",\"type\":\"Circle\"},{\"attributes\":{},\"id\":\"1019\",\"type\":\"BasicTicker\"},{\"attributes\":{},\"id\":\"1072\",\"type\":\"UnionRenderers\"},{\"attributes\":{},\"id\":\"1022\",\"type\":\"PanTool\"},{\"attributes\":{\"data\":{\"deg_j_a\":[-49.76583517639191,-49.76583517637973,-49.755319729747555,-49.90119769273424,-49.90119769271424,-49.925187596222706,-49.9251875961943,-49.92518759616672,-49.91458780551315,-49.904160859547865,-49.37597172124653,-49.37597172124643,-49.37597172124626,-49.375971721246074,-49.8649713434902,-49.93949167379138,-49.91458780547001,0.0,0.0,0.0,0.0,0.0,0.0,0.0,0.0,0.0,0.0,0.0],\"deg_j_b\":[-170.205512221395,-170.2055122213897,-170.21460008212517,-170.39277580094796,-170.39277580094006,-170.46728179703862,-170.46728179702512,-170.46728179701566,-170.46884205975059,-170.08655215518232,-169.75211341878028,-169.75211341877508,-169.75211341876994,-169.75211341876496,-170.28051686260252,-170.46517738722764,-170.46884205975448,180.0,180.0,0.0,0.0,0.0,0.0,0.0,0.0,0.0,180.0,180.0],\"deg_j_c\":[69.94114358615857,69.94114358616847,69.93791192245173,69.77120799146377,69.77120799147912,69.7127257388487,69.7127257388746,69.71272573890121,69.71450248201731,69.98314982895825,70.36948064204275,70.36948064205063,70.36948064205883,70.36948064206672,69.85904560033566,69.7103311565675,69.71450248203853,0.0,0.0,180.0,180.0,180.0,0.0,0.0,0.0,0.0,0.0,0.0],\"deg_j_n\":[113.71017197658252,114.08599310849915,114.4232518021206,115.27078425327741,115.27078425452575,115.89210462211692,115.89210462427425,116.17240353155373,116.27575365577592,111.35130661396053,113.13408010955673,113.1340801092355,113.45652974918879,113.45652974889258,114.25027446595942,115.96730098279994,116.46328273682603,180.0,180.0,180.0,180.0,180.0,180.0,0.0,0.0,0.0,180.0,0.0],\"deg_k_a\":[-49.76583517639191,-49.76583517637973,-49.755319729747555,-49.90119769273424,-49.90119769271424,-49.925187596222706,-49.9251875961943,-49.92518759616672,-49.91458780551315,-49.904160859547865,-49.37597172124653,-49.37597172124643,-49.37597172124626,-49.375971721246074,-49.8649713434902,-49.93949167379138,-49.91458780547001,0.0,0.0,0.0,0.0,0.0,0.0,0.0,0.0,0.0,0.0,0.0],\"deg_k_b\":[-170.205512221395,-170.2055122213897,-170.21460008212517,-170.39277580094796,-170.39277580094006,-170.46728179703862,-170.46728179702512,-170.46728179701566,-170.46884205975059,-170.08655215518232,-169.75211341878028,-169.75211341877508,-169.75211341876994,-169.75211341876496,-170.28051686260252,-170.46517738722764,-170.46884205975448,180.0,180.0,0.0,0.0,0.0,0.0,0.0,0.0,0.0,180.0,180.0],\"deg_k_c\":[69.94114358615857,69.94114358616847,69.93791192245173,69.77120799146377,69.77120799147912,69.7127257388487,69.7127257388746,69.71272573890121,69.71450248201731,69.98314982895825,70.36948064204275,70.36948064205063,70.36948064205883,70.36948064206672,69.85904560033566,69.7103311565675,69.71450248203853,0.0,0.0,180.0,180.0,180.0,0.0,0.0,0.0,0.0,0.0,0.0],\"deg_k_n\":[113.71017197658252,114.08599310849915,114.4232518021206,115.27078425327741,115.27078425452575,115.89210462211692,115.89210462427425,116.17240353155373,116.27575365577592,111.35130661396053,113.13408010955673,113.1340801092355,113.45652974918879,113.45652974889258,114.25027446595942,115.96730098279994,116.46328273682603,180.0,180.0,180.0,180.0,180.0,180.0,0.0,0.0,0.0,180.0,0.0],\"i_j_a_m\":[320.13493235140044,320.13493235137463,297.5178304218137,214.88570388616685,214.8857038861262,129.27615253489392,129.27615253486331,129.27615253483663,74.25256723063227,22.617172852702616,82.63463419690527,82.63463419692901,82.63463419695321,82.63463419697648,85.60957979477205,55.02358828947685,74.25256723067862,0.08812322799349204,0.08812322790618055,0.04406166633270914,0.04406166571425274,0.04406166519038379,0.0,0.0,0.0,0.0,0.044061561733542476,0.0],\"i_j_b_m\":[317.6439384955589,317.6439384955548,295.1000391970436,213.03138474329825,213.0313847433008,128.04707808567727,128.04707808566368,128.04707808566312,73.5300446529225,22.543951601627658,82.07235825063078,82.07235825065791,82.07235825068236,82.07235825071074,84.98457803946559,54.51703349666365,73.53004465298653,3.675101103778517e-29,3.6751011037785156e-29,1.9281866869109483e-42,1.3116153626080288e-42,7.847271400218976e-43,0.0,0.0,0.0,0.0,3.6751011037786983e-29,3.67510110377864e-29],\"i_j_c_m\":[314.0363519471189,314.0363519471211,291.60251768792114,210.35162138911375,210.35162138912284,126.27674813686437,126.27674813686203,126.27674813686194,72.49016298174773,22.4338407520944,81.2540916348302,81.25409163485497,81.25409163487471,81.25409163489755,84.07503783154263,53.78658523683313,72.49016298179836,8.364017546570077e-28,8.364017546570068e-28,4.4841550858394146e-41,3.049225458370802e-41,1.937154997082627e-41,0.0,7.174648137343064e-43,0.0,0.0,8.36401754657049e-28,8.364017546570365e-28],\"i_j_n_m\":[1.5500399203432234,1.3908872778962735,1.2383095003331899,0.8057203234931684,0.8057203234682657,0.5279054844560359,0.5279054844362396,0.39301206228636704,0.26133018072687886,0.1527732122087199,0.2851895488148329,0.2851895488141807,0.1409867716921344,0.14098677169113655,0.13825055694210142,0.13168315040839826,0.13007652860778146,0.08812322639012975,0.0881232263901297,0.04406166440079079,0.04406166440079286,0.04406166440079551,2.7755575615628914e-17,0.0,0.0,2.220446049250313e-16,0.04406156198933864,0.0],\"i_k_a_m\":[320.13493235140044,320.13493235137463,297.5178304218137,214.88570388616685,214.8857038861262,129.27615253489392,129.27615253486331,129.27615253483663,74.25256723063227,22.617172852702616,82.63463419690527,82.63463419692901,82.63463419695321,82.63463419697648,85.60957979477205,55.02358828947685,74.25256723067862,0.08812322799349204,0.08812322790618055,0.04406166633270914,0.04406166571425274,0.04406166519038379,0.0,0.0,0.0,0.0,0.044061561733542476,0.0],\"i_k_b_m\":[317.6439384955589,317.6439384955548,295.1000391970436,213.03138474329825,213.0313847433008,128.04707808567727,128.04707808566368,128.04707808566312,73.5300446529225,22.543951601627658,82.07235825063078,82.07235825065791,82.07235825068236,82.07235825071074,84.98457803946559,54.51703349666365,73.53004465298653,3.675101103778517e-29,3.6751011037785156e-29,1.9281866869109483e-42,1.3116153626080288e-42,7.847271400218976e-43,0.0,0.0,0.0,0.0,3.6751011037786983e-29,3.67510110377864e-29],\"i_k_c_m\":[314.0363519471189,314.0363519471211,291.60251768792114,210.35162138911375,210.35162138912284,126.27674813686437,126.27674813686203,126.27674813686194,72.49016298174773,22.4338407520944,81.2540916348302,81.25409163485497,81.25409163487471,81.25409163489755,84.07503783154263,53.78658523683313,72.49016298179836,8.364017546570077e-28,8.364017546570068e-28,4.4841550858394146e-41,3.049225458370802e-41,1.937154997082627e-41,0.0,7.174648137343064e-43,0.0,0.0,8.36401754657049e-28,8.364017546570365e-28],\"i_k_n_m\":[1.5500399203432234,1.3908872778962735,1.2383095003331899,0.8057203234931684,0.8057203234682657,0.5279054844560359,0.5279054844362396,0.39301206228636704,0.26133018072687886,0.1527732122087199,0.2851895488148329,0.2851895488141807,0.1409867716921344,0.14098677169113655,0.13825055694210142,0.13168315040839826,0.13007652860778146,0.08812322639012975,0.0881232263901297,0.04406166440079079,0.04406166440079286,0.04406166440079551,2.7755575615628914e-17,0.0,0.0,2.220446049250313e-16,0.04406156198933864,0.0],\"line_id\":[\"R1-R2\",\"R2-R3\",\"R3-R4\",\"R4-R5\",\"R5-R6\",\"R6-R7\",\"R7-R8\",\"R8-R9\",\"R9-R10\",\"R3-R11\",\"R4-R12\",\"R12-R13\",\"R13-R14\",\"R14-R15\",\"R6-R16\",\"R9-R17\",\"R10-R18\",\"D1-D3\",\"D3-D4\",\"D4-D6\",\"D6-D9\",\"D9-D10\",\"D3-D11\",\"D6-D16\",\"D9-D17\",\"D10-D18\",\"D4-D14\",\"D14-D15\"],\"x_s\":[[0,0],[0,0],[0,0],[0,0],[0,0],[0,0],[0,0],[0,0],[0,0],[0,-30],[0,35],[35,70],[70,105],[105,105],[0,-35],[0,30],[0,-30],[4,4],[4,4],[4,4],[4,4],[4,4],[4,-30],[4,-35],[4,30],[4,-30],[4,109],[109,109]],\"y_s\":[[0,-35],[-35,-70],[-70,-105],[-105,-140],[-140,-175],[-175,-210],[-210,-245],[-245,-280],[-280,-315],[-70,-70],[-105,-105],[-105,-105],[-105,-105],[-105,-140],[-175,-175],[-280,-280],[-315,-315],[0,-55],[-55,-90],[-90,-190],[-190,-265],[-265,-330],[-55,-55],[-190,-190],[-265,-265],[-330,-330],[-90,-90],[-90,-140]]},\"selected\":{\"id\":\"1073\"},\"selection_policy\":{\"id\":\"1072\"}},\"id\":\"1043\",\"type\":\"ColumnDataSource\"},{\"attributes\":{},\"id\":\"1066\",\"type\":\"AllLabels\"},{\"attributes\":{\"coordinates\":null,\"data_source\":{\"id\":\"1036\"},\"glyph\":{\"id\":\"1038\"},\"group\":null,\"hover_glyph\":null,\"muted_glyph\":{\"id\":\"1040\"},\"nonselection_glyph\":{\"id\":\"1039\"},\"view\":{\"id\":\"1042\"}},\"id\":\"1041\",\"type\":\"GlyphRenderer\"},{\"attributes\":{\"source\":{\"id\":\"1050\"}},\"id\":\"1056\",\"type\":\"CDSView\"},{\"attributes\":{\"callback\":null,\"renderers\":[{\"id\":\"1048\"}],\"tooltips\":\"\\n            <div>\\n            line id = @line_id \\n            <table border=\\\"5\\\">\\n                <tr >\\n                    <td>I<sub>ja</sub> =  @i_j_a_m &ang; @deg_j_a </td>\\n                    <td>I<sub>ka</sub> =  @i_k_a_m &ang; @deg_k_a </td>\\n                </tr>\\n                <tr>\\n                    <td >I<sub>jb</sub> =  @i_j_b_m &ang; @deg_j_b </td>\\n                    <td >I<sub>kb</sub> =  @i_k_b_m &ang; @deg_k_b </td>\\n                </tr>\\n                <tr>\\n                    <td >I<sub>jc</sub> =  @i_j_c_m &ang; @deg_j_c </td>\\n                    <td >I<sub>kc</sub> =  @i_k_c_m &ang; @deg_k_c </td>\\n                </tr>\\n                <tr>\\n                    <td >I<sub>jn</sub> =  @i_j_n_m &ang; @deg_j_n </td>\\n                    <td >I<sub>kn</sub> =  @i_k_n_m &ang; @deg_k_n </td>\\n                </tr>\\n            </table>            \\n            </div>\\n            \"},\"id\":\"1059\",\"type\":\"HoverTool\"},{\"attributes\":{},\"id\":\"1006\",\"type\":\"DataRange1d\"},{\"attributes\":{},\"id\":\"1008\",\"type\":\"DataRange1d\"},{\"attributes\":{\"tools\":[{\"id\":\"1022\"},{\"id\":\"1023\"},{\"id\":\"1024\"},{\"id\":\"1025\"},{\"id\":\"1026\"},{\"id\":\"1027\"},{\"id\":\"1057\"},{\"id\":\"1059\"},{\"id\":\"1061\"}]},\"id\":\"1029\",\"type\":\"Toolbar\"},{\"attributes\":{\"axis\":{\"id\":\"1018\"},\"coordinates\":null,\"dimension\":1,\"group\":null,\"ticker\":null},\"id\":\"1021\",\"type\":\"Grid\"},{\"attributes\":{\"coordinates\":null,\"formatter\":{\"id\":\"1065\"},\"group\":null,\"major_label_policy\":{\"id\":\"1066\"},\"ticker\":{\"id\":\"1019\"}},\"id\":\"1018\",\"type\":\"LinearAxis\"},{\"attributes\":{},\"id\":\"1010\",\"type\":\"LinearScale\"},{\"attributes\":{\"coordinates\":null,\"group\":null,\"text\":\"Results\"},\"id\":\"1004\",\"type\":\"Title\"},{\"attributes\":{\"axis\":{\"id\":\"1014\"},\"coordinates\":null,\"group\":null,\"ticker\":null},\"id\":\"1017\",\"type\":\"Grid\"},{\"attributes\":{},\"id\":\"1012\",\"type\":\"LinearScale\"},{\"attributes\":{},\"id\":\"1027\",\"type\":\"HelpTool\"},{\"attributes\":{},\"id\":\"1015\",\"type\":\"BasicTicker\"},{\"attributes\":{\"coordinates\":null,\"formatter\":{\"id\":\"1068\"},\"group\":null,\"major_label_policy\":{\"id\":\"1069\"},\"ticker\":{\"id\":\"1015\"}},\"id\":\"1014\",\"type\":\"LinearAxis\"}],\"root_ids\":[\"1003\"]},\"title\":\"Bokeh Application\",\"version\":\"2.4.1\"}};\n",
       "  const render_items = [{\"docid\":\"680132eb-3cf2-48da-afb0-b31838a89626\",\"root_ids\":[\"1003\"],\"roots\":{\"1003\":\"2db6f7d9-7313-4c0f-98e8-e4eaa0abd996\"}}];\n",
       "  root.Bokeh.embed.embed_items_notebook(docs_json, render_items);\n",
       "\n",
       "  }\n",
       "  if (root.Bokeh !== undefined) {\n",
       "    embed_document(root);\n",
       "  } else {\n",
       "    let attempts = 0;\n",
       "    const timer = setInterval(function(root) {\n",
       "      if (root.Bokeh !== undefined) {\n",
       "        clearInterval(timer);\n",
       "        embed_document(root);\n",
       "      } else {\n",
       "        attempts++;\n",
       "        if (attempts > 100) {\n",
       "          clearInterval(timer);\n",
       "          console.log(\"Bokeh: ERROR: Unable to run BokehJS code because BokehJS library is missing\");\n",
       "        }\n",
       "      }\n",
       "    }, 10, root)\n",
       "  }\n",
       "})(window);"
      ],
      "application/vnd.bokehjs_exec.v0+json": ""
     },
     "metadata": {
      "application/vnd.bokehjs_exec.v0+json": {
       "id": "1003"
      }
     },
     "output_type": "display_data"
    },
    {
     "data": {
      "text/html": [
       "<div style=\"display: table;\"><div style=\"display: table-row;\"><div style=\"display: table-cell;\"><b title=\"bokeh.plotting.figure.Figure\">Figure</b>(</div><div style=\"display: table-cell;\">id&nbsp;=&nbsp;'1003', <span id=\"1148\" style=\"cursor: pointer;\">&hellip;)</span></div></div><div class=\"1147\" style=\"display: none;\"><div style=\"display: table-cell;\"></div><div style=\"display: table-cell;\">above&nbsp;=&nbsp;[],</div></div><div class=\"1147\" style=\"display: none;\"><div style=\"display: table-cell;\"></div><div style=\"display: table-cell;\">align&nbsp;=&nbsp;'start',</div></div><div class=\"1147\" style=\"display: none;\"><div style=\"display: table-cell;\"></div><div style=\"display: table-cell;\">aspect_ratio&nbsp;=&nbsp;None,</div></div><div class=\"1147\" style=\"display: none;\"><div style=\"display: table-cell;\"></div><div style=\"display: table-cell;\">aspect_scale&nbsp;=&nbsp;1,</div></div><div class=\"1147\" style=\"display: none;\"><div style=\"display: table-cell;\"></div><div style=\"display: table-cell;\">background&nbsp;=&nbsp;None,</div></div><div class=\"1147\" style=\"display: none;\"><div style=\"display: table-cell;\"></div><div style=\"display: table-cell;\">background_fill_alpha&nbsp;=&nbsp;1.0,</div></div><div class=\"1147\" style=\"display: none;\"><div style=\"display: table-cell;\"></div><div style=\"display: table-cell;\">background_fill_color&nbsp;=&nbsp;'#ffffff',</div></div><div class=\"1147\" style=\"display: none;\"><div style=\"display: table-cell;\"></div><div style=\"display: table-cell;\">below&nbsp;=&nbsp;[LinearAxis(id='1014', ...)],</div></div><div class=\"1147\" style=\"display: none;\"><div style=\"display: table-cell;\"></div><div style=\"display: table-cell;\">border_fill_alpha&nbsp;=&nbsp;1.0,</div></div><div class=\"1147\" style=\"display: none;\"><div style=\"display: table-cell;\"></div><div style=\"display: table-cell;\">border_fill_color&nbsp;=&nbsp;'#ffffff',</div></div><div class=\"1147\" style=\"display: none;\"><div style=\"display: table-cell;\"></div><div style=\"display: table-cell;\">center&nbsp;=&nbsp;[Grid(id='1017', ...), Grid(id='1021', ...)],</div></div><div class=\"1147\" style=\"display: none;\"><div style=\"display: table-cell;\"></div><div style=\"display: table-cell;\">css_classes&nbsp;=&nbsp;[],</div></div><div class=\"1147\" style=\"display: none;\"><div style=\"display: table-cell;\"></div><div style=\"display: table-cell;\">disabled&nbsp;=&nbsp;False,</div></div><div class=\"1147\" style=\"display: none;\"><div style=\"display: table-cell;\"></div><div style=\"display: table-cell;\">extra_x_ranges&nbsp;=&nbsp;{},</div></div><div class=\"1147\" style=\"display: none;\"><div style=\"display: table-cell;\"></div><div style=\"display: table-cell;\">extra_x_scales&nbsp;=&nbsp;{},</div></div><div class=\"1147\" style=\"display: none;\"><div style=\"display: table-cell;\"></div><div style=\"display: table-cell;\">extra_y_ranges&nbsp;=&nbsp;{},</div></div><div class=\"1147\" style=\"display: none;\"><div style=\"display: table-cell;\"></div><div style=\"display: table-cell;\">extra_y_scales&nbsp;=&nbsp;{},</div></div><div class=\"1147\" style=\"display: none;\"><div style=\"display: table-cell;\"></div><div style=\"display: table-cell;\">frame_height&nbsp;=&nbsp;None,</div></div><div class=\"1147\" style=\"display: none;\"><div style=\"display: table-cell;\"></div><div style=\"display: table-cell;\">frame_width&nbsp;=&nbsp;None,</div></div><div class=\"1147\" style=\"display: none;\"><div style=\"display: table-cell;\"></div><div style=\"display: table-cell;\">height&nbsp;=&nbsp;400,</div></div><div class=\"1147\" style=\"display: none;\"><div style=\"display: table-cell;\"></div><div style=\"display: table-cell;\">height_policy&nbsp;=&nbsp;'auto',</div></div><div class=\"1147\" style=\"display: none;\"><div style=\"display: table-cell;\"></div><div style=\"display: table-cell;\">hidpi&nbsp;=&nbsp;True,</div></div><div class=\"1147\" style=\"display: none;\"><div style=\"display: table-cell;\"></div><div style=\"display: table-cell;\">inner_height&nbsp;=&nbsp;0,</div></div><div class=\"1147\" style=\"display: none;\"><div style=\"display: table-cell;\"></div><div style=\"display: table-cell;\">inner_width&nbsp;=&nbsp;0,</div></div><div class=\"1147\" style=\"display: none;\"><div style=\"display: table-cell;\"></div><div style=\"display: table-cell;\">js_event_callbacks&nbsp;=&nbsp;{},</div></div><div class=\"1147\" style=\"display: none;\"><div style=\"display: table-cell;\"></div><div style=\"display: table-cell;\">js_property_callbacks&nbsp;=&nbsp;{},</div></div><div class=\"1147\" style=\"display: none;\"><div style=\"display: table-cell;\"></div><div style=\"display: table-cell;\">left&nbsp;=&nbsp;[LinearAxis(id='1018', ...)],</div></div><div class=\"1147\" style=\"display: none;\"><div style=\"display: table-cell;\"></div><div style=\"display: table-cell;\">lod_factor&nbsp;=&nbsp;10,</div></div><div class=\"1147\" style=\"display: none;\"><div style=\"display: table-cell;\"></div><div style=\"display: table-cell;\">lod_interval&nbsp;=&nbsp;300,</div></div><div class=\"1147\" style=\"display: none;\"><div style=\"display: table-cell;\"></div><div style=\"display: table-cell;\">lod_threshold&nbsp;=&nbsp;2000,</div></div><div class=\"1147\" style=\"display: none;\"><div style=\"display: table-cell;\"></div><div style=\"display: table-cell;\">lod_timeout&nbsp;=&nbsp;500,</div></div><div class=\"1147\" style=\"display: none;\"><div style=\"display: table-cell;\"></div><div style=\"display: table-cell;\">margin&nbsp;=&nbsp;(0, 0, 0, 0),</div></div><div class=\"1147\" style=\"display: none;\"><div style=\"display: table-cell;\"></div><div style=\"display: table-cell;\">match_aspect&nbsp;=&nbsp;False,</div></div><div class=\"1147\" style=\"display: none;\"><div style=\"display: table-cell;\"></div><div style=\"display: table-cell;\">max_height&nbsp;=&nbsp;None,</div></div><div class=\"1147\" style=\"display: none;\"><div style=\"display: table-cell;\"></div><div style=\"display: table-cell;\">max_width&nbsp;=&nbsp;None,</div></div><div class=\"1147\" style=\"display: none;\"><div style=\"display: table-cell;\"></div><div style=\"display: table-cell;\">min_border&nbsp;=&nbsp;5,</div></div><div class=\"1147\" style=\"display: none;\"><div style=\"display: table-cell;\"></div><div style=\"display: table-cell;\">min_border_bottom&nbsp;=&nbsp;None,</div></div><div class=\"1147\" style=\"display: none;\"><div style=\"display: table-cell;\"></div><div style=\"display: table-cell;\">min_border_left&nbsp;=&nbsp;None,</div></div><div class=\"1147\" style=\"display: none;\"><div style=\"display: table-cell;\"></div><div style=\"display: table-cell;\">min_border_right&nbsp;=&nbsp;None,</div></div><div class=\"1147\" style=\"display: none;\"><div style=\"display: table-cell;\"></div><div style=\"display: table-cell;\">min_border_top&nbsp;=&nbsp;None,</div></div><div class=\"1147\" style=\"display: none;\"><div style=\"display: table-cell;\"></div><div style=\"display: table-cell;\">min_height&nbsp;=&nbsp;None,</div></div><div class=\"1147\" style=\"display: none;\"><div style=\"display: table-cell;\"></div><div style=\"display: table-cell;\">min_width&nbsp;=&nbsp;None,</div></div><div class=\"1147\" style=\"display: none;\"><div style=\"display: table-cell;\"></div><div style=\"display: table-cell;\">name&nbsp;=&nbsp;None,</div></div><div class=\"1147\" style=\"display: none;\"><div style=\"display: table-cell;\"></div><div style=\"display: table-cell;\">outer_height&nbsp;=&nbsp;0,</div></div><div class=\"1147\" style=\"display: none;\"><div style=\"display: table-cell;\"></div><div style=\"display: table-cell;\">outer_width&nbsp;=&nbsp;0,</div></div><div class=\"1147\" style=\"display: none;\"><div style=\"display: table-cell;\"></div><div style=\"display: table-cell;\">outline_line_alpha&nbsp;=&nbsp;1.0,</div></div><div class=\"1147\" style=\"display: none;\"><div style=\"display: table-cell;\"></div><div style=\"display: table-cell;\">outline_line_cap&nbsp;=&nbsp;'butt',</div></div><div class=\"1147\" style=\"display: none;\"><div style=\"display: table-cell;\"></div><div style=\"display: table-cell;\">outline_line_color&nbsp;=&nbsp;'#e5e5e5',</div></div><div class=\"1147\" style=\"display: none;\"><div style=\"display: table-cell;\"></div><div style=\"display: table-cell;\">outline_line_dash&nbsp;=&nbsp;[],</div></div><div class=\"1147\" style=\"display: none;\"><div style=\"display: table-cell;\"></div><div style=\"display: table-cell;\">outline_line_dash_offset&nbsp;=&nbsp;0,</div></div><div class=\"1147\" style=\"display: none;\"><div style=\"display: table-cell;\"></div><div style=\"display: table-cell;\">outline_line_join&nbsp;=&nbsp;'bevel',</div></div><div class=\"1147\" style=\"display: none;\"><div style=\"display: table-cell;\"></div><div style=\"display: table-cell;\">outline_line_width&nbsp;=&nbsp;1,</div></div><div class=\"1147\" style=\"display: none;\"><div style=\"display: table-cell;\"></div><div style=\"display: table-cell;\">output_backend&nbsp;=&nbsp;'canvas',</div></div><div class=\"1147\" style=\"display: none;\"><div style=\"display: table-cell;\"></div><div style=\"display: table-cell;\">renderers&nbsp;=&nbsp;[GlyphRenderer(id='1041', ...), GlyphRenderer(id='1048', ...), GlyphRenderer(id='1055', ...)],</div></div><div class=\"1147\" style=\"display: none;\"><div style=\"display: table-cell;\"></div><div style=\"display: table-cell;\">reset_policy&nbsp;=&nbsp;'standard',</div></div><div class=\"1147\" style=\"display: none;\"><div style=\"display: table-cell;\"></div><div style=\"display: table-cell;\">right&nbsp;=&nbsp;[],</div></div><div class=\"1147\" style=\"display: none;\"><div style=\"display: table-cell;\"></div><div style=\"display: table-cell;\">sizing_mode&nbsp;=&nbsp;None,</div></div><div class=\"1147\" style=\"display: none;\"><div style=\"display: table-cell;\"></div><div style=\"display: table-cell;\">subscribed_events&nbsp;=&nbsp;[],</div></div><div class=\"1147\" style=\"display: none;\"><div style=\"display: table-cell;\"></div><div style=\"display: table-cell;\">syncable&nbsp;=&nbsp;True,</div></div><div class=\"1147\" style=\"display: none;\"><div style=\"display: table-cell;\"></div><div style=\"display: table-cell;\">tags&nbsp;=&nbsp;[],</div></div><div class=\"1147\" style=\"display: none;\"><div style=\"display: table-cell;\"></div><div style=\"display: table-cell;\">title&nbsp;=&nbsp;Title(id='1004', ...),</div></div><div class=\"1147\" style=\"display: none;\"><div style=\"display: table-cell;\"></div><div style=\"display: table-cell;\">title_location&nbsp;=&nbsp;'above',</div></div><div class=\"1147\" style=\"display: none;\"><div style=\"display: table-cell;\"></div><div style=\"display: table-cell;\">toolbar&nbsp;=&nbsp;Toolbar(id='1029', ...),</div></div><div class=\"1147\" style=\"display: none;\"><div style=\"display: table-cell;\"></div><div style=\"display: table-cell;\">toolbar_location&nbsp;=&nbsp;'right',</div></div><div class=\"1147\" style=\"display: none;\"><div style=\"display: table-cell;\"></div><div style=\"display: table-cell;\">toolbar_sticky&nbsp;=&nbsp;True,</div></div><div class=\"1147\" style=\"display: none;\"><div style=\"display: table-cell;\"></div><div style=\"display: table-cell;\">visible&nbsp;=&nbsp;True,</div></div><div class=\"1147\" style=\"display: none;\"><div style=\"display: table-cell;\"></div><div style=\"display: table-cell;\">width&nbsp;=&nbsp;600,</div></div><div class=\"1147\" style=\"display: none;\"><div style=\"display: table-cell;\"></div><div style=\"display: table-cell;\">width_policy&nbsp;=&nbsp;'auto',</div></div><div class=\"1147\" style=\"display: none;\"><div style=\"display: table-cell;\"></div><div style=\"display: table-cell;\">x_range&nbsp;=&nbsp;DataRange1d(id='1006', ...),</div></div><div class=\"1147\" style=\"display: none;\"><div style=\"display: table-cell;\"></div><div style=\"display: table-cell;\">x_scale&nbsp;=&nbsp;LinearScale(id='1010', ...),</div></div><div class=\"1147\" style=\"display: none;\"><div style=\"display: table-cell;\"></div><div style=\"display: table-cell;\">y_range&nbsp;=&nbsp;DataRange1d(id='1008', ...),</div></div><div class=\"1147\" style=\"display: none;\"><div style=\"display: table-cell;\"></div><div style=\"display: table-cell;\">y_scale&nbsp;=&nbsp;LinearScale(id='1012', ...))</div></div></div>\n",
       "<script>\n",
       "(function() {\n",
       "  let expanded = false;\n",
       "  const ellipsis = document.getElementById(\"1148\");\n",
       "  ellipsis.addEventListener(\"click\", function() {\n",
       "    const rows = document.getElementsByClassName(\"1147\");\n",
       "    for (let i = 0; i < rows.length; i++) {\n",
       "      const el = rows[i];\n",
       "      el.style.display = expanded ? \"none\" : \"table-row\";\n",
       "    }\n",
       "    ellipsis.innerHTML = expanded ? \"&hellip;)\" : \"&lsaquo;&lsaquo;&lsaquo;\";\n",
       "    expanded = !expanded;\n",
       "  });\n",
       "})();\n",
       "</script>\n"
      ],
      "text/plain": [
       "Figure(id='1003', ...)"
      ]
     },
     "execution_count": 59,
     "metadata": {},
     "output_type": "execute_result"
    }
   ],
   "source": [
    "gt_grid = gt.grid(grid_c0)\n",
    "gt_grid.dae2vi()\n",
    "\n",
    "gt_grid.get_v()\n",
    "gt_grid.get_i()\n",
    "\n",
    "gt_grid.bokeh_tools()\n",
    "\n",
    "gt.plot_results(gt_grid)"
   ]
  },
  {
   "cell_type": "code",
   "execution_count": 14,
   "metadata": {},
   "outputs": [],
   "source": [
    "def s_eval(grid,bus_j,bus_k):\n",
    "    line_id = f'{bus_j}_{bus_k}'\n",
    "    i_t_r = np.array(grid.get_mvalue([f'i_t_{line_id}_a_r',f'i_t_{line_id}_b_r',f'i_t_{line_id}_c_r']))\n",
    "    i_t_i = np.array(grid.get_mvalue([f'i_t_{line_id}_a_i',f'i_t_{line_id}_b_i',f'i_t_{line_id}_c_i']))\n",
    "    i_t = i_t_r + 1j*i_t_i\n",
    "    v_r = np.array(grid.get_mvalue([f'v_{bus_j}_a_r',f'v_{bus_j}_b_r',f'v_{bus_j}_c_r']))\n",
    "    v_i = np.array(grid.get_mvalue([f'v_{bus_j}_a_i',f'v_{bus_j}_b_i',f'v_{bus_j}_c_i']))\n",
    "    v = v_r + 1j*v_i\n",
    "    \n",
    "    s = v.T @ np.conj(i_t)\n",
    "    return s\n"
   ]
  },
  {
   "cell_type": "code",
   "execution_count": 15,
   "metadata": {},
   "outputs": [],
   "source": [
    "grid = grid_c0\n",
    "grid.initialization_tol = 1e-8\n",
    "def obj_eval(x):\n",
    "\n",
    "    grid.set_values({'p_R10':x[0],'q_R10':x[1]})\n",
    "    grid.set_values({'p_R14':x[2],'q_R14':x[3]})\n",
    "    grid.ss()\n",
    "    s_t = s_eval(grid,'R0','R1')\n",
    "    p_head = float(s_t.real)\n",
    "    #print(f'p_loss = {p_loss/1e3:0.2f}')\n",
    "\n",
    "    return p_head\n",
    "\n"
   ]
  },
  {
   "cell_type": "code",
   "execution_count": 16,
   "metadata": {
    "scrolled": true
   },
   "outputs": [
    {
     "data": {
      "text/plain": [
       "   direc: array([[ 0.00000000e+00,  0.00000000e+00,  0.00000000e+00,\n",
       "         1.00000000e+00],\n",
       "       [ 0.00000000e+00,  1.00000000e+00,  0.00000000e+00,\n",
       "         0.00000000e+00],\n",
       "       [ 0.00000000e+00,  0.00000000e+00,  1.00000000e+00,\n",
       "         0.00000000e+00],\n",
       "       [-1.05619837e+03, -4.40626705e+02,  3.10373770e+02,\n",
       "         9.30591158e+01]])\n",
       "     fun: array(394154.46549016)\n",
       " message: 'Optimization terminated successfully.'\n",
       "    nfev: 282\n",
       "     nit: 3\n",
       "  status: 0\n",
       " success: True\n",
       "       x: array([40719.61622939, 29828.3615968 , 35709.0174598 , 18348.42156993])"
      ]
     },
     "execution_count": 16,
     "metadata": {},
     "output_type": "execute_result"
    }
   ],
   "source": [
    "sol = sopt.minimize(obj_eval,[10e3]*4,method='Powell',bounds=[(-50e3,50e3)]*4) # SLSQP, Powell\n",
    "sol"
   ]
  },
  {
   "cell_type": "code",
   "execution_count": 17,
   "metadata": {},
   "outputs": [
    {
     "ename": "NameError",
     "evalue": "name 'NonlinearConstraint' is not defined",
     "output_type": "error",
     "traceback": [
      "\u001b[1;31m---------------------------------------------------------------------------\u001b[0m",
      "\u001b[1;31mNameError\u001b[0m                                 Traceback (most recent call last)",
      "\u001b[1;32m~\\AppData\\Local\\Temp/ipykernel_22052/723215446.py\u001b[0m in \u001b[0;36m<module>\u001b[1;34m\u001b[0m\n\u001b[0;32m     29\u001b[0m \u001b[1;33m\u001b[0m\u001b[0m\n\u001b[0;32m     30\u001b[0m nlcs = (\n\u001b[1;32m---> 31\u001b[1;33m     \u001b[0mNonlinearConstraint\u001b[0m\u001b[1;33m(\u001b[0m\u001b[0mcontraint_I_R1_R2\u001b[0m\u001b[1;33m,\u001b[0m \u001b[1;33m-\u001b[0m\u001b[0mnp\u001b[0m\u001b[1;33m.\u001b[0m\u001b[0minf\u001b[0m\u001b[1;33m,\u001b[0m \u001b[1;36m160\u001b[0m\u001b[1;33m)\u001b[0m\u001b[1;33m,\u001b[0m\u001b[1;33m\u001b[0m\u001b[1;33m\u001b[0m\u001b[0m\n\u001b[0m\u001b[0;32m     32\u001b[0m     \u001b[0mNonlinearConstraint\u001b[0m\u001b[1;33m(\u001b[0m\u001b[0mcontraint_I_VSC_R1\u001b[0m\u001b[1;33m,\u001b[0m \u001b[1;33m-\u001b[0m\u001b[0mnp\u001b[0m\u001b[1;33m.\u001b[0m\u001b[0minf\u001b[0m\u001b[1;33m,\u001b[0m \u001b[1;36m160\u001b[0m\u001b[1;33m)\u001b[0m\u001b[1;33m,\u001b[0m\u001b[1;33m\u001b[0m\u001b[1;33m\u001b[0m\u001b[0m\n\u001b[0;32m     33\u001b[0m     \u001b[0mNonlinearConstraint\u001b[0m\u001b[1;33m(\u001b[0m\u001b[0mcontraint_I_VSC_R10\u001b[0m\u001b[1;33m,\u001b[0m \u001b[1;33m-\u001b[0m\u001b[0mnp\u001b[0m\u001b[1;33m.\u001b[0m\u001b[0minf\u001b[0m\u001b[1;33m,\u001b[0m \u001b[1;36m20\u001b[0m\u001b[1;33m)\u001b[0m\u001b[1;33m,\u001b[0m\u001b[1;33m\u001b[0m\u001b[1;33m\u001b[0m\u001b[0m\n",
      "\u001b[1;31mNameError\u001b[0m: name 'NonlinearConstraint' is not defined"
     ]
    }
   ],
   "source": [
    "def contraint_I_R1_R2(x):\n",
    "    grid.set_values({'p_R10':x[0],'q_R10':x[1]})\n",
    "    grid.set_values({'p_R14':x[2],'q_R14':x[3]})\n",
    "    grid.ss()\n",
    "    I_R1_R2 = np.abs(grid_c0.get_value('i_l_R1_R2_a_r')+1j*grid_c0.get_value('i_l_R1_R2_a_i'))\n",
    "    return I_R1_R2\n",
    "\n",
    "def contraint_I_VSC_R1(x):\n",
    "    grid.set_values({'p_R10':x[0],'q_R10':x[1]})\n",
    "    grid.set_values({'p_R14':x[2],'q_R14':x[3]})\n",
    "    grid.ss()\n",
    "    I_VSC_R1 = np.abs(grid_c0.get_value('i_vsc_R1_a_r')+1j*grid_c0.get_value('i_vsc_R1_a_i'))\n",
    "    return I_VSC_R1\n",
    "\n",
    "def contraint_I_VSC_R10(x):\n",
    "    grid.set_values({'p_R10':x[0],'q_R10':x[1]})\n",
    "    grid.set_values({'p_R14':x[2],'q_R14':x[3]})\n",
    "    grid.ss()\n",
    "    I_VSC_R10 = np.abs(grid_c0.get_value('i_vsc_R10_a_r')+1j*grid_c0.get_value('i_vsc_R10_a_i'))\n",
    "    return I_VSC_R10\n",
    "\n",
    "def contraint_I_VSC_R14(x):\n",
    "    grid.set_values({'p_R10':x[0],'q_R10':x[1]})\n",
    "    grid.set_values({'p_R14':x[2],'q_R14':x[3]})\n",
    "    grid.ss()\n",
    "    I_VSC_R14 = np.abs(grid_c0.get_value('i_vsc_R14_a_r')+1j*grid_c0.get_value('i_vsc_R14_a_i'))\n",
    "    return I_VSC_R14\n",
    "\n",
    "\n",
    "nlcs = (\n",
    "    NonlinearConstraint(contraint_I_R1_R2, -np.inf, 160),\n",
    "    NonlinearConstraint(contraint_I_VSC_R1, -np.inf, 160),\n",
    "    NonlinearConstraint(contraint_I_VSC_R10, -np.inf, 20),\n",
    "    NonlinearConstraint(contraint_I_VSC_R14, -np.inf, 30),\n",
    "    \n",
    ")\n",
    "\n",
    "sopt.differential_evolution(obj_eval, bounds=[(-50e3,50e3)]*4,constraints=(nlcs), tol=1e-10)"
   ]
  },
  {
   "cell_type": "code",
   "execution_count": null,
   "metadata": {},
   "outputs": [],
   "source": [
    "           constr: [array([0.])]\n",
    " constr_violation: 0.0\n",
    "              fun: 394250.2397244236\n",
    "            maxcv: 0.0\n",
    "          message: 'Optimization terminated successfully.'\n",
    "             nfev: 5090\n",
    "              nit: 162\n",
    "          success: True\n",
    "                x: array([48825.59389023, 32058.74316143, 40651.51398465, 19213.75435129])"
   ]
  },
  {
   "cell_type": "code",
   "execution_count": 109,
   "metadata": {},
   "outputs": [
    {
     "data": {
      "text/plain": [
       "128.84763241935278"
      ]
     },
     "execution_count": 109,
     "metadata": {},
     "output_type": "execute_result"
    }
   ],
   "source": [
    "I_VSC_R1 = np.abs(grid_c0.get_value('i_vsc_R1_a_r')+1j*grid_c0.get_value('i_vsc_R1_a_i'))\n",
    "I_VSC_R1"
   ]
  },
  {
   "cell_type": "code",
   "execution_count": 65,
   "metadata": {},
   "outputs": [
    {
     "data": {
      "text/plain": [
       "[<matplotlib.lines.Line2D at 0x1f46cfccd60>]"
      ]
     },
     "execution_count": 65,
     "metadata": {},
     "output_type": "execute_result"
    },
    {
     "data": {
      "image/png": "[encoded data removed]",
      "text/plain": [
       "<Figure size 600x500 with 1 Axes>"
      ]
     },
     "metadata": {
      "needs_background": "light"
     },
     "output_type": "display_data"
    }
   ],
   "source": [
    "p_loss_1 = []\n",
    "p_loss_2 = []\n",
    "qs_1 = np.linspace(-40e3,40e3)\n",
    "for q in qs_1:\n",
    "    p_loss_1 += [obj_eval(np.array([0,0,0,q]))]\n",
    "    p_loss_2 += [obj_eval(np.array([40e3,q,40e3,0]))]\n",
    "fig, axes = plt.subplots(nrows=1,ncols=1, figsize=(6, 5), dpi=100)\n",
    "\n",
    "axes.plot(qs_1,p_loss_1)\n",
    "#axes.plot(qs_1,p_loss_2)"
   ]
  },
  {
   "cell_type": "code",
   "execution_count": 117,
   "metadata": {},
   "outputs": [
    {
     "data": {
      "text/html": [
       "\n",
       "\n",
       "\n",
       "\n",
       "\n",
       "\n",
       "  <div class=\"bk-root\" id=\"5fe017f8-133f-4c5f-ad72-ae6d8ca48b4f\" data-root-id=\"2803\"></div>\n"
      ]
     },
     "metadata": {},
     "output_type": "display_data"
    },
    {
     "data": {
      "application/javascript": [
       "(function(root) {\n",
       "  function embed_document(root) {\n",
       "    \n",
       "  var docs_json = {\"42a288e2-c0af-4af0-849b-07026c6b278d\":{\"defs\":[],\"roots\":{\"references\":[{\"attributes\":{\"below\":[{\"id\":\"2814\"}],\"center\":[{\"id\":\"2817\"},{\"id\":\"2821\"}],\"height\":400,\"left\":[{\"id\":\"2818\"}],\"renderers\":[{\"id\":\"2840\"},{\"id\":\"2846\"},{\"id\":\"2852\"}],\"title\":{\"id\":\"2804\"},\"toolbar\":{\"id\":\"2829\"},\"x_range\":{\"id\":\"2806\"},\"x_scale\":{\"id\":\"2810\"},\"y_range\":{\"id\":\"2808\"},\"y_scale\":{\"id\":\"2812\"}},\"id\":\"2803\",\"subtype\":\"Figure\",\"type\":\"Plot\"},{\"attributes\":{},\"id\":\"2815\",\"type\":\"BasicTicker\"},{\"attributes\":{\"axis\":{\"id\":\"2814\"},\"ticker\":null},\"id\":\"2817\",\"type\":\"Grid\"},{\"attributes\":{},\"id\":\"2989\",\"type\":\"AllLabels\"},{\"attributes\":{},\"id\":\"2997\",\"type\":\"Selection\"},{\"attributes\":{\"axis\":{\"id\":\"2818\"},\"dimension\":1,\"ticker\":null},\"id\":\"2821\",\"type\":\"Grid\"},{\"attributes\":{},\"id\":\"2819\",\"type\":\"BasicTicker\"},{\"attributes\":{},\"id\":\"2996\",\"type\":\"UnionRenderers\"},{\"attributes\":{\"active_multi\":null,\"tools\":[{\"id\":\"2822\"},{\"id\":\"2823\"},{\"id\":\"2824\"},{\"id\":\"2825\"},{\"id\":\"2826\"},{\"id\":\"2827\"},{\"id\":\"2854\"},{\"id\":\"2856\"},{\"id\":\"2858\"}]},\"id\":\"2829\",\"type\":\"Toolbar\"},{\"attributes\":{\"data\":{\"deg_1a\":[-12.413530147537584],\"deg_1b\":[-132.42980648986912],\"deg_1c\":[107.6700092167613],\"deg_1n\":[180.0],\"deg_2a\":[137.63420616745884],\"deg_2b\":[17.5798945972066],\"deg_2c\":[-102.38745393160379],\"deg_2n\":[-37.34069623643484],\"i_1a_m\":[11.614675321786613],\"i_1b_m\":[11.593242776315934],\"i_1c_m\":[11.601119013627024],\"i_1n_m\":[7.105427357601002e-15],\"i_2a_m\":[580.9365254175021],\"i_2b_m\":[580.2133255674072],\"i_2c_m\":[579.3016300945978],\"i_2n_m\":[161.45952793148658],\"trafo_id\":[\"R0-R1\"],\"x_s\":[[0,0]],\"y_s\":[[20,0]]},\"selected\":{\"id\":\"2995\"},\"selection_policy\":{\"id\":\"2994\"}},\"id\":\"2836\",\"type\":\"ColumnDataSource\"},{\"attributes\":{},\"id\":\"2823\",\"type\":\"WheelZoomTool\"},{\"attributes\":{},\"id\":\"2822\",\"type\":\"PanTool\"},{\"attributes\":{\"overlay\":{\"id\":\"2828\"}},\"id\":\"2824\",\"type\":\"BoxZoomTool\"},{\"attributes\":{\"formatter\":{\"id\":\"2988\"},\"major_label_policy\":{\"id\":\"2989\"},\"ticker\":{\"id\":\"2815\"}},\"id\":\"2814\",\"type\":\"LinearAxis\"},{\"attributes\":{},\"id\":\"2825\",\"type\":\"SaveTool\"},{\"attributes\":{},\"id\":\"2826\",\"type\":\"ResetTool\"},{\"attributes\":{},\"id\":\"2998\",\"type\":\"UnionRenderers\"},{\"attributes\":{\"data\":{\"bus_id\":[\"R0\",\"R1\",\"R2\",\"R3\",\"R4\",\"R5\",\"R6\",\"R7\",\"R8\",\"R9\",\"R10\",\"R11\",\"R12\",\"R13\",\"R14\",\"R15\",\"R16\",\"R17\",\"R18\",\"D1\",\"D3\",\"D4\",\"D6\",\"D9\",\"D10\",\"D11\",\"D16\",\"D17\",\"D18\",\"D14\",\"D15\"],\"deg_an\":[\"0.00\",\"-31.73\",\"-31.81\",\"-31.88\",\"-31.96\",\"-32.02\",\"-32.08\",\"-32.13\",\"-32.19\",\"-32.24\",\"-32.29\",\"-31.84\",\"-32.01\",\"-32.06\",\"-32.11\",\"-31.97\",\"-31.95\",\"-32.16\",\"-32.18\",\"0.00\",\"0.00\",\"0.00\",\"0.00\",\"0.00\",\"0.00\",\"0.00\",\"0.00\",\"0.00\",\"0.00\",\"0.00\",\"0.00\"],\"deg_bn\":[\"-120.00\",\"-151.73\",\"-151.84\",\"-151.95\",\"-152.06\",\"-152.15\",\"-152.24\",\"-152.29\",\"-152.35\",\"-152.41\",\"-152.45\",\"-151.92\",\"-152.11\",\"-152.16\",\"-152.21\",\"-152.10\",\"-152.13\",\"-152.35\",\"-152.36\",\"180.00\",\"180.00\",\"180.00\",\"180.00\",\"180.00\",\"180.00\",\"180.00\",\"180.00\",\"180.00\",\"180.00\",\"180.00\",\"180.00\"],\"deg_cn\":[\"120.00\",\"88.28\",\"88.19\",\"88.10\",\"88.02\",\"87.95\",\"87.89\",\"87.84\",\"87.80\",\"87.75\",\"87.73\",\"88.14\",\"87.98\",\"87.93\",\"87.89\",\"88.01\",\"88.00\",\"87.82\",\"87.82\",\"180.00\",\"180.00\",\"180.00\",\"180.00\",\"180.00\",\"180.00\",\"180.00\",\"180.00\",\"180.00\",\"180.00\",\"180.00\",\"180.00\"],\"deg_ng\":[\"0.00\",\"112.50\",\"112.94\",\"113.50\",\"113.98\",\"114.74\",\"115.62\",\"115.35\",\"115.08\",\"114.82\",\"113.68\",\"113.66\",\"113.83\",\"113.67\",\"113.55\",\"114.45\",\"116.74\",\"115.60\",\"114.73\",\"0.00\",\"0.00\",\"0.00\",\"0.00\",\"0.00\",\"0.00\",\"0.00\",\"0.00\",\"0.00\",\"0.00\",\"0.00\",\"0.00\"],\"p_a\":[\"130.98\",\"-93.39\",\"0.00\",\"0.00\",\"0.00\",\"0.00\",\"0.00\",\"0.00\",\"0.00\",\"0.00\",\"15.90\",\"-4.75\",\"0.00\",\"0.00\",\"13.50\",\"-16.47\",\"-17.42\",\"-11.08\",\"-14.88\",\"89.62\",\"0.00\",\"0.00\",\"0.00\",\"0.00\",\"-47.97\",\"0.00\",\"0.00\",\"0.00\",\"0.00\",\"-40.66\",\"0.00\"],\"p_abc\":[\"392.58\",\"-280.17\",\"0.00\",\"0.00\",\"0.00\",\"0.00\",\"0.00\",\"0.00\",\"0.00\",\"0.00\",\"47.71\",\"-14.25\",\"0.00\",\"0.00\",\"40.50\",\"-49.40\",\"-52.25\",\"-33.25\",\"-44.65\",\"89.62\",\"0.00\",\"0.00\",\"0.00\",\"0.00\",\"-47.97\",\"0.00\",\"0.00\",\"0.00\",\"0.00\",\"-40.66\",\"0.00\"],\"p_b\":[\"130.73\",\"-93.39\",\"-0.00\",\"-0.00\",\"-0.00\",\"-0.00\",\"-0.00\",\"-0.00\",\"-0.00\",\"-0.00\",\"15.90\",\"-4.75\",\"-0.00\",\"-0.00\",\"13.50\",\"-16.47\",\"-17.42\",\"-11.08\",\"-14.88\",\"0.00\",\"0.00\",\"0.00\",\"0.00\",\"0.00\",\"0.00\",\"0.00\",\"0.00\",\"0.00\",\"0.00\",\"0.00\",\"0.00\"],\"p_c\":[\"130.87\",\"-93.39\",\"0.00\",\"0.00\",\"0.00\",\"0.00\",\"0.00\",\"0.00\",\"0.00\",\"0.00\",\"15.90\",\"-4.75\",\"0.00\",\"0.00\",\"13.50\",\"-16.47\",\"-17.42\",\"-11.08\",\"-14.88\",\"-0.00\",\"0.00\",\"0.00\",\"0.00\",\"0.00\",\"0.00\",\"0.00\",\"0.00\",\"0.00\",\"0.00\",\"0.00\",\"0.00\"],\"q_a\":[\"28.83\",\"-20.82\",\"-0.00\",\"-0.00\",\"-0.00\",\"-0.00\",\"-0.00\",\"-0.00\",\"-0.00\",\"-0.00\",\"11.41\",\"-1.56\",\"-0.00\",\"-0.00\",\"6.57\",\"-5.41\",\"-5.72\",\"-3.64\",\"-4.89\",\"0.00\",\"0.00\",\"0.00\",\"0.00\",\"0.00\",\"-0.00\",\"0.00\",\"0.00\",\"0.00\",\"0.00\",\"-0.00\",\"0.00\"],\"q_abc\":[\"86.25\",\"-62.45\",\"0.00\",\"0.00\",\"0.00\",\"0.00\",\"0.00\",\"0.00\",\"0.00\",\"0.00\",\"34.23\",\"-4.68\",\"0.00\",\"0.00\",\"19.71\",\"-16.24\",\"-17.17\",\"-10.93\",\"-14.68\",\"0.00\",\"0.00\",\"0.00\",\"0.00\",\"0.00\",\"0.00\",\"0.00\",\"0.00\",\"0.00\",\"0.00\",\"0.00\",\"0.00\"],\"q_b\":[\"28.81\",\"-20.82\",\"0.00\",\"0.00\",\"0.00\",\"0.00\",\"0.00\",\"0.00\",\"0.00\",\"0.00\",\"11.41\",\"-1.56\",\"0.00\",\"0.00\",\"6.57\",\"-5.41\",\"-5.72\",\"-3.64\",\"-4.89\",\"0.00\",\"0.00\",\"0.00\",\"0.00\",\"0.00\",\"0.00\",\"0.00\",\"0.00\",\"0.00\",\"0.00\",\"0.00\",\"0.00\"],\"q_c\":[\"28.61\",\"-20.82\",\"0.00\",\"0.00\",\"0.00\",\"0.00\",\"0.00\",\"0.00\",\"0.00\",\"0.00\",\"11.41\",\"-1.56\",\"0.00\",\"0.00\",\"6.57\",\"-5.41\",\"-5.72\",\"-3.64\",\"-4.89\",\"0.00\",\"0.00\",\"0.00\",\"0.00\",\"0.00\",\"0.00\",\"0.00\",\"0.00\",\"0.00\",\"0.00\",\"0.00\",\"0.00\"],\"s_color\":[\"red\",\"green\",\"blue\",\"blue\",\"blue\",\"blue\",\"blue\",\"blue\",\"blue\",\"blue\",\"red\",\"green\",\"blue\",\"blue\",\"red\",\"green\",\"green\",\"green\",\"green\",\"red\",\"blue\",\"blue\",\"blue\",\"blue\",\"green\",\"blue\",\"blue\",\"blue\",\"blue\",\"green\",\"blue\"],\"s_radio\":[6.3398725106559555,5.3577007672862615,1,1,1,1,1,1,1,1,2.4233163389555727,1.2247448713915892,1,1,2.1223076828055243,2.280350850198276,2.345207879911715,1.8708286933869707,2.16794833886788,2.9935892632398753,1,1,1,1,2.190131623925054,1,1,1,1,2.0163594289814646,1],\"u_avg_pu\":[\"1.000\",\"0.986\",\"0.982\",\"0.977\",\"0.974\",\"0.971\",\"0.968\",\"0.967\",\"0.966\",\"0.965\",\"0.965\",\"0.975\",\"0.972\",\"0.971\",\"0.969\",\"0.959\",\"0.959\",\"0.959\",\"0.958\",\"1.155\",\"1.155\",\"1.155\",\"1.155\",\"1.155\",\"1.155\",\"1.155\",\"1.155\",\"1.155\",\"1.155\",\"1.155\",\"1.155\"],\"v_ab\":[19999.99067499782,394.2677069351389,392.4977874000534,390.7286093552697,389.2150735434235,387.82895636629286,386.44329104427624,386.0097575529225,385.57652599719216,385.1435767422296,385.3166573868881,389.6267493751372,388.5245571440711,387.8343068584742,387.1442989850498,383.25916285938905,382.91673989994337,382.8996618758715,382.29875155155725,800.0,798.345237165995,797.5178557489927,796.6206832689602,795.2749245489255,794.8904220574902,798.345237165995,796.6206832689602,795.2749245489255,794.8904220574902,796.381470218031,796.381470218031],\"v_an\":[\"11547.00\",\"227.64\",\"226.47\",\"225.30\",\"224.30\",\"223.39\",\"222.48\",\"222.19\",\"221.90\",\"221.60\",\"221.71\",\"224.65\",\"223.89\",\"223.48\",\"223.06\",\"220.75\",\"220.38\",\"220.27\",\"219.91\",\"799.89\",\"796.58\",\"794.92\",\"793.13\",\"790.44\",\"789.67\",\"796.58\",\"793.13\",\"790.44\",\"789.67\",\"792.65\",\"792.65\"],\"v_an_pu\":[\"1.0000\",\"0.9857\",\"0.9806\",\"0.9756\",\"0.9713\",\"0.9673\",\"0.9634\",\"0.9621\",\"0.9608\",\"0.9596\",\"0.9600\",\"0.9727\",\"0.9695\",\"0.9677\",\"0.9659\",\"0.9559\",\"0.9543\",\"0.9538\",\"0.9522\",\"3.4636\",\"3.4493\",\"3.4421\",\"3.4344\",\"3.4227\",\"3.4194\",\"3.4493\",\"3.4344\",\"3.4227\",\"3.4194\",\"3.4323\",\"3.4323\"],\"v_bc\":[19999.990674997825,394.2745318849129,392.7615068453979,391.24928154390375,389.9595828257062,388.77467675575326,387.59025802391085,387.2311329205925,386.8722710293649,386.5136535182867,386.679791063458,390.1829757147895,389.2962286417342,388.63312481487293,387.97024955880994,384.21823359714136,384.1900931813807,384.35209201398186,383.7729133263572,0.0,2.6803687875755413e-29,4.0205531813633164e-29,4.0205531813632357e-29,4.020553181363137e-29,4.0205531813631146e-29,2.680368787575546e-29,4.0205531813632357e-29,4.020553181363137e-29,4.02055318136311e-29,8.041106362726767e-29,9.381290756514578e-29],\"v_bn\":[\"11547.00\",\"227.63\",\"226.67\",\"225.71\",\"224.90\",\"224.15\",\"223.40\",\"223.18\",\"222.96\",\"222.74\",\"222.86\",\"225.08\",\"224.51\",\"224.13\",\"223.74\",\"221.52\",\"221.38\",\"221.46\",\"221.14\",\"0.11\",\"1.77\",\"2.59\",\"3.49\",\"4.84\",\"5.22\",\"1.77\",\"3.49\",\"4.84\",\"5.22\",\"3.73\",\"3.73\"],\"v_bn_pu\":[\"1.0000\",\"0.9857\",\"0.9815\",\"0.9774\",\"0.9738\",\"0.9706\",\"0.9673\",\"0.9664\",\"0.9654\",\"0.9645\",\"0.9650\",\"0.9746\",\"0.9722\",\"0.9705\",\"0.9688\",\"0.9592\",\"0.9586\",\"0.9589\",\"0.9575\",\"0.0005\",\"0.0077\",\"0.0112\",\"0.0151\",\"0.0209\",\"0.0226\",\"0.0077\",\"0.0151\",\"0.0209\",\"0.0226\",\"0.0162\",\"0.0162\"],\"v_ca\":[19999.99067499783,394.2917470405987,392.6333868505971,390.97659008895596,389.5686598833186,388.2698686103297,386.972016703521,386.5959076098871,386.2202036511412,385.844906010744,386.05600685642554,389.88262741345494,388.900409805272,388.2324596478263,387.5648109616801,383.7096990639962,383.4748726772613,383.6192652133894,383.0622606053145,800.0,798.345237165995,797.5178557489927,796.6206832689602,795.2749245489255,794.8904220574902,798.345237165995,796.6206832689602,795.2749245489255,794.8904220574902,796.381470218031,796.381470218031],\"v_cn\":[\"11547.00\",\"227.64\",\"226.91\",\"226.19\",\"225.57\",\"225.00\",\"224.43\",\"224.27\",\"224.10\",\"223.94\",\"224.03\",\"225.59\",\"225.20\",\"224.84\",\"224.47\",\"222.37\",\"222.53\",\"222.73\",\"222.41\",\"0.11\",\"1.77\",\"2.59\",\"3.49\",\"4.84\",\"5.22\",\"1.77\",\"3.49\",\"4.84\",\"5.22\",\"3.73\",\"3.73\"],\"v_cn_pu\":[\"1.0000\",\"0.9857\",\"0.9826\",\"0.9794\",\"0.9768\",\"0.9743\",\"0.9718\",\"0.9711\",\"0.9704\",\"0.9697\",\"0.9701\",\"0.9768\",\"0.9752\",\"0.9736\",\"0.9720\",\"0.9629\",\"0.9636\",\"0.9645\",\"0.9631\",\"0.0005\",\"0.0077\",\"0.0112\",\"0.0151\",\"0.0209\",\"0.0226\",\"0.0077\",\"0.0151\",\"0.0209\",\"0.0226\",\"0.0162\",\"0.0162\"],\"v_ng\":[\"0.00\",\"1.84\",\"1.71\",\"1.58\",\"1.48\",\"1.38\",\"1.28\",\"1.25\",\"1.21\",\"1.17\",\"1.17\",\"1.57\",\"1.46\",\"1.45\",\"1.44\",\"1.38\",\"1.23\",\"1.14\",\"1.13\",\"0.11\",\"1.77\",\"2.59\",\"3.49\",\"4.84\",\"5.22\",\"1.77\",\"3.49\",\"4.84\",\"5.22\",\"3.73\",\"3.73\"],\"v_unb\":[\"0.0\",\"0.0\",\"0.1\",\"0.2\",\"0.3\",\"0.4\",\"0.4\",\"0.5\",\"0.5\",\"0.5\",\"0.5\",\"0.2\",\"0.3\",\"0.3\",\"0.3\",\"0.4\",\"0.5\",\"0.6\",\"0.6\",\"199.9\",\"198.7\",\"198.1\",\"197.4\",\"196.4\",\"196.1\",\"198.7\",\"197.4\",\"196.4\",\"196.1\",\"197.2\",\"197.2\"],\"x\":[0,0,0,0,0,0,0,0,0,0,0,-30,35,70,105,105,-35,30,-30,4,4,4,4,4,4,-30,-35,30,-30,109,109],\"y\":[20,0,-35,-70,-105,-140,-175,-210,-245,-280,-315,-70,-105,-105,-105,-140,-175,-280,-315,0,-55,-90,-190,-265,-330,-55,-190,-265,-330,-90,-140]},\"selected\":{\"id\":\"2999\"},\"selection_policy\":{\"id\":\"2998\"}},\"id\":\"2848\",\"type\":\"ColumnDataSource\"},{\"attributes\":{\"source\":{\"id\":\"2848\"}},\"id\":\"2853\",\"type\":\"CDSView\"},{\"attributes\":{\"line_alpha\":{\"value\":0.5},\"line_color\":{\"value\":\"green\"},\"line_width\":{\"value\":5},\"xs\":{\"field\":\"x_s\"},\"ys\":{\"field\":\"y_s\"}},\"id\":\"2838\",\"type\":\"MultiLine\"},{\"attributes\":{},\"id\":\"2999\",\"type\":\"Selection\"},{\"attributes\":{\"callback\":null,\"renderers\":[{\"id\":\"2846\"}],\"tooltips\":\"\\n            <div>\\n            line id = @line_id \\n            <table border=\\\"5\\\">\\n                <tr >\\n                    <td>I<sub>ja</sub> =  @i_j_a_m &ang; @deg_j_a </td>\\n                    <td>I<sub>ka</sub> =  @i_k_a_m &ang; @deg_k_a </td>\\n                </tr>\\n                <tr>\\n                    <td >I<sub>jb</sub> =  @i_j_b_m &ang; @deg_j_b </td>\\n                    <td >I<sub>kb</sub> =  @i_k_b_m &ang; @deg_k_b </td>\\n                </tr>\\n                <tr>\\n                    <td >I<sub>jc</sub> =  @i_j_c_m &ang; @deg_j_c </td>\\n                    <td >I<sub>kc</sub> =  @i_k_c_m &ang; @deg_k_c </td>\\n                </tr>\\n                <tr>\\n                    <td >I<sub>jn</sub> =  @i_j_n_m &ang; @deg_j_n </td>\\n                    <td >I<sub>kn</sub> =  @i_k_n_m &ang; @deg_k_n </td>\\n                </tr>\\n            </table>            \\n            </div>\\n            \"},\"id\":\"2856\",\"type\":\"HoverTool\"},{\"attributes\":{\"fill_alpha\":{\"value\":0.5},\"fill_color\":{\"value\":\"navy\"},\"line_alpha\":{\"value\":0.5},\"line_color\":{\"value\":\"navy\"},\"size\":{\"value\":15},\"x\":{\"field\":\"x\"},\"y\":{\"field\":\"y\"}},\"id\":\"2850\",\"type\":\"Circle\"},{\"attributes\":{\"data_source\":{\"id\":\"2836\"},\"glyph\":{\"id\":\"2838\"},\"hover_glyph\":null,\"muted_glyph\":null,\"nonselection_glyph\":{\"id\":\"2839\"},\"view\":{\"id\":\"2841\"}},\"id\":\"2840\",\"type\":\"GlyphRenderer\"},{\"attributes\":{\"data_source\":{\"id\":\"2848\"},\"glyph\":{\"id\":\"2850\"},\"hover_glyph\":null,\"muted_glyph\":null,\"nonselection_glyph\":{\"id\":\"2851\"},\"view\":{\"id\":\"2853\"}},\"id\":\"2852\",\"type\":\"GlyphRenderer\"},{\"attributes\":{\"callback\":null,\"renderers\":[{\"id\":\"2852\"}],\"tooltips\":\"\\n            <div>\\n            bus_id = @bus_id &nbsp &nbsp |  u<sub>avg</sub>= @u_avg_pu pu |  u<sub>unb</sub>= @v_unb %\\n            <table border=\\\"1\\\">\\n                <tr>\\n                <td>v<sub>an</sub> =  @v_an  &ang; @deg_an V </td> <td> S<sub>a</sub> = @p_a + j@q_a kVA</td>\\n                </tr>\\n                      <tr>\\n                      <td> </td> <td>v<sub>ab</sub>= @v_ab V</td>\\n                      </tr>\\n                <tr>\\n                <td>v<sub>bn</sub> = @v_bn &ang; @deg_bn V </td><td> S<sub>b</sub> = @p_b + j@q_b kVA</td>\\n                </tr>\\n                      <tr>\\n                      <td> </td><td>v<sub>bc</sub>= @v_bc V</td>\\n                      </tr>\\n                <tr>\\n                <td>v<sub>cn</sub>  = @v_cn &ang; @deg_cn V </td>  <td>S<sub>c</sub> = @p_c + j@q_c kVA </td>\\n                </tr> \\n                    <tr>\\n                     <td> </td> <td>v<sub>ca</sub>= @v_ca V</td>\\n                    </tr>\\n               <tr>\\n                <td>v<sub>ng</sub>    = @v_ng &ang; @deg_ng V</td>  <td>S<sub>abc</sub> = @p_abc + j@q_abc kVA </td>\\n              </tr>\\n            </table>\\n            </div>\\n            \"},\"id\":\"2858\",\"type\":\"HoverTool\"},{\"attributes\":{\"source\":{\"id\":\"2842\"}},\"id\":\"2847\",\"type\":\"CDSView\"},{\"attributes\":{\"fill_alpha\":{\"value\":0.1},\"fill_color\":{\"value\":\"navy\"},\"line_alpha\":{\"value\":0.1},\"line_color\":{\"value\":\"navy\"},\"size\":{\"value\":15},\"x\":{\"field\":\"x\"},\"y\":{\"field\":\"y\"}},\"id\":\"2851\",\"type\":\"Circle\"},{\"attributes\":{\"line_alpha\":{\"value\":0.1},\"line_color\":{\"value\":\"green\"},\"line_width\":{\"value\":5},\"xs\":{\"field\":\"x_s\"},\"ys\":{\"field\":\"y_s\"}},\"id\":\"2839\",\"type\":\"MultiLine\"},{\"attributes\":{\"line_alpha\":{\"value\":0.5},\"line_color\":{\"value\":\"red\"},\"line_width\":{\"value\":5},\"xs\":{\"field\":\"x_s\"},\"ys\":{\"field\":\"y_s\"}},\"id\":\"2844\",\"type\":\"MultiLine\"},{\"attributes\":{\"source\":{\"id\":\"2836\"}},\"id\":\"2841\",\"type\":\"CDSView\"},{\"attributes\":{},\"id\":\"2994\",\"type\":\"UnionRenderers\"},{\"attributes\":{\"data\":{\"deg_j_a\":[-37.34069623643484,-37.34069623640645,-35.335528972528955,-38.01570287130249,-38.015702871269994,-16.703185548610882,-16.703185548532964,-16.70318554843915,65.49795992927399,-50.039437423588566,-12.219580262385648,-12.219580262432247,-12.219580262483738,-50.16454241395472,-50.14909359285908,-50.35633286528499,-50.37917744031333,0.0,0.0,0.0,0.0,0.0,0.0,0.0,0.0,0.0,0.0,0.0],\"deg_j_b\":[-157.5209013704047,-157.52090137039488,-155.52514788142534,-158.20996977109252,-158.2099697710817,-136.88452554010848,-136.88452554007898,-136.88452554004726,-54.59424913188414,-170.11560747892003,-132.3424865254291,-132.3424865254712,-132.34248652551244,-170.29128789005767,-170.3276224451901,-170.54027524831358,-170.55683249087846,180.0,180.0,0.0,0.0,0.0,180.0,0.0,0.0,0.0,180.0,180.0],\"deg_j_c\":[82.61824987809304,82.61824987811615,84.63386806911035,81.93994356544393,81.93994356547017,103.33070110150224,103.33070110155778,103.3307011016074,-174.36136938057714,69.94220909661979,107.89032859065298,107.89032859063865,107.89032859061896,69.81145199699218,69.80019800571104,69.62835418639672,69.62253864889071,0.0,0.0,0.0,180.0,0.0,0.0,0.0,0.0,180.0,0.0,0.0],\"deg_j_n\":[114.46063944449124,114.65969633716145,114.79667629992582,115.26033376924455,115.26033377550239,114.7691891496112,114.76918915860396,114.66160851131558,114.19505197930036,113.65753925630587,114.04846212474244,114.04846212481394,114.44738897674922,114.44738897759288,116.74156316907138,115.60312020692643,114.72522483983161,180.0,180.0,180.0,180.0,180.0,0.0,0.0,0.0,0.0,180.0,0.0],\"deg_k_a\":[-37.34069623643484,-37.34069623640645,-35.335528972528955,-38.01570287130249,-38.015702871269994,-16.703185548610882,-16.703185548532964,-16.70318554843915,65.49795992927399,-50.039437423588566,-12.219580262385648,-12.219580262432247,-12.219580262483738,-50.16454241395472,-50.14909359285908,-50.35633286528499,-50.37917744031333,0.0,0.0,0.0,0.0,0.0,0.0,0.0,0.0,0.0,0.0,0.0],\"deg_k_b\":[-157.5209013704047,-157.52090137039488,-155.52514788142534,-158.20996977109252,-158.2099697710817,-136.88452554010848,-136.88452554007898,-136.88452554004726,-54.59424913188414,-170.11560747892003,-132.3424865254291,-132.3424865254712,-132.34248652551244,-170.29128789005767,-170.3276224451901,-170.54027524831358,-170.55683249087846,180.0,180.0,0.0,0.0,0.0,180.0,0.0,0.0,0.0,180.0,180.0],\"deg_k_c\":[82.61824987809304,82.61824987811615,84.63386806911035,81.93994356544393,81.93994356547017,103.33070110150224,103.33070110155778,103.3307011016074,-174.36136938057714,69.94220909661979,107.89032859065298,107.89032859063865,107.89032859061896,69.81145199699218,69.80019800571104,69.62835418639672,69.62253864889071,0.0,0.0,0.0,180.0,0.0,0.0,0.0,0.0,180.0,0.0,0.0],\"deg_k_n\":[114.46063944449124,114.65969633716145,114.79667629992582,115.26033376924455,115.26033377550239,114.7691891496112,114.76918915860396,114.66160851131558,114.19505197930036,113.65753925630587,114.04846212474244,114.04846212481394,114.44738897674922,114.44738897759288,116.74156316907138,115.60312020692643,114.72522483983161,180.0,180.0,180.0,180.0,180.0,0.0,0.0,0.0,0.0,180.0,0.0],\"i_j_a_m\":[161.45952793148658,161.45952793147512,139.8323802899366,126.15118638735092,126.15118638734448,48.10947222636983,48.109472226380944,48.10947222639763,29.62591151034332,22.25719536697348,15.025556865086536,15.025556865109317,15.02555686512746,78.51967617125077,83.19022611604365,52.966075368897776,71.24155341303614,112.03539837542485,112.03539837538847,60.742889643363014,60.742889642730006,60.74288964222069,0.0,0.0,0.0,0.0,51.2925087321928,0.0],\"i_j_b_m\":[160.6840698412053,160.68406984119423,139.08896932894368,125.49940287466177,125.49940287465608,47.80330585069722,47.80330585069804,47.80330585070987,29.46227803180994,22.214007968579967,14.933105722751916,14.933105722779173,14.933105722806465,78.24877130805275,82.81441849646319,52.681091512542395,70.8460870962918,1.608147728786265e-27,1.6081477287862714e-27,5.488605825067444e-41,3.6411339297016047e-41,3.5873240686715317e-41,7.174648137343063e-42,0.0,0.0,0.0,1.6081477287863196e-27,1.608147728786313e-27],\"i_j_c_m\":[159.8187785721413,159.8187785721596,138.28069518319808,124.77306727811639,124.77306727812974,47.50232689443201,47.50232689446501,47.50232689450647,29.328550434782514,22.16385398839544,14.852319092085096,14.852319092108331,14.852319092134653,77.94783109789923,82.38528769853939,52.380195047974226,70.44145561892081,2.065907868369857e-28,2.065907868369857e-28,0.0,8.11632070536934e-42,0.0,0.0,0.0,0.0,7.084965035626275e-42,2.0659078683699376e-28,2.065907868369918e-28],\"i_j_n_m\":[0.36844180827807954,0.3257195556382746,0.28655640872189525,0.17893899502105867,0.17893899499646515,0.11608688339587238,0.11608688337103741,0.08589765316076918,0.057439081925422686,0.03916995736580603,0.07074160779101915,0.07074160779013262,0.034507753737113185,0.03450775373657927,0.03080366170860474,0.028464318509602876,0.028188393498779968,112.03539837672069,112.0353983767207,60.74288964297759,60.74288964298029,60.742889642983755,0.0,0.0,0.0,0.0,51.29250873374265,0.0],\"i_k_a_m\":[161.45952793148658,161.45952793147512,139.8323802899366,126.15118638735092,126.15118638734448,48.10947222636983,48.109472226380944,48.10947222639763,29.62591151034332,22.25719536697348,15.025556865086536,15.025556865109317,15.02555686512746,78.51967617125077,83.19022611604365,52.966075368897776,71.24155341303614,112.03539837542485,112.03539837538847,60.742889643363014,60.742889642730006,60.74288964222069,0.0,0.0,0.0,0.0,51.2925087321928,0.0],\"i_k_b_m\":[160.6840698412053,160.68406984119423,139.08896932894368,125.49940287466177,125.49940287465608,47.80330585069722,47.80330585069804,47.80330585070987,29.46227803180994,22.214007968579967,14.933105722751916,14.933105722779173,14.933105722806465,78.24877130805275,82.81441849646319,52.681091512542395,70.8460870962918,1.608147728786265e-27,1.6081477287862714e-27,5.488605825067444e-41,3.6411339297016047e-41,3.5873240686715317e-41,7.174648137343063e-42,0.0,0.0,0.0,1.6081477287863196e-27,1.608147728786313e-27],\"i_k_c_m\":[159.8187785721413,159.8187785721596,138.28069518319808,124.77306727811639,124.77306727812974,47.50232689443201,47.50232689446501,47.50232689450647,29.328550434782514,22.16385398839544,14.852319092085096,14.852319092108331,14.852319092134653,77.94783109789923,82.38528769853939,52.380195047974226,70.44145561892081,2.065907868369857e-28,2.065907868369857e-28,0.0,8.11632070536934e-42,0.0,0.0,0.0,0.0,7.084965035626275e-42,2.0659078683699376e-28,2.065907868369918e-28],\"i_k_n_m\":[0.36844180827807954,0.3257195556382746,0.28655640872189525,0.17893899502105867,0.17893899499646515,0.11608688339587238,0.11608688337103741,0.08589765316076918,0.057439081925422686,0.03916995736580603,0.07074160779101915,0.07074160779013262,0.034507753737113185,0.03450775373657927,0.03080366170860474,0.028464318509602876,0.028188393498779968,112.03539837672069,112.0353983767207,60.74288964297759,60.74288964298029,60.742889642983755,0.0,0.0,0.0,0.0,51.29250873374265,0.0],\"line_id\":[\"R1-R2\",\"R2-R3\",\"R3-R4\",\"R4-R5\",\"R5-R6\",\"R6-R7\",\"R7-R8\",\"R8-R9\",\"R9-R10\",\"R3-R11\",\"R4-R12\",\"R12-R13\",\"R13-R14\",\"R14-R15\",\"R6-R16\",\"R9-R17\",\"R10-R18\",\"D1-D3\",\"D3-D4\",\"D4-D6\",\"D6-D9\",\"D9-D10\",\"D3-D11\",\"D6-D16\",\"D9-D17\",\"D10-D18\",\"D4-D14\",\"D14-D15\"],\"x_s\":[[0,0],[0,0],[0,0],[0,0],[0,0],[0,0],[0,0],[0,0],[0,0],[0,-30],[0,35],[35,70],[70,105],[105,105],[0,-35],[0,30],[0,-30],[4,4],[4,4],[4,4],[4,4],[4,4],[4,-30],[4,-35],[4,30],[4,-30],[4,109],[109,109]],\"y_s\":[[0,-35],[-35,-70],[-70,-105],[-105,-140],[-140,-175],[-175,-210],[-210,-245],[-245,-280],[-280,-315],[-70,-70],[-105,-105],[-105,-105],[-105,-105],[-105,-140],[-175,-175],[-280,-280],[-315,-315],[0,-55],[-55,-90],[-90,-190],[-190,-265],[-265,-330],[-55,-55],[-190,-190],[-265,-265],[-330,-330],[-90,-90],[-90,-140]]},\"selected\":{\"id\":\"2997\"},\"selection_policy\":{\"id\":\"2996\"}},\"id\":\"2842\",\"type\":\"ColumnDataSource\"},{\"attributes\":{\"line_alpha\":{\"value\":0.1},\"line_color\":{\"value\":\"red\"},\"line_width\":{\"value\":5},\"xs\":{\"field\":\"x_s\"},\"ys\":{\"field\":\"y_s\"}},\"id\":\"2845\",\"type\":\"MultiLine\"},{\"attributes\":{},\"id\":\"2806\",\"type\":\"DataRange1d\"},{\"attributes\":{\"data_source\":{\"id\":\"2842\"},\"glyph\":{\"id\":\"2844\"},\"hover_glyph\":null,\"muted_glyph\":null,\"nonselection_glyph\":{\"id\":\"2845\"},\"view\":{\"id\":\"2847\"}},\"id\":\"2846\",\"type\":\"GlyphRenderer\"},{\"attributes\":{},\"id\":\"2995\",\"type\":\"Selection\"},{\"attributes\":{\"callback\":null,\"renderers\":[{\"id\":\"2840\"}],\"tooltips\":\"\\n            <div>\\n            transformer id = @trafo_id  \\n            <table border=\\\"5\\\">\\n                <tr >\\n                    <td>I<sub>1a</sub> =  @i_1a_m &ang; @deg_1a </td>\\n                    <td>I<sub>2a</sub> =  @i_2a_m &ang; @deg_2a </td>\\n                </tr>\\n                <tr>\\n                    <td >I<sub>1b</sub> =  @i_1b_m &ang; @deg_1b </td>\\n                    <td >I<sub>2b</sub> =  @i_2b_m &ang; @deg_2b </td>\\n                </tr>\\n                <tr>\\n                    <td >I<sub>1c</sub> =  @i_1c_m &ang; @deg_1c </td>\\n                    <td >I<sub>2c</sub> =  @i_2c_m &ang; @deg_2c </td>\\n                </tr>\\n                <tr>\\n                    <td >I<sub>1n</sub> =  @i_1n_m &ang; @deg_1n </td>\\n                    <td >I<sub>2n</sub> =  @i_2n_m &ang; @deg_2n </td>\\n                </tr>\\n            </table>            \\n            </div>\\n            \"},\"id\":\"2854\",\"type\":\"HoverTool\"},{\"attributes\":{\"text\":\"Results\"},\"id\":\"2804\",\"type\":\"Title\"},{\"attributes\":{},\"id\":\"2991\",\"type\":\"BasicTickFormatter\"},{\"attributes\":{\"formatter\":{\"id\":\"2991\"},\"major_label_policy\":{\"id\":\"2992\"},\"ticker\":{\"id\":\"2819\"}},\"id\":\"2818\",\"type\":\"LinearAxis\"},{\"attributes\":{},\"id\":\"2992\",\"type\":\"AllLabels\"},{\"attributes\":{\"bottom_units\":\"screen\",\"fill_alpha\":0.5,\"fill_color\":\"lightgrey\",\"left_units\":\"screen\",\"level\":\"overlay\",\"line_alpha\":1.0,\"line_color\":\"black\",\"line_dash\":[4,4],\"line_width\":2,\"right_units\":\"screen\",\"syncable\":false,\"top_units\":\"screen\"},\"id\":\"2828\",\"type\":\"BoxAnnotation\"},{\"attributes\":{},\"id\":\"2812\",\"type\":\"LinearScale\"},{\"attributes\":{},\"id\":\"2808\",\"type\":\"DataRange1d\"},{\"attributes\":{},\"id\":\"2810\",\"type\":\"LinearScale\"},{\"attributes\":{},\"id\":\"2827\",\"type\":\"HelpTool\"},{\"attributes\":{},\"id\":\"2988\",\"type\":\"BasicTickFormatter\"}],\"root_ids\":[\"2803\"]},\"title\":\"Bokeh Application\",\"version\":\"2.3.1\"}};\n",
       "  var render_items = [{\"docid\":\"42a288e2-c0af-4af0-849b-07026c6b278d\",\"root_ids\":[\"2803\"],\"roots\":{\"2803\":\"5fe017f8-133f-4c5f-ad72-ae6d8ca48b4f\"}}];\n",
       "  root.Bokeh.embed.embed_items_notebook(docs_json, render_items);\n",
       "\n",
       "  }\n",
       "  if (root.Bokeh !== undefined) {\n",
       "    embed_document(root);\n",
       "  } else {\n",
       "    var attempts = 0;\n",
       "    var timer = setInterval(function(root) {\n",
       "      if (root.Bokeh !== undefined) {\n",
       "        clearInterval(timer);\n",
       "        embed_document(root);\n",
       "      } else {\n",
       "        attempts++;\n",
       "        if (attempts > 100) {\n",
       "          clearInterval(timer);\n",
       "          console.log(\"Bokeh: ERROR: Unable to run BokehJS code because BokehJS library is missing\");\n",
       "        }\n",
       "      }\n",
       "    }, 10, root)\n",
       "  }\n",
       "})(window);"
      ],
      "application/vnd.bokehjs_exec.v0+json": ""
     },
     "metadata": {
      "application/vnd.bokehjs_exec.v0+json": {
       "id": "2803"
      }
     },
     "output_type": "display_data"
    },
    {
     "data": {
      "text/html": [
       "<div style=\"display: table;\"><div style=\"display: table-row;\"><div style=\"display: table-cell;\"><b title=\"bokeh.plotting.figure.Figure\">Figure</b>(</div><div style=\"display: table-cell;\">id&nbsp;=&nbsp;'2803', <span id=\"3071\" style=\"cursor: pointer;\">&hellip;)</span></div></div><div class=\"3070\" style=\"display: none;\"><div style=\"display: table-cell;\"></div><div style=\"display: table-cell;\">above&nbsp;=&nbsp;[],</div></div><div class=\"3070\" style=\"display: none;\"><div style=\"display: table-cell;\"></div><div style=\"display: table-cell;\">align&nbsp;=&nbsp;'start',</div></div><div class=\"3070\" style=\"display: none;\"><div style=\"display: table-cell;\"></div><div style=\"display: table-cell;\">aspect_ratio&nbsp;=&nbsp;None,</div></div><div class=\"3070\" style=\"display: none;\"><div style=\"display: table-cell;\"></div><div style=\"display: table-cell;\">aspect_scale&nbsp;=&nbsp;1,</div></div><div class=\"3070\" style=\"display: none;\"><div style=\"display: table-cell;\"></div><div style=\"display: table-cell;\">background&nbsp;=&nbsp;None,</div></div><div class=\"3070\" style=\"display: none;\"><div style=\"display: table-cell;\"></div><div style=\"display: table-cell;\">background_fill_alpha&nbsp;=&nbsp;1.0,</div></div><div class=\"3070\" style=\"display: none;\"><div style=\"display: table-cell;\"></div><div style=\"display: table-cell;\">background_fill_color&nbsp;=&nbsp;'#ffffff',</div></div><div class=\"3070\" style=\"display: none;\"><div style=\"display: table-cell;\"></div><div style=\"display: table-cell;\">below&nbsp;=&nbsp;[LinearAxis(id='2814', ...)],</div></div><div class=\"3070\" style=\"display: none;\"><div style=\"display: table-cell;\"></div><div style=\"display: table-cell;\">border_fill_alpha&nbsp;=&nbsp;1.0,</div></div><div class=\"3070\" style=\"display: none;\"><div style=\"display: table-cell;\"></div><div style=\"display: table-cell;\">border_fill_color&nbsp;=&nbsp;'#ffffff',</div></div><div class=\"3070\" style=\"display: none;\"><div style=\"display: table-cell;\"></div><div style=\"display: table-cell;\">center&nbsp;=&nbsp;[Grid(id='2817', ...), Grid(id='2821', ...)],</div></div><div class=\"3070\" style=\"display: none;\"><div style=\"display: table-cell;\"></div><div style=\"display: table-cell;\">css_classes&nbsp;=&nbsp;[],</div></div><div class=\"3070\" style=\"display: none;\"><div style=\"display: table-cell;\"></div><div style=\"display: table-cell;\">disabled&nbsp;=&nbsp;False,</div></div><div class=\"3070\" style=\"display: none;\"><div style=\"display: table-cell;\"></div><div style=\"display: table-cell;\">extra_x_ranges&nbsp;=&nbsp;{},</div></div><div class=\"3070\" style=\"display: none;\"><div style=\"display: table-cell;\"></div><div style=\"display: table-cell;\">extra_y_ranges&nbsp;=&nbsp;{},</div></div><div class=\"3070\" style=\"display: none;\"><div style=\"display: table-cell;\"></div><div style=\"display: table-cell;\">frame_height&nbsp;=&nbsp;None,</div></div><div class=\"3070\" style=\"display: none;\"><div style=\"display: table-cell;\"></div><div style=\"display: table-cell;\">frame_width&nbsp;=&nbsp;None,</div></div><div class=\"3070\" style=\"display: none;\"><div style=\"display: table-cell;\"></div><div style=\"display: table-cell;\">height&nbsp;=&nbsp;400,</div></div><div class=\"3070\" style=\"display: none;\"><div style=\"display: table-cell;\"></div><div style=\"display: table-cell;\">height_policy&nbsp;=&nbsp;'auto',</div></div><div class=\"3070\" style=\"display: none;\"><div style=\"display: table-cell;\"></div><div style=\"display: table-cell;\">hidpi&nbsp;=&nbsp;True,</div></div><div class=\"3070\" style=\"display: none;\"><div style=\"display: table-cell;\"></div><div style=\"display: table-cell;\">inner_height&nbsp;=&nbsp;0,</div></div><div class=\"3070\" style=\"display: none;\"><div style=\"display: table-cell;\"></div><div style=\"display: table-cell;\">inner_width&nbsp;=&nbsp;0,</div></div><div class=\"3070\" style=\"display: none;\"><div style=\"display: table-cell;\"></div><div style=\"display: table-cell;\">js_event_callbacks&nbsp;=&nbsp;{},</div></div><div class=\"3070\" style=\"display: none;\"><div style=\"display: table-cell;\"></div><div style=\"display: table-cell;\">js_property_callbacks&nbsp;=&nbsp;{},</div></div><div class=\"3070\" style=\"display: none;\"><div style=\"display: table-cell;\"></div><div style=\"display: table-cell;\">left&nbsp;=&nbsp;[LinearAxis(id='2818', ...)],</div></div><div class=\"3070\" style=\"display: none;\"><div style=\"display: table-cell;\"></div><div style=\"display: table-cell;\">lod_factor&nbsp;=&nbsp;10,</div></div><div class=\"3070\" style=\"display: none;\"><div style=\"display: table-cell;\"></div><div style=\"display: table-cell;\">lod_interval&nbsp;=&nbsp;300,</div></div><div class=\"3070\" style=\"display: none;\"><div style=\"display: table-cell;\"></div><div style=\"display: table-cell;\">lod_threshold&nbsp;=&nbsp;2000,</div></div><div class=\"3070\" style=\"display: none;\"><div style=\"display: table-cell;\"></div><div style=\"display: table-cell;\">lod_timeout&nbsp;=&nbsp;500,</div></div><div class=\"3070\" style=\"display: none;\"><div style=\"display: table-cell;\"></div><div style=\"display: table-cell;\">margin&nbsp;=&nbsp;(0, 0, 0, 0),</div></div><div class=\"3070\" style=\"display: none;\"><div style=\"display: table-cell;\"></div><div style=\"display: table-cell;\">match_aspect&nbsp;=&nbsp;False,</div></div><div class=\"3070\" style=\"display: none;\"><div style=\"display: table-cell;\"></div><div style=\"display: table-cell;\">max_height&nbsp;=&nbsp;None,</div></div><div class=\"3070\" style=\"display: none;\"><div style=\"display: table-cell;\"></div><div style=\"display: table-cell;\">max_width&nbsp;=&nbsp;None,</div></div><div class=\"3070\" style=\"display: none;\"><div style=\"display: table-cell;\"></div><div style=\"display: table-cell;\">min_border&nbsp;=&nbsp;5,</div></div><div class=\"3070\" style=\"display: none;\"><div style=\"display: table-cell;\"></div><div style=\"display: table-cell;\">min_border_bottom&nbsp;=&nbsp;None,</div></div><div class=\"3070\" style=\"display: none;\"><div style=\"display: table-cell;\"></div><div style=\"display: table-cell;\">min_border_left&nbsp;=&nbsp;None,</div></div><div class=\"3070\" style=\"display: none;\"><div style=\"display: table-cell;\"></div><div style=\"display: table-cell;\">min_border_right&nbsp;=&nbsp;None,</div></div><div class=\"3070\" style=\"display: none;\"><div style=\"display: table-cell;\"></div><div style=\"display: table-cell;\">min_border_top&nbsp;=&nbsp;None,</div></div><div class=\"3070\" style=\"display: none;\"><div style=\"display: table-cell;\"></div><div style=\"display: table-cell;\">min_height&nbsp;=&nbsp;None,</div></div><div class=\"3070\" style=\"display: none;\"><div style=\"display: table-cell;\"></div><div style=\"display: table-cell;\">min_width&nbsp;=&nbsp;None,</div></div><div class=\"3070\" style=\"display: none;\"><div style=\"display: table-cell;\"></div><div style=\"display: table-cell;\">name&nbsp;=&nbsp;None,</div></div><div class=\"3070\" style=\"display: none;\"><div style=\"display: table-cell;\"></div><div style=\"display: table-cell;\">outer_height&nbsp;=&nbsp;0,</div></div><div class=\"3070\" style=\"display: none;\"><div style=\"display: table-cell;\"></div><div style=\"display: table-cell;\">outer_width&nbsp;=&nbsp;0,</div></div><div class=\"3070\" style=\"display: none;\"><div style=\"display: table-cell;\"></div><div style=\"display: table-cell;\">outline_line_alpha&nbsp;=&nbsp;1.0,</div></div><div class=\"3070\" style=\"display: none;\"><div style=\"display: table-cell;\"></div><div style=\"display: table-cell;\">outline_line_cap&nbsp;=&nbsp;'butt',</div></div><div class=\"3070\" style=\"display: none;\"><div style=\"display: table-cell;\"></div><div style=\"display: table-cell;\">outline_line_color&nbsp;=&nbsp;'#e5e5e5',</div></div><div class=\"3070\" style=\"display: none;\"><div style=\"display: table-cell;\"></div><div style=\"display: table-cell;\">outline_line_dash&nbsp;=&nbsp;[],</div></div><div class=\"3070\" style=\"display: none;\"><div style=\"display: table-cell;\"></div><div style=\"display: table-cell;\">outline_line_dash_offset&nbsp;=&nbsp;0,</div></div><div class=\"3070\" style=\"display: none;\"><div style=\"display: table-cell;\"></div><div style=\"display: table-cell;\">outline_line_join&nbsp;=&nbsp;'bevel',</div></div><div class=\"3070\" style=\"display: none;\"><div style=\"display: table-cell;\"></div><div style=\"display: table-cell;\">outline_line_width&nbsp;=&nbsp;1,</div></div><div class=\"3070\" style=\"display: none;\"><div style=\"display: table-cell;\"></div><div style=\"display: table-cell;\">output_backend&nbsp;=&nbsp;'canvas',</div></div><div class=\"3070\" style=\"display: none;\"><div style=\"display: table-cell;\"></div><div style=\"display: table-cell;\">renderers&nbsp;=&nbsp;[GlyphRenderer(id='2840', ...), GlyphRenderer(id='2846', ...), GlyphRenderer(id='2852', ...)],</div></div><div class=\"3070\" style=\"display: none;\"><div style=\"display: table-cell;\"></div><div style=\"display: table-cell;\">reset_policy&nbsp;=&nbsp;'standard',</div></div><div class=\"3070\" style=\"display: none;\"><div style=\"display: table-cell;\"></div><div style=\"display: table-cell;\">right&nbsp;=&nbsp;[],</div></div><div class=\"3070\" style=\"display: none;\"><div style=\"display: table-cell;\"></div><div style=\"display: table-cell;\">sizing_mode&nbsp;=&nbsp;None,</div></div><div class=\"3070\" style=\"display: none;\"><div style=\"display: table-cell;\"></div><div style=\"display: table-cell;\">subscribed_events&nbsp;=&nbsp;[],</div></div><div class=\"3070\" style=\"display: none;\"><div style=\"display: table-cell;\"></div><div style=\"display: table-cell;\">syncable&nbsp;=&nbsp;True,</div></div><div class=\"3070\" style=\"display: none;\"><div style=\"display: table-cell;\"></div><div style=\"display: table-cell;\">tags&nbsp;=&nbsp;[],</div></div><div class=\"3070\" style=\"display: none;\"><div style=\"display: table-cell;\"></div><div style=\"display: table-cell;\">title&nbsp;=&nbsp;Title(id='2804', ...),</div></div><div class=\"3070\" style=\"display: none;\"><div style=\"display: table-cell;\"></div><div style=\"display: table-cell;\">title_location&nbsp;=&nbsp;'above',</div></div><div class=\"3070\" style=\"display: none;\"><div style=\"display: table-cell;\"></div><div style=\"display: table-cell;\">toolbar&nbsp;=&nbsp;Toolbar(id='2829', ...),</div></div><div class=\"3070\" style=\"display: none;\"><div style=\"display: table-cell;\"></div><div style=\"display: table-cell;\">toolbar_location&nbsp;=&nbsp;'right',</div></div><div class=\"3070\" style=\"display: none;\"><div style=\"display: table-cell;\"></div><div style=\"display: table-cell;\">toolbar_sticky&nbsp;=&nbsp;True,</div></div><div class=\"3070\" style=\"display: none;\"><div style=\"display: table-cell;\"></div><div style=\"display: table-cell;\">visible&nbsp;=&nbsp;True,</div></div><div class=\"3070\" style=\"display: none;\"><div style=\"display: table-cell;\"></div><div style=\"display: table-cell;\">width&nbsp;=&nbsp;600,</div></div><div class=\"3070\" style=\"display: none;\"><div style=\"display: table-cell;\"></div><div style=\"display: table-cell;\">width_policy&nbsp;=&nbsp;'auto',</div></div><div class=\"3070\" style=\"display: none;\"><div style=\"display: table-cell;\"></div><div style=\"display: table-cell;\">x_range&nbsp;=&nbsp;DataRange1d(id='2806', ...),</div></div><div class=\"3070\" style=\"display: none;\"><div style=\"display: table-cell;\"></div><div style=\"display: table-cell;\">x_scale&nbsp;=&nbsp;LinearScale(id='2810', ...),</div></div><div class=\"3070\" style=\"display: none;\"><div style=\"display: table-cell;\"></div><div style=\"display: table-cell;\">y_range&nbsp;=&nbsp;DataRange1d(id='2808', ...),</div></div><div class=\"3070\" style=\"display: none;\"><div style=\"display: table-cell;\"></div><div style=\"display: table-cell;\">y_scale&nbsp;=&nbsp;LinearScale(id='2812', ...))</div></div></div>\n",
       "<script>\n",
       "(function() {\n",
       "  var expanded = false;\n",
       "  var ellipsis = document.getElementById(\"3071\");\n",
       "  ellipsis.addEventListener(\"click\", function() {\n",
       "    var rows = document.getElementsByClassName(\"3070\");\n",
       "    for (var i = 0; i < rows.length; i++) {\n",
       "      var el = rows[i];\n",
       "      el.style.display = expanded ? \"none\" : \"table-row\";\n",
       "    }\n",
       "    ellipsis.innerHTML = expanded ? \"&hellip;)\" : \"&lsaquo;&lsaquo;&lsaquo;\";\n",
       "    expanded = !expanded;\n",
       "  });\n",
       "})();\n",
       "</script>\n"
      ],
      "text/plain": [
       "Figure(id='2803', ...)"
      ]
     },
     "execution_count": 117,
     "metadata": {},
     "output_type": "execute_result"
    }
   ],
   "source": [
    "gt_grid = gt.grid(grid)\n",
    "gt_grid.dae2vi()\n",
    "\n",
    "gt_grid.get_v()\n",
    "gt_grid.get_i()\n",
    "\n",
    "gt_grid.bokeh_tools()\n",
    "\n",
    "gt.plot_results(gt_grid)"
   ]
  },
  {
   "cell_type": "markdown",
   "metadata": {},
   "source": [
    "## Case 1"
   ]
  },
  {
   "cell_type": "code",
   "execution_count": 9,
   "metadata": {},
   "outputs": [],
   "source": [
    "scale = 1.5\n",
    "loads_ac =[{\"bus\":  \"R1\", \"kVA\":-200.0, \"pf\": 0.95},\n",
    "           {\"bus\": \"R11\", \"kVA\": -15.0*scale, \"pf\": 0.95},\n",
    "           {\"bus\": \"R15\", \"kVA\": -52.0*scale, \"pf\": 0.95},\n",
    "           {\"bus\": \"R16\", \"kVA\": -55.0*scale, \"pf\": 0.95},\n",
    "           {\"bus\": \"R17\", \"kVA\": -35.0*scale, \"pf\": 0.95},\n",
    "           {\"bus\": \"R18\", \"kVA\": -47.0*scale, \"pf\": 0.95}]\n",
    "\n",
    "loads_dc =[{\"bus\": \"D11\", \"kW\": 0.0},\n",
    "           {\"bus\": \"D15\", \"kW\": 0.0},\n",
    "           {\"bus\": \"D16\", \"kW\": 0.0},\n",
    "           {\"bus\": \"D17\", \"kW\": 0.0},\n",
    "           {\"bus\": \"D18\", \"kW\": 0.0}]\n",
    "\n",
    "vscs =[{\"bus\":  \"R10\", \"kW\":0.0, \"kvar\": 0.0},\n",
    "        {\"bus\": \"R14\", \"kW\":0.0, \"kvar\": 0.0}]"
   ]
  },
  {
   "cell_type": "code",
   "execution_count": 10,
   "metadata": {},
   "outputs": [
    {
     "ename": "NameError",
     "evalue": "name 'cigre_europe_residential_acdc_class' is not defined",
     "output_type": "error",
     "traceback": [
      "\u001b[1;31m---------------------------------------------------------------------------\u001b[0m",
      "\u001b[1;31mNameError\u001b[0m                                 Traceback (most recent call last)",
      "\u001b[1;32m<ipython-input-10-4a2651ebf4c2>\u001b[0m in \u001b[0;36m<module>\u001b[1;34m\u001b[0m\n\u001b[1;32m----> 1\u001b[1;33m \u001b[0mgrid_c1\u001b[0m \u001b[1;33m=\u001b[0m \u001b[0mcigre_europe_residential_acdc_class\u001b[0m\u001b[1;33m(\u001b[0m\u001b[1;33m)\u001b[0m\u001b[1;33m\u001b[0m\u001b[1;33m\u001b[0m\u001b[0m\n\u001b[0m\u001b[0;32m      2\u001b[0m \u001b[0mgrid_c1\u001b[0m\u001b[1;33m.\u001b[0m\u001b[0minitialization_tol\u001b[0m \u001b[1;33m=\u001b[0m \u001b[1;36m1e-8\u001b[0m\u001b[1;33m\u001b[0m\u001b[1;33m\u001b[0m\u001b[0m\n\u001b[0;32m      3\u001b[0m \u001b[1;33m\u001b[0m\u001b[0m\n\u001b[0;32m      4\u001b[0m \u001b[1;32mfor\u001b[0m \u001b[0mload\u001b[0m \u001b[1;32min\u001b[0m \u001b[0mloads_ac\u001b[0m\u001b[1;33m:\u001b[0m\u001b[1;33m\u001b[0m\u001b[1;33m\u001b[0m\u001b[0m\n\u001b[0;32m      5\u001b[0m     \u001b[0mbus_name\u001b[0m \u001b[1;33m=\u001b[0m \u001b[0mload\u001b[0m\u001b[1;33m[\u001b[0m\u001b[1;34m'bus'\u001b[0m\u001b[1;33m]\u001b[0m\u001b[1;33m\u001b[0m\u001b[1;33m\u001b[0m\u001b[0m\n",
      "\u001b[1;31mNameError\u001b[0m: name 'cigre_europe_residential_acdc_class' is not defined"
     ]
    }
   ],
   "source": [
    "grid_c1 = cigre_europe_residential_acdc_class()\n",
    "grid_c1.initialization_tol = 1e-8\n",
    "\n",
    "for load in loads_ac:\n",
    "    bus_name = load['bus']\n",
    "    s = load['kVA']*np.exp(1j*np.arccos( load['pf']))*1000\n",
    "    gt.set_powers(grid_c1,bus_name,s)\n",
    "\n",
    "for load in loads_dc:\n",
    "    bus_name = load['bus']\n",
    "    grid_c1.set_value(f'p_{bus_name}_1',load['kW']*1000.0)\n",
    "    grid_c1.set_value(f'q_{bus_name}_1',0.0)\n",
    "    \n",
    "for vsc in vscs:\n",
    "    bus_name = load['bus']\n",
    "    s = vsc['kW'] + 1j*vsc['kvar']\n",
    "    grid_c1.set_value(f'p_{bus_name}',vsc['kW']*1000.0)\n",
    "    grid_c1.set_value(f'q_{bus_name}',vsc['kvar']*1000.0)\n",
    "\n",
    "\n",
    "grid_c1.initialize([{}],xy0='xy_0_dict.json',compile=True)\n",
    "gt_grid = gt.grid(grid_c1)\n"
   ]
  },
  {
   "cell_type": "code",
   "execution_count": 106,
   "metadata": {},
   "outputs": [
    {
     "ename": "NameError",
     "evalue": "name 'grid_c1' is not defined",
     "output_type": "error",
     "traceback": [
      "\u001b[1;31m---------------------------------------------------------------------------\u001b[0m",
      "\u001b[1;31mNameError\u001b[0m                                 Traceback (most recent call last)",
      "\u001b[1;32m~\\AppData\\Local\\Temp/ipykernel_22304/3707925384.py\u001b[0m in \u001b[0;36m<module>\u001b[1;34m\u001b[0m\n\u001b[0;32m      6\u001b[0m     \u001b[1;32mfor\u001b[0m \u001b[0mph\u001b[0m \u001b[1;32min\u001b[0m \u001b[1;33m[\u001b[0m\u001b[1;34m'a'\u001b[0m\u001b[1;33m,\u001b[0m\u001b[1;34m'b'\u001b[0m\u001b[1;33m,\u001b[0m\u001b[1;34m'c'\u001b[0m\u001b[1;33m]\u001b[0m\u001b[1;33m:\u001b[0m\u001b[1;33m\u001b[0m\u001b[1;33m\u001b[0m\u001b[0m\n\u001b[0;32m      7\u001b[0m         \u001b[0midx\u001b[0m \u001b[1;33m=\u001b[0m \u001b[0mlist\u001b[0m\u001b[1;33m(\u001b[0m\u001b[0mgt_grid\u001b[0m\u001b[1;33m.\u001b[0m\u001b[0mnodes_list\u001b[0m\u001b[1;33m)\u001b[0m\u001b[1;33m.\u001b[0m\u001b[0mindex\u001b[0m\u001b[1;33m(\u001b[0m\u001b[1;34mf'{vsc_bus}.{a2n[ph]}'\u001b[0m\u001b[1;33m)\u001b[0m\u001b[1;33m\u001b[0m\u001b[1;33m\u001b[0m\u001b[0m\n\u001b[1;32m----> 8\u001b[1;33m         \u001b[0mgt_grid\u001b[0m\u001b[1;33m.\u001b[0m\u001b[0mI_node\u001b[0m\u001b[1;33m[\u001b[0m\u001b[0midx\u001b[0m\u001b[1;33m]\u001b[0m \u001b[1;33m+=\u001b[0m \u001b[0mgrid_c1\u001b[0m\u001b[1;33m.\u001b[0m\u001b[0mget_value\u001b[0m\u001b[1;33m(\u001b[0m\u001b[1;34mf'i_vsc_{vsc_bus}_{ph}_r'\u001b[0m\u001b[1;33m)\u001b[0m\u001b[1;33m+\u001b[0m\u001b[1;36m1j\u001b[0m\u001b[1;33m*\u001b[0m\u001b[0mgrid_c1\u001b[0m\u001b[1;33m.\u001b[0m\u001b[0mget_value\u001b[0m\u001b[1;33m(\u001b[0m\u001b[1;34mf'i_vsc_{vsc_bus}_{ph}_i'\u001b[0m\u001b[1;33m)\u001b[0m\u001b[1;33m\u001b[0m\u001b[1;33m\u001b[0m\u001b[0m\n\u001b[0m\u001b[0;32m      9\u001b[0m \u001b[1;33m\u001b[0m\u001b[0m\n\u001b[0;32m     10\u001b[0m \u001b[0mgt_grid\u001b[0m\u001b[1;33m.\u001b[0m\u001b[0mget_v\u001b[0m\u001b[1;33m(\u001b[0m\u001b[1;33m)\u001b[0m\u001b[1;33m\u001b[0m\u001b[1;33m\u001b[0m\u001b[0m\n",
      "\u001b[1;31mNameError\u001b[0m: name 'grid_c1' is not defined"
     ]
    }
   ],
   "source": [
    "gt_grid.dae2vi()\n",
    "\n",
    "vsc_buses = ['R1','R10','R14']\n",
    "a2n = {'a':1,'b':2,'c':3}\n",
    "for vsc_bus in vsc_buses:\n",
    "    for ph in ['a','b','c']:\n",
    "        idx = list(gt_grid.nodes_list).index(f'{vsc_bus}.{a2n[ph]}') \n",
    "        gt_grid.I_node[idx] += grid_c1.get_value(f'i_vsc_{vsc_bus}_{ph}_r')+1j*grid_c1.get_value(f'i_vsc_{vsc_bus}_{ph}_i')\n",
    "\n",
    "gt_grid.get_v()\n",
    "gt_grid.get_i()\n",
    "\n",
    "gt_grid.bokeh_tools()\n",
    "\n",
    "gt.plot_results(gt_grid)"
   ]
  },
  {
   "cell_type": "markdown",
   "metadata": {},
   "source": [
    "## Case 2"
   ]
  },
  {
   "cell_type": "code",
   "execution_count": 96,
   "metadata": {},
   "outputs": [],
   "source": [
    "scale_ac = 1.0\n",
    "scale_dc = 0.5\n",
    "\n",
    "loads_ac =[{\"bus\":  \"R1\", \"kVA\":-00.0, \"pf\": 0.95},\n",
    "           {\"bus\": \"R11\", \"kVA\": -15.0*scale_ac, \"pf\": 0.95},\n",
    "           {\"bus\": \"R15\", \"kVA\": -52.0*scale_ac, \"pf\": 0.95},\n",
    "           {\"bus\": \"R16\", \"kVA\": -55.0*scale_ac, \"pf\": 0.95},\n",
    "           {\"bus\": \"R17\", \"kVA\": -35.0*scale_ac, \"pf\": 0.95},\n",
    "           {\"bus\": \"R18\", \"kVA\": -47.0*scale_ac, \"pf\": 0.95}]\n",
    "\n",
    "loads_dc =[{\"bus\": \"D11\", \"kW\": -15.0*scale_dc},\n",
    "           {\"bus\": \"D15\", \"kW\": -52.0*scale_dc},\n",
    "           {\"bus\": \"D16\", \"kW\": -55.0*scale_dc},\n",
    "           {\"bus\": \"D17\", \"kW\": -35.0*scale_dc},\n",
    "           {\"bus\": \"D18\", \"kW\": -47.0*scale_dc}]\n",
    "\n",
    "vscs =[{\"bus\": \"R1\", \"type\":'vdc',\"kW\":0.0, \"kvar\": 0.0,'losses':vsc2params(vsc_losses,'vsc_3ph3w_250A_200kVA')},\n",
    "       {\"bus\": \"R10\",\"type\":'pq', \"kW\":10.0, \"kvar\": 0.0,'losses':vsc2params(vsc_losses,'vsc_3ph3w_250A_200kVA')},\n",
    "       {\"bus\": \"R14\",\"type\":'pq', \"kW\":10.0, \"kvar\": 0.0,'losses':vsc2params(vsc_losses,'vsc_3ph3w_250A_200kVA')}\n",
    "      ]\n"
   ]
  },
  {
   "cell_type": "code",
   "execution_count": 97,
   "metadata": {},
   "outputs": [],
   "source": [
    "grid_c2 = cigre_europe_residential_4w2w_class()\n",
    "grid_c2.initialization_tol = 1e-8\n",
    "\n",
    "grid_c2.p_ac_loads = 0.0\n",
    "for load in loads_ac:\n",
    "    bus_name = load['bus']\n",
    "    s = load['kVA']*np.exp(1j*np.arccos( load['pf']))*1000\n",
    "    gt.set_powers(grid_c2,bus_name,s)\n",
    "    grid_c2.p_ac_loads += s.real\n",
    "\n",
    "grid_c2.p_dc_loads = 0.0\n",
    "for load in loads_dc:\n",
    "    bus_name = load['bus']\n",
    "    grid_c2.set_value(f'p_{bus_name}_1',load['kW']*1000.0)\n",
    "    grid_c2.set_value(f'q_{bus_name}_1',0.0)\n",
    "    grid_c2.p_dc_loads += load['kW']*1000.0\n",
    "    \n",
    "for vsc in vscs:\n",
    "    bus_name = vsc['bus']\n",
    "    if vsc['bus'] == 'pq':\n",
    "        s = vsc['kW'] + 1j*vsc['kvar']\n",
    "        grid_c2.set_value(f'p_{bus_name}',vsc['kW']*1000.0)\n",
    "        grid_c2.set_value(f'q_{bus_name}',vsc['kvar']*1000.0)\n",
    "    grid_c2.set_value(f'a_{bus_name}',vsc['losses'][0])\n",
    "    grid_c2.set_value(f'b_{bus_name}',vsc['losses'][1])\n",
    "    grid_c2.set_value(f'c_{bus_name}',vsc['losses'][2])\n",
    "    \n",
    "grid_c2.initialize([{}],xy0='xy_0_dict.json',compile=True)\n",
    "gt_grid_c2 = gt.grid(grid_c2)\n"
   ]
  },
  {
   "cell_type": "code",
   "execution_count": 98,
   "metadata": {},
   "outputs": [
    {
     "data": {
      "text/html": [
       "\n",
       "\n",
       "\n",
       "\n",
       "\n",
       "\n",
       "  <div class=\"bk-root\" id=\"25ce2d2c-2863-4f8d-9839-e19b009b452a\" data-root-id=\"1863\"></div>\n"
      ]
     },
     "metadata": {},
     "output_type": "display_data"
    },
    {
     "data": {
      "application/javascript": [
       "(function(root) {\n",
       "  function embed_document(root) {\n",
       "    \n",
       "  var docs_json = {\"74f2bb30-84c3-42b2-96d3-078b29d527d4\":{\"defs\":[],\"roots\":{\"references\":[{\"attributes\":{\"below\":[{\"id\":\"1874\"}],\"center\":[{\"id\":\"1877\"},{\"id\":\"1881\"}],\"height\":400,\"left\":[{\"id\":\"1878\"}],\"renderers\":[{\"id\":\"1900\"},{\"id\":\"1906\"},{\"id\":\"1912\"}],\"title\":{\"id\":\"1864\"},\"toolbar\":{\"id\":\"1889\"},\"x_range\":{\"id\":\"1866\"},\"x_scale\":{\"id\":\"1870\"},\"y_range\":{\"id\":\"1868\"},\"y_scale\":{\"id\":\"1872\"}},\"id\":\"1863\",\"subtype\":\"Figure\",\"type\":\"Plot\"},{\"attributes\":{},\"id\":\"2001\",\"type\":\"Selection\"},{\"attributes\":{\"active_multi\":null,\"tools\":[{\"id\":\"1882\"},{\"id\":\"1883\"},{\"id\":\"1884\"},{\"id\":\"1885\"},{\"id\":\"1886\"},{\"id\":\"1887\"},{\"id\":\"1914\"},{\"id\":\"1916\"},{\"id\":\"1918\"}]},\"id\":\"1889\",\"type\":\"Toolbar\"},{\"attributes\":{},\"id\":\"1993\",\"type\":\"AllLabels\"},{\"attributes\":{},\"id\":\"1883\",\"type\":\"WheelZoomTool\"},{\"attributes\":{},\"id\":\"1996\",\"type\":\"AllLabels\"},{\"attributes\":{\"bottom_units\":\"screen\",\"fill_alpha\":0.5,\"fill_color\":\"lightgrey\",\"left_units\":\"screen\",\"level\":\"overlay\",\"line_alpha\":1.0,\"line_color\":\"black\",\"line_dash\":[4,4],\"line_width\":2,\"right_units\":\"screen\",\"syncable\":false,\"top_units\":\"screen\"},\"id\":\"1888\",\"type\":\"BoxAnnotation\"},{\"attributes\":{},\"id\":\"2003\",\"type\":\"Selection\"},{\"attributes\":{},\"id\":\"1995\",\"type\":\"BasicTickFormatter\"},{\"attributes\":{},\"id\":\"1870\",\"type\":\"LinearScale\"},{\"attributes\":{},\"id\":\"1887\",\"type\":\"HelpTool\"},{\"attributes\":{},\"id\":\"1886\",\"type\":\"ResetTool\"},{\"attributes\":{\"overlay\":{\"id\":\"1888\"}},\"id\":\"1884\",\"type\":\"BoxZoomTool\"},{\"attributes\":{\"source\":{\"id\":\"1896\"}},\"id\":\"1901\",\"type\":\"CDSView\"},{\"attributes\":{\"callback\":null,\"renderers\":[{\"id\":\"1900\"}],\"tooltips\":\"\\n            <div>\\n            transformer id = @trafo_id  \\n            <table border=\\\"5\\\">\\n                <tr >\\n                    <td>I<sub>1a</sub> =  @i_1a_m &ang; @deg_1a </td>\\n                    <td>I<sub>2a</sub> =  @i_2a_m &ang; @deg_2a </td>\\n                </tr>\\n                <tr>\\n                    <td >I<sub>1b</sub> =  @i_1b_m &ang; @deg_1b </td>\\n                    <td >I<sub>2b</sub> =  @i_2b_m &ang; @deg_2b </td>\\n                </tr>\\n                <tr>\\n                    <td >I<sub>1c</sub> =  @i_1c_m &ang; @deg_1c </td>\\n                    <td >I<sub>2c</sub> =  @i_2c_m &ang; @deg_2c </td>\\n                </tr>\\n                <tr>\\n                    <td >I<sub>1n</sub> =  @i_1n_m &ang; @deg_1n </td>\\n                    <td >I<sub>2n</sub> =  @i_2n_m &ang; @deg_2n </td>\\n                </tr>\\n            </table>            \\n            </div>\\n            \"},\"id\":\"1914\",\"type\":\"HoverTool\"},{\"attributes\":{\"axis\":{\"id\":\"1878\"},\"dimension\":1,\"ticker\":null},\"id\":\"1881\",\"type\":\"Grid\"},{\"attributes\":{},\"id\":\"1885\",\"type\":\"SaveTool\"},{\"attributes\":{\"data_source\":{\"id\":\"1902\"},\"glyph\":{\"id\":\"1904\"},\"hover_glyph\":null,\"muted_glyph\":null,\"nonselection_glyph\":{\"id\":\"1905\"},\"view\":{\"id\":\"1907\"}},\"id\":\"1906\",\"type\":\"GlyphRenderer\"},{\"attributes\":{\"axis\":{\"id\":\"1874\"},\"ticker\":null},\"id\":\"1877\",\"type\":\"Grid\"},{\"attributes\":{\"line_alpha\":{\"value\":0.1},\"line_color\":{\"value\":\"red\"},\"line_width\":{\"value\":5},\"xs\":{\"field\":\"x_s\"},\"ys\":{\"field\":\"y_s\"}},\"id\":\"1905\",\"type\":\"MultiLine\"},{\"attributes\":{},\"id\":\"2002\",\"type\":\"UnionRenderers\"},{\"attributes\":{},\"id\":\"1868\",\"type\":\"DataRange1d\"},{\"attributes\":{\"fill_alpha\":{\"value\":0.5},\"fill_color\":{\"value\":\"navy\"},\"line_alpha\":{\"value\":0.5},\"line_color\":{\"value\":\"navy\"},\"size\":{\"value\":15},\"x\":{\"field\":\"x\"},\"y\":{\"field\":\"y\"}},\"id\":\"1910\",\"type\":\"Circle\"},{\"attributes\":{\"callback\":null,\"renderers\":[{\"id\":\"1912\"}],\"tooltips\":\"\\n            <div>\\n            bus_id = @bus_id &nbsp &nbsp |  u<sub>avg</sub>= @u_avg_pu pu |  u<sub>unb</sub>= @v_unb %\\n            <table border=\\\"1\\\">\\n                <tr>\\n                <td>v<sub>an</sub> =  @v_an  &ang; @deg_an V </td> <td> S<sub>a</sub> = @p_a + j@q_a kVA</td>\\n                </tr>\\n                      <tr>\\n                      <td> </td> <td>v<sub>ab</sub>= @v_ab V</td>\\n                      </tr>\\n                <tr>\\n                <td>v<sub>bn</sub> = @v_bn &ang; @deg_bn V </td><td> S<sub>b</sub> = @p_b + j@q_b kVA</td>\\n                </tr>\\n                      <tr>\\n                      <td> </td><td>v<sub>bc</sub>= @v_bc V</td>\\n                      </tr>\\n                <tr>\\n                <td>v<sub>cn</sub>  = @v_cn &ang; @deg_cn V </td>  <td>S<sub>c</sub> = @p_c + j@q_c kVA </td>\\n                </tr> \\n                    <tr>\\n                     <td> </td> <td>v<sub>ca</sub>= @v_ca V</td>\\n                    </tr>\\n               <tr>\\n                <td>v<sub>ng</sub>    = @v_ng &ang; @deg_ng V</td>  <td>S<sub>abc</sub> = @p_abc + j@q_abc kVA </td>\\n              </tr>\\n            </table>\\n            </div>\\n            \"},\"id\":\"1918\",\"type\":\"HoverTool\"},{\"attributes\":{},\"id\":\"1998\",\"type\":\"UnionRenderers\"},{\"attributes\":{\"line_alpha\":{\"value\":0.5},\"line_color\":{\"value\":\"red\"},\"line_width\":{\"value\":5},\"xs\":{\"field\":\"x_s\"},\"ys\":{\"field\":\"y_s\"}},\"id\":\"1904\",\"type\":\"MultiLine\"},{\"attributes\":{\"data_source\":{\"id\":\"1908\"},\"glyph\":{\"id\":\"1910\"},\"hover_glyph\":null,\"muted_glyph\":null,\"nonselection_glyph\":{\"id\":\"1911\"},\"view\":{\"id\":\"1913\"}},\"id\":\"1912\",\"type\":\"GlyphRenderer\"},{\"attributes\":{\"callback\":null,\"renderers\":[{\"id\":\"1906\"}],\"tooltips\":\"\\n            <div>\\n            line id = @line_id \\n            <table border=\\\"5\\\">\\n                <tr >\\n                    <td>I<sub>ja</sub> =  @i_j_a_m &ang; @deg_j_a </td>\\n                    <td>I<sub>ka</sub> =  @i_k_a_m &ang; @deg_k_a </td>\\n                </tr>\\n                <tr>\\n                    <td >I<sub>jb</sub> =  @i_j_b_m &ang; @deg_j_b </td>\\n                    <td >I<sub>kb</sub> =  @i_k_b_m &ang; @deg_k_b </td>\\n                </tr>\\n                <tr>\\n                    <td >I<sub>jc</sub> =  @i_j_c_m &ang; @deg_j_c </td>\\n                    <td >I<sub>kc</sub> =  @i_k_c_m &ang; @deg_k_c </td>\\n                </tr>\\n                <tr>\\n                    <td >I<sub>jn</sub> =  @i_j_n_m &ang; @deg_j_n </td>\\n                    <td >I<sub>kn</sub> =  @i_k_n_m &ang; @deg_k_n </td>\\n                </tr>\\n            </table>            \\n            </div>\\n            \"},\"id\":\"1916\",\"type\":\"HoverTool\"},{\"attributes\":{\"text\":\"Results\"},\"id\":\"1864\",\"type\":\"Title\"},{\"attributes\":{\"data\":{\"deg_j_a\":[-49.4319264179391,-49.43192641792676,-49.421585904863484,-49.56509726955385,-49.56509726953626,-49.588745125729915,-49.58874512569942,-49.5887451256701,-49.578326295889276,-49.567856442843535,-49.04830858750812,-49.048308587506384,-49.04830858750545,-49.04830858750516,-49.52939494764858,-49.602803859691484,-49.578326295845,0.0,0.0,0.0,0.0,0.0,0.0,0.0,0.0,0.0,0.0,0.0],\"deg_j_b\":[-169.864456737872,-169.86445673786753,-169.87340434655917,-170.04873656515562,-170.04873656514818,-170.12205469721687,-170.12205469720345,-170.1220546971939,-170.1235876880159,-169.74740388708108,-169.41818419875005,-169.4181841987448,-169.4181841987389,-169.418184198734,-169.93828632580977,-170.11998721784025,-170.12358768802176,180.0,180.0,180.0,180.0,180.0,0.0,180.0,180.0,180.0,0.0,0.0],\"deg_j_c\":[70.27961791187059,70.2796179118832,70.2764324344131,70.11233112587932,70.11233112589612,70.05474891241805,70.05474891244637,70.05474891247266,70.05649855142357,70.32100392931827,70.70138534456031,70.70138534456767,70.70138534457547,70.70138534458366,70.1988070652088,70.05239099308804,70.05649855144131,180.0,180.0,180.0,180.0,180.0,180.0,180.0,0.0,180.0,180.0,180.0],\"deg_j_n\":[115.20670752181293,115.5989265199801,115.95008925383036,116.83056212629023,116.83056212779137,117.47527546116632,117.47527546359497,117.7656940935692,117.87272218267253,112.75199445359324,114.61272707624946,114.61272707623593,114.94859595401984,114.94859595410405,115.77197144416449,117.55328888991522,118.06626446084128,180.0,180.0,180.0,180.0,180.0,180.0,180.0,180.0,180.0,180.0,180.0],\"deg_k_a\":[-49.4319264179391,-49.43192641792676,-49.421585904863484,-49.56509726955385,-49.56509726953626,-49.588745125729915,-49.58874512569942,-49.5887451256701,-49.578326295889276,-49.567856442843535,-49.04830858750812,-49.048308587506384,-49.04830858750545,-49.04830858750516,-49.52939494764858,-49.602803859691484,-49.578326295845,0.0,0.0,0.0,0.0,0.0,0.0,0.0,0.0,0.0,0.0,0.0],\"deg_k_b\":[-169.864456737872,-169.86445673786753,-169.87340434655917,-170.04873656515562,-170.04873656514818,-170.12205469721687,-170.12205469720345,-170.1220546971939,-170.1235876880159,-169.74740388708108,-169.41818419875005,-169.4181841987448,-169.4181841987389,-169.418184198734,-169.93828632580977,-170.11998721784025,-170.12358768802176,180.0,180.0,180.0,180.0,180.0,0.0,180.0,180.0,180.0,0.0,0.0],\"deg_k_c\":[70.27961791187059,70.2796179118832,70.2764324344131,70.11233112587932,70.11233112589612,70.05474891241805,70.05474891244637,70.05474891247266,70.05649855142357,70.32100392931827,70.70138534456031,70.70138534456767,70.70138534457547,70.70138534458366,70.1988070652088,70.05239099308804,70.05649855144131,180.0,180.0,180.0,180.0,180.0,180.0,180.0,0.0,180.0,180.0,180.0],\"deg_k_n\":[115.20670752181293,115.5989265199801,115.95008925383036,116.83056212629023,116.83056212779137,117.47527546116632,117.47527546359497,117.7656940935692,117.87272218267253,112.75199445359324,114.61272707624946,114.61272707623593,114.94859595401984,114.94859595410405,115.77197144416449,117.55328888991522,118.06626446084128,180.0,180.0,180.0,180.0,180.0,180.0,180.0,180.0,180.0,180.0,180.0],\"i_j_a_m\":[317.51555567488305,317.51555567485394,295.06901654578263,213.130219444583,213.13021944454744,128.20929640750234,128.20929640746962,128.20929640744762,73.63724763614712,22.446607103688738,81.9412046203996,81.94120462042393,81.94120462044893,81.94120462047265,84.92095044370741,54.572051631457576,73.63724763619474,129.18617808495765,119.76330234405759,86.83864389536757,52.08485160840064,29.908584392353077,9.422875740885502,34.75379228635575,22.176267215560074,29.797499573032837,32.924658448850096,32.81410505477106],\"i_j_b_m\":[315.08640343262715,315.08640343262414,292.7113598651964,211.32169739732035,211.32169739730674,127.0107442773263,127.01074427730727,127.01074427730258,72.93272493333632,22.37509382977292,81.39322085154105,81.39322085156864,81.39322085159229,81.39322085161878,84.31121376362783,54.07801940515693,72.93272493340879,1.8397093394155917e-21,1.6207747021924408e-21,1.2512588493117816e-21,3.705384906089248e-22,1.648393958396452e-22,6.270499838616915e-23,3.329971781675447e-22,1.1747792340136931e-22,1.5750136424407212e-22,1.393422305117837e-22,4.431752860471041e-22],\"i_j_c_m\":[311.5727458382575,311.5727458382689,289.304976127667,208.71088984209874,208.71088984208987,125.28608806085904,125.28608806086926,125.28608806086571,71.9197301797242,22.26777596673184,80.59715911232858,80.59715911235008,80.59715911237149,80.59715911239405,83.42496007121808,53.36635795974891,71.91973017976817,1.998221337170682e-21,1.5234470425201143e-21,8.06101258609859e-22,4.952751887044447e-23,5.27426202460586e-22,1.8676833597099538e-22,3.3937941649166794e-22,1.4584475374504743e-22,3.1786117493044955e-22,2.838397527580689e-22,2.676837157857564e-22],\"i_j_n_m\":[1.5153938090415335,1.3597687097432303,1.2105915216533498,0.7876900773638109,0.7876900773360288,0.5161030098596039,0.5161030098340759,0.3842297884730213,0.2554919732181454,0.14938429713365303,0.27880582998365544,0.27880582998303133,0.1378262955181105,0.13782629551807934,0.13515332358972643,0.1287391456280929,0.1271720309564469,129.18617808346707,119.76330234258859,86.83864389350228,52.08485160714807,29.908584391594673,9.422875740878453,34.753792286357566,22.17626721555689,29.797499573019422,32.92465844908577,32.81410505476748],\"i_k_a_m\":[317.51555567488305,317.51555567485394,295.06901654578263,213.130219444583,213.13021944454744,128.20929640750234,128.20929640746962,128.20929640744762,73.63724763614712,22.446607103688738,81.9412046203996,81.94120462042393,81.94120462044893,81.94120462047265,84.92095044370741,54.572051631457576,73.63724763619474,129.18617808495765,119.76330234405759,86.83864389536757,52.08485160840064,29.908584392353077,9.422875740885502,34.75379228635575,22.176267215560074,29.797499573032837,32.924658448850096,32.81410505477106],\"i_k_b_m\":[315.08640343262715,315.08640343262414,292.7113598651964,211.32169739732035,211.32169739730674,127.0107442773263,127.01074427730727,127.01074427730258,72.93272493333632,22.37509382977292,81.39322085154105,81.39322085156864,81.39322085159229,81.39322085161878,84.31121376362783,54.07801940515693,72.93272493340879,1.8397093394155917e-21,1.6207747021924408e-21,1.2512588493117816e-21,3.705384906089248e-22,1.648393958396452e-22,6.270499838616915e-23,3.329971781675447e-22,1.1747792340136931e-22,1.5750136424407212e-22,1.393422305117837e-22,4.431752860471041e-22],\"i_k_c_m\":[311.5727458382575,311.5727458382689,289.304976127667,208.71088984209874,208.71088984208987,125.28608806085904,125.28608806086926,125.28608806086571,71.9197301797242,22.26777596673184,80.59715911232858,80.59715911235008,80.59715911237149,80.59715911239405,83.42496007121808,53.36635795974891,71.91973017976817,1.998221337170682e-21,1.5234470425201143e-21,8.06101258609859e-22,4.952751887044447e-23,5.27426202460586e-22,1.8676833597099538e-22,3.3937941649166794e-22,1.4584475374504743e-22,3.1786117493044955e-22,2.838397527580689e-22,2.676837157857564e-22],\"i_k_n_m\":[1.5153938090415335,1.3597687097432303,1.2105915216533498,0.7876900773638109,0.7876900773360288,0.5161030098596039,0.5161030098340759,0.3842297884730213,0.2554919732181454,0.14938429713365303,0.27880582998365544,0.27880582998303133,0.1378262955181105,0.13782629551807934,0.13515332358972643,0.1287391456280929,0.1271720309564469,129.18617808346707,119.76330234258859,86.83864389350228,52.08485160714807,29.908584391594673,9.422875740878453,34.753792286357566,22.17626721555689,29.797499573019422,32.92465844908577,32.81410505476748],\"line_id\":[\"R1-R2\",\"R2-R3\",\"R3-R4\",\"R4-R5\",\"R5-R6\",\"R6-R7\",\"R7-R8\",\"R8-R9\",\"R9-R10\",\"R3-R11\",\"R4-R12\",\"R12-R13\",\"R13-R14\",\"R14-R15\",\"R6-R16\",\"R9-R17\",\"R10-R18\",\"D1-D3\",\"D3-D4\",\"D4-D6\",\"D6-D9\",\"D9-D10\",\"D3-D11\",\"D6-D16\",\"D9-D17\",\"D10-D18\",\"D4-D14\",\"D14-D15\"],\"x_s\":[[0,0],[0,0],[0,0],[0,0],[0,0],[0,0],[0,0],[0,0],[0,0],[0,-30],[0,35],[35,70],[70,105],[105,105],[0,-35],[0,30],[0,-30],[4,4],[4,4],[4,4],[4,4],[4,4],[4,-30],[4,-35],[4,30],[4,-30],[4,109],[109,109]],\"y_s\":[[0,-35],[-35,-70],[-70,-105],[-105,-140],[-140,-175],[-175,-210],[-210,-245],[-245,-280],[-280,-315],[-70,-70],[-105,-105],[-105,-105],[-105,-105],[-105,-140],[-175,-175],[-280,-280],[-315,-315],[0,-55],[-55,-90],[-90,-190],[-190,-265],[-265,-330],[-55,-55],[-190,-190],[-265,-265],[-330,-330],[-90,-90],[-90,-140]]},\"selected\":{\"id\":\"2001\"},\"selection_policy\":{\"id\":\"2000\"}},\"id\":\"1902\",\"type\":\"ColumnDataSource\"},{\"attributes\":{\"formatter\":{\"id\":\"1995\"},\"major_label_policy\":{\"id\":\"1996\"},\"ticker\":{\"id\":\"1879\"}},\"id\":\"1878\",\"type\":\"LinearAxis\"},{\"attributes\":{\"data\":{\"deg_1a\":[-13.798942909910028],\"deg_1b\":[-133.8847204666121],\"deg_1c\":[106.5868236841649],\"deg_1n\":[180.0],\"deg_2a\":[136.42462878277738],\"deg_2b\":[16.166283995843454],\"deg_2c\":[-103.68837855556669],\"deg_2n\":[-49.4319264179391],\"i_1a_m\":[9.297518632906788],\"i_1b_m\":[9.217680492956926],\"i_1c_m\":[9.245852993206931],\"i_1n_m\":[7.105427357601002e-15],\"i_2a_m\":[465.6039870943427],\"i_2b_m\":[462.9403569551232],\"i_2c_m\":[459.5017526094144],\"i_2n_m\":[317.51555567488305],\"trafo_id\":[\"R0-R1\"],\"x_s\":[[0,0]],\"y_s\":[[20,0]]},\"selected\":{\"id\":\"1999\"},\"selection_policy\":{\"id\":\"1998\"}},\"id\":\"1896\",\"type\":\"ColumnDataSource\"},{\"attributes\":{\"source\":{\"id\":\"1902\"}},\"id\":\"1907\",\"type\":\"CDSView\"},{\"attributes\":{\"data_source\":{\"id\":\"1896\"},\"glyph\":{\"id\":\"1898\"},\"hover_glyph\":null,\"muted_glyph\":null,\"nonselection_glyph\":{\"id\":\"1899\"},\"view\":{\"id\":\"1901\"}},\"id\":\"1900\",\"type\":\"GlyphRenderer\"},{\"attributes\":{},\"id\":\"1992\",\"type\":\"BasicTickFormatter\"},{\"attributes\":{},\"id\":\"1999\",\"type\":\"Selection\"},{\"attributes\":{},\"id\":\"1882\",\"type\":\"PanTool\"},{\"attributes\":{\"line_alpha\":{\"value\":0.1},\"line_color\":{\"value\":\"green\"},\"line_width\":{\"value\":5},\"xs\":{\"field\":\"x_s\"},\"ys\":{\"field\":\"y_s\"}},\"id\":\"1899\",\"type\":\"MultiLine\"},{\"attributes\":{},\"id\":\"1872\",\"type\":\"LinearScale\"},{\"attributes\":{\"line_alpha\":{\"value\":0.5},\"line_color\":{\"value\":\"green\"},\"line_width\":{\"value\":5},\"xs\":{\"field\":\"x_s\"},\"ys\":{\"field\":\"y_s\"}},\"id\":\"1898\",\"type\":\"MultiLine\"},{\"attributes\":{},\"id\":\"1875\",\"type\":\"BasicTicker\"},{\"attributes\":{},\"id\":\"1879\",\"type\":\"BasicTicker\"},{\"attributes\":{},\"id\":\"1866\",\"type\":\"DataRange1d\"},{\"attributes\":{\"data\":{\"bus_id\":[\"R0\",\"R1\",\"R2\",\"R3\",\"R4\",\"R5\",\"R6\",\"R7\",\"R8\",\"R9\",\"R10\",\"R11\",\"R12\",\"R13\",\"R14\",\"R15\",\"R16\",\"R17\",\"R18\",\"D1\",\"D3\",\"D4\",\"D6\",\"D9\",\"D10\",\"D11\",\"D16\",\"D17\",\"D18\",\"D14\",\"D15\"],\"deg_an\":[\"0.00\",\"-31.37\",\"-31.39\",\"-31.41\",\"-31.43\",\"-31.45\",\"-31.47\",\"-31.47\",\"-31.48\",\"-31.49\",\"-31.50\",\"-31.37\",\"-31.29\",\"-31.15\",\"-31.00\",\"-30.85\",\"-31.33\",\"-31.41\",\"-31.38\",\"0.00\",\"0.00\",\"0.00\",\"0.00\",\"0.00\",\"0.00\",\"0.00\",\"0.00\",\"0.00\",\"0.00\",\"0.00\",\"0.00\"],\"deg_bn\":[\"-120.00\",\"-151.36\",\"-151.47\",\"-151.58\",\"-151.69\",\"-151.77\",\"-151.85\",\"-151.90\",\"-151.95\",\"-151.99\",\"-152.02\",\"-151.55\",\"-151.58\",\"-151.46\",\"-151.34\",\"-151.22\",\"-151.74\",\"-151.93\",\"-151.93\",\"180.00\",\"180.00\",\"180.00\",\"180.00\",\"180.00\",\"180.00\",\"180.00\",\"180.00\",\"180.00\",\"180.00\",\"180.00\",\"180.00\"],\"deg_cn\":[\"120.00\",\"88.65\",\"88.57\",\"88.48\",\"88.40\",\"88.34\",\"88.28\",\"88.25\",\"88.21\",\"88.18\",\"88.15\",\"88.52\",\"88.52\",\"88.64\",\"88.77\",\"88.90\",\"88.39\",\"88.25\",\"88.25\",\"180.00\",\"180.00\",\"180.00\",\"180.00\",\"180.00\",\"180.00\",\"180.00\",\"180.00\",\"180.00\",\"180.00\",\"180.00\",\"180.00\"],\"deg_ng\":[\"0.00\",\"110.95\",\"111.78\",\"112.73\",\"113.73\",\"114.56\",\"115.44\",\"116.02\",\"116.63\",\"117.29\",\"117.68\",\"112.75\",\"114.00\",\"114.28\",\"114.61\",\"114.95\",\"115.77\",\"117.55\",\"118.07\",\"0.00\",\"0.00\",\"0.00\",\"0.00\",\"0.00\",\"0.00\",\"0.00\",\"0.00\",\"0.00\",\"0.00\",\"0.00\",\"0.00\"],\"p_a\":[\"104.26\",\"-69.91\",\"0.00\",\"0.00\",\"0.00\",\"0.00\",\"0.00\",\"0.00\",\"0.00\",\"0.00\",\"0.00\",\"-4.75\",\"0.00\",\"0.00\",\"0.00\",\"-16.47\",\"-17.42\",\"-11.08\",\"-14.88\",\"103.33\",\"0.00\",\"0.00\",\"0.00\",\"0.00\",\"-0.09\",\"-7.50\",\"-27.50\",\"-17.50\",\"-23.50\",\"-0.09\",\"-26.00\"],\"p_abc\":[\"311.44\",\"-209.74\",\"0.00\",\"0.00\",\"0.00\",\"0.00\",\"0.00\",\"0.00\",\"0.00\",\"0.00\",\"0.00\",\"-14.25\",\"0.00\",\"0.00\",\"0.00\",\"-49.40\",\"-52.25\",\"-33.25\",\"-44.65\",\"103.33\",\"0.00\",\"0.00\",\"0.00\",\"0.00\",\"-0.09\",\"-7.50\",\"-27.50\",\"-17.50\",\"-23.50\",\"-0.09\",\"-26.00\"],\"p_b\":[\"103.33\",\"-69.91\",\"-0.00\",\"-0.00\",\"-0.00\",\"-0.00\",\"-0.00\",\"-0.00\",\"-0.00\",\"-0.00\",\"0.00\",\"-4.75\",\"-0.00\",\"-0.00\",\"-0.00\",\"-16.47\",\"-17.42\",\"-11.08\",\"-14.88\",\"0.00\",\"0.00\",\"0.00\",\"0.00\",\"0.00\",\"0.00\",\"0.00\",\"0.00\",\"0.00\",\"0.00\",\"0.00\",\"0.00\"],\"p_c\":[\"103.85\",\"-69.91\",\"0.00\",\"0.00\",\"0.00\",\"0.00\",\"0.00\",\"0.00\",\"0.00\",\"0.00\",\"-0.00\",\"-4.75\",\"0.00\",\"0.00\",\"0.00\",\"-16.47\",\"-17.42\",\"-11.08\",\"-14.88\",\"0.00\",\"0.00\",\"0.00\",\"0.00\",\"0.00\",\"0.00\",\"0.00\",\"0.00\",\"0.00\",\"0.00\",\"0.00\",\"0.00\"],\"q_a\":[\"25.61\",\"-0.00\",\"-0.00\",\"-0.00\",\"-0.00\",\"-0.00\",\"-0.00\",\"-0.00\",\"-0.00\",\"-0.00\",\"-0.00\",\"-1.56\",\"-0.00\",\"-0.00\",\"-0.00\",\"-5.41\",\"-5.72\",\"-3.64\",\"-4.89\",\"0.00\",\"0.00\",\"0.00\",\"0.00\",\"0.00\",\"-0.00\",\"-0.00\",\"-0.00\",\"-0.00\",\"-0.00\",\"-0.00\",\"-0.00\"],\"q_abc\":[\"75.91\",\"-0.00\",\"0.00\",\"0.00\",\"0.00\",\"0.00\",\"0.00\",\"0.00\",\"0.00\",\"0.00\",\"-0.00\",\"-4.68\",\"0.00\",\"0.00\",\"0.00\",\"-16.24\",\"-17.17\",\"-10.93\",\"-14.68\",\"0.00\",\"0.00\",\"0.00\",\"0.00\",\"0.00\",\"0.00\",\"0.00\",\"0.00\",\"0.00\",\"0.00\",\"0.00\",\"0.00\"],\"q_b\":[\"25.54\",\"-0.00\",\"0.00\",\"0.00\",\"0.00\",\"0.00\",\"0.00\",\"0.00\",\"0.00\",\"0.00\",\"-0.00\",\"-1.56\",\"0.00\",\"0.00\",\"0.00\",\"-5.41\",\"-5.72\",\"-3.64\",\"-4.89\",\"0.00\",\"0.00\",\"0.00\",\"0.00\",\"0.00\",\"0.00\",\"0.00\",\"0.00\",\"0.00\",\"0.00\",\"0.00\",\"0.00\"],\"q_c\":[\"24.77\",\"-0.00\",\"0.00\",\"0.00\",\"0.00\",\"0.00\",\"0.00\",\"0.00\",\"0.00\",\"0.00\",\"0.00\",\"-1.56\",\"0.00\",\"0.00\",\"0.00\",\"-5.41\",\"-5.72\",\"-3.64\",\"-4.89\",\"0.00\",\"0.00\",\"0.00\",\"0.00\",\"0.00\",\"0.00\",\"0.00\",\"0.00\",\"0.00\",\"0.00\",\"0.00\",\"0.00\"],\"s_color\":[\"red\",\"green\",\"blue\",\"blue\",\"blue\",\"blue\",\"blue\",\"blue\",\"blue\",\"blue\",\"red\",\"green\",\"blue\",\"blue\",\"red\",\"green\",\"green\",\"green\",\"green\",\"red\",\"blue\",\"blue\",\"blue\",\"blue\",\"green\",\"green\",\"green\",\"green\",\"green\",\"green\",\"green\"],\"s_radio\":[5.661756069526368,4.5797049034021855,1,1,1,1,1,1,1,1,1,1.2247448713915168,1,1,1,2.2803508501981606,2.345207879911583,1.8708286933868663,2.167948338867761,3.2145334560299434,1,1,1,1,1,1,1.6583123951736165,1.322875655531318,1.5329709716746864,1,1.6124515496517595],\"u_avg_pu\":[\"1.000\",\"0.988\",\"0.979\",\"0.971\",\"0.963\",\"0.957\",\"0.951\",\"0.948\",\"0.945\",\"0.941\",\"0.939\",\"0.968\",\"0.953\",\"0.943\",\"0.933\",\"0.923\",\"0.943\",\"0.936\",\"0.932\",\"1.155\",\"1.155\",\"1.155\",\"1.155\",\"1.155\",\"1.155\",\"1.155\",\"1.155\",\"1.155\",\"1.155\",\"1.155\",\"1.155\"],\"v_ab\":[19999.99067499782,395.15102135303545,391.5216292475505,387.8923454748406,384.5201786929816,382.0843112740821,379.64854237119215,378.1836879084305,376.7188692295154,375.25399727527235,374.41275370398444,386.78154446257287,380.4629606026166,376.407921683339,372.3550350314843,368.3044728000495,376.05098731073963,372.94399137100817,371.2961479816566,800.0,798.0919201496852,797.2074681618743,795.9248613915397,794.7709215041557,794.5816001649521,798.0322733462453,795.7048698863671,794.6305457326812,794.3929819926548,796.4780223539401,796.2356901881105],\"v_an\":[\"11547.00\",\"228.16\",\"225.79\",\"223.42\",\"221.21\",\"219.62\",\"218.03\",\"217.08\",\"216.12\",\"215.16\",\"214.62\",\"222.75\",\"218.79\",\"216.37\",\"213.95\",\"211.53\",\"215.89\",\"213.78\",\"212.75\",\"799.87\",\"796.05\",\"794.29\",\"791.72\",\"789.41\",\"789.03\",\"795.94\",\"791.28\",\"789.13\",\"788.66\",\"792.83\",\"792.34\"],\"v_an_pu\":[\"1.0000\",\"0.9880\",\"0.9777\",\"0.9674\",\"0.9579\",\"0.9510\",\"0.9441\",\"0.9400\",\"0.9358\",\"0.9317\",\"0.9293\",\"0.9645\",\"0.9474\",\"0.9369\",\"0.9264\",\"0.9160\",\"0.9348\",\"0.9257\",\"0.9213\",\"3.4635\",\"3.4470\",\"3.4394\",\"3.4283\",\"3.4183\",\"3.4166\",\"3.4465\",\"3.4263\",\"3.4170\",\"3.4150\",\"3.4330\",\"3.4309\"],\"v_bc\":[19999.990674997825,395.177587807843,392.0487237538552,388.920232230461,386.0151573673409,383.9181954452526,381.8214465285249,380.56216725379426,379.3029651100406,378.0437544374174,377.3208850935116,387.84809626360914,382.1217626555308,378.2303545947212,374.3409057586183,370.4535703500956,378.37208683044435,375.8357864286636,374.34445616176276,0.0,2.3412222068426855e-24,1.6224574401625518e-24,4.952520174504834e-24,1.2064518253370864e-23,9.769343767460308e-24,3.920388413323538e-24,4.912120605913135e-24,1.3731350799707684e-23,8.754266165815538e-24,1.099805427950614e-23,1.6247748008041815e-23],\"v_bn\":[\"11547.00\",\"228.15\",\"226.12\",\"224.10\",\"222.22\",\"220.86\",\"219.50\",\"218.69\",\"217.87\",\"217.06\",\"216.59\",\"223.46\",\"219.90\",\"217.59\",\"215.27\",\"212.96\",\"217.45\",\"215.74\",\"214.81\",\"0.13\",\"2.04\",\"2.92\",\"4.20\",\"5.36\",\"5.55\",\"2.10\",\"4.42\",\"5.50\",\"5.74\",\"3.65\",\"3.89\"],\"v_bn_pu\":[\"1.0000\",\"0.9879\",\"0.9791\",\"0.9704\",\"0.9622\",\"0.9564\",\"0.9505\",\"0.9469\",\"0.9434\",\"0.9399\",\"0.9378\",\"0.9676\",\"0.9522\",\"0.9422\",\"0.9322\",\"0.9221\",\"0.9416\",\"0.9342\",\"0.9302\",\"0.0006\",\"0.0088\",\"0.0127\",\"0.0182\",\"0.0232\",\"0.0240\",\"0.0091\",\"0.0192\",\"0.0238\",\"0.0248\",\"0.0158\",\"0.0169\"],\"v_ca\":[19999.99067499783,395.24111618978594,391.7447701614276,388.2500508684347,385.00567426721767,382.6635501617365,380.32219698864463,378.91579979290464,377.50968900612094,376.1038678406194,375.2968628284991,387.14890448535874,380.9970113506081,376.9897596987831,372.9839647986323,368.9796740954426,376.76730232200896,373.824402424785,372.22274189949167,800.0,798.0919201496852,797.2074681618743,795.9248613915397,794.7709215041557,794.5816001649521,798.0322733462453,795.7048698863671,794.6305457326812,794.3929819926548,796.4780223539401,796.2356901881105],\"v_cn\":[\"11547.00\",\"228.18\",\"226.66\",\"225.14\",\"223.72\",\"222.70\",\"221.68\",\"221.07\",\"220.45\",\"219.84\",\"219.49\",\"224.54\",\"221.56\",\"219.39\",\"217.23\",\"215.06\",\"219.76\",\"218.61\",\"217.84\",\"0.13\",\"2.04\",\"2.92\",\"4.20\",\"5.36\",\"5.55\",\"2.10\",\"4.42\",\"5.50\",\"5.74\",\"3.65\",\"3.89\"],\"v_cn_pu\":[\"1.0000\",\"0.9881\",\"0.9815\",\"0.9749\",\"0.9687\",\"0.9643\",\"0.9599\",\"0.9572\",\"0.9546\",\"0.9519\",\"0.9504\",\"0.9723\",\"0.9594\",\"0.9500\",\"0.9406\",\"0.9312\",\"0.9516\",\"0.9466\",\"0.9433\",\"0.0006\",\"0.0088\",\"0.0127\",\"0.0182\",\"0.0232\",\"0.0240\",\"0.0091\",\"0.0192\",\"0.0238\",\"0.0248\",\"0.0158\",\"0.0169\"],\"v_ng\":[\"0.00\",\"6.48\",\"6.24\",\"6.00\",\"5.77\",\"5.62\",\"5.46\",\"5.37\",\"5.28\",\"5.18\",\"5.13\",\"5.98\",\"5.71\",\"5.64\",\"5.58\",\"5.51\",\"5.41\",\"5.15\",\"5.09\",\"0.13\",\"2.04\",\"2.92\",\"4.20\",\"5.36\",\"5.55\",\"2.10\",\"4.42\",\"5.50\",\"5.74\",\"3.65\",\"3.89\"],\"v_unb\":[\"0.0\",\"0.0\",\"0.2\",\"0.4\",\"0.6\",\"0.7\",\"0.9\",\"1.0\",\"1.1\",\"1.1\",\"1.2\",\"0.4\",\"0.7\",\"0.7\",\"0.8\",\"0.9\",\"0.9\",\"1.2\",\"1.3\",\"199.9\",\"198.5\",\"197.8\",\"196.8\",\"196.0\",\"195.8\",\"198.4\",\"196.7\",\"195.9\",\"195.7\",\"197.3\",\"197.1\"],\"x\":[0,0,0,0,0,0,0,0,0,0,0,-30,35,70,105,105,-35,30,-30,4,4,4,4,4,4,-30,-35,30,-30,109,109],\"y\":[20,0,-35,-70,-105,-140,-175,-210,-245,-280,-315,-70,-105,-105,-105,-140,-175,-280,-315,0,-55,-90,-190,-265,-330,-55,-190,-265,-330,-90,-140]},\"selected\":{\"id\":\"2003\"},\"selection_policy\":{\"id\":\"2002\"}},\"id\":\"1908\",\"type\":\"ColumnDataSource\"},{\"attributes\":{},\"id\":\"2000\",\"type\":\"UnionRenderers\"},{\"attributes\":{\"formatter\":{\"id\":\"1992\"},\"major_label_policy\":{\"id\":\"1993\"},\"ticker\":{\"id\":\"1875\"}},\"id\":\"1874\",\"type\":\"LinearAxis\"},{\"attributes\":{\"source\":{\"id\":\"1908\"}},\"id\":\"1913\",\"type\":\"CDSView\"},{\"attributes\":{\"fill_alpha\":{\"value\":0.1},\"fill_color\":{\"value\":\"navy\"},\"line_alpha\":{\"value\":0.1},\"line_color\":{\"value\":\"navy\"},\"size\":{\"value\":15},\"x\":{\"field\":\"x\"},\"y\":{\"field\":\"y\"}},\"id\":\"1911\",\"type\":\"Circle\"}],\"root_ids\":[\"1863\"]},\"title\":\"Bokeh Application\",\"version\":\"2.3.1\"}};\n",
       "  var render_items = [{\"docid\":\"74f2bb30-84c3-42b2-96d3-078b29d527d4\",\"root_ids\":[\"1863\"],\"roots\":{\"1863\":\"25ce2d2c-2863-4f8d-9839-e19b009b452a\"}}];\n",
       "  root.Bokeh.embed.embed_items_notebook(docs_json, render_items);\n",
       "\n",
       "  }\n",
       "  if (root.Bokeh !== undefined) {\n",
       "    embed_document(root);\n",
       "  } else {\n",
       "    var attempts = 0;\n",
       "    var timer = setInterval(function(root) {\n",
       "      if (root.Bokeh !== undefined) {\n",
       "        clearInterval(timer);\n",
       "        embed_document(root);\n",
       "      } else {\n",
       "        attempts++;\n",
       "        if (attempts > 100) {\n",
       "          clearInterval(timer);\n",
       "          console.log(\"Bokeh: ERROR: Unable to run BokehJS code because BokehJS library is missing\");\n",
       "        }\n",
       "      }\n",
       "    }, 10, root)\n",
       "  }\n",
       "})(window);"
      ],
      "application/vnd.bokehjs_exec.v0+json": ""
     },
     "metadata": {
      "application/vnd.bokehjs_exec.v0+json": {
       "id": "1863"
      }
     },
     "output_type": "display_data"
    },
    {
     "data": {
      "text/html": [
       "<div style=\"display: table;\"><div style=\"display: table-row;\"><div style=\"display: table-cell;\"><b title=\"bokeh.plotting.figure.Figure\">Figure</b>(</div><div style=\"display: table-cell;\">id&nbsp;=&nbsp;'1863', <span id=\"2075\" style=\"cursor: pointer;\">&hellip;)</span></div></div><div class=\"2074\" style=\"display: none;\"><div style=\"display: table-cell;\"></div><div style=\"display: table-cell;\">above&nbsp;=&nbsp;[],</div></div><div class=\"2074\" style=\"display: none;\"><div style=\"display: table-cell;\"></div><div style=\"display: table-cell;\">align&nbsp;=&nbsp;'start',</div></div><div class=\"2074\" style=\"display: none;\"><div style=\"display: table-cell;\"></div><div style=\"display: table-cell;\">aspect_ratio&nbsp;=&nbsp;None,</div></div><div class=\"2074\" style=\"display: none;\"><div style=\"display: table-cell;\"></div><div style=\"display: table-cell;\">aspect_scale&nbsp;=&nbsp;1,</div></div><div class=\"2074\" style=\"display: none;\"><div style=\"display: table-cell;\"></div><div style=\"display: table-cell;\">background&nbsp;=&nbsp;None,</div></div><div class=\"2074\" style=\"display: none;\"><div style=\"display: table-cell;\"></div><div style=\"display: table-cell;\">background_fill_alpha&nbsp;=&nbsp;1.0,</div></div><div class=\"2074\" style=\"display: none;\"><div style=\"display: table-cell;\"></div><div style=\"display: table-cell;\">background_fill_color&nbsp;=&nbsp;'#ffffff',</div></div><div class=\"2074\" style=\"display: none;\"><div style=\"display: table-cell;\"></div><div style=\"display: table-cell;\">below&nbsp;=&nbsp;[LinearAxis(id='1874', ...)],</div></div><div class=\"2074\" style=\"display: none;\"><div style=\"display: table-cell;\"></div><div style=\"display: table-cell;\">border_fill_alpha&nbsp;=&nbsp;1.0,</div></div><div class=\"2074\" style=\"display: none;\"><div style=\"display: table-cell;\"></div><div style=\"display: table-cell;\">border_fill_color&nbsp;=&nbsp;'#ffffff',</div></div><div class=\"2074\" style=\"display: none;\"><div style=\"display: table-cell;\"></div><div style=\"display: table-cell;\">center&nbsp;=&nbsp;[Grid(id='1877', ...), Grid(id='1881', ...)],</div></div><div class=\"2074\" style=\"display: none;\"><div style=\"display: table-cell;\"></div><div style=\"display: table-cell;\">css_classes&nbsp;=&nbsp;[],</div></div><div class=\"2074\" style=\"display: none;\"><div style=\"display: table-cell;\"></div><div style=\"display: table-cell;\">disabled&nbsp;=&nbsp;False,</div></div><div class=\"2074\" style=\"display: none;\"><div style=\"display: table-cell;\"></div><div style=\"display: table-cell;\">extra_x_ranges&nbsp;=&nbsp;{},</div></div><div class=\"2074\" style=\"display: none;\"><div style=\"display: table-cell;\"></div><div style=\"display: table-cell;\">extra_y_ranges&nbsp;=&nbsp;{},</div></div><div class=\"2074\" style=\"display: none;\"><div style=\"display: table-cell;\"></div><div style=\"display: table-cell;\">frame_height&nbsp;=&nbsp;None,</div></div><div class=\"2074\" style=\"display: none;\"><div style=\"display: table-cell;\"></div><div style=\"display: table-cell;\">frame_width&nbsp;=&nbsp;None,</div></div><div class=\"2074\" style=\"display: none;\"><div style=\"display: table-cell;\"></div><div style=\"display: table-cell;\">height&nbsp;=&nbsp;400,</div></div><div class=\"2074\" style=\"display: none;\"><div style=\"display: table-cell;\"></div><div style=\"display: table-cell;\">height_policy&nbsp;=&nbsp;'auto',</div></div><div class=\"2074\" style=\"display: none;\"><div style=\"display: table-cell;\"></div><div style=\"display: table-cell;\">hidpi&nbsp;=&nbsp;True,</div></div><div class=\"2074\" style=\"display: none;\"><div style=\"display: table-cell;\"></div><div style=\"display: table-cell;\">inner_height&nbsp;=&nbsp;0,</div></div><div class=\"2074\" style=\"display: none;\"><div style=\"display: table-cell;\"></div><div style=\"display: table-cell;\">inner_width&nbsp;=&nbsp;0,</div></div><div class=\"2074\" style=\"display: none;\"><div style=\"display: table-cell;\"></div><div style=\"display: table-cell;\">js_event_callbacks&nbsp;=&nbsp;{},</div></div><div class=\"2074\" style=\"display: none;\"><div style=\"display: table-cell;\"></div><div style=\"display: table-cell;\">js_property_callbacks&nbsp;=&nbsp;{},</div></div><div class=\"2074\" style=\"display: none;\"><div style=\"display: table-cell;\"></div><div style=\"display: table-cell;\">left&nbsp;=&nbsp;[LinearAxis(id='1878', ...)],</div></div><div class=\"2074\" style=\"display: none;\"><div style=\"display: table-cell;\"></div><div style=\"display: table-cell;\">lod_factor&nbsp;=&nbsp;10,</div></div><div class=\"2074\" style=\"display: none;\"><div style=\"display: table-cell;\"></div><div style=\"display: table-cell;\">lod_interval&nbsp;=&nbsp;300,</div></div><div class=\"2074\" style=\"display: none;\"><div style=\"display: table-cell;\"></div><div style=\"display: table-cell;\">lod_threshold&nbsp;=&nbsp;2000,</div></div><div class=\"2074\" style=\"display: none;\"><div style=\"display: table-cell;\"></div><div style=\"display: table-cell;\">lod_timeout&nbsp;=&nbsp;500,</div></div><div class=\"2074\" style=\"display: none;\"><div style=\"display: table-cell;\"></div><div style=\"display: table-cell;\">margin&nbsp;=&nbsp;(0, 0, 0, 0),</div></div><div class=\"2074\" style=\"display: none;\"><div style=\"display: table-cell;\"></div><div style=\"display: table-cell;\">match_aspect&nbsp;=&nbsp;False,</div></div><div class=\"2074\" style=\"display: none;\"><div style=\"display: table-cell;\"></div><div style=\"display: table-cell;\">max_height&nbsp;=&nbsp;None,</div></div><div class=\"2074\" style=\"display: none;\"><div style=\"display: table-cell;\"></div><div style=\"display: table-cell;\">max_width&nbsp;=&nbsp;None,</div></div><div class=\"2074\" style=\"display: none;\"><div style=\"display: table-cell;\"></div><div style=\"display: table-cell;\">min_border&nbsp;=&nbsp;5,</div></div><div class=\"2074\" style=\"display: none;\"><div style=\"display: table-cell;\"></div><div style=\"display: table-cell;\">min_border_bottom&nbsp;=&nbsp;None,</div></div><div class=\"2074\" style=\"display: none;\"><div style=\"display: table-cell;\"></div><div style=\"display: table-cell;\">min_border_left&nbsp;=&nbsp;None,</div></div><div class=\"2074\" style=\"display: none;\"><div style=\"display: table-cell;\"></div><div style=\"display: table-cell;\">min_border_right&nbsp;=&nbsp;None,</div></div><div class=\"2074\" style=\"display: none;\"><div style=\"display: table-cell;\"></div><div style=\"display: table-cell;\">min_border_top&nbsp;=&nbsp;None,</div></div><div class=\"2074\" style=\"display: none;\"><div style=\"display: table-cell;\"></div><div style=\"display: table-cell;\">min_height&nbsp;=&nbsp;None,</div></div><div class=\"2074\" style=\"display: none;\"><div style=\"display: table-cell;\"></div><div style=\"display: table-cell;\">min_width&nbsp;=&nbsp;None,</div></div><div class=\"2074\" style=\"display: none;\"><div style=\"display: table-cell;\"></div><div style=\"display: table-cell;\">name&nbsp;=&nbsp;None,</div></div><div class=\"2074\" style=\"display: none;\"><div style=\"display: table-cell;\"></div><div style=\"display: table-cell;\">outer_height&nbsp;=&nbsp;0,</div></div><div class=\"2074\" style=\"display: none;\"><div style=\"display: table-cell;\"></div><div style=\"display: table-cell;\">outer_width&nbsp;=&nbsp;0,</div></div><div class=\"2074\" style=\"display: none;\"><div style=\"display: table-cell;\"></div><div style=\"display: table-cell;\">outline_line_alpha&nbsp;=&nbsp;1.0,</div></div><div class=\"2074\" style=\"display: none;\"><div style=\"display: table-cell;\"></div><div style=\"display: table-cell;\">outline_line_cap&nbsp;=&nbsp;'butt',</div></div><div class=\"2074\" style=\"display: none;\"><div style=\"display: table-cell;\"></div><div style=\"display: table-cell;\">outline_line_color&nbsp;=&nbsp;'#e5e5e5',</div></div><div class=\"2074\" style=\"display: none;\"><div style=\"display: table-cell;\"></div><div style=\"display: table-cell;\">outline_line_dash&nbsp;=&nbsp;[],</div></div><div class=\"2074\" style=\"display: none;\"><div style=\"display: table-cell;\"></div><div style=\"display: table-cell;\">outline_line_dash_offset&nbsp;=&nbsp;0,</div></div><div class=\"2074\" style=\"display: none;\"><div style=\"display: table-cell;\"></div><div style=\"display: table-cell;\">outline_line_join&nbsp;=&nbsp;'bevel',</div></div><div class=\"2074\" style=\"display: none;\"><div style=\"display: table-cell;\"></div><div style=\"display: table-cell;\">outline_line_width&nbsp;=&nbsp;1,</div></div><div class=\"2074\" style=\"display: none;\"><div style=\"display: table-cell;\"></div><div style=\"display: table-cell;\">output_backend&nbsp;=&nbsp;'canvas',</div></div><div class=\"2074\" style=\"display: none;\"><div style=\"display: table-cell;\"></div><div style=\"display: table-cell;\">renderers&nbsp;=&nbsp;[GlyphRenderer(id='1900', ...), GlyphRenderer(id='1906', ...), GlyphRenderer(id='1912', ...)],</div></div><div class=\"2074\" style=\"display: none;\"><div style=\"display: table-cell;\"></div><div style=\"display: table-cell;\">reset_policy&nbsp;=&nbsp;'standard',</div></div><div class=\"2074\" style=\"display: none;\"><div style=\"display: table-cell;\"></div><div style=\"display: table-cell;\">right&nbsp;=&nbsp;[],</div></div><div class=\"2074\" style=\"display: none;\"><div style=\"display: table-cell;\"></div><div style=\"display: table-cell;\">sizing_mode&nbsp;=&nbsp;None,</div></div><div class=\"2074\" style=\"display: none;\"><div style=\"display: table-cell;\"></div><div style=\"display: table-cell;\">subscribed_events&nbsp;=&nbsp;[],</div></div><div class=\"2074\" style=\"display: none;\"><div style=\"display: table-cell;\"></div><div style=\"display: table-cell;\">syncable&nbsp;=&nbsp;True,</div></div><div class=\"2074\" style=\"display: none;\"><div style=\"display: table-cell;\"></div><div style=\"display: table-cell;\">tags&nbsp;=&nbsp;[],</div></div><div class=\"2074\" style=\"display: none;\"><div style=\"display: table-cell;\"></div><div style=\"display: table-cell;\">title&nbsp;=&nbsp;Title(id='1864', ...),</div></div><div class=\"2074\" style=\"display: none;\"><div style=\"display: table-cell;\"></div><div style=\"display: table-cell;\">title_location&nbsp;=&nbsp;'above',</div></div><div class=\"2074\" style=\"display: none;\"><div style=\"display: table-cell;\"></div><div style=\"display: table-cell;\">toolbar&nbsp;=&nbsp;Toolbar(id='1889', ...),</div></div><div class=\"2074\" style=\"display: none;\"><div style=\"display: table-cell;\"></div><div style=\"display: table-cell;\">toolbar_location&nbsp;=&nbsp;'right',</div></div><div class=\"2074\" style=\"display: none;\"><div style=\"display: table-cell;\"></div><div style=\"display: table-cell;\">toolbar_sticky&nbsp;=&nbsp;True,</div></div><div class=\"2074\" style=\"display: none;\"><div style=\"display: table-cell;\"></div><div style=\"display: table-cell;\">visible&nbsp;=&nbsp;True,</div></div><div class=\"2074\" style=\"display: none;\"><div style=\"display: table-cell;\"></div><div style=\"display: table-cell;\">width&nbsp;=&nbsp;600,</div></div><div class=\"2074\" style=\"display: none;\"><div style=\"display: table-cell;\"></div><div style=\"display: table-cell;\">width_policy&nbsp;=&nbsp;'auto',</div></div><div class=\"2074\" style=\"display: none;\"><div style=\"display: table-cell;\"></div><div style=\"display: table-cell;\">x_range&nbsp;=&nbsp;DataRange1d(id='1866', ...),</div></div><div class=\"2074\" style=\"display: none;\"><div style=\"display: table-cell;\"></div><div style=\"display: table-cell;\">x_scale&nbsp;=&nbsp;LinearScale(id='1870', ...),</div></div><div class=\"2074\" style=\"display: none;\"><div style=\"display: table-cell;\"></div><div style=\"display: table-cell;\">y_range&nbsp;=&nbsp;DataRange1d(id='1868', ...),</div></div><div class=\"2074\" style=\"display: none;\"><div style=\"display: table-cell;\"></div><div style=\"display: table-cell;\">y_scale&nbsp;=&nbsp;LinearScale(id='1872', ...))</div></div></div>\n",
       "<script>\n",
       "(function() {\n",
       "  var expanded = false;\n",
       "  var ellipsis = document.getElementById(\"2075\");\n",
       "  ellipsis.addEventListener(\"click\", function() {\n",
       "    var rows = document.getElementsByClassName(\"2074\");\n",
       "    for (var i = 0; i < rows.length; i++) {\n",
       "      var el = rows[i];\n",
       "      el.style.display = expanded ? \"none\" : \"table-row\";\n",
       "    }\n",
       "    ellipsis.innerHTML = expanded ? \"&hellip;)\" : \"&lsaquo;&lsaquo;&lsaquo;\";\n",
       "    expanded = !expanded;\n",
       "  });\n",
       "})();\n",
       "</script>\n"
      ],
      "text/plain": [
       "Figure(id='1863', ...)"
      ]
     },
     "execution_count": 98,
     "metadata": {},
     "output_type": "execute_result"
    }
   ],
   "source": [
    "gt_grid_c2.dae2vi()\n",
    "\n",
    "vsc_buses = ['R1','R10','R14']\n",
    "a2n = {'a':1,'b':2,'c':3}\n",
    "for vsc_bus in vsc_buses:\n",
    "    for ph in ['a','b','c']:\n",
    "        idx = list(gt_grid_c2.nodes_list).index(f'{vsc_bus}.{a2n[ph]}') \n",
    "        I_r = grid_c2.get_value(f'i_vsc_{vsc_bus}_{ph}_r')\n",
    "        I_i = grid_c2.get_value(f'i_vsc_{vsc_bus}_{ph}_i')\n",
    "        gt_grid_c2.I_node[idx] += I_r+1j*I_i\n",
    "\n",
    "gt_grid_c2.get_v()\n",
    "gt_grid_c2.get_i()\n",
    "\n",
    "gt_grid_c2.bokeh_tools()\n",
    "\n",
    "gt.plot_results(gt_grid_c2)\n",
    "\n"
   ]
  },
  {
   "cell_type": "code",
   "execution_count": 99,
   "metadata": {},
   "outputs": [
    {
     "name": "stdout",
     "output_type": "stream",
     "text": [
      "Grid power = 311.44 kW\n",
      "AC loads   = 193.80 kW\n",
      "DC loads   = 102.00 kW\n",
      "Total load = 295.80 kW\n",
      "VSC Losses: R1 = 106404.72 W (50.7%),  R10 = 87.65 W (665137773198266271525010581409567854297088.0%),  R14 = 87.65 W (2461545763729826353443264930983662265040896.0%)\n",
      "Current R1-R2 =317.52 A\n",
      "Current R4-R12 =81.94 A\n",
      "Current D1-D3 =129.19 A\n",
      "Current D4-R14 =32.92 A\n"
     ]
    }
   ],
   "source": [
    "report(grid_c2, gt_grid_c2)"
   ]
  },
  {
   "cell_type": "code",
   "execution_count": 100,
   "metadata": {},
   "outputs": [
    {
     "name": "stdout",
     "output_type": "stream",
     "text": [
      "a_R1  = 85.15\n",
      "b_R1  =  7.91\n",
      "c_R1  =  0.01\n",
      "a_R10 = 85.15\n",
      "b_R10 =  7.91\n",
      "c_R10 =  0.01\n",
      "coef_a_R10 =  0.33\n",
      "coef_b_R10 =  0.33\n",
      "coef_c_R10 =  0.33\n",
      "a_R14 = 85.15\n",
      "b_R14 =  7.91\n",
      "c_R14 =  0.01\n",
      "coef_a_R14 =  0.33\n",
      "coef_b_R14 =  0.33\n",
      "coef_c_R14 =  0.33\n"
     ]
    }
   ],
   "source": [
    "grid_c2.report_params()"
   ]
  },
  {
   "cell_type": "markdown",
   "metadata": {},
   "source": [
    "## Case 3"
   ]
  },
  {
   "cell_type": "code",
   "execution_count": 8,
   "metadata": {},
   "outputs": [],
   "source": [
    "scale_ac = 0.1\n",
    "scale_dc = 1.0\n",
    "\n",
    "loads_ac =[{\"bus\":  \"R1\", \"kVA\":-200.0, \"pf\": 0.95},\n",
    "           {\"bus\": \"R11\", \"kVA\": -15.0*scale_ac, \"pf\": 0.95},\n",
    "           {\"bus\": \"R15\", \"kVA\": -52.0*scale_ac, \"pf\": 0.95},\n",
    "           {\"bus\": \"R16\", \"kVA\": -55.0*scale_ac, \"pf\": 0.95},\n",
    "           {\"bus\": \"R17\", \"kVA\": -35.0*scale_ac, \"pf\": 0.95},\n",
    "           {\"bus\": \"R18\", \"kVA\": -47.0*scale_ac, \"pf\": 0.95}]\n",
    "\n",
    "loads_dc =[{\"bus\": \"D11\", \"kW\": -15.0*scale_dc},\n",
    "           {\"bus\": \"D15\", \"kW\": -52.0*scale_dc},\n",
    "           {\"bus\": \"D16\", \"kW\": -55.0*scale_dc},\n",
    "           {\"bus\": \"D17\", \"kW\": -35.0*scale_dc},\n",
    "           {\"bus\": \"D18\", \"kW\": -47.0*scale_dc}]\n",
    "\n",
    "vscs =[{\"bus\": \"R1\", \"type\":'vdc',\"kW\":0.0, \"kvar\": 0.0,'losses':vsc2params(vsc_losses,'vsc_3ph3w_250A_200kVA',multiplier=1)},\n",
    "       {\"bus\": \"R10\",\"type\":'pq', \"kW\":0.0, \"kvar\": 0.0,'losses':vsc2params(vsc_losses,'vsc_1ph2w_120A')},\n",
    "       {\"bus\": \"R14\",\"type\":'pq', \"kW\":0.0, \"kvar\": 0.0,'losses':vsc2params(vsc_losses,'vsc_1ph2w_120A')}\n",
    "      ]\n"
   ]
  },
  {
   "cell_type": "code",
   "execution_count": 9,
   "metadata": {},
   "outputs": [],
   "source": [
    "grid_c3 = cigre_europe_residential_2w2w_class()\n",
    "grid_c3.initialization_tol = 1e-12\n",
    "\n",
    "grid_c3.p_ac_loads = 0.0\n",
    "for load in loads_ac:\n",
    "    bus_name = load['bus']\n",
    "    if bus_name == 'R1':\n",
    "        s = load['kVA']*np.exp(1j*np.arccos( load['pf']))*1000\n",
    "        gt.set_powers(grid_c3,bus_name,s)\n",
    "        grid_c3.p_ac_loads += s.real\n",
    "    if bus_name != 'R1':\n",
    "        s = load['kVA']*np.exp(1j*np.arccos( load['pf']))*1000\n",
    "        grid_c3.set_value(f'p_{bus_name}_a',s.real)\n",
    "        grid_c3.set_value(f'p_{bus_name}_b',0.0)\n",
    "        grid_c3.set_value(f'p_{bus_name}_c',0.0)\n",
    "        grid_c3.set_value(f'q_{bus_name}_a',s.imag)\n",
    "        grid_c3.set_value(f'q_{bus_name}_b',0.0)\n",
    "        grid_c3.set_value(f'q_{bus_name}_c',0.0)\n",
    "        grid_c3.p_ac_loads += s.real\n",
    "    \n",
    "grid_c3.p_dc_loads = 0.0\n",
    "for load in loads_dc:\n",
    "    bus_name = load['bus']\n",
    "    grid_c3.set_value(f'p_{bus_name}_1',load['kW']*1000.0)\n",
    "    grid_c3.set_value(f'q_{bus_name}_1',0.0)\n",
    "    grid_c3.p_dc_loads += load['kW']*1000.0\n",
    "    \n",
    "for vsc in vscs:\n",
    "    bus_name = vsc['bus']\n",
    "    if vsc['bus'] == 'pq':\n",
    "        s = vsc['kW'] + 1j*vsc['kvar']\n",
    "        grid_c3.set_value(f'p_{bus_name}',vsc['kW']*1000.0)\n",
    "        grid_c3.set_value(f'q_{bus_name}',vsc['kvar']*1000.0)\n",
    "    grid_c3.set_value(f'a_{bus_name}',vsc['losses'][0])\n",
    "    grid_c3.set_value(f'b_{bus_name}',vsc['losses'][1])\n",
    "    grid_c3.set_value(f'c_{bus_name}',vsc['losses'][2])\n",
    "\n",
    "solx = np.array([ 31725.12992576,  37213.72959454,  31933.80290348, -36446.6370987 ])\n",
    "solx = np.array([28421.96223811, 15531.3515862 , 23105.72335649,  9431.03994459])\n",
    "#grid_c3.initialize([{'p_R10':solx[0],'q_R10':solx[1],'coef_a_R10':1.0,'coef_b_R10':0.0,'coef_c_R10':0.0,\n",
    "#                     'p_R14':solx[2],'q_R14':solx[3],'coef_a_R14':1.0,'coef_b_R14':0.0,'coef_c_R14':0.0}],\n",
    "#                     xy0='xy_0_dict.json',compile=True)\n",
    "grid_c3.load_0('xy_0_dict.json')\n",
    "grid_c3.ss()"
   ]
  },
  {
   "cell_type": "code",
   "execution_count": 10,
   "metadata": {},
   "outputs": [
    {
     "data": {
      "text/html": [
       "\n",
       "\n",
       "\n",
       "\n",
       "\n",
       "\n",
       "  <div class=\"bk-root\" id=\"c0620833-3cb1-415b-b111-a95cee9f7aac\" data-root-id=\"1145\"></div>\n"
      ]
     },
     "metadata": {},
     "output_type": "display_data"
    },
    {
     "data": {
      "application/javascript": [
       "(function(root) {\n",
       "  function embed_document(root) {\n",
       "    \n",
       "  var docs_json = {\"92fa7e6e-13d3-4882-a73c-767e9c28cddb\":{\"roots\":{\"references\":[{\"attributes\":{\"below\":[{\"id\":\"1156\"}],\"center\":[{\"id\":\"1159\"},{\"id\":\"1163\"}],\"left\":[{\"id\":\"1160\"}],\"plot_height\":400,\"renderers\":[{\"id\":\"1181\"},{\"id\":\"1187\"},{\"id\":\"1193\"}],\"title\":{\"id\":\"1146\"},\"toolbar\":{\"id\":\"1170\"},\"x_range\":{\"id\":\"1148\"},\"x_scale\":{\"id\":\"1152\"},\"y_range\":{\"id\":\"1150\"},\"y_scale\":{\"id\":\"1154\"}},\"id\":\"1145\",\"subtype\":\"Figure\",\"type\":\"Plot\"},{\"attributes\":{\"text\":\"Results\"},\"id\":\"1146\",\"type\":\"Title\"},{\"attributes\":{},\"id\":\"1217\",\"type\":\"BasicTickFormatter\"},{\"attributes\":{},\"id\":\"1221\",\"type\":\"UnionRenderers\"},{\"attributes\":{\"source\":{\"id\":\"1189\"}},\"id\":\"1194\",\"type\":\"CDSView\"},{\"attributes\":{},\"id\":\"1222\",\"type\":\"Selection\"},{\"attributes\":{\"callback\":null,\"renderers\":[{\"id\":\"1193\"}],\"tooltips\":\"\\n            <div>\\n            bus_id = @bus_id &nbsp &nbsp |  u<sub>avg</sub>= @u_avg_pu pu |  u<sub>unb</sub>= @v_unb %\\n            <table border=\\\"1\\\">\\n                <tr>\\n                <td>v<sub>an</sub> =  @v_an  &ang; @deg_an V </td> <td> S<sub>a</sub> = @p_a + j@q_a kVA</td>\\n                </tr>\\n                      <tr>\\n                      <td> </td> <td>v<sub>ab</sub>= @v_ab V</td>\\n                      </tr>\\n                <tr>\\n                <td>v<sub>bn</sub> = @v_bn &ang; @deg_bn V </td><td> S<sub>b</sub> = @p_b + j@q_b kVA</td>\\n                </tr>\\n                      <tr>\\n                      <td> </td><td>v<sub>bc</sub>= @v_bc V</td>\\n                      </tr>\\n                <tr>\\n                <td>v<sub>cn</sub>  = @v_cn &ang; @deg_cn V </td>  <td>S<sub>c</sub> = @p_c + j@q_c kVA </td>\\n                </tr> \\n                    <tr>\\n                     <td> </td> <td>v<sub>ca</sub>= @v_ca V</td>\\n                    </tr>\\n               <tr>\\n                <td>v<sub>ng</sub>    = @v_ng &ang; @deg_ng V</td>  <td>S<sub>abc</sub> = @p_abc + j@q_abc kVA </td>\\n              </tr>\\n            </table>\\n            </div>\\n            \"},\"id\":\"1199\",\"type\":\"HoverTool\"},{\"attributes\":{\"data\":{\"deg_1a\":[-13.830065637830524],\"deg_1b\":[-130.62247446033314],\"deg_1c\":[110.93441837662282],\"deg_1n\":[116.56505117707799],\"deg_2a\":[137.87127460313536],\"deg_2b\":[19.377525539671183],\"deg_2c\":[-100.6224744603238],\"deg_2n\":[-50.274482737636916],\"i_1a_m\":[12.751641856341013],\"i_1b_m\":[11.913593920728983],\"i_1c_m\":[12.945319617135866],\"i_1n_m\":[1.5888218580782548e-14],\"i_2a_m\":[688.1683581280914],\"i_2b_m\":[595.679696036579],\"i_2c_m\":[595.6796960363466],\"i_2n_m\":[91.74450775157497],\"trafo_id\":[\"R0-R1\"],\"x_s\":[[0,0]],\"y_s\":[[20,0]]},\"selected\":{\"id\":\"1220\"},\"selection_policy\":{\"id\":\"1219\"}},\"id\":\"1177\",\"type\":\"ColumnDataSource\"},{\"attributes\":{},\"id\":\"1157\",\"type\":\"BasicTicker\"},{\"attributes\":{},\"id\":\"1152\",\"type\":\"LinearScale\"},{\"attributes\":{\"bottom_units\":\"screen\",\"fill_alpha\":0.5,\"fill_color\":\"lightgrey\",\"left_units\":\"screen\",\"level\":\"overlay\",\"line_alpha\":1.0,\"line_color\":\"black\",\"line_dash\":[4,4],\"line_width\":2,\"render_mode\":\"css\",\"right_units\":\"screen\",\"top_units\":\"screen\"},\"id\":\"1218\",\"type\":\"BoxAnnotation\"},{\"attributes\":{},\"id\":\"1150\",\"type\":\"DataRange1d\"},{\"attributes\":{},\"id\":\"1154\",\"type\":\"LinearScale\"},{\"attributes\":{\"axis\":{\"id\":\"1156\"},\"ticker\":null},\"id\":\"1159\",\"type\":\"Grid\"},{\"attributes\":{\"formatter\":{\"id\":\"1217\"},\"ticker\":{\"id\":\"1161\"}},\"id\":\"1160\",\"type\":\"LinearAxis\"},{\"attributes\":{},\"id\":\"1223\",\"type\":\"UnionRenderers\"},{\"attributes\":{},\"id\":\"1161\",\"type\":\"BasicTicker\"},{\"attributes\":{},\"id\":\"1224\",\"type\":\"Selection\"},{\"attributes\":{\"axis\":{\"id\":\"1160\"},\"dimension\":1,\"ticker\":null},\"id\":\"1163\",\"type\":\"Grid\"},{\"attributes\":{\"line_alpha\":{\"value\":0.1},\"line_color\":{\"value\":\"red\"},\"line_width\":{\"value\":5},\"xs\":{\"field\":\"x_s\"},\"ys\":{\"field\":\"y_s\"}},\"id\":\"1186\",\"type\":\"MultiLine\"},{\"attributes\":{\"active_drag\":\"auto\",\"active_inspect\":\"auto\",\"active_multi\":null,\"active_scroll\":\"auto\",\"active_tap\":\"auto\",\"tools\":[{\"id\":\"1164\"},{\"id\":\"1165\"},{\"id\":\"1166\"},{\"id\":\"1167\"},{\"id\":\"1168\"},{\"id\":\"1169\"},{\"id\":\"1195\"},{\"id\":\"1197\"},{\"id\":\"1199\"}]},\"id\":\"1170\",\"type\":\"Toolbar\"},{\"attributes\":{\"data_source\":{\"id\":\"1183\"},\"glyph\":{\"id\":\"1185\"},\"hover_glyph\":null,\"muted_glyph\":null,\"nonselection_glyph\":{\"id\":\"1186\"},\"selection_glyph\":null,\"view\":{\"id\":\"1188\"}},\"id\":\"1187\",\"type\":\"GlyphRenderer\"},{\"attributes\":{},\"id\":\"1169\",\"type\":\"HelpTool\"},{\"attributes\":{},\"id\":\"1165\",\"type\":\"WheelZoomTool\"},{\"attributes\":{\"overlay\":{\"id\":\"1218\"}},\"id\":\"1166\",\"type\":\"BoxZoomTool\"},{\"attributes\":{\"fill_alpha\":{\"value\":0.1},\"fill_color\":{\"value\":\"navy\"},\"line_alpha\":{\"value\":0.1},\"line_color\":{\"value\":\"navy\"},\"size\":{\"units\":\"screen\",\"value\":15},\"x\":{\"field\":\"x\"},\"y\":{\"field\":\"y\"}},\"id\":\"1192\",\"type\":\"Circle\"},{\"attributes\":{},\"id\":\"1167\",\"type\":\"SaveTool\"},{\"attributes\":{},\"id\":\"1168\",\"type\":\"ResetTool\"},{\"attributes\":{\"data_source\":{\"id\":\"1177\"},\"glyph\":{\"id\":\"1179\"},\"hover_glyph\":null,\"muted_glyph\":null,\"nonselection_glyph\":{\"id\":\"1180\"},\"selection_glyph\":null,\"view\":{\"id\":\"1182\"}},\"id\":\"1181\",\"type\":\"GlyphRenderer\"},{\"attributes\":{\"line_alpha\":{\"value\":0.5},\"line_color\":{\"value\":\"green\"},\"line_width\":{\"value\":5},\"xs\":{\"field\":\"x_s\"},\"ys\":{\"field\":\"y_s\"}},\"id\":\"1179\",\"type\":\"MultiLine\"},{\"attributes\":{\"line_alpha\":{\"value\":0.1},\"line_color\":{\"value\":\"green\"},\"line_width\":{\"value\":5},\"xs\":{\"field\":\"x_s\"},\"ys\":{\"field\":\"y_s\"}},\"id\":\"1180\",\"type\":\"MultiLine\"},{\"attributes\":{\"callback\":null,\"renderers\":[{\"id\":\"1181\"}],\"tooltips\":\"\\n            <div>\\n            transformer id = @trafo_id  \\n            <table border=\\\"5\\\">\\n                <tr >\\n                    <td>I<sub>1a</sub> =  @i_1a_m &ang; @deg_1a </td>\\n                    <td>I<sub>2a</sub> =  @i_2a_m &ang; @deg_2a </td>\\n                </tr>\\n                <tr>\\n                    <td >I<sub>1b</sub> =  @i_1b_m &ang; @deg_1b </td>\\n                    <td >I<sub>2b</sub> =  @i_2b_m &ang; @deg_2b </td>\\n                </tr>\\n                <tr>\\n                    <td >I<sub>1c</sub> =  @i_1c_m &ang; @deg_1c </td>\\n                    <td >I<sub>2c</sub> =  @i_2c_m &ang; @deg_2c </td>\\n                </tr>\\n                <tr>\\n                    <td >I<sub>1n</sub> =  @i_1n_m &ang; @deg_1n </td>\\n                    <td >I<sub>2n</sub> =  @i_2n_m &ang; @deg_2n </td>\\n                </tr>\\n            </table>            \\n            </div>\\n            \"},\"id\":\"1195\",\"type\":\"HoverTool\"},{\"attributes\":{\"source\":{\"id\":\"1177\"}},\"id\":\"1182\",\"type\":\"CDSView\"},{\"attributes\":{},\"id\":\"1164\",\"type\":\"PanTool\"},{\"attributes\":{\"data_source\":{\"id\":\"1189\"},\"glyph\":{\"id\":\"1191\"},\"hover_glyph\":null,\"muted_glyph\":null,\"nonselection_glyph\":{\"id\":\"1192\"},\"selection_glyph\":null,\"view\":{\"id\":\"1194\"}},\"id\":\"1193\",\"type\":\"GlyphRenderer\"},{\"attributes\":{},\"id\":\"1219\",\"type\":\"UnionRenderers\"},{\"attributes\":{\"formatter\":{\"id\":\"1215\"},\"ticker\":{\"id\":\"1157\"}},\"id\":\"1156\",\"type\":\"LinearAxis\"},{\"attributes\":{},\"id\":\"1220\",\"type\":\"Selection\"},{\"attributes\":{\"data\":{\"deg_j_a\":[-50.274482737636916,-50.274482737591974,-50.27412755596965,-50.33092375797586,-50.330923757915095,-50.34647510228932,-50.34647510218526,-50.346475102065654,-50.34546391931485,-50.279018668339056,-50.12517275784784,-50.12517275784114,-50.12517275783405,-50.12517275782757,-50.30764298403554,-50.34783487358447,-50.34546391912011,0.0,0.0,0.0,0.0,0.0,0.0,0.0,0.0,0.0,0.0,0.0],\"deg_j_b\":[-157.14980561970367,-154.13422674286087,-144.28097315984542,-136.26019583306442,-133.8659185385831,-129.05872715715375,-124.56190368921061,-120.12333070183152,-26.707503096426272,-146.30993247402023,16.815410331998557,16.689455103811564,15.28999135822399,4.763641690726178,161.565051177078,19.98310652189998,18.43494882292201,180.0,180.0,0.0,0.0,0.0,180.0,0.0,0.0,0.0,180.0,180.0],\"deg_j_c\":[72.7803609136288,86.17299060813427,94.44514882997325,113.45526476255658,130.15169523160512,66.26706019592801,144.264523985133,153.7604895215813,-66.102374144331,-15.945395900922854,-72.23574091208901,-71.37842063351242,-72.57850244555165,113.19859051364818,-100.88552705465874,109.98310652189998,-86.9059419410829,180.0,180.0,0.0,0.0,0.0,0.0,180.0,0.0,0.0,180.0,180.0],\"deg_j_n\":[129.25809625189234,129.39728925851307,129.5172193846981,129.7706026140227,129.770602614084,129.949077364084,129.94907736418224,130.03920898395722,130.06794547527758,128.32006528834918,129.16367930108552,129.16367930109635,129.34394161688653,129.3439416168864,129.49569977415203,129.98172667772283,130.13572371627026,180.0,180.0,180.0,180.0,180.0,180.0,180.0,180.0,180.0,180.0,180.0],\"deg_k_a\":[-50.274482737636916,-50.274482737591974,-50.27412755596965,-50.33092375797586,-50.330923757915095,-50.34647510228932,-50.34647510218526,-50.346475102065654,-50.34546391931485,-50.279018668339056,-50.12517275784784,-50.12517275784114,-50.12517275783405,-50.12517275782757,-50.30764298403554,-50.34783487358447,-50.34546391912011,0.0,0.0,0.0,0.0,0.0,0.0,0.0,0.0,0.0,0.0,0.0],\"deg_k_b\":[-157.14980561970367,-154.13422674286087,-144.28097315984542,-136.26019583306442,-133.8659185385831,-129.05872715715375,-124.56190368921061,-120.12333070183152,-26.707503096426272,-146.30993247402023,16.815410331998557,16.689455103811564,15.28999135822399,4.763641690726178,161.565051177078,19.98310652189998,18.43494882292201,180.0,180.0,0.0,0.0,0.0,180.0,0.0,0.0,0.0,180.0,180.0],\"deg_k_c\":[72.7803609136288,86.17299060813427,94.44514882997325,113.45526476255658,130.15169523160512,66.26706019592801,144.264523985133,153.7604895215813,-66.102374144331,-15.945395900922854,-72.23574091208901,-71.37842063351242,-72.57850244555165,113.19859051364818,-100.88552705465874,109.98310652189998,-86.9059419410829,180.0,180.0,0.0,0.0,0.0,0.0,180.0,0.0,0.0,180.0,180.0],\"deg_k_n\":[129.25809625189234,129.39728925851307,129.5172193846981,129.7706026140227,129.770602614084,129.949077364084,129.94907736418224,130.03920898395722,130.06794547527758,128.32006528834918,129.16367930108552,129.16367930109635,129.34394161688653,129.3439416168864,129.49569977415203,129.98172667772283,130.13572371627026,180.0,180.0,180.0,180.0,180.0,180.0,180.0,180.0,180.0,180.0,180.0],\"i_j_a_m\":[91.74450775157497,91.74450775157091,85.08222762442705,61.59590471535782,61.59590471535527,36.92820441866038,36.92820441865928,36.9282044186582,21.178780082553946,6.662280149621967,23.486432541193846,23.486432541210956,23.486432541226268,23.486432541243303,24.667703693267747,15.749424343821769,21.178780082572562,260.94082581149996,241.99643340299372,175.7421226902079,105.44336867181846,60.45757760023116,18.944392408433487,70.29875401775644,44.985791071041604,60.48424678437004,66.25431071296043,66.28071870378335],\"i_j_b_m\":[6.112903206462595e-10,6.087420566406811e-10,5.125354444064949e-10,5.22241092821614e-10,5.361370982458615e-10,2.5182386628732084e-10,2.6395337528875613e-10,2.818028642911459e-10,9.7134513332067e-11,1.2297111682519208e-12,9.667473066167266e-11,6.373462985292158e-11,3.2764696530396495e-11,1.368970808788651e-12,3.595093471822542e-13,1.3306703193301957e-12,1.4380373887290168e-12,1.7938144674714744e-29,1.7938144674715036e-29,8.57594660166788e-43,6.333869058748173e-43,4.484155085839415e-43,1.1210387714598537e-43,0.0,0.0,0.0,1.7938144674715977e-29,1.7938144674715596e-29],\"i_j_c_m\":[3.9324788245917635e-10,4.019835402575579e-10,2.5816355958042396e-10,2.399222199942153e-10,2.891478051675038e-10,5.7623864621708527e-11,9.187697290999333e-11,1.7896778283763512e-10,1.2235746279549272e-10,8.276526715781663e-13,1.0135262878528038e-10,6.6221973062105e-11,3.455425357505327e-11,8.658131612109979e-13,3.0100187120464685e-12,1.3306703193301957e-12,4.212553747867993e-12,4.261372972758481e-30,4.261372972758315e-30,2.8446358825793787e-43,2.214051573633211e-43,1.0930128021733573e-43,0.0,1.0930128021733573e-43,0.0,0.0,4.261372972758615e-30,4.261372972758644e-30],\"i_j_n_m\":[42.393249462271434,38.52763572390135,34.66844210239739,23.115941754536234,23.115941754478722,15.406629284658468,15.406629284614159,11.553556616007203,7.702789086743815,3.8599517600239253,7.693972259498111,7.693972259502812,3.8449068210909467,3.84490682109741,3.853936014875317,3.8507704358871395,3.8505712586613763,260.940825809924,241.9964334014877,175.74212268827813,105.44336867053113,60.4575775994831,18.94439240843633,70.29875401775394,44.98579107105547,60.48424678437641,66.25431071320855,66.28071870378585],\"i_k_a_m\":[91.74450775157497,91.74450775157091,85.08222762442705,61.59590471535782,61.59590471535527,36.92820441866038,36.92820441865928,36.9282044186582,21.178780082553946,6.662280149621967,23.486432541193846,23.486432541210956,23.486432541226268,23.486432541243303,24.667703693267747,15.749424343821769,21.178780082572562,260.94082581149996,241.99643340299372,175.7421226902079,105.44336867181846,60.45757760023116,18.944392408433487,70.29875401775644,44.985791071041604,60.48424678437004,66.25431071296043,66.28071870378335],\"i_k_b_m\":[6.112903206462595e-10,6.087420566406811e-10,5.125354444064949e-10,5.22241092821614e-10,5.361370982458615e-10,2.5182386628732084e-10,2.6395337528875613e-10,2.818028642911459e-10,9.7134513332067e-11,1.2297111682519208e-12,9.667473066167266e-11,6.373462985292158e-11,3.2764696530396495e-11,1.368970808788651e-12,3.595093471822542e-13,1.3306703193301957e-12,1.4380373887290168e-12,1.7938144674714744e-29,1.7938144674715036e-29,8.57594660166788e-43,6.333869058748173e-43,4.484155085839415e-43,1.1210387714598537e-43,0.0,0.0,0.0,1.7938144674715977e-29,1.7938144674715596e-29],\"i_k_c_m\":[3.9324788245917635e-10,4.019835402575579e-10,2.5816355958042396e-10,2.399222199942153e-10,2.891478051675038e-10,5.7623864621708527e-11,9.187697290999333e-11,1.7896778283763512e-10,1.2235746279549272e-10,8.276526715781663e-13,1.0135262878528038e-10,6.6221973062105e-11,3.455425357505327e-11,8.658131612109979e-13,3.0100187120464685e-12,1.3306703193301957e-12,4.212553747867993e-12,4.261372972758481e-30,4.261372972758315e-30,2.8446358825793787e-43,2.214051573633211e-43,1.0930128021733573e-43,0.0,1.0930128021733573e-43,0.0,0.0,4.261372972758615e-30,4.261372972758644e-30],\"i_k_n_m\":[42.393249462271434,38.52763572390135,34.66844210239739,23.115941754536234,23.115941754478722,15.406629284658468,15.406629284614159,11.553556616007203,7.702789086743815,3.8599517600239253,7.693972259498111,7.693972259502812,3.8449068210909467,3.84490682109741,3.853936014875317,3.8507704358871395,3.8505712586613763,260.940825809924,241.9964334014877,175.74212268827813,105.44336867053113,60.4575775994831,18.94439240843633,70.29875401775394,44.98579107105547,60.48424678437641,66.25431071320855,66.28071870378585],\"line_id\":[\"R1-R2\",\"R2-R3\",\"R3-R4\",\"R4-R5\",\"R5-R6\",\"R6-R7\",\"R7-R8\",\"R8-R9\",\"R9-R10\",\"R3-R11\",\"R4-R12\",\"R12-R13\",\"R13-R14\",\"R14-R15\",\"R6-R16\",\"R9-R17\",\"R10-R18\",\"D1-D3\",\"D3-D4\",\"D4-D6\",\"D6-D9\",\"D9-D10\",\"D3-D11\",\"D6-D16\",\"D9-D17\",\"D10-D18\",\"D4-D14\",\"D14-D15\"],\"x_s\":[[0,0],[0,0],[0,0],[0,0],[0,0],[0,0],[0,0],[0,0],[0,0],[0,-30],[0,35],[35,70],[70,105],[105,105],[0,-35],[0,30],[0,-30],[4,4],[4,4],[4,4],[4,4],[4,4],[4,-30],[4,-35],[4,30],[4,-30],[4,109],[109,109]],\"y_s\":[[0,-35],[-35,-70],[-70,-105],[-105,-140],[-140,-175],[-175,-210],[-210,-245],[-245,-280],[-280,-315],[-70,-70],[-105,-105],[-105,-105],[-105,-105],[-105,-140],[-175,-175],[-280,-280],[-315,-315],[0,-55],[-55,-90],[-90,-190],[-190,-265],[-265,-330],[-55,-55],[-190,-190],[-265,-265],[-330,-330],[-90,-90],[-90,-140]]},\"selected\":{\"id\":\"1222\"},\"selection_policy\":{\"id\":\"1221\"}},\"id\":\"1183\",\"type\":\"ColumnDataSource\"},{\"attributes\":{\"callback\":null,\"renderers\":[{\"id\":\"1187\"}],\"tooltips\":\"\\n            <div>\\n            line id = @line_id \\n            <table border=\\\"5\\\">\\n                <tr >\\n                    <td>I<sub>ja</sub> =  @i_j_a_m &ang; @deg_j_a </td>\\n                    <td>I<sub>ka</sub> =  @i_k_a_m &ang; @deg_k_a </td>\\n                </tr>\\n                <tr>\\n                    <td >I<sub>jb</sub> =  @i_j_b_m &ang; @deg_j_b </td>\\n                    <td >I<sub>kb</sub> =  @i_k_b_m &ang; @deg_k_b </td>\\n                </tr>\\n                <tr>\\n                    <td >I<sub>jc</sub> =  @i_j_c_m &ang; @deg_j_c </td>\\n                    <td >I<sub>kc</sub> =  @i_k_c_m &ang; @deg_k_c </td>\\n                </tr>\\n                <tr>\\n                    <td >I<sub>jn</sub> =  @i_j_n_m &ang; @deg_j_n </td>\\n                    <td >I<sub>kn</sub> =  @i_k_n_m &ang; @deg_k_n </td>\\n                </tr>\\n            </table>            \\n            </div>\\n            \"},\"id\":\"1197\",\"type\":\"HoverTool\"},{\"attributes\":{},\"id\":\"1215\",\"type\":\"BasicTickFormatter\"},{\"attributes\":{\"line_alpha\":{\"value\":0.5},\"line_color\":{\"value\":\"red\"},\"line_width\":{\"value\":5},\"xs\":{\"field\":\"x_s\"},\"ys\":{\"field\":\"y_s\"}},\"id\":\"1185\",\"type\":\"MultiLine\"},{\"attributes\":{\"source\":{\"id\":\"1183\"}},\"id\":\"1188\",\"type\":\"CDSView\"},{\"attributes\":{\"fill_alpha\":{\"value\":0.5},\"fill_color\":{\"value\":\"navy\"},\"line_alpha\":{\"value\":0.5},\"line_color\":{\"value\":\"navy\"},\"size\":{\"units\":\"screen\",\"value\":15},\"x\":{\"field\":\"x\"},\"y\":{\"field\":\"y\"}},\"id\":\"1191\",\"type\":\"Circle\"},{\"attributes\":{\"data\":{\"bus_id\":[\"R0\",\"R1\",\"R2\",\"R3\",\"R4\",\"R5\",\"R6\",\"R7\",\"R8\",\"R9\",\"R10\",\"R11\",\"R12\",\"R13\",\"R14\",\"R15\",\"R16\",\"R17\",\"R18\",\"D1\",\"D3\",\"D4\",\"D6\",\"D9\",\"D10\",\"D11\",\"D16\",\"D17\",\"D18\",\"D14\",\"D15\"],\"deg_an\":[\"0.00\",\"-32.06\",\"-32.08\",\"-32.10\",\"-32.12\",\"-32.14\",\"-32.15\",\"-32.16\",\"-32.17\",\"-32.18\",\"-32.19\",\"-32.08\",\"-32.07\",\"-32.02\",\"-31.98\",\"-31.93\",\"-32.11\",\"-32.15\",\"-32.15\",\"0.00\",\"0.00\",\"0.00\",\"0.00\",\"0.00\",\"0.00\",\"0.00\",\"0.00\",\"0.00\",\"0.00\",\"0.00\",\"0.00\"],\"deg_bn\":[\"-120.00\",\"-151.80\",\"-151.85\",\"-151.90\",\"-151.94\",\"-151.97\",\"-152.00\",\"-152.01\",\"-152.03\",\"-152.05\",\"-152.06\",\"-151.92\",\"-151.99\",\"-152.05\",\"-152.07\",\"-152.10\",\"-152.02\",\"-152.07\",\"-152.08\",\"180.00\",\"180.00\",\"180.00\",\"180.00\",\"180.00\",\"180.00\",\"180.00\",\"180.00\",\"180.00\",\"180.00\",\"180.00\",\"180.00\"],\"deg_cn\":[\"120.00\",\"88.20\",\"88.25\",\"88.29\",\"88.33\",\"88.35\",\"88.38\",\"88.39\",\"88.41\",\"88.42\",\"88.43\",\"88.31\",\"88.37\",\"88.40\",\"88.42\",\"88.44\",\"88.39\",\"88.44\",\"88.44\",\"180.00\",\"180.00\",\"180.00\",\"180.00\",\"180.00\",\"180.00\",\"180.00\",\"180.00\",\"180.00\",\"180.00\",\"180.00\",\"180.00\"],\"deg_ng\":[\"0.00\",\"127.48\",\"127.87\",\"128.30\",\"128.70\",\"129.02\",\"129.33\",\"129.51\",\"129.68\",\"129.89\",\"130.00\",\"128.32\",\"128.84\",\"128.98\",\"129.16\",\"129.34\",\"129.50\",\"129.98\",\"130.14\",\"0.00\",\"0.00\",\"0.00\",\"0.00\",\"0.00\",\"0.00\",\"0.00\",\"0.00\",\"0.00\",\"0.00\",\"0.00\",\"0.00\"],\"p_a\":[\"142.97\",\"-134.07\",\"0.00\",\"0.00\",\"0.00\",\"0.00\",\"0.00\",\"0.00\",\"0.00\",\"0.00\",\"0.00\",\"-1.43\",\"0.00\",\"0.00\",\"0.00\",\"-4.94\",\"-5.23\",\"-3.33\",\"-4.46\",\"208.68\",\"0.00\",\"0.00\",\"0.00\",\"0.00\",\"0.02\",\"-15.00\",\"-55.00\",\"-35.00\",\"-47.00\",\"0.02\",\"-52.00\"],\"p_abc\":[\"425.80\",\"-402.22\",\"0.00\",\"0.00\",\"0.00\",\"0.00\",\"0.00\",\"0.00\",\"0.00\",\"0.00\",\"0.00\",\"-1.43\",\"0.00\",\"0.00\",\"0.00\",\"-4.94\",\"-5.23\",\"-3.33\",\"-4.46\",\"208.68\",\"0.00\",\"0.00\",\"0.00\",\"0.00\",\"0.02\",\"-15.00\",\"-55.00\",\"-35.00\",\"-47.00\",\"0.02\",\"-52.00\"],\"p_b\":[\"135.21\",\"-134.07\",\"-0.00\",\"-0.00\",\"-0.00\",\"-0.00\",\"-0.00\",\"-0.00\",\"-0.00\",\"-0.00\",\"-0.00\",\"0.00\",\"-0.00\",\"-0.00\",\"-0.00\",\"0.00\",\"0.00\",\"0.00\",\"0.00\",\"0.00\",\"0.00\",\"0.00\",\"0.00\",\"0.00\",\"0.00\",\"0.00\",\"0.00\",\"0.00\",\"0.00\",\"0.00\",\"0.00\"],\"p_c\":[\"147.61\",\"-134.07\",\"0.00\",\"0.00\",\"0.00\",\"0.00\",\"0.00\",\"0.00\",\"0.00\",\"0.00\",\"0.00\",\"0.00\",\"0.00\",\"0.00\",\"0.00\",\"0.00\",\"0.00\",\"0.00\",\"0.00\",\"0.00\",\"0.00\",\"0.00\",\"0.00\",\"0.00\",\"0.00\",\"0.00\",\"0.00\",\"0.00\",\"0.00\",\"0.00\",\"0.00\"],\"q_a\":[\"35.20\",\"-20.82\",\"-0.00\",\"-0.00\",\"-0.00\",\"-0.00\",\"-0.00\",\"-0.00\",\"-0.00\",\"-0.00\",\"-0.00\",\"-0.47\",\"-0.00\",\"-0.00\",\"-0.00\",\"-1.62\",\"-1.72\",\"-1.09\",\"-1.47\",\"0.00\",\"0.00\",\"0.00\",\"0.00\",\"0.00\",\"0.00\",\"-0.00\",\"-0.00\",\"-0.00\",\"-0.00\",\"0.00\",\"-0.00\"],\"q_abc\":[\"84.11\",\"-62.45\",\"0.00\",\"0.00\",\"0.00\",\"0.00\",\"0.00\",\"0.00\",\"0.00\",\"0.00\",\"0.00\",\"-0.47\",\"0.00\",\"0.00\",\"0.00\",\"-1.62\",\"-1.72\",\"-1.09\",\"-1.47\",\"0.00\",\"0.00\",\"0.00\",\"0.00\",\"0.00\",\"0.00\",\"0.00\",\"0.00\",\"0.00\",\"0.00\",\"0.00\",\"0.00\"],\"q_b\":[\"25.36\",\"-20.82\",\"0.00\",\"0.00\",\"0.00\",\"0.00\",\"0.00\",\"0.00\",\"0.00\",\"0.00\",\"0.00\",\"-0.00\",\"0.00\",\"0.00\",\"0.00\",\"-0.00\",\"-0.00\",\"-0.00\",\"-0.00\",\"0.00\",\"0.00\",\"0.00\",\"0.00\",\"0.00\",\"0.00\",\"0.00\",\"0.00\",\"0.00\",\"0.00\",\"0.00\",\"0.00\"],\"q_c\":[\"23.55\",\"-20.82\",\"0.00\",\"0.00\",\"0.00\",\"0.00\",\"0.00\",\"0.00\",\"0.00\",\"0.00\",\"0.00\",\"-0.00\",\"0.00\",\"0.00\",\"0.00\",\"0.00\",\"-0.00\",\"-0.00\",\"-0.00\",\"0.00\",\"0.00\",\"0.00\",\"0.00\",\"0.00\",\"0.00\",\"0.00\",\"0.00\",\"0.00\",\"0.00\",\"0.00\",\"0.00\"],\"s_color\":[\"red\",\"green\",\"blue\",\"blue\",\"blue\",\"blue\",\"blue\",\"blue\",\"blue\",\"blue\",\"blue\",\"green\",\"blue\",\"blue\",\"blue\",\"green\",\"green\",\"green\",\"green\",\"red\",\"blue\",\"blue\",\"blue\",\"blue\",\"red\",\"green\",\"green\",\"green\",\"green\",\"red\",\"green\"],\"s_radio\":[6.588044694572415,6.379962765082192,1,1,1,1,1,1,1,1,1,1,1,1,1,1,1,1,1,4.568200636296803,1,1,1,1,1,1.2247448713915892,2.345207879911715,1.8708286933869707,2.16794833886788,1,2.280350850198276],\"u_avg_pu\":[\"1.000\",\"0.985\",\"0.985\",\"0.984\",\"0.983\",\"0.983\",\"0.982\",\"0.982\",\"0.982\",\"0.981\",\"0.981\",\"0.984\",\"0.982\",\"0.981\",\"0.980\",\"0.979\",\"0.981\",\"0.981\",\"0.981\",\"1.155\",\"1.155\",\"1.155\",\"1.155\",\"1.155\",\"1.155\",\"1.155\",\"1.155\",\"1.155\",\"1.155\",\"1.155\",\"1.155\"],\"v_ab\":[19999.99067499782,393.4003966143325,392.9019967772376,392.40146812820353,391.9367773020297,391.5994026257631,391.2621001865981,391.0608081823452,390.8595427033216,390.6560766956213,390.54001398821345,392.2630799760677,391.4446131816341,390.95300574863336,390.4597049974452,389.96696053565825,390.8185738989051,390.37392228642403,390.1600134595964,800.0,796.1459040027642,794.358760342083,791.7630491899487,789.4269513570246,789.0442548908151,796.0259859988188,791.3180580770163,789.1421912995448,788.66138960867,792.8908960882374,792.40141298061],\"v_an\":[\"11547.00\",\"227.08\",\"226.25\",\"225.44\",\"224.70\",\"224.18\",\"223.65\",\"223.33\",\"223.00\",\"222.70\",\"222.53\",\"225.15\",\"223.82\",\"222.94\",\"222.17\",\"221.40\",\"222.96\",\"222.23\",\"221.92\",\"799.74\",\"792.03\",\"788.46\",\"783.27\",\"778.59\",\"777.83\",\"791.79\",\"782.38\",\"778.02\",\"777.06\",\"785.52\",\"784.54\"],\"v_an_pu\":[\"1.0000\",\"0.9833\",\"0.9797\",\"0.9762\",\"0.9730\",\"0.9707\",\"0.9684\",\"0.9670\",\"0.9656\",\"0.9643\",\"0.9636\",\"0.9749\",\"0.9692\",\"0.9654\",\"0.9620\",\"0.9587\",\"0.9655\",\"0.9623\",\"0.9609\",\"3.4630\",\"3.4296\",\"3.4141\",\"3.3916\",\"3.3714\",\"3.3681\",\"3.4286\",\"3.3878\",\"3.3689\",\"3.3648\",\"3.4014\",\"3.3972\"],\"v_bc\":[19999.990674997825,394.51440338070216,394.6122808374851,394.70736890616286,394.79479856050835,394.85665915326405,394.9185208297177,394.9567490599997,394.99497770169955,395.03039314747474,395.05149336867186,394.7150297089671,394.81756786161816,394.8403373095461,394.86030799411986,394.8802787902823,394.93637054754515,395.0426635659046,395.06716376473463,0.0,2.0200591803789403e-31,3.0300887705684438e-31,3.0300887705683597e-31,3.0300887705682686e-31,3.0300887705682476e-31,2.0200591803789473e-31,3.0300887705683527e-31,3.0300887705682686e-31,3.0300887705682476e-31,6.060177541137098e-31,7.070207131326619e-31],\"v_bn\":[\"11547.00\",\"227.77\",\"227.96\",\"228.13\",\"228.28\",\"228.38\",\"228.49\",\"228.56\",\"228.62\",\"228.68\",\"228.71\",\"228.16\",\"228.35\",\"228.42\",\"228.46\",\"228.49\",\"228.52\",\"228.71\",\"228.74\",\"0.26\",\"4.12\",\"5.90\",\"8.50\",\"10.83\",\"11.22\",\"4.23\",\"8.94\",\"11.12\",\"11.60\",\"7.37\",\"7.86\"],\"v_bn_pu\":[\"1.0000\",\"0.9863\",\"0.9871\",\"0.9878\",\"0.9885\",\"0.9889\",\"0.9894\",\"0.9897\",\"0.9900\",\"0.9902\",\"0.9903\",\"0.9880\",\"0.9888\",\"0.9891\",\"0.9892\",\"0.9894\",\"0.9895\",\"0.9903\",\"0.9905\",\"0.0011\",\"0.0178\",\"0.0256\",\"0.0368\",\"0.0469\",\"0.0486\",\"0.0183\",\"0.0387\",\"0.0481\",\"0.0502\",\"0.0319\",\"0.0340\"],\"v_ca\":[19999.99067499783,394.43077547204354,393.9841305267556,393.5379077329542,393.12446952073043,392.8251138023649,392.5259496490443,392.3466409969541,392.16740141015805,391.98823098339807,391.88550744763984,393.3550755468343,392.48078174862985,391.83721902872827,391.1937819782049,390.5504712181861,391.9461062420971,391.6180813568254,391.38781253188563,800.0,796.1459040027642,794.358760342083,791.7630491899487,789.4269513570246,789.0442548908151,796.0259859988188,791.3180580770163,789.1421912995448,788.66138960867,792.8908960882374,792.40141298061],\"v_cn\":[\"11547.00\",\"227.77\",\"227.93\",\"228.07\",\"228.21\",\"228.30\",\"228.39\",\"228.44\",\"228.50\",\"228.55\",\"228.58\",\"228.16\",\"228.37\",\"228.54\",\"228.63\",\"228.72\",\"228.46\",\"228.62\",\"228.65\",\"0.26\",\"4.12\",\"5.90\",\"8.50\",\"10.83\",\"11.22\",\"4.23\",\"8.94\",\"11.12\",\"11.60\",\"7.37\",\"7.86\"],\"v_cn_pu\":[\"1.0000\",\"0.9863\",\"0.9870\",\"0.9876\",\"0.9882\",\"0.9886\",\"0.9889\",\"0.9892\",\"0.9894\",\"0.9897\",\"0.9898\",\"0.9879\",\"0.9889\",\"0.9896\",\"0.9900\",\"0.9904\",\"0.9893\",\"0.9900\",\"0.9901\",\"0.0011\",\"0.0178\",\"0.0256\",\"0.0368\",\"0.0469\",\"0.0486\",\"0.0183\",\"0.0387\",\"0.0481\",\"0.0502\",\"0.0319\",\"0.0340\"],\"v_ng\":[\"0.00\",\"154.88\",\"154.67\",\"154.51\",\"154.37\",\"154.30\",\"154.22\",\"154.17\",\"154.13\",\"154.11\",\"154.09\",\"154.40\",\"154.17\",\"153.96\",\"153.88\",\"153.80\",\"154.16\",\"154.03\",\"154.02\",\"0.26\",\"4.12\",\"5.90\",\"8.50\",\"10.83\",\"11.22\",\"4.23\",\"8.94\",\"11.12\",\"11.60\",\"7.37\",\"7.86\"],\"v_unb\":[\"0.0\",\"0.2\",\"0.5\",\"0.8\",\"1.0\",\"1.2\",\"1.4\",\"1.5\",\"1.6\",\"1.7\",\"1.8\",\"0.9\",\"1.3\",\"1.6\",\"1.9\",\"2.1\",\"1.6\",\"1.9\",\"2.0\",\"199.8\",\"196.9\",\"195.6\",\"193.6\",\"191.9\",\"191.6\",\"196.8\",\"193.3\",\"191.7\",\"191.3\",\"194.5\",\"194.1\"],\"x\":[0,0,0,0,0,0,0,0,0,0,0,-30,35,70,105,105,-35,30,-30,4,4,4,4,4,4,-30,-35,30,-30,109,109],\"y\":[20,0,-35,-70,-105,-140,-175,-210,-245,-280,-315,-70,-105,-105,-105,-140,-175,-280,-315,0,-55,-90,-190,-265,-330,-55,-190,-265,-330,-90,-140]},\"selected\":{\"id\":\"1224\"},\"selection_policy\":{\"id\":\"1223\"}},\"id\":\"1189\",\"type\":\"ColumnDataSource\"},{\"attributes\":{},\"id\":\"1148\",\"type\":\"DataRange1d\"}],\"root_ids\":[\"1145\"]},\"title\":\"Bokeh Application\",\"version\":\"2.0.0\"}};\n",
       "  var render_items = [{\"docid\":\"92fa7e6e-13d3-4882-a73c-767e9c28cddb\",\"root_ids\":[\"1145\"],\"roots\":{\"1145\":\"c0620833-3cb1-415b-b111-a95cee9f7aac\"}}];\n",
       "  root.Bokeh.embed.embed_items_notebook(docs_json, render_items);\n",
       "\n",
       "  }\n",
       "  if (root.Bokeh !== undefined) {\n",
       "    embed_document(root);\n",
       "  } else {\n",
       "    var attempts = 0;\n",
       "    var timer = setInterval(function(root) {\n",
       "      if (root.Bokeh !== undefined) {\n",
       "        clearInterval(timer);\n",
       "        embed_document(root);\n",
       "      } else {\n",
       "        attempts++;\n",
       "        if (attempts > 100) {\n",
       "          clearInterval(timer);\n",
       "          console.log(\"Bokeh: ERROR: Unable to run BokehJS code because BokehJS library is missing\");\n",
       "        }\n",
       "      }\n",
       "    }, 10, root)\n",
       "  }\n",
       "})(window);"
      ],
      "application/vnd.bokehjs_exec.v0+json": ""
     },
     "metadata": {
      "application/vnd.bokehjs_exec.v0+json": {
       "id": "1145"
      }
     },
     "output_type": "display_data"
    },
    {
     "data": {
      "text/html": [
       "<div style=\"display: table;\"><div style=\"display: table-row;\"><div style=\"display: table-cell;\"><b title=\"bokeh.plotting.figure.Figure\">Figure</b>(</div><div style=\"display: table-cell;\">id&nbsp;=&nbsp;'1145', <span id=\"1298\" style=\"cursor: pointer;\">&hellip;)</span></div></div><div class=\"1297\" style=\"display: none;\"><div style=\"display: table-cell;\"></div><div style=\"display: table-cell;\">above&nbsp;=&nbsp;[],</div></div><div class=\"1297\" style=\"display: none;\"><div style=\"display: table-cell;\"></div><div style=\"display: table-cell;\">align&nbsp;=&nbsp;'start',</div></div><div class=\"1297\" style=\"display: none;\"><div style=\"display: table-cell;\"></div><div style=\"display: table-cell;\">aspect_ratio&nbsp;=&nbsp;None,</div></div><div class=\"1297\" style=\"display: none;\"><div style=\"display: table-cell;\"></div><div style=\"display: table-cell;\">aspect_scale&nbsp;=&nbsp;1,</div></div><div class=\"1297\" style=\"display: none;\"><div style=\"display: table-cell;\"></div><div style=\"display: table-cell;\">background&nbsp;=&nbsp;None,</div></div><div class=\"1297\" style=\"display: none;\"><div style=\"display: table-cell;\"></div><div style=\"display: table-cell;\">background_fill_alpha&nbsp;=&nbsp;1.0,</div></div><div class=\"1297\" style=\"display: none;\"><div style=\"display: table-cell;\"></div><div style=\"display: table-cell;\">background_fill_color&nbsp;=&nbsp;'#ffffff',</div></div><div class=\"1297\" style=\"display: none;\"><div style=\"display: table-cell;\"></div><div style=\"display: table-cell;\">below&nbsp;=&nbsp;[LinearAxis(id='1156', ...)],</div></div><div class=\"1297\" style=\"display: none;\"><div style=\"display: table-cell;\"></div><div style=\"display: table-cell;\">border_fill_alpha&nbsp;=&nbsp;1.0,</div></div><div class=\"1297\" style=\"display: none;\"><div style=\"display: table-cell;\"></div><div style=\"display: table-cell;\">border_fill_color&nbsp;=&nbsp;'#ffffff',</div></div><div class=\"1297\" style=\"display: none;\"><div style=\"display: table-cell;\"></div><div style=\"display: table-cell;\">center&nbsp;=&nbsp;[Grid(id='1159', ...), Grid(id='1163', ...)],</div></div><div class=\"1297\" style=\"display: none;\"><div style=\"display: table-cell;\"></div><div style=\"display: table-cell;\">css_classes&nbsp;=&nbsp;[],</div></div><div class=\"1297\" style=\"display: none;\"><div style=\"display: table-cell;\"></div><div style=\"display: table-cell;\">disabled&nbsp;=&nbsp;False,</div></div><div class=\"1297\" style=\"display: none;\"><div style=\"display: table-cell;\"></div><div style=\"display: table-cell;\">extra_x_ranges&nbsp;=&nbsp;{},</div></div><div class=\"1297\" style=\"display: none;\"><div style=\"display: table-cell;\"></div><div style=\"display: table-cell;\">extra_y_ranges&nbsp;=&nbsp;{},</div></div><div class=\"1297\" style=\"display: none;\"><div style=\"display: table-cell;\"></div><div style=\"display: table-cell;\">frame_height&nbsp;=&nbsp;None,</div></div><div class=\"1297\" style=\"display: none;\"><div style=\"display: table-cell;\"></div><div style=\"display: table-cell;\">frame_width&nbsp;=&nbsp;None,</div></div><div class=\"1297\" style=\"display: none;\"><div style=\"display: table-cell;\"></div><div style=\"display: table-cell;\">height&nbsp;=&nbsp;None,</div></div><div class=\"1297\" style=\"display: none;\"><div style=\"display: table-cell;\"></div><div style=\"display: table-cell;\">height_policy&nbsp;=&nbsp;'auto',</div></div><div class=\"1297\" style=\"display: none;\"><div style=\"display: table-cell;\"></div><div style=\"display: table-cell;\">hidpi&nbsp;=&nbsp;True,</div></div><div class=\"1297\" style=\"display: none;\"><div style=\"display: table-cell;\"></div><div style=\"display: table-cell;\">js_event_callbacks&nbsp;=&nbsp;{},</div></div><div class=\"1297\" style=\"display: none;\"><div style=\"display: table-cell;\"></div><div style=\"display: table-cell;\">js_property_callbacks&nbsp;=&nbsp;{},</div></div><div class=\"1297\" style=\"display: none;\"><div style=\"display: table-cell;\"></div><div style=\"display: table-cell;\">left&nbsp;=&nbsp;[LinearAxis(id='1160', ...)],</div></div><div class=\"1297\" style=\"display: none;\"><div style=\"display: table-cell;\"></div><div style=\"display: table-cell;\">lod_factor&nbsp;=&nbsp;10,</div></div><div class=\"1297\" style=\"display: none;\"><div style=\"display: table-cell;\"></div><div style=\"display: table-cell;\">lod_interval&nbsp;=&nbsp;300,</div></div><div class=\"1297\" style=\"display: none;\"><div style=\"display: table-cell;\"></div><div style=\"display: table-cell;\">lod_threshold&nbsp;=&nbsp;2000,</div></div><div class=\"1297\" style=\"display: none;\"><div style=\"display: table-cell;\"></div><div style=\"display: table-cell;\">lod_timeout&nbsp;=&nbsp;500,</div></div><div class=\"1297\" style=\"display: none;\"><div style=\"display: table-cell;\"></div><div style=\"display: table-cell;\">margin&nbsp;=&nbsp;(0, 0, 0, 0),</div></div><div class=\"1297\" style=\"display: none;\"><div style=\"display: table-cell;\"></div><div style=\"display: table-cell;\">match_aspect&nbsp;=&nbsp;False,</div></div><div class=\"1297\" style=\"display: none;\"><div style=\"display: table-cell;\"></div><div style=\"display: table-cell;\">max_height&nbsp;=&nbsp;None,</div></div><div class=\"1297\" style=\"display: none;\"><div style=\"display: table-cell;\"></div><div style=\"display: table-cell;\">max_width&nbsp;=&nbsp;None,</div></div><div class=\"1297\" style=\"display: none;\"><div style=\"display: table-cell;\"></div><div style=\"display: table-cell;\">min_border&nbsp;=&nbsp;5,</div></div><div class=\"1297\" style=\"display: none;\"><div style=\"display: table-cell;\"></div><div style=\"display: table-cell;\">min_border_bottom&nbsp;=&nbsp;None,</div></div><div class=\"1297\" style=\"display: none;\"><div style=\"display: table-cell;\"></div><div style=\"display: table-cell;\">min_border_left&nbsp;=&nbsp;None,</div></div><div class=\"1297\" style=\"display: none;\"><div style=\"display: table-cell;\"></div><div style=\"display: table-cell;\">min_border_right&nbsp;=&nbsp;None,</div></div><div class=\"1297\" style=\"display: none;\"><div style=\"display: table-cell;\"></div><div style=\"display: table-cell;\">min_border_top&nbsp;=&nbsp;None,</div></div><div class=\"1297\" style=\"display: none;\"><div style=\"display: table-cell;\"></div><div style=\"display: table-cell;\">min_height&nbsp;=&nbsp;None,</div></div><div class=\"1297\" style=\"display: none;\"><div style=\"display: table-cell;\"></div><div style=\"display: table-cell;\">min_width&nbsp;=&nbsp;None,</div></div><div class=\"1297\" style=\"display: none;\"><div style=\"display: table-cell;\"></div><div style=\"display: table-cell;\">name&nbsp;=&nbsp;None,</div></div><div class=\"1297\" style=\"display: none;\"><div style=\"display: table-cell;\"></div><div style=\"display: table-cell;\">outline_line_alpha&nbsp;=&nbsp;1.0,</div></div><div class=\"1297\" style=\"display: none;\"><div style=\"display: table-cell;\"></div><div style=\"display: table-cell;\">outline_line_cap&nbsp;=&nbsp;'butt',</div></div><div class=\"1297\" style=\"display: none;\"><div style=\"display: table-cell;\"></div><div style=\"display: table-cell;\">outline_line_color&nbsp;=&nbsp;'#e5e5e5',</div></div><div class=\"1297\" style=\"display: none;\"><div style=\"display: table-cell;\"></div><div style=\"display: table-cell;\">outline_line_dash&nbsp;=&nbsp;[],</div></div><div class=\"1297\" style=\"display: none;\"><div style=\"display: table-cell;\"></div><div style=\"display: table-cell;\">outline_line_dash_offset&nbsp;=&nbsp;0,</div></div><div class=\"1297\" style=\"display: none;\"><div style=\"display: table-cell;\"></div><div style=\"display: table-cell;\">outline_line_join&nbsp;=&nbsp;'bevel',</div></div><div class=\"1297\" style=\"display: none;\"><div style=\"display: table-cell;\"></div><div style=\"display: table-cell;\">outline_line_width&nbsp;=&nbsp;1,</div></div><div class=\"1297\" style=\"display: none;\"><div style=\"display: table-cell;\"></div><div style=\"display: table-cell;\">output_backend&nbsp;=&nbsp;'canvas',</div></div><div class=\"1297\" style=\"display: none;\"><div style=\"display: table-cell;\"></div><div style=\"display: table-cell;\">plot_height&nbsp;=&nbsp;400,</div></div><div class=\"1297\" style=\"display: none;\"><div style=\"display: table-cell;\"></div><div style=\"display: table-cell;\">plot_width&nbsp;=&nbsp;600,</div></div><div class=\"1297\" style=\"display: none;\"><div style=\"display: table-cell;\"></div><div style=\"display: table-cell;\">renderers&nbsp;=&nbsp;[GlyphRenderer(id='1181', ...), GlyphRenderer(id='1187', ...), GlyphRenderer(id='1193', ...)],</div></div><div class=\"1297\" style=\"display: none;\"><div style=\"display: table-cell;\"></div><div style=\"display: table-cell;\">reset_policy&nbsp;=&nbsp;'standard',</div></div><div class=\"1297\" style=\"display: none;\"><div style=\"display: table-cell;\"></div><div style=\"display: table-cell;\">right&nbsp;=&nbsp;[],</div></div><div class=\"1297\" style=\"display: none;\"><div style=\"display: table-cell;\"></div><div style=\"display: table-cell;\">sizing_mode&nbsp;=&nbsp;None,</div></div><div class=\"1297\" style=\"display: none;\"><div style=\"display: table-cell;\"></div><div style=\"display: table-cell;\">subscribed_events&nbsp;=&nbsp;[],</div></div><div class=\"1297\" style=\"display: none;\"><div style=\"display: table-cell;\"></div><div style=\"display: table-cell;\">tags&nbsp;=&nbsp;[],</div></div><div class=\"1297\" style=\"display: none;\"><div style=\"display: table-cell;\"></div><div style=\"display: table-cell;\">title&nbsp;=&nbsp;Title(id='1146', ...),</div></div><div class=\"1297\" style=\"display: none;\"><div style=\"display: table-cell;\"></div><div style=\"display: table-cell;\">title_location&nbsp;=&nbsp;'above',</div></div><div class=\"1297\" style=\"display: none;\"><div style=\"display: table-cell;\"></div><div style=\"display: table-cell;\">toolbar&nbsp;=&nbsp;Toolbar(id='1170', ...),</div></div><div class=\"1297\" style=\"display: none;\"><div style=\"display: table-cell;\"></div><div style=\"display: table-cell;\">toolbar_location&nbsp;=&nbsp;'right',</div></div><div class=\"1297\" style=\"display: none;\"><div style=\"display: table-cell;\"></div><div style=\"display: table-cell;\">toolbar_sticky&nbsp;=&nbsp;True,</div></div><div class=\"1297\" style=\"display: none;\"><div style=\"display: table-cell;\"></div><div style=\"display: table-cell;\">visible&nbsp;=&nbsp;True,</div></div><div class=\"1297\" style=\"display: none;\"><div style=\"display: table-cell;\"></div><div style=\"display: table-cell;\">width&nbsp;=&nbsp;None,</div></div><div class=\"1297\" style=\"display: none;\"><div style=\"display: table-cell;\"></div><div style=\"display: table-cell;\">width_policy&nbsp;=&nbsp;'auto',</div></div><div class=\"1297\" style=\"display: none;\"><div style=\"display: table-cell;\"></div><div style=\"display: table-cell;\">x_range&nbsp;=&nbsp;DataRange1d(id='1148', ...),</div></div><div class=\"1297\" style=\"display: none;\"><div style=\"display: table-cell;\"></div><div style=\"display: table-cell;\">x_scale&nbsp;=&nbsp;LinearScale(id='1152', ...),</div></div><div class=\"1297\" style=\"display: none;\"><div style=\"display: table-cell;\"></div><div style=\"display: table-cell;\">y_range&nbsp;=&nbsp;DataRange1d(id='1150', ...),</div></div><div class=\"1297\" style=\"display: none;\"><div style=\"display: table-cell;\"></div><div style=\"display: table-cell;\">y_scale&nbsp;=&nbsp;LinearScale(id='1154', ...))</div></div></div>\n",
       "<script>\n",
       "(function() {\n",
       "  var expanded = false;\n",
       "  var ellipsis = document.getElementById(\"1298\");\n",
       "  ellipsis.addEventListener(\"click\", function() {\n",
       "    var rows = document.getElementsByClassName(\"1297\");\n",
       "    for (var i = 0; i < rows.length; i++) {\n",
       "      var el = rows[i];\n",
       "      el.style.display = expanded ? \"none\" : \"table-row\";\n",
       "    }\n",
       "    ellipsis.innerHTML = expanded ? \"&hellip;)\" : \"&lsaquo;&lsaquo;&lsaquo;\";\n",
       "    expanded = !expanded;\n",
       "  });\n",
       "})();\n",
       "</script>\n"
      ],
      "text/plain": [
       "Figure(id='1145', ...)"
      ]
     },
     "execution_count": 10,
     "metadata": {},
     "output_type": "execute_result"
    }
   ],
   "source": [
    "gt_grid_c3 = gt.grid(grid_c3)\n",
    "\n",
    "gt_grid_c3.dae2vi()\n",
    "\n",
    "gt_grid_c3.get_v()\n",
    "gt_grid_c3.get_i()\n",
    "\n",
    "gt_grid_c3.bokeh_tools()\n",
    "\n",
    "gt.plot_results(gt_grid_c3)"
   ]
  },
  {
   "cell_type": "code",
   "execution_count": 11,
   "metadata": {},
   "outputs": [],
   "source": [
    "grid = grid_c3\n",
    "grid.initialization_tol = 1e-8\n",
    "def obj_eval(x):\n",
    "    p_R10 = x[0]\n",
    "    q_R10 = x[1]\n",
    "    p_R14 = x[2]\n",
    "    q_R14 = x[3]\n",
    "    #\n",
    "    grid.set_value('p_R10', p_R10)\n",
    "    grid.set_value('p_R14', p_R14)\n",
    "    grid.set_value('q_R10', q_R10)\n",
    "    grid.set_value('q_R14', q_R14)\n",
    "    \n",
    "    grid.ss()\n",
    "\n",
    "    bus_from,bus_to = 'R0','R1'\n",
    "    i_t_r_list = []\n",
    "    i_t_i_list = []\n",
    "    for ph in ['a','b','c']:\n",
    "        i_t_r_list += [f'i_t_{bus_from}_{bus_to}_{ph}_r']\n",
    "        i_t_i_list += [f'i_t_{bus_from}_{bus_to}_{ph}_i']\n",
    "    i_t = np.array(grid.get_mvalue(i_t_r_list)) +1j*np.array(grid.get_mvalue(i_t_i_list))\n",
    "\n",
    "    v_t = gt.get_voltage(grid,bus_from,output='v_abcn')\n",
    "\n",
    "    s_t = v_t.T @ np.conj(i_t).reshape(3,1)\n",
    "    p_loss = float(s_t.real+grid_c3.p_ac_loads+grid_c3.p_dc_loads)\n",
    "    #print(f'p_loss = {p_loss/1e3:0.2f}')\n",
    "\n",
    "    return p_loss\n"
   ]
  },
  {
   "cell_type": "code",
   "execution_count": 26,
   "metadata": {},
   "outputs": [
    {
     "data": {
      "text/plain": [
       "   direc: array([[   0.        ,    0.        ,    0.        ,    1.        ],\n",
       "       [   0.        ,    1.        ,    0.        ,    0.        ],\n",
       "       [   0.        ,    0.        ,    1.        ,    0.        ],\n",
       "       [-297.41706976,  -31.8052777 ,   57.16811962,   10.44169443]])\n",
       "     fun: array(25377.29323184)\n",
       " message: 'Optimization terminated successfully.'\n",
       "    nfev: 262\n",
       "     nit: 3\n",
       "  status: 0\n",
       " success: True\n",
       "       x: array([28421.94957707, 15531.61331538, 23105.72994969,  9430.9358909 ])"
      ]
     },
     "execution_count": 26,
     "metadata": {},
     "output_type": "execute_result"
    }
   ],
   "source": [
    "sol = sopt.minimize(obj_eval,[10e3]*4,method='Powell',bounds=[(-50e3,50e3)]*4) # SLSQP, Powell\n",
    "sol"
   ]
  },
  {
   "cell_type": "code",
   "execution_count": 27,
   "metadata": {},
   "outputs": [
    {
     "data": {
      "text/html": [
       "\n",
       "\n",
       "\n",
       "\n",
       "\n",
       "\n",
       "  <div class=\"bk-root\" id=\"e4e6e64e-4837-4a89-b6f5-5e0af3327c6c\" data-root-id=\"1145\"></div>\n"
      ]
     },
     "metadata": {},
     "output_type": "display_data"
    },
    {
     "data": {
      "application/javascript": [
       "(function(root) {\n",
       "  function embed_document(root) {\n",
       "    \n",
       "  var docs_json = {\"5505b6cd-60e2-40b0-b75a-81c1092ec500\":{\"roots\":{\"references\":[{\"attributes\":{\"below\":[{\"id\":\"1156\"}],\"center\":[{\"id\":\"1159\"},{\"id\":\"1163\"}],\"left\":[{\"id\":\"1160\"}],\"plot_height\":400,\"renderers\":[{\"id\":\"1181\"},{\"id\":\"1187\"},{\"id\":\"1193\"}],\"title\":{\"id\":\"1146\"},\"toolbar\":{\"id\":\"1170\"},\"x_range\":{\"id\":\"1148\"},\"x_scale\":{\"id\":\"1152\"},\"y_range\":{\"id\":\"1150\"},\"y_scale\":{\"id\":\"1154\"}},\"id\":\"1145\",\"subtype\":\"Figure\",\"type\":\"Plot\"},{\"attributes\":{\"axis\":{\"id\":\"1160\"},\"dimension\":1,\"ticker\":null},\"id\":\"1163\",\"type\":\"Grid\"},{\"attributes\":{\"active_drag\":\"auto\",\"active_inspect\":\"auto\",\"active_multi\":null,\"active_scroll\":\"auto\",\"active_tap\":\"auto\",\"tools\":[{\"id\":\"1164\"},{\"id\":\"1165\"},{\"id\":\"1166\"},{\"id\":\"1167\"},{\"id\":\"1168\"},{\"id\":\"1169\"},{\"id\":\"1195\"},{\"id\":\"1197\"},{\"id\":\"1199\"}]},\"id\":\"1170\",\"type\":\"Toolbar\"},{\"attributes\":{\"data_source\":{\"id\":\"1183\"},\"glyph\":{\"id\":\"1185\"},\"hover_glyph\":null,\"muted_glyph\":null,\"nonselection_glyph\":{\"id\":\"1186\"},\"selection_glyph\":null,\"view\":{\"id\":\"1188\"}},\"id\":\"1187\",\"type\":\"GlyphRenderer\"},{\"attributes\":{},\"id\":\"1222\",\"type\":\"Selection\"},{\"attributes\":{},\"id\":\"1165\",\"type\":\"WheelZoomTool\"},{\"attributes\":{},\"id\":\"1217\",\"type\":\"BasicTickFormatter\"},{\"attributes\":{},\"id\":\"1169\",\"type\":\"HelpTool\"},{\"attributes\":{\"overlay\":{\"id\":\"1224\"}},\"id\":\"1166\",\"type\":\"BoxZoomTool\"},{\"attributes\":{},\"id\":\"1167\",\"type\":\"SaveTool\"},{\"attributes\":{},\"id\":\"1168\",\"type\":\"ResetTool\"},{\"attributes\":{\"data_source\":{\"id\":\"1177\"},\"glyph\":{\"id\":\"1179\"},\"hover_glyph\":null,\"muted_glyph\":null,\"nonselection_glyph\":{\"id\":\"1180\"},\"selection_glyph\":null,\"view\":{\"id\":\"1182\"}},\"id\":\"1181\",\"type\":\"GlyphRenderer\"},{\"attributes\":{\"line_alpha\":{\"value\":0.5},\"line_color\":{\"value\":\"green\"},\"line_width\":{\"value\":5},\"xs\":{\"field\":\"x_s\"},\"ys\":{\"field\":\"y_s\"}},\"id\":\"1179\",\"type\":\"MultiLine\"},{\"attributes\":{\"line_alpha\":{\"value\":0.1},\"line_color\":{\"value\":\"green\"},\"line_width\":{\"value\":5},\"xs\":{\"field\":\"x_s\"},\"ys\":{\"field\":\"y_s\"}},\"id\":\"1180\",\"type\":\"MultiLine\"},{\"attributes\":{\"fill_alpha\":{\"value\":0.1},\"fill_color\":{\"value\":\"navy\"},\"line_alpha\":{\"value\":0.1},\"line_color\":{\"value\":\"navy\"},\"size\":{\"units\":\"screen\",\"value\":15},\"x\":{\"field\":\"x\"},\"y\":{\"field\":\"y\"}},\"id\":\"1192\",\"type\":\"Circle\"},{\"attributes\":{\"source\":{\"id\":\"1177\"}},\"id\":\"1182\",\"type\":\"CDSView\"},{\"attributes\":{\"callback\":null,\"renderers\":[{\"id\":\"1193\"}],\"tooltips\":\"\\n            <div>\\n            bus_id = @bus_id &nbsp &nbsp |  u<sub>avg</sub>= @u_avg_pu pu |  u<sub>unb</sub>= @v_unb %\\n            <table border=\\\"1\\\">\\n                <tr>\\n                <td>v<sub>an</sub> =  @v_an  &ang; @deg_an V </td> <td> S<sub>a</sub> = @p_a + j@q_a kVA</td>\\n                </tr>\\n                      <tr>\\n                      <td> </td> <td>v<sub>ab</sub>= @v_ab V</td>\\n                      </tr>\\n                <tr>\\n                <td>v<sub>bn</sub> = @v_bn &ang; @deg_bn V </td><td> S<sub>b</sub> = @p_b + j@q_b kVA</td>\\n                </tr>\\n                      <tr>\\n                      <td> </td><td>v<sub>bc</sub>= @v_bc V</td>\\n                      </tr>\\n                <tr>\\n                <td>v<sub>cn</sub>  = @v_cn &ang; @deg_cn V </td>  <td>S<sub>c</sub> = @p_c + j@q_c kVA </td>\\n                </tr> \\n                    <tr>\\n                     <td> </td> <td>v<sub>ca</sub>= @v_ca V</td>\\n                    </tr>\\n               <tr>\\n                <td>v<sub>ng</sub>    = @v_ng &ang; @deg_ng V</td>  <td>S<sub>abc</sub> = @p_abc + j@q_abc kVA </td>\\n              </tr>\\n            </table>\\n            </div>\\n            \"},\"id\":\"1199\",\"type\":\"HoverTool\"},{\"attributes\":{\"data\":{\"deg_j_a\":[-42.035212409626276,-42.03521240960941,-40.41238396959064,-42.604644683371006,-42.60464468334806,-21.154096216837406,-21.154096216763676,-21.154096216696757,89.82427651113179,-51.22441927554939,-7.274314164218458,-7.274314164309818,-7.2743141643758,-51.40160784103744,-51.45160973456381,-51.926319503421546,-51.92074619336847,0.0,0.0,0.0,0.0,0.0,0.0,0.0,0.0,0.0,0.0,0.0],\"deg_j_b\":[-131.60068087248513,-130.17622001404698,-114.57036990350893,-113.43970983506188,-108.85505087315853,-98.80965521507783,-96.22027609949929,-91.52619368189139,4.235767051452666,33.281305522835986,25.9886916708466,27.5274512812959,26.672231826132695,85.7493454253488,102.63336193527502,6.829244303198068,-64.27438735663432,0.0,0.0,180.0,180.0,180.0,0.0,0.0,180.0,0.0,0.0,0.0],\"deg_j_c\":[58.47426783504217,71.85029819479513,77.95214801019131,98.02252121692442,111.54979684199559,60.214911145087385,120.35009589418704,135.47912337223724,-82.37078182551988,118.68523532224665,-82.75798512097356,-82.9964693519198,-82.67235330117279,-117.699472808055,112.41614747934365,99.00850374202516,113.732939804072,0.0,0.0,180.0,180.0,180.0,0.0,0.0,0.0,180.0,0.0,0.0],\"deg_j_n\":[137.38070450573426,137.42253578639705,139.00233028047424,136.96800332154075,136.96800332154987,157.9413841612115,157.941384161249,158.1766684245235,-89.77797342194773,128.50670586319927,170.99017019697158,170.9901701969686,171.98677080024189,128.50372926164655,128.4554566191497,127.91511999378781,127.95997922561338,180.0,180.0,180.0,180.0,180.0,180.0,180.0,180.0,180.0,180.0,180.0],\"deg_k_a\":[-42.035212409626276,-42.03521240960941,-40.41238396959064,-42.604644683371006,-42.60464468334806,-21.154096216837406,-21.154096216763676,-21.154096216696757,89.82427651113179,-51.22441927554939,-7.274314164218458,-7.274314164309818,-7.2743141643758,-51.40160784103744,-51.45160973456381,-51.926319503421546,-51.92074619336847,0.0,0.0,0.0,0.0,0.0,0.0,0.0,0.0,0.0,0.0,0.0],\"deg_k_b\":[-131.60068087248513,-130.17622001404698,-114.57036990350893,-113.43970983506188,-108.85505087315853,-98.80965521507783,-96.22027609949929,-91.52619368189139,4.235767051452666,33.281305522835986,25.9886916708466,27.5274512812959,26.672231826132695,85.7493454253488,102.63336193527502,6.829244303198068,-64.27438735663432,0.0,0.0,180.0,180.0,180.0,0.0,0.0,180.0,0.0,0.0,0.0],\"deg_k_c\":[58.47426783504217,71.85029819479513,77.95214801019131,98.02252121692442,111.54979684199559,60.214911145087385,120.35009589418704,135.47912337223724,-82.37078182551988,118.68523532224665,-82.75798512097356,-82.9964693519198,-82.67235330117279,-117.699472808055,112.41614747934365,99.00850374202516,113.732939804072,0.0,0.0,180.0,180.0,180.0,0.0,0.0,0.0,180.0,0.0,0.0],\"deg_k_n\":[137.38070450573426,137.42253578639705,139.00233028047424,136.96800332154075,136.96800332154987,157.9413841612115,157.941384161249,158.1766684245235,-89.77797342194773,128.50670586319927,170.99017019697158,170.9901701969686,171.98677080024189,128.50372926164655,128.4554566191497,127.91511999378781,127.95997922561338,180.0,180.0,180.0,180.0,180.0,180.0,180.0,180.0,180.0,180.0,180.0],\"i_j_a_m\":[227.12321619195166,227.12321619193494,193.3522577350167,182.7763296177624,182.77632961774336,55.72009118237782,55.720091182379996,55.720091182394135,46.04833409152478,34.288556763777166,12.789909657929803,12.789909657945794,12.789909657964747,124.12268040558082,132.49207648563672,84.03798283307862,113.35713954880757,331.548225721308,312.55208383082936,215.3378110884296,144.64391079507914,99.30206306133186,18.996141890456784,70.69390029273927,45.34184773323068,61.00264349572535,97.21427274255984,66.6695857088198],\"i_j_b_m\":[3.4571711254935216e-10,3.5777114730985614e-10,2.9104515039954845e-10,3.2324039780179884e-10,3.377096891107102e-10,1.3064691065473315e-10,1.5371428557091253e-10,1.7927668662622464e-10,9.581550103743859e-11,8.286966440590432e-13,9.074061851879551e-11,5.940489642103817e-11,2.972690897707262e-11,5.272519160703777e-13,8.44679624476247e-13,1.1950855674214383e-12,8.675898472781734e-13,1.230929364534926e-28,1.230929364534925e-28,6.43476254817956e-42,4.3944719841226263e-42,2.6904930515036488e-42,0.0,0.0,8.96831017167883e-44,0.0,1.2309293645349849e-28,1.2309293645349663e-28],\"i_j_c_m\":[2.785469864728853e-10,2.617709874673741e-10,1.8913443241675215e-10,1.8409856399348315e-10,2.2594389526387943e-10,5.023524076664677e-11,7.00864601848592e-11,1.3218379731947777e-10,8.0922391712139e-11,1.8466807834740498e-12,7.725544261140367e-11,5.403493983422073e-11,2.791069117712658e-11,3.2100493280258087e-13,3.074483194086488e-13,1.1798433219034801e-12,9.003728847141957e-13,1.2189966926731888e-27,1.2189966926731882e-27,6.421310082922042e-41,4.412408604465984e-41,2.582873329443503e-41,0.0,0.0,0.0,7.174648137343064e-43,1.2189966926732487e-27,1.2189966926732302e-27],\"i_j_n_m\":[227.59766094451734,227.4329587754095,193.50150913950847,182.81334813959165,182.81334813957577,55.399720669724054,55.39972066971707,55.44700458243382,45.699974898944255,34.42090454996687,12.622487790355292,12.622487790354015,12.664749763837266,124.14597157208983,132.49266154235553,84.05372427859288,113.36136593562829,331.54822572157764,312.55208383112233,215.3378110875375,144.64391079480276,99.30206306157925,18.99614189045542,70.69390029274336,45.34184773323341,61.00264349571671,97.21427274358331,66.66958570882184],\"i_k_a_m\":[227.12321619195166,227.12321619193494,193.3522577350167,182.7763296177624,182.77632961774336,55.72009118237782,55.720091182379996,55.720091182394135,46.04833409152478,34.288556763777166,12.789909657929803,12.789909657945794,12.789909657964747,124.12268040558082,132.49207648563672,84.03798283307862,113.35713954880757,331.548225721308,312.55208383082936,215.3378110884296,144.64391079507914,99.30206306133186,18.996141890456784,70.69390029273927,45.34184773323068,61.00264349572535,97.21427274255984,66.6695857088198],\"i_k_b_m\":[3.4571711254935216e-10,3.5777114730985614e-10,2.9104515039954845e-10,3.2324039780179884e-10,3.377096891107102e-10,1.3064691065473315e-10,1.5371428557091253e-10,1.7927668662622464e-10,9.581550103743859e-11,8.286966440590432e-13,9.074061851879551e-11,5.940489642103817e-11,2.972690897707262e-11,5.272519160703777e-13,8.44679624476247e-13,1.1950855674214383e-12,8.675898472781734e-13,1.230929364534926e-28,1.230929364534925e-28,6.43476254817956e-42,4.3944719841226263e-42,2.6904930515036488e-42,0.0,0.0,8.96831017167883e-44,0.0,1.2309293645349849e-28,1.2309293645349663e-28],\"i_k_c_m\":[2.785469864728853e-10,2.617709874673741e-10,1.8913443241675215e-10,1.8409856399348315e-10,2.2594389526387943e-10,5.023524076664677e-11,7.00864601848592e-11,1.3218379731947777e-10,8.0922391712139e-11,1.8466807834740498e-12,7.725544261140367e-11,5.403493983422073e-11,2.791069117712658e-11,3.2100493280258087e-13,3.074483194086488e-13,1.1798433219034801e-12,9.003728847141957e-13,1.2189966926731888e-27,1.2189966926731882e-27,6.421310082922042e-41,4.412408604465984e-41,2.582873329443503e-41,0.0,0.0,0.0,7.174648137343064e-43,1.2189966926732487e-27,1.2189966926732302e-27],\"i_k_n_m\":[227.59766094451734,227.4329587754095,193.50150913950847,182.81334813959165,182.81334813957577,55.399720669724054,55.39972066971707,55.44700458243382,45.699974898944255,34.42090454996687,12.622487790355292,12.622487790354015,12.664749763837266,124.14597157208983,132.49266154235553,84.05372427859288,113.36136593562829,331.54822572157764,312.55208383112233,215.3378110875375,144.64391079480276,99.30206306157925,18.99614189045542,70.69390029274336,45.34184773323341,61.00264349571671,97.21427274358331,66.66958570882184],\"line_id\":[\"R1-R2\",\"R2-R3\",\"R3-R4\",\"R4-R5\",\"R5-R6\",\"R6-R7\",\"R7-R8\",\"R8-R9\",\"R9-R10\",\"R3-R11\",\"R4-R12\",\"R12-R13\",\"R13-R14\",\"R14-R15\",\"R6-R16\",\"R9-R17\",\"R10-R18\",\"D1-D3\",\"D3-D4\",\"D4-D6\",\"D6-D9\",\"D9-D10\",\"D3-D11\",\"D6-D16\",\"D9-D17\",\"D10-D18\",\"D4-D14\",\"D14-D15\"],\"x_s\":[[0,0],[0,0],[0,0],[0,0],[0,0],[0,0],[0,0],[0,0],[0,0],[0,-30],[0,35],[35,70],[70,105],[105,105],[0,-35],[0,30],[0,-30],[4,4],[4,4],[4,4],[4,4],[4,4],[4,-30],[4,-35],[4,30],[4,-30],[4,109],[109,109]],\"y_s\":[[0,-35],[-35,-70],[-70,-105],[-105,-140],[-140,-175],[-175,-210],[-210,-245],[-245,-280],[-280,-315],[-70,-70],[-105,-105],[-105,-105],[-105,-105],[-105,-140],[-175,-175],[-280,-280],[-315,-315],[0,-55],[-55,-90],[-90,-190],[-190,-265],[-265,-330],[-55,-55],[-190,-190],[-265,-265],[-330,-330],[-90,-90],[-90,-140]]},\"selected\":{\"id\":\"1220\"},\"selection_policy\":{\"id\":\"1221\"}},\"id\":\"1183\",\"type\":\"ColumnDataSource\"},{\"attributes\":{},\"id\":\"1223\",\"type\":\"UnionRenderers\"},{\"attributes\":{\"line_alpha\":{\"value\":0.1},\"line_color\":{\"value\":\"red\"},\"line_width\":{\"value\":5},\"xs\":{\"field\":\"x_s\"},\"ys\":{\"field\":\"y_s\"}},\"id\":\"1186\",\"type\":\"MultiLine\"},{\"attributes\":{\"line_alpha\":{\"value\":0.5},\"line_color\":{\"value\":\"red\"},\"line_width\":{\"value\":5},\"xs\":{\"field\":\"x_s\"},\"ys\":{\"field\":\"y_s\"}},\"id\":\"1185\",\"type\":\"MultiLine\"},{\"attributes\":{\"source\":{\"id\":\"1183\"}},\"id\":\"1188\",\"type\":\"CDSView\"},{\"attributes\":{},\"id\":\"1148\",\"type\":\"DataRange1d\"},{\"attributes\":{},\"id\":\"1221\",\"type\":\"UnionRenderers\"},{\"attributes\":{\"fill_alpha\":{\"value\":0.5},\"fill_color\":{\"value\":\"navy\"},\"line_alpha\":{\"value\":0.5},\"line_color\":{\"value\":\"navy\"},\"size\":{\"units\":\"screen\",\"value\":15},\"x\":{\"field\":\"x\"},\"y\":{\"field\":\"y\"}},\"id\":\"1191\",\"type\":\"Circle\"},{\"attributes\":{\"text\":\"Results\"},\"id\":\"1146\",\"type\":\"Title\"},{\"attributes\":{\"data\":{\"bus_id\":[\"R0\",\"R1\",\"R2\",\"R3\",\"R4\",\"R5\",\"R6\",\"R7\",\"R8\",\"R9\",\"R10\",\"R11\",\"R12\",\"R13\",\"R14\",\"R15\",\"R16\",\"R17\",\"R18\",\"D1\",\"D3\",\"D4\",\"D6\",\"D9\",\"D10\",\"D11\",\"D16\",\"D17\",\"D18\",\"D14\",\"D15\"],\"deg_an\":[\"0.00\",\"-32.76\",\"-32.95\",\"-33.14\",\"-33.33\",\"-33.49\",\"-33.65\",\"-33.76\",\"-33.87\",\"-33.98\",\"-34.06\",\"-33.03\",\"-33.43\",\"-33.53\",\"-33.63\",\"-33.21\",\"-33.26\",\"-33.73\",\"-33.73\",\"0.00\",\"0.00\",\"0.00\",\"0.00\",\"0.00\",\"0.00\",\"0.00\",\"0.00\",\"0.00\",\"0.00\",\"0.00\",\"0.00\"],\"deg_bn\":[\"-120.00\",\"-152.07\",\"-152.31\",\"-152.55\",\"-152.74\",\"-152.93\",\"-153.12\",\"-153.15\",\"-153.18\",\"-153.20\",\"-153.13\",\"-152.78\",\"-152.79\",\"-152.83\",\"-152.87\",\"-153.71\",\"-153.89\",\"-153.69\",\"-153.79\",\"180.00\",\"180.00\",\"180.00\",\"180.00\",\"180.00\",\"180.00\",\"180.00\",\"180.00\",\"180.00\",\"180.00\",\"180.00\",\"180.00\"],\"deg_cn\":[\"120.00\",\"87.93\",\"88.25\",\"88.56\",\"88.83\",\"89.08\",\"89.32\",\"89.41\",\"89.49\",\"89.57\",\"89.55\",\"88.73\",\"88.92\",\"89.01\",\"89.10\",\"89.71\",\"89.87\",\"89.92\",\"90.01\",\"180.00\",\"180.00\",\"180.00\",\"180.00\",\"180.00\",\"180.00\",\"180.00\",\"180.00\",\"180.00\",\"180.00\",\"180.00\",\"180.00\"],\"deg_ng\":[\"0.00\",\"100.09\",\"92.16\",\"83.35\",\"75.32\",\"67.70\",\"60.18\",\"58.21\",\"56.32\",\"54.55\",\"55.95\",\"78.02\",\"72.94\",\"70.61\",\"68.37\",\"45.03\",\"38.66\",\"41.87\",\"39.05\",\"0.00\",\"0.00\",\"0.00\",\"0.00\",\"0.00\",\"0.00\",\"0.00\",\"0.00\",\"0.00\",\"0.00\",\"0.00\",\"0.00\"],\"p_a\":[\"176.99\",\"-153.32\",\"0.00\",\"0.00\",\"0.00\",\"0.00\",\"0.00\",\"0.00\",\"0.00\",\"0.00\",\"28.42\",\"-7.12\",\"0.00\",\"0.00\",\"23.11\",\"-24.70\",\"-26.12\",\"-16.62\",\"-22.32\",\"265.13\",\"0.00\",\"0.00\",\"0.00\",\"0.00\",\"-29.54\",\"-15.00\",\"-55.00\",\"-35.00\",\"-47.00\",\"-23.85\",\"-52.00\"],\"p_abc\":[\"516.28\",\"-459.97\",\"0.00\",\"0.00\",\"0.00\",\"0.00\",\"0.00\",\"0.00\",\"0.00\",\"0.00\",\"28.42\",\"-7.12\",\"0.00\",\"0.00\",\"23.11\",\"-24.70\",\"-26.12\",\"-16.62\",\"-22.32\",\"265.13\",\"0.00\",\"0.00\",\"0.00\",\"0.00\",\"-29.54\",\"-15.00\",\"-55.00\",\"-35.00\",\"-47.00\",\"-23.85\",\"-52.00\"],\"p_b\":[\"154.80\",\"-153.32\",\"-0.00\",\"-0.00\",\"-0.00\",\"-0.00\",\"-0.00\",\"-0.00\",\"-0.00\",\"-0.00\",\"-0.00\",\"-0.00\",\"-0.00\",\"-0.00\",\"-0.00\",\"-0.00\",\"-0.00\",\"-0.00\",\"-0.00\",\"-0.00\",\"0.00\",\"0.00\",\"0.00\",\"0.00\",\"0.00\",\"0.00\",\"0.00\",\"0.00\",\"0.00\",\"0.00\",\"0.00\"],\"p_c\":[\"184.48\",\"-153.32\",\"0.00\",\"0.00\",\"0.00\",\"0.00\",\"0.00\",\"0.00\",\"0.00\",\"0.00\",\"0.00\",\"0.00\",\"0.00\",\"0.00\",\"0.00\",\"0.00\",\"0.00\",\"0.00\",\"0.00\",\"-0.00\",\"0.00\",\"0.00\",\"0.00\",\"0.00\",\"0.00\",\"0.00\",\"0.00\",\"0.00\",\"0.00\",\"0.00\",\"0.00\"],\"q_a\":[\"48.20\",\"-20.82\",\"-0.00\",\"-0.00\",\"-0.00\",\"-0.00\",\"-0.00\",\"-0.00\",\"-0.00\",\"-0.00\",\"15.53\",\"-2.34\",\"-0.00\",\"-0.00\",\"9.43\",\"-8.12\",\"-8.59\",\"-5.46\",\"-7.34\",\"0.00\",\"0.00\",\"0.00\",\"0.00\",\"0.00\",\"-0.00\",\"-0.00\",\"-0.00\",\"-0.00\",\"-0.00\",\"-0.00\",\"-0.00\"],\"q_abc\":[\"93.20\",\"-62.45\",\"0.00\",\"0.00\",\"0.00\",\"0.00\",\"0.00\",\"0.00\",\"0.00\",\"0.00\",\"15.53\",\"-2.34\",\"0.00\",\"0.00\",\"9.43\",\"-8.12\",\"-8.59\",\"-5.46\",\"-7.34\",\"0.00\",\"0.00\",\"0.00\",\"0.00\",\"0.00\",\"0.00\",\"0.00\",\"0.00\",\"0.00\",\"0.00\",\"0.00\",\"0.00\"],\"q_b\":[\"26.74\",\"-20.82\",\"0.00\",\"0.00\",\"0.00\",\"0.00\",\"0.00\",\"0.00\",\"0.00\",\"0.00\",\"0.00\",\"0.00\",\"0.00\",\"0.00\",\"0.00\",\"0.00\",\"0.00\",\"0.00\",\"0.00\",\"0.00\",\"0.00\",\"0.00\",\"0.00\",\"0.00\",\"0.00\",\"0.00\",\"0.00\",\"0.00\",\"0.00\",\"0.00\",\"0.00\"],\"q_c\":[\"18.26\",\"-20.82\",\"0.00\",\"0.00\",\"0.00\",\"0.00\",\"0.00\",\"0.00\",\"0.00\",\"0.00\",\"0.00\",\"0.00\",\"0.00\",\"0.00\",\"0.00\",\"0.00\",\"0.00\",\"0.00\",\"0.00\",\"0.00\",\"0.00\",\"0.00\",\"0.00\",\"0.00\",\"0.00\",\"0.00\",\"0.00\",\"0.00\",\"0.00\",\"0.00\",\"0.00\"],\"s_color\":[\"red\",\"green\",\"blue\",\"blue\",\"blue\",\"blue\",\"blue\",\"blue\",\"blue\",\"blue\",\"red\",\"green\",\"blue\",\"blue\",\"red\",\"green\",\"green\",\"green\",\"green\",\"red\",\"blue\",\"blue\",\"blue\",\"blue\",\"green\",\"green\",\"green\",\"green\",\"green\",\"green\",\"green\"],\"s_radio\":[7.243081601171245,6.8131362105072455,1,1,1,1,1,1,1,1,1.7996905194481487,1,1,1,1.5797565630782322,1.61245154965971,1.6583123951777001,1.3228756555322951,1.5329709716755893,5.149064539807861,1,1,1,1,1.71865320740569,1.224744871391589,2.345207879911715,1.8708286933869707,2.16794833886788,1.5444704722937679,2.280350850198276],\"u_avg_pu\":[\"1.000\",\"0.983\",\"0.982\",\"0.980\",\"0.979\",\"0.978\",\"0.976\",\"0.976\",\"0.976\",\"0.976\",\"0.976\",\"0.979\",\"0.978\",\"0.978\",\"0.978\",\"0.973\",\"0.972\",\"0.973\",\"0.972\",\"1.155\",\"1.155\",\"1.155\",\"1.155\",\"1.155\",\"1.155\",\"1.155\",\"1.155\",\"1.155\",\"1.155\",\"1.155\",\"1.155\"],\"v_ab\":[19999.99067499782,391.4449466148824,390.1921554537306,388.9398400374479,387.862449039246,386.8593666988491,385.85674125542215,385.5255800537767,385.19441899776336,384.863105792433,384.95546798343554,388.2433887192829,387.494001763642,387.1255546532086,386.75694305683817,384.2521848004559,383.57139158425275,383.4244076917783,383.01461533868377,800.0,795.1030327060963,792.7948355670056,789.6142960972295,786.4097102535645,785.7811281943863,794.9827871279297,789.1668037083765,786.1226963574131,785.3949814610584,790.6410533543943,790.1486984639347],\"v_an\":[\"11547.00\",\"226.14\",\"223.40\",\"220.67\",\"218.36\",\"216.16\",\"213.96\",\"213.41\",\"212.85\",\"212.30\",\"212.79\",\"218.73\",\"217.73\",\"217.10\",\"216.47\",\"209.47\",\"207.56\",\"208.24\",\"207.31\",\"799.67\",\"789.87\",\"785.26\",\"778.90\",\"772.49\",\"771.23\",\"789.63\",\"778.00\",\"771.91\",\"770.46\",\"780.95\",\"779.97\"],\"v_an_pu\":[\"1.0000\",\"0.9792\",\"0.9674\",\"0.9555\",\"0.9455\",\"0.9360\",\"0.9265\",\"0.9241\",\"0.9217\",\"0.9193\",\"0.9214\",\"0.9471\",\"0.9428\",\"0.9401\",\"0.9374\",\"0.9070\",\"0.8988\",\"0.9017\",\"0.8977\",\"3.4627\",\"3.4203\",\"3.4003\",\"3.3727\",\"3.3450\",\"3.3395\",\"3.4192\",\"3.3688\",\"3.3425\",\"3.3362\",\"3.3816\",\"3.3774\"],\"v_bc\":[19999.990674997825,393.97420816607223,394.31874579852723,394.6631919176614,394.95770424399666,395.2342920758288,395.5108868419845,395.5950132015421,395.67914017573673,395.76327268731575,395.72571138090916,394.7131335094199,394.9755841416115,394.9934641990006,395.0113065053784,395.1916692949373,395.6758613674462,395.8675876219181,395.86642475623006,0.0,1.6186498479364913e-29,2.4279747719047365e-29,2.4279747719046513e-29,2.4279747719045633e-29,2.427974771904549e-29,1.6186498479364913e-29,2.4279747719046513e-29,2.4279747719045636e-29,2.4279747719045484e-29,4.855949543809593e-29,5.665274467777867e-29],\"v_bn\":[\"11547.00\",\"227.46\",\"228.61\",\"229.77\",\"230.78\",\"231.71\",\"232.64\",\"232.99\",\"233.33\",\"233.68\",\"233.66\",\"230.08\",\"231.10\",\"231.42\",\"231.74\",\"232.90\",\"233.71\",\"234.34\",\"234.55\",\"0.33\",\"5.23\",\"7.54\",\"10.72\",\"13.92\",\"14.55\",\"5.35\",\"11.16\",\"14.21\",\"14.94\",\"9.69\",\"10.18\"],\"v_bn_pu\":[\"1.0000\",\"0.9849\",\"0.9899\",\"0.9949\",\"0.9993\",\"1.0033\",\"1.0074\",\"1.0089\",\"1.0104\",\"1.0119\",\"1.0118\",\"0.9963\",\"1.0007\",\"1.0021\",\"1.0035\",\"1.0085\",\"1.0120\",\"1.0147\",\"1.0156\",\"0.0014\",\"0.0226\",\"0.0326\",\"0.0464\",\"0.0603\",\"0.0630\",\"0.0232\",\"0.0483\",\"0.0615\",\"0.0647\",\"0.0420\",\"0.0441\"],\"v_ca\":[19999.99067499783,394.1980312929,393.2602909250971,392.3260206868143,391.5620263204313,390.8058096335947,390.0518472546096,389.9432415129276,389.83495146791165,389.7269773827211,390.02976793635037,391.3840972576774,391.3919387486208,391.22212844356466,391.0525957664627,387.64647297321693,386.93681904194466,387.7470807074961,387.3594306241847,800.0,795.1030327060963,792.7948355670056,789.6142960972295,786.4097102535645,785.7811281943863,794.9827871279297,789.1668037083765,786.1226963574131,785.3949814610584,790.6410533543943,790.1486984639347],\"v_cn\":[\"11547.00\",\"227.46\",\"227.99\",\"228.52\",\"228.95\",\"229.40\",\"229.85\",\"229.87\",\"229.90\",\"229.92\",\"229.66\",\"229.24\",\"228.98\",\"229.01\",\"229.03\",\"231.64\",\"232.26\",\"231.46\",\"231.74\",\"0.33\",\"5.23\",\"7.54\",\"10.72\",\"13.92\",\"14.55\",\"5.35\",\"11.16\",\"14.21\",\"14.94\",\"9.69\",\"10.18\"],\"v_cn_pu\":[\"1.0000\",\"0.9849\",\"0.9872\",\"0.9895\",\"0.9914\",\"0.9933\",\"0.9953\",\"0.9954\",\"0.9955\",\"0.9956\",\"0.9944\",\"0.9926\",\"0.9915\",\"0.9916\",\"0.9917\",\"1.0031\",\"1.0057\",\"1.0022\",\"1.0035\",\"0.0014\",\"0.0226\",\"0.0326\",\"0.0464\",\"0.0603\",\"0.0630\",\"0.0232\",\"0.0483\",\"0.0615\",\"0.0647\",\"0.0420\",\"0.0441\"],\"v_ng\":[\"0.00\",\"9.98\",\"9.36\",\"8.94\",\"8.79\",\"8.78\",\"8.92\",\"9.10\",\"9.30\",\"9.50\",\"9.65\",\"8.34\",\"8.87\",\"8.96\",\"9.07\",\"8.26\",\"8.60\",\"9.32\",\"9.44\",\"0.33\",\"5.23\",\"7.54\",\"10.72\",\"13.92\",\"14.55\",\"5.35\",\"11.16\",\"14.21\",\"14.94\",\"9.69\",\"10.18\"],\"v_unb\":[\"0.0\",\"0.4\",\"1.4\",\"2.5\",\"3.4\",\"4.2\",\"5.1\",\"5.3\",\"5.5\",\"5.8\",\"5.6\",\"3.2\",\"3.6\",\"3.9\",\"4.1\",\"6.8\",\"7.5\",\"7.3\",\"7.7\",\"199.8\",\"196.1\",\"194.3\",\"192.0\",\"189.6\",\"189.1\",\"196.0\",\"191.6\",\"189.3\",\"188.8\",\"192.7\",\"192.4\"],\"x\":[0,0,0,0,0,0,0,0,0,0,0,-30,35,70,105,105,-35,30,-30,4,4,4,4,4,4,-30,-35,30,-30,109,109],\"y\":[20,0,-35,-70,-105,-140,-175,-210,-245,-280,-315,-70,-105,-105,-105,-140,-175,-280,-315,0,-55,-90,-190,-265,-330,-55,-190,-265,-330,-90,-140]},\"selected\":{\"id\":\"1222\"},\"selection_policy\":{\"id\":\"1223\"}},\"id\":\"1189\",\"type\":\"ColumnDataSource\"},{\"attributes\":{},\"id\":\"1218\",\"type\":\"Selection\"},{\"attributes\":{},\"id\":\"1220\",\"type\":\"Selection\"},{\"attributes\":{},\"id\":\"1215\",\"type\":\"BasicTickFormatter\"},{\"attributes\":{\"bottom_units\":\"screen\",\"fill_alpha\":0.5,\"fill_color\":\"lightgrey\",\"left_units\":\"screen\",\"level\":\"overlay\",\"line_alpha\":1.0,\"line_color\":\"black\",\"line_dash\":[4,4],\"line_width\":2,\"render_mode\":\"css\",\"right_units\":\"screen\",\"top_units\":\"screen\"},\"id\":\"1224\",\"type\":\"BoxAnnotation\"},{\"attributes\":{\"source\":{\"id\":\"1189\"}},\"id\":\"1194\",\"type\":\"CDSView\"},{\"attributes\":{},\"id\":\"1157\",\"type\":\"BasicTicker\"},{\"attributes\":{},\"id\":\"1164\",\"type\":\"PanTool\"},{\"attributes\":{\"callback\":null,\"renderers\":[{\"id\":\"1187\"}],\"tooltips\":\"\\n            <div>\\n            line id = @line_id \\n            <table border=\\\"5\\\">\\n                <tr >\\n                    <td>I<sub>ja</sub> =  @i_j_a_m &ang; @deg_j_a </td>\\n                    <td>I<sub>ka</sub> =  @i_k_a_m &ang; @deg_k_a </td>\\n                </tr>\\n                <tr>\\n                    <td >I<sub>jb</sub> =  @i_j_b_m &ang; @deg_j_b </td>\\n                    <td >I<sub>kb</sub> =  @i_k_b_m &ang; @deg_k_b </td>\\n                </tr>\\n                <tr>\\n                    <td >I<sub>jc</sub> =  @i_j_c_m &ang; @deg_j_c </td>\\n                    <td >I<sub>kc</sub> =  @i_k_c_m &ang; @deg_k_c </td>\\n                </tr>\\n                <tr>\\n                    <td >I<sub>jn</sub> =  @i_j_n_m &ang; @deg_j_n </td>\\n                    <td >I<sub>kn</sub> =  @i_k_n_m &ang; @deg_k_n </td>\\n                </tr>\\n            </table>            \\n            </div>\\n            \"},\"id\":\"1197\",\"type\":\"HoverTool\"},{\"attributes\":{\"data\":{\"deg_1a\":[-15.234994514903123],\"deg_1b\":[-129.80016251137477],\"deg_1c\":[114.34805441234917],\"deg_1n\":[180.0],\"deg_2a\":[139.12066175301393],\"deg_2b\":[20.19983748863656],\"deg_2c\":[-99.80016251138393],\"deg_2n\":[-42.035212409626276],\"i_1a_m\":[15.886041446574204],\"i_1b_m\":[13.604911472363748],\"i_1c_m\":[16.054870530633025],\"i_1n_m\":[7.105427357601002e-15],\"i_2a_m\":[911.2879581439299],\"i_2b_m\":[680.2455736181352],\"i_2c_m\":[680.2455736180973],\"i_2n_m\":[227.12321619195166],\"trafo_id\":[\"R0-R1\"],\"x_s\":[[0,0]],\"y_s\":[[20,0]]},\"selected\":{\"id\":\"1218\"},\"selection_policy\":{\"id\":\"1219\"}},\"id\":\"1177\",\"type\":\"ColumnDataSource\"},{\"attributes\":{\"data_source\":{\"id\":\"1189\"},\"glyph\":{\"id\":\"1191\"},\"hover_glyph\":null,\"muted_glyph\":null,\"nonselection_glyph\":{\"id\":\"1192\"},\"selection_glyph\":null,\"view\":{\"id\":\"1194\"}},\"id\":\"1193\",\"type\":\"GlyphRenderer\"},{\"attributes\":{\"formatter\":{\"id\":\"1217\"},\"ticker\":{\"id\":\"1157\"}},\"id\":\"1156\",\"type\":\"LinearAxis\"},{\"attributes\":{},\"id\":\"1152\",\"type\":\"LinearScale\"},{\"attributes\":{\"callback\":null,\"renderers\":[{\"id\":\"1181\"}],\"tooltips\":\"\\n            <div>\\n            transformer id = @trafo_id  \\n            <table border=\\\"5\\\">\\n                <tr >\\n                    <td>I<sub>1a</sub> =  @i_1a_m &ang; @deg_1a </td>\\n                    <td>I<sub>2a</sub> =  @i_2a_m &ang; @deg_2a </td>\\n                </tr>\\n                <tr>\\n                    <td >I<sub>1b</sub> =  @i_1b_m &ang; @deg_1b </td>\\n                    <td >I<sub>2b</sub> =  @i_2b_m &ang; @deg_2b </td>\\n                </tr>\\n                <tr>\\n                    <td >I<sub>1c</sub> =  @i_1c_m &ang; @deg_1c </td>\\n                    <td >I<sub>2c</sub> =  @i_2c_m &ang; @deg_2c </td>\\n                </tr>\\n                <tr>\\n                    <td >I<sub>1n</sub> =  @i_1n_m &ang; @deg_1n </td>\\n                    <td >I<sub>2n</sub> =  @i_2n_m &ang; @deg_2n </td>\\n                </tr>\\n            </table>            \\n            </div>\\n            \"},\"id\":\"1195\",\"type\":\"HoverTool\"},{\"attributes\":{},\"id\":\"1219\",\"type\":\"UnionRenderers\"},{\"attributes\":{},\"id\":\"1150\",\"type\":\"DataRange1d\"},{\"attributes\":{},\"id\":\"1154\",\"type\":\"LinearScale\"},{\"attributes\":{\"axis\":{\"id\":\"1156\"},\"ticker\":null},\"id\":\"1159\",\"type\":\"Grid\"},{\"attributes\":{\"formatter\":{\"id\":\"1215\"},\"ticker\":{\"id\":\"1161\"}},\"id\":\"1160\",\"type\":\"LinearAxis\"},{\"attributes\":{},\"id\":\"1161\",\"type\":\"BasicTicker\"}],\"root_ids\":[\"1145\"]},\"title\":\"Bokeh Application\",\"version\":\"2.0.0\"}};\n",
       "  var render_items = [{\"docid\":\"5505b6cd-60e2-40b0-b75a-81c1092ec500\",\"root_ids\":[\"1145\"],\"roots\":{\"1145\":\"e4e6e64e-4837-4a89-b6f5-5e0af3327c6c\"}}];\n",
       "  root.Bokeh.embed.embed_items_notebook(docs_json, render_items);\n",
       "\n",
       "  }\n",
       "  if (root.Bokeh !== undefined) {\n",
       "    embed_document(root);\n",
       "  } else {\n",
       "    var attempts = 0;\n",
       "    var timer = setInterval(function(root) {\n",
       "      if (root.Bokeh !== undefined) {\n",
       "        clearInterval(timer);\n",
       "        embed_document(root);\n",
       "      } else {\n",
       "        attempts++;\n",
       "        if (attempts > 100) {\n",
       "          clearInterval(timer);\n",
       "          console.log(\"Bokeh: ERROR: Unable to run BokehJS code because BokehJS library is missing\");\n",
       "        }\n",
       "      }\n",
       "    }, 10, root)\n",
       "  }\n",
       "})(window);"
      ],
      "application/vnd.bokehjs_exec.v0+json": ""
     },
     "metadata": {
      "application/vnd.bokehjs_exec.v0+json": {
       "id": "1145"
      }
     },
     "output_type": "display_data"
    },
    {
     "data": {
      "text/html": [
       "<div style=\"display: table;\"><div style=\"display: table-row;\"><div style=\"display: table-cell;\"><b title=\"bokeh.plotting.figure.Figure\">Figure</b>(</div><div style=\"display: table-cell;\">id&nbsp;=&nbsp;'1145', <span id=\"1298\" style=\"cursor: pointer;\">&hellip;)</span></div></div><div class=\"1297\" style=\"display: none;\"><div style=\"display: table-cell;\"></div><div style=\"display: table-cell;\">above&nbsp;=&nbsp;[],</div></div><div class=\"1297\" style=\"display: none;\"><div style=\"display: table-cell;\"></div><div style=\"display: table-cell;\">align&nbsp;=&nbsp;'start',</div></div><div class=\"1297\" style=\"display: none;\"><div style=\"display: table-cell;\"></div><div style=\"display: table-cell;\">aspect_ratio&nbsp;=&nbsp;None,</div></div><div class=\"1297\" style=\"display: none;\"><div style=\"display: table-cell;\"></div><div style=\"display: table-cell;\">aspect_scale&nbsp;=&nbsp;1,</div></div><div class=\"1297\" style=\"display: none;\"><div style=\"display: table-cell;\"></div><div style=\"display: table-cell;\">background&nbsp;=&nbsp;None,</div></div><div class=\"1297\" style=\"display: none;\"><div style=\"display: table-cell;\"></div><div style=\"display: table-cell;\">background_fill_alpha&nbsp;=&nbsp;1.0,</div></div><div class=\"1297\" style=\"display: none;\"><div style=\"display: table-cell;\"></div><div style=\"display: table-cell;\">background_fill_color&nbsp;=&nbsp;'#ffffff',</div></div><div class=\"1297\" style=\"display: none;\"><div style=\"display: table-cell;\"></div><div style=\"display: table-cell;\">below&nbsp;=&nbsp;[LinearAxis(id='1156', ...)],</div></div><div class=\"1297\" style=\"display: none;\"><div style=\"display: table-cell;\"></div><div style=\"display: table-cell;\">border_fill_alpha&nbsp;=&nbsp;1.0,</div></div><div class=\"1297\" style=\"display: none;\"><div style=\"display: table-cell;\"></div><div style=\"display: table-cell;\">border_fill_color&nbsp;=&nbsp;'#ffffff',</div></div><div class=\"1297\" style=\"display: none;\"><div style=\"display: table-cell;\"></div><div style=\"display: table-cell;\">center&nbsp;=&nbsp;[Grid(id='1159', ...), Grid(id='1163', ...)],</div></div><div class=\"1297\" style=\"display: none;\"><div style=\"display: table-cell;\"></div><div style=\"display: table-cell;\">css_classes&nbsp;=&nbsp;[],</div></div><div class=\"1297\" style=\"display: none;\"><div style=\"display: table-cell;\"></div><div style=\"display: table-cell;\">disabled&nbsp;=&nbsp;False,</div></div><div class=\"1297\" style=\"display: none;\"><div style=\"display: table-cell;\"></div><div style=\"display: table-cell;\">extra_x_ranges&nbsp;=&nbsp;{},</div></div><div class=\"1297\" style=\"display: none;\"><div style=\"display: table-cell;\"></div><div style=\"display: table-cell;\">extra_y_ranges&nbsp;=&nbsp;{},</div></div><div class=\"1297\" style=\"display: none;\"><div style=\"display: table-cell;\"></div><div style=\"display: table-cell;\">frame_height&nbsp;=&nbsp;None,</div></div><div class=\"1297\" style=\"display: none;\"><div style=\"display: table-cell;\"></div><div style=\"display: table-cell;\">frame_width&nbsp;=&nbsp;None,</div></div><div class=\"1297\" style=\"display: none;\"><div style=\"display: table-cell;\"></div><div style=\"display: table-cell;\">height&nbsp;=&nbsp;None,</div></div><div class=\"1297\" style=\"display: none;\"><div style=\"display: table-cell;\"></div><div style=\"display: table-cell;\">height_policy&nbsp;=&nbsp;'auto',</div></div><div class=\"1297\" style=\"display: none;\"><div style=\"display: table-cell;\"></div><div style=\"display: table-cell;\">hidpi&nbsp;=&nbsp;True,</div></div><div class=\"1297\" style=\"display: none;\"><div style=\"display: table-cell;\"></div><div style=\"display: table-cell;\">js_event_callbacks&nbsp;=&nbsp;{},</div></div><div class=\"1297\" style=\"display: none;\"><div style=\"display: table-cell;\"></div><div style=\"display: table-cell;\">js_property_callbacks&nbsp;=&nbsp;{},</div></div><div class=\"1297\" style=\"display: none;\"><div style=\"display: table-cell;\"></div><div style=\"display: table-cell;\">left&nbsp;=&nbsp;[LinearAxis(id='1160', ...)],</div></div><div class=\"1297\" style=\"display: none;\"><div style=\"display: table-cell;\"></div><div style=\"display: table-cell;\">lod_factor&nbsp;=&nbsp;10,</div></div><div class=\"1297\" style=\"display: none;\"><div style=\"display: table-cell;\"></div><div style=\"display: table-cell;\">lod_interval&nbsp;=&nbsp;300,</div></div><div class=\"1297\" style=\"display: none;\"><div style=\"display: table-cell;\"></div><div style=\"display: table-cell;\">lod_threshold&nbsp;=&nbsp;2000,</div></div><div class=\"1297\" style=\"display: none;\"><div style=\"display: table-cell;\"></div><div style=\"display: table-cell;\">lod_timeout&nbsp;=&nbsp;500,</div></div><div class=\"1297\" style=\"display: none;\"><div style=\"display: table-cell;\"></div><div style=\"display: table-cell;\">margin&nbsp;=&nbsp;(0, 0, 0, 0),</div></div><div class=\"1297\" style=\"display: none;\"><div style=\"display: table-cell;\"></div><div style=\"display: table-cell;\">match_aspect&nbsp;=&nbsp;False,</div></div><div class=\"1297\" style=\"display: none;\"><div style=\"display: table-cell;\"></div><div style=\"display: table-cell;\">max_height&nbsp;=&nbsp;None,</div></div><div class=\"1297\" style=\"display: none;\"><div style=\"display: table-cell;\"></div><div style=\"display: table-cell;\">max_width&nbsp;=&nbsp;None,</div></div><div class=\"1297\" style=\"display: none;\"><div style=\"display: table-cell;\"></div><div style=\"display: table-cell;\">min_border&nbsp;=&nbsp;5,</div></div><div class=\"1297\" style=\"display: none;\"><div style=\"display: table-cell;\"></div><div style=\"display: table-cell;\">min_border_bottom&nbsp;=&nbsp;None,</div></div><div class=\"1297\" style=\"display: none;\"><div style=\"display: table-cell;\"></div><div style=\"display: table-cell;\">min_border_left&nbsp;=&nbsp;None,</div></div><div class=\"1297\" style=\"display: none;\"><div style=\"display: table-cell;\"></div><div style=\"display: table-cell;\">min_border_right&nbsp;=&nbsp;None,</div></div><div class=\"1297\" style=\"display: none;\"><div style=\"display: table-cell;\"></div><div style=\"display: table-cell;\">min_border_top&nbsp;=&nbsp;None,</div></div><div class=\"1297\" style=\"display: none;\"><div style=\"display: table-cell;\"></div><div style=\"display: table-cell;\">min_height&nbsp;=&nbsp;None,</div></div><div class=\"1297\" style=\"display: none;\"><div style=\"display: table-cell;\"></div><div style=\"display: table-cell;\">min_width&nbsp;=&nbsp;None,</div></div><div class=\"1297\" style=\"display: none;\"><div style=\"display: table-cell;\"></div><div style=\"display: table-cell;\">name&nbsp;=&nbsp;None,</div></div><div class=\"1297\" style=\"display: none;\"><div style=\"display: table-cell;\"></div><div style=\"display: table-cell;\">outline_line_alpha&nbsp;=&nbsp;1.0,</div></div><div class=\"1297\" style=\"display: none;\"><div style=\"display: table-cell;\"></div><div style=\"display: table-cell;\">outline_line_cap&nbsp;=&nbsp;'butt',</div></div><div class=\"1297\" style=\"display: none;\"><div style=\"display: table-cell;\"></div><div style=\"display: table-cell;\">outline_line_color&nbsp;=&nbsp;'#e5e5e5',</div></div><div class=\"1297\" style=\"display: none;\"><div style=\"display: table-cell;\"></div><div style=\"display: table-cell;\">outline_line_dash&nbsp;=&nbsp;[],</div></div><div class=\"1297\" style=\"display: none;\"><div style=\"display: table-cell;\"></div><div style=\"display: table-cell;\">outline_line_dash_offset&nbsp;=&nbsp;0,</div></div><div class=\"1297\" style=\"display: none;\"><div style=\"display: table-cell;\"></div><div style=\"display: table-cell;\">outline_line_join&nbsp;=&nbsp;'bevel',</div></div><div class=\"1297\" style=\"display: none;\"><div style=\"display: table-cell;\"></div><div style=\"display: table-cell;\">outline_line_width&nbsp;=&nbsp;1,</div></div><div class=\"1297\" style=\"display: none;\"><div style=\"display: table-cell;\"></div><div style=\"display: table-cell;\">output_backend&nbsp;=&nbsp;'canvas',</div></div><div class=\"1297\" style=\"display: none;\"><div style=\"display: table-cell;\"></div><div style=\"display: table-cell;\">plot_height&nbsp;=&nbsp;400,</div></div><div class=\"1297\" style=\"display: none;\"><div style=\"display: table-cell;\"></div><div style=\"display: table-cell;\">plot_width&nbsp;=&nbsp;600,</div></div><div class=\"1297\" style=\"display: none;\"><div style=\"display: table-cell;\"></div><div style=\"display: table-cell;\">renderers&nbsp;=&nbsp;[GlyphRenderer(id='1181', ...), GlyphRenderer(id='1187', ...), GlyphRenderer(id='1193', ...)],</div></div><div class=\"1297\" style=\"display: none;\"><div style=\"display: table-cell;\"></div><div style=\"display: table-cell;\">reset_policy&nbsp;=&nbsp;'standard',</div></div><div class=\"1297\" style=\"display: none;\"><div style=\"display: table-cell;\"></div><div style=\"display: table-cell;\">right&nbsp;=&nbsp;[],</div></div><div class=\"1297\" style=\"display: none;\"><div style=\"display: table-cell;\"></div><div style=\"display: table-cell;\">sizing_mode&nbsp;=&nbsp;None,</div></div><div class=\"1297\" style=\"display: none;\"><div style=\"display: table-cell;\"></div><div style=\"display: table-cell;\">subscribed_events&nbsp;=&nbsp;[],</div></div><div class=\"1297\" style=\"display: none;\"><div style=\"display: table-cell;\"></div><div style=\"display: table-cell;\">tags&nbsp;=&nbsp;[],</div></div><div class=\"1297\" style=\"display: none;\"><div style=\"display: table-cell;\"></div><div style=\"display: table-cell;\">title&nbsp;=&nbsp;Title(id='1146', ...),</div></div><div class=\"1297\" style=\"display: none;\"><div style=\"display: table-cell;\"></div><div style=\"display: table-cell;\">title_location&nbsp;=&nbsp;'above',</div></div><div class=\"1297\" style=\"display: none;\"><div style=\"display: table-cell;\"></div><div style=\"display: table-cell;\">toolbar&nbsp;=&nbsp;Toolbar(id='1170', ...),</div></div><div class=\"1297\" style=\"display: none;\"><div style=\"display: table-cell;\"></div><div style=\"display: table-cell;\">toolbar_location&nbsp;=&nbsp;'right',</div></div><div class=\"1297\" style=\"display: none;\"><div style=\"display: table-cell;\"></div><div style=\"display: table-cell;\">toolbar_sticky&nbsp;=&nbsp;True,</div></div><div class=\"1297\" style=\"display: none;\"><div style=\"display: table-cell;\"></div><div style=\"display: table-cell;\">visible&nbsp;=&nbsp;True,</div></div><div class=\"1297\" style=\"display: none;\"><div style=\"display: table-cell;\"></div><div style=\"display: table-cell;\">width&nbsp;=&nbsp;None,</div></div><div class=\"1297\" style=\"display: none;\"><div style=\"display: table-cell;\"></div><div style=\"display: table-cell;\">width_policy&nbsp;=&nbsp;'auto',</div></div><div class=\"1297\" style=\"display: none;\"><div style=\"display: table-cell;\"></div><div style=\"display: table-cell;\">x_range&nbsp;=&nbsp;DataRange1d(id='1148', ...),</div></div><div class=\"1297\" style=\"display: none;\"><div style=\"display: table-cell;\"></div><div style=\"display: table-cell;\">x_scale&nbsp;=&nbsp;LinearScale(id='1152', ...),</div></div><div class=\"1297\" style=\"display: none;\"><div style=\"display: table-cell;\"></div><div style=\"display: table-cell;\">y_range&nbsp;=&nbsp;DataRange1d(id='1150', ...),</div></div><div class=\"1297\" style=\"display: none;\"><div style=\"display: table-cell;\"></div><div style=\"display: table-cell;\">y_scale&nbsp;=&nbsp;LinearScale(id='1154', ...))</div></div></div>\n",
       "<script>\n",
       "(function() {\n",
       "  var expanded = false;\n",
       "  var ellipsis = document.getElementById(\"1298\");\n",
       "  ellipsis.addEventListener(\"click\", function() {\n",
       "    var rows = document.getElementsByClassName(\"1297\");\n",
       "    for (var i = 0; i < rows.length; i++) {\n",
       "      var el = rows[i];\n",
       "      el.style.display = expanded ? \"none\" : \"table-row\";\n",
       "    }\n",
       "    ellipsis.innerHTML = expanded ? \"&hellip;)\" : \"&lsaquo;&lsaquo;&lsaquo;\";\n",
       "    expanded = !expanded;\n",
       "  });\n",
       "})();\n",
       "</script>\n"
      ],
      "text/plain": [
       "Figure(id='1145', ...)"
      ]
     },
     "execution_count": 27,
     "metadata": {},
     "output_type": "execute_result"
    }
   ],
   "source": [
    "gt_grid_c3 = gt.grid(grid_c3)\n",
    "\n",
    "gt_grid_c3.dae2vi()\n",
    "\n",
    "vsc_buses = ['R1','R10','R14']\n",
    "a2n = {'a':1,'b':2,'c':3}\n",
    "for vsc_bus in vsc_buses:\n",
    "    for ph in ['a','b','c']:\n",
    "        idx = list(gt_grid_c3.nodes_list).index(f'{vsc_bus}.{a2n[ph]}') \n",
    "        gt_grid_c3.I_node[idx] += grid_c3.get_value(f'i_vsc_{vsc_bus}_{ph}_r')+1j*grid_c3.get_value(f'i_vsc_{vsc_bus}_{ph}_i')\n",
    "\n",
    "gt_grid_c3.get_v()\n",
    "gt_grid_c3.get_i()\n",
    "\n",
    "gt_grid_c3.bokeh_tools()\n",
    "\n",
    "gt.plot_results(gt_grid_c3)"
   ]
  },
  {
   "cell_type": "code",
   "execution_count": 82,
   "metadata": {},
   "outputs": [],
   "source": [
    "def ini_problem(self,x):\n",
    "    self.struct[0].x[:,0] = x[0:self.N_x]\n",
    "    self.struct[0].y_ini[:,0] = x[self.N_x:(self.N_x+self.N_y)]\n",
    "    if self.compile:\n",
    "       # ini(self.struct,2)\n",
    "        ini(self.struct,3)       \n",
    "    else:\n",
    "        ini.py_func(self.struct,2)\n",
    "        ini.py_func(self.struct,3)                   \n",
    "    fg = np.vstack((self.struct[0].f,self.struct[0].g))[:,0]\n",
    "    return fg"
   ]
  },
  {
   "cell_type": "code",
   "execution_count": 55,
   "metadata": {},
   "outputs": [
    {
     "data": {
      "text/plain": [
       "[<matplotlib.lines.Line2D at 0x2cb3deb7070>]"
      ]
     },
     "execution_count": 55,
     "metadata": {},
     "output_type": "execute_result"
    },
    {
     "data": {
      "image/png": "[encoded data removed]",
      "text/plain": [
       "<Figure size 504x504 with 2 Axes>"
      ]
     },
     "metadata": {
      "needs_background": "light"
     },
     "output_type": "display_data"
    }
   ],
   "source": [
    "fig,  axes   = plt.subplots(nrows=2,ncols=1, figsize=(7, 7))\n",
    "axes[0].plot(p_dc/1e3,p_loss)"
   ]
  },
  {
   "cell_type": "code",
   "execution_count": 17,
   "metadata": {},
   "outputs": [
    {
     "data": {
      "text/plain": [
       "   direc: array([[   0.        ,    1.        ],\n",
       "       [-935.21979958,  339.14541993]])\n",
       "     fun: array(12282.76966481)\n",
       " message: 'Optimization terminated successfully.'\n",
       "    nfev: 116\n",
       "     nit: 3\n",
       "  status: 0\n",
       " success: True\n",
       "       x: array([20871.11509636, 23407.62236097])"
      ]
     },
     "execution_count": 17,
     "metadata": {},
     "output_type": "execute_result"
    }
   ],
   "source": [
    "sol"
   ]
  },
  {
   "cell_type": "code",
   "execution_count": 21,
   "metadata": {},
   "outputs": [
    {
     "data": {
      "text/html": [
       "\n",
       "\n",
       "\n",
       "\n",
       "\n",
       "\n",
       "  <div class=\"bk-root\" id=\"40557a91-8788-4931-9969-c28c22671cee\" data-root-id=\"1145\"></div>\n"
      ]
     },
     "metadata": {},
     "output_type": "display_data"
    },
    {
     "data": {
      "application/javascript": [
       "(function(root) {\n",
       "  function embed_document(root) {\n",
       "    \n",
       "  var docs_json = {\"8b619f19-1583-4d27-9275-fc10f334db4e\":{\"roots\":{\"references\":[{\"attributes\":{\"below\":[{\"id\":\"1156\"}],\"center\":[{\"id\":\"1159\"},{\"id\":\"1163\"}],\"left\":[{\"id\":\"1160\"}],\"plot_height\":400,\"renderers\":[{\"id\":\"1181\"},{\"id\":\"1187\"},{\"id\":\"1193\"}],\"title\":{\"id\":\"1146\"},\"toolbar\":{\"id\":\"1170\"},\"x_range\":{\"id\":\"1148\"},\"x_scale\":{\"id\":\"1152\"},\"y_range\":{\"id\":\"1150\"},\"y_scale\":{\"id\":\"1154\"}},\"id\":\"1145\",\"subtype\":\"Figure\",\"type\":\"Plot\"},{\"attributes\":{\"axis\":{\"id\":\"1160\"},\"dimension\":1,\"ticker\":null},\"id\":\"1163\",\"type\":\"Grid\"},{\"attributes\":{\"source\":{\"id\":\"1177\"}},\"id\":\"1182\",\"type\":\"CDSView\"},{\"attributes\":{\"data\":{\"deg_1a\":[-141.34287892313642],\"deg_1b\":[98.16249754502154],\"deg_1c\":[-22.091635299015294],\"deg_1n\":[0.0],\"deg_2a\":[8.525846922352718],\"deg_2b\":[-111.59189090470574],\"deg_2c\":[127.79888778643371],\"deg_2n\":[-47.132529266654714],\"i_1a_m\":[6.226089345836843],\"i_1b_m\":[6.288697977063902],\"i_1c_m\":[6.210791644254444],\"i_1n_m\":[0.0],\"i_2a_m\":[309.3257882542644],\"i_2b_m\":[312.9109341596481],\"i_2c_m\":[314.0429901908059],\"i_2n_m\":[315.8834865292818],\"trafo_id\":[\"R0-R1\"],\"x_s\":[[0,0]],\"y_s\":[[20,0]]},\"selected\":{\"id\":\"1219\"},\"selection_policy\":{\"id\":\"1220\"}},\"id\":\"1177\",\"type\":\"ColumnDataSource\"},{\"attributes\":{\"source\":{\"id\":\"1183\"}},\"id\":\"1188\",\"type\":\"CDSView\"},{\"attributes\":{\"data_source\":{\"id\":\"1183\"},\"glyph\":{\"id\":\"1185\"},\"hover_glyph\":null,\"muted_glyph\":null,\"nonselection_glyph\":{\"id\":\"1186\"},\"selection_glyph\":null,\"view\":{\"id\":\"1188\"}},\"id\":\"1187\",\"type\":\"GlyphRenderer\"},{\"attributes\":{\"overlay\":{\"id\":\"1218\"}},\"id\":\"1166\",\"type\":\"BoxZoomTool\"},{\"attributes\":{\"line_alpha\":{\"value\":0.5},\"line_color\":{\"value\":\"green\"},\"line_width\":{\"value\":5},\"xs\":{\"field\":\"x_s\"},\"ys\":{\"field\":\"y_s\"}},\"id\":\"1179\",\"type\":\"MultiLine\"},{\"attributes\":{},\"id\":\"1161\",\"type\":\"BasicTicker\"},{\"attributes\":{},\"id\":\"1222\",\"type\":\"UnionRenderers\"},{\"attributes\":{\"axis\":{\"id\":\"1156\"},\"ticker\":null},\"id\":\"1159\",\"type\":\"Grid\"},{\"attributes\":{\"line_alpha\":{\"value\":0.1},\"line_color\":{\"value\":\"green\"},\"line_width\":{\"value\":5},\"xs\":{\"field\":\"x_s\"},\"ys\":{\"field\":\"y_s\"}},\"id\":\"1180\",\"type\":\"MultiLine\"},{\"attributes\":{\"formatter\":{\"id\":\"1214\"},\"ticker\":{\"id\":\"1161\"}},\"id\":\"1160\",\"type\":\"LinearAxis\"},{\"attributes\":{\"callback\":null,\"renderers\":[{\"id\":\"1193\"}],\"tooltips\":\"\\n            <div>\\n            bus_id = @bus_id &nbsp &nbsp |  u<sub>avg</sub>= @u_avg_pu pu |  u<sub>unb</sub>= @v_unb %\\n            <table border=\\\"1\\\">\\n                <tr>\\n                <td>v<sub>an</sub> =  @v_an  &ang; @deg_an V </td> <td> S<sub>a</sub> = @p_a + j@q_a kVA</td>\\n                </tr>\\n                      <tr>\\n                      <td> </td> <td>v<sub>ab</sub>= @v_ab V</td>\\n                      </tr>\\n                <tr>\\n                <td>v<sub>bn</sub> = @v_bn &ang; @deg_bn V </td><td> S<sub>b</sub> = @p_b + j@q_b kVA</td>\\n                </tr>\\n                      <tr>\\n                      <td> </td><td>v<sub>bc</sub>= @v_bc V</td>\\n                      </tr>\\n                <tr>\\n                <td>v<sub>cn</sub>  = @v_cn &ang; @deg_cn V </td>  <td>S<sub>c</sub> = @p_c + j@q_c kVA </td>\\n                </tr> \\n                    <tr>\\n                     <td> </td> <td>v<sub>ca</sub>= @v_ca V</td>\\n                    </tr>\\n               <tr>\\n                <td>v<sub>ng</sub>    = @v_ng &ang; @deg_ng V</td>  <td>S<sub>abc</sub> = @p_abc + j@q_abc kVA </td>\\n              </tr>\\n            </table>\\n            </div>\\n            \"},\"id\":\"1199\",\"type\":\"HoverTool\"},{\"attributes\":{},\"id\":\"1152\",\"type\":\"LinearScale\"},{\"attributes\":{},\"id\":\"1221\",\"type\":\"Selection\"},{\"attributes\":{\"data\":{\"deg_j_a\":[-47.132529266654714,-47.132529266641484,-47.12190650158301,-47.26525739683876,-47.26525739681856,-47.28831971895593,-47.288319718927454,-47.28831971889832,-47.27751525167791,-47.27215251628201,-46.74901051403354,-46.749010514033706,-46.74901051403209,-46.74901051403256,-47.23043961301897,-47.30289885540317,-47.277515251640516,180.0,180.0,180.0,180.0,180.0,180.0,180.0,180.0,180.0,180.0,180.0],\"deg_j_b\":[-167.58688974958838,-167.58688974958244,-167.59702461670224,-167.76928100474234,-167.7692810047365,-167.84420958002158,-167.84420958000848,-167.84420957999768,-167.84706365327736,-167.45437368203312,-167.14974450228624,-167.14974450228004,-167.14974450227373,-167.1497445022699,-167.65642473384426,-167.84036065221014,-167.84706365327824,0.0,0.0,0.0,0.0,0.0,180.0,0.0,0.0,0.0,0.0,0.0],\"deg_j_c\":[72.59261352268977,72.59261352269972,72.59032939224198,72.42820329641675,72.42820329643254,72.3732438693262,72.37324386935283,72.37324386937932,72.37580101851769,72.62227188276026,73.01029167647961,73.01029167648755,73.01029167649554,73.01029167650336,72.51072776129571,72.36979798894538,72.37580101854039,0.0,180.0,0.0,180.0,180.0,180.0,0.0,180.0,180.0,180.0,180.0],\"deg_j_n\":[119.08688869712401,118.88861170482978,118.8369544275933,118.6579162594799,118.65791626000556,118.9218508444651,118.92185084534859,118.29664436552635,118.61970744079458,120.58466409831827,118.33267681716161,118.33267681713941,117.23258853123134,117.23258853114608,117.06397813083113,117.8439284252331,117.52978228087083,0.0,0.0,0.0,0.0,0.0,0.0,0.0,0.0,0.0,0.0,0.0],\"deg_k_a\":[-47.132529266654714,-47.132529266641484,-47.12190650158301,-47.26525739683876,-47.26525739681856,-47.28831971895593,-47.288319718927454,-47.28831971889832,-47.27751525167791,-47.27215251628201,-46.74901051403354,-46.749010514033706,-46.74901051403209,-46.74901051403256,-47.23043961301897,-47.30289885540317,-47.277515251640516,180.0,180.0,180.0,180.0,180.0,180.0,180.0,180.0,180.0,180.0,180.0],\"deg_k_b\":[-167.58688974958838,-167.58688974958244,-167.59702461670224,-167.76928100474234,-167.7692810047365,-167.84420958002158,-167.84420958000848,-167.84420957999768,-167.84706365327736,-167.45437368203312,-167.14974450228624,-167.14974450228004,-167.14974450227373,-167.1497445022699,-167.65642473384426,-167.84036065221014,-167.84706365327824,0.0,0.0,0.0,0.0,0.0,180.0,0.0,0.0,0.0,0.0,0.0],\"deg_k_c\":[72.59261352268977,72.59261352269972,72.59032939224198,72.42820329641675,72.42820329643254,72.3732438693262,72.37324386935283,72.37324386937932,72.37580101851769,72.62227188276026,73.01029167647961,73.01029167648755,73.01029167649554,73.01029167650336,72.51072776129571,72.36979798894538,72.37580101854039,0.0,180.0,0.0,180.0,180.0,180.0,0.0,180.0,180.0,180.0,180.0],\"deg_k_n\":[119.08688869712401,118.88861170482978,118.8369544275933,118.6579162594799,118.65791626000556,118.9218508444651,118.92185084534859,118.29664436552635,118.61970744079458,120.58466409831827,118.33267681716161,118.33267681713941,117.23258853123134,117.23258853114608,117.06397813083113,117.8439284252331,117.52978228087083,0.0,0.0,0.0,0.0,0.0,0.0,0.0,0.0,0.0,0.0,0.0],\"i_j_a_m\":[315.8834865292818,315.883486529257,293.549788215416,212.03856171387423,212.0385617138488,127.55183301017072,127.55183301013697,127.55183301010193,73.25971676425429,22.33376967247853,81.5136165028467,81.51361650287313,81.51361650289843,81.51361650292228,84.48675463600694,54.29211930589909,73.2597167643065,847.6934277721593,637.0794101069914,431.18619505441166,226.0385475857547,23.271199605369475,210.61401766518247,205.1476474693045,202.7673479809746,23.292629132323782,205.89321505241242,205.91499795080745],\"i_j_b_m\":[313.31202345784345,313.3120234578342,291.0523035783494,210.12986596050968,210.129865960508,126.28548410344648,126.28548410343457,126.28548410342275,72.5143432420425,22.25978396915634,80.92585312953422,80.92585312956113,80.92585312958708,80.92585312961538,83.84465249332484,53.77114107255836,72.51434324210767,1.0985827559946909e-26,2.1442769409729944e-26,1.9792792109650535e-26,1.6308392447398782e-26,6.275904012997525e-27,4.080707720179978e-27,2.8259297857283386e-27,3.0444200255597984e-27,3.7043980556674774e-27,8.83423484442586e-28,1.0479239542155692e-27],\"i_j_c_m\":[309.81353511012,309.8135351101189,287.6595184292014,207.54089755364177,207.54089755364873,124.57613604819386,124.57613604819602,124.57613604819174,71.5096364035629,22.154019877463586,80.1216039986515,80.12160399867416,80.12160399869711,80.12160399871556,82.96490487377854,53.06649981170981,71.50963640361181,1.6274331463371257e-27,2.5894502760762487e-28,4.359807117919544e-27,7.55260952012714e-30,2.6543682745447532e-27,1.0521052289785593e-27,3.991750497039523e-27,9.107585274880723e-28,2.090478794531688e-27,3.233115616639212e-27,1.2754679366919092e-27],\"i_j_n_m\":[3.407485913853965,3.406767686793557,3.3061032818700746,2.523709945483484,2.5237099454589877,1.6589247902245867,1.658924790202709,1.6835625909680376,0.9824846561369781,0.10070986943635585,0.7936482582898464,0.7936482582893458,0.8092409088943471,0.80924090889324,0.884735342994019,0.7011154386352461,1.011287020992287,847.6934277738083,637.0794101086115,431.186195056428,226.03854758712464,23.271199606162554,210.61401766519793,205.1476474693227,202.76734798098278,23.29262913230923,205.89321505218038,205.91499795080244],\"i_k_a_m\":[315.8834865292818,315.883486529257,293.549788215416,212.03856171387423,212.0385617138488,127.55183301017072,127.55183301013697,127.55183301010193,73.25971676425429,22.33376967247853,81.5136165028467,81.51361650287313,81.51361650289843,81.51361650292228,84.48675463600694,54.29211930589909,73.2597167643065,847.6934277721593,637.0794101069914,431.18619505441166,226.0385475857547,23.271199605369475,210.61401766518247,205.1476474693045,202.7673479809746,23.292629132323782,205.89321505241242,205.91499795080745],\"i_k_b_m\":[313.31202345784345,313.3120234578342,291.0523035783494,210.12986596050968,210.129865960508,126.28548410344648,126.28548410343457,126.28548410342275,72.5143432420425,22.25978396915634,80.92585312953422,80.92585312956113,80.92585312958708,80.92585312961538,83.84465249332484,53.77114107255836,72.51434324210767,1.0985827559946909e-26,2.1442769409729944e-26,1.9792792109650535e-26,1.6308392447398782e-26,6.275904012997525e-27,4.080707720179978e-27,2.8259297857283386e-27,3.0444200255597984e-27,3.7043980556674774e-27,8.83423484442586e-28,1.0479239542155692e-27],\"i_k_c_m\":[309.81353511012,309.8135351101189,287.6595184292014,207.54089755364177,207.54089755364873,124.57613604819386,124.57613604819602,124.57613604819174,71.5096364035629,22.154019877463586,80.1216039986515,80.12160399867416,80.12160399869711,80.12160399871556,82.96490487377854,53.06649981170981,71.50963640361181,1.6274331463371257e-27,2.5894502760762487e-28,4.359807117919544e-27,7.55260952012714e-30,2.6543682745447532e-27,1.0521052289785593e-27,3.991750497039523e-27,9.107585274880723e-28,2.090478794531688e-27,3.233115616639212e-27,1.2754679366919092e-27],\"i_k_n_m\":[3.407485913853965,3.406767686793557,3.3061032818700746,2.523709945483484,2.5237099454589877,1.6589247902245867,1.658924790202709,1.6835625909680376,0.9824846561369781,0.10070986943635585,0.7936482582898464,0.7936482582893458,0.8092409088943471,0.80924090889324,0.884735342994019,0.7011154386352461,1.011287020992287,847.6934277738083,637.0794101086115,431.186195056428,226.03854758712464,23.271199606162554,210.61401766519793,205.1476474693227,202.76734798098278,23.29262913230923,205.89321505218038,205.91499795080244],\"line_id\":[\"R1-R2\",\"R2-R3\",\"R3-R4\",\"R4-R5\",\"R5-R6\",\"R6-R7\",\"R7-R8\",\"R8-R9\",\"R9-R10\",\"R3-R11\",\"R4-R12\",\"R12-R13\",\"R13-R14\",\"R14-R15\",\"R6-R16\",\"R9-R17\",\"R10-R18\",\"D1-D3\",\"D3-D4\",\"D4-D6\",\"D6-D9\",\"D9-D10\",\"D3-D11\",\"D6-D16\",\"D9-D17\",\"D10-D18\",\"D4-D14\",\"D14-D15\"],\"x_s\":[[0,0],[0,0],[0,0],[0,0],[0,0],[0,0],[0,0],[0,0],[0,0],[0,-30],[0,35],[35,70],[70,105],[105,105],[0,-35],[0,30],[0,-30],[4,4],[4,4],[4,4],[4,4],[4,4],[4,-30],[4,-35],[4,30],[4,-30],[4,109],[109,109]],\"y_s\":[[0,-35],[-35,-70],[-70,-105],[-105,-140],[-140,-175],[-175,-210],[-210,-245],[-245,-280],[-280,-315],[-70,-70],[-105,-105],[-105,-105],[-105,-105],[-105,-140],[-175,-175],[-280,-280],[-315,-315],[0,-55],[-55,-90],[-90,-190],[-190,-265],[-265,-330],[-55,-55],[-190,-190],[-265,-265],[-330,-330],[-90,-90],[-90,-140]]},\"selected\":{\"id\":\"1221\"},\"selection_policy\":{\"id\":\"1222\"}},\"id\":\"1183\",\"type\":\"ColumnDataSource\"},{\"attributes\":{\"formatter\":{\"id\":\"1216\"},\"ticker\":{\"id\":\"1157\"}},\"id\":\"1156\",\"type\":\"LinearAxis\"},{\"attributes\":{\"line_alpha\":{\"value\":0.1},\"line_color\":{\"value\":\"red\"},\"line_width\":{\"value\":5},\"xs\":{\"field\":\"x_s\"},\"ys\":{\"field\":\"y_s\"}},\"id\":\"1186\",\"type\":\"MultiLine\"},{\"attributes\":{},\"id\":\"1150\",\"type\":\"DataRange1d\"},{\"attributes\":{\"active_drag\":\"auto\",\"active_inspect\":\"auto\",\"active_multi\":null,\"active_scroll\":\"auto\",\"active_tap\":\"auto\",\"tools\":[{\"id\":\"1164\"},{\"id\":\"1165\"},{\"id\":\"1166\"},{\"id\":\"1167\"},{\"id\":\"1168\"},{\"id\":\"1169\"},{\"id\":\"1195\"},{\"id\":\"1197\"},{\"id\":\"1199\"}]},\"id\":\"1170\",\"type\":\"Toolbar\"},{\"attributes\":{},\"id\":\"1214\",\"type\":\"BasicTickFormatter\"},{\"attributes\":{},\"id\":\"1164\",\"type\":\"PanTool\"},{\"attributes\":{\"data_source\":{\"id\":\"1189\"},\"glyph\":{\"id\":\"1191\"},\"hover_glyph\":null,\"muted_glyph\":null,\"nonselection_glyph\":{\"id\":\"1192\"},\"selection_glyph\":null,\"view\":{\"id\":\"1194\"}},\"id\":\"1193\",\"type\":\"GlyphRenderer\"},{\"attributes\":{},\"id\":\"1148\",\"type\":\"DataRange1d\"},{\"attributes\":{\"line_alpha\":{\"value\":0.5},\"line_color\":{\"value\":\"red\"},\"line_width\":{\"value\":5},\"xs\":{\"field\":\"x_s\"},\"ys\":{\"field\":\"y_s\"}},\"id\":\"1185\",\"type\":\"MultiLine\"},{\"attributes\":{},\"id\":\"1169\",\"type\":\"HelpTool\"},{\"attributes\":{\"bottom_units\":\"screen\",\"fill_alpha\":0.5,\"fill_color\":\"lightgrey\",\"left_units\":\"screen\",\"level\":\"overlay\",\"line_alpha\":1.0,\"line_color\":\"black\",\"line_dash\":[4,4],\"line_width\":2,\"render_mode\":\"css\",\"right_units\":\"screen\",\"top_units\":\"screen\"},\"id\":\"1218\",\"type\":\"BoxAnnotation\"},{\"attributes\":{\"data_source\":{\"id\":\"1177\"},\"glyph\":{\"id\":\"1179\"},\"hover_glyph\":null,\"muted_glyph\":null,\"nonselection_glyph\":{\"id\":\"1180\"},\"selection_glyph\":null,\"view\":{\"id\":\"1182\"}},\"id\":\"1181\",\"type\":\"GlyphRenderer\"},{\"attributes\":{},\"id\":\"1216\",\"type\":\"BasicTickFormatter\"},{\"attributes\":{\"fill_alpha\":{\"value\":0.5},\"fill_color\":{\"value\":\"navy\"},\"line_alpha\":{\"value\":0.5},\"line_color\":{\"value\":\"navy\"},\"size\":{\"units\":\"screen\",\"value\":15},\"x\":{\"field\":\"x\"},\"y\":{\"field\":\"y\"}},\"id\":\"1191\",\"type\":\"Circle\"},{\"attributes\":{},\"id\":\"1157\",\"type\":\"BasicTicker\"},{\"attributes\":{\"data\":{\"bus_id\":[\"R0\",\"R1\",\"R2\",\"R3\",\"R4\",\"R5\",\"R6\",\"R7\",\"R8\",\"R9\",\"R10\",\"R11\",\"R12\",\"R13\",\"R14\",\"R15\",\"R16\",\"R17\",\"R18\",\"D1\",\"D3\",\"D4\",\"D6\",\"D9\",\"D10\",\"D11\",\"D16\",\"D17\",\"D18\",\"D14\",\"D15\"],\"deg_an\":[\"0.00\",\"-29.07\",\"-29.09\",\"-29.12\",\"-29.14\",\"-29.15\",\"-29.17\",\"-29.18\",\"-29.19\",\"-29.19\",\"-29.20\",\"-29.08\",\"-29.00\",\"-28.85\",\"-28.71\",\"-28.55\",\"-29.04\",\"-29.11\",\"-29.08\",\"0.00\",\"0.00\",\"0.00\",\"0.00\",\"0.00\",\"0.00\",\"0.00\",\"0.00\",\"0.00\",\"0.00\",\"0.00\",\"0.00\"],\"deg_bn\":[\"-120.00\",\"-149.06\",\"-149.17\",\"-149.29\",\"-149.40\",\"-149.48\",\"-149.56\",\"-149.61\",\"-149.66\",\"-149.71\",\"-149.74\",\"-149.26\",\"-149.29\",\"-149.18\",\"-149.07\",\"-148.95\",\"-149.46\",\"-149.65\",\"-149.65\",\"0.00\",\"0.00\",\"0.00\",\"0.00\",\"0.00\",\"0.00\",\"0.00\",\"0.00\",\"0.00\",\"0.00\",\"0.00\",\"0.00\"],\"deg_cn\":[\"120.00\",\"90.95\",\"90.87\",\"90.78\",\"90.71\",\"90.65\",\"90.59\",\"90.56\",\"90.53\",\"90.49\",\"90.47\",\"90.82\",\"90.83\",\"90.95\",\"91.08\",\"91.21\",\"90.71\",\"90.56\",\"90.57\",\"0.00\",\"0.00\",\"0.00\",\"0.00\",\"0.00\",\"0.00\",\"0.00\",\"0.00\",\"0.00\",\"0.00\",\"0.00\",\"0.00\"],\"deg_ng\":[\"0.00\",\"174.99\",\"-154.50\",\"-128.94\",\"-114.15\",\"-107.22\",\"-102.24\",\"-99.89\",\"-97.90\",\"-96.17\",\"-95.29\",\"-127.40\",\"-110.20\",\"-106.84\",\"-103.93\",\"-101.44\",\"-100.27\",\"-95.27\",\"-94.13\",\"180.00\",\"180.00\",\"180.00\",\"180.00\",\"180.00\",\"180.00\",\"180.00\",\"180.00\",\"180.00\",\"180.00\",\"180.00\",\"180.00\"],\"p_a\":[\"-56.14\",\"23.86\",\"0.00\",\"0.00\",\"0.00\",\"0.00\",\"0.00\",\"0.00\",\"0.00\",\"0.00\",\"138.72\",\"-4.75\",\"0.00\",\"0.00\",\"-0.00\",\"-16.47\",\"-17.42\",\"-11.08\",\"-14.88\",\"-678.87\",\"0.00\",\"0.00\",\"0.00\",\"0.00\",\"-0.02\",\"174.51\",\"174.51\",\"174.51\",\"20.00\",\"-0.02\",\"174.51\"],\"p_abc\":[\"-169.82\",\"71.60\",\"0.00\",\"0.00\",\"0.00\",\"0.00\",\"0.00\",\"0.00\",\"0.00\",\"0.00\",\"429.71\",\"-14.25\",\"0.00\",\"0.00\",\"-0.00\",\"-49.40\",\"-52.25\",\"-33.25\",\"-44.65\",\"-678.87\",\"0.00\",\"0.00\",\"0.00\",\"0.00\",\"-0.02\",\"174.51\",\"174.51\",\"174.51\",\"20.00\",\"-0.02\",\"174.51\"],\"p_b\":[\"-57.09\",\"23.89\",\"-0.00\",\"-0.00\",\"-0.00\",\"-0.00\",\"-0.00\",\"-0.00\",\"-0.00\",\"-0.00\",\"143.05\",\"-4.75\",\"-0.00\",\"-0.00\",\"-0.00\",\"-16.47\",\"-17.42\",\"-11.08\",\"-14.88\",\"0.00\",\"0.00\",\"0.00\",\"0.00\",\"0.00\",\"0.00\",\"0.00\",\"0.00\",\"0.00\",\"0.00\",\"0.00\",\"0.00\"],\"p_c\":[\"-56.58\",\"23.85\",\"0.00\",\"0.00\",\"0.00\",\"0.00\",\"0.00\",\"0.00\",\"0.00\",\"0.00\",\"147.93\",\"-4.75\",\"0.00\",\"0.00\",\"-0.00\",\"-16.47\",\"-17.42\",\"-11.08\",\"-14.88\",\"0.00\",\"0.00\",\"0.00\",\"0.00\",\"0.00\",\"0.00\",\"0.00\",\"0.00\",\"0.00\",\"0.00\",\"0.00\",\"0.00\"],\"q_a\":[\"44.91\",\"-21.97\",\"-0.00\",\"-0.00\",\"-0.00\",\"-0.00\",\"-0.00\",\"-0.00\",\"-0.00\",\"-0.00\",\"-11.10\",\"-1.56\",\"-0.00\",\"-0.00\",\"-0.00\",\"-5.41\",\"-5.72\",\"-3.64\",\"-4.89\",\"-0.00\",\"0.00\",\"0.00\",\"0.00\",\"0.00\",\"-0.00\",\"0.00\",\"0.00\",\"0.00\",\"0.00\",\"-0.00\",\"0.00\"],\"q_abc\":[\"133.84\",\"-66.02\",\"0.00\",\"0.00\",\"0.00\",\"0.00\",\"0.00\",\"0.00\",\"0.00\",\"0.00\",\"-38.30\",\"-4.68\",\"0.00\",\"0.00\",\"-0.00\",\"-16.24\",\"-17.17\",\"-10.93\",\"-14.68\",\"0.00\",\"0.00\",\"0.00\",\"0.00\",\"0.00\",\"0.00\",\"0.00\",\"0.00\",\"0.00\",\"0.00\",\"0.00\",\"0.00\"],\"q_b\":[\"44.87\",\"-22.01\",\"0.00\",\"0.00\",\"0.00\",\"0.00\",\"0.00\",\"0.00\",\"0.00\",\"0.00\",\"-14.84\",\"-1.56\",\"0.00\",\"0.00\",\"0.00\",\"-5.41\",\"-5.72\",\"-3.64\",\"-4.89\",\"0.00\",\"0.00\",\"0.00\",\"0.00\",\"0.00\",\"0.00\",\"0.00\",\"0.00\",\"0.00\",\"0.00\",\"0.00\",\"0.00\"],\"q_c\":[\"44.06\",\"-22.04\",\"0.00\",\"0.00\",\"0.00\",\"0.00\",\"0.00\",\"0.00\",\"0.00\",\"0.00\",\"-12.36\",\"-1.56\",\"0.00\",\"0.00\",\"0.00\",\"-5.41\",\"-5.72\",\"-3.64\",\"-4.89\",\"0.00\",\"0.00\",\"0.00\",\"0.00\",\"0.00\",\"0.00\",\"0.00\",\"0.00\",\"0.00\",\"0.00\",\"0.00\",\"0.00\"],\"s_color\":[\"green\",\"red\",\"blue\",\"blue\",\"blue\",\"blue\",\"blue\",\"blue\",\"blue\",\"blue\",\"red\",\"green\",\"blue\",\"blue\",\"green\",\"green\",\"green\",\"green\",\"green\",\"green\",\"blue\",\"blue\",\"blue\",\"blue\",\"green\",\"red\",\"red\",\"red\",\"red\",\"green\",\"red\"],\"s_radio\":[4.649957931498555,3.1207938275412364,1,1,1,1,1,1,1,1,6.568230443914608,1.2247448713915927,1,1,1,2.2803508501982677,2.345207879911711,1.8708286933869818,2.1679483388678613,8.239376956816681,1,1,1,1,1,4.177382946548106,4.177382946548105,4.177382946548106,1.4142135623730951,1,4.177382946548106],\"u_avg_pu\":[\"1.000\",\"0.993\",\"0.984\",\"0.976\",\"0.968\",\"0.962\",\"0.957\",\"0.953\",\"0.950\",\"0.946\",\"0.944\",\"0.973\",\"0.958\",\"0.948\",\"0.938\",\"0.928\",\"0.948\",\"0.941\",\"0.937\",\"1.158\",\"1.231\",\"1.258\",\"1.295\",\"1.324\",\"1.324\",\"1.238\",\"1.302\",\"1.331\",\"1.325\",\"1.284\",\"1.293\"],\"v_ab\":[19999.99067499782,397.08866010471456,393.4796557797093,389.87086824493826,386.5179268791029,384.096067563783,381.67430399001114,380.2179757720843,378.7616822689307,377.30544721956477,376.4691522768523,388.7656884756335,382.48302910508323,378.45028365361605,374.4197761072717,370.3915629367098,378.09624953745674,375.00819596220015,373.36988153440933,800.0,812.5204319281947,817.2252633718349,823.5938834727885,828.6017674945509,828.749074188053,813.8536186600154,824.8924680812693,829.8852848072705,828.8965165304605,821.786827551321,823.3075098111877],\"v_an\":[\"11547.00\",\"229.28\",\"226.91\",\"224.54\",\"222.33\",\"220.74\",\"219.15\",\"218.19\",\"217.23\",\"216.27\",\"215.72\",\"223.88\",\"219.91\",\"217.49\",\"215.06\",\"212.64\",\"217.00\",\"214.89\",\"213.85\",\"800.85\",\"825.89\",\"835.30\",\"848.04\",\"858.05\",\"858.35\",\"828.55\",\"850.63\",\"860.62\",\"858.64\",\"844.42\",\"847.46\"],\"v_an_pu\":[\"1.0000\",\"0.9928\",\"0.9825\",\"0.9723\",\"0.9627\",\"0.9558\",\"0.9489\",\"0.9448\",\"0.9406\",\"0.9365\",\"0.9341\",\"0.9694\",\"0.9522\",\"0.9417\",\"0.9313\",\"0.9208\",\"0.9396\",\"0.9305\",\"0.9260\",\"3.4678\",\"3.5762\",\"3.6169\",\"3.6721\",\"3.7155\",\"3.7167\",\"3.5877\",\"3.6833\",\"3.7266\",\"3.7180\",\"3.6565\",\"3.6696\"],\"v_bc\":[19999.990674997825,397.11684263558493,394.0075950915584,390.8988048250328,388.012295167342,385.9287525052748,383.84542040734743,382.5943838613011,381.343423580551,380.092548968115,379.37448627678975,389.8321853182664,384.14290699069716,380.2754733798247,376.4100580900601,372.5467202494669,380.4160822405733,377.8978001191236,376.41624486208167,0.0,1.382234854890165e-28,2.9849064660875446e-28,5.264358349366212e-28,8.879155976726596e-28,9.444442212528023e-28,1.1905243171971152e-28,5.190561898340214e-28,9.129518779134526e-28,9.81125791714563e-28,3.896925703932217e-28,4.068508195075735e-28],\"v_bn\":[\"11547.00\",\"229.27\",\"227.26\",\"225.25\",\"223.39\",\"222.04\",\"220.70\",\"219.89\",\"219.09\",\"218.28\",\"217.81\",\"224.62\",\"221.09\",\"218.79\",\"216.49\",\"214.19\",\"218.66\",\"216.97\",\"216.05\",\"0.85\",\"13.37\",\"18.07\",\"24.44\",\"29.45\",\"29.60\",\"14.70\",\"25.74\",\"30.73\",\"29.74\",\"22.63\",\"24.16\"],\"v_bn_pu\":[\"1.0000\",\"0.9928\",\"0.9841\",\"0.9754\",\"0.9673\",\"0.9615\",\"0.9557\",\"0.9522\",\"0.9487\",\"0.9452\",\"0.9432\",\"0.9726\",\"0.9573\",\"0.9474\",\"0.9374\",\"0.9275\",\"0.9468\",\"0.9395\",\"0.9355\",\"0.0037\",\"0.0579\",\"0.0783\",\"0.1058\",\"0.1275\",\"0.1282\",\"0.0637\",\"0.1115\",\"0.1331\",\"0.1288\",\"0.0980\",\"0.1046\"],\"v_ca\":[19999.99067499783,397.18085123865666,393.70336867270385,390.22749201505474,387.0006817074397,384.6710830238314,382.34224507049174,380.94340813708743,379.54485382727336,378.1465852768528,377.3439306111734,389.13188556348206,383.0138719698073,379.02844579452943,375.04444728906566,371.0619224390137,378.80585299110044,375.87904557527605,374.285972822126,800.0,812.5204319281947,817.2252633718349,823.5938834727885,828.6017674945509,828.749074188053,813.8536186600154,824.8924680812693,829.8852848072705,828.8965165304605,821.786827551321,823.3075098111877],\"v_cn\":[\"11547.00\",\"229.30\",\"227.79\",\"226.29\",\"224.89\",\"223.88\",\"222.87\",\"222.27\",\"221.66\",\"221.06\",\"220.71\",\"225.69\",\"222.75\",\"220.61\",\"218.47\",\"216.34\",\"220.98\",\"219.85\",\"219.08\",\"0.85\",\"13.37\",\"18.07\",\"24.44\",\"29.45\",\"29.60\",\"14.70\",\"25.74\",\"30.73\",\"29.74\",\"22.63\",\"24.16\"],\"v_cn_pu\":[\"1.0000\",\"0.9929\",\"0.9864\",\"0.9798\",\"0.9738\",\"0.9694\",\"0.9651\",\"0.9624\",\"0.9598\",\"0.9572\",\"0.9557\",\"0.9773\",\"0.9645\",\"0.9553\",\"0.9460\",\"0.9368\",\"0.9569\",\"0.9520\",\"0.9487\",\"0.0037\",\"0.0579\",\"0.0783\",\"0.1058\",\"0.1275\",\"0.1282\",\"0.0637\",\"0.1115\",\"0.1331\",\"0.1288\",\"0.0980\",\"0.1046\"],\"v_ng\":[\"0.00\",\"0.49\",\"0.47\",\"0.58\",\"0.74\",\"0.89\",\"1.04\",\"1.13\",\"1.23\",\"1.32\",\"1.38\",\"0.59\",\"0.81\",\"0.88\",\"0.95\",\"1.02\",\"1.10\",\"1.37\",\"1.44\",\"0.85\",\"13.37\",\"18.07\",\"24.44\",\"29.45\",\"29.60\",\"14.70\",\"25.74\",\"30.73\",\"29.74\",\"22.63\",\"24.16\"],\"v_unb\":[\"0.0\",\"0.0\",\"0.2\",\"0.4\",\"0.6\",\"0.7\",\"0.9\",\"1.0\",\"1.1\",\"1.2\",\"1.2\",\"0.4\",\"0.7\",\"0.8\",\"0.8\",\"0.9\",\"1.0\",\"1.2\",\"1.3\",\"199.4\",\"190.6\",\"187.6\",\"183.6\",\"180.7\",\"180.6\",\"189.7\",\"182.9\",\"180.0\",\"180.6\",\"184.7\",\"183.8\"],\"x\":[0,0,0,0,0,0,0,0,0,0,0,-30,35,70,105,105,-35,30,-30,4,4,4,4,4,4,-30,-35,30,-30,109,109],\"y\":[20,0,-35,-70,-105,-140,-175,-210,-245,-280,-315,-70,-105,-105,-105,-140,-175,-280,-315,0,-55,-90,-190,-265,-330,-55,-190,-265,-330,-90,-140]},\"selected\":{\"id\":\"1223\"},\"selection_policy\":{\"id\":\"1224\"}},\"id\":\"1189\",\"type\":\"ColumnDataSource\"},{\"attributes\":{\"text\":\"Results\"},\"id\":\"1146\",\"type\":\"Title\"},{\"attributes\":{\"fill_alpha\":{\"value\":0.1},\"fill_color\":{\"value\":\"navy\"},\"line_alpha\":{\"value\":0.1},\"line_color\":{\"value\":\"navy\"},\"size\":{\"units\":\"screen\",\"value\":15},\"x\":{\"field\":\"x\"},\"y\":{\"field\":\"y\"}},\"id\":\"1192\",\"type\":\"Circle\"},{\"attributes\":{\"source\":{\"id\":\"1189\"}},\"id\":\"1194\",\"type\":\"CDSView\"},{\"attributes\":{},\"id\":\"1223\",\"type\":\"Selection\"},{\"attributes\":{},\"id\":\"1165\",\"type\":\"WheelZoomTool\"},{\"attributes\":{},\"id\":\"1224\",\"type\":\"UnionRenderers\"},{\"attributes\":{\"callback\":null,\"renderers\":[{\"id\":\"1187\"}],\"tooltips\":\"\\n            <div>\\n            line id = @line_id \\n            <table border=\\\"5\\\">\\n                <tr >\\n                    <td>I<sub>ja</sub> =  @i_j_a_m &ang; @deg_j_a </td>\\n                    <td>I<sub>ka</sub> =  @i_k_a_m &ang; @deg_k_a </td>\\n                </tr>\\n                <tr>\\n                    <td >I<sub>jb</sub> =  @i_j_b_m &ang; @deg_j_b </td>\\n                    <td >I<sub>kb</sub> =  @i_k_b_m &ang; @deg_k_b </td>\\n                </tr>\\n                <tr>\\n                    <td >I<sub>jc</sub> =  @i_j_c_m &ang; @deg_j_c </td>\\n                    <td >I<sub>kc</sub> =  @i_k_c_m &ang; @deg_k_c </td>\\n                </tr>\\n                <tr>\\n                    <td >I<sub>jn</sub> =  @i_j_n_m &ang; @deg_j_n </td>\\n                    <td >I<sub>kn</sub> =  @i_k_n_m &ang; @deg_k_n </td>\\n                </tr>\\n            </table>            \\n            </div>\\n            \"},\"id\":\"1197\",\"type\":\"HoverTool\"},{\"attributes\":{},\"id\":\"1154\",\"type\":\"LinearScale\"},{\"attributes\":{},\"id\":\"1167\",\"type\":\"SaveTool\"},{\"attributes\":{},\"id\":\"1168\",\"type\":\"ResetTool\"},{\"attributes\":{\"callback\":null,\"renderers\":[{\"id\":\"1181\"}],\"tooltips\":\"\\n            <div>\\n            transformer id = @trafo_id  \\n            <table border=\\\"5\\\">\\n                <tr >\\n                    <td>I<sub>1a</sub> =  @i_1a_m &ang; @deg_1a </td>\\n                    <td>I<sub>2a</sub> =  @i_2a_m &ang; @deg_2a </td>\\n                </tr>\\n                <tr>\\n                    <td >I<sub>1b</sub> =  @i_1b_m &ang; @deg_1b </td>\\n                    <td >I<sub>2b</sub> =  @i_2b_m &ang; @deg_2b </td>\\n                </tr>\\n                <tr>\\n                    <td >I<sub>1c</sub> =  @i_1c_m &ang; @deg_1c </td>\\n                    <td >I<sub>2c</sub> =  @i_2c_m &ang; @deg_2c </td>\\n                </tr>\\n                <tr>\\n                    <td >I<sub>1n</sub> =  @i_1n_m &ang; @deg_1n </td>\\n                    <td >I<sub>2n</sub> =  @i_2n_m &ang; @deg_2n </td>\\n                </tr>\\n            </table>            \\n            </div>\\n            \"},\"id\":\"1195\",\"type\":\"HoverTool\"},{\"attributes\":{},\"id\":\"1219\",\"type\":\"Selection\"},{\"attributes\":{},\"id\":\"1220\",\"type\":\"UnionRenderers\"}],\"root_ids\":[\"1145\"]},\"title\":\"Bokeh Application\",\"version\":\"2.0.0\"}};\n",
       "  var render_items = [{\"docid\":\"8b619f19-1583-4d27-9275-fc10f334db4e\",\"root_ids\":[\"1145\"],\"roots\":{\"1145\":\"40557a91-8788-4931-9969-c28c22671cee\"}}];\n",
       "  root.Bokeh.embed.embed_items_notebook(docs_json, render_items);\n",
       "\n",
       "  }\n",
       "  if (root.Bokeh !== undefined) {\n",
       "    embed_document(root);\n",
       "  } else {\n",
       "    var attempts = 0;\n",
       "    var timer = setInterval(function(root) {\n",
       "      if (root.Bokeh !== undefined) {\n",
       "        clearInterval(timer);\n",
       "        embed_document(root);\n",
       "      } else {\n",
       "        attempts++;\n",
       "        if (attempts > 100) {\n",
       "          clearInterval(timer);\n",
       "          console.log(\"Bokeh: ERROR: Unable to run BokehJS code because BokehJS library is missing\");\n",
       "        }\n",
       "      }\n",
       "    }, 10, root)\n",
       "  }\n",
       "})(window);"
      ],
      "application/vnd.bokehjs_exec.v0+json": ""
     },
     "metadata": {
      "application/vnd.bokehjs_exec.v0+json": {
       "id": "1145"
      }
     },
     "output_type": "display_data"
    },
    {
     "data": {
      "text/html": [
       "<div style=\"display: table;\"><div style=\"display: table-row;\"><div style=\"display: table-cell;\"><b title=\"bokeh.plotting.figure.Figure\">Figure</b>(</div><div style=\"display: table-cell;\">id&nbsp;=&nbsp;'1145', <span id=\"1298\" style=\"cursor: pointer;\">&hellip;)</span></div></div><div class=\"1297\" style=\"display: none;\"><div style=\"display: table-cell;\"></div><div style=\"display: table-cell;\">above&nbsp;=&nbsp;[],</div></div><div class=\"1297\" style=\"display: none;\"><div style=\"display: table-cell;\"></div><div style=\"display: table-cell;\">align&nbsp;=&nbsp;'start',</div></div><div class=\"1297\" style=\"display: none;\"><div style=\"display: table-cell;\"></div><div style=\"display: table-cell;\">aspect_ratio&nbsp;=&nbsp;None,</div></div><div class=\"1297\" style=\"display: none;\"><div style=\"display: table-cell;\"></div><div style=\"display: table-cell;\">aspect_scale&nbsp;=&nbsp;1,</div></div><div class=\"1297\" style=\"display: none;\"><div style=\"display: table-cell;\"></div><div style=\"display: table-cell;\">background&nbsp;=&nbsp;None,</div></div><div class=\"1297\" style=\"display: none;\"><div style=\"display: table-cell;\"></div><div style=\"display: table-cell;\">background_fill_alpha&nbsp;=&nbsp;1.0,</div></div><div class=\"1297\" style=\"display: none;\"><div style=\"display: table-cell;\"></div><div style=\"display: table-cell;\">background_fill_color&nbsp;=&nbsp;'#ffffff',</div></div><div class=\"1297\" style=\"display: none;\"><div style=\"display: table-cell;\"></div><div style=\"display: table-cell;\">below&nbsp;=&nbsp;[LinearAxis(id='1156', ...)],</div></div><div class=\"1297\" style=\"display: none;\"><div style=\"display: table-cell;\"></div><div style=\"display: table-cell;\">border_fill_alpha&nbsp;=&nbsp;1.0,</div></div><div class=\"1297\" style=\"display: none;\"><div style=\"display: table-cell;\"></div><div style=\"display: table-cell;\">border_fill_color&nbsp;=&nbsp;'#ffffff',</div></div><div class=\"1297\" style=\"display: none;\"><div style=\"display: table-cell;\"></div><div style=\"display: table-cell;\">center&nbsp;=&nbsp;[Grid(id='1159', ...), Grid(id='1163', ...)],</div></div><div class=\"1297\" style=\"display: none;\"><div style=\"display: table-cell;\"></div><div style=\"display: table-cell;\">css_classes&nbsp;=&nbsp;[],</div></div><div class=\"1297\" style=\"display: none;\"><div style=\"display: table-cell;\"></div><div style=\"display: table-cell;\">disabled&nbsp;=&nbsp;False,</div></div><div class=\"1297\" style=\"display: none;\"><div style=\"display: table-cell;\"></div><div style=\"display: table-cell;\">extra_x_ranges&nbsp;=&nbsp;{},</div></div><div class=\"1297\" style=\"display: none;\"><div style=\"display: table-cell;\"></div><div style=\"display: table-cell;\">extra_y_ranges&nbsp;=&nbsp;{},</div></div><div class=\"1297\" style=\"display: none;\"><div style=\"display: table-cell;\"></div><div style=\"display: table-cell;\">frame_height&nbsp;=&nbsp;None,</div></div><div class=\"1297\" style=\"display: none;\"><div style=\"display: table-cell;\"></div><div style=\"display: table-cell;\">frame_width&nbsp;=&nbsp;None,</div></div><div class=\"1297\" style=\"display: none;\"><div style=\"display: table-cell;\"></div><div style=\"display: table-cell;\">height&nbsp;=&nbsp;None,</div></div><div class=\"1297\" style=\"display: none;\"><div style=\"display: table-cell;\"></div><div style=\"display: table-cell;\">height_policy&nbsp;=&nbsp;'auto',</div></div><div class=\"1297\" style=\"display: none;\"><div style=\"display: table-cell;\"></div><div style=\"display: table-cell;\">hidpi&nbsp;=&nbsp;True,</div></div><div class=\"1297\" style=\"display: none;\"><div style=\"display: table-cell;\"></div><div style=\"display: table-cell;\">js_event_callbacks&nbsp;=&nbsp;{},</div></div><div class=\"1297\" style=\"display: none;\"><div style=\"display: table-cell;\"></div><div style=\"display: table-cell;\">js_property_callbacks&nbsp;=&nbsp;{},</div></div><div class=\"1297\" style=\"display: none;\"><div style=\"display: table-cell;\"></div><div style=\"display: table-cell;\">left&nbsp;=&nbsp;[LinearAxis(id='1160', ...)],</div></div><div class=\"1297\" style=\"display: none;\"><div style=\"display: table-cell;\"></div><div style=\"display: table-cell;\">lod_factor&nbsp;=&nbsp;10,</div></div><div class=\"1297\" style=\"display: none;\"><div style=\"display: table-cell;\"></div><div style=\"display: table-cell;\">lod_interval&nbsp;=&nbsp;300,</div></div><div class=\"1297\" style=\"display: none;\"><div style=\"display: table-cell;\"></div><div style=\"display: table-cell;\">lod_threshold&nbsp;=&nbsp;2000,</div></div><div class=\"1297\" style=\"display: none;\"><div style=\"display: table-cell;\"></div><div style=\"display: table-cell;\">lod_timeout&nbsp;=&nbsp;500,</div></div><div class=\"1297\" style=\"display: none;\"><div style=\"display: table-cell;\"></div><div style=\"display: table-cell;\">margin&nbsp;=&nbsp;(0, 0, 0, 0),</div></div><div class=\"1297\" style=\"display: none;\"><div style=\"display: table-cell;\"></div><div style=\"display: table-cell;\">match_aspect&nbsp;=&nbsp;False,</div></div><div class=\"1297\" style=\"display: none;\"><div style=\"display: table-cell;\"></div><div style=\"display: table-cell;\">max_height&nbsp;=&nbsp;None,</div></div><div class=\"1297\" style=\"display: none;\"><div style=\"display: table-cell;\"></div><div style=\"display: table-cell;\">max_width&nbsp;=&nbsp;None,</div></div><div class=\"1297\" style=\"display: none;\"><div style=\"display: table-cell;\"></div><div style=\"display: table-cell;\">min_border&nbsp;=&nbsp;5,</div></div><div class=\"1297\" style=\"display: none;\"><div style=\"display: table-cell;\"></div><div style=\"display: table-cell;\">min_border_bottom&nbsp;=&nbsp;None,</div></div><div class=\"1297\" style=\"display: none;\"><div style=\"display: table-cell;\"></div><div style=\"display: table-cell;\">min_border_left&nbsp;=&nbsp;None,</div></div><div class=\"1297\" style=\"display: none;\"><div style=\"display: table-cell;\"></div><div style=\"display: table-cell;\">min_border_right&nbsp;=&nbsp;None,</div></div><div class=\"1297\" style=\"display: none;\"><div style=\"display: table-cell;\"></div><div style=\"display: table-cell;\">min_border_top&nbsp;=&nbsp;None,</div></div><div class=\"1297\" style=\"display: none;\"><div style=\"display: table-cell;\"></div><div style=\"display: table-cell;\">min_height&nbsp;=&nbsp;None,</div></div><div class=\"1297\" style=\"display: none;\"><div style=\"display: table-cell;\"></div><div style=\"display: table-cell;\">min_width&nbsp;=&nbsp;None,</div></div><div class=\"1297\" style=\"display: none;\"><div style=\"display: table-cell;\"></div><div style=\"display: table-cell;\">name&nbsp;=&nbsp;None,</div></div><div class=\"1297\" style=\"display: none;\"><div style=\"display: table-cell;\"></div><div style=\"display: table-cell;\">outline_line_alpha&nbsp;=&nbsp;1.0,</div></div><div class=\"1297\" style=\"display: none;\"><div style=\"display: table-cell;\"></div><div style=\"display: table-cell;\">outline_line_cap&nbsp;=&nbsp;'butt',</div></div><div class=\"1297\" style=\"display: none;\"><div style=\"display: table-cell;\"></div><div style=\"display: table-cell;\">outline_line_color&nbsp;=&nbsp;'#e5e5e5',</div></div><div class=\"1297\" style=\"display: none;\"><div style=\"display: table-cell;\"></div><div style=\"display: table-cell;\">outline_line_dash&nbsp;=&nbsp;[],</div></div><div class=\"1297\" style=\"display: none;\"><div style=\"display: table-cell;\"></div><div style=\"display: table-cell;\">outline_line_dash_offset&nbsp;=&nbsp;0,</div></div><div class=\"1297\" style=\"display: none;\"><div style=\"display: table-cell;\"></div><div style=\"display: table-cell;\">outline_line_join&nbsp;=&nbsp;'bevel',</div></div><div class=\"1297\" style=\"display: none;\"><div style=\"display: table-cell;\"></div><div style=\"display: table-cell;\">outline_line_width&nbsp;=&nbsp;1,</div></div><div class=\"1297\" style=\"display: none;\"><div style=\"display: table-cell;\"></div><div style=\"display: table-cell;\">output_backend&nbsp;=&nbsp;'canvas',</div></div><div class=\"1297\" style=\"display: none;\"><div style=\"display: table-cell;\"></div><div style=\"display: table-cell;\">plot_height&nbsp;=&nbsp;400,</div></div><div class=\"1297\" style=\"display: none;\"><div style=\"display: table-cell;\"></div><div style=\"display: table-cell;\">plot_width&nbsp;=&nbsp;600,</div></div><div class=\"1297\" style=\"display: none;\"><div style=\"display: table-cell;\"></div><div style=\"display: table-cell;\">renderers&nbsp;=&nbsp;[GlyphRenderer(id='1181', ...), GlyphRenderer(id='1187', ...), GlyphRenderer(id='1193', ...)],</div></div><div class=\"1297\" style=\"display: none;\"><div style=\"display: table-cell;\"></div><div style=\"display: table-cell;\">reset_policy&nbsp;=&nbsp;'standard',</div></div><div class=\"1297\" style=\"display: none;\"><div style=\"display: table-cell;\"></div><div style=\"display: table-cell;\">right&nbsp;=&nbsp;[],</div></div><div class=\"1297\" style=\"display: none;\"><div style=\"display: table-cell;\"></div><div style=\"display: table-cell;\">sizing_mode&nbsp;=&nbsp;None,</div></div><div class=\"1297\" style=\"display: none;\"><div style=\"display: table-cell;\"></div><div style=\"display: table-cell;\">subscribed_events&nbsp;=&nbsp;[],</div></div><div class=\"1297\" style=\"display: none;\"><div style=\"display: table-cell;\"></div><div style=\"display: table-cell;\">tags&nbsp;=&nbsp;[],</div></div><div class=\"1297\" style=\"display: none;\"><div style=\"display: table-cell;\"></div><div style=\"display: table-cell;\">title&nbsp;=&nbsp;Title(id='1146', ...),</div></div><div class=\"1297\" style=\"display: none;\"><div style=\"display: table-cell;\"></div><div style=\"display: table-cell;\">title_location&nbsp;=&nbsp;'above',</div></div><div class=\"1297\" style=\"display: none;\"><div style=\"display: table-cell;\"></div><div style=\"display: table-cell;\">toolbar&nbsp;=&nbsp;Toolbar(id='1170', ...),</div></div><div class=\"1297\" style=\"display: none;\"><div style=\"display: table-cell;\"></div><div style=\"display: table-cell;\">toolbar_location&nbsp;=&nbsp;'right',</div></div><div class=\"1297\" style=\"display: none;\"><div style=\"display: table-cell;\"></div><div style=\"display: table-cell;\">toolbar_sticky&nbsp;=&nbsp;True,</div></div><div class=\"1297\" style=\"display: none;\"><div style=\"display: table-cell;\"></div><div style=\"display: table-cell;\">visible&nbsp;=&nbsp;True,</div></div><div class=\"1297\" style=\"display: none;\"><div style=\"display: table-cell;\"></div><div style=\"display: table-cell;\">width&nbsp;=&nbsp;None,</div></div><div class=\"1297\" style=\"display: none;\"><div style=\"display: table-cell;\"></div><div style=\"display: table-cell;\">width_policy&nbsp;=&nbsp;'auto',</div></div><div class=\"1297\" style=\"display: none;\"><div style=\"display: table-cell;\"></div><div style=\"display: table-cell;\">x_range&nbsp;=&nbsp;DataRange1d(id='1148', ...),</div></div><div class=\"1297\" style=\"display: none;\"><div style=\"display: table-cell;\"></div><div style=\"display: table-cell;\">x_scale&nbsp;=&nbsp;LinearScale(id='1152', ...),</div></div><div class=\"1297\" style=\"display: none;\"><div style=\"display: table-cell;\"></div><div style=\"display: table-cell;\">y_range&nbsp;=&nbsp;DataRange1d(id='1150', ...),</div></div><div class=\"1297\" style=\"display: none;\"><div style=\"display: table-cell;\"></div><div style=\"display: table-cell;\">y_scale&nbsp;=&nbsp;LinearScale(id='1154', ...))</div></div></div>\n",
       "<script>\n",
       "(function() {\n",
       "  var expanded = false;\n",
       "  var ellipsis = document.getElementById(\"1298\");\n",
       "  ellipsis.addEventListener(\"click\", function() {\n",
       "    var rows = document.getElementsByClassName(\"1297\");\n",
       "    for (var i = 0; i < rows.length; i++) {\n",
       "      var el = rows[i];\n",
       "      el.style.display = expanded ? \"none\" : \"table-row\";\n",
       "    }\n",
       "    ellipsis.innerHTML = expanded ? \"&hellip;)\" : \"&lsaquo;&lsaquo;&lsaquo;\";\n",
       "    expanded = !expanded;\n",
       "  });\n",
       "})();\n",
       "</script>\n"
      ],
      "text/plain": [
       "Figure(id='1145', ...)"
      ]
     },
     "execution_count": 21,
     "metadata": {},
     "output_type": "execute_result"
    }
   ],
   "source": [
    "gt_grid.dae2vi()\n",
    "\n",
    "vsc_buses = ['R1','R10','R14']\n",
    "a2n = {'a':1,'b':2,'c':3}\n",
    "for vsc_bus in vsc_buses:\n",
    "    for ph in ['a','b','c']:\n",
    "        idx = list(gt_grid.nodes_list).index(f'{vsc_bus}.{a2n[ph]}') \n",
    "        gt_grid.I_node[idx] += grid.get_value(f'i_vsc_{vsc_bus}_{ph}_r')+1j*grid.get_value(f'i_vsc_{vsc_bus}_{ph}_i')\n",
    "\n",
    "gt_grid.get_v()\n",
    "gt_grid.get_i()\n",
    "\n",
    "gt_grid.bokeh_tools()\n",
    "\n",
    "gt.plot_results(gt_grid)"
   ]
  },
  {
   "cell_type": "code",
   "execution_count": 39,
   "metadata": {},
   "outputs": [],
   "source": [
    "from importlib import reload  \n",
    "\n"
   ]
  },
  {
   "cell_type": "code",
   "execution_count": 40,
   "metadata": {},
   "outputs": [
    {
     "ename": "TypeError",
     "evalue": "reload() argument must be a module",
     "output_type": "error",
     "traceback": [
      "\u001b[1;31m---------------------------------------------------------------------------\u001b[0m",
      "\u001b[1;31mTypeError\u001b[0m                                 Traceback (most recent call last)",
      "\u001b[1;32m<ipython-input-40-8be62816eebf>\u001b[0m in \u001b[0;36m<module>\u001b[1;34m\u001b[0m\n\u001b[1;32m----> 1\u001b[1;33m \u001b[0mreload\u001b[0m\u001b[1;33m(\u001b[0m\u001b[0mini\u001b[0m\u001b[1;33m)\u001b[0m\u001b[1;33m\u001b[0m\u001b[1;33m\u001b[0m\u001b[0m\n\u001b[0m",
      "\u001b[1;32m~\\anaconda3\\lib\\importlib\\__init__.py\u001b[0m in \u001b[0;36mreload\u001b[1;34m(module)\u001b[0m\n\u001b[0;32m    138\u001b[0m     \"\"\"\n\u001b[0;32m    139\u001b[0m     \u001b[1;32mif\u001b[0m \u001b[1;32mnot\u001b[0m \u001b[0mmodule\u001b[0m \u001b[1;32mor\u001b[0m \u001b[1;32mnot\u001b[0m \u001b[0misinstance\u001b[0m\u001b[1;33m(\u001b[0m\u001b[0mmodule\u001b[0m\u001b[1;33m,\u001b[0m \u001b[0mtypes\u001b[0m\u001b[1;33m.\u001b[0m\u001b[0mModuleType\u001b[0m\u001b[1;33m)\u001b[0m\u001b[1;33m:\u001b[0m\u001b[1;33m\u001b[0m\u001b[1;33m\u001b[0m\u001b[0m\n\u001b[1;32m--> 140\u001b[1;33m         \u001b[1;32mraise\u001b[0m \u001b[0mTypeError\u001b[0m\u001b[1;33m(\u001b[0m\u001b[1;34m\"reload() argument must be a module\"\u001b[0m\u001b[1;33m)\u001b[0m\u001b[1;33m\u001b[0m\u001b[1;33m\u001b[0m\u001b[0m\n\u001b[0m\u001b[0;32m    141\u001b[0m     \u001b[1;32mtry\u001b[0m\u001b[1;33m:\u001b[0m\u001b[1;33m\u001b[0m\u001b[1;33m\u001b[0m\u001b[0m\n\u001b[0;32m    142\u001b[0m         \u001b[0mname\u001b[0m \u001b[1;33m=\u001b[0m \u001b[0mmodule\u001b[0m\u001b[1;33m.\u001b[0m\u001b[0m__spec__\u001b[0m\u001b[1;33m.\u001b[0m\u001b[0mname\u001b[0m\u001b[1;33m\u001b[0m\u001b[1;33m\u001b[0m\u001b[0m\n",
      "\u001b[1;31mTypeError\u001b[0m: reload() argument must be a module"
     ]
    }
   ],
   "source": [
    "reload(ini)"
   ]
  },
  {
   "cell_type": "code",
   "execution_count": 31,
   "metadata": {},
   "outputs": [],
   "source": [
    "ini(grid_c3.struct,1)"
   ]
  },
  {
   "cell_type": "code",
   "execution_count": 148,
   "metadata": {},
   "outputs": [],
   "source": [
    "@numba.njit(cache=True)\n",
    "def ssate(struct,xy):\n",
    "    for it in range(100):\n",
    "        ini_dae_jacobian_numba(struct,xy[:,0])\n",
    "        ini_dae_problem(struct,xy[:,0])\n",
    "        xy[:] += np.linalg.solve(struct[0].Ac_ini,-struct[0].fg)\n",
    "        if np.max(np.abs(struct[0].fg[:,0]))<1e-8: break\n",
    "    N_x = struct[0].N_x\n",
    "    struct[0].x[:,0] = xy[:N_x,0]\n",
    "    struct[0].y_ini[:,0] = xy[N_x:,0]\n",
    "    return xy,it"
   ]
  },
  {
   "cell_type": "code",
   "execution_count": null,
   "metadata": {},
   "outputs": [],
   "source": []
  },
  {
   "cell_type": "code",
   "execution_count": 6,
   "metadata": {},
   "outputs": [
    {
     "data": {
      "text/plain": [
       "93.0"
      ]
     },
     "execution_count": 6,
     "metadata": {},
     "output_type": "execute_result"
    }
   ],
   "source": [
    "305.5-212.5"
   ]
  },
  {
   "cell_type": "code",
   "execution_count": 1,
   "metadata": {},
   "outputs": [],
   "source": [
    "from scipy.optimize import rosen, differential_evolution\n",
    "bounds = [(0,2), (0, 2), (0, 2), (0, 2), (0, 2)]\n"
   ]
  },
  {
   "cell_type": "code",
   "execution_count": 8,
   "metadata": {},
   "outputs": [
    {
     "name": "stdout",
     "output_type": "stream",
     "text": [
      "3.38 s ± 318 ms per loop (mean ± std. dev. of 7 runs, 1 loop each)\n"
     ]
    },
    {
     "ename": "NameError",
     "evalue": "name 'result' is not defined",
     "output_type": "error",
     "traceback": [
      "\u001b[1;31m---------------------------------------------------------------------------\u001b[0m",
      "\u001b[1;31mNameError\u001b[0m                                 Traceback (most recent call last)",
      "\u001b[1;32m<ipython-input-8-acb959109041>\u001b[0m in \u001b[0;36m<module>\u001b[1;34m\u001b[0m\n\u001b[0;32m      1\u001b[0m \u001b[0mget_ipython\u001b[0m\u001b[1;33m(\u001b[0m\u001b[1;33m)\u001b[0m\u001b[1;33m.\u001b[0m\u001b[0mrun_line_magic\u001b[0m\u001b[1;33m(\u001b[0m\u001b[1;34m'timeit'\u001b[0m\u001b[1;33m,\u001b[0m \u001b[1;34m'result = differential_evolution(rosen, bounds)'\u001b[0m\u001b[1;33m)\u001b[0m\u001b[1;33m\u001b[0m\u001b[1;33m\u001b[0m\u001b[0m\n\u001b[1;32m----> 2\u001b[1;33m \u001b[0mresult\u001b[0m\u001b[1;33m.\u001b[0m\u001b[0mx\u001b[0m\u001b[1;33m,\u001b[0m \u001b[0mresult\u001b[0m\u001b[1;33m.\u001b[0m\u001b[0mfun\u001b[0m\u001b[1;33m\u001b[0m\u001b[1;33m\u001b[0m\u001b[0m\n\u001b[0m",
      "\u001b[1;31mNameError\u001b[0m: name 'result' is not defined"
     ]
    }
   ],
   "source": [
    "%timeit result = differential_evolution(rosen, bounds)\n",
    "result.x, result.fun"
   ]
  },
  {
   "cell_type": "code",
   "execution_count": 7,
   "metadata": {},
   "outputs": [
    {
     "name": "stdout",
     "output_type": "stream",
     "text": [
      "6.26 s ± 950 ms per loop (mean ± std. dev. of 7 runs, 1 loop each)\n"
     ]
    },
    {
     "ename": "NameError",
     "evalue": "name 'result' is not defined",
     "output_type": "error",
     "traceback": [
      "\u001b[1;31m---------------------------------------------------------------------------\u001b[0m",
      "\u001b[1;31mNameError\u001b[0m                                 Traceback (most recent call last)",
      "\u001b[1;32m<ipython-input-7-c0f2cb0dc414>\u001b[0m in \u001b[0;36m<module>\u001b[1;34m\u001b[0m\n\u001b[0;32m      1\u001b[0m \u001b[0mget_ipython\u001b[0m\u001b[1;33m(\u001b[0m\u001b[1;33m)\u001b[0m\u001b[1;33m.\u001b[0m\u001b[0mrun_line_magic\u001b[0m\u001b[1;33m(\u001b[0m\u001b[1;34m'timeit'\u001b[0m\u001b[1;33m,\u001b[0m \u001b[1;34m\"result = differential_evolution(rosen, bounds, updating='deferred', workers=2)\"\u001b[0m\u001b[1;33m)\u001b[0m\u001b[1;33m\u001b[0m\u001b[1;33m\u001b[0m\u001b[0m\n\u001b[1;32m----> 2\u001b[1;33m \u001b[0mresult\u001b[0m\u001b[1;33m.\u001b[0m\u001b[0mx\u001b[0m\u001b[1;33m,\u001b[0m \u001b[0mresult\u001b[0m\u001b[1;33m.\u001b[0m\u001b[0mfun\u001b[0m\u001b[1;33m\u001b[0m\u001b[1;33m\u001b[0m\u001b[0m\n\u001b[0m",
      "\u001b[1;31mNameError\u001b[0m: name 'result' is not defined"
     ]
    }
   ],
   "source": [
    "%timeit result = differential_evolution(rosen, bounds, updating='deferred', workers=2)\n",
    "result.x, result.fun"
   ]
  },
  {
   "cell_type": "code",
   "execution_count": 9,
   "metadata": {},
   "outputs": [
    {
     "name": "stdout",
     "output_type": "stream",
     "text": [
      "main line\n",
      "module name: __main__\n",
      "parent process: 5780\n",
      "process id: 6040\n"
     ]
    }
   ],
   "source": [
    "from multiprocessing import Process\n",
    "import os\n",
    "\n",
    "def info(title):\n",
    "    print(title)\n",
    "    print('module name:', __name__)\n",
    "    print('parent process:', os.getppid())\n",
    "    print('process id:', os.getpid())\n",
    "\n",
    "def f(name):\n",
    "    info('function f')\n",
    "    print('hello', name)\n",
    "\n",
    "if __name__ == '__main__':\n",
    "    info('main line')\n",
    "    p = Process(target=f, args=('bob',))\n",
    "    p.start()\n",
    "    p.join()"
   ]
  },
  {
   "cell_type": "code",
   "execution_count": 3,
   "metadata": {},
   "outputs": [
    {
     "name": "stdout",
     "output_type": "stream",
     "text": [
      "6.6938416957855225\n"
     ]
    },
    {
     "data": {
      "text/plain": [
       "     fun: 0.0\n",
       " message: 'Optimization terminated successfully.'\n",
       "    nfev: 48006\n",
       "     nit: 639\n",
       " success: True\n",
       "       x: array([1., 1., 1., 1., 1.])"
      ]
     },
     "execution_count": 3,
     "metadata": {},
     "output_type": "execute_result"
    }
   ],
   "source": [
    "import multiprocessing as mp\n",
    "import time \n",
    "from scipy.optimize import rosen, differential_evolution\n",
    "\n",
    "rosen_1 = rosen\n",
    "rosen_2 = rosen\n",
    "pool = mp.Pool(4)  # existing worker pool\n",
    "\n",
    "bounds = [(0,2), (0, 2), (0, 2), (0, 2), (0, 2)]\n",
    "\n",
    "t_0 = time.time()\n",
    "result = differential_evolution(rosen, bounds, updating='deferred', workers=pool.map)\n",
    "print(time.time() - t_0)\n",
    "result"
   ]
  },
  {
   "cell_type": "code",
   "execution_count": 4,
   "metadata": {},
   "outputs": [
    {
     "ename": "AttributeError",
     "evalue": "'Pool' object has no attribute 'Map'",
     "output_type": "error",
     "traceback": [
      "\u001b[1;31m---------------------------------------------------------------------------\u001b[0m",
      "\u001b[1;31mAttributeError\u001b[0m                            Traceback (most recent call last)",
      "\u001b[1;32m<ipython-input-4-8fd22b581dc3>\u001b[0m in \u001b[0;36m<module>\u001b[1;34m\u001b[0m\n\u001b[0;32m      1\u001b[0m \u001b[0mrosen_1\u001b[0m \u001b[1;33m=\u001b[0m \u001b[0mrosen\u001b[0m\u001b[1;33m\u001b[0m\u001b[1;33m\u001b[0m\u001b[0m\n\u001b[0;32m      2\u001b[0m \u001b[0mrosen_2\u001b[0m \u001b[1;33m=\u001b[0m \u001b[0mrosen\u001b[0m\u001b[1;33m\u001b[0m\u001b[1;33m\u001b[0m\u001b[0m\n\u001b[1;32m----> 3\u001b[1;33m \u001b[0mpool\u001b[0m\u001b[1;33m.\u001b[0m\u001b[0mMap\u001b[0m\u001b[1;33m(\u001b[0m\u001b[1;33m[\u001b[0m\u001b[0mrosen_1\u001b[0m\u001b[1;33m,\u001b[0m\u001b[0mrosen_2\u001b[0m\u001b[1;33m]\u001b[0m\u001b[1;33m)\u001b[0m\u001b[1;33m\u001b[0m\u001b[1;33m\u001b[0m\u001b[0m\n\u001b[0m",
      "\u001b[1;31mAttributeError\u001b[0m: 'Pool' object has no attribute 'Map'"
     ]
    }
   ],
   "source": [
    "rosen_1 = rosen\n",
    "rosen_2 = rosen\n",
    "pool.Map([rosen_1,rosen_2])"
   ]
  },
  {
   "cell_type": "code",
   "execution_count": null,
   "metadata": {},
   "outputs": [],
   "source": []
  }
 ],
 "metadata": {
  "kernelspec": {
   "display_name": "Python 3 (ipykernel)",
   "language": "python",
   "name": "python3"
  },
  "language_info": {
   "codemirror_mode": {
    "name": "ipython",
    "version": 3
   },
   "file_extension": ".py",
   "mimetype": "text/x-python",
   "name": "python",
   "nbconvert_exporter": "python",
   "pygments_lexer": "ipython3",
   "version": "3.9.7"
  }
 },
 "nbformat": 4,
 "nbformat_minor": 4
}
