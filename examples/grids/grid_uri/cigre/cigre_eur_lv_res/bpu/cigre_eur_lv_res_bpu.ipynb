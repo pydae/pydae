{
 "cells": [
  {
   "cell_type": "code",
   "execution_count": 1,
   "metadata": {},
   "outputs": [],
   "source": [
    "import numpy as np\n",
    "import scipy.optimize as sopt\n",
    "import matplotlib.pyplot as plt\n",
    "import pandas as pd\n",
    "import pydae.ssa as ssa"
   ]
  },
  {
   "cell_type": "code",
   "execution_count": 2,
   "metadata": {},
   "outputs": [],
   "source": [
    "from cigre_eur_lv_res_bpu import cigre_eur_lv_res_bpu_class"
   ]
  },
  {
   "cell_type": "code",
   "execution_count": 3,
   "metadata": {},
   "outputs": [],
   "source": [
    "grid = cigre_eur_lv_res_bpu_class()"
   ]
  },
  {
   "cell_type": "code",
   "execution_count": 4,
   "metadata": {},
   "outputs": [
    {
     "name": "stdout",
     "output_type": "stream",
     "text": [
      "V_R00 =  1.00\n",
      "theta_R00 = -0.49\n",
      "V_R01 =  0.98\n",
      "theta_R01 = -0.52\n",
      "V_R02 =  0.98\n",
      "theta_R02 = -0.52\n",
      "V_R03 =  0.98\n",
      "theta_R03 = -0.52\n",
      "V_R04 =  0.98\n",
      "theta_R04 = -0.52\n",
      "V_R05 =  0.98\n",
      "theta_R05 = -0.52\n",
      "V_R06 =  0.98\n",
      "theta_R06 = -0.52\n",
      "V_R07 =  0.98\n",
      "theta_R07 = -0.52\n",
      "V_R08 =  0.98\n",
      "theta_R08 = -0.52\n",
      "V_R09 =  0.98\n",
      "theta_R09 = -0.52\n",
      "V_R10 =  0.98\n",
      "theta_R10 = -0.52\n",
      "V_R11 =  0.98\n",
      "theta_R11 = -0.52\n",
      "V_R12 =  0.98\n",
      "theta_R12 = -0.52\n",
      "V_R13 =  0.98\n",
      "theta_R13 = -0.52\n",
      "V_R14 =  0.98\n",
      "theta_R14 = -0.52\n",
      "V_R15 =  0.98\n",
      "theta_R15 = -0.52\n",
      "V_R16 =  0.98\n",
      "theta_R16 = -0.52\n",
      "V_R17 =  0.98\n",
      "theta_R17 = -0.52\n",
      "V_R18 =  0.98\n",
      "theta_R18 = -0.52\n",
      "i_d_R00 =  0.31\n",
      "i_q_R00 =  0.28\n",
      "p_g_R00_1 =  0.39\n",
      "q_g_R00_1 =  0.14\n",
      "v_f_R00 =  1.43\n",
      "p_m_ref_R00 =  0.39\n",
      "omega_coi =  1.00\n",
      "p_r_R00 = -0.31\n"
     ]
    }
   ],
   "source": [
    "grid.initialize([{}],\n",
    "                   1,compile=True)\n",
    "grid.report_y()"
   ]
  },
  {
   "cell_type": "code",
   "execution_count": 6,
   "metadata": {},
   "outputs": [
    {
     "data": {
      "text/plain": [
       "0.9798353284658996"
      ]
     },
     "execution_count": 6,
     "metadata": {},
     "output_type": "execute_result"
    }
   ],
   "source": [
    "grid.get_value('V_R10')"
   ]
  },
  {
   "cell_type": "code",
   "execution_count": 7,
   "metadata": {},
   "outputs": [
    {
     "data": {
      "text/plain": [
       "0.9804378310963333"
      ]
     },
     "execution_count": 7,
     "metadata": {},
     "output_type": "execute_result"
    }
   ],
   "source": [
    "grid.get_value('V_R05')"
   ]
  },
  {
   "cell_type": "code",
   "execution_count": null,
   "metadata": {},
   "outputs": [],
   "source": []
  }
 ],
 "metadata": {
  "kernelspec": {
   "display_name": "Python 3",
   "language": "python",
   "name": "python3"
  },
  "language_info": {
   "codemirror_mode": {
    "name": "ipython",
    "version": 3
   },
   "file_extension": ".py",
   "mimetype": "text/x-python",
   "name": "python",
   "nbconvert_exporter": "python",
   "pygments_lexer": "ipython3",
   "version": "3.8.5"
  }
 },
 "nbformat": 4,
 "nbformat_minor": 4
}
