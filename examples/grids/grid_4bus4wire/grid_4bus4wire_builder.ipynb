{
 "cells": [
  {
   "cell_type": "code",
   "execution_count": 21,
   "metadata": {},
   "outputs": [],
   "source": [
    "import numpy as np\n",
    "from pydgrid.pydgrid import grid\n",
    "from pydgrid.plot_bokeh import plot_results\n",
    "import sympy as sym\n",
    "import pydae.build as db\n",
    "from pydae.grid_urisi import unb_ri_si\n",
    "import json"
   ]
  },
  {
   "cell_type": "code",
   "execution_count": 22,
   "metadata": {},
   "outputs": [],
   "source": [
    "data = {\n",
    "        \"buses\":[\n",
    "                 {\"bus\": \"B1\",  \"pos_x\":   0, \"pos_y\":  0, \"units\": \"m\", \"U_kV\":0.4},\n",
    "                 {\"bus\": \"B2\",  \"pos_x\":  20, \"pos_y\":  0, \"units\": \"m\", \"U_kV\":0.4},\n",
    "                 {\"bus\": \"B3\",  \"pos_x\": 120, \"pos_y\":  0, \"units\": \"m\", \"U_kV\":0.4},\n",
    "                 {\"bus\": \"B4\",  \"pos_x\": 140, \"pos_y\":  0, \"units\": \"m\", \"U_kV\":0.4}\n",
    "                ],\n",
    "        \"grid_formers\":[\n",
    "                        {\"bus\": \"B1\",\n",
    "                        \"bus_nodes\": [1, 2, 3], \"deg\": [0, -120, -240],\n",
    "                        \"kV\": [0.231, 0.231, 0.231]},\n",
    "                        {\"bus\": \"B4\",\n",
    "                        \"bus_nodes\": [1, 2, 3], \"deg\": [0, -120, -240],\n",
    "                        \"kV\": [0.231, 0.231, 0.231]}\n",
    "                       ],\n",
    "        \"lines\":[\n",
    "                 {\"bus_j\": \"B1\",  \"bus_k\": \"B2\",  \"code\": \"lv_cu_150\", \"m\":  20.0,'monitor':True},\n",
    "                 {\"bus_j\": \"B2\",  \"bus_k\": \"B3\",  \"code\": \"lv_cu_150\", \"m\": 100.0,'monitor':True},\n",
    "                 {\"bus_j\": \"B3\",  \"bus_k\": \"B4\",  \"code\": \"lv_cu_150\", \"m\":  20.0,'monitor':True}\n",
    "                ],\n",
    "        \"loads\":[\n",
    "                 {\"bus\": \"B2\" , \"kVA\": [30.0,30.0,30.0], \"pf\":[ 1]*3,\"type\":\"3P+N\"},\n",
    "                 {\"bus\": \"B3\" , \"kVA\": [10.0,10.0,70.0], \"pf\":[ 1]*3,\"type\":\"3P+N\"}\n",
    "                ],\n",
    "        \"shunts\":[\n",
    "                 {\"bus\": \"B1\" , \"R\": 0.001, \"X\": 0.0, \"bus_nodes\": [4,0]},\n",
    "                 {\"bus\": \"B4\" , \"R\": 0.001, \"X\": 0.0, \"bus_nodes\": [4,0]}\n",
    "                 ],\n",
    "        \"line_codes\":\n",
    "            {\"lv_cu_150\":  {\"Rph\":0.167,\"Xph\":0.08, \"Rn\":0.167, \"Xn\": 0.08}\n",
    "            }\n",
    "       }"
   ]
  },
  {
   "cell_type": "code",
   "execution_count": 23,
   "metadata": {},
   "outputs": [
    {
     "data": {
      "text/html": [
       "\n",
       "\n",
       "\n",
       "\n",
       "\n",
       "\n",
       "  <div class=\"bk-root\" id=\"7d406fa3-6514-4758-a55f-a606c01c3c43\" data-root-id=\"1425\"></div>\n"
      ]
     },
     "metadata": {},
     "output_type": "display_data"
    },
    {
     "data": {
      "application/javascript": [
       "(function(root) {\n",
       "  function embed_document(root) {\n",
       "    \n",
       "  var docs_json = {\"eeee63b0-b4f6-440a-8564-26b72e9752a4\":{\"roots\":{\"references\":[{\"attributes\":{\"below\":[{\"id\":\"1436\"}],\"center\":[{\"id\":\"1439\"},{\"id\":\"1443\"}],\"left\":[{\"id\":\"1440\"}],\"plot_height\":400,\"renderers\":[{\"id\":\"1462\"},{\"id\":\"1468\"},{\"id\":\"1474\"}],\"title\":{\"id\":\"1426\"},\"toolbar\":{\"id\":\"1451\"},\"x_range\":{\"id\":\"1428\"},\"x_scale\":{\"id\":\"1432\"},\"y_range\":{\"id\":\"1430\"},\"y_scale\":{\"id\":\"1434\"}},\"id\":\"1425\",\"subtype\":\"Figure\",\"type\":\"Plot\"},{\"attributes\":{},\"id\":\"1434\",\"type\":\"LinearScale\"},{\"attributes\":{\"data\":{\"bus_id\":[\"B1\",\"B2\",\"B3\",\"B4\"],\"deg_an\":[\"-0.01\",\"-0.08\",\"-0.18\",\"-0.05\"],\"deg_bn\":[\"-119.99\",\"-120.00\",\"-119.77\",\"-119.95\"],\"deg_cn\":[\"120.00\",\"119.92\",\"119.80\",\"120.00\"],\"deg_ng\":[\"116.18\",\"136.42\",\"140.73\",\"120.50\"],\"p_a\":[\"27.17\",\"-30.00\",\"-10.00\",\"12.85\"],\"p_abc\":[\"90.22\",\"-90.00\",\"-90.00\",\"90.45\"],\"p_b\":[\"27.18\",\"-30.00\",\"-10.00\",\"12.87\"],\"p_c\":[\"35.87\",\"-30.00\",\"-70.00\",\"64.73\"],\"q_a\":[\"0.04\",\"0.00\",\"0.00\",\"0.02\"],\"q_abc\":[\"0.10\",\"0.00\",\"0.00\",\"0.22\"],\"q_b\":[\"-0.00\",\"-0.00\",\"-0.00\",\"-0.02\"],\"q_c\":[\"0.07\",\"0.00\",\"0.00\",\"0.22\"],\"s_color\":[\"red\",\"green\",\"green\",\"red\"],\"s_radio\":[3.003705352492303,2.999999999997603,2.9999999999408296,3.0074319314638513],\"u_avg_pu\":[\"1.000\",\"0.998\",\"0.998\",\"1.000\"],\"v_ab\":[400.1037365484106,399.4235247582301,399.78248298903026,400.1037365484106],\"v_an\":[\"231.02\",\"230.75\",\"231.60\",\"231.11\"],\"v_an_pu\":[\"1.0003\",\"0.9992\",\"1.0028\",\"1.0007\"],\"v_bc\":[400.1037365484106,399.34357339905836,399.3091457239888,400.1037365484106],\"v_bn\":[\"231.02\",\"230.65\",\"230.98\",\"231.11\"],\"v_bn_pu\":[\"1.0004\",\"0.9988\",\"1.0002\",\"1.0007\"],\"v_ca\":[400.1037365484107,399.28383784435925,398.9515821966775,400.1037365484107],\"v_cn\":[\"230.96\",\"230.29\",\"229.12\",\"230.78\"],\"v_cn_pu\":[\"1.0001\",\"0.9972\",\"0.9921\",\"0.9993\"],\"v_ng\":[\"0.04\",\"0.20\",\"1.01\",\"0.22\"],\"v_unb\":[\"0.0\",\"0.1\",\"0.6\",\"0.1\"],\"x\":[0,20,120,140],\"y\":[0,0,0,0]},\"selected\":{\"id\":\"1528\"},\"selection_policy\":{\"id\":\"1529\"}},\"id\":\"1470\",\"type\":\"ColumnDataSource\"},{\"attributes\":{\"formatter\":{\"id\":\"1520\"},\"ticker\":{\"id\":\"1437\"}},\"id\":\"1436\",\"type\":\"LinearAxis\"},{\"attributes\":{\"bottom_units\":\"screen\",\"fill_alpha\":0.5,\"fill_color\":\"lightgrey\",\"left_units\":\"screen\",\"level\":\"overlay\",\"line_alpha\":1.0,\"line_color\":\"black\",\"line_dash\":[4,4],\"line_width\":2,\"right_units\":\"screen\",\"top_units\":\"screen\"},\"id\":\"1450\",\"type\":\"BoxAnnotation\"},{\"attributes\":{\"fill_alpha\":{\"value\":0.1},\"fill_color\":{\"value\":\"navy\"},\"line_alpha\":{\"value\":0.1},\"line_color\":{\"value\":\"navy\"},\"size\":{\"units\":\"screen\",\"value\":15},\"x\":{\"field\":\"x\"},\"y\":{\"field\":\"y\"}},\"id\":\"1473\",\"type\":\"Circle\"},{\"attributes\":{},\"id\":\"1437\",\"type\":\"BasicTicker\"},{\"attributes\":{\"callback\":null,\"renderers\":[{\"id\":\"1468\"}],\"tooltips\":\"\\n            <div>\\n            line id = @line_id \\n            <table border=\\\"5\\\">\\n                <tr >\\n                    <td>I<sub>ja</sub> =  @i_j_a_m &ang; @deg_j_a </td>\\n                    <td>I<sub>ka</sub> =  @i_k_a_m &ang; @deg_k_a </td>\\n                </tr>\\n                <tr>\\n                    <td >I<sub>jb</sub> =  @i_j_b_m &ang; @deg_j_b </td>\\n                    <td >I<sub>kb</sub> =  @i_k_b_m &ang; @deg_k_b </td>\\n                </tr>\\n                <tr>\\n                    <td >I<sub>jc</sub> =  @i_j_c_m &ang; @deg_j_c </td>\\n                    <td >I<sub>kc</sub> =  @i_k_c_m &ang; @deg_k_c </td>\\n                </tr>\\n                <tr>\\n                    <td >I<sub>jn</sub> =  @i_j_n_m &ang; @deg_j_n </td>\\n                    <td >I<sub>kn</sub> =  @i_k_n_m &ang; @deg_k_n </td>\\n                </tr>\\n            </table>            \\n            </div>\\n            \"},\"id\":\"1478\",\"type\":\"HoverTool\"},{\"attributes\":{\"callback\":null,\"renderers\":[{\"id\":\"1474\"}],\"tooltips\":\"\\n            <div>\\n            bus_id = @bus_id &nbsp &nbsp |  u<sub>avg</sub>= @u_avg_pu pu |  u<sub>unb</sub>= @v_unb %\\n            <table border=\\\"1\\\">\\n                <tr>\\n                <td>v<sub>an</sub> =  @v_an  &ang; @deg_an V </td> <td> S<sub>a</sub> = @p_a + j@q_a kVA</td>\\n                </tr>\\n                      <tr>\\n                      <td> </td> <td>v<sub>ab</sub>= @v_ab V</td>\\n                      </tr>\\n                <tr>\\n                <td>v<sub>bn</sub> = @v_bn &ang; @deg_bn V </td><td> S<sub>b</sub> = @p_b + j@q_b kVA</td>\\n                </tr>\\n                      <tr>\\n                      <td> </td><td>v<sub>bc</sub>= @v_bc V</td>\\n                      </tr>\\n                <tr>\\n                <td>v<sub>cn</sub>  = @v_cn &ang; @deg_cn V </td>  <td>S<sub>c</sub> = @p_c + j@q_c kVA </td>\\n                </tr> \\n                    <tr>\\n                     <td> </td> <td>v<sub>ca</sub>= @v_ca V</td>\\n                    </tr>\\n               <tr>\\n                <td>v<sub>ng</sub>    = @v_ng &ang; @deg_ng V</td>  <td>S<sub>abc</sub> = @p_abc + j@q_abc kVA </td>\\n              </tr>\\n            </table>\\n            </div>\\n            \"},\"id\":\"1480\",\"type\":\"HoverTool\"},{\"attributes\":{\"line_alpha\":{\"value\":0.5},\"line_color\":{\"value\":\"green\"},\"line_width\":{\"value\":5},\"xs\":{\"field\":\"x_s\"},\"ys\":{\"field\":\"y_s\"}},\"id\":\"1460\",\"type\":\"MultiLine\"},{\"attributes\":{},\"id\":\"1447\",\"type\":\"SaveTool\"},{\"attributes\":{\"formatter\":{\"id\":\"1522\"},\"ticker\":{\"id\":\"1441\"}},\"id\":\"1440\",\"type\":\"LinearAxis\"},{\"attributes\":{\"active_drag\":\"auto\",\"active_inspect\":\"auto\",\"active_multi\":null,\"active_scroll\":\"auto\",\"active_tap\":\"auto\",\"tools\":[{\"id\":\"1444\"},{\"id\":\"1445\"},{\"id\":\"1446\"},{\"id\":\"1447\"},{\"id\":\"1448\"},{\"id\":\"1449\"},{\"id\":\"1476\"},{\"id\":\"1478\"},{\"id\":\"1480\"}]},\"id\":\"1451\",\"type\":\"Toolbar\"},{\"attributes\":{\"overlay\":{\"id\":\"1450\"}},\"id\":\"1446\",\"type\":\"BoxZoomTool\"},{\"attributes\":{},\"id\":\"1449\",\"type\":\"HelpTool\"},{\"attributes\":{},\"id\":\"1445\",\"type\":\"WheelZoomTool\"},{\"attributes\":{},\"id\":\"1520\",\"type\":\"BasicTickFormatter\"},{\"attributes\":{},\"id\":\"1525\",\"type\":\"UnionRenderers\"},{\"attributes\":{\"source\":{\"id\":\"1470\"}},\"id\":\"1475\",\"type\":\"CDSView\"},{\"attributes\":{},\"id\":\"1524\",\"type\":\"Selection\"},{\"attributes\":{},\"id\":\"1522\",\"type\":\"BasicTickFormatter\"},{\"attributes\":{\"callback\":null,\"renderers\":[{\"id\":\"1462\"}],\"tooltips\":\"\\n            <div>\\n            transformer id = @trafo_id  \\n            <table border=\\\"5\\\">\\n                <tr >\\n                    <td>I<sub>1a</sub> =  @i_1a_m &ang; @deg_1a </td>\\n                    <td>I<sub>2a</sub> =  @i_2a_m &ang; @deg_2a </td>\\n                </tr>\\n                <tr>\\n                    <td >I<sub>1b</sub> =  @i_1b_m &ang; @deg_1b </td>\\n                    <td >I<sub>2b</sub> =  @i_2b_m &ang; @deg_2b </td>\\n                </tr>\\n                <tr>\\n                    <td >I<sub>1c</sub> =  @i_1c_m &ang; @deg_1c </td>\\n                    <td >I<sub>2c</sub> =  @i_2c_m &ang; @deg_2c </td>\\n                </tr>\\n                <tr>\\n                    <td >I<sub>1n</sub> =  @i_1n_m &ang; @deg_1n </td>\\n                    <td >I<sub>2n</sub> =  @i_2n_m &ang; @deg_2n </td>\\n                </tr>\\n            </table>            \\n            </div>\\n            \"},\"id\":\"1476\",\"type\":\"HoverTool\"},{\"attributes\":{\"text\":\"Results\"},\"id\":\"1426\",\"type\":\"Title\"},{\"attributes\":{},\"id\":\"1529\",\"type\":\"UnionRenderers\"},{\"attributes\":{},\"id\":\"1526\",\"type\":\"Selection\"},{\"attributes\":{},\"id\":\"1448\",\"type\":\"ResetTool\"},{\"attributes\":{},\"id\":\"1527\",\"type\":\"UnionRenderers\"},{\"attributes\":{},\"id\":\"1430\",\"type\":\"DataRange1d\"},{\"attributes\":{\"data\":{\"deg_j_a\":[-0.08640269265886766,179.96795397024923,179.85294357517517],\"deg_j_b\":[-119.9862023994459,59.89077070889028,60.1507191990213],\"deg_j_c\":[119.88904281819187,119.7061232187338,-60.1925920107128],\"deg_j_n\":[-63.821411121549765,-63.78314201416138,120.49663911296287],\"deg_k_a\":[-0.08640269265886766,179.96795397024923,179.85294357517517],\"deg_k_b\":[-119.9862023994459,59.89077070889028,60.1507191990213],\"deg_k_c\":[119.88904281819187,119.7061232187338,-60.1925920107128],\"deg_k_n\":[-63.821411121549765,-63.78314201416138,120.49663911296287],\"i_j_a_m\":[117.60437967460244,12.404353536211167,55.582671048826604],\"i_j_b_m\":[117.66878428685534,12.395869631219883,55.68973802786794],\"i_j_c_m\":[155.30750538806635,25.035360941436572,280.48395686909714],\"i_j_n_m\":[43.75037727759318,43.676379622550115,218.44361574791088],\"i_k_a_m\":[117.60437967460244,12.404353536211167,55.582671048826604],\"i_k_b_m\":[117.66878428685534,12.395869631219883,55.68973802786794],\"i_k_c_m\":[155.30750538806635,25.035360941436572,280.48395686909714],\"i_k_n_m\":[43.75037727759318,43.676379622550115,218.44361574791088],\"line_id\":[\"B1-B2\",\"B2-B3\",\"B3-B4\"],\"x_s\":[[0,20],[20,120],[120,140]],\"y_s\":[[0,0],[0,0],[0,0]]},\"selected\":{\"id\":\"1526\"},\"selection_policy\":{\"id\":\"1527\"}},\"id\":\"1464\",\"type\":\"ColumnDataSource\"},{\"attributes\":{\"data_source\":{\"id\":\"1464\"},\"glyph\":{\"id\":\"1466\"},\"hover_glyph\":null,\"muted_glyph\":null,\"nonselection_glyph\":{\"id\":\"1467\"},\"selection_glyph\":null,\"view\":{\"id\":\"1469\"}},\"id\":\"1468\",\"type\":\"GlyphRenderer\"},{\"attributes\":{},\"id\":\"1441\",\"type\":\"BasicTicker\"},{\"attributes\":{},\"id\":\"1528\",\"type\":\"Selection\"},{\"attributes\":{\"axis\":{\"id\":\"1436\"},\"ticker\":null},\"id\":\"1439\",\"type\":\"Grid\"},{\"attributes\":{\"data\":{\"deg_1a\":[],\"deg_1b\":[],\"deg_1c\":[],\"deg_1n\":[],\"deg_2a\":[],\"deg_2b\":[],\"deg_2c\":[],\"deg_2n\":[],\"i_1a_m\":[],\"i_1b_m\":[],\"i_1c_m\":[],\"i_1n_m\":[],\"i_2a_m\":[],\"i_2b_m\":[],\"i_2c_m\":[],\"i_2n_m\":[],\"trafo_id\":[],\"x_s\":[],\"y_s\":[]},\"selected\":{\"id\":\"1524\"},\"selection_policy\":{\"id\":\"1525\"}},\"id\":\"1458\",\"type\":\"ColumnDataSource\"},{\"attributes\":{\"source\":{\"id\":\"1458\"}},\"id\":\"1463\",\"type\":\"CDSView\"},{\"attributes\":{\"line_alpha\":{\"value\":0.1},\"line_color\":{\"value\":\"red\"},\"line_width\":{\"value\":5},\"xs\":{\"field\":\"x_s\"},\"ys\":{\"field\":\"y_s\"}},\"id\":\"1467\",\"type\":\"MultiLine\"},{\"attributes\":{\"data_source\":{\"id\":\"1458\"},\"glyph\":{\"id\":\"1460\"},\"hover_glyph\":null,\"muted_glyph\":null,\"nonselection_glyph\":{\"id\":\"1461\"},\"selection_glyph\":null,\"view\":{\"id\":\"1463\"}},\"id\":\"1462\",\"type\":\"GlyphRenderer\"},{\"attributes\":{\"source\":{\"id\":\"1464\"}},\"id\":\"1469\",\"type\":\"CDSView\"},{\"attributes\":{\"line_alpha\":{\"value\":0.1},\"line_color\":{\"value\":\"green\"},\"line_width\":{\"value\":5},\"xs\":{\"field\":\"x_s\"},\"ys\":{\"field\":\"y_s\"}},\"id\":\"1461\",\"type\":\"MultiLine\"},{\"attributes\":{},\"id\":\"1432\",\"type\":\"LinearScale\"},{\"attributes\":{\"fill_alpha\":{\"value\":0.5},\"fill_color\":{\"value\":\"navy\"},\"line_alpha\":{\"value\":0.5},\"line_color\":{\"value\":\"navy\"},\"size\":{\"units\":\"screen\",\"value\":15},\"x\":{\"field\":\"x\"},\"y\":{\"field\":\"y\"}},\"id\":\"1472\",\"type\":\"Circle\"},{\"attributes\":{\"data_source\":{\"id\":\"1470\"},\"glyph\":{\"id\":\"1472\"},\"hover_glyph\":null,\"muted_glyph\":null,\"nonselection_glyph\":{\"id\":\"1473\"},\"selection_glyph\":null,\"view\":{\"id\":\"1475\"}},\"id\":\"1474\",\"type\":\"GlyphRenderer\"},{\"attributes\":{},\"id\":\"1428\",\"type\":\"DataRange1d\"},{\"attributes\":{},\"id\":\"1444\",\"type\":\"PanTool\"},{\"attributes\":{\"axis\":{\"id\":\"1440\"},\"dimension\":1,\"ticker\":null},\"id\":\"1443\",\"type\":\"Grid\"},{\"attributes\":{\"line_alpha\":{\"value\":0.5},\"line_color\":{\"value\":\"red\"},\"line_width\":{\"value\":5},\"xs\":{\"field\":\"x_s\"},\"ys\":{\"field\":\"y_s\"}},\"id\":\"1466\",\"type\":\"MultiLine\"}],\"root_ids\":[\"1425\"]},\"title\":\"Bokeh Application\",\"version\":\"2.2.3\"}};\n",
       "  var render_items = [{\"docid\":\"eeee63b0-b4f6-440a-8564-26b72e9752a4\",\"root_ids\":[\"1425\"],\"roots\":{\"1425\":\"7d406fa3-6514-4758-a55f-a606c01c3c43\"}}];\n",
       "  root.Bokeh.embed.embed_items_notebook(docs_json, render_items);\n",
       "\n",
       "  }\n",
       "  if (root.Bokeh !== undefined) {\n",
       "    embed_document(root);\n",
       "  } else {\n",
       "    var attempts = 0;\n",
       "    var timer = setInterval(function(root) {\n",
       "      if (root.Bokeh !== undefined) {\n",
       "        clearInterval(timer);\n",
       "        embed_document(root);\n",
       "      } else {\n",
       "        attempts++;\n",
       "        if (attempts > 100) {\n",
       "          clearInterval(timer);\n",
       "          console.log(\"Bokeh: ERROR: Unable to run BokehJS code because BokehJS library is missing\");\n",
       "        }\n",
       "      }\n",
       "    }, 10, root)\n",
       "  }\n",
       "})(window);"
      ],
      "application/vnd.bokehjs_exec.v0+json": ""
     },
     "metadata": {
      "application/vnd.bokehjs_exec.v0+json": {
       "id": "1425"
      }
     },
     "output_type": "display_data"
    }
   ],
   "source": [
    "grid_1 = grid()\n",
    "grid_1.read(data)  # Load data\n",
    "grid_1.pf()  # solve power flow\n",
    "p=plot_results(grid_1)\n"
   ]
  },
  {
   "cell_type": "code",
   "execution_count": 25,
   "metadata": {},
   "outputs": [
    {
     "name": "stdout",
     "output_type": "stream",
     "text": [
      "system without dynamic equations, adding dummy dynamic equation\n"
     ]
    }
   ],
   "source": [
    "grid_4bus = unb_ri_si(data)\n",
    "\n",
    "params_dict  = grid_4bus.dae['params']\n",
    "f_list = grid_4bus.dae['f']\n",
    "x_list = grid_4bus.dae['x']\n",
    "g_list = grid_4bus.dae['g'] \n",
    "y_list = grid_4bus.dae['y'] \n",
    "u_dict = grid_4bus.dae['u']\n",
    "\n",
    "\n",
    "h_dict = grid_4bus.dae['h_v_m_dict']\n",
    "\n",
    "sys_dict = {'name':'grid_4bus4wire',\n",
    "           'params_dict':params_dict,\n",
    "           'f_list':f_list,\n",
    "           'g_list':g_list,\n",
    "           'x_list':x_list,\n",
    "           'y_ini_list':y_list,\n",
    "           'y_run_list':y_list,\n",
    "           'u_run_dict':u_dict,\n",
    "           'u_ini_dict':u_dict,\n",
    "           'h_dict':h_dict\n",
    "           }\n",
    "\n",
    "db.system(sys_dict)\n",
    "db.sys2num(sys_dict)\n",
    "\n",
    "data = json.dumps(grid_4bus.dae['xy_0_dict'], indent=4)\n",
    "fobj = open(\"xy_0_dict.json\",\"w\")\n",
    "fobj.write(data)\n",
    "fobj.close()"
   ]
  },
  {
   "cell_type": "code",
   "execution_count": 9,
   "metadata": {},
   "outputs": [],
   "source": [
    "Y_ii = grid_1.Y_ii.toarray()\n",
    "Y_vv = grid_1.Y_vv\n",
    "Y_vi = grid_1.Y_vi\n",
    "inv_Y_ii = np.linalg.inv(Y_ii)\n",
    "N_nz_nodes = grid_1.params_pf[0].N_nz_nodes\n",
    "N_v = grid_1.params_pf[0].N_nodes_v\n",
    "nodes_list = grid_1.nodes\n",
    "Y_primitive = grid_1.Y_primitive_sp.toarray() \n",
    "A_conect = grid_1.A_sp.toarray()\n",
    "node_sorter  = grid_1.node_sorter\n",
    "N_v = grid_1.N_nodes_v\n",
    "\n",
    "np.savez('matrices',Y_primitive=Y_primitive,A_conect=A_conect,nodes_list=nodes_list,\n",
    "         node_sorter=node_sorter,N_v=N_v, Y_vv=Y_vv, Y_vi=Y_vi)\n",
    "\n",
    "\n",
    "with open(\"grid_data.json\", \"w\") as fobj:\n",
    "    json.dump(grid_1.data, fobj, indent=4, sort_keys=True)\n"
   ]
  },
  {
   "cell_type": "code",
   "execution_count": null,
   "metadata": {},
   "outputs": [],
   "source": []
  },
  {
   "cell_type": "code",
   "execution_count": null,
   "metadata": {},
   "outputs": [],
   "source": []
  }
 ],
 "metadata": {
  "kernelspec": {
   "display_name": "Python 3",
   "language": "python",
   "name": "python3"
  },
  "language_info": {
   "codemirror_mode": {
    "name": "ipython",
    "version": 3
   },
   "file_extension": ".py",
   "mimetype": "text/x-python",
   "name": "python",
   "nbconvert_exporter": "python",
   "pygments_lexer": "ipython3",
   "version": "3.8.5"
  }
 },
 "nbformat": 4,
 "nbformat_minor": 4
}
