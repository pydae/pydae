{
 "cells": [
  {
   "cell_type": "code",
   "execution_count": 20,
   "metadata": {},
   "outputs": [],
   "source": [
    "import numpy as np\n",
    "from pydgrid import grid\n",
    "from pydgrid.plot_bokeh import plot_results\n",
    "from pydae.models import pydgrid2pydae\n",
    "import pydae.build as db\n",
    "import sympy as sym\n",
    "import json"
   ]
  },
  {
   "cell_type": "code",
   "execution_count": 21,
   "metadata": {},
   "outputs": [],
   "source": [
    "data = {\n",
    "        \"buses\":[\n",
    "                 {\"bus\": \"B1\",  \"pos_x\":   0, \"pos_y\":   0, \"units\": \"m\", \"U_kV\":0.4},\n",
    "                 {\"bus\": \"B2\",  \"pos_x\":  10, \"pos_y\":   0, \"units\": \"m\", \"U_kV\":0.4} \n",
    "                ],\n",
    "        \"grid_formers\":[\n",
    "                        {\"bus\": \"B1\",\n",
    "                        \"bus_nodes\": [1, 2, 3], \"deg\": [0, -120, -240],\n",
    "                        \"kV\": [0.42/np.sqrt(3)]*3, 'monitor':True},\n",
    "                        {\"bus\": \"B2\",\n",
    "                        \"bus_nodes\": [1, 2, 3], \"deg\": [0, -120, -240],\n",
    "                        \"kV\": [0.4/np.sqrt(3)]*3, 'monitor':True}\n",
    "                       ],\n",
    "        \"lines\":[\n",
    "                 {\"bus_j\": \"B1\",  \"bus_k\": \"B2\",  \"code\": \"lv_cu_50\", \"m\": 250.0, 'monitor':True} \n",
    "                ],\n",
    "        \"shunts\":[\n",
    "                 {\"bus\": \"B1\" , \"R\": 0.001, \"X\": 0.0, \"bus_nodes\": [4,0]},\n",
    "                 {\"bus\": \"B2\" , \"R\": 0.001, \"X\": 0.0, \"bus_nodes\": [4,0]}\n",
    "                 ],\n",
    "        \"line_codes\":\n",
    "            {\"lv_cu_150\":  {\"Rph\":0.167,\"Xph\":0.08, \"Rn\":0.167, \"Xn\": 0.08},\n",
    "            \"lv_cu_50\":   {\"Rph\":0.4,\"Xph\":0.09, \"Rn\":0.4, \"Xn\": 0.09},\n",
    "            \"20kV_al_150_sub\":     {\"Rph\":0.27,\"Xph\":0.12, \"Rn\":0.27, \"Xn\": 0.12}, \n",
    "            \"400kV_oh\":     {\"Rph\":0.0268,\"Xph\":0.2766, \"Rn\":0.0268, \"Xn\": 0.2766},          \n",
    "            }\n",
    "        }"
   ]
  },
  {
   "cell_type": "code",
   "execution_count": 22,
   "metadata": {},
   "outputs": [
    {
     "data": {
      "text/html": [
       "\n",
       "\n",
       "\n",
       "\n",
       "\n",
       "\n",
       "  <div class=\"bk-root\" id=\"860ed3e1-fe2e-4af9-8c18-eb8cf1f37866\" data-root-id=\"2248\"></div>\n"
      ]
     },
     "metadata": {},
     "output_type": "display_data"
    },
    {
     "data": {
      "application/javascript": [
       "(function(root) {\n",
       "  function embed_document(root) {\n",
       "    \n",
       "  var docs_json = {\"c78b777c-091c-4b43-86b3-b9faaca11340\":{\"roots\":{\"references\":[{\"attributes\":{\"below\":[{\"id\":\"2259\",\"type\":\"LinearAxis\"}],\"center\":[{\"id\":\"2263\",\"type\":\"Grid\"},{\"id\":\"2268\",\"type\":\"Grid\"}],\"left\":[{\"id\":\"2264\",\"type\":\"LinearAxis\"}],\"plot_height\":400,\"renderers\":[{\"id\":\"2286\",\"type\":\"GlyphRenderer\"},{\"id\":\"2292\",\"type\":\"GlyphRenderer\"},{\"id\":\"2298\",\"type\":\"GlyphRenderer\"}],\"title\":{\"id\":\"2249\",\"type\":\"Title\"},\"toolbar\":{\"id\":\"2275\",\"type\":\"Toolbar\"},\"x_range\":{\"id\":\"2251\",\"type\":\"DataRange1d\"},\"x_scale\":{\"id\":\"2255\",\"type\":\"LinearScale\"},\"y_range\":{\"id\":\"2253\",\"type\":\"DataRange1d\"},\"y_scale\":{\"id\":\"2257\",\"type\":\"LinearScale\"}},\"id\":\"2248\",\"subtype\":\"Figure\",\"type\":\"Plot\"},{\"attributes\":{},\"id\":\"2393\",\"type\":\"BasicTickFormatter\"},{\"attributes\":{\"line_alpha\":{\"value\":0.1},\"line_color\":{\"value\":\"#1f77b4\"},\"line_width\":{\"value\":5},\"xs\":{\"field\":\"x_s\"},\"ys\":{\"field\":\"y_s\"}},\"id\":\"2285\",\"type\":\"MultiLine\"},{\"attributes\":{},\"id\":\"2257\",\"type\":\"LinearScale\"},{\"attributes\":{\"callback\":null},\"id\":\"2251\",\"type\":\"DataRange1d\"},{\"attributes\":{},\"id\":\"2265\",\"type\":\"BasicTicker\"},{\"attributes\":{\"fill_alpha\":{\"value\":0.1},\"fill_color\":{\"value\":\"#1f77b4\"},\"line_alpha\":{\"value\":0.1},\"line_color\":{\"value\":\"#1f77b4\"},\"size\":{\"units\":\"screen\",\"value\":15},\"x\":{\"field\":\"x\"},\"y\":{\"field\":\"y\"}},\"id\":\"2297\",\"type\":\"Circle\"},{\"attributes\":{\"dimension\":1,\"ticker\":{\"id\":\"2265\",\"type\":\"BasicTicker\"}},\"id\":\"2268\",\"type\":\"Grid\"},{\"attributes\":{\"text\":\"Results\"},\"id\":\"2249\",\"type\":\"Title\"},{\"attributes\":{\"active_drag\":\"auto\",\"active_inspect\":\"auto\",\"active_multi\":null,\"active_scroll\":\"auto\",\"active_tap\":\"auto\",\"tools\":[{\"id\":\"2269\",\"type\":\"PanTool\"},{\"id\":\"2270\",\"type\":\"WheelZoomTool\"},{\"id\":\"2271\",\"type\":\"BoxZoomTool\"},{\"id\":\"2272\",\"type\":\"SaveTool\"},{\"id\":\"2273\",\"type\":\"ResetTool\"},{\"id\":\"2274\",\"type\":\"HelpTool\"},{\"id\":\"2300\",\"type\":\"HoverTool\"},{\"id\":\"2302\",\"type\":\"HoverTool\"},{\"id\":\"2304\",\"type\":\"HoverTool\"}]},\"id\":\"2275\",\"type\":\"Toolbar\"},{\"attributes\":{\"data_source\":{\"id\":\"2294\",\"type\":\"ColumnDataSource\"},\"glyph\":{\"id\":\"2296\",\"type\":\"Circle\"},\"hover_glyph\":null,\"muted_glyph\":null,\"nonselection_glyph\":{\"id\":\"2297\",\"type\":\"Circle\"},\"selection_glyph\":null,\"view\":{\"id\":\"2299\",\"type\":\"CDSView\"}},\"id\":\"2298\",\"type\":\"GlyphRenderer\"},{\"attributes\":{},\"id\":\"2270\",\"type\":\"WheelZoomTool\"},{\"attributes\":{\"callback\":null,\"renderers\":[{\"id\":\"2292\",\"type\":\"GlyphRenderer\"}],\"tooltips\":\"\\n            <div>\\n            line id = @line_id \\n            <table border=\\\"5\\\">\\n                <tr >\\n                    <td>I<sub>ja</sub> =  @i_j_a_m &ang; @deg_j_a </td>\\n                    <td>I<sub>ka</sub> =  @i_k_a_m &ang; @deg_k_a </td>\\n                </tr>\\n                <tr>\\n                    <td >I<sub>jb</sub> =  @i_j_b_m &ang; @deg_j_b </td>\\n                    <td >I<sub>kb</sub> =  @i_k_b_m &ang; @deg_k_b </td>\\n                </tr>\\n                <tr>\\n                    <td >I<sub>jc</sub> =  @i_j_c_m &ang; @deg_j_c </td>\\n                    <td >I<sub>kc</sub> =  @i_k_c_m &ang; @deg_k_c </td>\\n                </tr>\\n                <tr>\\n                    <td >I<sub>jn</sub> =  @i_j_n_m &ang; @deg_j_n </td>\\n                    <td >I<sub>kn</sub> =  @i_k_n_m &ang; @deg_k_n </td>\\n                </tr>\\n            </table>            \\n            </div>\\n            \"},\"id\":\"2302\",\"type\":\"HoverTool\"},{\"attributes\":{},\"id\":\"2274\",\"type\":\"HelpTool\"},{\"attributes\":{\"ticker\":{\"id\":\"2260\",\"type\":\"BasicTicker\"}},\"id\":\"2263\",\"type\":\"Grid\"},{\"attributes\":{\"overlay\":{\"id\":\"2395\",\"type\":\"BoxAnnotation\"}},\"id\":\"2271\",\"type\":\"BoxZoomTool\"},{\"attributes\":{\"callback\":null,\"data\":{\"deg_1a\":[],\"deg_1b\":[],\"deg_1c\":[],\"deg_1n\":[],\"deg_2a\":[],\"deg_2b\":[],\"deg_2c\":[],\"deg_2n\":[],\"i_1a_m\":[],\"i_1b_m\":[],\"i_1c_m\":[],\"i_1n_m\":[],\"i_2a_m\":[],\"i_2b_m\":[],\"i_2c_m\":[],\"i_2n_m\":[],\"trafo_id\":[],\"x_s\":[],\"y_s\":[]},\"selected\":{\"id\":\"2397\",\"type\":\"Selection\"},\"selection_policy\":{\"id\":\"2396\",\"type\":\"UnionRenderers\"}},\"id\":\"2282\",\"type\":\"ColumnDataSource\"},{\"attributes\":{},\"id\":\"2272\",\"type\":\"SaveTool\"},{\"attributes\":{\"callback\":null},\"id\":\"2253\",\"type\":\"DataRange1d\"},{\"attributes\":{\"callback\":null,\"renderers\":[{\"id\":\"2286\",\"type\":\"GlyphRenderer\"}],\"tooltips\":\"\\n            <div>\\n            transformer id = @trafo_id  \\n            <table border=\\\"5\\\">\\n                <tr >\\n                    <td>I<sub>1a</sub> =  @i_1a_m &ang; @deg_1a </td>\\n                    <td>I<sub>2a</sub> =  @i_2a_m &ang; @deg_2a </td>\\n                </tr>\\n                <tr>\\n                    <td >I<sub>1b</sub> =  @i_1b_m &ang; @deg_1b </td>\\n                    <td >I<sub>2b</sub> =  @i_2b_m &ang; @deg_2b </td>\\n                </tr>\\n                <tr>\\n                    <td >I<sub>1c</sub> =  @i_1c_m &ang; @deg_1c </td>\\n                    <td >I<sub>2c</sub> =  @i_2c_m &ang; @deg_2c </td>\\n                </tr>\\n                <tr>\\n                    <td >I<sub>1n</sub> =  @i_1n_m &ang; @deg_1n </td>\\n                    <td >I<sub>2n</sub> =  @i_2n_m &ang; @deg_2n </td>\\n                </tr>\\n            </table>            \\n            </div>\\n            \"},\"id\":\"2300\",\"type\":\"HoverTool\"},{\"attributes\":{},\"id\":\"2396\",\"type\":\"UnionRenderers\"},{\"attributes\":{\"source\":{\"id\":\"2294\",\"type\":\"ColumnDataSource\"}},\"id\":\"2299\",\"type\":\"CDSView\"},{\"attributes\":{},\"id\":\"2397\",\"type\":\"Selection\"},{\"attributes\":{\"line_alpha\":{\"value\":0.5},\"line_color\":{\"value\":\"red\"},\"line_width\":{\"value\":5},\"xs\":{\"field\":\"x_s\"},\"ys\":{\"field\":\"y_s\"}},\"id\":\"2290\",\"type\":\"MultiLine\"},{\"attributes\":{},\"id\":\"2400\",\"type\":\"UnionRenderers\"},{\"attributes\":{\"callback\":null,\"data\":{\"bus_id\":[\"B1\",\"B2\"],\"deg_an\":[\"0.00\",\"0.00\"],\"deg_bn\":[\"-120.00\",\"-120.00\"],\"deg_cn\":[\"120.00\",\"120.00\"],\"deg_ng\":[\"0.00\",\"0.00\"],\"p_a\":[\"26.65\",\"-25.38\"],\"p_abc\":[\"79.95\",\"-76.15\"],\"p_b\":[\"26.65\",\"-25.38\"],\"p_c\":[\"26.65\",\"-25.38\"],\"q_a\":[\"6.00\",\"-5.71\"],\"q_abc\":[\"17.99\",\"-17.13\"],\"q_b\":[\"6.00\",\"-5.71\"],\"q_c\":[\"6.00\",\"-5.71\"],\"s_color\":[\"red\",\"green\"],\"s_radio\":[2.862712341682183,2.7937211830783086],\"u_avg_pu\":[\"1.050\",\"1.000\"],\"v_ab\":[419.9999999999999,400.0],\"v_an\":[\"242.49\",\"230.94\"],\"v_an_pu\":[\"1.0500\",\"1.0000\"],\"v_bc\":[419.99999999999994,400.0],\"v_bn\":[\"242.49\",\"230.94\"],\"v_bn_pu\":[\"1.0500\",\"1.0000\"],\"v_ca\":[420.00000000000006,400.00000000000017],\"v_cn\":[\"242.49\",\"230.94\"],\"v_cn_pu\":[\"1.0500\",\"1.0000\"],\"v_ng\":[\"0.00\",\"0.00\"],\"v_unb\":[\"0.0\",\"0.0\"],\"x\":[0,10],\"y\":[0,0]},\"selected\":{\"id\":\"2401\",\"type\":\"Selection\"},\"selection_policy\":{\"id\":\"2400\",\"type\":\"UnionRenderers\"}},\"id\":\"2294\",\"type\":\"ColumnDataSource\"},{\"attributes\":{\"fill_alpha\":{\"value\":0.5},\"fill_color\":{\"value\":\"navy\"},\"line_alpha\":{\"value\":0.5},\"line_color\":{\"value\":\"navy\"},\"size\":{\"units\":\"screen\",\"value\":15},\"x\":{\"field\":\"x\"},\"y\":{\"field\":\"y\"}},\"id\":\"2296\",\"type\":\"Circle\"},{\"attributes\":{},\"id\":\"2269\",\"type\":\"PanTool\"},{\"attributes\":{\"bottom_units\":\"screen\",\"fill_alpha\":{\"value\":0.5},\"fill_color\":{\"value\":\"lightgrey\"},\"left_units\":\"screen\",\"level\":\"overlay\",\"line_alpha\":{\"value\":1.0},\"line_color\":{\"value\":\"black\"},\"line_dash\":[4,4],\"line_width\":{\"value\":2},\"render_mode\":\"css\",\"right_units\":\"screen\",\"top_units\":\"screen\"},\"id\":\"2395\",\"type\":\"BoxAnnotation\"},{\"attributes\":{\"source\":{\"id\":\"2288\",\"type\":\"ColumnDataSource\"}},\"id\":\"2293\",\"type\":\"CDSView\"},{\"attributes\":{\"data_source\":{\"id\":\"2288\",\"type\":\"ColumnDataSource\"},\"glyph\":{\"id\":\"2290\",\"type\":\"MultiLine\"},\"hover_glyph\":null,\"muted_glyph\":null,\"nonselection_glyph\":{\"id\":\"2291\",\"type\":\"MultiLine\"},\"selection_glyph\":null,\"view\":{\"id\":\"2293\",\"type\":\"CDSView\"}},\"id\":\"2292\",\"type\":\"GlyphRenderer\"},{\"attributes\":{},\"id\":\"2398\",\"type\":\"UnionRenderers\"},{\"attributes\":{\"line_alpha\":{\"value\":0.1},\"line_color\":{\"value\":\"#1f77b4\"},\"line_width\":{\"value\":5},\"xs\":{\"field\":\"x_s\"},\"ys\":{\"field\":\"y_s\"}},\"id\":\"2291\",\"type\":\"MultiLine\"},{\"attributes\":{},\"id\":\"2255\",\"type\":\"LinearScale\"},{\"attributes\":{\"callback\":null,\"renderers\":[{\"id\":\"2298\",\"type\":\"GlyphRenderer\"}],\"tooltips\":\"\\n            <div>\\n            bus_id = @bus_id &nbsp &nbsp |  u<sub>avg</sub>= @u_avg_pu pu |  u<sub>unb</sub>= @v_unb %\\n            <table border=\\\"1\\\">\\n                <tr>\\n                <td>v<sub>an</sub> =  @v_an  &ang; @deg_an V </td> <td> S<sub>a</sub> = @p_a + j@q_a kVA</td>\\n                </tr>\\n                      <tr>\\n                      <td> </td> <td>v<sub>ab</sub>= @v_ab V</td>\\n                      </tr>\\n                <tr>\\n                <td>v<sub>bn</sub> = @v_bn &ang; @deg_bn V </td><td> S<sub>b</sub> = @p_b + j@q_b kVA</td>\\n                </tr>\\n                      <tr>\\n                      <td> </td><td>v<sub>bc</sub>= @v_bc V</td>\\n                      </tr>\\n                <tr>\\n                <td>v<sub>cn</sub>  = @v_cn &ang; @deg_cn V </td>  <td>S<sub>c</sub> = @p_c + j@q_c kVA </td>\\n                </tr> \\n                    <tr>\\n                     <td> </td> <td>v<sub>ca</sub>= @v_ca V</td>\\n                    </tr>\\n               <tr>\\n                <td>v<sub>ng</sub>    = @v_ng &ang; @deg_ng V</td>  <td>S<sub>abc</sub> = @p_abc + j@q_abc kVA </td>\\n              </tr>\\n            </table>\\n            </div>\\n            \"},\"id\":\"2304\",\"type\":\"HoverTool\"},{\"attributes\":{\"callback\":null,\"data\":{\"deg_j_a\":[-12.680383491819791],\"deg_j_b\":[-132.6803834918198],\"deg_j_c\":[107.31961650818027],\"deg_j_n\":[0.0],\"deg_k_a\":[-12.680383491819791],\"deg_k_b\":[-132.6803834918198],\"deg_k_c\":[107.31961650818027],\"deg_k_n\":[0.0],\"i_j_a_m\":[112.65371106139018],\"i_j_b_m\":[112.65371106139024],\"i_j_c_m\":[112.65371106139001],\"i_j_n_m\":[0.0],\"i_k_a_m\":[112.65371106139018],\"i_k_b_m\":[112.65371106139024],\"i_k_c_m\":[112.65371106139001],\"i_k_n_m\":[0.0],\"line_id\":[\"B1-B2\"],\"x_s\":[[0,10]],\"y_s\":[[0,0]]},\"selected\":{\"id\":\"2399\",\"type\":\"Selection\"},\"selection_policy\":{\"id\":\"2398\",\"type\":\"UnionRenderers\"}},\"id\":\"2288\",\"type\":\"ColumnDataSource\"},{\"attributes\":{},\"id\":\"2399\",\"type\":\"Selection\"},{\"attributes\":{},\"id\":\"2391\",\"type\":\"BasicTickFormatter\"},{\"attributes\":{\"formatter\":{\"id\":\"2393\",\"type\":\"BasicTickFormatter\"},\"ticker\":{\"id\":\"2265\",\"type\":\"BasicTicker\"}},\"id\":\"2264\",\"type\":\"LinearAxis\"},{\"attributes\":{},\"id\":\"2401\",\"type\":\"Selection\"},{\"attributes\":{\"formatter\":{\"id\":\"2391\",\"type\":\"BasicTickFormatter\"},\"ticker\":{\"id\":\"2260\",\"type\":\"BasicTicker\"}},\"id\":\"2259\",\"type\":\"LinearAxis\"},{\"attributes\":{\"line_alpha\":{\"value\":0.5},\"line_color\":{\"value\":\"green\"},\"line_width\":{\"value\":5},\"xs\":{\"field\":\"x_s\"},\"ys\":{\"field\":\"y_s\"}},\"id\":\"2284\",\"type\":\"MultiLine\"},{\"attributes\":{\"source\":{\"id\":\"2282\",\"type\":\"ColumnDataSource\"}},\"id\":\"2287\",\"type\":\"CDSView\"},{\"attributes\":{},\"id\":\"2260\",\"type\":\"BasicTicker\"},{\"attributes\":{\"data_source\":{\"id\":\"2282\",\"type\":\"ColumnDataSource\"},\"glyph\":{\"id\":\"2284\",\"type\":\"MultiLine\"},\"hover_glyph\":null,\"muted_glyph\":null,\"nonselection_glyph\":{\"id\":\"2285\",\"type\":\"MultiLine\"},\"selection_glyph\":null,\"view\":{\"id\":\"2287\",\"type\":\"CDSView\"}},\"id\":\"2286\",\"type\":\"GlyphRenderer\"},{\"attributes\":{},\"id\":\"2273\",\"type\":\"ResetTool\"}],\"root_ids\":[\"2248\"]},\"title\":\"Bokeh Application\",\"version\":\"1.4.0\"}};\n",
       "  var render_items = [{\"docid\":\"c78b777c-091c-4b43-86b3-b9faaca11340\",\"roots\":{\"2248\":\"860ed3e1-fe2e-4af9-8c18-eb8cf1f37866\"}}];\n",
       "  root.Bokeh.embed.embed_items_notebook(docs_json, render_items);\n",
       "\n",
       "  }\n",
       "  if (root.Bokeh !== undefined) {\n",
       "    embed_document(root);\n",
       "  } else {\n",
       "    var attempts = 0;\n",
       "    var timer = setInterval(function(root) {\n",
       "      if (root.Bokeh !== undefined) {\n",
       "        clearInterval(timer);\n",
       "        embed_document(root);\n",
       "      } else {\n",
       "        attempts++;\n",
       "        if (attempts > 100) {\n",
       "          clearInterval(timer);\n",
       "          console.log(\"Bokeh: ERROR: Unable to run BokehJS code because BokehJS library is missing\");\n",
       "        }\n",
       "      }\n",
       "    }, 10, root)\n",
       "  }\n",
       "})(window);"
      ],
      "application/vnd.bokehjs_exec.v0+json": ""
     },
     "metadata": {
      "application/vnd.bokehjs_exec.v0+json": {
       "id": "2248"
      }
     },
     "output_type": "display_data"
    }
   ],
   "source": [
    "grid_lv = grid()\n",
    "grid_lv.read(data)  # Load data\n",
    "grid_lv.pf()  # solve power flow\n",
    "p=plot_results(grid_lv)"
   ]
  },
  {
   "cell_type": "code",
   "execution_count": 23,
   "metadata": {},
   "outputs": [
    {
     "name": "stdout",
     "output_type": "stream",
     "text": [
      "system without dynamic equations, adding dummy dynamic equation\n"
     ]
    }
   ],
   "source": [
    "grid_dict = pydgrid2pydae(grid_1)\n",
    "params_dict  = grid_dict['params']\n",
    "f_list = grid_dict['f']\n",
    "x_list = grid_dict['x']\n",
    "g_list = grid_dict['g']\n",
    "y_list = grid_dict['y']\n",
    "u_dict = grid_dict['u']\n",
    "a = sym.Symbol('a')\n",
    "h_dict = grid_dict['h_dict']\n",
    "\n",
    "sys_dict = {'name':'grid_2bus4wire_lv',\n",
    "           'params_dict':params_dict,\n",
    "           'f_list':f_list,\n",
    "           'g_list':g_list,\n",
    "           'x_list':x_list,\n",
    "           'y_ini_list':y_list,\n",
    "           'y_run_list':y_list,\n",
    "           'u_run_dict':u_dict,\n",
    "           'u_ini_dict':u_dict,\n",
    "           'h_dict':h_dict\n",
    "           }\n",
    "\n",
    "db.system(sys_dict)\n",
    "db.sys2num(sys_dict)\n",
    "\n",
    "ini_data = json.dumps(grid_dict['xy_0_dict'], indent=4)\n",
    "fobj = open(\"grid_2bus4wire_lv_xy0.json\",\"w\")\n",
    "fobj.write(ini_data)\n",
    "fobj.close()"
   ]
  },
  {
   "cell_type": "code",
   "execution_count": 8,
   "metadata": {},
   "outputs": [
    {
     "data": {
      "text/latex": [
       "$\\displaystyle \\left[\\begin{array}{cccccccccccc}v_{B1 a r} & v_{B1 a i} & v_{B1 b r} & v_{B1 b i} & v_{B1 c r} & v_{B1 c i} & v_{B2 a r} & v_{B2 a i} & v_{B2 b r} & v_{B2 b i} & v_{B2 c r} & v_{B2 c i}\\end{array}\\right]$"
      ],
      "text/plain": [
       "Matrix([[v_B1_a_r, v_B1_a_i, v_B1_b_r, v_B1_b_i, v_B1_c_r, v_B1_c_i, v_B2_a_r, v_B2_a_i, v_B2_b_r, v_B2_b_i, v_B2_c_r, v_B2_c_i]])"
      ]
     },
     "execution_count": 8,
     "metadata": {},
     "output_type": "execute_result"
    }
   ],
   "source": [
    "sys_dict['h']"
   ]
  },
  {
   "cell_type": "code",
   "execution_count": null,
   "metadata": {},
   "outputs": [],
   "source": []
  },
  {
   "cell_type": "code",
   "execution_count": 45,
   "metadata": {},
   "outputs": [],
   "source": [
    "data = {\n",
    "        \"buses\":[\n",
    "                 {\"bus\": \"B1\",  \"pos_x\":   0, \"pos_y\":   0, \"units\": \"m\", \"U_kV\":20},\n",
    "                 {\"bus\": \"B2\",  \"pos_x\":  10, \"pos_y\":   0, \"units\": \"m\", \"U_kV\":20} \n",
    "                ],\n",
    "        \"grid_formers\":[\n",
    "                        {\"bus\": \"B1\",\n",
    "                        \"bus_nodes\": [1, 2, 3], \"deg\": [0, -120, -240],\n",
    "                        \"kV\": [20.0*1.05/np.sqrt(3)]*3, 'monitor':True},\n",
    "                        {\"bus\": \"B2\",\n",
    "                        \"bus_nodes\": [1, 2, 3], \"deg\": [0, -120, -240],\n",
    "                        \"kV\": [20.0/np.sqrt(3)]*3, 'monitor':True}\n",
    "                       ],\n",
    "        \"lines\":[\n",
    "                 {\"bus_j\": \"B1\",  \"bus_k\": \"B2\",  \"code\": \"20kV_al_150_sub\", \"m\": 5e3, 'monitor':True} \n",
    "                ],\n",
    "        \"shunts\":[\n",
    "                 {\"bus\": \"B1\" , \"R\": 0.001, \"X\": 0.0, \"bus_nodes\": [4,0]},\n",
    "                 {\"bus\": \"B2\" , \"R\": 0.001, \"X\": 0.0, \"bus_nodes\": [4,0]}\n",
    "                 ],\n",
    "        \"line_codes\":\n",
    "            {\"lv_cu_150\":  {\"Rph\":0.167,\"Xph\":0.08, \"Rn\":0.167, \"Xn\": 0.08},\n",
    "            \"lv_cu_50\":   {\"Rph\":0.4,\"Xph\":0.09, \"Rn\":0.4, \"Xn\": 0.09},\n",
    "            \"20kV_al_150_sub\":     {\"Rph\":0.27,\"Xph\":0.12, \"Rn\":0.27, \"Xn\": 0.12}, \n",
    "            \"400kV_oh\":     {\"Rph\":0.0268,\"Xph\":0.2766, \"Rn\":0.0268, \"Xn\": 0.2766},          \n",
    "            }\n",
    "        }"
   ]
  },
  {
   "cell_type": "code",
   "execution_count": 46,
   "metadata": {},
   "outputs": [
    {
     "data": {
      "text/html": [
       "\n",
       "\n",
       "\n",
       "\n",
       "\n",
       "\n",
       "  <div class=\"bk-root\" id=\"0b6f7ff4-8ae0-4217-9236-e9e6a6439807\" data-root-id=\"4392\"></div>\n"
      ]
     },
     "metadata": {},
     "output_type": "display_data"
    },
    {
     "data": {
      "application/javascript": [
       "(function(root) {\n",
       "  function embed_document(root) {\n",
       "    \n",
       "  var docs_json = {\"d33213d2-b44d-4c18-b414-35f7ecbb68b1\":{\"roots\":{\"references\":[{\"attributes\":{\"below\":[{\"id\":\"4403\",\"type\":\"LinearAxis\"}],\"center\":[{\"id\":\"4407\",\"type\":\"Grid\"},{\"id\":\"4412\",\"type\":\"Grid\"}],\"left\":[{\"id\":\"4408\",\"type\":\"LinearAxis\"}],\"plot_height\":400,\"renderers\":[{\"id\":\"4430\",\"type\":\"GlyphRenderer\"},{\"id\":\"4436\",\"type\":\"GlyphRenderer\"},{\"id\":\"4442\",\"type\":\"GlyphRenderer\"}],\"title\":{\"id\":\"4393\",\"type\":\"Title\"},\"toolbar\":{\"id\":\"4419\",\"type\":\"Toolbar\"},\"x_range\":{\"id\":\"4395\",\"type\":\"DataRange1d\"},\"x_scale\":{\"id\":\"4399\",\"type\":\"LinearScale\"},\"y_range\":{\"id\":\"4397\",\"type\":\"DataRange1d\"},\"y_scale\":{\"id\":\"4401\",\"type\":\"LinearScale\"}},\"id\":\"4392\",\"subtype\":\"Figure\",\"type\":\"Plot\"},{\"attributes\":{\"line_alpha\":{\"value\":0.5},\"line_color\":{\"value\":\"red\"},\"line_width\":{\"value\":5},\"xs\":{\"field\":\"x_s\"},\"ys\":{\"field\":\"y_s\"}},\"id\":\"4434\",\"type\":\"MultiLine\"},{\"attributes\":{},\"id\":\"4637\",\"type\":\"Selection\"},{\"attributes\":{\"fill_alpha\":{\"value\":0.5},\"fill_color\":{\"value\":\"navy\"},\"line_alpha\":{\"value\":0.5},\"line_color\":{\"value\":\"navy\"},\"size\":{\"units\":\"screen\",\"value\":15},\"x\":{\"field\":\"x\"},\"y\":{\"field\":\"y\"}},\"id\":\"4440\",\"type\":\"Circle\"},{\"attributes\":{\"data_source\":{\"id\":\"4438\",\"type\":\"ColumnDataSource\"},\"glyph\":{\"id\":\"4440\",\"type\":\"Circle\"},\"hover_glyph\":null,\"muted_glyph\":null,\"nonselection_glyph\":{\"id\":\"4441\",\"type\":\"Circle\"},\"selection_glyph\":null,\"view\":{\"id\":\"4443\",\"type\":\"CDSView\"}},\"id\":\"4442\",\"type\":\"GlyphRenderer\"},{\"attributes\":{\"callback\":null,\"data\":{\"deg_1a\":[],\"deg_1b\":[],\"deg_1c\":[],\"deg_1n\":[],\"deg_2a\":[],\"deg_2b\":[],\"deg_2c\":[],\"deg_2n\":[],\"i_1a_m\":[],\"i_1b_m\":[],\"i_1c_m\":[],\"i_1n_m\":[],\"i_2a_m\":[],\"i_2b_m\":[],\"i_2c_m\":[],\"i_2n_m\":[],\"trafo_id\":[],\"x_s\":[],\"y_s\":[]},\"selected\":{\"id\":\"4637\",\"type\":\"Selection\"},\"selection_policy\":{\"id\":\"4636\",\"type\":\"UnionRenderers\"}},\"id\":\"4426\",\"type\":\"ColumnDataSource\"},{\"attributes\":{},\"id\":\"4631\",\"type\":\"BasicTickFormatter\"},{\"attributes\":{\"text\":\"Results\"},\"id\":\"4393\",\"type\":\"Title\"},{\"attributes\":{},\"id\":\"4633\",\"type\":\"BasicTickFormatter\"},{\"attributes\":{\"bottom_units\":\"screen\",\"fill_alpha\":{\"value\":0.5},\"fill_color\":{\"value\":\"lightgrey\"},\"left_units\":\"screen\",\"level\":\"overlay\",\"line_alpha\":{\"value\":1.0},\"line_color\":{\"value\":\"black\"},\"line_dash\":[4,4],\"line_width\":{\"value\":2},\"render_mode\":\"css\",\"right_units\":\"screen\",\"top_units\":\"screen\"},\"id\":\"4635\",\"type\":\"BoxAnnotation\"},{\"attributes\":{\"line_alpha\":{\"value\":0.1},\"line_color\":{\"value\":\"#1f77b4\"},\"line_width\":{\"value\":5},\"xs\":{\"field\":\"x_s\"},\"ys\":{\"field\":\"y_s\"}},\"id\":\"4429\",\"type\":\"MultiLine\"},{\"attributes\":{\"line_alpha\":{\"value\":0.1},\"line_color\":{\"value\":\"#1f77b4\"},\"line_width\":{\"value\":5},\"xs\":{\"field\":\"x_s\"},\"ys\":{\"field\":\"y_s\"}},\"id\":\"4435\",\"type\":\"MultiLine\"},{\"attributes\":{\"active_drag\":\"auto\",\"active_inspect\":\"auto\",\"active_multi\":null,\"active_scroll\":\"auto\",\"active_tap\":\"auto\",\"tools\":[{\"id\":\"4413\",\"type\":\"PanTool\"},{\"id\":\"4414\",\"type\":\"WheelZoomTool\"},{\"id\":\"4415\",\"type\":\"BoxZoomTool\"},{\"id\":\"4416\",\"type\":\"SaveTool\"},{\"id\":\"4417\",\"type\":\"ResetTool\"},{\"id\":\"4418\",\"type\":\"HelpTool\"},{\"id\":\"4444\",\"type\":\"HoverTool\"},{\"id\":\"4446\",\"type\":\"HoverTool\"},{\"id\":\"4448\",\"type\":\"HoverTool\"}]},\"id\":\"4419\",\"type\":\"Toolbar\"},{\"attributes\":{},\"id\":\"4417\",\"type\":\"ResetTool\"},{\"attributes\":{\"line_alpha\":{\"value\":0.5},\"line_color\":{\"value\":\"green\"},\"line_width\":{\"value\":5},\"xs\":{\"field\":\"x_s\"},\"ys\":{\"field\":\"y_s\"}},\"id\":\"4428\",\"type\":\"MultiLine\"},{\"attributes\":{\"source\":{\"id\":\"4426\",\"type\":\"ColumnDataSource\"}},\"id\":\"4431\",\"type\":\"CDSView\"},{\"attributes\":{\"callback\":null,\"renderers\":[{\"id\":\"4436\",\"type\":\"GlyphRenderer\"}],\"tooltips\":\"\\n            <div>\\n            line id = @line_id \\n            <table border=\\\"5\\\">\\n                <tr >\\n                    <td>I<sub>ja</sub> =  @i_j_a_m &ang; @deg_j_a </td>\\n                    <td>I<sub>ka</sub> =  @i_k_a_m &ang; @deg_k_a </td>\\n                </tr>\\n                <tr>\\n                    <td >I<sub>jb</sub> =  @i_j_b_m &ang; @deg_j_b </td>\\n                    <td >I<sub>kb</sub> =  @i_k_b_m &ang; @deg_k_b </td>\\n                </tr>\\n                <tr>\\n                    <td >I<sub>jc</sub> =  @i_j_c_m &ang; @deg_j_c </td>\\n                    <td >I<sub>kc</sub> =  @i_k_c_m &ang; @deg_k_c </td>\\n                </tr>\\n                <tr>\\n                    <td >I<sub>jn</sub> =  @i_j_n_m &ang; @deg_j_n </td>\\n                    <td >I<sub>kn</sub> =  @i_k_n_m &ang; @deg_k_n </td>\\n                </tr>\\n            </table>            \\n            </div>\\n            \"},\"id\":\"4446\",\"type\":\"HoverTool\"},{\"attributes\":{\"callback\":null},\"id\":\"4395\",\"type\":\"DataRange1d\"},{\"attributes\":{\"source\":{\"id\":\"4432\",\"type\":\"ColumnDataSource\"}},\"id\":\"4437\",\"type\":\"CDSView\"},{\"attributes\":{},\"id\":\"4640\",\"type\":\"UnionRenderers\"},{\"attributes\":{},\"id\":\"4401\",\"type\":\"LinearScale\"},{\"attributes\":{\"callback\":null},\"id\":\"4397\",\"type\":\"DataRange1d\"},{\"attributes\":{\"callback\":null,\"renderers\":[{\"id\":\"4430\",\"type\":\"GlyphRenderer\"}],\"tooltips\":\"\\n            <div>\\n            transformer id = @trafo_id  \\n            <table border=\\\"5\\\">\\n                <tr >\\n                    <td>I<sub>1a</sub> =  @i_1a_m &ang; @deg_1a </td>\\n                    <td>I<sub>2a</sub> =  @i_2a_m &ang; @deg_2a </td>\\n                </tr>\\n                <tr>\\n                    <td >I<sub>1b</sub> =  @i_1b_m &ang; @deg_1b </td>\\n                    <td >I<sub>2b</sub> =  @i_2b_m &ang; @deg_2b </td>\\n                </tr>\\n                <tr>\\n                    <td >I<sub>1c</sub> =  @i_1c_m &ang; @deg_1c </td>\\n                    <td >I<sub>2c</sub> =  @i_2c_m &ang; @deg_2c </td>\\n                </tr>\\n                <tr>\\n                    <td >I<sub>1n</sub> =  @i_1n_m &ang; @deg_1n </td>\\n                    <td >I<sub>2n</sub> =  @i_2n_m &ang; @deg_2n </td>\\n                </tr>\\n            </table>            \\n            </div>\\n            \"},\"id\":\"4444\",\"type\":\"HoverTool\"},{\"attributes\":{\"ticker\":{\"id\":\"4404\",\"type\":\"BasicTicker\"}},\"id\":\"4407\",\"type\":\"Grid\"},{\"attributes\":{\"data_source\":{\"id\":\"4432\",\"type\":\"ColumnDataSource\"},\"glyph\":{\"id\":\"4434\",\"type\":\"MultiLine\"},\"hover_glyph\":null,\"muted_glyph\":null,\"nonselection_glyph\":{\"id\":\"4435\",\"type\":\"MultiLine\"},\"selection_glyph\":null,\"view\":{\"id\":\"4437\",\"type\":\"CDSView\"}},\"id\":\"4436\",\"type\":\"GlyphRenderer\"},{\"attributes\":{},\"id\":\"4639\",\"type\":\"Selection\"},{\"attributes\":{\"source\":{\"id\":\"4438\",\"type\":\"ColumnDataSource\"}},\"id\":\"4443\",\"type\":\"CDSView\"},{\"attributes\":{},\"id\":\"4416\",\"type\":\"SaveTool\"},{\"attributes\":{\"formatter\":{\"id\":\"4633\",\"type\":\"BasicTickFormatter\"},\"ticker\":{\"id\":\"4409\",\"type\":\"BasicTicker\"}},\"id\":\"4408\",\"type\":\"LinearAxis\"},{\"attributes\":{},\"id\":\"4409\",\"type\":\"BasicTicker\"},{\"attributes\":{},\"id\":\"4404\",\"type\":\"BasicTicker\"},{\"attributes\":{},\"id\":\"4413\",\"type\":\"PanTool\"},{\"attributes\":{},\"id\":\"4638\",\"type\":\"UnionRenderers\"},{\"attributes\":{\"formatter\":{\"id\":\"4631\",\"type\":\"BasicTickFormatter\"},\"ticker\":{\"id\":\"4404\",\"type\":\"BasicTicker\"}},\"id\":\"4403\",\"type\":\"LinearAxis\"},{\"attributes\":{\"data_source\":{\"id\":\"4426\",\"type\":\"ColumnDataSource\"},\"glyph\":{\"id\":\"4428\",\"type\":\"MultiLine\"},\"hover_glyph\":null,\"muted_glyph\":null,\"nonselection_glyph\":{\"id\":\"4429\",\"type\":\"MultiLine\"},\"selection_glyph\":null,\"view\":{\"id\":\"4431\",\"type\":\"CDSView\"}},\"id\":\"4430\",\"type\":\"GlyphRenderer\"},{\"attributes\":{\"fill_alpha\":{\"value\":0.1},\"fill_color\":{\"value\":\"#1f77b4\"},\"line_alpha\":{\"value\":0.1},\"line_color\":{\"value\":\"#1f77b4\"},\"size\":{\"units\":\"screen\",\"value\":15},\"x\":{\"field\":\"x\"},\"y\":{\"field\":\"y\"}},\"id\":\"4441\",\"type\":\"Circle\"},{\"attributes\":{},\"id\":\"4636\",\"type\":\"UnionRenderers\"},{\"attributes\":{},\"id\":\"4399\",\"type\":\"LinearScale\"},{\"attributes\":{\"callback\":null,\"data\":{\"deg_j_a\":[-23.962488974578168],\"deg_j_b\":[-143.96248897457806],\"deg_j_c\":[96.0375110254219],\"deg_j_n\":[0.0],\"deg_k_a\":[-23.962488974578168],\"deg_k_b\":[-143.96248897457806],\"deg_k_c\":[96.0375110254219],\"deg_k_n\":[0.0],\"i_j_a_m\":[390.8069211736988],\"i_j_b_m\":[390.8069211736994],\"i_j_c_m\":[390.80692117369796],\"i_j_n_m\":[0.0],\"i_k_a_m\":[390.8069211736988],\"i_k_b_m\":[390.8069211736994],\"i_k_c_m\":[390.80692117369796],\"i_k_n_m\":[0.0],\"line_id\":[\"B1-B2\"],\"x_s\":[[0,10]],\"y_s\":[[0,0]]},\"selected\":{\"id\":\"4639\",\"type\":\"Selection\"},\"selection_policy\":{\"id\":\"4638\",\"type\":\"UnionRenderers\"}},\"id\":\"4432\",\"type\":\"ColumnDataSource\"},{\"attributes\":{},\"id\":\"4641\",\"type\":\"Selection\"},{\"attributes\":{\"dimension\":1,\"ticker\":{\"id\":\"4409\",\"type\":\"BasicTicker\"}},\"id\":\"4412\",\"type\":\"Grid\"},{\"attributes\":{\"callback\":null,\"renderers\":[{\"id\":\"4442\",\"type\":\"GlyphRenderer\"}],\"tooltips\":\"\\n            <div>\\n            bus_id = @bus_id &nbsp &nbsp |  u<sub>avg</sub>= @u_avg_pu pu |  u<sub>unb</sub>= @v_unb %\\n            <table border=\\\"1\\\">\\n                <tr>\\n                <td>v<sub>an</sub> =  @v_an  &ang; @deg_an V </td> <td> S<sub>a</sub> = @p_a + j@q_a kVA</td>\\n                </tr>\\n                      <tr>\\n                      <td> </td> <td>v<sub>ab</sub>= @v_ab V</td>\\n                      </tr>\\n                <tr>\\n                <td>v<sub>bn</sub> = @v_bn &ang; @deg_bn V </td><td> S<sub>b</sub> = @p_b + j@q_b kVA</td>\\n                </tr>\\n                      <tr>\\n                      <td> </td><td>v<sub>bc</sub>= @v_bc V</td>\\n                      </tr>\\n                <tr>\\n                <td>v<sub>cn</sub>  = @v_cn &ang; @deg_cn V </td>  <td>S<sub>c</sub> = @p_c + j@q_c kVA </td>\\n                </tr> \\n                    <tr>\\n                     <td> </td> <td>v<sub>ca</sub>= @v_ca V</td>\\n                    </tr>\\n               <tr>\\n                <td>v<sub>ng</sub>    = @v_ng &ang; @deg_ng V</td>  <td>S<sub>abc</sub> = @p_abc + j@q_abc kVA </td>\\n              </tr>\\n            </table>\\n            </div>\\n            \"},\"id\":\"4448\",\"type\":\"HoverTool\"},{\"attributes\":{},\"id\":\"4414\",\"type\":\"WheelZoomTool\"},{\"attributes\":{},\"id\":\"4418\",\"type\":\"HelpTool\"},{\"attributes\":{\"overlay\":{\"id\":\"4635\",\"type\":\"BoxAnnotation\"}},\"id\":\"4415\",\"type\":\"BoxZoomTool\"},{\"attributes\":{\"callback\":null,\"data\":{\"bus_id\":[\"B1\",\"B2\"],\"deg_an\":[\"0.00\",\"0.00\"],\"deg_bn\":[\"-120.00\",\"-120.00\"],\"deg_cn\":[\"120.00\",\"120.00\"],\"deg_ng\":[\"0.00\",\"0.00\"],\"p_a\":[\"4329.90\",\"-4123.71\"],\"p_abc\":[\"12989.69\",\"-12371.13\"],\"p_b\":[\"4329.90\",\"-4123.71\"],\"p_c\":[\"4329.90\",\"-4123.71\"],\"q_a\":[\"1924.40\",\"-1832.76\"],\"q_abc\":[\"5773.20\",\"-5498.28\"],\"q_b\":[\"1924.40\",\"-1832.76\"],\"q_c\":[\"1924.40\",\"-1832.76\"],\"s_color\":[\"red\",\"green\"],\"s_radio\":[20,20],\"u_avg_pu\":[\"1.050\",\"1.000\"],\"v_ab\":[21000.0,20000.0],\"v_an\":[\"12124.36\",\"11547.01\"],\"v_an_pu\":[\"1.0500\",\"1.0000\"],\"v_bc\":[21000.0,20000.0],\"v_bn\":[\"12124.36\",\"11547.01\"],\"v_bn_pu\":[\"1.0500\",\"1.0000\"],\"v_ca\":[21000.000000000004,20000.000000000007],\"v_cn\":[\"12124.36\",\"11547.01\"],\"v_cn_pu\":[\"1.0500\",\"1.0000\"],\"v_ng\":[\"0.00\",\"0.00\"],\"v_unb\":[\"0.0\",\"0.0\"],\"x\":[0,10],\"y\":[0,0]},\"selected\":{\"id\":\"4641\",\"type\":\"Selection\"},\"selection_policy\":{\"id\":\"4640\",\"type\":\"UnionRenderers\"}},\"id\":\"4438\",\"type\":\"ColumnDataSource\"}],\"root_ids\":[\"4392\"]},\"title\":\"Bokeh Application\",\"version\":\"1.4.0\"}};\n",
       "  var render_items = [{\"docid\":\"d33213d2-b44d-4c18-b414-35f7ecbb68b1\",\"roots\":{\"4392\":\"0b6f7ff4-8ae0-4217-9236-e9e6a6439807\"}}];\n",
       "  root.Bokeh.embed.embed_items_notebook(docs_json, render_items);\n",
       "\n",
       "  }\n",
       "  if (root.Bokeh !== undefined) {\n",
       "    embed_document(root);\n",
       "  } else {\n",
       "    var attempts = 0;\n",
       "    var timer = setInterval(function(root) {\n",
       "      if (root.Bokeh !== undefined) {\n",
       "        clearInterval(timer);\n",
       "        embed_document(root);\n",
       "      } else {\n",
       "        attempts++;\n",
       "        if (attempts > 100) {\n",
       "          clearInterval(timer);\n",
       "          console.log(\"Bokeh: ERROR: Unable to run BokehJS code because BokehJS library is missing\");\n",
       "        }\n",
       "      }\n",
       "    }, 10, root)\n",
       "  }\n",
       "})(window);"
      ],
      "application/vnd.bokehjs_exec.v0+json": ""
     },
     "metadata": {
      "application/vnd.bokehjs_exec.v0+json": {
       "id": "4392"
      }
     },
     "output_type": "display_data"
    }
   ],
   "source": [
    "grid_mv = grid()\n",
    "grid_mv.read(data)  # Load data\n",
    "grid_mv.pf()  # solve power flow\n",
    "p=plot_results(grid_mv)"
   ]
  },
  {
   "cell_type": "code",
   "execution_count": 44,
   "metadata": {},
   "outputs": [
    {
     "name": "stdout",
     "output_type": "stream",
     "text": [
      "system without dynamic equations, adding dummy dynamic equation\n"
     ]
    }
   ],
   "source": [
    "grid_dict = pydgrid2pydae(grid_mv)\n",
    "params_dict  = grid_dict['params']\n",
    "f_list = grid_dict['f']\n",
    "x_list = grid_dict['x']\n",
    "g_list = grid_dict['g']\n",
    "y_list = grid_dict['y']\n",
    "u_dict = grid_dict['u']\n",
    "a = sym.Symbol('a')\n",
    "h_dict = grid_dict['h_dict']\n",
    "\n",
    "sys_dict = {'name':'grid_2bus4wire_mv',\n",
    "           'params_dict':params_dict,\n",
    "           'f_list':f_list,\n",
    "           'g_list':g_list,\n",
    "           'x_list':x_list,\n",
    "           'y_ini_list':y_list,\n",
    "           'y_run_list':y_list,\n",
    "           'u_run_dict':u_dict,\n",
    "           'u_ini_dict':u_dict,\n",
    "           'h_dict':h_dict\n",
    "           }\n",
    "\n",
    "db.system(sys_dict)\n",
    "db.sys2num(sys_dict)\n",
    "\n",
    "data = json.dumps(grid_dict['xy_0_dict'], indent=4)\n",
    "fobj = open(\"grid_2bus4wire_mv_xy0.json\",\"w\")\n",
    "fobj.write(data)\n",
    "fobj.close()"
   ]
  },
  {
   "cell_type": "code",
   "execution_count": null,
   "metadata": {},
   "outputs": [],
   "source": []
  },
  {
   "cell_type": "code",
   "execution_count": null,
   "metadata": {},
   "outputs": [],
   "source": []
  },
  {
   "cell_type": "code",
   "execution_count": 36,
   "metadata": {},
   "outputs": [],
   "source": [
    "data = {\n",
    "        \"buses\":[\n",
    "                 {\"bus\": \"B1\",  \"pos_x\":   0, \"pos_y\":   0, \"units\": \"m\", \"U_kV\":400},\n",
    "                 {\"bus\": \"B2\",  \"pos_x\":  10, \"pos_y\":   0, \"units\": \"m\", \"U_kV\":400} \n",
    "                ],\n",
    "        \"grid_formers\":[\n",
    "                        {\"bus\": \"B1\",\n",
    "                        \"bus_nodes\": [1, 2, 3], \"deg\": [0, -120, -240],\n",
    "                        \"kV\": [400*1.05/np.sqrt(3)]*3, 'monitor':True},\n",
    "                        {\"bus\": \"B2\",\n",
    "                        \"bus_nodes\": [1, 2, 3], \"deg\": [0, -120, -240],\n",
    "                        \"kV\": [400.0/np.sqrt(3)]*3, 'monitor':True}\n",
    "                       ],\n",
    "        \"lines\":[\n",
    "                 {\"bus_j\": \"B1\",  \"bus_k\": \"B2\",  \"code\": \"400kV_oh\", \"m\": 200e3, 'monitor':True} \n",
    "                ],\n",
    "        \"shunts\":[\n",
    "                 {\"bus\": \"B1\" , \"R\": 0.001, \"X\": 0.0, \"bus_nodes\": [4,0]},\n",
    "                 {\"bus\": \"B2\" , \"R\": 0.001, \"X\": 0.0, \"bus_nodes\": [4,0]}\n",
    "                 ],\n",
    "        \"line_codes\":\n",
    "            {\"lv_cu_150\":  {\"Rph\":0.167,\"Xph\":0.08, \"Rn\":0.167, \"Xn\": 0.08},\n",
    "            \"lv_cu_50\":   {\"Rph\":0.4,\"Xph\":0.09, \"Rn\":0.4, \"Xn\": 0.09},\n",
    "            \"20kV_al_150_sub\":     {\"Rph\":0.27,\"Xph\":0.12, \"Rn\":0.27, \"Xn\": 0.12}, \n",
    "            \"400kV_oh\":     {\"Rph\":0.0268,\"Xph\":0.2766, \"Rn\":0.0268, \"Xn\": 0.2766, \"C_1_muF\": 4.159, \"C_0_muF\":4.159},          \n",
    "            }\n",
    "        }"
   ]
  },
  {
   "cell_type": "code",
   "execution_count": 37,
   "metadata": {},
   "outputs": [
    {
     "data": {
      "text/html": [
       "\n",
       "\n",
       "\n",
       "\n",
       "\n",
       "\n",
       "  <div class=\"bk-root\" id=\"b30f4def-33df-4e3e-93e8-a8122bf61962\" data-root-id=\"3784\"></div>\n"
      ]
     },
     "metadata": {},
     "output_type": "display_data"
    },
    {
     "data": {
      "application/javascript": [
       "(function(root) {\n",
       "  function embed_document(root) {\n",
       "    \n",
       "  var docs_json = {\"6edc2d09-8305-4826-be4e-d2065a890459\":{\"roots\":{\"references\":[{\"attributes\":{\"below\":[{\"id\":\"3795\",\"type\":\"LinearAxis\"}],\"center\":[{\"id\":\"3799\",\"type\":\"Grid\"},{\"id\":\"3804\",\"type\":\"Grid\"}],\"left\":[{\"id\":\"3800\",\"type\":\"LinearAxis\"}],\"plot_height\":400,\"renderers\":[{\"id\":\"3822\",\"type\":\"GlyphRenderer\"},{\"id\":\"3828\",\"type\":\"GlyphRenderer\"},{\"id\":\"3834\",\"type\":\"GlyphRenderer\"}],\"title\":{\"id\":\"3785\",\"type\":\"Title\"},\"toolbar\":{\"id\":\"3811\",\"type\":\"Toolbar\"},\"x_range\":{\"id\":\"3787\",\"type\":\"DataRange1d\"},\"x_scale\":{\"id\":\"3791\",\"type\":\"LinearScale\"},\"y_range\":{\"id\":\"3789\",\"type\":\"DataRange1d\"},\"y_scale\":{\"id\":\"3793\",\"type\":\"LinearScale\"}},\"id\":\"3784\",\"subtype\":\"Figure\",\"type\":\"Plot\"},{\"attributes\":{\"data_source\":{\"id\":\"3824\",\"type\":\"ColumnDataSource\"},\"glyph\":{\"id\":\"3826\",\"type\":\"MultiLine\"},\"hover_glyph\":null,\"muted_glyph\":null,\"nonselection_glyph\":{\"id\":\"3827\",\"type\":\"MultiLine\"},\"selection_glyph\":null,\"view\":{\"id\":\"3829\",\"type\":\"CDSView\"}},\"id\":\"3828\",\"type\":\"GlyphRenderer\"},{\"attributes\":{\"source\":{\"id\":\"3824\",\"type\":\"ColumnDataSource\"}},\"id\":\"3829\",\"type\":\"CDSView\"},{\"attributes\":{\"line_alpha\":{\"value\":0.5},\"line_color\":{\"value\":\"green\"},\"line_width\":{\"value\":5},\"xs\":{\"field\":\"x_s\"},\"ys\":{\"field\":\"y_s\"}},\"id\":\"3820\",\"type\":\"MultiLine\"},{\"attributes\":{},\"id\":\"3810\",\"type\":\"HelpTool\"},{\"attributes\":{\"callback\":null,\"renderers\":[{\"id\":\"3828\",\"type\":\"GlyphRenderer\"}],\"tooltips\":\"\\n            <div>\\n            line id = @line_id \\n            <table border=\\\"5\\\">\\n                <tr >\\n                    <td>I<sub>ja</sub> =  @i_j_a_m &ang; @deg_j_a </td>\\n                    <td>I<sub>ka</sub> =  @i_k_a_m &ang; @deg_k_a </td>\\n                </tr>\\n                <tr>\\n                    <td >I<sub>jb</sub> =  @i_j_b_m &ang; @deg_j_b </td>\\n                    <td >I<sub>kb</sub> =  @i_k_b_m &ang; @deg_k_b </td>\\n                </tr>\\n                <tr>\\n                    <td >I<sub>jc</sub> =  @i_j_c_m &ang; @deg_j_c </td>\\n                    <td >I<sub>kc</sub> =  @i_k_c_m &ang; @deg_k_c </td>\\n                </tr>\\n                <tr>\\n                    <td >I<sub>jn</sub> =  @i_j_n_m &ang; @deg_j_n </td>\\n                    <td >I<sub>kn</sub> =  @i_k_n_m &ang; @deg_k_n </td>\\n                </tr>\\n            </table>            \\n            </div>\\n            \"},\"id\":\"3838\",\"type\":\"HoverTool\"},{\"attributes\":{\"bottom_units\":\"screen\",\"fill_alpha\":{\"value\":0.5},\"fill_color\":{\"value\":\"lightgrey\"},\"left_units\":\"screen\",\"level\":\"overlay\",\"line_alpha\":{\"value\":1.0},\"line_color\":{\"value\":\"black\"},\"line_dash\":[4,4],\"line_width\":{\"value\":2},\"render_mode\":\"css\",\"right_units\":\"screen\",\"top_units\":\"screen\"},\"id\":\"4003\",\"type\":\"BoxAnnotation\"},{\"attributes\":{\"active_drag\":\"auto\",\"active_inspect\":\"auto\",\"active_multi\":null,\"active_scroll\":\"auto\",\"active_tap\":\"auto\",\"tools\":[{\"id\":\"3805\",\"type\":\"PanTool\"},{\"id\":\"3806\",\"type\":\"WheelZoomTool\"},{\"id\":\"3807\",\"type\":\"BoxZoomTool\"},{\"id\":\"3808\",\"type\":\"SaveTool\"},{\"id\":\"3809\",\"type\":\"ResetTool\"},{\"id\":\"3810\",\"type\":\"HelpTool\"},{\"id\":\"3836\",\"type\":\"HoverTool\"},{\"id\":\"3838\",\"type\":\"HoverTool\"},{\"id\":\"3840\",\"type\":\"HoverTool\"}]},\"id\":\"3811\",\"type\":\"Toolbar\"},{\"attributes\":{\"line_alpha\":{\"value\":0.1},\"line_color\":{\"value\":\"#1f77b4\"},\"line_width\":{\"value\":5},\"xs\":{\"field\":\"x_s\"},\"ys\":{\"field\":\"y_s\"}},\"id\":\"3821\",\"type\":\"MultiLine\"},{\"attributes\":{},\"id\":\"4004\",\"type\":\"UnionRenderers\"},{\"attributes\":{},\"id\":\"3808\",\"type\":\"SaveTool\"},{\"attributes\":{\"source\":{\"id\":\"3818\",\"type\":\"ColumnDataSource\"}},\"id\":\"3823\",\"type\":\"CDSView\"},{\"attributes\":{\"overlay\":{\"id\":\"4003\",\"type\":\"BoxAnnotation\"}},\"id\":\"3807\",\"type\":\"BoxZoomTool\"},{\"attributes\":{},\"id\":\"4009\",\"type\":\"Selection\"},{\"attributes\":{},\"id\":\"3809\",\"type\":\"ResetTool\"},{\"attributes\":{\"line_alpha\":{\"value\":0.1},\"line_color\":{\"value\":\"#1f77b4\"},\"line_width\":{\"value\":5},\"xs\":{\"field\":\"x_s\"},\"ys\":{\"field\":\"y_s\"}},\"id\":\"3827\",\"type\":\"MultiLine\"},{\"attributes\":{\"data_source\":{\"id\":\"3830\",\"type\":\"ColumnDataSource\"},\"glyph\":{\"id\":\"3832\",\"type\":\"Circle\"},\"hover_glyph\":null,\"muted_glyph\":null,\"nonselection_glyph\":{\"id\":\"3833\",\"type\":\"Circle\"},\"selection_glyph\":null,\"view\":{\"id\":\"3835\",\"type\":\"CDSView\"}},\"id\":\"3834\",\"type\":\"GlyphRenderer\"},{\"attributes\":{\"callback\":null,\"renderers\":[{\"id\":\"3822\",\"type\":\"GlyphRenderer\"}],\"tooltips\":\"\\n            <div>\\n            transformer id = @trafo_id  \\n            <table border=\\\"5\\\">\\n                <tr >\\n                    <td>I<sub>1a</sub> =  @i_1a_m &ang; @deg_1a </td>\\n                    <td>I<sub>2a</sub> =  @i_2a_m &ang; @deg_2a </td>\\n                </tr>\\n                <tr>\\n                    <td >I<sub>1b</sub> =  @i_1b_m &ang; @deg_1b </td>\\n                    <td >I<sub>2b</sub> =  @i_2b_m &ang; @deg_2b </td>\\n                </tr>\\n                <tr>\\n                    <td >I<sub>1c</sub> =  @i_1c_m &ang; @deg_1c </td>\\n                    <td >I<sub>2c</sub> =  @i_2c_m &ang; @deg_2c </td>\\n                </tr>\\n                <tr>\\n                    <td >I<sub>1n</sub> =  @i_1n_m &ang; @deg_1n </td>\\n                    <td >I<sub>2n</sub> =  @i_2n_m &ang; @deg_2n </td>\\n                </tr>\\n            </table>            \\n            </div>\\n            \"},\"id\":\"3836\",\"type\":\"HoverTool\"},{\"attributes\":{},\"id\":\"4005\",\"type\":\"Selection\"},{\"attributes\":{\"formatter\":{\"id\":\"3999\",\"type\":\"BasicTickFormatter\"},\"ticker\":{\"id\":\"3796\",\"type\":\"BasicTicker\"}},\"id\":\"3795\",\"type\":\"LinearAxis\"},{\"attributes\":{\"line_alpha\":{\"value\":0.5},\"line_color\":{\"value\":\"red\"},\"line_width\":{\"value\":5},\"xs\":{\"field\":\"x_s\"},\"ys\":{\"field\":\"y_s\"}},\"id\":\"3826\",\"type\":\"MultiLine\"},{\"attributes\":{\"dimension\":1,\"ticker\":{\"id\":\"3801\",\"type\":\"BasicTicker\"}},\"id\":\"3804\",\"type\":\"Grid\"},{\"attributes\":{\"ticker\":{\"id\":\"3796\",\"type\":\"BasicTicker\"}},\"id\":\"3799\",\"type\":\"Grid\"},{\"attributes\":{\"callback\":null,\"data\":{\"deg_1a\":[],\"deg_1b\":[],\"deg_1c\":[],\"deg_1n\":[],\"deg_2a\":[],\"deg_2b\":[],\"deg_2c\":[],\"deg_2n\":[],\"i_1a_m\":[],\"i_1b_m\":[],\"i_1c_m\":[],\"i_1n_m\":[],\"i_2a_m\":[],\"i_2b_m\":[],\"i_2c_m\":[],\"i_2n_m\":[],\"trafo_id\":[],\"x_s\":[],\"y_s\":[]},\"selected\":{\"id\":\"4005\",\"type\":\"Selection\"},\"selection_policy\":{\"id\":\"4004\",\"type\":\"UnionRenderers\"}},\"id\":\"3818\",\"type\":\"ColumnDataSource\"},{\"attributes\":{\"source\":{\"id\":\"3830\",\"type\":\"ColumnDataSource\"}},\"id\":\"3835\",\"type\":\"CDSView\"},{\"attributes\":{\"text\":\"Results\"},\"id\":\"3785\",\"type\":\"Title\"},{\"attributes\":{},\"id\":\"4006\",\"type\":\"UnionRenderers\"},{\"attributes\":{},\"id\":\"3806\",\"type\":\"WheelZoomTool\"},{\"attributes\":{\"callback\":null,\"renderers\":[{\"id\":\"3834\",\"type\":\"GlyphRenderer\"}],\"tooltips\":\"\\n            <div>\\n            bus_id = @bus_id &nbsp &nbsp |  u<sub>avg</sub>= @u_avg_pu pu |  u<sub>unb</sub>= @v_unb %\\n            <table border=\\\"1\\\">\\n                <tr>\\n                <td>v<sub>an</sub> =  @v_an  &ang; @deg_an V </td> <td> S<sub>a</sub> = @p_a + j@q_a kVA</td>\\n                </tr>\\n                      <tr>\\n                      <td> </td> <td>v<sub>ab</sub>= @v_ab V</td>\\n                      </tr>\\n                <tr>\\n                <td>v<sub>bn</sub> = @v_bn &ang; @deg_bn V </td><td> S<sub>b</sub> = @p_b + j@q_b kVA</td>\\n                </tr>\\n                      <tr>\\n                      <td> </td><td>v<sub>bc</sub>= @v_bc V</td>\\n                      </tr>\\n                <tr>\\n                <td>v<sub>cn</sub>  = @v_cn &ang; @deg_cn V </td>  <td>S<sub>c</sub> = @p_c + j@q_c kVA </td>\\n                </tr> \\n                    <tr>\\n                     <td> </td> <td>v<sub>ca</sub>= @v_ca V</td>\\n                    </tr>\\n               <tr>\\n                <td>v<sub>ng</sub>    = @v_ng &ang; @deg_ng V</td>  <td>S<sub>abc</sub> = @p_abc + j@q_abc kVA </td>\\n              </tr>\\n            </table>\\n            </div>\\n            \"},\"id\":\"3840\",\"type\":\"HoverTool\"},{\"attributes\":{\"callback\":null},\"id\":\"3787\",\"type\":\"DataRange1d\"},{\"attributes\":{},\"id\":\"3805\",\"type\":\"PanTool\"},{\"attributes\":{\"callback\":null,\"data\":{\"bus_id\":[\"B1\",\"B2\"],\"deg_an\":[\"0.00\",\"0.00\"],\"deg_bn\":[\"-120.00\",\"-120.00\"],\"deg_cn\":[\"120.00\",\"120.00\"],\"deg_ng\":[\"0.00\",\"0.00\"],\"p_a\":[\"4858.48\",\"-4627.12\"],\"p_abc\":[\"14575.44\",\"-13881.37\"],\"p_b\":[\"4858.48\",\"-4627.12\"],\"p_c\":[\"4858.48\",\"-4627.12\"],\"q_a\":[\"50143.86\",\"-47756.06\"],\"q_abc\":[\"150431.59\",\"-143268.18\"],\"q_b\":[\"50143.86\",\"-47756.06\"],\"q_c\":[\"50143.86\",\"-47756.06\"],\"s_color\":[\"red\",\"green\"],\"s_radio\":[20,20],\"u_avg_pu\":[\"1.050\",\"1.000\"],\"v_ab\":[420000.0,400000.00000000006],\"v_an\":[\"242487.11\",\"230940.11\"],\"v_an_pu\":[\"1.0500\",\"1.0000\"],\"v_bc\":[420000.0,400000.0],\"v_bn\":[\"242487.11\",\"230940.11\"],\"v_bn_pu\":[\"1.0500\",\"1.0000\"],\"v_ca\":[420000.0000000001,400000.0000000001],\"v_cn\":[\"242487.11\",\"230940.11\"],\"v_cn_pu\":[\"1.0500\",\"1.0000\"],\"v_ng\":[\"0.00\",\"0.00\"],\"v_unb\":[\"0.0\",\"0.0\"],\"x\":[0,10],\"y\":[0,0]},\"selected\":{\"id\":\"4009\",\"type\":\"Selection\"},\"selection_policy\":{\"id\":\"4008\",\"type\":\"UnionRenderers\"}},\"id\":\"3830\",\"type\":\"ColumnDataSource\"},{\"attributes\":{\"fill_alpha\":{\"value\":0.1},\"fill_color\":{\"value\":\"#1f77b4\"},\"line_alpha\":{\"value\":0.1},\"line_color\":{\"value\":\"#1f77b4\"},\"size\":{\"units\":\"screen\",\"value\":15},\"x\":{\"field\":\"x\"},\"y\":{\"field\":\"y\"}},\"id\":\"3833\",\"type\":\"Circle\"},{\"attributes\":{},\"id\":\"4001\",\"type\":\"BasicTickFormatter\"},{\"attributes\":{\"formatter\":{\"id\":\"4001\",\"type\":\"BasicTickFormatter\"},\"ticker\":{\"id\":\"3801\",\"type\":\"BasicTicker\"}},\"id\":\"3800\",\"type\":\"LinearAxis\"},{\"attributes\":{},\"id\":\"3791\",\"type\":\"LinearScale\"},{\"attributes\":{},\"id\":\"3793\",\"type\":\"LinearScale\"},{\"attributes\":{\"fill_alpha\":{\"value\":0.5},\"fill_color\":{\"value\":\"navy\"},\"line_alpha\":{\"value\":0.5},\"line_color\":{\"value\":\"navy\"},\"size\":{\"units\":\"screen\",\"value\":15},\"x\":{\"field\":\"x\"},\"y\":{\"field\":\"y\"}},\"id\":\"3832\",\"type\":\"Circle\"},{\"attributes\":{\"callback\":null},\"id\":\"3789\",\"type\":\"DataRange1d\"},{\"attributes\":{},\"id\":\"3796\",\"type\":\"BasicTicker\"},{\"attributes\":{},\"id\":\"3801\",\"type\":\"BasicTicker\"},{\"attributes\":{},\"id\":\"3999\",\"type\":\"BasicTickFormatter\"},{\"attributes\":{\"data_source\":{\"id\":\"3818\",\"type\":\"ColumnDataSource\"},\"glyph\":{\"id\":\"3820\",\"type\":\"MultiLine\"},\"hover_glyph\":null,\"muted_glyph\":null,\"nonselection_glyph\":{\"id\":\"3821\",\"type\":\"MultiLine\"},\"selection_glyph\":null,\"view\":{\"id\":\"3823\",\"type\":\"CDSView\"}},\"id\":\"3822\",\"type\":\"GlyphRenderer\"},{\"attributes\":{},\"id\":\"4008\",\"type\":\"UnionRenderers\"},{\"attributes\":{},\"id\":\"4007\",\"type\":\"Selection\"},{\"attributes\":{\"callback\":null,\"data\":{\"deg_j_a\":[-84.46583988540242],\"deg_j_b\":[155.53416011459777],\"deg_j_c\":[35.53416011459775],\"deg_j_n\":[0.0],\"deg_k_a\":[-84.46583988540242],\"deg_k_b\":[155.53416011459777],\"deg_k_c\":[35.53416011459775],\"deg_k_n\":[0.0],\"i_j_a_m\":[207.75819555932415],\"i_j_b_m\":[207.75819555932395],\"i_j_c_m\":[207.7581955593236],\"i_j_n_m\":[0.0],\"i_k_a_m\":[207.75819555932415],\"i_k_b_m\":[207.75819555932395],\"i_k_c_m\":[207.7581955593236],\"i_k_n_m\":[0.0],\"line_id\":[\"B1-B2\"],\"x_s\":[[0,10]],\"y_s\":[[0,0]]},\"selected\":{\"id\":\"4007\",\"type\":\"Selection\"},\"selection_policy\":{\"id\":\"4006\",\"type\":\"UnionRenderers\"}},\"id\":\"3824\",\"type\":\"ColumnDataSource\"}],\"root_ids\":[\"3784\"]},\"title\":\"Bokeh Application\",\"version\":\"1.4.0\"}};\n",
       "  var render_items = [{\"docid\":\"6edc2d09-8305-4826-be4e-d2065a890459\",\"roots\":{\"3784\":\"b30f4def-33df-4e3e-93e8-a8122bf61962\"}}];\n",
       "  root.Bokeh.embed.embed_items_notebook(docs_json, render_items);\n",
       "\n",
       "  }\n",
       "  if (root.Bokeh !== undefined) {\n",
       "    embed_document(root);\n",
       "  } else {\n",
       "    var attempts = 0;\n",
       "    var timer = setInterval(function(root) {\n",
       "      if (root.Bokeh !== undefined) {\n",
       "        clearInterval(timer);\n",
       "        embed_document(root);\n",
       "      } else {\n",
       "        attempts++;\n",
       "        if (attempts > 100) {\n",
       "          clearInterval(timer);\n",
       "          console.log(\"Bokeh: ERROR: Unable to run BokehJS code because BokehJS library is missing\");\n",
       "        }\n",
       "      }\n",
       "    }, 10, root)\n",
       "  }\n",
       "})(window);"
      ],
      "application/vnd.bokehjs_exec.v0+json": ""
     },
     "metadata": {
      "application/vnd.bokehjs_exec.v0+json": {
       "id": "3784"
      }
     },
     "output_type": "display_data"
    }
   ],
   "source": [
    "grid_hv = grid()\n",
    "grid_hv.read(data)  # Load data\n",
    "grid_hv.pf()  # solve power flow\n",
    "p=plot_results(grid_hv)"
   ]
  },
  {
   "cell_type": "code",
   "execution_count": 40,
   "metadata": {},
   "outputs": [
    {
     "name": "stdout",
     "output_type": "stream",
     "text": [
      "system without dynamic equations, adding dummy dynamic equation\n"
     ]
    }
   ],
   "source": [
    "grid_dict = pydgrid2pydae(grid_hv)\n",
    "params_dict  = grid_dict['params']\n",
    "f_list = grid_dict['f']\n",
    "x_list = grid_dict['x']\n",
    "g_list = grid_dict['g']\n",
    "y_list = grid_dict['y']\n",
    "u_dict = grid_dict['u']\n",
    "a = sym.Symbol('a')\n",
    "h_dict = grid_dict['h_dict']\n",
    "\n",
    "sys_dict = {'name':'grid_2bus4wire_hv',\n",
    "           'params_dict':params_dict,\n",
    "           'f_list':f_list,\n",
    "           'g_list':g_list,\n",
    "           'x_list':x_list,\n",
    "           'y_ini_list':y_list,\n",
    "           'y_run_list':y_list,\n",
    "           'u_run_dict':u_dict,\n",
    "           'u_ini_dict':u_dict,\n",
    "           'h_dict':h_dict\n",
    "           }\n",
    "\n",
    "db.system(sys_dict)\n",
    "db.sys2num(sys_dict)\n",
    "\n",
    "data = json.dumps(grid_dict['xy_0_dict'], indent=4)\n",
    "fobj = open(\"grid_2bus4wire_hv_xy0.json\",\"w\")\n",
    "fobj.write(data)\n",
    "fobj.close()"
   ]
  },
  {
   "cell_type": "code",
   "execution_count": null,
   "metadata": {},
   "outputs": [],
   "source": []
  }
 ],
 "metadata": {
  "kernelspec": {
   "display_name": "Python 3",
   "language": "python",
   "name": "python3"
  },
  "language_info": {
   "codemirror_mode": {
    "name": "ipython",
    "version": 3
   },
   "file_extension": ".py",
   "mimetype": "text/x-python",
   "name": "python",
   "nbconvert_exporter": "python",
   "pygments_lexer": "ipython3",
   "version": "3.8.5"
  }
 },
 "nbformat": 4,
 "nbformat_minor": 4
}
