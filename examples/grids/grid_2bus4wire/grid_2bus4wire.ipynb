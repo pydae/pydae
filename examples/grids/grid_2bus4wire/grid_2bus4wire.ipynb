{
 "cells": [
  {
   "cell_type": "code",
   "execution_count": 1,
   "metadata": {},
   "outputs": [],
   "source": [
    "%matplotlib widget"
   ]
  },
  {
   "cell_type": "code",
   "execution_count": 2,
   "metadata": {},
   "outputs": [],
   "source": [
    "import numpy as np\n",
    "import scipy.optimize as sopt\n",
    "import matplotlib.pyplot as plt\n",
    "#import pydae.ssa as ssa\n",
    "#import pydae.grid_tools as gt\n",
    "import time\n",
    "import json\n",
    "plt.style.use('presentation.mplstyle')"
   ]
  },
  {
   "cell_type": "code",
   "execution_count": 3,
   "metadata": {},
   "outputs": [],
   "source": [
    "from grid_2bus4wire import grid_2bus4wire_class"
   ]
  },
  {
   "cell_type": "code",
   "execution_count": 4,
   "metadata": {},
   "outputs": [],
   "source": [
    "def get_flow(grid_obj,bus_j,bus_k,mode='total',model='pydgrid_pydae'):\n",
    "    if model == 'pydgrid_pydae':\n",
    "        v_a   = syst.get_values(f'v_{bus_j}_a_r') + 1j* syst.get_values(f'v_{bus_j}_a_i')\n",
    "        i_l_a = syst.get_values(f'i_l_{bus_j}_{bus_k}_a_r') + 1j* syst.get_values(f'i_l_{bus_j}_{bus_k}_a_i')\n",
    "        v_b   = syst.get_values(f'v_{bus_j}_b_r') + 1j* syst.get_values(f'v_{bus_j}_b_i')\n",
    "        i_l_b = syst.get_values(f'i_l_{bus_j}_{bus_k}_b_r') + 1j* syst.get_values(f'i_l_{bus_j}_{bus_k}_b_i')\n",
    "        v_c   = syst.get_values(f'v_{bus_j}_c_r') + 1j* syst.get_values(f'v_{bus_j}_c_i')\n",
    "        i_l_c = syst.get_values(f'i_l_{bus_j}_{bus_k}_c_r') + 1j* syst.get_values(f'i_l_{bus_j}_{bus_k}_c_i')\n",
    "        s_a = v_a*np.conj(i_l_a)\n",
    "        s_b = v_b*np.conj(i_l_b)\n",
    "        s_c = v_c*np.conj(i_l_c)\n",
    "\n",
    "        if mode == 'total':\n",
    "            s_t = s_a + s_b + s_c\n",
    "            return s_t\n",
    "        if mode == 'abc':\n",
    "            return s_a,s_b,s_c\n",
    "        \n",
    "def set_voltage(grid_obj,bus_name,voltage,phase):\n",
    "    '''\n",
    "    Set new power to a grid feeder.\n",
    "\n",
    "    Parameters\n",
    "    ----------\n",
    "    grid_obj : object of pydgrid.grid class\n",
    "    bus_name : string\n",
    "        name of the grid feeder bus.\n",
    "    voltage : real escalar\n",
    "        phase-phase RMS voltage magnitude\n",
    "    phase : real escalar.\n",
    "        phase angle in degree.\n",
    "\n",
    "    Returns\n",
    "    -------\n",
    "    None.\n",
    "\n",
    "    '''\n",
    "\n",
    " \n",
    "    v_a = voltage/np.sqrt(3)*np.exp(1j*np.deg2rad(phase))\n",
    "    v_b = voltage/np.sqrt(3)*np.exp(1j*np.deg2rad(phase-240))\n",
    "    v_c = voltage/np.sqrt(3)*np.exp(1j*np.deg2rad(phase-120))\n",
    "    grid_obj.set_value(f'v_{bus_name}_a_r',v_a.real)\n",
    "    grid_obj.set_value(f'v_{bus_name}_a_i',v_a.imag)\n",
    "    grid_obj.set_value(f'v_{bus_name}_b_r',v_b.real)\n",
    "    grid_obj.set_value(f'v_{bus_name}_b_i',v_b.imag)\n",
    "    grid_obj.set_value(f'v_{bus_name}_c_r',v_c.real)\n",
    "    grid_obj.set_value(f'v_{bus_name}_c_i',v_c.imag)\n",
    "    \n",
    "def phasor2inst(grid_obj,bus_name,magnitude='v',to_bus='',phases=['a','b','c'],Freq = 50,Dt=1e-4):\n",
    "    \n",
    "    omega = 2*np.pi*Freq\n",
    "    out = []\n",
    "    \n",
    "    if magnitude == 'v':\n",
    "        for ph in phases:\n",
    "            Times = np.arange(0.0,grid_obj.T[-1,0],Dt)\n",
    "            R = grid_obj.get_values(f'{magnitude}_{bus_name}_{ph}_r') \n",
    "            I = grid_obj.get_values(f'{magnitude}_{bus_name}_{ph}_i')\n",
    "            R_ = np.interp(Times,grid_obj.T[:,0],R)\n",
    "            I_ = np.interp(Times,grid_obj.T[:,0],I)\n",
    "            R_I = R_ + 1j*I_\n",
    "            cplx = np.sqrt(2)*np.exp(1j*omega*Times)*R_I\n",
    "            out += [cplx.real]\n",
    "\n",
    "    if magnitude == 'iline':\n",
    "        for ph in phases:\n",
    "            Times = np.arange(0.0,grid_obj.T[-1,0],Dt)\n",
    "            R = grid_obj.get_values(f'i_l_{bus_name}_{to_bus}_{ph}_r') \n",
    "            I = grid_obj.get_values(f'i_l_{bus_name}_{to_bus}_{ph}_i')\n",
    "            R_ = np.interp(Times,grid_obj.T[:,0],R)\n",
    "            I_ = np.interp(Times,grid_obj.T[:,0],I)\n",
    "            R_I = R_ + 1j*I_\n",
    "            cplx = np.sqrt(2)*np.exp(1j*omega*Times)*R_I\n",
    "            out += [cplx.real]\n",
    "\n",
    "    return Times,out"
   ]
  },
  {
   "cell_type": "code",
   "execution_count": 5,
   "metadata": {},
   "outputs": [],
   "source": [
    "syst = grid_2bus4wire_class()\n",
    "syst.Dt = 1e-3\n",
    "syst.decimation =1 \n",
    "syst.update()"
   ]
  },
  {
   "cell_type": "code",
   "execution_count": 6,
   "metadata": {},
   "outputs": [],
   "source": [
    "syst.initialization_tol = 1e-8\n",
    "\n",
    "set_voltage(syst,'B1',400,0.0)\n",
    "set_voltage(syst,'B2',400,0.0)\n",
    "\n",
    "syst.initialize([{}],xy0=200)\n",
    "syst.run([{'t_end':0.04}])\n",
    "set_voltage(syst,'B1',405,0.0)\n",
    "set_voltage(syst,'B2',400,0.0)\n",
    "syst.run([{'t_end':0.08}])\n",
    "syst.post();\n"
   ]
  },
  {
   "cell_type": "code",
   "execution_count": 7,
   "metadata": {},
   "outputs": [
    {
     "data": {
      "application/vnd.jupyter.widget-view+json": {
       "model_id": "7a1074baf1c343b9ab2d117dbdb6e55d",
       "version_major": 2,
       "version_minor": 0
      },
      "text/plain": [
       "Canvas(toolbar=Toolbar(toolitems=[('Home', 'Reset original view', 'home', 'home'), ('Back', 'Back to previous …"
      ]
     },
     "metadata": {},
     "output_type": "display_data"
    }
   ],
   "source": [
    "plt.close('all')\n",
    "fig, axes = plt.subplots(nrows=1,ncols=2, figsize=(8, 3), frameon=False, dpi=100, squeeze=False)\n",
    "\n",
    "axes[0,0].plot(syst.T, syst.get_values('v_B1_a_r'), label=\"$V_{B1}$\")\n",
    "\n",
    "fig.tight_layout()\n",
    "fig.savefig('sim.svg')"
   ]
  },
  {
   "cell_type": "code",
   "execution_count": 10,
   "metadata": {},
   "outputs": [
    {
     "data": {
      "application/vnd.jupyter.widget-view+json": {
       "model_id": "ecfc838dc3ce4fe1a467ed5c6b918abf",
       "version_major": 2,
       "version_minor": 0
      },
      "text/plain": [
       "Canvas(toolbar=Toolbar(toolitems=[('Home', 'Reset original view', 'home', 'home'), ('Back', 'Back to previous …"
      ]
     },
     "metadata": {},
     "output_type": "display_data"
    }
   ],
   "source": [
    "plt.close('all')\n",
    "fig, axes = plt.subplots(nrows=2,ncols=2, figsize=(9, 4), frameon=False, dpi=100, squeeze=False)\n",
    "\n",
    "Times,[v_1_a,v_1_b,v_1_c] = phasor2inst(syst,'B1')\n",
    "axes[0,0].plot(Times, v_1_a, label=\"$V_{B1}$\")\n",
    "axes[0,0].plot(Times, v_1_b, label=\"$V_{B1}$\")\n",
    "axes[0,0].plot(Times, v_1_c, label=\"$V_{B1}$\")\n",
    "\n",
    "Times,[v_2_a,v_2_b,v_2_c] = phasor2inst(syst,'B2')\n",
    "axes[0,0].plot(Times, v_2_a, label=\"$V_{B2}$\")\n",
    "axes[0,0].plot(Times, v_2_b, label=\"$V_{B2}$\")\n",
    "axes[0,0].plot(Times, v_2_c, label=\"$V_{B2}$\")\n",
    "\n",
    "Times,[v_1_a,v_1_b,v_1_c] = phasor2inst(syst,'B1')\n",
    "axes[1,0].plot(Times, v_1_a, label=\"$V_{B1}$\")\n",
    "axes[1,0].plot(Times, v_1_b, label=\"$V_{B1}$\")\n",
    "axes[1,0].plot(Times, v_1_c, label=\"$V_{B1}$\")\n",
    "\n",
    "Times,[v_2_a,v_2_b,v_2_c] = phasor2inst(syst,'B2')\n",
    "axes[1,0].plot(Times, v_2_a, label=\"$V_{B2}$\")\n",
    "axes[1,0].plot(Times, v_2_b, label=\"$V_{B2}$\")\n",
    "axes[1,0].plot(Times, v_2_c, label=\"$V_{B2}$\")\n",
    "\n",
    "Times,[i_a,i_b,i_c] = phasor2inst(syst,'B1',magnitude='iline',to_bus='B2')\n",
    "axes[0,1].plot(Times, i_a, label=\"$V_{B1}$\")\n",
    "axes[0,1].plot(Times, i_b, label=\"$V_{B1}$\")\n",
    "axes[0,1].plot(Times, i_c, label=\"$V_{B1}$\")\n",
    "\n",
    "p_a = v_1_a*i_a\n",
    "p_b = v_1_b*i_b\n",
    "p_c = v_1_c*i_c\n",
    "p_t = p_a + p_b + p_c\n",
    "\n",
    "axes[1,1].plot(Times, p_a, label=\"$V_{B1}$\")\n",
    "axes[1,1].plot(Times, p_b, label=\"$V_{B1}$\")\n",
    "axes[1,1].plot(Times, p_c, label=\"$V_{B1}$\")\n",
    "axes[1,1].plot(Times, p_t, label=\"$V_{B1}$\")\n",
    "\n",
    "s_t = get_flow(syst,'B1','B2')\n",
    "axes[1,1].plot(syst.T, s_t.real, label=\"$V_{B1}$\")\n",
    "axes[1,1].plot(syst.T, s_t.imag, label=\"$V_{B1}$\")\n",
    "\n",
    "\n",
    "axes[1,0].set_ylim([315,335])\n",
    "fig.tight_layout()\n",
    "fig.savefig('sim.svg')"
   ]
  },
  {
   "cell_type": "code",
   "execution_count": 9,
   "metadata": {},
   "outputs": [
    {
     "data": {
      "text/plain": [
       "(48703.66589868445+23331.09743649554j)"
      ]
     },
     "execution_count": 9,
     "metadata": {},
     "output_type": "execute_result"
    }
   ],
   "source": [
    "r_km = 0.167 \n",
    "x_km =   0.08\n",
    "Len = 0.2\n",
    "R_12 = Len*r_km \n",
    "X_12 = Len*x_km\n",
    "Z_12 = R_12 + 1j*X_12\n",
    "V_1 = 405/np.sqrt(3)\n",
    "V_2 = 400/np.sqrt(3)\n",
    "\n",
    "I_12 = (V_1-V_2)/Z_12\n",
    "\n",
    "S_2 = 3*V_2*np.conj(I_12)\n",
    "S_2"
   ]
  },
  {
   "cell_type": "code",
   "execution_count": 50,
   "metadata": {},
   "outputs": [
    {
     "data": {
      "text/plain": [
       "array([ 8.94894913e-11,  1.41999192e-10, -1.55299108e-11,  3.69797902e-11,\n",
       "        8.94894913e-11,  1.41999192e-10, -1.55299108e-11,  3.69797902e-11,\n",
       "        8.94894913e-11,  1.41999192e-10, -1.55299108e-11,  3.69797902e-11,\n",
       "        8.94894913e-11,  1.41999192e-10, -1.55299108e-11,  3.69797902e-11,\n",
       "        8.94894913e-11,  1.41999192e-10, -1.55299108e-11,  3.69797902e-11,\n",
       "        8.94894913e-11,  1.41999192e-10, -1.55299108e-11,  3.69797902e-11,\n",
       "        8.94894913e-11,  1.41999192e-10, -1.55299108e-11,  3.69797902e-11,\n",
       "        8.94894913e-11,  1.41999192e-10, -1.55299108e-11,  3.69797902e-11,\n",
       "        8.94894913e-11,  1.41999192e-10, -1.55299108e-11,  3.69797902e-11,\n",
       "        8.94894913e-11,  1.41999192e-10, -1.55299108e-11,  3.69797902e-11,\n",
       "        8.94894913e-11,  2.36227362e+04,  2.36227362e+04,  2.36227362e+04,\n",
       "        2.36227362e+04,  2.36227362e+04,  2.36227362e+04,  2.36227362e+04,\n",
       "        2.36227362e+04,  2.36227362e+04,  2.36227362e+04,  2.36227362e+04,\n",
       "        2.36227362e+04,  2.36227362e+04,  2.36227362e+04,  2.36227362e+04,\n",
       "        2.36227362e+04,  2.36227362e+04,  2.36227362e+04,  2.36227362e+04,\n",
       "        2.36227362e+04,  2.36227362e+04,  2.36227362e+04,  2.36227362e+04,\n",
       "        2.36227362e+04,  2.36227362e+04,  2.36227362e+04,  2.36227362e+04,\n",
       "        2.36227362e+04,  2.36227362e+04,  2.36227362e+04,  2.36227362e+04,\n",
       "        2.36227362e+04,  2.36227362e+04,  2.36227362e+04,  2.36227362e+04,\n",
       "        2.36227362e+04,  2.36227362e+04,  2.36227362e+04,  2.36227362e+04])"
      ]
     },
     "execution_count": 50,
     "metadata": {},
     "output_type": "execute_result"
    }
   ],
   "source": [
    "s_t.imag"
   ]
  },
  {
   "cell_type": "code",
   "execution_count": 19,
   "metadata": {},
   "outputs": [],
   "source": [
    "def get_voltage(grid_obj,bus_name):\n",
    "    '''\n",
    "    Get voltage module of a bus.\n",
    "\n",
    "    Parameters\n",
    "    ----------\n",
    "    grid_obj : object of pydae class\n",
    "    bus_name : string\n",
    "        name of the bus.\n",
    "\n",
    "    Returns\n",
    "    -------\n",
    "    phase-ground voltage module (V).\n",
    "\n",
    "    '''\n",
    "    v_a = syst.get_value(f'v_{bus_name}_a_r') + 1j* syst.get_value(f'v_{bus_name}_a_i')\n",
    "    U_meas = np.abs(v_a) \n",
    "    \n",
    "    return U_meas\n",
    "\n"
   ]
  },
  {
   "cell_type": "code",
   "execution_count": 20,
   "metadata": {},
   "outputs": [
    {
     "data": {
      "text/plain": [
       "array([4.16122707e-12+8.94894913e-11j, 4.16122707e-12+1.41999192e-10j,\n",
       "       4.16122707e-12-1.55299108e-11j, 4.16122707e-12+3.69797902e-11j,\n",
       "       4.16122707e-12+8.94894913e-11j, 4.16122707e-12+1.41999192e-10j,\n",
       "       4.16122707e-12-1.55299108e-11j, 4.16122707e-12+3.69797902e-11j,\n",
       "       4.16122707e-12+8.94894913e-11j, 4.16122707e-12+1.41999192e-10j,\n",
       "       4.16122707e-12-1.55299108e-11j, 4.16122707e-12+3.69797902e-11j,\n",
       "       4.16122707e-12+8.94894913e-11j, 4.16122707e-12+1.41999192e-10j,\n",
       "       4.16122707e-12-1.55299108e-11j, 4.16122707e-12+3.69797902e-11j,\n",
       "       4.16122707e-12+8.94894913e-11j, 4.16122707e-12+1.41999192e-10j,\n",
       "       4.16122707e-12-1.55299108e-11j, 4.16122707e-12+3.69797902e-11j,\n",
       "       4.16122707e-12+8.94894913e-11j, 4.16122707e-12+1.41999192e-10j,\n",
       "       4.16122707e-12-1.55299108e-11j, 4.16122707e-12+3.69797902e-11j,\n",
       "       4.16122707e-12+8.94894913e-11j, 4.16122707e-12+1.41999192e-10j,\n",
       "       4.16122707e-12-1.55299108e-11j, 4.16122707e-12+3.69797902e-11j,\n",
       "       4.16122707e-12+8.94894913e-11j, 4.16122707e-12+1.41999192e-10j,\n",
       "       4.16122707e-12-1.55299108e-11j, 4.16122707e-12+3.69797902e-11j,\n",
       "       4.16122707e-12+8.94894913e-11j, 4.16122707e-12+1.41999192e-10j,\n",
       "       4.16122707e-12-1.55299108e-11j, 4.16122707e-12+3.69797902e-11j,\n",
       "       4.16122707e-12+8.94894913e-11j, 4.16122707e-12+1.41999192e-10j,\n",
       "       4.16122707e-12-1.55299108e-11j, 4.16122707e-12+3.69797902e-11j,\n",
       "       4.16122707e-12+8.94894913e-11j, 4.93124617e+04+2.36227362e+04j,\n",
       "       4.93124617e+04+2.36227362e+04j, 4.93124617e+04+2.36227362e+04j,\n",
       "       4.93124617e+04+2.36227362e+04j, 4.93124617e+04+2.36227362e+04j,\n",
       "       4.93124617e+04+2.36227362e+04j, 4.93124617e+04+2.36227362e+04j,\n",
       "       4.93124617e+04+2.36227362e+04j, 4.93124617e+04+2.36227362e+04j,\n",
       "       4.93124617e+04+2.36227362e+04j, 4.93124617e+04+2.36227362e+04j,\n",
       "       4.93124617e+04+2.36227362e+04j, 4.93124617e+04+2.36227362e+04j,\n",
       "       4.93124617e+04+2.36227362e+04j, 4.93124617e+04+2.36227362e+04j,\n",
       "       4.93124617e+04+2.36227362e+04j, 4.93124617e+04+2.36227362e+04j,\n",
       "       4.93124617e+04+2.36227362e+04j, 4.93124617e+04+2.36227362e+04j,\n",
       "       4.93124617e+04+2.36227362e+04j, 4.93124617e+04+2.36227362e+04j,\n",
       "       4.93124617e+04+2.36227362e+04j, 4.93124617e+04+2.36227362e+04j,\n",
       "       4.93124617e+04+2.36227362e+04j, 4.93124617e+04+2.36227362e+04j,\n",
       "       4.93124617e+04+2.36227362e+04j, 4.93124617e+04+2.36227362e+04j,\n",
       "       4.93124617e+04+2.36227362e+04j, 4.93124617e+04+2.36227362e+04j,\n",
       "       4.93124617e+04+2.36227362e+04j, 4.93124617e+04+2.36227362e+04j,\n",
       "       4.93124617e+04+2.36227362e+04j, 4.93124617e+04+2.36227362e+04j,\n",
       "       4.93124617e+04+2.36227362e+04j, 4.93124617e+04+2.36227362e+04j,\n",
       "       4.93124617e+04+2.36227362e+04j, 4.93124617e+04+2.36227362e+04j,\n",
       "       4.93124617e+04+2.36227362e+04j, 4.93124617e+04+2.36227362e+04j])"
      ]
     },
     "execution_count": 20,
     "metadata": {},
     "output_type": "execute_result"
    }
   ],
   "source": []
  },
  {
   "cell_type": "code",
   "execution_count": null,
   "metadata": {},
   "outputs": [],
   "source": []
  }
 ],
 "metadata": {
  "kernelspec": {
   "display_name": "Python 3",
   "language": "python",
   "name": "python3"
  },
  "language_info": {
   "codemirror_mode": {
    "name": "ipython",
    "version": 3
   },
   "file_extension": ".py",
   "mimetype": "text/x-python",
   "name": "python",
   "nbconvert_exporter": "python",
   "pygments_lexer": "ipython3",
   "version": "3.7.9"
  }
 },
 "nbformat": 4,
 "nbformat_minor": 4
}
