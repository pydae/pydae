{
 "cells": [
  {
   "cell_type": "code",
   "execution_count": 4,
   "metadata": {},
   "outputs": [],
   "source": [
    "%matplotlib widget"
   ]
  },
  {
   "cell_type": "code",
   "execution_count": 5,
   "metadata": {},
   "outputs": [],
   "source": [
    "import numpy as np\n",
    "import scipy.optimize as sopt\n",
    "import matplotlib.pyplot as plt\n",
    "#import pydae.ssa as ssa\n",
    "import pydae.grid_tools as gt\n",
    "import time\n",
    "import json\n",
    "plt.style.use('presentation.mplstyle')\n",
    "colors = plt.rcParams['axes.prop_cycle'].by_key()['color']"
   ]
  },
  {
   "cell_type": "code",
   "execution_count": 6,
   "metadata": {},
   "outputs": [
    {
     "ename": "ModuleNotFoundError",
     "evalue": "No module named 'grid_3bus_lv'",
     "output_type": "error",
     "traceback": [
      "\u001b[1;31m---------------------------------------------------------------------------\u001b[0m",
      "\u001b[1;31mModuleNotFoundError\u001b[0m                       Traceback (most recent call last)",
      "\u001b[1;32m<ipython-input-6-26830be20d39>\u001b[0m in \u001b[0;36m<module>\u001b[1;34m\u001b[0m\n\u001b[1;32m----> 1\u001b[1;33m \u001b[1;32mfrom\u001b[0m \u001b[0mgrid_3bus_lv\u001b[0m \u001b[1;32mimport\u001b[0m \u001b[0mgrid_3bus_lv_class\u001b[0m\u001b[1;33m\u001b[0m\u001b[1;33m\u001b[0m\u001b[0m\n\u001b[0m",
      "\u001b[1;31mModuleNotFoundError\u001b[0m: No module named 'grid_3bus_lv'"
     ]
    }
   ],
   "source": [
    "from grid_3bus_lv import grid_3bus_lv_class"
   ]
  },
  {
   "cell_type": "code",
   "execution_count": 4,
   "metadata": {},
   "outputs": [],
   "source": [
    "syst = grid_3bus_lv_class()\n",
    "syst.Dt = 1e-3\n",
    "syst.decimation =1 \n",
    "syst.update()"
   ]
  },
  {
   "cell_type": "code",
   "execution_count": 5,
   "metadata": {},
   "outputs": [],
   "source": [
    "syst.initialization_tol = 1e-8\n",
    "\n",
    "gt.set_voltage(syst,'B1',400,0.0)\n",
    "gt.set_voltage(syst,'B2',400,0.0)\n",
    "\n",
    "syst.initialize([{}],xy0=200)\n",
    "syst.run([{'t_end':0.04}])\n",
    "gt.set_voltage(syst,'B1',400*1.05,0.0)\n",
    "gt.set_voltage(syst,'B2',400,0.0)\n",
    "syst.run([{'t_end':0.08}])\n",
    "syst.post();\n"
   ]
  },
  {
   "cell_type": "code",
   "execution_count": 6,
   "metadata": {},
   "outputs": [
    {
     "data": {
      "application/vnd.jupyter.widget-view+json": {
       "model_id": "d4aaff3a0d9a4981bebe00c500842628",
       "version_major": 2,
       "version_minor": 0
      },
      "text/plain": [
       "Canvas(toolbar=Toolbar(toolitems=[('Home', 'Reset original view', 'home', 'home'), ('Back', 'Back to previous …"
      ]
     },
     "metadata": {},
     "output_type": "display_data"
    }
   ],
   "source": [
    "plt.close('all')\n",
    "fig, axes = plt.subplots(nrows=1,ncols=2, figsize=(8, 3), frameon=False, dpi=100, squeeze=False)\n",
    "\n",
    "axes[0,0].plot(syst.T, syst.get_values('v_B1_a_r'), label=\"$V_{B1}$\")\n",
    "\n",
    "fig.tight_layout()\n",
    "fig.savefig('sim.svg')"
   ]
  },
  {
   "cell_type": "code",
   "execution_count": 7,
   "metadata": {},
   "outputs": [
    {
     "data": {
      "application/vnd.jupyter.widget-view+json": {
       "model_id": "7f9d0c123d684303863789de906c19be",
       "version_major": 2,
       "version_minor": 0
      },
      "text/plain": [
       "Canvas(toolbar=Toolbar(toolitems=[('Home', 'Reset original view', 'home', 'home'), ('Back', 'Back to previous …"
      ]
     },
     "metadata": {},
     "output_type": "display_data"
    }
   ],
   "source": [
    "plt.close('all')\n",
    "fig, axes = plt.subplots(nrows=2,ncols=2, figsize=(9, 4), frameon=False, dpi=100, squeeze=False)\n",
    "\n",
    "Times,[v_1_a,v_1_b,v_1_c] = gt.phasor2inst(syst,'B1')\n",
    "axes[0,0].plot(Times, v_1_a, label=\"$V_{B1}$\")\n",
    "axes[0,0].plot(Times, v_1_b, label=\"$V_{B1}$\")\n",
    "axes[0,0].plot(Times, v_1_c, label=\"$V_{B1}$\")\n",
    "\n",
    "Times,[v_2_a,v_2_b,v_2_c] = gt.phasor2inst(syst,'B2')\n",
    "axes[0,0].plot(Times, v_2_a, label=\"$V_{B2}$\")\n",
    "axes[0,0].plot(Times, v_2_b, label=\"$V_{B2}$\")\n",
    "axes[0,0].plot(Times, v_2_c, label=\"$V_{B2}$\")\n",
    "\n",
    "Times,[v_1_a,v_1_b,v_1_c] = gt.phasor2inst(syst,'B1')\n",
    "axes[1,0].plot(Times, v_1_a, label=\"$V_{B1}$\")\n",
    "axes[1,0].plot(Times, v_1_b, label=\"$V_{B1}$\")\n",
    "axes[1,0].plot(Times, v_1_c, label=\"$V_{B1}$\")\n",
    "\n",
    "Times,[v_2_a,v_2_b,v_2_c] = gt.phasor2inst(syst,'B2')\n",
    "axes[1,0].plot(Times, v_2_a, label=\"$V_{B2}$\")\n",
    "axes[1,0].plot(Times, v_2_b, label=\"$V_{B2}$\")\n",
    "axes[1,0].plot(Times, v_2_c, label=\"$V_{B2}$\")\n",
    "\n",
    "Times,[i_a,i_b,i_c] = gt.phasor2inst(syst,'B1',magnitude='iline',to_bus='B2')\n",
    "axes[0,1].plot(Times, i_a, label=\"$V_{B1}$\")\n",
    "axes[0,1].plot(Times, i_b, label=\"$V_{B1}$\")\n",
    "axes[0,1].plot(Times, i_c, label=\"$V_{B1}$\")\n",
    "\n",
    "p_a = v_1_a*i_a\n",
    "p_b = v_1_b*i_b\n",
    "p_c = v_1_c*i_c\n",
    "p_t = p_a + p_b + p_c\n",
    "\n",
    "axes[1,1].plot(Times, p_a, label=\"$V_{B1}$\")\n",
    "axes[1,1].plot(Times, p_b, label=\"$V_{B1}$\")\n",
    "axes[1,1].plot(Times, p_c, label=\"$V_{B1}$\")\n",
    "axes[1,1].plot(Times, p_t, label=\"$V_{B1}$\")\n",
    "\n",
    "s_t = gt.get_flow(syst,'B1','B2')\n",
    "axes[1,1].plot(syst.T, s_t.real, label=\"$V_{B1}$\")\n",
    "axes[1,1].plot(syst.T, s_t.imag, label=\"$V_{B1}$\")\n",
    "\n",
    "\n",
    "axes[1,0].set_ylim([315,335])\n",
    "fig.tight_layout()\n",
    "fig.savefig('sim.svg')"
   ]
  },
  {
   "cell_type": "code",
   "execution_count": 29,
   "metadata": {},
   "outputs": [
    {
     "data": {
      "text/plain": [
       "(48703.66589868445+23331.09743649554j)"
      ]
     },
     "execution_count": 29,
     "metadata": {},
     "output_type": "execute_result"
    }
   ],
   "source": [
    "r_km = 0.167 \n",
    "x_km =   0.08\n",
    "Len = 0.2\n",
    "R_12 = Len*r_km \n",
    "X_12 = Len*x_km\n",
    "Z_12 = R_12 + 1j*X_12\n",
    "V_1 = 405/np.sqrt(3)\n",
    "V_2 = 400/np.sqrt(3)\n",
    "\n",
    "I_12 = (V_1-V_2)/Z_12\n",
    "\n",
    "S_2 = 3*V_2*np.conj(I_12)\n",
    "S_2"
   ]
  },
  {
   "cell_type": "code",
   "execution_count": 30,
   "metadata": {},
   "outputs": [
    {
     "data": {
      "text/plain": [
       "array([ 8.94894913e-11,  1.41999192e-10, -1.55299108e-11,  3.69797902e-11,\n",
       "        8.94894913e-11,  1.41999192e-10, -1.55299108e-11,  3.69797902e-11,\n",
       "        8.94894913e-11,  1.41999192e-10, -1.55299108e-11,  3.69797902e-11,\n",
       "        8.94894913e-11,  1.41999192e-10, -1.55299108e-11,  3.69797902e-11,\n",
       "        8.94894913e-11,  1.41999192e-10, -1.55299108e-11,  3.69797902e-11,\n",
       "        8.94894913e-11,  1.41999192e-10, -1.55299108e-11,  3.69797902e-11,\n",
       "        8.94894913e-11,  1.41999192e-10, -1.55299108e-11,  3.69797902e-11,\n",
       "        8.94894913e-11,  1.41999192e-10, -1.55299108e-11,  3.69797902e-11,\n",
       "        8.94894913e-11,  1.41999192e-10, -1.55299108e-11,  3.69797902e-11,\n",
       "        8.94894913e-11,  1.41999192e-10, -1.55299108e-11,  3.69797902e-11,\n",
       "        8.94894913e-11,  9.79906092e+04,  9.79906092e+04,  9.79906092e+04,\n",
       "        9.79906092e+04,  9.79906092e+04,  9.79906092e+04,  9.79906092e+04,\n",
       "        9.79906092e+04,  9.79906092e+04,  9.79906092e+04,  9.79906092e+04,\n",
       "        9.79906092e+04,  9.79906092e+04,  9.79906092e+04,  9.79906092e+04,\n",
       "        9.79906092e+04,  9.79906092e+04,  9.79906092e+04,  9.79906092e+04,\n",
       "        9.79906092e+04,  9.79906092e+04,  9.79906092e+04,  9.79906092e+04,\n",
       "        9.79906092e+04,  9.79906092e+04,  9.79906092e+04,  9.79906092e+04,\n",
       "        9.79906092e+04,  9.79906092e+04,  9.79906092e+04,  9.79906092e+04,\n",
       "        9.79906092e+04,  9.79906092e+04,  9.79906092e+04,  9.79906092e+04,\n",
       "        9.79906092e+04,  9.79906092e+04,  9.79906092e+04,  9.79906092e+04])"
      ]
     },
     "execution_count": 30,
     "metadata": {},
     "output_type": "execute_result"
    }
   ],
   "source": [
    "s_t.imag"
   ]
  },
  {
   "cell_type": "code",
   "execution_count": 57,
   "metadata": {},
   "outputs": [
    {
     "data": {
      "application/vnd.jupyter.widget-view+json": {
       "model_id": "d42885f8756840d296ebf53878c5ef6f",
       "version_major": 2,
       "version_minor": 0
      },
      "text/plain": [
       "Canvas(toolbar=Toolbar(toolitems=[('Home', 'Reset original view', 'home', 'home'), ('Back', 'Back to previous …"
      ]
     },
     "metadata": {},
     "output_type": "display_data"
    }
   ],
   "source": [
    "plt.close('all')\n",
    "fig, axes = plt.subplots(nrows=1,ncols=2, figsize=(9, 3), frameon=False, dpi=100, squeeze=False)\n",
    "\n",
    "v_B1_a_m = np.abs(syst.get_values('v_B1_a_r')+1j*syst.get_values('v_B1_a_i'))\n",
    "v_B2_a_m = np.abs(syst.get_values('v_B2_a_r')+1j*syst.get_values('v_B2_a_i'))\n",
    "i_l_B1_B2_a_m = np.abs(syst.get_values('i_l_B1_B2_a_r')+1j*syst.get_values('i_l_B1_B2_a_i'))\n",
    "\n",
    "Times,[v_1_a,v_1_b,v_1_c] = gt.phasor2inst(syst,'B1')\n",
    "line_v_1_a = axes[0,0].plot(Times, v_1_a, label=\"$v_{1a}$ (V)\")\n",
    "line_v_1_b = axes[0,0].plot(Times, v_1_b, label=\"$v_{1b}$ (V)\")\n",
    "line_v_1_c = axes[0,0].plot(Times, v_1_c, label=\"$v_{1c}$ (V)\")\n",
    "axes[0,0].plot(syst.T, v_B1_a_m, label=\"$V_{1a}$ (V)\", color=colors[0], ls=':')\n",
    "\n",
    "Times,[v_2_a,v_2_b,v_2_c] = gt.phasor2inst(syst,'B2')\n",
    "line_v_2_a = axes[0,0].plot(Times, v_2_a, label=\"$v_{2a}$ (V)\")\n",
    "line_v_2_b = axes[0,0].plot(Times, v_2_b, label=\"$v_{2b}$ (V)\")\n",
    "line_v_2_c = axes[0,0].plot(Times, v_2_c, label=\"$v_{2c}$ (V)\")\n",
    "\n",
    "\n",
    "axes[0,0].plot(syst.T, v_B2_a_m, label=\"$V_{2a}$ (V)\", color=colors[3], ls=':')\n",
    "\n",
    "Times,[i_a,i_b,i_c] = gt.phasor2inst(syst,'B1',magnitude='iline',to_bus='B2')\n",
    "line_i_a = axes[0,1].plot(Times, i_a, label=\"$i_{a}$ (A)\")\n",
    "line_i_b = axes[0,1].plot(Times, i_b, label=\"$i_{b}$ (A)\")\n",
    "line_i_c = axes[0,1].plot(Times, i_c, label=\"$i_{c}$ (A)\")\n",
    "\n",
    "line_i_c = axes[0,1].plot(syst.T, i_l_B1_B2_a_m, label=\"$I_{12c}$ (A)\", color=colors[0],ls=':')\n",
    "\n",
    "\n",
    "axes[0,0].set_ylim([-400,400])\n",
    "axes[0,1].set_ylim([-600,600])\n",
    "\n",
    "axes[0,0].legend(loc='lower left',ncol=2)\n",
    "axes[0,1].legend(loc='upper left')\n",
    "\n",
    "p_a = v_1_a*i_a\n",
    "p_b = v_1_b*i_b\n",
    "p_c = v_1_c*i_c\n",
    "p_t = p_a + p_b + p_c\n",
    "\n",
    "\n",
    "axes[0,0].set_xlabel('Time (s)')\n",
    "axes[0,1].set_xlabel('Time (s)')\n",
    "\n",
    "#axes[1,0].set_ylim([315,335])\n",
    "fig.tight_layout()\n",
    "fig.savefig('v_i.svg')\n"
   ]
  },
  {
   "cell_type": "code",
   "execution_count": 35,
   "metadata": {},
   "outputs": [
    {
     "data": {
      "text/plain": [
       "array([230.94010768, 230.94010768, 230.94010768, 230.94010768,\n",
       "       230.94010768, 230.94010768, 230.94010768, 230.94010768,\n",
       "       230.94010768, 230.94010768, 230.94010768, 230.94010768,\n",
       "       230.94010768, 230.94010768, 230.94010768, 230.94010768,\n",
       "       230.94010768, 230.94010768, 230.94010768, 230.94010768,\n",
       "       230.94010768, 230.94010768, 230.94010768, 230.94010768,\n",
       "       230.94010768, 230.94010768, 230.94010768, 230.94010768,\n",
       "       230.94010768, 230.94010768, 230.94010768, 230.94010768,\n",
       "       230.94010768, 230.94010768, 230.94010768, 230.94010768,\n",
       "       230.94010768, 230.94010768, 230.94010768, 230.94010768,\n",
       "       230.94010768, 242.48711306, 242.48711306, 242.48711306,\n",
       "       242.48711306, 242.48711306, 242.48711306, 242.48711306,\n",
       "       242.48711306, 242.48711306, 242.48711306, 242.48711306,\n",
       "       242.48711306, 242.48711306, 242.48711306, 242.48711306,\n",
       "       242.48711306, 242.48711306, 242.48711306, 242.48711306,\n",
       "       242.48711306, 242.48711306, 242.48711306, 242.48711306,\n",
       "       242.48711306, 242.48711306, 242.48711306, 242.48711306,\n",
       "       242.48711306, 242.48711306, 242.48711306, 242.48711306,\n",
       "       242.48711306, 242.48711306, 242.48711306, 242.48711306,\n",
       "       242.48711306, 242.48711306, 242.48711306, 242.48711306])"
      ]
     },
     "execution_count": 35,
     "metadata": {},
     "output_type": "execute_result"
    }
   ],
   "source": [
    "v_B1_a_m"
   ]
  },
  {
   "cell_type": "code",
   "execution_count": 40,
   "metadata": {},
   "outputs": [],
   "source": []
  },
  {
   "cell_type": "code",
   "execution_count": 41,
   "metadata": {},
   "outputs": [
    {
     "data": {
      "text/plain": [
       "['#d9524f',\n",
       " '#5cb85c',\n",
       " '#337ab7',\n",
       " '#f0ad4e',\n",
       " '#5bc0de',\n",
       " '#5e4485',\n",
       " '#b4d0e8',\n",
       " '#b3deb3',\n",
       " '#f5ce98',\n",
       " '#eeb7b3',\n",
       " '#ace0ee',\n",
       " '#c1b5d7']"
      ]
     },
     "execution_count": 41,
     "metadata": {},
     "output_type": "execute_result"
    }
   ],
   "source": [
    "cycle"
   ]
  },
  {
   "cell_type": "code",
   "execution_count": null,
   "metadata": {},
   "outputs": [],
   "source": []
  }
 ],
 "metadata": {
  "kernelspec": {
   "display_name": "Python 3",
   "language": "python",
   "name": "python3"
  },
  "language_info": {
   "codemirror_mode": {
    "name": "ipython",
    "version": 3
   },
   "file_extension": ".py",
   "mimetype": "text/x-python",
   "name": "python",
   "nbconvert_exporter": "python",
   "pygments_lexer": "ipython3",
   "version": "3.7.9"
  }
 },
 "nbformat": 4,
 "nbformat_minor": 4
}
