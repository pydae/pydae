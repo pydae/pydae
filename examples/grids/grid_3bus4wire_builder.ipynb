{
 "cells": [
  {
   "cell_type": "code",
   "execution_count": 42,
   "metadata": {},
   "outputs": [],
   "source": [
    "import numpy as np\n",
    "from pydgrid.pydgrid import grid\n",
    "from pydgrid.plot_bokeh import plot_results\n",
    "import sympy as sym\n",
    "import pydae.build as db"
   ]
  },
  {
   "cell_type": "code",
   "execution_count": 43,
   "metadata": {},
   "outputs": [],
   "source": [
    "data = {\n",
    "        \"buses\":[\n",
    "                 {\"bus\": \"B1\",  \"pos_x\":   0, \"pos_y\":   0, \"units\": \"m\", \"U_kV\":20.0},\n",
    "                 {\"bus\": \"B2\",  \"pos_x\":  10, \"pos_y\":   0, \"units\": \"m\", \"U_kV\":0.4},\n",
    "                 {\"bus\": \"B3\",  \"pos_x\": 100, \"pos_y\":  0, \"units\": \"m\", \"U_kV\":0.4}\n",
    "                ],\n",
    "        \"grid_formers\":[\n",
    "                        {\"bus\": \"B1\",\n",
    "                        \"bus_nodes\": [1, 2, 3], \"deg\": [0, -120, -240],\n",
    "                        \"kV\": [11.547, 11.547, 11.547]}\n",
    "                       ],\n",
    "        \"transformers\":[\n",
    "                        {\"bus_j\": \"B1\",  \"bus_k\": \"B2\",  \"S_n_kVA\": 1000.0, \"U_j_kV\":20, \"U_k_kV\":0.42,\n",
    "                         \"R_cc_pu\": 0.01, \"X_cc_pu\":0.04, \"connection\": \"Dyn11\",   \"conductors_j\": 3, \"conductors_k\": 4},\n",
    "                       ],\n",
    "        \"lines\":[\n",
    "                 {\"bus_j\": \"B2\",  \"bus_k\": \"B3\",  \"code\": \"lv_cu_150\", \"m\": 100.0},\n",
    "                ],\n",
    "        \"loads\":[\n",
    "                 {\"bus\": \"B3\" , \"kVA\": 300.0, \"pf\": 0.85,\"type\":\"3P+N\"}\n",
    "                ],\n",
    "        \"shunts\":[\n",
    "                 {\"bus\": \"B2\" , \"R\": 0.001, \"X\": 0.0, \"bus_nodes\": [4,0]},\n",
    "                 {\"bus\": \"B3\" , \"R\": 0.01, \"X\": 0.0, \"bus_nodes\": [4,0]}\n",
    "                 ],\n",
    "        \"line_codes\":\n",
    "            {\"lv_cu_150\":  {\"Rph\":0.167,\"Xph\":0.08, \"Rn\":0.167, \"Xn\": 0.08}\n",
    "            }\n",
    "       }"
   ]
  },
  {
   "cell_type": "code",
   "execution_count": 44,
   "metadata": {},
   "outputs": [
    {
     "data": {
      "text/html": [
       "\n",
       "\n",
       "\n",
       "\n",
       "\n",
       "\n",
       "  <div class=\"bk-root\" id=\"55e34143-94b1-4347-a1be-7d5a75d8bd50\" data-root-id=\"1143\"></div>\n"
      ]
     },
     "metadata": {},
     "output_type": "display_data"
    },
    {
     "data": {
      "application/javascript": [
       "(function(root) {\n",
       "  function embed_document(root) {\n",
       "    \n",
       "  var docs_json = {\"5e4ff51a-22af-44da-9702-548e69ca8048\":{\"roots\":{\"references\":[{\"attributes\":{\"below\":[{\"id\":\"1154\"}],\"center\":[{\"id\":\"1157\"},{\"id\":\"1161\"}],\"left\":[{\"id\":\"1158\"}],\"plot_height\":400,\"renderers\":[{\"id\":\"1180\"},{\"id\":\"1186\"},{\"id\":\"1192\"}],\"title\":{\"id\":\"1144\"},\"toolbar\":{\"id\":\"1169\"},\"x_range\":{\"id\":\"1146\"},\"x_scale\":{\"id\":\"1150\"},\"y_range\":{\"id\":\"1148\"},\"y_scale\":{\"id\":\"1152\"}},\"id\":\"1143\",\"subtype\":\"Figure\",\"type\":\"Plot\"},{\"attributes\":{\"data\":{\"deg_1a\":[-32.100688881822514],\"deg_1b\":[-152.1006888818219],\"deg_1c\":[87.89931111817782],\"deg_1n\":[-14.036243467926479],\"deg_2a\":[117.8993111181779],\"deg_2b\":[-2.100688881822197],\"deg_2c\":[-122.10068888182195],\"deg_2n\":[-62.10068888182111],\"i_1a_m\":[9.039502052418566],\"i_1b_m\":[9.039502052418431],\"i_1c_m\":[9.039502052418559],\"i_1n_m\":[1.1718571004216928e-13],\"i_2a_m\":[430.45247868659914],\"i_2b_m\":[430.4524786865951],\"i_2c_m\":[430.45247868659663],\"i_2n_m\":[430.45247868659277],\"trafo_id\":[\"B1-B2\"],\"x_s\":[[0,10]],\"y_s\":[[0,0]]},\"selected\":{\"id\":\"1218\"},\"selection_policy\":{\"id\":\"1217\"}},\"id\":\"1176\",\"type\":\"ColumnDataSource\"},{\"attributes\":{},\"id\":\"1220\",\"type\":\"Selection\"},{\"attributes\":{\"text\":\"Results\"},\"id\":\"1144\",\"type\":\"Title\"},{\"attributes\":{\"data\":{\"bus_id\":[\"B1\",\"B2\",\"B3\"],\"deg_an\":[\"0.00\",\"-30.52\",\"-30.31\"],\"deg_bn\":[\"-120.00\",\"-150.52\",\"-150.31\"],\"deg_cn\":[\"120.00\",\"89.48\",\"89.69\"],\"deg_ng\":[\"0.00\",\"0.00\",\"180.00\"],\"p_a\":[\"88.42\",\"0.00\",\"-85.00\"],\"p_abc\":[\"265.26\",\"0.00\",\"-255.00\"],\"p_b\":[\"88.42\",\"-0.00\",\"-85.00\"],\"p_c\":[\"88.42\",\"0.00\",\"-85.00\"],\"q_a\":[\"55.47\",\"-0.00\",\"-52.68\"],\"q_abc\":[\"166.40\",\"0.00\",\"-158.03\"],\"q_b\":[\"55.47\",\"0.00\",\"-52.68\"],\"q_c\":[\"55.47\",\"0.00\",\"-52.68\"],\"s_color\":[\"red\",\"blue\",\"green\"],\"s_radio\":[5.595868034521807,1,5.477225572365841],\"u_avg_pu\":[\"1.000\",\"1.040\",\"1.006\"],\"v_ab\":[19999.99067499782,416.1070750217666,402.37909911800136],\"v_an\":[\"11547.00\",\"240.24\",\"232.31\"],\"v_an_pu\":[\"1.0000\",\"1.0403\",\"1.0059\"],\"v_bc\":[19999.990674997825,416.10707502176655,402.37909911800125],\"v_bn\":[\"11547.00\",\"240.24\",\"232.31\"],\"v_bn_pu\":[\"1.0000\",\"1.0403\",\"1.0059\"],\"v_ca\":[19999.99067499783,416.1070750217667,402.37909911800136],\"v_cn\":[\"11547.00\",\"240.24\",\"232.31\"],\"v_cn_pu\":[\"1.0000\",\"1.0403\",\"1.0059\"],\"v_ng\":[\"0.00\",\"0.00\",\"0.00\"],\"v_unb\":[\"0.0\",\"0.0\",\"0.0\"],\"x\":[0,10,100],\"y\":[0,0,0]},\"selected\":{\"id\":\"1222\"},\"selection_policy\":{\"id\":\"1221\"}},\"id\":\"1188\",\"type\":\"ColumnDataSource\"},{\"attributes\":{},\"id\":\"1163\",\"type\":\"WheelZoomTool\"},{\"attributes\":{\"data_source\":{\"id\":\"1182\"},\"glyph\":{\"id\":\"1184\"},\"hover_glyph\":null,\"muted_glyph\":null,\"nonselection_glyph\":{\"id\":\"1185\"},\"selection_glyph\":null,\"view\":{\"id\":\"1187\"}},\"id\":\"1186\",\"type\":\"GlyphRenderer\"},{\"attributes\":{},\"id\":\"1148\",\"type\":\"DataRange1d\"},{\"attributes\":{\"data\":{\"deg_j_a\":[-62.10068888182111],\"deg_j_b\":[177.89931111817876],\"deg_j_c\":[57.899311118178915],\"deg_j_n\":[-25.59637426214424],\"deg_k_a\":[-62.10068888182111],\"deg_k_b\":[177.89931111817876],\"deg_k_c\":[57.899311118178915],\"deg_k_n\":[-25.59637426214424],\"i_j_a_m\":[430.45247868659277],\"i_j_b_m\":[430.45247868658936],\"i_j_c_m\":[430.4524786865915],\"i_j_n_m\":[1.9185927469660464e-13],\"i_k_a_m\":[430.45247868659277],\"i_k_b_m\":[430.45247868658936],\"i_k_c_m\":[430.4524786865915],\"i_k_n_m\":[1.9185927469660464e-13],\"line_id\":[\"B2-B3\"],\"x_s\":[[10,100]],\"y_s\":[[0,0]]},\"selected\":{\"id\":\"1220\"},\"selection_policy\":{\"id\":\"1219\"}},\"id\":\"1182\",\"type\":\"ColumnDataSource\"},{\"attributes\":{\"source\":{\"id\":\"1188\"}},\"id\":\"1193\",\"type\":\"CDSView\"},{\"attributes\":{\"formatter\":{\"id\":\"1213\"},\"ticker\":{\"id\":\"1159\"}},\"id\":\"1158\",\"type\":\"LinearAxis\"},{\"attributes\":{},\"id\":\"1221\",\"type\":\"UnionRenderers\"},{\"attributes\":{},\"id\":\"1222\",\"type\":\"Selection\"},{\"attributes\":{\"line_alpha\":{\"value\":0.5},\"line_color\":{\"value\":\"green\"},\"line_width\":{\"value\":5},\"xs\":{\"field\":\"x_s\"},\"ys\":{\"field\":\"y_s\"}},\"id\":\"1178\",\"type\":\"MultiLine\"},{\"attributes\":{},\"id\":\"1162\",\"type\":\"PanTool\"},{\"attributes\":{},\"id\":\"1219\",\"type\":\"UnionRenderers\"},{\"attributes\":{},\"id\":\"1152\",\"type\":\"LinearScale\"},{\"attributes\":{},\"id\":\"1218\",\"type\":\"Selection\"},{\"attributes\":{\"line_alpha\":{\"value\":0.1},\"line_color\":{\"value\":\"green\"},\"line_width\":{\"value\":5},\"xs\":{\"field\":\"x_s\"},\"ys\":{\"field\":\"y_s\"}},\"id\":\"1179\",\"type\":\"MultiLine\"},{\"attributes\":{\"source\":{\"id\":\"1176\"}},\"id\":\"1181\",\"type\":\"CDSView\"},{\"attributes\":{\"axis\":{\"id\":\"1154\"},\"ticker\":null},\"id\":\"1157\",\"type\":\"Grid\"},{\"attributes\":{\"axis\":{\"id\":\"1158\"},\"dimension\":1,\"ticker\":null},\"id\":\"1161\",\"type\":\"Grid\"},{\"attributes\":{\"callback\":null,\"renderers\":[{\"id\":\"1186\"}],\"tooltips\":\"\\n            <div>\\n            line id = @line_id \\n            <table border=\\\"5\\\">\\n                <tr >\\n                    <td>I<sub>ja</sub> =  @i_j_a_m &ang; @deg_j_a </td>\\n                    <td>I<sub>ka</sub> =  @i_k_a_m &ang; @deg_k_a </td>\\n                </tr>\\n                <tr>\\n                    <td >I<sub>jb</sub> =  @i_j_b_m &ang; @deg_j_b </td>\\n                    <td >I<sub>kb</sub> =  @i_k_b_m &ang; @deg_k_b </td>\\n                </tr>\\n                <tr>\\n                    <td >I<sub>jc</sub> =  @i_j_c_m &ang; @deg_j_c </td>\\n                    <td >I<sub>kc</sub> =  @i_k_c_m &ang; @deg_k_c </td>\\n                </tr>\\n                <tr>\\n                    <td >I<sub>jn</sub> =  @i_j_n_m &ang; @deg_j_n </td>\\n                    <td >I<sub>kn</sub> =  @i_k_n_m &ang; @deg_k_n </td>\\n                </tr>\\n            </table>            \\n            </div>\\n            \"},\"id\":\"1196\",\"type\":\"HoverTool\"},{\"attributes\":{},\"id\":\"1215\",\"type\":\"BasicTickFormatter\"},{\"attributes\":{},\"id\":\"1165\",\"type\":\"SaveTool\"},{\"attributes\":{\"overlay\":{\"id\":\"1168\"}},\"id\":\"1164\",\"type\":\"BoxZoomTool\"},{\"attributes\":{\"data_source\":{\"id\":\"1188\"},\"glyph\":{\"id\":\"1190\"},\"hover_glyph\":null,\"muted_glyph\":null,\"nonselection_glyph\":{\"id\":\"1191\"},\"selection_glyph\":null,\"view\":{\"id\":\"1193\"}},\"id\":\"1192\",\"type\":\"GlyphRenderer\"},{\"attributes\":{\"line_alpha\":{\"value\":0.1},\"line_color\":{\"value\":\"red\"},\"line_width\":{\"value\":5},\"xs\":{\"field\":\"x_s\"},\"ys\":{\"field\":\"y_s\"}},\"id\":\"1185\",\"type\":\"MultiLine\"},{\"attributes\":{\"bottom_units\":\"screen\",\"fill_alpha\":0.5,\"fill_color\":\"lightgrey\",\"left_units\":\"screen\",\"level\":\"overlay\",\"line_alpha\":1.0,\"line_color\":\"black\",\"line_dash\":[4,4],\"line_width\":2,\"render_mode\":\"css\",\"right_units\":\"screen\",\"top_units\":\"screen\"},\"id\":\"1168\",\"type\":\"BoxAnnotation\"},{\"attributes\":{\"callback\":null,\"renderers\":[{\"id\":\"1180\"}],\"tooltips\":\"\\n            <div>\\n            transformer id = @trafo_id  \\n            <table border=\\\"5\\\">\\n                <tr >\\n                    <td>I<sub>1a</sub> =  @i_1a_m &ang; @deg_1a </td>\\n                    <td>I<sub>2a</sub> =  @i_2a_m &ang; @deg_2a </td>\\n                </tr>\\n                <tr>\\n                    <td >I<sub>1b</sub> =  @i_1b_m &ang; @deg_1b </td>\\n                    <td >I<sub>2b</sub> =  @i_2b_m &ang; @deg_2b </td>\\n                </tr>\\n                <tr>\\n                    <td >I<sub>1c</sub> =  @i_1c_m &ang; @deg_1c </td>\\n                    <td >I<sub>2c</sub> =  @i_2c_m &ang; @deg_2c </td>\\n                </tr>\\n                <tr>\\n                    <td >I<sub>1n</sub> =  @i_1n_m &ang; @deg_1n </td>\\n                    <td >I<sub>2n</sub> =  @i_2n_m &ang; @deg_2n </td>\\n                </tr>\\n            </table>            \\n            </div>\\n            \"},\"id\":\"1194\",\"type\":\"HoverTool\"},{\"attributes\":{\"active_drag\":\"auto\",\"active_inspect\":\"auto\",\"active_multi\":null,\"active_scroll\":\"auto\",\"active_tap\":\"auto\",\"tools\":[{\"id\":\"1162\"},{\"id\":\"1163\"},{\"id\":\"1164\"},{\"id\":\"1165\"},{\"id\":\"1166\"},{\"id\":\"1167\"},{\"id\":\"1194\"},{\"id\":\"1196\"},{\"id\":\"1198\"}]},\"id\":\"1169\",\"type\":\"Toolbar\"},{\"attributes\":{},\"id\":\"1150\",\"type\":\"LinearScale\"},{\"attributes\":{\"fill_alpha\":{\"value\":0.5},\"fill_color\":{\"value\":\"navy\"},\"line_alpha\":{\"value\":0.5},\"line_color\":{\"value\":\"navy\"},\"size\":{\"units\":\"screen\",\"value\":15},\"x\":{\"field\":\"x\"},\"y\":{\"field\":\"y\"}},\"id\":\"1190\",\"type\":\"Circle\"},{\"attributes\":{},\"id\":\"1213\",\"type\":\"BasicTickFormatter\"},{\"attributes\":{},\"id\":\"1155\",\"type\":\"BasicTicker\"},{\"attributes\":{},\"id\":\"1217\",\"type\":\"UnionRenderers\"},{\"attributes\":{\"source\":{\"id\":\"1182\"}},\"id\":\"1187\",\"type\":\"CDSView\"},{\"attributes\":{\"line_alpha\":{\"value\":0.5},\"line_color\":{\"value\":\"red\"},\"line_width\":{\"value\":5},\"xs\":{\"field\":\"x_s\"},\"ys\":{\"field\":\"y_s\"}},\"id\":\"1184\",\"type\":\"MultiLine\"},{\"attributes\":{},\"id\":\"1159\",\"type\":\"BasicTicker\"},{\"attributes\":{},\"id\":\"1146\",\"type\":\"DataRange1d\"},{\"attributes\":{\"formatter\":{\"id\":\"1215\"},\"ticker\":{\"id\":\"1155\"}},\"id\":\"1154\",\"type\":\"LinearAxis\"},{\"attributes\":{\"data_source\":{\"id\":\"1176\"},\"glyph\":{\"id\":\"1178\"},\"hover_glyph\":null,\"muted_glyph\":null,\"nonselection_glyph\":{\"id\":\"1179\"},\"selection_glyph\":null,\"view\":{\"id\":\"1181\"}},\"id\":\"1180\",\"type\":\"GlyphRenderer\"},{\"attributes\":{\"fill_alpha\":{\"value\":0.1},\"fill_color\":{\"value\":\"navy\"},\"line_alpha\":{\"value\":0.1},\"line_color\":{\"value\":\"navy\"},\"size\":{\"units\":\"screen\",\"value\":15},\"x\":{\"field\":\"x\"},\"y\":{\"field\":\"y\"}},\"id\":\"1191\",\"type\":\"Circle\"},{\"attributes\":{\"callback\":null,\"renderers\":[{\"id\":\"1192\"}],\"tooltips\":\"\\n            <div>\\n            bus_id = @bus_id &nbsp &nbsp |  u<sub>avg</sub>= @u_avg_pu pu |  u<sub>unb</sub>= @v_unb %\\n            <table border=\\\"1\\\">\\n                <tr>\\n                <td>v<sub>an</sub> =  @v_an  &ang; @deg_an V </td> <td> S<sub>a</sub> = @p_a + j@q_a kVA</td>\\n                </tr>\\n                      <tr>\\n                      <td> </td> <td>v<sub>ab</sub>= @v_ab V</td>\\n                      </tr>\\n                <tr>\\n                <td>v<sub>bn</sub> = @v_bn &ang; @deg_bn V </td><td> S<sub>b</sub> = @p_b + j@q_b kVA</td>\\n                </tr>\\n                      <tr>\\n                      <td> </td><td>v<sub>bc</sub>= @v_bc V</td>\\n                      </tr>\\n                <tr>\\n                <td>v<sub>cn</sub>  = @v_cn &ang; @deg_cn V </td>  <td>S<sub>c</sub> = @p_c + j@q_c kVA </td>\\n                </tr> \\n                    <tr>\\n                     <td> </td> <td>v<sub>ca</sub>= @v_ca V</td>\\n                    </tr>\\n               <tr>\\n                <td>v<sub>ng</sub>    = @v_ng &ang; @deg_ng V</td>  <td>S<sub>abc</sub> = @p_abc + j@q_abc kVA </td>\\n              </tr>\\n            </table>\\n            </div>\\n            \"},\"id\":\"1198\",\"type\":\"HoverTool\"},{\"attributes\":{},\"id\":\"1166\",\"type\":\"ResetTool\"},{\"attributes\":{},\"id\":\"1167\",\"type\":\"HelpTool\"}],\"root_ids\":[\"1143\"]},\"title\":\"Bokeh Application\",\"version\":\"2.0.1\"}};\n",
       "  var render_items = [{\"docid\":\"5e4ff51a-22af-44da-9702-548e69ca8048\",\"root_ids\":[\"1143\"],\"roots\":{\"1143\":\"55e34143-94b1-4347-a1be-7d5a75d8bd50\"}}];\n",
       "  root.Bokeh.embed.embed_items_notebook(docs_json, render_items);\n",
       "\n",
       "  }\n",
       "  if (root.Bokeh !== undefined) {\n",
       "    embed_document(root);\n",
       "  } else {\n",
       "    var attempts = 0;\n",
       "    var timer = setInterval(function(root) {\n",
       "      if (root.Bokeh !== undefined) {\n",
       "        clearInterval(timer);\n",
       "        embed_document(root);\n",
       "      } else {\n",
       "        attempts++;\n",
       "        if (attempts > 100) {\n",
       "          clearInterval(timer);\n",
       "          console.log(\"Bokeh: ERROR: Unable to run BokehJS code because BokehJS library is missing\");\n",
       "        }\n",
       "      }\n",
       "    }, 10, root)\n",
       "  }\n",
       "})(window);"
      ],
      "application/vnd.bokehjs_exec.v0+json": ""
     },
     "metadata": {
      "application/vnd.bokehjs_exec.v0+json": {
       "id": "1143"
      }
     },
     "output_type": "display_data"
    }
   ],
   "source": [
    "grid_1 = grid()\n",
    "grid_1.read(data)  # Load data\n",
    "grid_1.pf()  # solve power flow\n",
    "p=plot_results(grid_1)"
   ]
  },
  {
   "cell_type": "code",
   "execution_count": 45,
   "metadata": {},
   "outputs": [],
   "source": [
    "V_node = grid_1.V_node\n",
    "I_node = grid_1.I_node\n",
    "V_node_new = np.copy(V_node)"
   ]
  },
  {
   "cell_type": "code",
   "execution_count": 46,
   "metadata": {},
   "outputs": [],
   "source": [
    "Y_ii = grid_1.Y_ii.toarray()\n",
    "Y_iv = grid_1.Y_iv\n",
    "inv_Y_ii = np.linalg.inv(Y_ii)\n",
    "N_nz_nodes = grid_1.params_pf[0].N_nz_nodes\n",
    "N_v = grid_1.params_pf[0].N_nodes_v"
   ]
  },
  {
   "cell_type": "code",
   "execution_count": 47,
   "metadata": {},
   "outputs": [],
   "source": [
    "V_known   = np.copy(grid_1.V_node[0:N_v,:])\n",
    "I_known = grid_1.I_node[N_v:,:]\n",
    "I_aux = ( I_known - Y_iv @ V_known)  \n",
    "V_unknown = inv_Y_ii[:,0:N_nz_nodes] @ I_aux[0:N_nz_nodes,:]\n",
    "V_node_new[0:N_v,:] = V_known \n",
    "V_node_new[N_v:,:]  = V_unknown "
   ]
  },
  {
   "cell_type": "code",
   "execution_count": 48,
   "metadata": {},
   "outputs": [],
   "source": [
    "import sympy as sym"
   ]
  },
  {
   "cell_type": "code",
   "execution_count": 49,
   "metadata": {},
   "outputs": [],
   "source": [
    "def grid2dae(nodes_list,V_node,I_node,Y_iv,inv_Y_ii,load_buses):\n",
    "    \n",
    "    N_v = Y_iv.shape[1]   # number of nodes with known voltages\n",
    "    I_node_sym_list = []\n",
    "    V_node_sym_list = []\n",
    "    v_list = []\n",
    "    i_list = []\n",
    "    v_list_str = []\n",
    "    i_list_str = []\n",
    "    i_node = []\n",
    "    v_num_list = []\n",
    "    i_num_list = []\n",
    "    n2a = {'1':'a','2':'b','3':'c','4':'n'}\n",
    "    a2n = {'a':'1','b':'2','c':'3','n':'4'}\n",
    "\n",
    "    # every voltage bus and current bus injection is generted as sympy symbol\n",
    "    # the voltages ar named as v_{bus_name}_{n2a[phase]}_r\n",
    "    # the currents ar named as i_{bus_name}_{n2a[phase]}_r\n",
    "    inode = 0\n",
    "    for node in grid_1.nodes:\n",
    "        bus_name,phase = node.split('.')\n",
    "        i_real = sym.Symbol(f\"i_{bus_name}_{n2a[phase]}_r\", real=True)\n",
    "        i_imag = sym.Symbol(f\"i_{bus_name}_{n2a[phase]}_i\", real=True)\n",
    "        v_real = sym.Symbol(f\"v_{bus_name}_{n2a[phase]}_r\", real=True)\n",
    "        v_imag = sym.Symbol(f\"v_{bus_name}_{n2a[phase]}_i\", real=True)    \n",
    "\n",
    "        v_list += [v_real,v_imag]  \n",
    "        i_list += [i_real,i_imag]\n",
    "\n",
    "        v_list_str += [str(v_real),str(v_imag)]\n",
    "        i_list_str += [str(i_real),str(i_imag)]\n",
    "\n",
    "        v_num_list += [V_node[inode].real[0],V_node[inode].imag[0]]\n",
    "        i_num_list += [I_node[inode].real[0],I_node[inode].imag[0]]\n",
    "\n",
    "        V_node_sym_list += [v_real+sym.I*v_imag]\n",
    "        I_node_sym_list += [i_real+sym.I*i_imag]\n",
    "\n",
    "        inode += 1\n",
    "    \n",
    "    # symbolic voltage and currents vectors (complex)\n",
    "    V_known_sym = sym.Matrix(V_node_sym_list[:N_v])\n",
    "    V_unknown_sym = sym.Matrix(V_node_sym_list[N_v:])\n",
    "    I_known_sym = sym.Matrix(I_node_sym_list[N_v:])\n",
    "    I_unknown_sym = sym.Matrix(I_node_sym_list[:N_v])\n",
    "    \n",
    "    inv_Y_ii_re = inv_Y_ii.real\n",
    "    inv_Y_ii_im = inv_Y_ii.imag\n",
    "\n",
    "    inv_Y_ii_re[np.abs(inv_Y_ii_re)<1e-8] = 0\n",
    "    inv_Y_ii_im[np.abs(inv_Y_ii_im)<1e-8] = 0\n",
    "\n",
    "    inv_Y_ii = inv_Y_ii_re+sym.I*inv_Y_ii_im\n",
    "\n",
    "    I_aux = ( I_known_sym - Y_iv @ V_known_sym)  \n",
    "    g_cplx = -V_unknown_sym + inv_Y_ii @ I_aux\n",
    "\n",
    "    g_list = []\n",
    "    for item in g_cplx:\n",
    "        g_list += [sym.re(item)]\n",
    "        g_list += [sym.im(item)]\n",
    "\n",
    "    y_list = v_list[2*N_v:]\n",
    "    y_0_list = v_num_list[2*N_v:]\n",
    "\n",
    "    u_dict = dict(zip(v_list_str[:2*N_v],v_num_list[:2*N_v]))\n",
    "    u_dict.update(dict(zip(i_list_str[2*N_v:],i_num_list[2*N_v:])))\n",
    "\n",
    "    h_dict = {}\n",
    "    for bus in load_buses:\n",
    "\n",
    "        v_a = V_node_sym_list[nodes_list.index(f'{bus}.1')]\n",
    "        v_b = V_node_sym_list[nodes_list.index(f'{bus}.2')]\n",
    "        v_c = V_node_sym_list[nodes_list.index(f'{bus}.3')]\n",
    "        v_n = V_node_sym_list[nodes_list.index(f'{bus}.4')]\n",
    "\n",
    "        i_a = I_node_sym_list[nodes_list.index(f'{bus}.1')]\n",
    "        i_b = I_node_sym_list[nodes_list.index(f'{bus}.2')]\n",
    "        i_c = I_node_sym_list[nodes_list.index(f'{bus}.3')]\n",
    "        i_n = I_node_sym_list[nodes_list.index(f'{bus}.4')]\n",
    "\n",
    "\n",
    "        v_an = v_a - v_n\n",
    "        v_bn = v_b - v_n\n",
    "        v_cn = v_c - v_n\n",
    "\n",
    "        s_a = v_an*sym.conjugate(i_a)\n",
    "        s_b = v_bn*sym.conjugate(i_b)\n",
    "        s_c = v_cn*sym.conjugate(i_c)\n",
    "\n",
    "        s = s_a + s_b + s_c\n",
    "        p_a,p_b,p_c = sym.symbols(f'p_{bus}_a,p_{bus}_b,p_{bus}_c')\n",
    "        q_a,q_b,q_c = sym.symbols(f'q_{bus}_a,q_{bus}_b,q_{bus}_c')\n",
    "        g_list += [p_a + sym.re(s_a)]\n",
    "        g_list += [p_b + sym.re(s_b)]\n",
    "        g_list += [p_c + sym.re(s_c)]\n",
    "        g_list += [q_a + sym.im(s_a)]\n",
    "        g_list += [q_b + sym.im(s_b)]\n",
    "        g_list += [q_c + sym.im(s_c)]\n",
    "\n",
    "        g_list += [sym.re(i_a+i_b+i_c+i_n)]\n",
    "        g_list += [sym.im(i_a+i_b+i_c+i_n)]\n",
    "\n",
    "        buses_list = [bus['bus'] for bus in grid_1.buses]\n",
    "\n",
    "        for phase in ['a','b','c']:\n",
    "            i_real,i_imag = sym.symbols(f'i_{bus}_{phase}_r,i_{bus}_{phase}_i', real=True)\n",
    "            y_list += [i_real,i_imag]\n",
    "            i_cplx = I_node[grid_1.nodes.index(f'{bus}.{a2n[phase]}')][0]\n",
    "            y_0_list += [i_cplx.real,i_cplx.imag]\n",
    "            u_dict.pop(f'i_{bus}_{phase}_r')\n",
    "            u_dict.pop(f'i_{bus}_{phase}_i')\n",
    "            p_value = grid_1.buses[buses_list.index(bus)][f'p_{phase}']\n",
    "            q_value = grid_1.buses[buses_list.index(bus)][f'q_{phase}']\n",
    "            u_dict.update({f'p_{bus}_{phase}':p_value})\n",
    "            u_dict.update({f'q_{bus}_{phase}':q_value})\n",
    "\n",
    "        \n",
    "        i_real,i_imag = sym.symbols(f'i_{bus}_n_r,i_{bus}_n_i', real=True)\n",
    "        y_list += [i_real,i_imag]    \n",
    "        i_cplx = I_node[grid_1.nodes.index(f'{bus}.{a2n[\"n\"]}')][0]\n",
    "        y_0_list += [i_cplx.real,i_cplx.imag]\n",
    "        \n",
    "\n",
    "        \n",
    "    return y_list,g_list,y_0_list,u_dict"
   ]
  },
  {
   "cell_type": "code",
   "execution_count": 50,
   "metadata": {},
   "outputs": [],
   "source": [
    "nodes_list = grid_1.nodes\n",
    "I_node = grid_1.I_node\n",
    "V_node = grid_1.V_node\n",
    "Y_ii = grid_1.Y_ii.toarray()\n",
    "Y_iv = grid_1.Y_iv\n",
    "inv_Y_ii = np.linalg.inv(Y_ii)\n",
    "N_nz_nodes = grid_1.params_pf[0].N_nz_nodes\n",
    "N_v = grid_1.params_pf[0].N_nodes_v\n",
    "\n",
    "y_list,g_list,y_0_list,u_dict = grid2dae(nodes_list,V_node,I_node,Y_iv,inv_Y_ii,load_buses=['B2','B3'])"
   ]
  },
  {
   "cell_type": "code",
   "execution_count": 51,
   "metadata": {},
   "outputs": [
    {
     "data": {
      "text/plain": [
       "{'v_B1_a_r': 11547.0,\n",
       " 'v_B1_a_i': 0.0,\n",
       " 'v_B1_b_r': -5773.499999999997,\n",
       " 'v_B1_b_i': -9999.995337498915,\n",
       " 'v_B1_c_r': -5773.5000000000055,\n",
       " 'v_B1_c_i': 9999.99533749891,\n",
       " 'i_B3_n_r': -2.2737367544323206e-13,\n",
       " 'i_B3_n_i': 1.1368683772161603e-13,\n",
       " 'i_B2_n_r': 0.0,\n",
       " 'i_B2_n_i': 0.0,\n",
       " 'p_B2_a': 0.0,\n",
       " 'q_B2_a': -0.0,\n",
       " 'p_B2_b': -0.0,\n",
       " 'q_B2_b': 0.0,\n",
       " 'p_B2_c': 0.0,\n",
       " 'q_B2_c': 0.0,\n",
       " 'p_B3_a': -85000.00011979532,\n",
       " 'q_B3_a': -52678.26838479351,\n",
       " 'p_B3_b': -85000.00011979532,\n",
       " 'q_B3_b': -52678.2683847935,\n",
       " 'p_B3_c': -85000.00011979532,\n",
       " 'q_B3_c': -52678.26838479348}"
      ]
     },
     "execution_count": 51,
     "metadata": {},
     "output_type": "execute_result"
    }
   ],
   "source": [
    "u_dict"
   ]
  },
  {
   "cell_type": "code",
   "execution_count": 52,
   "metadata": {},
   "outputs": [
    {
     "data": {
      "text/plain": [
       "3"
      ]
     },
     "execution_count": 52,
     "metadata": {},
     "output_type": "execute_result"
    }
   ],
   "source": [
    "N_v"
   ]
  },
  {
   "cell_type": "code",
   "execution_count": 53,
   "metadata": {},
   "outputs": [],
   "source": [
    "x_dummy,u_dummy = sym.symbols('x_dummy,u_dummy')\n",
    "params = {'a':1}\n",
    "u_dict.update({'u_dummy':1.0})\n",
    "\n",
    "sys_dict = {'name':'grid_3bus4wire',\n",
    "           'params_dict':params,\n",
    "           'f_list':[(u_dummy-x_dummy)],\n",
    "           'g_list':g_list,\n",
    "           'x_list':[x_dummy],\n",
    "           'y_ini_list':y_list,\n",
    "           'y_run_list':y_list,\n",
    "           'u_run_dict':u_dict,\n",
    "           'u_ini_dict':u_dict,\n",
    "           'h_dict':{'x_dummy':x_dummy}\n",
    "           }\n",
    "\n",
    "db.system(sys_dict)\n",
    "db.sys2num(sys_dict)"
   ]
  },
  {
   "cell_type": "code",
   "execution_count": null,
   "metadata": {},
   "outputs": [],
   "source": []
  }
 ],
 "metadata": {
  "kernelspec": {
   "display_name": "Python 3.7.7 64-bit ('ProgramData': virtualenv)",
   "language": "python",
   "name": "python37764bitprogramdatavirtualenv46c0821546dd4f01859541541cbf05ac"
  },
  "language_info": {
   "codemirror_mode": {
    "name": "ipython",
    "version": 3
   },
   "file_extension": ".py",
   "mimetype": "text/x-python",
   "name": "python",
   "nbconvert_exporter": "python",
   "pygments_lexer": "ipython3",
   "version": "3.7.7"
  }
 },
 "nbformat": 4,
 "nbformat_minor": 4
}
